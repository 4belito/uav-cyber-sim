{
 "cells": [
  {
   "cell_type": "markdown",
   "metadata": {},
   "source": [
    "## UAV fleet Simulation \n",
    "\n",
    "This is for testing propouses"
   ]
  },
  {
   "cell_type": "code",
   "execution_count": 12,
   "metadata": {},
   "outputs": [],
   "source": [
    "import os\n",
    "import subprocess\n",
    "from pymavlink import mavutil\n",
    "import numpy as np\n",
    "\n",
    "# Custom modules\n",
    "from vehicle_logic import VehicleLogic\n",
    "from helpers.change_coordinates import heading_to_yaw,find_spawns\n",
    "from helpers.visualization.gazebo_world import update_world\n",
    "from helpers.change_coordinates import local2global,heading_to_yaw,find_spawns,global2local\n",
    "from helpers.visualization.plots import plot_3d_interactive"
   ]
  },
  {
   "cell_type": "markdown",
   "metadata": {},
   "source": [
    "## Kill all related process"
   ]
  },
  {
   "cell_type": "code",
   "execution_count": 13,
   "metadata": {},
   "outputs": [],
   "source": [
    "for process in [\"QGroundControl\", \"sim_vehicle.py\", \"arducopter\", \"gazebo\", \"mavproxy\"]:\n",
    "    os.system(f\"pkill -9 -f {process}\")"
   ]
  },
  {
   "cell_type": "markdown",
   "metadata": {},
   "source": [
    "## Paths"
   ]
  },
  {
   "cell_type": "code",
   "execution_count": 14,
   "metadata": {},
   "outputs": [],
   "source": [
    "QGC_path='~/QGroundControl.AppImage'\n",
    "gazebo_word_path=\"gazebo_worlds/runway.world\"\n",
    "ardupilot_vehicle_path='~/ardupilot/Tools/autotest/sim_vehicle.py'"
   ]
  },
  {
   "cell_type": "markdown",
   "metadata": {},
   "source": [
    "# Choose Simulator"
   ]
  },
  {
   "cell_type": "code",
   "execution_count": 15,
   "metadata": {},
   "outputs": [],
   "source": [
    "simulator ='QGroundControl' # 'gazebo' #"
   ]
  },
  {
   "cell_type": "markdown",
   "metadata": {},
   "source": [
    "# Create Plans"
   ]
  },
  {
   "cell_type": "code",
   "execution_count": 16,
   "metadata": {},
   "outputs": [
    {
     "name": "stdout",
     "output_type": "stream",
     "text": [
      "Plan 'Waypoints Trajectory' created — no connection yet 🧩\n",
      "Action 'Pre-Arm Check' created — no connection yet 🧩\n",
      "Step 'Check disarmed' created — no connection yet 🧩\n",
      "Step 'Check EKF' created — no connection yet 🧩\n",
      "Step 'Check GPS' created — no connection yet 🧩\n",
      "Step 'Check system' created — no connection yet 🧩\n",
      "Action 'Set Mode: GUIDED' created — no connection yet 🧩\n",
      "Step 'Switch to GUIDED' created — no connection yet 🧩\n",
      "Action 'Arm' created — no connection yet 🧩\n",
      "Step 'arm' created — no connection yet 🧩\n",
      "Action 'Take Off' created — no connection yet 🧩\n",
      "Step 'take off' created — no connection yet 🧩\n",
      "Action 'Go local' created — no connection yet 🧩\n",
      "Step 'go to -> (0, 0, 5)' created — no connection yet 🧩\n",
      "Step 'go to -> (0, 5, 5)' created — no connection yet 🧩\n",
      "Step 'go to -> (5, 5, 5)' created — no connection yet 🧩\n",
      "Step 'go to -> (5, 0, 5)' created — no connection yet 🧩\n",
      "Step 'go to -> (0, 0, 5)' created — no connection yet 🧩\n",
      "Action 'Land' created — no connection yet 🧩\n",
      "Step 'land' created — no connection yet 🧩\n",
      "Plan 'Waypoints Trajectory' created — no connection yet 🧩\n",
      "Action 'Pre-Arm Check' created — no connection yet 🧩\n",
      "Step 'Check disarmed' created — no connection yet 🧩\n",
      "Step 'Check EKF' created — no connection yet 🧩\n",
      "Step 'Check GPS' created — no connection yet 🧩\n",
      "Step 'Check system' created — no connection yet 🧩\n",
      "Action 'Set Mode: GUIDED' created — no connection yet 🧩\n",
      "Step 'Switch to GUIDED' created — no connection yet 🧩\n",
      "Action 'Arm' created — no connection yet 🧩\n",
      "Step 'arm' created — no connection yet 🧩\n",
      "Action 'Take Off' created — no connection yet 🧩\n",
      "Step 'take off' created — no connection yet 🧩\n",
      "Action 'Go local' created — no connection yet 🧩\n",
      "Step 'go to -> (0, 0, 5)' created — no connection yet 🧩\n",
      "Step 'go to -> (0, 7, 5)' created — no connection yet 🧩\n",
      "Step 'go to -> (7, 7, 5)' created — no connection yet 🧩\n",
      "Step 'go to -> (7, 0, 5)' created — no connection yet 🧩\n",
      "Step 'go to -> (0, 0, 5)' created — no connection yet 🧩\n",
      "Action 'Land' created — no connection yet 🧩\n",
      "Step 'land' created — no connection yet 🧩\n",
      "Plan 'Waypoints Trajectory' created — no connection yet 🧩\n",
      "Action 'Pre-Arm Check' created — no connection yet 🧩\n",
      "Step 'Check disarmed' created — no connection yet 🧩\n",
      "Step 'Check EKF' created — no connection yet 🧩\n",
      "Step 'Check GPS' created — no connection yet 🧩\n",
      "Step 'Check system' created — no connection yet 🧩\n",
      "Action 'Set Mode: GUIDED' created — no connection yet 🧩\n",
      "Step 'Switch to GUIDED' created — no connection yet 🧩\n",
      "Action 'Arm' created — no connection yet 🧩\n",
      "Step 'arm' created — no connection yet 🧩\n",
      "Action 'Take Off' created — no connection yet 🧩\n",
      "Step 'take off' created — no connection yet 🧩\n",
      "Action 'Go local' created — no connection yet 🧩\n",
      "Step 'go to -> (0, 0, 5)' created — no connection yet 🧩\n",
      "Step 'go to -> (0, 10, 5)' created — no connection yet 🧩\n",
      "Step 'go to -> (10, 10, 5)' created — no connection yet 🧩\n",
      "Step 'go to -> (10, 0, 5)' created — no connection yet 🧩\n",
      "Step 'go to -> (0, 0, 5)' created — no connection yet 🧩\n",
      "Action 'Land' created — no connection yet 🧩\n",
      "Step 'land' created — no connection yet 🧩\n",
      "Plan 'Waypoints Trajectory' created — no connection yet 🧩\n",
      "Action 'Pre-Arm Check' created — no connection yet 🧩\n",
      "Step 'Check disarmed' created — no connection yet 🧩\n",
      "Step 'Check EKF' created — no connection yet 🧩\n",
      "Step 'Check GPS' created — no connection yet 🧩\n",
      "Step 'Check system' created — no connection yet 🧩\n",
      "Action 'Set Mode: GUIDED' created — no connection yet 🧩\n",
      "Step 'Switch to GUIDED' created — no connection yet 🧩\n",
      "Action 'Arm' created — no connection yet 🧩\n",
      "Step 'arm' created — no connection yet 🧩\n",
      "Action 'Take Off' created — no connection yet 🧩\n",
      "Step 'take off' created — no connection yet 🧩\n",
      "Action 'Go local' created — no connection yet 🧩\n",
      "Step 'go to -> (0, 0, 5)' created — no connection yet 🧩\n",
      "Step 'go to -> (0, 12, 5)' created — no connection yet 🧩\n",
      "Step 'go to -> (12, 12, 5)' created — no connection yet 🧩\n",
      "Step 'go to -> (12, 0, 5)' created — no connection yet 🧩\n",
      "Step 'go to -> (0, 0, 5)' created — no connection yet 🧩\n",
      "Action 'Land' created — no connection yet 🧩\n",
      "Step 'land' created — no connection yet 🧩\n",
      "Plan 'Waypoints Trajectory' created — no connection yet 🧩\n",
      "Action 'Pre-Arm Check' created — no connection yet 🧩\n",
      "Step 'Check disarmed' created — no connection yet 🧩\n",
      "Step 'Check EKF' created — no connection yet 🧩\n",
      "Step 'Check GPS' created — no connection yet 🧩\n",
      "Step 'Check system' created — no connection yet 🧩\n",
      "Action 'Set Mode: GUIDED' created — no connection yet 🧩\n",
      "Step 'Switch to GUIDED' created — no connection yet 🧩\n",
      "Action 'Arm' created — no connection yet 🧩\n",
      "Step 'arm' created — no connection yet 🧩\n",
      "Action 'Take Off' created — no connection yet 🧩\n",
      "Step 'take off' created — no connection yet 🧩\n",
      "Action 'Go local' created — no connection yet 🧩\n",
      "Step 'go to -> (0, 0, 5)' created — no connection yet 🧩\n",
      "Step 'go to -> (0, 15, 5)' created — no connection yet 🧩\n",
      "Step 'go to -> (15, 15, 5)' created — no connection yet 🧩\n",
      "Step 'go to -> (15, 0, 5)' created — no connection yet 🧩\n",
      "Step 'go to -> (0, 0, 5)' created — no connection yet 🧩\n",
      "Action 'Land' created — no connection yet 🧩\n",
      "Step 'land' created — no connection yet 🧩\n"
     ]
    },
    {
     "data": {
      "application/vnd.plotly.v1+json": {
       "config": {
        "plotlyServerURL": "https://plot.ly"
       },
       "data": [
        {
         "marker": {
          "color": "Green",
          "size": 6
         },
         "mode": "markers",
         "name": "uav_1",
         "type": "scatter3d",
         "x": [
          5,
          5,
          10,
          10,
          5
         ],
         "y": [
          5,
          10,
          10,
          5,
          5
         ],
         "z": [
          5,
          5,
          5,
          5,
          5
         ]
        },
        {
         "marker": {
          "color": "Blue",
          "size": 6
         },
         "mode": "markers",
         "name": "uav_2",
         "type": "scatter3d",
         "x": [
          10,
          10,
          17,
          17,
          10
         ],
         "y": [
          0,
          7,
          7,
          0,
          0
         ],
         "z": [
          5,
          5,
          5,
          5,
          5
         ]
        },
        {
         "marker": {
          "color": "Red",
          "size": 6
         },
         "mode": "markers",
         "name": "uav_3",
         "type": "scatter3d",
         "x": [
          -5,
          -5,
          5,
          5,
          -5
         ],
         "y": [
          -10,
          0,
          0,
          -10,
          -10
         ],
         "z": [
          5,
          5,
          5,
          5,
          5
         ]
        },
        {
         "marker": {
          "color": "Orange",
          "size": 6
         },
         "mode": "markers",
         "name": "uav_4",
         "type": "scatter3d",
         "x": [
          -15,
          -15,
          -3,
          -3,
          -15
         ],
         "y": [
          0,
          12,
          12,
          0,
          0
         ],
         "z": [
          5,
          5,
          5,
          5,
          5
         ]
        },
        {
         "marker": {
          "color": "Yellow",
          "size": 6
         },
         "mode": "markers",
         "name": "uav_5",
         "type": "scatter3d",
         "x": [
          0,
          0,
          15,
          15,
          0
         ],
         "y": [
          -20,
          -5,
          -5,
          -20,
          -20
         ],
         "z": [
          5,
          5,
          5,
          5,
          5
         ]
        }
       ],
       "layout": {
        "height": 600,
        "scene": {
         "xaxis": {
          "range": [
           -21.4,
           23.4
          ],
          "title": {
           "text": "x"
          }
         },
         "yaxis": {
          "range": [
           -26.4,
           18.4
          ],
          "title": {
           "text": "y"
          }
         },
         "zaxis": {
          "range": [
           -0.05,
           5
          ],
          "title": {
           "text": "z"
          }
         }
        },
        "template": {
         "data": {
          "bar": [
           {
            "error_x": {
             "color": "#2a3f5f"
            },
            "error_y": {
             "color": "#2a3f5f"
            },
            "marker": {
             "line": {
              "color": "#E5ECF6",
              "width": 0.5
             },
             "pattern": {
              "fillmode": "overlay",
              "size": 10,
              "solidity": 0.2
             }
            },
            "type": "bar"
           }
          ],
          "barpolar": [
           {
            "marker": {
             "line": {
              "color": "#E5ECF6",
              "width": 0.5
             },
             "pattern": {
              "fillmode": "overlay",
              "size": 10,
              "solidity": 0.2
             }
            },
            "type": "barpolar"
           }
          ],
          "carpet": [
           {
            "aaxis": {
             "endlinecolor": "#2a3f5f",
             "gridcolor": "white",
             "linecolor": "white",
             "minorgridcolor": "white",
             "startlinecolor": "#2a3f5f"
            },
            "baxis": {
             "endlinecolor": "#2a3f5f",
             "gridcolor": "white",
             "linecolor": "white",
             "minorgridcolor": "white",
             "startlinecolor": "#2a3f5f"
            },
            "type": "carpet"
           }
          ],
          "choropleth": [
           {
            "colorbar": {
             "outlinewidth": 0,
             "ticks": ""
            },
            "type": "choropleth"
           }
          ],
          "contour": [
           {
            "colorbar": {
             "outlinewidth": 0,
             "ticks": ""
            },
            "colorscale": [
             [
              0,
              "#0d0887"
             ],
             [
              0.1111111111111111,
              "#46039f"
             ],
             [
              0.2222222222222222,
              "#7201a8"
             ],
             [
              0.3333333333333333,
              "#9c179e"
             ],
             [
              0.4444444444444444,
              "#bd3786"
             ],
             [
              0.5555555555555556,
              "#d8576b"
             ],
             [
              0.6666666666666666,
              "#ed7953"
             ],
             [
              0.7777777777777778,
              "#fb9f3a"
             ],
             [
              0.8888888888888888,
              "#fdca26"
             ],
             [
              1,
              "#f0f921"
             ]
            ],
            "type": "contour"
           }
          ],
          "contourcarpet": [
           {
            "colorbar": {
             "outlinewidth": 0,
             "ticks": ""
            },
            "type": "contourcarpet"
           }
          ],
          "heatmap": [
           {
            "colorbar": {
             "outlinewidth": 0,
             "ticks": ""
            },
            "colorscale": [
             [
              0,
              "#0d0887"
             ],
             [
              0.1111111111111111,
              "#46039f"
             ],
             [
              0.2222222222222222,
              "#7201a8"
             ],
             [
              0.3333333333333333,
              "#9c179e"
             ],
             [
              0.4444444444444444,
              "#bd3786"
             ],
             [
              0.5555555555555556,
              "#d8576b"
             ],
             [
              0.6666666666666666,
              "#ed7953"
             ],
             [
              0.7777777777777778,
              "#fb9f3a"
             ],
             [
              0.8888888888888888,
              "#fdca26"
             ],
             [
              1,
              "#f0f921"
             ]
            ],
            "type": "heatmap"
           }
          ],
          "histogram": [
           {
            "marker": {
             "pattern": {
              "fillmode": "overlay",
              "size": 10,
              "solidity": 0.2
             }
            },
            "type": "histogram"
           }
          ],
          "histogram2d": [
           {
            "colorbar": {
             "outlinewidth": 0,
             "ticks": ""
            },
            "colorscale": [
             [
              0,
              "#0d0887"
             ],
             [
              0.1111111111111111,
              "#46039f"
             ],
             [
              0.2222222222222222,
              "#7201a8"
             ],
             [
              0.3333333333333333,
              "#9c179e"
             ],
             [
              0.4444444444444444,
              "#bd3786"
             ],
             [
              0.5555555555555556,
              "#d8576b"
             ],
             [
              0.6666666666666666,
              "#ed7953"
             ],
             [
              0.7777777777777778,
              "#fb9f3a"
             ],
             [
              0.8888888888888888,
              "#fdca26"
             ],
             [
              1,
              "#f0f921"
             ]
            ],
            "type": "histogram2d"
           }
          ],
          "histogram2dcontour": [
           {
            "colorbar": {
             "outlinewidth": 0,
             "ticks": ""
            },
            "colorscale": [
             [
              0,
              "#0d0887"
             ],
             [
              0.1111111111111111,
              "#46039f"
             ],
             [
              0.2222222222222222,
              "#7201a8"
             ],
             [
              0.3333333333333333,
              "#9c179e"
             ],
             [
              0.4444444444444444,
              "#bd3786"
             ],
             [
              0.5555555555555556,
              "#d8576b"
             ],
             [
              0.6666666666666666,
              "#ed7953"
             ],
             [
              0.7777777777777778,
              "#fb9f3a"
             ],
             [
              0.8888888888888888,
              "#fdca26"
             ],
             [
              1,
              "#f0f921"
             ]
            ],
            "type": "histogram2dcontour"
           }
          ],
          "mesh3d": [
           {
            "colorbar": {
             "outlinewidth": 0,
             "ticks": ""
            },
            "type": "mesh3d"
           }
          ],
          "parcoords": [
           {
            "line": {
             "colorbar": {
              "outlinewidth": 0,
              "ticks": ""
             }
            },
            "type": "parcoords"
           }
          ],
          "pie": [
           {
            "automargin": true,
            "type": "pie"
           }
          ],
          "scatter": [
           {
            "fillpattern": {
             "fillmode": "overlay",
             "size": 10,
             "solidity": 0.2
            },
            "type": "scatter"
           }
          ],
          "scatter3d": [
           {
            "line": {
             "colorbar": {
              "outlinewidth": 0,
              "ticks": ""
             }
            },
            "marker": {
             "colorbar": {
              "outlinewidth": 0,
              "ticks": ""
             }
            },
            "type": "scatter3d"
           }
          ],
          "scattercarpet": [
           {
            "marker": {
             "colorbar": {
              "outlinewidth": 0,
              "ticks": ""
             }
            },
            "type": "scattercarpet"
           }
          ],
          "scattergeo": [
           {
            "marker": {
             "colorbar": {
              "outlinewidth": 0,
              "ticks": ""
             }
            },
            "type": "scattergeo"
           }
          ],
          "scattergl": [
           {
            "marker": {
             "colorbar": {
              "outlinewidth": 0,
              "ticks": ""
             }
            },
            "type": "scattergl"
           }
          ],
          "scattermap": [
           {
            "marker": {
             "colorbar": {
              "outlinewidth": 0,
              "ticks": ""
             }
            },
            "type": "scattermap"
           }
          ],
          "scattermapbox": [
           {
            "marker": {
             "colorbar": {
              "outlinewidth": 0,
              "ticks": ""
             }
            },
            "type": "scattermapbox"
           }
          ],
          "scatterpolar": [
           {
            "marker": {
             "colorbar": {
              "outlinewidth": 0,
              "ticks": ""
             }
            },
            "type": "scatterpolar"
           }
          ],
          "scatterpolargl": [
           {
            "marker": {
             "colorbar": {
              "outlinewidth": 0,
              "ticks": ""
             }
            },
            "type": "scatterpolargl"
           }
          ],
          "scatterternary": [
           {
            "marker": {
             "colorbar": {
              "outlinewidth": 0,
              "ticks": ""
             }
            },
            "type": "scatterternary"
           }
          ],
          "surface": [
           {
            "colorbar": {
             "outlinewidth": 0,
             "ticks": ""
            },
            "colorscale": [
             [
              0,
              "#0d0887"
             ],
             [
              0.1111111111111111,
              "#46039f"
             ],
             [
              0.2222222222222222,
              "#7201a8"
             ],
             [
              0.3333333333333333,
              "#9c179e"
             ],
             [
              0.4444444444444444,
              "#bd3786"
             ],
             [
              0.5555555555555556,
              "#d8576b"
             ],
             [
              0.6666666666666666,
              "#ed7953"
             ],
             [
              0.7777777777777778,
              "#fb9f3a"
             ],
             [
              0.8888888888888888,
              "#fdca26"
             ],
             [
              1,
              "#f0f921"
             ]
            ],
            "type": "surface"
           }
          ],
          "table": [
           {
            "cells": {
             "fill": {
              "color": "#EBF0F8"
             },
             "line": {
              "color": "white"
             }
            },
            "header": {
             "fill": {
              "color": "#C8D4E3"
             },
             "line": {
              "color": "white"
             }
            },
            "type": "table"
           }
          ]
         },
         "layout": {
          "annotationdefaults": {
           "arrowcolor": "#2a3f5f",
           "arrowhead": 0,
           "arrowwidth": 1
          },
          "autotypenumbers": "strict",
          "coloraxis": {
           "colorbar": {
            "outlinewidth": 0,
            "ticks": ""
           }
          },
          "colorscale": {
           "diverging": [
            [
             0,
             "#8e0152"
            ],
            [
             0.1,
             "#c51b7d"
            ],
            [
             0.2,
             "#de77ae"
            ],
            [
             0.3,
             "#f1b6da"
            ],
            [
             0.4,
             "#fde0ef"
            ],
            [
             0.5,
             "#f7f7f7"
            ],
            [
             0.6,
             "#e6f5d0"
            ],
            [
             0.7,
             "#b8e186"
            ],
            [
             0.8,
             "#7fbc41"
            ],
            [
             0.9,
             "#4d9221"
            ],
            [
             1,
             "#276419"
            ]
           ],
           "sequential": [
            [
             0,
             "#0d0887"
            ],
            [
             0.1111111111111111,
             "#46039f"
            ],
            [
             0.2222222222222222,
             "#7201a8"
            ],
            [
             0.3333333333333333,
             "#9c179e"
            ],
            [
             0.4444444444444444,
             "#bd3786"
            ],
            [
             0.5555555555555556,
             "#d8576b"
            ],
            [
             0.6666666666666666,
             "#ed7953"
            ],
            [
             0.7777777777777778,
             "#fb9f3a"
            ],
            [
             0.8888888888888888,
             "#fdca26"
            ],
            [
             1,
             "#f0f921"
            ]
           ],
           "sequentialminus": [
            [
             0,
             "#0d0887"
            ],
            [
             0.1111111111111111,
             "#46039f"
            ],
            [
             0.2222222222222222,
             "#7201a8"
            ],
            [
             0.3333333333333333,
             "#9c179e"
            ],
            [
             0.4444444444444444,
             "#bd3786"
            ],
            [
             0.5555555555555556,
             "#d8576b"
            ],
            [
             0.6666666666666666,
             "#ed7953"
            ],
            [
             0.7777777777777778,
             "#fb9f3a"
            ],
            [
             0.8888888888888888,
             "#fdca26"
            ],
            [
             1,
             "#f0f921"
            ]
           ]
          },
          "colorway": [
           "#636efa",
           "#EF553B",
           "#00cc96",
           "#ab63fa",
           "#FFA15A",
           "#19d3f3",
           "#FF6692",
           "#B6E880",
           "#FF97FF",
           "#FECB52"
          ],
          "font": {
           "color": "#2a3f5f"
          },
          "geo": {
           "bgcolor": "white",
           "lakecolor": "white",
           "landcolor": "#E5ECF6",
           "showlakes": true,
           "showland": true,
           "subunitcolor": "white"
          },
          "hoverlabel": {
           "align": "left"
          },
          "hovermode": "closest",
          "mapbox": {
           "style": "light"
          },
          "paper_bgcolor": "white",
          "plot_bgcolor": "#E5ECF6",
          "polar": {
           "angularaxis": {
            "gridcolor": "white",
            "linecolor": "white",
            "ticks": ""
           },
           "bgcolor": "#E5ECF6",
           "radialaxis": {
            "gridcolor": "white",
            "linecolor": "white",
            "ticks": ""
           }
          },
          "scene": {
           "xaxis": {
            "backgroundcolor": "#E5ECF6",
            "gridcolor": "white",
            "gridwidth": 2,
            "linecolor": "white",
            "showbackground": true,
            "ticks": "",
            "zerolinecolor": "white"
           },
           "yaxis": {
            "backgroundcolor": "#E5ECF6",
            "gridcolor": "white",
            "gridwidth": 2,
            "linecolor": "white",
            "showbackground": true,
            "ticks": "",
            "zerolinecolor": "white"
           },
           "zaxis": {
            "backgroundcolor": "#E5ECF6",
            "gridcolor": "white",
            "gridwidth": 2,
            "linecolor": "white",
            "showbackground": true,
            "ticks": "",
            "zerolinecolor": "white"
           }
          },
          "shapedefaults": {
           "line": {
            "color": "#2a3f5f"
           }
          },
          "ternary": {
           "aaxis": {
            "gridcolor": "white",
            "linecolor": "white",
            "ticks": ""
           },
           "baxis": {
            "gridcolor": "white",
            "linecolor": "white",
            "ticks": ""
           },
           "bgcolor": "#E5ECF6",
           "caxis": {
            "gridcolor": "white",
            "linecolor": "white",
            "ticks": ""
           }
          },
          "title": {
           "x": 0.05
          },
          "xaxis": {
           "automargin": true,
           "gridcolor": "white",
           "linecolor": "white",
           "ticks": "",
           "title": {
            "standoff": 15
           },
           "zerolinecolor": "white",
           "zerolinewidth": 2
          },
          "yaxis": {
           "automargin": true,
           "gridcolor": "white",
           "linecolor": "white",
           "ticks": "",
           "title": {
            "standoff": 15
           },
           "zerolinecolor": "white",
           "zerolinewidth": 2
          }
         }
        },
        "title": {
         "text": "Simulation Markers",
         "x": 0.5,
         "xanchor": "center"
        },
        "width": 800
       }
      }
     },
     "metadata": {},
     "output_type": "display_data"
    }
   ],
   "source": [
    "from plans.plans import create_square_path\n",
    "from plans.plans import make_plan_from_wps\n",
    "\n",
    "local_paths=[create_square_path(side_len=dist,alt= 5) for dist in (5,7,10,12,15)]\n",
    "n_uavs = len(local_paths)\n",
    "\n",
    "offsets = [ #east, north, up, heading\n",
    "    (5, 5, 0, 90), \n",
    "    (10, 0, 0, 45),\n",
    "    (-5, -10, 0, 225),\n",
    "    (-15, 0, 0, 0),\n",
    "    (0, -20, 0, 0),\n",
    "]\n",
    "\n",
    "homes=np.array([offset[:3] for offset in offsets])\n",
    "\n",
    "global_paths=[local2global(np.array(path), home,pairwise=True) for path,home in zip(local_paths,homes)]\n",
    "\n",
    "plans=[make_plan_from_wps(wps=path,alt=5,wp_margin=0.5) for path in local_paths]\n",
    "\n",
    "\n",
    "colors=['Green','Blue','Red','Orange','Yellow',]\n",
    "markers = {f'uav_{i+1}': {'pos':global_paths[i],'color':colors[i]} for i in range(n_uavs)}\n",
    "\n",
    "plot_3d_interactive(markers,title='Simulation Markers',expand=[0.2,0.2,0.6],ground=-0.05)"
   ]
  },
  {
   "cell_type": "markdown",
   "metadata": {},
   "source": [
    "## Configuration"
   ]
  },
  {
   "cell_type": "code",
   "execution_count": 17,
   "metadata": {},
   "outputs": [],
   "source": [
    "if simulator == 'QGroundControl':\n",
    "    home_position=(-35.3633245,149.1652241,0,90)\n",
    "    spawns=find_spawns(home_position, offsets)"
   ]
  },
  {
   "cell_type": "markdown",
   "metadata": {},
   "source": [
    "## Launch Simulator"
   ]
  },
  {
   "cell_type": "code",
   "execution_count": 18,
   "metadata": {},
   "outputs": [],
   "source": [
    "if simulator == 'QGroundControl':\n",
    "    sim_path = os.path.expanduser(QGC_path)\n",
    "    sim_cmd =[sim_path]\n",
    "elif simulator == 'gazebo':\n",
    "    # Convert to Gazebo format (name, x, y, z, roll, pitch, yaw)\n",
    "    drones = [(east, north, up, 0, 0, heading_to_yaw(heading)) for i, (east, north, up, heading) in enumerate(offsets)]\n",
    "    world_path = os.path.expanduser(gazebo_word_path)\n",
    "    updated_world_path = update_world(drones,markers,world_path)\n",
    "    sim_cmd = [\"gazebo\", \"--verbose\", updated_world_path] \n",
    "\n",
    "simulator_process = subprocess.Popen(\n",
    "                    sim_cmd,\n",
    "                    stdout=subprocess.DEVNULL,  # Suppress standard output\n",
    "                    stderr=subprocess.DEVNULL,  # Suppress error output\n",
    "                    shell=False  # Ensure safety when passing arguments\n",
    "                    )"
   ]
  },
  {
   "cell_type": "markdown",
   "metadata": {},
   "source": [
    "# Launch Vehicle"
   ]
  },
  {
   "cell_type": "code",
   "execution_count": 19,
   "metadata": {},
   "outputs": [],
   "source": [
    "for i in range(n_uavs):\n",
    "    vehicle_cmd = f\"python3 {ardupilot_vehicle_path} -v ArduCopter -I{i} --sysid {i+1} --no-rebuild\"\n",
    "    if simulator == 'QGroundControl':\n",
    "        spawn=','.join(map(str, spawns[i]))\n",
    "        vehicle_cmd += f\" --custom-location={spawn}\"\n",
    "    elif simulator == 'gazebo':\n",
    "        vehicle_cmd += \" -f gazebo-iris\"\n",
    "    subprocess.Popen([\"gnome-terminal\", \"--\", \"bash\", \"-c\", f\"{vehicle_cmd}; exec bash\"])"
   ]
  },
  {
   "cell_type": "markdown",
   "metadata": {},
   "source": [
    "## Create UAVs"
   ]
  },
  {
   "cell_type": "code",
   "execution_count": 20,
   "metadata": {},
   "outputs": [
    {
     "name": "stdout",
     "output_type": "stream",
     "text": [
      "vehicle 1 created\n",
      "vehicle 2 created\n",
      "vehicle 3 created\n",
      "vehicle 4 created\n",
      "vehicle 5 created\n"
     ]
    }
   ],
   "source": [
    "uavs=[]\n",
    "for i,(plan,home) in enumerate(zip(plans,homes)):\n",
    "    uavs.append(VehicleLogic(sys_id=i+1,\n",
    "                    home=home,\n",
    "                    plan= plan))"
   ]
  },
  {
   "cell_type": "markdown",
   "metadata": {},
   "source": [
    "## Execute Plan"
   ]
  },
  {
   "cell_type": "code",
   "execution_count": null,
   "metadata": {},
   "outputs": [
    {
     "name": "stdout",
     "output_type": "stream",
     "text": [
      "Action 'Pre-Arm Check' is now connected ✅🔗\n",
      "▶️ Starting Action: Pre-Arm Check\n",
      "Action 'Pre-Arm Check' is now connected ✅🔗\n",
      "▶️ Starting Action: Pre-Arm Check\n",
      "Action 'Pre-Arm Check' is now connected ✅🔗\n",
      "▶️ Starting Action: Pre-Arm Check\n",
      "Action 'Pre-Arm Check' is now connected ✅🔗\n",
      "▶️ Starting Action: Pre-Arm Check\n",
      "Action 'Pre-Arm Check' is now connected ✅🔗\n",
      "▶️ Starting Action: Pre-Arm Check\n",
      "Step 'Check disarmed' is now connected ✅🔗\n",
      "▶️ Starting Step: Check disarmed\n",
      "Step 'Check disarmed' is now connected ✅🔗\n",
      "▶️ Starting Step: Check disarmed\n",
      "Step 'Check disarmed' is now connected ✅🔗\n",
      "▶️ Starting Step: Check disarmed\n",
      "Step 'Check disarmed' is now connected ✅🔗\n",
      "▶️ Starting Step: Check disarmed\n",
      "Step 'Check disarmed' is now connected ✅🔗\n",
      "▶️ Starting Step: Check disarmed\n",
      "✅ Step: Check disarmed is done\n",
      "✅ Step: Check disarmed is done\n",
      "✅ Step: Check disarmed is done\n",
      "✅ Step: Check disarmed is done\n",
      "Step 'Check EKF' is now connected ✅🔗\n",
      "▶️ Starting Step: Check EKF\n",
      "Step 'Check EKF' is now connected ✅🔗\n",
      "▶️ Starting Step: Check EKF\n",
      "Step 'Check EKF' is now connected ✅🔗\n",
      "▶️ Starting Step: Check EKF\n",
      "Step 'Check EKF' is now connected ✅🔗\n",
      "▶️ Starting Step: Check EKF\n",
      "EKF is not ready — missing: ATTITUDE, VELOCITY_HORIZ, POS_HORIZ_ABS, POS_VERT_ABS\n",
      "EKF is not ready — missing: ATTITUDE, VELOCITY_HORIZ, POS_HORIZ_ABS, POS_VERT_ABS\n",
      "✅ Step: Check disarmed is done\n",
      "Step 'Check EKF' is now connected ✅🔗\n",
      "▶️ Starting Step: Check EKF\n",
      "EKF is not ready — missing: ATTITUDE, VELOCITY_HORIZ, POS_HORIZ_ABS, POS_VERT_ABS\n",
      "EKF is not ready — missing: ATTITUDE, VELOCITY_HORIZ, POS_HORIZ_ABS, POS_VERT_ABS\n",
      "EKF is not ready — missing: ATTITUDE, VELOCITY_HORIZ, POS_HORIZ_ABS, POS_VERT_ABS\n",
      "EKF is not ready — missing: ATTITUDE, VELOCITY_HORIZ, POS_HORIZ_ABS, POS_VERT_ABS\n",
      "EKF is not ready — missing: ATTITUDE, VELOCITY_HORIZ, POS_HORIZ_ABS, POS_VERT_ABS\n",
      "EKF is not ready — missing: ATTITUDE, VELOCITY_HORIZ, POS_HORIZ_ABS, POS_VERT_ABS\n",
      "EKF is not ready — missing: ATTITUDE, VELOCITY_HORIZ, POS_HORIZ_ABS, POS_VERT_ABS\n",
      "EKF is not ready — missing: ATTITUDE, VELOCITY_HORIZ, POS_HORIZ_ABS, POS_VERT_ABS\n",
      "EKF is not ready — missing: ATTITUDE, VELOCITY_HORIZ, POS_HORIZ_ABS, POS_VERT_ABS\n",
      "EKF is not ready — missing: ATTITUDE, VELOCITY_HORIZ, POS_HORIZ_ABS, POS_VERT_ABS\n",
      "EKF is not ready — missing: POS_HORIZ_ABS\n",
      "EKF is not ready — missing: POS_HORIZ_ABS\n",
      "EKF is not ready — missing: POS_HORIZ_ABS\n",
      "EKF is not ready — missing: POS_HORIZ_ABS\n",
      "EKF is not ready — missing: POS_HORIZ_ABS\n",
      "EKF is not ready — missing: POS_HORIZ_ABS\n",
      "EKF is not ready — missing: POS_HORIZ_ABS\n",
      "EKF is not ready — missing: POS_HORIZ_ABS\n",
      "EKF is not ready — missing: POS_HORIZ_ABS\n",
      "EKF is not ready — missing: POS_HORIZ_ABS\n",
      "EKF is not ready — missing: POS_HORIZ_ABS\n",
      "EKF is not ready — missing: POS_HORIZ_ABS\n",
      "EKF is not ready — missing: POS_HORIZ_ABS\n",
      "EKF is not ready — missing: POS_HORIZ_ABS\n",
      "EKF is not ready — missing: POS_HORIZ_ABS\n",
      "EKF is not ready — missing: POS_HORIZ_ABS\n",
      "EKF is not ready — missing: POS_HORIZ_ABS\n",
      "EKF is not ready — missing: POS_HORIZ_ABS\n",
      "EKF is not ready — missing: POS_HORIZ_ABS\n",
      "EKF is not ready — missing: POS_HORIZ_ABS\n",
      "EKF is not ready — missing: POS_HORIZ_ABS\n",
      "EKF is not ready — missing: POS_HORIZ_ABS\n",
      "EKF is not ready — missing: POS_HORIZ_ABS\n",
      "EKF is not ready — missing: POS_HORIZ_ABS\n",
      "EKF is not ready — missing: POS_HORIZ_ABS\n",
      "EKF is not ready — missing: POS_HORIZ_ABS\n",
      "EKF is not ready — missing: POS_HORIZ_ABS\n",
      "EKF is not ready — missing: POS_HORIZ_ABS\n",
      "EKF is not ready — missing: POS_HORIZ_ABS\n",
      "EKF is not ready — missing: POS_HORIZ_ABS\n",
      "EKF is not ready — missing: POS_HORIZ_ABS\n",
      "EKF is not ready — missing: POS_HORIZ_ABS\n",
      "EKF is not ready — missing: POS_HORIZ_ABS\n",
      "EKF is not ready — missing: POS_HORIZ_ABS\n",
      "EKF is not ready — missing: POS_HORIZ_ABS\n",
      "EKF is not ready — missing: POS_HORIZ_ABS\n",
      "EKF is not ready — missing: POS_HORIZ_ABS\n",
      "EKF is not ready — missing: POS_HORIZ_ABS\n",
      "EKF is not ready — missing: POS_HORIZ_ABS\n",
      "EKF is not ready — missing: POS_HORIZ_ABS\n",
      "EKF is not ready — missing: POS_HORIZ_ABS\n",
      "EKF is not ready — missing: POS_HORIZ_ABS\n",
      "EKF is not ready — missing: POS_HORIZ_ABS\n",
      "EKF is not ready — missing: POS_HORIZ_ABS\n",
      "EKF is not ready — missing: POS_HORIZ_ABS\n",
      "EKF is not ready — missing: POS_HORIZ_ABS\n",
      "EKF is not ready — missing: POS_HORIZ_ABS\n",
      "EKF is not ready — missing: POS_HORIZ_ABS\n",
      "EKF is not ready — missing: POS_HORIZ_ABS\n",
      "EKF is not ready — missing: POS_HORIZ_ABS\n",
      "EKF is not ready — missing: POS_HORIZ_ABS\n",
      "EKF is not ready — missing: POS_HORIZ_ABS\n",
      "EKF is not ready — missing: POS_HORIZ_ABS\n",
      "EKF is not ready — missing: POS_HORIZ_ABS\n",
      "EKF is not ready — missing: POS_HORIZ_ABS\n",
      "EKF is not ready — missing: POS_HORIZ_ABS\n",
      "EKF is not ready — missing: POS_HORIZ_ABS\n",
      "EKF is not ready — missing: POS_HORIZ_ABS\n",
      "EKF is not ready — missing: POS_HORIZ_ABS\n",
      "EKF is not ready — missing: POS_HORIZ_ABS\n",
      "EKF is not ready — missing: POS_HORIZ_ABS\n",
      "EKF is not ready — missing: POS_HORIZ_ABS\n",
      "EKF is not ready — missing: POS_HORIZ_ABS\n",
      "EKF is not ready — missing: POS_HORIZ_ABS\n",
      "EKF is not ready — missing: POS_HORIZ_ABS\n",
      "EKF is not ready — missing: POS_HORIZ_ABS\n",
      "EKF is not ready — missing: POS_HORIZ_ABS\n",
      "EKF is not ready — missing: POS_HORIZ_ABS\n",
      "EKF is not ready — missing: POS_HORIZ_ABS\n",
      "EKF is not ready — missing: POS_HORIZ_ABS\n",
      "EKF is not ready — missing: POS_HORIZ_ABS\n",
      "EKF is not ready — missing: POS_HORIZ_ABS\n",
      "EKF is not ready — missing: POS_HORIZ_ABS\n",
      "EKF is not ready — missing: POS_HORIZ_ABS\n",
      "EKF is not ready — missing: POS_HORIZ_ABS\n",
      "EKF is not ready — missing: POS_HORIZ_ABS\n",
      "EKF is not ready — missing: POS_HORIZ_ABS\n",
      "EKF is not ready — missing: POS_HORIZ_ABS\n",
      "EKF is not ready — missing: POS_HORIZ_ABS\n",
      "EKF is not ready — missing: POS_HORIZ_ABS\n",
      "EKF is not ready — missing: POS_HORIZ_ABS\n",
      "EKF is not ready — missing: POS_HORIZ_ABS\n",
      "EKF is not ready — missing: POS_HORIZ_ABS\n",
      "EKF is not ready — missing: POS_HORIZ_ABS\n",
      "EKF is not ready — missing: POS_HORIZ_ABS\n",
      "EKF is not ready — missing: POS_HORIZ_ABS\n",
      "EKF is not ready — missing: POS_HORIZ_ABS\n",
      "EKF is not ready — missing: POS_HORIZ_ABS\n",
      "EKF is not ready — missing: POS_HORIZ_ABS\n",
      "EKF is not ready — missing: POS_HORIZ_ABS\n",
      "EKF is not ready — missing: POS_HORIZ_ABS\n",
      "EKF is not ready — missing: POS_HORIZ_ABS\n",
      "EKF is not ready — missing: POS_HORIZ_ABS\n",
      "EKF is not ready — missing: POS_HORIZ_ABS\n",
      "EKF is not ready — missing: POS_HORIZ_ABS\n",
      "EKF is not ready — missing: POS_HORIZ_ABS\n",
      "EKF is not ready — missing: POS_HORIZ_ABS\n",
      "EKF is not ready — missing: POS_HORIZ_ABS\n",
      "EKF is not ready — missing: POS_HORIZ_ABS\n",
      "EKF is not ready — missing: POS_HORIZ_ABS\n",
      "EKF is not ready — missing: POS_HORIZ_ABS\n",
      "EKF is not ready — missing: POS_HORIZ_ABS\n",
      "EKF is not ready — missing: POS_HORIZ_ABS\n",
      "EKF is not ready — missing: POS_HORIZ_ABS\n",
      "EKF is not ready — missing: POS_HORIZ_ABS\n",
      "EKF is not ready — missing: POS_HORIZ_ABS\n",
      "EKF is not ready — missing: POS_HORIZ_ABS\n",
      "EKF is not ready — missing: POS_HORIZ_ABS\n",
      "EKF is not ready — missing: POS_HORIZ_ABS\n",
      "EKF is not ready — missing: POS_HORIZ_ABS\n",
      "EKF is not ready — missing: POS_HORIZ_ABS\n",
      "EKF is not ready — missing: POS_HORIZ_ABS\n",
      "EKF is not ready — missing: POS_HORIZ_ABS\n",
      "EKF is not ready — missing: POS_HORIZ_ABS\n",
      "EKF is not ready — missing: POS_HORIZ_ABS\n",
      "EKF is not ready — missing: POS_HORIZ_ABS\n",
      "EKF is not ready — missing: POS_HORIZ_ABS\n",
      "EKF is not ready — missing: POS_HORIZ_ABS\n",
      "EKF is not ready — missing: POS_HORIZ_ABS\n",
      "EKF is not ready — missing: POS_HORIZ_ABS\n",
      "EKF is not ready — missing: POS_HORIZ_ABS\n",
      "EKF is not ready — missing: POS_HORIZ_ABS\n",
      "EKF is not ready — missing: POS_HORIZ_ABS\n",
      "EKF is not ready — missing: POS_HORIZ_ABS\n",
      "EKF is not ready — missing: POS_HORIZ_ABS\n",
      "EKF is not ready — missing: POS_HORIZ_ABS\n",
      "EKF is not ready — missing: POS_HORIZ_ABS\n",
      "EKF is not ready — missing: POS_HORIZ_ABS\n",
      "EKF is not ready — missing: POS_HORIZ_ABS\n",
      "EKF is not ready — missing: POS_HORIZ_ABS\n",
      "EKF is not ready — missing: POS_HORIZ_ABS\n",
      "EKF is not ready — missing: POS_HORIZ_ABS\n",
      "EKF is not ready — missing: POS_HORIZ_ABS\n",
      "EKF is not ready — missing: POS_HORIZ_ABS\n",
      "EKF is not ready — missing: POS_HORIZ_ABS\n",
      "EKF is not ready — missing: POS_HORIZ_ABS\n",
      "EKF is not ready — missing: POS_HORIZ_ABS\n",
      "EKF is not ready — missing: POS_HORIZ_ABS\n",
      "EKF is not ready — missing: POS_HORIZ_ABS\n",
      "EKF is not ready — missing: POS_HORIZ_ABS\n",
      "EKF is not ready — missing: POS_HORIZ_ABS\n",
      "EKF is not ready — missing: POS_HORIZ_ABS\n",
      "EKF is not ready — missing: POS_HORIZ_ABS\n",
      "EKF is not ready — missing: POS_HORIZ_ABS\n",
      "EKF is not ready — missing: POS_HORIZ_ABS\n",
      "EKF is not ready — missing: POS_HORIZ_ABS\n",
      "EKF is not ready — missing: POS_HORIZ_ABS\n",
      "EKF is not ready — missing: POS_HORIZ_ABS\n",
      "EKF is not ready — missing: POS_HORIZ_ABS\n",
      "EKF is not ready — missing: POS_HORIZ_ABS\n",
      "EKF is not ready — missing: POS_HORIZ_ABS\n",
      "EKF is not ready — missing: POS_HORIZ_ABS\n",
      "EKF is not ready — missing: POS_HORIZ_ABS\n",
      "EKF is not ready — missing: POS_HORIZ_ABS\n",
      "EKF is not ready — missing: POS_HORIZ_ABS\n",
      "EKF is not ready — missing: POS_HORIZ_ABS\n",
      "EKF is not ready — missing: POS_HORIZ_ABS\n",
      "EKF is not ready — missing: POS_HORIZ_ABS\n",
      "EKF is not ready — missing: POS_HORIZ_ABS\n",
      "EKF is not ready — missing: POS_HORIZ_ABS\n",
      "EKF is not ready — missing: POS_HORIZ_ABS\n",
      "EKF is not ready — missing: POS_HORIZ_ABS\n",
      "EKF is not ready — missing: POS_HORIZ_ABS\n",
      "EKF is not ready — missing: POS_HORIZ_ABS\n",
      "EKF is not ready — missing: POS_HORIZ_ABS\n",
      "EKF is not ready — missing: POS_HORIZ_ABS\n",
      "EKF is not ready — missing: POS_HORIZ_ABS\n",
      "EKF is not ready — missing: POS_HORIZ_ABS\n",
      "EKF is not ready — missing: POS_HORIZ_ABS\n",
      "EKF is not ready — missing: POS_HORIZ_ABS\n",
      "EKF is not ready — missing: POS_HORIZ_ABS\n",
      "EKF is not ready — missing: POS_HORIZ_ABS\n",
      "EKF is not ready — missing: POS_HORIZ_ABS\n",
      "EKF is not ready — missing: POS_HORIZ_ABS\n",
      "EKF is not ready — missing: POS_HORIZ_ABS\n",
      "EKF is not ready — missing: POS_HORIZ_ABS\n",
      "EKF is not ready — missing: POS_HORIZ_ABS\n",
      "EKF is not ready — missing: POS_HORIZ_ABS\n",
      "EKF is not ready — missing: POS_HORIZ_ABS\n",
      "EKF is not ready — missing: POS_HORIZ_ABS\n",
      "EKF is not ready — missing: POS_HORIZ_ABS\n",
      "EKF is not ready — missing: POS_HORIZ_ABS\n",
      "EKF is not ready — missing: POS_HORIZ_ABS\n",
      "EKF is not ready — missing: POS_HORIZ_ABS\n",
      "EKF is not ready — missing: POS_HORIZ_ABS\n",
      "EKF is not ready — missing: POS_HORIZ_ABS\n",
      "EKF is not ready — missing: POS_HORIZ_ABS\n",
      "EKF is not ready — missing: POS_HORIZ_ABS\n",
      "EKF is not ready — missing: POS_HORIZ_ABS\n",
      "EKF is not ready — missing: POS_HORIZ_ABS\n",
      "EKF is not ready — missing: POS_HORIZ_ABS\n",
      "EKF is not ready — missing: POS_HORIZ_ABS\n",
      "EKF is not ready — missing: POS_HORIZ_ABS\n",
      "EKF is not ready — missing: POS_HORIZ_ABS\n",
      "EKF is not ready — missing: POS_HORIZ_ABS\n",
      "EKF is not ready — missing: POS_HORIZ_ABS\n",
      "EKF is not ready — missing: POS_HORIZ_ABS\n",
      "EKF is not ready — missing: POS_HORIZ_ABS\n",
      "EKF is not ready — missing: POS_HORIZ_ABS\n",
      "EKF is not ready — missing: POS_HORIZ_ABS\n",
      "EKF is not ready — missing: POS_HORIZ_ABS\n",
      "EKF is not ready — missing: POS_HORIZ_ABS\n",
      "EKF is not ready — missing: POS_HORIZ_ABS\n",
      "EKF is not ready — missing: POS_HORIZ_ABS\n",
      "EKF is not ready — missing: POS_HORIZ_ABS\n",
      "EKF is not ready — missing: POS_HORIZ_ABS\n",
      "EKF is not ready — missing: POS_HORIZ_ABS\n",
      "EKF is not ready — missing: POS_HORIZ_ABS\n",
      "EKF is not ready — missing: POS_HORIZ_ABS\n",
      "EKF is not ready — missing: POS_HORIZ_ABS\n",
      "EKF is not ready — missing: POS_HORIZ_ABS\n",
      "EKF is not ready — missing: POS_HORIZ_ABS\n",
      "EKF is not ready — missing: POS_HORIZ_ABS\n",
      "EKF is not ready — missing: POS_HORIZ_ABS\n",
      "EKF is not ready — missing: POS_HORIZ_ABS\n",
      "EKF is not ready — missing: POS_HORIZ_ABS\n",
      "EKF is not ready — missing: POS_HORIZ_ABS\n",
      "EKF is not ready — missing: POS_HORIZ_ABS\n",
      "EKF is not ready — missing: POS_HORIZ_ABS\n",
      "EKF is not ready — missing: POS_HORIZ_ABS\n",
      "EKF is not ready — missing: POS_HORIZ_ABS\n",
      "EKF is not ready — missing: POS_HORIZ_ABS\n",
      "EKF is not ready — missing: POS_HORIZ_ABS\n",
      "EKF is not ready — missing: POS_HORIZ_ABS\n",
      "EKF is not ready — missing: POS_HORIZ_ABS\n",
      "EKF is not ready — missing: POS_HORIZ_ABS\n",
      "EKF is not ready — missing: POS_HORIZ_ABS\n",
      "EKF is not ready — missing: POS_HORIZ_ABS\n",
      "EKF is not ready — missing: POS_HORIZ_ABS\n",
      "EKF is not ready — missing: POS_HORIZ_ABS\n",
      "EKF is not ready — missing: POS_HORIZ_ABS\n",
      "EKF is not ready — missing: POS_HORIZ_ABS\n",
      "EKF is not ready — missing: POS_HORIZ_ABS\n",
      "EKF is not ready — missing: POS_HORIZ_ABS\n",
      "EKF is not ready — missing: POS_HORIZ_ABS\n",
      "EKF is not ready — missing: POS_HORIZ_ABS\n",
      "EKF is not ready — missing: POS_HORIZ_ABS\n",
      "EKF is not ready — missing: POS_HORIZ_ABS\n",
      "EKF is not ready — missing: POS_HORIZ_ABS\n",
      "EKF is not ready — missing: POS_HORIZ_ABS\n",
      "EKF is not ready — missing: POS_HORIZ_ABS\n",
      "EKF is not ready — missing: POS_HORIZ_ABS\n",
      "EKF is not ready — missing: POS_HORIZ_ABS\n",
      "EKF is not ready — missing: POS_HORIZ_ABS\n",
      "EKF is not ready — missing: POS_HORIZ_ABS\n",
      "EKF is not ready — missing: POS_HORIZ_ABS\n",
      "EKF is not ready — missing: POS_HORIZ_ABS\n",
      "EKF is not ready — missing: POS_HORIZ_ABS\n",
      "EKF is not ready — missing: POS_HORIZ_ABS\n",
      "EKF is not ready — missing: POS_HORIZ_ABS\n",
      "EKF is not ready — missing: POS_HORIZ_ABS\n",
      "EKF is not ready — missing: POS_HORIZ_ABS\n",
      "EKF is not ready — missing: POS_HORIZ_ABS\n",
      "EKF is not ready — missing: POS_HORIZ_ABS\n",
      "EKF is not ready — missing: POS_HORIZ_ABS\n",
      "EKF is not ready — missing: POS_HORIZ_ABS\n",
      "EKF is not ready — missing: POS_HORIZ_ABS\n",
      "EKF is not ready — missing: POS_HORIZ_ABS\n",
      "EKF is not ready — missing: POS_HORIZ_ABS\n",
      "EKF is not ready — missing: POS_HORIZ_ABS\n",
      "EKF is not ready — missing: POS_HORIZ_ABS\n",
      "EKF is not ready — missing: POS_HORIZ_ABS\n",
      "EKF is not ready — missing: POS_HORIZ_ABS\n",
      "EKF is not ready — missing: POS_HORIZ_ABS\n",
      "EKF is not ready — missing: POS_HORIZ_ABS\n",
      "EKF is not ready — missing: POS_HORIZ_ABS\n",
      "EKF is not ready — missing: POS_HORIZ_ABS\n",
      "EKF is not ready — missing: POS_HORIZ_ABS\n",
      "EKF is not ready — missing: POS_HORIZ_ABS\n",
      "EKF is not ready — missing: POS_HORIZ_ABS\n",
      "EKF is not ready — missing: POS_HORIZ_ABS\n",
      "EKF is not ready — missing: POS_HORIZ_ABS\n",
      "EKF is not ready — missing: POS_HORIZ_ABS\n",
      "EKF is not ready — missing: POS_HORIZ_ABS\n",
      "EKF is not ready — missing: POS_HORIZ_ABS\n",
      "EKF is not ready — missing: POS_HORIZ_ABS\n",
      "EKF is not ready — missing: POS_HORIZ_ABS\n",
      "EKF is not ready — missing: POS_HORIZ_ABS\n",
      "EKF is not ready — missing: POS_HORIZ_ABS\n",
      "EKF is not ready — missing: POS_HORIZ_ABS\n",
      "EKF is not ready — missing: POS_HORIZ_ABS\n",
      "EKF is not ready — missing: POS_HORIZ_ABS\n",
      "EKF is not ready — missing: POS_HORIZ_ABS\n",
      "EKF is not ready — missing: POS_HORIZ_ABS\n",
      "EKF is not ready — missing: POS_HORIZ_ABS\n",
      "EKF is not ready — missing: POS_HORIZ_ABS\n",
      "EKF is not ready — missing: POS_HORIZ_ABS\n",
      "EKF is not ready — missing: POS_HORIZ_ABS\n",
      "EKF is not ready — missing: POS_HORIZ_ABS\n",
      "EKF is not ready — missing: POS_HORIZ_ABS\n",
      "EKF is not ready — missing: POS_HORIZ_ABS\n",
      "EKF is not ready — missing: POS_HORIZ_ABS\n",
      "EKF is not ready — missing: POS_HORIZ_ABS\n",
      "EKF is not ready — missing: POS_HORIZ_ABS\n",
      "EKF is not ready — missing: POS_HORIZ_ABS\n",
      "EKF is not ready — missing: POS_HORIZ_ABS\n",
      "EKF is not ready — missing: POS_HORIZ_ABS\n",
      "EKF is not ready — missing: POS_HORIZ_ABS\n",
      "EKF is not ready — missing: POS_HORIZ_ABS\n",
      "EKF is not ready — missing: POS_HORIZ_ABS\n",
      "EKF is not ready — missing: POS_HORIZ_ABS\n",
      "EKF is not ready — missing: POS_HORIZ_ABS\n",
      "EKF is not ready — missing: POS_HORIZ_ABS\n",
      "EKF is not ready — missing: POS_HORIZ_ABS\n",
      "EKF is not ready — missing: POS_HORIZ_ABS\n",
      "EKF is not ready — missing: POS_HORIZ_ABS\n",
      "EKF is not ready — missing: POS_HORIZ_ABS\n",
      "EKF is not ready — missing: POS_HORIZ_ABS\n",
      "EKF is not ready — missing: POS_HORIZ_ABS\n",
      "EKF is not ready — missing: POS_HORIZ_ABS\n",
      "EKF is not ready — missing: POS_HORIZ_ABS\n",
      "EKF is not ready — missing: POS_HORIZ_ABS\n",
      "EKF is not ready — missing: POS_HORIZ_ABS\n",
      "EKF is not ready — missing: POS_HORIZ_ABS\n",
      "EKF is not ready — missing: POS_HORIZ_ABS\n",
      "EKF is not ready — missing: POS_HORIZ_ABS\n",
      "EKF is not ready — missing: POS_HORIZ_ABS\n",
      "EKF is not ready — missing: POS_HORIZ_ABS\n",
      "EKF is not ready — missing: POS_HORIZ_ABS\n",
      "EKF is not ready — missing: POS_HORIZ_ABS\n",
      "EKF is not ready — missing: POS_HORIZ_ABS\n",
      "EKF is not ready — missing: POS_HORIZ_ABS\n",
      "EKF is not ready — missing: POS_HORIZ_ABS\n",
      "EKF is not ready — missing: POS_HORIZ_ABS\n",
      "EKF is not ready — missing: POS_HORIZ_ABS\n",
      "EKF is not ready — missing: POS_HORIZ_ABS\n",
      "EKF is not ready — missing: POS_HORIZ_ABS\n",
      "EKF is not ready — missing: POS_HORIZ_ABS\n",
      "EKF is not ready — missing: POS_HORIZ_ABS\n",
      "EKF is not ready — missing: POS_HORIZ_ABS\n",
      "EKF is not ready — missing: POS_HORIZ_ABS\n",
      "EKF is not ready — missing: POS_HORIZ_ABS\n",
      "EKF is not ready — missing: POS_HORIZ_ABS\n",
      "EKF is not ready — missing: POS_HORIZ_ABS\n",
      "EKF is not ready — missing: POS_HORIZ_ABS\n",
      "EKF is not ready — missing: POS_HORIZ_ABS\n",
      "EKF is not ready — missing: POS_HORIZ_ABS\n",
      "EKF is not ready — missing: POS_HORIZ_ABS\n",
      "EKF is not ready — missing: POS_HORIZ_ABS\n",
      "EKF is not ready — missing: POS_HORIZ_ABS\n",
      "EKF is not ready — missing: POS_HORIZ_ABS\n",
      "EKF is not ready — missing: POS_HORIZ_ABS\n",
      "EKF is not ready — missing: POS_HORIZ_ABS\n",
      "EKF is not ready — missing: POS_HORIZ_ABS\n",
      "EKF is not ready — missing: POS_HORIZ_ABS\n",
      "EKF is not ready — missing: POS_HORIZ_ABS\n",
      "EKF is not ready — missing: POS_HORIZ_ABS\n",
      "EKF is not ready — missing: POS_HORIZ_ABS\n",
      "EKF is not ready — missing: POS_HORIZ_ABS\n",
      "EKF is not ready — missing: POS_HORIZ_ABS\n",
      "EKF is not ready — missing: POS_HORIZ_ABS\n",
      "EKF is not ready — missing: POS_HORIZ_ABS\n",
      "EKF is not ready — missing: POS_HORIZ_ABS\n",
      "EKF is not ready — missing: POS_HORIZ_ABS\n",
      "EKF is not ready — missing: POS_HORIZ_ABS\n",
      "EKF is not ready — missing: POS_HORIZ_ABS\n",
      "EKF is not ready — missing: POS_HORIZ_ABS\n",
      "EKF is not ready — missing: POS_HORIZ_ABS\n",
      "EKF is not ready — missing: POS_HORIZ_ABS\n",
      "EKF is not ready — missing: POS_HORIZ_ABS\n",
      "EKF is not ready — missing: POS_HORIZ_ABS\n",
      "EKF is not ready — missing: POS_HORIZ_ABS\n",
      "EKF is not ready — missing: POS_HORIZ_ABS\n",
      "EKF is not ready — missing: POS_HORIZ_ABS\n",
      "EKF is not ready — missing: POS_HORIZ_ABS\n",
      "EKF is not ready — missing: POS_HORIZ_ABS\n",
      "EKF is not ready — missing: POS_HORIZ_ABS\n",
      "EKF is not ready — missing: POS_HORIZ_ABS\n",
      "EKF is not ready — missing: POS_HORIZ_ABS\n",
      "EKF is not ready — missing: POS_HORIZ_ABS\n",
      "EKF is not ready — missing: POS_HORIZ_ABS\n",
      "EKF is not ready — missing: POS_HORIZ_ABS\n",
      "EKF is not ready — missing: POS_HORIZ_ABS\n",
      "EKF is not ready — missing: POS_HORIZ_ABS\n",
      "EKF is not ready — missing: POS_HORIZ_ABS\n",
      "EKF is not ready — missing: POS_HORIZ_ABS\n",
      "EKF is not ready — missing: POS_HORIZ_ABS\n",
      "EKF is not ready — missing: POS_HORIZ_ABS\n",
      "EKF is not ready — missing: POS_HORIZ_ABS\n",
      "EKF is not ready — missing: POS_HORIZ_ABS\n",
      "EKF is not ready — missing: POS_HORIZ_ABS\n",
      "EKF is not ready — missing: POS_HORIZ_ABS\n",
      "EKF is not ready — missing: POS_HORIZ_ABS\n",
      "EKF is not ready — missing: POS_HORIZ_ABS\n",
      "EKF is not ready — missing: POS_HORIZ_ABS\n",
      "EKF is not ready — missing: POS_HORIZ_ABS\n",
      "EKF is not ready — missing: POS_HORIZ_ABS\n",
      "EKF is not ready — missing: POS_HORIZ_ABS\n",
      "EKF is not ready — missing: POS_HORIZ_ABS\n",
      "EKF is not ready — missing: POS_HORIZ_ABS\n",
      "EKF is not ready — missing: POS_HORIZ_ABS\n",
      "EKF is not ready — missing: POS_HORIZ_ABS\n",
      "EKF is not ready — missing: POS_HORIZ_ABS\n",
      "EKF is not ready — missing: POS_HORIZ_ABS\n",
      "EKF is not ready — missing: POS_HORIZ_ABS\n",
      "EKF is not ready — missing: POS_HORIZ_ABS\n",
      "EKF is not ready — missing: POS_HORIZ_ABS\n",
      "EKF is not ready — missing: POS_HORIZ_ABS\n",
      "EKF is not ready — missing: POS_HORIZ_ABS\n",
      "EKF is not ready — missing: POS_HORIZ_ABS\n",
      "EKF is not ready — missing: POS_HORIZ_ABS\n",
      "EKF is not ready — missing: POS_HORIZ_ABS\n",
      "EKF is not ready — missing: POS_HORIZ_ABS\n",
      "EKF is not ready — missing: POS_HORIZ_ABS\n",
      "EKF is not ready — missing: POS_HORIZ_ABS\n",
      "EKF is not ready — missing: POS_HORIZ_ABS\n",
      "EKF is not ready — missing: POS_HORIZ_ABS\n",
      "EKF is not ready — missing: POS_HORIZ_ABS\n",
      "EKF is not ready — missing: POS_HORIZ_ABS\n",
      "EKF is not ready — missing: POS_HORIZ_ABS\n",
      "EKF is not ready — missing: POS_HORIZ_ABS\n",
      "EKF is not ready — missing: POS_HORIZ_ABS\n",
      "EKF is not ready — missing: POS_HORIZ_ABS\n",
      "EKF is not ready — missing: POS_HORIZ_ABS\n",
      "EKF is not ready — missing: POS_HORIZ_ABS\n",
      "EKF is not ready — missing: POS_HORIZ_ABS\n",
      "EKF is not ready — missing: POS_HORIZ_ABS\n",
      "EKF is not ready — missing: POS_HORIZ_ABS\n",
      "EKF is not ready — missing: POS_HORIZ_ABS\n",
      "EKF is not ready — missing: POS_HORIZ_ABS\n",
      "EKF is not ready — missing: POS_HORIZ_ABS\n",
      "EKF is not ready — missing: POS_HORIZ_ABS\n",
      "EKF is not ready — missing: POS_HORIZ_ABS\n",
      "EKF is not ready — missing: POS_HORIZ_ABS\n",
      "EKF is not ready — missing: POS_HORIZ_ABS\n",
      "EKF is not ready — missing: POS_HORIZ_ABS\n",
      "EKF is not ready — missing: POS_HORIZ_ABS\n",
      "EKF is not ready — missing: POS_HORIZ_ABS\n",
      "EKF is not ready — missing: POS_HORIZ_ABS\n",
      "EKF is not ready — missing: POS_HORIZ_ABS\n",
      "EKF is not ready — missing: POS_HORIZ_ABS\n",
      "EKF is not ready — missing: POS_HORIZ_ABS\n",
      "EKF is not ready — missing: POS_HORIZ_ABS\n",
      "EKF is not ready — missing: POS_HORIZ_ABS\n",
      "EKF is not ready — missing: POS_HORIZ_ABS\n",
      "EKF is not ready — missing: POS_HORIZ_ABS\n",
      "EKF is not ready — missing: POS_HORIZ_ABS\n",
      "EKF is not ready — missing: POS_HORIZ_ABS\n",
      "EKF is not ready — missing: POS_HORIZ_ABS\n",
      "EKF is not ready — missing: POS_HORIZ_ABS\n",
      "EKF is not ready — missing: POS_HORIZ_ABS\n",
      "EKF is not ready — missing: POS_HORIZ_ABS\n",
      "EKF is not ready — missing: POS_HORIZ_ABS\n",
      "EKF is not ready — missing: POS_HORIZ_ABS\n",
      "EKF is not ready — missing: POS_HORIZ_ABS\n",
      "EKF is not ready — missing: POS_HORIZ_ABS\n",
      "EKF is not ready — missing: POS_HORIZ_ABS\n",
      "EKF is not ready — missing: POS_HORIZ_ABS\n",
      "EKF is not ready — missing: POS_HORIZ_ABS\n",
      "EKF is not ready — missing: POS_HORIZ_ABS\n",
      "EKF is not ready — missing: POS_HORIZ_ABS\n",
      "EKF is not ready — missing: POS_HORIZ_ABS\n",
      "EKF is not ready — missing: POS_HORIZ_ABS\n",
      "EKF is not ready — missing: POS_HORIZ_ABS\n",
      "EKF is not ready — missing: POS_HORIZ_ABS\n",
      "EKF is not ready — missing: POS_HORIZ_ABS\n",
      "EKF is not ready — missing: POS_HORIZ_ABS\n",
      "EKF is not ready — missing: POS_HORIZ_ABS\n",
      "EKF is not ready — missing: POS_HORIZ_ABS\n",
      "EKF is not ready — missing: POS_HORIZ_ABS\n",
      "EKF is not ready — missing: POS_HORIZ_ABS\n",
      "EKF is not ready — missing: POS_HORIZ_ABS\n",
      "EKF is not ready — missing: POS_HORIZ_ABS\n",
      "EKF is not ready — missing: POS_HORIZ_ABS\n",
      "EKF is not ready — missing: POS_HORIZ_ABS\n",
      "EKF is not ready — missing: POS_HORIZ_ABS\n",
      "EKF is not ready — missing: POS_HORIZ_ABS\n",
      "EKF is not ready — missing: POS_HORIZ_ABS\n",
      "EKF is not ready — missing: POS_HORIZ_ABS\n",
      "EKF is not ready — missing: POS_HORIZ_ABS\n",
      "EKF is not ready — missing: POS_HORIZ_ABS\n",
      "EKF is not ready — missing: POS_HORIZ_ABS\n",
      "EKF is not ready — missing: POS_HORIZ_ABS\n",
      "EKF is not ready — missing: POS_HORIZ_ABS\n",
      "EKF is not ready — missing: POS_HORIZ_ABS\n",
      "EKF is not ready — missing: POS_HORIZ_ABS\n",
      "EKF is not ready — missing: POS_HORIZ_ABS\n",
      "EKF is not ready — missing: POS_HORIZ_ABS\n",
      "EKF is not ready — missing: POS_HORIZ_ABS\n",
      "EKF is not ready — missing: POS_HORIZ_ABS\n",
      "EKF is not ready — missing: POS_HORIZ_ABS\n",
      "EKF is not ready — missing: POS_HORIZ_ABS\n",
      "EKF is not ready — missing: POS_HORIZ_ABS\n",
      "EKF is not ready — missing: POS_HORIZ_ABS\n",
      "EKF is not ready — missing: POS_HORIZ_ABS\n",
      "EKF is not ready — missing: POS_HORIZ_ABS\n",
      "EKF is not ready — missing: POS_HORIZ_ABS\n",
      "EKF is not ready — missing: POS_HORIZ_ABS\n",
      "EKF is not ready — missing: POS_HORIZ_ABS\n",
      "EKF is not ready — missing: POS_HORIZ_ABS\n",
      "EKF is not ready — missing: POS_HORIZ_ABS\n",
      "EKF is not ready — missing: POS_HORIZ_ABS\n",
      "EKF is not ready — missing: POS_HORIZ_ABS\n",
      "EKF is not ready — missing: POS_HORIZ_ABS\n",
      "EKF is not ready — missing: POS_HORIZ_ABS\n",
      "EKF is not ready — missing: POS_HORIZ_ABS\n",
      "EKF is not ready — missing: POS_HORIZ_ABS\n",
      "EKF is not ready — missing: POS_HORIZ_ABS\n",
      "EKF is not ready — missing: POS_HORIZ_ABS\n",
      "EKF is not ready — missing: POS_HORIZ_ABS\n",
      "EKF is not ready — missing: POS_HORIZ_ABS\n",
      "EKF is not ready — missing: POS_HORIZ_ABS\n",
      "EKF is not ready — missing: POS_HORIZ_ABS\n",
      "EKF is not ready — missing: POS_HORIZ_ABS\n",
      "EKF is not ready — missing: POS_HORIZ_ABS\n",
      "EKF is not ready — missing: POS_HORIZ_ABS\n",
      "EKF is not ready — missing: POS_HORIZ_ABS\n",
      "EKF is not ready — missing: POS_HORIZ_ABS\n",
      "EKF is not ready — missing: POS_HORIZ_ABS\n",
      "EKF is not ready — missing: POS_HORIZ_ABS\n",
      "EKF is not ready — missing: POS_HORIZ_ABS\n",
      "EKF is not ready — missing: POS_HORIZ_ABS\n",
      "EKF is not ready — missing: POS_HORIZ_ABS\n",
      "EKF is not ready — missing: POS_HORIZ_ABS\n",
      "EKF is not ready — missing: POS_HORIZ_ABS\n",
      "EKF is not ready — missing: POS_HORIZ_ABS\n",
      "EKF is not ready — missing: POS_HORIZ_ABS\n",
      "EKF is not ready — missing: POS_HORIZ_ABS\n",
      "EKF is not ready — missing: POS_HORIZ_ABS\n",
      "EKF is not ready — missing: POS_HORIZ_ABS\n",
      "EKF is not ready — missing: POS_HORIZ_ABS\n",
      "EKF is not ready — missing: POS_HORIZ_ABS\n",
      "EKF is not ready — missing: POS_HORIZ_ABS\n",
      "EKF is not ready — missing: POS_HORIZ_ABS\n",
      "EKF is not ready — missing: POS_HORIZ_ABS\n",
      "EKF is not ready — missing: POS_HORIZ_ABS\n",
      "EKF is not ready — missing: POS_HORIZ_ABS\n",
      "EKF is not ready — missing: POS_HORIZ_ABS\n",
      "EKF is not ready — missing: POS_HORIZ_ABS\n",
      "EKF is not ready — missing: POS_HORIZ_ABS\n",
      "EKF is not ready — missing: POS_HORIZ_ABS\n",
      "EKF is not ready — missing: POS_HORIZ_ABS\n",
      "EKF is not ready — missing: POS_HORIZ_ABS\n",
      "EKF is not ready — missing: POS_HORIZ_ABS\n",
      "EKF is not ready — missing: POS_HORIZ_ABS\n",
      "EKF is not ready — missing: POS_HORIZ_ABS\n",
      "EKF is not ready — missing: POS_HORIZ_ABS\n",
      "EKF is not ready — missing: POS_HORIZ_ABS\n",
      "EKF is not ready — missing: POS_HORIZ_ABS\n",
      "EKF is not ready — missing: POS_HORIZ_ABS\n",
      "EKF is not ready — missing: POS_HORIZ_ABS\n",
      "EKF is not ready — missing: POS_HORIZ_ABS\n",
      "EKF is not ready — missing: POS_HORIZ_ABS\n",
      "EKF is not ready — missing: POS_HORIZ_ABS\n",
      "EKF is not ready — missing: POS_HORIZ_ABS\n",
      "✅ Step: Check EKF is done\n",
      "Step 'Check GPS' is now connected ✅🔗\n",
      "▶️ Starting Step: Check GPS\n",
      "✅ Step: Check EKF is done\n",
      "Step 'Check GPS' is now connected ✅🔗\n",
      "▶️ Starting Step: Check GPS\n",
      "✅ Step: Check GPS is done\n",
      "Step 'Check system' is now connected ✅🔗\n",
      "▶️ Starting Step: Check system\n",
      "✅ Step: Check GPS is done\n",
      "Step 'Check system' is now connected ✅🔗\n",
      "▶️ Starting Step: Check system\n",
      "✅ Step: Check EKF is done\n",
      "Step 'Check GPS' is now connected ✅🔗\n",
      "▶️ Starting Step: Check GPS\n",
      "✅ Step: Check EKF is done\n",
      "Step 'Check GPS' is now connected ✅🔗\n",
      "▶️ Starting Step: Check GPS\n",
      "✅ Step: Check EKF is done\n",
      "Step 'Check GPS' is now connected ✅🔗\n",
      "▶️ Starting Step: Check GPS\n",
      "✅ Step: Check system is done\n",
      "✅ Action: Pre-Arm Check is done\n",
      "Action 'Set Mode: GUIDED' is now connected ✅🔗\n",
      "▶️ Starting Action: Set Mode: GUIDED\n",
      "Step 'Switch to GUIDED' is now connected ✅🔗\n",
      "▶️ Starting Step: Switch to GUIDED\n",
      "✅ Step: Check system is done\n",
      "✅ Action: Pre-Arm Check is done\n",
      "Action 'Set Mode: GUIDED' is now connected ✅🔗\n",
      "▶️ Starting Action: Set Mode: GUIDED\n",
      "Step 'Switch to GUIDED' is now connected ✅🔗\n",
      "▶️ Starting Step: Switch to GUIDED\n",
      "✅ Step: Check GPS is done\n",
      "✅ Step: Switch to GUIDED is done\n",
      "✅ Action: Set Mode: GUIDED is done\n",
      "Step 'Check system' is now connected ✅🔗\n",
      "▶️ Starting Step: Check system\n",
      "Action 'Arm' is now connected ✅🔗\n",
      "▶️ Starting Action: Arm\n",
      "Step 'arm' is now connected ✅🔗\n",
      "🛰️ Sending ARM command...\n",
      "▶️ Starting Step: arm\n",
      "✅ Step: Check GPS is done\n",
      "Step 'Check system' is now connected ✅🔗\n",
      "▶️ Starting Step: Check system\n",
      "✅ Step: Switch to GUIDED is done\n",
      "✅ Action: Set Mode: GUIDED is done\n",
      "Action 'Arm' is now connected ✅🔗\n",
      "▶️ Starting Action: Arm\n",
      "✅ Step: Check GPS is done\n",
      "Step 'arm' is now connected ✅🔗\n",
      "🛰️ Sending ARM command...\n",
      "▶️ Starting Step: arm\n",
      "Step 'Check system' is now connected ✅🔗\n",
      "▶️ Starting Step: Check system\n",
      "✅ Step: Check system is done\n",
      "✅ Action: Pre-Arm Check is done\n",
      "Action 'Set Mode: GUIDED' is now connected ✅🔗\n",
      "▶️ Starting Action: Set Mode: GUIDED\n",
      "Step 'Switch to GUIDED' is now connected ✅🔗\n",
      "▶️ Starting Step: Switch to GUIDED\n",
      "✅ Step: Check system is done\n",
      "✅ Action: Pre-Arm Check is done\n",
      "✅ Step: Check system is done\n",
      "✅ Action: Pre-Arm Check is done\n",
      "Action 'Set Mode: GUIDED' is now connected ✅🔗\n",
      "▶️ Starting Action: Set Mode: GUIDED\n",
      "Step 'Switch to GUIDED' is now connected ✅🔗\n",
      "▶️ Starting Step: Switch to GUIDED\n",
      "Action 'Set Mode: GUIDED' is now connected ✅🔗\n",
      "▶️ Starting Action: Set Mode: GUIDED\n",
      "Step 'Switch to GUIDED' is now connected ✅🔗\n",
      "▶️ Starting Step: Switch to GUIDED\n",
      "✅ Step: Switch to GUIDED is done\n",
      "✅ Action: Set Mode: GUIDED is done\n",
      "Action 'Arm' is now connected ✅🔗\n",
      "▶️ Starting Action: Arm\n",
      "Step 'arm' is now connected ✅🔗\n",
      "🛰️ Sending ARM command...\n",
      "▶️ Starting Step: arm\n",
      "✅ Step: Switch to GUIDED is done\n",
      "✅ Step: Switch to GUIDED is done\n",
      "✅ Action: Set Mode: GUIDED is done\n",
      "✅ Action: Set Mode: GUIDED is done\n",
      "Action 'Arm' is now connected ✅🔗\n",
      "▶️ Starting Action: Arm\n",
      "Action 'Arm' is now connected ✅🔗\n",
      "▶️ Starting Action: Arm\n",
      "Step 'arm' is now connected ✅🔗\n",
      "🛰️ Sending ARM command...\n",
      "▶️ Starting Step: arm\n",
      "Step 'arm' is now connected ✅🔗\n",
      "🛰️ Sending ARM command...\n",
      "▶️ Starting Step: arm\n",
      "✅ Step: arm is done\n",
      "✅ Action: Arm is done\n",
      "Action 'Take Off' is now connected ✅🔗\n",
      "▶️ Starting Action: Take Off\n",
      "Step 'take off' is now connected ✅🔗\n",
      "▶️ Starting Step: take off\n",
      "✅ Step: arm is done\n",
      "✅ Action: Arm is done\n",
      "Action 'Take Off' is now connected ✅🔗\n",
      "▶️ Starting Action: Take Off\n",
      "Step 'take off' is now connected ✅🔗\n",
      "▶️ Starting Step: take off\n",
      "✅ Step: arm is done\n",
      "✅ Action: Arm is done\n",
      "Action 'Take Off' is now connected ✅🔗\n",
      "▶️ Starting Action: Take Off\n",
      "Step 'take off' is now connected ✅🔗\n",
      "▶️ Starting Step: take off\n",
      "✅ Step: arm is done\n",
      "✅ Action: Arm is done\n",
      "Action 'Take Off' is now connected ✅🔗\n",
      "▶️ Starting Action: Take Off\n",
      "Step 'take off' is now connected ✅🔗\n",
      "▶️ Starting Step: take off\n",
      "📍 Distance to target: 5.02 m\n",
      "📍 Distance to target: 5.02 m\n",
      "📍 Distance to target: 5.02 m\n",
      "✅ Step: arm is done\n",
      "✅ Action: Arm is done\n",
      "Action 'Take Off' is now connected ✅🔗\n",
      "▶️ Starting Action: Take Off\n",
      "Step 'take off' is now connected ✅🔗\n",
      "▶️ Starting Step: take off\n",
      "📍 Distance to target: 5.02 m\n",
      "📍 Distance to target: 5.02 m\n",
      "📍 Distance to target: 5.02 m\n",
      "📍 Distance to target: 5.02 m\n",
      "📍 Distance to target: 5.02 m\n",
      "📍 Distance to target: 5.02 m\n",
      "📍 Distance to target: 5.02 m\n",
      "📍 Distance to target: 5.02 m\n",
      "📍 Distance to target: 5.02 m\n",
      "📍 Distance to target: 5.02 m\n",
      "📍 Distance to target: 5.02 m\n",
      "📍 Distance to target: 5.02 m\n",
      "📍 Distance to target: 5.02 m\n",
      "📍 Distance to target: 5.02 m\n",
      "📍 Distance to target: 5.02 m\n",
      "📍 Distance to target: 5.02 m\n",
      "📍 Distance to target: 5.02 m\n",
      "📍 Distance to target: 5.02 m\n",
      "📍 Distance to target: 5.02 m\n",
      "📍 Distance to target: 5.02 m\n",
      "📍 Distance to target: 5.02 m\n",
      "📍 Distance to target: 5.02 m\n",
      "📍 Distance to target: 5.02 m\n",
      "📍 Distance to target: 5.02 m\n",
      "📍 Distance to target: 5.02 m\n",
      "📍 Distance to target: 5.02 m\n",
      "📍 Distance to target: 5.02 m\n",
      "📍 Distance to target: 5.02 m\n",
      "📍 Distance to target: 5.02 m\n",
      "📍 Distance to target: 5.02 m\n",
      "📍 Distance to target: 5.02 m\n",
      "📍 Distance to target: 5.02 m\n",
      "📍 Distance to target: 5.02 m\n",
      "📍 Distance to target: 5.01 m\n",
      "📍 Distance to target: 5.01 m\n",
      "📍 Distance to target: 5.02 m\n",
      "📍 Distance to target: 5.02 m\n",
      "📍 Distance to target: 5.02 m\n",
      "📍 Distance to target: 4.98 m\n",
      "📍 Distance to target: 4.98 m\n",
      "📍 Distance to target: 5.02 m\n",
      "📍 Distance to target: 5.02 m\n",
      "📍 Distance to target: 5.02 m\n",
      "📍 Distance to target: 4.92 m\n",
      "📍 Distance to target: 4.91 m\n",
      "📍 Distance to target: 5.00 m\n",
      "📍 Distance to target: 4.99 m\n",
      "📍 Distance to target: 4.99 m\n",
      "📍 Distance to target: 4.74 m\n",
      "📍 Distance to target: 4.72 m\n",
      "📍 Distance to target: 4.94 m\n",
      "📍 Distance to target: 4.93 m\n",
      "📍 Distance to target: 4.92 m\n",
      "📍 Distance to target: 4.45 m\n",
      "📍 Distance to target: 4.42 m\n",
      "📍 Distance to target: 4.82 m\n",
      "📍 Distance to target: 4.78 m\n",
      "📍 Distance to target: 4.76 m\n",
      "📍 Distance to target: 4.16 m\n",
      "📍 Distance to target: 4.13 m\n",
      "📍 Distance to target: 4.52 m\n",
      "📍 Distance to target: 4.49 m\n",
      "📍 Distance to target: 4.47 m\n",
      "📍 Distance to target: 3.81 m\n",
      "📍 Distance to target: 3.77 m\n",
      "📍 Distance to target: 4.23 m\n",
      "📍 Distance to target: 4.20 m\n",
      "📍 Distance to target: 4.19 m\n",
      "📍 Distance to target: 3.40 m\n",
      "📍 Distance to target: 3.36 m\n",
      "📍 Distance to target: 3.90 m\n",
      "📍 Distance to target: 3.86 m\n",
      "📍 Distance to target: 3.84 m\n",
      "📍 Distance to target: 2.95 m\n",
      "📍 Distance to target: 2.90 m\n",
      "📍 Distance to target: 3.51 m\n",
      "📍 Distance to target: 3.45 m\n",
      "📍 Distance to target: 3.42 m\n",
      "📍 Distance to target: 2.50 m\n",
      "📍 Distance to target: 2.45 m\n",
      "📍 Distance to target: 3.06 m\n",
      "📍 Distance to target: 2.99 m\n",
      "📍 Distance to target: 2.97 m\n",
      "📍 Distance to target: 2.07 m\n",
      "📍 Distance to target: 2.03 m\n",
      "📍 Distance to target: 2.61 m\n",
      "📍 Distance to target: 2.54 m\n",
      "📍 Distance to target: 2.51 m\n",
      "📍 Distance to target: 1.68 m\n",
      "📍 Distance to target: 1.65 m\n",
      "📍 Distance to target: 2.17 m\n",
      "📍 Distance to target: 2.11 m\n",
      "📍 Distance to target: 2.08 m\n",
      "📍 Distance to target: 1.34 m\n",
      "📍 Distance to target: 1.31 m\n",
      "📍 Distance to target: 1.78 m\n",
      "📍 Distance to target: 1.72 m\n",
      "📍 Distance to target: 1.69 m\n",
      "📍 Distance to target: 1.04 m\n",
      "📍 Distance to target: 1.01 m\n",
      "📍 Distance to target: 1.42 m\n",
      "📍 Distance to target: 1.37 m\n",
      "📍 Distance to target: 1.34 m\n",
      "📍 Distance to target: 0.77 m\n",
      "📍 Distance to target: 0.75 m\n",
      "📍 Distance to target: 1.11 m\n",
      "📍 Distance to target: 1.06 m\n",
      "📍 Distance to target: 1.04 m\n",
      "📍 Distance to target: 0.55 m\n",
      "📍 Distance to target: 0.53 m\n",
      "📍 Distance to target: 0.83 m\n",
      "📍 Distance to target: 0.79 m\n",
      "📍 Distance to target: 0.77 m\n",
      "📍 Distance to target: 0.36 m\n",
      "✅ Step: take off is done\n",
      "✅ Action: Take Off is done\n",
      "Action 'Go local' is now connected ✅🔗\n",
      "▶️ Starting Action: Go local\n",
      "Step 'go to -> (0, 0, 5)' is now connected ✅🔗\n",
      "▶️ Starting Step: go to -> (0, 0, 5)\n",
      "📍 Distance to target: 0.34 m\n",
      "✅ Step: take off is done\n",
      "✅ Action: Take Off is done\n",
      "Action 'Go local' is now connected ✅🔗\n",
      "▶️ Starting Action: Go local\n",
      "Step 'go to -> (0, 0, 5)' is now connected ✅🔗\n",
      "▶️ Starting Step: go to -> (0, 0, 5)\n",
      "📍 Distance to target: 0.60 m\n",
      "📍 Distance to target: 0.56 m\n",
      "📍 Distance to target: 0.55 m\n",
      "📍 Distance to target: 0.20 m\n",
      "✅ Step: go to -> (0, 0, 5) is done\n",
      "Step 'go to -> (0, 12, 5)' is now connected ✅🔗\n",
      "▶️ Starting Step: go to -> (0, 12, 5)\n",
      "📍 Distance to target: 0.19 m\n",
      "✅ Step: go to -> (0, 0, 5) is done\n",
      "Step 'go to -> (0, 5, 5)' is now connected ✅🔗\n",
      "▶️ Starting Step: go to -> (0, 5, 5)\n",
      "📍 Distance to target: 0.40 m\n",
      "✅ Step: take off is done\n",
      "✅ Action: Take Off is done\n",
      "Action 'Go local' is now connected ✅🔗\n",
      "▶️ Starting Action: Go local\n",
      "Step 'go to -> (0, 0, 5)' is now connected ✅🔗\n",
      "▶️ Starting Step: go to -> (0, 0, 5)\n",
      "📍 Distance to target: 0.37 m\n",
      "✅ Step: take off is done\n",
      "✅ Action: Take Off is done\n",
      "Action 'Go local' is now connected ✅🔗\n",
      "▶️ Starting Action: Go local\n",
      "Step 'go to -> (0, 0, 5)' is now connected ✅🔗\n",
      "▶️ Starting Step: go to -> (0, 0, 5)\n",
      "📍 Distance to target: 0.35 m\n",
      "✅ Step: take off is done\n",
      "✅ Action: Take Off is done\n",
      "Action 'Go local' is now connected ✅🔗\n",
      "▶️ Starting Action: Go local\n",
      "Step 'go to -> (0, 0, 5)' is now connected ✅🔗\n",
      "▶️ Starting Step: go to -> (0, 0, 5)\n",
      "📍 Distance to target: 11.98 m\n",
      "📍 Distance to target: 5.01 m\n",
      "📍 Distance to target: 0.23 m\n",
      "✅ Step: go to -> (0, 0, 5) is done\n",
      "Step 'go to -> (0, 10, 5)' is now connected ✅🔗\n",
      "▶️ Starting Step: go to -> (0, 10, 5)\n",
      "📍 Distance to target: 0.21 m\n",
      "✅ Step: go to -> (0, 0, 5) is done\n",
      "Step 'go to -> (0, 7, 5)' is now connected ✅🔗\n",
      "▶️ Starting Step: go to -> (0, 7, 5)\n",
      "📍 Distance to target: 0.20 m\n",
      "✅ Step: go to -> (0, 0, 5) is done\n",
      "Step 'go to -> (0, 15, 5)' is now connected ✅🔗\n",
      "▶️ Starting Step: go to -> (0, 15, 5)\n",
      "📍 Distance to target: 11.94 m\n",
      "📍 Distance to target: 4.96 m\n",
      "📍 Distance to target: 10.00 m\n",
      "📍 Distance to target: 7.00 m\n",
      "📍 Distance to target: 14.98 m\n",
      "📍 Distance to target: 11.81 m\n",
      "📍 Distance to target: 4.84 m\n",
      "📍 Distance to target: 9.95 m\n",
      "📍 Distance to target: 6.95 m\n",
      "📍 Distance to target: 14.94 m\n",
      "📍 Distance to target: 11.63 m\n",
      "📍 Distance to target: 4.66 m\n",
      "📍 Distance to target: 9.83 m\n",
      "📍 Distance to target: 6.82 m\n",
      "📍 Distance to target: 14.81 m\n",
      "📍 Distance to target: 11.43 m\n",
      "📍 Distance to target: 4.45 m\n",
      "📍 Distance to target: 9.65 m\n",
      "📍 Distance to target: 6.64 m\n",
      "📍 Distance to target: 14.63 m\n",
      "📍 Distance to target: 11.20 m\n",
      "📍 Distance to target: 4.22 m\n",
      "📍 Distance to target: 9.44 m\n",
      "📍 Distance to target: 6.44 m\n",
      "📍 Distance to target: 14.42 m\n",
      "📍 Distance to target: 10.96 m\n",
      "📍 Distance to target: 3.98 m\n",
      "📍 Distance to target: 9.21 m\n",
      "📍 Distance to target: 6.21 m\n",
      "📍 Distance to target: 14.19 m\n",
      "📍 Distance to target: 10.71 m\n",
      "📍 Distance to target: 3.73 m\n",
      "📍 Distance to target: 8.97 m\n",
      "📍 Distance to target: 5.97 m\n",
      "📍 Distance to target: 13.95 m\n",
      "📍 Distance to target: 10.47 m\n",
      "📍 Distance to target: 3.48 m\n",
      "📍 Distance to target: 8.72 m\n",
      "📍 Distance to target: 5.72 m\n",
      "📍 Distance to target: 13.71 m\n",
      "📍 Distance to target: 10.22 m\n",
      "📍 Distance to target: 3.22 m\n",
      "📍 Distance to target: 8.48 m\n",
      "📍 Distance to target: 5.48 m\n",
      "📍 Distance to target: 13.46 m\n",
      "📍 Distance to target: 9.96 m\n",
      "📍 Distance to target: 2.97 m\n",
      "📍 Distance to target: 8.23 m\n",
      "📍 Distance to target: 5.23 m\n",
      "📍 Distance to target: 13.21 m\n",
      "📍 Distance to target: 9.71 m\n",
      "📍 Distance to target: 2.71 m\n",
      "📍 Distance to target: 7.98 m\n",
      "📍 Distance to target: 4.98 m\n",
      "📍 Distance to target: 12.96 m\n",
      "📍 Distance to target: 9.46 m\n",
      "📍 Distance to target: 2.46 m\n",
      "📍 Distance to target: 7.73 m\n",
      "📍 Distance to target: 4.73 m\n",
      "📍 Distance to target: 12.71 m\n",
      "📍 Distance to target: 9.20 m\n",
      "📍 Distance to target: 2.21 m\n",
      "📍 Distance to target: 7.48 m\n",
      "📍 Distance to target: 4.49 m\n",
      "📍 Distance to target: 12.46 m\n",
      "📍 Distance to target: 8.95 m\n",
      "📍 Distance to target: 1.96 m\n",
      "📍 Distance to target: 7.23 m\n",
      "📍 Distance to target: 4.24 m\n",
      "📍 Distance to target: 12.21 m\n",
      "📍 Distance to target: 8.70 m\n",
      "📍 Distance to target: 1.72 m\n",
      "📍 Distance to target: 6.98 m\n",
      "📍 Distance to target: 3.99 m\n",
      "📍 Distance to target: 11.96 m\n",
      "📍 Distance to target: 8.45 m\n",
      "📍 Distance to target: 1.47 m\n",
      "📍 Distance to target: 6.73 m\n",
      "📍 Distance to target: 3.74 m\n",
      "📍 Distance to target: 11.71 m\n",
      "📍 Distance to target: 8.20 m\n",
      "📍 Distance to target: 1.23 m\n",
      "📍 Distance to target: 6.48 m\n",
      "📍 Distance to target: 3.48 m\n",
      "📍 Distance to target: 11.45 m\n",
      "📍 Distance to target: 7.94 m\n",
      "📍 Distance to target: 0.98 m\n",
      "📍 Distance to target: 6.23 m\n",
      "📍 Distance to target: 3.23 m\n",
      "📍 Distance to target: 11.20 m\n",
      "📍 Distance to target: 7.69 m\n",
      "📍 Distance to target: 0.73 m\n",
      "📍 Distance to target: 5.97 m\n",
      "📍 Distance to target: 2.98 m\n",
      "📍 Distance to target: 10.95 m\n",
      "📍 Distance to target: 7.44 m\n",
      "📍 Distance to target: 0.51 m\n",
      "📍 Distance to target: 5.72 m\n",
      "📍 Distance to target: 2.72 m\n",
      "📍 Distance to target: 10.69 m\n",
      "📍 Distance to target: 7.19 m\n",
      "📍 Distance to target: 0.32 m\n",
      "✅ Step: go to -> (0, 5, 5) is done\n",
      "Step 'go to -> (5, 5, 5)' is now connected ✅🔗\n",
      "▶️ Starting Step: go to -> (5, 5, 5)\n",
      "📍 Distance to target: 5.46 m\n",
      "📍 Distance to target: 2.47 m\n",
      "📍 Distance to target: 10.44 m\n",
      "📍 Distance to target: 6.94 m\n",
      "📍 Distance to target: 4.97 m\n",
      "📍 Distance to target: 5.20 m\n",
      "📍 Distance to target: 2.21 m\n",
      "📍 Distance to target: 10.19 m\n",
      "📍 Distance to target: 6.69 m\n",
      "📍 Distance to target: 4.92 m\n",
      "📍 Distance to target: 4.95 m\n",
      "📍 Distance to target: 1.96 m\n",
      "📍 Distance to target: 9.93 m\n",
      "📍 Distance to target: 6.43 m\n",
      "📍 Distance to target: 4.80 m\n",
      "📍 Distance to target: 4.70 m\n",
      "📍 Distance to target: 1.70 m\n",
      "📍 Distance to target: 9.68 m\n",
      "📍 Distance to target: 6.18 m\n",
      "📍 Distance to target: 4.62 m\n",
      "📍 Distance to target: 4.44 m\n",
      "📍 Distance to target: 1.45 m\n",
      "📍 Distance to target: 9.43 m\n",
      "📍 Distance to target: 5.93 m\n",
      "📍 Distance to target: 4.41 m\n",
      "📍 Distance to target: 4.19 m\n",
      "📍 Distance to target: 1.19 m\n",
      "📍 Distance to target: 9.18 m\n",
      "📍 Distance to target: 5.68 m\n",
      "📍 Distance to target: 4.19 m\n",
      "📍 Distance to target: 3.94 m\n",
      "📍 Distance to target: 0.94 m\n",
      "📍 Distance to target: 8.92 m\n",
      "📍 Distance to target: 5.42 m\n",
      "📍 Distance to target: 3.96 m\n",
      "📍 Distance to target: 3.68 m\n",
      "📍 Distance to target: 0.69 m\n",
      "📍 Distance to target: 8.67 m\n",
      "📍 Distance to target: 5.17 m\n",
      "📍 Distance to target: 3.72 m\n",
      "📍 Distance to target: 3.43 m\n",
      "📍 Distance to target: 0.46 m\n",
      "✅ Step: go to -> (0, 7, 5) is done\n",
      "Step 'go to -> (7, 7, 5)' is now connected ✅🔗\n",
      "▶️ Starting Step: go to -> (7, 7, 5)\n",
      "📍 Distance to target: 8.42 m\n",
      "📍 Distance to target: 4.92 m\n",
      "📍 Distance to target: 3.48 m\n",
      "📍 Distance to target: 3.18 m\n",
      "📍 Distance to target: 7.01 m\n",
      "📍 Distance to target: 8.17 m\n",
      "📍 Distance to target: 4.67 m\n",
      "📍 Distance to target: 3.24 m\n",
      "📍 Distance to target: 2.93 m\n",
      "📍 Distance to target: 6.95 m\n",
      "📍 Distance to target: 7.92 m\n",
      "📍 Distance to target: 4.42 m\n",
      "📍 Distance to target: 2.99 m\n",
      "📍 Distance to target: 2.67 m\n",
      "📍 Distance to target: 6.82 m\n",
      "📍 Distance to target: 7.66 m\n",
      "📍 Distance to target: 4.16 m\n",
      "📍 Distance to target: 2.74 m\n",
      "📍 Distance to target: 2.42 m\n",
      "📍 Distance to target: 6.64 m\n",
      "📍 Distance to target: 7.41 m\n",
      "📍 Distance to target: 3.91 m\n",
      "📍 Distance to target: 2.49 m\n",
      "📍 Distance to target: 2.17 m\n",
      "📍 Distance to target: 6.43 m\n",
      "📍 Distance to target: 7.16 m\n",
      "📍 Distance to target: 3.66 m\n",
      "📍 Distance to target: 2.24 m\n",
      "📍 Distance to target: 1.92 m\n",
      "📍 Distance to target: 6.21 m\n",
      "📍 Distance to target: 6.92 m\n",
      "📍 Distance to target: 3.41 m\n",
      "📍 Distance to target: 1.99 m\n",
      "📍 Distance to target: 1.67 m\n",
      "📍 Distance to target: 5.97 m\n",
      "📍 Distance to target: 6.67 m\n",
      "📍 Distance to target: 3.16 m\n",
      "📍 Distance to target: 1.74 m\n",
      "📍 Distance to target: 1.42 m\n",
      "📍 Distance to target: 5.73 m\n",
      "📍 Distance to target: 6.41 m\n",
      "📍 Distance to target: 2.91 m\n",
      "📍 Distance to target: 1.48 m\n",
      "📍 Distance to target: 1.17 m\n",
      "📍 Distance to target: 5.49 m\n",
      "📍 Distance to target: 6.16 m\n",
      "📍 Distance to target: 2.66 m\n",
      "📍 Distance to target: 1.23 m\n",
      "📍 Distance to target: 0.92 m\n",
      "📍 Distance to target: 5.25 m\n",
      "📍 Distance to target: 5.91 m\n",
      "📍 Distance to target: 2.41 m\n",
      "📍 Distance to target: 0.98 m\n",
      "📍 Distance to target: 0.67 m\n",
      "📍 Distance to target: 5.00 m\n",
      "📍 Distance to target: 5.66 m\n",
      "📍 Distance to target: 2.16 m\n",
      "📍 Distance to target: 0.72 m\n",
      "📍 Distance to target: 0.45 m\n",
      "✅ Step: go to -> (0, 10, 5) is done\n",
      "Step 'go to -> (10, 10, 5)' is now connected ✅🔗\n",
      "▶️ Starting Step: go to -> (10, 10, 5)\n",
      "📍 Distance to target: 4.76 m\n",
      "📍 Distance to target: 5.41 m\n",
      "📍 Distance to target: 1.91 m\n",
      "📍 Distance to target: 0.50 m\n",
      "✅ Step: go to -> (5, 5, 5) is done\n",
      "Step 'go to -> (5, 0, 5)' is now connected ✅🔗\n",
      "▶️ Starting Step: go to -> (5, 0, 5)\n",
      "📍 Distance to target: 10.02 m\n",
      "📍 Distance to target: 4.51 m\n",
      "📍 Distance to target: 5.16 m\n",
      "📍 Distance to target: 1.66 m\n",
      "📍 Distance to target: 5.03 m\n",
      "📍 Distance to target: 9.96 m\n",
      "📍 Distance to target: 4.26 m\n",
      "📍 Distance to target: 4.91 m\n",
      "📍 Distance to target: 1.41 m\n",
      "📍 Distance to target: 4.97 m\n",
      "📍 Distance to target: 9.83 m\n",
      "📍 Distance to target: 4.01 m\n",
      "📍 Distance to target: 4.66 m\n",
      "📍 Distance to target: 1.16 m\n",
      "📍 Distance to target: 4.83 m\n",
      "📍 Distance to target: 9.65 m\n",
      "📍 Distance to target: 3.76 m\n",
      "📍 Distance to target: 4.41 m\n",
      "📍 Distance to target: 0.91 m\n",
      "📍 Distance to target: 4.64 m\n",
      "📍 Distance to target: 9.43 m\n",
      "📍 Distance to target: 3.50 m\n",
      "📍 Distance to target: 4.15 m\n",
      "📍 Distance to target: 0.66 m\n",
      "📍 Distance to target: 4.43 m\n",
      "📍 Distance to target: 9.20 m\n",
      "📍 Distance to target: 3.25 m\n",
      "📍 Distance to target: 3.91 m\n",
      "📍 Distance to target: 0.44 m\n",
      "✅ Step: go to -> (0, 12, 5) is done\n",
      "Step 'go to -> (12, 12, 5)' is now connected ✅🔗\n",
      "▶️ Starting Step: go to -> (12, 12, 5)\n",
      "📍 Distance to target: 4.20 m\n",
      "📍 Distance to target: 8.96 m\n",
      "📍 Distance to target: 2.99 m\n",
      "📍 Distance to target: 3.66 m\n",
      "📍 Distance to target: 12.02 m\n",
      "📍 Distance to target: 3.96 m\n",
      "📍 Distance to target: 8.72 m\n",
      "📍 Distance to target: 2.74 m\n",
      "📍 Distance to target: 3.41 m\n",
      "📍 Distance to target: 11.97 m\n",
      "📍 Distance to target: 3.72 m\n",
      "📍 Distance to target: 8.48 m\n",
      "📍 Distance to target: 2.48 m\n",
      "📍 Distance to target: 3.16 m\n",
      "📍 Distance to target: 11.84 m\n",
      "📍 Distance to target: 3.47 m\n",
      "📍 Distance to target: 8.23 m\n",
      "📍 Distance to target: 2.22 m\n",
      "📍 Distance to target: 2.91 m\n",
      "📍 Distance to target: 11.65 m\n",
      "📍 Distance to target: 3.23 m\n",
      "📍 Distance to target: 7.99 m\n",
      "📍 Distance to target: 1.97 m\n",
      "📍 Distance to target: 2.66 m\n",
      "📍 Distance to target: 11.44 m\n",
      "📍 Distance to target: 2.98 m\n",
      "📍 Distance to target: 7.74 m\n",
      "📍 Distance to target: 1.71 m\n",
      "📍 Distance to target: 2.41 m\n",
      "📍 Distance to target: 11.21 m\n",
      "📍 Distance to target: 2.74 m\n",
      "📍 Distance to target: 7.50 m\n",
      "📍 Distance to target: 1.46 m\n",
      "📍 Distance to target: 2.16 m\n",
      "📍 Distance to target: 10.98 m\n",
      "📍 Distance to target: 2.49 m\n",
      "📍 Distance to target: 7.25 m\n",
      "📍 Distance to target: 1.20 m\n",
      "📍 Distance to target: 1.91 m\n",
      "📍 Distance to target: 10.73 m\n",
      "📍 Distance to target: 2.24 m\n",
      "📍 Distance to target: 7.00 m\n",
      "📍 Distance to target: 0.95 m\n",
      "📍 Distance to target: 1.66 m\n",
      "📍 Distance to target: 10.49 m\n",
      "📍 Distance to target: 1.99 m\n",
      "📍 Distance to target: 6.76 m\n",
      "📍 Distance to target: 0.70 m\n",
      "📍 Distance to target: 1.41 m\n",
      "📍 Distance to target: 10.25 m\n",
      "📍 Distance to target: 1.73 m\n",
      "📍 Distance to target: 6.50 m\n",
      "📍 Distance to target: 0.47 m\n",
      "✅ Step: go to -> (7, 7, 5) is done\n",
      "Step 'go to -> (7, 0, 5)' is now connected ✅🔗\n",
      "▶️ Starting Step: go to -> (7, 0, 5)\n",
      "📍 Distance to target: 1.16 m\n",
      "📍 Distance to target: 10.00 m\n",
      "📍 Distance to target: 1.48 m\n",
      "📍 Distance to target: 6.25 m\n",
      "📍 Distance to target: 7.01 m\n",
      "📍 Distance to target: 0.91 m\n",
      "📍 Distance to target: 9.75 m\n",
      "📍 Distance to target: 1.23 m\n",
      "📍 Distance to target: 6.00 m\n",
      "📍 Distance to target: 6.96 m\n",
      "📍 Distance to target: 0.67 m\n",
      "📍 Distance to target: 9.51 m\n",
      "📍 Distance to target: 0.97 m\n",
      "📍 Distance to target: 5.74 m\n",
      "📍 Distance to target: 6.82 m\n",
      "📍 Distance to target: 0.44 m\n",
      "✅ Step: go to -> (0, 15, 5) is done\n",
      "Step 'go to -> (15, 15, 5)' is now connected ✅🔗\n",
      "▶️ Starting Step: go to -> (15, 15, 5)\n",
      "📍 Distance to target: 9.26 m\n",
      "📍 Distance to target: 0.72 m\n",
      "📍 Distance to target: 5.48 m\n",
      "📍 Distance to target: 6.64 m\n",
      "📍 Distance to target: 15.02 m\n",
      "📍 Distance to target: 9.01 m\n",
      "📍 Distance to target: 0.50 m\n",
      "✅ Step: go to -> (5, 0, 5) is done\n",
      "Step 'go to -> (0, 0, 5)' is now connected ✅🔗\n",
      "▶️ Starting Step: go to -> (0, 0, 5)\n",
      "📍 Distance to target: 5.22 m\n",
      "📍 Distance to target: 6.42 m\n",
      "📍 Distance to target: 14.97 m\n",
      "📍 Distance to target: 8.76 m\n",
      "📍 Distance to target: 5.03 m\n",
      "📍 Distance to target: 4.97 m\n",
      "📍 Distance to target: 6.20 m\n",
      "📍 Distance to target: 14.84 m\n",
      "📍 Distance to target: 8.50 m\n",
      "📍 Distance to target: 4.97 m\n",
      "📍 Distance to target: 4.71 m\n",
      "📍 Distance to target: 5.96 m\n",
      "📍 Distance to target: 14.65 m\n",
      "📍 Distance to target: 8.25 m\n",
      "📍 Distance to target: 4.84 m\n",
      "📍 Distance to target: 4.45 m\n",
      "📍 Distance to target: 5.72 m\n",
      "📍 Distance to target: 14.44 m\n",
      "📍 Distance to target: 7.99 m\n",
      "📍 Distance to target: 4.65 m\n",
      "📍 Distance to target: 4.19 m\n",
      "📍 Distance to target: 5.48 m\n",
      "📍 Distance to target: 14.21 m\n",
      "📍 Distance to target: 7.73 m\n",
      "📍 Distance to target: 4.44 m\n",
      "📍 Distance to target: 3.94 m\n",
      "📍 Distance to target: 5.23 m\n",
      "📍 Distance to target: 13.97 m\n",
      "📍 Distance to target: 7.48 m\n",
      "📍 Distance to target: 4.21 m\n",
      "📍 Distance to target: 3.68 m\n",
      "📍 Distance to target: 4.99 m\n",
      "📍 Distance to target: 13.73 m\n",
      "📍 Distance to target: 7.22 m\n",
      "📍 Distance to target: 3.97 m\n",
      "📍 Distance to target: 3.43 m\n",
      "📍 Distance to target: 4.74 m\n",
      "📍 Distance to target: 13.48 m\n",
      "📍 Distance to target: 6.96 m\n",
      "📍 Distance to target: 3.73 m\n",
      "📍 Distance to target: 3.17 m\n",
      "📍 Distance to target: 4.49 m\n",
      "📍 Distance to target: 13.24 m\n",
      "📍 Distance to target: 6.71 m\n",
      "📍 Distance to target: 3.48 m\n",
      "📍 Distance to target: 2.92 m\n",
      "📍 Distance to target: 4.24 m\n",
      "📍 Distance to target: 13.00 m\n",
      "📍 Distance to target: 6.45 m\n",
      "📍 Distance to target: 3.24 m\n",
      "📍 Distance to target: 2.67 m\n",
      "📍 Distance to target: 3.99 m\n",
      "📍 Distance to target: 12.75 m\n",
      "📍 Distance to target: 6.20 m\n",
      "📍 Distance to target: 2.99 m\n",
      "📍 Distance to target: 2.42 m\n",
      "📍 Distance to target: 3.74 m\n",
      "📍 Distance to target: 12.50 m\n",
      "📍 Distance to target: 5.94 m\n",
      "📍 Distance to target: 2.75 m\n",
      "📍 Distance to target: 2.17 m\n",
      "📍 Distance to target: 3.48 m\n",
      "📍 Distance to target: 12.25 m\n",
      "📍 Distance to target: 5.69 m\n",
      "📍 Distance to target: 2.50 m\n",
      "📍 Distance to target: 1.92 m\n",
      "📍 Distance to target: 3.23 m\n",
      "📍 Distance to target: 12.00 m\n",
      "📍 Distance to target: 5.44 m\n",
      "📍 Distance to target: 2.25 m\n",
      "📍 Distance to target: 1.67 m\n",
      "📍 Distance to target: 2.97 m\n",
      "📍 Distance to target: 11.75 m\n",
      "📍 Distance to target: 5.18 m\n",
      "📍 Distance to target: 2.00 m\n",
      "📍 Distance to target: 1.42 m\n",
      "📍 Distance to target: 2.72 m\n",
      "📍 Distance to target: 11.50 m\n",
      "📍 Distance to target: 4.93 m\n",
      "📍 Distance to target: 1.74 m\n",
      "📍 Distance to target: 1.16 m\n",
      "📍 Distance to target: 2.46 m\n",
      "📍 Distance to target: 11.25 m\n",
      "📍 Distance to target: 4.68 m\n",
      "📍 Distance to target: 1.49 m\n",
      "📍 Distance to target: 0.91 m\n",
      "📍 Distance to target: 2.21 m\n",
      "📍 Distance to target: 10.99 m\n",
      "📍 Distance to target: 4.43 m\n",
      "📍 Distance to target: 1.23 m\n",
      "📍 Distance to target: 0.67 m\n",
      "📍 Distance to target: 1.96 m\n",
      "📍 Distance to target: 10.74 m\n",
      "📍 Distance to target: 4.18 m\n",
      "📍 Distance to target: 0.98 m\n",
      "📍 Distance to target: 0.44 m\n",
      "✅ Step: go to -> (10, 10, 5) is done\n",
      "Step 'go to -> (10, 0, 5)' is now connected ✅🔗\n",
      "▶️ Starting Step: go to -> (10, 0, 5)\n",
      "📍 Distance to target: 1.70 m\n",
      "📍 Distance to target: 10.48 m\n",
      "📍 Distance to target: 3.93 m\n",
      "📍 Distance to target: 0.73 m\n",
      "📍 Distance to target: 10.01 m\n",
      "📍 Distance to target: 1.45 m\n",
      "📍 Distance to target: 10.23 m\n",
      "📍 Distance to target: 3.68 m\n",
      "📍 Distance to target: 0.50 m\n",
      "📍 Distance to target: 9.96 m\n",
      "📍 Distance to target: 1.19 m\n",
      "📍 Distance to target: 9.97 m\n",
      "📍 Distance to target: 3.43 m\n",
      "📍 Distance to target: 0.31 m\n",
      "✅ Step: go to -> (0, 0, 5) is done\n",
      "✅ Action: Go local is done\n",
      "Action 'Land' is now connected ✅🔗\n",
      "▶️ Starting Action: Land\n",
      "Step 'land' is now connected ✅🔗\n",
      "▶️ Starting Step: land\n",
      "📍 Distance to target: 9.83 m\n",
      "📍 Distance to target: 0.94 m\n",
      "📍 Distance to target: 9.71 m\n",
      "📍 Distance to target: 3.17 m\n",
      "📍 Distance to target: 9.64 m\n",
      "📍 Distance to target: 0.69 m\n",
      "📍 Distance to target: 9.46 m\n",
      "📍 Distance to target: 2.92 m\n",
      "📍 Distance to target: 9.43 m\n",
      "📍 Distance to target: 0.46 m\n",
      "✅ Step: go to -> (7, 0, 5) is done\n",
      "Step 'go to -> (0, 0, 5)' is now connected ✅🔗\n",
      "▶️ Starting Step: go to -> (0, 0, 5)\n",
      "📍 Distance to target: 9.20 m\n",
      "📍 Distance to target: 2.67 m\n",
      "📍 Distance to target: 9.20 m\n",
      "📍 Distance to target: 7.02 m\n",
      "📍 Distance to target: 8.95 m\n",
      "📍 Distance to target: 2.42 m\n",
      "📍 Distance to target: 8.96 m\n",
      "📍 Distance to target: 6.97 m\n",
      "📍 Distance to target: 8.69 m\n",
      "📍 Distance to target: 2.17 m\n",
      "📍 Distance to target: 8.72 m\n",
      "📍 Distance to target: 6.84 m\n",
      "📍 Distance to target: 8.44 m\n",
      "📍 Distance to target: 1.92 m\n",
      "📍 Distance to target: 8.47 m\n",
      "📍 Distance to target: 6.65 m\n",
      "📍 Distance to target: 8.19 m\n",
      "📍 Distance to target: 1.67 m\n",
      "📍 Distance to target: 8.23 m\n",
      "📍 Distance to target: 6.44 m\n",
      "📍 Distance to target: 7.93 m\n",
      "📍 Distance to target: 1.42 m\n",
      "📍 Distance to target: 7.98 m\n",
      "📍 Distance to target: 6.21 m\n",
      "📍 Distance to target: 7.68 m\n",
      "📍 Distance to target: 1.16 m\n",
      "📍 Distance to target: 7.73 m\n",
      "📍 Distance to target: 5.97 m\n",
      "📍 Distance to target: 7.43 m\n",
      "📍 Distance to target: 0.91 m\n",
      "📍 Distance to target: 7.49 m\n",
      "📍 Distance to target: 5.73 m\n",
      "📍 Distance to target: 7.18 m\n",
      "📍 Distance to target: 0.67 m\n",
      "📍 Distance to target: 7.24 m\n",
      "📍 Distance to target: 5.48 m\n",
      "📍 Distance to target: 6.93 m\n",
      "📍 Distance to target: 0.44 m\n",
      "✅ Step: go to -> (12, 12, 5) is done\n",
      "Step 'go to -> (12, 0, 5)' is now connected ✅🔗\n",
      "▶️ Starting Step: go to -> (12, 0, 5)\n",
      "📍 Distance to target: 6.99 m\n",
      "📍 Distance to target: 5.24 m\n",
      "📍 Distance to target: 6.68 m\n",
      "📍 Distance to target: 12.01 m\n",
      "📍 Distance to target: 6.74 m\n",
      "📍 Distance to target: 4.99 m\n",
      "📍 Distance to target: 6.43 m\n",
      "📍 Distance to target: 11.96 m\n",
      "📍 Distance to target: 6.48 m\n",
      "📍 Distance to target: 4.75 m\n",
      "📍 Distance to target: 6.18 m\n",
      "📍 Distance to target: 11.83 m\n",
      "📍 Distance to target: 6.23 m\n",
      "📍 Distance to target: 4.50 m\n",
      "📍 Distance to target: 5.93 m\n",
      "📍 Distance to target: 11.64 m\n",
      "📍 Distance to target: 5.98 m\n",
      "📍 Distance to target: 4.25 m\n",
      "📍 Distance to target: 5.67 m\n",
      "📍 Distance to target: 11.43 m\n",
      "📍 Distance to target: 5.72 m\n",
      "📍 Distance to target: 4.00 m\n",
      "📍 Distance to target: 5.42 m\n",
      "📍 Distance to target: 11.20 m\n",
      "📍 Distance to target: 5.47 m\n",
      "📍 Distance to target: 3.75 m\n",
      "📍 Distance to target: 5.17 m\n",
      "📍 Distance to target: 10.96 m\n",
      "📍 Distance to target: 5.21 m\n",
      "📍 Distance to target: 3.50 m\n",
      "📍 Distance to target: 4.92 m\n",
      "📍 Distance to target: 10.72 m\n",
      "📍 Distance to target: 4.96 m\n",
      "📍 Distance to target: 3.25 m\n",
      "📍 Distance to target: 4.67 m\n",
      "📍 Distance to target: 10.48 m\n",
      "📍 Distance to target: 4.70 m\n",
      "📍 Distance to target: 2.99 m\n",
      "📍 Distance to target: 4.42 m\n",
      "📍 Distance to target: 10.23 m\n",
      "📍 Distance to target: 4.45 m\n",
      "📍 Distance to target: 2.74 m\n",
      "📍 Distance to target: 4.17 m\n",
      "📍 Distance to target: 9.99 m\n",
      "📍 Distance to target: 4.19 m\n",
      "📍 Distance to target: 2.48 m\n",
      "📍 Distance to target: 3.92 m\n",
      "📍 Distance to target: 9.74 m\n",
      "📍 Distance to target: 3.94 m\n",
      "📍 Distance to target: 2.23 m\n",
      "📍 Distance to target: 3.66 m\n",
      "📍 Distance to target: 9.49 m\n",
      "📍 Distance to target: 3.68 m\n",
      "📍 Distance to target: 1.97 m\n",
      "📍 Distance to target: 3.41 m\n",
      "📍 Distance to target: 9.24 m\n",
      "📍 Distance to target: 3.43 m\n",
      "📍 Distance to target: 1.71 m\n",
      "📍 Distance to target: 3.16 m\n",
      "📍 Distance to target: 8.99 m\n",
      "📍 Distance to target: 3.18 m\n",
      "📍 Distance to target: 1.46 m\n",
      "📍 Distance to target: 2.91 m\n",
      "📍 Distance to target: 8.73 m\n",
      "📍 Distance to target: 2.92 m\n",
      "📍 Distance to target: 1.20 m\n",
      "📍 Distance to target: 2.66 m\n",
      "📍 Distance to target: 8.48 m\n",
      "📍 Distance to target: 2.67 m\n",
      "📍 Distance to target: 0.95 m\n",
      "📍 Distance to target: 2.41 m\n",
      "📍 Distance to target: 8.23 m\n",
      "📍 Distance to target: 2.42 m\n",
      "📍 Distance to target: 0.70 m\n",
      "📍 Distance to target: 2.16 m\n",
      "📍 Distance to target: 7.97 m\n",
      "📍 Distance to target: 2.16 m\n",
      "📍 Distance to target: 0.47 m\n",
      "✅ Step: go to -> (0, 0, 5) is done\n",
      "✅ Action: Go local is done\n",
      "Action 'Land' is now connected ✅🔗\n",
      "▶️ Starting Action: Land\n",
      "Step 'land' is now connected ✅🔗\n",
      "▶️ Starting Step: land\n",
      "📍 Distance to target: 1.92 m\n",
      "📍 Distance to target: 7.72 m\n",
      "📍 Distance to target: 1.91 m\n",
      "📍 Distance to target: 1.67 m\n",
      "📍 Distance to target: 7.46 m\n",
      "📍 Distance to target: 1.66 m\n",
      "📍 Distance to target: 1.42 m\n",
      "📍 Distance to target: 7.21 m\n",
      "📍 Distance to target: 1.41 m\n",
      "📍 Distance to target: 1.17 m\n",
      "📍 Distance to target: 6.95 m\n",
      "📍 Distance to target: 1.16 m\n",
      "📍 Distance to target: 0.92 m\n",
      "📍 Distance to target: 6.70 m\n",
      "📍 Distance to target: 0.91 m\n",
      "📍 Distance to target: 0.67 m\n",
      "📍 Distance to target: 6.45 m\n",
      "📍 Distance to target: 0.66 m\n",
      "📍 Distance to target: 0.45 m\n",
      "✅ Step: go to -> (15, 15, 5) is done\n",
      "Step 'go to -> (15, 0, 5)' is now connected ✅🔗\n",
      "▶️ Starting Step: go to -> (15, 0, 5)\n",
      "📍 Distance to target: 6.19 m\n",
      "📍 Distance to target: 0.44 m\n",
      "✅ Step: go to -> (10, 0, 5) is done\n",
      "Step 'go to -> (0, 0, 5)' is now connected ✅🔗\n",
      "▶️ Starting Step: go to -> (0, 0, 5)\n",
      "📍 Distance to target: 15.01 m\n",
      "📍 Distance to target: 5.94 m\n",
      "📍 Distance to target: 10.02 m\n",
      "📍 Distance to target: 14.96 m\n",
      "📍 Distance to target: 5.69 m\n",
      "📍 Distance to target: 9.97 m\n",
      "📍 Distance to target: 14.83 m\n",
      "📍 Distance to target: 5.43 m\n",
      "📍 Distance to target: 9.84 m\n",
      "📍 Distance to target: 14.64 m\n",
      "📍 Distance to target: 5.18 m\n",
      "📍 Distance to target: 9.66 m\n",
      "📍 Distance to target: 14.43 m\n",
      "📍 Distance to target: 4.93 m\n",
      "📍 Distance to target: 9.45 m\n",
      "📍 Distance to target: 14.21 m\n",
      "📍 Distance to target: 4.68 m\n",
      "📍 Distance to target: 9.22 m\n",
      "📍 Distance to target: 13.97 m\n",
      "📍 Distance to target: 4.42 m\n",
      "📍 Distance to target: 8.98 m\n",
      "📍 Distance to target: 13.73 m\n",
      "📍 Distance to target: 4.17 m\n",
      "📍 Distance to target: 8.73 m\n",
      "📍 Distance to target: 13.48 m\n",
      "📍 Distance to target: 3.92 m\n",
      "✅ Step: land is done\n",
      "✅ Action: Land is done\n",
      "📍 Distance to target: 8.49 m\n",
      "📍 Distance to target: 13.23 m\n",
      "📍 Distance to target: 3.67 m\n",
      "📍 Distance to target: 8.24 m\n",
      "📍 Distance to target: 12.98 m\n",
      "📍 Distance to target: 3.42 m\n",
      "📍 Distance to target: 7.99 m\n",
      "📍 Distance to target: 12.73 m\n",
      "📍 Distance to target: 3.16 m\n",
      "📍 Distance to target: 7.75 m\n",
      "📍 Distance to target: 12.48 m\n",
      "📍 Distance to target: 2.91 m\n",
      "📍 Distance to target: 7.50 m\n",
      "📍 Distance to target: 12.23 m\n",
      "📍 Distance to target: 2.66 m\n",
      "📍 Distance to target: 7.25 m\n",
      "📍 Distance to target: 11.98 m\n",
      "📍 Distance to target: 2.41 m\n",
      "📍 Distance to target: 7.00 m\n",
      "📍 Distance to target: 11.73 m\n",
      "📍 Distance to target: 2.16 m\n",
      "📍 Distance to target: 6.74 m\n",
      "📍 Distance to target: 11.48 m\n",
      "📍 Distance to target: 1.91 m\n",
      "📍 Distance to target: 6.49 m\n",
      "📍 Distance to target: 11.22 m\n",
      "📍 Distance to target: 1.66 m\n",
      "📍 Distance to target: 6.24 m\n",
      "📍 Distance to target: 10.97 m\n",
      "📍 Distance to target: 1.41 m\n",
      "📍 Distance to target: 5.99 m\n",
      "📍 Distance to target: 10.72 m\n",
      "📍 Distance to target: 1.16 m\n",
      "📍 Distance to target: 5.74 m\n",
      "📍 Distance to target: 10.46 m\n",
      "📍 Distance to target: 0.91 m\n",
      "📍 Distance to target: 5.48 m\n",
      "📍 Distance to target: 10.21 m\n",
      "📍 Distance to target: 0.66 m\n",
      "📍 Distance to target: 5.23 m\n",
      "📍 Distance to target: 9.95 m\n",
      "📍 Distance to target: 0.44 m\n",
      "✅ Step: go to -> (12, 0, 5) is done\n",
      "Step 'go to -> (0, 0, 5)' is now connected ✅🔗\n",
      "▶️ Starting Step: go to -> (0, 0, 5)\n",
      "📍 Distance to target: 4.97 m\n",
      "📍 Distance to target: 9.70 m\n",
      "📍 Distance to target: 12.02 m\n",
      "📍 Distance to target: 4.71 m\n",
      "📍 Distance to target: 9.44 m\n",
      "📍 Distance to target: 11.97 m\n",
      "📍 Distance to target: 4.46 m\n",
      "📍 Distance to target: 9.19 m\n",
      "📍 Distance to target: 11.84 m\n",
      "📍 Distance to target: 4.20 m\n",
      "📍 Distance to target: 8.94 m\n",
      "📍 Distance to target: 11.66 m\n",
      "📍 Distance to target: 3.95 m\n",
      "📍 Distance to target: 8.68 m\n",
      "📍 Distance to target: 11.45 m\n",
      "📍 Distance to target: 3.69 m\n",
      "📍 Distance to target: 8.43 m\n",
      "📍 Distance to target: 11.22 m\n",
      "📍 Distance to target: 3.44 m\n",
      "📍 Distance to target: 8.18 m\n",
      "📍 Distance to target: 10.98 m\n",
      "📍 Distance to target: 3.19 m\n",
      "📍 Distance to target: 7.93 m\n",
      "📍 Distance to target: 10.73 m\n",
      "📍 Distance to target: 2.93 m\n",
      "📍 Distance to target: 7.67 m\n",
      "📍 Distance to target: 10.49 m\n",
      "📍 Distance to target: 2.68 m\n",
      "📍 Distance to target: 7.42 m\n",
      "📍 Distance to target: 10.24 m\n",
      "📍 Distance to target: 2.43 m\n",
      "📍 Distance to target: 7.17 m\n",
      "📍 Distance to target: 9.99 m\n",
      "📍 Distance to target: 2.18 m\n",
      "📍 Distance to target: 6.92 m\n",
      "📍 Distance to target: 9.74 m\n",
      "📍 Distance to target: 1.93 m\n",
      "📍 Distance to target: 6.67 m\n",
      "📍 Distance to target: 9.49 m\n",
      "📍 Distance to target: 1.67 m\n",
      "📍 Distance to target: 6.42 m\n",
      "📍 Distance to target: 9.24 m\n",
      "📍 Distance to target: 1.42 m\n",
      "📍 Distance to target: 6.17 m\n",
      "📍 Distance to target: 8.99 m\n",
      "📍 Distance to target: 1.17 m\n",
      "📍 Distance to target: 5.91 m\n",
      "📍 Distance to target: 8.74 m\n",
      "📍 Distance to target: 0.92 m\n",
      "📍 Distance to target: 5.66 m\n",
      "📍 Distance to target: 8.49 m\n",
      "📍 Distance to target: 0.67 m\n",
      "📍 Distance to target: 5.41 m\n",
      "✅ Step: land is done\n",
      "✅ Action: Land is done\n",
      "📍 Distance to target: 8.23 m\n",
      "📍 Distance to target: 0.45 m\n",
      "✅ Step: go to -> (0, 0, 5) is done\n",
      "✅ Action: Go local is done\n",
      "Action 'Land' is now connected ✅🔗\n",
      "▶️ Starting Action: Land\n",
      "Step 'land' is now connected ✅🔗\n",
      "▶️ Starting Step: land\n",
      "📍 Distance to target: 5.16 m\n",
      "📍 Distance to target: 7.98 m\n",
      "📍 Distance to target: 4.91 m\n",
      "📍 Distance to target: 7.73 m\n",
      "📍 Distance to target: 4.66 m\n",
      "📍 Distance to target: 7.47 m\n",
      "📍 Distance to target: 4.41 m\n",
      "📍 Distance to target: 7.22 m\n",
      "📍 Distance to target: 4.16 m\n",
      "📍 Distance to target: 6.97 m\n",
      "📍 Distance to target: 3.91 m\n",
      "📍 Distance to target: 6.71 m\n",
      "📍 Distance to target: 3.66 m\n",
      "📍 Distance to target: 6.46 m\n",
      "📍 Distance to target: 3.41 m\n",
      "📍 Distance to target: 6.21 m\n",
      "📍 Distance to target: 3.16 m\n",
      "📍 Distance to target: 5.95 m\n",
      "📍 Distance to target: 2.91 m\n",
      "📍 Distance to target: 5.70 m\n",
      "📍 Distance to target: 2.66 m\n",
      "📍 Distance to target: 5.45 m\n",
      "📍 Distance to target: 2.41 m\n",
      "📍 Distance to target: 5.19 m\n",
      "📍 Distance to target: 2.16 m\n",
      "📍 Distance to target: 4.94 m\n",
      "📍 Distance to target: 1.91 m\n",
      "📍 Distance to target: 4.69 m\n",
      "📍 Distance to target: 1.66 m\n",
      "📍 Distance to target: 4.43 m\n",
      "📍 Distance to target: 1.40 m\n",
      "📍 Distance to target: 4.18 m\n",
      "📍 Distance to target: 1.16 m\n",
      "📍 Distance to target: 3.93 m\n",
      "📍 Distance to target: 0.91 m\n",
      "📍 Distance to target: 3.68 m\n",
      "📍 Distance to target: 0.66 m\n",
      "📍 Distance to target: 3.43 m\n",
      "📍 Distance to target: 0.44 m\n",
      "✅ Step: go to -> (15, 0, 5) is done\n",
      "Step 'go to -> (0, 0, 5)' is now connected ✅🔗\n",
      "▶️ Starting Step: go to -> (0, 0, 5)\n",
      "📍 Distance to target: 3.18 m\n",
      "📍 Distance to target: 15.02 m\n",
      "📍 Distance to target: 2.92 m\n",
      "📍 Distance to target: 14.97 m\n",
      "📍 Distance to target: 2.67 m\n",
      "📍 Distance to target: 14.83 m\n",
      "📍 Distance to target: 2.42 m\n",
      "📍 Distance to target: 14.65 m\n",
      "📍 Distance to target: 2.17 m\n",
      "📍 Distance to target: 14.44 m\n",
      "📍 Distance to target: 1.92 m\n",
      "📍 Distance to target: 14.21 m\n",
      "📍 Distance to target: 1.67 m\n",
      "📍 Distance to target: 13.97 m\n",
      "📍 Distance to target: 1.42 m\n",
      "📍 Distance to target: 13.73 m\n",
      "📍 Distance to target: 1.17 m\n",
      "📍 Distance to target: 13.48 m\n",
      "📍 Distance to target: 0.92 m\n",
      "📍 Distance to target: 13.24 m\n",
      "📍 Distance to target: 0.68 m\n",
      "📍 Distance to target: 12.99 m\n",
      "📍 Distance to target: 0.45 m\n",
      "✅ Step: go to -> (0, 0, 5) is done\n",
      "✅ Action: Go local is done\n",
      "Action 'Land' is now connected ✅🔗\n",
      "▶️ Starting Action: Land\n",
      "Step 'land' is now connected ✅🔗\n",
      "▶️ Starting Step: land\n",
      "📍 Distance to target: 12.74 m\n",
      "📍 Distance to target: 12.49 m\n",
      "📍 Distance to target: 12.24 m\n",
      "📍 Distance to target: 11.99 m\n",
      "📍 Distance to target: 11.74 m\n",
      "📍 Distance to target: 11.48 m\n",
      "📍 Distance to target: 11.23 m\n",
      "📍 Distance to target: 10.98 m\n",
      "📍 Distance to target: 10.72 m\n",
      "📍 Distance to target: 10.47 m\n",
      "📍 Distance to target: 10.22 m\n",
      "📍 Distance to target: 9.96 m\n",
      "📍 Distance to target: 9.71 m\n",
      "📍 Distance to target: 9.45 m\n",
      "📍 Distance to target: 9.20 m\n",
      "📍 Distance to target: 8.95 m\n",
      "✅ Step: land is done\n",
      "✅ Action: Land is done\n",
      "📍 Distance to target: 8.69 m\n",
      "📍 Distance to target: 8.44 m\n",
      "📍 Distance to target: 8.19 m\n",
      "📍 Distance to target: 7.94 m\n",
      "📍 Distance to target: 7.68 m\n",
      "📍 Distance to target: 7.43 m\n",
      "📍 Distance to target: 7.18 m\n",
      "📍 Distance to target: 6.93 m\n",
      "📍 Distance to target: 6.67 m\n",
      "📍 Distance to target: 6.42 m\n",
      "📍 Distance to target: 6.17 m\n",
      "📍 Distance to target: 5.92 m\n",
      "📍 Distance to target: 5.67 m\n",
      "📍 Distance to target: 5.42 m\n",
      "📍 Distance to target: 5.17 m\n",
      "📍 Distance to target: 4.92 m\n",
      "📍 Distance to target: 4.67 m\n",
      "📍 Distance to target: 4.42 m\n",
      "📍 Distance to target: 4.17 m\n",
      "📍 Distance to target: 3.92 m\n",
      "📍 Distance to target: 3.67 m\n",
      "📍 Distance to target: 3.41 m\n",
      "📍 Distance to target: 3.16 m\n",
      "📍 Distance to target: 2.91 m\n",
      "📍 Distance to target: 2.66 m\n",
      "📍 Distance to target: 2.41 m\n"
     ]
    }
   ],
   "source": [
    "mission_incomplete = n_uavs*[True]\n",
    "while any(mission_incomplete):\n",
    "    for i,uav in enumerate(uavs):\n",
    "        mission_incomplete[i] = not uav.act_plan()"
   ]
  },
  {
   "cell_type": "markdown",
   "metadata": {},
   "source": [
    "## Kill all related process"
   ]
  },
  {
   "cell_type": "code",
   "execution_count": null,
   "metadata": {},
   "outputs": [],
   "source": [
    "for process in [\"QGroundControl\", \"sim_vehicle.py\", \"arducopter\", \"gazebo\", \"mavproxy\"]:\n",
    "    os.system(f\"pkill -9 -f {process}\")"
   ]
  }
 ],
 "metadata": {
  "kernelspec": {
   "display_name": "Python 3",
   "language": "python",
   "name": "python3"
  },
  "language_info": {
   "codemirror_mode": {
    "name": "ipython",
    "version": 3
   },
   "file_extension": ".py",
   "mimetype": "text/x-python",
   "name": "python",
   "nbconvert_exporter": "python",
   "pygments_lexer": "ipython3",
   "version": "3.9.21"
  }
 },
 "nbformat": 4,
 "nbformat_minor": 2
}
