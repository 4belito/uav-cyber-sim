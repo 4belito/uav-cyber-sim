{
 "cells": [
  {
   "cell_type": "markdown",
   "metadata": {},
   "source": [
    "## Simple Mission in Guided-Mode\n",
    "\n",
    "This notebook serves to get familiar with the simulator"
   ]
  },
  {
   "cell_type": "code",
   "execution_count": 1,
   "metadata": {},
   "outputs": [],
   "source": [
    "import os\n",
    "import time\n",
    "\n",
    "from config import (\n",
    "    ARDU_LOGS_PATH,\n",
    "    ARDUPILOT_VEHICLE_PATH,\n",
    "    ENV_CMD_PYT,\n",
    "    VEH_PARAMS_PATH,\n",
    "    BasePort,\n",
    ")\n",
    "from helpers import clean, create_process, setup_logging\n",
    "from mavlink.connections import create_tcp_conn\n",
    "from plan import State\n",
    "from plan.planner import Plan\n",
    "\n",
    "clean()"
   ]
  },
  {
   "cell_type": "markdown",
   "metadata": {},
   "source": [
    "## Launch Copter (ardupilot)"
   ]
  },
  {
   "cell_type": "code",
   "execution_count": 2,
   "metadata": {},
   "outputs": [
    {
     "data": {
      "text/plain": [
       "<Popen: returncode: None args: ['xterm', '-T', 'ardu_vehicle', '-geometry', ...>"
      ]
     },
     "execution_count": 2,
     "metadata": {},
     "output_type": "execute_result"
    }
   ],
   "source": [
    "#This must agree with first waypoint in mission.waypoint\n",
    "spawn_str= '-35.3633245,149.1652241,0.0,0' \n",
    "\n",
    "sim_vehicle_path = os.path.expanduser(ARDUPILOT_VEHICLE_PATH)\n",
    "sysid = 1\n",
    "vehicle_cmd = (\n",
    "    f\"python3 {sim_vehicle_path} \"\n",
    "    f\"-v ArduCopter \"\n",
    "    f\"-I{sysid-1} --sysid {sysid} \"\n",
    "    f\"--no-rebuild \"\n",
    "    f\"--use-dir={ARDU_LOGS_PATH} \"\n",
    "    f\"--add-param-file {VEH_PARAMS_PATH} \"\n",
    "    f\"--no-mavproxy \"\n",
    "    f\"--port-offset=0 \"  # ArduPilot automatically binds TCP port 5760 (BasePort.ARP)\n",
    "    f'--custom-location={spawn_str}'\n",
    ")\n",
    "\n",
    "create_process(\n",
    "                vehicle_cmd,\n",
    "                after=\"exec bash\",\n",
    "                visible= True,\n",
    "                suppress_output=False,\n",
    "                title=\"ardu_vehicle\",\n",
    "                env_cmd=ENV_CMD_PYT,\n",
    "            )"
   ]
  },
  {
   "cell_type": "markdown",
   "metadata": {},
   "source": [
    "## Connect to the vehicle"
   ]
  },
  {
   "cell_type": "code",
   "execution_count": 3,
   "metadata": {},
   "outputs": [
    {
     "name": "stdout",
     "output_type": "stream",
     "text": [
      "[Errno 111] Connection refused sleeping\n",
      "[Errno 111] Connection refused sleeping\n"
     ]
    },
    {
     "name": "stderr",
     "output_type": "stream",
     "text": [
      "ERROR:root:Failed to create TCP connection on port 5760: [Errno 111] Connection refused\n"
     ]
    },
    {
     "name": "stdout",
     "output_type": "stream",
     "text": [
      "⏳ Waiting for ArduPilot TCP connection...\n",
      "[Errno 111] Connection refused sleeping\n",
      "[Errno 111] Connection refused sleeping\n"
     ]
    },
    {
     "name": "stderr",
     "output_type": "stream",
     "text": [
      "ERROR:root:Failed to create TCP connection on port 5760: [Errno 111] Connection refused\n"
     ]
    },
    {
     "name": "stdout",
     "output_type": "stream",
     "text": [
      "⏳ Waiting for ArduPilot TCP connection...\n",
      "[Errno 111] Connection refused sleeping\n",
      "[Errno 111] Connection refused sleeping\n"
     ]
    },
    {
     "name": "stderr",
     "output_type": "stream",
     "text": [
      "ERROR:root:Failed to create TCP connection on port 5760: [Errno 111] Connection refused\n"
     ]
    },
    {
     "name": "stdout",
     "output_type": "stream",
     "text": [
      "⏳ Waiting for ArduPilot TCP connection...\n",
      "[Errno 111] Connection refused sleeping\n",
      "[Errno 111] Connection refused sleeping\n"
     ]
    },
    {
     "name": "stderr",
     "output_type": "stream",
     "text": [
      "ERROR:root:Failed to create TCP connection on port 5760: [Errno 111] Connection refused\n"
     ]
    },
    {
     "name": "stdout",
     "output_type": "stream",
     "text": [
      "⏳ Waiting for ArduPilot TCP connection...\n",
      "[Errno 111] Connection refused sleeping\n",
      "[Errno 111] Connection refused sleeping\n"
     ]
    },
    {
     "name": "stderr",
     "output_type": "stream",
     "text": [
      "ERROR:root:Failed to create TCP connection on port 5760: [Errno 111] Connection refused\n"
     ]
    },
    {
     "name": "stdout",
     "output_type": "stream",
     "text": [
      "⏳ Waiting for ArduPilot TCP connection...\n",
      "[Errno 111] Connection refused sleeping\n",
      "[Errno 111] Connection refused sleeping\n"
     ]
    },
    {
     "name": "stderr",
     "output_type": "stream",
     "text": [
      "ERROR:root:Failed to create TCP connection on port 5760: [Errno 111] Connection refused\n"
     ]
    },
    {
     "name": "stdout",
     "output_type": "stream",
     "text": [
      "⏳ Waiting for ArduPilot TCP connection...\n",
      "[Errno 111] Connection refused sleeping\n",
      "[Errno 111] Connection refused sleeping\n",
      "✅ TCP connection established!\n"
     ]
    }
   ],
   "source": [
    "while True:\n",
    "    try:\n",
    "        conn = create_tcp_conn(\n",
    "            base_port=BasePort.ARP, \n",
    "            offset=0,\n",
    "            role=\"client\", \n",
    "            sysid=sysid\n",
    "        )\n",
    "        break \n",
    "    except Exception:\n",
    "        print(\"⏳ Waiting for ArduPilot TCP connection...\")\n",
    "        time.sleep(0.5)\n",
    "\n",
    "print(\"✅ TCP connection established!\")"
   ]
  },
  {
   "cell_type": "markdown",
   "metadata": {},
   "source": [
    "## Create Plan in guided mode\n",
    "\n",
    "Action commands are sent online, in contrast to auto mode where the full plan is loaded into the UAV before starting the mission."
   ]
  },
  {
   "cell_type": "code",
   "execution_count": 4,
   "metadata": {},
   "outputs": [],
   "source": [
    "plan = Plan.square(side_len=5, alt=5, wp_margin=0.5, navegation_speed=5)"
   ]
  },
  {
   "cell_type": "code",
   "execution_count": 5,
   "metadata": {},
   "outputs": [
    {
     "data": {
      "text/plain": [
       "🕓 <Plan '📋 Square Trajectory'>\n",
       "  🕓 <Action '🔧 PREARM'>\n",
       "    🕓 <Step '🔹 Check disarmed'>\n",
       "    🕓 <Step '🔹 Check EKF status'>\n",
       "    🕓 <Step '🔹 Check GPS'>\n",
       "    🕓 <Step '🔹 Check system'>\n",
       "  🕓 <Action '⚙️  MODE: GUIDED'>\n",
       "    🕓 <Step '🔹 Switch to GUIDED'>\n",
       "  🕓 <Action '🔐 ARM'>\n",
       "    🕓 <Step '🔹 arm'>\n",
       "  🕓 <Action '🛫 TAKEOFF'>\n",
       "    🕓 <Step '🔹 takeoff'>\n",
       "  🕓 <Action '🛩️ FLY'>\n",
       "    🕓 <Step '🔹 go to  -> (0, 0, 5)'>\n",
       "    🕓 <Step '🔹 go to  -> (0, 5, 5)'>\n",
       "    🕓 <Step '🔹 go to  -> (5, 5, 5)'>\n",
       "    🕓 <Step '🔹 go to  -> (5, 0, 5)'>\n",
       "    🕓 <Step '🔹 go to  -> (0, 0, 5)'>\n",
       "  🕓 <Action '🛬 LAND'>\n",
       "    🕓 <Step '🔹 land'>"
      ]
     },
     "execution_count": 5,
     "metadata": {},
     "output_type": "execute_result"
    }
   ],
   "source": [
    "plan"
   ]
  },
  {
   "cell_type": "markdown",
   "metadata": {},
   "source": [
    "# Execute Plan in guided mode"
   ]
  },
  {
   "cell_type": "code",
   "execution_count": 6,
   "metadata": {},
   "outputs": [
    {
     "name": "stderr",
     "output_type": "stream",
     "text": [
      "13:09:59 - plan - DEBUG - ▶️ Vehicle 1: Plan Started: 📋 Square Trajectory\n",
      "13:09:59 - plan - DEBUG - ▶️ Vehicle 1: Action Started: 🔧 PREARM\n",
      "13:09:59 - plan - DEBUG - ▶️ Vehicle 1: Step Started: Check disarmed\n",
      "13:09:59 - plan - DEBUG - ✅ Vehicle 1: Step Done: Check disarmed\n",
      "13:09:59 - plan - DEBUG - Vehicle 1: 📡 Requested message EKF_STATUS_REPORT at 1.00 Hz\n",
      "13:09:59 - plan - DEBUG - ▶️ Vehicle 1: Step Started: Check EKF status\n",
      "13:10:02 - plan - DEBUG - 🛰️ Vehicle 1: Waiting for EKF to be ready... Pending: ATTITUDE, VELOCITY_HORIZ, POS_VERT_ABS, POS_HORIZ_ABS\n",
      "13:10:03 - plan - DEBUG - 🛰️ Vehicle 1: Waiting for EKF to be ready... Pending: ATTITUDE, VELOCITY_HORIZ, POS_VERT_ABS, POS_HORIZ_ABS\n",
      "13:10:04 - plan - DEBUG - 🛰️ Vehicle 1: Waiting for EKF to be ready... Pending: POS_HORIZ_ABS\n",
      "13:10:05 - plan - DEBUG - 🛰️ Vehicle 1: Waiting for EKF to be ready... Pending: POS_HORIZ_ABS\n",
      "13:10:06 - plan - DEBUG - 🛰️ Vehicle 1: Waiting for EKF to be ready... Pending: POS_HORIZ_ABS\n",
      "13:10:07 - plan - DEBUG - 🛰️ Vehicle 1: Waiting for EKF to be ready... Pending: POS_HORIZ_ABS\n",
      "13:10:08 - plan - DEBUG - 🛰️ Vehicle 1: Waiting for EKF to be ready... Pending: POS_HORIZ_ABS\n",
      "13:10:09 - plan - DEBUG - 🛰️ Vehicle 1: Waiting for EKF to be ready... Pending: POS_HORIZ_ABS\n",
      "13:10:10 - plan - DEBUG - 🛰️ Vehicle 1: Waiting for EKF to be ready... Pending: POS_HORIZ_ABS\n",
      "13:10:11 - plan - DEBUG - 🛰️ Vehicle 1: Waiting for EKF to be ready... Pending: POS_HORIZ_ABS\n",
      "13:10:12 - plan - DEBUG - 🛰️ Vehicle 1: Waiting for EKF to be ready... Pending: POS_HORIZ_ABS\n",
      "13:10:13 - plan - DEBUG - 🛰️ Vehicle 1: Waiting for EKF to be ready... Pending: POS_HORIZ_ABS\n",
      "13:10:14 - plan - DEBUG - 🛰️ Vehicle 1: Waiting for EKF to be ready... Pending: POS_HORIZ_ABS\n",
      "13:10:15 - plan - DEBUG - 🛰️ Vehicle 1: Waiting for EKF to be ready... Pending: POS_HORIZ_ABS\n",
      "13:10:16 - plan - DEBUG - 🛰️ Vehicle 1: Waiting for EKF to be ready... Pending: POS_HORIZ_ABS\n",
      "13:10:17 - plan - DEBUG - 🛰️ Vehicle 1: Waiting for EKF to be ready... Pending: POS_HORIZ_ABS\n",
      "13:10:18 - plan - DEBUG - 🛰️ Vehicle 1: Waiting for EKF to be ready... Pending: POS_HORIZ_ABS\n",
      "13:10:19 - plan - DEBUG - 🛰️ Vehicle 1: Waiting for EKF to be ready... Pending: POS_HORIZ_ABS\n",
      "13:10:20 - plan - DEBUG - 🛰️ Vehicle 1: Waiting for EKF to be ready... Pending: POS_HORIZ_ABS\n",
      "13:10:21 - plan - DEBUG - 🛰️ Vehicle 1: Waiting for EKF to be ready... Pending: POS_HORIZ_ABS\n",
      "13:10:22 - plan - DEBUG - 🛰️ Vehicle 1: Waiting for EKF to be ready... Pending: POS_HORIZ_ABS\n",
      "13:10:23 - plan - DEBUG - 🛰️ Vehicle 1: Waiting for EKF to be ready... Pending: POS_HORIZ_ABS\n",
      "13:10:24 - plan - DEBUG - 🛰️ Vehicle 1: Waiting for EKF to be ready... Pending: POS_HORIZ_ABS\n",
      "13:10:25 - plan - DEBUG - 🛰️ Vehicle 1: Waiting for EKF to be ready... Pending: POS_HORIZ_ABS\n",
      "13:10:26 - plan - DEBUG - 🛰️ Vehicle 1: Waiting for EKF to be ready... Pending: POS_HORIZ_ABS\n",
      "13:10:27 - plan - DEBUG - 🛰️ Vehicle 1: Waiting for EKF to be ready... Pending: POS_HORIZ_ABS\n",
      "13:10:28 - plan - DEBUG - 🛰️ Vehicle 1: Waiting for EKF to be ready... Pending: POS_HORIZ_ABS\n",
      "13:10:29 - plan - DEBUG - 🛰️ Vehicle 1: Waiting for EKF to be ready... Pending: POS_HORIZ_ABS\n",
      "13:10:30 - plan - DEBUG - 🛰️ Vehicle 1: Waiting for EKF to be ready... Pending: POS_HORIZ_ABS\n",
      "13:10:31 - plan - DEBUG - 🛰️ Vehicle 1: Waiting for EKF to be ready... Pending: POS_HORIZ_ABS\n",
      "13:10:32 - plan - DEBUG - 🛰️ Vehicle 1: Waiting for EKF to be ready... Pending: POS_HORIZ_ABS\n",
      "13:10:33 - plan - DEBUG - 🛰️ Vehicle 1: Waiting for EKF to be ready... Pending: POS_HORIZ_ABS\n",
      "13:10:34 - plan - DEBUG - 🛰️ Vehicle 1: Waiting for EKF to be ready... Pending: POS_HORIZ_ABS\n",
      "13:10:35 - plan - DEBUG - 🛰️ Vehicle 1: Waiting for EKF to be ready... Pending: POS_HORIZ_ABS\n",
      "13:10:36 - plan - DEBUG - 🛰️ Vehicle 1: Waiting for EKF to be ready... Pending: POS_HORIZ_ABS\n",
      "13:10:37 - plan - DEBUG - 🛰️ Vehicle 1: Waiting for EKF to be ready... Pending: POS_HORIZ_ABS\n",
      "13:10:38 - plan - DEBUG - 🛰️ Vehicle 1: Waiting for EKF to be ready... Pending: POS_HORIZ_ABS\n",
      "13:10:39 - plan - DEBUG - 🛰️ Vehicle 1: Waiting for EKF to be ready... Pending: POS_HORIZ_ABS\n",
      "13:10:40 - plan - DEBUG - ✅ Vehicle 1: Step Done: Check EKF status\n",
      "13:10:40 - plan - DEBUG - Vehicle 1: 📡 Requested message GPS_RAW_INT at 1.00 Hz\n",
      "13:10:40 - plan - DEBUG - ▶️ Vehicle 1: Step Started: Check GPS\n",
      "13:10:41 - plan - DEBUG - ✅ Vehicle 1: Step Done: Check GPS\n",
      "13:10:41 - plan - DEBUG - Vehicle 1: 📡 Requested message SYS_STATUS at 1.00 Hz\n",
      "13:10:41 - plan - DEBUG - ▶️ Vehicle 1: Step Started: Check system\n",
      "13:10:43 - plan - DEBUG - ✅ Vehicle 1: Step Done: Check system\n",
      "13:10:43 - plan - INFO - ✅ Vehicle 1: Action Done: 🔧 PREARM\n",
      "13:10:43 - plan - DEBUG - ▶️ Vehicle 1: Action Started: ⚙️  MODE: GUIDED\n",
      "13:10:43 - plan - DEBUG - ▶️ Vehicle 1: Step Started: Switch to GUIDED\n",
      "13:10:43 - plan - DEBUG - ✅ Vehicle 1: Step Done: Switch to GUIDED\n",
      "13:10:43 - plan - INFO - ✅ Vehicle 1: Action Done: ⚙️  MODE: GUIDED\n",
      "13:10:43 - plan - DEBUG - ▶️ Vehicle 1: Action Started: 🔐 ARM\n",
      "13:10:43 - plan - DEBUG - ▶️ Vehicle 1: Step Started: arm\n",
      "13:10:44 - plan - DEBUG - ✅ Vehicle 1: Step Done: arm\n",
      "13:10:44 - plan - INFO - ✅ Vehicle 1: Action Done: 🔐 ARM\n",
      "13:10:44 - plan - DEBUG - ▶️ Vehicle 1: Action Started: 🛫 TAKEOFF\n",
      "13:10:44 - plan - DEBUG - Vehicle 1: 📡 Requested message EXTENDED_SYS_STATE at 1.00 Hz\n",
      "13:10:44 - plan - DEBUG - ▶️ Vehicle 1: Step Started: takeoff\n",
      "13:10:47 - plan - DEBUG - ✅ Vehicle 1: Step Done: takeoff\n",
      "13:10:47 - plan - INFO - ✅ Vehicle 1: Action Done: 🛫 TAKEOFF\n",
      "13:10:47 - plan - DEBUG - ▶️ Vehicle 1: Action Started: 🛩️ FLY\n",
      "13:10:47 - plan - DEBUG - Vehicle 1: 📡 Requested message LOCAL_POSITION_NED at 10.00 Hz\n",
      "13:10:47 - plan - DEBUG - ▶️ Vehicle 1: Step Started: go to  -> (0, 0, 5)\n",
      "13:10:48 - plan - DEBUG - 📍 Vehicle 1: Distance to target: 3.54 m\n",
      "13:10:49 - plan - DEBUG - 📍 Vehicle 1: Distance to target: 3.36 m\n",
      "13:10:49 - plan - DEBUG - 📍 Vehicle 1: Distance to target: 3.18 m\n",
      "13:10:49 - plan - DEBUG - 📍 Vehicle 1: Distance to target: 2.99 m\n",
      "13:10:49 - plan - DEBUG - 📍 Vehicle 1: Distance to target: 2.81 m\n",
      "13:10:49 - plan - DEBUG - 📍 Vehicle 1: Distance to target: 2.63 m\n",
      "13:10:49 - plan - DEBUG - 📍 Vehicle 1: Distance to target: 2.45 m\n",
      "13:10:49 - plan - DEBUG - 📍 Vehicle 1: Distance to target: 2.28 m\n",
      "13:10:49 - plan - DEBUG - 📍 Vehicle 1: Distance to target: 2.11 m\n",
      "13:10:49 - plan - DEBUG - 📍 Vehicle 1: Distance to target: 1.95 m\n",
      "13:10:49 - plan - DEBUG - 📍 Vehicle 1: Distance to target: 1.80 m\n",
      "13:10:50 - plan - DEBUG - 📍 Vehicle 1: Distance to target: 1.65 m\n",
      "13:10:50 - plan - DEBUG - 📍 Vehicle 1: Distance to target: 1.51 m\n",
      "13:10:50 - plan - DEBUG - 📍 Vehicle 1: Distance to target: 1.38 m\n",
      "13:10:50 - plan - DEBUG - 📍 Vehicle 1: Distance to target: 1.25 m\n",
      "13:10:50 - plan - DEBUG - 📍 Vehicle 1: Distance to target: 1.13 m\n",
      "13:10:50 - plan - DEBUG - 📍 Vehicle 1: Distance to target: 1.02 m\n",
      "13:10:50 - plan - DEBUG - 📍 Vehicle 1: Distance to target: 0.91 m\n",
      "13:10:50 - plan - DEBUG - 📍 Vehicle 1: Distance to target: 0.81 m\n",
      "13:10:50 - plan - DEBUG - 📍 Vehicle 1: Distance to target: 0.71 m\n",
      "13:10:50 - plan - DEBUG - 📍 Vehicle 1: Distance to target: 0.62 m\n",
      "13:10:51 - plan - DEBUG - 📍 Vehicle 1: Distance to target: 0.54 m\n",
      "13:10:51 - plan - DEBUG - 📍 Vehicle 1: Distance to target: 0.46 m\n",
      "13:10:51 - plan - DEBUG - ✅ Vehicle 1: Step Done: go to  -> (0, 0, 5)\n",
      "13:10:51 - plan - DEBUG - Vehicle 1: 📡 Requested message LOCAL_POSITION_NED at 10.00 Hz\n",
      "13:10:51 - plan - DEBUG - ▶️ Vehicle 1: Step Started: go to  -> (0, 5, 5)\n",
      "13:10:51 - plan - DEBUG - 📍 Vehicle 1: Distance to target: 4.70 m\n",
      "13:10:52 - plan - DEBUG - 📍 Vehicle 1: Distance to target: 4.58 m\n",
      "13:10:52 - plan - DEBUG - 📍 Vehicle 1: Distance to target: 4.43 m\n",
      "13:10:52 - plan - DEBUG - 📍 Vehicle 1: Distance to target: 4.25 m\n",
      "13:10:52 - plan - DEBUG - 📍 Vehicle 1: Distance to target: 4.05 m\n",
      "13:10:52 - plan - DEBUG - 📍 Vehicle 1: Distance to target: 3.83 m\n",
      "13:10:52 - plan - DEBUG - 📍 Vehicle 1: Distance to target: 3.60 m\n",
      "13:10:52 - plan - DEBUG - 📍 Vehicle 1: Distance to target: 3.36 m\n",
      "13:10:52 - plan - DEBUG - 📍 Vehicle 1: Distance to target: 3.11 m\n",
      "13:10:52 - plan - DEBUG - 📍 Vehicle 1: Distance to target: 2.87 m\n",
      "13:10:52 - plan - DEBUG - 📍 Vehicle 1: Distance to target: 2.62 m\n",
      "13:10:53 - plan - DEBUG - 📍 Vehicle 1: Distance to target: 2.38 m\n",
      "13:10:53 - plan - DEBUG - 📍 Vehicle 1: Distance to target: 2.14 m\n",
      "13:10:53 - plan - DEBUG - 📍 Vehicle 1: Distance to target: 1.91 m\n",
      "13:10:53 - plan - DEBUG - 📍 Vehicle 1: Distance to target: 1.69 m\n",
      "13:10:53 - plan - DEBUG - 📍 Vehicle 1: Distance to target: 1.48 m\n",
      "13:10:53 - plan - DEBUG - 📍 Vehicle 1: Distance to target: 1.27 m\n",
      "13:10:53 - plan - DEBUG - 📍 Vehicle 1: Distance to target: 1.08 m\n",
      "13:10:53 - plan - DEBUG - 📍 Vehicle 1: Distance to target: 0.91 m\n",
      "13:10:53 - plan - DEBUG - 📍 Vehicle 1: Distance to target: 0.74 m\n",
      "13:10:53 - plan - DEBUG - 📍 Vehicle 1: Distance to target: 0.59 m\n",
      "13:10:54 - plan - DEBUG - 📍 Vehicle 1: Distance to target: 0.46 m\n",
      "13:10:54 - plan - DEBUG - ✅ Vehicle 1: Step Done: go to  -> (0, 5, 5)\n",
      "13:10:54 - plan - DEBUG - Vehicle 1: 📡 Requested message LOCAL_POSITION_NED at 10.00 Hz\n",
      "13:10:54 - plan - DEBUG - ▶️ Vehicle 1: Step Started: go to  -> (5, 5, 5)\n",
      "13:10:54 - plan - DEBUG - 📍 Vehicle 1: Distance to target: 4.58 m\n",
      "13:10:55 - plan - DEBUG - 📍 Vehicle 1: Distance to target: 4.44 m\n",
      "13:10:55 - plan - DEBUG - 📍 Vehicle 1: Distance to target: 4.26 m\n",
      "13:10:55 - plan - DEBUG - 📍 Vehicle 1: Distance to target: 4.06 m\n",
      "13:10:55 - plan - DEBUG - 📍 Vehicle 1: Distance to target: 3.84 m\n",
      "13:10:55 - plan - DEBUG - 📍 Vehicle 1: Distance to target: 3.61 m\n",
      "13:10:55 - plan - DEBUG - 📍 Vehicle 1: Distance to target: 3.37 m\n",
      "13:10:55 - plan - DEBUG - 📍 Vehicle 1: Distance to target: 3.12 m\n",
      "13:10:55 - plan - DEBUG - 📍 Vehicle 1: Distance to target: 2.88 m\n",
      "13:10:55 - plan - DEBUG - 📍 Vehicle 1: Distance to target: 2.63 m\n",
      "13:10:55 - plan - DEBUG - 📍 Vehicle 1: Distance to target: 2.39 m\n",
      "13:10:56 - plan - DEBUG - 📍 Vehicle 1: Distance to target: 2.16 m\n",
      "13:10:56 - plan - DEBUG - 📍 Vehicle 1: Distance to target: 1.93 m\n",
      "13:10:56 - plan - DEBUG - 📍 Vehicle 1: Distance to target: 1.72 m\n",
      "13:10:56 - plan - DEBUG - 📍 Vehicle 1: Distance to target: 1.51 m\n",
      "13:10:56 - plan - DEBUG - 📍 Vehicle 1: Distance to target: 1.31 m\n",
      "13:10:56 - plan - DEBUG - 📍 Vehicle 1: Distance to target: 1.13 m\n",
      "13:10:56 - plan - DEBUG - 📍 Vehicle 1: Distance to target: 0.96 m\n",
      "13:10:56 - plan - DEBUG - 📍 Vehicle 1: Distance to target: 0.81 m\n",
      "13:10:56 - plan - DEBUG - 📍 Vehicle 1: Distance to target: 0.66 m\n",
      "13:10:56 - plan - DEBUG - 📍 Vehicle 1: Distance to target: 0.54 m\n",
      "13:10:57 - plan - DEBUG - 📍 Vehicle 1: Distance to target: 0.43 m\n",
      "13:10:57 - plan - DEBUG - ✅ Vehicle 1: Step Done: go to  -> (5, 5, 5)\n",
      "13:10:57 - plan - DEBUG - Vehicle 1: 📡 Requested message LOCAL_POSITION_NED at 10.00 Hz\n",
      "13:10:57 - plan - DEBUG - ▶️ Vehicle 1: Step Started: go to  -> (5, 0, 5)\n",
      "13:10:57 - plan - DEBUG - 📍 Vehicle 1: Distance to target: 4.66 m\n",
      "13:10:58 - plan - DEBUG - 📍 Vehicle 1: Distance to target: 4.50 m\n",
      "13:10:58 - plan - DEBUG - 📍 Vehicle 1: Distance to target: 4.31 m\n",
      "13:10:58 - plan - DEBUG - 📍 Vehicle 1: Distance to target: 4.10 m\n",
      "13:10:58 - plan - DEBUG - 📍 Vehicle 1: Distance to target: 3.88 m\n",
      "13:10:58 - plan - DEBUG - 📍 Vehicle 1: Distance to target: 3.64 m\n",
      "13:10:58 - plan - DEBUG - 📍 Vehicle 1: Distance to target: 3.39 m\n",
      "13:10:58 - plan - DEBUG - 📍 Vehicle 1: Distance to target: 3.14 m\n",
      "13:10:58 - plan - DEBUG - 📍 Vehicle 1: Distance to target: 2.89 m\n",
      "13:10:58 - plan - DEBUG - 📍 Vehicle 1: Distance to target: 2.64 m\n",
      "13:10:58 - plan - DEBUG - 📍 Vehicle 1: Distance to target: 2.40 m\n",
      "13:10:59 - plan - DEBUG - 📍 Vehicle 1: Distance to target: 2.16 m\n",
      "13:10:59 - plan - DEBUG - 📍 Vehicle 1: Distance to target: 1.93 m\n",
      "13:10:59 - plan - DEBUG - 📍 Vehicle 1: Distance to target: 1.71 m\n",
      "13:10:59 - plan - DEBUG - 📍 Vehicle 1: Distance to target: 1.50 m\n",
      "13:10:59 - plan - DEBUG - 📍 Vehicle 1: Distance to target: 1.30 m\n",
      "13:10:59 - plan - DEBUG - 📍 Vehicle 1: Distance to target: 1.12 m\n",
      "13:10:59 - plan - DEBUG - 📍 Vehicle 1: Distance to target: 0.95 m\n",
      "13:10:59 - plan - DEBUG - 📍 Vehicle 1: Distance to target: 0.79 m\n",
      "13:10:59 - plan - DEBUG - 📍 Vehicle 1: Distance to target: 0.64 m\n",
      "13:10:59 - plan - DEBUG - 📍 Vehicle 1: Distance to target: 0.52 m\n",
      "13:11:00 - plan - DEBUG - 📍 Vehicle 1: Distance to target: 0.40 m\n",
      "13:11:00 - plan - DEBUG - ✅ Vehicle 1: Step Done: go to  -> (5, 0, 5)\n",
      "13:11:00 - plan - DEBUG - Vehicle 1: 📡 Requested message LOCAL_POSITION_NED at 10.00 Hz\n",
      "13:11:00 - plan - DEBUG - ▶️ Vehicle 1: Step Started: go to  -> (0, 0, 5)\n",
      "13:11:00 - plan - DEBUG - 📍 Vehicle 1: Distance to target: 4.60 m\n",
      "13:11:01 - plan - DEBUG - 📍 Vehicle 1: Distance to target: 4.44 m\n",
      "13:11:01 - plan - DEBUG - 📍 Vehicle 1: Distance to target: 4.26 m\n",
      "13:11:01 - plan - DEBUG - 📍 Vehicle 1: Distance to target: 4.05 m\n",
      "13:11:01 - plan - DEBUG - 📍 Vehicle 1: Distance to target: 3.82 m\n",
      "13:11:01 - plan - DEBUG - 📍 Vehicle 1: Distance to target: 3.59 m\n",
      "13:11:01 - plan - DEBUG - 📍 Vehicle 1: Distance to target: 3.34 m\n",
      "13:11:01 - plan - DEBUG - 📍 Vehicle 1: Distance to target: 3.09 m\n",
      "13:11:01 - plan - DEBUG - 📍 Vehicle 1: Distance to target: 2.84 m\n",
      "13:11:01 - plan - DEBUG - 📍 Vehicle 1: Distance to target: 2.60 m\n",
      "13:11:01 - plan - DEBUG - 📍 Vehicle 1: Distance to target: 2.36 m\n",
      "13:11:02 - plan - DEBUG - 📍 Vehicle 1: Distance to target: 2.13 m\n",
      "13:11:02 - plan - DEBUG - 📍 Vehicle 1: Distance to target: 1.90 m\n",
      "13:11:02 - plan - DEBUG - 📍 Vehicle 1: Distance to target: 1.69 m\n",
      "13:11:02 - plan - DEBUG - 📍 Vehicle 1: Distance to target: 1.48 m\n",
      "13:11:02 - plan - DEBUG - 📍 Vehicle 1: Distance to target: 1.29 m\n",
      "13:11:02 - plan - DEBUG - 📍 Vehicle 1: Distance to target: 1.11 m\n",
      "13:11:02 - plan - DEBUG - 📍 Vehicle 1: Distance to target: 0.94 m\n",
      "13:11:02 - plan - DEBUG - 📍 Vehicle 1: Distance to target: 0.79 m\n",
      "13:11:02 - plan - DEBUG - 📍 Vehicle 1: Distance to target: 0.65 m\n",
      "13:11:02 - plan - DEBUG - 📍 Vehicle 1: Distance to target: 0.52 m\n",
      "13:11:03 - plan - DEBUG - 📍 Vehicle 1: Distance to target: 0.41 m\n",
      "13:11:03 - plan - DEBUG - ✅ Vehicle 1: Step Done: go to  -> (0, 0, 5)\n",
      "13:11:03 - plan - INFO - ✅ Vehicle 1: Action Done: 🛩️ FLY\n",
      "13:11:03 - plan - DEBUG - ▶️ Vehicle 1: Action Started: 🛬 LAND\n",
      "13:11:03 - plan - DEBUG - Vehicle 1: 📡 Requested message EXTENDED_SYS_STATE at 10.00 Hz\n",
      "13:11:03 - plan - DEBUG - Vehicle 1: 📡 Requested message LOCAL_POSITION_NED at 10.00 Hz\n",
      "13:11:03 - plan - DEBUG - ▶️ Vehicle 1: Step Started: land\n",
      "13:11:03 - plan - DEBUG - Vehicle 1: Altitude: 4.77 m\n",
      "13:11:04 - plan - DEBUG - Vehicle 1: Altitude: 4.72 m\n",
      "13:11:04 - plan - DEBUG - Vehicle 1: Altitude: 4.67 m\n",
      "13:11:04 - plan - DEBUG - Vehicle 1: Altitude: 4.61 m\n",
      "13:11:04 - plan - DEBUG - Vehicle 1: Altitude: 4.56 m\n",
      "13:11:04 - plan - DEBUG - Vehicle 1: Altitude: 4.50 m\n",
      "13:11:04 - plan - DEBUG - Vehicle 1: Altitude: 4.45 m\n",
      "13:11:04 - plan - DEBUG - Vehicle 1: Altitude: 4.40 m\n",
      "13:11:04 - plan - DEBUG - Vehicle 1: Altitude: 4.34 m\n",
      "13:11:04 - plan - DEBUG - Vehicle 1: Altitude: 4.29 m\n",
      "13:11:05 - plan - DEBUG - Vehicle 1: Altitude: 4.18 m\n",
      "13:11:05 - plan - DEBUG - Vehicle 1: Altitude: 4.13 m\n",
      "13:11:05 - plan - DEBUG - Vehicle 1: Altitude: 4.08 m\n",
      "13:11:05 - plan - DEBUG - Vehicle 1: Altitude: 4.03 m\n",
      "13:11:05 - plan - DEBUG - Vehicle 1: Altitude: 3.98 m\n",
      "13:11:05 - plan - DEBUG - Vehicle 1: Altitude: 3.93 m\n",
      "13:11:05 - plan - DEBUG - Vehicle 1: Altitude: 3.88 m\n",
      "13:11:05 - plan - DEBUG - Vehicle 1: Altitude: 3.83 m\n",
      "13:11:05 - plan - DEBUG - Vehicle 1: Altitude: 3.79 m\n",
      "13:11:06 - plan - DEBUG - Vehicle 1: Altitude: 3.69 m\n",
      "13:11:06 - plan - DEBUG - Vehicle 1: Altitude: 3.64 m\n",
      "13:11:06 - plan - DEBUG - Vehicle 1: Altitude: 3.59 m\n",
      "13:11:06 - plan - DEBUG - Vehicle 1: Altitude: 3.54 m\n",
      "13:11:06 - plan - DEBUG - Vehicle 1: Altitude: 3.49 m\n",
      "13:11:06 - plan - DEBUG - Vehicle 1: Altitude: 3.44 m\n",
      "13:11:06 - plan - DEBUG - Vehicle 1: Altitude: 3.39 m\n",
      "13:11:06 - plan - DEBUG - Vehicle 1: Altitude: 3.34 m\n",
      "13:11:06 - plan - DEBUG - Vehicle 1: Altitude: 3.29 m\n",
      "13:11:06 - plan - DEBUG - Vehicle 1: Altitude: 3.24 m\n",
      "13:11:07 - plan - DEBUG - Vehicle 1: Altitude: 3.14 m\n",
      "13:11:07 - plan - DEBUG - Vehicle 1: Altitude: 3.09 m\n",
      "13:11:07 - plan - DEBUG - Vehicle 1: Altitude: 3.04 m\n",
      "13:11:07 - plan - DEBUG - Vehicle 1: Altitude: 2.94 m\n",
      "13:11:07 - plan - DEBUG - Vehicle 1: Altitude: 2.84 m\n",
      "13:11:07 - plan - DEBUG - Vehicle 1: Altitude: 2.74 m\n",
      "13:11:08 - plan - DEBUG - Vehicle 1: Altitude: 2.64 m\n",
      "13:11:08 - plan - DEBUG - Vehicle 1: Altitude: 2.54 m\n",
      "13:11:08 - plan - DEBUG - Vehicle 1: Altitude: 2.49 m\n",
      "13:11:08 - plan - DEBUG - Vehicle 1: Altitude: 2.44 m\n",
      "13:11:08 - plan - DEBUG - Vehicle 1: Altitude: 2.39 m\n",
      "13:11:08 - plan - DEBUG - Vehicle 1: Altitude: 2.29 m\n",
      "13:11:08 - plan - DEBUG - Vehicle 1: Altitude: 2.24 m\n",
      "13:11:09 - plan - DEBUG - Vehicle 1: Altitude: 2.19 m\n",
      "13:11:09 - plan - DEBUG - Vehicle 1: Altitude: 2.14 m\n",
      "13:11:09 - plan - DEBUG - Vehicle 1: Altitude: 2.09 m\n",
      "13:11:09 - plan - DEBUG - Vehicle 1: Altitude: 1.99 m\n",
      "13:11:09 - plan - DEBUG - Vehicle 1: Altitude: 1.94 m\n",
      "13:11:09 - plan - DEBUG - Vehicle 1: Altitude: 1.89 m\n",
      "13:11:09 - plan - DEBUG - Vehicle 1: Altitude: 1.84 m\n",
      "13:11:09 - plan - DEBUG - Vehicle 1: Altitude: 1.79 m\n",
      "13:11:09 - plan - DEBUG - Vehicle 1: Altitude: 1.74 m\n",
      "13:11:10 - plan - DEBUG - Vehicle 1: Altitude: 1.69 m\n",
      "13:11:10 - plan - DEBUG - Vehicle 1: Altitude: 1.64 m\n",
      "13:11:10 - plan - DEBUG - Vehicle 1: Altitude: 1.59 m\n",
      "13:11:10 - plan - DEBUG - Vehicle 1: Altitude: 1.49 m\n",
      "13:11:10 - plan - DEBUG - Vehicle 1: Altitude: 1.45 m\n",
      "13:11:10 - plan - DEBUG - Vehicle 1: Altitude: 1.40 m\n",
      "13:11:10 - plan - DEBUG - Vehicle 1: Altitude: 1.29 m\n",
      "13:11:11 - plan - DEBUG - Vehicle 1: Altitude: 1.19 m\n",
      "13:11:11 - plan - DEBUG - Vehicle 1: Altitude: 1.09 m\n",
      "13:11:11 - plan - DEBUG - Vehicle 1: Altitude: 1.04 m\n",
      "13:11:11 - plan - DEBUG - Vehicle 1: Altitude: 0.99 m\n",
      "13:11:11 - plan - DEBUG - Vehicle 1: Altitude: 0.94 m\n",
      "13:11:11 - plan - DEBUG - Vehicle 1: Altitude: 0.89 m\n",
      "13:11:11 - plan - DEBUG - Vehicle 1: Altitude: 0.84 m\n",
      "13:11:11 - plan - DEBUG - Vehicle 1: Altitude: 0.79 m\n",
      "13:11:11 - plan - DEBUG - Vehicle 1: Altitude: 0.74 m\n",
      "13:11:12 - plan - DEBUG - Vehicle 1: Altitude: 0.64 m\n",
      "13:11:12 - plan - DEBUG - Vehicle 1: Altitude: 0.59 m\n",
      "13:11:12 - plan - DEBUG - Vehicle 1: Altitude: 0.49 m\n",
      "13:11:12 - plan - DEBUG - Vehicle 1: Altitude: 0.44 m\n",
      "13:11:12 - plan - DEBUG - Vehicle 1: Altitude: 0.39 m\n",
      "13:11:12 - plan - DEBUG - Vehicle 1: Altitude: 0.34 m\n",
      "13:11:12 - plan - DEBUG - Vehicle 1: Altitude: 0.29 m\n",
      "13:11:12 - plan - DEBUG - Vehicle 1: Altitude: 0.24 m\n",
      "13:11:13 - plan - DEBUG - Vehicle 1: Altitude: 0.19 m\n",
      "13:11:13 - plan - DEBUG - Vehicle 1: Altitude: 0.14 m\n",
      "13:11:13 - plan - DEBUG - Vehicle 1: Altitude: 0.09 m\n",
      "13:11:13 - plan - DEBUG - Vehicle 1: Altitude: 0.04 m\n",
      "13:11:13 - plan - DEBUG - Vehicle 1: Altitude: -0.01 m\n",
      "13:11:13 - plan - DEBUG - Vehicle 1: Altitude: -0.05 m\n",
      "13:11:13 - plan - DEBUG - Vehicle 1: Altitude: -0.05 m\n",
      "13:11:13 - plan - DEBUG - Vehicle 1: Altitude: -0.04 m\n",
      "13:11:13 - plan - DEBUG - Vehicle 1: Altitude: -0.04 m\n",
      "13:11:14 - plan - DEBUG - Vehicle 1: Altitude: -0.04 m\n",
      "13:11:14 - plan - DEBUG - Vehicle 1: Altitude: -0.05 m\n",
      "13:11:14 - plan - DEBUG - Vehicle 1: Altitude: -0.05 m\n",
      "13:11:14 - plan - DEBUG - Vehicle 1: Altitude: -0.05 m\n",
      "13:11:14 - plan - DEBUG - Vehicle 1: Altitude: -0.05 m\n",
      "13:11:14 - plan - DEBUG - Vehicle 1: Altitude: -0.05 m\n",
      "13:11:14 - plan - DEBUG - Vehicle 1: Altitude: -0.05 m\n",
      "13:11:15 - plan - DEBUG - Vehicle 1: Altitude: -0.05 m\n",
      "13:11:15 - plan - DEBUG - Vehicle 1: Altitude: -0.05 m\n",
      "13:11:15 - plan - DEBUG - ✅ Vehicle 1: Step Done: land\n",
      "13:11:15 - plan - INFO - ✅ Vehicle 1: Action Done: 🛬 LAND\n",
      "13:11:15 - plan - INFO - ✅ Vehicle 1: Plan Done: 📋 Square Trajectory\n"
     ]
    }
   ],
   "source": [
    "plan.bind(conn)\n",
    "setup_logging('plan',verbose=2)\n",
    "while plan.state != State.DONE:\n",
    "    plan.act()"
   ]
  },
  {
   "cell_type": "code",
   "execution_count": 7,
   "metadata": {},
   "outputs": [
    {
     "name": "stdout",
     "output_type": "stream",
     "text": [
      "✅ <Plan '📋 Square Trajectory'>\n",
      "  ✅ <Action '🔧 PREARM'>\n",
      "    ✅ <Step '🔹 Check disarmed'>\n",
      "    ✅ <Step '🔹 Check EKF status'>\n",
      "    ✅ <Step '🔹 Check GPS'>\n",
      "    ✅ <Step '🔹 Check system'>\n",
      "  ✅ <Action '⚙️  MODE: GUIDED'>\n",
      "    ✅ <Step '🔹 Switch to GUIDED'>\n",
      "  ✅ <Action '🔐 ARM'>\n",
      "    ✅ <Step '🔹 arm'>\n",
      "  ✅ <Action '🛫 TAKEOFF'>\n",
      "    ✅ <Step '🔹 takeoff'>\n",
      "  ✅ <Action '🛩️ FLY'>\n",
      "    ✅ <Step '🔹 go to  -> (0, 0, 5)'>\n",
      "    ✅ <Step '🔹 go to  -> (0, 5, 5)'>\n",
      "    ✅ <Step '🔹 go to  -> (5, 5, 5)'>\n",
      "    ✅ <Step '🔹 go to  -> (5, 0, 5)'>\n",
      "    ✅ <Step '🔹 go to  -> (0, 0, 5)'>\n",
      "  ✅ <Action '🛬 LAND'>\n",
      "    ✅ <Step '🔹 land'>\n"
     ]
    }
   ],
   "source": [
    "print(plan)"
   ]
  },
  {
   "cell_type": "code",
   "execution_count": 8,
   "metadata": {},
   "outputs": [],
   "source": [
    "plan.reset()"
   ]
  },
  {
   "cell_type": "code",
   "execution_count": 9,
   "metadata": {},
   "outputs": [
    {
     "name": "stdout",
     "output_type": "stream",
     "text": [
      "🕓 <Plan '📋 Square Trajectory'>\n",
      "  🕓 <Action '🔧 PREARM'>\n",
      "    🕓 <Step '🔹 Check disarmed'>\n",
      "    🕓 <Step '🔹 Check EKF status'>\n",
      "    🕓 <Step '🔹 Check GPS'>\n",
      "    🕓 <Step '🔹 Check system'>\n",
      "  🕓 <Action '⚙️  MODE: GUIDED'>\n",
      "    🕓 <Step '🔹 Switch to GUIDED'>\n",
      "  🕓 <Action '🔐 ARM'>\n",
      "    🕓 <Step '🔹 arm'>\n",
      "  🕓 <Action '🛫 TAKEOFF'>\n",
      "    🕓 <Step '🔹 takeoff'>\n",
      "  🕓 <Action '🛩️ FLY'>\n",
      "    🕓 <Step '🔹 go to  -> (0, 0, 5)'>\n",
      "    🕓 <Step '🔹 go to  -> (0, 5, 5)'>\n",
      "    🕓 <Step '🔹 go to  -> (5, 5, 5)'>\n",
      "    🕓 <Step '🔹 go to  -> (5, 0, 5)'>\n",
      "    🕓 <Step '🔹 go to  -> (0, 0, 5)'>\n",
      "  🕓 <Action '🛬 LAND'>\n",
      "    🕓 <Step '🔹 land'>\n"
     ]
    }
   ],
   "source": [
    "print(plan)"
   ]
  }
 ],
 "metadata": {
  "kernelspec": {
   "display_name": "uav-cyber-sim11",
   "language": "python",
   "name": "python3"
  },
  "language_info": {
   "codemirror_mode": {
    "name": "ipython",
    "version": 3
   },
   "file_extension": ".py",
   "mimetype": "text/x-python",
   "name": "python",
   "nbconvert_exporter": "python",
   "pygments_lexer": "ipython3",
   "version": "3.11.13"
  }
 },
 "nbformat": 4,
 "nbformat_minor": 2
}
