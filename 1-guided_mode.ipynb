{
 "cells": [
  {
   "cell_type": "markdown",
   "metadata": {},
   "source": [
    "## Simple Mission in Guided-Mode\n",
    "\n",
    "This notebook serves to get familiar with the simulator"
   ]
  },
  {
   "cell_type": "code",
   "execution_count": 1,
   "metadata": {},
   "outputs": [],
   "source": [
    "import os\n",
    "\n",
    "from config import (\n",
    "    ARDU_LOGS_PATH,\n",
    "    ARDUPILOT_VEHICLE_PATH,\n",
    "    ENV_CMD_PYT,\n",
    "    VEH_PARAMS_PATH,\n",
    "    BasePort,\n",
    ")\n",
    "from helpers import clean, create_process, setup_logging, wait_for_port\n",
    "from helpers.connections.mavlink.conn import create_tcp_conn\n",
    "from helpers.coordinates import GRAPose\n",
    "from plan import State\n",
    "from plan.planner import Plan\n",
    "\n",
    "clean()"
   ]
  },
  {
   "cell_type": "markdown",
   "metadata": {},
   "source": [
    "## Launch Copter (ardupilot)"
   ]
  },
  {
   "cell_type": "code",
   "execution_count": 2,
   "metadata": {},
   "outputs": [
    {
     "name": "stdout",
     "output_type": "stream",
     "text": [
      "Waiting for port 5760 to open...\n"
     ]
    }
   ],
   "source": [
    "#This must agree with first waypoint in mission.waypoint\n",
    "gra_origin = GRAPose(lat=-35.3633245,lon=149.1652241,alt=0.0,heading=0)\n",
    "spawn_str= gra_origin.to_str()\n",
    "\n",
    "sim_vehicle_path = os.path.expanduser(ARDUPILOT_VEHICLE_PATH)\n",
    "sysid = 1\n",
    "vehicle_cmd = (\n",
    "    f\"python3 {sim_vehicle_path} \"\n",
    "    f\"-v ArduCopter \"\n",
    "    f\"-I{sysid-1} --sysid {sysid} \"\n",
    "    f\"--no-rebuild \"\n",
    "    f\"--use-dir={ARDU_LOGS_PATH} \"\n",
    "    f\"--add-param-file {VEH_PARAMS_PATH} \"\n",
    "    f\"--no-mavproxy \"\n",
    "    f\"--port-offset=0 \"  # ArduPilot automatically binds TCP port 5760 (BasePort.ARP)\n",
    "    f'--custom-location={spawn_str}'\n",
    ")\n",
    "\n",
    "create_process(\n",
    "                vehicle_cmd,\n",
    "                after=\"exec bash\",\n",
    "                visible= True,\n",
    "                suppress_output=False,\n",
    "                title=\"ardu_vehicle\",\n",
    "                env_cmd=ENV_CMD_PYT,\n",
    "            )\n",
    "wait_for_port(BasePort.ARP, timeout=1)"
   ]
  },
  {
   "cell_type": "markdown",
   "metadata": {},
   "source": [
    "## Connect to the vehicle"
   ]
  },
  {
   "cell_type": "code",
   "execution_count": 3,
   "metadata": {},
   "outputs": [
    {
     "name": "stdout",
     "output_type": "stream",
     "text": [
      "✅ TCP connection established!\n"
     ]
    }
   ],
   "source": [
    "conn = create_tcp_conn(\n",
    "    base_port=BasePort.ARP, \n",
    "    offset=0,\n",
    "    role=\"client\", \n",
    "    sysid=sysid\n",
    ")\n",
    "\n",
    "print(\"✅ TCP connection established!\")"
   ]
  },
  {
   "cell_type": "markdown",
   "metadata": {},
   "source": [
    "## Create Plan in guided mode\n",
    "\n",
    "Action commands are sent online, in contrast to auto mode where the full plan is loaded into the UAV before starting the mission."
   ]
  },
  {
   "cell_type": "code",
   "execution_count": 4,
   "metadata": {},
   "outputs": [],
   "source": [
    "plan = Plan.square(side_len=5, alt=5, wp_margin=0.5, navegation_speed=5)"
   ]
  },
  {
   "cell_type": "code",
   "execution_count": 5,
   "metadata": {},
   "outputs": [
    {
     "data": {
      "text/plain": [
       "🕓 <Plan '📋 Square Trajectory'>\n",
       "  🕓 <Action '🛡️ PREARM'>\n",
       "    🕓 <CheckDisarmed '🔹 Check disarmed'>\n",
       "    🕓 <EKFStatus '🔹 Check EKF status'>\n",
       "    🕓 <GPSStatus '🔹 Check GPS'>\n",
       "    🕓 <CheckSystem '🔹 Check system status'>\n",
       "  🕓 <Action '⚙️ MODE'>\n",
       "    🕓 <SwitchMode '🔹 Switch to GUIDED'>\n",
       "  🕓 <Action '🔒 ARM'>\n",
       "    🕓 <Arm '🔹 arm'>\n",
       "  🕓 <Action '🛫 TAKEOFF'>\n",
       "    🕓 <TakeOff '🔹 take off to 1.0 m'>\n",
       "  🕓 <Action '✈️ FLY'>\n",
       "    🕓 <GoTo '🔹 go to ENU(x=0, y=0, z=5)'>\n",
       "    🕓 <GoTo '🔹 go to ENU(x=0, y=5, z=5)'>\n",
       "    🕓 <GoTo '🔹 go to ENU(x=5, y=5, z=5)'>\n",
       "    🕓 <GoTo '🔹 go to ENU(x=5, y=0, z=5)'>\n",
       "    🕓 <GoTo '🔹 go to ENU(x=0, y=0, z=5)'>\n",
       "  🕓 <Action '🛬 LAND'>\n",
       "    🕓 <Land '🔹 Land UAV'>"
      ]
     },
     "execution_count": 5,
     "metadata": {},
     "output_type": "execute_result"
    }
   ],
   "source": [
    "plan"
   ]
  },
  {
   "cell_type": "markdown",
   "metadata": {},
   "source": [
    "# Execute Plan in guided mode"
   ]
  },
  {
   "cell_type": "code",
   "execution_count": 6,
   "metadata": {},
   "outputs": [
    {
     "name": "stderr",
     "output_type": "stream",
     "text": [
      "15:27:38 - plan - DEBUG - ▶️ Vehicle 1: Plan Started: 📋 Square Trajectory\n",
      "15:27:38 - plan - DEBUG - ▶️ Vehicle 1: Action Started: 🛡️ PREARM\n",
      "15:27:38 - plan - DEBUG - ▶️ Vehicle 1: CheckDisarmed Started: Check disarmed\n",
      "15:27:38 - plan - DEBUG - ✅ Vehicle 1: CheckDisarmed Done: Check disarmed\n",
      "15:27:38 - plan - DEBUG - Vehicle 1: 📡 Requested message EKF_STATUS_REPORT at 1.00 Hz\n",
      "15:27:38 - plan - DEBUG - ▶️ Vehicle 1: EKFStatus Started: Check EKF status\n",
      "15:27:41 - plan - DEBUG - 🛰️ Vehicle 1: Waiting for EKF to be ready... Pending: ATTITUDE, VELOCITY_HORIZ, POS_VERT_ABS, POS_HORIZ_ABS\n",
      "15:27:42 - plan - DEBUG - 🛰️ Vehicle 1: Waiting for EKF to be ready... Pending: ATTITUDE, VELOCITY_HORIZ, POS_VERT_ABS, POS_HORIZ_ABS\n",
      "15:27:43 - plan - DEBUG - 🛰️ Vehicle 1: Waiting for EKF to be ready... Pending: POS_HORIZ_ABS\n",
      "15:27:44 - plan - DEBUG - 🛰️ Vehicle 1: Waiting for EKF to be ready... Pending: POS_HORIZ_ABS\n",
      "15:27:45 - plan - DEBUG - 🛰️ Vehicle 1: Waiting for EKF to be ready... Pending: POS_HORIZ_ABS\n",
      "15:27:46 - plan - DEBUG - 🛰️ Vehicle 1: Waiting for EKF to be ready... Pending: POS_HORIZ_ABS\n",
      "15:27:47 - plan - DEBUG - 🛰️ Vehicle 1: Waiting for EKF to be ready... Pending: POS_HORIZ_ABS\n",
      "15:27:48 - plan - DEBUG - 🛰️ Vehicle 1: Waiting for EKF to be ready... Pending: POS_HORIZ_ABS\n",
      "15:27:49 - plan - DEBUG - 🛰️ Vehicle 1: Waiting for EKF to be ready... Pending: POS_HORIZ_ABS\n",
      "15:27:50 - plan - DEBUG - 🛰️ Vehicle 1: Waiting for EKF to be ready... Pending: POS_HORIZ_ABS\n",
      "15:27:51 - plan - DEBUG - 🛰️ Vehicle 1: Waiting for EKF to be ready... Pending: POS_HORIZ_ABS\n",
      "15:27:52 - plan - DEBUG - 🛰️ Vehicle 1: Waiting for EKF to be ready... Pending: POS_HORIZ_ABS\n",
      "15:27:53 - plan - DEBUG - 🛰️ Vehicle 1: Waiting for EKF to be ready... Pending: POS_HORIZ_ABS\n",
      "15:27:54 - plan - DEBUG - 🛰️ Vehicle 1: Waiting for EKF to be ready... Pending: POS_HORIZ_ABS\n",
      "15:27:55 - plan - DEBUG - 🛰️ Vehicle 1: Waiting for EKF to be ready... Pending: POS_HORIZ_ABS\n",
      "15:27:56 - plan - DEBUG - 🛰️ Vehicle 1: Waiting for EKF to be ready... Pending: POS_HORIZ_ABS\n",
      "15:27:57 - plan - DEBUG - 🛰️ Vehicle 1: Waiting for EKF to be ready... Pending: POS_HORIZ_ABS\n",
      "15:27:58 - plan - DEBUG - 🛰️ Vehicle 1: Waiting for EKF to be ready... Pending: POS_HORIZ_ABS\n",
      "15:27:59 - plan - DEBUG - 🛰️ Vehicle 1: Waiting for EKF to be ready... Pending: POS_HORIZ_ABS\n",
      "15:28:00 - plan - DEBUG - 🛰️ Vehicle 1: Waiting for EKF to be ready... Pending: POS_HORIZ_ABS\n",
      "15:28:01 - plan - DEBUG - 🛰️ Vehicle 1: Waiting for EKF to be ready... Pending: POS_HORIZ_ABS\n",
      "15:28:02 - plan - DEBUG - 🛰️ Vehicle 1: Waiting for EKF to be ready... Pending: POS_HORIZ_ABS\n",
      "15:28:03 - plan - DEBUG - 🛰️ Vehicle 1: Waiting for EKF to be ready... Pending: POS_HORIZ_ABS\n",
      "15:28:04 - plan - DEBUG - 🛰️ Vehicle 1: Waiting for EKF to be ready... Pending: POS_HORIZ_ABS\n",
      "15:28:05 - plan - DEBUG - 🛰️ Vehicle 1: Waiting for EKF to be ready... Pending: POS_HORIZ_ABS\n",
      "15:28:06 - plan - DEBUG - 🛰️ Vehicle 1: Waiting for EKF to be ready... Pending: POS_HORIZ_ABS\n",
      "15:28:07 - plan - DEBUG - 🛰️ Vehicle 1: Waiting for EKF to be ready... Pending: POS_HORIZ_ABS\n",
      "15:28:08 - plan - DEBUG - 🛰️ Vehicle 1: Waiting for EKF to be ready... Pending: POS_HORIZ_ABS\n",
      "15:28:09 - plan - DEBUG - 🛰️ Vehicle 1: Waiting for EKF to be ready... Pending: POS_HORIZ_ABS\n",
      "15:28:10 - plan - DEBUG - 🛰️ Vehicle 1: Waiting for EKF to be ready... Pending: POS_HORIZ_ABS\n",
      "15:28:11 - plan - DEBUG - 🛰️ Vehicle 1: Waiting for EKF to be ready... Pending: POS_HORIZ_ABS\n",
      "15:28:12 - plan - DEBUG - 🛰️ Vehicle 1: Waiting for EKF to be ready... Pending: POS_HORIZ_ABS\n",
      "15:28:13 - plan - DEBUG - 🛰️ Vehicle 1: Waiting for EKF to be ready... Pending: POS_HORIZ_ABS\n",
      "15:28:14 - plan - DEBUG - 🛰️ Vehicle 1: Waiting for EKF to be ready... Pending: POS_HORIZ_ABS\n",
      "15:28:15 - plan - DEBUG - 🛰️ Vehicle 1: Waiting for EKF to be ready... Pending: POS_HORIZ_ABS\n",
      "15:28:16 - plan - DEBUG - 🛰️ Vehicle 1: Waiting for EKF to be ready... Pending: POS_HORIZ_ABS\n",
      "15:28:17 - plan - DEBUG - 🛰️ Vehicle 1: Waiting for EKF to be ready... Pending: POS_HORIZ_ABS\n",
      "15:28:18 - plan - DEBUG - 🛰️ Vehicle 1: Waiting for EKF to be ready... Pending: POS_HORIZ_ABS\n",
      "15:28:19 - plan - DEBUG - ✅ Vehicle 1: EKFStatus Done: Check EKF status\n",
      "15:28:19 - plan - DEBUG - Vehicle 1: 📡 Requested message GPS_RAW_INT at 1.00 Hz\n",
      "15:28:19 - plan - DEBUG - ▶️ Vehicle 1: GPSStatus Started: Check GPS\n",
      "15:28:20 - plan - DEBUG - ✅ Vehicle 1: GPSStatus Done: Check GPS\n",
      "15:28:20 - plan - DEBUG - Vehicle 1: 📡 Requested message SYS_STATUS at 1.00 Hz\n",
      "15:28:20 - plan - DEBUG - ▶️ Vehicle 1: CheckSystem Started: Check system status\n",
      "15:28:22 - plan - DEBUG - ✅ Vehicle 1: CheckSystem Done: Check system status\n",
      "15:28:22 - plan - INFO - ✅ Vehicle 1: Action Done: 🛡️ PREARM\n",
      "15:28:22 - plan - DEBUG - ▶️ Vehicle 1: Action Started: ⚙️ MODE\n",
      "15:28:22 - plan - DEBUG - ▶️ Vehicle 1: SwitchMode Started: Switch to GUIDED\n",
      "15:28:22 - plan - DEBUG - ✅ Vehicle 1: SwitchMode Done: Switch to GUIDED\n",
      "15:28:22 - plan - INFO - ✅ Vehicle 1: Action Done: ⚙️ MODE\n",
      "15:28:22 - plan - DEBUG - ▶️ Vehicle 1: Action Started: 🔒 ARM\n",
      "15:28:22 - plan - DEBUG - ▶️ Vehicle 1: Arm Started: arm\n",
      "15:28:23 - plan - DEBUG - ✅ Vehicle 1: Arm Done: arm\n",
      "15:28:23 - plan - INFO - ✅ Vehicle 1: Action Done: 🔒 ARM\n",
      "15:28:23 - plan - DEBUG - ▶️ Vehicle 1: Action Started: 🛫 TAKEOFF\n",
      "15:28:23 - plan - DEBUG - Vehicle 1: 📡 Requested message EXTENDED_SYS_STATE at 1.00 Hz\n",
      "15:28:23 - plan - DEBUG - Vehicle 1: 📡 Requested message GLOBAL_POSITION_INT at 1.00 Hz\n",
      "15:28:23 - plan - DEBUG - ▶️ Vehicle 1: TakeOff Started: take off to 1.0 m\n",
      "15:28:26 - plan - DEBUG - ✅ Vehicle 1: TakeOff Done: take off to 1.0 m\n",
      "15:28:26 - plan - INFO - ✅ Vehicle 1: Action Done: 🛫 TAKEOFF\n",
      "15:28:26 - plan - DEBUG - ▶️ Vehicle 1: Action Started: ✈️ FLY\n",
      "15:28:26 - plan - DEBUG - Vehicle 1: 📡 Requested message GLOBAL_POSITION_INT at 10.00 Hz\n",
      "15:28:26 - plan - DEBUG - ▶️ Vehicle 1: GoTo Started: go to ENU(x=0, y=0, z=5)\n",
      "15:28:27 - plan - DEBUG - 📍 Vehicle 1: Distance to target: 3.44 m\n",
      "15:28:28 - plan - DEBUG - 📍 Vehicle 1: Distance to target: 3.27 m\n",
      "15:28:28 - plan - DEBUG - 📍 Vehicle 1: Distance to target: 3.08 m\n",
      "15:28:28 - plan - DEBUG - 📍 Vehicle 1: Distance to target: 2.90 m\n",
      "15:28:28 - plan - DEBUG - 📍 Vehicle 1: Distance to target: 2.72 m\n",
      "15:28:28 - plan - DEBUG - 📍 Vehicle 1: Distance to target: 2.54 m\n",
      "15:28:28 - plan - DEBUG - 📍 Vehicle 1: Distance to target: 2.36 m\n",
      "15:28:28 - plan - DEBUG - 📍 Vehicle 1: Distance to target: 2.19 m\n",
      "15:28:28 - plan - DEBUG - 📍 Vehicle 1: Distance to target: 2.03 m\n",
      "15:28:28 - plan - DEBUG - 📍 Vehicle 1: Distance to target: 1.87 m\n",
      "15:28:28 - plan - DEBUG - 📍 Vehicle 1: Distance to target: 1.72 m\n",
      "15:28:29 - plan - DEBUG - 📍 Vehicle 1: Distance to target: 1.58 m\n",
      "15:28:29 - plan - DEBUG - 📍 Vehicle 1: Distance to target: 1.44 m\n",
      "15:28:29 - plan - DEBUG - 📍 Vehicle 1: Distance to target: 1.31 m\n",
      "15:28:29 - plan - DEBUG - 📍 Vehicle 1: Distance to target: 1.19 m\n",
      "15:28:29 - plan - DEBUG - 📍 Vehicle 1: Distance to target: 1.07 m\n",
      "15:28:29 - plan - DEBUG - 📍 Vehicle 1: Distance to target: 0.96 m\n",
      "15:28:29 - plan - DEBUG - 📍 Vehicle 1: Distance to target: 0.86 m\n",
      "15:28:29 - plan - DEBUG - 📍 Vehicle 1: Distance to target: 0.76 m\n",
      "15:28:29 - plan - DEBUG - 📍 Vehicle 1: Distance to target: 0.67 m\n",
      "15:28:29 - plan - DEBUG - 📍 Vehicle 1: Distance to target: 0.58 m\n",
      "15:28:30 - plan - DEBUG - 📍 Vehicle 1: Distance to target: 0.50 m\n",
      "15:28:30 - plan - DEBUG - 📍 Vehicle 1: Distance to target: 0.42 m\n",
      "15:28:30 - plan - DEBUG - ✅ Vehicle 1: GoTo Done: go to ENU(x=0, y=0, z=5)\n",
      "15:28:30 - plan - DEBUG - Vehicle 1: 📡 Requested message GLOBAL_POSITION_INT at 10.00 Hz\n",
      "15:28:30 - plan - DEBUG - ▶️ Vehicle 1: GoTo Started: go to ENU(x=0, y=5, z=5)\n",
      "15:28:30 - plan - DEBUG - 📍 Vehicle 1: Distance to target: 4.71 m\n",
      "15:28:31 - plan - DEBUG - 📍 Vehicle 1: Distance to target: 4.59 m\n",
      "15:28:31 - plan - DEBUG - 📍 Vehicle 1: Distance to target: 4.44 m\n",
      "15:28:31 - plan - DEBUG - 📍 Vehicle 1: Distance to target: 4.26 m\n",
      "15:28:31 - plan - DEBUG - 📍 Vehicle 1: Distance to target: 4.06 m\n",
      "15:28:31 - plan - DEBUG - 📍 Vehicle 1: Distance to target: 3.85 m\n",
      "15:28:31 - plan - DEBUG - 📍 Vehicle 1: Distance to target: 3.61 m\n",
      "15:28:31 - plan - DEBUG - 📍 Vehicle 1: Distance to target: 3.37 m\n",
      "15:28:31 - plan - DEBUG - 📍 Vehicle 1: Distance to target: 3.13 m\n",
      "15:28:31 - plan - DEBUG - 📍 Vehicle 1: Distance to target: 2.88 m\n",
      "15:28:31 - plan - DEBUG - 📍 Vehicle 1: Distance to target: 2.64 m\n",
      "15:28:32 - plan - DEBUG - 📍 Vehicle 1: Distance to target: 2.39 m\n",
      "15:28:32 - plan - DEBUG - 📍 Vehicle 1: Distance to target: 2.15 m\n",
      "15:28:32 - plan - DEBUG - 📍 Vehicle 1: Distance to target: 1.92 m\n",
      "15:28:32 - plan - DEBUG - 📍 Vehicle 1: Distance to target: 1.69 m\n",
      "15:28:32 - plan - DEBUG - 📍 Vehicle 1: Distance to target: 1.48 m\n",
      "15:28:32 - plan - DEBUG - 📍 Vehicle 1: Distance to target: 1.28 m\n",
      "15:28:32 - plan - DEBUG - 📍 Vehicle 1: Distance to target: 1.10 m\n",
      "15:28:32 - plan - DEBUG - 📍 Vehicle 1: Distance to target: 0.92 m\n",
      "15:28:32 - plan - DEBUG - 📍 Vehicle 1: Distance to target: 0.75 m\n",
      "15:28:32 - plan - DEBUG - 📍 Vehicle 1: Distance to target: 0.61 m\n",
      "15:28:33 - plan - DEBUG - 📍 Vehicle 1: Distance to target: 0.47 m\n",
      "15:28:33 - plan - DEBUG - ✅ Vehicle 1: GoTo Done: go to ENU(x=0, y=5, z=5)\n",
      "15:28:33 - plan - DEBUG - Vehicle 1: 📡 Requested message GLOBAL_POSITION_INT at 10.00 Hz\n",
      "15:28:33 - plan - DEBUG - ▶️ Vehicle 1: GoTo Started: go to ENU(x=5, y=5, z=5)\n",
      "15:28:33 - plan - DEBUG - 📍 Vehicle 1: Distance to target: 4.59 m\n",
      "15:28:34 - plan - DEBUG - 📍 Vehicle 1: Distance to target: 4.45 m\n",
      "15:28:34 - plan - DEBUG - 📍 Vehicle 1: Distance to target: 4.27 m\n",
      "15:28:34 - plan - DEBUG - 📍 Vehicle 1: Distance to target: 4.08 m\n",
      "15:28:34 - plan - DEBUG - 📍 Vehicle 1: Distance to target: 3.86 m\n",
      "15:28:34 - plan - DEBUG - 📍 Vehicle 1: Distance to target: 3.63 m\n",
      "15:28:34 - plan - DEBUG - 📍 Vehicle 1: Distance to target: 3.38 m\n",
      "15:28:34 - plan - DEBUG - 📍 Vehicle 1: Distance to target: 3.15 m\n",
      "15:28:34 - plan - DEBUG - 📍 Vehicle 1: Distance to target: 2.90 m\n",
      "15:28:34 - plan - DEBUG - 📍 Vehicle 1: Distance to target: 2.66 m\n",
      "15:28:34 - plan - DEBUG - 📍 Vehicle 1: Distance to target: 2.41 m\n",
      "15:28:35 - plan - DEBUG - 📍 Vehicle 1: Distance to target: 2.18 m\n",
      "15:28:35 - plan - DEBUG - 📍 Vehicle 1: Distance to target: 1.95 m\n",
      "15:28:35 - plan - DEBUG - 📍 Vehicle 1: Distance to target: 1.74 m\n",
      "15:28:35 - plan - DEBUG - 📍 Vehicle 1: Distance to target: 1.53 m\n",
      "15:28:35 - plan - DEBUG - 📍 Vehicle 1: Distance to target: 1.34 m\n",
      "15:28:35 - plan - DEBUG - 📍 Vehicle 1: Distance to target: 1.15 m\n",
      "15:28:35 - plan - DEBUG - 📍 Vehicle 1: Distance to target: 0.98 m\n",
      "15:28:35 - plan - DEBUG - 📍 Vehicle 1: Distance to target: 0.82 m\n",
      "15:28:35 - plan - DEBUG - 📍 Vehicle 1: Distance to target: 0.68 m\n",
      "15:28:35 - plan - DEBUG - 📍 Vehicle 1: Distance to target: 0.56 m\n",
      "15:28:36 - plan - DEBUG - 📍 Vehicle 1: Distance to target: 0.44 m\n",
      "15:28:36 - plan - DEBUG - ✅ Vehicle 1: GoTo Done: go to ENU(x=5, y=5, z=5)\n",
      "15:28:36 - plan - DEBUG - Vehicle 1: 📡 Requested message GLOBAL_POSITION_INT at 10.00 Hz\n",
      "15:28:36 - plan - DEBUG - ▶️ Vehicle 1: GoTo Started: go to ENU(x=5, y=0, z=5)\n",
      "15:28:36 - plan - DEBUG - 📍 Vehicle 1: Distance to target: 4.66 m\n",
      "15:28:37 - plan - DEBUG - 📍 Vehicle 1: Distance to target: 4.51 m\n",
      "15:28:37 - plan - DEBUG - 📍 Vehicle 1: Distance to target: 4.32 m\n",
      "15:28:37 - plan - DEBUG - 📍 Vehicle 1: Distance to target: 4.12 m\n",
      "15:28:37 - plan - DEBUG - 📍 Vehicle 1: Distance to target: 3.89 m\n",
      "15:28:37 - plan - DEBUG - 📍 Vehicle 1: Distance to target: 3.65 m\n",
      "15:28:37 - plan - DEBUG - 📍 Vehicle 1: Distance to target: 3.40 m\n",
      "15:28:37 - plan - DEBUG - 📍 Vehicle 1: Distance to target: 3.16 m\n",
      "15:28:37 - plan - DEBUG - 📍 Vehicle 1: Distance to target: 2.91 m\n",
      "15:28:37 - plan - DEBUG - 📍 Vehicle 1: Distance to target: 2.67 m\n",
      "15:28:37 - plan - DEBUG - 📍 Vehicle 1: Distance to target: 2.42 m\n",
      "15:28:38 - plan - DEBUG - 📍 Vehicle 1: Distance to target: 2.19 m\n",
      "15:28:38 - plan - DEBUG - 📍 Vehicle 1: Distance to target: 1.96 m\n",
      "15:28:38 - plan - DEBUG - 📍 Vehicle 1: Distance to target: 1.74 m\n",
      "15:28:38 - plan - DEBUG - 📍 Vehicle 1: Distance to target: 1.53 m\n",
      "15:28:38 - plan - DEBUG - 📍 Vehicle 1: Distance to target: 1.33 m\n",
      "15:28:38 - plan - DEBUG - 📍 Vehicle 1: Distance to target: 1.14 m\n",
      "15:28:38 - plan - DEBUG - 📍 Vehicle 1: Distance to target: 0.97 m\n",
      "15:28:38 - plan - DEBUG - 📍 Vehicle 1: Distance to target: 0.82 m\n",
      "15:28:38 - plan - DEBUG - 📍 Vehicle 1: Distance to target: 0.68 m\n",
      "15:28:38 - plan - DEBUG - 📍 Vehicle 1: Distance to target: 0.54 m\n",
      "15:28:39 - plan - DEBUG - 📍 Vehicle 1: Distance to target: 0.42 m\n",
      "15:28:39 - plan - DEBUG - ✅ Vehicle 1: GoTo Done: go to ENU(x=5, y=0, z=5)\n",
      "15:28:39 - plan - DEBUG - Vehicle 1: 📡 Requested message GLOBAL_POSITION_INT at 10.00 Hz\n",
      "15:28:39 - plan - DEBUG - ▶️ Vehicle 1: GoTo Started: go to ENU(x=0, y=0, z=5)\n",
      "15:28:39 - plan - DEBUG - 📍 Vehicle 1: Distance to target: 4.62 m\n",
      "15:28:40 - plan - DEBUG - 📍 Vehicle 1: Distance to target: 4.45 m\n",
      "15:28:40 - plan - DEBUG - 📍 Vehicle 1: Distance to target: 4.26 m\n",
      "15:28:40 - plan - DEBUG - 📍 Vehicle 1: Distance to target: 4.07 m\n",
      "15:28:40 - plan - DEBUG - 📍 Vehicle 1: Distance to target: 3.84 m\n",
      "15:28:40 - plan - DEBUG - 📍 Vehicle 1: Distance to target: 3.60 m\n",
      "15:28:40 - plan - DEBUG - 📍 Vehicle 1: Distance to target: 3.36 m\n",
      "15:28:40 - plan - DEBUG - 📍 Vehicle 1: Distance to target: 3.11 m\n",
      "15:28:40 - plan - DEBUG - 📍 Vehicle 1: Distance to target: 2.86 m\n",
      "15:28:40 - plan - DEBUG - 📍 Vehicle 1: Distance to target: 2.61 m\n",
      "15:28:40 - plan - DEBUG - 📍 Vehicle 1: Distance to target: 2.38 m\n",
      "15:28:41 - plan - DEBUG - 📍 Vehicle 1: Distance to target: 2.14 m\n",
      "15:28:41 - plan - DEBUG - 📍 Vehicle 1: Distance to target: 1.92 m\n",
      "15:28:41 - plan - DEBUG - 📍 Vehicle 1: Distance to target: 1.71 m\n",
      "15:28:41 - plan - DEBUG - 📍 Vehicle 1: Distance to target: 1.50 m\n",
      "15:28:41 - plan - DEBUG - 📍 Vehicle 1: Distance to target: 1.31 m\n",
      "15:28:41 - plan - DEBUG - 📍 Vehicle 1: Distance to target: 1.13 m\n",
      "15:28:41 - plan - DEBUG - 📍 Vehicle 1: Distance to target: 0.96 m\n",
      "15:28:41 - plan - DEBUG - 📍 Vehicle 1: Distance to target: 0.80 m\n",
      "15:28:41 - plan - DEBUG - 📍 Vehicle 1: Distance to target: 0.67 m\n",
      "15:28:41 - plan - DEBUG - 📍 Vehicle 1: Distance to target: 0.54 m\n",
      "15:28:42 - plan - DEBUG - 📍 Vehicle 1: Distance to target: 0.42 m\n",
      "15:28:42 - plan - DEBUG - ✅ Vehicle 1: GoTo Done: go to ENU(x=0, y=0, z=5)\n",
      "15:28:42 - plan - INFO - ✅ Vehicle 1: Action Done: ✈️ FLY\n",
      "15:28:42 - plan - DEBUG - ▶️ Vehicle 1: Action Started: 🛬 LAND\n",
      "15:28:42 - plan - DEBUG - Vehicle 1: 📡 Requested message EXTENDED_SYS_STATE at 10.00 Hz\n",
      "15:28:42 - plan - DEBUG - Vehicle 1: 📡 Requested message LOCAL_POSITION_NED at 10.00 Hz\n",
      "15:28:42 - plan - DEBUG - ▶️ Vehicle 1: Land Started: Land UAV\n",
      "15:28:54 - plan - INFO - Vehicle 1: 🛬 Landed successfully.\n",
      "15:28:54 - plan - DEBUG - ✅ Vehicle 1: Land Done: Land UAV\n",
      "15:28:54 - plan - INFO - ✅ Vehicle 1: Action Done: 🛬 LAND\n",
      "15:28:54 - plan - INFO - ✅ Vehicle 1: Plan Done: 📋 Square Trajectory\n"
     ]
    }
   ],
   "source": [
    "plan.bind(conn,gra_origin.unpose())\n",
    "setup_logging('plan',verbose=2)\n",
    "while plan.state != State.DONE:\n",
    "    plan.act()"
   ]
  },
  {
   "cell_type": "code",
   "execution_count": 7,
   "metadata": {},
   "outputs": [
    {
     "name": "stdout",
     "output_type": "stream",
     "text": [
      "✅ <Plan '📋 Square Trajectory'>\n",
      "  ✅ <Action '🛡️ PREARM'>\n",
      "    ✅ <CheckDisarmed '🔹 Check disarmed'>\n",
      "    ✅ <EKFStatus '🔹 Check EKF status'>\n",
      "    ✅ <GPSStatus '🔹 Check GPS'>\n",
      "    ✅ <CheckSystem '🔹 Check system status'>\n",
      "  ✅ <Action '⚙️ MODE'>\n",
      "    ✅ <SwitchMode '🔹 Switch to GUIDED'>\n",
      "  ✅ <Action '🔒 ARM'>\n",
      "    ✅ <Arm '🔹 arm'>\n",
      "  ✅ <Action '🛫 TAKEOFF'>\n",
      "    ✅ <TakeOff '🔹 take off to 1.0 m'>\n",
      "  ✅ <Action '✈️ FLY'>\n",
      "    ✅ <GoTo '🔹 go to ENU(x=0, y=0, z=5)'>\n",
      "    ✅ <GoTo '🔹 go to ENU(x=0, y=5, z=5)'>\n",
      "    ✅ <GoTo '🔹 go to ENU(x=5, y=5, z=5)'>\n",
      "    ✅ <GoTo '🔹 go to ENU(x=5, y=0, z=5)'>\n",
      "    ✅ <GoTo '🔹 go to ENU(x=0, y=0, z=5)'>\n",
      "  ✅ <Action '🛬 LAND'>\n",
      "    ✅ <Land '🔹 Land UAV'>\n"
     ]
    }
   ],
   "source": [
    "print(plan)"
   ]
  },
  {
   "cell_type": "code",
   "execution_count": 8,
   "metadata": {},
   "outputs": [],
   "source": [
    "plan.reset()"
   ]
  },
  {
   "cell_type": "code",
   "execution_count": 9,
   "metadata": {},
   "outputs": [
    {
     "name": "stdout",
     "output_type": "stream",
     "text": [
      "🕓 <Plan '📋 Square Trajectory'>\n",
      "  🕓 <Action '🛡️ PREARM'>\n",
      "    🕓 <CheckDisarmed '🔹 Check disarmed'>\n",
      "    🕓 <EKFStatus '🔹 Check EKF status'>\n",
      "    🕓 <GPSStatus '🔹 Check GPS'>\n",
      "    🕓 <CheckSystem '🔹 Check system status'>\n",
      "  🕓 <Action '⚙️ MODE'>\n",
      "    🕓 <SwitchMode '🔹 Switch to GUIDED'>\n",
      "  🕓 <Action '🔒 ARM'>\n",
      "    🕓 <Arm '🔹 arm'>\n",
      "  🕓 <Action '🛫 TAKEOFF'>\n",
      "    🕓 <TakeOff '🔹 take off to 1.0 m'>\n",
      "  🕓 <Action '✈️ FLY'>\n",
      "    🕓 <GoTo '🔹 go to ENU(x=0, y=0, z=5)'>\n",
      "    🕓 <GoTo '🔹 go to ENU(x=0, y=5, z=5)'>\n",
      "    🕓 <GoTo '🔹 go to ENU(x=5, y=5, z=5)'>\n",
      "    🕓 <GoTo '🔹 go to ENU(x=5, y=0, z=5)'>\n",
      "    🕓 <GoTo '🔹 go to ENU(x=0, y=0, z=5)'>\n",
      "  🕓 <Action '🛬 LAND'>\n",
      "    🕓 <Land '🔹 Land UAV'>\n"
     ]
    }
   ],
   "source": [
    "print(plan)"
   ]
  }
 ],
 "metadata": {
  "kernelspec": {
   "display_name": "uav-cyber-sim11",
   "language": "python",
   "name": "python3"
  },
  "language_info": {
   "codemirror_mode": {
    "name": "ipython",
    "version": 3
   },
   "file_extension": ".py",
   "mimetype": "text/x-python",
   "name": "python",
   "nbconvert_exporter": "python",
   "pygments_lexer": "ipython3",
   "version": "3.11.13"
  }
 },
 "nbformat": 4,
 "nbformat_minor": 2
}
