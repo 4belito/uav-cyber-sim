{
 "cells": [
  {
   "cell_type": "markdown",
   "metadata": {},
   "source": [
    "## Simple Mission in Guided-Mode\n",
    "\n",
    "This notebook serves to get familiar with the simulator"
   ]
  },
  {
   "cell_type": "code",
   "execution_count": 1,
   "metadata": {},
   "outputs": [],
   "source": [
    "import os\n",
    "\n",
    "from config import (\n",
    "    ARDU_LOGS_PATH,\n",
    "    ARDUPILOT_VEHICLE_PATH,\n",
    "    ENV_CMD_PYT,\n",
    "    VEH_PARAMS_PATH,\n",
    "    BasePort,\n",
    ")\n",
    "from helpers import clean, create_process, setup_logging, wait_for_port\n",
    "from helpers.connections.mavlink.conn import create_tcp_conn\n",
    "from plan import State\n",
    "from plan.planner import Plan\n",
    "\n",
    "clean()"
   ]
  },
  {
   "cell_type": "markdown",
   "metadata": {},
   "source": [
    "## Launch Copter (ardupilot)"
   ]
  },
  {
   "cell_type": "code",
   "execution_count": 2,
   "metadata": {},
   "outputs": [
    {
     "name": "stdout",
     "output_type": "stream",
     "text": [
      "Waiting for port 5760 to open...\n",
      "Waiting for port 5760 to open...\n",
      "Waiting for port 5760 to open...\n",
      "Waiting for port 5760 to open...\n",
      "Waiting for port 5760 to open...\n",
      "Waiting for port 5760 to open...\n",
      "Waiting for port 5760 to open...\n",
      "Waiting for port 5760 to open...\n",
      "Waiting for port 5760 to open...\n",
      "Waiting for port 5760 to open...\n",
      "Waiting for port 5760 to open...\n",
      "Waiting for port 5760 to open...\n",
      "Waiting for port 5760 to open...\n",
      "Waiting for port 5760 to open...\n",
      "Waiting for port 5760 to open...\n"
     ]
    }
   ],
   "source": [
    "#This must agree with first waypoint in mission.waypoint\n",
    "spawn_str= '-35.3633245,149.1652241,0.0,0' \n",
    "\n",
    "sim_vehicle_path = os.path.expanduser(ARDUPILOT_VEHICLE_PATH)\n",
    "sysid = 1\n",
    "vehicle_cmd = (\n",
    "    f\"python3 {sim_vehicle_path} \"\n",
    "    f\"-v ArduCopter \"\n",
    "    f\"-I{sysid-1} --sysid {sysid} \"\n",
    "    f\"--no-rebuild \"\n",
    "    f\"--use-dir={ARDU_LOGS_PATH} \"\n",
    "    f\"--add-param-file {VEH_PARAMS_PATH} \"\n",
    "    f\"--no-mavproxy \"\n",
    "    f\"--port-offset=0 \"  # ArduPilot automatically binds TCP port 5760 (BasePort.ARP)\n",
    "    f'--custom-location={spawn_str}'\n",
    ")\n",
    "\n",
    "create_process(\n",
    "                vehicle_cmd,\n",
    "                after=\"exec bash\",\n",
    "                visible= True,\n",
    "                suppress_output=False,\n",
    "                title=\"ardu_vehicle\",\n",
    "                env_cmd=ENV_CMD_PYT,\n",
    "            )\n",
    "wait_for_port(BasePort.ARP, timeout=1)"
   ]
  },
  {
   "cell_type": "markdown",
   "metadata": {},
   "source": [
    "## Connect to the vehicle"
   ]
  },
  {
   "cell_type": "code",
   "execution_count": 3,
   "metadata": {},
   "outputs": [
    {
     "name": "stdout",
     "output_type": "stream",
     "text": [
      "✅ TCP connection established!\n"
     ]
    }
   ],
   "source": [
    "conn = create_tcp_conn(\n",
    "    base_port=BasePort.ARP, \n",
    "    offset=0,\n",
    "    role=\"client\", \n",
    "    sysid=sysid\n",
    ")\n",
    "\n",
    "print(\"✅ TCP connection established!\")"
   ]
  },
  {
   "cell_type": "markdown",
   "metadata": {},
   "source": [
    "## Create Plan in guided mode\n",
    "\n",
    "Action commands are sent online, in contrast to auto mode where the full plan is loaded into the UAV before starting the mission."
   ]
  },
  {
   "cell_type": "code",
   "execution_count": 4,
   "metadata": {},
   "outputs": [],
   "source": [
    "plan = Plan.square(side_len=5, alt=5, wp_margin=0.5, navegation_speed=5)"
   ]
  },
  {
   "cell_type": "code",
   "execution_count": 5,
   "metadata": {},
   "outputs": [
    {
     "data": {
      "text/plain": [
       "🕓 <Plan '📋 Square Trajectory'>\n",
       "  🕓 <Action '🔧 PREARM'>\n",
       "    🕓 <CheckDisarmed '🔹 Check disarmed'>\n",
       "    🕓 <EFKStatus '🔹 Check EKF status'>\n",
       "    🕓 <GPSStatus '🔹 Check GPS'>\n",
       "    🕓 <CheckSystem '🔹 Check system status'>\n",
       "  🕓 <Action '⚙️  MODE: GUIDED'>\n",
       "    🕓 <SwitchMode '🔹 Switch to GUIDED'>\n",
       "  🕓 <Action '🔐 ARM'>\n",
       "    🕓 <Arm '🔹 arm'>\n",
       "  🕓 <Action '🛫 TAKEOFF'>\n",
       "    🕓 <TakeOff '🔹 take off to 1.0 m'>\n",
       "  🕓 <Action '🛩️ FLY'>\n",
       "    🕓 <GoTo '🔹 go to  -> (0, 0, 5)'>\n",
       "    🕓 <GoTo '🔹 go to  -> (0, 5, 5)'>\n",
       "    🕓 <GoTo '🔹 go to  -> (5, 5, 5)'>\n",
       "    🕓 <GoTo '🔹 go to  -> (5, 0, 5)'>\n",
       "    🕓 <GoTo '🔹 go to  -> (0, 0, 5)'>\n",
       "  🕓 <Action '🛬 LAND'>\n",
       "    🕓 <Land '🔹 land'>"
      ]
     },
     "execution_count": 5,
     "metadata": {},
     "output_type": "execute_result"
    }
   ],
   "source": [
    "plan"
   ]
  },
  {
   "cell_type": "markdown",
   "metadata": {},
   "source": [
    "# Execute Plan in guided mode"
   ]
  },
  {
   "cell_type": "code",
   "execution_count": null,
   "metadata": {},
   "outputs": [
    {
     "name": "stderr",
     "output_type": "stream",
     "text": [
      "11:18:23 - plan - DEBUG - ▶️ Vehicle 1: Plan Started: 📋 Square Trajectory\n",
      "11:18:23 - plan - DEBUG - ▶️ Vehicle 1: Action Started: 🔧 PREARM\n",
      "11:18:23 - plan - DEBUG - ▶️ Vehicle 1: CheckDisarmed Started: Check disarmed\n",
      "11:18:23 - plan - DEBUG - ✅ Vehicle 1: CheckDisarmed Done: Check disarmed\n",
      "11:18:23 - plan - DEBUG - Vehicle 1: 📡 Requested message EKF_STATUS_REPORT at 1.00 Hz\n",
      "11:18:23 - plan - DEBUG - ▶️ Vehicle 1: EFKStatus Started: Check EKF status\n",
      "11:18:26 - plan - DEBUG - 🛰️ Vehicle 1: Waiting for EKF to be ready... Pending: ATTITUDE, VELOCITY_HORIZ, POS_VERT_ABS, POS_HORIZ_ABS\n",
      "11:18:27 - plan - DEBUG - 🛰️ Vehicle 1: Waiting for EKF to be ready... Pending: ATTITUDE, VELOCITY_HORIZ, POS_VERT_ABS, POS_HORIZ_ABS\n",
      "11:18:28 - plan - DEBUG - 🛰️ Vehicle 1: Waiting for EKF to be ready... Pending: POS_HORIZ_ABS\n",
      "11:18:29 - plan - DEBUG - 🛰️ Vehicle 1: Waiting for EKF to be ready... Pending: POS_HORIZ_ABS\n",
      "11:18:30 - plan - DEBUG - 🛰️ Vehicle 1: Waiting for EKF to be ready... Pending: POS_HORIZ_ABS\n",
      "11:18:31 - plan - DEBUG - 🛰️ Vehicle 1: Waiting for EKF to be ready... Pending: POS_HORIZ_ABS\n",
      "11:18:32 - plan - DEBUG - 🛰️ Vehicle 1: Waiting for EKF to be ready... Pending: POS_HORIZ_ABS\n",
      "11:18:33 - plan - DEBUG - 🛰️ Vehicle 1: Waiting for EKF to be ready... Pending: POS_HORIZ_ABS\n",
      "11:18:34 - plan - DEBUG - 🛰️ Vehicle 1: Waiting for EKF to be ready... Pending: POS_HORIZ_ABS\n",
      "11:18:35 - plan - DEBUG - 🛰️ Vehicle 1: Waiting for EKF to be ready... Pending: POS_HORIZ_ABS\n",
      "11:18:36 - plan - DEBUG - 🛰️ Vehicle 1: Waiting for EKF to be ready... Pending: POS_HORIZ_ABS\n",
      "11:18:37 - plan - DEBUG - 🛰️ Vehicle 1: Waiting for EKF to be ready... Pending: POS_HORIZ_ABS\n",
      "11:18:38 - plan - DEBUG - 🛰️ Vehicle 1: Waiting for EKF to be ready... Pending: POS_HORIZ_ABS\n",
      "11:18:39 - plan - DEBUG - 🛰️ Vehicle 1: Waiting for EKF to be ready... Pending: POS_HORIZ_ABS\n",
      "11:18:40 - plan - DEBUG - 🛰️ Vehicle 1: Waiting for EKF to be ready... Pending: POS_HORIZ_ABS\n",
      "11:18:41 - plan - DEBUG - 🛰️ Vehicle 1: Waiting for EKF to be ready... Pending: POS_HORIZ_ABS\n",
      "11:18:42 - plan - DEBUG - 🛰️ Vehicle 1: Waiting for EKF to be ready... Pending: POS_HORIZ_ABS\n",
      "11:18:43 - plan - DEBUG - 🛰️ Vehicle 1: Waiting for EKF to be ready... Pending: POS_HORIZ_ABS\n",
      "11:18:44 - plan - DEBUG - 🛰️ Vehicle 1: Waiting for EKF to be ready... Pending: POS_HORIZ_ABS\n",
      "11:18:45 - plan - DEBUG - 🛰️ Vehicle 1: Waiting for EKF to be ready... Pending: POS_HORIZ_ABS\n",
      "11:18:46 - plan - DEBUG - 🛰️ Vehicle 1: Waiting for EKF to be ready... Pending: POS_HORIZ_ABS\n",
      "11:18:47 - plan - DEBUG - 🛰️ Vehicle 1: Waiting for EKF to be ready... Pending: POS_HORIZ_ABS\n",
      "11:18:48 - plan - DEBUG - 🛰️ Vehicle 1: Waiting for EKF to be ready... Pending: POS_HORIZ_ABS\n",
      "11:18:49 - plan - DEBUG - 🛰️ Vehicle 1: Waiting for EKF to be ready... Pending: POS_HORIZ_ABS\n",
      "11:18:50 - plan - DEBUG - 🛰️ Vehicle 1: Waiting for EKF to be ready... Pending: POS_HORIZ_ABS\n",
      "11:18:51 - plan - DEBUG - 🛰️ Vehicle 1: Waiting for EKF to be ready... Pending: POS_HORIZ_ABS\n",
      "11:18:52 - plan - DEBUG - 🛰️ Vehicle 1: Waiting for EKF to be ready... Pending: POS_HORIZ_ABS\n",
      "11:18:53 - plan - DEBUG - 🛰️ Vehicle 1: Waiting for EKF to be ready... Pending: POS_HORIZ_ABS\n",
      "11:18:54 - plan - DEBUG - 🛰️ Vehicle 1: Waiting for EKF to be ready... Pending: POS_HORIZ_ABS\n",
      "11:18:55 - plan - DEBUG - 🛰️ Vehicle 1: Waiting for EKF to be ready... Pending: POS_HORIZ_ABS\n",
      "11:18:56 - plan - DEBUG - 🛰️ Vehicle 1: Waiting for EKF to be ready... Pending: POS_HORIZ_ABS\n",
      "11:18:57 - plan - DEBUG - 🛰️ Vehicle 1: Waiting for EKF to be ready... Pending: POS_HORIZ_ABS\n",
      "11:18:58 - plan - DEBUG - 🛰️ Vehicle 1: Waiting for EKF to be ready... Pending: POS_HORIZ_ABS\n",
      "11:18:59 - plan - DEBUG - 🛰️ Vehicle 1: Waiting for EKF to be ready... Pending: POS_HORIZ_ABS\n",
      "11:19:00 - plan - DEBUG - 🛰️ Vehicle 1: Waiting for EKF to be ready... Pending: POS_HORIZ_ABS\n",
      "11:19:01 - plan - DEBUG - 🛰️ Vehicle 1: Waiting for EKF to be ready... Pending: POS_HORIZ_ABS\n",
      "11:19:02 - plan - DEBUG - 🛰️ Vehicle 1: Waiting for EKF to be ready... Pending: POS_HORIZ_ABS\n",
      "11:19:03 - plan - DEBUG - 🛰️ Vehicle 1: Waiting for EKF to be ready... Pending: POS_HORIZ_ABS\n",
      "11:19:04 - plan - DEBUG - ✅ Vehicle 1: EFKStatus Done: Check EKF status\n",
      "11:19:04 - plan - DEBUG - Vehicle 1: 📡 Requested message GPS_RAW_INT at 1.00 Hz\n",
      "11:19:04 - plan - DEBUG - ▶️ Vehicle 1: GPSStatus Started: Check GPS\n",
      "11:19:05 - plan - DEBUG - ✅ Vehicle 1: GPSStatus Done: Check GPS\n",
      "11:19:05 - plan - DEBUG - Vehicle 1: 📡 Requested message SYS_STATUS at 1.00 Hz\n",
      "11:19:05 - plan - DEBUG - ▶️ Vehicle 1: CheckSystem Started: Check system status\n",
      "11:19:07 - plan - DEBUG - ✅ Vehicle 1: CheckSystem Done: Check system status\n",
      "11:19:07 - plan - INFO - ✅ Vehicle 1: Action Done: 🔧 PREARM\n",
      "11:19:07 - plan - DEBUG - ▶️ Vehicle 1: Action Started: ⚙️  MODE: GUIDED\n",
      "11:19:07 - plan - DEBUG - ▶️ Vehicle 1: SwitchMode Started: Switch to GUIDED\n",
      "11:19:07 - plan - DEBUG - ✅ Vehicle 1: SwitchMode Done: Switch to GUIDED\n",
      "11:19:07 - plan - INFO - ✅ Vehicle 1: Action Done: ⚙️  MODE: GUIDED\n",
      "11:19:07 - plan - DEBUG - ▶️ Vehicle 1: Action Started: 🔐 ARM\n",
      "11:19:07 - plan - DEBUG - ▶️ Vehicle 1: Arm Started: arm\n",
      "11:19:08 - plan - DEBUG - ✅ Vehicle 1: Arm Done: arm\n",
      "11:19:08 - plan - INFO - ✅ Vehicle 1: Action Done: 🔐 ARM\n",
      "11:19:08 - plan - DEBUG - ▶️ Vehicle 1: Action Started: 🛫 TAKEOFF\n",
      "11:19:08 - plan - DEBUG - Vehicle 1: 📡 Requested message EXTENDED_SYS_STATE at 1.00 Hz\n",
      "11:19:08 - plan - DEBUG - ▶️ Vehicle 1: TakeOff Started: take off to 1.0 m\n",
      "11:19:11 - plan - DEBUG - ✅ Vehicle 1: TakeOff Done: take off to 1.0 m\n",
      "11:19:11 - plan - INFO - ✅ Vehicle 1: Action Done: 🛫 TAKEOFF\n",
      "11:19:11 - plan - DEBUG - ▶️ Vehicle 1: Action Started: 🛩️ FLY\n",
      "11:19:11 - plan - DEBUG - Vehicle 1: 📡 Requested message LOCAL_POSITION_NED at 10.00 Hz\n",
      "11:19:11 - plan - DEBUG - ▶️ Vehicle 1: GoTo Started: go to  -> (0, 0, 5)\n",
      "11:19:12 - plan - DEBUG - 📍 Vehicle 1: Distance to target: 3.54 m\n",
      "11:19:12 - plan - DEBUG - 📍 Vehicle 1: Distance to target: 3.36 m\n",
      "11:19:12 - plan - DEBUG - 📍 Vehicle 1: Distance to target: 3.18 m\n",
      "11:19:12 - plan - DEBUG - 📍 Vehicle 1: Distance to target: 2.99 m\n",
      "11:19:13 - plan - DEBUG - 📍 Vehicle 1: Distance to target: 2.81 m\n",
      "11:19:13 - plan - DEBUG - 📍 Vehicle 1: Distance to target: 2.63 m\n",
      "11:19:13 - plan - DEBUG - 📍 Vehicle 1: Distance to target: 2.45 m\n",
      "11:19:13 - plan - DEBUG - 📍 Vehicle 1: Distance to target: 2.28 m\n",
      "11:19:13 - plan - DEBUG - 📍 Vehicle 1: Distance to target: 2.11 m\n",
      "11:19:13 - plan - DEBUG - 📍 Vehicle 1: Distance to target: 1.95 m\n",
      "11:19:13 - plan - DEBUG - 📍 Vehicle 1: Distance to target: 1.80 m\n",
      "11:19:13 - plan - DEBUG - 📍 Vehicle 1: Distance to target: 1.65 m\n",
      "11:19:13 - plan - DEBUG - 📍 Vehicle 1: Distance to target: 1.51 m\n",
      "11:19:13 - plan - DEBUG - 📍 Vehicle 1: Distance to target: 1.38 m\n",
      "11:19:14 - plan - DEBUG - 📍 Vehicle 1: Distance to target: 1.25 m\n",
      "11:19:14 - plan - DEBUG - 📍 Vehicle 1: Distance to target: 1.13 m\n",
      "11:19:14 - plan - DEBUG - 📍 Vehicle 1: Distance to target: 1.02 m\n",
      "11:19:14 - plan - DEBUG - 📍 Vehicle 1: Distance to target: 0.91 m\n",
      "11:19:14 - plan - DEBUG - 📍 Vehicle 1: Distance to target: 0.81 m\n",
      "11:19:14 - plan - DEBUG - 📍 Vehicle 1: Distance to target: 0.71 m\n",
      "11:19:14 - plan - DEBUG - 📍 Vehicle 1: Distance to target: 0.62 m\n",
      "11:19:14 - plan - DEBUG - 📍 Vehicle 1: Distance to target: 0.54 m\n",
      "11:19:14 - plan - DEBUG - 📍 Vehicle 1: Distance to target: 0.46 m\n",
      "11:19:14 - plan - DEBUG - ✅ Vehicle 1: GoTo Done: go to  -> (0, 0, 5)\n",
      "11:19:14 - plan - DEBUG - Vehicle 1: 📡 Requested message LOCAL_POSITION_NED at 10.00 Hz\n",
      "11:19:14 - plan - DEBUG - ▶️ Vehicle 1: GoTo Started: go to  -> (0, 5, 5)\n",
      "11:19:15 - plan - DEBUG - 📍 Vehicle 1: Distance to target: 4.70 m\n",
      "11:19:15 - plan - DEBUG - 📍 Vehicle 1: Distance to target: 4.58 m\n",
      "11:19:15 - plan - DEBUG - 📍 Vehicle 1: Distance to target: 4.43 m\n",
      "11:19:15 - plan - DEBUG - 📍 Vehicle 1: Distance to target: 4.25 m\n",
      "11:19:16 - plan - DEBUG - 📍 Vehicle 1: Distance to target: 4.05 m\n",
      "11:19:16 - plan - DEBUG - 📍 Vehicle 1: Distance to target: 3.83 m\n",
      "11:19:16 - plan - DEBUG - 📍 Vehicle 1: Distance to target: 3.60 m\n",
      "11:19:16 - plan - DEBUG - 📍 Vehicle 1: Distance to target: 3.36 m\n",
      "11:19:16 - plan - DEBUG - 📍 Vehicle 1: Distance to target: 3.11 m\n",
      "11:19:16 - plan - DEBUG - 📍 Vehicle 1: Distance to target: 2.87 m\n",
      "11:19:16 - plan - DEBUG - 📍 Vehicle 1: Distance to target: 2.62 m\n",
      "11:19:16 - plan - DEBUG - 📍 Vehicle 1: Distance to target: 2.38 m\n",
      "11:19:16 - plan - DEBUG - 📍 Vehicle 1: Distance to target: 2.14 m\n",
      "11:19:16 - plan - DEBUG - 📍 Vehicle 1: Distance to target: 1.91 m\n",
      "11:19:17 - plan - DEBUG - 📍 Vehicle 1: Distance to target: 1.69 m\n",
      "11:19:17 - plan - DEBUG - 📍 Vehicle 1: Distance to target: 1.48 m\n",
      "11:19:17 - plan - DEBUG - 📍 Vehicle 1: Distance to target: 1.27 m\n",
      "11:19:17 - plan - DEBUG - 📍 Vehicle 1: Distance to target: 1.08 m\n",
      "11:19:17 - plan - DEBUG - 📍 Vehicle 1: Distance to target: 0.91 m\n",
      "11:19:17 - plan - DEBUG - 📍 Vehicle 1: Distance to target: 0.74 m\n",
      "11:19:17 - plan - DEBUG - 📍 Vehicle 1: Distance to target: 0.59 m\n",
      "11:19:17 - plan - DEBUG - 📍 Vehicle 1: Distance to target: 0.46 m\n",
      "11:19:17 - plan - DEBUG - ✅ Vehicle 1: GoTo Done: go to  -> (0, 5, 5)\n",
      "11:19:17 - plan - DEBUG - Vehicle 1: 📡 Requested message LOCAL_POSITION_NED at 10.00 Hz\n",
      "11:19:17 - plan - DEBUG - ▶️ Vehicle 1: GoTo Started: go to  -> (5, 5, 5)\n"
     ]
    }
   ],
   "source": [
    "plan.bind(conn)\n",
    "setup_logging('plan',verbose=2)\n",
    "while plan.state != State.DONE:\n",
    "    plan.act()"
   ]
  },
  {
   "cell_type": "code",
   "execution_count": null,
   "metadata": {},
   "outputs": [
    {
     "name": "stdout",
     "output_type": "stream",
     "text": [
      "✅ <Plan '📋 Square Trajectory'>\n",
      "  ✅ <Action '🔧 PREARM'>\n",
      "    ✅ <CheckDisarmed '🔹 Check disarmed'>\n",
      "    ✅ <EFKStatus '🔹 Check EKF status'>\n",
      "    ✅ <GPSStatus '🔹 Check GPS'>\n",
      "    ✅ <CheckSystem '🔹 Check system status'>\n",
      "  ✅ <Action '⚙️  MODE: GUIDED'>\n",
      "    ✅ <SwitchMode '🔹 Switch to GUIDED'>\n",
      "  ✅ <Action '🔐 ARM'>\n",
      "    ✅ <Arm '🔹 arm'>\n",
      "  ✅ <Action '🛫 TAKEOFF'>\n",
      "    ✅ <TakeOff '🔹 take off to 1.0 m'>\n",
      "  ✅ <Action '🛩️ FLY'>\n",
      "    ✅ <GoTo '🔹 go to  -> (0, 0, 5)'>\n",
      "    ✅ <GoTo '🔹 go to  -> (0, 5, 5)'>\n",
      "    ✅ <GoTo '🔹 go to  -> (5, 5, 5)'>\n",
      "    ✅ <GoTo '🔹 go to  -> (5, 0, 5)'>\n",
      "    ✅ <GoTo '🔹 go to  -> (0, 0, 5)'>\n",
      "  ✅ <Action '🛬 LAND'>\n",
      "    ✅ <Land '🔹 land'>\n"
     ]
    }
   ],
   "source": [
    "print(plan)"
   ]
  },
  {
   "cell_type": "code",
   "execution_count": null,
   "metadata": {},
   "outputs": [],
   "source": [
    "plan.reset()"
   ]
  },
  {
   "cell_type": "code",
   "execution_count": null,
   "metadata": {},
   "outputs": [
    {
     "name": "stdout",
     "output_type": "stream",
     "text": [
      "🕓 <Plan '📋 Square Trajectory'>\n",
      "  🕓 <Action '🔧 PREARM'>\n",
      "    🕓 <CheckDisarmed '🔹 Check disarmed'>\n",
      "    🕓 <EFKStatus '🔹 Check EKF status'>\n",
      "    🕓 <GPSStatus '🔹 Check GPS'>\n",
      "    🕓 <CheckSystem '🔹 Check system status'>\n",
      "  🕓 <Action '⚙️  MODE: GUIDED'>\n",
      "    🕓 <SwitchMode '🔹 Switch to GUIDED'>\n",
      "  🕓 <Action '🔐 ARM'>\n",
      "    🕓 <Arm '🔹 arm'>\n",
      "  🕓 <Action '🛫 TAKEOFF'>\n",
      "    🕓 <TakeOff '🔹 take off to 1.0 m'>\n",
      "  🕓 <Action '🛩️ FLY'>\n",
      "    🕓 <GoTo '🔹 go to  -> (0, 0, 5)'>\n",
      "    🕓 <GoTo '🔹 go to  -> (0, 5, 5)'>\n",
      "    🕓 <GoTo '🔹 go to  -> (5, 5, 5)'>\n",
      "    🕓 <GoTo '🔹 go to  -> (5, 0, 5)'>\n",
      "    🕓 <GoTo '🔹 go to  -> (0, 0, 5)'>\n",
      "  🕓 <Action '🛬 LAND'>\n",
      "    🕓 <Land '🔹 land'>\n"
     ]
    }
   ],
   "source": [
    "print(plan)"
   ]
  }
 ],
 "metadata": {
  "kernelspec": {
   "display_name": "uav-cyber-sim11",
   "language": "python",
   "name": "python3"
  },
  "language_info": {
   "codemirror_mode": {
    "name": "ipython",
    "version": 3
   },
   "file_extension": ".py",
   "mimetype": "text/x-python",
   "name": "python",
   "nbconvert_exporter": "python",
   "pygments_lexer": "ipython3",
   "version": "3.11.13"
  }
 },
 "nbformat": 4,
 "nbformat_minor": 2
}
