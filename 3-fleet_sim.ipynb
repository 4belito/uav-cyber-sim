{
 "cells": [
  {
   "cell_type": "markdown",
   "metadata": {},
   "source": [
    "## UAV fleet Simulation \n",
    "\n",
    "This is for testing propouses"
   ]
  },
  {
   "cell_type": "code",
   "execution_count": 1,
   "metadata": {},
   "outputs": [],
   "source": [
    "import numpy as np\n",
    "\n",
    "# Custom modules\n",
    "from helpers import local2global, plot_3d_interactive, kill_processes\n",
    "from simulators import Simulator, Gazebo, QGC\n",
    "from plan import Plan, State\n",
    "from oracle import Oracle\n",
    "\n",
    "kill_processes()"
   ]
  },
  {
   "cell_type": "markdown",
   "metadata": {},
   "source": [
    "## Create Plans"
   ]
  },
  {
   "cell_type": "code",
   "execution_count": 2,
   "metadata": {},
   "outputs": [],
   "source": [
    "offsets = [  # east, north, up, heading\n",
    "    (5, 5, 0, 90),\n",
    "    (10, 0, 0, 45),\n",
    "    (-5, -10, 0, 225),\n",
    "    (-15, 0, 0, 0),\n",
    "    (0, -20, 0, 0),\n",
    "]\n",
    "n_vehicles = len(offsets)\n",
    "side_lens = (5, 7, 4, 1, 2)  # must agree with n_vehicles\n",
    "local_paths = [\n",
    "    Plan.create_square_path(side_len=side_len, alt=5) for side_len in side_lens\n",
    "]\n",
    "plans = [Plan.basic(wps=path, alt=5, wp_margin=0.5) for path in local_paths]"
   ]
  },
  {
   "cell_type": "markdown",
   "metadata": {},
   "source": [
    "## Visualization Parameters"
   ]
  },
  {
   "cell_type": "code",
   "execution_count": 3,
   "metadata": {},
   "outputs": [
    {
     "data": {
      "application/vnd.plotly.v1+json": {
       "config": {
        "plotlyServerURL": "https://plot.ly"
       },
       "data": [
        {
         "marker": {
          "color": "Green",
          "size": 6
         },
         "mode": "markers",
         "name": "waypoint_1",
         "type": "scatter3d",
         "x": [
          5,
          5,
          10,
          10,
          5
         ],
         "y": [
          5,
          10,
          10,
          5,
          5
         ],
         "z": [
          5,
          5,
          5,
          5,
          5
         ]
        },
        {
         "marker": {
          "color": "Blue",
          "size": 6
         },
         "mode": "markers",
         "name": "waypoint_2",
         "type": "scatter3d",
         "x": [
          10,
          10,
          17,
          17,
          10
         ],
         "y": [
          0,
          7,
          7,
          0,
          0
         ],
         "z": [
          5,
          5,
          5,
          5,
          5
         ]
        },
        {
         "marker": {
          "color": "Red",
          "size": 6
         },
         "mode": "markers",
         "name": "waypoint_3",
         "type": "scatter3d",
         "x": [
          -5,
          -5,
          -1,
          -1,
          -5
         ],
         "y": [
          -10,
          -6,
          -6,
          -10,
          -10
         ],
         "z": [
          5,
          5,
          5,
          5,
          5
         ]
        },
        {
         "marker": {
          "color": "Orange",
          "size": 6
         },
         "mode": "markers",
         "name": "waypoint_4",
         "type": "scatter3d",
         "x": [
          -15,
          -15,
          -14,
          -14,
          -15
         ],
         "y": [
          0,
          1,
          1,
          0,
          0
         ],
         "z": [
          5,
          5,
          5,
          5,
          5
         ]
        },
        {
         "marker": {
          "color": "Yellow",
          "size": 6
         },
         "mode": "markers",
         "name": "waypoint_5",
         "type": "scatter3d",
         "x": [
          0,
          0,
          2,
          2,
          0
         ],
         "y": [
          -20,
          -18,
          -18,
          -20,
          -20
         ],
         "z": [
          5,
          5,
          5,
          5,
          5
         ]
        }
       ],
       "layout": {
        "height": 600,
        "scene": {
         "xaxis": {
          "range": [
           -21.4,
           23.4
          ],
          "title": {
           "text": "x"
          }
         },
         "yaxis": {
          "range": [
           -26,
           16
          ],
          "title": {
           "text": "y"
          }
         },
         "zaxis": {
          "range": [
           -0.05,
           5
          ],
          "title": {
           "text": "z"
          }
         }
        },
        "showlegend": true,
        "template": {
         "data": {
          "bar": [
           {
            "error_x": {
             "color": "#2a3f5f"
            },
            "error_y": {
             "color": "#2a3f5f"
            },
            "marker": {
             "line": {
              "color": "#E5ECF6",
              "width": 0.5
             },
             "pattern": {
              "fillmode": "overlay",
              "size": 10,
              "solidity": 0.2
             }
            },
            "type": "bar"
           }
          ],
          "barpolar": [
           {
            "marker": {
             "line": {
              "color": "#E5ECF6",
              "width": 0.5
             },
             "pattern": {
              "fillmode": "overlay",
              "size": 10,
              "solidity": 0.2
             }
            },
            "type": "barpolar"
           }
          ],
          "carpet": [
           {
            "aaxis": {
             "endlinecolor": "#2a3f5f",
             "gridcolor": "white",
             "linecolor": "white",
             "minorgridcolor": "white",
             "startlinecolor": "#2a3f5f"
            },
            "baxis": {
             "endlinecolor": "#2a3f5f",
             "gridcolor": "white",
             "linecolor": "white",
             "minorgridcolor": "white",
             "startlinecolor": "#2a3f5f"
            },
            "type": "carpet"
           }
          ],
          "choropleth": [
           {
            "colorbar": {
             "outlinewidth": 0,
             "ticks": ""
            },
            "type": "choropleth"
           }
          ],
          "contour": [
           {
            "colorbar": {
             "outlinewidth": 0,
             "ticks": ""
            },
            "colorscale": [
             [
              0,
              "#0d0887"
             ],
             [
              0.1111111111111111,
              "#46039f"
             ],
             [
              0.2222222222222222,
              "#7201a8"
             ],
             [
              0.3333333333333333,
              "#9c179e"
             ],
             [
              0.4444444444444444,
              "#bd3786"
             ],
             [
              0.5555555555555556,
              "#d8576b"
             ],
             [
              0.6666666666666666,
              "#ed7953"
             ],
             [
              0.7777777777777778,
              "#fb9f3a"
             ],
             [
              0.8888888888888888,
              "#fdca26"
             ],
             [
              1,
              "#f0f921"
             ]
            ],
            "type": "contour"
           }
          ],
          "contourcarpet": [
           {
            "colorbar": {
             "outlinewidth": 0,
             "ticks": ""
            },
            "type": "contourcarpet"
           }
          ],
          "heatmap": [
           {
            "colorbar": {
             "outlinewidth": 0,
             "ticks": ""
            },
            "colorscale": [
             [
              0,
              "#0d0887"
             ],
             [
              0.1111111111111111,
              "#46039f"
             ],
             [
              0.2222222222222222,
              "#7201a8"
             ],
             [
              0.3333333333333333,
              "#9c179e"
             ],
             [
              0.4444444444444444,
              "#bd3786"
             ],
             [
              0.5555555555555556,
              "#d8576b"
             ],
             [
              0.6666666666666666,
              "#ed7953"
             ],
             [
              0.7777777777777778,
              "#fb9f3a"
             ],
             [
              0.8888888888888888,
              "#fdca26"
             ],
             [
              1,
              "#f0f921"
             ]
            ],
            "type": "heatmap"
           }
          ],
          "histogram": [
           {
            "marker": {
             "pattern": {
              "fillmode": "overlay",
              "size": 10,
              "solidity": 0.2
             }
            },
            "type": "histogram"
           }
          ],
          "histogram2d": [
           {
            "colorbar": {
             "outlinewidth": 0,
             "ticks": ""
            },
            "colorscale": [
             [
              0,
              "#0d0887"
             ],
             [
              0.1111111111111111,
              "#46039f"
             ],
             [
              0.2222222222222222,
              "#7201a8"
             ],
             [
              0.3333333333333333,
              "#9c179e"
             ],
             [
              0.4444444444444444,
              "#bd3786"
             ],
             [
              0.5555555555555556,
              "#d8576b"
             ],
             [
              0.6666666666666666,
              "#ed7953"
             ],
             [
              0.7777777777777778,
              "#fb9f3a"
             ],
             [
              0.8888888888888888,
              "#fdca26"
             ],
             [
              1,
              "#f0f921"
             ]
            ],
            "type": "histogram2d"
           }
          ],
          "histogram2dcontour": [
           {
            "colorbar": {
             "outlinewidth": 0,
             "ticks": ""
            },
            "colorscale": [
             [
              0,
              "#0d0887"
             ],
             [
              0.1111111111111111,
              "#46039f"
             ],
             [
              0.2222222222222222,
              "#7201a8"
             ],
             [
              0.3333333333333333,
              "#9c179e"
             ],
             [
              0.4444444444444444,
              "#bd3786"
             ],
             [
              0.5555555555555556,
              "#d8576b"
             ],
             [
              0.6666666666666666,
              "#ed7953"
             ],
             [
              0.7777777777777778,
              "#fb9f3a"
             ],
             [
              0.8888888888888888,
              "#fdca26"
             ],
             [
              1,
              "#f0f921"
             ]
            ],
            "type": "histogram2dcontour"
           }
          ],
          "mesh3d": [
           {
            "colorbar": {
             "outlinewidth": 0,
             "ticks": ""
            },
            "type": "mesh3d"
           }
          ],
          "parcoords": [
           {
            "line": {
             "colorbar": {
              "outlinewidth": 0,
              "ticks": ""
             }
            },
            "type": "parcoords"
           }
          ],
          "pie": [
           {
            "automargin": true,
            "type": "pie"
           }
          ],
          "scatter": [
           {
            "fillpattern": {
             "fillmode": "overlay",
             "size": 10,
             "solidity": 0.2
            },
            "type": "scatter"
           }
          ],
          "scatter3d": [
           {
            "line": {
             "colorbar": {
              "outlinewidth": 0,
              "ticks": ""
             }
            },
            "marker": {
             "colorbar": {
              "outlinewidth": 0,
              "ticks": ""
             }
            },
            "type": "scatter3d"
           }
          ],
          "scattercarpet": [
           {
            "marker": {
             "colorbar": {
              "outlinewidth": 0,
              "ticks": ""
             }
            },
            "type": "scattercarpet"
           }
          ],
          "scattergeo": [
           {
            "marker": {
             "colorbar": {
              "outlinewidth": 0,
              "ticks": ""
             }
            },
            "type": "scattergeo"
           }
          ],
          "scattergl": [
           {
            "marker": {
             "colorbar": {
              "outlinewidth": 0,
              "ticks": ""
             }
            },
            "type": "scattergl"
           }
          ],
          "scattermap": [
           {
            "marker": {
             "colorbar": {
              "outlinewidth": 0,
              "ticks": ""
             }
            },
            "type": "scattermap"
           }
          ],
          "scattermapbox": [
           {
            "marker": {
             "colorbar": {
              "outlinewidth": 0,
              "ticks": ""
             }
            },
            "type": "scattermapbox"
           }
          ],
          "scatterpolar": [
           {
            "marker": {
             "colorbar": {
              "outlinewidth": 0,
              "ticks": ""
             }
            },
            "type": "scatterpolar"
           }
          ],
          "scatterpolargl": [
           {
            "marker": {
             "colorbar": {
              "outlinewidth": 0,
              "ticks": ""
             }
            },
            "type": "scatterpolargl"
           }
          ],
          "scatterternary": [
           {
            "marker": {
             "colorbar": {
              "outlinewidth": 0,
              "ticks": ""
             }
            },
            "type": "scatterternary"
           }
          ],
          "surface": [
           {
            "colorbar": {
             "outlinewidth": 0,
             "ticks": ""
            },
            "colorscale": [
             [
              0,
              "#0d0887"
             ],
             [
              0.1111111111111111,
              "#46039f"
             ],
             [
              0.2222222222222222,
              "#7201a8"
             ],
             [
              0.3333333333333333,
              "#9c179e"
             ],
             [
              0.4444444444444444,
              "#bd3786"
             ],
             [
              0.5555555555555556,
              "#d8576b"
             ],
             [
              0.6666666666666666,
              "#ed7953"
             ],
             [
              0.7777777777777778,
              "#fb9f3a"
             ],
             [
              0.8888888888888888,
              "#fdca26"
             ],
             [
              1,
              "#f0f921"
             ]
            ],
            "type": "surface"
           }
          ],
          "table": [
           {
            "cells": {
             "fill": {
              "color": "#EBF0F8"
             },
             "line": {
              "color": "white"
             }
            },
            "header": {
             "fill": {
              "color": "#C8D4E3"
             },
             "line": {
              "color": "white"
             }
            },
            "type": "table"
           }
          ]
         },
         "layout": {
          "annotationdefaults": {
           "arrowcolor": "#2a3f5f",
           "arrowhead": 0,
           "arrowwidth": 1
          },
          "autotypenumbers": "strict",
          "coloraxis": {
           "colorbar": {
            "outlinewidth": 0,
            "ticks": ""
           }
          },
          "colorscale": {
           "diverging": [
            [
             0,
             "#8e0152"
            ],
            [
             0.1,
             "#c51b7d"
            ],
            [
             0.2,
             "#de77ae"
            ],
            [
             0.3,
             "#f1b6da"
            ],
            [
             0.4,
             "#fde0ef"
            ],
            [
             0.5,
             "#f7f7f7"
            ],
            [
             0.6,
             "#e6f5d0"
            ],
            [
             0.7,
             "#b8e186"
            ],
            [
             0.8,
             "#7fbc41"
            ],
            [
             0.9,
             "#4d9221"
            ],
            [
             1,
             "#276419"
            ]
           ],
           "sequential": [
            [
             0,
             "#0d0887"
            ],
            [
             0.1111111111111111,
             "#46039f"
            ],
            [
             0.2222222222222222,
             "#7201a8"
            ],
            [
             0.3333333333333333,
             "#9c179e"
            ],
            [
             0.4444444444444444,
             "#bd3786"
            ],
            [
             0.5555555555555556,
             "#d8576b"
            ],
            [
             0.6666666666666666,
             "#ed7953"
            ],
            [
             0.7777777777777778,
             "#fb9f3a"
            ],
            [
             0.8888888888888888,
             "#fdca26"
            ],
            [
             1,
             "#f0f921"
            ]
           ],
           "sequentialminus": [
            [
             0,
             "#0d0887"
            ],
            [
             0.1111111111111111,
             "#46039f"
            ],
            [
             0.2222222222222222,
             "#7201a8"
            ],
            [
             0.3333333333333333,
             "#9c179e"
            ],
            [
             0.4444444444444444,
             "#bd3786"
            ],
            [
             0.5555555555555556,
             "#d8576b"
            ],
            [
             0.6666666666666666,
             "#ed7953"
            ],
            [
             0.7777777777777778,
             "#fb9f3a"
            ],
            [
             0.8888888888888888,
             "#fdca26"
            ],
            [
             1,
             "#f0f921"
            ]
           ]
          },
          "colorway": [
           "#636efa",
           "#EF553B",
           "#00cc96",
           "#ab63fa",
           "#FFA15A",
           "#19d3f3",
           "#FF6692",
           "#B6E880",
           "#FF97FF",
           "#FECB52"
          ],
          "font": {
           "color": "#2a3f5f"
          },
          "geo": {
           "bgcolor": "white",
           "lakecolor": "white",
           "landcolor": "#E5ECF6",
           "showlakes": true,
           "showland": true,
           "subunitcolor": "white"
          },
          "hoverlabel": {
           "align": "left"
          },
          "hovermode": "closest",
          "mapbox": {
           "style": "light"
          },
          "paper_bgcolor": "white",
          "plot_bgcolor": "#E5ECF6",
          "polar": {
           "angularaxis": {
            "gridcolor": "white",
            "linecolor": "white",
            "ticks": ""
           },
           "bgcolor": "#E5ECF6",
           "radialaxis": {
            "gridcolor": "white",
            "linecolor": "white",
            "ticks": ""
           }
          },
          "scene": {
           "xaxis": {
            "backgroundcolor": "#E5ECF6",
            "gridcolor": "white",
            "gridwidth": 2,
            "linecolor": "white",
            "showbackground": true,
            "ticks": "",
            "zerolinecolor": "white"
           },
           "yaxis": {
            "backgroundcolor": "#E5ECF6",
            "gridcolor": "white",
            "gridwidth": 2,
            "linecolor": "white",
            "showbackground": true,
            "ticks": "",
            "zerolinecolor": "white"
           },
           "zaxis": {
            "backgroundcolor": "#E5ECF6",
            "gridcolor": "white",
            "gridwidth": 2,
            "linecolor": "white",
            "showbackground": true,
            "ticks": "",
            "zerolinecolor": "white"
           }
          },
          "shapedefaults": {
           "line": {
            "color": "#2a3f5f"
           }
          },
          "ternary": {
           "aaxis": {
            "gridcolor": "white",
            "linecolor": "white",
            "ticks": ""
           },
           "baxis": {
            "gridcolor": "white",
            "linecolor": "white",
            "ticks": ""
           },
           "bgcolor": "#E5ECF6",
           "caxis": {
            "gridcolor": "white",
            "linecolor": "white",
            "ticks": ""
           }
          },
          "title": {
           "x": 0.05
          },
          "xaxis": {
           "automargin": true,
           "gridcolor": "white",
           "linecolor": "white",
           "ticks": "",
           "title": {
            "standoff": 15
           },
           "zerolinecolor": "white",
           "zerolinewidth": 2
          },
          "yaxis": {
           "automargin": true,
           "gridcolor": "white",
           "linecolor": "white",
           "ticks": "",
           "title": {
            "standoff": 15
           },
           "zerolinecolor": "white",
           "zerolinewidth": 2
          }
         }
        },
        "title": {
         "text": "Simulation Markers",
         "x": 0.5,
         "xanchor": "center"
        },
        "width": 800
       }
      }
     },
     "metadata": {},
     "output_type": "display_data"
    }
   ],
   "source": [
    "homes = np.array([offset[:3] for offset in offsets])\n",
    "global_paths = [\n",
    "    local2global(np.array(path), home)\n",
    "    for path, home in zip(local_paths, homes)\n",
    "]\n",
    "colors = [\"Green\", \"Blue\", \"Red\", \"Orange\", \"Yellow\"]  # must agree with n_vehicles\n",
    "waypoints = {\n",
    "    f\"waypoint_{i+1}\": {\"pos\": global_paths[i], \"color\": colors[i]}\n",
    "    for i in range(n_vehicles)\n",
    "}\n",
    "plot_3d_interactive(\n",
    "    waypoints, title=\"Simulation Markers\", expand=[0.2, 0.2, 0.6], ground=-0.05\n",
    ")"
   ]
  },
  {
   "cell_type": "markdown",
   "metadata": {},
   "source": [
    "## Choose Simulator"
   ]
  },
  {
   "cell_type": "code",
   "execution_count": 4,
   "metadata": {},
   "outputs": [],
   "source": [
    "simulator = Simulator(name=\"NONE\", offsets=offsets, plans=plans)\n",
    "\n",
    "simulator = QGC(offsets=offsets, plans=plans, origin=(-35.3633245, 149.1652241, 0, 0))\n",
    "\n",
    "simulator = Gazebo(\n",
    "    offsets=offsets,\n",
    "    plans=plans,\n",
    "    world_path=\"simulators/gazebo/worlds/runway.world\",\n",
    "    vehicle_models=n_vehicles * [\"drone\"],\n",
    "    markers=waypoints,\n",
    ")"
   ]
  },
  {
   "cell_type": "markdown",
   "metadata": {},
   "source": [
    "Launch Simulator"
   ]
  },
  {
   "cell_type": "code",
   "execution_count": 5,
   "metadata": {},
   "outputs": [
    {
     "name": "stdout",
     "output_type": "stream",
     "text": [
      "Vehicle 1 launched 🚀\n",
      "Vehicle 2 launched 🚀\n",
      "Vehicle 3 launched 🚀\n",
      "Vehicle 4 launched 🚀\n",
      "Vehicle 5 launched 🚀\n"
     ]
    }
   ],
   "source": [
    "uavs = simulator.launch()\n",
    "orac = Oracle(uavs)"
   ]
  },
  {
   "cell_type": "markdown",
   "metadata": {},
   "source": [
    "## Execute Plan"
   ]
  },
  {
   "cell_type": "code",
   "execution_count": 6,
   "metadata": {},
   "outputs": [
    {
     "name": "stdout",
     "output_type": "stream",
     "text": [
      "Vehicle 1: ▶️ Starting Step: Check disarmed\n",
      "Vehicle 2: ▶️ Starting Step: Check disarmed\n",
      "Vehicle 3: ▶️ Starting Step: Check disarmed\n",
      "Vehicle 4: ▶️ Starting Step: Check disarmed\n",
      "Vehicle 5: ▶️ Starting Step: Check disarmed\n",
      "Vehicle 1: ✅ Step: Check disarmed is done\n",
      "Vehicle 2: ✅ Step: Check disarmed is done\n",
      "Vehicle 4: ✅ Step: Check disarmed is done\n",
      "Vehicle 1: ▶️ Starting Step: Check EKF\n",
      "Vehicle 2: ▶️ Starting Step: Check EKF\n",
      "Vehicle 4: ▶️ Starting Step: Check EKF\n",
      "Vehicle 3: ✅ Step: Check disarmed is done\n",
      "Vehicle 3: ▶️ Starting Step: Check EKF\n",
      "Vehicle 5: ✅ Step: Check disarmed is done\n",
      "Vehicle 5: ▶️ Starting Step: Check EKF\n",
      "Vehicle 3: ✅ Step: Check EKF is done\n",
      "Vehicle 2: ✅ Step: Check EKF is done\n",
      "Vehicle 3: ▶️ Starting Step: Check GPS\n",
      "Vehicle 2: ▶️ Starting Step: Check GPS\n",
      "Vehicle 4: ✅ Step: Check EKF is done\n",
      "Vehicle 4: ▶️ Starting Step: Check GPS\n",
      "Vehicle 5: ✅ Step: Check EKF is done\n",
      "Vehicle 5: ▶️ Starting Step: Check GPS\n",
      "Vehicle 1: ✅ Step: Check EKF is done\n",
      "Vehicle 1: ▶️ Starting Step: Check GPS\n",
      "Vehicle 3: ✅ Step: Check GPS is done\n",
      "Vehicle 2: ✅ Step: Check GPS is done\n",
      "Vehicle 3: ▶️ Starting Step: Check system\n",
      "Vehicle 4: ✅ Step: Check GPS is done\n",
      "Vehicle 2: ▶️ Starting Step: Check system\n",
      "Vehicle 4: ▶️ Starting Step: Check system\n",
      "Vehicle 5: ✅ Step: Check GPS is done\n",
      "Vehicle 5: ▶️ Starting Step: Check system\n",
      "Vehicle 1: ✅ Step: Check GPS is done\n",
      "Vehicle 1: ▶️ Starting Step: Check system\n",
      "Vehicle 3: ✅ Step: Check system is done\n",
      "Vehicle 3: ▶️ Starting Step: Switch to GUIDED\n",
      "Vehicle 2: ✅ Step: Check system is done\n",
      "Vehicle 4: ✅ Step: Check system is done\n",
      "Vehicle 2: ▶️ Starting Step: Switch to GUIDED\n",
      "Vehicle 4: ▶️ Starting Step: Switch to GUIDED\n",
      "Vehicle 3: ✅ Step: Switch to GUIDED is done\n",
      "Vehicle 3: ▶️ Starting Step: arm\n",
      "Vehicle 4: ✅ Step: Switch to GUIDED is done\n",
      "Vehicle 4: ▶️ Starting Step: arm\n",
      "Vehicle 2: ✅ Step: Switch to GUIDED is done\n",
      "Vehicle 2: ▶️ Starting Step: arm\n",
      "Vehicle 5: ✅ Step: Check system is done\n",
      "Vehicle 5: ▶️ Starting Step: Switch to GUIDED\n",
      "Vehicle 5: ✅ Step: Switch to GUIDED is done\n",
      "Vehicle 5: ▶️ Starting Step: arm\n",
      "Vehicle 1: ✅ Step: Check system is done\n",
      "Vehicle 1: ▶️ Starting Step: Switch to GUIDED\n",
      "Vehicle 1: ✅ Step: Switch to GUIDED is done\n",
      "Vehicle 1: ▶️ Starting Step: arm\n",
      "Vehicle 1: ✅ Step: arm is done\n",
      "Vehicle 1: ▶️ Starting Step: takeoff\n",
      "Vehicle 2: ✅ Step: arm is done\n",
      "Vehicle 3: ✅ Step: arm is done\n",
      "Vehicle 4: ✅ Step: arm is done\n",
      "Vehicle 2: ▶️ Starting Step: takeoff\n",
      "Vehicle 3: ▶️ Starting Step: takeoff\n",
      "Vehicle 4: ▶️ Starting Step: takeoff\n",
      "Vehicle 5: ✅ Step: arm is done\n",
      "Vehicle 5: ▶️ Starting Step: takeoff\n",
      "Vehicle 2: ✅ Step: takeoff is done\n",
      "Vehicle 2: ▶️ Starting Step: go to  -> (0, 0, 5)\n",
      "Vehicle 2: ✅ Step: go to  -> (0, 0, 5) is done\n",
      "Vehicle 2: ▶️ Starting Step: go to  -> (0, 7, 5)\n",
      "Vehicle 1: ✅ Step: takeoff is done\n",
      "Vehicle 1: ▶️ Starting Step: go to  -> (0, 0, 5)\n",
      "Vehicle 1: ✅ Step: go to  -> (0, 0, 5) is done\n",
      "Vehicle 1: ▶️ Starting Step: go to  -> (0, 5, 5)\n",
      "Vehicle 3: ✅ Step: takeoff is done\n",
      "Vehicle 3: ▶️ Starting Step: go to  -> (0, 0, 5)\n",
      "Vehicle 5: ✅ Step: takeoff is done\n",
      "Vehicle 3: ✅ Step: go to  -> (0, 0, 5) is done\n",
      "Vehicle 3: ▶️ Starting Step: go to  -> (0, 4, 5)\n",
      "Vehicle 5: ▶️ Starting Step: go to  -> (0, 0, 5)\n",
      "Vehicle 5: ✅ Step: go to  -> (0, 0, 5) is done\n",
      "Vehicle 5: ▶️ Starting Step: go to  -> (0, 2, 5)\n",
      "Vehicle 4: ✅ Step: takeoff is done\n",
      "Vehicle 4: ▶️ Starting Step: go to  -> (0, 0, 5)\n",
      "Vehicle 4: ✅ Step: go to  -> (0, 0, 5) is done\n",
      "Vehicle 4: ▶️ Starting Step: go to  -> (0, 1, 5)\n",
      "Vehicle 4: ✅ Step: go to  -> (0, 1, 5) is done\n",
      "Vehicle 4: ▶️ Starting Step: go to  -> (1, 1, 5)\n",
      "Vehicle 5: ✅ Step: go to  -> (0, 2, 5) is done\n",
      "Vehicle 5: ▶️ Starting Step: go to  -> (2, 2, 5)\n",
      "Vehicle 4: ✅ Step: go to  -> (1, 1, 5) is done\n",
      "Vehicle 4: ▶️ Starting Step: go to  -> (1, 0, 5)\n",
      "Vehicle 4: ✅ Step: go to  -> (1, 0, 5) is done\n",
      "Vehicle 4: ▶️ Starting Step: go to  -> (0, 0, 5)\n",
      "Vehicle 3: ✅ Step: go to  -> (0, 4, 5) is done\n",
      "Vehicle 3: ▶️ Starting Step: go to  -> (4, 4, 5)\n",
      "Vehicle 5: ✅ Step: go to  -> (2, 2, 5) is done\n",
      "Vehicle 5: ▶️ Starting Step: go to  -> (2, 0, 5)\n",
      "Vehicle 4: ✅ Step: go to  -> (0, 0, 5) is done\n",
      "Vehicle 4: ▶️ Starting Step: land\n",
      "Vehicle 1: ✅ Step: go to  -> (0, 5, 5) is done\n",
      "Vehicle 1: ▶️ Starting Step: go to  -> (5, 5, 5)\n",
      "Vehicle 5: ✅ Step: go to  -> (2, 0, 5) is done\n",
      "Vehicle 5: ▶️ Starting Step: go to  -> (0, 0, 5)\n",
      "Vehicle 2: ✅ Step: go to  -> (0, 7, 5) is done\n",
      "Vehicle 2: ▶️ Starting Step: go to  -> (7, 7, 5)\n",
      "Vehicle 3: ✅ Step: go to  -> (4, 4, 5) is done\n",
      "Vehicle 3: ▶️ Starting Step: go to  -> (4, 0, 5)\n",
      "Vehicle 5: ✅ Step: go to  -> (0, 0, 5) is done\n",
      "Vehicle 5: ▶️ Starting Step: land\n",
      "Vehicle 1: ✅ Step: go to  -> (5, 5, 5) is done\n",
      "Vehicle 1: ▶️ Starting Step: go to  -> (5, 0, 5)\n",
      "Vehicle 3: ✅ Step: go to  -> (4, 0, 5) is done\n",
      "Vehicle 3: ▶️ Starting Step: go to  -> (0, 0, 5)\n",
      "Vehicle 2: ✅ Step: go to  -> (7, 7, 5) is done\n",
      "Vehicle 2: ▶️ Starting Step: go to  -> (7, 0, 5)\n",
      "Vehicle 1: ✅ Step: go to  -> (5, 0, 5) is done\n",
      "Vehicle 1: ▶️ Starting Step: go to  -> (0, 0, 5)\n",
      "Vehicle 3: ✅ Step: go to  -> (0, 0, 5) is done\n",
      "Vehicle 3: ▶️ Starting Step: land\n",
      "Vehicle 1: ✅ Step: go to  -> (0, 0, 5) is done\n",
      "Vehicle 1: ▶️ Starting Step: land\n",
      "Vehicle 2: ✅ Step: go to  -> (7, 0, 5) is done\n",
      "Vehicle 2: ▶️ Starting Step: go to  -> (0, 0, 5)\n",
      "Vehicle 4: ✅ Step: land is done\n",
      "Vehicle 5: ✅ Step: land is done\n",
      "Vehicle 2: ✅ Step: go to  -> (0, 0, 5) is done\n",
      "Vehicle 2: ▶️ Starting Step: land\n",
      "Vehicle 3: ✅ Step: land is done\n",
      "Vehicle 1: ✅ Step: land is done\n",
      "Vehicle 2: ✅ Step: land is done\n"
     ]
    }
   ],
   "source": [
    "while orac.vehs:\n",
    "    orac.gather_broadcasts()\n",
    "    for uav in orac.vehs.copy():\n",
    "        orac.update_neighbors(uav)\n",
    "        if uav.plan.state == State.DONE:\n",
    "            orac.remove(uav)\n",
    "        else:\n",
    "            uav.act()\n",
    "kill_processes()"
   ]
  },
  {
   "cell_type": "code",
   "execution_count": null,
   "metadata": {},
   "outputs": [],
   "source": []
  }
 ],
 "metadata": {
  "kernelspec": {
   "display_name": "Python 3",
   "language": "python",
   "name": "python3"
  },
  "language_info": {
   "codemirror_mode": {
    "name": "ipython",
    "version": 3
   },
   "file_extension": ".py",
   "mimetype": "text/x-python",
   "name": "python",
   "nbconvert_exporter": "python",
   "pygments_lexer": "ipython3",
   "version": "3.9.21"
  }
 },
 "nbformat": 4,
 "nbformat_minor": 2
}
