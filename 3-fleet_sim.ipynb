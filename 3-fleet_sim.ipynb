{
 "cells": [
  {
   "cell_type": "markdown",
   "metadata": {},
   "source": [
    "## Simulator (fleet of uavs)\n",
    "\n",
    "This notebook serves to get familiar with the simulator"
   ]
  },
  {
   "cell_type": "code",
   "execution_count": null,
   "metadata": {},
   "outputs": [],
   "source": [
    "from config import Color\n",
    "from helpers import clean\n",
    "from helpers.connections.mavlink.customtypes.location import ENUPose, GRAPose\n",
    "from plan import Plan\n",
    "from simulator import (\n",
    "    QGC,\n",
    "    ConfigGazebo,\n",
    "    ConfigNovis,\n",
    "    ConfigQGC,\n",
    "    Gazebo,\n",
    "    NoVisualizer,\n",
    "    Simulator,\n",
    ")\n",
    "\n",
    "clean()"
   ]
  },
  {
   "cell_type": "markdown",
   "metadata": {},
   "source": [
    "## Simulation Configuration\n",
    "\n",
    "We can easily extend the configuration from Notebook 2 to multiple UAVs. \n",
    "We are also adding here a mission delay in secons."
   ]
  },
  {
   "cell_type": "code",
   "execution_count": 12,
   "metadata": {},
   "outputs": [],
   "source": [
    "gra_origin = GRAPose(lat=-35.3633280, lon=149.1652241,alt=0,heading=90) \n",
    "enu_origin = ENUPose(x=0, y=0, z=gra_origin.alt, heading=gra_origin.heading) \n",
    "\n",
    "base_homes= ENUPose.list([  # east, north, up, heading\n",
    "    (0., 15., 0., 0.),\n",
    "    (15., 0., 0., 0),\n",
    "    (5., -20., 0., 30.),\n",
    "    (-15., -15., 0., 0),\n",
    "    (-15., 0., 0., 45),\n",
    "\n",
    "])\n",
    "base_paths = [Plan.create_square_path(side_len=10, alt=5,heading=0) for _ in base_homes]\n",
    "\n",
    "colors=[\n",
    "    Color.BLUE,\n",
    "    Color.GREEN,\n",
    "    Color.BLACK,\n",
    "    Color.ORANGE,\n",
    "    Color.RED,\n",
    "]\n",
    "msn_delays=[0,1,2,3,4] # in seconds"
   ]
  },
  {
   "cell_type": "markdown",
   "metadata": {},
   "source": [
    "## Visualizer\n",
    "\n",
    "Extending the visualizer configuration to multiple UAVs is also straightforward."
   ]
  },
  {
   "cell_type": "markdown",
   "metadata": {},
   "source": [
    "## Gazebo"
   ]
  },
  {
   "cell_type": "code",
   "execution_count": 13,
   "metadata": {},
   "outputs": [
    {
     "data": {
      "application/vnd.plotly.v1+json": {
       "config": {
        "plotlyServerURL": "https://plot.ly"
       },
       "data": [
        {
         "marker": {
          "color": [
           "blue",
           "blue",
           "blue",
           "blue",
           "blue"
          ],
          "size": 6
         },
         "mode": "markers",
         "name": "trajectory 0",
         "type": "scatter3d",
         "x": [
          -15,
          -25,
          -25,
          -15,
          -15
         ],
         "y": [
          9.18485099360515e-16,
          1.5308084989341915e-15,
          10.000000000000002,
          10.000000000000002,
          9.18485099360515e-16
         ],
         "z": [
          5,
          5,
          5,
          5,
          5
         ]
        },
        {
         "marker": {
          "color": [
           "green",
           "green",
           "green",
           "green",
           "green"
          ],
          "size": 6
         },
         "mode": "markers",
         "name": "trajectory 1",
         "type": "scatter3d",
         "x": [
          9.18485099360515e-16,
          -9.999999999999998,
          -9.999999999999998,
          1.5308084989341915e-15,
          9.18485099360515e-16
         ],
         "y": [
          15,
          15,
          25,
          25,
          15
         ],
         "z": [
          5,
          5,
          5,
          5,
          5
         ]
        },
        {
         "marker": {
          "color": [
           "black",
           "black",
           "black",
           "black",
           "black"
          ],
          "size": 6
         },
         "mode": "markers",
         "name": "trajectory 2",
         "type": "scatter3d",
         "x": [
          20,
          11.339745962155613,
          6.339745962155615,
          15,
          20
         ],
         "y": [
          4.999999999999999,
          1.9381923991522556e-16,
          8.660254037844389,
          13.660254037844386,
          4.999999999999999
         ],
         "z": [
          5,
          5,
          5,
          5,
          5
         ]
        },
        {
         "marker": {
          "color": [
           "orange",
           "orange",
           "orange",
           "orange",
           "orange"
          ],
          "size": 6
         },
         "mode": "markers",
         "name": "trajectory 3",
         "type": "scatter3d",
         "x": [
          14.999999999999998,
          4.999999999999999,
          5,
          15,
          14.999999999999998
         ],
         "y": [
          -15.000000000000002,
          -15,
          -5,
          -5.000000000000001,
          -15.000000000000002
         ],
         "z": [
          5,
          5,
          5,
          5,
          5
         ]
        },
        {
         "marker": {
          "color": [
           "red",
           "red",
           "red",
           "red",
           "red"
          ],
          "size": 6
         },
         "mode": "markers",
         "name": "trajectory 4",
         "type": "scatter3d",
         "x": [
          -9.18485099360515e-16,
          -7.071067811865477,
          -14.142135623730953,
          -7.0710678118654755,
          -9.18485099360515e-16
         ],
         "y": [
          -15,
          -22.071067811865476,
          -15,
          -7.9289321881345245,
          -15
         ],
         "z": [
          5,
          5,
          5,
          5,
          5
         ]
        },
        {
         "marker": {
          "color": "white",
          "size": 8
         },
         "mode": "markers+text",
         "name": "origin",
         "text": [
          "origin"
         ],
         "textposition": "top center",
         "type": "scatter3d",
         "x": [
          0
         ],
         "y": [
          0
         ],
         "z": [
          0
         ]
        }
       ],
       "layout": {
        "height": 600,
        "scene": {
         "xaxis": {
          "range": [
           -34,
           29
          ],
          "title": {
           "text": "x"
          }
         },
         "yaxis": {
          "range": [
           -31.48528137423857,
           34.41421356237309
          ],
          "title": {
           "text": "y"
          }
         },
         "zaxis": {
          "range": [
           0,
           6
          ],
          "title": {
           "text": "z"
          }
         }
        },
        "showlegend": true,
        "template": {
         "data": {
          "bar": [
           {
            "error_x": {
             "color": "#2a3f5f"
            },
            "error_y": {
             "color": "#2a3f5f"
            },
            "marker": {
             "line": {
              "color": "#E5ECF6",
              "width": 0.5
             },
             "pattern": {
              "fillmode": "overlay",
              "size": 10,
              "solidity": 0.2
             }
            },
            "type": "bar"
           }
          ],
          "barpolar": [
           {
            "marker": {
             "line": {
              "color": "#E5ECF6",
              "width": 0.5
             },
             "pattern": {
              "fillmode": "overlay",
              "size": 10,
              "solidity": 0.2
             }
            },
            "type": "barpolar"
           }
          ],
          "carpet": [
           {
            "aaxis": {
             "endlinecolor": "#2a3f5f",
             "gridcolor": "white",
             "linecolor": "white",
             "minorgridcolor": "white",
             "startlinecolor": "#2a3f5f"
            },
            "baxis": {
             "endlinecolor": "#2a3f5f",
             "gridcolor": "white",
             "linecolor": "white",
             "minorgridcolor": "white",
             "startlinecolor": "#2a3f5f"
            },
            "type": "carpet"
           }
          ],
          "choropleth": [
           {
            "colorbar": {
             "outlinewidth": 0,
             "ticks": ""
            },
            "type": "choropleth"
           }
          ],
          "contour": [
           {
            "colorbar": {
             "outlinewidth": 0,
             "ticks": ""
            },
            "colorscale": [
             [
              0,
              "#0d0887"
             ],
             [
              0.1111111111111111,
              "#46039f"
             ],
             [
              0.2222222222222222,
              "#7201a8"
             ],
             [
              0.3333333333333333,
              "#9c179e"
             ],
             [
              0.4444444444444444,
              "#bd3786"
             ],
             [
              0.5555555555555556,
              "#d8576b"
             ],
             [
              0.6666666666666666,
              "#ed7953"
             ],
             [
              0.7777777777777778,
              "#fb9f3a"
             ],
             [
              0.8888888888888888,
              "#fdca26"
             ],
             [
              1,
              "#f0f921"
             ]
            ],
            "type": "contour"
           }
          ],
          "contourcarpet": [
           {
            "colorbar": {
             "outlinewidth": 0,
             "ticks": ""
            },
            "type": "contourcarpet"
           }
          ],
          "heatmap": [
           {
            "colorbar": {
             "outlinewidth": 0,
             "ticks": ""
            },
            "colorscale": [
             [
              0,
              "#0d0887"
             ],
             [
              0.1111111111111111,
              "#46039f"
             ],
             [
              0.2222222222222222,
              "#7201a8"
             ],
             [
              0.3333333333333333,
              "#9c179e"
             ],
             [
              0.4444444444444444,
              "#bd3786"
             ],
             [
              0.5555555555555556,
              "#d8576b"
             ],
             [
              0.6666666666666666,
              "#ed7953"
             ],
             [
              0.7777777777777778,
              "#fb9f3a"
             ],
             [
              0.8888888888888888,
              "#fdca26"
             ],
             [
              1,
              "#f0f921"
             ]
            ],
            "type": "heatmap"
           }
          ],
          "histogram": [
           {
            "marker": {
             "pattern": {
              "fillmode": "overlay",
              "size": 10,
              "solidity": 0.2
             }
            },
            "type": "histogram"
           }
          ],
          "histogram2d": [
           {
            "colorbar": {
             "outlinewidth": 0,
             "ticks": ""
            },
            "colorscale": [
             [
              0,
              "#0d0887"
             ],
             [
              0.1111111111111111,
              "#46039f"
             ],
             [
              0.2222222222222222,
              "#7201a8"
             ],
             [
              0.3333333333333333,
              "#9c179e"
             ],
             [
              0.4444444444444444,
              "#bd3786"
             ],
             [
              0.5555555555555556,
              "#d8576b"
             ],
             [
              0.6666666666666666,
              "#ed7953"
             ],
             [
              0.7777777777777778,
              "#fb9f3a"
             ],
             [
              0.8888888888888888,
              "#fdca26"
             ],
             [
              1,
              "#f0f921"
             ]
            ],
            "type": "histogram2d"
           }
          ],
          "histogram2dcontour": [
           {
            "colorbar": {
             "outlinewidth": 0,
             "ticks": ""
            },
            "colorscale": [
             [
              0,
              "#0d0887"
             ],
             [
              0.1111111111111111,
              "#46039f"
             ],
             [
              0.2222222222222222,
              "#7201a8"
             ],
             [
              0.3333333333333333,
              "#9c179e"
             ],
             [
              0.4444444444444444,
              "#bd3786"
             ],
             [
              0.5555555555555556,
              "#d8576b"
             ],
             [
              0.6666666666666666,
              "#ed7953"
             ],
             [
              0.7777777777777778,
              "#fb9f3a"
             ],
             [
              0.8888888888888888,
              "#fdca26"
             ],
             [
              1,
              "#f0f921"
             ]
            ],
            "type": "histogram2dcontour"
           }
          ],
          "mesh3d": [
           {
            "colorbar": {
             "outlinewidth": 0,
             "ticks": ""
            },
            "type": "mesh3d"
           }
          ],
          "parcoords": [
           {
            "line": {
             "colorbar": {
              "outlinewidth": 0,
              "ticks": ""
             }
            },
            "type": "parcoords"
           }
          ],
          "pie": [
           {
            "automargin": true,
            "type": "pie"
           }
          ],
          "scatter": [
           {
            "fillpattern": {
             "fillmode": "overlay",
             "size": 10,
             "solidity": 0.2
            },
            "type": "scatter"
           }
          ],
          "scatter3d": [
           {
            "line": {
             "colorbar": {
              "outlinewidth": 0,
              "ticks": ""
             }
            },
            "marker": {
             "colorbar": {
              "outlinewidth": 0,
              "ticks": ""
             }
            },
            "type": "scatter3d"
           }
          ],
          "scattercarpet": [
           {
            "marker": {
             "colorbar": {
              "outlinewidth": 0,
              "ticks": ""
             }
            },
            "type": "scattercarpet"
           }
          ],
          "scattergeo": [
           {
            "marker": {
             "colorbar": {
              "outlinewidth": 0,
              "ticks": ""
             }
            },
            "type": "scattergeo"
           }
          ],
          "scattergl": [
           {
            "marker": {
             "colorbar": {
              "outlinewidth": 0,
              "ticks": ""
             }
            },
            "type": "scattergl"
           }
          ],
          "scattermap": [
           {
            "marker": {
             "colorbar": {
              "outlinewidth": 0,
              "ticks": ""
             }
            },
            "type": "scattermap"
           }
          ],
          "scattermapbox": [
           {
            "marker": {
             "colorbar": {
              "outlinewidth": 0,
              "ticks": ""
             }
            },
            "type": "scattermapbox"
           }
          ],
          "scatterpolar": [
           {
            "marker": {
             "colorbar": {
              "outlinewidth": 0,
              "ticks": ""
             }
            },
            "type": "scatterpolar"
           }
          ],
          "scatterpolargl": [
           {
            "marker": {
             "colorbar": {
              "outlinewidth": 0,
              "ticks": ""
             }
            },
            "type": "scatterpolargl"
           }
          ],
          "scatterternary": [
           {
            "marker": {
             "colorbar": {
              "outlinewidth": 0,
              "ticks": ""
             }
            },
            "type": "scatterternary"
           }
          ],
          "surface": [
           {
            "colorbar": {
             "outlinewidth": 0,
             "ticks": ""
            },
            "colorscale": [
             [
              0,
              "#0d0887"
             ],
             [
              0.1111111111111111,
              "#46039f"
             ],
             [
              0.2222222222222222,
              "#7201a8"
             ],
             [
              0.3333333333333333,
              "#9c179e"
             ],
             [
              0.4444444444444444,
              "#bd3786"
             ],
             [
              0.5555555555555556,
              "#d8576b"
             ],
             [
              0.6666666666666666,
              "#ed7953"
             ],
             [
              0.7777777777777778,
              "#fb9f3a"
             ],
             [
              0.8888888888888888,
              "#fdca26"
             ],
             [
              1,
              "#f0f921"
             ]
            ],
            "type": "surface"
           }
          ],
          "table": [
           {
            "cells": {
             "fill": {
              "color": "#EBF0F8"
             },
             "line": {
              "color": "white"
             }
            },
            "header": {
             "fill": {
              "color": "#C8D4E3"
             },
             "line": {
              "color": "white"
             }
            },
            "type": "table"
           }
          ]
         },
         "layout": {
          "annotationdefaults": {
           "arrowcolor": "#2a3f5f",
           "arrowhead": 0,
           "arrowwidth": 1
          },
          "autotypenumbers": "strict",
          "coloraxis": {
           "colorbar": {
            "outlinewidth": 0,
            "ticks": ""
           }
          },
          "colorscale": {
           "diverging": [
            [
             0,
             "#8e0152"
            ],
            [
             0.1,
             "#c51b7d"
            ],
            [
             0.2,
             "#de77ae"
            ],
            [
             0.3,
             "#f1b6da"
            ],
            [
             0.4,
             "#fde0ef"
            ],
            [
             0.5,
             "#f7f7f7"
            ],
            [
             0.6,
             "#e6f5d0"
            ],
            [
             0.7,
             "#b8e186"
            ],
            [
             0.8,
             "#7fbc41"
            ],
            [
             0.9,
             "#4d9221"
            ],
            [
             1,
             "#276419"
            ]
           ],
           "sequential": [
            [
             0,
             "#0d0887"
            ],
            [
             0.1111111111111111,
             "#46039f"
            ],
            [
             0.2222222222222222,
             "#7201a8"
            ],
            [
             0.3333333333333333,
             "#9c179e"
            ],
            [
             0.4444444444444444,
             "#bd3786"
            ],
            [
             0.5555555555555556,
             "#d8576b"
            ],
            [
             0.6666666666666666,
             "#ed7953"
            ],
            [
             0.7777777777777778,
             "#fb9f3a"
            ],
            [
             0.8888888888888888,
             "#fdca26"
            ],
            [
             1,
             "#f0f921"
            ]
           ],
           "sequentialminus": [
            [
             0,
             "#0d0887"
            ],
            [
             0.1111111111111111,
             "#46039f"
            ],
            [
             0.2222222222222222,
             "#7201a8"
            ],
            [
             0.3333333333333333,
             "#9c179e"
            ],
            [
             0.4444444444444444,
             "#bd3786"
            ],
            [
             0.5555555555555556,
             "#d8576b"
            ],
            [
             0.6666666666666666,
             "#ed7953"
            ],
            [
             0.7777777777777778,
             "#fb9f3a"
            ],
            [
             0.8888888888888888,
             "#fdca26"
            ],
            [
             1,
             "#f0f921"
            ]
           ]
          },
          "colorway": [
           "#636efa",
           "#EF553B",
           "#00cc96",
           "#ab63fa",
           "#FFA15A",
           "#19d3f3",
           "#FF6692",
           "#B6E880",
           "#FF97FF",
           "#FECB52"
          ],
          "font": {
           "color": "#2a3f5f"
          },
          "geo": {
           "bgcolor": "white",
           "lakecolor": "white",
           "landcolor": "#E5ECF6",
           "showlakes": true,
           "showland": true,
           "subunitcolor": "white"
          },
          "hoverlabel": {
           "align": "left"
          },
          "hovermode": "closest",
          "mapbox": {
           "style": "light"
          },
          "paper_bgcolor": "white",
          "plot_bgcolor": "#E5ECF6",
          "polar": {
           "angularaxis": {
            "gridcolor": "white",
            "linecolor": "white",
            "ticks": ""
           },
           "bgcolor": "#E5ECF6",
           "radialaxis": {
            "gridcolor": "white",
            "linecolor": "white",
            "ticks": ""
           }
          },
          "scene": {
           "xaxis": {
            "backgroundcolor": "#E5ECF6",
            "gridcolor": "white",
            "gridwidth": 2,
            "linecolor": "white",
            "showbackground": true,
            "ticks": "",
            "zerolinecolor": "white"
           },
           "yaxis": {
            "backgroundcolor": "#E5ECF6",
            "gridcolor": "white",
            "gridwidth": 2,
            "linecolor": "white",
            "showbackground": true,
            "ticks": "",
            "zerolinecolor": "white"
           },
           "zaxis": {
            "backgroundcolor": "#E5ECF6",
            "gridcolor": "white",
            "gridwidth": 2,
            "linecolor": "white",
            "showbackground": true,
            "ticks": "",
            "zerolinecolor": "white"
           }
          },
          "shapedefaults": {
           "line": {
            "color": "#2a3f5f"
           }
          },
          "ternary": {
           "aaxis": {
            "gridcolor": "white",
            "linecolor": "white",
            "ticks": ""
           },
           "baxis": {
            "gridcolor": "white",
            "linecolor": "white",
            "ticks": ""
           },
           "bgcolor": "#E5ECF6",
           "caxis": {
            "gridcolor": "white",
            "linecolor": "white",
            "ticks": ""
           }
          },
          "title": {
           "x": 0.05
          },
          "xaxis": {
           "automargin": true,
           "gridcolor": "white",
           "linecolor": "white",
           "ticks": "",
           "title": {
            "standoff": 15
           },
           "zerolinecolor": "white",
           "zerolinewidth": 2
          },
          "yaxis": {
           "automargin": true,
           "gridcolor": "white",
           "linecolor": "white",
           "ticks": "",
           "title": {
            "standoff": 15
           },
           "zerolinecolor": "white",
           "zerolinewidth": 2
          }
         }
        },
        "title": {
         "text": "Trajectories",
         "x": 0.5,
         "xanchor": "center"
        },
        "width": 800
       }
      }
     },
     "metadata": {},
     "output_type": "display_data"
    }
   ],
   "source": [
    "gaz_config = ConfigGazebo(origin = enu_origin,\n",
    "                          world_path=\"simulator/gazebo/worlds/runway.world\")\n",
    "\n",
    "for path,home,c in zip(base_paths,base_homes,colors):\n",
    "    gaz_config.add(base_path=path,base_home=home,color=c)\n",
    "gaz_config.show()\n",
    "\n",
    "gaz= Gazebo(gaz_config,gra_origin)"
   ]
  },
  {
   "cell_type": "markdown",
   "metadata": {},
   "source": [
    "## QGroundControl"
   ]
  },
  {
   "cell_type": "code",
   "execution_count": 14,
   "metadata": {},
   "outputs": [
    {
     "data": {
      "text/html": [
       "<div style=\"width:100%;\"><div style=\"position:relative;width:100%;height:0;padding-bottom:60%;\"><span style=\"color:#565656\">Make this Notebook Trusted to load map: File -> Trust Notebook</span><iframe srcdoc=\"&lt;!DOCTYPE html&gt;\n",
       "&lt;html&gt;\n",
       "&lt;head&gt;\n",
       "    \n",
       "    &lt;meta http-equiv=&quot;content-type&quot; content=&quot;text/html; charset=UTF-8&quot; /&gt;\n",
       "    &lt;script src=&quot;https://cdn.jsdelivr.net/npm/leaflet@1.9.3/dist/leaflet.js&quot;&gt;&lt;/script&gt;\n",
       "    &lt;script src=&quot;https://code.jquery.com/jquery-3.7.1.min.js&quot;&gt;&lt;/script&gt;\n",
       "    &lt;script src=&quot;https://cdn.jsdelivr.net/npm/bootstrap@5.2.2/dist/js/bootstrap.bundle.min.js&quot;&gt;&lt;/script&gt;\n",
       "    &lt;script src=&quot;https://cdnjs.cloudflare.com/ajax/libs/Leaflet.awesome-markers/2.0.2/leaflet.awesome-markers.js&quot;&gt;&lt;/script&gt;\n",
       "    &lt;link rel=&quot;stylesheet&quot; href=&quot;https://cdn.jsdelivr.net/npm/leaflet@1.9.3/dist/leaflet.css&quot;/&gt;\n",
       "    &lt;link rel=&quot;stylesheet&quot; href=&quot;https://cdn.jsdelivr.net/npm/bootstrap@5.2.2/dist/css/bootstrap.min.css&quot;/&gt;\n",
       "    &lt;link rel=&quot;stylesheet&quot; href=&quot;https://netdna.bootstrapcdn.com/bootstrap/3.0.0/css/bootstrap-glyphicons.css&quot;/&gt;\n",
       "    &lt;link rel=&quot;stylesheet&quot; href=&quot;https://cdn.jsdelivr.net/npm/@fortawesome/fontawesome-free@6.2.0/css/all.min.css&quot;/&gt;\n",
       "    &lt;link rel=&quot;stylesheet&quot; href=&quot;https://cdnjs.cloudflare.com/ajax/libs/Leaflet.awesome-markers/2.0.2/leaflet.awesome-markers.css&quot;/&gt;\n",
       "    &lt;link rel=&quot;stylesheet&quot; href=&quot;https://cdn.jsdelivr.net/gh/python-visualization/folium/folium/templates/leaflet.awesome.rotate.min.css&quot;/&gt;\n",
       "    \n",
       "            &lt;meta name=&quot;viewport&quot; content=&quot;width=device-width,\n",
       "                initial-scale=1.0, maximum-scale=1.0, user-scalable=no&quot; /&gt;\n",
       "            &lt;style&gt;\n",
       "                #map_956d03f3aa11cfcfe5ae3aaba95e8f5a {\n",
       "                    position: relative;\n",
       "                    width: 100.0%;\n",
       "                    height: 100.0%;\n",
       "                    left: 0.0%;\n",
       "                    top: 0.0%;\n",
       "                }\n",
       "                .leaflet-container { font-size: 1rem; }\n",
       "            &lt;/style&gt;\n",
       "\n",
       "            &lt;style&gt;html, body {\n",
       "                width: 100%;\n",
       "                height: 100%;\n",
       "                margin: 0;\n",
       "                padding: 0;\n",
       "            }\n",
       "            &lt;/style&gt;\n",
       "\n",
       "            &lt;style&gt;#map {\n",
       "                position:absolute;\n",
       "                top:0;\n",
       "                bottom:0;\n",
       "                right:0;\n",
       "                left:0;\n",
       "                }\n",
       "            &lt;/style&gt;\n",
       "\n",
       "            &lt;script&gt;\n",
       "                L_NO_TOUCH = false;\n",
       "                L_DISABLE_3D = false;\n",
       "            &lt;/script&gt;\n",
       "\n",
       "        \n",
       "&lt;/head&gt;\n",
       "&lt;body&gt;\n",
       "    \n",
       "    \n",
       "            &lt;div class=&quot;folium-map&quot; id=&quot;map_956d03f3aa11cfcfe5ae3aaba95e8f5a&quot; &gt;&lt;/div&gt;\n",
       "        \n",
       "&lt;/body&gt;\n",
       "&lt;script&gt;\n",
       "    \n",
       "    \n",
       "            var map_956d03f3aa11cfcfe5ae3aaba95e8f5a = L.map(\n",
       "                &quot;map_956d03f3aa11cfcfe5ae3aaba95e8f5a&quot;,\n",
       "                {\n",
       "                    center: [-35.363328, 149.1652241],\n",
       "                    crs: L.CRS.EPSG3857,\n",
       "                    ...{\n",
       "  &quot;zoom&quot;: 18,\n",
       "  &quot;zoomControl&quot;: true,\n",
       "  &quot;preferCanvas&quot;: false,\n",
       "}\n",
       "\n",
       "                }\n",
       "            );\n",
       "\n",
       "            \n",
       "\n",
       "        \n",
       "    \n",
       "            var tile_layer_db589177f79ffdff998b46b83130c5fa = L.tileLayer(\n",
       "                &quot;https://tile.openstreetmap.org/{z}/{x}/{y}.png&quot;,\n",
       "                {\n",
       "  &quot;minZoom&quot;: 0,\n",
       "  &quot;maxZoom&quot;: 19,\n",
       "  &quot;maxNativeZoom&quot;: 19,\n",
       "  &quot;noWrap&quot;: false,\n",
       "  &quot;attribution&quot;: &quot;\\u0026copy; \\u003ca href=\\&quot;https://www.openstreetmap.org/copyright\\&quot;\\u003eOpenStreetMap\\u003c/a\\u003e contributors&quot;,\n",
       "  &quot;subdomains&quot;: &quot;abc&quot;,\n",
       "  &quot;detectRetina&quot;: false,\n",
       "  &quot;tms&quot;: false,\n",
       "  &quot;opacity&quot;: 1,\n",
       "}\n",
       "\n",
       "            );\n",
       "        \n",
       "    \n",
       "            tile_layer_db589177f79ffdff998b46b83130c5fa.addTo(map_956d03f3aa11cfcfe5ae3aaba95e8f5a);\n",
       "        \n",
       "    \n",
       "            var marker_98ebd01b663296643c512d850c63855d = L.marker(\n",
       "                [-35.36332799988755, 149.16505886598486],\n",
       "                {\n",
       "}\n",
       "            ).addTo(map_956d03f3aa11cfcfe5ae3aaba95e8f5a);\n",
       "        \n",
       "    \n",
       "            var icon_d50aada8d1153b5cdc62b711e1205920 = L.AwesomeMarkers.icon(\n",
       "                {\n",
       "  &quot;markerColor&quot;: &quot;blue&quot;,\n",
       "  &quot;iconColor&quot;: &quot;white&quot;,\n",
       "  &quot;icon&quot;: &quot;info-sign&quot;,\n",
       "  &quot;prefix&quot;: &quot;glyphicon&quot;,\n",
       "  &quot;extraClasses&quot;: &quot;fa-rotate-0&quot;,\n",
       "}\n",
       "            );\n",
       "        \n",
       "    \n",
       "        var popup_4a8de6198f321a66a9683696f7355dcc = L.popup({\n",
       "  &quot;maxWidth&quot;: &quot;100%&quot;,\n",
       "});\n",
       "\n",
       "        \n",
       "            \n",
       "                var html_6eeb5d0b53068262f0139650a2ccdd81 = $(`&lt;div id=&quot;html_6eeb5d0b53068262f0139650a2ccdd81&quot; style=&quot;width: 100.0%; height: 100.0%;&quot;&gt;pos_0&lt;/div&gt;`)[0];\n",
       "                popup_4a8de6198f321a66a9683696f7355dcc.setContent(html_6eeb5d0b53068262f0139650a2ccdd81);\n",
       "            \n",
       "        \n",
       "\n",
       "        marker_98ebd01b663296643c512d850c63855d.bindPopup(popup_4a8de6198f321a66a9683696f7355dcc)\n",
       "        ;\n",
       "\n",
       "        \n",
       "    \n",
       "    \n",
       "                marker_98ebd01b663296643c512d850c63855d.setIcon(icon_d50aada8d1153b5cdc62b711e1205920);\n",
       "            \n",
       "    \n",
       "            var marker_606df89f839a985402e0a6db54ab8c27 = L.marker(\n",
       "                [-35.363327999687634, 149.1649487099748],\n",
       "                {\n",
       "}\n",
       "            ).addTo(map_956d03f3aa11cfcfe5ae3aaba95e8f5a);\n",
       "        \n",
       "    \n",
       "            var icon_9443d73bfe5b42e05479bed05d0d607c = L.AwesomeMarkers.icon(\n",
       "                {\n",
       "  &quot;markerColor&quot;: &quot;blue&quot;,\n",
       "  &quot;iconColor&quot;: &quot;white&quot;,\n",
       "  &quot;icon&quot;: &quot;info-sign&quot;,\n",
       "  &quot;prefix&quot;: &quot;glyphicon&quot;,\n",
       "  &quot;extraClasses&quot;: &quot;fa-rotate-0&quot;,\n",
       "}\n",
       "            );\n",
       "        \n",
       "    \n",
       "        var popup_2ae0ad6ed4be2e7582f655de9e0967bf = L.popup({\n",
       "  &quot;maxWidth&quot;: &quot;100%&quot;,\n",
       "});\n",
       "\n",
       "        \n",
       "            \n",
       "                var html_cd7b6e7b82a2b3f0b89db7abc794e06a = $(`&lt;div id=&quot;html_cd7b6e7b82a2b3f0b89db7abc794e06a&quot; style=&quot;width: 100.0%; height: 100.0%;&quot;&gt;pos_1&lt;/div&gt;`)[0];\n",
       "                popup_2ae0ad6ed4be2e7582f655de9e0967bf.setContent(html_cd7b6e7b82a2b3f0b89db7abc794e06a);\n",
       "            \n",
       "        \n",
       "\n",
       "        marker_606df89f839a985402e0a6db54ab8c27.bindPopup(popup_2ae0ad6ed4be2e7582f655de9e0967bf)\n",
       "        ;\n",
       "\n",
       "        \n",
       "    \n",
       "    \n",
       "                marker_606df89f839a985402e0a6db54ab8c27.setIcon(icon_9443d73bfe5b42e05479bed05d0d607c);\n",
       "            \n",
       "    \n",
       "            var marker_1b153cf923e2e5ff65189f7bc00b02b1 = L.marker(\n",
       "                [-35.36323816763811, 149.16494871028124],\n",
       "                {\n",
       "}\n",
       "            ).addTo(map_956d03f3aa11cfcfe5ae3aaba95e8f5a);\n",
       "        \n",
       "    \n",
       "            var icon_ae2be1002ab7edafbc31d5052d90d49a = L.AwesomeMarkers.icon(\n",
       "                {\n",
       "  &quot;markerColor&quot;: &quot;blue&quot;,\n",
       "  &quot;iconColor&quot;: &quot;white&quot;,\n",
       "  &quot;icon&quot;: &quot;info-sign&quot;,\n",
       "  &quot;prefix&quot;: &quot;glyphicon&quot;,\n",
       "  &quot;extraClasses&quot;: &quot;fa-rotate-0&quot;,\n",
       "}\n",
       "            );\n",
       "        \n",
       "    \n",
       "        var popup_70c953b7a12c408cf0e4e8f4e3e3d014 = L.popup({\n",
       "  &quot;maxWidth&quot;: &quot;100%&quot;,\n",
       "});\n",
       "\n",
       "        \n",
       "            \n",
       "                var html_41f64e1834fc55f68c6d0690ca94bce7 = $(`&lt;div id=&quot;html_41f64e1834fc55f68c6d0690ca94bce7&quot; style=&quot;width: 100.0%; height: 100.0%;&quot;&gt;pos_2&lt;/div&gt;`)[0];\n",
       "                popup_70c953b7a12c408cf0e4e8f4e3e3d014.setContent(html_41f64e1834fc55f68c6d0690ca94bce7);\n",
       "            \n",
       "        \n",
       "\n",
       "        marker_1b153cf923e2e5ff65189f7bc00b02b1.bindPopup(popup_70c953b7a12c408cf0e4e8f4e3e3d014)\n",
       "        ;\n",
       "\n",
       "        \n",
       "    \n",
       "    \n",
       "                marker_1b153cf923e2e5ff65189f7bc00b02b1.setIcon(icon_ae2be1002ab7edafbc31d5052d90d49a);\n",
       "            \n",
       "    \n",
       "            var marker_2408011d3fbc96f70e29bd3ecd6a0160 = L.marker(\n",
       "                [-35.36323816783802, 149.1650588661687],\n",
       "                {\n",
       "}\n",
       "            ).addTo(map_956d03f3aa11cfcfe5ae3aaba95e8f5a);\n",
       "        \n",
       "    \n",
       "            var icon_1539c95ad68f0140c2ed8cc9b5320e2a = L.AwesomeMarkers.icon(\n",
       "                {\n",
       "  &quot;markerColor&quot;: &quot;blue&quot;,\n",
       "  &quot;iconColor&quot;: &quot;white&quot;,\n",
       "  &quot;icon&quot;: &quot;info-sign&quot;,\n",
       "  &quot;prefix&quot;: &quot;glyphicon&quot;,\n",
       "  &quot;extraClasses&quot;: &quot;fa-rotate-0&quot;,\n",
       "}\n",
       "            );\n",
       "        \n",
       "    \n",
       "        var popup_4d649a9ed9940181feadc503d93f35e2 = L.popup({\n",
       "  &quot;maxWidth&quot;: &quot;100%&quot;,\n",
       "});\n",
       "\n",
       "        \n",
       "            \n",
       "                var html_f13c421ddfbf84e88fc4834e637140d1 = $(`&lt;div id=&quot;html_f13c421ddfbf84e88fc4834e637140d1&quot; style=&quot;width: 100.0%; height: 100.0%;&quot;&gt;pos_3&lt;/div&gt;`)[0];\n",
       "                popup_4d649a9ed9940181feadc503d93f35e2.setContent(html_f13c421ddfbf84e88fc4834e637140d1);\n",
       "            \n",
       "        \n",
       "\n",
       "        marker_2408011d3fbc96f70e29bd3ecd6a0160.bindPopup(popup_4d649a9ed9940181feadc503d93f35e2)\n",
       "        ;\n",
       "\n",
       "        \n",
       "    \n",
       "    \n",
       "                marker_2408011d3fbc96f70e29bd3ecd6a0160.setIcon(icon_1539c95ad68f0140c2ed8cc9b5320e2a);\n",
       "            \n",
       "    \n",
       "            var marker_21a57b687e9bccac09e19e17150543cc = L.marker(\n",
       "                [-35.36332799988755, 149.16505886598486],\n",
       "                {\n",
       "}\n",
       "            ).addTo(map_956d03f3aa11cfcfe5ae3aaba95e8f5a);\n",
       "        \n",
       "    \n",
       "            var icon_ff5ce422894aa382f5c634d9786c0ac5 = L.AwesomeMarkers.icon(\n",
       "                {\n",
       "  &quot;markerColor&quot;: &quot;blue&quot;,\n",
       "  &quot;iconColor&quot;: &quot;white&quot;,\n",
       "  &quot;icon&quot;: &quot;info-sign&quot;,\n",
       "  &quot;prefix&quot;: &quot;glyphicon&quot;,\n",
       "  &quot;extraClasses&quot;: &quot;fa-rotate-0&quot;,\n",
       "}\n",
       "            );\n",
       "        \n",
       "    \n",
       "        var popup_c0768694845ab0175212178a868aab0b = L.popup({\n",
       "  &quot;maxWidth&quot;: &quot;100%&quot;,\n",
       "});\n",
       "\n",
       "        \n",
       "            \n",
       "                var html_f75114ff1d2caccaeac977ec2ce8a1f0 = $(`&lt;div id=&quot;html_f75114ff1d2caccaeac977ec2ce8a1f0&quot; style=&quot;width: 100.0%; height: 100.0%;&quot;&gt;pos_4&lt;/div&gt;`)[0];\n",
       "                popup_c0768694845ab0175212178a868aab0b.setContent(html_f75114ff1d2caccaeac977ec2ce8a1f0);\n",
       "            \n",
       "        \n",
       "\n",
       "        marker_21a57b687e9bccac09e19e17150543cc.bindPopup(popup_c0768694845ab0175212178a868aab0b)\n",
       "        ;\n",
       "\n",
       "        \n",
       "    \n",
       "    \n",
       "                marker_21a57b687e9bccac09e19e17150543cc.setIcon(icon_ff5ce422894aa382f5c634d9786c0ac5);\n",
       "            \n",
       "    \n",
       "            var marker_f2fd5962de37988f71c1fbafad44f201 = L.marker(\n",
       "                [-35.36319325192571, 149.1652241],\n",
       "                {\n",
       "}\n",
       "            ).addTo(map_956d03f3aa11cfcfe5ae3aaba95e8f5a);\n",
       "        \n",
       "    \n",
       "            var icon_b4d7a783a7bfb5ed3f8c577e4a242a54 = L.AwesomeMarkers.icon(\n",
       "                {\n",
       "  &quot;markerColor&quot;: &quot;green&quot;,\n",
       "  &quot;iconColor&quot;: &quot;white&quot;,\n",
       "  &quot;icon&quot;: &quot;info-sign&quot;,\n",
       "  &quot;prefix&quot;: &quot;glyphicon&quot;,\n",
       "  &quot;extraClasses&quot;: &quot;fa-rotate-0&quot;,\n",
       "}\n",
       "            );\n",
       "        \n",
       "    \n",
       "        var popup_6410a4f6f75c6b5cc2f9508c7e4a43cc = L.popup({\n",
       "  &quot;maxWidth&quot;: &quot;100%&quot;,\n",
       "});\n",
       "\n",
       "        \n",
       "            \n",
       "                var html_cd02a7022308bba6d0564385bbc07544 = $(`&lt;div id=&quot;html_cd02a7022308bba6d0564385bbc07544&quot; style=&quot;width: 100.0%; height: 100.0%;&quot;&gt;pos_0&lt;/div&gt;`)[0];\n",
       "                popup_6410a4f6f75c6b5cc2f9508c7e4a43cc.setContent(html_cd02a7022308bba6d0564385bbc07544);\n",
       "            \n",
       "        \n",
       "\n",
       "        marker_f2fd5962de37988f71c1fbafad44f201.bindPopup(popup_6410a4f6f75c6b5cc2f9508c7e4a43cc)\n",
       "        ;\n",
       "\n",
       "        \n",
       "    \n",
       "    \n",
       "                marker_f2fd5962de37988f71c1fbafad44f201.setIcon(icon_b4d7a783a7bfb5ed3f8c577e4a242a54);\n",
       "            \n",
       "    \n",
       "            var marker_58d2894faf7079429ca795acc303a4f5 = L.marker(\n",
       "                [-35.36319325187572, 149.16511394417375],\n",
       "                {\n",
       "}\n",
       "            ).addTo(map_956d03f3aa11cfcfe5ae3aaba95e8f5a);\n",
       "        \n",
       "    \n",
       "            var icon_ac4915fcd5745ef4a3c3bf3e20936a03 = L.AwesomeMarkers.icon(\n",
       "                {\n",
       "  &quot;markerColor&quot;: &quot;green&quot;,\n",
       "  &quot;iconColor&quot;: &quot;white&quot;,\n",
       "  &quot;icon&quot;: &quot;info-sign&quot;,\n",
       "  &quot;prefix&quot;: &quot;glyphicon&quot;,\n",
       "  &quot;extraClasses&quot;: &quot;fa-rotate-0&quot;,\n",
       "}\n",
       "            );\n",
       "        \n",
       "    \n",
       "        var popup_6cd90c026e3c203a264e0ad3f96530f6 = L.popup({\n",
       "  &quot;maxWidth&quot;: &quot;100%&quot;,\n",
       "});\n",
       "\n",
       "        \n",
       "            \n",
       "                var html_b2d3303414588e7b8e3d49b857cd6e9f = $(`&lt;div id=&quot;html_b2d3303414588e7b8e3d49b857cd6e9f&quot; style=&quot;width: 100.0%; height: 100.0%;&quot;&gt;pos_1&lt;/div&gt;`)[0];\n",
       "                popup_6cd90c026e3c203a264e0ad3f96530f6.setContent(html_b2d3303414588e7b8e3d49b857cd6e9f);\n",
       "            \n",
       "        \n",
       "\n",
       "        marker_58d2894faf7079429ca795acc303a4f5.bindPopup(popup_6cd90c026e3c203a264e0ad3f96530f6)\n",
       "        ;\n",
       "\n",
       "        \n",
       "    \n",
       "    \n",
       "                marker_58d2894faf7079429ca795acc303a4f5.setIcon(icon_ac4915fcd5745ef4a3c3bf3e20936a03);\n",
       "            \n",
       "    \n",
       "            var marker_d90d3678da7e5be7b2977e60687a6f97 = L.marker(\n",
       "                [-35.363103419826196, 149.16511394429637],\n",
       "                {\n",
       "}\n",
       "            ).addTo(map_956d03f3aa11cfcfe5ae3aaba95e8f5a);\n",
       "        \n",
       "    \n",
       "            var icon_59f2b8eeb9d171675e17eb614288d37e = L.AwesomeMarkers.icon(\n",
       "                {\n",
       "  &quot;markerColor&quot;: &quot;green&quot;,\n",
       "  &quot;iconColor&quot;: &quot;white&quot;,\n",
       "  &quot;icon&quot;: &quot;info-sign&quot;,\n",
       "  &quot;prefix&quot;: &quot;glyphicon&quot;,\n",
       "  &quot;extraClasses&quot;: &quot;fa-rotate-0&quot;,\n",
       "}\n",
       "            );\n",
       "        \n",
       "    \n",
       "        var popup_13432d3df97e601d4af2b4126c0ccf3a = L.popup({\n",
       "  &quot;maxWidth&quot;: &quot;100%&quot;,\n",
       "});\n",
       "\n",
       "        \n",
       "            \n",
       "                var html_188cc8fc0aecd5b17fccde1c664655e3 = $(`&lt;div id=&quot;html_188cc8fc0aecd5b17fccde1c664655e3&quot; style=&quot;width: 100.0%; height: 100.0%;&quot;&gt;pos_2&lt;/div&gt;`)[0];\n",
       "                popup_13432d3df97e601d4af2b4126c0ccf3a.setContent(html_188cc8fc0aecd5b17fccde1c664655e3);\n",
       "            \n",
       "        \n",
       "\n",
       "        marker_d90d3678da7e5be7b2977e60687a6f97.bindPopup(popup_13432d3df97e601d4af2b4126c0ccf3a)\n",
       "        ;\n",
       "\n",
       "        \n",
       "    \n",
       "    \n",
       "                marker_d90d3678da7e5be7b2977e60687a6f97.setIcon(icon_59f2b8eeb9d171675e17eb614288d37e);\n",
       "            \n",
       "    \n",
       "            var marker_30fa89e83e225a2da78d5c717b5f8915 = L.marker(\n",
       "                [-35.36310341987617, 149.1652241],\n",
       "                {\n",
       "}\n",
       "            ).addTo(map_956d03f3aa11cfcfe5ae3aaba95e8f5a);\n",
       "        \n",
       "    \n",
       "            var icon_f852f8b6382be7ceb6d9cbc0c37a6ba1 = L.AwesomeMarkers.icon(\n",
       "                {\n",
       "  &quot;markerColor&quot;: &quot;green&quot;,\n",
       "  &quot;iconColor&quot;: &quot;white&quot;,\n",
       "  &quot;icon&quot;: &quot;info-sign&quot;,\n",
       "  &quot;prefix&quot;: &quot;glyphicon&quot;,\n",
       "  &quot;extraClasses&quot;: &quot;fa-rotate-0&quot;,\n",
       "}\n",
       "            );\n",
       "        \n",
       "    \n",
       "        var popup_69522e47fb5fe46d274cb300af644dc4 = L.popup({\n",
       "  &quot;maxWidth&quot;: &quot;100%&quot;,\n",
       "});\n",
       "\n",
       "        \n",
       "            \n",
       "                var html_afc75d9510150b99d1a943403cf89781 = $(`&lt;div id=&quot;html_afc75d9510150b99d1a943403cf89781&quot; style=&quot;width: 100.0%; height: 100.0%;&quot;&gt;pos_3&lt;/div&gt;`)[0];\n",
       "                popup_69522e47fb5fe46d274cb300af644dc4.setContent(html_afc75d9510150b99d1a943403cf89781);\n",
       "            \n",
       "        \n",
       "\n",
       "        marker_30fa89e83e225a2da78d5c717b5f8915.bindPopup(popup_69522e47fb5fe46d274cb300af644dc4)\n",
       "        ;\n",
       "\n",
       "        \n",
       "    \n",
       "    \n",
       "                marker_30fa89e83e225a2da78d5c717b5f8915.setIcon(icon_f852f8b6382be7ceb6d9cbc0c37a6ba1);\n",
       "            \n",
       "    \n",
       "            var marker_e8a2655cb22cf91d50ac934777be8184 = L.marker(\n",
       "                [-35.36319325192571, 149.1652241],\n",
       "                {\n",
       "}\n",
       "            ).addTo(map_956d03f3aa11cfcfe5ae3aaba95e8f5a);\n",
       "        \n",
       "    \n",
       "            var icon_a603a3279b5e0d9617cc0a96b5d8fe3a = L.AwesomeMarkers.icon(\n",
       "                {\n",
       "  &quot;markerColor&quot;: &quot;green&quot;,\n",
       "  &quot;iconColor&quot;: &quot;white&quot;,\n",
       "  &quot;icon&quot;: &quot;info-sign&quot;,\n",
       "  &quot;prefix&quot;: &quot;glyphicon&quot;,\n",
       "  &quot;extraClasses&quot;: &quot;fa-rotate-0&quot;,\n",
       "}\n",
       "            );\n",
       "        \n",
       "    \n",
       "        var popup_ffca5685258cd831f9027cf1f0f8164b = L.popup({\n",
       "  &quot;maxWidth&quot;: &quot;100%&quot;,\n",
       "});\n",
       "\n",
       "        \n",
       "            \n",
       "                var html_6719b939abfdbc751f2db0189ede7feb = $(`&lt;div id=&quot;html_6719b939abfdbc751f2db0189ede7feb&quot; style=&quot;width: 100.0%; height: 100.0%;&quot;&gt;pos_4&lt;/div&gt;`)[0];\n",
       "                popup_ffca5685258cd831f9027cf1f0f8164b.setContent(html_6719b939abfdbc751f2db0189ede7feb);\n",
       "            \n",
       "        \n",
       "\n",
       "        marker_e8a2655cb22cf91d50ac934777be8184.bindPopup(popup_ffca5685258cd831f9027cf1f0f8164b)\n",
       "        ;\n",
       "\n",
       "        \n",
       "    \n",
       "    \n",
       "                marker_e8a2655cb22cf91d50ac934777be8184.setIcon(icon_a603a3279b5e0d9617cc0a96b5d8fe3a);\n",
       "            \n",
       "    \n",
       "            var marker_c42214fe885838e2ca6eb8accc4c7ec6 = L.marker(\n",
       "                [-35.36328308377532, 149.16544441189762],\n",
       "                {\n",
       "}\n",
       "            ).addTo(map_956d03f3aa11cfcfe5ae3aaba95e8f5a);\n",
       "        \n",
       "    \n",
       "            var icon_0454550cd08b71d1f62065f3a5843121 = L.AwesomeMarkers.icon(\n",
       "                {\n",
       "  &quot;markerColor&quot;: &quot;black&quot;,\n",
       "  &quot;iconColor&quot;: &quot;white&quot;,\n",
       "  &quot;icon&quot;: &quot;info-sign&quot;,\n",
       "  &quot;prefix&quot;: &quot;glyphicon&quot;,\n",
       "  &quot;extraClasses&quot;: &quot;fa-rotate-0&quot;,\n",
       "}\n",
       "            );\n",
       "        \n",
       "    \n",
       "        var popup_5ddb2c334afe98543303a48e4d031cb2 = L.popup({\n",
       "  &quot;maxWidth&quot;: &quot;100%&quot;,\n",
       "});\n",
       "\n",
       "        \n",
       "            \n",
       "                var html_3cd4ae8eb163225cc235ee7589bb188b = $(`&lt;div id=&quot;html_3cd4ae8eb163225cc235ee7589bb188b&quot; style=&quot;width: 100.0%; height: 100.0%;&quot;&gt;pos_0&lt;/div&gt;`)[0];\n",
       "                popup_5ddb2c334afe98543303a48e4d031cb2.setContent(html_3cd4ae8eb163225cc235ee7589bb188b);\n",
       "            \n",
       "        \n",
       "\n",
       "        marker_c42214fe885838e2ca6eb8accc4c7ec6.bindPopup(popup_5ddb2c334afe98543303a48e4d031cb2)\n",
       "        ;\n",
       "\n",
       "        \n",
       "    \n",
       "    \n",
       "                marker_c42214fe885838e2ca6eb8accc4c7ec6.setIcon(icon_0454550cd08b71d1f62065f3a5843121);\n",
       "            \n",
       "    \n",
       "            var marker_34b32e89ac0c775e5bd31cc7182d516a = L.marker(\n",
       "                [-35.36332799993574, 149.16534901411706],\n",
       "                {\n",
       "}\n",
       "            ).addTo(map_956d03f3aa11cfcfe5ae3aaba95e8f5a);\n",
       "        \n",
       "    \n",
       "            var icon_dc372c1345bf59990e5ab5145c71be93 = L.AwesomeMarkers.icon(\n",
       "                {\n",
       "  &quot;markerColor&quot;: &quot;black&quot;,\n",
       "  &quot;iconColor&quot;: &quot;white&quot;,\n",
       "  &quot;icon&quot;: &quot;info-sign&quot;,\n",
       "  &quot;prefix&quot;: &quot;glyphicon&quot;,\n",
       "  &quot;extraClasses&quot;: &quot;fa-rotate-0&quot;,\n",
       "}\n",
       "            );\n",
       "        \n",
       "    \n",
       "        var popup_8631313a0abebc87dd9e41aeb0955428 = L.popup({\n",
       "  &quot;maxWidth&quot;: &quot;100%&quot;,\n",
       "});\n",
       "\n",
       "        \n",
       "            \n",
       "                var html_df1a9567b7cdb44931038747e7c7e3bf = $(`&lt;div id=&quot;html_df1a9567b7cdb44931038747e7c7e3bf&quot; style=&quot;width: 100.0%; height: 100.0%;&quot;&gt;pos_1&lt;/div&gt;`)[0];\n",
       "                popup_8631313a0abebc87dd9e41aeb0955428.setContent(html_df1a9567b7cdb44931038747e7c7e3bf);\n",
       "            \n",
       "        \n",
       "\n",
       "        marker_34b32e89ac0c775e5bd31cc7182d516a.bindPopup(popup_8631313a0abebc87dd9e41aeb0955428)\n",
       "        ;\n",
       "\n",
       "        \n",
       "    \n",
       "    \n",
       "                marker_34b32e89ac0c775e5bd31cc7182d516a.setIcon(icon_dc372c1345bf59990e5ab5145c71be93);\n",
       "            \n",
       "    \n",
       "            var marker_0a706c5de6c27ded0e4fe758df54174a = L.marker(\n",
       "                [-35.36325020314295, 149.1652939360447],\n",
       "                {\n",
       "}\n",
       "            ).addTo(map_956d03f3aa11cfcfe5ae3aaba95e8f5a);\n",
       "        \n",
       "    \n",
       "            var icon_c083605351af1e3d7758b0826a22ccd6 = L.AwesomeMarkers.icon(\n",
       "                {\n",
       "  &quot;markerColor&quot;: &quot;black&quot;,\n",
       "  &quot;iconColor&quot;: &quot;white&quot;,\n",
       "  &quot;icon&quot;: &quot;info-sign&quot;,\n",
       "  &quot;prefix&quot;: &quot;glyphicon&quot;,\n",
       "  &quot;extraClasses&quot;: &quot;fa-rotate-0&quot;,\n",
       "}\n",
       "            );\n",
       "        \n",
       "    \n",
       "        var popup_e404225a890f65571b6585e1a75967f7 = L.popup({\n",
       "  &quot;maxWidth&quot;: &quot;100%&quot;,\n",
       "});\n",
       "\n",
       "        \n",
       "            \n",
       "                var html_08948c3ca1241e5c43d4f026a2ee36f3 = $(`&lt;div id=&quot;html_08948c3ca1241e5c43d4f026a2ee36f3&quot; style=&quot;width: 100.0%; height: 100.0%;&quot;&gt;pos_2&lt;/div&gt;`)[0];\n",
       "                popup_e404225a890f65571b6585e1a75967f7.setContent(html_08948c3ca1241e5c43d4f026a2ee36f3);\n",
       "            \n",
       "        \n",
       "\n",
       "        marker_0a706c5de6c27ded0e4fe758df54174a.bindPopup(popup_e404225a890f65571b6585e1a75967f7)\n",
       "        ;\n",
       "\n",
       "        \n",
       "    \n",
       "    \n",
       "                marker_0a706c5de6c27ded0e4fe758df54174a.setIcon(icon_c083605351af1e3d7758b0826a22ccd6);\n",
       "            \n",
       "    \n",
       "            var marker_e8302258437873553d615a7acb24e88a = L.marker(\n",
       "                [-35.36320528702582, 149.16538933376398],\n",
       "                {\n",
       "}\n",
       "            ).addTo(map_956d03f3aa11cfcfe5ae3aaba95e8f5a);\n",
       "        \n",
       "    \n",
       "            var icon_d21b631d43e3bff7fc3d87522de84cd7 = L.AwesomeMarkers.icon(\n",
       "                {\n",
       "  &quot;markerColor&quot;: &quot;black&quot;,\n",
       "  &quot;iconColor&quot;: &quot;white&quot;,\n",
       "  &quot;icon&quot;: &quot;info-sign&quot;,\n",
       "  &quot;prefix&quot;: &quot;glyphicon&quot;,\n",
       "  &quot;extraClasses&quot;: &quot;fa-rotate-0&quot;,\n",
       "}\n",
       "            );\n",
       "        \n",
       "    \n",
       "        var popup_2d6b6215420f99d631b9cf8ea1b27fcf = L.popup({\n",
       "  &quot;maxWidth&quot;: &quot;100%&quot;,\n",
       "});\n",
       "\n",
       "        \n",
       "            \n",
       "                var html_3c49e0d407267330a526867f438c3cf0 = $(`&lt;div id=&quot;html_3c49e0d407267330a526867f438c3cf0&quot; style=&quot;width: 100.0%; height: 100.0%;&quot;&gt;pos_3&lt;/div&gt;`)[0];\n",
       "                popup_2d6b6215420f99d631b9cf8ea1b27fcf.setContent(html_3c49e0d407267330a526867f438c3cf0);\n",
       "            \n",
       "        \n",
       "\n",
       "        marker_e8302258437873553d615a7acb24e88a.bindPopup(popup_2d6b6215420f99d631b9cf8ea1b27fcf)\n",
       "        ;\n",
       "\n",
       "        \n",
       "    \n",
       "    \n",
       "                marker_e8302258437873553d615a7acb24e88a.setIcon(icon_d21b631d43e3bff7fc3d87522de84cd7);\n",
       "            \n",
       "    \n",
       "            var marker_40ead644d70f49af8c64250d573f9d09 = L.marker(\n",
       "                [-35.36328308377532, 149.16544441189762],\n",
       "                {\n",
       "}\n",
       "            ).addTo(map_956d03f3aa11cfcfe5ae3aaba95e8f5a);\n",
       "        \n",
       "    \n",
       "            var icon_e3f4c8a662636f3cf6a7f693347cd9cc = L.AwesomeMarkers.icon(\n",
       "                {\n",
       "  &quot;markerColor&quot;: &quot;black&quot;,\n",
       "  &quot;iconColor&quot;: &quot;white&quot;,\n",
       "  &quot;icon&quot;: &quot;info-sign&quot;,\n",
       "  &quot;prefix&quot;: &quot;glyphicon&quot;,\n",
       "  &quot;extraClasses&quot;: &quot;fa-rotate-0&quot;,\n",
       "}\n",
       "            );\n",
       "        \n",
       "    \n",
       "        var popup_3ee9436e79153c9561f382180d1deeea = L.popup({\n",
       "  &quot;maxWidth&quot;: &quot;100%&quot;,\n",
       "});\n",
       "\n",
       "        \n",
       "            \n",
       "                var html_0a49cf038eecfca69ce5bafe70590dd2 = $(`&lt;div id=&quot;html_0a49cf038eecfca69ce5bafe70590dd2&quot; style=&quot;width: 100.0%; height: 100.0%;&quot;&gt;pos_4&lt;/div&gt;`)[0];\n",
       "                popup_3ee9436e79153c9561f382180d1deeea.setContent(html_0a49cf038eecfca69ce5bafe70590dd2);\n",
       "            \n",
       "        \n",
       "\n",
       "        marker_40ead644d70f49af8c64250d573f9d09.bindPopup(popup_3ee9436e79153c9561f382180d1deeea)\n",
       "        ;\n",
       "\n",
       "        \n",
       "    \n",
       "    \n",
       "                marker_40ead644d70f49af8c64250d573f9d09.setIcon(icon_e3f4c8a662636f3cf6a7f693347cd9cc);\n",
       "            \n",
       "    \n",
       "            var marker_8c3d7a71023e292930e85e0235236536 = L.marker(\n",
       "                [-35.36346274796185, 149.16538933429092],\n",
       "                {\n",
       "}\n",
       "            ).addTo(map_956d03f3aa11cfcfe5ae3aaba95e8f5a);\n",
       "        \n",
       "    \n",
       "            var icon_974182f888b8387af2205ce6344575b2 = L.AwesomeMarkers.icon(\n",
       "                {\n",
       "  &quot;markerColor&quot;: &quot;orange&quot;,\n",
       "  &quot;iconColor&quot;: &quot;white&quot;,\n",
       "  &quot;icon&quot;: &quot;info-sign&quot;,\n",
       "  &quot;prefix&quot;: &quot;glyphicon&quot;,\n",
       "  &quot;extraClasses&quot;: &quot;fa-rotate-0&quot;,\n",
       "}\n",
       "            );\n",
       "        \n",
       "    \n",
       "        var popup_35e603eeb7eacfa0751964ad04c55e99 = L.popup({\n",
       "  &quot;maxWidth&quot;: &quot;100%&quot;,\n",
       "});\n",
       "\n",
       "        \n",
       "            \n",
       "                var html_ff3329688dd52988791a2270ff808a21 = $(`&lt;div id=&quot;html_ff3329688dd52988791a2270ff808a21&quot; style=&quot;width: 100.0%; height: 100.0%;&quot;&gt;pos_0&lt;/div&gt;`)[0];\n",
       "                popup_35e603eeb7eacfa0751964ad04c55e99.setContent(html_ff3329688dd52988791a2270ff808a21);\n",
       "            \n",
       "        \n",
       "\n",
       "        marker_8c3d7a71023e292930e85e0235236536.bindPopup(popup_35e603eeb7eacfa0751964ad04c55e99)\n",
       "        ;\n",
       "\n",
       "        \n",
       "    \n",
       "    \n",
       "                marker_8c3d7a71023e292930e85e0235236536.setIcon(icon_974182f888b8387af2205ce6344575b2);\n",
       "            \n",
       "    \n",
       "            var marker_a4c3cd7cbafc831fb59df41ce5a82b45 = L.marker(\n",
       "                [-35.363462748061814, 149.16527917809697],\n",
       "                {\n",
       "}\n",
       "            ).addTo(map_956d03f3aa11cfcfe5ae3aaba95e8f5a);\n",
       "        \n",
       "    \n",
       "            var icon_be11283ada78df3eba20069129ee3e01 = L.AwesomeMarkers.icon(\n",
       "                {\n",
       "  &quot;markerColor&quot;: &quot;orange&quot;,\n",
       "  &quot;iconColor&quot;: &quot;white&quot;,\n",
       "  &quot;icon&quot;: &quot;info-sign&quot;,\n",
       "  &quot;prefix&quot;: &quot;glyphicon&quot;,\n",
       "  &quot;extraClasses&quot;: &quot;fa-rotate-0&quot;,\n",
       "}\n",
       "            );\n",
       "        \n",
       "    \n",
       "        var popup_63ca3f3eb1d686d0f289925dd65901bb = L.popup({\n",
       "  &quot;maxWidth&quot;: &quot;100%&quot;,\n",
       "});\n",
       "\n",
       "        \n",
       "            \n",
       "                var html_8f39c091e62f16e3743bcec7c7f68efe = $(`&lt;div id=&quot;html_8f39c091e62f16e3743bcec7c7f68efe&quot; style=&quot;width: 100.0%; height: 100.0%;&quot;&gt;pos_1&lt;/div&gt;`)[0];\n",
       "                popup_63ca3f3eb1d686d0f289925dd65901bb.setContent(html_8f39c091e62f16e3743bcec7c7f68efe);\n",
       "            \n",
       "        \n",
       "\n",
       "        marker_a4c3cd7cbafc831fb59df41ce5a82b45.bindPopup(popup_63ca3f3eb1d686d0f289925dd65901bb)\n",
       "        ;\n",
       "\n",
       "        \n",
       "    \n",
       "    \n",
       "                marker_a4c3cd7cbafc831fb59df41ce5a82b45.setIcon(icon_be11283ada78df3eba20069129ee3e01);\n",
       "            \n",
       "    \n",
       "            var marker_ad6509ad6b3236c2f99c4694df4a5215 = L.marker(\n",
       "                [-35.36337291601228, 149.1652791780357],\n",
       "                {\n",
       "}\n",
       "            ).addTo(map_956d03f3aa11cfcfe5ae3aaba95e8f5a);\n",
       "        \n",
       "    \n",
       "            var icon_ee5931db35d743ff8b4bea6526f5c637 = L.AwesomeMarkers.icon(\n",
       "                {\n",
       "  &quot;markerColor&quot;: &quot;orange&quot;,\n",
       "  &quot;iconColor&quot;: &quot;white&quot;,\n",
       "  &quot;icon&quot;: &quot;info-sign&quot;,\n",
       "  &quot;prefix&quot;: &quot;glyphicon&quot;,\n",
       "  &quot;extraClasses&quot;: &quot;fa-rotate-0&quot;,\n",
       "}\n",
       "            );\n",
       "        \n",
       "    \n",
       "        var popup_1d76eed0c19615303156845a796fa613 = L.popup({\n",
       "  &quot;maxWidth&quot;: &quot;100%&quot;,\n",
       "});\n",
       "\n",
       "        \n",
       "            \n",
       "                var html_59efc2c49c15c72254fe16a6741bc270 = $(`&lt;div id=&quot;html_59efc2c49c15c72254fe16a6741bc270&quot; style=&quot;width: 100.0%; height: 100.0%;&quot;&gt;pos_2&lt;/div&gt;`)[0];\n",
       "                popup_1d76eed0c19615303156845a796fa613.setContent(html_59efc2c49c15c72254fe16a6741bc270);\n",
       "            \n",
       "        \n",
       "\n",
       "        marker_ad6509ad6b3236c2f99c4694df4a5215.bindPopup(popup_1d76eed0c19615303156845a796fa613)\n",
       "        ;\n",
       "\n",
       "        \n",
       "    \n",
       "    \n",
       "                marker_ad6509ad6b3236c2f99c4694df4a5215.setIcon(icon_ee5931db35d743ff8b4bea6526f5c637);\n",
       "            \n",
       "    \n",
       "            var marker_ad7728898e3850bf00616119edce25e8 = L.marker(\n",
       "                [-35.36337291591232, 149.1653893341071],\n",
       "                {\n",
       "}\n",
       "            ).addTo(map_956d03f3aa11cfcfe5ae3aaba95e8f5a);\n",
       "        \n",
       "    \n",
       "            var icon_43901d05afcc0ab2b633335d13850f7d = L.AwesomeMarkers.icon(\n",
       "                {\n",
       "  &quot;markerColor&quot;: &quot;orange&quot;,\n",
       "  &quot;iconColor&quot;: &quot;white&quot;,\n",
       "  &quot;icon&quot;: &quot;info-sign&quot;,\n",
       "  &quot;prefix&quot;: &quot;glyphicon&quot;,\n",
       "  &quot;extraClasses&quot;: &quot;fa-rotate-0&quot;,\n",
       "}\n",
       "            );\n",
       "        \n",
       "    \n",
       "        var popup_dac5036346787cfd5b995684ba506d4a = L.popup({\n",
       "  &quot;maxWidth&quot;: &quot;100%&quot;,\n",
       "});\n",
       "\n",
       "        \n",
       "            \n",
       "                var html_ba6b4a95673fde88463cd042f3971999 = $(`&lt;div id=&quot;html_ba6b4a95673fde88463cd042f3971999&quot; style=&quot;width: 100.0%; height: 100.0%;&quot;&gt;pos_3&lt;/div&gt;`)[0];\n",
       "                popup_dac5036346787cfd5b995684ba506d4a.setContent(html_ba6b4a95673fde88463cd042f3971999);\n",
       "            \n",
       "        \n",
       "\n",
       "        marker_ad7728898e3850bf00616119edce25e8.bindPopup(popup_dac5036346787cfd5b995684ba506d4a)\n",
       "        ;\n",
       "\n",
       "        \n",
       "    \n",
       "    \n",
       "                marker_ad7728898e3850bf00616119edce25e8.setIcon(icon_43901d05afcc0ab2b633335d13850f7d);\n",
       "            \n",
       "    \n",
       "            var marker_0b48d17185c9ed21e53750be8acdf3b8 = L.marker(\n",
       "                [-35.36346274796185, 149.16538933429092],\n",
       "                {\n",
       "}\n",
       "            ).addTo(map_956d03f3aa11cfcfe5ae3aaba95e8f5a);\n",
       "        \n",
       "    \n",
       "            var icon_c5e4daa92349a50a7b99899487575a7e = L.AwesomeMarkers.icon(\n",
       "                {\n",
       "  &quot;markerColor&quot;: &quot;orange&quot;,\n",
       "  &quot;iconColor&quot;: &quot;white&quot;,\n",
       "  &quot;icon&quot;: &quot;info-sign&quot;,\n",
       "  &quot;prefix&quot;: &quot;glyphicon&quot;,\n",
       "  &quot;extraClasses&quot;: &quot;fa-rotate-0&quot;,\n",
       "}\n",
       "            );\n",
       "        \n",
       "    \n",
       "        var popup_293faab955d181d652f20aee60b57f6e = L.popup({\n",
       "  &quot;maxWidth&quot;: &quot;100%&quot;,\n",
       "});\n",
       "\n",
       "        \n",
       "            \n",
       "                var html_0cf47a21f7e774ca6fe14d2b1df06972 = $(`&lt;div id=&quot;html_0cf47a21f7e774ca6fe14d2b1df06972&quot; style=&quot;width: 100.0%; height: 100.0%;&quot;&gt;pos_4&lt;/div&gt;`)[0];\n",
       "                popup_293faab955d181d652f20aee60b57f6e.setContent(html_0cf47a21f7e774ca6fe14d2b1df06972);\n",
       "            \n",
       "        \n",
       "\n",
       "        marker_0b48d17185c9ed21e53750be8acdf3b8.bindPopup(popup_293faab955d181d652f20aee60b57f6e)\n",
       "        ;\n",
       "\n",
       "        \n",
       "    \n",
       "    \n",
       "                marker_0b48d17185c9ed21e53750be8acdf3b8.setIcon(icon_c5e4daa92349a50a7b99899487575a7e);\n",
       "            \n",
       "    \n",
       "            var marker_f0e0e8e5db3ab404cd00deb586a3fac7 = L.marker(\n",
       "                [-35.363462748074305, 149.1652241],\n",
       "                {\n",
       "}\n",
       "            ).addTo(map_956d03f3aa11cfcfe5ae3aaba95e8f5a);\n",
       "        \n",
       "    \n",
       "            var icon_35c0af9d28de01409bdb75b71073ecd4 = L.AwesomeMarkers.icon(\n",
       "                {\n",
       "  &quot;markerColor&quot;: &quot;red&quot;,\n",
       "  &quot;iconColor&quot;: &quot;white&quot;,\n",
       "  &quot;icon&quot;: &quot;info-sign&quot;,\n",
       "  &quot;prefix&quot;: &quot;glyphicon&quot;,\n",
       "  &quot;extraClasses&quot;: &quot;fa-rotate-0&quot;,\n",
       "}\n",
       "            );\n",
       "        \n",
       "    \n",
       "        var popup_4458c6a29b448bdc4b0f77ec07152e1c = L.popup({\n",
       "  &quot;maxWidth&quot;: &quot;100%&quot;,\n",
       "});\n",
       "\n",
       "        \n",
       "            \n",
       "                var html_71ae89a9096464d3d1366bc08b4153a4 = $(`&lt;div id=&quot;html_71ae89a9096464d3d1366bc08b4153a4&quot; style=&quot;width: 100.0%; height: 100.0%;&quot;&gt;pos_0&lt;/div&gt;`)[0];\n",
       "                popup_4458c6a29b448bdc4b0f77ec07152e1c.setContent(html_71ae89a9096464d3d1366bc08b4153a4);\n",
       "            \n",
       "        \n",
       "\n",
       "        marker_f0e0e8e5db3ab404cd00deb586a3fac7.bindPopup(popup_4458c6a29b448bdc4b0f77ec07152e1c)\n",
       "        ;\n",
       "\n",
       "        \n",
       "    \n",
       "    \n",
       "                marker_f0e0e8e5db3ab404cd00deb586a3fac7.setIcon(icon_35c0af9d28de01409bdb75b71073ecd4);\n",
       "            \n",
       "    \n",
       "            var marker_f43b4f48c1daed6def1100bbf3120137 = L.marker(\n",
       "                [-35.3635262689007, 149.165146207747],\n",
       "                {\n",
       "}\n",
       "            ).addTo(map_956d03f3aa11cfcfe5ae3aaba95e8f5a);\n",
       "        \n",
       "    \n",
       "            var icon_f41ac5e11abb4610448b45a0fa42a087 = L.AwesomeMarkers.icon(\n",
       "                {\n",
       "  &quot;markerColor&quot;: &quot;red&quot;,\n",
       "  &quot;iconColor&quot;: &quot;white&quot;,\n",
       "  &quot;icon&quot;: &quot;info-sign&quot;,\n",
       "  &quot;prefix&quot;: &quot;glyphicon&quot;,\n",
       "  &quot;extraClasses&quot;: &quot;fa-rotate-0&quot;,\n",
       "}\n",
       "            );\n",
       "        \n",
       "    \n",
       "        var popup_89620628331fef3daa9366eb136a5be4 = L.popup({\n",
       "  &quot;maxWidth&quot;: &quot;100%&quot;,\n",
       "});\n",
       "\n",
       "        \n",
       "            \n",
       "                var html_6786b0fb751631a226b4621c6d0005d3 = $(`&lt;div id=&quot;html_6786b0fb751631a226b4621c6d0005d3&quot; style=&quot;width: 100.0%; height: 100.0%;&quot;&gt;pos_1&lt;/div&gt;`)[0];\n",
       "                popup_89620628331fef3daa9366eb136a5be4.setContent(html_6786b0fb751631a226b4621c6d0005d3);\n",
       "            \n",
       "        \n",
       "\n",
       "        marker_f43b4f48c1daed6def1100bbf3120137.bindPopup(popup_89620628331fef3daa9366eb136a5be4)\n",
       "        ;\n",
       "\n",
       "        \n",
       "    \n",
       "    \n",
       "                marker_f43b4f48c1daed6def1100bbf3120137.setIcon(icon_f41ac5e11abb4610448b45a0fa42a087);\n",
       "            \n",
       "    \n",
       "            var marker_9b7050d2ffe2a8cbd6181a2cf08878e1 = L.marker(\n",
       "                [-35.363462747974346, 149.1650683156165],\n",
       "                {\n",
       "}\n",
       "            ).addTo(map_956d03f3aa11cfcfe5ae3aaba95e8f5a);\n",
       "        \n",
       "    \n",
       "            var icon_9f0a49dec287e690f9fdc5c8919643ad = L.AwesomeMarkers.icon(\n",
       "                {\n",
       "  &quot;markerColor&quot;: &quot;red&quot;,\n",
       "  &quot;iconColor&quot;: &quot;white&quot;,\n",
       "  &quot;icon&quot;: &quot;info-sign&quot;,\n",
       "  &quot;prefix&quot;: &quot;glyphicon&quot;,\n",
       "  &quot;extraClasses&quot;: &quot;fa-rotate-0&quot;,\n",
       "}\n",
       "            );\n",
       "        \n",
       "    \n",
       "        var popup_35323aec7ff722e795a793e746df8e75 = L.popup({\n",
       "  &quot;maxWidth&quot;: &quot;100%&quot;,\n",
       "});\n",
       "\n",
       "        \n",
       "            \n",
       "                var html_c2ff1fd366a19bd48b98aa7d2630f294 = $(`&lt;div id=&quot;html_c2ff1fd366a19bd48b98aa7d2630f294&quot; style=&quot;width: 100.0%; height: 100.0%;&quot;&gt;pos_2&lt;/div&gt;`)[0];\n",
       "                popup_35323aec7ff722e795a793e746df8e75.setContent(html_c2ff1fd366a19bd48b98aa7d2630f294);\n",
       "            \n",
       "        \n",
       "\n",
       "        marker_9b7050d2ffe2a8cbd6181a2cf08878e1.bindPopup(popup_35323aec7ff722e795a793e746df8e75)\n",
       "        ;\n",
       "\n",
       "        \n",
       "    \n",
       "    \n",
       "                marker_9b7050d2ffe2a8cbd6181a2cf08878e1.setIcon(icon_9f0a49dec287e690f9fdc5c8919643ad);\n",
       "            \n",
       "    \n",
       "            var marker_c9766e1eb853f5cf0f45ea14dab86fba = L.marker(\n",
       "                [-35.36339922719792, 149.16514620786955],\n",
       "                {\n",
       "}\n",
       "            ).addTo(map_956d03f3aa11cfcfe5ae3aaba95e8f5a);\n",
       "        \n",
       "    \n",
       "            var icon_112592b07e9fcc7566266f75335069ab = L.AwesomeMarkers.icon(\n",
       "                {\n",
       "  &quot;markerColor&quot;: &quot;red&quot;,\n",
       "  &quot;iconColor&quot;: &quot;white&quot;,\n",
       "  &quot;icon&quot;: &quot;info-sign&quot;,\n",
       "  &quot;prefix&quot;: &quot;glyphicon&quot;,\n",
       "  &quot;extraClasses&quot;: &quot;fa-rotate-0&quot;,\n",
       "}\n",
       "            );\n",
       "        \n",
       "    \n",
       "        var popup_cba7e84268d2d5204c9790846cc3f61a = L.popup({\n",
       "  &quot;maxWidth&quot;: &quot;100%&quot;,\n",
       "});\n",
       "\n",
       "        \n",
       "            \n",
       "                var html_133fb409dbafd3365b6b74ce66ab5b84 = $(`&lt;div id=&quot;html_133fb409dbafd3365b6b74ce66ab5b84&quot; style=&quot;width: 100.0%; height: 100.0%;&quot;&gt;pos_3&lt;/div&gt;`)[0];\n",
       "                popup_cba7e84268d2d5204c9790846cc3f61a.setContent(html_133fb409dbafd3365b6b74ce66ab5b84);\n",
       "            \n",
       "        \n",
       "\n",
       "        marker_c9766e1eb853f5cf0f45ea14dab86fba.bindPopup(popup_cba7e84268d2d5204c9790846cc3f61a)\n",
       "        ;\n",
       "\n",
       "        \n",
       "    \n",
       "    \n",
       "                marker_c9766e1eb853f5cf0f45ea14dab86fba.setIcon(icon_112592b07e9fcc7566266f75335069ab);\n",
       "            \n",
       "    \n",
       "            var marker_beb5b282b1e32a56d4118523a3261670 = L.marker(\n",
       "                [-35.363462748074305, 149.1652241],\n",
       "                {\n",
       "}\n",
       "            ).addTo(map_956d03f3aa11cfcfe5ae3aaba95e8f5a);\n",
       "        \n",
       "    \n",
       "            var icon_6caea7bddfe1bc8fa53653e76325737c = L.AwesomeMarkers.icon(\n",
       "                {\n",
       "  &quot;markerColor&quot;: &quot;red&quot;,\n",
       "  &quot;iconColor&quot;: &quot;white&quot;,\n",
       "  &quot;icon&quot;: &quot;info-sign&quot;,\n",
       "  &quot;prefix&quot;: &quot;glyphicon&quot;,\n",
       "  &quot;extraClasses&quot;: &quot;fa-rotate-0&quot;,\n",
       "}\n",
       "            );\n",
       "        \n",
       "    \n",
       "        var popup_232094dde1b4e436ae880cd98c8caa75 = L.popup({\n",
       "  &quot;maxWidth&quot;: &quot;100%&quot;,\n",
       "});\n",
       "\n",
       "        \n",
       "            \n",
       "                var html_960a7d4bd794a19d16c08d8e3a53e04d = $(`&lt;div id=&quot;html_960a7d4bd794a19d16c08d8e3a53e04d&quot; style=&quot;width: 100.0%; height: 100.0%;&quot;&gt;pos_4&lt;/div&gt;`)[0];\n",
       "                popup_232094dde1b4e436ae880cd98c8caa75.setContent(html_960a7d4bd794a19d16c08d8e3a53e04d);\n",
       "            \n",
       "        \n",
       "\n",
       "        marker_beb5b282b1e32a56d4118523a3261670.bindPopup(popup_232094dde1b4e436ae880cd98c8caa75)\n",
       "        ;\n",
       "\n",
       "        \n",
       "    \n",
       "    \n",
       "                marker_beb5b282b1e32a56d4118523a3261670.setIcon(icon_6caea7bddfe1bc8fa53653e76325737c);\n",
       "            \n",
       "    \n",
       "            var marker_33742fcb9db51b488c3362e6b4647f21 = L.marker(\n",
       "                [-35.363328, 149.1652241],\n",
       "                {\n",
       "}\n",
       "            ).addTo(map_956d03f3aa11cfcfe5ae3aaba95e8f5a);\n",
       "        \n",
       "    \n",
       "            var icon_041928ad5ba96c34f443c9805f348f1a = L.AwesomeMarkers.icon(\n",
       "                {\n",
       "  &quot;markerColor&quot;: &quot;white&quot;,\n",
       "  &quot;iconColor&quot;: &quot;white&quot;,\n",
       "  &quot;icon&quot;: &quot;info-sign&quot;,\n",
       "  &quot;prefix&quot;: &quot;glyphicon&quot;,\n",
       "  &quot;extraClasses&quot;: &quot;fa-rotate-0&quot;,\n",
       "}\n",
       "            );\n",
       "        \n",
       "    \n",
       "        var popup_93dee0ff492ef03105dc90295d2e4414 = L.popup({\n",
       "  &quot;maxWidth&quot;: &quot;100%&quot;,\n",
       "});\n",
       "\n",
       "        \n",
       "            \n",
       "                var html_617a60de4dc49d545082a1d6dac117c1 = $(`&lt;div id=&quot;html_617a60de4dc49d545082a1d6dac117c1&quot; style=&quot;width: 100.0%; height: 100.0%;&quot;&gt;Origin&lt;/div&gt;`)[0];\n",
       "                popup_93dee0ff492ef03105dc90295d2e4414.setContent(html_617a60de4dc49d545082a1d6dac117c1);\n",
       "            \n",
       "        \n",
       "\n",
       "        marker_33742fcb9db51b488c3362e6b4647f21.bindPopup(popup_93dee0ff492ef03105dc90295d2e4414)\n",
       "        ;\n",
       "\n",
       "        \n",
       "    \n",
       "    \n",
       "                marker_33742fcb9db51b488c3362e6b4647f21.setIcon(icon_041928ad5ba96c34f443c9805f348f1a);\n",
       "            \n",
       "&lt;/script&gt;\n",
       "&lt;/html&gt;\" style=\"position:absolute;width:100%;height:100%;left:0;top:0;border:none !important;\" allowfullscreen webkitallowfullscreen mozallowfullscreen></iframe></div></div>"
      ],
      "text/plain": [
       "<folium.folium.Map at 0x7f1be80421d0>"
      ]
     },
     "metadata": {},
     "output_type": "display_data"
    }
   ],
   "source": [
    "qgc_config = ConfigQGC(origin = gra_origin)\n",
    "\n",
    "for path,home,color,delay in zip(base_paths,base_homes,colors,msn_delays):\n",
    "    qgc_config.add(base_path=path,base_home=home,color=color,mission_delay=delay)\n",
    "qgc_config.show()\n",
    "\n",
    "qgc=QGC(qgc_config)"
   ]
  },
  {
   "cell_type": "markdown",
   "metadata": {},
   "source": [
    "## No Visualizer"
   ]
  },
  {
   "cell_type": "code",
   "execution_count": 15,
   "metadata": {},
   "outputs": [],
   "source": [
    "novis_config = ConfigNovis(origin=gra_origin)\n",
    "for home in base_homes:\n",
    "    novis_config.add(base_home=home)\n",
    "    \n",
    "novis=NoVisualizer(novis_config)"
   ]
  },
  {
   "cell_type": "markdown",
   "metadata": {},
   "source": [
    "## Launch Simulation\n",
    "\n",
    "**Here we configure the simulation:**\n",
    "* **visualizers**: Select the desired visualizer for the simulation (only one visualizer at a time is currently supported).    \n",
    "* **missions**: List of missions for each UAV. Although advanced, customized missions can be built using the `Mission` class defined in the QGroundControl configuration script, here we use the QGroundControl configuration builder for simplicity.  \n",
    "* **terminals**: Processes to display in the terminal. The available processes are defined in the `sim.py` script: `[\"launcher\", \"veh\", \"logic\", \"proxy\", \"gcs\"]`.  \n",
    "* **suppress_output**: Processes whose output should be suppressed. The available processes are defined in the `sim.py` script: `[\"launcher\", \"veh\", \"logic\", \"proxy\", \"gcs\"]`.  \n",
    "* **verbose**: Verbosity level (0 = no information, 1 = normal information, 2 = include debugging information).  \n",
    "* **other arguments**: More advanced options that allow further customization.  \n"
   ]
  },
  {
   "cell_type": "code",
   "execution_count": 16,
   "metadata": {},
   "outputs": [
    {
     "data": {
      "text/plain": [
       "[QGCVehicle(home=GRAPose(lat=-35.36332799988755, lon=149.16505886598486, alt=0.0, heading=90.0), mission=Mission(traj=[QGCWP(pos=GRA(lat=-35.36332799988755, lon=149.16505886598486, alt=5.0), color=blue), QGCWP(pos=GRA(lat=-35.363327999687634, lon=149.1649487099748, alt=5.0), color=blue), QGCWP(pos=GRA(lat=-35.36323816763811, lon=149.16494871028124, alt=5.0), color=blue), QGCWP(pos=GRA(lat=-35.36323816783802, lon=149.1650588661687, alt=5.0), color=blue), QGCWP(pos=GRA(lat=-35.36332799988755, lon=149.16505886598486, alt=5.0), color=blue)], delay=0, n_items=7)),\n",
       " QGCVehicle(home=GRAPose(lat=-35.36319325192571, lon=149.1652241, alt=0.0, heading=90), mission=Mission(traj=[QGCWP(pos=GRA(lat=-35.36319325192571, lon=149.1652241, alt=5.0), color=green), QGCWP(pos=GRA(lat=-35.36319325187572, lon=149.16511394417375, alt=5.0), color=green), QGCWP(pos=GRA(lat=-35.363103419826196, lon=149.16511394429637, alt=5.0), color=green), QGCWP(pos=GRA(lat=-35.36310341987617, lon=149.1652241, alt=5.0), color=green), QGCWP(pos=GRA(lat=-35.36319325192571, lon=149.1652241, alt=5.0), color=green)], delay=1, n_items=8)),\n",
       " QGCVehicle(home=GRAPose(lat=-35.36328308377532, lon=149.16544441189762, alt=0.0, heading=120.0), mission=Mission(traj=[QGCWP(pos=GRA(lat=-35.36328308377532, lon=149.16544441189762, alt=5.0), color=black), QGCWP(pos=GRA(lat=-35.36332799993574, lon=149.16534901411706, alt=5.0), color=black), QGCWP(pos=GRA(lat=-35.36325020314295, lon=149.1652939360447, alt=5.0), color=black), QGCWP(pos=GRA(lat=-35.36320528702582, lon=149.16538933376398, alt=5.0), color=black), QGCWP(pos=GRA(lat=-35.36328308377532, lon=149.16544441189762, alt=5.0), color=black)], delay=2, n_items=8)),\n",
       " QGCVehicle(home=GRAPose(lat=-35.36346274796185, lon=149.16538933429092, alt=0.0, heading=90), mission=Mission(traj=[QGCWP(pos=GRA(lat=-35.36346274796185, lon=149.16538933429092, alt=5.0), color=orange), QGCWP(pos=GRA(lat=-35.363462748061814, lon=149.16527917809697, alt=5.0), color=orange), QGCWP(pos=GRA(lat=-35.36337291601228, lon=149.1652791780357, alt=5.0), color=orange), QGCWP(pos=GRA(lat=-35.36337291591232, lon=149.1653893341071, alt=5.0), color=orange), QGCWP(pos=GRA(lat=-35.36346274796185, lon=149.16538933429092, alt=5.0), color=orange)], delay=3, n_items=8)),\n",
       " QGCVehicle(home=GRAPose(lat=-35.363462748074305, lon=149.1652241, alt=0.0, heading=135), mission=Mission(traj=[QGCWP(pos=GRA(lat=-35.363462748074305, lon=149.1652241, alt=5.0), color=red), QGCWP(pos=GRA(lat=-35.3635262689007, lon=149.165146207747, alt=5.0), color=red), QGCWP(pos=GRA(lat=-35.363462747974346, lon=149.1650683156165, alt=5.0), color=red), QGCWP(pos=GRA(lat=-35.36339922719792, lon=149.16514620786955, alt=5.0), color=red), QGCWP(pos=GRA(lat=-35.363462748074305, lon=149.1652241, alt=5.0), color=red)], delay=4, n_items=8))]"
      ]
     },
     "execution_count": 16,
     "metadata": {},
     "output_type": "execute_result"
    }
   ],
   "source": [
    "qgc_config.vehicles"
   ]
  },
  {
   "cell_type": "code",
   "execution_count": 17,
   "metadata": {},
   "outputs": [
    {
     "name": "stderr",
     "output_type": "stream",
     "text": [
      "15:53:43 - Oracle ⚪ - INFO - 🚀 GCS multicolor launched (PID 1669011)\n",
      "15:53:44 - Oracle ⚪ - INFO - 🗺️  QGroundControl launched for 2D visualization — simulation powered by ArduPilot SITL.\n"
     ]
    }
   ],
   "source": [
    "simulator = Simulator(\n",
    "\tvisualizers=[qgc],\n",
    "\tgcs_system_ids={'multicolor':[1,2,3,4,5]},\n",
    "\tmissions=[veh.mission for veh in qgc_config.vehicles],\n",
    "\tterminals=['gcs'],\n",
    "\tverbose=1,\n",
    ")\n",
    "orac = simulator.launch()"
   ]
  },
  {
   "cell_type": "markdown",
   "metadata": {},
   "source": [
    "## Oracle checking"
   ]
  },
  {
   "cell_type": "code",
   "execution_count": 18,
   "metadata": {},
   "outputs": [
    {
     "name": "stderr",
     "output_type": "stream",
     "text": [
      "15:53:44 - Oracle ⚪ - INFO - 🏁 Starting Oracle with 5 vehicles and 1 GCSs\n",
      "15:55:11 - Oracle ⚪ - INFO - Received message 'DONE' from GCS multicolor\n",
      "15:55:11 - Oracle ⚪ - INFO - GCS multicolor removED. Remaining GCS: 0\n",
      "15:55:11 - Oracle ⚪ - INFO - ✅ Main monitoring loop completed - all connections closed\n",
      "15:55:11 - Oracle ⚪ - INFO - 🎉 Oracle shutdown complete!\n"
     ]
    }
   ],
   "source": [
    "orac.run()"
   ]
  }
 ],
 "metadata": {
  "kernelspec": {
   "display_name": "uav-cyber-sim11",
   "language": "python",
   "name": "python3"
  },
  "language_info": {
   "codemirror_mode": {
    "name": "ipython",
    "version": 3
   },
   "file_extension": ".py",
   "mimetype": "text/x-python",
   "name": "python",
   "nbconvert_exporter": "python",
   "pygments_lexer": "ipython3",
   "version": "3.11.13"
  }
 },
 "nbformat": 4,
 "nbformat_minor": 2
}
