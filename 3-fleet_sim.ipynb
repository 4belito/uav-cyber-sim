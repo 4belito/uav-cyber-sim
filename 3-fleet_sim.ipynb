{
 "cells": [
  {
   "cell_type": "markdown",
   "metadata": {},
   "source": [
    "## UAV fleet Simulation \n",
    "\n",
    "This is for testing propouses"
   ]
  },
  {
   "cell_type": "code",
   "execution_count": 1,
   "metadata": {},
   "outputs": [],
   "source": [
    "import os\n",
    "import subprocess\n",
    "import numpy as np\n",
    "\n",
    "# Custom modules\n",
    "from vehicle_logic import VehicleLogic\n",
    "from helpers.change_coordinates import heading_to_yaw,find_spawns\n",
    "from helpers.visualization.gazebo_world import update_world\n",
    "from helpers.change_coordinates import local2global,heading_to_yaw,find_spawns\n",
    "from helpers.visualization.plots import plot_3d_interactive\n",
    "\n",
    "from plan import Plan,State"
   ]
  },
  {
   "cell_type": "markdown",
   "metadata": {},
   "source": [
    "Kill all related process"
   ]
  },
  {
   "cell_type": "code",
   "execution_count": 2,
   "metadata": {},
   "outputs": [],
   "source": [
    "for process in [\"QGroundControl\", \"sim_vehicle.py\", \"arducopter\", \"gazebo\", \"mavproxy\"]:\n",
    "    os.system(f\"pkill -9 -f {process}\")"
   ]
  },
  {
   "cell_type": "markdown",
   "metadata": {},
   "source": [
    "Paths"
   ]
  },
  {
   "cell_type": "code",
   "execution_count": 3,
   "metadata": {},
   "outputs": [],
   "source": [
    "QGC_path='~/QGroundControl.AppImage'\n",
    "gazebo_word_path=\"gazebo_worlds/runway.world\"\n",
    "ardupilot_vehicle_path='~/ardupilot/Tools/autotest/sim_vehicle.py'"
   ]
  },
  {
   "cell_type": "markdown",
   "metadata": {},
   "source": [
    "## Choose Simulator"
   ]
  },
  {
   "cell_type": "code",
   "execution_count": 4,
   "metadata": {},
   "outputs": [],
   "source": [
    "simulator ='gazebo' #'QGroundControl' # "
   ]
  },
  {
   "cell_type": "markdown",
   "metadata": {},
   "source": [
    "## Create Plans"
   ]
  },
  {
   "cell_type": "code",
   "execution_count": 5,
   "metadata": {},
   "outputs": [
    {
     "name": "stdout",
     "output_type": "stream",
     "text": [
      "Plan 'basic plan' created — no connection yet 🧩\n",
      "Action 'Pre-Arm Check' created — no connection yet 🧩\n",
      "Step 'Check disarmed' created — no connection yet 🧩\n",
      "Step 'Check EKF' created — no connection yet 🧩\n",
      "Step 'Check GPS' created — no connection yet 🧩\n",
      "Step 'Check system' created — no connection yet 🧩\n",
      "Action 'Set Mode: GUIDED' created — no connection yet 🧩\n",
      "Step 'Switch to GUIDED' created — no connection yet 🧩\n",
      "Action 'Arm' created — no connection yet 🧩\n",
      "Step 'arm' created — no connection yet 🧩\n",
      "Action 'takeoff' created — no connection yet 🧩\n",
      "Step 'takeoff' created — no connection yet 🧩\n",
      "Action 'fly' created — no connection yet 🧩\n",
      "Step 'go to -> (0, 0, 5)' created — no connection yet 🧩\n",
      "Step 'go to -> (0, 5, 5)' created — no connection yet 🧩\n",
      "Step 'go to -> (5, 5, 5)' created — no connection yet 🧩\n",
      "Step 'go to -> (5, 0, 5)' created — no connection yet 🧩\n",
      "Step 'go to -> (0, 0, 5)' created — no connection yet 🧩\n",
      "Action 'Land' created — no connection yet 🧩\n",
      "Step 'land' created — no connection yet 🧩\n",
      "Plan 'basic plan' created — no connection yet 🧩\n",
      "Action 'Pre-Arm Check' created — no connection yet 🧩\n",
      "Step 'Check disarmed' created — no connection yet 🧩\n",
      "Step 'Check EKF' created — no connection yet 🧩\n",
      "Step 'Check GPS' created — no connection yet 🧩\n",
      "Step 'Check system' created — no connection yet 🧩\n",
      "Action 'Set Mode: GUIDED' created — no connection yet 🧩\n",
      "Step 'Switch to GUIDED' created — no connection yet 🧩\n",
      "Action 'Arm' created — no connection yet 🧩\n",
      "Step 'arm' created — no connection yet 🧩\n",
      "Action 'takeoff' created — no connection yet 🧩\n",
      "Step 'takeoff' created — no connection yet 🧩\n",
      "Action 'fly' created — no connection yet 🧩\n",
      "Step 'go to -> (0, 0, 5)' created — no connection yet 🧩\n",
      "Step 'go to -> (0, 7, 5)' created — no connection yet 🧩\n",
      "Step 'go to -> (7, 7, 5)' created — no connection yet 🧩\n",
      "Step 'go to -> (7, 0, 5)' created — no connection yet 🧩\n",
      "Step 'go to -> (0, 0, 5)' created — no connection yet 🧩\n",
      "Action 'Land' created — no connection yet 🧩\n",
      "Step 'land' created — no connection yet 🧩\n",
      "Plan 'basic plan' created — no connection yet 🧩\n",
      "Action 'Pre-Arm Check' created — no connection yet 🧩\n",
      "Step 'Check disarmed' created — no connection yet 🧩\n",
      "Step 'Check EKF' created — no connection yet 🧩\n",
      "Step 'Check GPS' created — no connection yet 🧩\n",
      "Step 'Check system' created — no connection yet 🧩\n",
      "Action 'Set Mode: GUIDED' created — no connection yet 🧩\n",
      "Step 'Switch to GUIDED' created — no connection yet 🧩\n",
      "Action 'Arm' created — no connection yet 🧩\n",
      "Step 'arm' created — no connection yet 🧩\n",
      "Action 'takeoff' created — no connection yet 🧩\n",
      "Step 'takeoff' created — no connection yet 🧩\n",
      "Action 'fly' created — no connection yet 🧩\n",
      "Step 'go to -> (0, 0, 5)' created — no connection yet 🧩\n",
      "Step 'go to -> (0, 10, 5)' created — no connection yet 🧩\n",
      "Step 'go to -> (10, 10, 5)' created — no connection yet 🧩\n",
      "Step 'go to -> (10, 0, 5)' created — no connection yet 🧩\n",
      "Step 'go to -> (0, 0, 5)' created — no connection yet 🧩\n",
      "Action 'Land' created — no connection yet 🧩\n",
      "Step 'land' created — no connection yet 🧩\n",
      "Plan 'basic plan' created — no connection yet 🧩\n",
      "Action 'Pre-Arm Check' created — no connection yet 🧩\n",
      "Step 'Check disarmed' created — no connection yet 🧩\n",
      "Step 'Check EKF' created — no connection yet 🧩\n",
      "Step 'Check GPS' created — no connection yet 🧩\n",
      "Step 'Check system' created — no connection yet 🧩\n",
      "Action 'Set Mode: GUIDED' created — no connection yet 🧩\n",
      "Step 'Switch to GUIDED' created — no connection yet 🧩\n",
      "Action 'Arm' created — no connection yet 🧩\n",
      "Step 'arm' created — no connection yet 🧩\n",
      "Action 'takeoff' created — no connection yet 🧩\n",
      "Step 'takeoff' created — no connection yet 🧩\n",
      "Action 'fly' created — no connection yet 🧩\n",
      "Step 'go to -> (0, 0, 5)' created — no connection yet 🧩\n",
      "Step 'go to -> (0, 12, 5)' created — no connection yet 🧩\n",
      "Step 'go to -> (12, 12, 5)' created — no connection yet 🧩\n",
      "Step 'go to -> (12, 0, 5)' created — no connection yet 🧩\n",
      "Step 'go to -> (0, 0, 5)' created — no connection yet 🧩\n",
      "Action 'Land' created — no connection yet 🧩\n",
      "Step 'land' created — no connection yet 🧩\n",
      "Plan 'basic plan' created — no connection yet 🧩\n",
      "Action 'Pre-Arm Check' created — no connection yet 🧩\n",
      "Step 'Check disarmed' created — no connection yet 🧩\n",
      "Step 'Check EKF' created — no connection yet 🧩\n",
      "Step 'Check GPS' created — no connection yet 🧩\n",
      "Step 'Check system' created — no connection yet 🧩\n",
      "Action 'Set Mode: GUIDED' created — no connection yet 🧩\n",
      "Step 'Switch to GUIDED' created — no connection yet 🧩\n",
      "Action 'Arm' created — no connection yet 🧩\n",
      "Step 'arm' created — no connection yet 🧩\n",
      "Action 'takeoff' created — no connection yet 🧩\n",
      "Step 'takeoff' created — no connection yet 🧩\n",
      "Action 'fly' created — no connection yet 🧩\n",
      "Step 'go to -> (0, 0, 5)' created — no connection yet 🧩\n",
      "Step 'go to -> (0, 15, 5)' created — no connection yet 🧩\n",
      "Step 'go to -> (15, 15, 5)' created — no connection yet 🧩\n",
      "Step 'go to -> (15, 0, 5)' created — no connection yet 🧩\n",
      "Step 'go to -> (0, 0, 5)' created — no connection yet 🧩\n",
      "Action 'Land' created — no connection yet 🧩\n",
      "Step 'land' created — no connection yet 🧩\n"
     ]
    },
    {
     "data": {
      "application/vnd.plotly.v1+json": {
       "config": {
        "plotlyServerURL": "https://plot.ly"
       },
       "data": [
        {
         "marker": {
          "color": "Green",
          "size": 6
         },
         "mode": "markers",
         "name": "uav_1",
         "type": "scatter3d",
         "x": [
          5,
          5,
          10,
          10,
          5
         ],
         "y": [
          5,
          10,
          10,
          5,
          5
         ],
         "z": [
          5,
          5,
          5,
          5,
          5
         ]
        },
        {
         "marker": {
          "color": "Blue",
          "size": 6
         },
         "mode": "markers",
         "name": "uav_2",
         "type": "scatter3d",
         "x": [
          10,
          10,
          17,
          17,
          10
         ],
         "y": [
          0,
          7,
          7,
          0,
          0
         ],
         "z": [
          5,
          5,
          5,
          5,
          5
         ]
        },
        {
         "marker": {
          "color": "Red",
          "size": 6
         },
         "mode": "markers",
         "name": "uav_3",
         "type": "scatter3d",
         "x": [
          -5,
          -5,
          5,
          5,
          -5
         ],
         "y": [
          -10,
          0,
          0,
          -10,
          -10
         ],
         "z": [
          5,
          5,
          5,
          5,
          5
         ]
        },
        {
         "marker": {
          "color": "Orange",
          "size": 6
         },
         "mode": "markers",
         "name": "uav_4",
         "type": "scatter3d",
         "x": [
          -15,
          -15,
          -3,
          -3,
          -15
         ],
         "y": [
          0,
          12,
          12,
          0,
          0
         ],
         "z": [
          5,
          5,
          5,
          5,
          5
         ]
        },
        {
         "marker": {
          "color": "Yellow",
          "size": 6
         },
         "mode": "markers",
         "name": "uav_5",
         "type": "scatter3d",
         "x": [
          0,
          0,
          15,
          15,
          0
         ],
         "y": [
          -20,
          -5,
          -5,
          -20,
          -20
         ],
         "z": [
          5,
          5,
          5,
          5,
          5
         ]
        }
       ],
       "layout": {
        "height": 600,
        "scene": {
         "xaxis": {
          "range": [
           -21.4,
           23.4
          ],
          "title": {
           "text": "x"
          }
         },
         "yaxis": {
          "range": [
           -26.4,
           18.4
          ],
          "title": {
           "text": "y"
          }
         },
         "zaxis": {
          "range": [
           -0.05,
           5
          ],
          "title": {
           "text": "z"
          }
         }
        },
        "template": {
         "data": {
          "bar": [
           {
            "error_x": {
             "color": "#2a3f5f"
            },
            "error_y": {
             "color": "#2a3f5f"
            },
            "marker": {
             "line": {
              "color": "#E5ECF6",
              "width": 0.5
             },
             "pattern": {
              "fillmode": "overlay",
              "size": 10,
              "solidity": 0.2
             }
            },
            "type": "bar"
           }
          ],
          "barpolar": [
           {
            "marker": {
             "line": {
              "color": "#E5ECF6",
              "width": 0.5
             },
             "pattern": {
              "fillmode": "overlay",
              "size": 10,
              "solidity": 0.2
             }
            },
            "type": "barpolar"
           }
          ],
          "carpet": [
           {
            "aaxis": {
             "endlinecolor": "#2a3f5f",
             "gridcolor": "white",
             "linecolor": "white",
             "minorgridcolor": "white",
             "startlinecolor": "#2a3f5f"
            },
            "baxis": {
             "endlinecolor": "#2a3f5f",
             "gridcolor": "white",
             "linecolor": "white",
             "minorgridcolor": "white",
             "startlinecolor": "#2a3f5f"
            },
            "type": "carpet"
           }
          ],
          "choropleth": [
           {
            "colorbar": {
             "outlinewidth": 0,
             "ticks": ""
            },
            "type": "choropleth"
           }
          ],
          "contour": [
           {
            "colorbar": {
             "outlinewidth": 0,
             "ticks": ""
            },
            "colorscale": [
             [
              0,
              "#0d0887"
             ],
             [
              0.1111111111111111,
              "#46039f"
             ],
             [
              0.2222222222222222,
              "#7201a8"
             ],
             [
              0.3333333333333333,
              "#9c179e"
             ],
             [
              0.4444444444444444,
              "#bd3786"
             ],
             [
              0.5555555555555556,
              "#d8576b"
             ],
             [
              0.6666666666666666,
              "#ed7953"
             ],
             [
              0.7777777777777778,
              "#fb9f3a"
             ],
             [
              0.8888888888888888,
              "#fdca26"
             ],
             [
              1,
              "#f0f921"
             ]
            ],
            "type": "contour"
           }
          ],
          "contourcarpet": [
           {
            "colorbar": {
             "outlinewidth": 0,
             "ticks": ""
            },
            "type": "contourcarpet"
           }
          ],
          "heatmap": [
           {
            "colorbar": {
             "outlinewidth": 0,
             "ticks": ""
            },
            "colorscale": [
             [
              0,
              "#0d0887"
             ],
             [
              0.1111111111111111,
              "#46039f"
             ],
             [
              0.2222222222222222,
              "#7201a8"
             ],
             [
              0.3333333333333333,
              "#9c179e"
             ],
             [
              0.4444444444444444,
              "#bd3786"
             ],
             [
              0.5555555555555556,
              "#d8576b"
             ],
             [
              0.6666666666666666,
              "#ed7953"
             ],
             [
              0.7777777777777778,
              "#fb9f3a"
             ],
             [
              0.8888888888888888,
              "#fdca26"
             ],
             [
              1,
              "#f0f921"
             ]
            ],
            "type": "heatmap"
           }
          ],
          "histogram": [
           {
            "marker": {
             "pattern": {
              "fillmode": "overlay",
              "size": 10,
              "solidity": 0.2
             }
            },
            "type": "histogram"
           }
          ],
          "histogram2d": [
           {
            "colorbar": {
             "outlinewidth": 0,
             "ticks": ""
            },
            "colorscale": [
             [
              0,
              "#0d0887"
             ],
             [
              0.1111111111111111,
              "#46039f"
             ],
             [
              0.2222222222222222,
              "#7201a8"
             ],
             [
              0.3333333333333333,
              "#9c179e"
             ],
             [
              0.4444444444444444,
              "#bd3786"
             ],
             [
              0.5555555555555556,
              "#d8576b"
             ],
             [
              0.6666666666666666,
              "#ed7953"
             ],
             [
              0.7777777777777778,
              "#fb9f3a"
             ],
             [
              0.8888888888888888,
              "#fdca26"
             ],
             [
              1,
              "#f0f921"
             ]
            ],
            "type": "histogram2d"
           }
          ],
          "histogram2dcontour": [
           {
            "colorbar": {
             "outlinewidth": 0,
             "ticks": ""
            },
            "colorscale": [
             [
              0,
              "#0d0887"
             ],
             [
              0.1111111111111111,
              "#46039f"
             ],
             [
              0.2222222222222222,
              "#7201a8"
             ],
             [
              0.3333333333333333,
              "#9c179e"
             ],
             [
              0.4444444444444444,
              "#bd3786"
             ],
             [
              0.5555555555555556,
              "#d8576b"
             ],
             [
              0.6666666666666666,
              "#ed7953"
             ],
             [
              0.7777777777777778,
              "#fb9f3a"
             ],
             [
              0.8888888888888888,
              "#fdca26"
             ],
             [
              1,
              "#f0f921"
             ]
            ],
            "type": "histogram2dcontour"
           }
          ],
          "mesh3d": [
           {
            "colorbar": {
             "outlinewidth": 0,
             "ticks": ""
            },
            "type": "mesh3d"
           }
          ],
          "parcoords": [
           {
            "line": {
             "colorbar": {
              "outlinewidth": 0,
              "ticks": ""
             }
            },
            "type": "parcoords"
           }
          ],
          "pie": [
           {
            "automargin": true,
            "type": "pie"
           }
          ],
          "scatter": [
           {
            "fillpattern": {
             "fillmode": "overlay",
             "size": 10,
             "solidity": 0.2
            },
            "type": "scatter"
           }
          ],
          "scatter3d": [
           {
            "line": {
             "colorbar": {
              "outlinewidth": 0,
              "ticks": ""
             }
            },
            "marker": {
             "colorbar": {
              "outlinewidth": 0,
              "ticks": ""
             }
            },
            "type": "scatter3d"
           }
          ],
          "scattercarpet": [
           {
            "marker": {
             "colorbar": {
              "outlinewidth": 0,
              "ticks": ""
             }
            },
            "type": "scattercarpet"
           }
          ],
          "scattergeo": [
           {
            "marker": {
             "colorbar": {
              "outlinewidth": 0,
              "ticks": ""
             }
            },
            "type": "scattergeo"
           }
          ],
          "scattergl": [
           {
            "marker": {
             "colorbar": {
              "outlinewidth": 0,
              "ticks": ""
             }
            },
            "type": "scattergl"
           }
          ],
          "scattermap": [
           {
            "marker": {
             "colorbar": {
              "outlinewidth": 0,
              "ticks": ""
             }
            },
            "type": "scattermap"
           }
          ],
          "scattermapbox": [
           {
            "marker": {
             "colorbar": {
              "outlinewidth": 0,
              "ticks": ""
             }
            },
            "type": "scattermapbox"
           }
          ],
          "scatterpolar": [
           {
            "marker": {
             "colorbar": {
              "outlinewidth": 0,
              "ticks": ""
             }
            },
            "type": "scatterpolar"
           }
          ],
          "scatterpolargl": [
           {
            "marker": {
             "colorbar": {
              "outlinewidth": 0,
              "ticks": ""
             }
            },
            "type": "scatterpolargl"
           }
          ],
          "scatterternary": [
           {
            "marker": {
             "colorbar": {
              "outlinewidth": 0,
              "ticks": ""
             }
            },
            "type": "scatterternary"
           }
          ],
          "surface": [
           {
            "colorbar": {
             "outlinewidth": 0,
             "ticks": ""
            },
            "colorscale": [
             [
              0,
              "#0d0887"
             ],
             [
              0.1111111111111111,
              "#46039f"
             ],
             [
              0.2222222222222222,
              "#7201a8"
             ],
             [
              0.3333333333333333,
              "#9c179e"
             ],
             [
              0.4444444444444444,
              "#bd3786"
             ],
             [
              0.5555555555555556,
              "#d8576b"
             ],
             [
              0.6666666666666666,
              "#ed7953"
             ],
             [
              0.7777777777777778,
              "#fb9f3a"
             ],
             [
              0.8888888888888888,
              "#fdca26"
             ],
             [
              1,
              "#f0f921"
             ]
            ],
            "type": "surface"
           }
          ],
          "table": [
           {
            "cells": {
             "fill": {
              "color": "#EBF0F8"
             },
             "line": {
              "color": "white"
             }
            },
            "header": {
             "fill": {
              "color": "#C8D4E3"
             },
             "line": {
              "color": "white"
             }
            },
            "type": "table"
           }
          ]
         },
         "layout": {
          "annotationdefaults": {
           "arrowcolor": "#2a3f5f",
           "arrowhead": 0,
           "arrowwidth": 1
          },
          "autotypenumbers": "strict",
          "coloraxis": {
           "colorbar": {
            "outlinewidth": 0,
            "ticks": ""
           }
          },
          "colorscale": {
           "diverging": [
            [
             0,
             "#8e0152"
            ],
            [
             0.1,
             "#c51b7d"
            ],
            [
             0.2,
             "#de77ae"
            ],
            [
             0.3,
             "#f1b6da"
            ],
            [
             0.4,
             "#fde0ef"
            ],
            [
             0.5,
             "#f7f7f7"
            ],
            [
             0.6,
             "#e6f5d0"
            ],
            [
             0.7,
             "#b8e186"
            ],
            [
             0.8,
             "#7fbc41"
            ],
            [
             0.9,
             "#4d9221"
            ],
            [
             1,
             "#276419"
            ]
           ],
           "sequential": [
            [
             0,
             "#0d0887"
            ],
            [
             0.1111111111111111,
             "#46039f"
            ],
            [
             0.2222222222222222,
             "#7201a8"
            ],
            [
             0.3333333333333333,
             "#9c179e"
            ],
            [
             0.4444444444444444,
             "#bd3786"
            ],
            [
             0.5555555555555556,
             "#d8576b"
            ],
            [
             0.6666666666666666,
             "#ed7953"
            ],
            [
             0.7777777777777778,
             "#fb9f3a"
            ],
            [
             0.8888888888888888,
             "#fdca26"
            ],
            [
             1,
             "#f0f921"
            ]
           ],
           "sequentialminus": [
            [
             0,
             "#0d0887"
            ],
            [
             0.1111111111111111,
             "#46039f"
            ],
            [
             0.2222222222222222,
             "#7201a8"
            ],
            [
             0.3333333333333333,
             "#9c179e"
            ],
            [
             0.4444444444444444,
             "#bd3786"
            ],
            [
             0.5555555555555556,
             "#d8576b"
            ],
            [
             0.6666666666666666,
             "#ed7953"
            ],
            [
             0.7777777777777778,
             "#fb9f3a"
            ],
            [
             0.8888888888888888,
             "#fdca26"
            ],
            [
             1,
             "#f0f921"
            ]
           ]
          },
          "colorway": [
           "#636efa",
           "#EF553B",
           "#00cc96",
           "#ab63fa",
           "#FFA15A",
           "#19d3f3",
           "#FF6692",
           "#B6E880",
           "#FF97FF",
           "#FECB52"
          ],
          "font": {
           "color": "#2a3f5f"
          },
          "geo": {
           "bgcolor": "white",
           "lakecolor": "white",
           "landcolor": "#E5ECF6",
           "showlakes": true,
           "showland": true,
           "subunitcolor": "white"
          },
          "hoverlabel": {
           "align": "left"
          },
          "hovermode": "closest",
          "mapbox": {
           "style": "light"
          },
          "paper_bgcolor": "white",
          "plot_bgcolor": "#E5ECF6",
          "polar": {
           "angularaxis": {
            "gridcolor": "white",
            "linecolor": "white",
            "ticks": ""
           },
           "bgcolor": "#E5ECF6",
           "radialaxis": {
            "gridcolor": "white",
            "linecolor": "white",
            "ticks": ""
           }
          },
          "scene": {
           "xaxis": {
            "backgroundcolor": "#E5ECF6",
            "gridcolor": "white",
            "gridwidth": 2,
            "linecolor": "white",
            "showbackground": true,
            "ticks": "",
            "zerolinecolor": "white"
           },
           "yaxis": {
            "backgroundcolor": "#E5ECF6",
            "gridcolor": "white",
            "gridwidth": 2,
            "linecolor": "white",
            "showbackground": true,
            "ticks": "",
            "zerolinecolor": "white"
           },
           "zaxis": {
            "backgroundcolor": "#E5ECF6",
            "gridcolor": "white",
            "gridwidth": 2,
            "linecolor": "white",
            "showbackground": true,
            "ticks": "",
            "zerolinecolor": "white"
           }
          },
          "shapedefaults": {
           "line": {
            "color": "#2a3f5f"
           }
          },
          "ternary": {
           "aaxis": {
            "gridcolor": "white",
            "linecolor": "white",
            "ticks": ""
           },
           "baxis": {
            "gridcolor": "white",
            "linecolor": "white",
            "ticks": ""
           },
           "bgcolor": "#E5ECF6",
           "caxis": {
            "gridcolor": "white",
            "linecolor": "white",
            "ticks": ""
           }
          },
          "title": {
           "x": 0.05
          },
          "xaxis": {
           "automargin": true,
           "gridcolor": "white",
           "linecolor": "white",
           "ticks": "",
           "title": {
            "standoff": 15
           },
           "zerolinecolor": "white",
           "zerolinewidth": 2
          },
          "yaxis": {
           "automargin": true,
           "gridcolor": "white",
           "linecolor": "white",
           "ticks": "",
           "title": {
            "standoff": 15
           },
           "zerolinecolor": "white",
           "zerolinewidth": 2
          }
         }
        },
        "title": {
         "text": "Simulation Markers",
         "x": 0.5,
         "xanchor": "center"
        },
        "width": 800
       }
      }
     },
     "metadata": {},
     "output_type": "display_data"
    }
   ],
   "source": [
    "offsets = [ #east, north, up, heading\n",
    "    (5, 5, 0, 90), \n",
    "    (10, 0, 0, 45),\n",
    "    (-5, -10, 0, 225),\n",
    "    (-15, 0, 0, 0),\n",
    "    (0, -20, 0, 0),\n",
    "]\n",
    "\n",
    "n_uavs = len(offsets)\n",
    "\n",
    "\n",
    "local_paths=[Plan.create_square_path(side_len=dist,alt= 5) for dist in (5,7,10,12,15)]\n",
    "\n",
    "homes=np.array([offset[:3] for offset in offsets])\n",
    "\n",
    "global_paths=[local2global(np.array(path), home,pairwise=True) for path,home in zip(local_paths,homes)]\n",
    "\n",
    "plans=[Plan.basic(wps=path,alt=5,wp_margin=0.5) for path in local_paths]\n",
    "\n",
    "\n",
    "colors=['Green','Blue','Red','Orange','Yellow',]\n",
    "markers = {f'uav_{i+1}': {'pos':global_paths[i],'color':colors[i]} for i in range(n_uavs)}\n",
    "\n",
    "\n",
    "if simulator == 'QGroundControl':\n",
    "    home_position=(-35.3633245,149.1652241,0,0)\n",
    "    spawns=find_spawns(home_position, offsets)\n",
    "\n",
    "plot_3d_interactive(markers,title='Simulation Markers',expand=[0.2,0.2,0.6],ground=-0.05)\n",
    "\n"
   ]
  },
  {
   "cell_type": "markdown",
   "metadata": {},
   "source": [
    "Launch Simulator"
   ]
  },
  {
   "cell_type": "code",
   "execution_count": 6,
   "metadata": {},
   "outputs": [],
   "source": [
    "if simulator == 'QGroundControl':\n",
    "    sim_path = os.path.expanduser(QGC_path)\n",
    "    sim_cmd =[sim_path]\n",
    "elif simulator == 'gazebo':\n",
    "    # Convert to Gazebo format (name, x, y, z, roll, pitch, yaw)\n",
    "    drones = [(east, north, up, 0, 0, heading_to_yaw(heading)) for i, (east, north, up, heading) in enumerate(offsets)]\n",
    "    world_path = os.path.expanduser(gazebo_word_path)\n",
    "    updated_world_path = update_world(drones,markers,world_path)\n",
    "    sim_cmd = [\"gazebo\", \"--verbose\", updated_world_path] \n",
    "\n",
    "simulator_process = subprocess.Popen(\n",
    "                    sim_cmd,\n",
    "                    stdout=subprocess.DEVNULL,  # Suppress standard output\n",
    "                    stderr=subprocess.DEVNULL,  # Suppress error output\n",
    "                    shell=False  # Ensure safety when passing arguments\n",
    "                    )"
   ]
  },
  {
   "cell_type": "markdown",
   "metadata": {},
   "source": [
    "Launch Vehicles"
   ]
  },
  {
   "cell_type": "code",
   "execution_count": 7,
   "metadata": {},
   "outputs": [],
   "source": [
    "for i in range(n_uavs):\n",
    "    vehicle_cmd = f\"python3 {ardupilot_vehicle_path} -v ArduCopter -I{i} --sysid {i+1} --no-rebuild\"\n",
    "    if simulator == 'QGroundControl':\n",
    "        spawn=','.join(map(str, spawns[i]))\n",
    "        vehicle_cmd += f\" --custom-location={spawn}\"\n",
    "    elif simulator == 'gazebo':\n",
    "        vehicle_cmd += \" -f gazebo-iris\"\n",
    "    subprocess.Popen([\"gnome-terminal\", \"--\", \"bash\", \"-c\", f\"{vehicle_cmd}; exec bash\"])"
   ]
  },
  {
   "cell_type": "code",
   "execution_count": 8,
   "metadata": {},
   "outputs": [
    {
     "data": {
      "text/plain": [
       "<pymavlink.dialects.v20.ardupilotmega.MAVLink_heartbeat_message at 0x7f9a0d82d580>"
      ]
     },
     "execution_count": 8,
     "metadata": {},
     "output_type": "execute_result"
    }
   ],
   "source": [
    "from pymavlink import mavutil\n",
    "conn=mavutil.mavlink_connection(f'udp:127.0.0.1:14550')\n",
    "conn.wait_heartbeat()"
   ]
  },
  {
   "cell_type": "markdown",
   "metadata": {},
   "source": [
    "Create UAVs"
   ]
  },
  {
   "cell_type": "code",
   "execution_count": 9,
   "metadata": {},
   "outputs": [
    {
     "name": "stdout",
     "output_type": "stream",
     "text": [
      "vehicle 1 created\n",
      "vehicle 2 created\n",
      "vehicle 3 created\n",
      "vehicle 4 created\n",
      "vehicle 5 created\n"
     ]
    }
   ],
   "source": [
    "uavs=[]\n",
    "for i,(plan,home) in enumerate(zip(plans,homes)):\n",
    "    uavs.append(VehicleLogic(sys_id=i+1,\n",
    "                    home=home,\n",
    "                    plan= plan))"
   ]
  },
  {
   "cell_type": "markdown",
   "metadata": {},
   "source": [
    "## Execute Plan"
   ]
  },
  {
   "cell_type": "code",
   "execution_count": 10,
   "metadata": {},
   "outputs": [
    {
     "name": "stdout",
     "output_type": "stream",
     "text": [
      "Vehicle 1: Plan 'basic plan' is now connected ✅🔗\n",
      "Vehicle 1: ▶️ Starting Plan: basic plan\n",
      "Vehicle 2: Plan 'basic plan' is now connected ✅🔗\n",
      "Vehicle 2: ▶️ Starting Plan: basic plan\n",
      "Vehicle 3: Plan 'basic plan' is now connected ✅🔗\n",
      "Vehicle 3: ▶️ Starting Plan: basic plan\n",
      "Vehicle 4: Plan 'basic plan' is now connected ✅🔗\n",
      "Vehicle 4: ▶️ Starting Plan: basic plan\n",
      "Vehicle 5: Plan 'basic plan' is now connected ✅🔗\n",
      "Vehicle 5: ▶️ Starting Plan: basic plan\n",
      "Vehicle 1: Action 'Pre-Arm Check' is now connected ✅🔗\n",
      "Vehicle 1: ▶️ Starting Action: Pre-Arm Check\n",
      "Vehicle 2: Action 'Pre-Arm Check' is now connected ✅🔗\n",
      "Vehicle 2: ▶️ Starting Action: Pre-Arm Check\n",
      "Vehicle 3: Action 'Pre-Arm Check' is now connected ✅🔗\n",
      "Vehicle 3: ▶️ Starting Action: Pre-Arm Check\n",
      "Vehicle 4: Action 'Pre-Arm Check' is now connected ✅🔗\n",
      "Vehicle 4: ▶️ Starting Action: Pre-Arm Check\n",
      "Vehicle 5: Action 'Pre-Arm Check' is now connected ✅🔗\n",
      "Vehicle 5: ▶️ Starting Action: Pre-Arm Check\n",
      "Vehicle 1: Step 'Check disarmed' is now connected ✅🔗\n",
      "Vehicle 1: ▶️ Starting Step: Check disarmed\n",
      "Vehicle 2: Step 'Check disarmed' is now connected ✅🔗\n",
      "Vehicle 2: ▶️ Starting Step: Check disarmed\n",
      "Vehicle 3: Step 'Check disarmed' is now connected ✅🔗\n",
      "Vehicle 3: ▶️ Starting Step: Check disarmed\n",
      "Vehicle 4: Step 'Check disarmed' is now connected ✅🔗\n",
      "Vehicle 4: ▶️ Starting Step: Check disarmed\n",
      "Vehicle 5: Step 'Check disarmed' is now connected ✅🔗\n",
      "Vehicle 5: ▶️ Starting Step: Check disarmed\n",
      "Vehicle 1: ✅ Step: Check disarmed is done\n",
      "Vehicle 2: ✅ Step: Check disarmed is done\n",
      "Vehicle 3: ✅ Step: Check disarmed is done\n",
      "Vehicle 1: Step 'Check EKF' is now connected ✅🔗\n",
      "Vehicle 1: ▶️ Starting Step: Check EKF\n",
      "Vehicle 2: Step 'Check EKF' is now connected ✅🔗\n",
      "Vehicle 2: ▶️ Starting Step: Check EKF\n",
      "Vehicle 3: Step 'Check EKF' is now connected ✅🔗\n",
      "Vehicle 3: ▶️ Starting Step: Check EKF\n",
      "Vehicle 4: ✅ Step: Check disarmed is done\n",
      "Vehicle 4: Step 'Check EKF' is now connected ✅🔗\n",
      "Vehicle 4: ▶️ Starting Step: Check EKF\n",
      "Vehicle 5: ✅ Step: Check disarmed is done\n",
      "Vehicle 5: Step 'Check EKF' is now connected ✅🔗\n",
      "Vehicle 5: ▶️ Starting Step: Check EKF\n",
      "Vehicle 5: ✅ Step: Check EKF is done\n",
      "Vehicle 5: Step 'Check GPS' is now connected ✅🔗\n",
      "Vehicle 5: ▶️ Starting Step: Check GPS\n",
      "Vehicle 3: ✅ Step: Check EKF is done\n",
      "Vehicle 3: Step 'Check GPS' is now connected ✅🔗\n",
      "Vehicle 3: ▶️ Starting Step: Check GPS\n",
      "Vehicle 2: ✅ Step: Check EKF is done\n",
      "Vehicle 2: Step 'Check GPS' is now connected ✅🔗\n",
      "Vehicle 2: ▶️ Starting Step: Check GPS\n",
      "Vehicle 4: ✅ Step: Check EKF is done\n",
      "Vehicle 4: Step 'Check GPS' is now connected ✅🔗\n",
      "Vehicle 4: ▶️ Starting Step: Check GPS\n",
      "Vehicle 1: ✅ Step: Check EKF is done\n",
      "Vehicle 1: Step 'Check GPS' is now connected ✅🔗\n",
      "Vehicle 1: ▶️ Starting Step: Check GPS\n",
      "Vehicle 5: ✅ Step: Check GPS is done\n",
      "Vehicle 5: Step 'Check system' is now connected ✅🔗\n",
      "Vehicle 5: ▶️ Starting Step: Check system\n",
      "Vehicle 3: ✅ Step: Check GPS is done\n",
      "Vehicle 3: Step 'Check system' is now connected ✅🔗\n",
      "Vehicle 3: ▶️ Starting Step: Check system\n",
      "Vehicle 2: ✅ Step: Check GPS is done\n",
      "Vehicle 2: Step 'Check system' is now connected ✅🔗\n",
      "Vehicle 2: ▶️ Starting Step: Check system\n",
      "Vehicle 4: ✅ Step: Check GPS is done\n",
      "Vehicle 4: Step 'Check system' is now connected ✅🔗\n",
      "Vehicle 4: ▶️ Starting Step: Check system\n",
      "Vehicle 1: ✅ Step: Check GPS is done\n",
      "Vehicle 1: Step 'Check system' is now connected ✅🔗\n",
      "Vehicle 1: ▶️ Starting Step: Check system\n",
      "Vehicle 5: ✅ Step: Check system is done\n",
      "Vehicle 5: ✅ Action: Pre-Arm Check is done\n",
      "Vehicle 5: Action 'Set Mode: GUIDED' is now connected ✅🔗\n",
      "Vehicle 5: ▶️ Starting Action: Set Mode: GUIDED\n",
      "Vehicle 5: Step 'Switch to GUIDED' is now connected ✅🔗\n",
      "Vehicle 5: ▶️ Starting Step: Switch to GUIDED\n",
      "Vehicle 5: ✅ Step: Switch to GUIDED is done\n",
      "Vehicle 5: ✅ Action: Set Mode: GUIDED is done\n",
      "Vehicle 5: Action 'Arm' is now connected ✅🔗\n",
      "Vehicle 5: ▶️ Starting Action: Arm\n",
      "Vehicle 5: Step 'arm' is now connected ✅🔗\n",
      "Vehicle 5: ▶️ Starting Step: arm\n",
      "Vehicle 3: ✅ Step: Check system is done\n",
      "Vehicle 3: ✅ Action: Pre-Arm Check is done\n",
      "Vehicle 3: Action 'Set Mode: GUIDED' is now connected ✅🔗\n",
      "Vehicle 3: ▶️ Starting Action: Set Mode: GUIDED\n",
      "Vehicle 3: Step 'Switch to GUIDED' is now connected ✅🔗\n",
      "Vehicle 3: ▶️ Starting Step: Switch to GUIDED\n",
      "Vehicle 4: ✅ Step: Check system is done\n",
      "Vehicle 4: ✅ Action: Pre-Arm Check is done\n",
      "Vehicle 4: Action 'Set Mode: GUIDED' is now connected ✅🔗\n",
      "Vehicle 4: ▶️ Starting Action: Set Mode: GUIDED\n",
      "Vehicle 4: Step 'Switch to GUIDED' is now connected ✅🔗\n",
      "Vehicle 4: ▶️ Starting Step: Switch to GUIDED\n",
      "Vehicle 2: ✅ Step: Check system is done\n",
      "Vehicle 2: ✅ Action: Pre-Arm Check is done\n",
      "Vehicle 2: Action 'Set Mode: GUIDED' is now connected ✅🔗\n",
      "Vehicle 2: ▶️ Starting Action: Set Mode: GUIDED\n",
      "Vehicle 2: Step 'Switch to GUIDED' is now connected ✅🔗\n",
      "Vehicle 2: ▶️ Starting Step: Switch to GUIDED\n",
      "Vehicle 3: ✅ Step: Switch to GUIDED is done\n",
      "Vehicle 3: ✅ Action: Set Mode: GUIDED is done\n",
      "Vehicle 3: Action 'Arm' is now connected ✅🔗\n",
      "Vehicle 3: ▶️ Starting Action: Arm\n",
      "Vehicle 3: Step 'arm' is now connected ✅🔗\n",
      "Vehicle 3: ▶️ Starting Step: arm\n",
      "Vehicle 4: ✅ Step: Switch to GUIDED is done\n",
      "Vehicle 4: ✅ Action: Set Mode: GUIDED is done\n",
      "Vehicle 4: Action 'Arm' is now connected ✅🔗\n",
      "Vehicle 4: ▶️ Starting Action: Arm\n",
      "Vehicle 4: Step 'arm' is now connected ✅🔗\n",
      "Vehicle 4: ▶️ Starting Step: arm\n",
      "Vehicle 2: ✅ Step: Switch to GUIDED is done\n",
      "Vehicle 2: ✅ Action: Set Mode: GUIDED is done\n",
      "Vehicle 2: Action 'Arm' is now connected ✅🔗\n",
      "Vehicle 2: ▶️ Starting Action: Arm\n",
      "Vehicle 2: Step 'arm' is now connected ✅🔗\n",
      "Vehicle 2: ▶️ Starting Step: arm\n",
      "Vehicle 1: ✅ Step: Check system is done\n",
      "Vehicle 1: ✅ Action: Pre-Arm Check is done\n",
      "Vehicle 1: Action 'Set Mode: GUIDED' is now connected ✅🔗\n",
      "Vehicle 1: ▶️ Starting Action: Set Mode: GUIDED\n",
      "Vehicle 1: Step 'Switch to GUIDED' is now connected ✅🔗\n",
      "Vehicle 1: ▶️ Starting Step: Switch to GUIDED\n",
      "Vehicle 1: ✅ Step: Switch to GUIDED is done\n",
      "Vehicle 1: ✅ Action: Set Mode: GUIDED is done\n",
      "Vehicle 1: Action 'Arm' is now connected ✅🔗\n",
      "Vehicle 1: ▶️ Starting Action: Arm\n",
      "Vehicle 1: Step 'arm' is now connected ✅🔗\n",
      "Vehicle 1: ▶️ Starting Step: arm\n",
      "Vehicle 3: ✅ Step: arm is done\n",
      "Vehicle 4: ✅ Step: arm is done\n",
      "Vehicle 3: ✅ Action: Arm is done\n",
      "Vehicle 4: ✅ Action: Arm is done\n",
      "Vehicle 2: ✅ Step: arm is done\n",
      "Vehicle 2: ✅ Action: Arm is done\n",
      "Vehicle 3: Action 'takeoff' is now connected ✅🔗\n",
      "Vehicle 3: ▶️ Starting Action: takeoff\n",
      "Vehicle 4: Action 'takeoff' is now connected ✅🔗\n",
      "Vehicle 4: ▶️ Starting Action: takeoff\n",
      "Vehicle 3: Step 'takeoff' is now connected ✅🔗\n",
      "Vehicle 3: ▶️ Starting Step: takeoff\n",
      "Vehicle 4: Step 'takeoff' is now connected ✅🔗\n",
      "Vehicle 4: ▶️ Starting Step: takeoff\n",
      "Vehicle 2: Action 'takeoff' is now connected ✅🔗\n",
      "Vehicle 2: ▶️ Starting Action: takeoff\n",
      "Vehicle 2: Step 'takeoff' is now connected ✅🔗\n",
      "Vehicle 2: ▶️ Starting Step: takeoff\n",
      "Vehicle 5: ✅ Step: arm is done\n",
      "Vehicle 5: ✅ Action: Arm is done\n",
      "Vehicle 5: Action 'takeoff' is now connected ✅🔗\n",
      "Vehicle 5: ▶️ Starting Action: takeoff\n",
      "Vehicle 5: Step 'takeoff' is now connected ✅🔗\n",
      "Vehicle 5: ▶️ Starting Step: takeoff\n",
      "Vehicle 1: ✅ Step: arm is done\n",
      "Vehicle 1: ✅ Action: Arm is done\n",
      "Vehicle 1: Action 'takeoff' is now connected ✅🔗\n",
      "Vehicle 1: ▶️ Starting Action: takeoff\n",
      "Vehicle 1: Step 'takeoff' is now connected ✅🔗\n",
      "Vehicle 1: ▶️ Starting Step: takeoff\n"
     ]
    },
    {
     "ename": "KeyboardInterrupt",
     "evalue": "",
     "output_type": "error",
     "traceback": [
      "\u001b[0;31m---------------------------------------------------------------------------\u001b[0m",
      "\u001b[0;31mKeyboardInterrupt\u001b[0m                         Traceback (most recent call last)",
      "Cell \u001b[0;32mIn[10], line 9\u001b[0m\n\u001b[1;32m      7\u001b[0m         to_remove\u001b[38;5;241m.\u001b[39madd(i)\n\u001b[1;32m      8\u001b[0m     \u001b[38;5;28;01melse\u001b[39;00m:\n\u001b[0;32m----> 9\u001b[0m         \u001b[43muav\u001b[49m\u001b[38;5;241;43m.\u001b[39;49m\u001b[43mact_plan\u001b[49m\u001b[43m(\u001b[49m\u001b[43m)\u001b[49m\n\u001b[1;32m     10\u001b[0m mission_incomplete \u001b[38;5;241m-\u001b[39m\u001b[38;5;241m=\u001b[39m to_remove  \u001b[38;5;66;03m# batch-remove outside the loop\u001b[39;00m\n",
      "File \u001b[0;32m~/uav-cyber-sim/plan/planner.py:27\u001b[0m, in \u001b[0;36mPlan.act\u001b[0;34m(self, connection)\u001b[0m\n\u001b[1;32m     25\u001b[0m     \u001b[38;5;28mself\u001b[39m\u001b[38;5;241m.\u001b[39mexecute(connection)\n\u001b[1;32m     26\u001b[0m \u001b[38;5;28;01melif\u001b[39;00m \u001b[38;5;28mself\u001b[39m\u001b[38;5;241m.\u001b[39mstate \u001b[38;5;241m==\u001b[39m State\u001b[38;5;241m.\u001b[39mIN_PROGRESS:\n\u001b[0;32m---> 27\u001b[0m     \u001b[38;5;28;43mself\u001b[39;49m\u001b[38;5;241;43m.\u001b[39;49m\u001b[43mcheck\u001b[49m\u001b[43m(\u001b[49m\u001b[43m)\u001b[49m\n\u001b[1;32m     28\u001b[0m \u001b[38;5;28;01melif\u001b[39;00m \u001b[38;5;28mself\u001b[39m\u001b[38;5;241m.\u001b[39mstate \u001b[38;5;241m==\u001b[39m State\u001b[38;5;241m.\u001b[39mDONE:\n\u001b[1;32m     29\u001b[0m     \u001b[38;5;28;01mreturn\u001b[39;00m \u001b[38;5;28;01mFalse\u001b[39;00m \n",
      "File \u001b[0;32m~/uav-cyber-sim/plan/core.py:45\u001b[0m, in \u001b[0;36mMissionElement.check\u001b[0;34m(self)\u001b[0m\n\u001b[1;32m     44\u001b[0m \u001b[38;5;28;01mdef\u001b[39;00m\u001b[38;5;250m \u001b[39m\u001b[38;5;21mcheck\u001b[39m(\u001b[38;5;28mself\u001b[39m)\u001b[38;5;241m-\u001b[39m\u001b[38;5;241m>\u001b[39m\u001b[38;5;28;01mNone\u001b[39;00m:\n\u001b[0;32m---> 45\u001b[0m     class_name \u001b[38;5;241m=\u001b[39m \u001b[38;5;28;43mself\u001b[39;49m\u001b[38;5;241;43m.\u001b[39;49m\u001b[38;5;18;43m__class__\u001b[39;49m\u001b[38;5;241m.\u001b[39m\u001b[38;5;18m__name__\u001b[39m\n\u001b[1;32m     46\u001b[0m     \u001b[38;5;28;01mtry\u001b[39;00m:\n\u001b[1;32m     47\u001b[0m         \u001b[38;5;28;01mif\u001b[39;00m \u001b[38;5;28mself\u001b[39m\u001b[38;5;241m.\u001b[39mcheck_fn(\u001b[38;5;28mself\u001b[39m\u001b[38;5;241m.\u001b[39mconn):\n",
      "\u001b[0;31mKeyboardInterrupt\u001b[0m: "
     ]
    }
   ],
   "source": [
    "mission_incomplete = set(range(n_uavs))\n",
    "while mission_incomplete:\n",
    "    to_remove = set()\n",
    "    for i in mission_incomplete:\n",
    "        uav = uavs[i]\n",
    "        if uav.plan.state == State.DONE:\n",
    "            to_remove.add(i)\n",
    "        else:\n",
    "            uav.act_plan()\n",
    "    mission_incomplete -= to_remove  # batch-remove outside the loop\n",
    "    "
   ]
  },
  {
   "cell_type": "markdown",
   "metadata": {},
   "source": [
    "## Kill all related process"
   ]
  },
  {
   "cell_type": "code",
   "execution_count": null,
   "metadata": {},
   "outputs": [],
   "source": [
    "for process in [\"QGroundControl\", \"sim_vehicle.py\", \"arducopter\", \"gazebo\", \"mavproxy\"]:\n",
    "    os.system(f\"pkill -9 -f {process}\")"
   ]
  }
 ],
 "metadata": {
  "kernelspec": {
   "display_name": "Python 3",
   "language": "python",
   "name": "python3"
  },
  "language_info": {
   "codemirror_mode": {
    "name": "ipython",
    "version": 3
   },
   "file_extension": ".py",
   "mimetype": "text/x-python",
   "name": "python",
   "nbconvert_exporter": "python",
   "pygments_lexer": "ipython3",
   "version": "3.9.21"
  }
 },
 "nbformat": 4,
 "nbformat_minor": 2
}
