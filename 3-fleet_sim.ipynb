{
 "cells": [
  {
   "cell_type": "markdown",
   "metadata": {},
   "source": [
    "## Simulator (fleet of uavs)\n",
    "\n",
    "This notebook serves to get familiar with the simulator"
   ]
  },
  {
   "cell_type": "code",
   "execution_count": 1,
   "metadata": {},
   "outputs": [],
   "source": [
    "from config import Color\n",
    "from helpers import clean\n",
    "from mavlink.customtypes.location import ENUPose, GRAPose\n",
    "from plan import Plan\n",
    "from simulator import (\n",
    "    QGC,\n",
    "    ConfigGazebo,\n",
    "    ConfigNovis,\n",
    "    ConfigQGC,\n",
    "    Gazebo,\n",
    "    NoVisualizer,\n",
    "    Simulator,\n",
    ")\n",
    "\n",
    "clean()"
   ]
  },
  {
   "cell_type": "markdown",
   "metadata": {},
   "source": [
    "## Simulation Configuration\n",
    "\n",
    "We can easily extend the configuration from Notebook 2 to multiple UAVs. \n",
    "We are also adding here a mission delay in secons."
   ]
  },
  {
   "cell_type": "code",
   "execution_count": 2,
   "metadata": {},
   "outputs": [],
   "source": [
    "gra_origin = GRAPose(lat=-35.3633280, lon=149.1652241,alt=0,heading=90) \n",
    "enu_origin = ENUPose(x=0, y=0, z=gra_origin.alt, heading=gra_origin.heading) \n",
    "\n",
    "base_homes= ENUPose.list([  # east, north, up, heading\n",
    "    (0., 15., 0., 0.),\n",
    "    (15., 0., 0., 0),\n",
    "    (5., -20., 0., 30.),\n",
    "    (-15., -15., 0., 0),\n",
    "    (-15., 0., 0., 45),\n",
    "\n",
    "])\n",
    "base_paths = [Plan.create_square_path(side_len=10, alt=5,heading=0) for _ in base_homes]\n",
    "\n",
    "colors=[\n",
    "    Color.BLUE,\n",
    "    Color.GREEN,\n",
    "    Color.BLACK,\n",
    "    Color.ORANGE,\n",
    "    Color.RED,\n",
    "]\n",
    "msn_delays=[0,1,2,3,4] # in seconds"
   ]
  },
  {
   "cell_type": "markdown",
   "metadata": {},
   "source": [
    "## Visualizer\n",
    "\n",
    "Extending the visualizer configuration to multiple UAVs is also straightforward."
   ]
  },
  {
   "cell_type": "markdown",
   "metadata": {},
   "source": [
    "## Gazebo"
   ]
  },
  {
   "cell_type": "code",
   "execution_count": 3,
   "metadata": {},
   "outputs": [
    {
     "data": {
      "application/vnd.plotly.v1+json": {
       "config": {
        "plotlyServerURL": "https://plot.ly"
       },
       "data": [
        {
         "marker": {
          "color": [
           "blue",
           "blue",
           "blue",
           "blue",
           "blue"
          ],
          "size": 6
         },
         "mode": "markers",
         "name": "trajectory 0",
         "type": "scatter3d",
         "x": [
          -15,
          -25,
          -25,
          -15,
          -15
         ],
         "y": [
          9.18485099360515e-16,
          1.5308084989341915e-15,
          10.000000000000002,
          10.000000000000002,
          9.18485099360515e-16
         ],
         "z": [
          5,
          5,
          5,
          5,
          5
         ]
        },
        {
         "marker": {
          "color": [
           "green",
           "green",
           "green",
           "green",
           "green"
          ],
          "size": 6
         },
         "mode": "markers",
         "name": "trajectory 1",
         "type": "scatter3d",
         "x": [
          9.18485099360515e-16,
          -9.999999999999998,
          -9.999999999999998,
          1.5308084989341915e-15,
          9.18485099360515e-16
         ],
         "y": [
          15,
          15,
          25,
          25,
          15
         ],
         "z": [
          5,
          5,
          5,
          5,
          5
         ]
        },
        {
         "marker": {
          "color": [
           "black",
           "black",
           "black",
           "black",
           "black"
          ],
          "size": 6
         },
         "mode": "markers",
         "name": "trajectory 2",
         "type": "scatter3d",
         "x": [
          20,
          11.339745962155613,
          6.339745962155615,
          15,
          20
         ],
         "y": [
          4.999999999999999,
          1.9381923991522556e-16,
          8.660254037844389,
          13.660254037844386,
          4.999999999999999
         ],
         "z": [
          5,
          5,
          5,
          5,
          5
         ]
        },
        {
         "marker": {
          "color": [
           "orange",
           "orange",
           "orange",
           "orange",
           "orange"
          ],
          "size": 6
         },
         "mode": "markers",
         "name": "trajectory 3",
         "type": "scatter3d",
         "x": [
          14.999999999999998,
          4.999999999999999,
          5,
          15,
          14.999999999999998
         ],
         "y": [
          -15.000000000000002,
          -15,
          -5,
          -5.000000000000001,
          -15.000000000000002
         ],
         "z": [
          5,
          5,
          5,
          5,
          5
         ]
        },
        {
         "marker": {
          "color": [
           "red",
           "red",
           "red",
           "red",
           "red"
          ],
          "size": 6
         },
         "mode": "markers",
         "name": "trajectory 4",
         "type": "scatter3d",
         "x": [
          -9.18485099360515e-16,
          -7.071067811865477,
          -14.142135623730953,
          -7.0710678118654755,
          -9.18485099360515e-16
         ],
         "y": [
          -15,
          -22.071067811865476,
          -15,
          -7.9289321881345245,
          -15
         ],
         "z": [
          5,
          5,
          5,
          5,
          5
         ]
        },
        {
         "marker": {
          "color": "white",
          "size": 8
         },
         "mode": "markers+text",
         "name": "origin",
         "text": [
          "origin"
         ],
         "textposition": "top center",
         "type": "scatter3d",
         "x": [
          0
         ],
         "y": [
          0
         ],
         "z": [
          0
         ]
        }
       ],
       "layout": {
        "height": 600,
        "scene": {
         "xaxis": {
          "range": [
           -34,
           29
          ],
          "title": {
           "text": "x"
          }
         },
         "yaxis": {
          "range": [
           -31.48528137423857,
           34.41421356237309
          ],
          "title": {
           "text": "y"
          }
         },
         "zaxis": {
          "range": [
           0,
           6
          ],
          "title": {
           "text": "z"
          }
         }
        },
        "showlegend": true,
        "template": {
         "data": {
          "bar": [
           {
            "error_x": {
             "color": "#2a3f5f"
            },
            "error_y": {
             "color": "#2a3f5f"
            },
            "marker": {
             "line": {
              "color": "#E5ECF6",
              "width": 0.5
             },
             "pattern": {
              "fillmode": "overlay",
              "size": 10,
              "solidity": 0.2
             }
            },
            "type": "bar"
           }
          ],
          "barpolar": [
           {
            "marker": {
             "line": {
              "color": "#E5ECF6",
              "width": 0.5
             },
             "pattern": {
              "fillmode": "overlay",
              "size": 10,
              "solidity": 0.2
             }
            },
            "type": "barpolar"
           }
          ],
          "carpet": [
           {
            "aaxis": {
             "endlinecolor": "#2a3f5f",
             "gridcolor": "white",
             "linecolor": "white",
             "minorgridcolor": "white",
             "startlinecolor": "#2a3f5f"
            },
            "baxis": {
             "endlinecolor": "#2a3f5f",
             "gridcolor": "white",
             "linecolor": "white",
             "minorgridcolor": "white",
             "startlinecolor": "#2a3f5f"
            },
            "type": "carpet"
           }
          ],
          "choropleth": [
           {
            "colorbar": {
             "outlinewidth": 0,
             "ticks": ""
            },
            "type": "choropleth"
           }
          ],
          "contour": [
           {
            "colorbar": {
             "outlinewidth": 0,
             "ticks": ""
            },
            "colorscale": [
             [
              0,
              "#0d0887"
             ],
             [
              0.1111111111111111,
              "#46039f"
             ],
             [
              0.2222222222222222,
              "#7201a8"
             ],
             [
              0.3333333333333333,
              "#9c179e"
             ],
             [
              0.4444444444444444,
              "#bd3786"
             ],
             [
              0.5555555555555556,
              "#d8576b"
             ],
             [
              0.6666666666666666,
              "#ed7953"
             ],
             [
              0.7777777777777778,
              "#fb9f3a"
             ],
             [
              0.8888888888888888,
              "#fdca26"
             ],
             [
              1,
              "#f0f921"
             ]
            ],
            "type": "contour"
           }
          ],
          "contourcarpet": [
           {
            "colorbar": {
             "outlinewidth": 0,
             "ticks": ""
            },
            "type": "contourcarpet"
           }
          ],
          "heatmap": [
           {
            "colorbar": {
             "outlinewidth": 0,
             "ticks": ""
            },
            "colorscale": [
             [
              0,
              "#0d0887"
             ],
             [
              0.1111111111111111,
              "#46039f"
             ],
             [
              0.2222222222222222,
              "#7201a8"
             ],
             [
              0.3333333333333333,
              "#9c179e"
             ],
             [
              0.4444444444444444,
              "#bd3786"
             ],
             [
              0.5555555555555556,
              "#d8576b"
             ],
             [
              0.6666666666666666,
              "#ed7953"
             ],
             [
              0.7777777777777778,
              "#fb9f3a"
             ],
             [
              0.8888888888888888,
              "#fdca26"
             ],
             [
              1,
              "#f0f921"
             ]
            ],
            "type": "heatmap"
           }
          ],
          "histogram": [
           {
            "marker": {
             "pattern": {
              "fillmode": "overlay",
              "size": 10,
              "solidity": 0.2
             }
            },
            "type": "histogram"
           }
          ],
          "histogram2d": [
           {
            "colorbar": {
             "outlinewidth": 0,
             "ticks": ""
            },
            "colorscale": [
             [
              0,
              "#0d0887"
             ],
             [
              0.1111111111111111,
              "#46039f"
             ],
             [
              0.2222222222222222,
              "#7201a8"
             ],
             [
              0.3333333333333333,
              "#9c179e"
             ],
             [
              0.4444444444444444,
              "#bd3786"
             ],
             [
              0.5555555555555556,
              "#d8576b"
             ],
             [
              0.6666666666666666,
              "#ed7953"
             ],
             [
              0.7777777777777778,
              "#fb9f3a"
             ],
             [
              0.8888888888888888,
              "#fdca26"
             ],
             [
              1,
              "#f0f921"
             ]
            ],
            "type": "histogram2d"
           }
          ],
          "histogram2dcontour": [
           {
            "colorbar": {
             "outlinewidth": 0,
             "ticks": ""
            },
            "colorscale": [
             [
              0,
              "#0d0887"
             ],
             [
              0.1111111111111111,
              "#46039f"
             ],
             [
              0.2222222222222222,
              "#7201a8"
             ],
             [
              0.3333333333333333,
              "#9c179e"
             ],
             [
              0.4444444444444444,
              "#bd3786"
             ],
             [
              0.5555555555555556,
              "#d8576b"
             ],
             [
              0.6666666666666666,
              "#ed7953"
             ],
             [
              0.7777777777777778,
              "#fb9f3a"
             ],
             [
              0.8888888888888888,
              "#fdca26"
             ],
             [
              1,
              "#f0f921"
             ]
            ],
            "type": "histogram2dcontour"
           }
          ],
          "mesh3d": [
           {
            "colorbar": {
             "outlinewidth": 0,
             "ticks": ""
            },
            "type": "mesh3d"
           }
          ],
          "parcoords": [
           {
            "line": {
             "colorbar": {
              "outlinewidth": 0,
              "ticks": ""
             }
            },
            "type": "parcoords"
           }
          ],
          "pie": [
           {
            "automargin": true,
            "type": "pie"
           }
          ],
          "scatter": [
           {
            "fillpattern": {
             "fillmode": "overlay",
             "size": 10,
             "solidity": 0.2
            },
            "type": "scatter"
           }
          ],
          "scatter3d": [
           {
            "line": {
             "colorbar": {
              "outlinewidth": 0,
              "ticks": ""
             }
            },
            "marker": {
             "colorbar": {
              "outlinewidth": 0,
              "ticks": ""
             }
            },
            "type": "scatter3d"
           }
          ],
          "scattercarpet": [
           {
            "marker": {
             "colorbar": {
              "outlinewidth": 0,
              "ticks": ""
             }
            },
            "type": "scattercarpet"
           }
          ],
          "scattergeo": [
           {
            "marker": {
             "colorbar": {
              "outlinewidth": 0,
              "ticks": ""
             }
            },
            "type": "scattergeo"
           }
          ],
          "scattergl": [
           {
            "marker": {
             "colorbar": {
              "outlinewidth": 0,
              "ticks": ""
             }
            },
            "type": "scattergl"
           }
          ],
          "scattermap": [
           {
            "marker": {
             "colorbar": {
              "outlinewidth": 0,
              "ticks": ""
             }
            },
            "type": "scattermap"
           }
          ],
          "scattermapbox": [
           {
            "marker": {
             "colorbar": {
              "outlinewidth": 0,
              "ticks": ""
             }
            },
            "type": "scattermapbox"
           }
          ],
          "scatterpolar": [
           {
            "marker": {
             "colorbar": {
              "outlinewidth": 0,
              "ticks": ""
             }
            },
            "type": "scatterpolar"
           }
          ],
          "scatterpolargl": [
           {
            "marker": {
             "colorbar": {
              "outlinewidth": 0,
              "ticks": ""
             }
            },
            "type": "scatterpolargl"
           }
          ],
          "scatterternary": [
           {
            "marker": {
             "colorbar": {
              "outlinewidth": 0,
              "ticks": ""
             }
            },
            "type": "scatterternary"
           }
          ],
          "surface": [
           {
            "colorbar": {
             "outlinewidth": 0,
             "ticks": ""
            },
            "colorscale": [
             [
              0,
              "#0d0887"
             ],
             [
              0.1111111111111111,
              "#46039f"
             ],
             [
              0.2222222222222222,
              "#7201a8"
             ],
             [
              0.3333333333333333,
              "#9c179e"
             ],
             [
              0.4444444444444444,
              "#bd3786"
             ],
             [
              0.5555555555555556,
              "#d8576b"
             ],
             [
              0.6666666666666666,
              "#ed7953"
             ],
             [
              0.7777777777777778,
              "#fb9f3a"
             ],
             [
              0.8888888888888888,
              "#fdca26"
             ],
             [
              1,
              "#f0f921"
             ]
            ],
            "type": "surface"
           }
          ],
          "table": [
           {
            "cells": {
             "fill": {
              "color": "#EBF0F8"
             },
             "line": {
              "color": "white"
             }
            },
            "header": {
             "fill": {
              "color": "#C8D4E3"
             },
             "line": {
              "color": "white"
             }
            },
            "type": "table"
           }
          ]
         },
         "layout": {
          "annotationdefaults": {
           "arrowcolor": "#2a3f5f",
           "arrowhead": 0,
           "arrowwidth": 1
          },
          "autotypenumbers": "strict",
          "coloraxis": {
           "colorbar": {
            "outlinewidth": 0,
            "ticks": ""
           }
          },
          "colorscale": {
           "diverging": [
            [
             0,
             "#8e0152"
            ],
            [
             0.1,
             "#c51b7d"
            ],
            [
             0.2,
             "#de77ae"
            ],
            [
             0.3,
             "#f1b6da"
            ],
            [
             0.4,
             "#fde0ef"
            ],
            [
             0.5,
             "#f7f7f7"
            ],
            [
             0.6,
             "#e6f5d0"
            ],
            [
             0.7,
             "#b8e186"
            ],
            [
             0.8,
             "#7fbc41"
            ],
            [
             0.9,
             "#4d9221"
            ],
            [
             1,
             "#276419"
            ]
           ],
           "sequential": [
            [
             0,
             "#0d0887"
            ],
            [
             0.1111111111111111,
             "#46039f"
            ],
            [
             0.2222222222222222,
             "#7201a8"
            ],
            [
             0.3333333333333333,
             "#9c179e"
            ],
            [
             0.4444444444444444,
             "#bd3786"
            ],
            [
             0.5555555555555556,
             "#d8576b"
            ],
            [
             0.6666666666666666,
             "#ed7953"
            ],
            [
             0.7777777777777778,
             "#fb9f3a"
            ],
            [
             0.8888888888888888,
             "#fdca26"
            ],
            [
             1,
             "#f0f921"
            ]
           ],
           "sequentialminus": [
            [
             0,
             "#0d0887"
            ],
            [
             0.1111111111111111,
             "#46039f"
            ],
            [
             0.2222222222222222,
             "#7201a8"
            ],
            [
             0.3333333333333333,
             "#9c179e"
            ],
            [
             0.4444444444444444,
             "#bd3786"
            ],
            [
             0.5555555555555556,
             "#d8576b"
            ],
            [
             0.6666666666666666,
             "#ed7953"
            ],
            [
             0.7777777777777778,
             "#fb9f3a"
            ],
            [
             0.8888888888888888,
             "#fdca26"
            ],
            [
             1,
             "#f0f921"
            ]
           ]
          },
          "colorway": [
           "#636efa",
           "#EF553B",
           "#00cc96",
           "#ab63fa",
           "#FFA15A",
           "#19d3f3",
           "#FF6692",
           "#B6E880",
           "#FF97FF",
           "#FECB52"
          ],
          "font": {
           "color": "#2a3f5f"
          },
          "geo": {
           "bgcolor": "white",
           "lakecolor": "white",
           "landcolor": "#E5ECF6",
           "showlakes": true,
           "showland": true,
           "subunitcolor": "white"
          },
          "hoverlabel": {
           "align": "left"
          },
          "hovermode": "closest",
          "mapbox": {
           "style": "light"
          },
          "paper_bgcolor": "white",
          "plot_bgcolor": "#E5ECF6",
          "polar": {
           "angularaxis": {
            "gridcolor": "white",
            "linecolor": "white",
            "ticks": ""
           },
           "bgcolor": "#E5ECF6",
           "radialaxis": {
            "gridcolor": "white",
            "linecolor": "white",
            "ticks": ""
           }
          },
          "scene": {
           "xaxis": {
            "backgroundcolor": "#E5ECF6",
            "gridcolor": "white",
            "gridwidth": 2,
            "linecolor": "white",
            "showbackground": true,
            "ticks": "",
            "zerolinecolor": "white"
           },
           "yaxis": {
            "backgroundcolor": "#E5ECF6",
            "gridcolor": "white",
            "gridwidth": 2,
            "linecolor": "white",
            "showbackground": true,
            "ticks": "",
            "zerolinecolor": "white"
           },
           "zaxis": {
            "backgroundcolor": "#E5ECF6",
            "gridcolor": "white",
            "gridwidth": 2,
            "linecolor": "white",
            "showbackground": true,
            "ticks": "",
            "zerolinecolor": "white"
           }
          },
          "shapedefaults": {
           "line": {
            "color": "#2a3f5f"
           }
          },
          "ternary": {
           "aaxis": {
            "gridcolor": "white",
            "linecolor": "white",
            "ticks": ""
           },
           "baxis": {
            "gridcolor": "white",
            "linecolor": "white",
            "ticks": ""
           },
           "bgcolor": "#E5ECF6",
           "caxis": {
            "gridcolor": "white",
            "linecolor": "white",
            "ticks": ""
           }
          },
          "title": {
           "x": 0.05
          },
          "xaxis": {
           "automargin": true,
           "gridcolor": "white",
           "linecolor": "white",
           "ticks": "",
           "title": {
            "standoff": 15
           },
           "zerolinecolor": "white",
           "zerolinewidth": 2
          },
          "yaxis": {
           "automargin": true,
           "gridcolor": "white",
           "linecolor": "white",
           "ticks": "",
           "title": {
            "standoff": 15
           },
           "zerolinecolor": "white",
           "zerolinewidth": 2
          }
         }
        },
        "title": {
         "text": "Trajectories",
         "x": 0.5,
         "xanchor": "center"
        },
        "width": 800
       }
      }
     },
     "metadata": {},
     "output_type": "display_data"
    }
   ],
   "source": [
    "gaz_config = ConfigGazebo(origin = enu_origin,\n",
    "                          world_path=\"simulator/gazebo/worlds/runway.world\")\n",
    "\n",
    "for path,home,c in zip(base_paths,base_homes,colors):\n",
    "    gaz_config.add(base_path=path,base_home=home,color=c)\n",
    "gaz_config.show()\n",
    "\n",
    "gaz= Gazebo(gaz_config,gra_origin)"
   ]
  },
  {
   "cell_type": "markdown",
   "metadata": {},
   "source": [
    "## QGroundControl"
   ]
  },
  {
   "cell_type": "code",
   "execution_count": null,
   "metadata": {},
   "outputs": [],
   "source": [
    "qgc_config = ConfigQGC(origin = gra_origin)\n",
    "\n",
    "for path,home,color,delay in zip(base_paths,base_homes,colors,msn_delays):\n",
    "    qgc_config.add(base_path=path,base_home=home,color=color,mission_delay=delay)\n",
    "qgc_config.show()\n",
    "\n",
    "qgc=QGC(qgc_config)"
   ]
  },
  {
   "cell_type": "markdown",
   "metadata": {},
   "source": [
    "## No Visualizer"
   ]
  },
  {
   "cell_type": "code",
   "execution_count": 5,
   "metadata": {},
   "outputs": [],
   "source": [
    "novis_config = ConfigNovis(origin=gra_origin)\n",
    "for home in base_homes:\n",
    "    novis_config.add(base_home=home)\n",
    "    \n",
    "novis=NoVisualizer(novis_config)"
   ]
  },
  {
   "cell_type": "markdown",
   "metadata": {},
   "source": [
    "## Launch Simulation\n",
    "\n",
    "**Here we configure the simulation:**\n",
    "* **visualizers**: Select the desired visualizer for the simulation (only one visualizer at a time is currently supported).  \n",
    "* **gcs_names**: List of GCS names.  \n",
    "* **missions**: List of missions for each UAV. Although advanced, customized missions can be built using the `Mission` class defined in the QGroundControl configuration script, here we use the QGroundControl configuration builder for simplicity.  \n",
    "* **terminals**: Processes to display in the terminal. The available processes are defined in the `sim.py` script: `[\"launcher\", \"veh\", \"logic\", \"proxy\", \"gcs\"]`.  \n",
    "* **suppress_output**: Processes whose output should be suppressed. The available processes are defined in the `sim.py` script: `[\"launcher\", \"veh\", \"logic\", \"proxy\", \"gcs\"]`.  \n",
    "* **verbose**: Verbosity level (0 = no information, 1 = normal information, 2 = include debugging information).  \n",
    "* **other arguments**: More advanced options that allow further customization.  \n"
   ]
  },
  {
   "cell_type": "code",
   "execution_count": 6,
   "metadata": {},
   "outputs": [
    {
     "name": "stderr",
     "output_type": "stream",
     "text": [
      "17:28:05 - Oracle ⚪ - INFO - 🖥️  Gazebo launched for realistic simulation and 3D visualization.\n",
      "17:28:05 - Oracle ⚪ - INFO - 🚀 GCS multicolor launched (PID 357742)\n",
      "17:28:05 - Oracle ⚪ - INFO - ⏳ Waiting for GCS processes to launch vehicles...\n",
      "17:28:10 - Oracle ⚪ - INFO - 🔗 Starting Oracle connections to vehicles...\n",
      "17:28:10 - Oracle ⚪ - INFO - 🔗 UAV logic 2 is connected to Oracle ⚪\n",
      "17:28:10 - Oracle ⚪ - INFO - 🔗 UAV logic 1 is connected to Oracle ⚪\n",
      "17:28:10 - Oracle ⚪ - INFO - 🔗 UAV logic 4 is connected to Oracle ⚪\n",
      "17:28:10 - Oracle ⚪ - INFO - 🔗 UAV logic 3 is connected to Oracle ⚪\n",
      "17:28:10 - Oracle ⚪ - INFO - 🔗 UAV logic 5 is connected to Oracle ⚪\n"
     ]
    }
   ],
   "source": [
    "simulator = Simulator(\n",
    "\tvisualizers=[gaz],\n",
    "    gcs_names=['multicolor'],\n",
    "\tgcs_sysids=[[1,2,3,4,5]],\n",
    "\tmissions=[veh.mission for veh in qgc_config.vehicles],\n",
    "\tterminals=['gcs'],\n",
    "\tverbose=1,\n",
    ")\n",
    "orac = simulator.launch()"
   ]
  },
  {
   "cell_type": "markdown",
   "metadata": {},
   "source": [
    "## Oracle checking"
   ]
  },
  {
   "cell_type": "code",
   "execution_count": 7,
   "metadata": {},
   "outputs": [
    {
     "name": "stderr",
     "output_type": "stream",
     "text": [
      "17:28:11 - Oracle ⚪ - INFO - 🏁 Starting Oracle with 5 vehicles\n",
      "17:28:11 - Oracle ⚪ - INFO - Monitoring 1 GCS processes\n",
      "17:29:35 - Oracle ⚪ - INFO - Received message 'DONE' from GCS multicolor\n",
      "17:29:35 - Oracle ⚪ - INFO - GCS multicolor removal complete. Remaining connections: 0\n",
      "17:29:35 - Oracle ⚪ - INFO - ✅ Main monitoring loop completed - all connections closed\n",
      "17:29:36 - Oracle ⚪ - INFO - 🎉 Oracle shutdown complete!\n"
     ]
    }
   ],
   "source": [
    "orac.run()"
   ]
  }
 ],
 "metadata": {
  "kernelspec": {
   "display_name": "uav-cyber-sim11",
   "language": "python",
   "name": "python3"
  },
  "language_info": {
   "codemirror_mode": {
    "name": "ipython",
    "version": 3
   },
   "file_extension": ".py",
   "mimetype": "text/x-python",
   "name": "python",
   "nbconvert_exporter": "python",
   "pygments_lexer": "ipython3",
   "version": "3.11.13"
  }
 },
 "nbformat": 4,
 "nbformat_minor": 2
}
