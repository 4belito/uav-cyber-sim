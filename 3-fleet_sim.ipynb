{
 "cells": [
  {
   "cell_type": "markdown",
   "metadata": {},
   "source": [
    "## Simulator (fleet of uavs)\n",
    "\n",
    "This notebook serves to get familiar with the simulator"
   ]
  },
  {
   "cell_type": "code",
   "execution_count": 1,
   "metadata": {},
   "outputs": [],
   "source": [
    "from config import Color\n",
    "from helpers import clean\n",
    "from helpers.coordinates import ENUPose, GRAPose\n",
    "from plan import Plan\n",
    "from simulator import (\n",
    "    QGC,\n",
    "    ConfigGazebo,\n",
    "    ConfigNovis,\n",
    "    ConfigQGC,\n",
    "    Gazebo,\n",
    "    NoVisualizer,\n",
    "    Simulator,\n",
    ")\n",
    "\n",
    "clean()"
   ]
  },
  {
   "cell_type": "markdown",
   "metadata": {},
   "source": [
    "## Simulation Configuration\n",
    "\n",
    "We can easily extend the configuration from Notebook 2 to multiple UAVs. \n",
    "We are also adding here a mission delay in secons."
   ]
  },
  {
   "cell_type": "code",
   "execution_count": 2,
   "metadata": {},
   "outputs": [],
   "source": [
    "gra_origin = GRAPose(lat=-35.3633280, lon=149.1652241,alt=0,heading=90) \n",
    "enu_origin = ENUPose(x=0, y=0, z=gra_origin.alt, heading=gra_origin.heading) \n",
    "\n",
    "base_homes= ENUPose.list([  # east, north, up, heading\n",
    "    (0., 15., 0., 0.),\n",
    "    (15., 0., 0., 0),\n",
    "    (5., -20., 0., 30.),\n",
    "    (-15., -15., 0., 0),\n",
    "    (-15., 0., 0., 45),\n",
    "\n",
    "])\n",
    "base_paths = [Plan.create_square_path(side_len=10, alt=5,heading=0) for _ in base_homes]\n",
    "\n",
    "colors=[\n",
    "    Color.BLUE,\n",
    "    Color.GREEN,\n",
    "    Color.BLACK,\n",
    "    Color.ORANGE,\n",
    "    Color.RED,\n",
    "]\n",
    "msn_delays=[0,1,2,3,4] # in seconds"
   ]
  },
  {
   "cell_type": "markdown",
   "metadata": {},
   "source": [
    "## Visualizer\n",
    "\n",
    "Extending the visualizer configuration to multiple UAVs is also straightforward."
   ]
  },
  {
   "cell_type": "markdown",
   "metadata": {},
   "source": [
    "## Gazebo"
   ]
  },
  {
   "cell_type": "code",
   "execution_count": 3,
   "metadata": {},
   "outputs": [
    {
     "data": {
      "application/vnd.plotly.v1+json": {
       "config": {
        "plotlyServerURL": "https://plot.ly"
       },
       "data": [
        {
         "marker": {
          "color": [
           "blue",
           "blue",
           "blue",
           "blue",
           "blue"
          ],
          "size": 6
         },
         "mode": "markers",
         "name": "trajectory 0",
         "type": "scatter3d",
         "x": [
          -15,
          -25,
          -25,
          -15,
          -15
         ],
         "y": [
          9.18485099360515e-16,
          1.5308084989341915e-15,
          10.000000000000002,
          10.000000000000002,
          9.18485099360515e-16
         ],
         "z": [
          5,
          5,
          5,
          5,
          5
         ]
        },
        {
         "marker": {
          "color": [
           "green",
           "green",
           "green",
           "green",
           "green"
          ],
          "size": 6
         },
         "mode": "markers",
         "name": "trajectory 1",
         "type": "scatter3d",
         "x": [
          9.18485099360515e-16,
          -9.999999999999998,
          -9.999999999999998,
          1.5308084989341915e-15,
          9.18485099360515e-16
         ],
         "y": [
          15,
          15,
          25,
          25,
          15
         ],
         "z": [
          5,
          5,
          5,
          5,
          5
         ]
        },
        {
         "marker": {
          "color": [
           "black",
           "black",
           "black",
           "black",
           "black"
          ],
          "size": 6
         },
         "mode": "markers",
         "name": "trajectory 2",
         "type": "scatter3d",
         "x": [
          20,
          11.339745962155613,
          6.339745962155615,
          15,
          20
         ],
         "y": [
          4.999999999999999,
          1.9381923991522556e-16,
          8.660254037844389,
          13.660254037844386,
          4.999999999999999
         ],
         "z": [
          5,
          5,
          5,
          5,
          5
         ]
        },
        {
         "marker": {
          "color": [
           "orange",
           "orange",
           "orange",
           "orange",
           "orange"
          ],
          "size": 6
         },
         "mode": "markers",
         "name": "trajectory 3",
         "type": "scatter3d",
         "x": [
          14.999999999999998,
          4.999999999999999,
          5,
          15,
          14.999999999999998
         ],
         "y": [
          -15.000000000000002,
          -15,
          -5,
          -5.000000000000001,
          -15.000000000000002
         ],
         "z": [
          5,
          5,
          5,
          5,
          5
         ]
        },
        {
         "marker": {
          "color": [
           "red",
           "red",
           "red",
           "red",
           "red"
          ],
          "size": 6
         },
         "mode": "markers",
         "name": "trajectory 4",
         "type": "scatter3d",
         "x": [
          -9.18485099360515e-16,
          -7.071067811865477,
          -14.142135623730953,
          -7.0710678118654755,
          -9.18485099360515e-16
         ],
         "y": [
          -15,
          -22.071067811865476,
          -15,
          -7.9289321881345245,
          -15
         ],
         "z": [
          5,
          5,
          5,
          5,
          5
         ]
        },
        {
         "marker": {
          "color": "white",
          "size": 8
         },
         "mode": "markers+text",
         "name": "origin",
         "text": [
          "origin"
         ],
         "textposition": "top center",
         "type": "scatter3d",
         "x": [
          0
         ],
         "y": [
          0
         ],
         "z": [
          0
         ]
        }
       ],
       "layout": {
        "height": 600,
        "scene": {
         "xaxis": {
          "range": [
           -34,
           29
          ],
          "title": {
           "text": "x"
          }
         },
         "yaxis": {
          "range": [
           -31.48528137423857,
           34.41421356237309
          ],
          "title": {
           "text": "y"
          }
         },
         "zaxis": {
          "range": [
           0,
           6
          ],
          "title": {
           "text": "z"
          }
         }
        },
        "showlegend": true,
        "template": {
         "data": {
          "bar": [
           {
            "error_x": {
             "color": "#2a3f5f"
            },
            "error_y": {
             "color": "#2a3f5f"
            },
            "marker": {
             "line": {
              "color": "#E5ECF6",
              "width": 0.5
             },
             "pattern": {
              "fillmode": "overlay",
              "size": 10,
              "solidity": 0.2
             }
            },
            "type": "bar"
           }
          ],
          "barpolar": [
           {
            "marker": {
             "line": {
              "color": "#E5ECF6",
              "width": 0.5
             },
             "pattern": {
              "fillmode": "overlay",
              "size": 10,
              "solidity": 0.2
             }
            },
            "type": "barpolar"
           }
          ],
          "carpet": [
           {
            "aaxis": {
             "endlinecolor": "#2a3f5f",
             "gridcolor": "white",
             "linecolor": "white",
             "minorgridcolor": "white",
             "startlinecolor": "#2a3f5f"
            },
            "baxis": {
             "endlinecolor": "#2a3f5f",
             "gridcolor": "white",
             "linecolor": "white",
             "minorgridcolor": "white",
             "startlinecolor": "#2a3f5f"
            },
            "type": "carpet"
           }
          ],
          "choropleth": [
           {
            "colorbar": {
             "outlinewidth": 0,
             "ticks": ""
            },
            "type": "choropleth"
           }
          ],
          "contour": [
           {
            "colorbar": {
             "outlinewidth": 0,
             "ticks": ""
            },
            "colorscale": [
             [
              0,
              "#0d0887"
             ],
             [
              0.1111111111111111,
              "#46039f"
             ],
             [
              0.2222222222222222,
              "#7201a8"
             ],
             [
              0.3333333333333333,
              "#9c179e"
             ],
             [
              0.4444444444444444,
              "#bd3786"
             ],
             [
              0.5555555555555556,
              "#d8576b"
             ],
             [
              0.6666666666666666,
              "#ed7953"
             ],
             [
              0.7777777777777778,
              "#fb9f3a"
             ],
             [
              0.8888888888888888,
              "#fdca26"
             ],
             [
              1,
              "#f0f921"
             ]
            ],
            "type": "contour"
           }
          ],
          "contourcarpet": [
           {
            "colorbar": {
             "outlinewidth": 0,
             "ticks": ""
            },
            "type": "contourcarpet"
           }
          ],
          "heatmap": [
           {
            "colorbar": {
             "outlinewidth": 0,
             "ticks": ""
            },
            "colorscale": [
             [
              0,
              "#0d0887"
             ],
             [
              0.1111111111111111,
              "#46039f"
             ],
             [
              0.2222222222222222,
              "#7201a8"
             ],
             [
              0.3333333333333333,
              "#9c179e"
             ],
             [
              0.4444444444444444,
              "#bd3786"
             ],
             [
              0.5555555555555556,
              "#d8576b"
             ],
             [
              0.6666666666666666,
              "#ed7953"
             ],
             [
              0.7777777777777778,
              "#fb9f3a"
             ],
             [
              0.8888888888888888,
              "#fdca26"
             ],
             [
              1,
              "#f0f921"
             ]
            ],
            "type": "heatmap"
           }
          ],
          "histogram": [
           {
            "marker": {
             "pattern": {
              "fillmode": "overlay",
              "size": 10,
              "solidity": 0.2
             }
            },
            "type": "histogram"
           }
          ],
          "histogram2d": [
           {
            "colorbar": {
             "outlinewidth": 0,
             "ticks": ""
            },
            "colorscale": [
             [
              0,
              "#0d0887"
             ],
             [
              0.1111111111111111,
              "#46039f"
             ],
             [
              0.2222222222222222,
              "#7201a8"
             ],
             [
              0.3333333333333333,
              "#9c179e"
             ],
             [
              0.4444444444444444,
              "#bd3786"
             ],
             [
              0.5555555555555556,
              "#d8576b"
             ],
             [
              0.6666666666666666,
              "#ed7953"
             ],
             [
              0.7777777777777778,
              "#fb9f3a"
             ],
             [
              0.8888888888888888,
              "#fdca26"
             ],
             [
              1,
              "#f0f921"
             ]
            ],
            "type": "histogram2d"
           }
          ],
          "histogram2dcontour": [
           {
            "colorbar": {
             "outlinewidth": 0,
             "ticks": ""
            },
            "colorscale": [
             [
              0,
              "#0d0887"
             ],
             [
              0.1111111111111111,
              "#46039f"
             ],
             [
              0.2222222222222222,
              "#7201a8"
             ],
             [
              0.3333333333333333,
              "#9c179e"
             ],
             [
              0.4444444444444444,
              "#bd3786"
             ],
             [
              0.5555555555555556,
              "#d8576b"
             ],
             [
              0.6666666666666666,
              "#ed7953"
             ],
             [
              0.7777777777777778,
              "#fb9f3a"
             ],
             [
              0.8888888888888888,
              "#fdca26"
             ],
             [
              1,
              "#f0f921"
             ]
            ],
            "type": "histogram2dcontour"
           }
          ],
          "mesh3d": [
           {
            "colorbar": {
             "outlinewidth": 0,
             "ticks": ""
            },
            "type": "mesh3d"
           }
          ],
          "parcoords": [
           {
            "line": {
             "colorbar": {
              "outlinewidth": 0,
              "ticks": ""
             }
            },
            "type": "parcoords"
           }
          ],
          "pie": [
           {
            "automargin": true,
            "type": "pie"
           }
          ],
          "scatter": [
           {
            "fillpattern": {
             "fillmode": "overlay",
             "size": 10,
             "solidity": 0.2
            },
            "type": "scatter"
           }
          ],
          "scatter3d": [
           {
            "line": {
             "colorbar": {
              "outlinewidth": 0,
              "ticks": ""
             }
            },
            "marker": {
             "colorbar": {
              "outlinewidth": 0,
              "ticks": ""
             }
            },
            "type": "scatter3d"
           }
          ],
          "scattercarpet": [
           {
            "marker": {
             "colorbar": {
              "outlinewidth": 0,
              "ticks": ""
             }
            },
            "type": "scattercarpet"
           }
          ],
          "scattergeo": [
           {
            "marker": {
             "colorbar": {
              "outlinewidth": 0,
              "ticks": ""
             }
            },
            "type": "scattergeo"
           }
          ],
          "scattergl": [
           {
            "marker": {
             "colorbar": {
              "outlinewidth": 0,
              "ticks": ""
             }
            },
            "type": "scattergl"
           }
          ],
          "scattermap": [
           {
            "marker": {
             "colorbar": {
              "outlinewidth": 0,
              "ticks": ""
             }
            },
            "type": "scattermap"
           }
          ],
          "scattermapbox": [
           {
            "marker": {
             "colorbar": {
              "outlinewidth": 0,
              "ticks": ""
             }
            },
            "type": "scattermapbox"
           }
          ],
          "scatterpolar": [
           {
            "marker": {
             "colorbar": {
              "outlinewidth": 0,
              "ticks": ""
             }
            },
            "type": "scatterpolar"
           }
          ],
          "scatterpolargl": [
           {
            "marker": {
             "colorbar": {
              "outlinewidth": 0,
              "ticks": ""
             }
            },
            "type": "scatterpolargl"
           }
          ],
          "scatterternary": [
           {
            "marker": {
             "colorbar": {
              "outlinewidth": 0,
              "ticks": ""
             }
            },
            "type": "scatterternary"
           }
          ],
          "surface": [
           {
            "colorbar": {
             "outlinewidth": 0,
             "ticks": ""
            },
            "colorscale": [
             [
              0,
              "#0d0887"
             ],
             [
              0.1111111111111111,
              "#46039f"
             ],
             [
              0.2222222222222222,
              "#7201a8"
             ],
             [
              0.3333333333333333,
              "#9c179e"
             ],
             [
              0.4444444444444444,
              "#bd3786"
             ],
             [
              0.5555555555555556,
              "#d8576b"
             ],
             [
              0.6666666666666666,
              "#ed7953"
             ],
             [
              0.7777777777777778,
              "#fb9f3a"
             ],
             [
              0.8888888888888888,
              "#fdca26"
             ],
             [
              1,
              "#f0f921"
             ]
            ],
            "type": "surface"
           }
          ],
          "table": [
           {
            "cells": {
             "fill": {
              "color": "#EBF0F8"
             },
             "line": {
              "color": "white"
             }
            },
            "header": {
             "fill": {
              "color": "#C8D4E3"
             },
             "line": {
              "color": "white"
             }
            },
            "type": "table"
           }
          ]
         },
         "layout": {
          "annotationdefaults": {
           "arrowcolor": "#2a3f5f",
           "arrowhead": 0,
           "arrowwidth": 1
          },
          "autotypenumbers": "strict",
          "coloraxis": {
           "colorbar": {
            "outlinewidth": 0,
            "ticks": ""
           }
          },
          "colorscale": {
           "diverging": [
            [
             0,
             "#8e0152"
            ],
            [
             0.1,
             "#c51b7d"
            ],
            [
             0.2,
             "#de77ae"
            ],
            [
             0.3,
             "#f1b6da"
            ],
            [
             0.4,
             "#fde0ef"
            ],
            [
             0.5,
             "#f7f7f7"
            ],
            [
             0.6,
             "#e6f5d0"
            ],
            [
             0.7,
             "#b8e186"
            ],
            [
             0.8,
             "#7fbc41"
            ],
            [
             0.9,
             "#4d9221"
            ],
            [
             1,
             "#276419"
            ]
           ],
           "sequential": [
            [
             0,
             "#0d0887"
            ],
            [
             0.1111111111111111,
             "#46039f"
            ],
            [
             0.2222222222222222,
             "#7201a8"
            ],
            [
             0.3333333333333333,
             "#9c179e"
            ],
            [
             0.4444444444444444,
             "#bd3786"
            ],
            [
             0.5555555555555556,
             "#d8576b"
            ],
            [
             0.6666666666666666,
             "#ed7953"
            ],
            [
             0.7777777777777778,
             "#fb9f3a"
            ],
            [
             0.8888888888888888,
             "#fdca26"
            ],
            [
             1,
             "#f0f921"
            ]
           ],
           "sequentialminus": [
            [
             0,
             "#0d0887"
            ],
            [
             0.1111111111111111,
             "#46039f"
            ],
            [
             0.2222222222222222,
             "#7201a8"
            ],
            [
             0.3333333333333333,
             "#9c179e"
            ],
            [
             0.4444444444444444,
             "#bd3786"
            ],
            [
             0.5555555555555556,
             "#d8576b"
            ],
            [
             0.6666666666666666,
             "#ed7953"
            ],
            [
             0.7777777777777778,
             "#fb9f3a"
            ],
            [
             0.8888888888888888,
             "#fdca26"
            ],
            [
             1,
             "#f0f921"
            ]
           ]
          },
          "colorway": [
           "#636efa",
           "#EF553B",
           "#00cc96",
           "#ab63fa",
           "#FFA15A",
           "#19d3f3",
           "#FF6692",
           "#B6E880",
           "#FF97FF",
           "#FECB52"
          ],
          "font": {
           "color": "#2a3f5f"
          },
          "geo": {
           "bgcolor": "white",
           "lakecolor": "white",
           "landcolor": "#E5ECF6",
           "showlakes": true,
           "showland": true,
           "subunitcolor": "white"
          },
          "hoverlabel": {
           "align": "left"
          },
          "hovermode": "closest",
          "mapbox": {
           "style": "light"
          },
          "paper_bgcolor": "white",
          "plot_bgcolor": "#E5ECF6",
          "polar": {
           "angularaxis": {
            "gridcolor": "white",
            "linecolor": "white",
            "ticks": ""
           },
           "bgcolor": "#E5ECF6",
           "radialaxis": {
            "gridcolor": "white",
            "linecolor": "white",
            "ticks": ""
           }
          },
          "scene": {
           "xaxis": {
            "backgroundcolor": "#E5ECF6",
            "gridcolor": "white",
            "gridwidth": 2,
            "linecolor": "white",
            "showbackground": true,
            "ticks": "",
            "zerolinecolor": "white"
           },
           "yaxis": {
            "backgroundcolor": "#E5ECF6",
            "gridcolor": "white",
            "gridwidth": 2,
            "linecolor": "white",
            "showbackground": true,
            "ticks": "",
            "zerolinecolor": "white"
           },
           "zaxis": {
            "backgroundcolor": "#E5ECF6",
            "gridcolor": "white",
            "gridwidth": 2,
            "linecolor": "white",
            "showbackground": true,
            "ticks": "",
            "zerolinecolor": "white"
           }
          },
          "shapedefaults": {
           "line": {
            "color": "#2a3f5f"
           }
          },
          "ternary": {
           "aaxis": {
            "gridcolor": "white",
            "linecolor": "white",
            "ticks": ""
           },
           "baxis": {
            "gridcolor": "white",
            "linecolor": "white",
            "ticks": ""
           },
           "bgcolor": "#E5ECF6",
           "caxis": {
            "gridcolor": "white",
            "linecolor": "white",
            "ticks": ""
           }
          },
          "title": {
           "x": 0.05
          },
          "xaxis": {
           "automargin": true,
           "gridcolor": "white",
           "linecolor": "white",
           "ticks": "",
           "title": {
            "standoff": 15
           },
           "zerolinecolor": "white",
           "zerolinewidth": 2
          },
          "yaxis": {
           "automargin": true,
           "gridcolor": "white",
           "linecolor": "white",
           "ticks": "",
           "title": {
            "standoff": 15
           },
           "zerolinecolor": "white",
           "zerolinewidth": 2
          }
         }
        },
        "title": {
         "text": "Trajectories",
         "x": 0.5,
         "xanchor": "center"
        },
        "width": 800
       }
      }
     },
     "metadata": {},
     "output_type": "display_data"
    }
   ],
   "source": [
    "gaz_config = ConfigGazebo(origin = enu_origin,\n",
    "                          world_path=\"simulator/gazebo/worlds/runway.world\")\n",
    "\n",
    "for path,home,c in zip(base_paths,base_homes,colors):\n",
    "    gaz_config.add(base_path=path,base_home=home,color=c)\n",
    "gaz_config.show()\n",
    "\n",
    "gaz= Gazebo(gaz_config,gra_origin)"
   ]
  },
  {
   "cell_type": "markdown",
   "metadata": {},
   "source": [
    "## QGroundControl"
   ]
  },
  {
   "cell_type": "code",
   "execution_count": 5,
   "metadata": {},
   "outputs": [
    {
     "data": {
      "text/html": [
       "<div style=\"width:100%;\"><div style=\"position:relative;width:100%;height:0;padding-bottom:60%;\"><span style=\"color:#565656\">Make this Notebook Trusted to load map: File -> Trust Notebook</span><iframe srcdoc=\"&lt;!DOCTYPE html&gt;\n",
       "&lt;html&gt;\n",
       "&lt;head&gt;\n",
       "    \n",
       "    &lt;meta http-equiv=&quot;content-type&quot; content=&quot;text/html; charset=UTF-8&quot; /&gt;\n",
       "    &lt;script src=&quot;https://cdn.jsdelivr.net/npm/leaflet@1.9.3/dist/leaflet.js&quot;&gt;&lt;/script&gt;\n",
       "    &lt;script src=&quot;https://code.jquery.com/jquery-3.7.1.min.js&quot;&gt;&lt;/script&gt;\n",
       "    &lt;script src=&quot;https://cdn.jsdelivr.net/npm/bootstrap@5.2.2/dist/js/bootstrap.bundle.min.js&quot;&gt;&lt;/script&gt;\n",
       "    &lt;script src=&quot;https://cdnjs.cloudflare.com/ajax/libs/Leaflet.awesome-markers/2.0.2/leaflet.awesome-markers.js&quot;&gt;&lt;/script&gt;\n",
       "    &lt;link rel=&quot;stylesheet&quot; href=&quot;https://cdn.jsdelivr.net/npm/leaflet@1.9.3/dist/leaflet.css&quot;/&gt;\n",
       "    &lt;link rel=&quot;stylesheet&quot; href=&quot;https://cdn.jsdelivr.net/npm/bootstrap@5.2.2/dist/css/bootstrap.min.css&quot;/&gt;\n",
       "    &lt;link rel=&quot;stylesheet&quot; href=&quot;https://netdna.bootstrapcdn.com/bootstrap/3.0.0/css/bootstrap-glyphicons.css&quot;/&gt;\n",
       "    &lt;link rel=&quot;stylesheet&quot; href=&quot;https://cdn.jsdelivr.net/npm/@fortawesome/fontawesome-free@6.2.0/css/all.min.css&quot;/&gt;\n",
       "    &lt;link rel=&quot;stylesheet&quot; href=&quot;https://cdnjs.cloudflare.com/ajax/libs/Leaflet.awesome-markers/2.0.2/leaflet.awesome-markers.css&quot;/&gt;\n",
       "    &lt;link rel=&quot;stylesheet&quot; href=&quot;https://cdn.jsdelivr.net/gh/python-visualization/folium/folium/templates/leaflet.awesome.rotate.min.css&quot;/&gt;\n",
       "    \n",
       "            &lt;meta name=&quot;viewport&quot; content=&quot;width=device-width,\n",
       "                initial-scale=1.0, maximum-scale=1.0, user-scalable=no&quot; /&gt;\n",
       "            &lt;style&gt;\n",
       "                #map_7d4317d083b20cd85d007bc4af1a6f91 {\n",
       "                    position: relative;\n",
       "                    width: 100.0%;\n",
       "                    height: 100.0%;\n",
       "                    left: 0.0%;\n",
       "                    top: 0.0%;\n",
       "                }\n",
       "                .leaflet-container { font-size: 1rem; }\n",
       "            &lt;/style&gt;\n",
       "\n",
       "            &lt;style&gt;html, body {\n",
       "                width: 100%;\n",
       "                height: 100%;\n",
       "                margin: 0;\n",
       "                padding: 0;\n",
       "            }\n",
       "            &lt;/style&gt;\n",
       "\n",
       "            &lt;style&gt;#map {\n",
       "                position:absolute;\n",
       "                top:0;\n",
       "                bottom:0;\n",
       "                right:0;\n",
       "                left:0;\n",
       "                }\n",
       "            &lt;/style&gt;\n",
       "\n",
       "            &lt;script&gt;\n",
       "                L_NO_TOUCH = false;\n",
       "                L_DISABLE_3D = false;\n",
       "            &lt;/script&gt;\n",
       "\n",
       "        \n",
       "&lt;/head&gt;\n",
       "&lt;body&gt;\n",
       "    \n",
       "    \n",
       "            &lt;div class=&quot;folium-map&quot; id=&quot;map_7d4317d083b20cd85d007bc4af1a6f91&quot; &gt;&lt;/div&gt;\n",
       "        \n",
       "&lt;/body&gt;\n",
       "&lt;script&gt;\n",
       "    \n",
       "    \n",
       "            var map_7d4317d083b20cd85d007bc4af1a6f91 = L.map(\n",
       "                &quot;map_7d4317d083b20cd85d007bc4af1a6f91&quot;,\n",
       "                {\n",
       "                    center: [-35.363328, 149.1652241],\n",
       "                    crs: L.CRS.EPSG3857,\n",
       "                    ...{\n",
       "  &quot;zoom&quot;: 18,\n",
       "  &quot;zoomControl&quot;: true,\n",
       "  &quot;preferCanvas&quot;: false,\n",
       "}\n",
       "\n",
       "                }\n",
       "            );\n",
       "\n",
       "            \n",
       "\n",
       "        \n",
       "    \n",
       "            var tile_layer_fb51968a8072216718f927956d836909 = L.tileLayer(\n",
       "                &quot;https://tile.openstreetmap.org/{z}/{x}/{y}.png&quot;,\n",
       "                {\n",
       "  &quot;minZoom&quot;: 0,\n",
       "  &quot;maxZoom&quot;: 19,\n",
       "  &quot;maxNativeZoom&quot;: 19,\n",
       "  &quot;noWrap&quot;: false,\n",
       "  &quot;attribution&quot;: &quot;\\u0026copy; \\u003ca href=\\&quot;https://www.openstreetmap.org/copyright\\&quot;\\u003eOpenStreetMap\\u003c/a\\u003e contributors&quot;,\n",
       "  &quot;subdomains&quot;: &quot;abc&quot;,\n",
       "  &quot;detectRetina&quot;: false,\n",
       "  &quot;tms&quot;: false,\n",
       "  &quot;opacity&quot;: 1,\n",
       "}\n",
       "\n",
       "            );\n",
       "        \n",
       "    \n",
       "            tile_layer_fb51968a8072216718f927956d836909.addTo(map_7d4317d083b20cd85d007bc4af1a6f91);\n",
       "        \n",
       "    \n",
       "            var marker_50de7fd7f1ac4e1510355ecb1d172889 = L.marker(\n",
       "                [-35.363327999887304, 149.16505905243307],\n",
       "                {\n",
       "}\n",
       "            ).addTo(map_7d4317d083b20cd85d007bc4af1a6f91);\n",
       "        \n",
       "    \n",
       "            var icon_4b9501a052622d7631b01052da9b5822 = L.AwesomeMarkers.icon(\n",
       "                {\n",
       "  &quot;markerColor&quot;: &quot;blue&quot;,\n",
       "  &quot;iconColor&quot;: &quot;white&quot;,\n",
       "  &quot;icon&quot;: &quot;info-sign&quot;,\n",
       "  &quot;prefix&quot;: &quot;glyphicon&quot;,\n",
       "  &quot;extraClasses&quot;: &quot;fa-rotate-0&quot;,\n",
       "}\n",
       "            );\n",
       "        \n",
       "    \n",
       "        var popup_1a3c06f99432baa2e4ab802ce28ffdb3 = L.popup({\n",
       "  &quot;maxWidth&quot;: &quot;100%&quot;,\n",
       "});\n",
       "\n",
       "        \n",
       "            \n",
       "                var html_2dcb84c4fc11793edba72bd193c81054 = $(`&lt;div id=&quot;html_2dcb84c4fc11793edba72bd193c81054&quot; style=&quot;width: 100.0%; height: 100.0%;&quot;&gt;pos_0&lt;/div&gt;`)[0];\n",
       "                popup_1a3c06f99432baa2e4ab802ce28ffdb3.setContent(html_2dcb84c4fc11793edba72bd193c81054);\n",
       "            \n",
       "        \n",
       "\n",
       "        marker_50de7fd7f1ac4e1510355ecb1d172889.bindPopup(popup_1a3c06f99432baa2e4ab802ce28ffdb3)\n",
       "        ;\n",
       "\n",
       "        \n",
       "    \n",
       "    \n",
       "                marker_50de7fd7f1ac4e1510355ecb1d172889.setIcon(icon_4b9501a052622d7631b01052da9b5822);\n",
       "            \n",
       "    \n",
       "            var marker_f52a7ec6286ed60b3da41a7500601f7c = L.marker(\n",
       "                [-35.36332799968695, 149.16494902072176],\n",
       "                {\n",
       "}\n",
       "            ).addTo(map_7d4317d083b20cd85d007bc4af1a6f91);\n",
       "        \n",
       "    \n",
       "            var icon_cfa5943457a52ee647e7c5a2630a4550 = L.AwesomeMarkers.icon(\n",
       "                {\n",
       "  &quot;markerColor&quot;: &quot;blue&quot;,\n",
       "  &quot;iconColor&quot;: &quot;white&quot;,\n",
       "  &quot;icon&quot;: &quot;info-sign&quot;,\n",
       "  &quot;prefix&quot;: &quot;glyphicon&quot;,\n",
       "  &quot;extraClasses&quot;: &quot;fa-rotate-0&quot;,\n",
       "}\n",
       "            );\n",
       "        \n",
       "    \n",
       "        var popup_c3c729a10f4884dc895aadd307c6dd2c = L.popup({\n",
       "  &quot;maxWidth&quot;: &quot;100%&quot;,\n",
       "});\n",
       "\n",
       "        \n",
       "            \n",
       "                var html_39a8c1ac6cdda5d7abef04d2e2b0ceff = $(`&lt;div id=&quot;html_39a8c1ac6cdda5d7abef04d2e2b0ceff&quot; style=&quot;width: 100.0%; height: 100.0%;&quot;&gt;pos_1&lt;/div&gt;`)[0];\n",
       "                popup_c3c729a10f4884dc895aadd307c6dd2c.setContent(html_39a8c1ac6cdda5d7abef04d2e2b0ceff);\n",
       "            \n",
       "        \n",
       "\n",
       "        marker_f52a7ec6286ed60b3da41a7500601f7c.bindPopup(popup_c3c729a10f4884dc895aadd307c6dd2c)\n",
       "        ;\n",
       "\n",
       "        \n",
       "    \n",
       "    \n",
       "                marker_f52a7ec6286ed60b3da41a7500601f7c.setIcon(icon_cfa5943457a52ee647e7c5a2630a4550);\n",
       "            \n",
       "    \n",
       "            var marker_baceb461fa6e615b85bd223597ad3afa = L.marker(\n",
       "                [-35.363237866827895, 149.1649490210275],\n",
       "                {\n",
       "}\n",
       "            ).addTo(map_7d4317d083b20cd85d007bc4af1a6f91);\n",
       "        \n",
       "    \n",
       "            var icon_7a98a032f00545ba1b1435209a106a9d = L.AwesomeMarkers.icon(\n",
       "                {\n",
       "  &quot;markerColor&quot;: &quot;blue&quot;,\n",
       "  &quot;iconColor&quot;: &quot;white&quot;,\n",
       "  &quot;icon&quot;: &quot;info-sign&quot;,\n",
       "  &quot;prefix&quot;: &quot;glyphicon&quot;,\n",
       "  &quot;extraClasses&quot;: &quot;fa-rotate-0&quot;,\n",
       "}\n",
       "            );\n",
       "        \n",
       "    \n",
       "        var popup_e482049fd79864bfa09c665bba919aca = L.popup({\n",
       "  &quot;maxWidth&quot;: &quot;100%&quot;,\n",
       "});\n",
       "\n",
       "        \n",
       "            \n",
       "                var html_8866283175b24d25b68f53b560151e38 = $(`&lt;div id=&quot;html_8866283175b24d25b68f53b560151e38&quot; style=&quot;width: 100.0%; height: 100.0%;&quot;&gt;pos_2&lt;/div&gt;`)[0];\n",
       "                popup_e482049fd79864bfa09c665bba919aca.setContent(html_8866283175b24d25b68f53b560151e38);\n",
       "            \n",
       "        \n",
       "\n",
       "        marker_baceb461fa6e615b85bd223597ad3afa.bindPopup(popup_e482049fd79864bfa09c665bba919aca)\n",
       "        ;\n",
       "\n",
       "        \n",
       "    \n",
       "    \n",
       "                marker_baceb461fa6e615b85bd223597ad3afa.setIcon(icon_7a98a032f00545ba1b1435209a106a9d);\n",
       "            \n",
       "    \n",
       "            var marker_d30e398d6e063e275fafefc6aff27f3a = L.marker(\n",
       "                [-35.363237867028246, 149.1650590526165],\n",
       "                {\n",
       "}\n",
       "            ).addTo(map_7d4317d083b20cd85d007bc4af1a6f91);\n",
       "        \n",
       "    \n",
       "            var icon_08440b5c2cb9997f8423d09a7bf8243d = L.AwesomeMarkers.icon(\n",
       "                {\n",
       "  &quot;markerColor&quot;: &quot;blue&quot;,\n",
       "  &quot;iconColor&quot;: &quot;white&quot;,\n",
       "  &quot;icon&quot;: &quot;info-sign&quot;,\n",
       "  &quot;prefix&quot;: &quot;glyphicon&quot;,\n",
       "  &quot;extraClasses&quot;: &quot;fa-rotate-0&quot;,\n",
       "}\n",
       "            );\n",
       "        \n",
       "    \n",
       "        var popup_99977004fda250fb00b2c89351f0fa75 = L.popup({\n",
       "  &quot;maxWidth&quot;: &quot;100%&quot;,\n",
       "});\n",
       "\n",
       "        \n",
       "            \n",
       "                var html_51bcee842bc156c51bc816b2f0944221 = $(`&lt;div id=&quot;html_51bcee842bc156c51bc816b2f0944221&quot; style=&quot;width: 100.0%; height: 100.0%;&quot;&gt;pos_3&lt;/div&gt;`)[0];\n",
       "                popup_99977004fda250fb00b2c89351f0fa75.setContent(html_51bcee842bc156c51bc816b2f0944221);\n",
       "            \n",
       "        \n",
       "\n",
       "        marker_d30e398d6e063e275fafefc6aff27f3a.bindPopup(popup_99977004fda250fb00b2c89351f0fa75)\n",
       "        ;\n",
       "\n",
       "        \n",
       "    \n",
       "    \n",
       "                marker_d30e398d6e063e275fafefc6aff27f3a.setIcon(icon_08440b5c2cb9997f8423d09a7bf8243d);\n",
       "            \n",
       "    \n",
       "            var marker_4fb8bf8e3db75a158c0fe1480e769308 = L.marker(\n",
       "                [-35.363327999887304, 149.16505905243307],\n",
       "                {\n",
       "}\n",
       "            ).addTo(map_7d4317d083b20cd85d007bc4af1a6f91);\n",
       "        \n",
       "    \n",
       "            var icon_a23847fb5e56f2b9fd0a5530213e91c4 = L.AwesomeMarkers.icon(\n",
       "                {\n",
       "  &quot;markerColor&quot;: &quot;blue&quot;,\n",
       "  &quot;iconColor&quot;: &quot;white&quot;,\n",
       "  &quot;icon&quot;: &quot;info-sign&quot;,\n",
       "  &quot;prefix&quot;: &quot;glyphicon&quot;,\n",
       "  &quot;extraClasses&quot;: &quot;fa-rotate-0&quot;,\n",
       "}\n",
       "            );\n",
       "        \n",
       "    \n",
       "        var popup_a83382dabf16d397e4f90102505a9413 = L.popup({\n",
       "  &quot;maxWidth&quot;: &quot;100%&quot;,\n",
       "});\n",
       "\n",
       "        \n",
       "            \n",
       "                var html_738ad9395d69fb21c55210d0cc6b1eeb = $(`&lt;div id=&quot;html_738ad9395d69fb21c55210d0cc6b1eeb&quot; style=&quot;width: 100.0%; height: 100.0%;&quot;&gt;pos_4&lt;/div&gt;`)[0];\n",
       "                popup_a83382dabf16d397e4f90102505a9413.setContent(html_738ad9395d69fb21c55210d0cc6b1eeb);\n",
       "            \n",
       "        \n",
       "\n",
       "        marker_4fb8bf8e3db75a158c0fe1480e769308.bindPopup(popup_a83382dabf16d397e4f90102505a9413)\n",
       "        ;\n",
       "\n",
       "        \n",
       "    \n",
       "    \n",
       "                marker_4fb8bf8e3db75a158c0fe1480e769308.setIcon(icon_a23847fb5e56f2b9fd0a5530213e91c4);\n",
       "            \n",
       "    \n",
       "            var marker_bb893d395740bd47b32c9bacf345d4a6 = L.marker(\n",
       "                [-35.36319280071091, 149.1652241],\n",
       "                {\n",
       "}\n",
       "            ).addTo(map_7d4317d083b20cd85d007bc4af1a6f91);\n",
       "        \n",
       "    \n",
       "            var icon_53691cfbf007be81d74600d5e65a2a2b = L.AwesomeMarkers.icon(\n",
       "                {\n",
       "  &quot;markerColor&quot;: &quot;green&quot;,\n",
       "  &quot;iconColor&quot;: &quot;white&quot;,\n",
       "  &quot;icon&quot;: &quot;info-sign&quot;,\n",
       "  &quot;prefix&quot;: &quot;glyphicon&quot;,\n",
       "  &quot;extraClasses&quot;: &quot;fa-rotate-0&quot;,\n",
       "}\n",
       "            );\n",
       "        \n",
       "    \n",
       "        var popup_f9bba9e238548dcfbc312ae0558a48a1 = L.popup({\n",
       "  &quot;maxWidth&quot;: &quot;100%&quot;,\n",
       "});\n",
       "\n",
       "        \n",
       "            \n",
       "                var html_f54629ab86da8b777471cd3a5f71ba29 = $(`&lt;div id=&quot;html_f54629ab86da8b777471cd3a5f71ba29&quot; style=&quot;width: 100.0%; height: 100.0%;&quot;&gt;pos_0&lt;/div&gt;`)[0];\n",
       "                popup_f9bba9e238548dcfbc312ae0558a48a1.setContent(html_f54629ab86da8b777471cd3a5f71ba29);\n",
       "            \n",
       "        \n",
       "\n",
       "        marker_bb893d395740bd47b32c9bacf345d4a6.bindPopup(popup_f9bba9e238548dcfbc312ae0558a48a1)\n",
       "        ;\n",
       "\n",
       "        \n",
       "    \n",
       "    \n",
       "                marker_bb893d395740bd47b32c9bacf345d4a6.setIcon(icon_53691cfbf007be81d74600d5e65a2a2b);\n",
       "            \n",
       "    \n",
       "            var marker_d084858a93b3b4d76e9821971e88a42a = L.marker(\n",
       "                [-35.363192800660826, 149.16511406847215],\n",
       "                {\n",
       "}\n",
       "            ).addTo(map_7d4317d083b20cd85d007bc4af1a6f91);\n",
       "        \n",
       "    \n",
       "            var icon_85b70cbcb915c1feff7cb16d51ae7162 = L.AwesomeMarkers.icon(\n",
       "                {\n",
       "  &quot;markerColor&quot;: &quot;green&quot;,\n",
       "  &quot;iconColor&quot;: &quot;white&quot;,\n",
       "  &quot;icon&quot;: &quot;info-sign&quot;,\n",
       "  &quot;prefix&quot;: &quot;glyphicon&quot;,\n",
       "  &quot;extraClasses&quot;: &quot;fa-rotate-0&quot;,\n",
       "}\n",
       "            );\n",
       "        \n",
       "    \n",
       "        var popup_91d544fa4f7b62062adc0541b64c98fc = L.popup({\n",
       "  &quot;maxWidth&quot;: &quot;100%&quot;,\n",
       "});\n",
       "\n",
       "        \n",
       "            \n",
       "                var html_78e30e2053a678701120611c35ebbf76 = $(`&lt;div id=&quot;html_78e30e2053a678701120611c35ebbf76&quot; style=&quot;width: 100.0%; height: 100.0%;&quot;&gt;pos_1&lt;/div&gt;`)[0];\n",
       "                popup_91d544fa4f7b62062adc0541b64c98fc.setContent(html_78e30e2053a678701120611c35ebbf76);\n",
       "            \n",
       "        \n",
       "\n",
       "        marker_d084858a93b3b4d76e9821971e88a42a.bindPopup(popup_91d544fa4f7b62062adc0541b64c98fc)\n",
       "        ;\n",
       "\n",
       "        \n",
       "    \n",
       "    \n",
       "                marker_d084858a93b3b4d76e9821971e88a42a.setIcon(icon_85b70cbcb915c1feff7cb16d51ae7162);\n",
       "            \n",
       "    \n",
       "            var marker_b9720caf76e8343d2680a187df7e41f9 = L.marker(\n",
       "                [-35.36310266779976, 149.16511406859445],\n",
       "                {\n",
       "}\n",
       "            ).addTo(map_7d4317d083b20cd85d007bc4af1a6f91);\n",
       "        \n",
       "    \n",
       "            var icon_bd2c460289e9752b55be86410d5fe316 = L.AwesomeMarkers.icon(\n",
       "                {\n",
       "  &quot;markerColor&quot;: &quot;green&quot;,\n",
       "  &quot;iconColor&quot;: &quot;white&quot;,\n",
       "  &quot;icon&quot;: &quot;info-sign&quot;,\n",
       "  &quot;prefix&quot;: &quot;glyphicon&quot;,\n",
       "  &quot;extraClasses&quot;: &quot;fa-rotate-0&quot;,\n",
       "}\n",
       "            );\n",
       "        \n",
       "    \n",
       "        var popup_e87d6a22b0c1d6fc686a695a4559e493 = L.popup({\n",
       "  &quot;maxWidth&quot;: &quot;100%&quot;,\n",
       "});\n",
       "\n",
       "        \n",
       "            \n",
       "                var html_7d5ac07f367e1ace88f849d9f07e00de = $(`&lt;div id=&quot;html_7d5ac07f367e1ace88f849d9f07e00de&quot; style=&quot;width: 100.0%; height: 100.0%;&quot;&gt;pos_2&lt;/div&gt;`)[0];\n",
       "                popup_e87d6a22b0c1d6fc686a695a4559e493.setContent(html_7d5ac07f367e1ace88f849d9f07e00de);\n",
       "            \n",
       "        \n",
       "\n",
       "        marker_b9720caf76e8343d2680a187df7e41f9.bindPopup(popup_e87d6a22b0c1d6fc686a695a4559e493)\n",
       "        ;\n",
       "\n",
       "        \n",
       "    \n",
       "    \n",
       "                marker_b9720caf76e8343d2680a187df7e41f9.setIcon(icon_bd2c460289e9752b55be86410d5fe316);\n",
       "            \n",
       "    \n",
       "            var marker_4652c9c2585f752bb05f2534bbe5db1d = L.marker(\n",
       "                [-35.36310266784984, 149.1652241],\n",
       "                {\n",
       "}\n",
       "            ).addTo(map_7d4317d083b20cd85d007bc4af1a6f91);\n",
       "        \n",
       "    \n",
       "            var icon_5351062349376cdce64b70ca182f3c6b = L.AwesomeMarkers.icon(\n",
       "                {\n",
       "  &quot;markerColor&quot;: &quot;green&quot;,\n",
       "  &quot;iconColor&quot;: &quot;white&quot;,\n",
       "  &quot;icon&quot;: &quot;info-sign&quot;,\n",
       "  &quot;prefix&quot;: &quot;glyphicon&quot;,\n",
       "  &quot;extraClasses&quot;: &quot;fa-rotate-0&quot;,\n",
       "}\n",
       "            );\n",
       "        \n",
       "    \n",
       "        var popup_d22e29820bcaa51ef6016f022553276f = L.popup({\n",
       "  &quot;maxWidth&quot;: &quot;100%&quot;,\n",
       "});\n",
       "\n",
       "        \n",
       "            \n",
       "                var html_48927116166903e19777c0e6591a589d = $(`&lt;div id=&quot;html_48927116166903e19777c0e6591a589d&quot; style=&quot;width: 100.0%; height: 100.0%;&quot;&gt;pos_3&lt;/div&gt;`)[0];\n",
       "                popup_d22e29820bcaa51ef6016f022553276f.setContent(html_48927116166903e19777c0e6591a589d);\n",
       "            \n",
       "        \n",
       "\n",
       "        marker_4652c9c2585f752bb05f2534bbe5db1d.bindPopup(popup_d22e29820bcaa51ef6016f022553276f)\n",
       "        ;\n",
       "\n",
       "        \n",
       "    \n",
       "    \n",
       "                marker_4652c9c2585f752bb05f2534bbe5db1d.setIcon(icon_5351062349376cdce64b70ca182f3c6b);\n",
       "            \n",
       "    \n",
       "            var marker_cd9ad72ea7efbe5895f83a5085084596 = L.marker(\n",
       "                [-35.36319280071091, 149.1652241],\n",
       "                {\n",
       "}\n",
       "            ).addTo(map_7d4317d083b20cd85d007bc4af1a6f91);\n",
       "        \n",
       "    \n",
       "            var icon_cdb831bdc59d10d527bfea08e7ab5571 = L.AwesomeMarkers.icon(\n",
       "                {\n",
       "  &quot;markerColor&quot;: &quot;green&quot;,\n",
       "  &quot;iconColor&quot;: &quot;white&quot;,\n",
       "  &quot;icon&quot;: &quot;info-sign&quot;,\n",
       "  &quot;prefix&quot;: &quot;glyphicon&quot;,\n",
       "  &quot;extraClasses&quot;: &quot;fa-rotate-0&quot;,\n",
       "}\n",
       "            );\n",
       "        \n",
       "    \n",
       "        var popup_8a0d14d53570064b637517405ca9dfea = L.popup({\n",
       "  &quot;maxWidth&quot;: &quot;100%&quot;,\n",
       "});\n",
       "\n",
       "        \n",
       "            \n",
       "                var html_ddf9ae8201d07a43b00f288082de4e01 = $(`&lt;div id=&quot;html_ddf9ae8201d07a43b00f288082de4e01&quot; style=&quot;width: 100.0%; height: 100.0%;&quot;&gt;pos_4&lt;/div&gt;`)[0];\n",
       "                popup_8a0d14d53570064b637517405ca9dfea.setContent(html_ddf9ae8201d07a43b00f288082de4e01);\n",
       "            \n",
       "        \n",
       "\n",
       "        marker_cd9ad72ea7efbe5895f83a5085084596.bindPopup(popup_8a0d14d53570064b637517405ca9dfea)\n",
       "        ;\n",
       "\n",
       "        \n",
       "    \n",
       "    \n",
       "                marker_cd9ad72ea7efbe5895f83a5085084596.setIcon(icon_cdb831bdc59d10d527bfea08e7ab5571);\n",
       "            \n",
       "    \n",
       "            var marker_8473eff000b0d3bb91df0ac3a1121c45 = L.marker(\n",
       "                [-35.36328293337028, 149.1654441633003],\n",
       "                {\n",
       "}\n",
       "            ).addTo(map_7d4317d083b20cd85d007bc4af1a6f91);\n",
       "        \n",
       "    \n",
       "            var icon_1861068f14b8c88065c7bb1b5a14be2d = L.AwesomeMarkers.icon(\n",
       "                {\n",
       "  &quot;markerColor&quot;: &quot;black&quot;,\n",
       "  &quot;iconColor&quot;: &quot;white&quot;,\n",
       "  &quot;icon&quot;: &quot;info-sign&quot;,\n",
       "  &quot;prefix&quot;: &quot;glyphicon&quot;,\n",
       "  &quot;extraClasses&quot;: &quot;fa-rotate-0&quot;,\n",
       "}\n",
       "            );\n",
       "        \n",
       "    \n",
       "        var popup_a66061817ac060a95b2d2090747b3121 = L.popup({\n",
       "  &quot;maxWidth&quot;: &quot;100%&quot;,\n",
       "});\n",
       "\n",
       "        \n",
       "            \n",
       "                var html_684ee1672bb88de7a334213e3839f3ae = $(`&lt;div id=&quot;html_684ee1672bb88de7a334213e3839f3ae&quot; style=&quot;width: 100.0%; height: 100.0%;&quot;&gt;pos_0&lt;/div&gt;`)[0];\n",
       "                popup_a66061817ac060a95b2d2090747b3121.setContent(html_684ee1672bb88de7a334213e3839f3ae);\n",
       "            \n",
       "        \n",
       "\n",
       "        marker_8473eff000b0d3bb91df0ac3a1121c45.bindPopup(popup_a66061817ac060a95b2d2090747b3121)\n",
       "        ;\n",
       "\n",
       "        \n",
       "    \n",
       "    \n",
       "                marker_8473eff000b0d3bb91df0ac3a1121c45.setIcon(icon_1861068f14b8c88065c7bb1b5a14be2d);\n",
       "            \n",
       "    \n",
       "            var marker_0eeae78cd0ae974880689314a9aedb70 = L.marker(\n",
       "                [-35.3633279999356, 149.16534887316539],\n",
       "                {\n",
       "}\n",
       "            ).addTo(map_7d4317d083b20cd85d007bc4af1a6f91);\n",
       "        \n",
       "    \n",
       "            var icon_1692624d87464ba1ea1d54b210788831 = L.AwesomeMarkers.icon(\n",
       "                {\n",
       "  &quot;markerColor&quot;: &quot;black&quot;,\n",
       "  &quot;iconColor&quot;: &quot;white&quot;,\n",
       "  &quot;icon&quot;: &quot;info-sign&quot;,\n",
       "  &quot;prefix&quot;: &quot;glyphicon&quot;,\n",
       "  &quot;extraClasses&quot;: &quot;fa-rotate-0&quot;,\n",
       "}\n",
       "            );\n",
       "        \n",
       "    \n",
       "        var popup_c5b6e5cc0a6cfd6c4fa244c27bb9d688 = L.popup({\n",
       "  &quot;maxWidth&quot;: &quot;100%&quot;,\n",
       "});\n",
       "\n",
       "        \n",
       "            \n",
       "                var html_6dc5f1168959ee8f0ae56f6560bcdd81 = $(`&lt;div id=&quot;html_6dc5f1168959ee8f0ae56f6560bcdd81&quot; style=&quot;width: 100.0%; height: 100.0%;&quot;&gt;pos_1&lt;/div&gt;`)[0];\n",
       "                popup_c5b6e5cc0a6cfd6c4fa244c27bb9d688.setContent(html_6dc5f1168959ee8f0ae56f6560bcdd81);\n",
       "            \n",
       "        \n",
       "\n",
       "        marker_0eeae78cd0ae974880689314a9aedb70.bindPopup(popup_c5b6e5cc0a6cfd6c4fa244c27bb9d688)\n",
       "        ;\n",
       "\n",
       "        \n",
       "    \n",
       "    \n",
       "                marker_0eeae78cd0ae974880689314a9aedb70.setIcon(icon_1692624d87464ba1ea1d54b210788831);\n",
       "            \n",
       "    \n",
       "            var marker_29d997bdf714d425d06740d4b788765f = L.marker(\n",
       "                [-35.3632499426343, 149.16529385724257],\n",
       "                {\n",
       "}\n",
       "            ).addTo(map_7d4317d083b20cd85d007bc4af1a6f91);\n",
       "        \n",
       "    \n",
       "            var icon_1142041a4daaec5b208a539960c331aa = L.AwesomeMarkers.icon(\n",
       "                {\n",
       "  &quot;markerColor&quot;: &quot;black&quot;,\n",
       "  &quot;iconColor&quot;: &quot;white&quot;,\n",
       "  &quot;icon&quot;: &quot;info-sign&quot;,\n",
       "  &quot;prefix&quot;: &quot;glyphicon&quot;,\n",
       "  &quot;extraClasses&quot;: &quot;fa-rotate-0&quot;,\n",
       "}\n",
       "            );\n",
       "        \n",
       "    \n",
       "        var popup_14f12b61cdd4e15515e8b96854bc7351 = L.popup({\n",
       "  &quot;maxWidth&quot;: &quot;100%&quot;,\n",
       "});\n",
       "\n",
       "        \n",
       "            \n",
       "                var html_69073b25586e9ae35a3e2e2128b7992a = $(`&lt;div id=&quot;html_69073b25586e9ae35a3e2e2128b7992a&quot; style=&quot;width: 100.0%; height: 100.0%;&quot;&gt;pos_2&lt;/div&gt;`)[0];\n",
       "                popup_14f12b61cdd4e15515e8b96854bc7351.setContent(html_69073b25586e9ae35a3e2e2128b7992a);\n",
       "            \n",
       "        \n",
       "\n",
       "        marker_29d997bdf714d425d06740d4b788765f.bindPopup(popup_14f12b61cdd4e15515e8b96854bc7351)\n",
       "        ;\n",
       "\n",
       "        \n",
       "    \n",
       "    \n",
       "                marker_29d997bdf714d425d06740d4b788765f.setIcon(icon_1142041a4daaec5b208a539960c331aa);\n",
       "            \n",
       "    \n",
       "            var marker_738c00974555d27e3d01641bb5ed5dbb = L.marker(\n",
       "                [-35.36320487611178, 149.16538914731635],\n",
       "                {\n",
       "}\n",
       "            ).addTo(map_7d4317d083b20cd85d007bc4af1a6f91);\n",
       "        \n",
       "    \n",
       "            var icon_b2e8b42e1446fb5669982e004c90ae6d = L.AwesomeMarkers.icon(\n",
       "                {\n",
       "  &quot;markerColor&quot;: &quot;black&quot;,\n",
       "  &quot;iconColor&quot;: &quot;white&quot;,\n",
       "  &quot;icon&quot;: &quot;info-sign&quot;,\n",
       "  &quot;prefix&quot;: &quot;glyphicon&quot;,\n",
       "  &quot;extraClasses&quot;: &quot;fa-rotate-0&quot;,\n",
       "}\n",
       "            );\n",
       "        \n",
       "    \n",
       "        var popup_64d0402b914bfb0ebf5c0dd7b2eecf87 = L.popup({\n",
       "  &quot;maxWidth&quot;: &quot;100%&quot;,\n",
       "});\n",
       "\n",
       "        \n",
       "            \n",
       "                var html_37ef91ec567bd5c755a68501d90f3666 = $(`&lt;div id=&quot;html_37ef91ec567bd5c755a68501d90f3666&quot; style=&quot;width: 100.0%; height: 100.0%;&quot;&gt;pos_3&lt;/div&gt;`)[0];\n",
       "                popup_64d0402b914bfb0ebf5c0dd7b2eecf87.setContent(html_37ef91ec567bd5c755a68501d90f3666);\n",
       "            \n",
       "        \n",
       "\n",
       "        marker_738c00974555d27e3d01641bb5ed5dbb.bindPopup(popup_64d0402b914bfb0ebf5c0dd7b2eecf87)\n",
       "        ;\n",
       "\n",
       "        \n",
       "    \n",
       "    \n",
       "                marker_738c00974555d27e3d01641bb5ed5dbb.setIcon(icon_b2e8b42e1446fb5669982e004c90ae6d);\n",
       "            \n",
       "    \n",
       "            var marker_d8da2233e76ae1142a1c25781e998362 = L.marker(\n",
       "                [-35.36328293337028, 149.1654441633003],\n",
       "                {\n",
       "}\n",
       "            ).addTo(map_7d4317d083b20cd85d007bc4af1a6f91);\n",
       "        \n",
       "    \n",
       "            var icon_eb9d3d21855bdc89fed26d0216fed42b = L.AwesomeMarkers.icon(\n",
       "                {\n",
       "  &quot;markerColor&quot;: &quot;black&quot;,\n",
       "  &quot;iconColor&quot;: &quot;white&quot;,\n",
       "  &quot;icon&quot;: &quot;info-sign&quot;,\n",
       "  &quot;prefix&quot;: &quot;glyphicon&quot;,\n",
       "  &quot;extraClasses&quot;: &quot;fa-rotate-0&quot;,\n",
       "}\n",
       "            );\n",
       "        \n",
       "    \n",
       "        var popup_ddde848d7e15d748fb838423dc7b3bc7 = L.popup({\n",
       "  &quot;maxWidth&quot;: &quot;100%&quot;,\n",
       "});\n",
       "\n",
       "        \n",
       "            \n",
       "                var html_9c4cca2533c25656ad295502e215840a = $(`&lt;div id=&quot;html_9c4cca2533c25656ad295502e215840a&quot; style=&quot;width: 100.0%; height: 100.0%;&quot;&gt;pos_4&lt;/div&gt;`)[0];\n",
       "                popup_ddde848d7e15d748fb838423dc7b3bc7.setContent(html_9c4cca2533c25656ad295502e215840a);\n",
       "            \n",
       "        \n",
       "\n",
       "        marker_d8da2233e76ae1142a1c25781e998362.bindPopup(popup_ddde848d7e15d748fb838423dc7b3bc7)\n",
       "        ;\n",
       "\n",
       "        \n",
       "    \n",
       "    \n",
       "                marker_d8da2233e76ae1142a1c25781e998362.setIcon(icon_eb9d3d21855bdc89fed26d0216fed42b);\n",
       "            \n",
       "    \n",
       "            var marker_5766c8d52ec90b18d9ffce99fcd6d6f9 = L.marker(\n",
       "                [-35.363463199173374, 149.1653891478421],\n",
       "                {\n",
       "}\n",
       "            ).addTo(map_7d4317d083b20cd85d007bc4af1a6f91);\n",
       "        \n",
       "    \n",
       "            var icon_f13d4787218d4d8a12aa050fa34edca1 = L.AwesomeMarkers.icon(\n",
       "                {\n",
       "  &quot;markerColor&quot;: &quot;orange&quot;,\n",
       "  &quot;iconColor&quot;: &quot;white&quot;,\n",
       "  &quot;icon&quot;: &quot;info-sign&quot;,\n",
       "  &quot;prefix&quot;: &quot;glyphicon&quot;,\n",
       "  &quot;extraClasses&quot;: &quot;fa-rotate-0&quot;,\n",
       "}\n",
       "            );\n",
       "        \n",
       "    \n",
       "        var popup_3931b20563adc3eeb4b6169742459764 = L.popup({\n",
       "  &quot;maxWidth&quot;: &quot;100%&quot;,\n",
       "});\n",
       "\n",
       "        \n",
       "            \n",
       "                var html_65f72aca82dcde8ee94f6b0b016d5ae7 = $(`&lt;div id=&quot;html_65f72aca82dcde8ee94f6b0b016d5ae7&quot; style=&quot;width: 100.0%; height: 100.0%;&quot;&gt;pos_0&lt;/div&gt;`)[0];\n",
       "                popup_3931b20563adc3eeb4b6169742459764.setContent(html_65f72aca82dcde8ee94f6b0b016d5ae7);\n",
       "            \n",
       "        \n",
       "\n",
       "        marker_5766c8d52ec90b18d9ffce99fcd6d6f9.bindPopup(popup_3931b20563adc3eeb4b6169742459764)\n",
       "        ;\n",
       "\n",
       "        \n",
       "    \n",
       "    \n",
       "                marker_5766c8d52ec90b18d9ffce99fcd6d6f9.setIcon(icon_f13d4787218d4d8a12aa050fa34edca1);\n",
       "            \n",
       "    \n",
       "            var marker_6e7c3dfce181a26d034a0075b8a17517 = L.marker(\n",
       "                [-35.36346319927354, 149.16527911594736],\n",
       "                {\n",
       "}\n",
       "            ).addTo(map_7d4317d083b20cd85d007bc4af1a6f91);\n",
       "        \n",
       "    \n",
       "            var icon_837ec44fd0c20bfc4de4aa39f19239fe = L.AwesomeMarkers.icon(\n",
       "                {\n",
       "  &quot;markerColor&quot;: &quot;orange&quot;,\n",
       "  &quot;iconColor&quot;: &quot;white&quot;,\n",
       "  &quot;icon&quot;: &quot;info-sign&quot;,\n",
       "  &quot;prefix&quot;: &quot;glyphicon&quot;,\n",
       "  &quot;extraClasses&quot;: &quot;fa-rotate-0&quot;,\n",
       "}\n",
       "            );\n",
       "        \n",
       "    \n",
       "        var popup_63ddf851417af463a21d04fe24471030 = L.popup({\n",
       "  &quot;maxWidth&quot;: &quot;100%&quot;,\n",
       "});\n",
       "\n",
       "        \n",
       "            \n",
       "                var html_8160535100d4f6541bb4d2754442b187 = $(`&lt;div id=&quot;html_8160535100d4f6541bb4d2754442b187&quot; style=&quot;width: 100.0%; height: 100.0%;&quot;&gt;pos_1&lt;/div&gt;`)[0];\n",
       "                popup_63ddf851417af463a21d04fe24471030.setContent(html_8160535100d4f6541bb4d2754442b187);\n",
       "            \n",
       "        \n",
       "\n",
       "        marker_6e7c3dfce181a26d034a0075b8a17517.bindPopup(popup_63ddf851417af463a21d04fe24471030)\n",
       "        ;\n",
       "\n",
       "        \n",
       "    \n",
       "    \n",
       "                marker_6e7c3dfce181a26d034a0075b8a17517.setIcon(icon_837ec44fd0c20bfc4de4aa39f19239fe);\n",
       "            \n",
       "    \n",
       "            var marker_fb0afbe24289d91ae919aabeabd82b9b = L.marker(\n",
       "                [-35.36337306641651, 149.16527911588622],\n",
       "                {\n",
       "}\n",
       "            ).addTo(map_7d4317d083b20cd85d007bc4af1a6f91);\n",
       "        \n",
       "    \n",
       "            var icon_5495ddeef7457c764407b31fd6752e79 = L.AwesomeMarkers.icon(\n",
       "                {\n",
       "  &quot;markerColor&quot;: &quot;orange&quot;,\n",
       "  &quot;iconColor&quot;: &quot;white&quot;,\n",
       "  &quot;icon&quot;: &quot;info-sign&quot;,\n",
       "  &quot;prefix&quot;: &quot;glyphicon&quot;,\n",
       "  &quot;extraClasses&quot;: &quot;fa-rotate-0&quot;,\n",
       "}\n",
       "            );\n",
       "        \n",
       "    \n",
       "        var popup_42f06191914c0bc454a12c8a41b6e76e = L.popup({\n",
       "  &quot;maxWidth&quot;: &quot;100%&quot;,\n",
       "});\n",
       "\n",
       "        \n",
       "            \n",
       "                var html_02e9080387ca63ad7176d5c450f60e41 = $(`&lt;div id=&quot;html_02e9080387ca63ad7176d5c450f60e41&quot; style=&quot;width: 100.0%; height: 100.0%;&quot;&gt;pos_2&lt;/div&gt;`)[0];\n",
       "                popup_42f06191914c0bc454a12c8a41b6e76e.setContent(html_02e9080387ca63ad7176d5c450f60e41);\n",
       "            \n",
       "        \n",
       "\n",
       "        marker_fb0afbe24289d91ae919aabeabd82b9b.bindPopup(popup_42f06191914c0bc454a12c8a41b6e76e)\n",
       "        ;\n",
       "\n",
       "        \n",
       "    \n",
       "    \n",
       "                marker_fb0afbe24289d91ae919aabeabd82b9b.setIcon(icon_5495ddeef7457c764407b31fd6752e79);\n",
       "            \n",
       "    \n",
       "            var marker_a9186e485a0be8f2eb39e1db0d85fad0 = L.marker(\n",
       "                [-35.36337306631632, 149.16538914765866],\n",
       "                {\n",
       "}\n",
       "            ).addTo(map_7d4317d083b20cd85d007bc4af1a6f91);\n",
       "        \n",
       "    \n",
       "            var icon_64be6a7cf1a6f0909f82ac45a3d00723 = L.AwesomeMarkers.icon(\n",
       "                {\n",
       "  &quot;markerColor&quot;: &quot;orange&quot;,\n",
       "  &quot;iconColor&quot;: &quot;white&quot;,\n",
       "  &quot;icon&quot;: &quot;info-sign&quot;,\n",
       "  &quot;prefix&quot;: &quot;glyphicon&quot;,\n",
       "  &quot;extraClasses&quot;: &quot;fa-rotate-0&quot;,\n",
       "}\n",
       "            );\n",
       "        \n",
       "    \n",
       "        var popup_a2802d9f65c4b222cda73038460e8fe8 = L.popup({\n",
       "  &quot;maxWidth&quot;: &quot;100%&quot;,\n",
       "});\n",
       "\n",
       "        \n",
       "            \n",
       "                var html_f69318bf39a82fa920df92a19cc1d8d8 = $(`&lt;div id=&quot;html_f69318bf39a82fa920df92a19cc1d8d8&quot; style=&quot;width: 100.0%; height: 100.0%;&quot;&gt;pos_3&lt;/div&gt;`)[0];\n",
       "                popup_a2802d9f65c4b222cda73038460e8fe8.setContent(html_f69318bf39a82fa920df92a19cc1d8d8);\n",
       "            \n",
       "        \n",
       "\n",
       "        marker_a9186e485a0be8f2eb39e1db0d85fad0.bindPopup(popup_a2802d9f65c4b222cda73038460e8fe8)\n",
       "        ;\n",
       "\n",
       "        \n",
       "    \n",
       "    \n",
       "                marker_a9186e485a0be8f2eb39e1db0d85fad0.setIcon(icon_64be6a7cf1a6f0909f82ac45a3d00723);\n",
       "            \n",
       "    \n",
       "            var marker_0e306553e3547b62acd0a9e2f2163b26 = L.marker(\n",
       "                [-35.363463199173374, 149.1653891478421],\n",
       "                {\n",
       "}\n",
       "            ).addTo(map_7d4317d083b20cd85d007bc4af1a6f91);\n",
       "        \n",
       "    \n",
       "            var icon_35dc9427464230ba8e40f176381e9bee = L.AwesomeMarkers.icon(\n",
       "                {\n",
       "  &quot;markerColor&quot;: &quot;orange&quot;,\n",
       "  &quot;iconColor&quot;: &quot;white&quot;,\n",
       "  &quot;icon&quot;: &quot;info-sign&quot;,\n",
       "  &quot;prefix&quot;: &quot;glyphicon&quot;,\n",
       "  &quot;extraClasses&quot;: &quot;fa-rotate-0&quot;,\n",
       "}\n",
       "            );\n",
       "        \n",
       "    \n",
       "        var popup_e5f6555e4149ea327e706ee812252b57 = L.popup({\n",
       "  &quot;maxWidth&quot;: &quot;100%&quot;,\n",
       "});\n",
       "\n",
       "        \n",
       "            \n",
       "                var html_5cebbd70449e664aa51e2bd607228a83 = $(`&lt;div id=&quot;html_5cebbd70449e664aa51e2bd607228a83&quot; style=&quot;width: 100.0%; height: 100.0%;&quot;&gt;pos_4&lt;/div&gt;`)[0];\n",
       "                popup_e5f6555e4149ea327e706ee812252b57.setContent(html_5cebbd70449e664aa51e2bd607228a83);\n",
       "            \n",
       "        \n",
       "\n",
       "        marker_0e306553e3547b62acd0a9e2f2163b26.bindPopup(popup_e5f6555e4149ea327e706ee812252b57)\n",
       "        ;\n",
       "\n",
       "        \n",
       "    \n",
       "    \n",
       "                marker_0e306553e3547b62acd0a9e2f2163b26.setIcon(icon_35dc9427464230ba8e40f176381e9bee);\n",
       "            \n",
       "    \n",
       "            var marker_ee6ea83fca65cad1e80d0742f683f571 = L.marker(\n",
       "                [-35.36346319928606, 149.1652241],\n",
       "                {\n",
       "}\n",
       "            ).addTo(map_7d4317d083b20cd85d007bc4af1a6f91);\n",
       "        \n",
       "    \n",
       "            var icon_12edde0f0a1785fde84f2b59a74534fd = L.AwesomeMarkers.icon(\n",
       "                {\n",
       "  &quot;markerColor&quot;: &quot;red&quot;,\n",
       "  &quot;iconColor&quot;: &quot;white&quot;,\n",
       "  &quot;icon&quot;: &quot;info-sign&quot;,\n",
       "  &quot;prefix&quot;: &quot;glyphicon&quot;,\n",
       "  &quot;extraClasses&quot;: &quot;fa-rotate-0&quot;,\n",
       "}\n",
       "            );\n",
       "        \n",
       "    \n",
       "        var popup_720175db7b1669fb3343158c54f8f713 = L.popup({\n",
       "  &quot;maxWidth&quot;: &quot;100%&quot;,\n",
       "});\n",
       "\n",
       "        \n",
       "            \n",
       "                var html_3001fa095f94e80a5183f123939b42a6 = $(`&lt;div id=&quot;html_3001fa095f94e80a5183f123939b42a6&quot; style=&quot;width: 100.0%; height: 100.0%;&quot;&gt;pos_0&lt;/div&gt;`)[0];\n",
       "                popup_720175db7b1669fb3343158c54f8f713.setContent(html_3001fa095f94e80a5183f123939b42a6);\n",
       "            \n",
       "        \n",
       "\n",
       "        marker_ee6ea83fca65cad1e80d0742f683f571.bindPopup(popup_720175db7b1669fb3343158c54f8f713)\n",
       "        ;\n",
       "\n",
       "        \n",
       "    \n",
       "    \n",
       "                marker_ee6ea83fca65cad1e80d0742f683f571.setIcon(icon_12edde0f0a1785fde84f2b59a74534fd);\n",
       "            \n",
       "    \n",
       "            var marker_3ed61cd635b7dd2326471b9e3c842450 = L.marker(\n",
       "                [-35.36352693281463, 149.16514629563994],\n",
       "                {\n",
       "}\n",
       "            ).addTo(map_7d4317d083b20cd85d007bc4af1a6f91);\n",
       "        \n",
       "    \n",
       "            var icon_c9511613ba94d85baf98b9b2bf0297f2 = L.AwesomeMarkers.icon(\n",
       "                {\n",
       "  &quot;markerColor&quot;: &quot;red&quot;,\n",
       "  &quot;iconColor&quot;: &quot;white&quot;,\n",
       "  &quot;icon&quot;: &quot;info-sign&quot;,\n",
       "  &quot;prefix&quot;: &quot;glyphicon&quot;,\n",
       "  &quot;extraClasses&quot;: &quot;fa-rotate-0&quot;,\n",
       "}\n",
       "            );\n",
       "        \n",
       "    \n",
       "        var popup_0e719cd35ce20a1c211d8b25230e8f01 = L.popup({\n",
       "  &quot;maxWidth&quot;: &quot;100%&quot;,\n",
       "});\n",
       "\n",
       "        \n",
       "            \n",
       "                var html_26ab543e273eb60d2446462f45f7d913 = $(`&lt;div id=&quot;html_26ab543e273eb60d2446462f45f7d913&quot; style=&quot;width: 100.0%; height: 100.0%;&quot;&gt;pos_1&lt;/div&gt;`)[0];\n",
       "                popup_0e719cd35ce20a1c211d8b25230e8f01.setContent(html_26ab543e273eb60d2446462f45f7d913);\n",
       "            \n",
       "        \n",
       "\n",
       "        marker_3ed61cd635b7dd2326471b9e3c842450.bindPopup(popup_0e719cd35ce20a1c211d8b25230e8f01)\n",
       "        ;\n",
       "\n",
       "        \n",
       "    \n",
       "    \n",
       "                marker_3ed61cd635b7dd2326471b9e3c842450.setIcon(icon_c9511613ba94d85baf98b9b2bf0297f2);\n",
       "            \n",
       "    \n",
       "            var marker_ac515b8cf01c2e6c94912fcd31cbfecb = L.marker(\n",
       "                [-35.36346319918589, 149.16506849140217],\n",
       "                {\n",
       "}\n",
       "            ).addTo(map_7d4317d083b20cd85d007bc4af1a6f91);\n",
       "        \n",
       "    \n",
       "            var icon_01fce9f8f541d4942ab091806b12f8dc = L.AwesomeMarkers.icon(\n",
       "                {\n",
       "  &quot;markerColor&quot;: &quot;red&quot;,\n",
       "  &quot;iconColor&quot;: &quot;white&quot;,\n",
       "  &quot;icon&quot;: &quot;info-sign&quot;,\n",
       "  &quot;prefix&quot;: &quot;glyphicon&quot;,\n",
       "  &quot;extraClasses&quot;: &quot;fa-rotate-0&quot;,\n",
       "}\n",
       "            );\n",
       "        \n",
       "    \n",
       "        var popup_89b724dbe5bf77a28f9af8902909ae2e = L.popup({\n",
       "  &quot;maxWidth&quot;: &quot;100%&quot;,\n",
       "});\n",
       "\n",
       "        \n",
       "            \n",
       "                var html_d012ca0956d028e5020bcb813246300e = $(`&lt;div id=&quot;html_d012ca0956d028e5020bcb813246300e&quot; style=&quot;width: 100.0%; height: 100.0%;&quot;&gt;pos_2&lt;/div&gt;`)[0];\n",
       "                popup_89b724dbe5bf77a28f9af8902909ae2e.setContent(html_d012ca0956d028e5020bcb813246300e);\n",
       "            \n",
       "        \n",
       "\n",
       "        marker_ac515b8cf01c2e6c94912fcd31cbfecb.bindPopup(popup_89b724dbe5bf77a28f9af8902909ae2e)\n",
       "        ;\n",
       "\n",
       "        \n",
       "    \n",
       "    \n",
       "                marker_ac515b8cf01c2e6c94912fcd31cbfecb.setIcon(icon_01fce9f8f541d4942ab091806b12f8dc);\n",
       "            \n",
       "    \n",
       "            var marker_75b7dbd9f417503f5dbd6c22ab021640 = L.marker(\n",
       "                [-35.36339946570675, 149.1651462957622],\n",
       "                {\n",
       "}\n",
       "            ).addTo(map_7d4317d083b20cd85d007bc4af1a6f91);\n",
       "        \n",
       "    \n",
       "            var icon_37e9be2320bb032d860e66f16a672d94 = L.AwesomeMarkers.icon(\n",
       "                {\n",
       "  &quot;markerColor&quot;: &quot;red&quot;,\n",
       "  &quot;iconColor&quot;: &quot;white&quot;,\n",
       "  &quot;icon&quot;: &quot;info-sign&quot;,\n",
       "  &quot;prefix&quot;: &quot;glyphicon&quot;,\n",
       "  &quot;extraClasses&quot;: &quot;fa-rotate-0&quot;,\n",
       "}\n",
       "            );\n",
       "        \n",
       "    \n",
       "        var popup_708ca16c6ed6e66efdeac2d0a474fff1 = L.popup({\n",
       "  &quot;maxWidth&quot;: &quot;100%&quot;,\n",
       "});\n",
       "\n",
       "        \n",
       "            \n",
       "                var html_70bc1b6efee515fc5ee99116a4e0399d = $(`&lt;div id=&quot;html_70bc1b6efee515fc5ee99116a4e0399d&quot; style=&quot;width: 100.0%; height: 100.0%;&quot;&gt;pos_3&lt;/div&gt;`)[0];\n",
       "                popup_708ca16c6ed6e66efdeac2d0a474fff1.setContent(html_70bc1b6efee515fc5ee99116a4e0399d);\n",
       "            \n",
       "        \n",
       "\n",
       "        marker_75b7dbd9f417503f5dbd6c22ab021640.bindPopup(popup_708ca16c6ed6e66efdeac2d0a474fff1)\n",
       "        ;\n",
       "\n",
       "        \n",
       "    \n",
       "    \n",
       "                marker_75b7dbd9f417503f5dbd6c22ab021640.setIcon(icon_37e9be2320bb032d860e66f16a672d94);\n",
       "            \n",
       "    \n",
       "            var marker_7fdb709b254c68d1a073d7713e07eff7 = L.marker(\n",
       "                [-35.36346319928606, 149.1652241],\n",
       "                {\n",
       "}\n",
       "            ).addTo(map_7d4317d083b20cd85d007bc4af1a6f91);\n",
       "        \n",
       "    \n",
       "            var icon_abc8b522ee00bd8abd74491c5716da5c = L.AwesomeMarkers.icon(\n",
       "                {\n",
       "  &quot;markerColor&quot;: &quot;red&quot;,\n",
       "  &quot;iconColor&quot;: &quot;white&quot;,\n",
       "  &quot;icon&quot;: &quot;info-sign&quot;,\n",
       "  &quot;prefix&quot;: &quot;glyphicon&quot;,\n",
       "  &quot;extraClasses&quot;: &quot;fa-rotate-0&quot;,\n",
       "}\n",
       "            );\n",
       "        \n",
       "    \n",
       "        var popup_d50a67f45e2efd7000c34870d490067f = L.popup({\n",
       "  &quot;maxWidth&quot;: &quot;100%&quot;,\n",
       "});\n",
       "\n",
       "        \n",
       "            \n",
       "                var html_32c9e251bbd769b482375a3b4af75838 = $(`&lt;div id=&quot;html_32c9e251bbd769b482375a3b4af75838&quot; style=&quot;width: 100.0%; height: 100.0%;&quot;&gt;pos_4&lt;/div&gt;`)[0];\n",
       "                popup_d50a67f45e2efd7000c34870d490067f.setContent(html_32c9e251bbd769b482375a3b4af75838);\n",
       "            \n",
       "        \n",
       "\n",
       "        marker_7fdb709b254c68d1a073d7713e07eff7.bindPopup(popup_d50a67f45e2efd7000c34870d490067f)\n",
       "        ;\n",
       "\n",
       "        \n",
       "    \n",
       "    \n",
       "                marker_7fdb709b254c68d1a073d7713e07eff7.setIcon(icon_abc8b522ee00bd8abd74491c5716da5c);\n",
       "            \n",
       "    \n",
       "            var marker_1f264ea9ce8c9b59dfd3977dae4c72f9 = L.marker(\n",
       "                [-35.363328, 149.1652241],\n",
       "                {\n",
       "}\n",
       "            ).addTo(map_7d4317d083b20cd85d007bc4af1a6f91);\n",
       "        \n",
       "    \n",
       "            var icon_7024144f0756f9c4c7a395c94d17a6b2 = L.AwesomeMarkers.icon(\n",
       "                {\n",
       "  &quot;markerColor&quot;: &quot;white&quot;,\n",
       "  &quot;iconColor&quot;: &quot;white&quot;,\n",
       "  &quot;icon&quot;: &quot;info-sign&quot;,\n",
       "  &quot;prefix&quot;: &quot;glyphicon&quot;,\n",
       "  &quot;extraClasses&quot;: &quot;fa-rotate-0&quot;,\n",
       "}\n",
       "            );\n",
       "        \n",
       "    \n",
       "        var popup_6132172c949cf1626faac3676756a557 = L.popup({\n",
       "  &quot;maxWidth&quot;: &quot;100%&quot;,\n",
       "});\n",
       "\n",
       "        \n",
       "            \n",
       "                var html_7337bcfc9de3217adbb1f97c9d39e4e4 = $(`&lt;div id=&quot;html_7337bcfc9de3217adbb1f97c9d39e4e4&quot; style=&quot;width: 100.0%; height: 100.0%;&quot;&gt;Origin&lt;/div&gt;`)[0];\n",
       "                popup_6132172c949cf1626faac3676756a557.setContent(html_7337bcfc9de3217adbb1f97c9d39e4e4);\n",
       "            \n",
       "        \n",
       "\n",
       "        marker_1f264ea9ce8c9b59dfd3977dae4c72f9.bindPopup(popup_6132172c949cf1626faac3676756a557)\n",
       "        ;\n",
       "\n",
       "        \n",
       "    \n",
       "    \n",
       "                marker_1f264ea9ce8c9b59dfd3977dae4c72f9.setIcon(icon_7024144f0756f9c4c7a395c94d17a6b2);\n",
       "            \n",
       "&lt;/script&gt;\n",
       "&lt;/html&gt;\" style=\"position:absolute;width:100%;height:100%;left:0;top:0;border:none !important;\" allowfullscreen webkitallowfullscreen mozallowfullscreen></iframe></div></div>"
      ],
      "text/plain": [
       "<folium.folium.Map at 0x7f1d31ae2cd0>"
      ]
     },
     "metadata": {},
     "output_type": "display_data"
    }
   ],
   "source": [
    "qgc_config = ConfigQGC(origin = gra_origin)\n",
    "\n",
    "for path,home,color,delay in zip(base_paths,base_homes,colors,msn_delays):\n",
    "    qgc_config.add(base_path=path,base_home=home,color=color,mission_delay=delay)\n",
    "qgc_config.show()\n",
    "\n",
    "qgc=QGC(qgc_config)"
   ]
  },
  {
   "cell_type": "markdown",
   "metadata": {},
   "source": [
    "## No Visualizer"
   ]
  },
  {
   "cell_type": "code",
   "execution_count": 6,
   "metadata": {},
   "outputs": [],
   "source": [
    "novis_config = ConfigNovis(origin=gra_origin)\n",
    "for home in base_homes:\n",
    "    novis_config.add(base_home=home)\n",
    "    \n",
    "novis=NoVisualizer(novis_config)"
   ]
  },
  {
   "cell_type": "markdown",
   "metadata": {},
   "source": [
    "## Launch Simulation\n",
    "\n",
    "**Here we configure the simulation:**\n",
    "* **visualizers**: Select the desired visualizer for the simulation (only one visualizer at a time is currently supported).    \n",
    "* **missions**: List of missions for each UAV. Although advanced, customized missions can be built using the `Mission` class defined in the QGroundControl configuration script, here we use the QGroundControl configuration builder for simplicity.  \n",
    "* **terminals**: Processes to display in the terminal. The available processes are defined in the `sim.py` script: `[\"launcher\", \"veh\", \"logic\", \"proxy\", \"gcs\"]`.  \n",
    "* **suppress_output**: Processes whose output should be suppressed. The available processes are defined in the `sim.py` script: `[\"launcher\", \"veh\", \"logic\", \"proxy\", \"gcs\"]`.  \n",
    "* **verbose**: Verbosity level (0 = no information, 1 = normal information, 2 = include debugging information).  \n",
    "* **other arguments**: More advanced options that allow further customization.  \n"
   ]
  },
  {
   "cell_type": "code",
   "execution_count": 7,
   "metadata": {},
   "outputs": [
    {
     "data": {
      "text/plain": [
       "[QGCVehicle(home=GRAPose(lat=np.float64(-35.36332799988731), lon=np.float64(149.1650590523038), alt=np.float64(1.761881245894283e-05), heading=90.0), mission=Mission(traj=[QGCWP(pos=GRA(lat=np.float64(-35.363327999887304), lon=np.float64(149.16505905243307), alt=np.float64(5.000017619074236)), color=blue), QGCWP(pos=GRA(lat=np.float64(-35.36332799968695), lon=np.float64(149.16494902072176), alt=np.float64(5.000048941255045)), color=blue), QGCWP(pos=GRA(lat=np.float64(-35.363237866827895), lon=np.float64(149.1649490210275), alt=np.float64(5.000056806796053)), color=blue), QGCWP(pos=GRA(lat=np.float64(-35.363237867028246), lon=np.float64(149.1650590526165), alt=np.float64(5.000025484076233)), color=blue), QGCWP(pos=GRA(lat=np.float64(-35.363327999887304), lon=np.float64(149.16505905243307), alt=np.float64(5.000017619074236)), color=blue)], delay=0, n_items=7)),\n",
       " QGCVehicle(home=GRAPose(lat=np.float64(-35.36319280060458), lon=np.float64(149.1652241), alt=np.float64(1.7697898478799932e-05), heading=90), mission=Mission(traj=[QGCWP(pos=GRA(lat=np.float64(-35.36319280071091), lon=np.float64(149.1652241), alt=np.float64(5.000017697971329)), color=green), QGCWP(pos=GRA(lat=np.float64(-35.363192800660826), lon=np.float64(149.16511406847215), alt=np.float64(5.000025528639029)), color=green), QGCWP(pos=GRA(lat=np.float64(-35.36310266779976), lon=np.float64(149.16511406859445), alt=np.float64(5.000056990890237)), color=green), QGCWP(pos=GRA(lat=np.float64(-35.36310266784984), lon=np.float64(149.1652241), alt=np.float64(5.000049161251535)), color=green), QGCWP(pos=GRA(lat=np.float64(-35.36319280071091), lon=np.float64(149.1652241), alt=np.float64(5.000017697971329)), color=green)], delay=1, n_items=8)),\n",
       " QGCVehicle(home=GRAPose(lat=np.float64(-35.363282933334844), lon=np.float64(149.1654441634726), alt=np.float64(3.3288698364427746e-05), heading=120.0), mission=Mission(traj=[QGCWP(pos=GRA(lat=np.float64(-35.36328293337028), lon=np.float64(149.1654441633003), alt=np.float64(5.000033289343253)), color=black), QGCWP(pos=GRA(lat=np.float64(-35.3633279999356), lon=np.float64(149.16534887316539), alt=np.float64(5.000010069299115)), color=black), QGCWP(pos=GRA(lat=np.float64(-35.3632499426343), lon=np.float64(149.16529385724257), alt=np.float64(5.0000090470114955)), color=black), QGCWP(pos=GRA(lat=np.float64(-35.36320487611178), lon=np.float64(149.16538914731635), alt=np.float64(5.000032296509994)), color=black), QGCWP(pos=GRA(lat=np.float64(-35.36328293337028), lon=np.float64(149.1654441633003), alt=np.float64(5.000033289343253)), color=black)], delay=2, n_items=8)),\n",
       " QGCVehicle(home=GRAPose(lat=np.float64(-35.36346319927971), lon=np.float64(149.16538914797133), alt=np.float64(3.5317739937011295e-05), heading=90), mission=Mission(traj=[QGCWP(pos=GRA(lat=np.float64(-35.363463199173374), lon=np.float64(149.1653891478421), alt=np.float64(5.000035315621479)), color=orange), QGCWP(pos=GRA(lat=np.float64(-35.36346319927354), lon=np.float64(149.16527911594736), alt=np.float64(5.000019655854094)), color=orange), QGCWP(pos=GRA(lat=np.float64(-35.36337306641651), lon=np.float64(149.16527911588622), alt=np.float64(5.000003924905377)), color=orange), QGCWP(pos=GRA(lat=np.float64(-35.36337306631632), lon=np.float64(149.16538914765866), alt=np.float64(5.000019585260803)), color=orange), QGCWP(pos=GRA(lat=np.float64(-35.363463199173374), lon=np.float64(149.1653891478421), alt=np.float64(5.000035315621479)), color=orange)], delay=3, n_items=8)),\n",
       " QGCVehicle(home=GRAPose(lat=np.float64(-35.3634631993924), lon=np.float64(149.1652241), alt=np.float64(1.76994664927428e-05), heading=135), mission=Mission(traj=[QGCWP(pos=GRA(lat=np.float64(-35.36346319928606), lon=np.float64(149.1652241), alt=np.float64(5.000017698107535)), color=red), QGCWP(pos=GRA(lat=np.float64(-35.36352693281463), lon=np.float64(149.16514629563994), alt=np.float64(5.00004223148573)), color=red), QGCWP(pos=GRA(lat=np.float64(-35.36346319918589), lon=np.float64(149.16506849140217), alt=np.float64(5.000033359932915)), color=red), QGCWP(pos=GRA(lat=np.float64(-35.36339946570675), lon=np.float64(149.1651462957622), alt=np.float64(5.000008861203927)), color=red), QGCWP(pos=GRA(lat=np.float64(-35.36346319928606), lon=np.float64(149.1652241), alt=np.float64(5.000017698107535)), color=red)], delay=4, n_items=8))]"
      ]
     },
     "execution_count": 7,
     "metadata": {},
     "output_type": "execute_result"
    }
   ],
   "source": [
    "qgc_config.vehicles"
   ]
  },
  {
   "cell_type": "code",
   "execution_count": 8,
   "metadata": {},
   "outputs": [
    {
     "name": "stderr",
     "output_type": "stream",
     "text": [
      "18:38:43 - Oracle ⚪ - INFO - 🚀 GCS multicolor launched (PID 2885099)\n",
      "18:38:43 - Oracle ⚪ - INFO - 🗺️  QGroundControl launched for 2D visualization — simulation powered by ArduPilot SITL.\n"
     ]
    }
   ],
   "source": [
    "simulator = Simulator(\n",
    "    gra_origin=gra_origin,\n",
    "\tvisualizers=[qgc],\n",
    "\tgcs_system_ids={'multicolor':[1,2,3,4,5]},\n",
    "\tmissions=[veh.mission for veh in qgc_config.vehicles],\n",
    "\tterminals=['gcs'],\n",
    "\tverbose=1,\n",
    ")\n",
    "orac = simulator.launch()"
   ]
  },
  {
   "cell_type": "markdown",
   "metadata": {},
   "source": [
    "## Oracle checking"
   ]
  },
  {
   "cell_type": "code",
   "execution_count": 9,
   "metadata": {},
   "outputs": [
    {
     "name": "stderr",
     "output_type": "stream",
     "text": [
      "18:38:43 - Oracle ⚪ - INFO - 🏁 Starting Oracle with 5 vehicles and 1 GCSs\n",
      "18:38:43 - Oracle ⚪ - INFO - ✅ All background threads started\n",
      "18:40:08 - Oracle ⚪ - INFO - Received DONE from UAV 1\n",
      "18:40:08 - Oracle ⚪ - INFO - Received DONE from UAV 2\n",
      "18:40:08 - Oracle ⚪ - INFO - Received DONE from UAV 3\n",
      "18:40:09 - Oracle ⚪ - INFO - Received DONE from UAV 4\n",
      "18:40:10 - Oracle ⚪ - INFO - Received DONE from GCS multicolor\n",
      "18:40:10 - Oracle ⚪ - INFO - Received DONE from UAV 5\n",
      "18:40:10 - Oracle ⚪ - ERROR - Retransmit error for 5: sysid 5 not found in grid\n",
      "18:40:10 - Oracle ⚪ - INFO - ✅ All GCS threads completed\n",
      "18:40:10 - Oracle ⚪ - INFO - 🎉 Oracle shutdown complete!\n"
     ]
    }
   ],
   "source": [
    "orac.run()"
   ]
  }
 ],
 "metadata": {
  "kernelspec": {
   "display_name": "uav-cyber-sim11",
   "language": "python",
   "name": "python3"
  },
  "language_info": {
   "codemirror_mode": {
    "name": "ipython",
    "version": 3
   },
   "file_extension": ".py",
   "mimetype": "text/x-python",
   "name": "python",
   "nbconvert_exporter": "python",
   "pygments_lexer": "ipython3",
   "version": "3.11.13"
  }
 },
 "nbformat": 4,
 "nbformat_minor": 2
}
