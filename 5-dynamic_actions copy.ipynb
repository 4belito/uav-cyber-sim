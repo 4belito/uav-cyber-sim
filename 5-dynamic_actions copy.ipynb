{
 "cells": [
  {
   "cell_type": "markdown",
   "metadata": {},
   "source": [
    "## Dynamic Plans\n",
    "\n",
    "Here, instead of a predefined plan, vehicles take decisions online following a minimization distance rule. Only a goal is predefined."
   ]
  },
  {
   "cell_type": "code",
   "execution_count": 1,
   "metadata": {},
   "outputs": [],
   "source": [
    "import os\n",
    "import subprocess\n",
    "import numpy as np\n",
    "\n",
    "\n",
    "# Custom modules\n",
    "from vehicle_logic import VehicleLogic\n",
    "from helpers.change_coordinates import heading_to_yaw,find_spawns,global2local\n",
    "from helpers.visualization.gazebo_world import update_world\n",
    "from helpers.math import manhattan_distance\n",
    "from helpers.navegation_logic import find_path,find_best_waypoint\n",
    "from helpers.visualization.plots import plot_3d_interactive\n",
    "from gcs import GCS\n"
   ]
  },
  {
   "cell_type": "markdown",
   "metadata": {},
   "source": [
    "Kill all related process"
   ]
  },
  {
   "cell_type": "code",
   "execution_count": 2,
   "metadata": {},
   "outputs": [],
   "source": [
    "for process in [\"QGroundControl\", \"sim_vehicle.py\", \"arducopter\", \"gazebo\", \"mavproxy\"]:\n",
    "    os.system(f\"pkill -9 -f {process}\")"
   ]
  },
  {
   "cell_type": "markdown",
   "metadata": {},
   "source": [
    "Paths"
   ]
  },
  {
   "cell_type": "code",
   "execution_count": 3,
   "metadata": {},
   "outputs": [],
   "source": [
    "QGC_path='~/QGroundControl.AppImage'\n",
    "gazebo_word_path=\"gazebo_worlds/small_city.world\"\n",
    "ardupilot_vehicle_path='~/ardupilot/Tools/autotest/sim_vehicle.py'"
   ]
  },
  {
   "cell_type": "markdown",
   "metadata": {},
   "source": [
    "# Choose Simulator"
   ]
  },
  {
   "cell_type": "code",
   "execution_count": 4,
   "metadata": {},
   "outputs": [],
   "source": [
    "simulator ='gazebo' # 'QGroundControl' #"
   ]
  },
  {
   "cell_type": "markdown",
   "metadata": {},
   "source": [
    "## Gonfiguration"
   ]
  },
  {
   "cell_type": "code",
   "execution_count": 5,
   "metadata": {},
   "outputs": [
    {
     "data": {
      "application/vnd.plotly.v1+json": {
       "config": {
        "plotlyServerURL": "https://plot.ly"
       },
       "data": [
        {
         "marker": {
          "color": "yellow",
          "size": 6
         },
         "mode": "markers",
         "name": "waypoints",
         "type": "scatter3d",
         "x": [
          40,
          15,
          0,
          0,
          40,
          15,
          0
         ],
         "y": [
          -10,
          -10,
          -10,
          4,
          20,
          20,
          20
         ],
         "z": [
          5,
          5,
          5,
          5,
          5,
          5,
          5
         ]
        },
        {
         "marker": {
          "color": "blue",
          "size": 6
         },
         "mode": "markers",
         "name": "homes",
         "type": "scatter3d",
         "x": [
          40,
          40
         ],
         "y": [
          -10,
          20
         ],
         "z": [
          0,
          0
         ]
        },
        {
         "marker": {
          "color": "green",
          "size": 6
         },
         "mode": "markers",
         "name": "targets",
         "type": "scatter3d",
         "x": [
          0,
          0
         ],
         "y": [
          4,
          4
         ],
         "z": [
          0,
          0
         ]
        }
       ],
       "layout": {
        "height": 600,
        "scene": {
         "xaxis": {
          "range": [
           -8,
           48
          ],
          "title": {
           "text": "x"
          }
         },
         "yaxis": {
          "range": [
           -16,
           26
          ],
          "title": {
           "text": "y"
          }
         },
         "zaxis": {
          "range": [
           -0.05,
           7
          ],
          "title": {
           "text": "z"
          }
         }
        },
        "template": {
         "data": {
          "bar": [
           {
            "error_x": {
             "color": "#2a3f5f"
            },
            "error_y": {
             "color": "#2a3f5f"
            },
            "marker": {
             "line": {
              "color": "#E5ECF6",
              "width": 0.5
             },
             "pattern": {
              "fillmode": "overlay",
              "size": 10,
              "solidity": 0.2
             }
            },
            "type": "bar"
           }
          ],
          "barpolar": [
           {
            "marker": {
             "line": {
              "color": "#E5ECF6",
              "width": 0.5
             },
             "pattern": {
              "fillmode": "overlay",
              "size": 10,
              "solidity": 0.2
             }
            },
            "type": "barpolar"
           }
          ],
          "carpet": [
           {
            "aaxis": {
             "endlinecolor": "#2a3f5f",
             "gridcolor": "white",
             "linecolor": "white",
             "minorgridcolor": "white",
             "startlinecolor": "#2a3f5f"
            },
            "baxis": {
             "endlinecolor": "#2a3f5f",
             "gridcolor": "white",
             "linecolor": "white",
             "minorgridcolor": "white",
             "startlinecolor": "#2a3f5f"
            },
            "type": "carpet"
           }
          ],
          "choropleth": [
           {
            "colorbar": {
             "outlinewidth": 0,
             "ticks": ""
            },
            "type": "choropleth"
           }
          ],
          "contour": [
           {
            "colorbar": {
             "outlinewidth": 0,
             "ticks": ""
            },
            "colorscale": [
             [
              0,
              "#0d0887"
             ],
             [
              0.1111111111111111,
              "#46039f"
             ],
             [
              0.2222222222222222,
              "#7201a8"
             ],
             [
              0.3333333333333333,
              "#9c179e"
             ],
             [
              0.4444444444444444,
              "#bd3786"
             ],
             [
              0.5555555555555556,
              "#d8576b"
             ],
             [
              0.6666666666666666,
              "#ed7953"
             ],
             [
              0.7777777777777778,
              "#fb9f3a"
             ],
             [
              0.8888888888888888,
              "#fdca26"
             ],
             [
              1,
              "#f0f921"
             ]
            ],
            "type": "contour"
           }
          ],
          "contourcarpet": [
           {
            "colorbar": {
             "outlinewidth": 0,
             "ticks": ""
            },
            "type": "contourcarpet"
           }
          ],
          "heatmap": [
           {
            "colorbar": {
             "outlinewidth": 0,
             "ticks": ""
            },
            "colorscale": [
             [
              0,
              "#0d0887"
             ],
             [
              0.1111111111111111,
              "#46039f"
             ],
             [
              0.2222222222222222,
              "#7201a8"
             ],
             [
              0.3333333333333333,
              "#9c179e"
             ],
             [
              0.4444444444444444,
              "#bd3786"
             ],
             [
              0.5555555555555556,
              "#d8576b"
             ],
             [
              0.6666666666666666,
              "#ed7953"
             ],
             [
              0.7777777777777778,
              "#fb9f3a"
             ],
             [
              0.8888888888888888,
              "#fdca26"
             ],
             [
              1,
              "#f0f921"
             ]
            ],
            "type": "heatmap"
           }
          ],
          "histogram": [
           {
            "marker": {
             "pattern": {
              "fillmode": "overlay",
              "size": 10,
              "solidity": 0.2
             }
            },
            "type": "histogram"
           }
          ],
          "histogram2d": [
           {
            "colorbar": {
             "outlinewidth": 0,
             "ticks": ""
            },
            "colorscale": [
             [
              0,
              "#0d0887"
             ],
             [
              0.1111111111111111,
              "#46039f"
             ],
             [
              0.2222222222222222,
              "#7201a8"
             ],
             [
              0.3333333333333333,
              "#9c179e"
             ],
             [
              0.4444444444444444,
              "#bd3786"
             ],
             [
              0.5555555555555556,
              "#d8576b"
             ],
             [
              0.6666666666666666,
              "#ed7953"
             ],
             [
              0.7777777777777778,
              "#fb9f3a"
             ],
             [
              0.8888888888888888,
              "#fdca26"
             ],
             [
              1,
              "#f0f921"
             ]
            ],
            "type": "histogram2d"
           }
          ],
          "histogram2dcontour": [
           {
            "colorbar": {
             "outlinewidth": 0,
             "ticks": ""
            },
            "colorscale": [
             [
              0,
              "#0d0887"
             ],
             [
              0.1111111111111111,
              "#46039f"
             ],
             [
              0.2222222222222222,
              "#7201a8"
             ],
             [
              0.3333333333333333,
              "#9c179e"
             ],
             [
              0.4444444444444444,
              "#bd3786"
             ],
             [
              0.5555555555555556,
              "#d8576b"
             ],
             [
              0.6666666666666666,
              "#ed7953"
             ],
             [
              0.7777777777777778,
              "#fb9f3a"
             ],
             [
              0.8888888888888888,
              "#fdca26"
             ],
             [
              1,
              "#f0f921"
             ]
            ],
            "type": "histogram2dcontour"
           }
          ],
          "mesh3d": [
           {
            "colorbar": {
             "outlinewidth": 0,
             "ticks": ""
            },
            "type": "mesh3d"
           }
          ],
          "parcoords": [
           {
            "line": {
             "colorbar": {
              "outlinewidth": 0,
              "ticks": ""
             }
            },
            "type": "parcoords"
           }
          ],
          "pie": [
           {
            "automargin": true,
            "type": "pie"
           }
          ],
          "scatter": [
           {
            "fillpattern": {
             "fillmode": "overlay",
             "size": 10,
             "solidity": 0.2
            },
            "type": "scatter"
           }
          ],
          "scatter3d": [
           {
            "line": {
             "colorbar": {
              "outlinewidth": 0,
              "ticks": ""
             }
            },
            "marker": {
             "colorbar": {
              "outlinewidth": 0,
              "ticks": ""
             }
            },
            "type": "scatter3d"
           }
          ],
          "scattercarpet": [
           {
            "marker": {
             "colorbar": {
              "outlinewidth": 0,
              "ticks": ""
             }
            },
            "type": "scattercarpet"
           }
          ],
          "scattergeo": [
           {
            "marker": {
             "colorbar": {
              "outlinewidth": 0,
              "ticks": ""
             }
            },
            "type": "scattergeo"
           }
          ],
          "scattergl": [
           {
            "marker": {
             "colorbar": {
              "outlinewidth": 0,
              "ticks": ""
             }
            },
            "type": "scattergl"
           }
          ],
          "scattermap": [
           {
            "marker": {
             "colorbar": {
              "outlinewidth": 0,
              "ticks": ""
             }
            },
            "type": "scattermap"
           }
          ],
          "scattermapbox": [
           {
            "marker": {
             "colorbar": {
              "outlinewidth": 0,
              "ticks": ""
             }
            },
            "type": "scattermapbox"
           }
          ],
          "scatterpolar": [
           {
            "marker": {
             "colorbar": {
              "outlinewidth": 0,
              "ticks": ""
             }
            },
            "type": "scatterpolar"
           }
          ],
          "scatterpolargl": [
           {
            "marker": {
             "colorbar": {
              "outlinewidth": 0,
              "ticks": ""
             }
            },
            "type": "scatterpolargl"
           }
          ],
          "scatterternary": [
           {
            "marker": {
             "colorbar": {
              "outlinewidth": 0,
              "ticks": ""
             }
            },
            "type": "scatterternary"
           }
          ],
          "surface": [
           {
            "colorbar": {
             "outlinewidth": 0,
             "ticks": ""
            },
            "colorscale": [
             [
              0,
              "#0d0887"
             ],
             [
              0.1111111111111111,
              "#46039f"
             ],
             [
              0.2222222222222222,
              "#7201a8"
             ],
             [
              0.3333333333333333,
              "#9c179e"
             ],
             [
              0.4444444444444444,
              "#bd3786"
             ],
             [
              0.5555555555555556,
              "#d8576b"
             ],
             [
              0.6666666666666666,
              "#ed7953"
             ],
             [
              0.7777777777777778,
              "#fb9f3a"
             ],
             [
              0.8888888888888888,
              "#fdca26"
             ],
             [
              1,
              "#f0f921"
             ]
            ],
            "type": "surface"
           }
          ],
          "table": [
           {
            "cells": {
             "fill": {
              "color": "#EBF0F8"
             },
             "line": {
              "color": "white"
             }
            },
            "header": {
             "fill": {
              "color": "#C8D4E3"
             },
             "line": {
              "color": "white"
             }
            },
            "type": "table"
           }
          ]
         },
         "layout": {
          "annotationdefaults": {
           "arrowcolor": "#2a3f5f",
           "arrowhead": 0,
           "arrowwidth": 1
          },
          "autotypenumbers": "strict",
          "coloraxis": {
           "colorbar": {
            "outlinewidth": 0,
            "ticks": ""
           }
          },
          "colorscale": {
           "diverging": [
            [
             0,
             "#8e0152"
            ],
            [
             0.1,
             "#c51b7d"
            ],
            [
             0.2,
             "#de77ae"
            ],
            [
             0.3,
             "#f1b6da"
            ],
            [
             0.4,
             "#fde0ef"
            ],
            [
             0.5,
             "#f7f7f7"
            ],
            [
             0.6,
             "#e6f5d0"
            ],
            [
             0.7,
             "#b8e186"
            ],
            [
             0.8,
             "#7fbc41"
            ],
            [
             0.9,
             "#4d9221"
            ],
            [
             1,
             "#276419"
            ]
           ],
           "sequential": [
            [
             0,
             "#0d0887"
            ],
            [
             0.1111111111111111,
             "#46039f"
            ],
            [
             0.2222222222222222,
             "#7201a8"
            ],
            [
             0.3333333333333333,
             "#9c179e"
            ],
            [
             0.4444444444444444,
             "#bd3786"
            ],
            [
             0.5555555555555556,
             "#d8576b"
            ],
            [
             0.6666666666666666,
             "#ed7953"
            ],
            [
             0.7777777777777778,
             "#fb9f3a"
            ],
            [
             0.8888888888888888,
             "#fdca26"
            ],
            [
             1,
             "#f0f921"
            ]
           ],
           "sequentialminus": [
            [
             0,
             "#0d0887"
            ],
            [
             0.1111111111111111,
             "#46039f"
            ],
            [
             0.2222222222222222,
             "#7201a8"
            ],
            [
             0.3333333333333333,
             "#9c179e"
            ],
            [
             0.4444444444444444,
             "#bd3786"
            ],
            [
             0.5555555555555556,
             "#d8576b"
            ],
            [
             0.6666666666666666,
             "#ed7953"
            ],
            [
             0.7777777777777778,
             "#fb9f3a"
            ],
            [
             0.8888888888888888,
             "#fdca26"
            ],
            [
             1,
             "#f0f921"
            ]
           ]
          },
          "colorway": [
           "#636efa",
           "#EF553B",
           "#00cc96",
           "#ab63fa",
           "#FFA15A",
           "#19d3f3",
           "#FF6692",
           "#B6E880",
           "#FF97FF",
           "#FECB52"
          ],
          "font": {
           "color": "#2a3f5f"
          },
          "geo": {
           "bgcolor": "white",
           "lakecolor": "white",
           "landcolor": "#E5ECF6",
           "showlakes": true,
           "showland": true,
           "subunitcolor": "white"
          },
          "hoverlabel": {
           "align": "left"
          },
          "hovermode": "closest",
          "mapbox": {
           "style": "light"
          },
          "paper_bgcolor": "white",
          "plot_bgcolor": "#E5ECF6",
          "polar": {
           "angularaxis": {
            "gridcolor": "white",
            "linecolor": "white",
            "ticks": ""
           },
           "bgcolor": "#E5ECF6",
           "radialaxis": {
            "gridcolor": "white",
            "linecolor": "white",
            "ticks": ""
           }
          },
          "scene": {
           "xaxis": {
            "backgroundcolor": "#E5ECF6",
            "gridcolor": "white",
            "gridwidth": 2,
            "linecolor": "white",
            "showbackground": true,
            "ticks": "",
            "zerolinecolor": "white"
           },
           "yaxis": {
            "backgroundcolor": "#E5ECF6",
            "gridcolor": "white",
            "gridwidth": 2,
            "linecolor": "white",
            "showbackground": true,
            "ticks": "",
            "zerolinecolor": "white"
           },
           "zaxis": {
            "backgroundcolor": "#E5ECF6",
            "gridcolor": "white",
            "gridwidth": 2,
            "linecolor": "white",
            "showbackground": true,
            "ticks": "",
            "zerolinecolor": "white"
           }
          },
          "shapedefaults": {
           "line": {
            "color": "#2a3f5f"
           }
          },
          "ternary": {
           "aaxis": {
            "gridcolor": "white",
            "linecolor": "white",
            "ticks": ""
           },
           "baxis": {
            "gridcolor": "white",
            "linecolor": "white",
            "ticks": ""
           },
           "bgcolor": "#E5ECF6",
           "caxis": {
            "gridcolor": "white",
            "linecolor": "white",
            "ticks": ""
           }
          },
          "title": {
           "x": 0.05
          },
          "xaxis": {
           "automargin": true,
           "gridcolor": "white",
           "linecolor": "white",
           "ticks": "",
           "title": {
            "standoff": 15
           },
           "zerolinecolor": "white",
           "zerolinewidth": 2
          },
          "yaxis": {
           "automargin": true,
           "gridcolor": "white",
           "linecolor": "white",
           "ticks": "",
           "title": {
            "standoff": 15
           },
           "zerolinecolor": "white",
           "zerolinewidth": 2
          }
         }
        },
        "title": {
         "text": "Simulation Markers",
         "x": 0.5,
         "xanchor": "center"
        },
        "width": 800
       }
      }
     },
     "metadata": {},
     "output_type": "display_data"
    }
   ],
   "source": [
    "offsets = [ #east, north, up, heading\n",
    "    (40, -10, 0, 0), \n",
    "    (40,  20, 0, 0)]\n",
    "n_uavs = len(offsets)\n",
    "\n",
    "wps = np.array([(40, -10, 5),\n",
    "                (15, -10, 5),\n",
    "                (0, -10, 5),\n",
    "                (0,   4, 5),\n",
    "                (40, 20, 5),\n",
    "                (15, 20, 5),\n",
    "                (0,  20, 5)])\n",
    "\n",
    "homes=np.array([offset[:3] for offset in offsets])\n",
    "target_wps=np.array([\n",
    "                (0, 4,5),\n",
    "                (0, 4,5)])\n",
    "\n",
    "gcs=GCS(positions=homes.copy())\n",
    "\n",
    "targets=np.array([(*target_wp[:2],0) for target_wp in target_wps])\n",
    "markers = {'waypoints': {'pos':wps,'color':'yellow'},\n",
    "           'homes': {'pos':homes,'color':'blue'},\n",
    "           'targets':{'pos':targets,'color':'green'}}\n",
    "\n",
    "# Interactive widget to rotate the plot\n",
    "plot_3d_interactive(markers,title='Simulation Markers',expand=[0.2,0.2,0.4],ground=-0.05)\n",
    "\n",
    "\n",
    "if simulator == 'QGroundControl':\n",
    "    # lat,long,alt,heading\n",
    "    home_position=(-35.3633245,149.1652241,0,90)\n",
    "    spawns=find_spawns(home_position, offsets)"
   ]
  },
  {
   "cell_type": "markdown",
   "metadata": {},
   "source": [
    "## Get Local positions"
   ]
  },
  {
   "cell_type": "code",
   "execution_count": 6,
   "metadata": {},
   "outputs": [],
   "source": [
    "local_wps=global2local(wps, homes,pairwise=False)\n",
    "local_target_wps=global2local(target_wps, homes,pairwise=True)"
   ]
  },
  {
   "cell_type": "markdown",
   "metadata": {},
   "source": [
    "## Waypoint selection algorithm\n",
    "\n",
    "The path is shown in local coordinates"
   ]
  },
  {
   "cell_type": "code",
   "execution_count": 7,
   "metadata": {},
   "outputs": [
    {
     "name": "stdout",
     "output_type": "stream",
     "text": [
      "uav-0 Best path: [[  0   0   0]\n",
      " [  0   0   5]\n",
      " [-25   0   5]\n",
      " [-40   0   5]\n",
      " [-40  14   5]]\n",
      "uav-1 Best path: [[  0   0   0]\n",
      " [  0   0   5]\n",
      " [-25   0   5]\n",
      " [-40   0   5]\n",
      " [-40 -16   5]]\n"
     ]
    }
   ],
   "source": [
    "for i,(target_wp,wps) in enumerate(zip(local_target_wps,local_wps)):\n",
    "        local_path=find_path(np.array((0,0,0)),target_wp, wps,eps=1)\n",
    "        print(f'uav-{i} Best path: {local_path}') \n"
   ]
  },
  {
   "cell_type": "markdown",
   "metadata": {},
   "source": [
    "Launch Simulator"
   ]
  },
  {
   "cell_type": "code",
   "execution_count": 8,
   "metadata": {},
   "outputs": [],
   "source": [
    "if simulator == 'QGroundControl':\n",
    "    sim_path = os.path.expanduser(QGC_path)\n",
    "    sim_cmd =[sim_path]\n",
    "elif simulator == 'gazebo':\n",
    "    # Convert to Gazebo format (name, x, y, z, roll, pitch, yaw)\n",
    "    drones = [(east, north, up, 0, 0, heading_to_yaw(heading)) for i, (east, north, up, heading) in enumerate(offsets)]\n",
    "    world_path = os.path.expanduser(gazebo_word_path)\n",
    "    updated_world_path = update_world(drones,markers,world_path)\n",
    "    sim_cmd = [\"gazebo\", \"--verbose\", updated_world_path] \n",
    "\n",
    "simulator_process = subprocess.Popen(\n",
    "                    sim_cmd,\n",
    "                    stdout=subprocess.DEVNULL,  # Suppress standard output\n",
    "                    stderr=subprocess.DEVNULL,  # Suppress error output\n",
    "                    shell=False  # Ensure safety when passing arguments\n",
    "                    )"
   ]
  },
  {
   "cell_type": "markdown",
   "metadata": {},
   "source": [
    "\n",
    "Launch Vehicle"
   ]
  },
  {
   "cell_type": "code",
   "execution_count": 9,
   "metadata": {},
   "outputs": [],
   "source": [
    "vehicle_path = os.path.expanduser(ardupilot_vehicle_path)\n",
    "for i in range(n_uavs):\n",
    "    vehicle_cmd = f\"python3 {vehicle_path} -v ArduCopter -I{i} --sysid {i+1} --no-rebuild\"\n",
    "    if simulator == 'QGroundControl':\n",
    "        spawn=','.join(map(str, spawns[i]))\n",
    "        vehicle_cmd += f\" --custom-location={spawn}\"\n",
    "    elif simulator == 'gazebo':\n",
    "        vehicle_cmd += \" -f gazebo-iris\"\n",
    "    subprocess.Popen([\"gnome-terminal\", \"--\", \"bash\", \"-c\", f\"{vehicle_cmd}; exec bash\"])"
   ]
  },
  {
   "cell_type": "markdown",
   "metadata": {},
   "source": [
    "Create uavs"
   ]
  },
  {
   "cell_type": "code",
   "execution_count": 10,
   "metadata": {},
   "outputs": [
    {
     "name": "stdout",
     "output_type": "stream",
     "text": [
      "Plan 'basic' created — no connection yet 🧩\n",
      "Action 'Pre-Arm Check' created — no connection yet 🧩\n",
      "Step 'Check disarmed' created — no connection yet 🧩\n",
      "Step 'Check EKF' created — no connection yet 🧩\n",
      "Step 'Check GPS' created — no connection yet 🧩\n",
      "Step 'Check system' created — no connection yet 🧩\n",
      "Action 'Set Mode: GUIDED' created — no connection yet 🧩\n",
      "Step 'Switch to GUIDED' created — no connection yet 🧩\n",
      "Action 'Arm' created — no connection yet 🧩\n",
      "Step 'arm' created — no connection yet 🧩\n",
      "Action 'takeoff' created — no connection yet 🧩\n",
      "Step 'takeoff' created — no connection yet 🧩\n",
      "Action 'fly' created — no connection yet 🧩\n",
      "Action 'Land' created — no connection yet 🧩\n",
      "Step 'land' created — no connection yet 🧩\n",
      "Vehicle 1: Step 'Check disarmed' is now connected ✅🔗\n",
      "Vehicle 1: Step 'Check EKF' is now connected ✅🔗\n",
      "Vehicle 1: Step 'Check GPS' is now connected ✅🔗\n",
      "Vehicle 1: Step 'Check system' is now connected ✅🔗\n",
      "Vehicle 1: Action 'Pre-Arm Check' is now connected ✅🔗\n",
      "Vehicle 1: Action 'Pre-Arm Check' is now connected ✅🔗\n",
      "Vehicle 1: Step 'Switch to GUIDED' is now connected ✅🔗\n",
      "Vehicle 1: Action 'Set Mode: GUIDED' is now connected ✅🔗\n",
      "Vehicle 1: Action 'Set Mode: GUIDED' is now connected ✅🔗\n",
      "Vehicle 1: Step 'arm' is now connected ✅🔗\n",
      "Vehicle 1: Action 'Arm' is now connected ✅🔗\n",
      "Vehicle 1: Action 'Arm' is now connected ✅🔗\n",
      "Vehicle 1: Step 'takeoff' is now connected ✅🔗\n",
      "Vehicle 1: Action 'takeoff' is now connected ✅🔗\n",
      "Vehicle 1: Action 'takeoff' is now connected ✅🔗\n",
      "Vehicle 1: Action 'fly' is now connected ✅🔗\n",
      "Vehicle 1: Action 'fly' is now connected ✅🔗\n",
      "Vehicle 1: Step 'land' is now connected ✅🔗\n",
      "Vehicle 1: Action 'Land' is now connected ✅🔗\n",
      "Vehicle 1: Action 'Land' is now connected ✅🔗\n",
      "Vehicle 1: Plan 'basic' is now connected ✅🔗\n",
      "Vehicle 1: Plan 'basic' is now connected ✅🔗\n",
      "vehicle 1 created\n",
      "Plan 'basic' created — no connection yet 🧩\n",
      "Action 'Pre-Arm Check' created — no connection yet 🧩\n",
      "Step 'Check disarmed' created — no connection yet 🧩\n",
      "Step 'Check EKF' created — no connection yet 🧩\n",
      "Step 'Check GPS' created — no connection yet 🧩\n",
      "Step 'Check system' created — no connection yet 🧩\n",
      "Action 'Set Mode: GUIDED' created — no connection yet 🧩\n",
      "Step 'Switch to GUIDED' created — no connection yet 🧩\n",
      "Action 'Arm' created — no connection yet 🧩\n",
      "Step 'arm' created — no connection yet 🧩\n",
      "Action 'takeoff' created — no connection yet 🧩\n",
      "Step 'takeoff' created — no connection yet 🧩\n",
      "Action 'fly' created — no connection yet 🧩\n",
      "Action 'Land' created — no connection yet 🧩\n",
      "Step 'land' created — no connection yet 🧩\n",
      "Vehicle 2: Step 'Check disarmed' is now connected ✅🔗\n",
      "Vehicle 2: Step 'Check EKF' is now connected ✅🔗\n",
      "Vehicle 2: Step 'Check GPS' is now connected ✅🔗\n",
      "Vehicle 2: Step 'Check system' is now connected ✅🔗\n",
      "Vehicle 2: Action 'Pre-Arm Check' is now connected ✅🔗\n",
      "Vehicle 2: Action 'Pre-Arm Check' is now connected ✅🔗\n",
      "Vehicle 2: Step 'Switch to GUIDED' is now connected ✅🔗\n",
      "Vehicle 2: Action 'Set Mode: GUIDED' is now connected ✅🔗\n",
      "Vehicle 2: Action 'Set Mode: GUIDED' is now connected ✅🔗\n",
      "Vehicle 2: Step 'arm' is now connected ✅🔗\n",
      "Vehicle 2: Action 'Arm' is now connected ✅🔗\n",
      "Vehicle 2: Action 'Arm' is now connected ✅🔗\n",
      "Vehicle 2: Step 'takeoff' is now connected ✅🔗\n",
      "Vehicle 2: Action 'takeoff' is now connected ✅🔗\n",
      "Vehicle 2: Action 'takeoff' is now connected ✅🔗\n",
      "Vehicle 2: Action 'fly' is now connected ✅🔗\n",
      "Vehicle 2: Action 'fly' is now connected ✅🔗\n",
      "Vehicle 2: Step 'land' is now connected ✅🔗\n",
      "Vehicle 2: Action 'Land' is now connected ✅🔗\n",
      "Vehicle 2: Action 'Land' is now connected ✅🔗\n",
      "Vehicle 2: Plan 'basic' is now connected ✅🔗\n",
      "Vehicle 2: Plan 'basic' is now connected ✅🔗\n",
      "vehicle 2 created\n"
     ]
    }
   ],
   "source": [
    "uavs=[]\n",
    "for i,home in enumerate(zip(homes)):\n",
    "    uavs.append(VehicleLogic(sys_id=i+1,\n",
    "                            home=home))"
   ]
  },
  {
   "cell_type": "markdown",
   "metadata": {},
   "source": [
    "## Execute Plan"
   ]
  },
  {
   "cell_type": "code",
   "execution_count": 11,
   "metadata": {},
   "outputs": [],
   "source": [
    "from plan.core import State\n",
    "from plan.actions.navegation import get_local_position\n",
    "from plan.actions.navegation import make_go_to\n"
   ]
  },
  {
   "cell_type": "code",
   "execution_count": 12,
   "metadata": {},
   "outputs": [
    {
     "ename": "AttributeError",
     "evalue": "'VehicleLogic' object has no attribute 'act_plan'",
     "output_type": "error",
     "traceback": [
      "\u001b[0;31m---------------------------------------------------------------------------\u001b[0m",
      "\u001b[0;31mAttributeError\u001b[0m                            Traceback (most recent call last)",
      "Cell \u001b[0;32mIn[12], line 21\u001b[0m\n\u001b[1;32m     19\u001b[0m     uav\u001b[38;5;241m.\u001b[39mact_plan()\n\u001b[1;32m     20\u001b[0m \u001b[38;5;28;01melse\u001b[39;00m:\n\u001b[0;32m---> 21\u001b[0m     \u001b[43muav\u001b[49m\u001b[38;5;241;43m.\u001b[39;49m\u001b[43mact_plan\u001b[49m()\n\u001b[1;32m     22\u001b[0m \u001b[38;5;28;01mif\u001b[39;00m uav\u001b[38;5;241m.\u001b[39mplan\u001b[38;5;241m.\u001b[39mstate\u001b[38;5;241m==\u001b[39mState\u001b[38;5;241m.\u001b[39mDONE:\n\u001b[1;32m     23\u001b[0m     to_remove\u001b[38;5;241m.\u001b[39madd(\u001b[38;5;28mid\u001b[39m)\n",
      "\u001b[0;31mAttributeError\u001b[0m: 'VehicleLogic' object has no attribute 'act_plan'"
     ]
    }
   ],
   "source": [
    "while gcs.incomplete_missions:\n",
    "    to_remove = set()\n",
    "    for id in gcs.incomplete_missions:\n",
    "        i = id-1\n",
    "        uav=uavs[i]\n",
    "        ## It is better to define this as a plan\n",
    "        curr_action=uav.current_action()\n",
    "        if curr_action.name==\"fly\" and (curr_action.state == State.NOT_STARTED or (curr_action.state == State.IN_PROGRESS and curr_action.current.state == State.DONE)):\n",
    "            ## Search algorithm\n",
    "            final_wp = local_target_wps[i]\n",
    "            curr_pos = get_local_position(uav.conn)\n",
    "            if curr_pos is False:\n",
    "                continue\n",
    "            dist = np.linalg.norm(curr_pos - final_wp)\n",
    "            if dist > 0.5:\n",
    "                next_wp = find_best_waypoint(curr_pos, final_wp, local_wps[i],eps=1)\n",
    "                next_step=make_go_to(wp=next_wp,wp_margin=0.5)\n",
    "                uav.plan.current.add_next(next_step)\n",
    "            uav.act_plan()\n",
    "        else:\n",
    "            uav.act_plan()\n",
    "        if uav.plan.state==State.DONE:\n",
    "            to_remove.add(id)\n",
    "    gcs.update_missions(to_remove)"
   ]
  },
  {
   "cell_type": "markdown",
   "metadata": {},
   "source": [
    "## Kill all related process"
   ]
  },
  {
   "cell_type": "code",
   "execution_count": null,
   "metadata": {},
   "outputs": [],
   "source": [
    "for process in [\"QGroundControl\", \"sim_vehicle.py\", \"arducopter\", \"gazebo\", \"mavproxy\"]:\n",
    "    os.system(f\"pkill -9 -f {process}\")"
   ]
  },
  {
   "cell_type": "code",
   "execution_count": null,
   "metadata": {},
   "outputs": [],
   "source": []
  }
 ],
 "metadata": {
  "kernelspec": {
   "display_name": "Python 3",
   "language": "python",
   "name": "python3"
  },
  "language_info": {
   "codemirror_mode": {
    "name": "ipython",
    "version": 3
   },
   "file_extension": ".py",
   "mimetype": "text/x-python",
   "name": "python",
   "nbconvert_exporter": "python",
   "pygments_lexer": "ipython3",
   "version": "3.9.21"
  }
 },
 "nbformat": 4,
 "nbformat_minor": 2
}
