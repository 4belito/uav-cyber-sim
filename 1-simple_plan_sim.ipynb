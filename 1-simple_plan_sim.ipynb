{
 "cells": [
  {
   "cell_type": "markdown",
   "metadata": {},
   "source": [
    "## Simple Mission"
   ]
  },
  {
   "cell_type": "code",
   "execution_count": 6,
   "metadata": {},
   "outputs": [],
   "source": [
    "import numpy as np\n",
    "from pymavlink import mavutil\n",
    "import subprocess\n",
    "import os"
   ]
  },
  {
   "cell_type": "markdown",
   "metadata": {},
   "source": [
    "Kill related process"
   ]
  },
  {
   "cell_type": "code",
   "execution_count": 9,
   "metadata": {},
   "outputs": [],
   "source": [
    "for process in [\"QGroundControl\", \"sim_vehicle.py\", \"arducopter\", \"gazebo\", \"mavproxy\"]:\n",
    "    os.system(f\"pkill -9 -f {process}\")"
   ]
  },
  {
   "cell_type": "markdown",
   "metadata": {},
   "source": [
    "Launch Copter (ardupilot)"
   ]
  },
  {
   "cell_type": "code",
   "execution_count": 10,
   "metadata": {},
   "outputs": [
    {
     "data": {
      "text/plain": [
       "<Popen: returncode: None args: ['gnome-terminal', '--', 'bash', '-c', 'pytho...>"
      ]
     },
     "execution_count": 10,
     "metadata": {},
     "output_type": "execute_result"
    }
   ],
   "source": [
    "sim_vehicle_path = os.path.expanduser(\"~/ardupilot/Tools/autotest/sim_vehicle.py\")\n",
    "vehicle_cmd = f\"python3 {sim_vehicle_path} -v ArduCopter\" \n",
    "# Open a new terminal and run the command\n",
    "subprocess.Popen([\"gnome-terminal\", \"--\", \"bash\", \"-c\", f\"{vehicle_cmd}; exec bash\"])"
   ]
  },
  {
   "cell_type": "markdown",
   "metadata": {},
   "source": [
    "Conect to the device"
   ]
  },
  {
   "cell_type": "code",
   "execution_count": 11,
   "metadata": {},
   "outputs": [
    {
     "name": "stdout",
     "output_type": "stream",
     "text": [
      "Heartbeat received. Connected to the vehicle.\n"
     ]
    }
   ],
   "source": [
    "conn = mavutil.mavlink_connection('udp:127.0.0.1:14550')\n",
    "\n",
    "conn.wait_heartbeat()\n",
    "print(\"Heartbeat received. Connected to the vehicle.\")"
   ]
  },
  {
   "cell_type": "markdown",
   "metadata": {},
   "source": [
    "# Fly"
   ]
  },
  {
   "cell_type": "code",
   "execution_count": null,
   "metadata": {},
   "outputs": [
    {
     "name": "stdout",
     "output_type": "stream",
     "text": [
      "Plan 'Square Trajectory' created — no connection yet 🧩\n",
      "Action 'Pre-Arm Check' created — no connection yet 🧩\n",
      "Step 'Check disarmed' created — no connection yet 🧩\n",
      "Step 'Check EKF' created — no connection yet 🧩\n",
      "Step 'Check GPS' created — no connection yet 🧩\n",
      "Step 'Check system' created — no connection yet 🧩\n",
      "Action 'Set Navigation Speed' created — no connection yet 🧩\n",
      "Step 'Set speed to 1.00 m/s' created — no connection yet 🧩\n",
      "Action 'Set Mode: GUIDED' created — no connection yet 🧩\n",
      "Step 'Switch to GUIDED' created — no connection yet 🧩\n",
      "Action 'Arm' created — no connection yet 🧩\n",
      "Step 'arm' created — no connection yet 🧩\n",
      "Action 'Take Off' created — no connection yet 🧩\n",
      "Step 'take off' created — no connection yet 🧩\n",
      "Action 'Go local' created — no connection yet 🧩\n",
      "Step 'go to -> (0, 0, 5)' created — no connection yet 🧩\n",
      "Step 'go to -> (0, 10, 5)' created — no connection yet 🧩\n",
      "Step 'go to -> (10, 10, 5)' created — no connection yet 🧩\n",
      "Step 'go to -> (10, -10, 5)' created — no connection yet 🧩\n",
      "Step 'go to -> (0, -10, 5)' created — no connection yet 🧩\n",
      "Step 'go to -> (0, 0, 5)' created — no connection yet 🧩\n",
      "Action 'Land' created — no connection yet 🧩\n",
      "Step 'land' created — no connection yet 🧩\n",
      "Action 'Pre-Arm Check' is now connected ✅🔗\n",
      "▶️ Starting Action: Pre-Arm Check\n",
      "Step 'Check disarmed' is now connected ✅🔗\n",
      "▶️ Starting Step: Check disarmed\n",
      "✅ Step: Check disarmed is done\n",
      "Step 'Check EKF' is now connected ✅🔗\n",
      "▶️ Starting Step: Check EKF\n",
      "EKF is not ready — missing: POS_HORIZ_ABS\n",
      "EKF is not ready — missing: POS_HORIZ_ABS\n",
      "EKF is not ready — missing: POS_HORIZ_ABS\n",
      "EKF is not ready — missing: POS_HORIZ_ABS\n",
      "EKF is not ready — missing: POS_HORIZ_ABS\n",
      "EKF is not ready — missing: POS_HORIZ_ABS\n",
      "EKF is not ready — missing: POS_HORIZ_ABS\n",
      "EKF is not ready — missing: POS_HORIZ_ABS\n",
      "EKF is not ready — missing: POS_HORIZ_ABS\n",
      "EKF is not ready — missing: POS_HORIZ_ABS\n",
      "EKF is not ready — missing: POS_HORIZ_ABS\n",
      "EKF is not ready — missing: POS_HORIZ_ABS\n",
      "EKF is not ready — missing: POS_HORIZ_ABS\n",
      "EKF is not ready — missing: POS_HORIZ_ABS\n",
      "EKF is not ready — missing: POS_HORIZ_ABS\n",
      "EKF is not ready — missing: POS_HORIZ_ABS\n",
      "EKF is not ready — missing: POS_HORIZ_ABS\n",
      "EKF is not ready — missing: POS_HORIZ_ABS\n",
      "EKF is not ready — missing: POS_HORIZ_ABS\n",
      "EKF is not ready — missing: POS_HORIZ_ABS\n",
      "EKF is not ready — missing: POS_HORIZ_ABS\n",
      "EKF is not ready — missing: POS_HORIZ_ABS\n",
      "EKF is not ready — missing: POS_HORIZ_ABS\n",
      "EKF is not ready — missing: POS_HORIZ_ABS\n",
      "EKF is not ready — missing: POS_HORIZ_ABS\n",
      "EKF is not ready — missing: POS_HORIZ_ABS\n",
      "EKF is not ready — missing: POS_HORIZ_ABS\n",
      "EKF is not ready — missing: POS_HORIZ_ABS\n",
      "EKF is not ready — missing: POS_HORIZ_ABS\n",
      "EKF is not ready — missing: POS_HORIZ_ABS\n",
      "EKF is not ready — missing: POS_HORIZ_ABS\n",
      "EKF is not ready — missing: POS_HORIZ_ABS\n",
      "EKF is not ready — missing: POS_HORIZ_ABS\n",
      "EKF is not ready — missing: POS_HORIZ_ABS\n",
      "EKF is not ready — missing: POS_HORIZ_ABS\n",
      "EKF is not ready — missing: POS_HORIZ_ABS\n",
      "EKF is not ready — missing: POS_HORIZ_ABS\n",
      "EKF is not ready — missing: POS_HORIZ_ABS\n",
      "EKF is not ready — missing: POS_HORIZ_ABS\n",
      "EKF is not ready — missing: POS_HORIZ_ABS\n",
      "EKF is not ready — missing: POS_HORIZ_ABS\n",
      "EKF is not ready — missing: POS_HORIZ_ABS\n",
      "EKF is not ready — missing: POS_HORIZ_ABS\n",
      "EKF is not ready — missing: POS_HORIZ_ABS\n",
      "EKF is not ready — missing: POS_HORIZ_ABS\n",
      "EKF is not ready — missing: POS_HORIZ_ABS\n",
      "EKF is not ready — missing: POS_HORIZ_ABS\n",
      "EKF is not ready — missing: POS_HORIZ_ABS\n",
      "EKF is not ready — missing: POS_HORIZ_ABS\n",
      "EKF is not ready — missing: POS_HORIZ_ABS\n",
      "EKF is not ready — missing: POS_HORIZ_ABS\n",
      "EKF is not ready — missing: POS_HORIZ_ABS\n",
      "EKF is not ready — missing: POS_HORIZ_ABS\n",
      "EKF is not ready — missing: POS_HORIZ_ABS\n",
      "EKF is not ready — missing: POS_HORIZ_ABS\n",
      "EKF is not ready — missing: POS_HORIZ_ABS\n",
      "EKF is not ready — missing: POS_HORIZ_ABS\n",
      "EKF is not ready — missing: POS_HORIZ_ABS\n",
      "EKF is not ready — missing: POS_HORIZ_ABS\n",
      "EKF is not ready — missing: POS_HORIZ_ABS\n",
      "EKF is not ready — missing: POS_HORIZ_ABS\n",
      "EKF is not ready — missing: POS_HORIZ_ABS\n",
      "EKF is not ready — missing: POS_HORIZ_ABS\n",
      "EKF is not ready — missing: POS_HORIZ_ABS\n",
      "EKF is not ready — missing: POS_HORIZ_ABS\n",
      "EKF is not ready — missing: POS_HORIZ_ABS\n",
      "EKF is not ready — missing: POS_HORIZ_ABS\n",
      "EKF is not ready — missing: POS_HORIZ_ABS\n",
      "EKF is not ready — missing: POS_HORIZ_ABS\n",
      "EKF is not ready — missing: POS_HORIZ_ABS\n",
      "EKF is not ready — missing: POS_HORIZ_ABS\n",
      "EKF is not ready — missing: POS_HORIZ_ABS\n",
      "EKF is not ready — missing: POS_HORIZ_ABS\n",
      "EKF is not ready — missing: POS_HORIZ_ABS\n",
      "EKF is not ready — missing: POS_HORIZ_ABS\n",
      "EKF is not ready — missing: POS_HORIZ_ABS\n",
      "EKF is not ready — missing: POS_HORIZ_ABS\n",
      "EKF is not ready — missing: POS_HORIZ_ABS\n",
      "EKF is not ready — missing: POS_HORIZ_ABS\n",
      "EKF is not ready — missing: POS_HORIZ_ABS\n",
      "EKF is not ready — missing: POS_HORIZ_ABS\n",
      "EKF is not ready — missing: POS_HORIZ_ABS\n",
      "EKF is not ready — missing: POS_HORIZ_ABS\n",
      "EKF is not ready — missing: POS_HORIZ_ABS\n",
      "EKF is not ready — missing: POS_HORIZ_ABS\n",
      "EKF is not ready — missing: POS_HORIZ_ABS\n",
      "EKF is not ready — missing: POS_HORIZ_ABS\n",
      "EKF is not ready — missing: POS_HORIZ_ABS\n",
      "EKF is not ready — missing: POS_HORIZ_ABS\n",
      "EKF is not ready — missing: POS_HORIZ_ABS\n",
      "EKF is not ready — missing: POS_HORIZ_ABS\n",
      "EKF is not ready — missing: POS_HORIZ_ABS\n",
      "EKF is not ready — missing: POS_HORIZ_ABS\n",
      "EKF is not ready — missing: POS_HORIZ_ABS\n",
      "EKF is not ready — missing: POS_HORIZ_ABS\n",
      "EKF is not ready — missing: POS_HORIZ_ABS\n",
      "EKF is not ready — missing: POS_HORIZ_ABS\n",
      "EKF is not ready — missing: POS_HORIZ_ABS\n",
      "EKF is not ready — missing: POS_HORIZ_ABS\n",
      "EKF is not ready — missing: POS_HORIZ_ABS\n",
      "EKF is not ready — missing: POS_HORIZ_ABS\n",
      "EKF is not ready — missing: POS_HORIZ_ABS\n",
      "EKF is not ready — missing: POS_HORIZ_ABS\n",
      "EKF is not ready — missing: POS_HORIZ_ABS\n",
      "EKF is not ready — missing: POS_HORIZ_ABS\n",
      "EKF is not ready — missing: POS_HORIZ_ABS\n",
      "EKF is not ready — missing: POS_HORIZ_ABS\n",
      "EKF is not ready — missing: POS_HORIZ_ABS\n",
      "EKF is not ready — missing: POS_HORIZ_ABS\n",
      "EKF is not ready — missing: POS_HORIZ_ABS\n",
      "EKF is not ready — missing: POS_HORIZ_ABS\n",
      "EKF is not ready — missing: POS_HORIZ_ABS\n",
      "EKF is not ready — missing: POS_HORIZ_ABS\n",
      "EKF is not ready — missing: POS_HORIZ_ABS\n",
      "EKF is not ready — missing: POS_HORIZ_ABS\n",
      "EKF is not ready — missing: POS_HORIZ_ABS\n",
      "EKF is not ready — missing: POS_HORIZ_ABS\n",
      "EKF is not ready — missing: POS_HORIZ_ABS\n",
      "EKF is not ready — missing: POS_HORIZ_ABS\n",
      "EKF is not ready — missing: POS_HORIZ_ABS\n",
      "EKF is not ready — missing: POS_HORIZ_ABS\n",
      "EKF is not ready — missing: POS_HORIZ_ABS\n",
      "EKF is not ready — missing: POS_HORIZ_ABS\n",
      "EKF is not ready — missing: POS_HORIZ_ABS\n",
      "EKF is not ready — missing: POS_HORIZ_ABS\n",
      "EKF is not ready — missing: POS_HORIZ_ABS\n",
      "EKF is not ready — missing: POS_HORIZ_ABS\n",
      "EKF is not ready — missing: POS_HORIZ_ABS\n",
      "EKF is not ready — missing: POS_HORIZ_ABS\n",
      "EKF is not ready — missing: POS_HORIZ_ABS\n",
      "EKF is not ready — missing: POS_HORIZ_ABS\n",
      "EKF is not ready — missing: POS_HORIZ_ABS\n",
      "EKF is not ready — missing: POS_HORIZ_ABS\n",
      "EKF is not ready — missing: POS_HORIZ_ABS\n",
      "EKF is not ready — missing: POS_HORIZ_ABS\n",
      "EKF is not ready — missing: POS_HORIZ_ABS\n",
      "EKF is not ready — missing: POS_HORIZ_ABS\n",
      "EKF is not ready — missing: POS_HORIZ_ABS\n",
      "EKF is not ready — missing: POS_HORIZ_ABS\n",
      "EKF is not ready — missing: POS_HORIZ_ABS\n",
      "EKF is not ready — missing: POS_HORIZ_ABS\n",
      "EKF is not ready — missing: POS_HORIZ_ABS\n",
      "EKF is not ready — missing: POS_HORIZ_ABS\n",
      "EKF is not ready — missing: POS_HORIZ_ABS\n",
      "EKF is not ready — missing: POS_HORIZ_ABS\n",
      "EKF is not ready — missing: POS_HORIZ_ABS\n"
     ]
    }
   ],
   "source": [
    "from plans.square import make_square\n",
    "\n",
    "plan=make_square(side_len=10,alt=5,wp_margin=0.5,navegation_speed=1)\n",
    "plan.run_all(conn)"
   ]
  },
  {
   "cell_type": "code",
   "execution_count": null,
   "metadata": {},
   "outputs": [],
   "source": []
  }
 ],
 "metadata": {
  "kernelspec": {
   "display_name": "pymavlink",
   "language": "python",
   "name": "python3"
  },
  "language_info": {
   "codemirror_mode": {
    "name": "ipython",
    "version": 3
   },
   "file_extension": ".py",
   "mimetype": "text/x-python",
   "name": "python",
   "nbconvert_exporter": "python",
   "pygments_lexer": "ipython3",
   "version": "3.9.21"
  }
 },
 "nbformat": 4,
 "nbformat_minor": 2
}
