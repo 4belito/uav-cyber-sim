{
 "cells": [
  {
   "cell_type": "markdown",
   "metadata": {},
   "source": [
    "## Simple Mission"
   ]
  },
  {
   "cell_type": "code",
   "execution_count": 1,
   "metadata": {},
   "outputs": [],
   "source": [
    "import numpy as np\n",
    "from pymavlink import mavutil\n",
    "import subprocess\n",
    "import os\n",
    "from plan import Plan,State "
   ]
  },
  {
   "cell_type": "markdown",
   "metadata": {},
   "source": [
    "Kill related process"
   ]
  },
  {
   "cell_type": "code",
   "execution_count": 2,
   "metadata": {},
   "outputs": [],
   "source": [
    "for process in [\"QGroundControl\", \"sim_vehicle.py\", \"arducopter\", \"gazebo\", \"mavproxy\"]:\n",
    "    os.system(f\"pkill -9 -f {process}\")"
   ]
  },
  {
   "cell_type": "markdown",
   "metadata": {},
   "source": [
    "Paths"
   ]
  },
  {
   "cell_type": "code",
   "execution_count": 3,
   "metadata": {},
   "outputs": [],
   "source": [
    "QGC_path='~/QGroundControl.AppImage'\n",
    "gazebo_word_path=\"gazebo_worlds/runway.world\"\n",
    "ardupilot_vehicle_path='~/ardupilot/Tools/autotest/sim_vehicle.py'"
   ]
  },
  {
   "cell_type": "markdown",
   "metadata": {},
   "source": [
    "Launch Copter (ardupilot)"
   ]
  },
  {
   "cell_type": "code",
   "execution_count": 4,
   "metadata": {},
   "outputs": [
    {
     "data": {
      "text/plain": [
       "<Popen: returncode: None args: ['gnome-terminal', '--', 'bash', '-c', 'pytho...>"
      ]
     },
     "execution_count": 4,
     "metadata": {},
     "output_type": "execute_result"
    }
   ],
   "source": [
    "sim_vehicle_path = os.path.expanduser(\"~/ardupilot/Tools/autotest/sim_vehicle.py\")\n",
    "vehicle_cmd = f\"python3 {sim_vehicle_path} -v ArduCopter\" \n",
    "# Open a new terminal and run the command\n",
    "subprocess.Popen([\"gnome-terminal\", \"--\", \"bash\", \"-c\", f\"{vehicle_cmd}; exec bash\"])"
   ]
  },
  {
   "cell_type": "markdown",
   "metadata": {},
   "source": [
    "Conect to the device"
   ]
  },
  {
   "cell_type": "code",
   "execution_count": 5,
   "metadata": {},
   "outputs": [
    {
     "name": "stdout",
     "output_type": "stream",
     "text": [
      "Heartbeat received. Connected to the vehicle.\n"
     ]
    }
   ],
   "source": [
    "conn = mavutil.mavlink_connection('udp:127.0.0.1:14550')\n",
    "\n",
    "conn.wait_heartbeat()\n",
    "print(\"Heartbeat received. Connected to the vehicle.\")"
   ]
  },
  {
   "cell_type": "code",
   "execution_count": 6,
   "metadata": {},
   "outputs": [
    {
     "name": "stdout",
     "output_type": "stream",
     "text": [
      "Plan 'Square Trajectory' created — no connection yet 🧩\n",
      "Action 'Pre-Arm Check' created — no connection yet 🧩\n",
      "Step 'Check disarmed' created — no connection yet 🧩\n",
      "Step 'Check EKF' created — no connection yet 🧩\n",
      "Step 'Check GPS' created — no connection yet 🧩\n",
      "Step 'Check system' created — no connection yet 🧩\n",
      "Action 'Set Mode: GUIDED' created — no connection yet 🧩\n",
      "Step 'Switch to GUIDED' created — no connection yet 🧩\n",
      "Action 'Set Navigation Speed' created — no connection yet 🧩\n",
      "Step 'Set speed to 1.00 m/s' created — no connection yet 🧩\n",
      "Action 'Arm' created — no connection yet 🧩\n",
      "Step 'arm' created — no connection yet 🧩\n",
      "Action 'takeoff' created — no connection yet 🧩\n",
      "Step 'takeoff' created — no connection yet 🧩\n",
      "Action 'fly' created — no connection yet 🧩\n",
      "Step 'go to  -> (0, 0, 5)' created — no connection yet 🧩\n",
      "Step 'go to  -> (0, 10, 5)' created — no connection yet 🧩\n",
      "Step 'go to  -> (10, 10, 5)' created — no connection yet 🧩\n",
      "Step 'go to  -> (10, 0, 5)' created — no connection yet 🧩\n",
      "Step 'go to  -> (0, 0, 5)' created — no connection yet 🧩\n",
      "Action 'Land' created — no connection yet 🧩\n",
      "Step 'land' created — no connection yet 🧩\n"
     ]
    }
   ],
   "source": [
    "plan=Plan.square(side_len=10,alt=5,wp_margin=0.5,navegation_speed=1,verbose=0)"
   ]
  },
  {
   "cell_type": "code",
   "execution_count": 7,
   "metadata": {},
   "outputs": [
    {
     "name": "stdout",
     "output_type": "stream",
     "text": [
      "🕓 <Plan 'Square Trajectory'>\n",
      "  🕓 <Action 'Pre-Arm Check'>\n",
      "    🕓 <Step 'Check disarmed'>\n",
      "    🕓 <Step 'Check EKF'>\n",
      "    🕓 <Step 'Check GPS'>\n",
      "    🕓 <Step 'Check system'>\n",
      "  🕓 <Action 'Set Mode: GUIDED'>\n",
      "    🕓 <Step 'Switch to GUIDED'>\n",
      "  🕓 <Action 'Set Navigation Speed'>\n",
      "    🕓 <Step 'Set speed to 1.00 m/s'>\n",
      "  🕓 <Action 'Arm'>\n",
      "    🕓 <Step 'arm'>\n",
      "  🕓 <Action 'takeoff'>\n",
      "    🕓 <Step 'takeoff'>\n",
      "  🕓 <Action 'fly'>\n",
      "    🕓 <Step 'go to  -> (0, 0, 5)'>\n",
      "    🕓 <Step 'go to  -> (0, 10, 5)'>\n",
      "    🕓 <Step 'go to  -> (10, 10, 5)'>\n",
      "    🕓 <Step 'go to  -> (10, 0, 5)'>\n",
      "    🕓 <Step 'go to  -> (0, 0, 5)'>\n",
      "  🕓 <Action 'Land'>\n",
      "    🕓 <Step 'land'>\n"
     ]
    }
   ],
   "source": [
    "print(plan)"
   ]
  },
  {
   "cell_type": "markdown",
   "metadata": {},
   "source": [
    "# Fly"
   ]
  },
  {
   "cell_type": "code",
   "execution_count": 8,
   "metadata": {},
   "outputs": [
    {
     "name": "stdout",
     "output_type": "stream",
     "text": [
      "Vehicle 1: Plan 'Square Trajectory' is now connected ✅🔗\n",
      "Vehicle 1: ▶️ Starting Plan: Square Trajectory\n",
      "Vehicle 1: Action 'Pre-Arm Check' is now connected ✅🔗\n",
      "Vehicle 1: ▶️ Starting Action: Pre-Arm Check\n",
      "Vehicle 1: Step 'Check disarmed' is now connected ✅🔗\n",
      "Vehicle 1: ▶️ Starting Step: Check disarmed\n",
      "Vehicle 1: ✅ Step: Check disarmed is done\n",
      "Vehicle 1: Step 'Check EKF' is now connected ✅🔗\n",
      "Vehicle 1: ▶️ Starting Step: Check EKF\n",
      "Vehicle 1: ✅ Step: Check EKF is done\n",
      "Vehicle 1: Step 'Check GPS' is now connected ✅🔗\n",
      "Vehicle 1: ▶️ Starting Step: Check GPS\n",
      "Vehicle 1: ✅ Step: Check GPS is done\n",
      "Vehicle 1: Step 'Check system' is now connected ✅🔗\n",
      "Vehicle 1: ▶️ Starting Step: Check system\n",
      "Vehicle 1: ✅ Step: Check system is done\n",
      "Vehicle 1: ✅ Action: Pre-Arm Check is done\n",
      "Vehicle 1: Action 'Set Mode: GUIDED' is now connected ✅🔗\n",
      "Vehicle 1: ▶️ Starting Action: Set Mode: GUIDED\n",
      "Vehicle 1: Step 'Switch to GUIDED' is now connected ✅🔗\n",
      "Vehicle 1: ▶️ Starting Step: Switch to GUIDED\n",
      "Vehicle 1: ✅ Step: Switch to GUIDED is done\n",
      "Vehicle 1: ✅ Action: Set Mode: GUIDED is done\n",
      "Vehicle 1: Action 'Set Navigation Speed' is now connected ✅🔗\n",
      "Vehicle 1: ▶️ Starting Action: Set Navigation Speed\n",
      "Vehicle 1: Step 'Set speed to 1.00 m/s' is now connected ✅🔗\n",
      "Vehicle 1: ▶️ Starting Step: Set speed to 1.00 m/s\n",
      "Vehicle 1: ✅ Step: Set speed to 1.00 m/s is done\n",
      "Vehicle 1: ✅ Action: Set Navigation Speed is done\n",
      "Vehicle 1: Action 'Arm' is now connected ✅🔗\n",
      "Vehicle 1: ▶️ Starting Action: Arm\n",
      "Vehicle 1: Step 'arm' is now connected ✅🔗\n",
      "Vehicle 1: ▶️ Starting Step: arm\n",
      "Vehicle 1: ✅ Step: arm is done\n",
      "Vehicle 1: ✅ Action: Arm is done\n",
      "Vehicle 1: Action 'takeoff' is now connected ✅🔗\n",
      "Vehicle 1: ▶️ Starting Action: takeoff\n",
      "Vehicle 1: Step 'takeoff' is now connected ✅🔗\n",
      "Vehicle 1: ▶️ Starting Step: takeoff\n",
      "Vehicle 1: ✅ Step: takeoff is done\n",
      "Vehicle 1: ✅ Action: takeoff is done\n",
      "Vehicle 1: Action 'fly' is now connected ✅🔗\n",
      "Vehicle 1: ▶️ Starting Action: fly\n",
      "Vehicle 1: Step 'go to  -> (0, 0, 5)' is now connected ✅🔗\n",
      "Vehicle 1: ▶️ Starting Step: go to  -> (0, 0, 5)\n",
      "Vehicle 1: ✅ Step: go to  -> (0, 0, 5) is done\n",
      "Vehicle 1: Step 'go to  -> (0, 10, 5)' is now connected ✅🔗\n",
      "Vehicle 1: ▶️ Starting Step: go to  -> (0, 10, 5)\n",
      "Vehicle 1: ✅ Step: go to  -> (0, 10, 5) is done\n",
      "Vehicle 1: Step 'go to  -> (10, 10, 5)' is now connected ✅🔗\n",
      "Vehicle 1: ▶️ Starting Step: go to  -> (10, 10, 5)\n",
      "Vehicle 1: ✅ Step: go to  -> (10, 10, 5) is done\n",
      "Vehicle 1: Step 'go to  -> (10, 0, 5)' is now connected ✅🔗\n",
      "Vehicle 1: ▶️ Starting Step: go to  -> (10, 0, 5)\n",
      "Vehicle 1: ✅ Step: go to  -> (10, 0, 5) is done\n",
      "Vehicle 1: Step 'go to  -> (0, 0, 5)' is now connected ✅🔗\n",
      "Vehicle 1: ▶️ Starting Step: go to  -> (0, 0, 5)\n",
      "Vehicle 1: ✅ Step: go to  -> (0, 0, 5) is done\n",
      "Vehicle 1: ✅ Action: fly is done\n",
      "Vehicle 1: Action 'Land' is now connected ✅🔗\n",
      "Vehicle 1: ▶️ Starting Action: Land\n",
      "Vehicle 1: Step 'land' is now connected ✅🔗\n",
      "Vehicle 1: ▶️ Starting Step: land\n",
      "Vehicle 1: ✅ Step: land is done\n",
      "Vehicle 1: ✅ Action: Land is done\n",
      "Vehicle 1: ✅ Plan: Square Trajectory is done\n"
     ]
    }
   ],
   "source": [
    "step_count = 0\n",
    "while plan.state!=State.DONE:\n",
    "    plan.act(conn)"
   ]
  },
  {
   "cell_type": "code",
   "execution_count": 9,
   "metadata": {},
   "outputs": [
    {
     "name": "stdout",
     "output_type": "stream",
     "text": [
      "✅ <Plan 'Square Trajectory'>\n",
      "  ✅ <Action 'Pre-Arm Check'>\n",
      "    ✅ <Step 'Check disarmed'>\n",
      "    ✅ <Step 'Check EKF'>\n",
      "    ✅ <Step 'Check GPS'>\n",
      "    ✅ <Step 'Check system'>\n",
      "  ✅ <Action 'Set Mode: GUIDED'>\n",
      "    ✅ <Step 'Switch to GUIDED'>\n",
      "  ✅ <Action 'Set Navigation Speed'>\n",
      "    ✅ <Step 'Set speed to 1.00 m/s'>\n",
      "  ✅ <Action 'Arm'>\n",
      "    ✅ <Step 'arm'>\n",
      "  ✅ <Action 'takeoff'>\n",
      "    ✅ <Step 'takeoff'>\n",
      "  ✅ <Action 'fly'>\n",
      "    ✅ <Step 'go to  -> (0, 0, 5)'>\n",
      "    ✅ <Step 'go to  -> (0, 10, 5)'>\n",
      "    ✅ <Step 'go to  -> (10, 10, 5)'>\n",
      "    ✅ <Step 'go to  -> (10, 0, 5)'>\n",
      "    ✅ <Step 'go to  -> (0, 0, 5)'>\n",
      "  ✅ <Action 'Land'>\n",
      "    ✅ <Step 'land'>\n"
     ]
    }
   ],
   "source": [
    "print(plan)"
   ]
  },
  {
   "cell_type": "code",
   "execution_count": 10,
   "metadata": {},
   "outputs": [],
   "source": [
    "plan.reset()"
   ]
  },
  {
   "cell_type": "code",
   "execution_count": 11,
   "metadata": {},
   "outputs": [
    {
     "name": "stdout",
     "output_type": "stream",
     "text": [
      "🕓 <Plan 'Square Trajectory'>\n",
      "  🕓 <Action 'Pre-Arm Check'>\n",
      "    🕓 <Step 'Check disarmed'>\n",
      "    🕓 <Step 'Check EKF'>\n",
      "    🕓 <Step 'Check GPS'>\n",
      "    🕓 <Step 'Check system'>\n",
      "  🕓 <Action 'Set Mode: GUIDED'>\n",
      "    🕓 <Step 'Switch to GUIDED'>\n",
      "  🕓 <Action 'Set Navigation Speed'>\n",
      "    🕓 <Step 'Set speed to 1.00 m/s'>\n",
      "  🕓 <Action 'Arm'>\n",
      "    🕓 <Step 'arm'>\n",
      "  🕓 <Action 'takeoff'>\n",
      "    🕓 <Step 'takeoff'>\n",
      "  🕓 <Action 'fly'>\n",
      "    🕓 <Step 'go to  -> (0, 0, 5)'>\n",
      "    🕓 <Step 'go to  -> (0, 10, 5)'>\n",
      "    🕓 <Step 'go to  -> (10, 10, 5)'>\n",
      "    🕓 <Step 'go to  -> (10, 0, 5)'>\n",
      "    🕓 <Step 'go to  -> (0, 0, 5)'>\n",
      "  🕓 <Action 'Land'>\n",
      "    🕓 <Step 'land'>\n"
     ]
    }
   ],
   "source": [
    "print(plan)"
   ]
  },
  {
   "cell_type": "code",
   "execution_count": null,
   "metadata": {},
   "outputs": [],
   "source": []
  }
 ],
 "metadata": {
  "kernelspec": {
   "display_name": "pymavlink",
   "language": "python",
   "name": "python3"
  },
  "language_info": {
   "codemirror_mode": {
    "name": "ipython",
    "version": 3
   },
   "file_extension": ".py",
   "mimetype": "text/x-python",
   "name": "python",
   "nbconvert_exporter": "python",
   "pygments_lexer": "ipython3",
   "version": "3.9.21"
  }
 },
 "nbformat": 4,
 "nbformat_minor": 2
}
