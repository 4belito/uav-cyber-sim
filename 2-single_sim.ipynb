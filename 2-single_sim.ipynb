{
 "cells": [
  {
   "cell_type": "markdown",
   "metadata": {},
   "source": [
    "## UAV fleet Simulation \n",
    "\n",
    "This is for testing propouses"
   ]
  },
  {
   "cell_type": "code",
   "execution_count": 1,
   "metadata": {},
   "outputs": [],
   "source": [
    "# Custom modules\n",
    "from config import Color\n",
    "from helpers import clean\n",
    "from helpers.change_coordinates import rel_to_abs\n",
    "from mavlink.customtypes.location import ENU, ENUPose, GRAPose\n",
    "from plan import Plan\n",
    "from simulators import QGC, ConfigGazebo, Gazebo, Simulator\n",
    "\n",
    "clean()"
   ]
  },
  {
   "cell_type": "markdown",
   "metadata": {},
   "source": [
    "## Create Plans"
   ]
  },
  {
   "cell_type": "code",
   "execution_count": 2,
   "metadata": {},
   "outputs": [],
   "source": [
    "offset = ENUPose(-1,1,0,0)  # east, north, up, heading \n",
    "origin = GRAPose(-35.3633245, 149.1652241, 0, 0)\n",
    "rel_path = Plan.create_square_path(side_len=5, alt=5,clockwise=False)\n",
    "plan = Plan.basic(wps=rel_path, wp_margin=0.5)"
   ]
  },
  {
   "cell_type": "markdown",
   "metadata": {},
   "source": [
    "## Visualization Parameters"
   ]
  },
  {
   "cell_type": "code",
   "execution_count": 3,
   "metadata": {},
   "outputs": [
    {
     "data": {
      "application/vnd.plotly.v1+json": {
       "config": {
        "plotlyServerURL": "https://plot.ly"
       },
       "data": [
        {
         "marker": {
          "color": [
           "blue",
           "blue",
           "blue",
           "blue",
           "blue"
          ],
          "size": 6
         },
         "mode": "markers",
         "name": "trajectory 0",
         "type": "scatter3d",
         "x": [
          -1,
          4,
          4,
          -1,
          -1
         ],
         "y": [
          1,
          1,
          6,
          6,
          1
         ],
         "z": [
          5,
          5,
          5,
          5,
          5
         ]
        }
       ],
       "layout": {
        "height": 600,
        "scene": {
         "xaxis": {
          "range": [
           -2,
           5
          ],
          "title": {
           "text": "x"
          }
         },
         "yaxis": {
          "range": [
           0,
           7
          ],
          "title": {
           "text": "y"
          }
         },
         "zaxis": {
          "range": [
           -0.05,
           5
          ],
          "title": {
           "text": "z"
          }
         }
        },
        "showlegend": true,
        "template": {
         "data": {
          "bar": [
           {
            "error_x": {
             "color": "#2a3f5f"
            },
            "error_y": {
             "color": "#2a3f5f"
            },
            "marker": {
             "line": {
              "color": "#E5ECF6",
              "width": 0.5
             },
             "pattern": {
              "fillmode": "overlay",
              "size": 10,
              "solidity": 0.2
             }
            },
            "type": "bar"
           }
          ],
          "barpolar": [
           {
            "marker": {
             "line": {
              "color": "#E5ECF6",
              "width": 0.5
             },
             "pattern": {
              "fillmode": "overlay",
              "size": 10,
              "solidity": 0.2
             }
            },
            "type": "barpolar"
           }
          ],
          "carpet": [
           {
            "aaxis": {
             "endlinecolor": "#2a3f5f",
             "gridcolor": "white",
             "linecolor": "white",
             "minorgridcolor": "white",
             "startlinecolor": "#2a3f5f"
            },
            "baxis": {
             "endlinecolor": "#2a3f5f",
             "gridcolor": "white",
             "linecolor": "white",
             "minorgridcolor": "white",
             "startlinecolor": "#2a3f5f"
            },
            "type": "carpet"
           }
          ],
          "choropleth": [
           {
            "colorbar": {
             "outlinewidth": 0,
             "ticks": ""
            },
            "type": "choropleth"
           }
          ],
          "contour": [
           {
            "colorbar": {
             "outlinewidth": 0,
             "ticks": ""
            },
            "colorscale": [
             [
              0,
              "#0d0887"
             ],
             [
              0.1111111111111111,
              "#46039f"
             ],
             [
              0.2222222222222222,
              "#7201a8"
             ],
             [
              0.3333333333333333,
              "#9c179e"
             ],
             [
              0.4444444444444444,
              "#bd3786"
             ],
             [
              0.5555555555555556,
              "#d8576b"
             ],
             [
              0.6666666666666666,
              "#ed7953"
             ],
             [
              0.7777777777777778,
              "#fb9f3a"
             ],
             [
              0.8888888888888888,
              "#fdca26"
             ],
             [
              1,
              "#f0f921"
             ]
            ],
            "type": "contour"
           }
          ],
          "contourcarpet": [
           {
            "colorbar": {
             "outlinewidth": 0,
             "ticks": ""
            },
            "type": "contourcarpet"
           }
          ],
          "heatmap": [
           {
            "colorbar": {
             "outlinewidth": 0,
             "ticks": ""
            },
            "colorscale": [
             [
              0,
              "#0d0887"
             ],
             [
              0.1111111111111111,
              "#46039f"
             ],
             [
              0.2222222222222222,
              "#7201a8"
             ],
             [
              0.3333333333333333,
              "#9c179e"
             ],
             [
              0.4444444444444444,
              "#bd3786"
             ],
             [
              0.5555555555555556,
              "#d8576b"
             ],
             [
              0.6666666666666666,
              "#ed7953"
             ],
             [
              0.7777777777777778,
              "#fb9f3a"
             ],
             [
              0.8888888888888888,
              "#fdca26"
             ],
             [
              1,
              "#f0f921"
             ]
            ],
            "type": "heatmap"
           }
          ],
          "histogram": [
           {
            "marker": {
             "pattern": {
              "fillmode": "overlay",
              "size": 10,
              "solidity": 0.2
             }
            },
            "type": "histogram"
           }
          ],
          "histogram2d": [
           {
            "colorbar": {
             "outlinewidth": 0,
             "ticks": ""
            },
            "colorscale": [
             [
              0,
              "#0d0887"
             ],
             [
              0.1111111111111111,
              "#46039f"
             ],
             [
              0.2222222222222222,
              "#7201a8"
             ],
             [
              0.3333333333333333,
              "#9c179e"
             ],
             [
              0.4444444444444444,
              "#bd3786"
             ],
             [
              0.5555555555555556,
              "#d8576b"
             ],
             [
              0.6666666666666666,
              "#ed7953"
             ],
             [
              0.7777777777777778,
              "#fb9f3a"
             ],
             [
              0.8888888888888888,
              "#fdca26"
             ],
             [
              1,
              "#f0f921"
             ]
            ],
            "type": "histogram2d"
           }
          ],
          "histogram2dcontour": [
           {
            "colorbar": {
             "outlinewidth": 0,
             "ticks": ""
            },
            "colorscale": [
             [
              0,
              "#0d0887"
             ],
             [
              0.1111111111111111,
              "#46039f"
             ],
             [
              0.2222222222222222,
              "#7201a8"
             ],
             [
              0.3333333333333333,
              "#9c179e"
             ],
             [
              0.4444444444444444,
              "#bd3786"
             ],
             [
              0.5555555555555556,
              "#d8576b"
             ],
             [
              0.6666666666666666,
              "#ed7953"
             ],
             [
              0.7777777777777778,
              "#fb9f3a"
             ],
             [
              0.8888888888888888,
              "#fdca26"
             ],
             [
              1,
              "#f0f921"
             ]
            ],
            "type": "histogram2dcontour"
           }
          ],
          "mesh3d": [
           {
            "colorbar": {
             "outlinewidth": 0,
             "ticks": ""
            },
            "type": "mesh3d"
           }
          ],
          "parcoords": [
           {
            "line": {
             "colorbar": {
              "outlinewidth": 0,
              "ticks": ""
             }
            },
            "type": "parcoords"
           }
          ],
          "pie": [
           {
            "automargin": true,
            "type": "pie"
           }
          ],
          "scatter": [
           {
            "fillpattern": {
             "fillmode": "overlay",
             "size": 10,
             "solidity": 0.2
            },
            "type": "scatter"
           }
          ],
          "scatter3d": [
           {
            "line": {
             "colorbar": {
              "outlinewidth": 0,
              "ticks": ""
             }
            },
            "marker": {
             "colorbar": {
              "outlinewidth": 0,
              "ticks": ""
             }
            },
            "type": "scatter3d"
           }
          ],
          "scattercarpet": [
           {
            "marker": {
             "colorbar": {
              "outlinewidth": 0,
              "ticks": ""
             }
            },
            "type": "scattercarpet"
           }
          ],
          "scattergeo": [
           {
            "marker": {
             "colorbar": {
              "outlinewidth": 0,
              "ticks": ""
             }
            },
            "type": "scattergeo"
           }
          ],
          "scattergl": [
           {
            "marker": {
             "colorbar": {
              "outlinewidth": 0,
              "ticks": ""
             }
            },
            "type": "scattergl"
           }
          ],
          "scattermap": [
           {
            "marker": {
             "colorbar": {
              "outlinewidth": 0,
              "ticks": ""
             }
            },
            "type": "scattermap"
           }
          ],
          "scattermapbox": [
           {
            "marker": {
             "colorbar": {
              "outlinewidth": 0,
              "ticks": ""
             }
            },
            "type": "scattermapbox"
           }
          ],
          "scatterpolar": [
           {
            "marker": {
             "colorbar": {
              "outlinewidth": 0,
              "ticks": ""
             }
            },
            "type": "scatterpolar"
           }
          ],
          "scatterpolargl": [
           {
            "marker": {
             "colorbar": {
              "outlinewidth": 0,
              "ticks": ""
             }
            },
            "type": "scatterpolargl"
           }
          ],
          "scatterternary": [
           {
            "marker": {
             "colorbar": {
              "outlinewidth": 0,
              "ticks": ""
             }
            },
            "type": "scatterternary"
           }
          ],
          "surface": [
           {
            "colorbar": {
             "outlinewidth": 0,
             "ticks": ""
            },
            "colorscale": [
             [
              0,
              "#0d0887"
             ],
             [
              0.1111111111111111,
              "#46039f"
             ],
             [
              0.2222222222222222,
              "#7201a8"
             ],
             [
              0.3333333333333333,
              "#9c179e"
             ],
             [
              0.4444444444444444,
              "#bd3786"
             ],
             [
              0.5555555555555556,
              "#d8576b"
             ],
             [
              0.6666666666666666,
              "#ed7953"
             ],
             [
              0.7777777777777778,
              "#fb9f3a"
             ],
             [
              0.8888888888888888,
              "#fdca26"
             ],
             [
              1,
              "#f0f921"
             ]
            ],
            "type": "surface"
           }
          ],
          "table": [
           {
            "cells": {
             "fill": {
              "color": "#EBF0F8"
             },
             "line": {
              "color": "white"
             }
            },
            "header": {
             "fill": {
              "color": "#C8D4E3"
             },
             "line": {
              "color": "white"
             }
            },
            "type": "table"
           }
          ]
         },
         "layout": {
          "annotationdefaults": {
           "arrowcolor": "#2a3f5f",
           "arrowhead": 0,
           "arrowwidth": 1
          },
          "autotypenumbers": "strict",
          "coloraxis": {
           "colorbar": {
            "outlinewidth": 0,
            "ticks": ""
           }
          },
          "colorscale": {
           "diverging": [
            [
             0,
             "#8e0152"
            ],
            [
             0.1,
             "#c51b7d"
            ],
            [
             0.2,
             "#de77ae"
            ],
            [
             0.3,
             "#f1b6da"
            ],
            [
             0.4,
             "#fde0ef"
            ],
            [
             0.5,
             "#f7f7f7"
            ],
            [
             0.6,
             "#e6f5d0"
            ],
            [
             0.7,
             "#b8e186"
            ],
            [
             0.8,
             "#7fbc41"
            ],
            [
             0.9,
             "#4d9221"
            ],
            [
             1,
             "#276419"
            ]
           ],
           "sequential": [
            [
             0,
             "#0d0887"
            ],
            [
             0.1111111111111111,
             "#46039f"
            ],
            [
             0.2222222222222222,
             "#7201a8"
            ],
            [
             0.3333333333333333,
             "#9c179e"
            ],
            [
             0.4444444444444444,
             "#bd3786"
            ],
            [
             0.5555555555555556,
             "#d8576b"
            ],
            [
             0.6666666666666666,
             "#ed7953"
            ],
            [
             0.7777777777777778,
             "#fb9f3a"
            ],
            [
             0.8888888888888888,
             "#fdca26"
            ],
            [
             1,
             "#f0f921"
            ]
           ],
           "sequentialminus": [
            [
             0,
             "#0d0887"
            ],
            [
             0.1111111111111111,
             "#46039f"
            ],
            [
             0.2222222222222222,
             "#7201a8"
            ],
            [
             0.3333333333333333,
             "#9c179e"
            ],
            [
             0.4444444444444444,
             "#bd3786"
            ],
            [
             0.5555555555555556,
             "#d8576b"
            ],
            [
             0.6666666666666666,
             "#ed7953"
            ],
            [
             0.7777777777777778,
             "#fb9f3a"
            ],
            [
             0.8888888888888888,
             "#fdca26"
            ],
            [
             1,
             "#f0f921"
            ]
           ]
          },
          "colorway": [
           "#636efa",
           "#EF553B",
           "#00cc96",
           "#ab63fa",
           "#FFA15A",
           "#19d3f3",
           "#FF6692",
           "#B6E880",
           "#FF97FF",
           "#FECB52"
          ],
          "font": {
           "color": "#2a3f5f"
          },
          "geo": {
           "bgcolor": "white",
           "lakecolor": "white",
           "landcolor": "#E5ECF6",
           "showlakes": true,
           "showland": true,
           "subunitcolor": "white"
          },
          "hoverlabel": {
           "align": "left"
          },
          "hovermode": "closest",
          "mapbox": {
           "style": "light"
          },
          "paper_bgcolor": "white",
          "plot_bgcolor": "#E5ECF6",
          "polar": {
           "angularaxis": {
            "gridcolor": "white",
            "linecolor": "white",
            "ticks": ""
           },
           "bgcolor": "#E5ECF6",
           "radialaxis": {
            "gridcolor": "white",
            "linecolor": "white",
            "ticks": ""
           }
          },
          "scene": {
           "xaxis": {
            "backgroundcolor": "#E5ECF6",
            "gridcolor": "white",
            "gridwidth": 2,
            "linecolor": "white",
            "showbackground": true,
            "ticks": "",
            "zerolinecolor": "white"
           },
           "yaxis": {
            "backgroundcolor": "#E5ECF6",
            "gridcolor": "white",
            "gridwidth": 2,
            "linecolor": "white",
            "showbackground": true,
            "ticks": "",
            "zerolinecolor": "white"
           },
           "zaxis": {
            "backgroundcolor": "#E5ECF6",
            "gridcolor": "white",
            "gridwidth": 2,
            "linecolor": "white",
            "showbackground": true,
            "ticks": "",
            "zerolinecolor": "white"
           }
          },
          "shapedefaults": {
           "line": {
            "color": "#2a3f5f"
           }
          },
          "ternary": {
           "aaxis": {
            "gridcolor": "white",
            "linecolor": "white",
            "ticks": ""
           },
           "baxis": {
            "gridcolor": "white",
            "linecolor": "white",
            "ticks": ""
           },
           "bgcolor": "#E5ECF6",
           "caxis": {
            "gridcolor": "white",
            "linecolor": "white",
            "ticks": ""
           }
          },
          "title": {
           "x": 0.05
          },
          "xaxis": {
           "automargin": true,
           "gridcolor": "white",
           "linecolor": "white",
           "ticks": "",
           "title": {
            "standoff": 15
           },
           "zerolinecolor": "white",
           "zerolinewidth": 2
          },
          "yaxis": {
           "automargin": true,
           "gridcolor": "white",
           "linecolor": "white",
           "ticks": "",
           "title": {
            "standoff": 15
           },
           "zerolinecolor": "white",
           "zerolinewidth": 2
          }
         }
        },
        "title": {
         "text": "Simulation Waypoints",
         "x": 0.5,
         "xanchor": "center"
        },
        "width": 800
       }
      }
     },
     "metadata": {},
     "output_type": "display_data"
    }
   ],
   "source": [
    "home = ENU(*offset[:3])\n",
    "abs_path = [rel_to_abs(pos, home, cls=ENU) for pos in rel_path]\n",
    "color = Color.BLUE\n",
    "markers = [\n",
    "\tConfigGazebo.create_markertraj(traj=abs_path, color=color)\n",
    "]\n",
    "Gazebo.plot_3d_interactive(\n",
    "\tmarkers=markers,\n",
    "\ttitle=\"Simulation Waypoints\",\n",
    "\tframes=(0.2, 0.2, 0.6),\n",
    "\tground=-0.05\n",
    ")"
   ]
  },
  {
   "cell_type": "markdown",
   "metadata": {},
   "source": [
    "## Choose Simulator"
   ]
  },
  {
   "cell_type": "code",
   "execution_count": 4,
   "metadata": {},
   "outputs": [],
   "source": [
    "\n",
    "\n",
    "\n",
    "simulator = QGC(offsets=[offset], plans=[plan], origin=origin)\n",
    "\n",
    "gazebo_config = ConfigGazebo(world_path=\"simulators/gazebo/worlds/runway.world\",\n",
    "                           models=[(\"iris\",color)],\n",
    "                           marker_trajs = markers)\n",
    "simulator = Gazebo(offsets=[offset],plans=[plan],config=gazebo_config)\n",
    "\n",
    "simulator = Simulator(offsets=[offset], plans=[plan],visible_terminals=False,verbose=2)"
   ]
  },
  {
   "cell_type": "markdown",
   "metadata": {},
   "source": [
    "Launch Simulator"
   ]
  },
  {
   "cell_type": "code",
   "execution_count": 5,
   "metadata": {},
   "outputs": [
    {
     "name": "stdout",
     "output_type": "stream",
     "text": [
      "🙈 Running without visualization.\n",
      "🚀 ArduPilot SITL vehicle 1 launched (PID 2386092)\n",
      "🚀 UAV logic for vehicle 1 launched (PID 2386093)\n",
      "🚀 Proxy for vehicle 1 launched (PID 2386094)\n",
      "🔗 UAV logic 1 is connected to Ardupilot SITL vehicle 1\n",
      "System id: 1\n",
      "System id: 1\n",
      "[Errno 111] Connection refused sleeping\n",
      "SIM_VEHICLE: Start\n",
      "SIM_VEHICLE: Killing tasks\n",
      "SIM_VEHICLE: Starting up at SITL location\n",
      "SIM_VEHICLE: Using defaults from (../../ardupilot/Tools/autotest/default_params/copter.parm)\n",
      "SIM_VEHICLE: Adding parameters from (/home/abeldg/uav-cyber-sim/params/vehicle.parm)\n",
      "Setting SIM_SPEEDUP=1.000000\n",
      "Setting MAV_SYSID=1\n",
      "Suggested EK3_DRAG_BCOEF_* = 17.209, EK3_DRAG_MCOEF = 0.209\n",
      "Starting sketch 'ArduCopter'\n",
      "Starting SITL input\n",
      "Using Irlock at port : 9005\n",
      "Waiting for connection ....\n"
     ]
    },
    {
     "name": "stderr",
     "output_type": "stream",
     "text": [
      "bind port 5760 for SERIAL0\n",
      "SERIAL0 on TCP port 5760\n"
     ]
    },
    {
     "name": "stdout",
     "output_type": "stream",
     "text": [
      "Connection on serial port 5760\n",
      "\n",
      "🚀 Starting Proxy 1\n",
      "Loaded defaults from ../../ardupilot/Tools/autotest/default_params/copter.parm,/home/abeldg/uav-cyber-sim/params/vehicle.parm\n",
      "Home: -35.363262 149.165237 alt=584.000000m hdg=353.000000\n",
      "Smoothing reset at 0.001\n",
      "Loaded defaults from ../../ardupilot/Tools/autotest/default_params/copter.parm,/home/abeldg/uav-cyber-sim/params/vehicle.parm\n",
      "Loaded defaults from ../../ardupilot/Tools/autotest/default_params/copter.parm,/home/abeldg/uav-cyber-sim/params/vehicle.parm\n",
      "Loaded defaults from ../../ardupilot/Tools/autotest/default_params/copter.parm,/home/abeldg/uav-cyber-sim/params/vehicle.parm\n",
      "Loaded defaults from ../../ardupilot/Tools/autotest/default_params/copter.parm,/home/abeldg/uav-cyber-sim/params/vehicle.parm\n",
      "Loaded defaults from ../../ardupilot/Tools/autotest/default_params/copter.parm,/home/abeldg/uav-cyber-sim/params/vehicle.parm\n",
      "Loaded defaults from ../../ardupilot/Tools/autotest/default_params/copter.parm,/home/abeldg/uav-cyber-sim/params/vehicle.parm\n",
      "Loaded defaults from ../../ardupilot/Tools/autotest/default_params/copter.parm,/home/abeldg/uav-cyber-sim/params/vehicle.parm\n",
      "Loaded defaults from ../../ardupilot/Tools/autotest/default_params/copter.parm,/home/abeldg/uav-cyber-sim/params/vehicle.parm\n",
      "Loaded defaults from ../../ardupilot/Tools/autotest/default_params/copter.parm,/home/abeldg/uav-cyber-sim/params/vehicle.parm\n",
      "Loaded defaults from ../../ardupilot/Tools/autotest/default_params/copter.parm,/home/abeldg/uav-cyber-sim/params/vehicle.parm\n",
      "Loaded defaults from ../../ardupilot/Tools/autotest/default_params/copter.parm,/home/abeldg/uav-cyber-sim/params/vehicle.parm\n",
      "Loaded defaults from ../../ardupilot/Tools/autotest/default_params/copter.parm,/home/abeldg/uav-cyber-sim/params/vehicle.parm\n",
      "Loaded defaults from ../../ardupilot/Tools/autotest/default_params/copter.parm,/home/abeldg/uav-cyber-sim/params/vehicle.parm\n",
      "Loaded defaults from ../../ardupilot/Tools/autotest/default_params/copter.parm,/home/abeldg/uav-cyber-sim/params/vehicle.parm\n",
      "Loaded defaults from ../../ardupilot/Tools/autotest/default_params/copter.parm,/home/abeldg/uav-cyber-sim/params/vehicle.parm\n",
      "Loaded defaults from ../../ardupilot/Tools/autotest/default_params/copter.parm,/home/abeldg/uav-cyber-sim/params/vehicle.parm\n",
      "Loaded defaults from ../../ardupilot/Tools/autotest/default_params/copter.parm,/home/abeldg/uav-cyber-sim/params/vehicle.parm\n",
      "Loaded defaults from ../../ardupilot/Tools/autotest/default_params/copter.parm,/home/abeldg/uav-cyber-sim/params/vehicle.parm\n",
      "Loaded defaults from ../../ardupilot/Tools/autotest/default_params/copter.parm,/home/abeldg/uav-cyber-sim/params/vehicle.parm\n",
      "Loaded defaults from ../../ardupilot/Tools/autotest/default_params/copter.parm,/home/abeldg/uav-cyber-sim/params/vehicle.parm\n",
      "Loaded defaults from ../../ardupilot/Tools/autotest/default_params/copter.parm,/home/abeldg/uav-cyber-sim/params/vehicle.parm\n",
      "Loaded defaults from ../../ardupilot/Tools/autotest/default_params/copter.parm,/home/abeldg/uav-cyber-sim/params/vehicle.parm\n",
      "Loaded defaults from ../../ardupilot/Tools/autotest/default_params/copter.parm,/home/abeldg/uav-cyber-sim/params/vehicle.parm\n"
     ]
    },
    {
     "name": "stderr",
     "output_type": "stream",
     "text": [
      "bind port 5762 for SERIAL1\n",
      "SERIAL1 on TCP port 5762\n",
      "bind port 5763 for SERIAL2\n",
      "SERIAL2 on TCP port 5763\n",
      "validate_structures:528: Validating structures\n",
      "Waiting for internal clock bits to be set (current=0x00)\n"
     ]
    },
    {
     "name": "stdout",
     "output_type": "stream",
     "text": [
      "🔗 UAV logic 1 is connected to Oracle ⚪\n",
      "✅ Heartbeat received\n",
      "\n",
      "🚀 Starting Vehicle 1 logic\n",
      "Vehicle 1: ▶️ Plan Started: 📋 basic\n",
      "🚀 GCS blue 🟦 launched (PID 2386270)\n"
     ]
    }
   ],
   "source": [
    "orac = simulator.launch(gcs_sysids={'blue 🟦':[1]})"
   ]
  },
  {
   "cell_type": "markdown",
   "metadata": {},
   "source": [
    "## Execute Plan"
   ]
  },
  {
   "cell_type": "code",
   "execution_count": null,
   "metadata": {},
   "outputs": [
    {
     "name": "stdout",
     "output_type": "stream",
     "text": [
      "Vehicle 1: ▶️ Action Started: 🔧 PREARM\n",
      "Vehicle 1: ▶️ Step Started: Check disarmed\n",
      "Vehicle 1: ✅ Step Done: Check disarmed\n",
      "📡 Requested message EKF_STATUS_REPORT at 1.00 Hz\n",
      "Vehicle 1: ▶️ Step Started: Check EKF status\n",
      "🔗 UAV logic 1 is connected\n",
      "SIM_VEHICLE: Waiting for SITL to exit\n",
      "⌛ Waiting for EKF to be ready... Pending: ATTITUDE, VELOCITY_HORIZ, POS_VERT_ABS, POS_HORIZ_ABS\n",
      "⌛ Waiting for EKF to be ready... Pending: ATTITUDE, VELOCITY_HORIZ, POS_VERT_ABS, POS_HORIZ_ABS\n",
      "⌛ Waiting for EKF to be ready... Pending: POS_HORIZ_ABS\n",
      "⌛ Waiting for EKF to be ready... Pending: POS_HORIZ_ABS\n",
      "⌛ Waiting for EKF to be ready... Pending: POS_HORIZ_ABS\n",
      "⌛ Waiting for EKF to be ready... Pending: POS_HORIZ_ABS\n",
      "⌛ Waiting for EKF to be ready... Pending: POS_HORIZ_ABS\n",
      "⌛ Waiting for EKF to be ready... Pending: POS_HORIZ_ABS\n",
      "⌛ Waiting for EKF to be ready... Pending: POS_HORIZ_ABS\n",
      "⌛ Waiting for EKF to be ready... Pending: POS_HORIZ_ABS\n",
      "⌛ Waiting for EKF to be ready... Pending: POS_HORIZ_ABS\n",
      "⌛ Waiting for EKF to be ready... Pending: POS_HORIZ_ABS\n",
      "⌛ Waiting for EKF to be ready... Pending: POS_HORIZ_ABS\n",
      "⌛ Waiting for EKF to be ready... Pending: POS_HORIZ_ABS\n",
      "⌛ Waiting for EKF to be ready... Pending: POS_HORIZ_ABS\n",
      "⌛ Waiting for EKF to be ready... Pending: POS_HORIZ_ABS\n",
      "⌛ Waiting for EKF to be ready... Pending: POS_HORIZ_ABS\n",
      "⌛ Waiting for EKF to be ready... Pending: POS_HORIZ_ABS\n",
      "⌛ Waiting for EKF to be ready... Pending: POS_HORIZ_ABS\n",
      "⌛ Waiting for EKF to be ready... Pending: POS_HORIZ_ABS\n",
      "⌛ Waiting for EKF to be ready... Pending: POS_HORIZ_ABS\n",
      "⌛ Waiting for EKF to be ready... Pending: POS_HORIZ_ABS\n",
      "⌛ Waiting for EKF to be ready... Pending: POS_HORIZ_ABS\n",
      "⌛ Waiting for EKF to be ready... Pending: POS_HORIZ_ABS\n",
      "⌛ Waiting for EKF to be ready... Pending: POS_HORIZ_ABS\n",
      "⌛ Waiting for EKF to be ready... Pending: POS_HORIZ_ABS\n",
      "⌛ Waiting for EKF to be ready... Pending: POS_HORIZ_ABS\n",
      "⌛ Waiting for EKF to be ready... Pending: POS_HORIZ_ABS\n",
      "⌛ Waiting for EKF to be ready... Pending: POS_HORIZ_ABS\n",
      "⌛ Waiting for EKF to be ready... Pending: POS_HORIZ_ABS\n",
      "⌛ Waiting for EKF to be ready... Pending: POS_HORIZ_ABS\n",
      "⌛ Waiting for EKF to be ready... Pending: POS_HORIZ_ABS\n",
      "⌛ Waiting for EKF to be ready... Pending: POS_HORIZ_ABS\n",
      "⌛ Waiting for EKF to be ready... Pending: POS_HORIZ_ABS\n",
      "⌛ Waiting for EKF to be ready... Pending: POS_HORIZ_ABS\n",
      "⌛ Waiting for EKF to be ready... Pending: POS_HORIZ_ABS\n",
      "⌛ Waiting for EKF to be ready... Pending: POS_HORIZ_ABS\n",
      "⌛ Waiting for EKF to be ready... Pending: POS_HORIZ_ABS\n",
      "Vehicle 1: ✅ Step Done: Check EKF status\n",
      "📡 Requested message GPS_RAW_INT at 1.00 Hz\n",
      "Vehicle 1: ▶️ Step Started: Check GPS\n",
      "Vehicle 1: ✅ Step Done: Check GPS\n",
      "📡 Requested message SYS_STATUS at 1.00 Hz\n",
      "Vehicle 1: ▶️ Step Started: Check system\n",
      "Vehicle 1: ✅ Step Done: Check system\n",
      "Vehicle 1: ✅ Action Done: 🔧 PREARM\n",
      "Vehicle 1: ▶️ Action Started: ⚙️ MODE: GUIDED\n",
      "Vehicle 1: ▶️ Step Started: Switch to GUIDED\n",
      "Vehicle 1: ✅ Step Done: Switch to GUIDED\n",
      "Vehicle 1: ✅ Action Done: ⚙️ MODE: GUIDED\n",
      "Vehicle 1: ▶️ Action Started: 🔐 ARM\n",
      "Vehicle 1: ▶️ Step Started: arm\n",
      "Vehicle 1: ✅ Step Done: arm\n",
      "Vehicle 1: ✅ Action Done: 🔐 ARM\n",
      "Vehicle 1: ▶️ Action Started: 🛫 TAKEOFF\n",
      "📡 Requested message EXTENDED_SYS_STATE at 1.00 Hz\n",
      "Vehicle 1: ▶️ Step Started: takeoff\n",
      "Vehicle 1: ✅ Step Done: takeoff\n",
      "Vehicle 1: ✅ Action Done: 🛫 TAKEOFF\n",
      "Vehicle 1: ▶️ Action Started: 🛩️ FLY\n",
      "📡 Requested message LOCAL_POSITION_NED at 10.00 Hz\n",
      "Vehicle 1: ▶️ Step Started: go to  -> (0, 0, 5)\n",
      "Vehicle 1:📍 Distance to target: 4.86 m\n",
      "Vehicle 1:📍 Distance to target: 4.77 m\n",
      "Vehicle 1:📍 Distance to target: 4.66 m\n",
      "Vehicle 1:📍 Distance to target: 4.56 m\n",
      "Vehicle 1:📍 Distance to target: 4.46 m\n",
      "Vehicle 1:📍 Distance to target: 4.36 m\n",
      "Vehicle 1:📍 Distance to target: 4.26 m\n",
      "Vehicle 1:📍 Distance to target: 4.16 m\n",
      "Vehicle 1:📍 Distance to target: 4.05 m\n",
      "Vehicle 1:📍 Distance to target: 3.93 m\n",
      "Vehicle 1:📍 Distance to target: 3.80 m\n",
      "Vehicle 1:📍 Distance to target: 3.66 m\n",
      "Vehicle 1:📍 Distance to target: 3.52 m\n",
      "Vehicle 1:📍 Distance to target: 3.36 m\n",
      "Vehicle 1:📍 Distance to target: 3.20 m\n",
      "Vehicle 1:📍 Distance to target: 3.03 m\n",
      "Vehicle 1:📍 Distance to target: 2.85 m\n",
      "Vehicle 1:📍 Distance to target: 2.68 m\n",
      "Vehicle 1:📍 Distance to target: 2.51 m\n",
      "Vehicle 1:📍 Distance to target: 2.34 m\n",
      "Vehicle 1:📍 Distance to target: 2.17 m\n",
      "Vehicle 1:📍 Distance to target: 2.01 m\n",
      "Vehicle 1:📍 Distance to target: 1.86 m\n",
      "Vehicle 1:📍 Distance to target: 1.71 m\n",
      "Vehicle 1:📍 Distance to target: 1.57 m\n",
      "Vehicle 1:📍 Distance to target: 1.43 m\n",
      "Vehicle 1:📍 Distance to target: 1.30 m\n",
      "Vehicle 1:📍 Distance to target: 1.18 m\n",
      "Vehicle 1:📍 Distance to target: 1.06 m\n",
      "Vehicle 1:📍 Distance to target: 0.95 m\n",
      "Vehicle 1:📍 Distance to target: 0.85 m\n",
      "Vehicle 1:📍 Distance to target: 0.75 m\n",
      "Vehicle 1:📍 Distance to target: 0.66 m\n",
      "Vehicle 1:📍 Distance to target: 0.57 m\n",
      "Vehicle 1:📍 Distance to target: 0.49 m\n",
      "Vehicle 1: ✅ Step Done: go to  -> (0, 0, 5)\n",
      "📡 Requested message LOCAL_POSITION_NED at 10.00 Hz\n",
      "Vehicle 1: ▶️ Step Started: go to  -> (5, 0, 5)\n",
      "Vehicle 1:📍 Distance to target: 5.04 m\n",
      "Vehicle 1:📍 Distance to target: 5.03 m\n",
      "Vehicle 1:📍 Distance to target: 5.02 m\n",
      "Vehicle 1:📍 Distance to target: 5.00 m\n",
      "Vehicle 1:📍 Distance to target: 4.97 m\n",
      "Vehicle 1:📍 Distance to target: 4.91 m\n",
      "Vehicle 1:📍 Distance to target: 4.84 m\n",
      "Vehicle 1:📍 Distance to target: 4.73 m\n",
      "Vehicle 1:📍 Distance to target: 4.60 m\n",
      "Vehicle 1:📍 Distance to target: 4.45 m\n",
      "Vehicle 1:📍 Distance to target: 4.27 m\n",
      "Vehicle 1:📍 Distance to target: 4.07 m\n",
      "Vehicle 1:📍 Distance to target: 3.85 m\n",
      "Vehicle 1:📍 Distance to target: 3.61 m\n",
      "Vehicle 1:📍 Distance to target: 3.37 m\n",
      "Vehicle 1:📍 Distance to target: 3.12 m\n",
      "Vehicle 1:📍 Distance to target: 2.87 m\n",
      "Vehicle 1:📍 Distance to target: 2.62 m\n",
      "Vehicle 1:📍 Distance to target: 2.38 m\n",
      "Vehicle 1:📍 Distance to target: 2.14 m\n",
      "Vehicle 1:📍 Distance to target: 1.90 m\n",
      "Vehicle 1:📍 Distance to target: 1.68 m\n",
      "Vehicle 1:📍 Distance to target: 1.47 m\n",
      "Vehicle 1:📍 Distance to target: 1.27 m\n",
      "Vehicle 1:📍 Distance to target: 1.08 m\n",
      "Vehicle 1:📍 Distance to target: 0.90 m\n",
      "Vehicle 1:📍 Distance to target: 0.74 m\n",
      "Vehicle 1:📍 Distance to target: 0.60 m\n",
      "Vehicle 1:📍 Distance to target: 0.47 m\n",
      "Vehicle 1: ✅ Step Done: go to  -> (5, 0, 5)\n",
      "📡 Requested message LOCAL_POSITION_NED at 10.00 Hz\n",
      "Vehicle 1: ▶️ Step Started: go to  -> (5, 5, 5)\n",
      "Vehicle 1:📍 Distance to target: 5.02 m\n",
      "Vehicle 1:📍 Distance to target: 5.01 m\n",
      "Vehicle 1:📍 Distance to target: 5.00 m\n",
      "Vehicle 1:📍 Distance to target: 4.99 m\n",
      "Vehicle 1:📍 Distance to target: 4.95 m\n",
      "Vehicle 1:📍 Distance to target: 4.90 m\n",
      "Vehicle 1:📍 Distance to target: 4.82 m\n",
      "Vehicle 1:📍 Distance to target: 4.72 m\n",
      "Vehicle 1:📍 Distance to target: 4.59 m\n",
      "Vehicle 1:📍 Distance to target: 4.44 m\n",
      "Vehicle 1:📍 Distance to target: 4.26 m\n",
      "Vehicle 1:📍 Distance to target: 4.06 m\n",
      "Vehicle 1:📍 Distance to target: 3.84 m\n",
      "Vehicle 1:📍 Distance to target: 3.60 m\n",
      "Vehicle 1:📍 Distance to target: 3.36 m\n",
      "Vehicle 1:📍 Distance to target: 3.11 m\n",
      "Vehicle 1:📍 Distance to target: 2.87 m\n",
      "Vehicle 1:📍 Distance to target: 2.62 m\n",
      "Vehicle 1:📍 Distance to target: 2.38 m\n",
      "Vehicle 1:📍 Distance to target: 2.15 m\n",
      "Vehicle 1:📍 Distance to target: 1.92 m\n",
      "Vehicle 1:📍 Distance to target: 1.69 m\n",
      "Vehicle 1:📍 Distance to target: 1.48 m\n",
      "Vehicle 1:📍 Distance to target: 1.28 m\n",
      "Vehicle 1:📍 Distance to target: 1.10 m\n",
      "Vehicle 1:📍 Distance to target: 0.92 m\n",
      "Vehicle 1:📍 Distance to target: 0.76 m\n",
      "Vehicle 1:📍 Distance to target: 0.62 m\n",
      "Vehicle 1:📍 Distance to target: 0.48 m\n",
      "Vehicle 1: ✅ Step Done: go to  -> (5, 5, 5)\n",
      "📡 Requested message LOCAL_POSITION_NED at 10.00 Hz\n",
      "Vehicle 1: ▶️ Step Started: go to  -> (0, 5, 5)\n",
      "Vehicle 1:📍 Distance to target: 5.12 m\n",
      "Vehicle 1:📍 Distance to target: 5.11 m\n",
      "Vehicle 1:📍 Distance to target: 5.10 m\n",
      "Vehicle 1:📍 Distance to target: 5.08 m\n",
      "Vehicle 1:📍 Distance to target: 5.04 m\n",
      "Vehicle 1:📍 Distance to target: 4.98 m\n",
      "Vehicle 1:📍 Distance to target: 4.90 m\n",
      "Vehicle 1:📍 Distance to target: 4.79 m\n",
      "Vehicle 1:📍 Distance to target: 4.66 m\n",
      "Vehicle 1:📍 Distance to target: 4.50 m\n",
      "Vehicle 1:📍 Distance to target: 4.32 m\n",
      "Vehicle 1:📍 Distance to target: 4.11 m\n",
      "Vehicle 1:📍 Distance to target: 3.89 m\n",
      "Vehicle 1:📍 Distance to target: 3.65 m\n",
      "Vehicle 1:📍 Distance to target: 3.40 m\n",
      "Vehicle 1:📍 Distance to target: 3.16 m\n",
      "Vehicle 1:📍 Distance to target: 2.91 m\n",
      "Vehicle 1:📍 Distance to target: 2.66 m\n",
      "Vehicle 1:📍 Distance to target: 2.42 m\n",
      "Vehicle 1:📍 Distance to target: 2.19 m\n",
      "Vehicle 1:📍 Distance to target: 1.96 m\n",
      "Vehicle 1:📍 Distance to target: 1.74 m\n",
      "Vehicle 1:📍 Distance to target: 1.54 m\n",
      "Vehicle 1:📍 Distance to target: 1.34 m\n",
      "Vehicle 1:📍 Distance to target: 1.15 m\n",
      "Vehicle 1:📍 Distance to target: 0.98 m\n",
      "Vehicle 1:📍 Distance to target: 0.83 m\n",
      "Vehicle 1:📍 Distance to target: 0.68 m\n",
      "Vehicle 1:📍 Distance to target: 0.56 m\n",
      "Vehicle 1:📍 Distance to target: 0.45 m\n",
      "Vehicle 1: ✅ Step Done: go to  -> (0, 5, 5)\n",
      "📡 Requested message LOCAL_POSITION_NED at 10.00 Hz\n",
      "Vehicle 1: ▶️ Step Started: go to  -> (0, 0, 5)\n",
      "Vehicle 1:📍 Distance to target: 5.17 m\n",
      "Vehicle 1:📍 Distance to target: 5.16 m\n",
      "Vehicle 1:📍 Distance to target: 5.15 m\n",
      "Vehicle 1:📍 Distance to target: 5.12 m\n",
      "Vehicle 1:📍 Distance to target: 5.08 m\n",
      "Vehicle 1:📍 Distance to target: 5.02 m\n",
      "Vehicle 1:📍 Distance to target: 4.94 m\n",
      "Vehicle 1:📍 Distance to target: 4.83 m\n",
      "Vehicle 1:📍 Distance to target: 4.70 m\n",
      "Vehicle 1:📍 Distance to target: 4.54 m\n",
      "Vehicle 1:📍 Distance to target: 4.36 m\n",
      "Vehicle 1:📍 Distance to target: 4.15 m\n",
      "Vehicle 1:📍 Distance to target: 3.92 m\n",
      "Vehicle 1:📍 Distance to target: 3.68 m\n",
      "Vehicle 1:📍 Distance to target: 3.44 m\n",
      "Vehicle 1:📍 Distance to target: 3.18 m\n",
      "Vehicle 1:📍 Distance to target: 2.93 m\n",
      "Vehicle 1:📍 Distance to target: 2.68 m\n",
      "Vehicle 1:📍 Distance to target: 2.44 m\n",
      "Vehicle 1:📍 Distance to target: 2.20 m\n",
      "Vehicle 1:📍 Distance to target: 1.97 m\n",
      "Vehicle 1:📍 Distance to target: 1.74 m\n",
      "Vehicle 1:📍 Distance to target: 1.53 m\n",
      "Vehicle 1:📍 Distance to target: 1.33 m\n",
      "Vehicle 1:📍 Distance to target: 1.14 m\n",
      "Vehicle 1:📍 Distance to target: 0.96 m\n",
      "Vehicle 1:📍 Distance to target: 0.80 m\n",
      "Vehicle 1:📍 Distance to target: 0.65 m\n",
      "Vehicle 1:📍 Distance to target: 0.52 m\n",
      "Vehicle 1:📍 Distance to target: 0.40 m\n",
      "Vehicle 1: ✅ Step Done: go to  -> (0, 0, 5)\n",
      "Vehicle 1: ✅ Action Done: 🛩️ FLY\n",
      "Vehicle 1: ▶️ Action Started: 🛬 LAND\n",
      "📡 Requested message EXTENDED_SYS_STATE at 10.00 Hz\n",
      "📡 Requested message LOCAL_POSITION_NED at 10.00 Hz\n",
      "Vehicle 1: ▶️ Step Started: land\n",
      "Vehicle 1: 🛬 Altitute: 5.00 m\n",
      "Vehicle 1: 🛬 Altitute: 4.94 m\n",
      "Vehicle 1: 🛬 Altitute: 3.14 m\n",
      "Vehicle 1: 🛬 Altitute: 2.79 m\n",
      "Vehicle 1: 🛬 Altitute: 2.74 m\n",
      "Vehicle 1: 🛬 Altitute: 2.69 m\n",
      "Vehicle 1: 🛬 Altitute: 2.64 m\n",
      "Vehicle 1: 🛬 Altitute: 2.54 m\n",
      "Vehicle 1: 🛬 Altitute: 2.49 m\n",
      "Vehicle 1: 🛬 Altitute: 2.34 m\n",
      "Vehicle 1: 🛬 Altitute: 2.29 m\n",
      "Vehicle 1: 🛬 Altitute: 2.24 m\n",
      "Vehicle 1: 🛬 Altitute: 2.19 m\n",
      "Vehicle 1: 🛬 Altitute: 2.14 m\n",
      "Vehicle 1: 🛬 Altitute: 2.09 m\n",
      "Vehicle 1: 🛬 Altitute: 2.04 m\n",
      "Vehicle 1: 🛬 Altitute: 1.89 m\n",
      "Vehicle 1: 🛬 Altitute: 1.74 m\n",
      "Vehicle 1: 🛬 Altitute: 1.69 m\n",
      "Vehicle 1: 🛬 Altitute: 1.64 m\n",
      "Vehicle 1: 🛬 Altitute: 1.59 m\n",
      "Vehicle 1: 🛬 Altitute: 1.54 m\n",
      "Vehicle 1: 🛬 Altitute: 1.49 m\n",
      "Vehicle 1: 🛬 Altitute: 1.44 m\n",
      "Vehicle 1: 🛬 Altitute: 1.39 m\n",
      "Vehicle 1: 🛬 Altitute: 1.19 m\n",
      "Vehicle 1: 🛬 Altitute: 1.14 m\n",
      "Vehicle 1: 🛬 Altitute: 1.09 m\n",
      "Vehicle 1: 🛬 Altitute: 1.04 m\n",
      "Vehicle 1: 🛬 Altitute: 0.99 m\n",
      "Vehicle 1: 🛬 Altitute: 0.89 m\n",
      "Vehicle 1: 🛬 Altitute: 0.84 m\n",
      "Vehicle 1: 🛬 Altitute: 0.79 m\n",
      "Vehicle 1: 🛬 Altitute: 0.74 m\n",
      "Vehicle 1: 🛬 Altitute: 0.54 m\n",
      "Vehicle 1: 🛬 Altitute: 0.49 m\n",
      "Vehicle 1: 🛬 Altitute: 0.44 m\n",
      "Vehicle 1: 🛬 Altitute: 0.39 m\n",
      "Vehicle 1: 🛬 Altitute: 0.34 m\n",
      "Vehicle 1: 🛬 Altitute: 0.29 m\n",
      "Vehicle 1: 🛬 Altitute: 0.24 m\n",
      "Vehicle 1: 🛬 Altitute: 0.19 m\n",
      "Vehicle 1: 🛬 Altitute: 0.14 m\n",
      "Vehicle 1: 🛬 Altitute: 0.09 m\n",
      "Vehicle 1: 🛬 Altitute: -0.04 m\n",
      "Vehicle 1: 🛬 Altitute: -0.03 m\n",
      "Vehicle 1: 🛬 Altitute: -0.02 m\n",
      "Vehicle 1: 🛬 Altitute: -0.01 m\n",
      "Vehicle 1: 🛬 Altitute: -0.01 m\n",
      "Vehicle 1: 🛬 Altitute: -0.01 m\n",
      "Vehicle 1: 🛬 Altitute: -0.02 m\n",
      "Vehicle 1: 🛬 Altitute: -0.02 m\n",
      "Vehicle 1: 🛬 Altitute: -0.02 m\n",
      "Vehicle 1: 🛬 Altitute: -0.02 m\n",
      "Vehicle 1: 🛬 Altitute: -0.02 m\n",
      "Vehicle 1: ✅ Step Done: land\n",
      "Vehicle 1: ✅ Action Done: 🛬 LAND\n",
      "Vehicle 1: ✅ Plan Done: 📋 basic\n",
      "📤 GCS ← UAV 1: Sending DONE (attempt 1)\n",
      "✅ Vehicle 1 completed its mission\n",
      "✅ ACK received. DONE message acknowledged.\n",
      "📤 GCS ← UAV 1: Sending DONE (attempt 1)\n"
     ]
    },
    {
     "name": "stdout",
     "output_type": "stream",
     "text": [
      "📤 GCS ← UAV 1: Sending DONE (attempt 2)\n",
      "📤 GCS ← UAV 1: Sending DONE (attempt 3)\n",
      "📤 GCS ← UAV 1: Sending DONE (attempt 4)\n",
      "✅ Vehicle 1 completed its mission\n",
      "✅ All UAVs assigned to GCS blue 🟦 have completed their mission.\n",
      "✅ ACK received. DONE message acknowledged.\n",
      "❎ Vehicle 1 logic stopped.\n",
      "Connection reset or closed by peer on TCP socket\n",
      "💾 Trajectories saved to 'trajectories_blue 🟦.pkl'.\n",
      "❎ Proxy 1 stopped.\n",
      "Closed connection on SERIAL0\n"
     ]
    }
   ],
   "source": [
    "while len(orac.conns):\n",
    "    for sysid in list(orac.conns.keys()):\n",
    "        if orac.is_plan_done(sysid):\n",
    "            orac.remove(sysid)"
   ]
  },
  {
   "cell_type": "code",
   "execution_count": null,
   "metadata": {},
   "outputs": [],
   "source": []
  }
 ],
 "metadata": {
  "kernelspec": {
   "display_name": "uav-cyber-sim-py311",
   "language": "python",
   "name": "python3"
  },
  "language_info": {
   "codemirror_mode": {
    "name": "ipython",
    "version": 3
   },
   "file_extension": ".py",
   "mimetype": "text/x-python",
   "name": "python",
   "nbconvert_exporter": "python",
   "pygments_lexer": "ipython3",
   "version": "3.11.11"
  }
 },
 "nbformat": 4,
 "nbformat_minor": 2
}
