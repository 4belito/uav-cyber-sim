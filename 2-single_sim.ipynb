{
 "cells": [
  {
   "cell_type": "markdown",
   "metadata": {},
   "source": [
    "## Auto mode (single uav)\n",
    "\n",
    "This is for testing propouses"
   ]
  },
  {
   "cell_type": "code",
   "execution_count": 1,
   "metadata": {},
   "outputs": [],
   "source": [
    "# Custom modules\n",
    "from config import Color\n",
    "from helpers import clean  #, local2global\n",
    "from mavlink.customtypes.location import ENUPose, GRAPose\n",
    "from plan import Plan\n",
    "from simulator import (\n",
    "    QGC,\n",
    "    ConfigGazebo,\n",
    "    ConfigQGC,\n",
    "    ConfigVis,\n",
    "    Gazebo,\n",
    "    NoneVisualizer,\n",
    "    Simulator,\n",
    ")\n",
    "\n",
    "clean()"
   ]
  },
  {
   "cell_type": "markdown",
   "metadata": {},
   "source": [
    "## Simulation Configuration"
   ]
  },
  {
   "cell_type": "code",
   "execution_count": null,
   "metadata": {},
   "outputs": [],
   "source": [
    "gra_origin = GRAPose(-35.3633280, 149.1652241, 0, 90)   # east, north, up, heading\n",
    "enu_origin = ENUPose(0, 0, gra_origin.alt, gra_origin.heading) \n",
    "\n",
    "base_home = ENUPose(5,5,0,45)\n",
    "base_path = Plan.create_square_path(side_len=10, alt=5,heading=0)\n",
    "\n",
    "color =Color.BLUE"
   ]
  },
  {
   "cell_type": "markdown",
   "metadata": {},
   "source": [
    "## Gazebo Congiguration"
   ]
  },
  {
   "cell_type": "code",
   "execution_count": 3,
   "metadata": {},
   "outputs": [
    {
     "data": {
      "application/vnd.plotly.v1+json": {
       "config": {
        "plotlyServerURL": "https://plot.ly"
       },
       "data": [
        {
         "marker": {
          "color": [
           "blue",
           "blue",
           "blue",
           "blue",
           "blue"
          ],
          "size": 6
         },
         "mode": "markers",
         "name": "trajectory 0",
         "type": "scatter3d",
         "x": [
          -5,
          -12.071067811865476,
          -19.14213562373095,
          -12.071067811865476,
          -5
         ],
         "y": [
          5,
          -2.0710678118654737,
          5.000000000000002,
          12.071067811865476,
          5
         ],
         "z": [
          5,
          5,
          5,
          5,
          5
         ]
        },
        {
         "marker": {
          "color": "white",
          "size": 8
         },
         "mode": "markers+text",
         "name": "origin",
         "text": [
          "origin"
         ],
         "textposition": "top center",
         "type": "scatter3d",
         "x": [
          0
         ],
         "y": [
          0
         ],
         "z": [
          0
         ]
        }
       ],
       "layout": {
        "height": 600,
        "scene": {
         "xaxis": {
          "range": [
           -22.970562748477143,
           3.8284271247461903
          ],
          "title": {
           "text": "x"
          }
         },
         "yaxis": {
          "range": [
           -4.899494936611664,
           14.899494936611665
          ],
          "title": {
           "text": "y"
          }
         },
         "zaxis": {
          "range": [
           0,
           6
          ],
          "title": {
           "text": "z"
          }
         }
        },
        "showlegend": true,
        "template": {
         "data": {
          "bar": [
           {
            "error_x": {
             "color": "#2a3f5f"
            },
            "error_y": {
             "color": "#2a3f5f"
            },
            "marker": {
             "line": {
              "color": "#E5ECF6",
              "width": 0.5
             },
             "pattern": {
              "fillmode": "overlay",
              "size": 10,
              "solidity": 0.2
             }
            },
            "type": "bar"
           }
          ],
          "barpolar": [
           {
            "marker": {
             "line": {
              "color": "#E5ECF6",
              "width": 0.5
             },
             "pattern": {
              "fillmode": "overlay",
              "size": 10,
              "solidity": 0.2
             }
            },
            "type": "barpolar"
           }
          ],
          "carpet": [
           {
            "aaxis": {
             "endlinecolor": "#2a3f5f",
             "gridcolor": "white",
             "linecolor": "white",
             "minorgridcolor": "white",
             "startlinecolor": "#2a3f5f"
            },
            "baxis": {
             "endlinecolor": "#2a3f5f",
             "gridcolor": "white",
             "linecolor": "white",
             "minorgridcolor": "white",
             "startlinecolor": "#2a3f5f"
            },
            "type": "carpet"
           }
          ],
          "choropleth": [
           {
            "colorbar": {
             "outlinewidth": 0,
             "ticks": ""
            },
            "type": "choropleth"
           }
          ],
          "contour": [
           {
            "colorbar": {
             "outlinewidth": 0,
             "ticks": ""
            },
            "colorscale": [
             [
              0,
              "#0d0887"
             ],
             [
              0.1111111111111111,
              "#46039f"
             ],
             [
              0.2222222222222222,
              "#7201a8"
             ],
             [
              0.3333333333333333,
              "#9c179e"
             ],
             [
              0.4444444444444444,
              "#bd3786"
             ],
             [
              0.5555555555555556,
              "#d8576b"
             ],
             [
              0.6666666666666666,
              "#ed7953"
             ],
             [
              0.7777777777777778,
              "#fb9f3a"
             ],
             [
              0.8888888888888888,
              "#fdca26"
             ],
             [
              1,
              "#f0f921"
             ]
            ],
            "type": "contour"
           }
          ],
          "contourcarpet": [
           {
            "colorbar": {
             "outlinewidth": 0,
             "ticks": ""
            },
            "type": "contourcarpet"
           }
          ],
          "heatmap": [
           {
            "colorbar": {
             "outlinewidth": 0,
             "ticks": ""
            },
            "colorscale": [
             [
              0,
              "#0d0887"
             ],
             [
              0.1111111111111111,
              "#46039f"
             ],
             [
              0.2222222222222222,
              "#7201a8"
             ],
             [
              0.3333333333333333,
              "#9c179e"
             ],
             [
              0.4444444444444444,
              "#bd3786"
             ],
             [
              0.5555555555555556,
              "#d8576b"
             ],
             [
              0.6666666666666666,
              "#ed7953"
             ],
             [
              0.7777777777777778,
              "#fb9f3a"
             ],
             [
              0.8888888888888888,
              "#fdca26"
             ],
             [
              1,
              "#f0f921"
             ]
            ],
            "type": "heatmap"
           }
          ],
          "histogram": [
           {
            "marker": {
             "pattern": {
              "fillmode": "overlay",
              "size": 10,
              "solidity": 0.2
             }
            },
            "type": "histogram"
           }
          ],
          "histogram2d": [
           {
            "colorbar": {
             "outlinewidth": 0,
             "ticks": ""
            },
            "colorscale": [
             [
              0,
              "#0d0887"
             ],
             [
              0.1111111111111111,
              "#46039f"
             ],
             [
              0.2222222222222222,
              "#7201a8"
             ],
             [
              0.3333333333333333,
              "#9c179e"
             ],
             [
              0.4444444444444444,
              "#bd3786"
             ],
             [
              0.5555555555555556,
              "#d8576b"
             ],
             [
              0.6666666666666666,
              "#ed7953"
             ],
             [
              0.7777777777777778,
              "#fb9f3a"
             ],
             [
              0.8888888888888888,
              "#fdca26"
             ],
             [
              1,
              "#f0f921"
             ]
            ],
            "type": "histogram2d"
           }
          ],
          "histogram2dcontour": [
           {
            "colorbar": {
             "outlinewidth": 0,
             "ticks": ""
            },
            "colorscale": [
             [
              0,
              "#0d0887"
             ],
             [
              0.1111111111111111,
              "#46039f"
             ],
             [
              0.2222222222222222,
              "#7201a8"
             ],
             [
              0.3333333333333333,
              "#9c179e"
             ],
             [
              0.4444444444444444,
              "#bd3786"
             ],
             [
              0.5555555555555556,
              "#d8576b"
             ],
             [
              0.6666666666666666,
              "#ed7953"
             ],
             [
              0.7777777777777778,
              "#fb9f3a"
             ],
             [
              0.8888888888888888,
              "#fdca26"
             ],
             [
              1,
              "#f0f921"
             ]
            ],
            "type": "histogram2dcontour"
           }
          ],
          "mesh3d": [
           {
            "colorbar": {
             "outlinewidth": 0,
             "ticks": ""
            },
            "type": "mesh3d"
           }
          ],
          "parcoords": [
           {
            "line": {
             "colorbar": {
              "outlinewidth": 0,
              "ticks": ""
             }
            },
            "type": "parcoords"
           }
          ],
          "pie": [
           {
            "automargin": true,
            "type": "pie"
           }
          ],
          "scatter": [
           {
            "fillpattern": {
             "fillmode": "overlay",
             "size": 10,
             "solidity": 0.2
            },
            "type": "scatter"
           }
          ],
          "scatter3d": [
           {
            "line": {
             "colorbar": {
              "outlinewidth": 0,
              "ticks": ""
             }
            },
            "marker": {
             "colorbar": {
              "outlinewidth": 0,
              "ticks": ""
             }
            },
            "type": "scatter3d"
           }
          ],
          "scattercarpet": [
           {
            "marker": {
             "colorbar": {
              "outlinewidth": 0,
              "ticks": ""
             }
            },
            "type": "scattercarpet"
           }
          ],
          "scattergeo": [
           {
            "marker": {
             "colorbar": {
              "outlinewidth": 0,
              "ticks": ""
             }
            },
            "type": "scattergeo"
           }
          ],
          "scattergl": [
           {
            "marker": {
             "colorbar": {
              "outlinewidth": 0,
              "ticks": ""
             }
            },
            "type": "scattergl"
           }
          ],
          "scattermap": [
           {
            "marker": {
             "colorbar": {
              "outlinewidth": 0,
              "ticks": ""
             }
            },
            "type": "scattermap"
           }
          ],
          "scattermapbox": [
           {
            "marker": {
             "colorbar": {
              "outlinewidth": 0,
              "ticks": ""
             }
            },
            "type": "scattermapbox"
           }
          ],
          "scatterpolar": [
           {
            "marker": {
             "colorbar": {
              "outlinewidth": 0,
              "ticks": ""
             }
            },
            "type": "scatterpolar"
           }
          ],
          "scatterpolargl": [
           {
            "marker": {
             "colorbar": {
              "outlinewidth": 0,
              "ticks": ""
             }
            },
            "type": "scatterpolargl"
           }
          ],
          "scatterternary": [
           {
            "marker": {
             "colorbar": {
              "outlinewidth": 0,
              "ticks": ""
             }
            },
            "type": "scatterternary"
           }
          ],
          "surface": [
           {
            "colorbar": {
             "outlinewidth": 0,
             "ticks": ""
            },
            "colorscale": [
             [
              0,
              "#0d0887"
             ],
             [
              0.1111111111111111,
              "#46039f"
             ],
             [
              0.2222222222222222,
              "#7201a8"
             ],
             [
              0.3333333333333333,
              "#9c179e"
             ],
             [
              0.4444444444444444,
              "#bd3786"
             ],
             [
              0.5555555555555556,
              "#d8576b"
             ],
             [
              0.6666666666666666,
              "#ed7953"
             ],
             [
              0.7777777777777778,
              "#fb9f3a"
             ],
             [
              0.8888888888888888,
              "#fdca26"
             ],
             [
              1,
              "#f0f921"
             ]
            ],
            "type": "surface"
           }
          ],
          "table": [
           {
            "cells": {
             "fill": {
              "color": "#EBF0F8"
             },
             "line": {
              "color": "white"
             }
            },
            "header": {
             "fill": {
              "color": "#C8D4E3"
             },
             "line": {
              "color": "white"
             }
            },
            "type": "table"
           }
          ]
         },
         "layout": {
          "annotationdefaults": {
           "arrowcolor": "#2a3f5f",
           "arrowhead": 0,
           "arrowwidth": 1
          },
          "autotypenumbers": "strict",
          "coloraxis": {
           "colorbar": {
            "outlinewidth": 0,
            "ticks": ""
           }
          },
          "colorscale": {
           "diverging": [
            [
             0,
             "#8e0152"
            ],
            [
             0.1,
             "#c51b7d"
            ],
            [
             0.2,
             "#de77ae"
            ],
            [
             0.3,
             "#f1b6da"
            ],
            [
             0.4,
             "#fde0ef"
            ],
            [
             0.5,
             "#f7f7f7"
            ],
            [
             0.6,
             "#e6f5d0"
            ],
            [
             0.7,
             "#b8e186"
            ],
            [
             0.8,
             "#7fbc41"
            ],
            [
             0.9,
             "#4d9221"
            ],
            [
             1,
             "#276419"
            ]
           ],
           "sequential": [
            [
             0,
             "#0d0887"
            ],
            [
             0.1111111111111111,
             "#46039f"
            ],
            [
             0.2222222222222222,
             "#7201a8"
            ],
            [
             0.3333333333333333,
             "#9c179e"
            ],
            [
             0.4444444444444444,
             "#bd3786"
            ],
            [
             0.5555555555555556,
             "#d8576b"
            ],
            [
             0.6666666666666666,
             "#ed7953"
            ],
            [
             0.7777777777777778,
             "#fb9f3a"
            ],
            [
             0.8888888888888888,
             "#fdca26"
            ],
            [
             1,
             "#f0f921"
            ]
           ],
           "sequentialminus": [
            [
             0,
             "#0d0887"
            ],
            [
             0.1111111111111111,
             "#46039f"
            ],
            [
             0.2222222222222222,
             "#7201a8"
            ],
            [
             0.3333333333333333,
             "#9c179e"
            ],
            [
             0.4444444444444444,
             "#bd3786"
            ],
            [
             0.5555555555555556,
             "#d8576b"
            ],
            [
             0.6666666666666666,
             "#ed7953"
            ],
            [
             0.7777777777777778,
             "#fb9f3a"
            ],
            [
             0.8888888888888888,
             "#fdca26"
            ],
            [
             1,
             "#f0f921"
            ]
           ]
          },
          "colorway": [
           "#636efa",
           "#EF553B",
           "#00cc96",
           "#ab63fa",
           "#FFA15A",
           "#19d3f3",
           "#FF6692",
           "#B6E880",
           "#FF97FF",
           "#FECB52"
          ],
          "font": {
           "color": "#2a3f5f"
          },
          "geo": {
           "bgcolor": "white",
           "lakecolor": "white",
           "landcolor": "#E5ECF6",
           "showlakes": true,
           "showland": true,
           "subunitcolor": "white"
          },
          "hoverlabel": {
           "align": "left"
          },
          "hovermode": "closest",
          "mapbox": {
           "style": "light"
          },
          "paper_bgcolor": "white",
          "plot_bgcolor": "#E5ECF6",
          "polar": {
           "angularaxis": {
            "gridcolor": "white",
            "linecolor": "white",
            "ticks": ""
           },
           "bgcolor": "#E5ECF6",
           "radialaxis": {
            "gridcolor": "white",
            "linecolor": "white",
            "ticks": ""
           }
          },
          "scene": {
           "xaxis": {
            "backgroundcolor": "#E5ECF6",
            "gridcolor": "white",
            "gridwidth": 2,
            "linecolor": "white",
            "showbackground": true,
            "ticks": "",
            "zerolinecolor": "white"
           },
           "yaxis": {
            "backgroundcolor": "#E5ECF6",
            "gridcolor": "white",
            "gridwidth": 2,
            "linecolor": "white",
            "showbackground": true,
            "ticks": "",
            "zerolinecolor": "white"
           },
           "zaxis": {
            "backgroundcolor": "#E5ECF6",
            "gridcolor": "white",
            "gridwidth": 2,
            "linecolor": "white",
            "showbackground": true,
            "ticks": "",
            "zerolinecolor": "white"
           }
          },
          "shapedefaults": {
           "line": {
            "color": "#2a3f5f"
           }
          },
          "ternary": {
           "aaxis": {
            "gridcolor": "white",
            "linecolor": "white",
            "ticks": ""
           },
           "baxis": {
            "gridcolor": "white",
            "linecolor": "white",
            "ticks": ""
           },
           "bgcolor": "#E5ECF6",
           "caxis": {
            "gridcolor": "white",
            "linecolor": "white",
            "ticks": ""
           }
          },
          "title": {
           "x": 0.05
          },
          "xaxis": {
           "automargin": true,
           "gridcolor": "white",
           "linecolor": "white",
           "ticks": "",
           "title": {
            "standoff": 15
           },
           "zerolinecolor": "white",
           "zerolinewidth": 2
          },
          "yaxis": {
           "automargin": true,
           "gridcolor": "white",
           "linecolor": "white",
           "ticks": "",
           "title": {
            "standoff": 15
           },
           "zerolinecolor": "white",
           "zerolinewidth": 2
          }
         }
        },
        "title": {
         "text": "Trajectories",
         "x": 0.5,
         "xanchor": "center"
        },
        "width": 800
       }
      }
     },
     "metadata": {},
     "output_type": "display_data"
    }
   ],
   "source": [
    "gaz_config = ConfigGazebo(origin= enu_origin,\n",
    "                          world_path=\"simulator/gazebo/worlds/runway.world\")\n",
    "\n",
    "gaz_config.add(base_path=base_path,base_home=base_home,color=color)\n",
    "gaz_config.show()"
   ]
  },
  {
   "cell_type": "markdown",
   "metadata": {},
   "source": [
    "## QGroundControl Configuration"
   ]
  },
  {
   "cell_type": "code",
   "execution_count": 4,
   "metadata": {},
   "outputs": [
    {
     "data": {
      "text/html": [
       "<div style=\"width:100%;\"><div style=\"position:relative;width:100%;height:0;padding-bottom:60%;\"><span style=\"color:#565656\">Make this Notebook Trusted to load map: File -> Trust Notebook</span><iframe srcdoc=\"&lt;!DOCTYPE html&gt;\n",
       "&lt;html&gt;\n",
       "&lt;head&gt;\n",
       "    \n",
       "    &lt;meta http-equiv=&quot;content-type&quot; content=&quot;text/html; charset=UTF-8&quot; /&gt;\n",
       "    &lt;script src=&quot;https://cdn.jsdelivr.net/npm/leaflet@1.9.3/dist/leaflet.js&quot;&gt;&lt;/script&gt;\n",
       "    &lt;script src=&quot;https://code.jquery.com/jquery-3.7.1.min.js&quot;&gt;&lt;/script&gt;\n",
       "    &lt;script src=&quot;https://cdn.jsdelivr.net/npm/bootstrap@5.2.2/dist/js/bootstrap.bundle.min.js&quot;&gt;&lt;/script&gt;\n",
       "    &lt;script src=&quot;https://cdnjs.cloudflare.com/ajax/libs/Leaflet.awesome-markers/2.0.2/leaflet.awesome-markers.js&quot;&gt;&lt;/script&gt;\n",
       "    &lt;link rel=&quot;stylesheet&quot; href=&quot;https://cdn.jsdelivr.net/npm/leaflet@1.9.3/dist/leaflet.css&quot;/&gt;\n",
       "    &lt;link rel=&quot;stylesheet&quot; href=&quot;https://cdn.jsdelivr.net/npm/bootstrap@5.2.2/dist/css/bootstrap.min.css&quot;/&gt;\n",
       "    &lt;link rel=&quot;stylesheet&quot; href=&quot;https://netdna.bootstrapcdn.com/bootstrap/3.0.0/css/bootstrap-glyphicons.css&quot;/&gt;\n",
       "    &lt;link rel=&quot;stylesheet&quot; href=&quot;https://cdn.jsdelivr.net/npm/@fortawesome/fontawesome-free@6.2.0/css/all.min.css&quot;/&gt;\n",
       "    &lt;link rel=&quot;stylesheet&quot; href=&quot;https://cdnjs.cloudflare.com/ajax/libs/Leaflet.awesome-markers/2.0.2/leaflet.awesome-markers.css&quot;/&gt;\n",
       "    &lt;link rel=&quot;stylesheet&quot; href=&quot;https://cdn.jsdelivr.net/gh/python-visualization/folium/folium/templates/leaflet.awesome.rotate.min.css&quot;/&gt;\n",
       "    \n",
       "            &lt;meta name=&quot;viewport&quot; content=&quot;width=device-width,\n",
       "                initial-scale=1.0, maximum-scale=1.0, user-scalable=no&quot; /&gt;\n",
       "            &lt;style&gt;\n",
       "                #map_f30d3f9b2ce31b88f58c8a11448d346f {\n",
       "                    position: relative;\n",
       "                    width: 100.0%;\n",
       "                    height: 100.0%;\n",
       "                    left: 0.0%;\n",
       "                    top: 0.0%;\n",
       "                }\n",
       "                .leaflet-container { font-size: 1rem; }\n",
       "            &lt;/style&gt;\n",
       "\n",
       "            &lt;style&gt;html, body {\n",
       "                width: 100%;\n",
       "                height: 100%;\n",
       "                margin: 0;\n",
       "                padding: 0;\n",
       "            }\n",
       "            &lt;/style&gt;\n",
       "\n",
       "            &lt;style&gt;#map {\n",
       "                position:absolute;\n",
       "                top:0;\n",
       "                bottom:0;\n",
       "                right:0;\n",
       "                left:0;\n",
       "                }\n",
       "            &lt;/style&gt;\n",
       "\n",
       "            &lt;script&gt;\n",
       "                L_NO_TOUCH = false;\n",
       "                L_DISABLE_3D = false;\n",
       "            &lt;/script&gt;\n",
       "\n",
       "        \n",
       "&lt;/head&gt;\n",
       "&lt;body&gt;\n",
       "    \n",
       "    \n",
       "            &lt;div class=&quot;folium-map&quot; id=&quot;map_f30d3f9b2ce31b88f58c8a11448d346f&quot; &gt;&lt;/div&gt;\n",
       "        \n",
       "&lt;/body&gt;\n",
       "&lt;script&gt;\n",
       "    \n",
       "    \n",
       "            var map_f30d3f9b2ce31b88f58c8a11448d346f = L.map(\n",
       "                &quot;map_f30d3f9b2ce31b88f58c8a11448d346f&quot;,\n",
       "                {\n",
       "                    center: [-35.363328, 149.1652241],\n",
       "                    crs: L.CRS.EPSG3857,\n",
       "                    ...{\n",
       "  &quot;zoom&quot;: 18,\n",
       "  &quot;zoomControl&quot;: true,\n",
       "  &quot;preferCanvas&quot;: false,\n",
       "}\n",
       "\n",
       "                }\n",
       "            );\n",
       "\n",
       "            \n",
       "\n",
       "        \n",
       "    \n",
       "            var tile_layer_10267b765202a16a8bf369e9998847f9 = L.tileLayer(\n",
       "                &quot;https://tile.openstreetmap.org/{z}/{x}/{y}.png&quot;,\n",
       "                {\n",
       "  &quot;minZoom&quot;: 0,\n",
       "  &quot;maxZoom&quot;: 19,\n",
       "  &quot;maxNativeZoom&quot;: 19,\n",
       "  &quot;noWrap&quot;: false,\n",
       "  &quot;attribution&quot;: &quot;\\u0026copy; \\u003ca href=\\&quot;https://www.openstreetmap.org/copyright\\&quot;\\u003eOpenStreetMap\\u003c/a\\u003e contributors&quot;,\n",
       "  &quot;subdomains&quot;: &quot;abc&quot;,\n",
       "  &quot;detectRetina&quot;: false,\n",
       "  &quot;tms&quot;: false,\n",
       "  &quot;opacity&quot;: 1,\n",
       "}\n",
       "\n",
       "            );\n",
       "        \n",
       "    \n",
       "            tile_layer_10267b765202a16a8bf369e9998847f9.addTo(map_f30d3f9b2ce31b88f58c8a11448d346f);\n",
       "        \n",
       "    \n",
       "            var marker_7e5025515bc73cb52f949a4dd309f0fa = L.marker(\n",
       "                [-35.36328308396274, 149.16516902202562],\n",
       "                {\n",
       "}\n",
       "            ).addTo(map_f30d3f9b2ce31b88f58c8a11448d346f);\n",
       "        \n",
       "    \n",
       "            var icon_6ab505f70d8e58a1a0ad132afec81c22 = L.AwesomeMarkers.icon(\n",
       "                {\n",
       "  &quot;markerColor&quot;: &quot;blue&quot;,\n",
       "  &quot;iconColor&quot;: &quot;white&quot;,\n",
       "  &quot;icon&quot;: &quot;info-sign&quot;,\n",
       "  &quot;prefix&quot;: &quot;glyphicon&quot;,\n",
       "  &quot;extraClasses&quot;: &quot;fa-rotate-0&quot;,\n",
       "}\n",
       "            );\n",
       "        \n",
       "    \n",
       "        var popup_5c5bc53eb66db5b38482148a6e93d801 = L.popup({\n",
       "  &quot;maxWidth&quot;: &quot;100%&quot;,\n",
       "});\n",
       "\n",
       "        \n",
       "            \n",
       "                var html_78daddc450c013227fa0300203a190b0 = $(`&lt;div id=&quot;html_78daddc450c013227fa0300203a190b0&quot; style=&quot;width: 100.0%; height: 100.0%;&quot;&gt;pos_0&lt;/div&gt;`)[0];\n",
       "                popup_5c5bc53eb66db5b38482148a6e93d801.setContent(html_78daddc450c013227fa0300203a190b0);\n",
       "            \n",
       "        \n",
       "\n",
       "        marker_7e5025515bc73cb52f949a4dd309f0fa.bindPopup(popup_5c5bc53eb66db5b38482148a6e93d801)\n",
       "        ;\n",
       "\n",
       "        \n",
       "    \n",
       "    \n",
       "                marker_7e5025515bc73cb52f949a4dd309f0fa.setIcon(icon_6ab505f70d8e58a1a0ad132afec81c22);\n",
       "            \n",
       "    \n",
       "            var marker_fc394809d42ec2d5473f458126b56339 = L.marker(\n",
       "                [-35.3633466047538, 149.16509112990263],\n",
       "                {\n",
       "}\n",
       "            ).addTo(map_f30d3f9b2ce31b88f58c8a11448d346f);\n",
       "        \n",
       "    \n",
       "            var icon_594254709b28aa3e48f1f88eca9efbd5 = L.AwesomeMarkers.icon(\n",
       "                {\n",
       "  &quot;markerColor&quot;: &quot;blue&quot;,\n",
       "  &quot;iconColor&quot;: &quot;white&quot;,\n",
       "  &quot;icon&quot;: &quot;info-sign&quot;,\n",
       "  &quot;prefix&quot;: &quot;glyphicon&quot;,\n",
       "  &quot;extraClasses&quot;: &quot;fa-rotate-0&quot;,\n",
       "}\n",
       "            );\n",
       "        \n",
       "    \n",
       "        var popup_96193874175922422b7cc76448632b7f = L.popup({\n",
       "  &quot;maxWidth&quot;: &quot;100%&quot;,\n",
       "});\n",
       "\n",
       "        \n",
       "            \n",
       "                var html_32fe580a99039d80cd179ac6521df31a = $(`&lt;div id=&quot;html_32fe580a99039d80cd179ac6521df31a&quot; style=&quot;width: 100.0%; height: 100.0%;&quot;&gt;pos_1&lt;/div&gt;`)[0];\n",
       "                popup_96193874175922422b7cc76448632b7f.setContent(html_32fe580a99039d80cd179ac6521df31a);\n",
       "            \n",
       "        \n",
       "\n",
       "        marker_fc394809d42ec2d5473f458126b56339.bindPopup(popup_96193874175922422b7cc76448632b7f)\n",
       "        ;\n",
       "\n",
       "        \n",
       "    \n",
       "    \n",
       "                marker_fc394809d42ec2d5473f458126b56339.setIcon(icon_594254709b28aa3e48f1f88eca9efbd5);\n",
       "            \n",
       "    \n",
       "            var marker_e7a4c3b3e48b41ebb9b8410dcc18ac94 = L.marker(\n",
       "                [-35.363283083792105, 149.16501323798883],\n",
       "                {\n",
       "}\n",
       "            ).addTo(map_f30d3f9b2ce31b88f58c8a11448d346f);\n",
       "        \n",
       "    \n",
       "            var icon_f3fc739ea178eb1856af7ae63f15e6aa = L.AwesomeMarkers.icon(\n",
       "                {\n",
       "  &quot;markerColor&quot;: &quot;blue&quot;,\n",
       "  &quot;iconColor&quot;: &quot;white&quot;,\n",
       "  &quot;icon&quot;: &quot;info-sign&quot;,\n",
       "  &quot;prefix&quot;: &quot;glyphicon&quot;,\n",
       "  &quot;extraClasses&quot;: &quot;fa-rotate-0&quot;,\n",
       "}\n",
       "            );\n",
       "        \n",
       "    \n",
       "        var popup_9d5bee8ae6b11ced5befbdd658d31376 = L.popup({\n",
       "  &quot;maxWidth&quot;: &quot;100%&quot;,\n",
       "});\n",
       "\n",
       "        \n",
       "            \n",
       "                var html_e95e3191111c6f7f9167c7d6c5f014bf = $(`&lt;div id=&quot;html_e95e3191111c6f7f9167c7d6c5f014bf&quot; style=&quot;width: 100.0%; height: 100.0%;&quot;&gt;pos_2&lt;/div&gt;`)[0];\n",
       "                popup_9d5bee8ae6b11ced5befbdd658d31376.setContent(html_e95e3191111c6f7f9167c7d6c5f014bf);\n",
       "            \n",
       "        \n",
       "\n",
       "        marker_e7a4c3b3e48b41ebb9b8410dcc18ac94.bindPopup(popup_9d5bee8ae6b11ced5befbdd658d31376)\n",
       "        ;\n",
       "\n",
       "        \n",
       "    \n",
       "    \n",
       "                marker_e7a4c3b3e48b41ebb9b8410dcc18ac94.setIcon(icon_f3fc739ea178eb1856af7ae63f15e6aa);\n",
       "            \n",
       "    \n",
       "            var marker_c4de2051786f8dabb457821b0389978e = L.marker(\n",
       "                [-35.36321956305101, 149.16509113011182],\n",
       "                {\n",
       "}\n",
       "            ).addTo(map_f30d3f9b2ce31b88f58c8a11448d346f);\n",
       "        \n",
       "    \n",
       "            var icon_eaa85f8d97898e7596646ac5dac84fe4 = L.AwesomeMarkers.icon(\n",
       "                {\n",
       "  &quot;markerColor&quot;: &quot;blue&quot;,\n",
       "  &quot;iconColor&quot;: &quot;white&quot;,\n",
       "  &quot;icon&quot;: &quot;info-sign&quot;,\n",
       "  &quot;prefix&quot;: &quot;glyphicon&quot;,\n",
       "  &quot;extraClasses&quot;: &quot;fa-rotate-0&quot;,\n",
       "}\n",
       "            );\n",
       "        \n",
       "    \n",
       "        var popup_5002b46c6b360a013f91e6d9f037dfbb = L.popup({\n",
       "  &quot;maxWidth&quot;: &quot;100%&quot;,\n",
       "});\n",
       "\n",
       "        \n",
       "            \n",
       "                var html_11a34b8fef4d76bf4448414e00904dcb = $(`&lt;div id=&quot;html_11a34b8fef4d76bf4448414e00904dcb&quot; style=&quot;width: 100.0%; height: 100.0%;&quot;&gt;pos_3&lt;/div&gt;`)[0];\n",
       "                popup_5002b46c6b360a013f91e6d9f037dfbb.setContent(html_11a34b8fef4d76bf4448414e00904dcb);\n",
       "            \n",
       "        \n",
       "\n",
       "        marker_c4de2051786f8dabb457821b0389978e.bindPopup(popup_5002b46c6b360a013f91e6d9f037dfbb)\n",
       "        ;\n",
       "\n",
       "        \n",
       "    \n",
       "    \n",
       "                marker_c4de2051786f8dabb457821b0389978e.setIcon(icon_eaa85f8d97898e7596646ac5dac84fe4);\n",
       "            \n",
       "    \n",
       "            var marker_2586ca79a48d3463a21c54dd2128182a = L.marker(\n",
       "                [-35.36328308396274, 149.16516902202562],\n",
       "                {\n",
       "}\n",
       "            ).addTo(map_f30d3f9b2ce31b88f58c8a11448d346f);\n",
       "        \n",
       "    \n",
       "            var icon_7185a6abf769637211c7296c32119cc1 = L.AwesomeMarkers.icon(\n",
       "                {\n",
       "  &quot;markerColor&quot;: &quot;blue&quot;,\n",
       "  &quot;iconColor&quot;: &quot;white&quot;,\n",
       "  &quot;icon&quot;: &quot;info-sign&quot;,\n",
       "  &quot;prefix&quot;: &quot;glyphicon&quot;,\n",
       "  &quot;extraClasses&quot;: &quot;fa-rotate-0&quot;,\n",
       "}\n",
       "            );\n",
       "        \n",
       "    \n",
       "        var popup_c175363004ac902147f7f0b6a151129e = L.popup({\n",
       "  &quot;maxWidth&quot;: &quot;100%&quot;,\n",
       "});\n",
       "\n",
       "        \n",
       "            \n",
       "                var html_437df0153305993d5c126c3ecf8a917e = $(`&lt;div id=&quot;html_437df0153305993d5c126c3ecf8a917e&quot; style=&quot;width: 100.0%; height: 100.0%;&quot;&gt;pos_4&lt;/div&gt;`)[0];\n",
       "                popup_c175363004ac902147f7f0b6a151129e.setContent(html_437df0153305993d5c126c3ecf8a917e);\n",
       "            \n",
       "        \n",
       "\n",
       "        marker_2586ca79a48d3463a21c54dd2128182a.bindPopup(popup_c175363004ac902147f7f0b6a151129e)\n",
       "        ;\n",
       "\n",
       "        \n",
       "    \n",
       "    \n",
       "                marker_2586ca79a48d3463a21c54dd2128182a.setIcon(icon_7185a6abf769637211c7296c32119cc1);\n",
       "            \n",
       "    \n",
       "            var marker_229883e689041a537bd50d046e4bd4c5 = L.marker(\n",
       "                [-35.363328, 149.1652241],\n",
       "                {\n",
       "}\n",
       "            ).addTo(map_f30d3f9b2ce31b88f58c8a11448d346f);\n",
       "        \n",
       "    \n",
       "            var icon_bd7fe1ba3c3deb4f8c13631126b93b47 = L.AwesomeMarkers.icon(\n",
       "                {\n",
       "  &quot;markerColor&quot;: &quot;white&quot;,\n",
       "  &quot;iconColor&quot;: &quot;white&quot;,\n",
       "  &quot;icon&quot;: &quot;info-sign&quot;,\n",
       "  &quot;prefix&quot;: &quot;glyphicon&quot;,\n",
       "  &quot;extraClasses&quot;: &quot;fa-rotate-0&quot;,\n",
       "}\n",
       "            );\n",
       "        \n",
       "    \n",
       "        var popup_0f3ddae8a97eb9a68d33e930581588ca = L.popup({\n",
       "  &quot;maxWidth&quot;: &quot;100%&quot;,\n",
       "});\n",
       "\n",
       "        \n",
       "            \n",
       "                var html_da4650c1b9aad38fc035201b6aebbf7b = $(`&lt;div id=&quot;html_da4650c1b9aad38fc035201b6aebbf7b&quot; style=&quot;width: 100.0%; height: 100.0%;&quot;&gt;Origin&lt;/div&gt;`)[0];\n",
       "                popup_0f3ddae8a97eb9a68d33e930581588ca.setContent(html_da4650c1b9aad38fc035201b6aebbf7b);\n",
       "            \n",
       "        \n",
       "\n",
       "        marker_229883e689041a537bd50d046e4bd4c5.bindPopup(popup_0f3ddae8a97eb9a68d33e930581588ca)\n",
       "        ;\n",
       "\n",
       "        \n",
       "    \n",
       "    \n",
       "                marker_229883e689041a537bd50d046e4bd4c5.setIcon(icon_bd7fe1ba3c3deb4f8c13631126b93b47);\n",
       "            \n",
       "&lt;/script&gt;\n",
       "&lt;/html&gt;\" style=\"position:absolute;width:100%;height:100%;left:0;top:0;border:none !important;\" allowfullscreen webkitallowfullscreen mozallowfullscreen></iframe></div></div>"
      ],
      "text/plain": [
       "<folium.folium.Map at 0x7fe134ad39d0>"
      ]
     },
     "execution_count": 4,
     "metadata": {},
     "output_type": "execute_result"
    }
   ],
   "source": [
    "qgc_config = ConfigQGC(origin= gra_origin)\n",
    "\n",
    "qgc_config.add(base_path=base_path,base_home=base_home,color=color)\n",
    "qgc_config.show()"
   ]
  },
  {
   "cell_type": "markdown",
   "metadata": {},
   "source": [
    "## No Visualizer"
   ]
  },
  {
   "cell_type": "code",
   "execution_count": 5,
   "metadata": {},
   "outputs": [],
   "source": [
    "novis_config = ConfigVis[int]()\n",
    "novis_config.add_vehicle(1)"
   ]
  },
  {
   "cell_type": "markdown",
   "metadata": {},
   "source": [
    "# Save Mission"
   ]
  },
  {
   "cell_type": "code",
   "execution_count": 6,
   "metadata": {},
   "outputs": [],
   "source": [
    "qgc_config.save_missions()"
   ]
  },
  {
   "cell_type": "code",
   "execution_count": 7,
   "metadata": {},
   "outputs": [],
   "source": [
    "novis=NoneVisualizer(novis_config)\n",
    "\n",
    "gaz= Gazebo(gaz_config,gra_origin)\n",
    "\n",
    "qgc=QGC(qgc_config)"
   ]
  },
  {
   "cell_type": "markdown",
   "metadata": {},
   "source": [
    "## Launch Simulatotion"
   ]
  },
  {
   "cell_type": "code",
   "execution_count": 8,
   "metadata": {},
   "outputs": [
    {
     "name": "stdout",
     "output_type": "stream",
     "text": [
      "🖥️ Gazebo launched for realistic simulation and 3D visualization.\n",
      "🚀 ArduPilot SITL vehicle 1 launched (PID 1395718)\n",
      "🚀 UAV logic for vehicle 1 launched (PID 1395720)\n",
      "🚀 Proxy for vehicle 1 launched (PID 1395722)\n",
      "🔗 UAV logic 1 is connected to Ardupilot SITL vehicle 1\n",
      "SIM_VEHICLE: Start\n",
      "SIM_VEHICLE: Killing tasks\n",
      "SIM_VEHICLE: Starting up at [-35.363328, 149.1652241, 0.0, 90.0]\n",
      "SIM_VEHICLE: Using defaults from (../../ardupilot/Tools/autotest/default_params/copter.parm,../../ardupilot/Tools/autotest/default_params/gazebo-iris.parm)\n",
      "SIM_VEHICLE: Adding parameters from (/home/abeldg/uav-cyber-sim/params/vehicle.parm)\n",
      "Setting SIM_SPEEDUP=1.000000\n",
      "Setting MAV_SYSID=1\n",
      "Starting SITL Gazebo\n",
      "Home: -35.363328 149.165224 alt=0.000000m hdg=90.000000\n",
      "Bind 127.0.0.1:9003 for SITL in\n",
      "Setting Gazebo interface to 127.0.0.1:9002 \n",
      "Starting sketch 'ArduCopter'\n",
      "Starting SITL input\n",
      "Using Irlock at port : 9005\n",
      "Waiting for connection ....\n"
     ]
    },
    {
     "name": "stderr",
     "output_type": "stream",
     "text": [
      "bind port 5760 for SERIAL0\n",
      "SERIAL0 on TCP port 5760\n"
     ]
    },
    {
     "name": "stdout",
     "output_type": "stream",
     "text": [
      "System id: 1\n",
      "Connection on serial port 5760\n",
      "[Errno 111] Connection refused sleeping\n",
      "Loaded defaults from ../../ardupilot/Tools/autotest/default_params/copter.parm,../../ardupilot/Tools/autotest/default_params/gazebo-iris.parm,/home/abeldg/uav-cyber-sim/params/vehicle.parm\n",
      "System id: 1\n",
      "\n",
      "🚀 Starting Proxy 1\n"
     ]
    },
    {
     "name": "stderr",
     "output_type": "stream",
     "text": [
      "\u001b[1;33mWarning [parser.cc:833]\u001b[0m XML Attribute[version] in element[sdf] not defined in SDF, ignoring.\n",
      "\u001b[1;33mWarning [parser.cc:833]\u001b[0m XML Attribute[version] in element[sdf] not defined in SDF, ignoring.\n",
      "bind port 5762 for SERIAL1\n",
      "SERIAL1 on TCP port 5762\n",
      "bind port 5763 for SERIAL2\n",
      "SERIAL2 on TCP port 5763\n",
      "validate_structures:528: Validating structures\n"
     ]
    },
    {
     "name": "stdout",
     "output_type": "stream",
     "text": [
      "Loaded defaults from ../../ardupilot/Tools/autotest/default_params/copter.parm,../../ardupilot/Tools/autotest/default_params/gazebo-iris.parm,/home/abeldg/uav-cyber-sim/params/vehicle.parm\n",
      "Loaded defaults from ../../ardupilot/Tools/autotest/default_params/copter.parm,../../ardupilot/Tools/autotest/default_params/gazebo-iris.parm,/home/abeldg/uav-cyber-sim/params/vehicle.parm\n",
      "Loaded defaults from ../../ardupilot/Tools/autotest/default_params/copter.parm,../../ardupilot/Tools/autotest/default_params/gazebo-iris.parm,/home/abeldg/uav-cyber-sim/params/vehicle.parm\n",
      "Loaded defaults from ../../ardupilot/Tools/autotest/default_params/copter.parm,../../ardupilot/Tools/autotest/default_params/gazebo-iris.parm,/home/abeldg/uav-cyber-sim/params/vehicle.parm\n",
      "Loaded defaults from ../../ardupilot/Tools/autotest/default_params/copter.parm,../../ardupilot/Tools/autotest/default_params/gazebo-iris.parm,/home/abeldg/uav-cyber-sim/params/vehicle.parm\n",
      "Loaded defaults from ../../ardupilot/Tools/autotest/default_params/copter.parm,../../ardupilot/Tools/autotest/default_params/gazebo-iris.parm,/home/abeldg/uav-cyber-sim/params/vehicle.parm\n",
      "Loaded defaults from ../../ardupilot/Tools/autotest/default_params/copter.parm,../../ardupilot/Tools/autotest/default_params/gazebo-iris.parm,/home/abeldg/uav-cyber-sim/params/vehicle.parm\n",
      "Loaded defaults from ../../ardupilot/Tools/autotest/default_params/copter.parm,../../ardupilot/Tools/autotest/default_params/gazebo-iris.parm,/home/abeldg/uav-cyber-sim/params/vehicle.parm\n",
      "Loaded defaults from ../../ardupilot/Tools/autotest/default_params/copter.parm,../../ardupilot/Tools/autotest/default_params/gazebo-iris.parm,/home/abeldg/uav-cyber-sim/params/vehicle.parm\n",
      "Loaded defaults from ../../ardupilot/Tools/autotest/default_params/copter.parm,../../ardupilot/Tools/autotest/default_params/gazebo-iris.parm,/home/abeldg/uav-cyber-sim/params/vehicle.parm\n",
      "Loaded defaults from ../../ardupilot/Tools/autotest/default_params/copter.parm,../../ardupilot/Tools/autotest/default_params/gazebo-iris.parm,/home/abeldg/uav-cyber-sim/params/vehicle.parm\n",
      "Loaded defaults from ../../ardupilot/Tools/autotest/default_params/copter.parm,../../ardupilot/Tools/autotest/default_params/gazebo-iris.parm,/home/abeldg/uav-cyber-sim/params/vehicle.parm\n",
      "Loaded defaults from ../../ardupilot/Tools/autotest/default_params/copter.parm,../../ardupilot/Tools/autotest/default_params/gazebo-iris.parm,/home/abeldg/uav-cyber-sim/params/vehicle.parm\n",
      "Loaded defaults from ../../ardupilot/Tools/autotest/default_params/copter.parm,../../ardupilot/Tools/autotest/default_params/gazebo-iris.parm,/home/abeldg/uav-cyber-sim/params/vehicle.parm\n",
      "Loaded defaults from ../../ardupilot/Tools/autotest/default_params/copter.parm,../../ardupilot/Tools/autotest/default_params/gazebo-iris.parm,/home/abeldg/uav-cyber-sim/params/vehicle.parm\n",
      "Loaded defaults from ../../ardupilot/Tools/autotest/default_params/copter.parm,../../ardupilot/Tools/autotest/default_params/gazebo-iris.parm,/home/abeldg/uav-cyber-sim/params/vehicle.parm\n",
      "Loaded defaults from ../../ardupilot/Tools/autotest/default_params/copter.parm,../../ardupilot/Tools/autotest/default_params/gazebo-iris.parm,/home/abeldg/uav-cyber-sim/params/vehicle.parm\n",
      "Loaded defaults from ../../ardupilot/Tools/autotest/default_params/copter.parm,../../ardupilot/Tools/autotest/default_params/gazebo-iris.parm,/home/abeldg/uav-cyber-sim/params/vehicle.parm\n",
      "Loaded defaults from ../../ardupilot/Tools/autotest/default_params/copter.parm,../../ardupilot/Tools/autotest/default_params/gazebo-iris.parm,/home/abeldg/uav-cyber-sim/params/vehicle.parm\n",
      "Loaded defaults from ../../ardupilot/Tools/autotest/default_params/copter.parm,../../ardupilot/Tools/autotest/default_params/gazebo-iris.parm,/home/abeldg/uav-cyber-sim/params/vehicle.parm\n",
      "Loaded defaults from ../../ardupilot/Tools/autotest/default_params/copter.parm,../../ardupilot/Tools/autotest/default_params/gazebo-iris.parm,/home/abeldg/uav-cyber-sim/params/vehicle.parm\n",
      "Loaded defaults from ../../ardupilot/Tools/autotest/default_params/copter.parm,../../ardupilot/Tools/autotest/default_params/gazebo-iris.parm,/home/abeldg/uav-cyber-sim/params/vehicle.parm\n",
      "Loaded defaults from ../../ardupilot/Tools/autotest/default_params/copter.parm,../../ardupilot/Tools/autotest/default_params/gazebo-iris.parm,/home/abeldg/uav-cyber-sim/params/vehicle.parm\n",
      "🔗 UAV logic 1 is connected to Oracle ⚪\n",
      "✅ Heartbeat received\n",
      "\n",
      "🚀 Starting Vehicle 1 logic\n",
      "Vehicle 1: ▶️ Plan Started: 📋 auto\n",
      "🚀 GCS blue 🟦 launched (PID 1396075)\n"
     ]
    }
   ],
   "source": [
    "# TODO: Is it possible/feasible use more than one visualizer at the same time? \n",
    "# It seems there is a port conflict, only the visualizer that launches first works.\n",
    "\n",
    "simulator = Simulator(\n",
    "\tvisualizers=[gaz],\n",
    "\tverbose=2,\n",
    ")\n",
    "orac = simulator.launch(gcs_sysids={'blue 🟦': [1]})"
   ]
  },
  {
   "cell_type": "markdown",
   "metadata": {},
   "source": [
    "## Oracle checking"
   ]
  },
  {
   "cell_type": "code",
   "execution_count": 9,
   "metadata": {},
   "outputs": [
    {
     "name": "stdout",
     "output_type": "stream",
     "text": [
      "Vehicle 1: ▶️ Action Started: 📤 UPLOAD_MISSION\n",
      "Vehicle 1: ▶️ Step Started: clear uav missions\n",
      "🔗 UAV logic 1 is connected\n",
      "SIM_VEHICLE: Waiting for SITL to exit\n",
      "Vehicle 1: 🧹 Cleared previous mission\n",
      "Vehicle 1: ✅ Step Done: clear uav missions\n",
      "Vehicle 1: ✅ 7 waypoints read.\n",
      "Vehicle 1: 🧭 Mission[0] → cmd: WAYPOINT, x: -35.3632831, y: 149.165169, z: 0.0, current: 0\n",
      "Vehicle 1: 🧭 Mission[1] → cmd: TAKEOFF, x: -35.3632831, y: 149.165169, z: 5.0, current: 0\n",
      "Vehicle 1: 🧭 Mission[2] → cmd: WAYPOINT, x: -35.3633466, y: 149.1650911, z: 5.0, current: 0\n",
      "Vehicle 1: 🧭 Mission[3] → cmd: WAYPOINT, x: -35.3632831, y: 149.1650132, z: 5.0, current: 0\n",
      "Vehicle 1: 🧭 Mission[4] → cmd: WAYPOINT, x: -35.3632196, y: 149.1650911, z: 5.0, current: 0\n",
      "Vehicle 1: 🧭 Mission[5] → cmd: WAYPOINT, x: -35.3632831, y: 149.165169, z: 5.0, current: 0\n",
      "Vehicle 1: 🧭 Mission[6] → cmd: LAND, x: -35.3632831, y: 149.165169, z: 0.0, current: 0\n",
      "Vehicle 1: ✅ Sent mission item 0\n",
      "Vehicle 1: ✅ Sent mission item 1\n",
      "Vehicle 1: ✅ Sent mission item 2\n",
      "Vehicle 1: ✅ Sent mission item 3\n",
      "Vehicle 1: ✅ Sent mission item 4\n",
      "Vehicle 1: ✅ Sent mission item 5\n",
      "Vehicle 1: ✅ Sent mission item 6\n",
      "Vehicle 1: ▶️ Step Started: load mission mission_1\n",
      "Vehicle 1: ✅ Mission upload successful!\n",
      "Vehicle 1: ✅ Step Done: load mission mission_1\n",
      "Vehicle 1: ✅ Action Done: 📤 UPLOAD_MISSION\n",
      "Vehicle 1: ▶️ Action Started: 🔧 PREARM\n",
      "Vehicle 1: ▶️ Step Started: Check disarmed\n",
      "Vehicle 1: ✅ Step Done: Check disarmed\n",
      "Vehicle 1: ▶️ Step Started: Check EKF status\n",
      "Vehicle 1: ✅ Step Done: Check EKF status\n",
      "Vehicle 1: ▶️ Step Started: Check GPS\n",
      "Vehicle 1: ✅ Step Done: Check GPS\n",
      "Vehicle 1: ▶️ Step Started: Check system\n",
      "Vehicle 1: ✅ Step Done: Check system\n",
      "Vehicle 1: ✅ Action Done: 🔧 PREARM\n",
      "Vehicle 1: ▶️ Action Started: ⚙️ MODE: GUIDED\n",
      "Vehicle 1: ▶️ Step Started: Switch to GUIDED\n",
      "Vehicle 1: ✅ Step Done: Switch to GUIDED\n",
      "Vehicle 1: ✅ Action Done: ⚙️ MODE: GUIDED\n",
      "Vehicle 1: ▶️ Action Started: 🔐 ARM\n",
      "Vehicle 1: ▶️ Step Started: arm\n",
      "Vehicle 1: ✅ Step Done: arm\n",
      "Vehicle 1: ✅ Action Done: 🔐 ARM\n",
      "Vehicle 1: ▶️ Action Started: 🚀 START_MISSION\n",
      "Vehicle 1: ▶️ Step Started: start_mission\n",
      "Vehicle 1: 🚀 Mission has started\n",
      "Vehicle 1: ✅ Step Done: start_mission\n",
      "Vehicle 1: ✅ Action Done: 🚀 START_MISSION\n",
      "Vehicle 1: ▶️ Action Started: 📤 UPLOAD_MISSION\n",
      "Vehicle 1: ▶️ Step Started: monitoring\n",
      "Vehicle 1: 📍 Position: lat=-35.3632830, lon=149.1651690, alt=-0.01 m\n",
      "Vehicle 1: 📍 Position: lat=-35.3632830, lon=149.1651690, alt=-0.01 m\n",
      "Vehicle 1: 📍 Position: lat=-35.3632830, lon=149.1651690, alt=-0.01 m\n",
      "Vehicle 1: 📍 Position: lat=-35.3632830, lon=149.1651690, alt=-0.01 m\n",
      "Vehicle 1: 📍 Position: lat=-35.3632830, lon=149.1651690, alt=-0.01 m\n",
      "Vehicle 1: 📍 Position: lat=-35.3632830, lon=149.1651690, alt=-0.01 m\n",
      "Vehicle 1: 📍 Position: lat=-35.3632830, lon=149.1651690, alt=-0.01 m\n",
      "Vehicle 1: 📍 Position: lat=-35.3632830, lon=149.1651690, alt=-0.01 m\n",
      "Vehicle 1: 📍 Position: lat=-35.3632830, lon=149.1651690, alt=-0.01 m\n",
      "Vehicle 1: 📍 Position: lat=-35.3632830, lon=149.1651690, alt=-0.01 m\n",
      "Vehicle 1: 📍 Position: lat=-35.3632830, lon=149.1651690, alt=-0.01 m\n",
      "Vehicle 1: 📍 Position: lat=-35.3632830, lon=149.1651690, alt=-0.01 m\n",
      "Vehicle 1: 📍 Position: lat=-35.3632830, lon=149.1651690, alt=-0.01 m\n",
      "Vehicle 1: 📍 Position: lat=-35.3632830, lon=149.1651690, alt=-0.01 m\n",
      "Vehicle 1: 📍 Position: lat=-35.3632830, lon=149.1651690, alt=-0.01 m\n",
      "Vehicle 1: 📍 Position: lat=-35.3632830, lon=149.1651690, alt=-0.01 m\n",
      "Vehicle 1: 📍 Position: lat=-35.3632830, lon=149.1651690, alt=-0.01 m\n",
      "Vehicle 1: 📍 Position: lat=-35.3632830, lon=149.1651690, alt=-0.01 m\n",
      "Vehicle 1: 📍 Position: lat=-35.3632830, lon=149.1651690, alt=-0.01 m\n",
      "Vehicle 1: 📍 Position: lat=-35.3632830, lon=149.1651690, alt=-0.01 m\n",
      "Vehicle 1: 📍 Position: lat=-35.3632830, lon=149.1651690, alt=-0.01 m\n",
      "Vehicle 1: 📍 Position: lat=-35.3632830, lon=149.1651690, alt=-0.01 m\n",
      "Vehicle 1: 📍 Position: lat=-35.3632830, lon=149.1651690, alt=-0.01 m\n",
      "Vehicle 1: 📍 Position: lat=-35.3632830, lon=149.1651690, alt=-0.01 m\n",
      "Vehicle 1: 📍 Position: lat=-35.3632830, lon=149.1651690, alt=-0.01 m\n",
      "Vehicle 1: 📍 Position: lat=-35.3632830, lon=149.1651690, alt=-0.01 m\n",
      "Vehicle 1: 📍 Position: lat=-35.3632830, lon=149.1651690, alt=-0.01 m\n",
      "Vehicle 1: 📍 Position: lat=-35.3632830, lon=149.1651690, alt=-0.01 m\n",
      "Vehicle 1: 📍 Position: lat=-35.3632830, lon=149.1651690, alt=-0.01 m\n",
      "Vehicle 1: 📍 Position: lat=-35.3632830, lon=149.1651690, alt=-0.01 m\n",
      "Vehicle 1: 📍 Position: lat=-35.3632830, lon=149.1651690, alt=-0.01 m\n",
      "Vehicle 1: 📍 Position: lat=-35.3632830, lon=149.1651690, alt=-0.01 m\n",
      "Vehicle 1: 📍 Position: lat=-35.3632830, lon=149.1651690, alt=-0.01 m\n",
      "Vehicle 1: 📍 Position: lat=-35.3632830, lon=149.1651690, alt=-0.01 m\n",
      "Vehicle 1: 📍 Position: lat=-35.3632830, lon=149.1651690, alt=-0.01 m\n",
      "Vehicle 1: 📍 Position: lat=-35.3632830, lon=149.1651690, alt=-0.01 m\n",
      "Vehicle 1: 📍 Position: lat=-35.3632830, lon=149.1651690, alt=-0.01 m\n",
      "Vehicle 1: 📍 Position: lat=-35.3632830, lon=149.1651690, alt=-0.01 m\n",
      "Vehicle 1: 📍 Position: lat=-35.3632830, lon=149.1651690, alt=-0.01 m\n",
      "Vehicle 1: 📍 Position: lat=-35.3632830, lon=149.1651690, alt=-0.01 m\n",
      "Vehicle 1: 📍 Position: lat=-35.3632830, lon=149.1651690, alt=-0.01 m\n",
      "Vehicle 1: 📍 Position: lat=-35.3632830, lon=149.1651690, alt=-0.01 m\n",
      "Vehicle 1: 📍 Position: lat=-35.3632830, lon=149.1651690, alt=-0.01 m\n",
      "Vehicle 1: 📍 Position: lat=-35.3632830, lon=149.1651690, alt=-0.01 m\n",
      "Vehicle 1: 📍 Position: lat=-35.3632830, lon=149.1651690, alt=-0.01 m\n",
      "Vehicle 1: 📍 Position: lat=-35.3632830, lon=149.1651690, alt=-0.01 m\n",
      "Vehicle 1: 📍 Position: lat=-35.3632830, lon=149.1651690, alt=-0.01 m\n",
      "Vehicle 1: 📍 Position: lat=-35.3632830, lon=149.1651690, alt=0.00 m\n",
      "Vehicle 1: 📍 Position: lat=-35.3632830, lon=149.1651690, alt=0.02 m\n",
      "Vehicle 1: 📍 Position: lat=-35.3632830, lon=149.1651690, alt=0.02 m\n",
      "Vehicle 1: 📍 Position: lat=-35.3632830, lon=149.1651690, alt=0.04 m\n",
      "Vehicle 1: 📍 Position: lat=-35.3632830, lon=149.1651690, alt=0.04 m\n",
      "Vehicle 1: 📍 Position: lat=-35.3632830, lon=149.1651690, alt=0.07 m\n",
      "Vehicle 1: 📍 Position: lat=-35.3632830, lon=149.1651690, alt=0.07 m\n",
      "Vehicle 1: 📍 Position: lat=-35.3632830, lon=149.1651690, alt=0.11 m\n",
      "Vehicle 1: 📍 Position: lat=-35.3632830, lon=149.1651690, alt=0.11 m\n",
      "Vehicle 1: 📍 Position: lat=-35.3632830, lon=149.1651690, alt=0.16 m\n",
      "Vehicle 1: 📍 Position: lat=-35.3632830, lon=149.1651690, alt=0.16 m\n",
      "Vehicle 1: 📍 Position: lat=-35.3632830, lon=149.1651690, alt=0.23 mVehicle 1: 📍 Position: lat=-35.3632830, lon=149.1651690, alt=0.23 m\n",
      "\n",
      "Vehicle 1: 📍 Position: lat=-35.3632830, lon=149.1651690, alt=0.30 m\n",
      "Vehicle 1: 📍 Position: lat=-35.3632830, lon=149.1651690, alt=0.38 m\n",
      "Vehicle 1: 📍 Position: lat=-35.3632830, lon=149.1651690, alt=0.38 m\n",
      "Vehicle 1: 📍 Position: lat=-35.3632830, lon=149.1651690, alt=0.47 m\n",
      "Vehicle 1: 📍 Position: lat=-35.3632830, lon=149.1651690, alt=0.47 m\n",
      "Vehicle 1: 📍 Position: lat=-35.3632830, lon=149.1651690, alt=0.57 m\n",
      "Vehicle 1: 📍 Position: lat=-35.3632830, lon=149.1651690, alt=0.57 m\n",
      "Vehicle 1: 📍 Position: lat=-35.3632830, lon=149.1651690, alt=0.69 m\n",
      "Vehicle 1: 📍 Position: lat=-35.3632830, lon=149.1651690, alt=0.81 m\n",
      "Vehicle 1: 📍 Position: lat=-35.3632830, lon=149.1651690, alt=0.81 m\n",
      "Vehicle 1: 📍 Position: lat=-35.3632830, lon=149.1651690, alt=0.95 m\n",
      "Vehicle 1: 📍 Position: lat=-35.3632830, lon=149.1651690, alt=0.95 m\n",
      "Vehicle 1: 📍 Position: lat=-35.3632830, lon=149.1651690, alt=1.09 m\n",
      "Vehicle 1: 📍 Position: lat=-35.3632830, lon=149.1651690, alt=1.09 m\n",
      "Vehicle 1: 📍 Position: lat=-35.3632830, lon=149.1651690, alt=1.25 m\n",
      "Vehicle 1: 📍 Position: lat=-35.3632830, lon=149.1651690, alt=1.25 m\n",
      "Vehicle 1: 📍 Position: lat=-35.3632830, lon=149.1651690, alt=1.42 m\n",
      "Vehicle 1: 📍 Position: lat=-35.3632830, lon=149.1651690, alt=1.42 m\n",
      "Vehicle 1: 📍 Position: lat=-35.3632830, lon=149.1651690, alt=1.60 m\n",
      "Vehicle 1: 📍 Position: lat=-35.3632830, lon=149.1651690, alt=1.60 m\n",
      "Vehicle 1: 📍 Position: lat=-35.3632830, lon=149.1651690, alt=1.79 m\n",
      "Vehicle 1: 📍 Position: lat=-35.3632830, lon=149.1651690, alt=1.79 m\n",
      "Vehicle 1: 📍 Position: lat=-35.3632830, lon=149.1651690, alt=1.97 m\n",
      "Vehicle 1: 📍 Position: lat=-35.3632830, lon=149.1651690, alt=1.97 m\n",
      "Vehicle 1: 📍 Position: lat=-35.3632830, lon=149.1651690, alt=2.16 m\n",
      "Vehicle 1: 📍 Position: lat=-35.3632830, lon=149.1651690, alt=2.16 m\n",
      "Vehicle 1: 📍 Position: lat=-35.3632830, lon=149.1651690, alt=2.35 m\n",
      "Vehicle 1: 📍 Position: lat=-35.3632830, lon=149.1651690, alt=2.35 m\n",
      "Vehicle 1: 📍 Position: lat=-35.3632830, lon=149.1651690, alt=2.53 m\n",
      "Vehicle 1: 📍 Position: lat=-35.3632830, lon=149.1651690, alt=2.53 m\n",
      "Vehicle 1: 📍 Position: lat=-35.3632830, lon=149.1651690, alt=2.71 m\n",
      "Vehicle 1: 📍 Position: lat=-35.3632830, lon=149.1651690, alt=2.88 m\n",
      "Vehicle 1: 📍 Position: lat=-35.3632830, lon=149.1651690, alt=2.88 m\n",
      "Vehicle 1: 📍 Position: lat=-35.3632830, lon=149.1651690, alt=3.04 m\n",
      "Vehicle 1: 📍 Position: lat=-35.3632830, lon=149.1651690, alt=3.04 m\n",
      "Vehicle 1: 📍 Position: lat=-35.3632830, lon=149.1651690, alt=3.20 m\n",
      "Vehicle 1: 📍 Position: lat=-35.3632830, lon=149.1651690, alt=3.20 m\n",
      "Vehicle 1: 📍 Position: lat=-35.3632830, lon=149.1651690, alt=3.35 m\n",
      "Vehicle 1: 📍 Position: lat=-35.3632830, lon=149.1651690, alt=3.35 m\n",
      "Vehicle 1: 📍 Position: lat=-35.3632830, lon=149.1651690, alt=3.50 m\n",
      "Vehicle 1: 📍 Position: lat=-35.3632830, lon=149.1651690, alt=3.50 m\n",
      "Vehicle 1: 📍 Position: lat=-35.3632831, lon=149.1651690, alt=3.63 m\n",
      "Vehicle 1: 📍 Position: lat=-35.3632831, lon=149.1651690, alt=3.63 m\n",
      "Vehicle 1: 📍 Position: lat=-35.3632831, lon=149.1651690, alt=3.76 m\n",
      "Vehicle 1: 📍 Position: lat=-35.3632831, lon=149.1651690, alt=3.76 m\n",
      "Vehicle 1: 📍 Position: lat=-35.3632831, lon=149.1651690, alt=3.88 m\n",
      "Vehicle 1: 📍 Position: lat=-35.3632831, lon=149.1651690, alt=3.88 m\n",
      "Vehicle 1: 📍 Position: lat=-35.3632831, lon=149.1651690, alt=4.00 m\n",
      "Vehicle 1: 📍 Position: lat=-35.3632831, lon=149.1651690, alt=4.00 m\n",
      "Vehicle 1: 📍 Position: lat=-35.3632831, lon=149.1651690, alt=4.11 m\n",
      "Vehicle 1: 📍 Position: lat=-35.3632831, lon=149.1651690, alt=4.21 m\n",
      "Vehicle 1: 📍 Position: lat=-35.3632831, lon=149.1651690, alt=4.31 m\n",
      "Vehicle 1: 📍 Position: lat=-35.3632831, lon=149.1651690, alt=4.40 m\n",
      "Vehicle 1: 📍 Position: lat=-35.3632831, lon=149.1651690, alt=4.49 m\n",
      "Vehicle 1: 📍 Position: lat=-35.3632831, lon=149.1651690, alt=4.49 m\n",
      "Vehicle 1: 📍 Position: lat=-35.3632831, lon=149.1651690, alt=4.56 m\n",
      "Vehicle 1: 📍 Position: lat=-35.3632831, lon=149.1651690, alt=4.56 m\n",
      "Vehicle 1: 📍 Position: lat=-35.3632831, lon=149.1651690, alt=4.64 m\n",
      "Vehicle 1: 📍 Position: lat=-35.3632831, lon=149.1651690, alt=4.70 m\n",
      "Vehicle 1: 📍 Position: lat=-35.3632831, lon=149.1651690, alt=4.70 m\n",
      "Vehicle 1: 📍 Position: lat=-35.3632831, lon=149.1651690, alt=4.77 m\n",
      "Vehicle 1: 📍 Position: lat=-35.3632831, lon=149.1651690, alt=4.82 m\n",
      "Vehicle 1: 📍 Position: lat=-35.3632831, lon=149.1651690, alt=4.82 m\n",
      "Vehicle 1: 📍 Position: lat=-35.3632831, lon=149.1651690, alt=4.87 m\n",
      "Vehicle 1: 📍 Position: lat=-35.3632831, lon=149.1651690, alt=4.87 m\n",
      "Vehicle 1: 📍 Position: lat=-35.3632831, lon=149.1651690, alt=4.92 m\n",
      "Vehicle 1: 📍 Position: lat=-35.3632831, lon=149.1651690, alt=4.92 m\n",
      "Vehicle 1: 📍 Position: lat=-35.3632831, lon=149.1651690, alt=4.96 m\n",
      "Vehicle 1: 📍 Position: lat=-35.3632831, lon=149.1651690, alt=4.96 m\n",
      "Vehicle 1: 📍 Position: lat=-35.3632831, lon=149.1651690, alt=4.99 m\n",
      "Vehicle 1: 📍 Position: lat=-35.3632831, lon=149.1651690, alt=4.99 m\n",
      "Vehicle 1: 📍 Position: lat=-35.3632831, lon=149.1651690, alt=5.01 m\n",
      "Vehicle 1: 📍 Position: lat=-35.3632831, lon=149.1651690, alt=5.01 m\n",
      "Vehicle 1: 📌 Reached waypoint: 1\n",
      "Vehicle 1: 📍 Position: lat=-35.3632831, lon=149.1651690, alt=5.03 m\n",
      "Vehicle 1: 📍 Position: lat=-35.3632831, lon=149.1651690, alt=5.03 m\n",
      "Vehicle 1: 📍 Position: lat=-35.3632831, lon=149.1651690, alt=5.04 m\n",
      "Vehicle 1: 📍 Position: lat=-35.3632831, lon=149.1651690, alt=5.04 m\n",
      "Vehicle 1: 📍 Position: lat=-35.3632831, lon=149.1651690, alt=5.04 m\n",
      "Vehicle 1: 📍 Position: lat=-35.3632831, lon=149.1651690, alt=5.04 m\n",
      "Vehicle 1: 📍 Position: lat=-35.3632831, lon=149.1651690, alt=5.04 m\n",
      "Vehicle 1: 📍 Position: lat=-35.3632831, lon=149.1651690, alt=5.03 m\n",
      "Vehicle 1: 📍 Position: lat=-35.3632831, lon=149.1651690, alt=5.03 m\n",
      "Vehicle 1: 📍 Position: lat=-35.3632831, lon=149.1651689, alt=5.02 m\n",
      "Vehicle 1: 📍 Position: lat=-35.3632832, lon=149.1651688, alt=5.01 m\n",
      "Vehicle 1: 📍 Position: lat=-35.3632832, lon=149.1651688, alt=5.01 m\n",
      "Vehicle 1: 📍 Position: lat=-35.3632833, lon=149.1651687, alt=5.00 mVehicle 1: 📍 Position: lat=-35.3632833, lon=149.1651687, alt=5.00 m\n",
      "\n",
      "Vehicle 1: 📍 Position: lat=-35.3632834, lon=149.1651685, alt=4.99 m\n",
      "Vehicle 1: 📍 Position: lat=-35.3632834, lon=149.1651685, alt=4.99 m\n",
      "Vehicle 1: 📍 Position: lat=-35.3632836, lon=149.1651683, alt=4.99 m\n",
      "Vehicle 1: 📍 Position: lat=-35.3632838, lon=149.1651680, alt=4.98 m\n",
      "Vehicle 1: 📍 Position: lat=-35.3632838, lon=149.1651680, alt=4.98 m\n",
      "Vehicle 1: 📍 Position: lat=-35.3632841, lon=149.1651676, alt=4.98 m\n",
      "Vehicle 1: 📍 Position: lat=-35.3632841, lon=149.1651676, alt=4.98 m\n",
      "Vehicle 1: 📍 Position: lat=-35.3632844, lon=149.1651672, alt=4.97 m\n",
      "Vehicle 1: 📍 Position: lat=-35.3632848, lon=149.1651666, alt=4.97 m\n",
      "Vehicle 1: 📍 Position: lat=-35.3632848, lon=149.1651666, alt=4.97 m\n",
      "Vehicle 1: 📍 Position: lat=-35.3632852, lon=149.1651660, alt=4.97 m\n",
      "Vehicle 1: 📍 Position: lat=-35.3632852, lon=149.1651660, alt=4.97 m\n",
      "Vehicle 1: 📍 Position: lat=-35.3632858, lon=149.1651653, alt=4.97 m\n",
      "Vehicle 1: 📍 Position: lat=-35.3632858, lon=149.1651653, alt=4.97 m\n",
      "Vehicle 1: 📍 Position: lat=-35.3632864, lon=149.1651645, alt=4.96 m\n",
      "Vehicle 1: 📍 Position: lat=-35.3632864, lon=149.1651645, alt=4.96 m\n",
      "Vehicle 1: 📍 Position: lat=-35.3632871, lon=149.1651636, alt=4.96 m\n",
      "Vehicle 1: 📍 Position: lat=-35.3632871, lon=149.1651636, alt=4.96 m\n",
      "Vehicle 1: 📍 Position: lat=-35.3632878, lon=149.1651625, alt=4.96 m\n",
      "Vehicle 1: 📍 Position: lat=-35.3632878, lon=149.1651625, alt=4.96 m\n",
      "Vehicle 1: 📍 Position: lat=-35.3632887, lon=149.1651614, alt=4.97 m\n",
      "Vehicle 1: 📍 Position: lat=-35.3632887, lon=149.1651614, alt=4.97 m\n",
      "Vehicle 1: 📍 Position: lat=-35.3632896, lon=149.1651601, alt=4.97 m\n",
      "Vehicle 1: 📍 Position: lat=-35.3632896, lon=149.1651601, alt=4.97 m\n",
      "Vehicle 1: 📍 Position: lat=-35.3632907, lon=149.1651587, alt=4.97 m\n",
      "Vehicle 1: 📍 Position: lat=-35.3632907, lon=149.1651587, alt=4.97 m\n",
      "Vehicle 1: 📍 Position: lat=-35.3632918, lon=149.1651572, alt=4.97 m\n",
      "Vehicle 1: 📍 Position: lat=-35.3632918, lon=149.1651572, alt=4.97 m\n",
      "Vehicle 1: 📍 Position: lat=-35.3632930, lon=149.1651556, alt=4.97 m\n",
      "Vehicle 1: 📍 Position: lat=-35.3632930, lon=149.1651556, alt=4.97 m\n",
      "Vehicle 1: 📍 Position: lat=-35.3632942, lon=149.1651539, alt=4.97 m\n",
      "Vehicle 1: 📍 Position: lat=-35.3632942, lon=149.1651539, alt=4.97 m\n",
      "Vehicle 1: 📍 Position: lat=-35.3632956, lon=149.1651520, alt=4.97 m\n",
      "Vehicle 1: 📍 Position: lat=-35.3632970, lon=149.1651501, alt=4.97 m\n",
      "Vehicle 1: 📍 Position: lat=-35.3632970, lon=149.1651501, alt=4.97 m\n",
      "Vehicle 1: 📍 Position: lat=-35.3632984, lon=149.1651482, alt=4.98 m\n",
      "Vehicle 1: 📍 Position: lat=-35.3632984, lon=149.1651482, alt=4.98 m\n",
      "Vehicle 1: 📍 Position: lat=-35.3632999, lon=149.1651462, alt=4.98 m\n",
      "Vehicle 1: 📍 Position: lat=-35.3633014, lon=149.1651441, alt=4.98 m\n",
      "Vehicle 1: 📍 Position: lat=-35.3633014, lon=149.1651441, alt=4.98 m\n",
      "Vehicle 1: 📍 Position: lat=-35.3633030, lon=149.1651419, alt=4.98 m\n",
      "Vehicle 1: 📍 Position: lat=-35.3633030, lon=149.1651419, alt=4.98 m\n",
      "Vehicle 1: 📍 Position: lat=-35.3633046, lon=149.1651397, alt=4.98 m\n",
      "Vehicle 1: 📍 Position: lat=-35.3633046, lon=149.1651397, alt=4.98 m\n",
      "Vehicle 1: 📍 Position: lat=-35.3633063, lon=149.1651375, alt=4.99 m\n",
      "Vehicle 1: 📍 Position: lat=-35.3633063, lon=149.1651375, alt=4.99 m\n",
      "Vehicle 1: 📍 Position: lat=-35.3633079, lon=149.1651353, alt=4.99 mVehicle 1: 📍 Position: lat=-35.3633079, lon=149.1651353, alt=4.99 m\n",
      "\n",
      "Vehicle 1: 📍 Position: lat=-35.3633096, lon=149.1651330, alt=4.99 m\n",
      "Vehicle 1: 📍 Position: lat=-35.3633096, lon=149.1651330, alt=4.99 m\n",
      "Vehicle 1: 📍 Position: lat=-35.3633112, lon=149.1651307, alt=4.99 m\n",
      "Vehicle 1: 📍 Position: lat=-35.3633112, lon=149.1651307, alt=4.99 m\n",
      "Vehicle 1: 📍 Position: lat=-35.3633129, lon=149.1651284, alt=4.99 m\n",
      "Vehicle 1: 📍 Position: lat=-35.3633129, lon=149.1651284, alt=4.99 m\n",
      "Vehicle 1: 📍 Position: lat=-35.3633146, lon=149.1651261, alt=4.99 m\n",
      "Vehicle 1: 📍 Position: lat=-35.3633146, lon=149.1651261, alt=4.99 m\n",
      "Vehicle 1: 📍 Position: lat=-35.3633162, lon=149.1651239, alt=4.99 m\n",
      "Vehicle 1: 📍 Position: lat=-35.3633162, lon=149.1651239, alt=4.99 m\n",
      "Vehicle 1: 📍 Position: lat=-35.3633179, lon=149.1651216, alt=5.00 m\n",
      "Vehicle 1: 📍 Position: lat=-35.3633195, lon=149.1651194, alt=5.00 m\n",
      "Vehicle 1: 📍 Position: lat=-35.3633212, lon=149.1651171, alt=5.00 m\n",
      "Vehicle 1: 📍 Position: lat=-35.3633212, lon=149.1651171, alt=5.00 m\n",
      "Vehicle 1: 📍 Position: lat=-35.3633228, lon=149.1651149, alt=5.00 m\n",
      "Vehicle 1: 📍 Position: lat=-35.3633228, lon=149.1651149, alt=5.00 m\n",
      "Vehicle 1: 📍 Position: lat=-35.3633244, lon=149.1651127, alt=5.00 m\n",
      "Vehicle 1: 📍 Position: lat=-35.3633244, lon=149.1651127, alt=5.00 m\n",
      "Vehicle 1: 📍 Position: lat=-35.3633260, lon=149.1651105, alt=5.00 m\n",
      "Vehicle 1: 📍 Position: lat=-35.3633275, lon=149.1651083, alt=5.00 m\n",
      "Vehicle 1: 📍 Position: lat=-35.3633275, lon=149.1651083, alt=5.00 m\n",
      "Vehicle 1: 📍 Position: lat=-35.3633290, lon=149.1651061, alt=5.00 m\n",
      "Vehicle 1: 📍 Position: lat=-35.3633290, lon=149.1651061, alt=5.00 m\n",
      "Vehicle 1: 📍 Position: lat=-35.3633305, lon=149.1651039, alt=5.00 m\n",
      "Vehicle 1: 📍 Position: lat=-35.3633305, lon=149.1651039, alt=5.00 m\n",
      "Vehicle 1: 📍 Position: lat=-35.3633318, lon=149.1651017, alt=5.00 m\n",
      "Vehicle 1: 📍 Position: lat=-35.3633318, lon=149.1651017, alt=5.00 m\n",
      "Vehicle 1: 📍 Position: lat=-35.3633330, lon=149.1650996, alt=5.00 m\n",
      "Vehicle 1: 📍 Position: lat=-35.3633330, lon=149.1650996, alt=5.00 m\n",
      "Vehicle 1: 📍 Position: lat=-35.3633342, lon=149.1650974, alt=5.00 m\n",
      "Vehicle 1: 📍 Position: lat=-35.3633342, lon=149.1650974, alt=5.00 m\n",
      "Vehicle 1: 📍 Position: lat=-35.3633352, lon=149.1650953, alt=5.00 m\n",
      "Vehicle 1: 📍 Position: lat=-35.3633361, lon=149.1650931, alt=5.00 m\n",
      "Vehicle 1: 📍 Position: lat=-35.3633368, lon=149.1650910, alt=5.00 m\n",
      "Vehicle 1: 📍 Position: lat=-35.3633368, lon=149.1650910, alt=5.00 m\n",
      "Vehicle 1: 📍 Position: lat=-35.3633374, lon=149.1650888, alt=5.00 m\n",
      "Vehicle 1: 📍 Position: lat=-35.3633374, lon=149.1650888, alt=5.00 m\n",
      "Vehicle 1: 📍 Position: lat=-35.3633379, lon=149.1650867, alt=5.00 m\n",
      "Vehicle 1: 📍 Position: lat=-35.3633379, lon=149.1650867, alt=5.00 m\n",
      "Vehicle 1: 📍 Position: lat=-35.3633381, lon=149.1650846, alt=5.00 m\n",
      "Vehicle 1: 📍 Position: lat=-35.3633381, lon=149.1650846, alt=5.00 m\n",
      "Vehicle 1: 📍 Position: lat=-35.3633382, lon=149.1650825, alt=5.00 m\n",
      "Vehicle 1: 📍 Position: lat=-35.3633382, lon=149.1650825, alt=5.00 m\n",
      "Vehicle 1: 📌 Reached waypoint: 2\n",
      "Vehicle 1: 📍 Position: lat=-35.3633381, lon=149.1650804, alt=4.99 m\n",
      "Vehicle 1: 📍 Position: lat=-35.3633381, lon=149.1650804, alt=4.99 m\n",
      "Vehicle 1: 📍 Position: lat=-35.3633377, lon=149.1650783, alt=4.99 m\n",
      "Vehicle 1: 📍 Position: lat=-35.3633377, lon=149.1650783, alt=4.99 m\n",
      "Vehicle 1: 📍 Position: lat=-35.3633372, lon=149.1650762, alt=4.99 m\n",
      "Vehicle 1: 📍 Position: lat=-35.3633366, lon=149.1650741, alt=4.99 m\n",
      "Vehicle 1: 📍 Position: lat=-35.3633357, lon=149.1650720, alt=4.99 m\n",
      "Vehicle 1: 📍 Position: lat=-35.3633357, lon=149.1650720, alt=4.99 m\n",
      "Vehicle 1: 📍 Position: lat=-35.3633347, lon=149.1650699, alt=4.99 m\n",
      "Vehicle 1: 📍 Position: lat=-35.3633347, lon=149.1650699, alt=4.99 m\n",
      "Vehicle 1: 📍 Position: lat=-35.3633334, lon=149.1650678, alt=4.99 m\n",
      "Vehicle 1: 📍 Position: lat=-35.3633334, lon=149.1650678, alt=4.99 m\n",
      "Vehicle 1: 📍 Position: lat=-35.3633321, lon=149.1650657, alt=4.99 m\n",
      "Vehicle 1: 📍 Position: lat=-35.3633306, lon=149.1650636, alt=4.99 m\n",
      "Vehicle 1: 📍 Position: lat=-35.3633306, lon=149.1650636, alt=4.99 m\n",
      "Vehicle 1: 📍 Position: lat=-35.3633291, lon=149.1650615, alt=4.99 m\n",
      "Vehicle 1: 📍 Position: lat=-35.3633291, lon=149.1650615, alt=4.99 m\n",
      "Vehicle 1: 📍 Position: lat=-35.3633274, lon=149.1650594, alt=4.99 m\n",
      "Vehicle 1: 📍 Position: lat=-35.3633256, lon=149.1650574, alt=4.99 m\n",
      "Vehicle 1: 📍 Position: lat=-35.3633238, lon=149.1650553, alt=4.99 m\n",
      "Vehicle 1: 📍 Position: lat=-35.3633238, lon=149.1650553, alt=4.99 m\n",
      "Vehicle 1: 📍 Position: lat=-35.3633219, lon=149.1650532, alt=4.99 m\n",
      "Vehicle 1: 📍 Position: lat=-35.3633219, lon=149.1650532, alt=4.99 m\n",
      "Vehicle 1: 📍 Position: lat=-35.3633200, lon=149.1650511, alt=5.00 m\n",
      "Vehicle 1: 📍 Position: lat=-35.3633200, lon=149.1650511, alt=5.00 m\n",
      "Vehicle 1: 📍 Position: lat=-35.3633181, lon=149.1650490, alt=5.00 m\n",
      "Vehicle 1: 📍 Position: lat=-35.3633181, lon=149.1650490, alt=5.00 m\n",
      "Vehicle 1: 📍 Position: lat=-35.3633162, lon=149.1650469, alt=5.00 m\n",
      "Vehicle 1: 📍 Position: lat=-35.3633162, lon=149.1650469, alt=5.00 m\n",
      "Vehicle 1: 📍 Position: lat=-35.3633142, lon=149.1650449, alt=5.00 m\n",
      "Vehicle 1: 📍 Position: lat=-35.3633123, lon=149.1650428, alt=5.00 m\n",
      "Vehicle 1: 📍 Position: lat=-35.3633123, lon=149.1650428, alt=5.00 m\n",
      "Vehicle 1: 📍 Position: lat=-35.3633104, lon=149.1650407, alt=5.00 m\n",
      "Vehicle 1: 📍 Position: lat=-35.3633104, lon=149.1650407, alt=5.00 m\n",
      "Vehicle 1: 📍 Position: lat=-35.3633086, lon=149.1650387, alt=5.00 m\n",
      "Vehicle 1: 📍 Position: lat=-35.3633086, lon=149.1650387, alt=5.00 m\n",
      "Vehicle 1: 📍 Position: lat=-35.3633067, lon=149.1650366, alt=5.00 m\n",
      "Vehicle 1: 📍 Position: lat=-35.3633067, lon=149.1650366, alt=5.00 m\n",
      "Vehicle 1: 📍 Position: lat=-35.3633049, lon=149.1650345, alt=5.00 m\n",
      "Vehicle 1: 📍 Position: lat=-35.3633049, lon=149.1650345, alt=5.00 m\n",
      "Vehicle 1: 📍 Position: lat=-35.3633031, lon=149.1650325, alt=5.00 m\n",
      "Vehicle 1: 📍 Position: lat=-35.3633031, lon=149.1650325, alt=5.00 m\n",
      "Vehicle 1: 📍 Position: lat=-35.3633013, lon=149.1650305, alt=5.00 m\n",
      "Vehicle 1: 📍 Position: lat=-35.3633013, lon=149.1650305, alt=5.00 m\n",
      "Vehicle 1: 📍 Position: lat=-35.3632996, lon=149.1650285, alt=5.00 m\n",
      "Vehicle 1: 📍 Position: lat=-35.3632996, lon=149.1650285, alt=5.00 m\n",
      "Vehicle 1: 📍 Position: lat=-35.3632978, lon=149.1650267, alt=5.00 m\n",
      "Vehicle 1: 📍 Position: lat=-35.3632978, lon=149.1650267, alt=5.00 m\n",
      "Vehicle 1: 📍 Position: lat=-35.3632961, lon=149.1650249, alt=5.00 m\n",
      "Vehicle 1: 📍 Position: lat=-35.3632961, lon=149.1650249, alt=5.00 m\n",
      "Vehicle 1: 📍 Position: lat=-35.3632944, lon=149.1650232, alt=5.00 m\n",
      "Vehicle 1: 📍 Position: lat=-35.3632944, lon=149.1650232, alt=5.00 m\n",
      "Vehicle 1: 📍 Position: lat=-35.3632927, lon=149.1650216, alt=5.00 m\n",
      "Vehicle 1: 📍 Position: lat=-35.3632927, lon=149.1650216, alt=5.00 m\n",
      "Vehicle 1: 📍 Position: lat=-35.3632910, lon=149.1650202, alt=5.00 m\n",
      "Vehicle 1: 📍 Position: lat=-35.3632910, lon=149.1650202, alt=5.00 m\n",
      "Vehicle 1: 📍 Position: lat=-35.3632893, lon=149.1650189, alt=5.00 m\n",
      "Vehicle 1: 📍 Position: lat=-35.3632876, lon=149.1650179, alt=5.00 m\n",
      "Vehicle 1: 📍 Position: lat=-35.3632876, lon=149.1650179, alt=5.00 m\n",
      "Vehicle 1: 📍 Position: lat=-35.3632860, lon=149.1650170, alt=5.00 m\n",
      "Vehicle 1: 📍 Position: lat=-35.3632843, lon=149.1650163, alt=5.00 m\n",
      "Vehicle 1: 📍 Position: lat=-35.3632827, lon=149.1650158, alt=5.00 m\n",
      "Vehicle 1: 📍 Position: lat=-35.3632827, lon=149.1650158, alt=5.00 m\n",
      "Vehicle 1: 📍 Position: lat=-35.3632810, lon=149.1650155, alt=5.00 m\n",
      "Vehicle 1: 📍 Position: lat=-35.3632810, lon=149.1650155, alt=5.00 m\n",
      "Vehicle 1: 📌 Reached waypoint: 3\n",
      "Vehicle 1: 📍 Position: lat=-35.3632793, lon=149.1650155, alt=5.00 m\n",
      "Vehicle 1: 📍 Position: lat=-35.3632793, lon=149.1650155, alt=5.00 m\n",
      "Vehicle 1: 📍 Position: lat=-35.3632777, lon=149.1650158, alt=5.00 m\n",
      "Vehicle 1: 📍 Position: lat=-35.3632777, lon=149.1650158, alt=5.00 m\n",
      "Vehicle 1: 📍 Position: lat=-35.3632760, lon=149.1650163, alt=5.00 m\n",
      "Vehicle 1: 📍 Position: lat=-35.3632760, lon=149.1650163, alt=5.00 m\n",
      "Vehicle 1: 📍 Position: lat=-35.3632743, lon=149.1650170, alt=4.99 m\n",
      "Vehicle 1: 📍 Position: lat=-35.3632743, lon=149.1650170, alt=4.99 m\n",
      "Vehicle 1: 📍 Position: lat=-35.3632727, lon=149.1650180, alt=4.99 m\n",
      "Vehicle 1: 📍 Position: lat=-35.3632727, lon=149.1650180, alt=4.99 m\n",
      "Vehicle 1: 📍 Position: lat=-35.3632710, lon=149.1650191, alt=4.99 m\n",
      "Vehicle 1: 📍 Position: lat=-35.3632710, lon=149.1650191, alt=4.99 m\n",
      "Vehicle 1: 📍 Position: lat=-35.3632693, lon=149.1650205, alt=4.99 m\n",
      "Vehicle 1: 📍 Position: lat=-35.3632693, lon=149.1650205, alt=4.99 m\n",
      "Vehicle 1: 📍 Position: lat=-35.3632676, lon=149.1650220, alt=4.99 m\n",
      "Vehicle 1: 📍 Position: lat=-35.3632659, lon=149.1650237, alt=4.99 m\n",
      "Vehicle 1: 📍 Position: lat=-35.3632659, lon=149.1650237, alt=4.99 m\n",
      "Vehicle 1: 📍 Position: lat=-35.3632642, lon=149.1650256, alt=4.99 m\n",
      "Vehicle 1: 📍 Position: lat=-35.3632642, lon=149.1650256, alt=4.99 m\n",
      "Vehicle 1: 📍 Position: lat=-35.3632625, lon=149.1650275, alt=4.99 m\n",
      "Vehicle 1: 📍 Position: lat=-35.3632625, lon=149.1650275, alt=4.99 m\n",
      "Vehicle 1: 📍 Position: lat=-35.3632609, lon=149.1650296, alt=4.99 m\n",
      "Vehicle 1: 📍 Position: lat=-35.3632592, lon=149.1650317, alt=4.99 m\n",
      "Vehicle 1: 📍 Position: lat=-35.3632592, lon=149.1650317, alt=4.99 m\n",
      "Vehicle 1: 📍 Position: lat=-35.3632575, lon=149.1650339, alt=4.99 m\n",
      "Vehicle 1: 📍 Position: lat=-35.3632575, lon=149.1650339, alt=4.99 m\n",
      "Vehicle 1: 📍 Position: lat=-35.3632558, lon=149.1650362, alt=4.99 m\n",
      "Vehicle 1: 📍 Position: lat=-35.3632558, lon=149.1650362, alt=4.99 m\n",
      "Vehicle 1: 📍 Position: lat=-35.3632541, lon=149.1650384, alt=4.99 m\n",
      "Vehicle 1: 📍 Position: lat=-35.3632524, lon=149.1650407, alt=5.00 m\n",
      "Vehicle 1: 📍 Position: lat=-35.3632524, lon=149.1650407, alt=5.00 m\n",
      "Vehicle 1: 📍 Position: lat=-35.3632507, lon=149.1650430, alt=5.00 m\n",
      "Vehicle 1: 📍 Position: lat=-35.3632507, lon=149.1650430, alt=5.00 m\n",
      "Vehicle 1: 📍 Position: lat=-35.3632490, lon=149.1650452, alt=5.00 m\n",
      "Vehicle 1: 📍 Position: lat=-35.3632474, lon=149.1650474, alt=5.00 m\n",
      "Vehicle 1: 📍 Position: lat=-35.3632474, lon=149.1650474, alt=5.00 m\n",
      "Vehicle 1: 📍 Position: lat=-35.3632457, lon=149.1650496, alt=5.00 m\n",
      "Vehicle 1: 📍 Position: lat=-35.3632457, lon=149.1650496, alt=5.00 m\n",
      "Vehicle 1: 📍 Position: lat=-35.3632440, lon=149.1650518, alt=5.00 m\n",
      "Vehicle 1: 📍 Position: lat=-35.3632440, lon=149.1650518, alt=5.00 m\n",
      "Vehicle 1: 📍 Position: lat=-35.3632423, lon=149.1650539, alt=5.00 m\n",
      "Vehicle 1: 📍 Position: lat=-35.3632423, lon=149.1650539, alt=5.00 m\n",
      "Vehicle 1: 📍 Position: lat=-35.3632407, lon=149.1650561, alt=5.00 m\n",
      "Vehicle 1: 📍 Position: lat=-35.3632407, lon=149.1650561, alt=5.00 m\n",
      "Vehicle 1: 📍 Position: lat=-35.3632391, lon=149.1650582, alt=5.00 m\n",
      "Vehicle 1: 📍 Position: lat=-35.3632391, lon=149.1650582, alt=5.00 m\n",
      "Vehicle 1: 📍 Position: lat=-35.3632375, lon=149.1650603, alt=5.00 m\n",
      "Vehicle 1: 📍 Position: lat=-35.3632375, lon=149.1650603, alt=5.00 m\n",
      "Vehicle 1: 📍 Position: lat=-35.3632360, lon=149.1650624, alt=5.00 m\n",
      "Vehicle 1: 📍 Position: lat=-35.3632360, lon=149.1650624, alt=5.00 m\n",
      "Vehicle 1: 📍 Position: lat=-35.3632346, lon=149.1650644, alt=5.00 m\n",
      "Vehicle 1: 📍 Position: lat=-35.3632346, lon=149.1650644, alt=5.00 m\n",
      "Vehicle 1: 📍 Position: lat=-35.3632333, lon=149.1650665, alt=5.00 m\n",
      "Vehicle 1: 📍 Position: lat=-35.3632320, lon=149.1650686, alt=5.00 m\n",
      "Vehicle 1: 📍 Position: lat=-35.3632320, lon=149.1650686, alt=5.00 m\n",
      "Vehicle 1: 📍 Position: lat=-35.3632309, lon=149.1650706, alt=5.00 m\n",
      "Vehicle 1: 📍 Position: lat=-35.3632309, lon=149.1650706, alt=5.00 m\n",
      "Vehicle 1: 📍 Position: lat=-35.3632300, lon=149.1650727, alt=5.00 m\n",
      "Vehicle 1: 📍 Position: lat=-35.3632291, lon=149.1650748, alt=5.00 m\n",
      "Vehicle 1: 📍 Position: lat=-35.3632291, lon=149.1650748, alt=5.00 m\n",
      "Vehicle 1: 📍 Position: lat=-35.3632285, lon=149.1650769, alt=5.00 m\n",
      "Vehicle 1: 📍 Position: lat=-35.3632279, lon=149.1650789, alt=5.00 m\n",
      "Vehicle 1: 📍 Position: lat=-35.3632279, lon=149.1650789, alt=5.00 m\n",
      "Vehicle 1: 📍 Position: lat=-35.3632276, lon=149.1650811, alt=5.00 m\n",
      "Vehicle 1: 📍 Position: lat=-35.3632276, lon=149.1650811, alt=5.00 m\n",
      "Vehicle 1: 📌 Reached waypoint: 4\n",
      "Vehicle 1: 📍 Position: lat=-35.3632275, lon=149.1650832, alt=5.00 m\n",
      "Vehicle 1: 📍 Position: lat=-35.3632275, lon=149.1650832, alt=5.00 m\n",
      "Vehicle 1: 📍 Position: lat=-35.3632275, lon=149.1650853, alt=5.00 m\n",
      "Vehicle 1: 📍 Position: lat=-35.3632275, lon=149.1650853, alt=5.00 m\n",
      "Vehicle 1: 📍 Position: lat=-35.3632277, lon=149.1650875, alt=5.00 m\n",
      "Vehicle 1: 📍 Position: lat=-35.3632277, lon=149.1650875, alt=5.00 m\n",
      "Vehicle 1: 📍 Position: lat=-35.3632282, lon=149.1650897, alt=5.00 m\n",
      "Vehicle 1: 📍 Position: lat=-35.3632288, lon=149.1650920, alt=4.99 m\n",
      "Vehicle 1: 📍 Position: lat=-35.3632288, lon=149.1650920, alt=4.99 m\n",
      "Vehicle 1: 📍 Position: lat=-35.3632296, lon=149.1650942, alt=4.99 m\n",
      "Vehicle 1: 📍 Position: lat=-35.3632296, lon=149.1650942, alt=4.99 m\n",
      "Vehicle 1: 📍 Position: lat=-35.3632306, lon=149.1650965, alt=4.99 mVehicle 1: 📍 Position: lat=-35.3632306, lon=149.1650965, alt=4.99 m\n",
      "\n",
      "Vehicle 1: 📍 Position: lat=-35.3632317, lon=149.1650988, alt=4.99 m\n",
      "Vehicle 1: 📍 Position: lat=-35.3632317, lon=149.1650988, alt=4.99 m\n",
      "Vehicle 1: 📍 Position: lat=-35.3632330, lon=149.1651011, alt=4.99 m\n",
      "Vehicle 1: 📍 Position: lat=-35.3632330, lon=149.1651011, alt=4.99 m\n",
      "Vehicle 1: 📍 Position: lat=-35.3632344, lon=149.1651035, alt=4.99 m\n",
      "Vehicle 1: 📍 Position: lat=-35.3632358, lon=149.1651059, alt=4.99 m\n",
      "Vehicle 1: 📍 Position: lat=-35.3632374, lon=149.1651082, alt=4.99 mVehicle 1: 📍 Position: lat=-35.3632374, lon=149.1651082, alt=4.99 m\n",
      "\n",
      "Vehicle 1: 📍 Position: lat=-35.3632390, lon=149.1651106, alt=4.99 m\n",
      "Vehicle 1: 📍 Position: lat=-35.3632407, lon=149.1651130, alt=4.99 m\n",
      "Vehicle 1: 📍 Position: lat=-35.3632407, lon=149.1651130, alt=4.99 m\n",
      "Vehicle 1: 📍 Position: lat=-35.3632424, lon=149.1651154, alt=4.99 m\n",
      "Vehicle 1: 📍 Position: lat=-35.3632424, lon=149.1651154, alt=4.99 m\n",
      "Vehicle 1: 📍 Position: lat=-35.3632442, lon=149.1651179, alt=4.99 m\n",
      "Vehicle 1: 📍 Position: lat=-35.3632442, lon=149.1651179, alt=4.99 m\n",
      "Vehicle 1: 📍 Position: lat=-35.3632460, lon=149.1651203, alt=5.00 m\n",
      "Vehicle 1: 📍 Position: lat=-35.3632460, lon=149.1651203, alt=5.00 m\n",
      "Vehicle 1: 📍 Position: lat=-35.3632477, lon=149.1651228, alt=5.00 m\n",
      "Vehicle 1: 📍 Position: lat=-35.3632477, lon=149.1651228, alt=5.00 m\n",
      "Vehicle 1: 📍 Position: lat=-35.3632495, lon=149.1651252, alt=5.00 m\n",
      "Vehicle 1: 📍 Position: lat=-35.3632495, lon=149.1651252, alt=5.00 m\n",
      "Vehicle 1: 📍 Position: lat=-35.3632512, lon=149.1651277, alt=5.00 m\n",
      "Vehicle 1: 📍 Position: lat=-35.3632512, lon=149.1651277, alt=5.00 m\n",
      "Vehicle 1: 📍 Position: lat=-35.3632529, lon=149.1651301, alt=5.00 m\n",
      "Vehicle 1: 📍 Position: lat=-35.3632529, lon=149.1651301, alt=5.00 m\n",
      "Vehicle 1: 📍 Position: lat=-35.3632546, lon=149.1651325, alt=5.00 m\n",
      "Vehicle 1: 📍 Position: lat=-35.3632563, lon=149.1651350, alt=5.00 m\n",
      "Vehicle 1: 📍 Position: lat=-35.3632563, lon=149.1651350, alt=5.00 m\n",
      "Vehicle 1: 📍 Position: lat=-35.3632579, lon=149.1651374, alt=5.00 m\n",
      "Vehicle 1: 📍 Position: lat=-35.3632579, lon=149.1651374, alt=5.00 m\n",
      "Vehicle 1: 📍 Position: lat=-35.3632595, lon=149.1651398, alt=5.00 m\n",
      "Vehicle 1: 📍 Position: lat=-35.3632595, lon=149.1651398, alt=5.00 m\n",
      "Vehicle 1: 📍 Position: lat=-35.3632611, lon=149.1651421, alt=5.00 m\n",
      "Vehicle 1: 📍 Position: lat=-35.3632611, lon=149.1651421, alt=5.00 m\n",
      "Vehicle 1: 📍 Position: lat=-35.3632627, lon=149.1651445, alt=5.00 m\n",
      "Vehicle 1: 📍 Position: lat=-35.3632627, lon=149.1651445, alt=5.00 m\n",
      "Vehicle 1: 📍 Position: lat=-35.3632642, lon=149.1651467, alt=5.00 m\n",
      "Vehicle 1: 📍 Position: lat=-35.3632642, lon=149.1651467, alt=5.00 m\n",
      "Vehicle 1: 📍 Position: lat=-35.3632656, lon=149.1651490, alt=5.00 m\n",
      "Vehicle 1: 📍 Position: lat=-35.3632656, lon=149.1651490, alt=5.00 m\n",
      "Vehicle 1: 📍 Position: lat=-35.3632670, lon=149.1651511, alt=5.00 m\n",
      "Vehicle 1: 📍 Position: lat=-35.3632670, lon=149.1651511, alt=5.00 m\n",
      "Vehicle 1: 📍 Position: lat=-35.3632684, lon=149.1651532, alt=5.00 m\n",
      "Vehicle 1: 📍 Position: lat=-35.3632684, lon=149.1651532, alt=5.00 m\n",
      "Vehicle 1: 📍 Position: lat=-35.3632696, lon=149.1651552, alt=5.00 m\n",
      "Vehicle 1: 📍 Position: lat=-35.3632696, lon=149.1651552, alt=5.00 m\n",
      "Vehicle 1: 📍 Position: lat=-35.3632709, lon=149.1651570, alt=5.00 m\n",
      "Vehicle 1: 📍 Position: lat=-35.3632709, lon=149.1651570, alt=5.00 m\n",
      "Vehicle 1: 📍 Position: lat=-35.3632720, lon=149.1651588, alt=5.00 m\n",
      "Vehicle 1: 📍 Position: lat=-35.3632720, lon=149.1651588, alt=5.00 m\n",
      "Vehicle 1: 📍 Position: lat=-35.3632731, lon=149.1651605, alt=5.00 m\n",
      "Vehicle 1: 📍 Position: lat=-35.3632731, lon=149.1651605, alt=5.00 m\n",
      "Vehicle 1: 📍 Position: lat=-35.3632741, lon=149.1651621, alt=5.00 m\n",
      "Vehicle 1: 📍 Position: lat=-35.3632741, lon=149.1651621, alt=5.00 m\n",
      "Vehicle 1: 📍 Position: lat=-35.3632750, lon=149.1651635, alt=5.00 m\n",
      "Vehicle 1: 📍 Position: lat=-35.3632750, lon=149.1651635, alt=5.00 m\n",
      "Vehicle 1: 📍 Position: lat=-35.3632758, lon=149.1651648, alt=5.00 m\n",
      "Vehicle 1: 📍 Position: lat=-35.3632758, lon=149.1651648, alt=5.00 m\n",
      "Vehicle 1: 📍 Position: lat=-35.3632765, lon=149.1651659, alt=5.00 m\n",
      "Vehicle 1: 📍 Position: lat=-35.3632765, lon=149.1651659, alt=5.00 m\n",
      "Vehicle 1: 📍 Position: lat=-35.3632772, lon=149.1651669, alt=5.00 m\n",
      "Vehicle 1: 📍 Position: lat=-35.3632777, lon=149.1651678, alt=5.00 m\n",
      "Vehicle 1: 📍 Position: lat=-35.3632777, lon=149.1651678, alt=5.00 m\n",
      "Vehicle 1: 📍 Position: lat=-35.3632782, lon=149.1651685, alt=5.00 m\n",
      "Vehicle 1: 📍 Position: lat=-35.3632782, lon=149.1651685, alt=5.00 m\n",
      "Vehicle 1: 📍 Position: lat=-35.3632786, lon=149.1651691, alt=5.00 m\n",
      "Vehicle 1: 📍 Position: lat=-35.3632786, lon=149.1651691, alt=5.00 m\n",
      "Vehicle 1: 📍 Position: lat=-35.3632789, lon=149.1651696, alt=5.00 m\n",
      "Vehicle 1: 📍 Position: lat=-35.3632789, lon=149.1651696, alt=5.00 m\n",
      "Vehicle 1: 📍 Position: lat=-35.3632791, lon=149.1651699, alt=5.00 m\n",
      "Vehicle 1: 📍 Position: lat=-35.3632791, lon=149.1651699, alt=5.00 m\n",
      "Vehicle 1: 📍 Position: lat=-35.3632793, lon=149.1651702, alt=5.00 m\n",
      "Vehicle 1: 📍 Position: lat=-35.3632793, lon=149.1651702, alt=5.00 m\n",
      "Vehicle 1: 📍 Position: lat=-35.3632795, lon=149.1651704, alt=4.99 m\n",
      "Vehicle 1: 📍 Position: lat=-35.3632795, lon=149.1651704, alt=4.99 m\n",
      "Vehicle 1: 📍 Position: lat=-35.3632796, lon=149.1651706, alt=4.99 m\n",
      "Vehicle 1: 📍 Position: lat=-35.3632796, lon=149.1651706, alt=4.99 m\n",
      "Vehicle 1: 📍 Position: lat=-35.3632796, lon=149.1651707, alt=4.99 m\n",
      "Vehicle 1: 📍 Position: lat=-35.3632796, lon=149.1651707, alt=4.99 m\n",
      "Vehicle 1: 📍 Position: lat=-35.3632796, lon=149.1651707, alt=4.99 m\n",
      "Vehicle 1: 📍 Position: lat=-35.3632796, lon=149.1651707, alt=4.99 m\n",
      "Vehicle 1: 📍 Position: lat=-35.3632796, lon=149.1651707, alt=4.99 m\n",
      "Vehicle 1: 📍 Position: lat=-35.3632796, lon=149.1651707, alt=4.99 m\n",
      "Vehicle 1: 📍 Position: lat=-35.3632796, lon=149.1651706, alt=4.99 m\n",
      "Vehicle 1: 📍 Position: lat=-35.3632796, lon=149.1651706, alt=4.99 m\n",
      "Vehicle 1: 📍 Position: lat=-35.3632796, lon=149.1651706, alt=4.99 m\n",
      "Vehicle 1: 📍 Position: lat=-35.3632796, lon=149.1651706, alt=4.99 m\n",
      "Vehicle 1: 📍 Position: lat=-35.3632796, lon=149.1651706, alt=4.99 m\n",
      "Vehicle 1: 📍 Position: lat=-35.3632796, lon=149.1651706, alt=4.99 m\n",
      "Vehicle 1: 📍 Position: lat=-35.3632796, lon=149.1651705, alt=4.99 m\n",
      "Vehicle 1: 📍 Position: lat=-35.3632796, lon=149.1651705, alt=4.99 m\n",
      "Vehicle 1: 📍 Position: lat=-35.3632796, lon=149.1651705, alt=4.99 m\n",
      "Vehicle 1: 📍 Position: lat=-35.3632796, lon=149.1651705, alt=4.99 m\n",
      "Vehicle 1: 📍 Position: lat=-35.3632795, lon=149.1651704, alt=4.99 m\n",
      "Vehicle 1: 📍 Position: lat=-35.3632795, lon=149.1651704, alt=4.99 m\n",
      "Vehicle 1: 📌 Reached waypoint: 5\n",
      "Vehicle 1: 📍 Position: lat=-35.3632795, lon=149.1651704, alt=4.99 m\n",
      "Vehicle 1: 📍 Position: lat=-35.3632795, lon=149.1651704, alt=4.99 m\n",
      "Vehicle 1: 📍 Position: lat=-35.3632795, lon=149.1651704, alt=4.99 m\n",
      "Vehicle 1: 📍 Position: lat=-35.3632795, lon=149.1651704, alt=4.99 m\n",
      "Vehicle 1: 📍 Position: lat=-35.3632795, lon=149.1651704, alt=4.99 m\n",
      "Vehicle 1: 📍 Position: lat=-35.3632795, lon=149.1651704, alt=4.99 m\n",
      "Vehicle 1: 📍 Position: lat=-35.3632794, lon=149.1651703, alt=4.99 m\n",
      "Vehicle 1: 📍 Position: lat=-35.3632794, lon=149.1651703, alt=4.99 m\n",
      "Vehicle 1: 📍 Position: lat=-35.3632794, lon=149.1651703, alt=4.99 m\n",
      "Vehicle 1: 📍 Position: lat=-35.3632794, lon=149.1651703, alt=4.99 m\n",
      "Vehicle 1: 📍 Position: lat=-35.3632794, lon=149.1651704, alt=4.99 m\n",
      "Vehicle 1: 📍 Position: lat=-35.3632794, lon=149.1651704, alt=4.99 m\n",
      "Vehicle 1: 📍 Position: lat=-35.3632794, lon=149.1651705, alt=4.99 m\n",
      "Vehicle 1: 📍 Position: lat=-35.3632794, lon=149.1651705, alt=4.99 m\n",
      "Vehicle 1: 📍 Position: lat=-35.3632794, lon=149.1651705, alt=4.99 m\n",
      "Vehicle 1: 📍 Position: lat=-35.3632794, lon=149.1651705, alt=4.99 m\n",
      "Vehicle 1: 📍 Position: lat=-35.3632794, lon=149.1651706, alt=4.99 m\n",
      "Vehicle 1: 📍 Position: lat=-35.3632794, lon=149.1651706, alt=4.99 m\n",
      "Vehicle 1: 📍 Position: lat=-35.3632794, lon=149.1651707, alt=4.99 m\n",
      "Vehicle 1: 📍 Position: lat=-35.3632794, lon=149.1651707, alt=4.99 m\n",
      "Vehicle 1: 📍 Position: lat=-35.3632795, lon=149.1651708, alt=4.98 m\n",
      "Vehicle 1: 📍 Position: lat=-35.3632795, lon=149.1651708, alt=4.98 m\n",
      "Vehicle 1: 📍 Position: lat=-35.3632795, lon=149.1651709, alt=4.98 m\n",
      "Vehicle 1: 📍 Position: lat=-35.3632795, lon=149.1651709, alt=4.98 m\n",
      "Vehicle 1: 📍 Position: lat=-35.3632795, lon=149.1651710, alt=4.98 m\n",
      "Vehicle 1: 📍 Position: lat=-35.3632795, lon=149.1651710, alt=4.98 m\n",
      "Vehicle 1: 📍 Position: lat=-35.3632796, lon=149.1651711, alt=4.98 m\n",
      "Vehicle 1: 📍 Position: lat=-35.3632796, lon=149.1651711, alt=4.98 m\n",
      "Vehicle 1: 📍 Position: lat=-35.3632796, lon=149.1651712, alt=4.98 m\n",
      "Vehicle 1: 📍 Position: lat=-35.3632796, lon=149.1651713, alt=4.98 m\n",
      "Vehicle 1: 📍 Position: lat=-35.3632796, lon=149.1651713, alt=4.98 m\n",
      "Vehicle 1: 📍 Position: lat=-35.3632796, lon=149.1651713, alt=4.98 m\n",
      "Vehicle 1: 📍 Position: lat=-35.3632797, lon=149.1651714, alt=4.99 m\n",
      "Vehicle 1: 📍 Position: lat=-35.3632797, lon=149.1651714, alt=4.99 m\n",
      "Vehicle 1: 📍 Position: lat=-35.3632797, lon=149.1651715, alt=4.99 m\n",
      "Vehicle 1: 📍 Position: lat=-35.3632797, lon=149.1651715, alt=4.99 m\n",
      "Vehicle 1: 📍 Position: lat=-35.3632797, lon=149.1651716, alt=4.99 m\n",
      "Vehicle 1: 📍 Position: lat=-35.3632797, lon=149.1651716, alt=4.99 m\n",
      "Vehicle 1: 📍 Position: lat=-35.3632797, lon=149.1651716, alt=4.99 m\n",
      "Vehicle 1: 📍 Position: lat=-35.3632797, lon=149.1651716, alt=4.99 m\n",
      "Vehicle 1: 📍 Position: lat=-35.3632797, lon=149.1651717, alt=4.99 m\n",
      "Vehicle 1: 📍 Position: lat=-35.3632797, lon=149.1651717, alt=4.99 m\n",
      "Vehicle 1: 📍 Position: lat=-35.3632798, lon=149.1651717, alt=4.99 m\n",
      "Vehicle 1: 📍 Position: lat=-35.3632798, lon=149.1651717, alt=4.99 m\n",
      "Vehicle 1: 📍 Position: lat=-35.3632798, lon=149.1651718, alt=4.99 m\n",
      "Vehicle 1: 📍 Position: lat=-35.3632798, lon=149.1651718, alt=4.99 m\n",
      "Vehicle 1: 📍 Position: lat=-35.3632798, lon=149.1651718, alt=4.99 m\n",
      "Vehicle 1: 📍 Position: lat=-35.3632798, lon=149.1651718, alt=4.99 m\n",
      "Vehicle 1: 📍 Position: lat=-35.3632798, lon=149.1651718, alt=4.99 m\n",
      "Vehicle 1: 📍 Position: lat=-35.3632798, lon=149.1651718, alt=4.99 m\n",
      "Vehicle 1: 📍 Position: lat=-35.3632798, lon=149.1651719, alt=4.99 m\n",
      "Vehicle 1: 📍 Position: lat=-35.3632798, lon=149.1651719, alt=4.99 m\n",
      "Vehicle 1: 📍 Position: lat=-35.3632798, lon=149.1651719, alt=4.99 m\n",
      "Vehicle 1: 📍 Position: lat=-35.3632798, lon=149.1651719, alt=4.99 m\n",
      "Vehicle 1: 📍 Position: lat=-35.3632798, lon=149.1651719, alt=4.99 m\n",
      "Vehicle 1: 📍 Position: lat=-35.3632798, lon=149.1651719, alt=4.99 m\n",
      "Vehicle 1: 📍 Position: lat=-35.3632798, lon=149.1651719, alt=4.99 m\n",
      "Vehicle 1: 📍 Position: lat=-35.3632798, lon=149.1651719, alt=4.99 m\n",
      "Vehicle 1: 📍 Position: lat=-35.3632798, lon=149.1651719, alt=4.99 m\n",
      "Vehicle 1: 📍 Position: lat=-35.3632799, lon=149.1651719, alt=4.99 m\n",
      "Vehicle 1: 📍 Position: lat=-35.3632799, lon=149.1651719, alt=4.99 m\n",
      "Vehicle 1: 📍 Position: lat=-35.3632799, lon=149.1651719, alt=4.99 m\n",
      "Vehicle 1: 📍 Position: lat=-35.3632799, lon=149.1651719, alt=4.99 m\n",
      "Vehicle 1: 📍 Position: lat=-35.3632799, lon=149.1651720, alt=4.99 m\n",
      "Vehicle 1: 📍 Position: lat=-35.3632799, lon=149.1651720, alt=4.99 m\n",
      "Vehicle 1: 📍 Position: lat=-35.3632799, lon=149.1651720, alt=4.99 m\n",
      "Vehicle 1: 📍 Position: lat=-35.3632799, lon=149.1651720, alt=4.99 m\n",
      "Vehicle 1: 📍 Position: lat=-35.3632799, lon=149.1651720, alt=4.99 m\n",
      "Vehicle 1: 📍 Position: lat=-35.3632799, lon=149.1651720, alt=4.99 m\n",
      "Vehicle 1: 📍 Position: lat=-35.3632799, lon=149.1651720, alt=4.99 m\n",
      "Vehicle 1: 📍 Position: lat=-35.3632799, lon=149.1651720, alt=4.99 m\n",
      "Vehicle 1: 📍 Position: lat=-35.3632799, lon=149.1651720, alt=4.99 m\n",
      "Vehicle 1: 📍 Position: lat=-35.3632799, lon=149.1651720, alt=4.99 m\n",
      "Vehicle 1: 📍 Position: lat=-35.3632799, lon=149.1651720, alt=4.99 m\n",
      "Vehicle 1: 📍 Position: lat=-35.3632799, lon=149.1651720, alt=4.99 m\n",
      "Vehicle 1: 📍 Position: lat=-35.3632799, lon=149.1651720, alt=4.99 m\n",
      "Vehicle 1: 📍 Position: lat=-35.3632799, lon=149.1651720, alt=4.99 m\n",
      "Vehicle 1: 📍 Position: lat=-35.3632799, lon=149.1651720, alt=4.99 m\n",
      "Vehicle 1: 📍 Position: lat=-35.3632799, lon=149.1651720, alt=4.99 m\n",
      "Vehicle 1: 📍 Position: lat=-35.3632799, lon=149.1651719, alt=4.99 m\n",
      "Vehicle 1: 📍 Position: lat=-35.3632799, lon=149.1651719, alt=4.99 m\n",
      "Vehicle 1: 📍 Position: lat=-35.3632799, lon=149.1651719, alt=4.99 m\n",
      "Vehicle 1: 📍 Position: lat=-35.3632799, lon=149.1651719, alt=4.99 m\n",
      "Vehicle 1: 📍 Position: lat=-35.3632799, lon=149.1651719, alt=4.99 m\n",
      "Vehicle 1: 📍 Position: lat=-35.3632799, lon=149.1651719, alt=4.99 m\n",
      "Vehicle 1: 📍 Position: lat=-35.3632799, lon=149.1651719, alt=4.99 m\n",
      "Vehicle 1: 📍 Position: lat=-35.3632799, lon=149.1651719, alt=4.99 m\n",
      "Vehicle 1: 📍 Position: lat=-35.3632799, lon=149.1651719, alt=4.99 m\n",
      "Vehicle 1: 📍 Position: lat=-35.3632799, lon=149.1651719, alt=4.99 m\n",
      "Vehicle 1: 📍 Position: lat=-35.3632799, lon=149.1651719, alt=4.99 m\n",
      "Vehicle 1: 📍 Position: lat=-35.3632799, lon=149.1651719, alt=4.99 m\n",
      "Vehicle 1: 📍 Position: lat=-35.3632799, lon=149.1651719, alt=4.99 m\n",
      "Vehicle 1: 📍 Position: lat=-35.3632799, lon=149.1651719, alt=4.99 m\n",
      "Vehicle 1: 📍 Position: lat=-35.3632799, lon=149.1651719, alt=4.99 m\n",
      "Vehicle 1: 📍 Position: lat=-35.3632799, lon=149.1651719, alt=4.99 m\n",
      "Vehicle 1: 📍 Position: lat=-35.3632799, lon=149.1651719, alt=4.99 m\n",
      "Vehicle 1: 📍 Position: lat=-35.3632799, lon=149.1651719, alt=4.99 m\n",
      "Vehicle 1: 📍 Position: lat=-35.3632799, lon=149.1651719, alt=4.99 m\n",
      "Vehicle 1: 📍 Position: lat=-35.3632799, lon=149.1651719, alt=4.99 m\n",
      "Vehicle 1: 📍 Position: lat=-35.3632799, lon=149.1651719, alt=4.99 m\n",
      "Vehicle 1: 📍 Position: lat=-35.3632799, lon=149.1651719, alt=4.99 m\n",
      "Vehicle 1: 📍 Position: lat=-35.3632799, lon=149.1651719, alt=4.99 m\n",
      "Vehicle 1: 📍 Position: lat=-35.3632799, lon=149.1651719, alt=4.99 m\n",
      "Vehicle 1: 📍 Position: lat=-35.3632799, lon=149.1651719, alt=4.99 m\n",
      "Vehicle 1: 📍 Position: lat=-35.3632799, lon=149.1651719, alt=4.99 m\n",
      "Vehicle 1: 📍 Position: lat=-35.3632799, lon=149.1651719, alt=4.99 m\n",
      "Vehicle 1: 📍 Position: lat=-35.3632799, lon=149.1651719, alt=4.99 m\n",
      "Vehicle 1: 📍 Position: lat=-35.3632799, lon=149.1651719, alt=4.99 m\n",
      "Vehicle 1: 📍 Position: lat=-35.3632799, lon=149.1651718, alt=4.99 m\n",
      "Vehicle 1: 📍 Position: lat=-35.3632799, lon=149.1651718, alt=4.99 m\n",
      "Vehicle 1: 📍 Position: lat=-35.3632799, lon=149.1651718, alt=4.99 m\n",
      "Vehicle 1: 📍 Position: lat=-35.3632799, lon=149.1651718, alt=4.99 m\n",
      "Vehicle 1: 📍 Position: lat=-35.3632799, lon=149.1651718, alt=4.99 m\n",
      "Vehicle 1: 📍 Position: lat=-35.3632799, lon=149.1651718, alt=4.99 m\n",
      "Vehicle 1: 📍 Position: lat=-35.3632799, lon=149.1651718, alt=4.99 m\n",
      "Vehicle 1: 📍 Position: lat=-35.3632799, lon=149.1651718, alt=4.99 m\n",
      "Vehicle 1: 📍 Position: lat=-35.3632799, lon=149.1651718, alt=4.99 m\n",
      "Vehicle 1: 📍 Position: lat=-35.3632799, lon=149.1651718, alt=4.99 m\n",
      "Vehicle 1: 📍 Position: lat=-35.3632799, lon=149.1651718, alt=4.99 m\n",
      "Vehicle 1: 📍 Position: lat=-35.3632800, lon=149.1651718, alt=4.99 m\n",
      "Vehicle 1: 📍 Position: lat=-35.3632800, lon=149.1651718, alt=4.99 m\n",
      "Vehicle 1: 📍 Position: lat=-35.3632800, lon=149.1651718, alt=4.99 m\n",
      "Vehicle 1: 📍 Position: lat=-35.3632800, lon=149.1651718, alt=4.99 m\n",
      "Vehicle 1: 📍 Position: lat=-35.3632800, lon=149.1651718, alt=4.99 m\n",
      "Vehicle 1: 📍 Position: lat=-35.3632800, lon=149.1651718, alt=4.99 m\n",
      "Vehicle 1: 📍 Position: lat=-35.3632800, lon=149.1651718, alt=4.99 m\n",
      "Vehicle 1: 📍 Position: lat=-35.3632800, lon=149.1651718, alt=4.99 m\n",
      "Vehicle 1: 📍 Position: lat=-35.3632800, lon=149.1651718, alt=4.99 mVehicle 1: 📍 Position: lat=-35.3632800, lon=149.1651718, alt=4.99 m\n",
      "\n",
      "Vehicle 1: 📍 Position: lat=-35.3632800, lon=149.1651718, alt=4.99 m\n",
      "Vehicle 1: 📍 Position: lat=-35.3632800, lon=149.1651718, alt=4.99 m\n",
      "Vehicle 1: 📍 Position: lat=-35.3632800, lon=149.1651718, alt=4.99 m\n",
      "Vehicle 1: 📍 Position: lat=-35.3632800, lon=149.1651718, alt=4.99 m\n",
      "Vehicle 1: 📍 Position: lat=-35.3632800, lon=149.1651718, alt=4.99 m\n",
      "Vehicle 1: 📍 Position: lat=-35.3632800, lon=149.1651718, alt=4.99 m\n",
      "Vehicle 1: 📍 Position: lat=-35.3632801, lon=149.1651717, alt=4.99 m\n",
      "Vehicle 1: 📍 Position: lat=-35.3632801, lon=149.1651717, alt=4.99 m\n",
      "Vehicle 1: 📍 Position: lat=-35.3632801, lon=149.1651717, alt=4.99 m\n",
      "Vehicle 1: 📍 Position: lat=-35.3632801, lon=149.1651717, alt=4.99 m\n",
      "Vehicle 1: 📍 Position: lat=-35.3632801, lon=149.1651717, alt=4.99 m\n",
      "Vehicle 1: 📍 Position: lat=-35.3632801, lon=149.1651717, alt=4.99 m\n",
      "Vehicle 1: 📍 Position: lat=-35.3632801, lon=149.1651717, alt=4.99 m\n",
      "Vehicle 1: 📍 Position: lat=-35.3632801, lon=149.1651717, alt=4.99 m\n",
      "Vehicle 1: 📍 Position: lat=-35.3632801, lon=149.1651717, alt=4.99 m\n",
      "Vehicle 1: 📍 Position: lat=-35.3632801, lon=149.1651717, alt=4.99 m\n",
      "Vehicle 1: 📍 Position: lat=-35.3632801, lon=149.1651717, alt=4.99 m\n",
      "Vehicle 1: 📍 Position: lat=-35.3632801, lon=149.1651717, alt=4.99 m\n",
      "Vehicle 1: 📍 Position: lat=-35.3632801, lon=149.1651717, alt=4.99 m\n",
      "Vehicle 1: 📍 Position: lat=-35.3632801, lon=149.1651717, alt=4.99 m\n",
      "Vehicle 1: 📍 Position: lat=-35.3632801, lon=149.1651717, alt=4.99 m\n",
      "Vehicle 1: 📍 Position: lat=-35.3632801, lon=149.1651717, alt=4.99 m\n",
      "Vehicle 1: 📍 Position: lat=-35.3632801, lon=149.1651717, alt=4.99 m\n",
      "Vehicle 1: 📍 Position: lat=-35.3632801, lon=149.1651717, alt=4.99 m\n",
      "Vehicle 1: 📍 Position: lat=-35.3632801, lon=149.1651717, alt=4.99 m\n",
      "Vehicle 1: 📍 Position: lat=-35.3632801, lon=149.1651717, alt=4.99 m\n",
      "Vehicle 1: 📍 Position: lat=-35.3632801, lon=149.1651717, alt=4.99 m\n",
      "Vehicle 1: 📍 Position: lat=-35.3632801, lon=149.1651717, alt=4.99 m\n",
      "Vehicle 1: 📍 Position: lat=-35.3632801, lon=149.1651717, alt=4.98 m\n",
      "Vehicle 1: 📍 Position: lat=-35.3632801, lon=149.1651717, alt=4.98 m\n",
      "Vehicle 1: 📍 Position: lat=-35.3632801, lon=149.1651717, alt=4.97 m\n",
      "Vehicle 1: 📍 Position: lat=-35.3632801, lon=149.1651717, alt=4.95 mVehicle 1: 📍 Position: lat=-35.3632801, lon=149.1651717, alt=4.95 m\n",
      "\n",
      "Vehicle 1: 📍 Position: lat=-35.3632801, lon=149.1651717, alt=4.92 mVehicle 1: 📍 Position: lat=-35.3632801, lon=149.1651717, alt=4.92 m\n",
      "\n",
      "Vehicle 1: 📍 Position: lat=-35.3632801, lon=149.1651717, alt=4.88 m\n",
      "Vehicle 1: 📍 Position: lat=-35.3632801, lon=149.1651717, alt=4.88 m\n",
      "Vehicle 1: 📍 Position: lat=-35.3632801, lon=149.1651717, alt=4.84 m\n",
      "Vehicle 1: 📍 Position: lat=-35.3632801, lon=149.1651716, alt=4.80 m\n",
      "Vehicle 1: 📍 Position: lat=-35.3632801, lon=149.1651716, alt=4.80 m\n",
      "Vehicle 1: 📍 Position: lat=-35.3632801, lon=149.1651716, alt=4.75 m\n",
      "Vehicle 1: 📍 Position: lat=-35.3632801, lon=149.1651716, alt=4.70 m\n",
      "Vehicle 1: 📍 Position: lat=-35.3632801, lon=149.1651716, alt=4.70 m\n",
      "Vehicle 1: 📍 Position: lat=-35.3632801, lon=149.1651716, alt=4.64 m\n",
      "Vehicle 1: 📍 Position: lat=-35.3632801, lon=149.1651716, alt=4.64 m\n",
      "Vehicle 1: 📍 Position: lat=-35.3632801, lon=149.1651716, alt=4.59 m\n",
      "Vehicle 1: 📍 Position: lat=-35.3632801, lon=149.1651716, alt=4.59 m\n",
      "Vehicle 1: 📍 Position: lat=-35.3632801, lon=149.1651716, alt=4.54 m\n",
      "Vehicle 1: 📍 Position: lat=-35.3632801, lon=149.1651716, alt=4.54 m\n",
      "Vehicle 1: 📍 Position: lat=-35.3632801, lon=149.1651716, alt=4.48 m\n",
      "Vehicle 1: 📍 Position: lat=-35.3632801, lon=149.1651716, alt=4.43 m\n",
      "Vehicle 1: 📍 Position: lat=-35.3632801, lon=149.1651716, alt=4.43 m\n",
      "Vehicle 1: 📍 Position: lat=-35.3632801, lon=149.1651716, alt=4.37 m\n",
      "Vehicle 1: 📍 Position: lat=-35.3632801, lon=149.1651716, alt=4.37 m\n",
      "Vehicle 1: 📍 Position: lat=-35.3632801, lon=149.1651716, alt=4.32 m\n",
      "Vehicle 1: 📍 Position: lat=-35.3632801, lon=149.1651716, alt=4.32 m\n",
      "Vehicle 1: 📍 Position: lat=-35.3632801, lon=149.1651716, alt=4.27 m\n",
      "Vehicle 1: 📍 Position: lat=-35.3632801, lon=149.1651716, alt=4.27 m\n",
      "Vehicle 1: 📍 Position: lat=-35.3632801, lon=149.1651716, alt=4.21 m\n",
      "Vehicle 1: 📍 Position: lat=-35.3632801, lon=149.1651716, alt=4.16 m\n",
      "Vehicle 1: 📍 Position: lat=-35.3632801, lon=149.1651716, alt=4.16 m\n",
      "Vehicle 1: 📍 Position: lat=-35.3632801, lon=149.1651716, alt=4.11 m\n",
      "Vehicle 1: 📍 Position: lat=-35.3632801, lon=149.1651716, alt=4.11 m\n",
      "Vehicle 1: 📍 Position: lat=-35.3632801, lon=149.1651716, alt=4.06 m\n",
      "Vehicle 1: 📍 Position: lat=-35.3632801, lon=149.1651716, alt=4.06 m\n",
      "Vehicle 1: 📍 Position: lat=-35.3632801, lon=149.1651716, alt=4.01 m\n",
      "Vehicle 1: 📍 Position: lat=-35.3632801, lon=149.1651716, alt=3.96 m\n",
      "Vehicle 1: 📍 Position: lat=-35.3632801, lon=149.1651716, alt=3.96 m\n",
      "Vehicle 1: 📍 Position: lat=-35.3632801, lon=149.1651716, alt=3.91 m\n",
      "Vehicle 1: 📍 Position: lat=-35.3632801, lon=149.1651716, alt=3.91 m\n",
      "Vehicle 1: 📍 Position: lat=-35.3632801, lon=149.1651716, alt=3.86 m\n",
      "Vehicle 1: 📍 Position: lat=-35.3632801, lon=149.1651716, alt=3.86 m\n",
      "Vehicle 1: 📍 Position: lat=-35.3632801, lon=149.1651716, alt=3.81 m\n",
      "Vehicle 1: 📍 Position: lat=-35.3632801, lon=149.1651716, alt=3.81 m\n",
      "Vehicle 1: 📍 Position: lat=-35.3632801, lon=149.1651716, alt=3.76 m\n",
      "Vehicle 1: 📍 Position: lat=-35.3632801, lon=149.1651716, alt=3.76 m\n",
      "Vehicle 1: 📍 Position: lat=-35.3632801, lon=149.1651716, alt=3.71 m\n",
      "Vehicle 1: 📍 Position: lat=-35.3632801, lon=149.1651716, alt=3.66 m\n",
      "Vehicle 1: 📍 Position: lat=-35.3632801, lon=149.1651716, alt=3.66 m\n",
      "Vehicle 1: 📍 Position: lat=-35.3632801, lon=149.1651716, alt=3.61 m\n",
      "Vehicle 1: 📍 Position: lat=-35.3632801, lon=149.1651716, alt=3.56 m\n",
      "Vehicle 1: 📍 Position: lat=-35.3632801, lon=149.1651716, alt=3.56 m\n",
      "Vehicle 1: 📍 Position: lat=-35.3632801, lon=149.1651716, alt=3.51 m\n",
      "Vehicle 1: 📍 Position: lat=-35.3632801, lon=149.1651716, alt=3.51 m\n",
      "Vehicle 1: 📍 Position: lat=-35.3632801, lon=149.1651716, alt=3.46 m\n",
      "Vehicle 1: 📍 Position: lat=-35.3632801, lon=149.1651716, alt=3.46 m\n",
      "Vehicle 1: 📍 Position: lat=-35.3632801, lon=149.1651716, alt=3.41 m\n",
      "Vehicle 1: 📍 Position: lat=-35.3632801, lon=149.1651716, alt=3.41 m\n",
      "Vehicle 1: 📍 Position: lat=-35.3632801, lon=149.1651716, alt=3.36 m\n",
      "Vehicle 1: 📍 Position: lat=-35.3632801, lon=149.1651716, alt=3.36 m\n",
      "Vehicle 1: 📍 Position: lat=-35.3632801, lon=149.1651716, alt=3.31 m\n",
      "Vehicle 1: 📍 Position: lat=-35.3632801, lon=149.1651716, alt=3.31 m\n",
      "Vehicle 1: 📍 Position: lat=-35.3632801, lon=149.1651716, alt=3.26 m\n",
      "Vehicle 1: 📍 Position: lat=-35.3632801, lon=149.1651716, alt=3.26 m\n",
      "Vehicle 1: 📍 Position: lat=-35.3632801, lon=149.1651716, alt=3.21 m\n",
      "Vehicle 1: 📍 Position: lat=-35.3632801, lon=149.1651716, alt=3.21 m\n",
      "Vehicle 1: 📍 Position: lat=-35.3632801, lon=149.1651716, alt=3.16 m\n",
      "Vehicle 1: 📍 Position: lat=-35.3632801, lon=149.1651716, alt=3.11 m\n",
      "Vehicle 1: 📍 Position: lat=-35.3632801, lon=149.1651716, alt=3.11 m\n",
      "Vehicle 1: 📍 Position: lat=-35.3632801, lon=149.1651716, alt=3.06 m\n",
      "Vehicle 1: 📍 Position: lat=-35.3632801, lon=149.1651716, alt=3.06 m\n",
      "Vehicle 1: 📍 Position: lat=-35.3632801, lon=149.1651716, alt=3.01 m\n",
      "Vehicle 1: 📍 Position: lat=-35.3632801, lon=149.1651716, alt=3.01 m\n",
      "Vehicle 1: 📍 Position: lat=-35.3632801, lon=149.1651716, alt=2.96 m\n",
      "Vehicle 1: 📍 Position: lat=-35.3632801, lon=149.1651716, alt=2.96 m\n",
      "Vehicle 1: 📍 Position: lat=-35.3632801, lon=149.1651716, alt=2.91 m\n",
      "Vehicle 1: 📍 Position: lat=-35.3632801, lon=149.1651716, alt=2.86 m\n",
      "Vehicle 1: 📍 Position: lat=-35.3632801, lon=149.1651716, alt=2.81 m\n",
      "Vehicle 1: 📍 Position: lat=-35.3632801, lon=149.1651716, alt=2.81 m\n",
      "Vehicle 1: 📍 Position: lat=-35.3632801, lon=149.1651716, alt=2.76 m\n",
      "Vehicle 1: 📍 Position: lat=-35.3632801, lon=149.1651716, alt=2.76 m\n",
      "Vehicle 1: 📍 Position: lat=-35.3632801, lon=149.1651716, alt=2.71 m\n",
      "Vehicle 1: 📍 Position: lat=-35.3632801, lon=149.1651716, alt=2.71 m\n",
      "Vehicle 1: 📍 Position: lat=-35.3632801, lon=149.1651716, alt=2.66 m\n",
      "Vehicle 1: 📍 Position: lat=-35.3632801, lon=149.1651716, alt=2.66 m\n",
      "Vehicle 1: 📍 Position: lat=-35.3632801, lon=149.1651716, alt=2.61 m\n",
      "Vehicle 1: 📍 Position: lat=-35.3632801, lon=149.1651716, alt=2.61 m\n",
      "Vehicle 1: 📍 Position: lat=-35.3632801, lon=149.1651716, alt=2.56 m\n",
      "Vehicle 1: 📍 Position: lat=-35.3632801, lon=149.1651716, alt=2.51 m\n",
      "Vehicle 1: 📍 Position: lat=-35.3632801, lon=149.1651716, alt=2.51 m\n",
      "Vehicle 1: 📍 Position: lat=-35.3632801, lon=149.1651716, alt=2.46 m\n",
      "Vehicle 1: 📍 Position: lat=-35.3632801, lon=149.1651716, alt=2.46 m\n",
      "Vehicle 1: 📍 Position: lat=-35.3632801, lon=149.1651716, alt=2.41 m\n",
      "Vehicle 1: 📍 Position: lat=-35.3632801, lon=149.1651716, alt=2.41 m\n",
      "Vehicle 1: 📍 Position: lat=-35.3632801, lon=149.1651716, alt=2.36 m\n",
      "Vehicle 1: 📍 Position: lat=-35.3632801, lon=149.1651716, alt=2.36 m\n",
      "Vehicle 1: 📍 Position: lat=-35.3632801, lon=149.1651716, alt=2.31 m\n",
      "Vehicle 1: 📍 Position: lat=-35.3632801, lon=149.1651716, alt=2.31 m\n",
      "Vehicle 1: 📍 Position: lat=-35.3632801, lon=149.1651716, alt=2.26 m\n",
      "Vehicle 1: 📍 Position: lat=-35.3632801, lon=149.1651716, alt=2.26 m\n",
      "Vehicle 1: 📍 Position: lat=-35.3632801, lon=149.1651716, alt=2.21 m\n",
      "Vehicle 1: 📍 Position: lat=-35.3632801, lon=149.1651716, alt=2.16 m\n",
      "Vehicle 1: 📍 Position: lat=-35.3632801, lon=149.1651716, alt=2.16 m\n",
      "Vehicle 1: 📍 Position: lat=-35.3632801, lon=149.1651716, alt=2.11 m\n",
      "Vehicle 1: 📍 Position: lat=-35.3632801, lon=149.1651716, alt=2.11 m\n",
      "Vehicle 1: 📍 Position: lat=-35.3632801, lon=149.1651716, alt=2.06 m\n",
      "Vehicle 1: 📍 Position: lat=-35.3632801, lon=149.1651716, alt=2.06 m\n",
      "Vehicle 1: 📍 Position: lat=-35.3632801, lon=149.1651716, alt=2.01 m\n",
      "Vehicle 1: 📍 Position: lat=-35.3632801, lon=149.1651716, alt=2.01 m\n",
      "Vehicle 1: 📍 Position: lat=-35.3632801, lon=149.1651716, alt=1.96 m\n",
      "Vehicle 1: 📍 Position: lat=-35.3632801, lon=149.1651716, alt=1.96 m\n",
      "Vehicle 1: 📍 Position: lat=-35.3632801, lon=149.1651716, alt=1.91 m\n",
      "Vehicle 1: 📍 Position: lat=-35.3632801, lon=149.1651716, alt=1.91 m\n",
      "Vehicle 1: 📍 Position: lat=-35.3632801, lon=149.1651716, alt=1.86 m\n",
      "Vehicle 1: 📍 Position: lat=-35.3632801, lon=149.1651716, alt=1.81 m\n",
      "Vehicle 1: 📍 Position: lat=-35.3632801, lon=149.1651716, alt=1.81 m\n",
      "Vehicle 1: 📍 Position: lat=-35.3632800, lon=149.1651716, alt=1.76 m\n",
      "Vehicle 1: 📍 Position: lat=-35.3632800, lon=149.1651716, alt=1.76 m\n",
      "Vehicle 1: 📍 Position: lat=-35.3632800, lon=149.1651716, alt=1.72 m\n",
      "Vehicle 1: 📍 Position: lat=-35.3632800, lon=149.1651716, alt=1.72 m\n",
      "Vehicle 1: 📍 Position: lat=-35.3632800, lon=149.1651716, alt=1.67 m\n",
      "Vehicle 1: 📍 Position: lat=-35.3632800, lon=149.1651716, alt=1.67 m\n",
      "Vehicle 1: 📍 Position: lat=-35.3632800, lon=149.1651716, alt=1.61 m\n",
      "Vehicle 1: 📍 Position: lat=-35.3632800, lon=149.1651716, alt=1.61 m\n",
      "Vehicle 1: 📍 Position: lat=-35.3632800, lon=149.1651716, alt=1.56 m\n",
      "Vehicle 1: 📍 Position: lat=-35.3632800, lon=149.1651716, alt=1.56 m\n",
      "Vehicle 1: 📍 Position: lat=-35.3632800, lon=149.1651716, alt=1.51 m\n",
      "Vehicle 1: 📍 Position: lat=-35.3632800, lon=149.1651716, alt=1.51 m\n",
      "Vehicle 1: 📍 Position: lat=-35.3632800, lon=149.1651716, alt=1.46 m\n",
      "Vehicle 1: 📍 Position: lat=-35.3632800, lon=149.1651716, alt=1.46 m\n",
      "Vehicle 1: 📍 Position: lat=-35.3632800, lon=149.1651716, alt=1.41 m\n",
      "Vehicle 1: 📍 Position: lat=-35.3632800, lon=149.1651716, alt=1.36 m\n",
      "Vehicle 1: 📍 Position: lat=-35.3632800, lon=149.1651716, alt=1.36 m\n",
      "Vehicle 1: 📍 Position: lat=-35.3632800, lon=149.1651716, alt=1.31 m\n",
      "Vehicle 1: 📍 Position: lat=-35.3632800, lon=149.1651716, alt=1.31 m\n",
      "Vehicle 1: 📍 Position: lat=-35.3632800, lon=149.1651716, alt=1.26 m\n",
      "Vehicle 1: 📍 Position: lat=-35.3632800, lon=149.1651716, alt=1.26 m\n",
      "Vehicle 1: 📍 Position: lat=-35.3632800, lon=149.1651716, alt=1.21 m\n",
      "Vehicle 1: 📍 Position: lat=-35.3632800, lon=149.1651716, alt=1.16 m\n",
      "Vehicle 1: 📍 Position: lat=-35.3632800, lon=149.1651716, alt=1.16 m\n",
      "Vehicle 1: 📍 Position: lat=-35.3632800, lon=149.1651716, alt=1.11 m\n",
      "Vehicle 1: 📍 Position: lat=-35.3632800, lon=149.1651716, alt=1.11 m\n",
      "Vehicle 1: 📍 Position: lat=-35.3632800, lon=149.1651716, alt=1.06 m\n",
      "Vehicle 1: 📍 Position: lat=-35.3632800, lon=149.1651716, alt=1.06 m\n",
      "Vehicle 1: 📍 Position: lat=-35.3632800, lon=149.1651716, alt=1.01 m\n",
      "Vehicle 1: 📍 Position: lat=-35.3632800, lon=149.1651716, alt=1.01 m\n",
      "Vehicle 1: 📍 Position: lat=-35.3632800, lon=149.1651716, alt=0.96 m\n",
      "Vehicle 1: 📍 Position: lat=-35.3632800, lon=149.1651716, alt=0.96 m\n",
      "Vehicle 1: 📍 Position: lat=-35.3632800, lon=149.1651716, alt=0.91 m\n",
      "Vehicle 1: 📍 Position: lat=-35.3632800, lon=149.1651716, alt=0.91 m\n",
      "Vehicle 1: 📍 Position: lat=-35.3632800, lon=149.1651716, alt=0.86 m\n",
      "Vehicle 1: 📍 Position: lat=-35.3632800, lon=149.1651716, alt=0.86 m\n",
      "Vehicle 1: 📍 Position: lat=-35.3632800, lon=149.1651716, alt=0.81 m\n",
      "Vehicle 1: 📍 Position: lat=-35.3632800, lon=149.1651716, alt=0.81 m\n",
      "Vehicle 1: 📍 Position: lat=-35.3632800, lon=149.1651716, alt=0.76 m\n",
      "Vehicle 1: 📍 Position: lat=-35.3632800, lon=149.1651716, alt=0.76 m\n",
      "Vehicle 1: 📍 Position: lat=-35.3632800, lon=149.1651716, alt=0.71 m\n",
      "Vehicle 1: 📍 Position: lat=-35.3632800, lon=149.1651716, alt=0.71 m\n",
      "Vehicle 1: 📍 Position: lat=-35.3632800, lon=149.1651716, alt=0.66 m\n",
      "Vehicle 1: 📍 Position: lat=-35.3632800, lon=149.1651716, alt=0.66 m\n",
      "Vehicle 1: 📍 Position: lat=-35.3632800, lon=149.1651716, alt=0.61 m\n",
      "Vehicle 1: 📍 Position: lat=-35.3632800, lon=149.1651716, alt=0.61 m\n",
      "Vehicle 1: 📍 Position: lat=-35.3632800, lon=149.1651716, alt=0.56 m\n",
      "Vehicle 1: 📍 Position: lat=-35.3632800, lon=149.1651716, alt=0.56 m\n",
      "Vehicle 1: 📍 Position: lat=-35.3632800, lon=149.1651716, alt=0.51 m\n",
      "Vehicle 1: 📍 Position: lat=-35.3632800, lon=149.1651716, alt=0.51 m\n",
      "Vehicle 1: 📍 Position: lat=-35.3632800, lon=149.1651716, alt=0.46 m\n",
      "Vehicle 1: 📍 Position: lat=-35.3632800, lon=149.1651716, alt=0.46 m\n",
      "Vehicle 1: 📍 Position: lat=-35.3632800, lon=149.1651716, alt=0.41 m\n",
      "Vehicle 1: 📍 Position: lat=-35.3632800, lon=149.1651716, alt=0.36 m\n",
      "Vehicle 1: 📍 Position: lat=-35.3632800, lon=149.1651716, alt=0.36 m\n",
      "Vehicle 1: 📍 Position: lat=-35.3632800, lon=149.1651716, alt=0.32 m\n",
      "Vehicle 1: 📍 Position: lat=-35.3632800, lon=149.1651716, alt=0.32 m\n",
      "Vehicle 1: 📍 Position: lat=-35.3632800, lon=149.1651716, alt=0.27 m\n",
      "Vehicle 1: 📍 Position: lat=-35.3632800, lon=149.1651716, alt=0.27 m\n",
      "Vehicle 1: 📍 Position: lat=-35.3632800, lon=149.1651716, alt=0.21 mVehicle 1: 📍 Position: lat=-35.3632800, lon=149.1651716, alt=0.21 m\n",
      "\n",
      "Vehicle 1: 📍 Position: lat=-35.3632800, lon=149.1651716, alt=0.17 m\n",
      "Vehicle 1: 📍 Position: lat=-35.3632800, lon=149.1651716, alt=0.17 m\n",
      "Vehicle 1: 📍 Position: lat=-35.3632800, lon=149.1651716, alt=0.12 m\n",
      "Vehicle 1: 📍 Position: lat=-35.3632800, lon=149.1651716, alt=0.07 m\n",
      "Vehicle 1: 📍 Position: lat=-35.3632800, lon=149.1651716, alt=0.01 m\n",
      "Vehicle 1: 📍 Position: lat=-35.3632800, lon=149.1651716, alt=0.01 m\n",
      "Vehicle 1: 📍 Position: lat=-35.3632800, lon=149.1651716, alt=-0.03 m\n",
      "Vehicle 1: 📍 Position: lat=-35.3632800, lon=149.1651716, alt=-0.03 m\n",
      "Vehicle 1: 📍 Position: lat=-35.3632800, lon=149.1651716, alt=-0.03 m\n",
      "Vehicle 1: 📍 Position: lat=-35.3632800, lon=149.1651716, alt=-0.03 m\n",
      "Vehicle 1: 📍 Position: lat=-35.3632800, lon=149.1651716, alt=-0.02 m\n",
      "Vehicle 1: 📍 Position: lat=-35.3632800, lon=149.1651716, alt=-0.02 m\n",
      "Vehicle 1: 📍 Position: lat=-35.3632800, lon=149.1651716, alt=-0.01 m\n",
      "Vehicle 1: 📍 Position: lat=-35.3632800, lon=149.1651716, alt=-0.01 m\n",
      "Vehicle 1: 📍 Position: lat=-35.3632800, lon=149.1651716, alt=-0.01 m\n",
      "Vehicle 1: 📍 Position: lat=-35.3632800, lon=149.1651716, alt=-0.01 m\n",
      "Vehicle 1: 📍 Position: lat=-35.3632800, lon=149.1651716, alt=-0.01 m\n",
      "Vehicle 1: 📍 Position: lat=-35.3632800, lon=149.1651716, alt=-0.01 m\n",
      "Vehicle 1: 📍 Position: lat=-35.3632800, lon=149.1651716, alt=-0.01 m\n",
      "Vehicle 1: 📍 Position: lat=-35.3632800, lon=149.1651716, alt=-0.00 m\n",
      "Vehicle 1: 📍 Position: lat=-35.3632800, lon=149.1651716, alt=-0.00 m\n",
      "Vehicle 1: 📍 Position: lat=-35.3632800, lon=149.1651716, alt=-0.00 m\n",
      "Vehicle 1: 📍 Position: lat=-35.3632800, lon=149.1651716, alt=-0.00 m\n",
      "Vehicle 1: 📍 Position: lat=-35.3632800, lon=149.1651716, alt=-0.00 m\n",
      "Vehicle 1: 📍 Position: lat=-35.3632800, lon=149.1651716, alt=-0.00 m\n",
      "Vehicle 1: 📍 Position: lat=-35.3632800, lon=149.1651716, alt=0.00 m\n",
      "Vehicle 1: 📍 Position: lat=-35.3632800, lon=149.1651716, alt=0.00 m\n",
      "Vehicle 1: 📍 Position: lat=-35.3632800, lon=149.1651716, alt=0.00 m\n",
      "Vehicle 1: 📍 Position: lat=-35.3632800, lon=149.1651716, alt=0.00 m\n",
      "Vehicle 1: 📍 Position: lat=-35.3632800, lon=149.1651716, alt=0.00 m\n",
      "Vehicle 1: 📍 Position: lat=-35.3632800, lon=149.1651716, alt=0.00 m\n",
      "Vehicle 1: 📍 Position: lat=-35.3632800, lon=149.1651716, alt=0.00 m\n",
      "Vehicle 1: 📍 Position: lat=-35.3632800, lon=149.1651716, alt=0.00 m\n",
      "Vehicle 1: 📍 Position: lat=-35.3632800, lon=149.1651716, alt=0.00 m\n",
      "Vehicle 1: 📍 Position: lat=-35.3632800, lon=149.1651716, alt=0.00 m\n",
      "Vehicle 1: 📍 Position: lat=-35.3632800, lon=149.1651716, alt=0.00 m\n",
      "Vehicle 1: 📍 Position: lat=-35.3632800, lon=149.1651716, alt=0.00 m\n",
      "Vehicle 1: 📍 Position: lat=-35.3632800, lon=149.1651716, alt=0.00 m\n",
      "Vehicle 1: 📍 Position: lat=-35.3632800, lon=149.1651716, alt=0.00 m\n",
      "Vehicle 1: 📍 Position: lat=-35.3632800, lon=149.1651716, alt=0.00 m\n",
      "Vehicle 1: 📍 Position: lat=-35.3632800, lon=149.1651716, alt=0.00 m\n",
      "Vehicle 1: 📍 Position: lat=-35.3632800, lon=149.1651716, alt=0.00 m\n",
      "Vehicle 1: 🏁 Mission completed\n",
      "Vehicle 1: ✅ Step Done: monitoring\n",
      "Vehicle 1: ✅ Action Done: 📤 UPLOAD_MISSION\n",
      "Vehicle 1: ✅ Plan Done: 📋 auto\n",
      "📤 GCS ← UAV 1: Sending DONE (attempt 1)\n",
      "✅ Vehicle 1 completed its mission\n",
      "✅ ACK received. DONE message acknowledged.\n",
      "📤 GCS ← UAV 1: Sending DONE (attempt 1)\n"
     ]
    },
    {
     "name": "stdout",
     "output_type": "stream",
     "text": [
      "📤 GCS ← UAV 1: Sending DONE (attempt 2)\n",
      "📤 GCS ← UAV 1: Sending DONE (attempt 3)\n",
      "📤 GCS ← UAV 1: Sending DONE (attempt 4)\n",
      "📤 GCS ← UAV 1: Sending DONE (attempt 5)\n",
      "📤 GCS ← UAV 1: Sending DONE (attempt 6)\n",
      "📤 GCS ← UAV 1: Sending DONE (attempt 7)\n",
      "📤 GCS ← UAV 1: Sending DONE (attempt 8)\n",
      "📤 GCS ← UAV 1: Sending DONE (attempt 9)\n",
      "✅ Vehicle 1 completed its mission\n",
      "✅ All UAVs assigned to GCS blue 🟦 have completed their mission.\n",
      "✅ ACK received. DONE message acknowledged.\n",
      "❎ Vehicle 1 logic stopped.\n",
      "Connection reset or closed by peer on TCP socket\n",
      "💾 Trajectories saved to 'trajectories_blue 🟦.pkl'.\n",
      "❎ Proxy 1 stopped.\n",
      "Closed connection on SERIAL0\n"
     ]
    }
   ],
   "source": [
    "while len(orac.conns):\n",
    "    for sysid in list(orac.conns.keys()):\n",
    "        if orac.is_plan_done(sysid):\n",
    "            orac.remove(sysid)"
   ]
  },
  {
   "cell_type": "code",
   "execution_count": null,
   "metadata": {},
   "outputs": [],
   "source": []
  }
 ],
 "metadata": {
  "kernelspec": {
   "display_name": "uav-cyber-sim11",
   "language": "python",
   "name": "python3"
  },
  "language_info": {
   "codemirror_mode": {
    "name": "ipython",
    "version": 3
   },
   "file_extension": ".py",
   "mimetype": "text/x-python",
   "name": "python",
   "nbconvert_exporter": "python",
   "pygments_lexer": "ipython3",
   "version": "3.11.11"
  }
 },
 "nbformat": 4,
 "nbformat_minor": 2
}
