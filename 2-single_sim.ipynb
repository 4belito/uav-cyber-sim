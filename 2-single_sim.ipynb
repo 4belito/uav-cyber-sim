{
 "cells": [
  {
   "cell_type": "markdown",
   "metadata": {},
   "source": [
    "## Auto mode (single uav)\n",
    "\n",
    "This is for testing propouses"
   ]
  },
  {
   "cell_type": "code",
   "execution_count": 1,
   "metadata": {},
   "outputs": [],
   "source": [
    "# Custom modules\n",
    "from config import Color\n",
    "from helpers import clean  #, local2global\n",
    "from mavlink.customtypes.location import ENUPose, GRAPose\n",
    "from plan import Plan\n",
    "from simulator import (\n",
    "    QGC,\n",
    "    ConfigGazebo,\n",
    "    ConfigQGC,\n",
    "    ConfigVis,\n",
    "    Gazebo,\n",
    "    NoneVisualizer,\n",
    "    Simulator,\n",
    ")\n",
    "\n",
    "clean()"
   ]
  },
  {
   "cell_type": "markdown",
   "metadata": {},
   "source": [
    "## Simulation Configuration"
   ]
  },
  {
   "cell_type": "code",
   "execution_count": 2,
   "metadata": {},
   "outputs": [],
   "source": [
    "gra_origin = GRAPose(-35.3633280, 149.1652241, 0, 90)   # east, north, up, heading\n",
    "enu_origin = ENUPose(0, 0, gra_origin.alt, gra_origin.heading) \n",
    "\n",
    "base_home = ENUPose(5,5,0,45)\n",
    "base_path = Plan.create_square_path(side_len=10, alt=5,heading=0)\n",
    "\n",
    "color =Color.BLUE"
   ]
  },
  {
   "cell_type": "markdown",
   "metadata": {},
   "source": [
    "## Gazebo Congiguration"
   ]
  },
  {
   "cell_type": "code",
   "execution_count": 3,
   "metadata": {},
   "outputs": [
    {
     "data": {
      "application/vnd.plotly.v1+json": {
       "config": {
        "plotlyServerURL": "https://plot.ly"
       },
       "data": [
        {
         "marker": {
          "color": [
           "blue",
           "blue",
           "blue",
           "blue",
           "blue"
          ],
          "size": 6
         },
         "mode": "markers",
         "name": "trajectory 0",
         "type": "scatter3d",
         "x": [
          -5,
          -12.071067811865476,
          -19.14213562373095,
          -12.071067811865476,
          -5
         ],
         "y": [
          5,
          -2.0710678118654737,
          5.000000000000002,
          12.071067811865476,
          5
         ],
         "z": [
          5,
          5,
          5,
          5,
          5
         ]
        },
        {
         "marker": {
          "color": "white",
          "size": 8
         },
         "mode": "markers+text",
         "name": "origin",
         "text": [
          "origin"
         ],
         "textposition": "top center",
         "type": "scatter3d",
         "x": [
          0
         ],
         "y": [
          0
         ],
         "z": [
          0
         ]
        }
       ],
       "layout": {
        "height": 600,
        "scene": {
         "xaxis": {
          "range": [
           -22.970562748477143,
           3.8284271247461903
          ],
          "title": {
           "text": "x"
          }
         },
         "yaxis": {
          "range": [
           -4.899494936611664,
           14.899494936611665
          ],
          "title": {
           "text": "y"
          }
         },
         "zaxis": {
          "range": [
           0,
           6
          ],
          "title": {
           "text": "z"
          }
         }
        },
        "showlegend": true,
        "template": {
         "data": {
          "bar": [
           {
            "error_x": {
             "color": "#2a3f5f"
            },
            "error_y": {
             "color": "#2a3f5f"
            },
            "marker": {
             "line": {
              "color": "#E5ECF6",
              "width": 0.5
             },
             "pattern": {
              "fillmode": "overlay",
              "size": 10,
              "solidity": 0.2
             }
            },
            "type": "bar"
           }
          ],
          "barpolar": [
           {
            "marker": {
             "line": {
              "color": "#E5ECF6",
              "width": 0.5
             },
             "pattern": {
              "fillmode": "overlay",
              "size": 10,
              "solidity": 0.2
             }
            },
            "type": "barpolar"
           }
          ],
          "carpet": [
           {
            "aaxis": {
             "endlinecolor": "#2a3f5f",
             "gridcolor": "white",
             "linecolor": "white",
             "minorgridcolor": "white",
             "startlinecolor": "#2a3f5f"
            },
            "baxis": {
             "endlinecolor": "#2a3f5f",
             "gridcolor": "white",
             "linecolor": "white",
             "minorgridcolor": "white",
             "startlinecolor": "#2a3f5f"
            },
            "type": "carpet"
           }
          ],
          "choropleth": [
           {
            "colorbar": {
             "outlinewidth": 0,
             "ticks": ""
            },
            "type": "choropleth"
           }
          ],
          "contour": [
           {
            "colorbar": {
             "outlinewidth": 0,
             "ticks": ""
            },
            "colorscale": [
             [
              0,
              "#0d0887"
             ],
             [
              0.1111111111111111,
              "#46039f"
             ],
             [
              0.2222222222222222,
              "#7201a8"
             ],
             [
              0.3333333333333333,
              "#9c179e"
             ],
             [
              0.4444444444444444,
              "#bd3786"
             ],
             [
              0.5555555555555556,
              "#d8576b"
             ],
             [
              0.6666666666666666,
              "#ed7953"
             ],
             [
              0.7777777777777778,
              "#fb9f3a"
             ],
             [
              0.8888888888888888,
              "#fdca26"
             ],
             [
              1,
              "#f0f921"
             ]
            ],
            "type": "contour"
           }
          ],
          "contourcarpet": [
           {
            "colorbar": {
             "outlinewidth": 0,
             "ticks": ""
            },
            "type": "contourcarpet"
           }
          ],
          "heatmap": [
           {
            "colorbar": {
             "outlinewidth": 0,
             "ticks": ""
            },
            "colorscale": [
             [
              0,
              "#0d0887"
             ],
             [
              0.1111111111111111,
              "#46039f"
             ],
             [
              0.2222222222222222,
              "#7201a8"
             ],
             [
              0.3333333333333333,
              "#9c179e"
             ],
             [
              0.4444444444444444,
              "#bd3786"
             ],
             [
              0.5555555555555556,
              "#d8576b"
             ],
             [
              0.6666666666666666,
              "#ed7953"
             ],
             [
              0.7777777777777778,
              "#fb9f3a"
             ],
             [
              0.8888888888888888,
              "#fdca26"
             ],
             [
              1,
              "#f0f921"
             ]
            ],
            "type": "heatmap"
           }
          ],
          "histogram": [
           {
            "marker": {
             "pattern": {
              "fillmode": "overlay",
              "size": 10,
              "solidity": 0.2
             }
            },
            "type": "histogram"
           }
          ],
          "histogram2d": [
           {
            "colorbar": {
             "outlinewidth": 0,
             "ticks": ""
            },
            "colorscale": [
             [
              0,
              "#0d0887"
             ],
             [
              0.1111111111111111,
              "#46039f"
             ],
             [
              0.2222222222222222,
              "#7201a8"
             ],
             [
              0.3333333333333333,
              "#9c179e"
             ],
             [
              0.4444444444444444,
              "#bd3786"
             ],
             [
              0.5555555555555556,
              "#d8576b"
             ],
             [
              0.6666666666666666,
              "#ed7953"
             ],
             [
              0.7777777777777778,
              "#fb9f3a"
             ],
             [
              0.8888888888888888,
              "#fdca26"
             ],
             [
              1,
              "#f0f921"
             ]
            ],
            "type": "histogram2d"
           }
          ],
          "histogram2dcontour": [
           {
            "colorbar": {
             "outlinewidth": 0,
             "ticks": ""
            },
            "colorscale": [
             [
              0,
              "#0d0887"
             ],
             [
              0.1111111111111111,
              "#46039f"
             ],
             [
              0.2222222222222222,
              "#7201a8"
             ],
             [
              0.3333333333333333,
              "#9c179e"
             ],
             [
              0.4444444444444444,
              "#bd3786"
             ],
             [
              0.5555555555555556,
              "#d8576b"
             ],
             [
              0.6666666666666666,
              "#ed7953"
             ],
             [
              0.7777777777777778,
              "#fb9f3a"
             ],
             [
              0.8888888888888888,
              "#fdca26"
             ],
             [
              1,
              "#f0f921"
             ]
            ],
            "type": "histogram2dcontour"
           }
          ],
          "mesh3d": [
           {
            "colorbar": {
             "outlinewidth": 0,
             "ticks": ""
            },
            "type": "mesh3d"
           }
          ],
          "parcoords": [
           {
            "line": {
             "colorbar": {
              "outlinewidth": 0,
              "ticks": ""
             }
            },
            "type": "parcoords"
           }
          ],
          "pie": [
           {
            "automargin": true,
            "type": "pie"
           }
          ],
          "scatter": [
           {
            "fillpattern": {
             "fillmode": "overlay",
             "size": 10,
             "solidity": 0.2
            },
            "type": "scatter"
           }
          ],
          "scatter3d": [
           {
            "line": {
             "colorbar": {
              "outlinewidth": 0,
              "ticks": ""
             }
            },
            "marker": {
             "colorbar": {
              "outlinewidth": 0,
              "ticks": ""
             }
            },
            "type": "scatter3d"
           }
          ],
          "scattercarpet": [
           {
            "marker": {
             "colorbar": {
              "outlinewidth": 0,
              "ticks": ""
             }
            },
            "type": "scattercarpet"
           }
          ],
          "scattergeo": [
           {
            "marker": {
             "colorbar": {
              "outlinewidth": 0,
              "ticks": ""
             }
            },
            "type": "scattergeo"
           }
          ],
          "scattergl": [
           {
            "marker": {
             "colorbar": {
              "outlinewidth": 0,
              "ticks": ""
             }
            },
            "type": "scattergl"
           }
          ],
          "scattermap": [
           {
            "marker": {
             "colorbar": {
              "outlinewidth": 0,
              "ticks": ""
             }
            },
            "type": "scattermap"
           }
          ],
          "scattermapbox": [
           {
            "marker": {
             "colorbar": {
              "outlinewidth": 0,
              "ticks": ""
             }
            },
            "type": "scattermapbox"
           }
          ],
          "scatterpolar": [
           {
            "marker": {
             "colorbar": {
              "outlinewidth": 0,
              "ticks": ""
             }
            },
            "type": "scatterpolar"
           }
          ],
          "scatterpolargl": [
           {
            "marker": {
             "colorbar": {
              "outlinewidth": 0,
              "ticks": ""
             }
            },
            "type": "scatterpolargl"
           }
          ],
          "scatterternary": [
           {
            "marker": {
             "colorbar": {
              "outlinewidth": 0,
              "ticks": ""
             }
            },
            "type": "scatterternary"
           }
          ],
          "surface": [
           {
            "colorbar": {
             "outlinewidth": 0,
             "ticks": ""
            },
            "colorscale": [
             [
              0,
              "#0d0887"
             ],
             [
              0.1111111111111111,
              "#46039f"
             ],
             [
              0.2222222222222222,
              "#7201a8"
             ],
             [
              0.3333333333333333,
              "#9c179e"
             ],
             [
              0.4444444444444444,
              "#bd3786"
             ],
             [
              0.5555555555555556,
              "#d8576b"
             ],
             [
              0.6666666666666666,
              "#ed7953"
             ],
             [
              0.7777777777777778,
              "#fb9f3a"
             ],
             [
              0.8888888888888888,
              "#fdca26"
             ],
             [
              1,
              "#f0f921"
             ]
            ],
            "type": "surface"
           }
          ],
          "table": [
           {
            "cells": {
             "fill": {
              "color": "#EBF0F8"
             },
             "line": {
              "color": "white"
             }
            },
            "header": {
             "fill": {
              "color": "#C8D4E3"
             },
             "line": {
              "color": "white"
             }
            },
            "type": "table"
           }
          ]
         },
         "layout": {
          "annotationdefaults": {
           "arrowcolor": "#2a3f5f",
           "arrowhead": 0,
           "arrowwidth": 1
          },
          "autotypenumbers": "strict",
          "coloraxis": {
           "colorbar": {
            "outlinewidth": 0,
            "ticks": ""
           }
          },
          "colorscale": {
           "diverging": [
            [
             0,
             "#8e0152"
            ],
            [
             0.1,
             "#c51b7d"
            ],
            [
             0.2,
             "#de77ae"
            ],
            [
             0.3,
             "#f1b6da"
            ],
            [
             0.4,
             "#fde0ef"
            ],
            [
             0.5,
             "#f7f7f7"
            ],
            [
             0.6,
             "#e6f5d0"
            ],
            [
             0.7,
             "#b8e186"
            ],
            [
             0.8,
             "#7fbc41"
            ],
            [
             0.9,
             "#4d9221"
            ],
            [
             1,
             "#276419"
            ]
           ],
           "sequential": [
            [
             0,
             "#0d0887"
            ],
            [
             0.1111111111111111,
             "#46039f"
            ],
            [
             0.2222222222222222,
             "#7201a8"
            ],
            [
             0.3333333333333333,
             "#9c179e"
            ],
            [
             0.4444444444444444,
             "#bd3786"
            ],
            [
             0.5555555555555556,
             "#d8576b"
            ],
            [
             0.6666666666666666,
             "#ed7953"
            ],
            [
             0.7777777777777778,
             "#fb9f3a"
            ],
            [
             0.8888888888888888,
             "#fdca26"
            ],
            [
             1,
             "#f0f921"
            ]
           ],
           "sequentialminus": [
            [
             0,
             "#0d0887"
            ],
            [
             0.1111111111111111,
             "#46039f"
            ],
            [
             0.2222222222222222,
             "#7201a8"
            ],
            [
             0.3333333333333333,
             "#9c179e"
            ],
            [
             0.4444444444444444,
             "#bd3786"
            ],
            [
             0.5555555555555556,
             "#d8576b"
            ],
            [
             0.6666666666666666,
             "#ed7953"
            ],
            [
             0.7777777777777778,
             "#fb9f3a"
            ],
            [
             0.8888888888888888,
             "#fdca26"
            ],
            [
             1,
             "#f0f921"
            ]
           ]
          },
          "colorway": [
           "#636efa",
           "#EF553B",
           "#00cc96",
           "#ab63fa",
           "#FFA15A",
           "#19d3f3",
           "#FF6692",
           "#B6E880",
           "#FF97FF",
           "#FECB52"
          ],
          "font": {
           "color": "#2a3f5f"
          },
          "geo": {
           "bgcolor": "white",
           "lakecolor": "white",
           "landcolor": "#E5ECF6",
           "showlakes": true,
           "showland": true,
           "subunitcolor": "white"
          },
          "hoverlabel": {
           "align": "left"
          },
          "hovermode": "closest",
          "mapbox": {
           "style": "light"
          },
          "paper_bgcolor": "white",
          "plot_bgcolor": "#E5ECF6",
          "polar": {
           "angularaxis": {
            "gridcolor": "white",
            "linecolor": "white",
            "ticks": ""
           },
           "bgcolor": "#E5ECF6",
           "radialaxis": {
            "gridcolor": "white",
            "linecolor": "white",
            "ticks": ""
           }
          },
          "scene": {
           "xaxis": {
            "backgroundcolor": "#E5ECF6",
            "gridcolor": "white",
            "gridwidth": 2,
            "linecolor": "white",
            "showbackground": true,
            "ticks": "",
            "zerolinecolor": "white"
           },
           "yaxis": {
            "backgroundcolor": "#E5ECF6",
            "gridcolor": "white",
            "gridwidth": 2,
            "linecolor": "white",
            "showbackground": true,
            "ticks": "",
            "zerolinecolor": "white"
           },
           "zaxis": {
            "backgroundcolor": "#E5ECF6",
            "gridcolor": "white",
            "gridwidth": 2,
            "linecolor": "white",
            "showbackground": true,
            "ticks": "",
            "zerolinecolor": "white"
           }
          },
          "shapedefaults": {
           "line": {
            "color": "#2a3f5f"
           }
          },
          "ternary": {
           "aaxis": {
            "gridcolor": "white",
            "linecolor": "white",
            "ticks": ""
           },
           "baxis": {
            "gridcolor": "white",
            "linecolor": "white",
            "ticks": ""
           },
           "bgcolor": "#E5ECF6",
           "caxis": {
            "gridcolor": "white",
            "linecolor": "white",
            "ticks": ""
           }
          },
          "title": {
           "x": 0.05
          },
          "xaxis": {
           "automargin": true,
           "gridcolor": "white",
           "linecolor": "white",
           "ticks": "",
           "title": {
            "standoff": 15
           },
           "zerolinecolor": "white",
           "zerolinewidth": 2
          },
          "yaxis": {
           "automargin": true,
           "gridcolor": "white",
           "linecolor": "white",
           "ticks": "",
           "title": {
            "standoff": 15
           },
           "zerolinecolor": "white",
           "zerolinewidth": 2
          }
         }
        },
        "title": {
         "text": "Trajectories",
         "x": 0.5,
         "xanchor": "center"
        },
        "width": 800
       }
      }
     },
     "metadata": {},
     "output_type": "display_data"
    }
   ],
   "source": [
    "gaz_config = ConfigGazebo(origin= enu_origin,\n",
    "                          world_path=\"simulator/gazebo/worlds/runway.world\")\n",
    "\n",
    "gaz_config.add(base_path=base_path,base_home=base_home,color=color)\n",
    "gaz_config.show()"
   ]
  },
  {
   "cell_type": "markdown",
   "metadata": {},
   "source": [
    "## QGroundControl Configuration"
   ]
  },
  {
   "cell_type": "code",
   "execution_count": 4,
   "metadata": {},
   "outputs": [
    {
     "data": {
      "text/html": [
       "<div style=\"width:100%;\"><div style=\"position:relative;width:100%;height:0;padding-bottom:60%;\"><span style=\"color:#565656\">Make this Notebook Trusted to load map: File -> Trust Notebook</span><iframe srcdoc=\"&lt;!DOCTYPE html&gt;\n",
       "&lt;html&gt;\n",
       "&lt;head&gt;\n",
       "    \n",
       "    &lt;meta http-equiv=&quot;content-type&quot; content=&quot;text/html; charset=UTF-8&quot; /&gt;\n",
       "    &lt;script src=&quot;https://cdn.jsdelivr.net/npm/leaflet@1.9.3/dist/leaflet.js&quot;&gt;&lt;/script&gt;\n",
       "    &lt;script src=&quot;https://code.jquery.com/jquery-3.7.1.min.js&quot;&gt;&lt;/script&gt;\n",
       "    &lt;script src=&quot;https://cdn.jsdelivr.net/npm/bootstrap@5.2.2/dist/js/bootstrap.bundle.min.js&quot;&gt;&lt;/script&gt;\n",
       "    &lt;script src=&quot;https://cdnjs.cloudflare.com/ajax/libs/Leaflet.awesome-markers/2.0.2/leaflet.awesome-markers.js&quot;&gt;&lt;/script&gt;\n",
       "    &lt;link rel=&quot;stylesheet&quot; href=&quot;https://cdn.jsdelivr.net/npm/leaflet@1.9.3/dist/leaflet.css&quot;/&gt;\n",
       "    &lt;link rel=&quot;stylesheet&quot; href=&quot;https://cdn.jsdelivr.net/npm/bootstrap@5.2.2/dist/css/bootstrap.min.css&quot;/&gt;\n",
       "    &lt;link rel=&quot;stylesheet&quot; href=&quot;https://netdna.bootstrapcdn.com/bootstrap/3.0.0/css/bootstrap-glyphicons.css&quot;/&gt;\n",
       "    &lt;link rel=&quot;stylesheet&quot; href=&quot;https://cdn.jsdelivr.net/npm/@fortawesome/fontawesome-free@6.2.0/css/all.min.css&quot;/&gt;\n",
       "    &lt;link rel=&quot;stylesheet&quot; href=&quot;https://cdnjs.cloudflare.com/ajax/libs/Leaflet.awesome-markers/2.0.2/leaflet.awesome-markers.css&quot;/&gt;\n",
       "    &lt;link rel=&quot;stylesheet&quot; href=&quot;https://cdn.jsdelivr.net/gh/python-visualization/folium/folium/templates/leaflet.awesome.rotate.min.css&quot;/&gt;\n",
       "    \n",
       "            &lt;meta name=&quot;viewport&quot; content=&quot;width=device-width,\n",
       "                initial-scale=1.0, maximum-scale=1.0, user-scalable=no&quot; /&gt;\n",
       "            &lt;style&gt;\n",
       "                #map_567b7a62070fc85a071cdde4d1d577de {\n",
       "                    position: relative;\n",
       "                    width: 100.0%;\n",
       "                    height: 100.0%;\n",
       "                    left: 0.0%;\n",
       "                    top: 0.0%;\n",
       "                }\n",
       "                .leaflet-container { font-size: 1rem; }\n",
       "            &lt;/style&gt;\n",
       "\n",
       "            &lt;style&gt;html, body {\n",
       "                width: 100%;\n",
       "                height: 100%;\n",
       "                margin: 0;\n",
       "                padding: 0;\n",
       "            }\n",
       "            &lt;/style&gt;\n",
       "\n",
       "            &lt;style&gt;#map {\n",
       "                position:absolute;\n",
       "                top:0;\n",
       "                bottom:0;\n",
       "                right:0;\n",
       "                left:0;\n",
       "                }\n",
       "            &lt;/style&gt;\n",
       "\n",
       "            &lt;script&gt;\n",
       "                L_NO_TOUCH = false;\n",
       "                L_DISABLE_3D = false;\n",
       "            &lt;/script&gt;\n",
       "\n",
       "        \n",
       "&lt;/head&gt;\n",
       "&lt;body&gt;\n",
       "    \n",
       "    \n",
       "            &lt;div class=&quot;folium-map&quot; id=&quot;map_567b7a62070fc85a071cdde4d1d577de&quot; &gt;&lt;/div&gt;\n",
       "        \n",
       "&lt;/body&gt;\n",
       "&lt;script&gt;\n",
       "    \n",
       "    \n",
       "            var map_567b7a62070fc85a071cdde4d1d577de = L.map(\n",
       "                &quot;map_567b7a62070fc85a071cdde4d1d577de&quot;,\n",
       "                {\n",
       "                    center: [-35.363328, 149.1652241],\n",
       "                    crs: L.CRS.EPSG3857,\n",
       "                    ...{\n",
       "  &quot;zoom&quot;: 18,\n",
       "  &quot;zoomControl&quot;: true,\n",
       "  &quot;preferCanvas&quot;: false,\n",
       "}\n",
       "\n",
       "                }\n",
       "            );\n",
       "\n",
       "            \n",
       "\n",
       "        \n",
       "    \n",
       "            var tile_layer_d7b4c0d5cd1d75ae5cc8d2e13c700553 = L.tileLayer(\n",
       "                &quot;https://tile.openstreetmap.org/{z}/{x}/{y}.png&quot;,\n",
       "                {\n",
       "  &quot;minZoom&quot;: 0,\n",
       "  &quot;maxZoom&quot;: 19,\n",
       "  &quot;maxNativeZoom&quot;: 19,\n",
       "  &quot;noWrap&quot;: false,\n",
       "  &quot;attribution&quot;: &quot;\\u0026copy; \\u003ca href=\\&quot;https://www.openstreetmap.org/copyright\\&quot;\\u003eOpenStreetMap\\u003c/a\\u003e contributors&quot;,\n",
       "  &quot;subdomains&quot;: &quot;abc&quot;,\n",
       "  &quot;detectRetina&quot;: false,\n",
       "  &quot;tms&quot;: false,\n",
       "  &quot;opacity&quot;: 1,\n",
       "}\n",
       "\n",
       "            );\n",
       "        \n",
       "    \n",
       "            tile_layer_d7b4c0d5cd1d75ae5cc8d2e13c700553.addTo(map_567b7a62070fc85a071cdde4d1d577de);\n",
       "        \n",
       "    \n",
       "            var marker_85883b077d7f1daa527db9dfaa929b56 = L.marker(\n",
       "                [-35.36328308396274, 149.16516902202562],\n",
       "                {\n",
       "}\n",
       "            ).addTo(map_567b7a62070fc85a071cdde4d1d577de);\n",
       "        \n",
       "    \n",
       "            var icon_32f770e7b579b512992524351ca0fad3 = L.AwesomeMarkers.icon(\n",
       "                {\n",
       "  &quot;markerColor&quot;: &quot;blue&quot;,\n",
       "  &quot;iconColor&quot;: &quot;white&quot;,\n",
       "  &quot;icon&quot;: &quot;info-sign&quot;,\n",
       "  &quot;prefix&quot;: &quot;glyphicon&quot;,\n",
       "  &quot;extraClasses&quot;: &quot;fa-rotate-0&quot;,\n",
       "}\n",
       "            );\n",
       "        \n",
       "    \n",
       "        var popup_88e79e4aa6acfb4e9354f7bbca847d44 = L.popup({\n",
       "  &quot;maxWidth&quot;: &quot;100%&quot;,\n",
       "});\n",
       "\n",
       "        \n",
       "            \n",
       "                var html_3d533fa63d3655c54141bcdde915b5ac = $(`&lt;div id=&quot;html_3d533fa63d3655c54141bcdde915b5ac&quot; style=&quot;width: 100.0%; height: 100.0%;&quot;&gt;pos_0&lt;/div&gt;`)[0];\n",
       "                popup_88e79e4aa6acfb4e9354f7bbca847d44.setContent(html_3d533fa63d3655c54141bcdde915b5ac);\n",
       "            \n",
       "        \n",
       "\n",
       "        marker_85883b077d7f1daa527db9dfaa929b56.bindPopup(popup_88e79e4aa6acfb4e9354f7bbca847d44)\n",
       "        ;\n",
       "\n",
       "        \n",
       "    \n",
       "    \n",
       "                marker_85883b077d7f1daa527db9dfaa929b56.setIcon(icon_32f770e7b579b512992524351ca0fad3);\n",
       "            \n",
       "    \n",
       "            var marker_2a7613c60953029c0121b8e4b649e18c = L.marker(\n",
       "                [-35.3633466047538, 149.16509112990263],\n",
       "                {\n",
       "}\n",
       "            ).addTo(map_567b7a62070fc85a071cdde4d1d577de);\n",
       "        \n",
       "    \n",
       "            var icon_99f22abb80d1ca23cc45894cd264e6c2 = L.AwesomeMarkers.icon(\n",
       "                {\n",
       "  &quot;markerColor&quot;: &quot;blue&quot;,\n",
       "  &quot;iconColor&quot;: &quot;white&quot;,\n",
       "  &quot;icon&quot;: &quot;info-sign&quot;,\n",
       "  &quot;prefix&quot;: &quot;glyphicon&quot;,\n",
       "  &quot;extraClasses&quot;: &quot;fa-rotate-0&quot;,\n",
       "}\n",
       "            );\n",
       "        \n",
       "    \n",
       "        var popup_5e6ee33af20f7004ffb6718e96e845ee = L.popup({\n",
       "  &quot;maxWidth&quot;: &quot;100%&quot;,\n",
       "});\n",
       "\n",
       "        \n",
       "            \n",
       "                var html_fb9862091d07877c3775a389aac4bb43 = $(`&lt;div id=&quot;html_fb9862091d07877c3775a389aac4bb43&quot; style=&quot;width: 100.0%; height: 100.0%;&quot;&gt;pos_1&lt;/div&gt;`)[0];\n",
       "                popup_5e6ee33af20f7004ffb6718e96e845ee.setContent(html_fb9862091d07877c3775a389aac4bb43);\n",
       "            \n",
       "        \n",
       "\n",
       "        marker_2a7613c60953029c0121b8e4b649e18c.bindPopup(popup_5e6ee33af20f7004ffb6718e96e845ee)\n",
       "        ;\n",
       "\n",
       "        \n",
       "    \n",
       "    \n",
       "                marker_2a7613c60953029c0121b8e4b649e18c.setIcon(icon_99f22abb80d1ca23cc45894cd264e6c2);\n",
       "            \n",
       "    \n",
       "            var marker_a3c6f62b5984673776e0051cb8e5048b = L.marker(\n",
       "                [-35.363283083792105, 149.16501323798883],\n",
       "                {\n",
       "}\n",
       "            ).addTo(map_567b7a62070fc85a071cdde4d1d577de);\n",
       "        \n",
       "    \n",
       "            var icon_432f888686237808608d2050404cb4b8 = L.AwesomeMarkers.icon(\n",
       "                {\n",
       "  &quot;markerColor&quot;: &quot;blue&quot;,\n",
       "  &quot;iconColor&quot;: &quot;white&quot;,\n",
       "  &quot;icon&quot;: &quot;info-sign&quot;,\n",
       "  &quot;prefix&quot;: &quot;glyphicon&quot;,\n",
       "  &quot;extraClasses&quot;: &quot;fa-rotate-0&quot;,\n",
       "}\n",
       "            );\n",
       "        \n",
       "    \n",
       "        var popup_d2fcc07a0cef568165a7494e4ca841e5 = L.popup({\n",
       "  &quot;maxWidth&quot;: &quot;100%&quot;,\n",
       "});\n",
       "\n",
       "        \n",
       "            \n",
       "                var html_48276bf56577a73e6f976c6356ec67e6 = $(`&lt;div id=&quot;html_48276bf56577a73e6f976c6356ec67e6&quot; style=&quot;width: 100.0%; height: 100.0%;&quot;&gt;pos_2&lt;/div&gt;`)[0];\n",
       "                popup_d2fcc07a0cef568165a7494e4ca841e5.setContent(html_48276bf56577a73e6f976c6356ec67e6);\n",
       "            \n",
       "        \n",
       "\n",
       "        marker_a3c6f62b5984673776e0051cb8e5048b.bindPopup(popup_d2fcc07a0cef568165a7494e4ca841e5)\n",
       "        ;\n",
       "\n",
       "        \n",
       "    \n",
       "    \n",
       "                marker_a3c6f62b5984673776e0051cb8e5048b.setIcon(icon_432f888686237808608d2050404cb4b8);\n",
       "            \n",
       "    \n",
       "            var marker_20c0d403ebdbd247b49cc17022964742 = L.marker(\n",
       "                [-35.36321956305101, 149.16509113011182],\n",
       "                {\n",
       "}\n",
       "            ).addTo(map_567b7a62070fc85a071cdde4d1d577de);\n",
       "        \n",
       "    \n",
       "            var icon_b0b00b0e5ff5fff2f353dd758219f7ed = L.AwesomeMarkers.icon(\n",
       "                {\n",
       "  &quot;markerColor&quot;: &quot;blue&quot;,\n",
       "  &quot;iconColor&quot;: &quot;white&quot;,\n",
       "  &quot;icon&quot;: &quot;info-sign&quot;,\n",
       "  &quot;prefix&quot;: &quot;glyphicon&quot;,\n",
       "  &quot;extraClasses&quot;: &quot;fa-rotate-0&quot;,\n",
       "}\n",
       "            );\n",
       "        \n",
       "    \n",
       "        var popup_debe2d082de1b89430807d4771fad761 = L.popup({\n",
       "  &quot;maxWidth&quot;: &quot;100%&quot;,\n",
       "});\n",
       "\n",
       "        \n",
       "            \n",
       "                var html_576556d4cec538908bc947cd6a673301 = $(`&lt;div id=&quot;html_576556d4cec538908bc947cd6a673301&quot; style=&quot;width: 100.0%; height: 100.0%;&quot;&gt;pos_3&lt;/div&gt;`)[0];\n",
       "                popup_debe2d082de1b89430807d4771fad761.setContent(html_576556d4cec538908bc947cd6a673301);\n",
       "            \n",
       "        \n",
       "\n",
       "        marker_20c0d403ebdbd247b49cc17022964742.bindPopup(popup_debe2d082de1b89430807d4771fad761)\n",
       "        ;\n",
       "\n",
       "        \n",
       "    \n",
       "    \n",
       "                marker_20c0d403ebdbd247b49cc17022964742.setIcon(icon_b0b00b0e5ff5fff2f353dd758219f7ed);\n",
       "            \n",
       "    \n",
       "            var marker_75ea4a76fd6a4afde452b843757df039 = L.marker(\n",
       "                [-35.36328308396274, 149.16516902202562],\n",
       "                {\n",
       "}\n",
       "            ).addTo(map_567b7a62070fc85a071cdde4d1d577de);\n",
       "        \n",
       "    \n",
       "            var icon_fba0136047d37481a7147f31f4efb3cc = L.AwesomeMarkers.icon(\n",
       "                {\n",
       "  &quot;markerColor&quot;: &quot;blue&quot;,\n",
       "  &quot;iconColor&quot;: &quot;white&quot;,\n",
       "  &quot;icon&quot;: &quot;info-sign&quot;,\n",
       "  &quot;prefix&quot;: &quot;glyphicon&quot;,\n",
       "  &quot;extraClasses&quot;: &quot;fa-rotate-0&quot;,\n",
       "}\n",
       "            );\n",
       "        \n",
       "    \n",
       "        var popup_3adcdba000c64a25e0d7d63887d6aa45 = L.popup({\n",
       "  &quot;maxWidth&quot;: &quot;100%&quot;,\n",
       "});\n",
       "\n",
       "        \n",
       "            \n",
       "                var html_efc8d295c22aa2603a5d8b2b34111738 = $(`&lt;div id=&quot;html_efc8d295c22aa2603a5d8b2b34111738&quot; style=&quot;width: 100.0%; height: 100.0%;&quot;&gt;pos_4&lt;/div&gt;`)[0];\n",
       "                popup_3adcdba000c64a25e0d7d63887d6aa45.setContent(html_efc8d295c22aa2603a5d8b2b34111738);\n",
       "            \n",
       "        \n",
       "\n",
       "        marker_75ea4a76fd6a4afde452b843757df039.bindPopup(popup_3adcdba000c64a25e0d7d63887d6aa45)\n",
       "        ;\n",
       "\n",
       "        \n",
       "    \n",
       "    \n",
       "                marker_75ea4a76fd6a4afde452b843757df039.setIcon(icon_fba0136047d37481a7147f31f4efb3cc);\n",
       "            \n",
       "    \n",
       "            var marker_158cf584177f39456e28c4fa44b8bf1b = L.marker(\n",
       "                [-35.363328, 149.1652241],\n",
       "                {\n",
       "}\n",
       "            ).addTo(map_567b7a62070fc85a071cdde4d1d577de);\n",
       "        \n",
       "    \n",
       "            var icon_ebd6351ea106aa21c765dd5f6907afa5 = L.AwesomeMarkers.icon(\n",
       "                {\n",
       "  &quot;markerColor&quot;: &quot;white&quot;,\n",
       "  &quot;iconColor&quot;: &quot;white&quot;,\n",
       "  &quot;icon&quot;: &quot;info-sign&quot;,\n",
       "  &quot;prefix&quot;: &quot;glyphicon&quot;,\n",
       "  &quot;extraClasses&quot;: &quot;fa-rotate-0&quot;,\n",
       "}\n",
       "            );\n",
       "        \n",
       "    \n",
       "        var popup_aa3b3f57ed74c6ad1e7e499948601588 = L.popup({\n",
       "  &quot;maxWidth&quot;: &quot;100%&quot;,\n",
       "});\n",
       "\n",
       "        \n",
       "            \n",
       "                var html_373d407a640eb459835ccafa18ec34a8 = $(`&lt;div id=&quot;html_373d407a640eb459835ccafa18ec34a8&quot; style=&quot;width: 100.0%; height: 100.0%;&quot;&gt;Origin&lt;/div&gt;`)[0];\n",
       "                popup_aa3b3f57ed74c6ad1e7e499948601588.setContent(html_373d407a640eb459835ccafa18ec34a8);\n",
       "            \n",
       "        \n",
       "\n",
       "        marker_158cf584177f39456e28c4fa44b8bf1b.bindPopup(popup_aa3b3f57ed74c6ad1e7e499948601588)\n",
       "        ;\n",
       "\n",
       "        \n",
       "    \n",
       "    \n",
       "                marker_158cf584177f39456e28c4fa44b8bf1b.setIcon(icon_ebd6351ea106aa21c765dd5f6907afa5);\n",
       "            \n",
       "&lt;/script&gt;\n",
       "&lt;/html&gt;\" style=\"position:absolute;width:100%;height:100%;left:0;top:0;border:none !important;\" allowfullscreen webkitallowfullscreen mozallowfullscreen></iframe></div></div>"
      ],
      "text/plain": [
       "<folium.folium.Map at 0x7f96c95e1d10>"
      ]
     },
     "execution_count": 4,
     "metadata": {},
     "output_type": "execute_result"
    }
   ],
   "source": [
    "qgc_config = ConfigQGC(origin= gra_origin)\n",
    "\n",
    "qgc_config.add(base_path=base_path,base_home=base_home,color=color)\n",
    "qgc_config.show()"
   ]
  },
  {
   "cell_type": "markdown",
   "metadata": {},
   "source": [
    "## No Visualizer"
   ]
  },
  {
   "cell_type": "code",
   "execution_count": 5,
   "metadata": {},
   "outputs": [],
   "source": [
    "novis_config = ConfigVis[int]()\n",
    "novis_config.add_vehicle(1)"
   ]
  },
  {
   "cell_type": "code",
   "execution_count": 6,
   "metadata": {},
   "outputs": [],
   "source": [
    "novis=NoneVisualizer(novis_config)\n",
    "\n",
    "gaz= Gazebo(gaz_config,gra_origin)\n",
    "\n",
    "qgc=QGC(qgc_config)"
   ]
  },
  {
   "cell_type": "markdown",
   "metadata": {},
   "source": [
    "## Launch Simulatotion"
   ]
  },
  {
   "cell_type": "code",
   "execution_count": 7,
   "metadata": {},
   "outputs": [
    {
     "name": "stdout",
     "output_type": "stream",
     "text": [
      "🖥️ Gazebo launched for realistic simulation and 3D visualization.\n",
      "🚀 ArduPilot SITL vehicle 1 launched (PID 2190215)\n",
      "🚀 UAV logic for vehicle 1 launched (PID 2190217)\n",
      "🚀 Proxy for vehicle 1 launched (PID 2190220)\n",
      "[Errno 111] Connection refused sleeping\n",
      "🚀 Starting Proxy 1\n"
     ]
    },
    {
     "name": "stderr",
     "output_type": "stream",
     "text": [
      "\u001b[1;33mWarning [parser.cc:833]\u001b[0m XML Attribute[version] in element[sdf] not defined in SDF, ignoring.\n",
      "\u001b[1;33mWarning [parser.cc:833]\u001b[0m XML Attribute[version] in element[sdf] not defined in SDF, ignoring.\n"
     ]
    },
    {
     "name": "stdout",
     "output_type": "stream",
     "text": [
      "🔗 UAV logic 1 is connected to Oracle ⚪\n",
      "✅ Heartbeat received\n",
      "Logic 🧠 1: 🚀 lauching\n",
      "Vehicle 1: ▶️ Plan Started: 📋 auto\n",
      "Vehicle 1: ▶️ Action Started: 📤 UPLOAD_MISSION\n",
      "🚀 GCS GCS launched (PID 2190632)\n"
     ]
    },
    {
     "name": "stdout",
     "output_type": "stream",
     "text": [
      "Vehicle 1: ▶️ Step Started: clear uav missions\n"
     ]
    }
   ],
   "source": [
    "# TODO: Is it possible/feasible use more than one visualizer at the same time? \n",
    "# It seems there is a port conflict, only the visualizer that launches first works.\n",
    "\n",
    "simulator = Simulator(\n",
    "\tvisualizers=[gaz],\n",
    "\tgcs_sysids={'GCS': [1]},\n",
    "\tmissions=[veh.mission for veh in qgc_config.vehicles],\n",
    "\tverbose=2,\n",
    ")\n",
    "orac = simulator.launch()"
   ]
  },
  {
   "cell_type": "markdown",
   "metadata": {},
   "source": [
    "## Oracle checking"
   ]
  },
  {
   "cell_type": "code",
   "execution_count": 8,
   "metadata": {},
   "outputs": [
    {
     "name": "stdout",
     "output_type": "stream",
     "text": [
      "verb: 2\n",
      "🔗 UAV logic 1 is connected\n",
      "Vehicle 1: 🧹 Cleared previous mission\n",
      "Vehicle 1: ✅ Step Done: clear uav missions\n",
      "Vehicle 1: ✅ 7 waypoints read.\n",
      "Vehicle 1: 🧭 Mission[0] → cmd: WAYPOINT, x: -35.3632831, y: 149.165169, z: 0.0, current: 0\n",
      "Vehicle 1: 🧭 Mission[1] → cmd: TAKEOFF, x: -35.3632831, y: 149.165169, z: 5.0, current: 0\n",
      "Vehicle 1: 🧭 Mission[2] → cmd: WAYPOINT, x: -35.3633466, y: 149.1650911, z: 5.0, current: 0\n",
      "Vehicle 1: 🧭 Mission[3] → cmd: WAYPOINT, x: -35.3632831, y: 149.1650132, z: 5.0, current: 0\n",
      "Vehicle 1: 🧭 Mission[4] → cmd: WAYPOINT, x: -35.3632196, y: 149.1650911, z: 5.0, current: 0\n",
      "Vehicle 1: 🧭 Mission[5] → cmd: WAYPOINT, x: -35.3632831, y: 149.165169, z: 5.0, current: 0\n",
      "Vehicle 1: 🧭 Mission[6] → cmd: LAND, x: -35.3632831, y: 149.165169, z: 0.0, current: 0\n",
      "Vehicle 1: ✅ Sent mission item 0\n",
      "Vehicle 1: ✅ Sent mission item 1\n",
      "Vehicle 1: ✅ Sent mission item 2\n",
      "Vehicle 1: ✅ Sent mission item 3\n",
      "Vehicle 1: ✅ Sent mission item 4\n",
      "Vehicle 1: ✅ Sent mission item 5\n",
      "Vehicle 1: ✅ Sent mission item 6\n",
      "Vehicle 1: ▶️ Step Started: load mission /home/abeldg/uav-cyber-sim/data/mission_1.waypoints\n",
      "Vehicle 1: ✅ Mission upload successful!\n",
      "Vehicle 1: ✅ Step Done: load mission /home/abeldg/uav-cyber-sim/data/mission_1.waypoints\n",
      "Vehicle 1: ✅ Action Done: 📤 UPLOAD_MISSION\n",
      "Vehicle 1: ▶️ Action Started: 🔧 PREARM\n",
      "Vehicle 1: ▶️ Step Started: Check disarmed\n",
      "Vehicle 1: ✅ Step Done: Check disarmed\n",
      "Vehicle 1: ▶️ Step Started: Check EKF status\n",
      "Vehicle 1: ✅ Step Done: Check EKF status\n",
      "Vehicle 1: ▶️ Step Started: Check GPS\n",
      "Vehicle 1: ✅ Step Done: Check GPS\n",
      "Vehicle 1: ▶️ Step Started: Check system\n",
      "Vehicle 1: ✅ Step Done: Check system\n",
      "Vehicle 1: ✅ Action Done: 🔧 PREARM\n",
      "Vehicle 1: ▶️ Action Started: ⚙️ MODE: GUIDED\n",
      "Vehicle 1: ▶️ Step Started: Switch to GUIDED\n",
      "Vehicle 1: ✅ Step Done: Switch to GUIDED\n",
      "Vehicle 1: ✅ Action Done: ⚙️ MODE: GUIDED\n",
      "Vehicle 1: ▶️ Action Started: 🔐 ARM\n",
      "Vehicle 1: ▶️ Step Started: arm\n",
      "Vehicle 1: ✅ Step Done: arm\n",
      "Vehicle 1: ✅ Action Done: 🔐 ARM\n",
      "Vehicle 1: ▶️ Action Started: 🚀 START_MISSION\n",
      "Vehicle 1: ▶️ Step Started: start_mission\n",
      "Vehicle 1: 🚀 Mission has started\n",
      "Vehicle 1: ✅ Step Done: start_mission\n",
      "Vehicle 1: ✅ Action Done: 🚀 START_MISSION\n",
      "Vehicle 1: ▶️ Action Started: 📤 UPLOAD_MISSION\n",
      "Vehicle 1: ▶️ Step Started: monitoring\n",
      "Vehicle 1: 📍 Position: lat=-35.3632830, lon=149.1651690, alt=-0.01 m\n",
      "Vehicle 1: 📍 Position: lat=-35.3632830, lon=149.1651690, alt=-0.01 m\n",
      "Vehicle 1: 📍 Position: lat=-35.3632830, lon=149.1651690, alt=-0.01 m\n",
      "Vehicle 1: 📍 Position: lat=-35.3632830, lon=149.1651690, alt=-0.01 m\n",
      "Vehicle 1: 📍 Position: lat=-35.3632830, lon=149.1651690, alt=-0.01 m\n",
      "Vehicle 1: 📍 Position: lat=-35.3632830, lon=149.1651690, alt=-0.01 m\n",
      "Vehicle 1: 📍 Position: lat=-35.3632830, lon=149.1651690, alt=-0.01 m\n",
      "Vehicle 1: 📍 Position: lat=-35.3632830, lon=149.1651690, alt=-0.01 m\n",
      "Vehicle 1: 📍 Position: lat=-35.3632830, lon=149.1651690, alt=-0.01 m\n",
      "Vehicle 1: 📍 Position: lat=-35.3632830, lon=149.1651690, alt=-0.01 m\n",
      "Vehicle 1: 📍 Position: lat=-35.3632830, lon=149.1651690, alt=-0.01 m\n",
      "Vehicle 1: 📍 Position: lat=-35.3632830, lon=149.1651690, alt=-0.01 m\n",
      "Vehicle 1: 📍 Position: lat=-35.3632830, lon=149.1651690, alt=-0.01 m\n",
      "Vehicle 1: 📍 Position: lat=-35.3632830, lon=149.1651690, alt=-0.01 m\n",
      "Vehicle 1: 📍 Position: lat=-35.3632830, lon=149.1651690, alt=-0.01 m\n",
      "Vehicle 1: 📍 Position: lat=-35.3632830, lon=149.1651690, alt=-0.01 m\n",
      "Vehicle 1: 📍 Position: lat=-35.3632830, lon=149.1651690, alt=-0.01 m\n",
      "Vehicle 1: 📍 Position: lat=-35.3632830, lon=149.1651690, alt=-0.01 m\n",
      "Vehicle 1: 📍 Position: lat=-35.3632830, lon=149.1651690, alt=-0.01 m\n",
      "Vehicle 1: 📍 Position: lat=-35.3632830, lon=149.1651690, alt=-0.01 m\n",
      "Vehicle 1: 📍 Position: lat=-35.3632830, lon=149.1651690, alt=-0.01 m\n",
      "Vehicle 1: 📍 Position: lat=-35.3632830, lon=149.1651690, alt=-0.01 m\n",
      "Vehicle 1: 📍 Position: lat=-35.3632830, lon=149.1651690, alt=-0.01 m\n",
      "Vehicle 1: 📍 Position: lat=-35.3632830, lon=149.1651690, alt=-0.01 m\n",
      "Vehicle 1: 📍 Position: lat=-35.3632830, lon=149.1651690, alt=-0.01 m\n",
      "Vehicle 1: 📍 Position: lat=-35.3632830, lon=149.1651690, alt=-0.01 m\n",
      "Vehicle 1: 📍 Position: lat=-35.3632830, lon=149.1651690, alt=-0.01 m\n",
      "Vehicle 1: 📍 Position: lat=-35.3632830, lon=149.1651690, alt=-0.01 m\n",
      "Vehicle 1: 📍 Position: lat=-35.3632830, lon=149.1651690, alt=-0.01 m\n",
      "Vehicle 1: 📍 Position: lat=-35.3632830, lon=149.1651690, alt=-0.01 m\n",
      "Vehicle 1: 📍 Position: lat=-35.3632830, lon=149.1651690, alt=-0.01 m\n",
      "Vehicle 1: 📍 Position: lat=-35.3632830, lon=149.1651690, alt=-0.01 m\n",
      "Vehicle 1: 📍 Position: lat=-35.3632830, lon=149.1651690, alt=-0.01 m\n",
      "Vehicle 1: 📍 Position: lat=-35.3632830, lon=149.1651690, alt=-0.01 m\n",
      "Vehicle 1: 📍 Position: lat=-35.3632830, lon=149.1651690, alt=-0.01 m\n",
      "Vehicle 1: 📍 Position: lat=-35.3632830, lon=149.1651690, alt=-0.01 m\n",
      "Vehicle 1: 📍 Position: lat=-35.3632830, lon=149.1651690, alt=-0.01 mVehicle 1: 📍 Position: lat=-35.3632830, lon=149.1651690, alt=-0.01 m\n",
      "\n",
      "Vehicle 1: 📍 Position: lat=-35.3632830, lon=149.1651690, alt=-0.01 m\n",
      "Vehicle 1: 📍 Position: lat=-35.3632830, lon=149.1651690, alt=-0.01 m\n",
      "Vehicle 1: 📍 Position: lat=-35.3632830, lon=149.1651690, alt=-0.01 m\n",
      "Vehicle 1: 📍 Position: lat=-35.3632830, lon=149.1651690, alt=-0.00 m\n",
      "Vehicle 1: 📍 Position: lat=-35.3632830, lon=149.1651690, alt=-0.00 m\n",
      "Vehicle 1: 📍 Position: lat=-35.3632830, lon=149.1651690, alt=0.01 m\n",
      "Vehicle 1: 📍 Position: lat=-35.3632830, lon=149.1651690, alt=0.01 m\n",
      "Vehicle 1: 📍 Position: lat=-35.3632830, lon=149.1651690, alt=0.02 m\n",
      "Vehicle 1: 📍 Position: lat=-35.3632830, lon=149.1651690, alt=0.02 m\n",
      "Vehicle 1: 📍 Position: lat=-35.3632830, lon=149.1651690, alt=0.05 m\n",
      "Vehicle 1: 📍 Position: lat=-35.3632830, lon=149.1651690, alt=0.05 m\n",
      "Vehicle 1: 📍 Position: lat=-35.3632830, lon=149.1651690, alt=0.09 m\n",
      "Vehicle 1: 📍 Position: lat=-35.3632830, lon=149.1651690, alt=0.09 m\n",
      "Vehicle 1: 📍 Position: lat=-35.3632830, lon=149.1651690, alt=0.13 m\n",
      "Vehicle 1: 📍 Position: lat=-35.3632830, lon=149.1651690, alt=0.13 m\n",
      "Vehicle 1: 📍 Position: lat=-35.3632830, lon=149.1651690, alt=0.19 m\n",
      "Vehicle 1: 📍 Position: lat=-35.3632830, lon=149.1651690, alt=0.19 m\n",
      "Vehicle 1: 📍 Position: lat=-35.3632830, lon=149.1651690, alt=0.25 m\n",
      "Vehicle 1: 📍 Position: lat=-35.3632830, lon=149.1651690, alt=0.33 m\n",
      "Vehicle 1: 📍 Position: lat=-35.3632830, lon=149.1651690, alt=0.41 m\n",
      "Vehicle 1: 📍 Position: lat=-35.3632830, lon=149.1651690, alt=0.41 m\n",
      "Vehicle 1: 📍 Position: lat=-35.3632830, lon=149.1651690, alt=0.51 m\n",
      "Vehicle 1: 📍 Position: lat=-35.3632830, lon=149.1651690, alt=0.51 m\n",
      "Vehicle 1: 📍 Position: lat=-35.3632830, lon=149.1651690, alt=0.61 m\n",
      "Vehicle 1: 📍 Position: lat=-35.3632830, lon=149.1651690, alt=0.61 m\n",
      "Vehicle 1: 📍 Position: lat=-35.3632830, lon=149.1651690, alt=0.73 m\n",
      "Vehicle 1: 📍 Position: lat=-35.3632830, lon=149.1651690, alt=0.73 m\n",
      "Vehicle 1: 📍 Position: lat=-35.3632830, lon=149.1651690, alt=0.86 m\n",
      "Vehicle 1: 📍 Position: lat=-35.3632830, lon=149.1651690, alt=0.86 m\n",
      "Vehicle 1: 📍 Position: lat=-35.3632830, lon=149.1651690, alt=1.00 m\n",
      "Vehicle 1: 📍 Position: lat=-35.3632830, lon=149.1651690, alt=1.00 m\n",
      "Vehicle 1: 📍 Position: lat=-35.3632830, lon=149.1651690, alt=1.15 m\n",
      "Vehicle 1: 📍 Position: lat=-35.3632830, lon=149.1651690, alt=1.15 m\n",
      "Vehicle 1: 📍 Position: lat=-35.3632830, lon=149.1651690, alt=1.31 m\n",
      "Vehicle 1: 📍 Position: lat=-35.3632830, lon=149.1651690, alt=1.31 m\n",
      "Vehicle 1: 📍 Position: lat=-35.3632830, lon=149.1651690, alt=1.49 m\n",
      "Vehicle 1: 📍 Position: lat=-35.3632830, lon=149.1651690, alt=1.67 m\n",
      "Vehicle 1: 📍 Position: lat=-35.3632830, lon=149.1651690, alt=1.85 m\n",
      "Vehicle 1: 📍 Position: lat=-35.3632830, lon=149.1651690, alt=1.85 m\n",
      "Vehicle 1: 📍 Position: lat=-35.3632830, lon=149.1651690, alt=2.04 m\n",
      "Vehicle 1: 📍 Position: lat=-35.3632830, lon=149.1651690, alt=2.22 mVehicle 1: 📍 Position: lat=-35.3632830, lon=149.1651690, alt=2.22 m\n",
      "\n",
      "Vehicle 1: 📍 Position: lat=-35.3632830, lon=149.1651690, alt=2.41 m\n",
      "Vehicle 1: 📍 Position: lat=-35.3632830, lon=149.1651690, alt=2.41 m\n",
      "Vehicle 1: 📍 Position: lat=-35.3632830, lon=149.1651690, alt=2.59 m\n",
      "Vehicle 1: 📍 Position: lat=-35.3632830, lon=149.1651690, alt=2.76 m\n",
      "Vehicle 1: 📍 Position: lat=-35.3632830, lon=149.1651690, alt=2.76 m\n",
      "Vehicle 1: 📍 Position: lat=-35.3632830, lon=149.1651690, alt=2.93 m\n",
      "Vehicle 1: 📍 Position: lat=-35.3632830, lon=149.1651690, alt=3.09 m\n",
      "Vehicle 1: 📍 Position: lat=-35.3632830, lon=149.1651690, alt=3.25 m\n",
      "Vehicle 1: 📍 Position: lat=-35.3632830, lon=149.1651690, alt=3.40 m\n",
      "Vehicle 1: 📍 Position: lat=-35.3632830, lon=149.1651690, alt=3.54 m\n",
      "Vehicle 1: 📍 Position: lat=-35.3632830, lon=149.1651690, alt=3.54 m\n",
      "Vehicle 1: 📍 Position: lat=-35.3632831, lon=149.1651690, alt=3.67 m\n",
      "Vehicle 1: 📍 Position: lat=-35.3632831, lon=149.1651690, alt=3.67 m\n",
      "Vehicle 1: 📍 Position: lat=-35.3632831, lon=149.1651690, alt=3.80 m\n",
      "Vehicle 1: 📍 Position: lat=-35.3632831, lon=149.1651690, alt=3.80 m\n",
      "Vehicle 1: 📍 Position: lat=-35.3632831, lon=149.1651690, alt=3.92 m\n",
      "Vehicle 1: 📍 Position: lat=-35.3632831, lon=149.1651690, alt=4.03 m\n",
      "Vehicle 1: 📍 Position: lat=-35.3632831, lon=149.1651690, alt=4.03 m\n",
      "Vehicle 1: 📍 Position: lat=-35.3632831, lon=149.1651690, alt=4.14 m\n",
      "Vehicle 1: 📍 Position: lat=-35.3632831, lon=149.1651690, alt=4.14 m\n",
      "Vehicle 1: 📍 Position: lat=-35.3632831, lon=149.1651690, alt=4.24 mVehicle 1: 📍 Position: lat=-35.3632831, lon=149.1651690, alt=4.24 m\n",
      "\n",
      "Vehicle 1: 📍 Position: lat=-35.3632831, lon=149.1651690, alt=4.34 m\n",
      "Vehicle 1: 📍 Position: lat=-35.3632831, lon=149.1651690, alt=4.34 m\n",
      "Vehicle 1: 📍 Position: lat=-35.3632831, lon=149.1651690, alt=4.43 m\n",
      "Vehicle 1: 📍 Position: lat=-35.3632831, lon=149.1651690, alt=4.43 m\n",
      "Vehicle 1: 📍 Position: lat=-35.3632831, lon=149.1651690, alt=4.51 m\n",
      "Vehicle 1: 📍 Position: lat=-35.3632831, lon=149.1651690, alt=4.51 m\n",
      "Vehicle 1: 📍 Position: lat=-35.3632831, lon=149.1651690, alt=4.59 m\n",
      "Vehicle 1: 📍 Position: lat=-35.3632831, lon=149.1651690, alt=4.66 m\n",
      "Vehicle 1: 📍 Position: lat=-35.3632831, lon=149.1651690, alt=4.66 m\n",
      "Vehicle 1: 📍 Position: lat=-35.3632831, lon=149.1651690, alt=4.72 m\n",
      "Vehicle 1: 📍 Position: lat=-35.3632831, lon=149.1651690, alt=4.79 m\n",
      "Vehicle 1: 📍 Position: lat=-35.3632831, lon=149.1651690, alt=4.79 m\n",
      "Vehicle 1: 📍 Position: lat=-35.3632831, lon=149.1651690, alt=4.84 m\n",
      "Vehicle 1: 📍 Position: lat=-35.3632831, lon=149.1651690, alt=4.84 m\n",
      "Vehicle 1: 📍 Position: lat=-35.3632831, lon=149.1651690, alt=4.89 m\n",
      "Vehicle 1: 📍 Position: lat=-35.3632831, lon=149.1651690, alt=4.89 m\n",
      "Vehicle 1: 📍 Position: lat=-35.3632831, lon=149.1651690, alt=4.93 m\n",
      "Vehicle 1: 📍 Position: lat=-35.3632831, lon=149.1651690, alt=4.97 m\n",
      "Vehicle 1: 📍 Position: lat=-35.3632831, lon=149.1651690, alt=5.00 m\n",
      "Vehicle 1: 📍 Position: lat=-35.3632831, lon=149.1651690, alt=5.00 m\n",
      "Vehicle 1: 📌 Reached waypoint: 1\n",
      "Vehicle 1: 📍 Position: lat=-35.3632831, lon=149.1651690, alt=5.02 m\n",
      "Vehicle 1: 📍 Position: lat=-35.3632831, lon=149.1651690, alt=5.02 m\n",
      "Vehicle 1: 📍 Position: lat=-35.3632831, lon=149.1651690, alt=5.03 m\n",
      "Vehicle 1: 📍 Position: lat=-35.3632831, lon=149.1651690, alt=5.03 m\n",
      "Vehicle 1: 📍 Position: lat=-35.3632831, lon=149.1651690, alt=5.04 m\n",
      "Vehicle 1: 📍 Position: lat=-35.3632831, lon=149.1651690, alt=5.04 m\n",
      "Vehicle 1: 📍 Position: lat=-35.3632831, lon=149.1651690, alt=5.04 m\n",
      "Vehicle 1: 📍 Position: lat=-35.3632831, lon=149.1651690, alt=5.03 m\n",
      "Vehicle 1: 📍 Position: lat=-35.3632831, lon=149.1651690, alt=5.03 m\n",
      "Vehicle 1: 📍 Position: lat=-35.3632831, lon=149.1651690, alt=5.03 m\n",
      "Vehicle 1: 📍 Position: lat=-35.3632831, lon=149.1651690, alt=5.02 m\n",
      "Vehicle 1: 📍 Position: lat=-35.3632831, lon=149.1651690, alt=5.02 m\n",
      "Vehicle 1: 📍 Position: lat=-35.3632832, lon=149.1651689, alt=5.01 m\n",
      "Vehicle 1: 📍 Position: lat=-35.3632832, lon=149.1651688, alt=5.00 m\n",
      "Vehicle 1: 📍 Position: lat=-35.3632832, lon=149.1651688, alt=5.00 m\n",
      "Vehicle 1: 📍 Position: lat=-35.3632833, lon=149.1651686, alt=5.00 m\n",
      "Vehicle 1: 📍 Position: lat=-35.3632835, lon=149.1651684, alt=4.99 m\n",
      "Vehicle 1: 📍 Position: lat=-35.3632837, lon=149.1651682, alt=4.98 m\n",
      "Vehicle 1: 📍 Position: lat=-35.3632837, lon=149.1651682, alt=4.98 m\n",
      "Vehicle 1: 📍 Position: lat=-35.3632839, lon=149.1651678, alt=4.98 m\n",
      "Vehicle 1: 📍 Position: lat=-35.3632839, lon=149.1651678, alt=4.98 m\n",
      "Vehicle 1: 📍 Position: lat=-35.3632842, lon=149.1651674, alt=4.97 m\n",
      "Vehicle 1: 📍 Position: lat=-35.3632842, lon=149.1651674, alt=4.97 m\n",
      "Vehicle 1: 📍 Position: lat=-35.3632846, lon=149.1651670, alt=4.97 m\n",
      "Vehicle 1: 📍 Position: lat=-35.3632850, lon=149.1651664, alt=4.97 m\n",
      "Vehicle 1: 📍 Position: lat=-35.3632850, lon=149.1651664, alt=4.97 m\n",
      "Vehicle 1: 📍 Position: lat=-35.3632855, lon=149.1651657, alt=4.97 m\n",
      "Vehicle 1: 📍 Position: lat=-35.3632855, lon=149.1651657, alt=4.97 m\n",
      "Vehicle 1: 📍 Position: lat=-35.3632860, lon=149.1651650, alt=4.97 m\n",
      "Vehicle 1: 📍 Position: lat=-35.3632867, lon=149.1651641, alt=4.96 mVehicle 1: 📍 Position: lat=-35.3632867, lon=149.1651641, alt=4.96 m\n",
      "\n",
      "Vehicle 1: 📍 Position: lat=-35.3632874, lon=149.1651631, alt=4.96 m\n",
      "Vehicle 1: 📍 Position: lat=-35.3632874, lon=149.1651631, alt=4.96 m\n",
      "Vehicle 1: 📍 Position: lat=-35.3632882, lon=149.1651620, alt=4.96 m\n",
      "Vehicle 1: 📍 Position: lat=-35.3632891, lon=149.1651608, alt=4.97 m\n",
      "Vehicle 1: 📍 Position: lat=-35.3632901, lon=149.1651595, alt=4.97 m\n",
      "Vehicle 1: 📍 Position: lat=-35.3632901, lon=149.1651595, alt=4.97 m\n",
      "Vehicle 1: 📍 Position: lat=-35.3632912, lon=149.1651580, alt=4.97 m\n",
      "Vehicle 1: 📍 Position: lat=-35.3632923, lon=149.1651565, alt=4.97 m\n",
      "Vehicle 1: 📍 Position: lat=-35.3632923, lon=149.1651565, alt=4.97 m\n",
      "Vehicle 1: 📍 Position: lat=-35.3632935, lon=149.1651548, alt=4.97 m\n",
      "Vehicle 1: 📍 Position: lat=-35.3632949, lon=149.1651530, alt=4.97 m\n",
      "Vehicle 1: 📍 Position: lat=-35.3632949, lon=149.1651530, alt=4.97 m\n",
      "Vehicle 1: 📍 Position: lat=-35.3632962, lon=149.1651512, alt=4.97 m\n",
      "Vehicle 1: 📍 Position: lat=-35.3632977, lon=149.1651492, alt=4.97 m\n",
      "Vehicle 1: 📍 Position: lat=-35.3632977, lon=149.1651492, alt=4.97 m\n",
      "Vehicle 1: 📍 Position: lat=-35.3632991, lon=149.1651472, alt=4.98 m\n",
      "Vehicle 1: 📍 Position: lat=-35.3632991, lon=149.1651472, alt=4.98 m\n",
      "Vehicle 1: 📍 Position: lat=-35.3633007, lon=149.1651452, alt=4.98 m\n",
      "Vehicle 1: 📍 Position: lat=-35.3633007, lon=149.1651452, alt=4.98 m\n",
      "Vehicle 1: 📍 Position: lat=-35.3633022, lon=149.1651430, alt=4.98 m\n",
      "Vehicle 1: 📍 Position: lat=-35.3633022, lon=149.1651430, alt=4.98 m\n",
      "Vehicle 1: 📍 Position: lat=-35.3633038, lon=149.1651409, alt=4.98 m\n",
      "Vehicle 1: 📍 Position: lat=-35.3633054, lon=149.1651386, alt=4.99 m\n",
      "Vehicle 1: 📍 Position: lat=-35.3633054, lon=149.1651386, alt=4.99 m\n",
      "Vehicle 1: 📍 Position: lat=-35.3633071, lon=149.1651364, alt=4.99 m\n",
      "Vehicle 1: 📍 Position: lat=-35.3633071, lon=149.1651364, alt=4.99 m\n",
      "Vehicle 1: 📍 Position: lat=-35.3633088, lon=149.1651341, alt=4.99 m\n",
      "Vehicle 1: 📍 Position: lat=-35.3633088, lon=149.1651341, alt=4.99 m\n",
      "Vehicle 1: 📍 Position: lat=-35.3633104, lon=149.1651318, alt=4.99 m\n",
      "Vehicle 1: 📍 Position: lat=-35.3633104, lon=149.1651318, alt=4.99 m\n",
      "Vehicle 1: 📍 Position: lat=-35.3633121, lon=149.1651296, alt=4.99 m\n",
      "Vehicle 1: 📍 Position: lat=-35.3633138, lon=149.1651273, alt=4.99 m\n",
      "Vehicle 1: 📍 Position: lat=-35.3633138, lon=149.1651273, alt=4.99 m\n",
      "Vehicle 1: 📍 Position: lat=-35.3633154, lon=149.1651250, alt=4.99 m\n",
      "Vehicle 1: 📍 Position: lat=-35.3633154, lon=149.1651250, alt=4.99 m\n",
      "Vehicle 1: 📍 Position: lat=-35.3633171, lon=149.1651227, alt=5.00 m\n",
      "Vehicle 1: 📍 Position: lat=-35.3633171, lon=149.1651227, alt=5.00 m\n",
      "Vehicle 1: 📍 Position: lat=-35.3633187, lon=149.1651205, alt=5.00 m\n",
      "Vehicle 1: 📍 Position: lat=-35.3633204, lon=149.1651182, alt=5.00 m\n",
      "Vehicle 1: 📍 Position: lat=-35.3633204, lon=149.1651182, alt=5.00 m\n",
      "Vehicle 1: 📍 Position: lat=-35.3633220, lon=149.1651160, alt=5.00 m\n",
      "Vehicle 1: 📍 Position: lat=-35.3633220, lon=149.1651160, alt=5.00 m\n",
      "Vehicle 1: 📍 Position: lat=-35.3633236, lon=149.1651138, alt=5.00 m\n",
      "Vehicle 1: 📍 Position: lat=-35.3633236, lon=149.1651138, alt=5.00 m\n",
      "Vehicle 1: 📍 Position: lat=-35.3633253, lon=149.1651115, alt=5.00 m\n",
      "Vehicle 1: 📍 Position: lat=-35.3633268, lon=149.1651093, alt=5.00 m\n",
      "Vehicle 1: 📍 Position: lat=-35.3633268, lon=149.1651093, alt=5.00 m\n",
      "Vehicle 1: 📍 Position: lat=-35.3633283, lon=149.1651071, alt=5.00 m\n",
      "Vehicle 1: 📍 Position: lat=-35.3633283, lon=149.1651071, alt=5.00 m\n",
      "Vehicle 1: 📍 Position: lat=-35.3633298, lon=149.1651049, alt=5.00 m\n",
      "Vehicle 1: 📍 Position: lat=-35.3633298, lon=149.1651049, alt=5.00 m\n",
      "Vehicle 1: 📍 Position: lat=-35.3633311, lon=149.1651028, alt=5.00 m\n",
      "Vehicle 1: 📍 Position: lat=-35.3633311, lon=149.1651028, alt=5.00 m\n",
      "Vehicle 1: 📍 Position: lat=-35.3633324, lon=149.1651006, alt=5.00 m\n",
      "Vehicle 1: 📍 Position: lat=-35.3633324, lon=149.1651006, alt=5.00 m\n",
      "Vehicle 1: 📍 Position: lat=-35.3633336, lon=149.1650985, alt=5.00 m\n",
      "Vehicle 1: 📍 Position: lat=-35.3633336, lon=149.1650985, alt=5.00 m\n",
      "Vehicle 1: 📍 Position: lat=-35.3633347, lon=149.1650963, alt=5.00 m\n",
      "Vehicle 1: 📍 Position: lat=-35.3633347, lon=149.1650963, alt=5.00 m\n",
      "Vehicle 1: 📍 Position: lat=-35.3633357, lon=149.1650942, alt=5.00 m\n",
      "Vehicle 1: 📍 Position: lat=-35.3633357, lon=149.1650942, alt=5.00 m\n",
      "Vehicle 1: 📍 Position: lat=-35.3633365, lon=149.1650920, alt=5.00 m\n",
      "Vehicle 1: 📍 Position: lat=-35.3633365, lon=149.1650920, alt=5.00 m\n",
      "Vehicle 1: 📍 Position: lat=-35.3633372, lon=149.1650899, alt=5.00 m\n",
      "Vehicle 1: 📍 Position: lat=-35.3633372, lon=149.1650899, alt=5.00 m\n",
      "Vehicle 1: 📍 Position: lat=-35.3633377, lon=149.1650878, alt=5.00 m\n",
      "Vehicle 1: 📍 Position: lat=-35.3633377, lon=149.1650878, alt=5.00 m\n",
      "Vehicle 1: 📍 Position: lat=-35.3633380, lon=149.1650856, alt=5.00 m\n",
      "Vehicle 1: 📍 Position: lat=-35.3633380, lon=149.1650856, alt=5.00 m\n",
      "Vehicle 1: 📍 Position: lat=-35.3633382, lon=149.1650835, alt=5.00 m\n",
      "Vehicle 1: 📍 Position: lat=-35.3633382, lon=149.1650835, alt=5.00 m\n",
      "Vehicle 1: 📌 Reached waypoint: 2\n",
      "Vehicle 1: 📍 Position: lat=-35.3633382, lon=149.1650814, alt=4.99 m\n",
      "Vehicle 1: 📍 Position: lat=-35.3633382, lon=149.1650814, alt=4.99 m\n",
      "Vehicle 1: 📍 Position: lat=-35.3633379, lon=149.1650793, alt=4.99 m\n",
      "Vehicle 1: 📍 Position: lat=-35.3633379, lon=149.1650793, alt=4.99 m\n",
      "Vehicle 1: 📍 Position: lat=-35.3633375, lon=149.1650772, alt=4.99 m\n",
      "Vehicle 1: 📍 Position: lat=-35.3633375, lon=149.1650772, alt=4.99 m\n",
      "Vehicle 1: 📍 Position: lat=-35.3633370, lon=149.1650751, alt=4.99 m\n",
      "Vehicle 1: 📍 Position: lat=-35.3633370, lon=149.1650751, alt=4.99 m\n",
      "Vehicle 1: 📍 Position: lat=-35.3633362, lon=149.1650730, alt=4.99 m\n",
      "Vehicle 1: 📍 Position: lat=-35.3633352, lon=149.1650709, alt=4.99 m\n",
      "Vehicle 1: 📍 Position: lat=-35.3633341, lon=149.1650688, alt=4.99 m\n",
      "Vehicle 1: 📍 Position: lat=-35.3633328, lon=149.1650667, alt=4.99 m\n",
      "Vehicle 1: 📍 Position: lat=-35.3633328, lon=149.1650667, alt=4.99 m\n",
      "Vehicle 1: 📍 Position: lat=-35.3633314, lon=149.1650646, alt=4.99 m\n",
      "Vehicle 1: 📍 Position: lat=-35.3633314, lon=149.1650646, alt=4.99 m\n",
      "Vehicle 1: 📍 Position: lat=-35.3633298, lon=149.1650625, alt=4.99 m\n",
      "Vehicle 1: 📍 Position: lat=-35.3633282, lon=149.1650604, alt=4.99 m\n",
      "Vehicle 1: 📍 Position: lat=-35.3633282, lon=149.1650604, alt=4.99 m\n",
      "Vehicle 1: 📍 Position: lat=-35.3633265, lon=149.1650584, alt=4.99 m\n",
      "Vehicle 1: 📍 Position: lat=-35.3633265, lon=149.1650584, alt=4.99 m\n",
      "Vehicle 1: 📍 Position: lat=-35.3633247, lon=149.1650563, alt=4.99 m\n",
      "Vehicle 1: 📍 Position: lat=-35.3633247, lon=149.1650563, alt=4.99 m\n",
      "Vehicle 1: 📍 Position: lat=-35.3633228, lon=149.1650542, alt=4.99 m\n",
      "Vehicle 1: 📍 Position: lat=-35.3633228, lon=149.1650542, alt=4.99 m\n",
      "Vehicle 1: 📍 Position: lat=-35.3633209, lon=149.1650521, alt=5.00 m\n",
      "Vehicle 1: 📍 Position: lat=-35.3633209, lon=149.1650521, alt=5.00 m\n",
      "Vehicle 1: 📍 Position: lat=-35.3633190, lon=149.1650500, alt=5.00 m\n",
      "Vehicle 1: 📍 Position: lat=-35.3633171, lon=149.1650479, alt=5.00 m\n",
      "Vehicle 1: 📍 Position: lat=-35.3633171, lon=149.1650479, alt=5.00 m\n",
      "Vehicle 1: 📍 Position: lat=-35.3633152, lon=149.1650459, alt=5.00 m\n",
      "Vehicle 1: 📍 Position: lat=-35.3633152, lon=149.1650459, alt=5.00 m\n",
      "Vehicle 1: 📍 Position: lat=-35.3633133, lon=149.1650438, alt=5.00 m\n",
      "Vehicle 1: 📍 Position: lat=-35.3633133, lon=149.1650438, alt=5.00 m\n",
      "Vehicle 1: 📍 Position: lat=-35.3633114, lon=149.1650417, alt=5.00 m\n",
      "Vehicle 1: 📍 Position: lat=-35.3633095, lon=149.1650396, alt=5.00 m\n",
      "Vehicle 1: 📍 Position: lat=-35.3633095, lon=149.1650396, alt=5.00 m\n",
      "Vehicle 1: 📍 Position: lat=-35.3633076, lon=149.1650376, alt=5.00 m\n",
      "Vehicle 1: 📍 Position: lat=-35.3633058, lon=149.1650355, alt=5.00 m\n",
      "Vehicle 1: 📍 Position: lat=-35.3633058, lon=149.1650355, alt=5.00 m\n",
      "Vehicle 1: 📍 Position: lat=-35.3633040, lon=149.1650335, alt=5.00 m\n",
      "Vehicle 1: 📍 Position: lat=-35.3633022, lon=149.1650314, alt=5.00 m\n",
      "Vehicle 1: 📍 Position: lat=-35.3633022, lon=149.1650314, alt=5.00 m\n",
      "Vehicle 1: 📍 Position: lat=-35.3633004, lon=149.1650294, alt=5.00 m\n",
      "Vehicle 1: 📍 Position: lat=-35.3633004, lon=149.1650294, alt=5.00 m\n",
      "Vehicle 1: 📍 Position: lat=-35.3632987, lon=149.1650275, alt=5.00 m\n",
      "Vehicle 1: 📍 Position: lat=-35.3632987, lon=149.1650275, alt=5.00 m\n",
      "Vehicle 1: 📍 Position: lat=-35.3632969, lon=149.1650257, alt=5.00 m\n",
      "Vehicle 1: 📍 Position: lat=-35.3632969, lon=149.1650257, alt=5.00 m\n",
      "Vehicle 1: 📍 Position: lat=-35.3632952, lon=149.1650240, alt=5.00 m\n",
      "Vehicle 1: 📍 Position: lat=-35.3632952, lon=149.1650240, alt=5.00 m\n",
      "Vehicle 1: 📍 Position: lat=-35.3632935, lon=149.1650224, alt=5.00 m\n",
      "Vehicle 1: 📍 Position: lat=-35.3632919, lon=149.1650209, alt=5.00 m\n",
      "Vehicle 1: 📍 Position: lat=-35.3632902, lon=149.1650196, alt=5.00 m\n",
      "Vehicle 1: 📍 Position: lat=-35.3632885, lon=149.1650184, alt=5.00 m\n",
      "Vehicle 1: 📍 Position: lat=-35.3632885, lon=149.1650184, alt=5.00 m\n",
      "Vehicle 1: 📍 Position: lat=-35.3632868, lon=149.1650174, alt=5.00 m\n",
      "Vehicle 1: 📍 Position: lat=-35.3632852, lon=149.1650166, alt=5.00 mVehicle 1: 📍 Position: lat=-35.3632852, lon=149.1650166, alt=5.00 m\n",
      "\n",
      "Vehicle 1: 📍 Position: lat=-35.3632835, lon=149.1650160, alt=5.00 m\n",
      "Vehicle 1: 📍 Position: lat=-35.3632835, lon=149.1650160, alt=5.00 m\n",
      "Vehicle 1: 📍 Position: lat=-35.3632818, lon=149.1650157, alt=5.00 m\n",
      "Vehicle 1: 📍 Position: lat=-35.3632802, lon=149.1650156, alt=5.00 m\n",
      "Vehicle 1: 📌 Reached waypoint: 3\n",
      "Vehicle 1: 📍 Position: lat=-35.3632802, lon=149.1650156, alt=5.00 m\n",
      "Vehicle 1: 📍 Position: lat=-35.3632785, lon=149.1650157, alt=5.00 m\n",
      "Vehicle 1: 📍 Position: lat=-35.3632768, lon=149.1650161, alt=5.00 m\n",
      "Vehicle 1: 📍 Position: lat=-35.3632752, lon=149.1650167, alt=5.00 m\n",
      "Vehicle 1: 📍 Position: lat=-35.3632735, lon=149.1650176, alt=4.99 m\n",
      "Vehicle 1: 📍 Position: lat=-35.3632735, lon=149.1650176, alt=4.99 m\n",
      "Vehicle 1: 📍 Position: lat=-35.3632718, lon=149.1650186, alt=4.99 m\n",
      "Vehicle 1: 📍 Position: lat=-35.3632718, lon=149.1650186, alt=4.99 m\n",
      "Vehicle 1: 📍 Position: lat=-35.3632701, lon=149.1650198, alt=4.99 m\n",
      "Vehicle 1: 📍 Position: lat=-35.3632701, lon=149.1650198, alt=4.99 m\n",
      "Vehicle 1: 📍 Position: lat=-35.3632684, lon=149.1650213, alt=4.99 m\n",
      "Vehicle 1: 📍 Position: lat=-35.3632684, lon=149.1650213, alt=4.99 m\n",
      "Vehicle 1: 📍 Position: lat=-35.3632667, lon=149.1650230, alt=4.99 m\n",
      "Vehicle 1: 📍 Position: lat=-35.3632667, lon=149.1650230, alt=4.99 m\n",
      "Vehicle 1: 📍 Position: lat=-35.3632650, lon=149.1650248, alt=4.99 m\n",
      "Vehicle 1: 📍 Position: lat=-35.3632650, lon=149.1650248, alt=4.99 m\n",
      "Vehicle 1: 📍 Position: lat=-35.3632633, lon=149.1650267, alt=4.99 m\n",
      "Vehicle 1: 📍 Position: lat=-35.3632633, lon=149.1650267, alt=4.99 m\n",
      "Vehicle 1: 📍 Position: lat=-35.3632616, lon=149.1650287, alt=4.99 m\n",
      "Vehicle 1: 📍 Position: lat=-35.3632616, lon=149.1650287, alt=4.99 m\n",
      "Vehicle 1: 📍 Position: lat=-35.3632599, lon=149.1650308, alt=4.99 m\n",
      "Vehicle 1: 📍 Position: lat=-35.3632599, lon=149.1650308, alt=4.99 m\n",
      "Vehicle 1: 📍 Position: lat=-35.3632582, lon=149.1650330, alt=4.99 m\n",
      "Vehicle 1: 📍 Position: lat=-35.3632565, lon=149.1650353, alt=4.99 m\n",
      "Vehicle 1: 📍 Position: lat=-35.3632565, lon=149.1650353, alt=4.99 m\n",
      "Vehicle 1: 📍 Position: lat=-35.3632548, lon=149.1650376, alt=4.99 m\n",
      "Vehicle 1: 📍 Position: lat=-35.3632531, lon=149.1650399, alt=4.99 m\n",
      "Vehicle 1: 📍 Position: lat=-35.3632531, lon=149.1650399, alt=4.99 m\n",
      "Vehicle 1: 📍 Position: lat=-35.3632515, lon=149.1650422, alt=4.99 m\n",
      "Vehicle 1: 📍 Position: lat=-35.3632515, lon=149.1650422, alt=4.99 m\n",
      "Vehicle 1: 📍 Position: lat=-35.3632498, lon=149.1650445, alt=4.99 m\n",
      "Vehicle 1: 📍 Position: lat=-35.3632498, lon=149.1650445, alt=4.99 m\n",
      "Vehicle 1: 📍 Position: lat=-35.3632481, lon=149.1650467, alt=4.99 m\n",
      "Vehicle 1: 📍 Position: lat=-35.3632481, lon=149.1650467, alt=4.99 m\n",
      "Vehicle 1: 📍 Position: lat=-35.3632464, lon=149.1650490, alt=4.99 m\n",
      "Vehicle 1: 📍 Position: lat=-35.3632464, lon=149.1650490, alt=4.99 m\n",
      "Vehicle 1: 📍 Position: lat=-35.3632448, lon=149.1650512, alt=5.00 m\n",
      "Vehicle 1: 📍 Position: lat=-35.3632431, lon=149.1650534, alt=5.00 m\n",
      "Vehicle 1: 📍 Position: lat=-35.3632431, lon=149.1650534, alt=5.00 m\n",
      "Vehicle 1: 📍 Position: lat=-35.3632415, lon=149.1650555, alt=5.00 m\n",
      "Vehicle 1: 📍 Position: lat=-35.3632415, lon=149.1650555, alt=5.00 m\n",
      "Vehicle 1: 📍 Position: lat=-35.3632399, lon=149.1650577, alt=5.00 m\n",
      "Vehicle 1: 📍 Position: lat=-35.3632399, lon=149.1650577, alt=5.00 m\n",
      "Vehicle 1: 📍 Position: lat=-35.3632383, lon=149.1650599, alt=5.00 m\n",
      "Vehicle 1: 📍 Position: lat=-35.3632383, lon=149.1650599, alt=5.00 m\n",
      "Vehicle 1: 📍 Position: lat=-35.3632368, lon=149.1650620, alt=5.00 m\n",
      "Vehicle 1: 📍 Position: lat=-35.3632368, lon=149.1650620, alt=5.00 m\n",
      "Vehicle 1: 📍 Position: lat=-35.3632354, lon=149.1650641, alt=4.99 m\n",
      "Vehicle 1: 📍 Position: lat=-35.3632354, lon=149.1650641, alt=4.99 m\n",
      "Vehicle 1: 📍 Position: lat=-35.3632341, lon=149.1650662, alt=4.98 m\n",
      "Vehicle 1: 📍 Position: lat=-35.3632341, lon=149.1650662, alt=4.98 m\n",
      "Vehicle 1: 📍 Position: lat=-35.3632329, lon=149.1650682, alt=4.98 m\n",
      "Vehicle 1: 📍 Position: lat=-35.3632317, lon=149.1650703, alt=4.97 m\n",
      "Vehicle 1: 📍 Position: lat=-35.3632317, lon=149.1650703, alt=4.97 m\n",
      "Vehicle 1: 📍 Position: lat=-35.3632307, lon=149.1650724, alt=4.97 m\n",
      "Vehicle 1: 📍 Position: lat=-35.3632307, lon=149.1650724, alt=4.97 m\n",
      "Vehicle 1: 📍 Position: lat=-35.3632299, lon=149.1650745, alt=4.97 m\n",
      "Vehicle 1: 📍 Position: lat=-35.3632292, lon=149.1650765, alt=4.97 m\n",
      "Vehicle 1: 📍 Position: lat=-35.3632292, lon=149.1650765, alt=4.97 m\n",
      "Vehicle 1: 📍 Position: lat=-35.3632286, lon=149.1650786, alt=4.98 m\n",
      "Vehicle 1: 📍 Position: lat=-35.3632282, lon=149.1650807, alt=4.98 m\n",
      "Vehicle 1: 📍 Position: lat=-35.3632282, lon=149.1650807, alt=4.98 m\n",
      "Vehicle 1: 📍 Position: lat=-35.3632280, lon=149.1650828, alt=4.98 m\n",
      "Vehicle 1: 📍 Position: lat=-35.3632280, lon=149.1650828, alt=4.98 m\n",
      "Vehicle 1: 📌 Reached waypoint: 4\n",
      "Vehicle 1: 📍 Position: lat=-35.3632280, lon=149.1650849, alt=4.99 m\n",
      "Vehicle 1: 📍 Position: lat=-35.3632280, lon=149.1650849, alt=4.99 m\n",
      "Vehicle 1: 📍 Position: lat=-35.3632282, lon=149.1650871, alt=4.99 m\n",
      "Vehicle 1: 📍 Position: lat=-35.3632282, lon=149.1650871, alt=4.99 m\n",
      "Vehicle 1: 📍 Position: lat=-35.3632285, lon=149.1650892, alt=4.99 m\n",
      "Vehicle 1: 📍 Position: lat=-35.3632290, lon=149.1650914, alt=4.99 m\n",
      "Vehicle 1: 📍 Position: lat=-35.3632290, lon=149.1650914, alt=4.99 m\n",
      "Vehicle 1: 📍 Position: lat=-35.3632298, lon=149.1650937, alt=4.99 m\n",
      "Vehicle 1: 📍 Position: lat=-35.3632298, lon=149.1650937, alt=4.99 m\n",
      "Vehicle 1: 📍 Position: lat=-35.3632307, lon=149.1650959, alt=4.99 m\n",
      "Vehicle 1: 📍 Position: lat=-35.3632307, lon=149.1650959, alt=4.99 m\n",
      "Vehicle 1: 📍 Position: lat=-35.3632317, lon=149.1650982, alt=4.99 m\n",
      "Vehicle 1: 📍 Position: lat=-35.3632317, lon=149.1650982, alt=4.99 m\n",
      "Vehicle 1: 📍 Position: lat=-35.3632329, lon=149.1651005, alt=4.99 m\n",
      "Vehicle 1: 📍 Position: lat=-35.3632329, lon=149.1651005, alt=4.99 m\n",
      "Vehicle 1: 📍 Position: lat=-35.3632342, lon=149.1651028, alt=4.99 m\n",
      "Vehicle 1: 📍 Position: lat=-35.3632357, lon=149.1651051, alt=4.99 m\n",
      "Vehicle 1: 📍 Position: lat=-35.3632357, lon=149.1651051, alt=4.99 m\n",
      "Vehicle 1: 📍 Position: lat=-35.3632372, lon=149.1651074, alt=4.99 m\n",
      "Vehicle 1: 📍 Position: lat=-35.3632372, lon=149.1651074, alt=4.99 m\n",
      "Vehicle 1: 📍 Position: lat=-35.3632388, lon=149.1651098, alt=4.99 m\n",
      "Vehicle 1: 📍 Position: lat=-35.3632404, lon=149.1651122, alt=4.99 m\n",
      "Vehicle 1: 📍 Position: lat=-35.3632404, lon=149.1651122, alt=4.99 m\n",
      "Vehicle 1: 📍 Position: lat=-35.3632421, lon=149.1651146, alt=4.99 m\n",
      "Vehicle 1: 📍 Position: lat=-35.3632438, lon=149.1651170, alt=4.99 m\n",
      "Vehicle 1: 📍 Position: lat=-35.3632456, lon=149.1651194, alt=4.99 m\n",
      "Vehicle 1: 📍 Position: lat=-35.3632473, lon=149.1651218, alt=4.99 m\n",
      "Vehicle 1: 📍 Position: lat=-35.3632491, lon=149.1651243, alt=4.99 m\n",
      "Vehicle 1: 📍 Position: lat=-35.3632491, lon=149.1651243, alt=4.99 m\n",
      "Vehicle 1: 📍 Position: lat=-35.3632508, lon=149.1651267, alt=4.99 m\n",
      "Vehicle 1: 📍 Position: lat=-35.3632508, lon=149.1651267, alt=4.99 m\n",
      "Vehicle 1: 📍 Position: lat=-35.3632525, lon=149.1651291, alt=4.99 m\n",
      "Vehicle 1: 📍 Position: lat=-35.3632542, lon=149.1651315, alt=4.99 m\n",
      "Vehicle 1: 📍 Position: lat=-35.3632542, lon=149.1651315, alt=4.99 m\n",
      "Vehicle 1: 📍 Position: lat=-35.3632559, lon=149.1651340, alt=4.99 m\n",
      "Vehicle 1: 📍 Position: lat=-35.3632559, lon=149.1651340, alt=4.99 m\n",
      "Vehicle 1: 📍 Position: lat=-35.3632575, lon=149.1651364, alt=4.99 m\n",
      "Vehicle 1: 📍 Position: lat=-35.3632575, lon=149.1651364, alt=4.99 m\n",
      "Vehicle 1: 📍 Position: lat=-35.3632591, lon=149.1651388, alt=4.99 m\n",
      "Vehicle 1: 📍 Position: lat=-35.3632607, lon=149.1651412, alt=4.99 mVehicle 1: 📍 Position: lat=-35.3632607, lon=149.1651412, alt=4.99 m\n",
      "\n",
      "Vehicle 1: 📍 Position: lat=-35.3632623, lon=149.1651436, alt=4.99 m\n",
      "Vehicle 1: 📍 Position: lat=-35.3632623, lon=149.1651436, alt=4.99 m\n",
      "Vehicle 1: 📍 Position: lat=-35.3632638, lon=149.1651459, alt=4.99 m\n",
      "Vehicle 1: 📍 Position: lat=-35.3632652, lon=149.1651481, alt=4.99 m\n",
      "Vehicle 1: 📍 Position: lat=-35.3632666, lon=149.1651503, alt=4.99 m\n",
      "Vehicle 1: 📍 Position: lat=-35.3632680, lon=149.1651524, alt=4.99 m\n",
      "Vehicle 1: 📍 Position: lat=-35.3632693, lon=149.1651544, alt=4.99 m\n",
      "Vehicle 1: 📍 Position: lat=-35.3632705, lon=149.1651564, alt=4.99 m\n",
      "Vehicle 1: 📍 Position: lat=-35.3632717, lon=149.1651582, alt=4.99 m\n",
      "Vehicle 1: 📍 Position: lat=-35.3632717, lon=149.1651582, alt=4.99 m\n",
      "Vehicle 1: 📍 Position: lat=-35.3632728, lon=149.1651600, alt=4.99 m\n",
      "Vehicle 1: 📍 Position: lat=-35.3632728, lon=149.1651600, alt=4.99 m\n",
      "Vehicle 1: 📍 Position: lat=-35.3632738, lon=149.1651616, alt=4.99 m\n",
      "Vehicle 1: 📍 Position: lat=-35.3632738, lon=149.1651616, alt=4.99 m\n",
      "Vehicle 1: 📍 Position: lat=-35.3632748, lon=149.1651631, alt=4.99 m\n",
      "Vehicle 1: 📍 Position: lat=-35.3632748, lon=149.1651631, alt=4.99 m\n",
      "Vehicle 1: 📍 Position: lat=-35.3632756, lon=149.1651644, alt=4.99 m\n",
      "Vehicle 1: 📍 Position: lat=-35.3632764, lon=149.1651657, alt=4.99 m\n",
      "Vehicle 1: 📍 Position: lat=-35.3632764, lon=149.1651657, alt=4.99 m\n",
      "Vehicle 1: 📍 Position: lat=-35.3632770, lon=149.1651667, alt=4.99 m\n",
      "Vehicle 1: 📍 Position: lat=-35.3632770, lon=149.1651667, alt=4.99 m\n",
      "Vehicle 1: 📍 Position: lat=-35.3632776, lon=149.1651677, alt=4.99 m\n",
      "Vehicle 1: 📍 Position: lat=-35.3632781, lon=149.1651685, alt=4.99 m\n",
      "Vehicle 1: 📍 Position: lat=-35.3632785, lon=149.1651692, alt=4.99 m\n",
      "Vehicle 1: 📍 Position: lat=-35.3632785, lon=149.1651692, alt=4.99 m\n",
      "Vehicle 1: 📍 Position: lat=-35.3632788, lon=149.1651697, alt=4.99 m\n",
      "Vehicle 1: 📍 Position: lat=-35.3632788, lon=149.1651697, alt=4.99 m\n",
      "Vehicle 1: 📍 Position: lat=-35.3632791, lon=149.1651701, alt=4.99 m\n",
      "Vehicle 1: 📍 Position: lat=-35.3632791, lon=149.1651701, alt=4.99 m\n",
      "Vehicle 1: 📍 Position: lat=-35.3632793, lon=149.1651705, alt=4.99 m\n",
      "Vehicle 1: 📍 Position: lat=-35.3632793, lon=149.1651705, alt=4.99 m\n",
      "Vehicle 1: 📍 Position: lat=-35.3632795, lon=149.1651707, alt=4.99 m\n",
      "Vehicle 1: 📍 Position: lat=-35.3632795, lon=149.1651707, alt=4.99 m\n",
      "Vehicle 1: 📍 Position: lat=-35.3632796, lon=149.1651708, alt=4.99 m\n",
      "Vehicle 1: 📍 Position: lat=-35.3632796, lon=149.1651708, alt=4.99 m\n",
      "Vehicle 1: 📍 Position: lat=-35.3632797, lon=149.1651709, alt=4.99 m\n",
      "Vehicle 1: 📍 Position: lat=-35.3632797, lon=149.1651709, alt=4.99 m\n",
      "Vehicle 1: 📍 Position: lat=-35.3632798, lon=149.1651709, alt=4.99 m\n",
      "Vehicle 1: 📍 Position: lat=-35.3632798, lon=149.1651709, alt=4.99 m\n",
      "Vehicle 1: 📍 Position: lat=-35.3632798, lon=149.1651709, alt=4.99 m\n",
      "Vehicle 1: 📍 Position: lat=-35.3632798, lon=149.1651709, alt=4.99 m\n",
      "Vehicle 1: 📍 Position: lat=-35.3632798, lon=149.1651708, alt=4.99 m\n",
      "Vehicle 1: 📍 Position: lat=-35.3632798, lon=149.1651708, alt=4.99 m\n",
      "Vehicle 1: 📍 Position: lat=-35.3632799, lon=149.1651708, alt=4.98 m\n",
      "Vehicle 1: 📍 Position: lat=-35.3632799, lon=149.1651707, alt=4.98 m\n",
      "Vehicle 1: 📍 Position: lat=-35.3632799, lon=149.1651707, alt=4.98 m\n",
      "Vehicle 1: 📍 Position: lat=-35.3632799, lon=149.1651706, alt=4.98 m\n",
      "Vehicle 1: 📍 Position: lat=-35.3632799, lon=149.1651705, alt=4.98 m\n",
      "Vehicle 1: 📍 Position: lat=-35.3632799, lon=149.1651705, alt=4.98 m\n",
      "Vehicle 1: 📍 Position: lat=-35.3632799, lon=149.1651703, alt=4.98 m\n",
      "Vehicle 1: 📍 Position: lat=-35.3632799, lon=149.1651703, alt=4.98 m\n",
      "Vehicle 1: 📌 Reached waypoint: 5\n",
      "Vehicle 1: 📍 Position: lat=-35.3632799, lon=149.1651702, alt=4.98 m\n",
      "Vehicle 1: 📍 Position: lat=-35.3632799, lon=149.1651702, alt=4.98 m\n",
      "Vehicle 1: 📍 Position: lat=-35.3632799, lon=149.1651702, alt=4.98 m\n",
      "Vehicle 1: 📍 Position: lat=-35.3632799, lon=149.1651702, alt=4.98 m\n",
      "Vehicle 1: 📍 Position: lat=-35.3632800, lon=149.1651701, alt=4.98 m\n",
      "Vehicle 1: 📍 Position: lat=-35.3632800, lon=149.1651701, alt=4.98 m\n",
      "Vehicle 1: 📍 Position: lat=-35.3632800, lon=149.1651701, alt=4.98 m\n",
      "Vehicle 1: 📍 Position: lat=-35.3632800, lon=149.1651700, alt=4.98 m\n",
      "Vehicle 1: 📍 Position: lat=-35.3632800, lon=149.1651700, alt=4.98 m\n",
      "Vehicle 1: 📍 Position: lat=-35.3632800, lon=149.1651700, alt=4.98 m\n",
      "Vehicle 1: 📍 Position: lat=-35.3632800, lon=149.1651700, alt=4.98 m\n",
      "Vehicle 1: 📍 Position: lat=-35.3632800, lon=149.1651701, alt=4.98 m\n",
      "Vehicle 1: 📍 Position: lat=-35.3632800, lon=149.1651701, alt=4.98 mVehicle 1: 📍 Position: lat=-35.3632800, lon=149.1651701, alt=4.98 m\n",
      "\n",
      "Vehicle 1: 📍 Position: lat=-35.3632800, lon=149.1651702, alt=4.98 mVehicle 1: 📍 Position: lat=-35.3632800, lon=149.1651702, alt=4.98 m\n",
      "\n",
      "Vehicle 1: 📍 Position: lat=-35.3632800, lon=149.1651704, alt=4.98 m\n",
      "Vehicle 1: 📍 Position: lat=-35.3632800, lon=149.1651704, alt=4.98 m\n",
      "Vehicle 1: 📍 Position: lat=-35.3632800, lon=149.1651705, alt=4.98 m\n",
      "Vehicle 1: 📍 Position: lat=-35.3632800, lon=149.1651706, alt=4.98 m\n",
      "Vehicle 1: 📍 Position: lat=-35.3632800, lon=149.1651706, alt=4.98 m\n",
      "Vehicle 1: 📍 Position: lat=-35.3632799, lon=149.1651708, alt=4.98 m\n",
      "Vehicle 1: 📍 Position: lat=-35.3632799, lon=149.1651708, alt=4.98 m\n",
      "Vehicle 1: 📍 Position: lat=-35.3632799, lon=149.1651709, alt=4.97 m\n",
      "Vehicle 1: 📍 Position: lat=-35.3632798, lon=149.1651711, alt=4.97 m\n",
      "Vehicle 1: 📍 Position: lat=-35.3632798, lon=149.1651711, alt=4.97 m\n",
      "Vehicle 1: 📍 Position: lat=-35.3632798, lon=149.1651712, alt=4.97 m\n",
      "Vehicle 1: 📍 Position: lat=-35.3632798, lon=149.1651714, alt=4.97 m\n",
      "Vehicle 1: 📍 Position: lat=-35.3632798, lon=149.1651714, alt=4.97 m\n",
      "Vehicle 1: 📍 Position: lat=-35.3632797, lon=149.1651716, alt=4.96 m\n",
      "Vehicle 1: 📍 Position: lat=-35.3632797, lon=149.1651717, alt=4.96 m\n",
      "Vehicle 1: 📍 Position: lat=-35.3632796, lon=149.1651719, alt=4.96 m\n",
      "Vehicle 1: 📍 Position: lat=-35.3632795, lon=149.1651720, alt=4.96 m\n",
      "Vehicle 1: 📍 Position: lat=-35.3632795, lon=149.1651720, alt=4.96 m\n",
      "Vehicle 1: 📍 Position: lat=-35.3632794, lon=149.1651722, alt=4.96 m\n",
      "Vehicle 1: 📍 Position: lat=-35.3632794, lon=149.1651722, alt=4.96 m\n",
      "Vehicle 1: 📍 Position: lat=-35.3632793, lon=149.1651723, alt=4.97 m\n",
      "Vehicle 1: 📍 Position: lat=-35.3632792, lon=149.1651725, alt=4.97 m\n",
      "Vehicle 1: 📍 Position: lat=-35.3632791, lon=149.1651727, alt=4.97 m\n",
      "Vehicle 1: 📍 Position: lat=-35.3632791, lon=149.1651727, alt=4.97 m\n",
      "Vehicle 1: 📍 Position: lat=-35.3632789, lon=149.1651727, alt=4.97 m\n",
      "Vehicle 1: 📍 Position: lat=-35.3632789, lon=149.1651727, alt=4.97 m\n",
      "Vehicle 1: 📍 Position: lat=-35.3632789, lon=149.1651728, alt=4.97 m\n",
      "Vehicle 1: 📍 Position: lat=-35.3632789, lon=149.1651729, alt=4.97 m\n",
      "Vehicle 1: 📍 Position: lat=-35.3632789, lon=149.1651729, alt=4.97 m\n",
      "Vehicle 1: 📍 Position: lat=-35.3632788, lon=149.1651730, alt=4.97 m\n",
      "Vehicle 1: 📍 Position: lat=-35.3632787, lon=149.1651731, alt=4.97 m\n",
      "Vehicle 1: 📍 Position: lat=-35.3632787, lon=149.1651732, alt=4.97 m\n",
      "Vehicle 1: 📍 Position: lat=-35.3632787, lon=149.1651732, alt=4.97 m\n",
      "Vehicle 1: 📍 Position: lat=-35.3632786, lon=149.1651733, alt=4.97 m\n",
      "Vehicle 1: 📍 Position: lat=-35.3632786, lon=149.1651733, alt=4.97 m\n",
      "Vehicle 1: 📍 Position: lat=-35.3632785, lon=149.1651734, alt=4.97 m\n",
      "Vehicle 1: 📍 Position: lat=-35.3632785, lon=149.1651734, alt=4.97 m\n",
      "Vehicle 1: 📍 Position: lat=-35.3632784, lon=149.1651735, alt=4.97 m\n",
      "Vehicle 1: 📍 Position: lat=-35.3632784, lon=149.1651735, alt=4.97 m\n",
      "Vehicle 1: 📍 Position: lat=-35.3632783, lon=149.1651736, alt=4.97 m\n",
      "Vehicle 1: 📍 Position: lat=-35.3632783, lon=149.1651736, alt=4.97 m\n",
      "Vehicle 1: 📍 Position: lat=-35.3632783, lon=149.1651736, alt=4.97 m\n",
      "Vehicle 1: 📍 Position: lat=-35.3632783, lon=149.1651736, alt=4.97 m\n",
      "Vehicle 1: 📍 Position: lat=-35.3632783, lon=149.1651736, alt=4.97 m\n",
      "Vehicle 1: 📍 Position: lat=-35.3632783, lon=149.1651736, alt=4.97 m\n",
      "Vehicle 1: 📍 Position: lat=-35.3632783, lon=149.1651736, alt=4.97 m\n",
      "Vehicle 1: 📍 Position: lat=-35.3632783, lon=149.1651736, alt=4.97 m\n",
      "Vehicle 1: 📍 Position: lat=-35.3632782, lon=149.1651736, alt=4.97 m\n",
      "Vehicle 1: 📍 Position: lat=-35.3632783, lon=149.1651736, alt=4.97 m\n",
      "Vehicle 1: 📍 Position: lat=-35.3632783, lon=149.1651736, alt=4.97 m\n",
      "Vehicle 1: 📍 Position: lat=-35.3632783, lon=149.1651736, alt=4.97 m\n",
      "Vehicle 1: 📍 Position: lat=-35.3632783, lon=149.1651735, alt=4.97 m\n",
      "Vehicle 1: 📍 Position: lat=-35.3632783, lon=149.1651735, alt=4.97 m\n",
      "Vehicle 1: 📍 Position: lat=-35.3632783, lon=149.1651735, alt=4.97 m\n",
      "Vehicle 1: 📍 Position: lat=-35.3632783, lon=149.1651734, alt=4.97 m\n",
      "Vehicle 1: 📍 Position: lat=-35.3632784, lon=149.1651734, alt=4.97 m\n",
      "Vehicle 1: 📍 Position: lat=-35.3632784, lon=149.1651734, alt=4.97 m\n",
      "Vehicle 1: 📍 Position: lat=-35.3632784, lon=149.1651734, alt=4.97 m\n",
      "Vehicle 1: 📍 Position: lat=-35.3632784, lon=149.1651733, alt=4.97 m\n",
      "Vehicle 1: 📍 Position: lat=-35.3632784, lon=149.1651733, alt=4.97 m\n",
      "Vehicle 1: 📍 Position: lat=-35.3632785, lon=149.1651733, alt=4.97 m\n",
      "Vehicle 1: 📍 Position: lat=-35.3632785, lon=149.1651733, alt=4.97 m\n",
      "Vehicle 1: 📍 Position: lat=-35.3632785, lon=149.1651732, alt=4.97 m\n",
      "Vehicle 1: 📍 Position: lat=-35.3632785, lon=149.1651732, alt=4.97 m\n",
      "Vehicle 1: 📍 Position: lat=-35.3632786, lon=149.1651732, alt=4.97 m\n",
      "Vehicle 1: 📍 Position: lat=-35.3632786, lon=149.1651732, alt=4.97 m\n",
      "Vehicle 1: 📍 Position: lat=-35.3632786, lon=149.1651731, alt=4.97 m\n",
      "Vehicle 1: 📍 Position: lat=-35.3632786, lon=149.1651731, alt=4.97 m\n",
      "Vehicle 1: 📍 Position: lat=-35.3632787, lon=149.1651731, alt=4.97 m\n",
      "Vehicle 1: 📍 Position: lat=-35.3632787, lon=149.1651731, alt=4.97 m\n",
      "Vehicle 1: 📍 Position: lat=-35.3632787, lon=149.1651730, alt=4.97 m\n",
      "Vehicle 1: 📍 Position: lat=-35.3632787, lon=149.1651730, alt=4.97 m\n",
      "Vehicle 1: 📍 Position: lat=-35.3632788, lon=149.1651729, alt=4.97 m\n",
      "Vehicle 1: 📍 Position: lat=-35.3632788, lon=149.1651729, alt=4.97 m\n",
      "Vehicle 1: 📍 Position: lat=-35.3632788, lon=149.1651729, alt=4.97 m\n",
      "Vehicle 1: 📍 Position: lat=-35.3632789, lon=149.1651728, alt=4.97 m\n",
      "Vehicle 1: 📍 Position: lat=-35.3632790, lon=149.1651728, alt=4.97 m\n",
      "Vehicle 1: 📍 Position: lat=-35.3632790, lon=149.1651728, alt=4.97 m\n",
      "Vehicle 1: 📍 Position: lat=-35.3632790, lon=149.1651727, alt=4.97 m\n",
      "Vehicle 1: 📍 Position: lat=-35.3632790, lon=149.1651727, alt=4.97 m\n",
      "Vehicle 1: 📍 Position: lat=-35.3632791, lon=149.1651726, alt=4.97 m\n",
      "Vehicle 1: 📍 Position: lat=-35.3632792, lon=149.1651726, alt=4.97 m\n",
      "Vehicle 1: 📍 Position: lat=-35.3632792, lon=149.1651726, alt=4.97 m\n",
      "Vehicle 1: 📍 Position: lat=-35.3632792, lon=149.1651725, alt=4.97 m\n",
      "Vehicle 1: 📍 Position: lat=-35.3632793, lon=149.1651724, alt=4.97 m\n",
      "Vehicle 1: 📍 Position: lat=-35.3632793, lon=149.1651724, alt=4.97 m\n",
      "Vehicle 1: 📍 Position: lat=-35.3632793, lon=149.1651724, alt=4.97 m\n",
      "Vehicle 1: 📍 Position: lat=-35.3632794, lon=149.1651723, alt=4.97 m\n",
      "Vehicle 1: 📍 Position: lat=-35.3632794, lon=149.1651723, alt=4.97 m\n",
      "Vehicle 1: 📍 Position: lat=-35.3632794, lon=149.1651723, alt=4.97 m\n",
      "Vehicle 1: 📍 Position: lat=-35.3632794, lon=149.1651723, alt=4.97 m\n",
      "Vehicle 1: 📍 Position: lat=-35.3632795, lon=149.1651722, alt=4.97 m\n",
      "Vehicle 1: 📍 Position: lat=-35.3632795, lon=149.1651722, alt=4.97 m\n",
      "Vehicle 1: 📍 Position: lat=-35.3632795, lon=149.1651721, alt=4.97 m\n",
      "Vehicle 1: 📍 Position: lat=-35.3632795, lon=149.1651721, alt=4.97 m\n",
      "Vehicle 1: 📍 Position: lat=-35.3632796, lon=149.1651721, alt=4.97 m\n",
      "Vehicle 1: 📍 Position: lat=-35.3632796, lon=149.1651721, alt=4.97 m\n",
      "Vehicle 1: 📍 Position: lat=-35.3632796, lon=149.1651720, alt=4.97 m\n",
      "Vehicle 1: 📍 Position: lat=-35.3632797, lon=149.1651720, alt=4.97 m\n",
      "Vehicle 1: 📍 Position: lat=-35.3632797, lon=149.1651720, alt=4.97 m\n",
      "Vehicle 1: 📍 Position: lat=-35.3632797, lon=149.1651719, alt=4.97 m\n",
      "Vehicle 1: 📍 Position: lat=-35.3632797, lon=149.1651719, alt=4.97 m\n",
      "Vehicle 1: 📍 Position: lat=-35.3632798, lon=149.1651719, alt=4.97 m\n",
      "Vehicle 1: 📍 Position: lat=-35.3632798, lon=149.1651718, alt=4.97 m\n",
      "Vehicle 1: 📍 Position: lat=-35.3632798, lon=149.1651718, alt=4.97 m\n",
      "Vehicle 1: 📍 Position: lat=-35.3632799, lon=149.1651717, alt=4.97 m\n",
      "Vehicle 1: 📍 Position: lat=-35.3632799, lon=149.1651717, alt=4.97 m\n",
      "Vehicle 1: 📍 Position: lat=-35.3632799, lon=149.1651717, alt=4.97 m\n",
      "Vehicle 1: 📍 Position: lat=-35.3632799, lon=149.1651717, alt=4.97 m\n",
      "Vehicle 1: 📍 Position: lat=-35.3632799, lon=149.1651717, alt=4.97 m\n",
      "Vehicle 1: 📍 Position: lat=-35.3632799, lon=149.1651717, alt=4.97 m\n",
      "Vehicle 1: 📍 Position: lat=-35.3632800, lon=149.1651717, alt=4.97 m\n",
      "Vehicle 1: 📍 Position: lat=-35.3632800, lon=149.1651717, alt=4.97 m\n",
      "Vehicle 1: 📍 Position: lat=-35.3632800, lon=149.1651716, alt=4.97 m\n",
      "Vehicle 1: 📍 Position: lat=-35.3632800, lon=149.1651716, alt=4.97 m\n",
      "Vehicle 1: 📍 Position: lat=-35.3632801, lon=149.1651716, alt=4.97 m\n",
      "Vehicle 1: 📍 Position: lat=-35.3632801, lon=149.1651716, alt=4.97 m\n",
      "Vehicle 1: 📍 Position: lat=-35.3632801, lon=149.1651715, alt=4.97 m\n",
      "Vehicle 1: 📍 Position: lat=-35.3632801, lon=149.1651715, alt=4.97 m\n",
      "Vehicle 1: 📍 Position: lat=-35.3632802, lon=149.1651714, alt=4.97 m\n",
      "Vehicle 1: 📍 Position: lat=-35.3632803, lon=149.1651714, alt=4.97 m\n",
      "Vehicle 1: 📍 Position: lat=-35.3632803, lon=149.1651714, alt=4.97 m\n",
      "Vehicle 1: 📍 Position: lat=-35.3632803, lon=149.1651714, alt=4.97 m\n",
      "Vehicle 1: 📍 Position: lat=-35.3632803, lon=149.1651714, alt=4.97 m\n",
      "Vehicle 1: 📍 Position: lat=-35.3632803, lon=149.1651714, alt=4.97 m\n",
      "Vehicle 1: 📍 Position: lat=-35.3632803, lon=149.1651714, alt=4.97 m\n",
      "Vehicle 1: 📍 Position: lat=-35.3632803, lon=149.1651714, alt=4.97 m\n",
      "Vehicle 1: 📍 Position: lat=-35.3632803, lon=149.1651714, alt=4.97 m\n",
      "Vehicle 1: 📍 Position: lat=-35.3632803, lon=149.1651714, alt=4.97 m\n",
      "Vehicle 1: 📍 Position: lat=-35.3632803, lon=149.1651714, alt=4.97 m\n",
      "Vehicle 1: 📍 Position: lat=-35.3632803, lon=149.1651714, alt=4.97 m\n",
      "Vehicle 1: 📍 Position: lat=-35.3632803, lon=149.1651714, alt=4.97 m\n",
      "Vehicle 1: 📍 Position: lat=-35.3632803, lon=149.1651714, alt=4.97 m\n",
      "Vehicle 1: 📍 Position: lat=-35.3632803, lon=149.1651713, alt=4.97 m\n",
      "Vehicle 1: 📍 Position: lat=-35.3632803, lon=149.1651713, alt=4.97 m\n",
      "Vehicle 1: 📍 Position: lat=-35.3632804, lon=149.1651712, alt=4.97 m\n",
      "Vehicle 1: 📍 Position: lat=-35.3632804, lon=149.1651712, alt=4.97 m\n",
      "Vehicle 1: 📍 Position: lat=-35.3632804, lon=149.1651712, alt=4.96 m\n",
      "Vehicle 1: 📍 Position: lat=-35.3632804, lon=149.1651712, alt=4.94 m\n",
      "Vehicle 1: 📍 Position: lat=-35.3632804, lon=149.1651712, alt=4.94 m\n",
      "Vehicle 1: 📍 Position: lat=-35.3632804, lon=149.1651712, alt=4.91 m\n",
      "Vehicle 1: 📍 Position: lat=-35.3632804, lon=149.1651712, alt=4.91 m\n",
      "Vehicle 1: 📍 Position: lat=-35.3632804, lon=149.1651712, alt=4.87 m\n",
      "Vehicle 1: 📍 Position: lat=-35.3632804, lon=149.1651712, alt=4.83 m\n",
      "Vehicle 1: 📍 Position: lat=-35.3632804, lon=149.1651712, alt=4.83 m\n",
      "Vehicle 1: 📍 Position: lat=-35.3632804, lon=149.1651712, alt=4.79 m\n",
      "Vehicle 1: 📍 Position: lat=-35.3632804, lon=149.1651712, alt=4.79 m\n",
      "Vehicle 1: 📍 Position: lat=-35.3632804, lon=149.1651712, alt=4.74 m\n",
      "Vehicle 1: 📍 Position: lat=-35.3632804, lon=149.1651712, alt=4.74 m\n",
      "Vehicle 1: 📍 Position: lat=-35.3632804, lon=149.1651712, alt=4.69 m\n",
      "Vehicle 1: 📍 Position: lat=-35.3632804, lon=149.1651712, alt=4.69 m\n",
      "Vehicle 1: 📍 Position: lat=-35.3632804, lon=149.1651712, alt=4.63 mVehicle 1: 📍 Position: lat=-35.3632804, lon=149.1651712, alt=4.63 m\n",
      "\n",
      "Vehicle 1: 📍 Position: lat=-35.3632805, lon=149.1651711, alt=4.58 m\n",
      "Vehicle 1: 📍 Position: lat=-35.3632805, lon=149.1651711, alt=4.58 m\n",
      "Vehicle 1: 📍 Position: lat=-35.3632805, lon=149.1651711, alt=4.52 m\n",
      "Vehicle 1: 📍 Position: lat=-35.3632805, lon=149.1651711, alt=4.52 m\n",
      "Vehicle 1: 📍 Position: lat=-35.3632805, lon=149.1651711, alt=4.47 m\n",
      "Vehicle 1: 📍 Position: lat=-35.3632805, lon=149.1651711, alt=4.41 m\n",
      "Vehicle 1: 📍 Position: lat=-35.3632805, lon=149.1651711, alt=4.41 m\n",
      "Vehicle 1: 📍 Position: lat=-35.3632805, lon=149.1651711, alt=4.36 m\n",
      "Vehicle 1: 📍 Position: lat=-35.3632805, lon=149.1651711, alt=4.36 m\n",
      "Vehicle 1: 📍 Position: lat=-35.3632805, lon=149.1651711, alt=4.31 m\n",
      "Vehicle 1: 📍 Position: lat=-35.3632805, lon=149.1651711, alt=4.31 m\n",
      "Vehicle 1: 📍 Position: lat=-35.3632805, lon=149.1651711, alt=4.26 m\n",
      "Vehicle 1: 📍 Position: lat=-35.3632805, lon=149.1651711, alt=4.21 m\n",
      "Vehicle 1: 📍 Position: lat=-35.3632805, lon=149.1651711, alt=4.16 m\n",
      "Vehicle 1: 📍 Position: lat=-35.3632805, lon=149.1651711, alt=4.11 m\n",
      "Vehicle 1: 📍 Position: lat=-35.3632805, lon=149.1651711, alt=4.11 m\n",
      "Vehicle 1: 📍 Position: lat=-35.3632804, lon=149.1651711, alt=4.06 m\n",
      "Vehicle 1: 📍 Position: lat=-35.3632804, lon=149.1651711, alt=4.06 m\n",
      "Vehicle 1: 📍 Position: lat=-35.3632804, lon=149.1651711, alt=4.01 m\n",
      "Vehicle 1: 📍 Position: lat=-35.3632804, lon=149.1651711, alt=4.01 m\n",
      "Vehicle 1: 📍 Position: lat=-35.3632804, lon=149.1651711, alt=3.96 m\n",
      "Vehicle 1: 📍 Position: lat=-35.3632804, lon=149.1651711, alt=3.91 m\n",
      "Vehicle 1: 📍 Position: lat=-35.3632804, lon=149.1651711, alt=3.91 m\n",
      "Vehicle 1: 📍 Position: lat=-35.3632804, lon=149.1651711, alt=3.86 m\n",
      "Vehicle 1: 📍 Position: lat=-35.3632804, lon=149.1651711, alt=3.86 m\n",
      "Vehicle 1: 📍 Position: lat=-35.3632804, lon=149.1651711, alt=3.81 m\n",
      "Vehicle 1: 📍 Position: lat=-35.3632804, lon=149.1651711, alt=3.81 m\n",
      "Vehicle 1: 📍 Position: lat=-35.3632804, lon=149.1651711, alt=3.75 m\n",
      "Vehicle 1: 📍 Position: lat=-35.3632804, lon=149.1651711, alt=3.75 m\n",
      "Vehicle 1: 📍 Position: lat=-35.3632804, lon=149.1651711, alt=3.70 m\n",
      "Vehicle 1: 📍 Position: lat=-35.3632804, lon=149.1651711, alt=3.70 m\n",
      "Vehicle 1: 📍 Position: lat=-35.3632804, lon=149.1651711, alt=3.65 m\n",
      "Vehicle 1: 📍 Position: lat=-35.3632804, lon=149.1651711, alt=3.60 m\n",
      "Vehicle 1: 📍 Position: lat=-35.3632804, lon=149.1651711, alt=3.60 m\n",
      "Vehicle 1: 📍 Position: lat=-35.3632804, lon=149.1651711, alt=3.55 m\n",
      "Vehicle 1: 📍 Position: lat=-35.3632804, lon=149.1651711, alt=3.55 m\n",
      "Vehicle 1: 📍 Position: lat=-35.3632804, lon=149.1651711, alt=3.50 m\n",
      "Vehicle 1: 📍 Position: lat=-35.3632804, lon=149.1651711, alt=3.50 m\n",
      "Vehicle 1: 📍 Position: lat=-35.3632804, lon=149.1651711, alt=3.45 m\n",
      "Vehicle 1: 📍 Position: lat=-35.3632804, lon=149.1651711, alt=3.45 m\n",
      "Vehicle 1: 📍 Position: lat=-35.3632804, lon=149.1651711, alt=3.40 m\n",
      "Vehicle 1: 📍 Position: lat=-35.3632804, lon=149.1651711, alt=3.40 m\n",
      "Vehicle 1: 📍 Position: lat=-35.3632804, lon=149.1651711, alt=3.35 m\n",
      "Vehicle 1: 📍 Position: lat=-35.3632804, lon=149.1651711, alt=3.35 m\n",
      "Vehicle 1: 📍 Position: lat=-35.3632805, lon=149.1651711, alt=3.30 m\n",
      "Vehicle 1: 📍 Position: lat=-35.3632805, lon=149.1651711, alt=3.25 m\n",
      "Vehicle 1: 📍 Position: lat=-35.3632805, lon=149.1651711, alt=3.21 m\n",
      "Vehicle 1: 📍 Position: lat=-35.3632805, lon=149.1651711, alt=3.16 mVehicle 1: 📍 Position: lat=-35.3632805, lon=149.1651711, alt=3.16 m\n",
      "\n",
      "Vehicle 1: 📍 Position: lat=-35.3632805, lon=149.1651711, alt=3.11 m\n",
      "Vehicle 1: 📍 Position: lat=-35.3632805, lon=149.1651711, alt=3.11 m\n",
      "Vehicle 1: 📍 Position: lat=-35.3632805, lon=149.1651711, alt=3.06 m\n",
      "Vehicle 1: 📍 Position: lat=-35.3632806, lon=149.1651710, alt=3.00 m\n",
      "Vehicle 1: 📍 Position: lat=-35.3632806, lon=149.1651710, alt=3.00 m\n",
      "Vehicle 1: 📍 Position: lat=-35.3632806, lon=149.1651710, alt=2.95 m\n",
      "Vehicle 1: 📍 Position: lat=-35.3632806, lon=149.1651710, alt=2.90 m\n",
      "Vehicle 1: 📍 Position: lat=-35.3632806, lon=149.1651710, alt=2.90 m\n",
      "Vehicle 1: 📍 Position: lat=-35.3632806, lon=149.1651710, alt=2.85 m\n",
      "Vehicle 1: 📍 Position: lat=-35.3632806, lon=149.1651710, alt=2.85 m\n",
      "Vehicle 1: 📍 Position: lat=-35.3632806, lon=149.1651709, alt=2.80 m\n",
      "Vehicle 1: 📍 Position: lat=-35.3632806, lon=149.1651709, alt=2.80 m\n",
      "Vehicle 1: 📍 Position: lat=-35.3632806, lon=149.1651709, alt=2.75 m\n",
      "Vehicle 1: 📍 Position: lat=-35.3632806, lon=149.1651709, alt=2.75 m\n",
      "Vehicle 1: 📍 Position: lat=-35.3632806, lon=149.1651709, alt=2.70 m\n",
      "Vehicle 1: 📍 Position: lat=-35.3632806, lon=149.1651709, alt=2.70 m\n",
      "Vehicle 1: 📍 Position: lat=-35.3632806, lon=149.1651709, alt=2.65 m\n",
      "Vehicle 1: 📍 Position: lat=-35.3632806, lon=149.1651709, alt=2.65 m\n",
      "Vehicle 1: 📍 Position: lat=-35.3632806, lon=149.1651709, alt=2.60 m\n",
      "Vehicle 1: 📍 Position: lat=-35.3632806, lon=149.1651709, alt=2.60 m\n",
      "Vehicle 1: 📍 Position: lat=-35.3632806, lon=149.1651709, alt=2.55 m\n",
      "Vehicle 1: 📍 Position: lat=-35.3632806, lon=149.1651709, alt=2.55 m\n",
      "Vehicle 1: 📍 Position: lat=-35.3632808, lon=149.1651707, alt=2.50 m\n",
      "Vehicle 1: 📍 Position: lat=-35.3632808, lon=149.1651707, alt=2.50 m\n",
      "Vehicle 1: 📍 Position: lat=-35.3632808, lon=149.1651707, alt=2.44 m\n",
      "Vehicle 1: 📍 Position: lat=-35.3632808, lon=149.1651707, alt=2.44 m\n",
      "Vehicle 1: 📍 Position: lat=-35.3632808, lon=149.1651707, alt=2.39 m\n",
      "Vehicle 1: 📍 Position: lat=-35.3632808, lon=149.1651707, alt=2.34 m\n",
      "Vehicle 1: 📍 Position: lat=-35.3632808, lon=149.1651707, alt=2.34 m\n",
      "Vehicle 1: 📍 Position: lat=-35.3632808, lon=149.1651707, alt=2.29 m\n",
      "Vehicle 1: 📍 Position: lat=-35.3632808, lon=149.1651707, alt=2.29 m\n",
      "Vehicle 1: 📍 Position: lat=-35.3632808, lon=149.1651707, alt=2.24 m\n",
      "Vehicle 1: 📍 Position: lat=-35.3632808, lon=149.1651707, alt=2.24 m\n",
      "Vehicle 1: 📍 Position: lat=-35.3632808, lon=149.1651708, alt=2.19 m\n",
      "Vehicle 1: 📍 Position: lat=-35.3632807, lon=149.1651708, alt=2.14 m\n",
      "Vehicle 1: 📍 Position: lat=-35.3632807, lon=149.1651708, alt=2.14 m\n",
      "Vehicle 1: 📍 Position: lat=-35.3632807, lon=149.1651709, alt=2.09 m\n",
      "Vehicle 1: 📍 Position: lat=-35.3632806, lon=149.1651709, alt=2.04 m\n",
      "Vehicle 1: 📍 Position: lat=-35.3632806, lon=149.1651709, alt=2.04 m\n",
      "Vehicle 1: 📍 Position: lat=-35.3632805, lon=149.1651710, alt=2.00 m\n",
      "Vehicle 1: 📍 Position: lat=-35.3632805, lon=149.1651711, alt=1.95 m\n",
      "Vehicle 1: 📍 Position: lat=-35.3632805, lon=149.1651711, alt=1.95 m\n",
      "Vehicle 1: 📍 Position: lat=-35.3632804, lon=149.1651712, alt=1.90 m\n",
      "Vehicle 1: 📍 Position: lat=-35.3632804, lon=149.1651712, alt=1.90 m\n",
      "Vehicle 1: 📍 Position: lat=-35.3632803, lon=149.1651713, alt=1.84 m\n",
      "Vehicle 1: 📍 Position: lat=-35.3632803, lon=149.1651713, alt=1.84 m\n",
      "Vehicle 1: 📍 Position: lat=-35.3632801, lon=149.1651714, alt=1.79 m\n",
      "Vehicle 1: 📍 Position: lat=-35.3632801, lon=149.1651714, alt=1.79 m\n",
      "Vehicle 1: 📍 Position: lat=-35.3632800, lon=149.1651715, alt=1.73 m\n",
      "Vehicle 1: 📍 Position: lat=-35.3632799, lon=149.1651717, alt=1.68 m\n",
      "Vehicle 1: 📍 Position: lat=-35.3632799, lon=149.1651717, alt=1.68 m\n",
      "Vehicle 1: 📍 Position: lat=-35.3632797, lon=149.1651718, alt=1.63 m\n",
      "Vehicle 1: 📍 Position: lat=-35.3632796, lon=149.1651719, alt=1.59 m\n",
      "Vehicle 1: 📍 Position: lat=-35.3632795, lon=149.1651720, alt=1.54 m\n",
      "Vehicle 1: 📍 Position: lat=-35.3632795, lon=149.1651720, alt=1.54 m\n",
      "Vehicle 1: 📍 Position: lat=-35.3632793, lon=149.1651723, alt=1.50 m\n",
      "Vehicle 1: 📍 Position: lat=-35.3632792, lon=149.1651724, alt=1.45 m\n",
      "Vehicle 1: 📍 Position: lat=-35.3632792, lon=149.1651724, alt=1.45 m\n",
      "Vehicle 1: 📍 Position: lat=-35.3632792, lon=149.1651724, alt=1.40 m\n",
      "Vehicle 1: 📍 Position: lat=-35.3632792, lon=149.1651724, alt=1.40 m\n",
      "Vehicle 1: 📍 Position: lat=-35.3632791, lon=149.1651724, alt=1.36 m\n",
      "Vehicle 1: 📍 Position: lat=-35.3632791, lon=149.1651724, alt=1.36 m\n",
      "Vehicle 1: 📍 Position: lat=-35.3632791, lon=149.1651725, alt=1.31 m\n",
      "Vehicle 1: 📍 Position: lat=-35.3632791, lon=149.1651725, alt=1.31 m\n",
      "Vehicle 1: 📍 Position: lat=-35.3632790, lon=149.1651726, alt=1.26 m\n",
      "Vehicle 1: 📍 Position: lat=-35.3632790, lon=149.1651726, alt=1.26 m\n",
      "Vehicle 1: 📍 Position: lat=-35.3632790, lon=149.1651726, alt=1.21 m\n",
      "Vehicle 1: 📍 Position: lat=-35.3632790, lon=149.1651726, alt=1.21 m\n",
      "Vehicle 1: 📍 Position: lat=-35.3632789, lon=149.1651726, alt=1.16 m\n",
      "Vehicle 1: 📍 Position: lat=-35.3632789, lon=149.1651727, alt=1.11 m\n",
      "Vehicle 1: 📍 Position: lat=-35.3632789, lon=149.1651727, alt=1.11 m\n",
      "Vehicle 1: 📍 Position: lat=-35.3632789, lon=149.1651727, alt=1.06 m\n",
      "Vehicle 1: 📍 Position: lat=-35.3632788, lon=149.1651728, alt=1.01 m\n",
      "Vehicle 1: 📍 Position: lat=-35.3632788, lon=149.1651728, alt=0.96 m\n",
      "Vehicle 1: 📍 Position: lat=-35.3632788, lon=149.1651728, alt=0.90 m\n",
      "Vehicle 1: 📍 Position: lat=-35.3632788, lon=149.1651728, alt=0.90 m\n",
      "Vehicle 1: 📍 Position: lat=-35.3632788, lon=149.1651727, alt=0.85 m\n",
      "Vehicle 1: 📍 Position: lat=-35.3632789, lon=149.1651727, alt=0.80 m\n",
      "Vehicle 1: 📍 Position: lat=-35.3632789, lon=149.1651727, alt=0.80 m\n",
      "Vehicle 1: 📍 Position: lat=-35.3632789, lon=149.1651726, alt=0.75 m\n",
      "Vehicle 1: 📍 Position: lat=-35.3632789, lon=149.1651726, alt=0.75 m\n",
      "Vehicle 1: 📍 Position: lat=-35.3632789, lon=149.1651726, alt=0.70 m\n",
      "Vehicle 1: 📍 Position: lat=-35.3632789, lon=149.1651726, alt=0.70 m\n",
      "Vehicle 1: 📍 Position: lat=-35.3632790, lon=149.1651725, alt=0.65 m\n",
      "Vehicle 1: 📍 Position: lat=-35.3632790, lon=149.1651725, alt=0.65 m\n",
      "Vehicle 1: 📍 Position: lat=-35.3632790, lon=149.1651725, alt=0.59 m\n",
      "Vehicle 1: 📍 Position: lat=-35.3632791, lon=149.1651724, alt=0.54 m\n",
      "Vehicle 1: 📍 Position: lat=-35.3632792, lon=149.1651724, alt=0.48 m\n",
      "Vehicle 1: 📍 Position: lat=-35.3632792, lon=149.1651724, alt=0.48 m\n",
      "Vehicle 1: 📍 Position: lat=-35.3632792, lon=149.1651723, alt=0.42 m\n",
      "Vehicle 1: 📍 Position: lat=-35.3632793, lon=149.1651722, alt=0.37 m\n",
      "Vehicle 1: 📍 Position: lat=-35.3632794, lon=149.1651721, alt=0.32 m\n",
      "Vehicle 1: 📍 Position: lat=-35.3632794, lon=149.1651721, alt=0.32 m\n",
      "Vehicle 1: 📍 Position: lat=-35.3632795, lon=149.1651720, alt=0.27 m\n",
      "Vehicle 1: 📍 Position: lat=-35.3632796, lon=149.1651719, alt=0.23 m\n",
      "Vehicle 1: 📍 Position: lat=-35.3632796, lon=149.1651718, alt=0.18 m\n",
      "Vehicle 1: 📍 Position: lat=-35.3632797, lon=149.1651717, alt=0.14 m\n",
      "Vehicle 1: 📍 Position: lat=-35.3632797, lon=149.1651717, alt=0.14 m\n",
      "Vehicle 1: 📍 Position: lat=-35.3632798, lon=149.1651716, alt=0.09 m\n",
      "Vehicle 1: 📍 Position: lat=-35.3632799, lon=149.1651715, alt=0.05 m\n",
      "Vehicle 1: 📍 Position: lat=-35.3632800, lon=149.1651715, alt=0.00 m\n",
      "Vehicle 1: 📍 Position: lat=-35.3632801, lon=149.1651714, alt=-0.04 m\n",
      "Vehicle 1: 📍 Position: lat=-35.3632801, lon=149.1651714, alt=-0.04 m\n",
      "Vehicle 1: 📍 Position: lat=-35.3632801, lon=149.1651713, alt=-0.08 m\n",
      "Vehicle 1: 📍 Position: lat=-35.3632801, lon=149.1651713, alt=-0.08 m\n",
      "Vehicle 1: 📍 Position: lat=-35.3632801, lon=149.1651713, alt=-0.11 m\n",
      "Vehicle 1: 📍 Position: lat=-35.3632802, lon=149.1651714, alt=-0.13 m\n",
      "Vehicle 1: 📍 Position: lat=-35.3632802, lon=149.1651714, alt=-0.13 m\n",
      "Vehicle 1: 📍 Position: lat=-35.3632802, lon=149.1651715, alt=-0.15 m\n",
      "Vehicle 1: 📍 Position: lat=-35.3632802, lon=149.1651715, alt=-0.15 m\n",
      "Vehicle 1: 📍 Position: lat=-35.3632802, lon=149.1651715, alt=-0.16 m\n",
      "Vehicle 1: 📍 Position: lat=-35.3632802, lon=149.1651715, alt=-0.17 m\n",
      "Vehicle 1: 📍 Position: lat=-35.3632802, lon=149.1651715, alt=-0.18 m\n",
      "Vehicle 1: 📍 Position: lat=-35.3632802, lon=149.1651715, alt=-0.18 m\n",
      "Vehicle 1: 📍 Position: lat=-35.3632802, lon=149.1651715, alt=-0.20 m\n",
      "Vehicle 1: 📍 Position: lat=-35.3632802, lon=149.1651715, alt=-0.20 m\n",
      "Vehicle 1: 📍 Position: lat=-35.3632802, lon=149.1651715, alt=-0.20 m\n",
      "Vehicle 1: 📍 Position: lat=-35.3632802, lon=149.1651716, alt=-0.21 m\n",
      "Vehicle 1: 📍 Position: lat=-35.3632802, lon=149.1651716, alt=-0.22 m\n",
      "Vehicle 1: 📍 Position: lat=-35.3632801, lon=149.1651716, alt=-0.23 m\n",
      "Vehicle 1: 📍 Position: lat=-35.3632801, lon=149.1651716, alt=-0.23 m\n",
      "Vehicle 1: 📍 Position: lat=-35.3632801, lon=149.1651716, alt=-0.23 m\n",
      "Vehicle 1: 📍 Position: lat=-35.3632801, lon=149.1651717, alt=-0.24 m\n",
      "Vehicle 1: 📍 Position: lat=-35.3632801, lon=149.1651717, alt=-0.24 m\n",
      "Vehicle 1: 📍 Position: lat=-35.3632800, lon=149.1651717, alt=-0.24 m\n",
      "Vehicle 1: 📍 Position: lat=-35.3632800, lon=149.1651717, alt=-0.25 m\n",
      "Vehicle 1: 📍 Position: lat=-35.3632800, lon=149.1651717, alt=-0.25 m\n",
      "Vehicle 1: 📍 Position: lat=-35.3632799, lon=149.1651718, alt=-0.26 m\n",
      "Vehicle 1: 📍 Position: lat=-35.3632799, lon=149.1651718, alt=-0.26 m\n",
      "Vehicle 1: 📍 Position: lat=-35.3632799, lon=149.1651718, alt=-0.27 m\n",
      "Vehicle 1: 📍 Position: lat=-35.3632799, lon=149.1651718, alt=-0.27 m\n",
      "Vehicle 1: 📍 Position: lat=-35.3632799, lon=149.1651718, alt=-0.27 m\n",
      "Vehicle 1: 📍 Position: lat=-35.3632798, lon=149.1651718, alt=-0.27 m\n",
      "Vehicle 1: 📍 Position: lat=-35.3632798, lon=149.1651718, alt=-0.27 m\n",
      "Vehicle 1: 📍 Position: lat=-35.3632798, lon=149.1651718, alt=-0.28 m\n",
      "Vehicle 1: 📍 Position: lat=-35.3632798, lon=149.1651718, alt=-0.28 m\n",
      "Vehicle 1: 📍 Position: lat=-35.3632798, lon=149.1651718, alt=-0.28 m\n",
      "Vehicle 1: 📍 Position: lat=-35.3632797, lon=149.1651719, alt=-0.29 m\n",
      "Vehicle 1: 📍 Position: lat=-35.3632797, lon=149.1651719, alt=-0.29 m\n",
      "Vehicle 1: 📍 Position: lat=-35.3632797, lon=149.1651719, alt=-0.29 m\n",
      "Vehicle 1: 📍 Position: lat=-35.3632796, lon=149.1651719, alt=-0.30 m\n",
      "Vehicle 1: 📍 Position: lat=-35.3632796, lon=149.1651719, alt=-0.30 m\n",
      "Vehicle 1: 📍 Position: lat=-35.3632796, lon=149.1651719, alt=-0.30 m\n",
      "Vehicle 1: 📍 Position: lat=-35.3632796, lon=149.1651719, alt=-0.30 m\n",
      "Vehicle 1: 📍 Position: lat=-35.3632796, lon=149.1651719, alt=-0.30 m\n",
      "Vehicle 1: 🏁 Mission completed\n",
      "Vehicle 1: ✅ Step Done: monitoring\n",
      "Vehicle 1: 📍 Position: lat=-35.3632796, lon=149.1651719, alt=-0.30 m\n",
      "Vehicle 1: ✅ Action Done: 📤 UPLOAD_MISSION\n",
      "Vehicle 1: ✅ Plan Done: 📋 auto\n",
      "📤 GCS ← UAV 1: Sending DONE (attempt 1)\n",
      "Oracle ⚪: ✅ Vehicle 1 completed its mission\n",
      "✅ ACK received. DONE message acknowledged.\n",
      "📤 GCS ← UAV 1: Sending DONE (attempt 1)\n",
      "GCS GCS: ✅ Vehicle 1 completed its mission\n",
      "✅ All UAVs assigned to GCS GCS have completed their mission.\n",
      "💾 Trajectories saved to '/home/abeldg/uav-cyber-sim/data/trajectories_GCS.pkl'.\n",
      "✅ ACK received. DONE message acknowledged.\n",
      "❎ Vehicle 1 logic stopped.\n",
      "Connection reset or closed by peer on TCP socket\n"
     ]
    },
    {
     "name": "stdout",
     "output_type": "stream",
     "text": [
      "❎ Proxy 1 stopped.\n"
     ]
    }
   ],
   "source": [
    "while len(orac.conns):\n",
    "    for sysid in list(orac.conns.keys()):\n",
    "        if orac.is_plan_done(sysid):\n",
    "            orac.remove(sysid)"
   ]
  }
 ],
 "metadata": {
  "kernelspec": {
   "display_name": "uav-cyber-sim11",
   "language": "python",
   "name": "python3"
  },
  "language_info": {
   "codemirror_mode": {
    "name": "ipython",
    "version": 3
   },
   "file_extension": ".py",
   "mimetype": "text/x-python",
   "name": "python",
   "nbconvert_exporter": "python",
   "pygments_lexer": "ipython3",
   "version": "3.11.11"
  }
 },
 "nbformat": 4,
 "nbformat_minor": 2
}
