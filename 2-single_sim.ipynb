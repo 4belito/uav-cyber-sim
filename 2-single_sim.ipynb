{
 "cells": [
  {
   "cell_type": "markdown",
   "metadata": {},
   "source": [
    "## Auto mode (single uav)\n",
    "\n",
    "This is for testing propouses"
   ]
  },
  {
   "cell_type": "code",
   "execution_count": 1,
   "metadata": {},
   "outputs": [],
   "source": [
    "# Custom modules\n",
    "from config import Color\n",
    "from helpers import clean  #, local2global\n",
    "from mavlink.customtypes.location import ENUPose, GRAPose\n",
    "from plan import Plan\n",
    "from simulator import (\n",
    "    QGC,\n",
    "    ConfigGazebo,\n",
    "    ConfigNovis,\n",
    "    ConfigQGC,\n",
    "    Gazebo,\n",
    "    NoVisualizer,\n",
    "    Simulator,\n",
    ")\n",
    "\n",
    "clean()"
   ]
  },
  {
   "cell_type": "markdown",
   "metadata": {},
   "source": [
    "## Simulation Configuration"
   ]
  },
  {
   "cell_type": "code",
   "execution_count": 2,
   "metadata": {},
   "outputs": [],
   "source": [
    "gra_origin = GRAPose(lat=-35.3633280, lon=149.1652241,alt=0,heading=90)   # east, north, up, heading\n",
    "enu_origin = ENUPose(x=0, y=0, z=gra_origin.alt, heading=gra_origin.heading) \n",
    "\n",
    "base_home = ENUPose(5,5,0,45)\n",
    "base_path = Plan.create_square_path(side_len=10, alt=5,heading=0)\n",
    "\n",
    "color =Color.BLUE"
   ]
  },
  {
   "cell_type": "markdown",
   "metadata": {},
   "source": [
    "## Gazebo Congiguration"
   ]
  },
  {
   "cell_type": "code",
   "execution_count": 3,
   "metadata": {},
   "outputs": [
    {
     "data": {
      "application/vnd.plotly.v1+json": {
       "config": {
        "plotlyServerURL": "https://plot.ly"
       },
       "data": [
        {
         "marker": {
          "color": [
           "blue",
           "blue",
           "blue",
           "blue",
           "blue"
          ],
          "size": 6
         },
         "mode": "markers",
         "name": "trajectory 0",
         "type": "scatter3d",
         "x": [
          -5,
          -12.071067811865476,
          -19.14213562373095,
          -12.071067811865476,
          -5
         ],
         "y": [
          5,
          -2.0710678118654737,
          5.000000000000002,
          12.071067811865476,
          5
         ],
         "z": [
          5,
          5,
          5,
          5,
          5
         ]
        },
        {
         "marker": {
          "color": "white",
          "size": 8
         },
         "mode": "markers+text",
         "name": "origin",
         "text": [
          "origin"
         ],
         "textposition": "top center",
         "type": "scatter3d",
         "x": [
          0
         ],
         "y": [
          0
         ],
         "z": [
          0
         ]
        }
       ],
       "layout": {
        "height": 600,
        "scene": {
         "xaxis": {
          "range": [
           -22.970562748477143,
           3.8284271247461903
          ],
          "title": {
           "text": "x"
          }
         },
         "yaxis": {
          "range": [
           -4.899494936611664,
           14.899494936611665
          ],
          "title": {
           "text": "y"
          }
         },
         "zaxis": {
          "range": [
           0,
           6
          ],
          "title": {
           "text": "z"
          }
         }
        },
        "showlegend": true,
        "template": {
         "data": {
          "bar": [
           {
            "error_x": {
             "color": "#2a3f5f"
            },
            "error_y": {
             "color": "#2a3f5f"
            },
            "marker": {
             "line": {
              "color": "#E5ECF6",
              "width": 0.5
             },
             "pattern": {
              "fillmode": "overlay",
              "size": 10,
              "solidity": 0.2
             }
            },
            "type": "bar"
           }
          ],
          "barpolar": [
           {
            "marker": {
             "line": {
              "color": "#E5ECF6",
              "width": 0.5
             },
             "pattern": {
              "fillmode": "overlay",
              "size": 10,
              "solidity": 0.2
             }
            },
            "type": "barpolar"
           }
          ],
          "carpet": [
           {
            "aaxis": {
             "endlinecolor": "#2a3f5f",
             "gridcolor": "white",
             "linecolor": "white",
             "minorgridcolor": "white",
             "startlinecolor": "#2a3f5f"
            },
            "baxis": {
             "endlinecolor": "#2a3f5f",
             "gridcolor": "white",
             "linecolor": "white",
             "minorgridcolor": "white",
             "startlinecolor": "#2a3f5f"
            },
            "type": "carpet"
           }
          ],
          "choropleth": [
           {
            "colorbar": {
             "outlinewidth": 0,
             "ticks": ""
            },
            "type": "choropleth"
           }
          ],
          "contour": [
           {
            "colorbar": {
             "outlinewidth": 0,
             "ticks": ""
            },
            "colorscale": [
             [
              0,
              "#0d0887"
             ],
             [
              0.1111111111111111,
              "#46039f"
             ],
             [
              0.2222222222222222,
              "#7201a8"
             ],
             [
              0.3333333333333333,
              "#9c179e"
             ],
             [
              0.4444444444444444,
              "#bd3786"
             ],
             [
              0.5555555555555556,
              "#d8576b"
             ],
             [
              0.6666666666666666,
              "#ed7953"
             ],
             [
              0.7777777777777778,
              "#fb9f3a"
             ],
             [
              0.8888888888888888,
              "#fdca26"
             ],
             [
              1,
              "#f0f921"
             ]
            ],
            "type": "contour"
           }
          ],
          "contourcarpet": [
           {
            "colorbar": {
             "outlinewidth": 0,
             "ticks": ""
            },
            "type": "contourcarpet"
           }
          ],
          "heatmap": [
           {
            "colorbar": {
             "outlinewidth": 0,
             "ticks": ""
            },
            "colorscale": [
             [
              0,
              "#0d0887"
             ],
             [
              0.1111111111111111,
              "#46039f"
             ],
             [
              0.2222222222222222,
              "#7201a8"
             ],
             [
              0.3333333333333333,
              "#9c179e"
             ],
             [
              0.4444444444444444,
              "#bd3786"
             ],
             [
              0.5555555555555556,
              "#d8576b"
             ],
             [
              0.6666666666666666,
              "#ed7953"
             ],
             [
              0.7777777777777778,
              "#fb9f3a"
             ],
             [
              0.8888888888888888,
              "#fdca26"
             ],
             [
              1,
              "#f0f921"
             ]
            ],
            "type": "heatmap"
           }
          ],
          "histogram": [
           {
            "marker": {
             "pattern": {
              "fillmode": "overlay",
              "size": 10,
              "solidity": 0.2
             }
            },
            "type": "histogram"
           }
          ],
          "histogram2d": [
           {
            "colorbar": {
             "outlinewidth": 0,
             "ticks": ""
            },
            "colorscale": [
             [
              0,
              "#0d0887"
             ],
             [
              0.1111111111111111,
              "#46039f"
             ],
             [
              0.2222222222222222,
              "#7201a8"
             ],
             [
              0.3333333333333333,
              "#9c179e"
             ],
             [
              0.4444444444444444,
              "#bd3786"
             ],
             [
              0.5555555555555556,
              "#d8576b"
             ],
             [
              0.6666666666666666,
              "#ed7953"
             ],
             [
              0.7777777777777778,
              "#fb9f3a"
             ],
             [
              0.8888888888888888,
              "#fdca26"
             ],
             [
              1,
              "#f0f921"
             ]
            ],
            "type": "histogram2d"
           }
          ],
          "histogram2dcontour": [
           {
            "colorbar": {
             "outlinewidth": 0,
             "ticks": ""
            },
            "colorscale": [
             [
              0,
              "#0d0887"
             ],
             [
              0.1111111111111111,
              "#46039f"
             ],
             [
              0.2222222222222222,
              "#7201a8"
             ],
             [
              0.3333333333333333,
              "#9c179e"
             ],
             [
              0.4444444444444444,
              "#bd3786"
             ],
             [
              0.5555555555555556,
              "#d8576b"
             ],
             [
              0.6666666666666666,
              "#ed7953"
             ],
             [
              0.7777777777777778,
              "#fb9f3a"
             ],
             [
              0.8888888888888888,
              "#fdca26"
             ],
             [
              1,
              "#f0f921"
             ]
            ],
            "type": "histogram2dcontour"
           }
          ],
          "mesh3d": [
           {
            "colorbar": {
             "outlinewidth": 0,
             "ticks": ""
            },
            "type": "mesh3d"
           }
          ],
          "parcoords": [
           {
            "line": {
             "colorbar": {
              "outlinewidth": 0,
              "ticks": ""
             }
            },
            "type": "parcoords"
           }
          ],
          "pie": [
           {
            "automargin": true,
            "type": "pie"
           }
          ],
          "scatter": [
           {
            "fillpattern": {
             "fillmode": "overlay",
             "size": 10,
             "solidity": 0.2
            },
            "type": "scatter"
           }
          ],
          "scatter3d": [
           {
            "line": {
             "colorbar": {
              "outlinewidth": 0,
              "ticks": ""
             }
            },
            "marker": {
             "colorbar": {
              "outlinewidth": 0,
              "ticks": ""
             }
            },
            "type": "scatter3d"
           }
          ],
          "scattercarpet": [
           {
            "marker": {
             "colorbar": {
              "outlinewidth": 0,
              "ticks": ""
             }
            },
            "type": "scattercarpet"
           }
          ],
          "scattergeo": [
           {
            "marker": {
             "colorbar": {
              "outlinewidth": 0,
              "ticks": ""
             }
            },
            "type": "scattergeo"
           }
          ],
          "scattergl": [
           {
            "marker": {
             "colorbar": {
              "outlinewidth": 0,
              "ticks": ""
             }
            },
            "type": "scattergl"
           }
          ],
          "scattermap": [
           {
            "marker": {
             "colorbar": {
              "outlinewidth": 0,
              "ticks": ""
             }
            },
            "type": "scattermap"
           }
          ],
          "scattermapbox": [
           {
            "marker": {
             "colorbar": {
              "outlinewidth": 0,
              "ticks": ""
             }
            },
            "type": "scattermapbox"
           }
          ],
          "scatterpolar": [
           {
            "marker": {
             "colorbar": {
              "outlinewidth": 0,
              "ticks": ""
             }
            },
            "type": "scatterpolar"
           }
          ],
          "scatterpolargl": [
           {
            "marker": {
             "colorbar": {
              "outlinewidth": 0,
              "ticks": ""
             }
            },
            "type": "scatterpolargl"
           }
          ],
          "scatterternary": [
           {
            "marker": {
             "colorbar": {
              "outlinewidth": 0,
              "ticks": ""
             }
            },
            "type": "scatterternary"
           }
          ],
          "surface": [
           {
            "colorbar": {
             "outlinewidth": 0,
             "ticks": ""
            },
            "colorscale": [
             [
              0,
              "#0d0887"
             ],
             [
              0.1111111111111111,
              "#46039f"
             ],
             [
              0.2222222222222222,
              "#7201a8"
             ],
             [
              0.3333333333333333,
              "#9c179e"
             ],
             [
              0.4444444444444444,
              "#bd3786"
             ],
             [
              0.5555555555555556,
              "#d8576b"
             ],
             [
              0.6666666666666666,
              "#ed7953"
             ],
             [
              0.7777777777777778,
              "#fb9f3a"
             ],
             [
              0.8888888888888888,
              "#fdca26"
             ],
             [
              1,
              "#f0f921"
             ]
            ],
            "type": "surface"
           }
          ],
          "table": [
           {
            "cells": {
             "fill": {
              "color": "#EBF0F8"
             },
             "line": {
              "color": "white"
             }
            },
            "header": {
             "fill": {
              "color": "#C8D4E3"
             },
             "line": {
              "color": "white"
             }
            },
            "type": "table"
           }
          ]
         },
         "layout": {
          "annotationdefaults": {
           "arrowcolor": "#2a3f5f",
           "arrowhead": 0,
           "arrowwidth": 1
          },
          "autotypenumbers": "strict",
          "coloraxis": {
           "colorbar": {
            "outlinewidth": 0,
            "ticks": ""
           }
          },
          "colorscale": {
           "diverging": [
            [
             0,
             "#8e0152"
            ],
            [
             0.1,
             "#c51b7d"
            ],
            [
             0.2,
             "#de77ae"
            ],
            [
             0.3,
             "#f1b6da"
            ],
            [
             0.4,
             "#fde0ef"
            ],
            [
             0.5,
             "#f7f7f7"
            ],
            [
             0.6,
             "#e6f5d0"
            ],
            [
             0.7,
             "#b8e186"
            ],
            [
             0.8,
             "#7fbc41"
            ],
            [
             0.9,
             "#4d9221"
            ],
            [
             1,
             "#276419"
            ]
           ],
           "sequential": [
            [
             0,
             "#0d0887"
            ],
            [
             0.1111111111111111,
             "#46039f"
            ],
            [
             0.2222222222222222,
             "#7201a8"
            ],
            [
             0.3333333333333333,
             "#9c179e"
            ],
            [
             0.4444444444444444,
             "#bd3786"
            ],
            [
             0.5555555555555556,
             "#d8576b"
            ],
            [
             0.6666666666666666,
             "#ed7953"
            ],
            [
             0.7777777777777778,
             "#fb9f3a"
            ],
            [
             0.8888888888888888,
             "#fdca26"
            ],
            [
             1,
             "#f0f921"
            ]
           ],
           "sequentialminus": [
            [
             0,
             "#0d0887"
            ],
            [
             0.1111111111111111,
             "#46039f"
            ],
            [
             0.2222222222222222,
             "#7201a8"
            ],
            [
             0.3333333333333333,
             "#9c179e"
            ],
            [
             0.4444444444444444,
             "#bd3786"
            ],
            [
             0.5555555555555556,
             "#d8576b"
            ],
            [
             0.6666666666666666,
             "#ed7953"
            ],
            [
             0.7777777777777778,
             "#fb9f3a"
            ],
            [
             0.8888888888888888,
             "#fdca26"
            ],
            [
             1,
             "#f0f921"
            ]
           ]
          },
          "colorway": [
           "#636efa",
           "#EF553B",
           "#00cc96",
           "#ab63fa",
           "#FFA15A",
           "#19d3f3",
           "#FF6692",
           "#B6E880",
           "#FF97FF",
           "#FECB52"
          ],
          "font": {
           "color": "#2a3f5f"
          },
          "geo": {
           "bgcolor": "white",
           "lakecolor": "white",
           "landcolor": "#E5ECF6",
           "showlakes": true,
           "showland": true,
           "subunitcolor": "white"
          },
          "hoverlabel": {
           "align": "left"
          },
          "hovermode": "closest",
          "mapbox": {
           "style": "light"
          },
          "paper_bgcolor": "white",
          "plot_bgcolor": "#E5ECF6",
          "polar": {
           "angularaxis": {
            "gridcolor": "white",
            "linecolor": "white",
            "ticks": ""
           },
           "bgcolor": "#E5ECF6",
           "radialaxis": {
            "gridcolor": "white",
            "linecolor": "white",
            "ticks": ""
           }
          },
          "scene": {
           "xaxis": {
            "backgroundcolor": "#E5ECF6",
            "gridcolor": "white",
            "gridwidth": 2,
            "linecolor": "white",
            "showbackground": true,
            "ticks": "",
            "zerolinecolor": "white"
           },
           "yaxis": {
            "backgroundcolor": "#E5ECF6",
            "gridcolor": "white",
            "gridwidth": 2,
            "linecolor": "white",
            "showbackground": true,
            "ticks": "",
            "zerolinecolor": "white"
           },
           "zaxis": {
            "backgroundcolor": "#E5ECF6",
            "gridcolor": "white",
            "gridwidth": 2,
            "linecolor": "white",
            "showbackground": true,
            "ticks": "",
            "zerolinecolor": "white"
           }
          },
          "shapedefaults": {
           "line": {
            "color": "#2a3f5f"
           }
          },
          "ternary": {
           "aaxis": {
            "gridcolor": "white",
            "linecolor": "white",
            "ticks": ""
           },
           "baxis": {
            "gridcolor": "white",
            "linecolor": "white",
            "ticks": ""
           },
           "bgcolor": "#E5ECF6",
           "caxis": {
            "gridcolor": "white",
            "linecolor": "white",
            "ticks": ""
           }
          },
          "title": {
           "x": 0.05
          },
          "xaxis": {
           "automargin": true,
           "gridcolor": "white",
           "linecolor": "white",
           "ticks": "",
           "title": {
            "standoff": 15
           },
           "zerolinecolor": "white",
           "zerolinewidth": 2
          },
          "yaxis": {
           "automargin": true,
           "gridcolor": "white",
           "linecolor": "white",
           "ticks": "",
           "title": {
            "standoff": 15
           },
           "zerolinecolor": "white",
           "zerolinewidth": 2
          }
         }
        },
        "title": {
         "text": "Trajectories",
         "x": 0.5,
         "xanchor": "center"
        },
        "width": 800
       }
      }
     },
     "metadata": {},
     "output_type": "display_data"
    }
   ],
   "source": [
    "gaz_config = ConfigGazebo(origin= enu_origin,\n",
    "                          world_path=\"simulator/gazebo/worlds/runway.world\")\n",
    "\n",
    "gaz_config.add(base_path=base_path,base_home=base_home,color=color)\n",
    "gaz_config.show()"
   ]
  },
  {
   "cell_type": "markdown",
   "metadata": {},
   "source": [
    "## QGroundControl Configuration"
   ]
  },
  {
   "cell_type": "code",
   "execution_count": 4,
   "metadata": {},
   "outputs": [
    {
     "data": {
      "text/html": [
       "<div style=\"width:100%;\"><div style=\"position:relative;width:100%;height:0;padding-bottom:60%;\"><span style=\"color:#565656\">Make this Notebook Trusted to load map: File -> Trust Notebook</span><iframe srcdoc=\"&lt;!DOCTYPE html&gt;\n",
       "&lt;html&gt;\n",
       "&lt;head&gt;\n",
       "    \n",
       "    &lt;meta http-equiv=&quot;content-type&quot; content=&quot;text/html; charset=UTF-8&quot; /&gt;\n",
       "    &lt;script src=&quot;https://cdn.jsdelivr.net/npm/leaflet@1.9.3/dist/leaflet.js&quot;&gt;&lt;/script&gt;\n",
       "    &lt;script src=&quot;https://code.jquery.com/jquery-3.7.1.min.js&quot;&gt;&lt;/script&gt;\n",
       "    &lt;script src=&quot;https://cdn.jsdelivr.net/npm/bootstrap@5.2.2/dist/js/bootstrap.bundle.min.js&quot;&gt;&lt;/script&gt;\n",
       "    &lt;script src=&quot;https://cdnjs.cloudflare.com/ajax/libs/Leaflet.awesome-markers/2.0.2/leaflet.awesome-markers.js&quot;&gt;&lt;/script&gt;\n",
       "    &lt;link rel=&quot;stylesheet&quot; href=&quot;https://cdn.jsdelivr.net/npm/leaflet@1.9.3/dist/leaflet.css&quot;/&gt;\n",
       "    &lt;link rel=&quot;stylesheet&quot; href=&quot;https://cdn.jsdelivr.net/npm/bootstrap@5.2.2/dist/css/bootstrap.min.css&quot;/&gt;\n",
       "    &lt;link rel=&quot;stylesheet&quot; href=&quot;https://netdna.bootstrapcdn.com/bootstrap/3.0.0/css/bootstrap-glyphicons.css&quot;/&gt;\n",
       "    &lt;link rel=&quot;stylesheet&quot; href=&quot;https://cdn.jsdelivr.net/npm/@fortawesome/fontawesome-free@6.2.0/css/all.min.css&quot;/&gt;\n",
       "    &lt;link rel=&quot;stylesheet&quot; href=&quot;https://cdnjs.cloudflare.com/ajax/libs/Leaflet.awesome-markers/2.0.2/leaflet.awesome-markers.css&quot;/&gt;\n",
       "    &lt;link rel=&quot;stylesheet&quot; href=&quot;https://cdn.jsdelivr.net/gh/python-visualization/folium/folium/templates/leaflet.awesome.rotate.min.css&quot;/&gt;\n",
       "    \n",
       "            &lt;meta name=&quot;viewport&quot; content=&quot;width=device-width,\n",
       "                initial-scale=1.0, maximum-scale=1.0, user-scalable=no&quot; /&gt;\n",
       "            &lt;style&gt;\n",
       "                #map_e9a5aebd8ed67a372e7b42bcf2a9ef89 {\n",
       "                    position: relative;\n",
       "                    width: 100.0%;\n",
       "                    height: 100.0%;\n",
       "                    left: 0.0%;\n",
       "                    top: 0.0%;\n",
       "                }\n",
       "                .leaflet-container { font-size: 1rem; }\n",
       "            &lt;/style&gt;\n",
       "\n",
       "            &lt;style&gt;html, body {\n",
       "                width: 100%;\n",
       "                height: 100%;\n",
       "                margin: 0;\n",
       "                padding: 0;\n",
       "            }\n",
       "            &lt;/style&gt;\n",
       "\n",
       "            &lt;style&gt;#map {\n",
       "                position:absolute;\n",
       "                top:0;\n",
       "                bottom:0;\n",
       "                right:0;\n",
       "                left:0;\n",
       "                }\n",
       "            &lt;/style&gt;\n",
       "\n",
       "            &lt;script&gt;\n",
       "                L_NO_TOUCH = false;\n",
       "                L_DISABLE_3D = false;\n",
       "            &lt;/script&gt;\n",
       "\n",
       "        \n",
       "&lt;/head&gt;\n",
       "&lt;body&gt;\n",
       "    \n",
       "    \n",
       "            &lt;div class=&quot;folium-map&quot; id=&quot;map_e9a5aebd8ed67a372e7b42bcf2a9ef89&quot; &gt;&lt;/div&gt;\n",
       "        \n",
       "&lt;/body&gt;\n",
       "&lt;script&gt;\n",
       "    \n",
       "    \n",
       "            var map_e9a5aebd8ed67a372e7b42bcf2a9ef89 = L.map(\n",
       "                &quot;map_e9a5aebd8ed67a372e7b42bcf2a9ef89&quot;,\n",
       "                {\n",
       "                    center: [-35.363328, 149.1652241],\n",
       "                    crs: L.CRS.EPSG3857,\n",
       "                    ...{\n",
       "  &quot;zoom&quot;: 18,\n",
       "  &quot;zoomControl&quot;: true,\n",
       "  &quot;preferCanvas&quot;: false,\n",
       "}\n",
       "\n",
       "                }\n",
       "            );\n",
       "\n",
       "            \n",
       "\n",
       "        \n",
       "    \n",
       "            var tile_layer_7b2ff0e353fbc8d90c1d7df6cba2057e = L.tileLayer(\n",
       "                &quot;https://tile.openstreetmap.org/{z}/{x}/{y}.png&quot;,\n",
       "                {\n",
       "  &quot;minZoom&quot;: 0,\n",
       "  &quot;maxZoom&quot;: 19,\n",
       "  &quot;maxNativeZoom&quot;: 19,\n",
       "  &quot;noWrap&quot;: false,\n",
       "  &quot;attribution&quot;: &quot;\\u0026copy; \\u003ca href=\\&quot;https://www.openstreetmap.org/copyright\\&quot;\\u003eOpenStreetMap\\u003c/a\\u003e contributors&quot;,\n",
       "  &quot;subdomains&quot;: &quot;abc&quot;,\n",
       "  &quot;detectRetina&quot;: false,\n",
       "  &quot;tms&quot;: false,\n",
       "  &quot;opacity&quot;: 1,\n",
       "}\n",
       "\n",
       "            );\n",
       "        \n",
       "    \n",
       "            tile_layer_7b2ff0e353fbc8d90c1d7df6cba2057e.addTo(map_e9a5aebd8ed67a372e7b42bcf2a9ef89);\n",
       "        \n",
       "    \n",
       "            var marker_b2f9cf63eaf28d81f48ab6ec9b5121c9 = L.marker(\n",
       "                [-35.36328308396274, 149.16516902202562],\n",
       "                {\n",
       "}\n",
       "            ).addTo(map_e9a5aebd8ed67a372e7b42bcf2a9ef89);\n",
       "        \n",
       "    \n",
       "            var icon_215ec832ddee73a5b795d2fa79c55959 = L.AwesomeMarkers.icon(\n",
       "                {\n",
       "  &quot;markerColor&quot;: &quot;blue&quot;,\n",
       "  &quot;iconColor&quot;: &quot;white&quot;,\n",
       "  &quot;icon&quot;: &quot;info-sign&quot;,\n",
       "  &quot;prefix&quot;: &quot;glyphicon&quot;,\n",
       "  &quot;extraClasses&quot;: &quot;fa-rotate-0&quot;,\n",
       "}\n",
       "            );\n",
       "        \n",
       "    \n",
       "        var popup_37d079462d9ce9113a599a991919e0b3 = L.popup({\n",
       "  &quot;maxWidth&quot;: &quot;100%&quot;,\n",
       "});\n",
       "\n",
       "        \n",
       "            \n",
       "                var html_e427a6c2b9b9c8e39a7a0ab0087da712 = $(`&lt;div id=&quot;html_e427a6c2b9b9c8e39a7a0ab0087da712&quot; style=&quot;width: 100.0%; height: 100.0%;&quot;&gt;pos_0&lt;/div&gt;`)[0];\n",
       "                popup_37d079462d9ce9113a599a991919e0b3.setContent(html_e427a6c2b9b9c8e39a7a0ab0087da712);\n",
       "            \n",
       "        \n",
       "\n",
       "        marker_b2f9cf63eaf28d81f48ab6ec9b5121c9.bindPopup(popup_37d079462d9ce9113a599a991919e0b3)\n",
       "        ;\n",
       "\n",
       "        \n",
       "    \n",
       "    \n",
       "                marker_b2f9cf63eaf28d81f48ab6ec9b5121c9.setIcon(icon_215ec832ddee73a5b795d2fa79c55959);\n",
       "            \n",
       "    \n",
       "            var marker_d5651cd3b4f3bf2cef228ef4286a3aaa = L.marker(\n",
       "                [-35.3633466047538, 149.16509112990263],\n",
       "                {\n",
       "}\n",
       "            ).addTo(map_e9a5aebd8ed67a372e7b42bcf2a9ef89);\n",
       "        \n",
       "    \n",
       "            var icon_6a1f8f16e428457f06f8aa7afc18c246 = L.AwesomeMarkers.icon(\n",
       "                {\n",
       "  &quot;markerColor&quot;: &quot;blue&quot;,\n",
       "  &quot;iconColor&quot;: &quot;white&quot;,\n",
       "  &quot;icon&quot;: &quot;info-sign&quot;,\n",
       "  &quot;prefix&quot;: &quot;glyphicon&quot;,\n",
       "  &quot;extraClasses&quot;: &quot;fa-rotate-0&quot;,\n",
       "}\n",
       "            );\n",
       "        \n",
       "    \n",
       "        var popup_ba044e3b8701f981144723e00403c8c3 = L.popup({\n",
       "  &quot;maxWidth&quot;: &quot;100%&quot;,\n",
       "});\n",
       "\n",
       "        \n",
       "            \n",
       "                var html_b3a02693271177ea67a2bfe3e071eecd = $(`&lt;div id=&quot;html_b3a02693271177ea67a2bfe3e071eecd&quot; style=&quot;width: 100.0%; height: 100.0%;&quot;&gt;pos_1&lt;/div&gt;`)[0];\n",
       "                popup_ba044e3b8701f981144723e00403c8c3.setContent(html_b3a02693271177ea67a2bfe3e071eecd);\n",
       "            \n",
       "        \n",
       "\n",
       "        marker_d5651cd3b4f3bf2cef228ef4286a3aaa.bindPopup(popup_ba044e3b8701f981144723e00403c8c3)\n",
       "        ;\n",
       "\n",
       "        \n",
       "    \n",
       "    \n",
       "                marker_d5651cd3b4f3bf2cef228ef4286a3aaa.setIcon(icon_6a1f8f16e428457f06f8aa7afc18c246);\n",
       "            \n",
       "    \n",
       "            var marker_f153c871196842cce80e1913b5039493 = L.marker(\n",
       "                [-35.363283083792105, 149.16501323798883],\n",
       "                {\n",
       "}\n",
       "            ).addTo(map_e9a5aebd8ed67a372e7b42bcf2a9ef89);\n",
       "        \n",
       "    \n",
       "            var icon_dcd4dd93c0bc16b2d640fd74b0d5514c = L.AwesomeMarkers.icon(\n",
       "                {\n",
       "  &quot;markerColor&quot;: &quot;blue&quot;,\n",
       "  &quot;iconColor&quot;: &quot;white&quot;,\n",
       "  &quot;icon&quot;: &quot;info-sign&quot;,\n",
       "  &quot;prefix&quot;: &quot;glyphicon&quot;,\n",
       "  &quot;extraClasses&quot;: &quot;fa-rotate-0&quot;,\n",
       "}\n",
       "            );\n",
       "        \n",
       "    \n",
       "        var popup_be50d3703690472717f7fd961400fd45 = L.popup({\n",
       "  &quot;maxWidth&quot;: &quot;100%&quot;,\n",
       "});\n",
       "\n",
       "        \n",
       "            \n",
       "                var html_e5f07326d88a7142aa745ce17b2d1325 = $(`&lt;div id=&quot;html_e5f07326d88a7142aa745ce17b2d1325&quot; style=&quot;width: 100.0%; height: 100.0%;&quot;&gt;pos_2&lt;/div&gt;`)[0];\n",
       "                popup_be50d3703690472717f7fd961400fd45.setContent(html_e5f07326d88a7142aa745ce17b2d1325);\n",
       "            \n",
       "        \n",
       "\n",
       "        marker_f153c871196842cce80e1913b5039493.bindPopup(popup_be50d3703690472717f7fd961400fd45)\n",
       "        ;\n",
       "\n",
       "        \n",
       "    \n",
       "    \n",
       "                marker_f153c871196842cce80e1913b5039493.setIcon(icon_dcd4dd93c0bc16b2d640fd74b0d5514c);\n",
       "            \n",
       "    \n",
       "            var marker_0bd7c995308a30ffeed2894326d9c787 = L.marker(\n",
       "                [-35.36321956305101, 149.16509113011182],\n",
       "                {\n",
       "}\n",
       "            ).addTo(map_e9a5aebd8ed67a372e7b42bcf2a9ef89);\n",
       "        \n",
       "    \n",
       "            var icon_6f3af76bc3d9520d3cad1d47e34d6246 = L.AwesomeMarkers.icon(\n",
       "                {\n",
       "  &quot;markerColor&quot;: &quot;blue&quot;,\n",
       "  &quot;iconColor&quot;: &quot;white&quot;,\n",
       "  &quot;icon&quot;: &quot;info-sign&quot;,\n",
       "  &quot;prefix&quot;: &quot;glyphicon&quot;,\n",
       "  &quot;extraClasses&quot;: &quot;fa-rotate-0&quot;,\n",
       "}\n",
       "            );\n",
       "        \n",
       "    \n",
       "        var popup_c9be881f8387431427d64512eabe22bf = L.popup({\n",
       "  &quot;maxWidth&quot;: &quot;100%&quot;,\n",
       "});\n",
       "\n",
       "        \n",
       "            \n",
       "                var html_35883ed8f39454e6ca4afb4813f85ea3 = $(`&lt;div id=&quot;html_35883ed8f39454e6ca4afb4813f85ea3&quot; style=&quot;width: 100.0%; height: 100.0%;&quot;&gt;pos_3&lt;/div&gt;`)[0];\n",
       "                popup_c9be881f8387431427d64512eabe22bf.setContent(html_35883ed8f39454e6ca4afb4813f85ea3);\n",
       "            \n",
       "        \n",
       "\n",
       "        marker_0bd7c995308a30ffeed2894326d9c787.bindPopup(popup_c9be881f8387431427d64512eabe22bf)\n",
       "        ;\n",
       "\n",
       "        \n",
       "    \n",
       "    \n",
       "                marker_0bd7c995308a30ffeed2894326d9c787.setIcon(icon_6f3af76bc3d9520d3cad1d47e34d6246);\n",
       "            \n",
       "    \n",
       "            var marker_f7c978eecc8ef700c1f9381f92203fae = L.marker(\n",
       "                [-35.36328308396274, 149.16516902202562],\n",
       "                {\n",
       "}\n",
       "            ).addTo(map_e9a5aebd8ed67a372e7b42bcf2a9ef89);\n",
       "        \n",
       "    \n",
       "            var icon_8cd02060544a2ebd08e8092d720198a8 = L.AwesomeMarkers.icon(\n",
       "                {\n",
       "  &quot;markerColor&quot;: &quot;blue&quot;,\n",
       "  &quot;iconColor&quot;: &quot;white&quot;,\n",
       "  &quot;icon&quot;: &quot;info-sign&quot;,\n",
       "  &quot;prefix&quot;: &quot;glyphicon&quot;,\n",
       "  &quot;extraClasses&quot;: &quot;fa-rotate-0&quot;,\n",
       "}\n",
       "            );\n",
       "        \n",
       "    \n",
       "        var popup_b2dd36c6794f6e0ad8613956a8fed770 = L.popup({\n",
       "  &quot;maxWidth&quot;: &quot;100%&quot;,\n",
       "});\n",
       "\n",
       "        \n",
       "            \n",
       "                var html_627bbcdce2b9494bf28b3a26b7c1cdd5 = $(`&lt;div id=&quot;html_627bbcdce2b9494bf28b3a26b7c1cdd5&quot; style=&quot;width: 100.0%; height: 100.0%;&quot;&gt;pos_4&lt;/div&gt;`)[0];\n",
       "                popup_b2dd36c6794f6e0ad8613956a8fed770.setContent(html_627bbcdce2b9494bf28b3a26b7c1cdd5);\n",
       "            \n",
       "        \n",
       "\n",
       "        marker_f7c978eecc8ef700c1f9381f92203fae.bindPopup(popup_b2dd36c6794f6e0ad8613956a8fed770)\n",
       "        ;\n",
       "\n",
       "        \n",
       "    \n",
       "    \n",
       "                marker_f7c978eecc8ef700c1f9381f92203fae.setIcon(icon_8cd02060544a2ebd08e8092d720198a8);\n",
       "            \n",
       "    \n",
       "            var marker_d1206e7a314ff9c84d99b343af1a669b = L.marker(\n",
       "                [-35.363328, 149.1652241],\n",
       "                {\n",
       "}\n",
       "            ).addTo(map_e9a5aebd8ed67a372e7b42bcf2a9ef89);\n",
       "        \n",
       "    \n",
       "            var icon_1aaebe7cadfb1a2589d3daad7752d196 = L.AwesomeMarkers.icon(\n",
       "                {\n",
       "  &quot;markerColor&quot;: &quot;white&quot;,\n",
       "  &quot;iconColor&quot;: &quot;white&quot;,\n",
       "  &quot;icon&quot;: &quot;info-sign&quot;,\n",
       "  &quot;prefix&quot;: &quot;glyphicon&quot;,\n",
       "  &quot;extraClasses&quot;: &quot;fa-rotate-0&quot;,\n",
       "}\n",
       "            );\n",
       "        \n",
       "    \n",
       "        var popup_e20b66fd19bfef43068b082d12e99f1f = L.popup({\n",
       "  &quot;maxWidth&quot;: &quot;100%&quot;,\n",
       "});\n",
       "\n",
       "        \n",
       "            \n",
       "                var html_3e6ac4d1fe6fb4f9c3f2c558a21bf174 = $(`&lt;div id=&quot;html_3e6ac4d1fe6fb4f9c3f2c558a21bf174&quot; style=&quot;width: 100.0%; height: 100.0%;&quot;&gt;Origin&lt;/div&gt;`)[0];\n",
       "                popup_e20b66fd19bfef43068b082d12e99f1f.setContent(html_3e6ac4d1fe6fb4f9c3f2c558a21bf174);\n",
       "            \n",
       "        \n",
       "\n",
       "        marker_d1206e7a314ff9c84d99b343af1a669b.bindPopup(popup_e20b66fd19bfef43068b082d12e99f1f)\n",
       "        ;\n",
       "\n",
       "        \n",
       "    \n",
       "    \n",
       "                marker_d1206e7a314ff9c84d99b343af1a669b.setIcon(icon_1aaebe7cadfb1a2589d3daad7752d196);\n",
       "            \n",
       "&lt;/script&gt;\n",
       "&lt;/html&gt;\" style=\"position:absolute;width:100%;height:100%;left:0;top:0;border:none !important;\" allowfullscreen webkitallowfullscreen mozallowfullscreen></iframe></div></div>"
      ],
      "text/plain": [
       "<folium.folium.Map at 0x7f6a8abeedd0>"
      ]
     },
     "execution_count": 4,
     "metadata": {},
     "output_type": "execute_result"
    }
   ],
   "source": [
    "qgc_config = ConfigQGC(origin= gra_origin)\n",
    "\n",
    "qgc_config.add(base_path=base_path,base_home=base_home,color=color)\n",
    "qgc_config.show()"
   ]
  },
  {
   "cell_type": "markdown",
   "metadata": {},
   "source": [
    "## No Visualizer"
   ]
  },
  {
   "cell_type": "code",
   "execution_count": 5,
   "metadata": {},
   "outputs": [],
   "source": [
    "novis_config = ConfigNovis(origin=gra_origin)\n",
    "novis_config.add(base_home=base_home)"
   ]
  },
  {
   "cell_type": "code",
   "execution_count": 6,
   "metadata": {},
   "outputs": [],
   "source": [
    "novis=NoVisualizer(novis_config)\n",
    "\n",
    "gaz= Gazebo(gaz_config,gra_origin)\n",
    "\n",
    "qgc=QGC(qgc_config)"
   ]
  },
  {
   "cell_type": "markdown",
   "metadata": {},
   "source": [
    "## Launch Simulatotion"
   ]
  },
  {
   "cell_type": "code",
   "execution_count": null,
   "metadata": {},
   "outputs": [
    {
     "name": "stdout",
     "output_type": "stream",
     "text": [
      "🙈 Running without visualization.\n",
      "🚀 GCS GCS launched (PID 289973)\n",
      "🔗 UAV logic 1 is connected to Oracle ⚪\n"
     ]
    }
   ],
   "source": [
    "simulator = Simulator(\n",
    "\tvisualizers=[novis],\n",
    "\tgcs_sysids={'simple GCS': [1]},\n",
    "\tmissions=[veh.mission for veh in qgc_config.vehicles],\n",
    "\tterminals=['gcs'],\n",
    "\tverbose=2,\n",
    ")\n",
    "orac = simulator.launch()"
   ]
  },
  {
   "cell_type": "markdown",
   "metadata": {},
   "source": [
    "## Oracle checking"
   ]
  },
  {
   "cell_type": "code",
   "execution_count": 8,
   "metadata": {},
   "outputs": [
    {
     "name": "stdout",
     "output_type": "stream",
     "text": [
      "Oracle ⚪: 🏁 Starting Oracle with 1 vehicles\n",
      "Oracle ⚪: 🔁 Received Remote ID from 1\n",
      "Vehicle 1: 📍 Position: lat=0.0000000, lon=0.0000000, alt=0.00 m\n",
      "Vehicle 1: 📍 Position: lat=0.0000000, lon=0.0000000, alt=0.00 m\n",
      "Vehicle 1: 📍 Position: lat=0.0000000, lon=0.0000000, alt=0.00 m\n",
      "Vehicle 1: 📍 Position: lat=0.0000000, lon=0.0000000, alt=0.00 m\n",
      "Vehicle 1: 📍 Position: lat=0.0000000, lon=0.0000000, alt=0.00 m\n",
      "Vehicle 1: 📍 Position: lat=0.0000000, lon=0.0000000, alt=0.00 m\n",
      "Vehicle 1: 📍 Position: lat=0.0000000, lon=0.0000000, alt=0.00 m\n",
      "Vehicle 1: 📍 Position: lat=0.0000000, lon=0.0000000, alt=0.00 m\n",
      "Vehicle 1: 📍 Position: lat=0.0000000, lon=0.0000000, alt=0.00 m\n",
      "Vehicle 1: 📍 Position: lat=0.0000000, lon=0.0000000, alt=0.00 m\n",
      "Oracle ⚪: 🔁 Received Remote ID from 1\n",
      "Vehicle 1: 📍 Position: lat=0.0000000, lon=0.0000000, alt=0.00 m\n",
      "Vehicle 1: 📍 Position: lat=0.0000000, lon=0.0000000, alt=0.00 m\n",
      "Vehicle 1: 📍 Position: lat=0.0000000, lon=0.0000000, alt=0.00 m\n",
      "Vehicle 1: 📍 Position: lat=0.0000000, lon=0.0000000, alt=0.00 m\n",
      "Vehicle 1: 📍 Position: lat=0.0000000, lon=0.0000000, alt=0.00 m\n",
      "Vehicle 1: 📍 Position: lat=0.0000000, lon=0.0000000, alt=0.00 m\n",
      "Vehicle 1: 📍 Position: lat=0.0000000, lon=0.0000000, alt=0.00 m\n",
      "Vehicle 1: 📍 Position: lat=0.0000000, lon=0.0000000, alt=0.00 m\n",
      "Vehicle 1: 📍 Position: lat=0.0000000, lon=0.0000000, alt=0.00 m\n",
      "Vehicle 1: 📍 Position: lat=0.0000000, lon=0.0000000, alt=0.00 m\n",
      "Vehicle 1: 📍 Position: lat=0.0000000, lon=0.0000000, alt=0.00 m\n",
      "Oracle ⚪: 🔁 Received Remote ID from 1\n",
      "Vehicle 1: 📍 Position: lat=0.0000000, lon=0.0000000, alt=0.00 m\n",
      "Vehicle 1: 📍 Position: lat=0.0000000, lon=0.0000000, alt=0.00 m\n",
      "Vehicle 1: 📍 Position: lat=0.0000000, lon=0.0000000, alt=0.00 m\n",
      "Vehicle 1: 📍 Position: lat=0.0000000, lon=0.0000000, alt=0.00 m\n",
      "Vehicle 1: 📍 Position: lat=0.0000000, lon=0.0000000, alt=0.00 m\n",
      "Vehicle 1: 📍 Position: lat=0.0000000, lon=0.0000000, alt=0.00 m\n",
      "Vehicle 1: 📍 Position: lat=0.0000000, lon=0.0000000, alt=0.00 m\n",
      "Vehicle 1: 📍 Position: lat=0.0000000, lon=0.0000000, alt=0.00 m\n",
      "Vehicle 1: 📍 Position: lat=0.0000000, lon=0.0000000, alt=0.00 m\n",
      "Vehicle 1: 📍 Position: lat=0.0000000, lon=0.0000000, alt=0.00 m\n",
      "Oracle ⚪: 🔁 Received Remote ID from 1\n",
      "Vehicle 1: 📍 Position: lat=0.0000000, lon=0.0000000, alt=0.00 m\n",
      "Vehicle 1: 📍 Position: lat=0.0000000, lon=0.0000000, alt=0.00 m\n",
      "Vehicle 1: 📍 Position: lat=0.0000000, lon=0.0000000, alt=0.00 m\n",
      "Vehicle 1: 📍 Position: lat=0.0000000, lon=0.0000000, alt=0.00 m\n",
      "Vehicle 1: 📍 Position: lat=0.0000000, lon=0.0000000, alt=0.00 m\n",
      "Vehicle 1: 📍 Position: lat=0.0000000, lon=0.0000000, alt=0.00 m\n",
      "Vehicle 1: 📍 Position: lat=0.0000000, lon=0.0000000, alt=0.00 m\n",
      "Vehicle 1: 📍 Position: lat=0.0000000, lon=0.0000000, alt=0.00 m\n",
      "Vehicle 1: 📍 Position: lat=0.0000000, lon=0.0000000, alt=0.00 m\n",
      "Vehicle 1: 📍 Position: lat=0.0000000, lon=0.0000000, alt=0.00 m\n",
      "Oracle ⚪: 🔁 Received Remote ID from 1\n",
      "Vehicle 1: 📍 Position: lat=0.0000000, lon=0.0000000, alt=0.00 m\n",
      "Vehicle 1: 📍 Position: lat=0.0000000, lon=0.0000000, alt=0.00 m\n",
      "Vehicle 1: 📍 Position: lat=0.0000000, lon=0.0000000, alt=0.00 m\n",
      "Vehicle 1: 📍 Position: lat=0.0000000, lon=0.0000000, alt=0.00 m\n",
      "Vehicle 1: 📍 Position: lat=0.0000000, lon=0.0000000, alt=0.00 m\n",
      "Vehicle 1: 📍 Position: lat=0.0000000, lon=0.0000000, alt=0.00 m\n",
      "Vehicle 1: 📍 Position: lat=0.0000000, lon=0.0000000, alt=0.00 m\n",
      "Vehicle 1: 📍 Position: lat=0.0000000, lon=0.0000000, alt=0.00 m\n",
      "Vehicle 1: 📍 Position: lat=0.0000000, lon=0.0000000, alt=0.00 m\n",
      "Vehicle 1: 📍 Position: lat=0.0000000, lon=0.0000000, alt=0.00 m\n",
      "Oracle ⚪: 🔁 Received Remote ID from 1\n",
      "Vehicle 1: 📍 Position: lat=0.0000000, lon=0.0000000, alt=0.00 m\n",
      "Vehicle 1: 📍 Position: lat=0.0000000, lon=0.0000000, alt=0.00 m\n",
      "Vehicle 1: 📍 Position: lat=0.0000000, lon=0.0000000, alt=0.00 m\n",
      "Vehicle 1: 📍 Position: lat=0.0000000, lon=0.0000000, alt=0.00 m\n",
      "Vehicle 1: 📍 Position: lat=0.0000000, lon=0.0000000, alt=0.00 m\n",
      "Vehicle 1: 📍 Position: lat=0.0000000, lon=0.0000000, alt=0.00 m\n",
      "Vehicle 1: 📍 Position: lat=0.0000000, lon=0.0000000, alt=0.00 m\n",
      "Vehicle 1: 📍 Position: lat=0.0000000, lon=0.0000000, alt=0.00 m\n",
      "Vehicle 1: 📍 Position: lat=0.0000000, lon=0.0000000, alt=0.00 m\n",
      "Vehicle 1: 📍 Position: lat=0.0000000, lon=0.0000000, alt=0.00 m\n",
      "Oracle ⚪: 🔁 Received Remote ID from 1\n",
      "Vehicle 1: 📍 Position: lat=0.0000000, lon=0.0000000, alt=0.00 m\n",
      "Vehicle 1: 📍 Position: lat=0.0000000, lon=0.0000000, alt=0.00 m\n",
      "Vehicle 1: 📍 Position: lat=0.0000000, lon=0.0000000, alt=0.00 m\n",
      "Vehicle 1: 📍 Position: lat=0.0000000, lon=0.0000000, alt=0.00 m\n",
      "Vehicle 1: 📍 Position: lat=0.0000000, lon=0.0000000, alt=0.00 m\n",
      "Vehicle 1: 📍 Position: lat=0.0000000, lon=0.0000000, alt=0.00 m\n",
      "Vehicle 1: 📍 Position: lat=0.0000000, lon=0.0000000, alt=0.00 m\n",
      "Vehicle 1: 📍 Position: lat=0.0000000, lon=0.0000000, alt=0.00 m\n",
      "Vehicle 1: 📍 Position: lat=0.0000000, lon=0.0000000, alt=0.00 m\n",
      "Vehicle 1: 📍 Position: lat=0.0000000, lon=0.0000000, alt=0.00 m\n",
      "Oracle ⚪: 🔁 Received Remote ID from 1\n",
      "Vehicle 1: 📍 Position: lat=0.0000000, lon=0.0000000, alt=0.00 m\n",
      "Vehicle 1: 📍 Position: lat=0.0000000, lon=0.0000000, alt=0.00 m\n",
      "Vehicle 1: 📍 Position: lat=0.0000000, lon=0.0000000, alt=0.00 m\n",
      "Vehicle 1: 📍 Position: lat=-35.3632829, lon=149.1651690, alt=0.00 m\n",
      "Vehicle 1: 📍 Position: lat=-35.3632829, lon=149.1651690, alt=0.00 m\n",
      "Vehicle 1: 📍 Position: lat=-35.3632829, lon=149.1651690, alt=0.00 m\n",
      "Vehicle 1: 📍 Position: lat=-35.3632829, lon=149.1651690, alt=0.00 m\n",
      "Vehicle 1: 📍 Position: lat=-35.3632829, lon=149.1651690, alt=0.00 m\n",
      "Vehicle 1: 📍 Position: lat=-35.3632829, lon=149.1651690, alt=0.00 m\n",
      "Vehicle 1: 📍 Position: lat=-35.3632829, lon=149.1651690, alt=0.00 m\n",
      "Oracle ⚪: 🔁 Received Remote ID from 1\n",
      "Vehicle 1: 📍 Position: lat=-35.3632829, lon=149.1651690, alt=0.00 m\n",
      "Vehicle 1: 📍 Position: lat=-35.3632829, lon=149.1651690, alt=0.00 m\n",
      "Vehicle 1: 📍 Position: lat=-35.3632829, lon=149.1651690, alt=0.00 m\n",
      "Vehicle 1: 📍 Position: lat=-35.3632829, lon=149.1651690, alt=0.00 m\n",
      "Vehicle 1: 📍 Position: lat=-35.3632829, lon=149.1651690, alt=0.00 m\n",
      "Vehicle 1: 📍 Position: lat=-35.3632829, lon=149.1651690, alt=0.00 m\n",
      "Vehicle 1: 📍 Position: lat=-35.3632829, lon=149.1651690, alt=0.00 m\n",
      "Vehicle 1: 📍 Position: lat=-35.3632829, lon=149.1651690, alt=0.00 m\n",
      "Vehicle 1: 📍 Position: lat=-35.3632829, lon=149.1651690, alt=0.00 m\n",
      "Vehicle 1: 📍 Position: lat=-35.3632829, lon=149.1651690, alt=0.00 m\n",
      "Oracle ⚪: 🔁 Received Remote ID from 1\n",
      "Vehicle 1: 📍 Position: lat=-35.3632829, lon=149.1651690, alt=0.00 m\n",
      "Vehicle 1: 📍 Position: lat=-35.3632829, lon=149.1651690, alt=0.00 m\n",
      "Vehicle 1: 📍 Position: lat=-35.3632829, lon=149.1651690, alt=0.00 m\n",
      "Vehicle 1: 📍 Position: lat=-35.3632829, lon=149.1651690, alt=0.00 m\n",
      "Vehicle 1: 📍 Position: lat=-35.3632829, lon=149.1651690, alt=0.00 m\n",
      "Vehicle 1: 📍 Position: lat=-35.3632829, lon=149.1651690, alt=0.00 m\n",
      "Vehicle 1: 📍 Position: lat=-35.3632829, lon=149.1651690, alt=0.00 m\n",
      "Vehicle 1: 📍 Position: lat=-35.3632829, lon=149.1651690, alt=0.00 m\n",
      "Vehicle 1: 📍 Position: lat=-35.3632829, lon=149.1651690, alt=0.00 m\n",
      "Vehicle 1: 📍 Position: lat=-35.3632829, lon=149.1651690, alt=0.00 m\n",
      "Oracle ⚪: 🔁 Received Remote ID from 1\n",
      "Vehicle 1: 📍 Position: lat=-35.3632829, lon=149.1651690, alt=0.00 m\n",
      "Vehicle 1: 📍 Position: lat=-35.3632829, lon=149.1651690, alt=0.00 m\n",
      "Vehicle 1: 📍 Position: lat=-35.3632829, lon=149.1651690, alt=0.00 m\n",
      "Vehicle 1: 📍 Position: lat=-35.3632829, lon=149.1651690, alt=0.00 m\n",
      "Vehicle 1: 📍 Position: lat=-35.3632829, lon=149.1651690, alt=0.00 m\n",
      "Vehicle 1: 📍 Position: lat=-35.3632829, lon=149.1651690, alt=0.00 m\n",
      "Vehicle 1: 📍 Position: lat=-35.3632829, lon=149.1651690, alt=0.00 m\n",
      "Vehicle 1: 📍 Position: lat=-35.3632829, lon=149.1651690, alt=0.00 m\n",
      "Vehicle 1: 📍 Position: lat=-35.3632829, lon=149.1651690, alt=0.00 m\n",
      "Vehicle 1: 📍 Position: lat=-35.3632829, lon=149.1651690, alt=0.00 m\n",
      "Oracle ⚪: 🔁 Received Remote ID from 1\n",
      "Vehicle 1: 📍 Position: lat=-35.3632829, lon=149.1651690, alt=0.00 m\n",
      "Vehicle 1: 📍 Position: lat=-35.3632829, lon=149.1651690, alt=0.00 m\n",
      "Vehicle 1: 📍 Position: lat=-35.3632829, lon=149.1651690, alt=0.00 m\n",
      "Vehicle 1: 📍 Position: lat=-35.3632829, lon=149.1651690, alt=0.00 m\n",
      "Vehicle 1: 📍 Position: lat=-35.3632829, lon=149.1651690, alt=0.00 m\n",
      "Vehicle 1: 📍 Position: lat=-35.3632829, lon=149.1651690, alt=0.00 m\n",
      "Vehicle 1: 📍 Position: lat=-35.3632829, lon=149.1651690, alt=0.00 m\n",
      "Vehicle 1: 📍 Position: lat=-35.3632829, lon=149.1651690, alt=0.00 m\n",
      "Vehicle 1: 📍 Position: lat=-35.3632829, lon=149.1651690, alt=0.00 m\n",
      "Vehicle 1: 📍 Position: lat=-35.3632829, lon=149.1651690, alt=0.00 m\n",
      "Oracle ⚪: 🔁 Received Remote ID from 1\n",
      "Vehicle 1: 📍 Position: lat=-35.3632829, lon=149.1651690, alt=0.00 m\n",
      "Vehicle 1: 📍 Position: lat=-35.3632829, lon=149.1651690, alt=0.00 m\n",
      "Vehicle 1: 📍 Position: lat=-35.3632829, lon=149.1651690, alt=0.00 m\n",
      "Vehicle 1: 📍 Position: lat=-35.3632829, lon=149.1651690, alt=0.00 m\n",
      "Vehicle 1: 📍 Position: lat=-35.3632829, lon=149.1651690, alt=0.00 m\n",
      "Vehicle 1: 📍 Position: lat=-35.3632829, lon=149.1651690, alt=0.00 m\n",
      "Vehicle 1: 📍 Position: lat=-35.3632829, lon=149.1651690, alt=0.00 m\n",
      "Vehicle 1: 📍 Position: lat=-35.3632829, lon=149.1651690, alt=0.00 m\n",
      "Vehicle 1: 📍 Position: lat=-35.3632829, lon=149.1651690, alt=0.00 m\n",
      "Vehicle 1: 📍 Position: lat=-35.3632829, lon=149.1651690, alt=0.00 m\n",
      "Oracle ⚪: 🔁 Received Remote ID from 1\n",
      "Vehicle 1: 📍 Position: lat=-35.3632829, lon=149.1651690, alt=0.00 m\n",
      "Vehicle 1: 📍 Position: lat=-35.3632829, lon=149.1651690, alt=0.00 m\n",
      "Vehicle 1: 📍 Position: lat=-35.3632829, lon=149.1651690, alt=0.00 m\n",
      "Vehicle 1: 📍 Position: lat=-35.3632829, lon=149.1651690, alt=0.00 m\n",
      "Vehicle 1: 📍 Position: lat=-35.3632829, lon=149.1651690, alt=0.00 m\n",
      "Vehicle 1: 📍 Position: lat=-35.3632829, lon=149.1651690, alt=0.00 m\n",
      "Vehicle 1: 📍 Position: lat=-35.3632829, lon=149.1651690, alt=0.00 m\n",
      "Vehicle 1: 📍 Position: lat=-35.3632829, lon=149.1651690, alt=0.00 m\n",
      "Vehicle 1: 📍 Position: lat=-35.3632829, lon=149.1651690, alt=0.00 m\n",
      "Vehicle 1: 📍 Position: lat=-35.3632829, lon=149.1651690, alt=0.00 m\n",
      "Oracle ⚪: 🔁 Received Remote ID from 1\n",
      "Vehicle 1: 📍 Position: lat=-35.3632829, lon=149.1651690, alt=0.00 m\n",
      "Vehicle 1: 📍 Position: lat=-35.3632829, lon=149.1651690, alt=0.00 m\n",
      "Vehicle 1: 📍 Position: lat=-35.3632829, lon=149.1651690, alt=0.00 m\n",
      "Vehicle 1: 📍 Position: lat=-35.3632829, lon=149.1651690, alt=0.00 m\n",
      "Vehicle 1: 📍 Position: lat=-35.3632829, lon=149.1651690, alt=0.00 m\n",
      "Vehicle 1: 📍 Position: lat=-35.3632829, lon=149.1651690, alt=0.00 m\n",
      "Vehicle 1: 📍 Position: lat=-35.3632829, lon=149.1651690, alt=0.00 m\n",
      "Vehicle 1: 📍 Position: lat=-35.3632829, lon=149.1651690, alt=0.00 m\n",
      "Vehicle 1: 📍 Position: lat=-35.3632829, lon=149.1651690, alt=0.00 m\n",
      "Vehicle 1: 📍 Position: lat=-35.3632829, lon=149.1651690, alt=0.00 m\n",
      "Oracle ⚪: 🔁 Received Remote ID from 1\n",
      "Vehicle 1: 📍 Position: lat=-35.3632829, lon=149.1651690, alt=0.00 m\n",
      "Vehicle 1: 📍 Position: lat=-35.3632829, lon=149.1651690, alt=0.00 m\n",
      "Vehicle 1: 📍 Position: lat=-35.3632829, lon=149.1651690, alt=0.00 m\n",
      "Vehicle 1: 📍 Position: lat=-35.3632829, lon=149.1651690, alt=0.00 m\n",
      "Vehicle 1: 📍 Position: lat=-35.3632829, lon=149.1651690, alt=0.00 m\n",
      "Vehicle 1: 📍 Position: lat=-35.3632829, lon=149.1651690, alt=0.00 m\n",
      "Vehicle 1: 📍 Position: lat=-35.3632829, lon=149.1651690, alt=0.00 m\n",
      "Vehicle 1: 📍 Position: lat=-35.3632829, lon=149.1651690, alt=0.00 m\n",
      "Vehicle 1: 📍 Position: lat=-35.3632829, lon=149.1651690, alt=0.00 m\n",
      "Vehicle 1: 📍 Position: lat=-35.3632829, lon=149.1651690, alt=0.00 m\n",
      "Oracle ⚪: 🔁 Received Remote ID from 1\n",
      "Vehicle 1: 📍 Position: lat=-35.3632829, lon=149.1651690, alt=0.00 m\n",
      "Vehicle 1: 📍 Position: lat=-35.3632829, lon=149.1651690, alt=0.00 m\n",
      "Vehicle 1: 📍 Position: lat=-35.3632829, lon=149.1651690, alt=0.00 m\n",
      "Vehicle 1: 📍 Position: lat=-35.3632829, lon=149.1651690, alt=0.00 m\n",
      "Vehicle 1: 📍 Position: lat=-35.3632829, lon=149.1651690, alt=0.00 m\n",
      "Vehicle 1: 📍 Position: lat=-35.3632829, lon=149.1651690, alt=0.00 m\n",
      "Vehicle 1: 📍 Position: lat=-35.3632829, lon=149.1651690, alt=0.00 m\n",
      "Vehicle 1: 📍 Position: lat=-35.3632829, lon=149.1651690, alt=0.00 m\n",
      "Vehicle 1: 📍 Position: lat=-35.3632829, lon=149.1651690, alt=0.00 m\n",
      "Vehicle 1: 📍 Position: lat=-35.3632829, lon=149.1651690, alt=0.00 m\n",
      "Oracle ⚪: 🔁 Received Remote ID from 1\n",
      "Vehicle 1: 📍 Position: lat=-35.3632829, lon=149.1651690, alt=0.00 m\n",
      "Vehicle 1: 📍 Position: lat=-35.3632829, lon=149.1651690, alt=0.00 m\n",
      "Vehicle 1: 📍 Position: lat=-35.3632829, lon=149.1651690, alt=0.00 m\n",
      "Vehicle 1: 📍 Position: lat=-35.3632829, lon=149.1651690, alt=-0.00 m\n",
      "Vehicle 1: 📍 Position: lat=-35.3632829, lon=149.1651690, alt=-0.00 m\n",
      "Vehicle 1: 📍 Position: lat=-35.3632829, lon=149.1651690, alt=-0.01 m\n",
      "Vehicle 1: 📍 Position: lat=-35.3632829, lon=149.1651690, alt=-0.01 m\n",
      "Vehicle 1: 📍 Position: lat=-35.3632829, lon=149.1651690, alt=-0.01 m\n",
      "Vehicle 1: 📍 Position: lat=-35.3632829, lon=149.1651690, alt=-0.01 m\n",
      "Vehicle 1: 📍 Position: lat=-35.3632829, lon=149.1651690, alt=-0.01 m\n",
      "Oracle ⚪: 🔁 Received Remote ID from 1\n",
      "Vehicle 1: 📍 Position: lat=-35.3632829, lon=149.1651690, alt=-0.01 m\n",
      "Vehicle 1: 📍 Position: lat=-35.3632829, lon=149.1651690, alt=-0.01 m\n",
      "Vehicle 1: 📍 Position: lat=-35.3632829, lon=149.1651690, alt=-0.01 m\n",
      "Vehicle 1: 📍 Position: lat=-35.3632829, lon=149.1651690, alt=-0.01 m\n",
      "Vehicle 1: 📍 Position: lat=-35.3632829, lon=149.1651690, alt=-0.01 m\n",
      "Vehicle 1: 📍 Position: lat=-35.3632829, lon=149.1651690, alt=-0.01 m\n",
      "Vehicle 1: 📍 Position: lat=-35.3632829, lon=149.1651690, alt=-0.01 m\n",
      "Vehicle 1: 📍 Position: lat=-35.3632829, lon=149.1651690, alt=-0.01 m\n",
      "Vehicle 1: 📍 Position: lat=-35.3632829, lon=149.1651690, alt=-0.01 m\n",
      "Vehicle 1: 📍 Position: lat=-35.3632829, lon=149.1651690, alt=-0.01 m\n",
      "Oracle ⚪: 🔁 Received Remote ID from 1\n",
      "Vehicle 1: 📍 Position: lat=-35.3632829, lon=149.1651690, alt=-0.01 m\n",
      "Vehicle 1: 📍 Position: lat=-35.3632829, lon=149.1651690, alt=-0.01 m\n",
      "Vehicle 1: 📍 Position: lat=-35.3632829, lon=149.1651690, alt=-0.01 m\n",
      "Vehicle 1: 📍 Position: lat=-35.3632829, lon=149.1651690, alt=-0.01 m\n",
      "Vehicle 1: 📍 Position: lat=-35.3632829, lon=149.1651690, alt=-0.01 m\n",
      "Vehicle 1: 📍 Position: lat=-35.3632829, lon=149.1651690, alt=-0.01 m\n",
      "Vehicle 1: 📍 Position: lat=-35.3632829, lon=149.1651690, alt=-0.01 m\n",
      "Vehicle 1: 📍 Position: lat=-35.3632829, lon=149.1651690, alt=-0.01 m\n",
      "Vehicle 1: 📍 Position: lat=-35.3632829, lon=149.1651690, alt=-0.01 m\n",
      "Vehicle 1: 📍 Position: lat=-35.3632829, lon=149.1651690, alt=-0.01 m\n",
      "Vehicle 1: 📍 Position: lat=-35.3632829, lon=149.1651690, alt=-0.01 m\n",
      "Oracle ⚪: 🔁 Received Remote ID from 1\n",
      "Vehicle 1: 📍 Position: lat=-35.3632829, lon=149.1651690, alt=-0.01 m\n",
      "Vehicle 1: 📍 Position: lat=-35.3632829, lon=149.1651690, alt=-0.01 m\n",
      "Vehicle 1: 📍 Position: lat=-35.3632829, lon=149.1651690, alt=-0.01 m\n",
      "Vehicle 1: 📍 Position: lat=-35.3632829, lon=149.1651690, alt=-0.01 m\n",
      "Vehicle 1: 📍 Position: lat=-35.3632829, lon=149.1651690, alt=-0.01 m\n",
      "Vehicle 1: 📍 Position: lat=-35.3632829, lon=149.1651690, alt=-0.01 m\n",
      "Vehicle 1: 📍 Position: lat=-35.3632829, lon=149.1651690, alt=-0.01 m\n",
      "Vehicle 1: 📍 Position: lat=-35.3632829, lon=149.1651690, alt=-0.01 m\n",
      "Vehicle 1: 📍 Position: lat=-35.3632829, lon=149.1651690, alt=-0.01 m\n",
      "Vehicle 1: 📍 Position: lat=-35.3632829, lon=149.1651690, alt=-0.01 m\n",
      "Oracle ⚪: 🔁 Received Remote ID from 1\n",
      "Vehicle 1: 📍 Position: lat=-35.3632829, lon=149.1651690, alt=-0.01 m\n",
      "Vehicle 1: 📍 Position: lat=-35.3632829, lon=149.1651690, alt=-0.01 m\n",
      "Vehicle 1: 📍 Position: lat=-35.3632829, lon=149.1651690, alt=-0.01 m\n",
      "Vehicle 1: 📍 Position: lat=-35.3632829, lon=149.1651690, alt=-0.01 m\n",
      "Vehicle 1: 📍 Position: lat=-35.3632829, lon=149.1651690, alt=-0.01 m\n",
      "Vehicle 1: 📍 Position: lat=-35.3632829, lon=149.1651690, alt=-0.01 m\n",
      "Vehicle 1: 📍 Position: lat=-35.3632829, lon=149.1651690, alt=-0.01 m\n",
      "Vehicle 1: 📍 Position: lat=-35.3632829, lon=149.1651690, alt=-0.01 m\n",
      "Vehicle 1: 📍 Position: lat=-35.3632829, lon=149.1651690, alt=-0.01 m\n",
      "Vehicle 1: 📍 Position: lat=-35.3632829, lon=149.1651690, alt=-0.01 m\n",
      "Oracle ⚪: 🔁 Received Remote ID from 1\n",
      "Vehicle 1: 📍 Position: lat=-35.3632829, lon=149.1651690, alt=-0.01 m\n",
      "Vehicle 1: 📍 Position: lat=-35.3632829, lon=149.1651690, alt=-0.01 m\n",
      "Vehicle 1: 📍 Position: lat=-35.3632829, lon=149.1651690, alt=-0.01 m\n",
      "Vehicle 1: 📍 Position: lat=-35.3632829, lon=149.1651690, alt=-0.01 m\n",
      "Vehicle 1: 📍 Position: lat=-35.3632829, lon=149.1651690, alt=-0.01 m\n",
      "Vehicle 1: 📍 Position: lat=-35.3632829, lon=149.1651690, alt=-0.01 m\n",
      "Vehicle 1: 📍 Position: lat=-35.3632829, lon=149.1651690, alt=-0.01 m\n",
      "Vehicle 1: 📍 Position: lat=-35.3632829, lon=149.1651690, alt=-0.01 m\n",
      "Vehicle 1: 📍 Position: lat=-35.3632829, lon=149.1651690, alt=-0.01 m\n",
      "Vehicle 1: 📍 Position: lat=-35.3632829, lon=149.1651690, alt=-0.01 m\n",
      "Oracle ⚪: 🔁 Received Remote ID from 1\n",
      "Vehicle 1: 📍 Position: lat=-35.3632829, lon=149.1651690, alt=-0.01 m\n",
      "Vehicle 1: 📍 Position: lat=-35.3632829, lon=149.1651690, alt=-0.01 m\n",
      "Vehicle 1: 📍 Position: lat=-35.3632829, lon=149.1651690, alt=-0.01 m\n",
      "Vehicle 1: 📍 Position: lat=-35.3632829, lon=149.1651690, alt=-0.01 m\n",
      "Vehicle 1: 📍 Position: lat=-35.3632829, lon=149.1651690, alt=-0.01 m\n",
      "Vehicle 1: 📍 Position: lat=-35.3632829, lon=149.1651690, alt=-0.01 m\n",
      "Vehicle 1: 📍 Position: lat=-35.3632829, lon=149.1651690, alt=-0.01 m\n",
      "Vehicle 1: 📍 Position: lat=-35.3632829, lon=149.1651690, alt=-0.01 m\n",
      "Vehicle 1: 📍 Position: lat=-35.3632829, lon=149.1651690, alt=-0.01 m\n",
      "Vehicle 1: 📍 Position: lat=-35.3632829, lon=149.1651690, alt=-0.01 m\n",
      "Oracle ⚪: 🔁 Received Remote ID from 1\n",
      "Vehicle 1: 📍 Position: lat=-35.3632829, lon=149.1651690, alt=-0.01 m\n",
      "Vehicle 1: 📍 Position: lat=-35.3632829, lon=149.1651690, alt=-0.01 m\n",
      "Vehicle 1: 📍 Position: lat=-35.3632829, lon=149.1651690, alt=-0.01 m\n",
      "Vehicle 1: 📍 Position: lat=-35.3632829, lon=149.1651690, alt=-0.01 m\n",
      "Vehicle 1: 📍 Position: lat=-35.3632829, lon=149.1651690, alt=-0.01 m\n",
      "Vehicle 1: 📍 Position: lat=-35.3632829, lon=149.1651690, alt=-0.01 m\n",
      "Vehicle 1: 📍 Position: lat=-35.3632829, lon=149.1651690, alt=-0.01 m\n",
      "Vehicle 1: 📍 Position: lat=-35.3632829, lon=149.1651690, alt=-0.01 m\n",
      "Vehicle 1: 📍 Position: lat=-35.3632829, lon=149.1651690, alt=-0.01 m\n",
      "Vehicle 1: 📍 Position: lat=-35.3632829, lon=149.1651690, alt=-0.01 m\n",
      "Oracle ⚪: 🔁 Received Remote ID from 1\n",
      "Vehicle 1: 📍 Position: lat=-35.3632829, lon=149.1651690, alt=-0.01 m\n",
      "Vehicle 1: 📍 Position: lat=-35.3632829, lon=149.1651690, alt=-0.01 m\n",
      "Vehicle 1: 📍 Position: lat=-35.3632829, lon=149.1651690, alt=-0.01 m\n",
      "Vehicle 1: 📍 Position: lat=-35.3632829, lon=149.1651690, alt=-0.01 m\n",
      "Vehicle 1: 📍 Position: lat=-35.3632829, lon=149.1651690, alt=-0.01 m\n",
      "Vehicle 1: 📍 Position: lat=-35.3632829, lon=149.1651690, alt=-0.01 m\n",
      "Vehicle 1: 📍 Position: lat=-35.3632829, lon=149.1651690, alt=-0.01 m\n",
      "Vehicle 1: 📍 Position: lat=-35.3632829, lon=149.1651690, alt=-0.01 m\n",
      "Vehicle 1: 📍 Position: lat=-35.3632829, lon=149.1651690, alt=-0.01 m\n",
      "Vehicle 1: 📍 Position: lat=-35.3632829, lon=149.1651690, alt=-0.01 m\n",
      "Oracle ⚪: 🔁 Received Remote ID from 1\n",
      "Vehicle 1: 📍 Position: lat=-35.3632829, lon=149.1651690, alt=-0.01 m\n",
      "Vehicle 1: 📍 Position: lat=-35.3632829, lon=149.1651690, alt=-0.01 m\n",
      "Vehicle 1: 📍 Position: lat=-35.3632829, lon=149.1651690, alt=-0.01 m\n",
      "Vehicle 1: 📍 Position: lat=-35.3632829, lon=149.1651690, alt=-0.01 m\n",
      "Vehicle 1: 📍 Position: lat=-35.3632829, lon=149.1651690, alt=-0.01 m\n",
      "Vehicle 1: 📍 Position: lat=-35.3632829, lon=149.1651690, alt=-0.01 m\n",
      "Vehicle 1: 📍 Position: lat=-35.3632829, lon=149.1651690, alt=-0.01 m\n",
      "Vehicle 1: 📍 Position: lat=-35.3632829, lon=149.1651690, alt=-0.01 m\n",
      "Vehicle 1: 📍 Position: lat=-35.3632829, lon=149.1651690, alt=-0.01 m\n",
      "Vehicle 1: 📍 Position: lat=-35.3632829, lon=149.1651690, alt=-0.01 m\n",
      "Oracle ⚪: 🔁 Received Remote ID from 1\n",
      "Vehicle 1: 📍 Position: lat=-35.3632829, lon=149.1651690, alt=-0.01 m\n",
      "Vehicle 1: 📍 Position: lat=-35.3632829, lon=149.1651690, alt=-0.01 m\n",
      "Vehicle 1: 📍 Position: lat=-35.3632829, lon=149.1651690, alt=-0.01 m\n",
      "Vehicle 1: 📍 Position: lat=-35.3632829, lon=149.1651690, alt=-0.01 m\n",
      "Vehicle 1: 📍 Position: lat=-35.3632829, lon=149.1651690, alt=-0.01 m\n",
      "Vehicle 1: 📍 Position: lat=-35.3632829, lon=149.1651690, alt=-0.01 m\n",
      "Vehicle 1: 📍 Position: lat=-35.3632829, lon=149.1651690, alt=-0.01 m\n",
      "Vehicle 1: 📍 Position: lat=-35.3632829, lon=149.1651690, alt=-0.01 m\n",
      "Vehicle 1: 📍 Position: lat=-35.3632829, lon=149.1651690, alt=-0.01 m\n",
      "Vehicle 1: 📍 Position: lat=-35.3632829, lon=149.1651690, alt=-0.01 m\n",
      "Oracle ⚪: 🔁 Received Remote ID from 1\n",
      "Vehicle 1: 📍 Position: lat=-35.3632829, lon=149.1651690, alt=-0.01 m\n",
      "Vehicle 1: 📍 Position: lat=-35.3632829, lon=149.1651690, alt=-0.01 m\n",
      "Vehicle 1: 📍 Position: lat=-35.3632829, lon=149.1651690, alt=-0.01 m\n",
      "Vehicle 1: 📍 Position: lat=-35.3632829, lon=149.1651690, alt=-0.01 m\n",
      "Vehicle 1: 📍 Position: lat=-35.3632829, lon=149.1651690, alt=-0.01 m\n",
      "Vehicle 1: 📍 Position: lat=-35.3632829, lon=149.1651690, alt=-0.01 m\n",
      "Vehicle 1: 📍 Position: lat=-35.3632829, lon=149.1651690, alt=-0.01 m\n",
      "Vehicle 1: 📍 Position: lat=-35.3632829, lon=149.1651690, alt=-0.01 m\n",
      "Vehicle 1: 📍 Position: lat=-35.3632829, lon=149.1651690, alt=-0.01 m\n",
      "Vehicle 1: 📍 Position: lat=-35.3632829, lon=149.1651690, alt=-0.01 m\n",
      "Oracle ⚪: 🔁 Received Remote ID from 1\n",
      "Vehicle 1: 📍 Position: lat=-35.3632829, lon=149.1651690, alt=-0.01 m\n",
      "Vehicle 1: 📍 Position: lat=-35.3632829, lon=149.1651690, alt=-0.01 m\n",
      "Vehicle 1: 📍 Position: lat=-35.3632829, lon=149.1651690, alt=-0.01 m\n",
      "Vehicle 1: 📍 Position: lat=-35.3632829, lon=149.1651690, alt=-0.01 m\n",
      "Vehicle 1: 📍 Position: lat=-35.3632829, lon=149.1651690, alt=-0.01 m\n",
      "Vehicle 1: 📍 Position: lat=-35.3632829, lon=149.1651690, alt=-0.01 m\n",
      "Vehicle 1: 📍 Position: lat=-35.3632829, lon=149.1651690, alt=-0.01 m\n",
      "Vehicle 1: 📍 Position: lat=-35.3632829, lon=149.1651690, alt=-0.01 m\n",
      "Vehicle 1: 📍 Position: lat=-35.3632829, lon=149.1651690, alt=-0.01 m\n",
      "Vehicle 1: 📍 Position: lat=-35.3632829, lon=149.1651690, alt=-0.01 m\n",
      "Oracle ⚪: 🔁 Received Remote ID from 1\n",
      "Vehicle 1: 📍 Position: lat=-35.3632829, lon=149.1651690, alt=-0.01 m\n",
      "Vehicle 1: 📍 Position: lat=-35.3632829, lon=149.1651690, alt=-0.01 m\n",
      "Vehicle 1: 📍 Position: lat=-35.3632829, lon=149.1651690, alt=-0.01 m\n",
      "Vehicle 1: 📍 Position: lat=-35.3632829, lon=149.1651690, alt=-0.01 m\n",
      "Vehicle 1: 📍 Position: lat=-35.3632829, lon=149.1651690, alt=-0.01 m\n",
      "Vehicle 1: 📍 Position: lat=-35.3632829, lon=149.1651690, alt=-0.01 m\n",
      "Vehicle 1: 📍 Position: lat=-35.3632829, lon=149.1651690, alt=-0.01 m\n",
      "Vehicle 1: 📍 Position: lat=-35.3632829, lon=149.1651690, alt=-0.01 m\n",
      "Vehicle 1: 📍 Position: lat=-35.3632829, lon=149.1651690, alt=-0.01 m\n",
      "Vehicle 1: 📍 Position: lat=-35.3632829, lon=149.1651690, alt=-0.01 m\n",
      "Oracle ⚪: 🔁 Received Remote ID from 1\n",
      "Vehicle 1: 📍 Position: lat=-35.3632829, lon=149.1651690, alt=-0.01 m\n",
      "Vehicle 1: 📍 Position: lat=-35.3632829, lon=149.1651690, alt=-0.01 m\n",
      "Vehicle 1: 📍 Position: lat=-35.3632829, lon=149.1651690, alt=-0.01 m\n",
      "Vehicle 1: 📍 Position: lat=-35.3632829, lon=149.1651690, alt=-0.01 m\n",
      "Vehicle 1: 📍 Position: lat=-35.3632829, lon=149.1651690, alt=-0.01 m\n",
      "Vehicle 1: 📍 Position: lat=-35.3632829, lon=149.1651690, alt=-0.01 m\n",
      "Vehicle 1: 📍 Position: lat=-35.3632829, lon=149.1651690, alt=-0.01 m\n",
      "Vehicle 1: 📍 Position: lat=-35.3632829, lon=149.1651690, alt=-0.01 m\n",
      "Vehicle 1: 📍 Position: lat=-35.3632829, lon=149.1651690, alt=-0.01 m\n",
      "Vehicle 1: 📍 Position: lat=-35.3632829, lon=149.1651690, alt=-0.01 m\n",
      "Oracle ⚪: 🔁 Received Remote ID from 1\n",
      "Vehicle 1: 📍 Position: lat=-35.3632829, lon=149.1651690, alt=-0.01 m\n",
      "Vehicle 1: 📍 Position: lat=-35.3632829, lon=149.1651690, alt=-0.01 m\n",
      "Vehicle 1: 📍 Position: lat=-35.3632829, lon=149.1651690, alt=-0.01 m\n",
      "Vehicle 1: 📍 Position: lat=-35.3632829, lon=149.1651690, alt=-0.01 m\n",
      "Vehicle 1: 📍 Position: lat=-35.3632829, lon=149.1651690, alt=-0.01 m\n",
      "Vehicle 1: 📍 Position: lat=-35.3632829, lon=149.1651690, alt=-0.01 m\n",
      "Vehicle 1: 📍 Position: lat=-35.3632829, lon=149.1651690, alt=-0.01 m\n",
      "Vehicle 1: 📍 Position: lat=-35.3632829, lon=149.1651690, alt=-0.01 m\n",
      "Vehicle 1: 📍 Position: lat=-35.3632829, lon=149.1651690, alt=-0.01 m\n",
      "Vehicle 1: 📍 Position: lat=-35.3632829, lon=149.1651690, alt=-0.01 m\n",
      "Oracle ⚪: 🔁 Received Remote ID from 1\n",
      "Vehicle 1: 📍 Position: lat=-35.3632829, lon=149.1651690, alt=-0.01 m\n",
      "Vehicle 1: 📍 Position: lat=-35.3632829, lon=149.1651690, alt=-0.01 m\n",
      "Vehicle 1: 📍 Position: lat=-35.3632829, lon=149.1651690, alt=-0.01 m\n",
      "Vehicle 1: 📍 Position: lat=-35.3632829, lon=149.1651690, alt=-0.01 m\n",
      "Vehicle 1: 📍 Position: lat=-35.3632829, lon=149.1651690, alt=-0.01 m\n",
      "Vehicle 1: 📍 Position: lat=-35.3632829, lon=149.1651690, alt=-0.01 m\n",
      "Vehicle 1: 📍 Position: lat=-35.3632829, lon=149.1651690, alt=-0.01 m\n",
      "Vehicle 1: 📍 Position: lat=-35.3632829, lon=149.1651690, alt=-0.01 m\n",
      "Vehicle 1: 📍 Position: lat=-35.3632829, lon=149.1651690, alt=-0.01 m\n",
      "Vehicle 1: 📍 Position: lat=-35.3632829, lon=149.1651690, alt=-0.01 m\n",
      "Oracle ⚪: 🔁 Received Remote ID from 1\n",
      "Vehicle 1: 📍 Position: lat=-35.3632829, lon=149.1651690, alt=-0.01 m\n",
      "Vehicle 1: 📍 Position: lat=-35.3632829, lon=149.1651690, alt=-0.01 m\n",
      "Vehicle 1: 📍 Position: lat=-35.3632829, lon=149.1651690, alt=-0.01 m\n",
      "Vehicle 1: 📍 Position: lat=-35.3632829, lon=149.1651690, alt=-0.01 m\n",
      "Vehicle 1: 📍 Position: lat=-35.3632829, lon=149.1651690, alt=-0.01 m\n",
      "Vehicle 1: 📍 Position: lat=-35.3632829, lon=149.1651690, alt=-0.01 m\n",
      "Vehicle 1: 📍 Position: lat=-35.3632829, lon=149.1651690, alt=-0.01 m\n",
      "Vehicle 1: 📍 Position: lat=-35.3632829, lon=149.1651690, alt=-0.01 m\n",
      "Vehicle 1: 📍 Position: lat=-35.3632829, lon=149.1651690, alt=-0.01 m\n",
      "Vehicle 1: 📍 Position: lat=-35.3632829, lon=149.1651690, alt=-0.01 m\n",
      "Oracle ⚪: 🔁 Received Remote ID from 1\n",
      "Vehicle 1: 📍 Position: lat=-35.3632829, lon=149.1651690, alt=-0.01 m\n",
      "Vehicle 1: 📍 Position: lat=-35.3632829, lon=149.1651690, alt=-0.01 m\n",
      "Vehicle 1: 📍 Position: lat=-35.3632829, lon=149.1651690, alt=-0.01 m\n",
      "Vehicle 1: 📍 Position: lat=-35.3632829, lon=149.1651690, alt=-0.01 m\n",
      "Vehicle 1: 📍 Position: lat=-35.3632829, lon=149.1651690, alt=-0.01 m\n",
      "Vehicle 1: 📍 Position: lat=-35.3632829, lon=149.1651690, alt=-0.01 m\n",
      "Vehicle 1: 📍 Position: lat=-35.3632829, lon=149.1651690, alt=-0.01 m\n",
      "Vehicle 1: 📍 Position: lat=-35.3632829, lon=149.1651690, alt=-0.01 m\n",
      "Vehicle 1: 📍 Position: lat=-35.3632829, lon=149.1651690, alt=-0.01 m\n",
      "Vehicle 1: 📍 Position: lat=-35.3632829, lon=149.1651690, alt=-0.01 m\n",
      "Oracle ⚪: 🔁 Received Remote ID from 1\n",
      "Vehicle 1: 📍 Position: lat=-35.3632829, lon=149.1651690, alt=-0.01 m\n",
      "Vehicle 1: 📍 Position: lat=-35.3632829, lon=149.1651690, alt=-0.01 m\n",
      "Vehicle 1: 📍 Position: lat=-35.3632829, lon=149.1651690, alt=-0.01 m\n",
      "Vehicle 1: 📍 Position: lat=-35.3632829, lon=149.1651690, alt=-0.01 m\n",
      "Vehicle 1: 📍 Position: lat=-35.3632829, lon=149.1651690, alt=-0.01 m\n",
      "Vehicle 1: 📍 Position: lat=-35.3632829, lon=149.1651690, alt=-0.01 m\n",
      "Vehicle 1: 📍 Position: lat=-35.3632829, lon=149.1651690, alt=-0.01 m\n",
      "Vehicle 1: 📍 Position: lat=-35.3632829, lon=149.1651690, alt=-0.01 m\n",
      "Vehicle 1: 📍 Position: lat=-35.3632829, lon=149.1651690, alt=-0.01 m\n",
      "Vehicle 1: 📍 Position: lat=-35.3632829, lon=149.1651690, alt=-0.01 m\n",
      "Oracle ⚪: 🔁 Received Remote ID from 1\n",
      "Vehicle 1: 📍 Position: lat=-35.3632829, lon=149.1651690, alt=-0.01 m\n",
      "Vehicle 1: 📍 Position: lat=-35.3632829, lon=149.1651690, alt=-0.01 m\n",
      "Vehicle 1: 📍 Position: lat=-35.3632829, lon=149.1651690, alt=-0.01 m\n",
      "Vehicle 1: 📍 Position: lat=-35.3632829, lon=149.1651690, alt=-0.01 m\n",
      "Vehicle 1: 📍 Position: lat=-35.3632829, lon=149.1651690, alt=-0.01 m\n",
      "Vehicle 1: 📍 Position: lat=-35.3632829, lon=149.1651690, alt=-0.02 m\n",
      "Vehicle 1: 📍 Position: lat=-35.3632829, lon=149.1651690, alt=-0.02 m\n",
      "Vehicle 1: 📍 Position: lat=-35.3632829, lon=149.1651690, alt=-0.02 m\n",
      "Vehicle 1: 📍 Position: lat=-35.3632829, lon=149.1651690, alt=-0.02 m\n",
      "Vehicle 1: 📍 Position: lat=-35.3632829, lon=149.1651690, alt=-0.02 m\n",
      "Oracle ⚪: 🔁 Received Remote ID from 1\n",
      "Vehicle 1: 📍 Position: lat=-35.3632829, lon=149.1651690, alt=-0.02 m\n",
      "Vehicle 1: 📍 Position: lat=-35.3632829, lon=149.1651690, alt=-0.02 m\n",
      "Vehicle 1: 📍 Position: lat=-35.3632829, lon=149.1651690, alt=-0.02 m\n",
      "Vehicle 1: 📍 Position: lat=-35.3632829, lon=149.1651690, alt=-0.02 m\n",
      "Vehicle 1: 📍 Position: lat=-35.3632829, lon=149.1651690, alt=-0.02 m\n",
      "Vehicle 1: 📍 Position: lat=-35.3632829, lon=149.1651690, alt=-0.02 m\n",
      "Vehicle 1: 📍 Position: lat=-35.3632829, lon=149.1651690, alt=-0.02 m\n",
      "Vehicle 1: 📍 Position: lat=-35.3632829, lon=149.1651690, alt=-0.02 m\n",
      "Vehicle 1: 📍 Position: lat=-35.3632829, lon=149.1651690, alt=-0.02 m\n",
      "Vehicle 1: 📍 Position: lat=-35.3632829, lon=149.1651690, alt=-0.02 m\n",
      "Oracle ⚪: 🔁 Received Remote ID from 1\n",
      "Vehicle 1: 📍 Position: lat=-35.3632829, lon=149.1651690, alt=-0.02 m\n",
      "Vehicle 1: 📍 Position: lat=-35.3632829, lon=149.1651690, alt=-0.02 m\n",
      "Vehicle 1: 📍 Position: lat=-35.3632829, lon=149.1651690, alt=-0.02 m\n",
      "Vehicle 1: 📍 Position: lat=-35.3632829, lon=149.1651690, alt=-0.02 m\n",
      "Vehicle 1: 📍 Position: lat=-35.3632829, lon=149.1651690, alt=-0.02 m\n",
      "Vehicle 1: 📍 Position: lat=-35.3632829, lon=149.1651690, alt=-0.02 m\n",
      "Vehicle 1: 📍 Position: lat=-35.3632829, lon=149.1651690, alt=-0.02 m\n",
      "Vehicle 1: 📍 Position: lat=-35.3632829, lon=149.1651690, alt=-0.02 m\n",
      "Vehicle 1: 📍 Position: lat=-35.3632829, lon=149.1651690, alt=-0.02 m\n",
      "Vehicle 1: 📍 Position: lat=-35.3632829, lon=149.1651690, alt=-0.02 m\n",
      "Vehicle 1: 📍 Position: lat=-35.3632829, lon=149.1651690, alt=-0.02 m\n",
      "Oracle ⚪: 🔁 Received Remote ID from 1\n",
      "Vehicle 1: 📍 Position: lat=-35.3632829, lon=149.1651690, alt=-0.02 m\n",
      "Vehicle 1: 📍 Position: lat=-35.3632829, lon=149.1651690, alt=-0.02 m\n",
      "Vehicle 1: 📍 Position: lat=-35.3632829, lon=149.1651690, alt=-0.02 m\n",
      "Vehicle 1: 📍 Position: lat=-35.3632829, lon=149.1651690, alt=-0.02 m\n",
      "Vehicle 1: 📍 Position: lat=-35.3632829, lon=149.1651690, alt=0.00 m\n",
      "Vehicle 1: 📍 Position: lat=-35.3632829, lon=149.1651690, alt=0.00 m\n",
      "Vehicle 1: 📍 Position: lat=-35.3632829, lon=149.1651690, alt=0.00 m\n",
      "Vehicle 1: 📍 Position: lat=-35.3632829, lon=149.1651690, alt=0.00 m\n",
      "Vehicle 1: 📍 Position: lat=-35.3632829, lon=149.1651690, alt=0.00 m\n",
      "Vehicle 1: 📍 Position: lat=-35.3632829, lon=149.1651690, alt=0.00 m\n",
      "Oracle ⚪: 🔁 Received Remote ID from 1\n",
      "Vehicle 1: 📍 Position: lat=-35.3632829, lon=149.1651690, alt=0.00 m\n",
      "Vehicle 1: 📍 Position: lat=-35.3632829, lon=149.1651690, alt=0.00 m\n",
      "Vehicle 1: 📍 Position: lat=-35.3632829, lon=149.1651690, alt=0.00 m\n",
      "Vehicle 1: 📍 Position: lat=-35.3632829, lon=149.1651690, alt=0.00 m\n",
      "Vehicle 1: 📍 Position: lat=-35.3632829, lon=149.1651690, alt=0.00 m\n",
      "Vehicle 1: 📍 Position: lat=-35.3632829, lon=149.1651690, alt=0.00 m\n",
      "Vehicle 1: 📍 Position: lat=-35.3632829, lon=149.1651690, alt=0.00 m\n",
      "Vehicle 1: 📍 Position: lat=-35.3632829, lon=149.1651690, alt=0.00 m\n",
      "Vehicle 1: 📍 Position: lat=-35.3632829, lon=149.1651690, alt=0.00 m\n",
      "Vehicle 1: 📍 Position: lat=-35.3632829, lon=149.1651690, alt=0.00 m\n",
      "Vehicle 1: 📍 Position: lat=-35.3632829, lon=149.1651690, alt=0.00 m\n",
      "Vehicle 1: 📍 Position: lat=-35.3632829, lon=149.1651690, alt=0.00 m\n",
      "Vehicle 1: 📍 Position: lat=-35.3632829, lon=149.1651690, alt=0.00 m\n",
      "Vehicle 1: 📍 Position: lat=-35.3632829, lon=149.1651690, alt=0.00 m\n",
      "Vehicle 1: 📍 Position: lat=-35.3632829, lon=149.1651690, alt=0.00 m\n",
      "Vehicle 1: 📍 Position: lat=-35.3632829, lon=149.1651690, alt=0.00 m\n",
      "Vehicle 1: 📍 Position: lat=-35.3632829, lon=149.1651690, alt=0.00 m\n",
      "Vehicle 1: 📍 Position: lat=-35.3632829, lon=149.1651690, alt=0.00 m\n",
      "Vehicle 1: 📍 Position: lat=-35.3632829, lon=149.1651690, alt=0.00 m\n",
      "Vehicle 1: 📍 Position: lat=-35.3632829, lon=149.1651690, alt=0.00 m\n",
      "Vehicle 1: 📍 Position: lat=-35.3632829, lon=149.1651690, alt=0.00 m\n",
      "Vehicle 1: 📍 Position: lat=-35.3632829, lon=149.1651690, alt=0.00 m\n",
      "Vehicle 1: 📍 Position: lat=-35.3632829, lon=149.1651690, alt=0.00 m\n",
      "Vehicle 1: 📍 Position: lat=-35.3632829, lon=149.1651690, alt=0.00 m\n",
      "Vehicle 1: 📍 Position: lat=-35.3632829, lon=149.1651690, alt=0.00 m\n",
      "Vehicle 1: 📍 Position: lat=-35.3632829, lon=149.1651690, alt=0.00 m\n",
      "Vehicle 1: 📍 Position: lat=-35.3632829, lon=149.1651690, alt=0.00 m\n",
      "Vehicle 1: 📍 Position: lat=-35.3632829, lon=149.1651690, alt=0.01 m\n",
      "Vehicle 1: 📍 Position: lat=-35.3632829, lon=149.1651690, alt=0.02 m\n",
      "Vehicle 1: 📍 Position: lat=-35.3632829, lon=149.1651690, alt=0.04 m\n",
      "Vehicle 1: 📍 Position: lat=-35.3632829, lon=149.1651690, alt=0.06 m\n",
      "Vehicle 1: 📍 Position: lat=-35.3632829, lon=149.1651690, alt=0.09 m\n",
      "Vehicle 1: 📍 Position: lat=-35.3632829, lon=149.1651690, alt=0.12 m\n",
      "Vehicle 1: 📍 Position: lat=-35.3632829, lon=149.1651690, alt=0.17 m\n",
      "Vehicle 1: 📍 Position: lat=-35.3632829, lon=149.1651690, alt=0.27 m\n",
      "Vehicle 1: 📍 Position: lat=-35.3632829, lon=149.1651690, alt=0.39 m\n",
      "Vehicle 1: 📍 Position: lat=-35.3632829, lon=149.1651690, alt=0.50 m\n",
      "Vehicle 1: 📍 Position: lat=-35.3632829, lon=149.1651690, alt=0.61 m\n",
      "Vehicle 1: 📍 Position: lat=-35.3632829, lon=149.1651690, alt=0.72 m\n",
      "Vehicle 1: 📍 Position: lat=-35.3632829, lon=149.1651690, alt=0.84 m\n",
      "Vehicle 1: 📍 Position: lat=-35.3632829, lon=149.1651690, alt=0.98 m\n",
      "Vehicle 1: 📍 Position: lat=-35.3632829, lon=149.1651690, alt=1.12 m\n",
      "Vehicle 1: 📍 Position: lat=-35.3632829, lon=149.1651690, alt=1.27 m\n",
      "Vehicle 1: 📍 Position: lat=-35.3632829, lon=149.1651690, alt=1.43 m\n",
      "Vehicle 1: 📍 Position: lat=-35.3632829, lon=149.1651691, alt=1.61 m\n",
      "Vehicle 1: 📍 Position: lat=-35.3632829, lon=149.1651691, alt=1.78 m\n",
      "Vehicle 1: 📍 Position: lat=-35.3632829, lon=149.1651691, alt=1.97 m\n",
      "Vehicle 1: 📍 Position: lat=-35.3632829, lon=149.1651691, alt=2.15 m\n",
      "Vehicle 1: 📍 Position: lat=-35.3632829, lon=149.1651691, alt=2.33 m\n",
      "Vehicle 1: 📍 Position: lat=-35.3632829, lon=149.1651691, alt=2.51 m\n",
      "Vehicle 1: 📍 Position: lat=-35.3632829, lon=149.1651691, alt=2.69 m\n",
      "Vehicle 1: 📍 Position: lat=-35.3632829, lon=149.1651691, alt=2.86 m\n",
      "Vehicle 1: 📍 Position: lat=-35.3632829, lon=149.1651691, alt=3.02 m\n",
      "Vehicle 1: 📍 Position: lat=-35.3632829, lon=149.1651691, alt=3.18 m\n",
      "Vehicle 1: 📍 Position: lat=-35.3632829, lon=149.1651692, alt=3.33 m\n",
      "Vehicle 1: 📍 Position: lat=-35.3632829, lon=149.1651692, alt=3.47 m\n",
      "Vehicle 1: 📍 Position: lat=-35.3632829, lon=149.1651692, alt=3.60 m\n",
      "Vehicle 1: 📍 Position: lat=-35.3632829, lon=149.1651692, alt=3.73 m\n",
      "Vehicle 1: 📍 Position: lat=-35.3632829, lon=149.1651692, alt=3.86 m\n",
      "Vehicle 1: 📍 Position: lat=-35.3632829, lon=149.1651692, alt=3.97 m\n",
      "Vehicle 1: 📍 Position: lat=-35.3632829, lon=149.1651692, alt=4.08 m\n",
      "Vehicle 1: 📍 Position: lat=-35.3632829, lon=149.1651692, alt=4.18 m\n",
      "Vehicle 1: 📍 Position: lat=-35.3632829, lon=149.1651692, alt=4.28 m\n",
      "Vehicle 1: 📍 Position: lat=-35.3632829, lon=149.1651692, alt=4.37 m\n",
      "Vehicle 1: 📍 Position: lat=-35.3632829, lon=149.1651692, alt=4.46 m\n",
      "Vehicle 1: 📍 Position: lat=-35.3632829, lon=149.1651692, alt=4.53 m\n",
      "Vehicle 1: 📍 Position: lat=-35.3632829, lon=149.1651692, alt=4.61 m\n",
      "Vehicle 1: 📍 Position: lat=-35.3632829, lon=149.1651692, alt=4.67 m\n",
      "Vehicle 1: 📍 Position: lat=-35.3632829, lon=149.1651692, alt=4.74 m\n",
      "Vehicle 1: 📍 Position: lat=-35.3632829, lon=149.1651692, alt=4.79 m\n",
      "Vehicle 1: 📍 Position: lat=-35.3632829, lon=149.1651692, alt=4.84 m\n",
      "Vehicle 1: 📍 Position: lat=-35.3632829, lon=149.1651692, alt=4.89 m\n",
      "Vehicle 1: 📍 Position: lat=-35.3632829, lon=149.1651692, alt=4.93 m\n",
      "Vehicle 1: 📍 Position: lat=-35.3632829, lon=149.1651692, alt=4.96 m\n",
      "Vehicle 1: 📍 Position: lat=-35.3632829, lon=149.1651692, alt=4.99 m\n",
      "Oracle ⚪: 🔁 Received Remote ID from 1\n",
      "Vehicle 1: 📍 Position: lat=-35.3632829, lon=149.1651692, alt=5.00 m\n",
      "Vehicle 1: 📍 Position: lat=-35.3632829, lon=149.1651692, alt=5.01 m\n",
      "Vehicle 1: 📍 Position: lat=-35.3632829, lon=149.1651692, alt=5.02 m\n",
      "Vehicle 1: 📍 Position: lat=-35.3632829, lon=149.1651692, alt=5.02 m\n",
      "Vehicle 1: 📍 Position: lat=-35.3632829, lon=149.1651692, alt=5.01 m\n",
      "Vehicle 1: 📍 Position: lat=-35.3632829, lon=149.1651692, alt=5.01 m\n",
      "Vehicle 1: 📍 Position: lat=-35.3632829, lon=149.1651691, alt=5.00 m\n",
      "Vehicle 1: 📍 Position: lat=-35.3632830, lon=149.1651690, alt=4.99 m\n",
      "Vehicle 1: 📍 Position: lat=-35.3632831, lon=149.1651689, alt=4.99 m\n",
      "Vehicle 1: 📍 Position: lat=-35.3632832, lon=149.1651687, alt=4.98 m\n",
      "Vehicle 1: 📍 Position: lat=-35.3632833, lon=149.1651685, alt=4.97 m\n",
      "Vehicle 1: 📍 Position: lat=-35.3632835, lon=149.1651682, alt=4.97 m\n",
      "Vehicle 1: 📍 Position: lat=-35.3632838, lon=149.1651679, alt=4.97 m\n",
      "Vehicle 1: 📍 Position: lat=-35.3632841, lon=149.1651675, alt=4.96 m\n",
      "Vehicle 1: 📍 Position: lat=-35.3632844, lon=149.1651670, alt=4.96 m\n",
      "Vehicle 1: 📍 Position: lat=-35.3632848, lon=149.1651665, alt=4.96 m\n",
      "Vehicle 1: 📍 Position: lat=-35.3632853, lon=149.1651658, alt=4.96 m\n",
      "Vehicle 1: 📍 Position: lat=-35.3632858, lon=149.1651651, alt=4.96 m\n",
      "Vehicle 1: 📍 Position: lat=-35.3632864, lon=149.1651643, alt=4.96 m\n",
      "Vehicle 1: 📍 Position: lat=-35.3632871, lon=149.1651634, alt=4.97 m\n",
      "Vehicle 1: 📍 Position: lat=-35.3632879, lon=149.1651624, alt=4.97 m\n",
      "Vehicle 1: 📍 Position: lat=-35.3632887, lon=149.1651613, alt=4.97 m\n",
      "Vehicle 1: 📍 Position: lat=-35.3632896, lon=149.1651601, alt=4.97 m\n",
      "Vehicle 1: 📍 Position: lat=-35.3632906, lon=149.1651587, alt=4.97 m\n",
      "Vehicle 1: 📍 Position: lat=-35.3632917, lon=149.1651573, alt=4.98 m\n",
      "Vehicle 1: 📍 Position: lat=-35.3632928, lon=149.1651558, alt=4.98 m\n",
      "Vehicle 1: 📍 Position: lat=-35.3632940, lon=149.1651541, alt=4.98 m\n",
      "Vehicle 1: 📍 Position: lat=-35.3632953, lon=149.1651524, alt=4.98 m\n",
      "Vehicle 1: 📍 Position: lat=-35.3632966, lon=149.1651506, alt=4.98 m\n",
      "Vehicle 1: 📍 Position: lat=-35.3632979, lon=149.1651488, alt=4.99 m\n",
      "Vehicle 1: 📍 Position: lat=-35.3632993, lon=149.1651468, alt=4.99 m\n",
      "Vehicle 1: 📍 Position: lat=-35.3633008, lon=149.1651449, alt=4.99 m\n",
      "Vehicle 1: 📍 Position: lat=-35.3633023, lon=149.1651429, alt=4.99 m\n",
      "Vehicle 1: 📍 Position: lat=-35.3633038, lon=149.1651408, alt=4.99 m\n",
      "Vehicle 1: 📍 Position: lat=-35.3633053, lon=149.1651387, alt=4.99 m\n",
      "Vehicle 1: 📍 Position: lat=-35.3633069, lon=149.1651366, alt=4.99 m\n",
      "Vehicle 1: 📍 Position: lat=-35.3633084, lon=149.1651345, alt=4.99 m\n",
      "Vehicle 1: 📍 Position: lat=-35.3633100, lon=149.1651323, alt=4.99 m\n",
      "Vehicle 1: 📍 Position: lat=-35.3633116, lon=149.1651302, alt=4.99 m\n",
      "Vehicle 1: 📍 Position: lat=-35.3633132, lon=149.1651280, alt=5.00 m\n",
      "Vehicle 1: 📍 Position: lat=-35.3633148, lon=149.1651258, alt=5.00 m\n",
      "Vehicle 1: 📍 Position: lat=-35.3633164, lon=149.1651236, alt=5.00 m\n",
      "Vehicle 1: 📍 Position: lat=-35.3633180, lon=149.1651215, alt=5.00 m\n",
      "Vehicle 1: 📍 Position: lat=-35.3633196, lon=149.1651193, alt=5.00 m\n",
      "Vehicle 1: 📍 Position: lat=-35.3633212, lon=149.1651171, alt=5.00 m\n",
      "Vehicle 1: 📍 Position: lat=-35.3633227, lon=149.1651149, alt=5.00 m\n",
      "Vehicle 1: 📍 Position: lat=-35.3633243, lon=149.1651127, alt=5.00 m\n",
      "Vehicle 1: 📍 Position: lat=-35.3633258, lon=149.1651105, alt=5.00 m\n",
      "Vehicle 1: 📍 Position: lat=-35.3633273, lon=149.1651083, alt=5.00 m\n",
      "Vehicle 1: 📍 Position: lat=-35.3633287, lon=149.1651061, alt=5.00 m\n",
      "Vehicle 1: 📍 Position: lat=-35.3633301, lon=149.1651039, alt=5.00 m\n",
      "Vehicle 1: 📍 Position: lat=-35.3633314, lon=149.1651017, alt=5.00 m\n",
      "Vehicle 1: 📍 Position: lat=-35.3633326, lon=149.1650994, alt=5.00 m\n",
      "Vehicle 1: 📍 Position: lat=-35.3633337, lon=149.1650972, alt=5.00 m\n",
      "Vehicle 1: 📍 Position: lat=-35.3633347, lon=149.1650950, alt=5.00 m\n",
      "Vehicle 1: 📍 Position: lat=-35.3633355, lon=149.1650928, alt=5.00 m\n",
      "Vehicle 1: 📍 Position: lat=-35.3633362, lon=149.1650906, alt=5.00 m\n",
      "Vehicle 1: 📍 Position: lat=-35.3633368, lon=149.1650884, alt=5.00 m\n",
      "Vehicle 1: 📍 Position: lat=-35.3633372, lon=149.1650862, alt=5.00 m\n",
      "Vehicle 1: 📍 Position: lat=-35.3633374, lon=149.1650840, alt=5.00 m\n",
      "Oracle ⚪: 🔁 Received Remote ID from 1\n",
      "Vehicle 1: 📍 Position: lat=-35.3633375, lon=149.1650818, alt=5.00 m\n",
      "Vehicle 1: 📍 Position: lat=-35.3633373, lon=149.1650796, alt=5.00 m\n",
      "Vehicle 1: 📍 Position: lat=-35.3633370, lon=149.1650774, alt=5.00 m\n",
      "Vehicle 1: 📍 Position: lat=-35.3633366, lon=149.1650752, alt=5.00 m\n",
      "Vehicle 1: 📍 Position: lat=-35.3633360, lon=149.1650731, alt=5.00 m\n",
      "Vehicle 1: 📍 Position: lat=-35.3633352, lon=149.1650709, alt=5.00 m\n",
      "Vehicle 1: 📍 Position: lat=-35.3633342, lon=149.1650688, alt=5.00 m\n",
      "Vehicle 1: 📍 Position: lat=-35.3633331, lon=149.1650666, alt=5.00 m\n",
      "Vehicle 1: 📍 Position: lat=-35.3633319, lon=149.1650644, alt=5.00 m\n",
      "Vehicle 1: 📍 Position: lat=-35.3633306, lon=149.1650623, alt=5.00 m\n",
      "Vehicle 1: 📍 Position: lat=-35.3633292, lon=149.1650602, alt=5.00 m\n",
      "Vehicle 1: 📍 Position: lat=-35.3633277, lon=149.1650581, alt=5.00 m\n",
      "Vehicle 1: 📍 Position: lat=-35.3633261, lon=149.1650560, alt=5.00 m\n",
      "Vehicle 1: 📍 Position: lat=-35.3633245, lon=149.1650538, alt=5.00 m\n",
      "Vehicle 1: 📍 Position: lat=-35.3633228, lon=149.1650517, alt=5.00 m\n",
      "Vehicle 1: 📍 Position: lat=-35.3633211, lon=149.1650496, alt=5.00 m\n",
      "Vehicle 1: 📍 Position: lat=-35.3633193, lon=149.1650476, alt=5.00 m\n",
      "Vehicle 1: 📍 Position: lat=-35.3633175, lon=149.1650455, alt=5.00 m\n",
      "Vehicle 1: 📍 Position: lat=-35.3633158, lon=149.1650434, alt=5.00 m\n",
      "Vehicle 1: 📍 Position: lat=-35.3633140, lon=149.1650414, alt=5.00 m\n",
      "Vehicle 1: 📍 Position: lat=-35.3633122, lon=149.1650393, alt=5.00 m\n",
      "Vehicle 1: 📍 Position: lat=-35.3633105, lon=149.1650373, alt=5.00 m\n",
      "Vehicle 1: 📍 Position: lat=-35.3633087, lon=149.1650352, alt=5.00 m\n",
      "Vehicle 1: 📍 Position: lat=-35.3633069, lon=149.1650332, alt=5.00 m\n",
      "Vehicle 1: 📍 Position: lat=-35.3633051, lon=149.1650312, alt=5.00 m\n",
      "Vehicle 1: 📍 Position: lat=-35.3633034, lon=149.1650293, alt=5.00 m\n",
      "Vehicle 1: 📍 Position: lat=-35.3633016, lon=149.1650274, alt=5.00 m\n",
      "Vehicle 1: 📍 Position: lat=-35.3632998, lon=149.1650256, alt=5.00 m\n",
      "Vehicle 1: 📍 Position: lat=-35.3632980, lon=149.1650239, alt=5.00 m\n",
      "Vehicle 1: 📍 Position: lat=-35.3632962, lon=149.1650223, alt=5.00 m\n",
      "Vehicle 1: 📍 Position: lat=-35.3632944, lon=149.1650209, alt=5.00 m\n",
      "Vehicle 1: 📍 Position: lat=-35.3632926, lon=149.1650195, alt=5.00 m\n",
      "Vehicle 1: 📍 Position: lat=-35.3632908, lon=149.1650183, alt=5.00 m\n",
      "Vehicle 1: 📍 Position: lat=-35.3632890, lon=149.1650173, alt=5.00 m\n",
      "Vehicle 1: 📍 Position: lat=-35.3632872, lon=149.1650165, alt=5.00 m\n",
      "Vehicle 1: 📍 Position: lat=-35.3632854, lon=149.1650158, alt=5.00 m\n",
      "Vehicle 1: 📍 Position: lat=-35.3632836, lon=149.1650154, alt=5.00 m\n",
      "Vehicle 1: 📍 Position: lat=-35.3632819, lon=149.1650152, alt=5.00 m\n",
      "Oracle ⚪: 🔁 Received Remote ID from 1\n",
      "Vehicle 1: 📍 Position: lat=-35.3632801, lon=149.1650152, alt=5.00 m\n",
      "Vehicle 1: 📍 Position: lat=-35.3632783, lon=149.1650154, alt=5.00 m\n",
      "Vehicle 1: 📍 Position: lat=-35.3632765, lon=149.1650158, alt=5.00 m\n",
      "Vehicle 1: 📍 Position: lat=-35.3632747, lon=149.1650165, alt=5.00 m\n",
      "Vehicle 1: 📍 Position: lat=-35.3632730, lon=149.1650174, alt=5.00 m\n",
      "Vehicle 1: 📍 Position: lat=-35.3632712, lon=149.1650183, alt=5.00 m\n",
      "Vehicle 1: 📍 Position: lat=-35.3632694, lon=149.1650195, alt=5.00 m\n",
      "Vehicle 1: 📍 Position: lat=-35.3632676, lon=149.1650209, alt=5.00 m\n",
      "Vehicle 1: 📍 Position: lat=-35.3632659, lon=149.1650224, alt=5.00 m\n",
      "Vehicle 1: 📍 Position: lat=-35.3632641, lon=149.1650240, alt=5.00 m\n",
      "Vehicle 1: 📍 Position: lat=-35.3632624, lon=149.1650258, alt=5.00 m\n",
      "Vehicle 1: 📍 Position: lat=-35.3632606, lon=149.1650276, alt=5.00 m\n",
      "Vehicle 1: 📍 Position: lat=-35.3632589, lon=149.1650296, alt=5.00 m\n",
      "Vehicle 1: 📍 Position: lat=-35.3632571, lon=149.1650315, alt=5.00 m\n",
      "Vehicle 1: 📍 Position: lat=-35.3632554, lon=149.1650336, alt=5.00 m\n",
      "Vehicle 1: 📍 Position: lat=-35.3632537, lon=149.1650356, alt=5.00 m\n",
      "Vehicle 1: 📍 Position: lat=-35.3632520, lon=149.1650377, alt=5.00 m\n",
      "Vehicle 1: 📍 Position: lat=-35.3632503, lon=149.1650399, alt=5.00 m\n",
      "Vehicle 1: 📍 Position: lat=-35.3632486, lon=149.1650420, alt=5.00 m\n",
      "Vehicle 1: 📍 Position: lat=-35.3632469, lon=149.1650441, alt=5.00 m\n",
      "Vehicle 1: 📍 Position: lat=-35.3632452, lon=149.1650462, alt=5.00 m\n",
      "Vehicle 1: 📍 Position: lat=-35.3632436, lon=149.1650483, alt=5.00 m\n",
      "Vehicle 1: 📍 Position: lat=-35.3632419, lon=149.1650504, alt=5.00 m\n",
      "Vehicle 1: 📍 Position: lat=-35.3632403, lon=149.1650525, alt=5.00 m\n",
      "Vehicle 1: 📍 Position: lat=-35.3632387, lon=149.1650547, alt=5.00 m\n",
      "Vehicle 1: 📍 Position: lat=-35.3632372, lon=149.1650568, alt=5.00 m\n",
      "Vehicle 1: 📍 Position: lat=-35.3632358, lon=149.1650589, alt=5.00 m\n",
      "Vehicle 1: 📍 Position: lat=-35.3632344, lon=149.1650611, alt=5.00 m\n",
      "Vehicle 1: 📍 Position: lat=-35.3632331, lon=149.1650632, alt=5.00 m\n",
      "Vehicle 1: 📍 Position: lat=-35.3632319, lon=149.1650654, alt=5.00 m\n",
      "Vehicle 1: 📍 Position: lat=-35.3632308, lon=149.1650676, alt=5.00 m\n",
      "Vehicle 1: 📍 Position: lat=-35.3632298, lon=149.1650698, alt=5.00 m\n",
      "Vehicle 1: 📍 Position: lat=-35.3632290, lon=149.1650720, alt=5.00 m\n",
      "Vehicle 1: 📍 Position: lat=-35.3632283, lon=149.1650743, alt=5.00 m\n",
      "Vehicle 1: 📍 Position: lat=-35.3632277, lon=149.1650765, alt=5.00 m\n",
      "Vehicle 1: 📍 Position: lat=-35.3632274, lon=149.1650788, alt=5.00 m\n",
      "Oracle ⚪: 🔁 Received Remote ID from 1\n",
      "Vehicle 1: 📍 Position: lat=-35.3632272, lon=149.1650810, alt=5.00 m\n",
      "Vehicle 1: 📍 Position: lat=-35.3632271, lon=149.1650834, alt=5.00 m\n",
      "Vehicle 1: 📍 Position: lat=-35.3632273, lon=149.1650857, alt=5.00 m\n",
      "Vehicle 1: 📍 Position: lat=-35.3632276, lon=149.1650880, alt=5.00 m\n",
      "Vehicle 1: 📍 Position: lat=-35.3632280, lon=149.1650903, alt=5.00 m\n",
      "Vehicle 1: 📍 Position: lat=-35.3632287, lon=149.1650927, alt=5.00 m\n",
      "Vehicle 1: 📍 Position: lat=-35.3632295, lon=149.1650950, alt=5.00 m\n",
      "Vehicle 1: 📍 Position: lat=-35.3632304, lon=149.1650974, alt=5.00 m\n",
      "Vehicle 1: 📍 Position: lat=-35.3632315, lon=149.1650998, alt=5.00 m\n",
      "Vehicle 1: 📍 Position: lat=-35.3632326, lon=149.1651022, alt=5.00 m\n",
      "Vehicle 1: 📍 Position: lat=-35.3632339, lon=149.1651046, alt=5.00 m\n",
      "Vehicle 1: 📍 Position: lat=-35.3632352, lon=149.1651070, alt=5.00 m\n",
      "Vehicle 1: 📍 Position: lat=-35.3632366, lon=149.1651094, alt=5.00 m\n",
      "Vehicle 1: 📍 Position: lat=-35.3632381, lon=149.1651118, alt=5.00 m\n",
      "Vehicle 1: 📍 Position: lat=-35.3632396, lon=149.1651142, alt=5.00 m\n",
      "Vehicle 1: 📍 Position: lat=-35.3632412, lon=149.1651167, alt=5.00 m\n",
      "Vehicle 1: 📍 Position: lat=-35.3632428, lon=149.1651191, alt=5.00 m\n",
      "Vehicle 1: 📍 Position: lat=-35.3632444, lon=149.1651215, alt=5.00 m\n",
      "Vehicle 1: 📍 Position: lat=-35.3632460, lon=149.1651239, alt=5.00 m\n",
      "Vehicle 1: 📍 Position: lat=-35.3632477, lon=149.1651264, alt=5.00 m\n",
      "Vehicle 1: 📍 Position: lat=-35.3632493, lon=149.1651288, alt=5.00 m\n",
      "Vehicle 1: 📍 Position: lat=-35.3632509, lon=149.1651312, alt=5.00 m\n",
      "Vehicle 1: 📍 Position: lat=-35.3632525, lon=149.1651336, alt=5.00 m\n",
      "Vehicle 1: 📍 Position: lat=-35.3632542, lon=149.1651360, alt=5.00 m\n",
      "Vehicle 1: 📍 Position: lat=-35.3632558, lon=149.1651383, alt=5.00 m\n",
      "Vehicle 1: 📍 Position: lat=-35.3632574, lon=149.1651407, alt=5.00 m\n",
      "Vehicle 1: 📍 Position: lat=-35.3632590, lon=149.1651430, alt=5.00 m\n",
      "Vehicle 1: 📍 Position: lat=-35.3632605, lon=149.1651452, alt=5.00 m\n",
      "Vehicle 1: 📍 Position: lat=-35.3632621, lon=149.1651474, alt=5.00 m\n",
      "Vehicle 1: 📍 Position: lat=-35.3632636, lon=149.1651496, alt=5.00 m\n",
      "Vehicle 1: 📍 Position: lat=-35.3632651, lon=149.1651517, alt=5.00 m\n",
      "Vehicle 1: 📍 Position: lat=-35.3632665, lon=149.1651537, alt=5.00 m\n",
      "Vehicle 1: 📍 Position: lat=-35.3632679, lon=149.1651556, alt=5.00 m\n",
      "Vehicle 1: 📍 Position: lat=-35.3632692, lon=149.1651575, alt=5.00 m\n",
      "Vehicle 1: 📍 Position: lat=-35.3632704, lon=149.1651592, alt=5.00 m\n",
      "Vehicle 1: 📍 Position: lat=-35.3632716, lon=149.1651609, alt=5.00 m\n",
      "Vehicle 1: 📍 Position: lat=-35.3632728, lon=149.1651624, alt=5.00 m\n",
      "Vehicle 1: 📍 Position: lat=-35.3632738, lon=149.1651639, alt=5.00 m\n",
      "Vehicle 1: 📍 Position: lat=-35.3632748, lon=149.1651652, alt=5.00 m\n",
      "Vehicle 1: 📍 Position: lat=-35.3632757, lon=149.1651664, alt=5.00 m\n",
      "Vehicle 1: 📍 Position: lat=-35.3632765, lon=149.1651674, alt=5.00 m\n",
      "Vehicle 1: 📍 Position: lat=-35.3632772, lon=149.1651683, alt=5.00 m\n",
      "Vehicle 1: 📍 Position: lat=-35.3632778, lon=149.1651691, alt=5.00 m\n",
      "Vehicle 1: 📍 Position: lat=-35.3632784, lon=149.1651698, alt=5.00 m\n",
      "Vehicle 1: 📍 Position: lat=-35.3632788, lon=149.1651704, alt=5.00 m\n",
      "Vehicle 1: 📍 Position: lat=-35.3632792, lon=149.1651709, alt=5.00 m\n",
      "Vehicle 1: 📍 Position: lat=-35.3632796, lon=149.1651713, alt=5.00 m\n",
      "Vehicle 1: 📍 Position: lat=-35.3632799, lon=149.1651716, alt=5.00 m\n",
      "Vehicle 1: 📍 Position: lat=-35.3632801, lon=149.1651719, alt=5.00 m\n",
      "Vehicle 1: 📍 Position: lat=-35.3632803, lon=149.1651721, alt=5.00 m\n",
      "Vehicle 1: 📍 Position: lat=-35.3632805, lon=149.1651722, alt=5.00 m\n",
      "Vehicle 1: 📍 Position: lat=-35.3632806, lon=149.1651723, alt=5.00 m\n",
      "Vehicle 1: 📍 Position: lat=-35.3632807, lon=149.1651724, alt=5.00 m\n",
      "Vehicle 1: 📍 Position: lat=-35.3632807, lon=149.1651724, alt=5.00 m\n",
      "Vehicle 1: 📍 Position: lat=-35.3632808, lon=149.1651724, alt=5.00 m\n",
      "Vehicle 1: 📍 Position: lat=-35.3632808, lon=149.1651724, alt=5.00 m\n",
      "Oracle ⚪: 🔁 Received Remote ID from 1\n",
      "Vehicle 1: 📍 Position: lat=-35.3632808, lon=149.1651724, alt=5.00 m\n",
      "Vehicle 1: 📍 Position: lat=-35.3632808, lon=149.1651724, alt=5.00 m\n",
      "Vehicle 1: 📍 Position: lat=-35.3632808, lon=149.1651724, alt=4.99 m\n",
      "Vehicle 1: 📍 Position: lat=-35.3632809, lon=149.1651724, alt=4.98 m\n",
      "Vehicle 1: 📍 Position: lat=-35.3632809, lon=149.1651725, alt=4.96 m\n",
      "Vehicle 1: 📍 Position: lat=-35.3632808, lon=149.1651725, alt=4.92 m\n",
      "Vehicle 1: 📍 Position: lat=-35.3632808, lon=149.1651725, alt=4.88 m\n",
      "Vehicle 1: 📍 Position: lat=-35.3632808, lon=149.1651725, alt=4.84 m\n",
      "Vehicle 1: 📍 Position: lat=-35.3632808, lon=149.1651725, alt=4.79 m\n",
      "Vehicle 1: 📍 Position: lat=-35.3632808, lon=149.1651725, alt=4.74 m\n",
      "Vehicle 1: 📍 Position: lat=-35.3632808, lon=149.1651725, alt=4.69 m\n",
      "Vehicle 1: 📍 Position: lat=-35.3632808, lon=149.1651725, alt=4.63 m\n",
      "Vehicle 1: 📍 Position: lat=-35.3632808, lon=149.1651725, alt=4.58 m\n",
      "Vehicle 1: 📍 Position: lat=-35.3632807, lon=149.1651725, alt=4.52 m\n",
      "Vehicle 1: 📍 Position: lat=-35.3632807, lon=149.1651725, alt=4.47 m\n",
      "Vehicle 1: 📍 Position: lat=-35.3632807, lon=149.1651725, alt=4.42 m\n",
      "Vehicle 1: 📍 Position: lat=-35.3632807, lon=149.1651725, alt=4.36 m\n",
      "Vehicle 1: 📍 Position: lat=-35.3632806, lon=149.1651725, alt=4.31 m\n",
      "Vehicle 1: 📍 Position: lat=-35.3632806, lon=149.1651725, alt=4.26 m\n",
      "Vehicle 1: 📍 Position: lat=-35.3632805, lon=149.1651725, alt=4.21 m\n",
      "Vehicle 1: 📍 Position: lat=-35.3632805, lon=149.1651725, alt=4.16 m\n",
      "Vehicle 1: 📍 Position: lat=-35.3632805, lon=149.1651725, alt=4.11 m\n",
      "Vehicle 1: 📍 Position: lat=-35.3632804, lon=149.1651725, alt=4.05 m\n",
      "Vehicle 1: 📍 Position: lat=-35.3632804, lon=149.1651725, alt=4.00 m\n",
      "Vehicle 1: 📍 Position: lat=-35.3632803, lon=149.1651724, alt=3.96 m\n",
      "Vehicle 1: 📍 Position: lat=-35.3632803, lon=149.1651724, alt=3.91 m\n",
      "Vehicle 1: 📍 Position: lat=-35.3632803, lon=149.1651724, alt=3.86 m\n",
      "Vehicle 1: 📍 Position: lat=-35.3632802, lon=149.1651724, alt=3.81 m\n",
      "Vehicle 1: 📍 Position: lat=-35.3632802, lon=149.1651724, alt=3.76 m\n",
      "Vehicle 1: 📍 Position: lat=-35.3632802, lon=149.1651724, alt=3.71 m\n",
      "Vehicle 1: 📍 Position: lat=-35.3632802, lon=149.1651724, alt=3.66 m\n",
      "Vehicle 1: 📍 Position: lat=-35.3632801, lon=149.1651723, alt=3.61 m\n",
      "Vehicle 1: 📍 Position: lat=-35.3632801, lon=149.1651723, alt=3.56 m\n",
      "Vehicle 1: 📍 Position: lat=-35.3632801, lon=149.1651723, alt=3.51 m\n",
      "Vehicle 1: 📍 Position: lat=-35.3632801, lon=149.1651723, alt=3.46 m\n",
      "Vehicle 1: 📍 Position: lat=-35.3632801, lon=149.1651723, alt=3.41 m\n",
      "Vehicle 1: 📍 Position: lat=-35.3632800, lon=149.1651723, alt=3.36 m\n",
      "Vehicle 1: 📍 Position: lat=-35.3632800, lon=149.1651723, alt=3.31 m\n",
      "Vehicle 1: 📍 Position: lat=-35.3632800, lon=149.1651723, alt=3.26 m\n",
      "Vehicle 1: 📍 Position: lat=-35.3632800, lon=149.1651723, alt=3.21 m\n",
      "Vehicle 1: 📍 Position: lat=-35.3632800, lon=149.1651723, alt=3.16 m\n",
      "Vehicle 1: 📍 Position: lat=-35.3632800, lon=149.1651722, alt=3.11 m\n",
      "Vehicle 1: 📍 Position: lat=-35.3632800, lon=149.1651722, alt=3.06 m\n",
      "Vehicle 1: 📍 Position: lat=-35.3632800, lon=149.1651722, alt=3.01 m\n",
      "Vehicle 1: 📍 Position: lat=-35.3632800, lon=149.1651722, alt=2.96 m\n",
      "Vehicle 1: 📍 Position: lat=-35.3632800, lon=149.1651722, alt=2.91 m\n",
      "Vehicle 1: 📍 Position: lat=-35.3632800, lon=149.1651722, alt=2.86 m\n",
      "Vehicle 1: 📍 Position: lat=-35.3632800, lon=149.1651722, alt=2.81 m\n",
      "Vehicle 1: 📍 Position: lat=-35.3632800, lon=149.1651722, alt=2.76 m\n",
      "Vehicle 1: 📍 Position: lat=-35.3632800, lon=149.1651722, alt=2.71 m\n",
      "Vehicle 1: 📍 Position: lat=-35.3632800, lon=149.1651722, alt=2.66 m\n",
      "Vehicle 1: 📍 Position: lat=-35.3632800, lon=149.1651722, alt=2.61 m\n",
      "Vehicle 1: 📍 Position: lat=-35.3632800, lon=149.1651721, alt=2.56 m\n",
      "Vehicle 1: 📍 Position: lat=-35.3632800, lon=149.1651721, alt=2.51 m\n",
      "Vehicle 1: 📍 Position: lat=-35.3632800, lon=149.1651721, alt=2.46 m\n",
      "Vehicle 1: 📍 Position: lat=-35.3632800, lon=149.1651721, alt=2.41 m\n",
      "Vehicle 1: 📍 Position: lat=-35.3632800, lon=149.1651721, alt=2.36 m\n",
      "Vehicle 1: 📍 Position: lat=-35.3632800, lon=149.1651721, alt=2.31 m\n",
      "Vehicle 1: 📍 Position: lat=-35.3632800, lon=149.1651721, alt=2.26 m\n",
      "Vehicle 1: 📍 Position: lat=-35.3632800, lon=149.1651721, alt=2.21 m\n",
      "Vehicle 1: 📍 Position: lat=-35.3632800, lon=149.1651721, alt=2.16 m\n",
      "Vehicle 1: 📍 Position: lat=-35.3632800, lon=149.1651720, alt=2.11 m\n",
      "Vehicle 1: 📍 Position: lat=-35.3632800, lon=149.1651720, alt=2.06 m\n",
      "Vehicle 1: 📍 Position: lat=-35.3632800, lon=149.1651720, alt=2.01 m\n",
      "Vehicle 1: 📍 Position: lat=-35.3632800, lon=149.1651720, alt=1.96 m\n",
      "Vehicle 1: 📍 Position: lat=-35.3632800, lon=149.1651720, alt=1.91 m\n",
      "Vehicle 1: 📍 Position: lat=-35.3632800, lon=149.1651720, alt=1.86 m\n",
      "Vehicle 1: 📍 Position: lat=-35.3632800, lon=149.1651720, alt=1.81 m\n",
      "Vehicle 1: 📍 Position: lat=-35.3632800, lon=149.1651719, alt=1.76 m\n",
      "Vehicle 1: 📍 Position: lat=-35.3632800, lon=149.1651719, alt=1.71 m\n",
      "Vehicle 1: 📍 Position: lat=-35.3632800, lon=149.1651719, alt=1.66 m\n",
      "Vehicle 1: 📍 Position: lat=-35.3632800, lon=149.1651719, alt=1.61 m\n",
      "Vehicle 1: 📍 Position: lat=-35.3632800, lon=149.1651719, alt=1.56 m\n",
      "Vehicle 1: 📍 Position: lat=-35.3632800, lon=149.1651719, alt=1.51 m\n",
      "Vehicle 1: 📍 Position: lat=-35.3632801, lon=149.1651719, alt=1.46 m\n",
      "Vehicle 1: 📍 Position: lat=-35.3632801, lon=149.1651719, alt=1.41 m\n",
      "Vehicle 1: 📍 Position: lat=-35.3632801, lon=149.1651719, alt=1.36 m\n",
      "Vehicle 1: 📍 Position: lat=-35.3632801, lon=149.1651719, alt=1.31 m\n",
      "Vehicle 1: 📍 Position: lat=-35.3632801, lon=149.1651719, alt=1.26 m\n",
      "Vehicle 1: 📍 Position: lat=-35.3632801, lon=149.1651719, alt=1.21 m\n",
      "Vehicle 1: 📍 Position: lat=-35.3632801, lon=149.1651719, alt=1.16 m\n",
      "Vehicle 1: 📍 Position: lat=-35.3632801, lon=149.1651718, alt=1.11 m\n",
      "Vehicle 1: 📍 Position: lat=-35.3632801, lon=149.1651718, alt=1.06 m\n",
      "Vehicle 1: 📍 Position: lat=-35.3632801, lon=149.1651718, alt=1.01 m\n",
      "Vehicle 1: 📍 Position: lat=-35.3632801, lon=149.1651718, alt=0.96 m\n",
      "Vehicle 1: 📍 Position: lat=-35.3632801, lon=149.1651718, alt=0.92 m\n",
      "Vehicle 1: 📍 Position: lat=-35.3632801, lon=149.1651718, alt=0.86 m\n",
      "Vehicle 1: 📍 Position: lat=-35.3632801, lon=149.1651718, alt=0.81 m\n",
      "Vehicle 1: 📍 Position: lat=-35.3632801, lon=149.1651718, alt=0.77 m\n",
      "Vehicle 1: 📍 Position: lat=-35.3632801, lon=149.1651718, alt=0.71 m\n",
      "Vehicle 1: 📍 Position: lat=-35.3632801, lon=149.1651718, alt=0.67 m\n",
      "Vehicle 1: 📍 Position: lat=-35.3632801, lon=149.1651718, alt=0.61 m\n",
      "Vehicle 1: 📍 Position: lat=-35.3632801, lon=149.1651718, alt=0.56 m\n",
      "Vehicle 1: 📍 Position: lat=-35.3632801, lon=149.1651718, alt=0.51 m\n",
      "Vehicle 1: 📍 Position: lat=-35.3632801, lon=149.1651718, alt=0.46 m\n",
      "Vehicle 1: 📍 Position: lat=-35.3632801, lon=149.1651718, alt=0.41 m\n",
      "Vehicle 1: 📍 Position: lat=-35.3632801, lon=149.1651717, alt=0.36 m\n",
      "Vehicle 1: 📍 Position: lat=-35.3632801, lon=149.1651717, alt=0.31 m\n",
      "Vehicle 1: 📍 Position: lat=-35.3632801, lon=149.1651717, alt=0.26 m\n",
      "Vehicle 1: 📍 Position: lat=-35.3632801, lon=149.1651717, alt=0.21 m\n",
      "Vehicle 1: 📍 Position: lat=-35.3632801, lon=149.1651717, alt=0.16 m\n",
      "Vehicle 1: 📍 Position: lat=-35.3632801, lon=149.1651717, alt=0.11 m\n",
      "Vehicle 1: 📍 Position: lat=-35.3632801, lon=149.1651717, alt=0.07 m\n",
      "Vehicle 1: 📍 Position: lat=-35.3632801, lon=149.1651717, alt=0.01 m\n",
      "Oracle ⚪: 🔁 Received Remote ID from 1\n",
      "Vehicle 1: 📍 Position: lat=-35.3632801, lon=149.1651717, alt=-0.03 m\n",
      "Vehicle 1: 📍 Position: lat=-35.3632801, lon=149.1651717, alt=-0.03 m\n",
      "Vehicle 1: 📍 Position: lat=-35.3632801, lon=149.1651717, alt=-0.02 m\n",
      "Vehicle 1: 📍 Position: lat=-35.3632801, lon=149.1651717, alt=-0.01 m\n",
      "Vehicle 1: 📍 Position: lat=-35.3632801, lon=149.1651717, alt=-0.01 m\n",
      "Vehicle 1: 📍 Position: lat=-35.3632801, lon=149.1651717, alt=-0.02 m\n",
      "Vehicle 1: 📍 Position: lat=-35.3632801, lon=149.1651717, alt=-0.03 m\n",
      "Vehicle 1: 📍 Position: lat=-35.3632801, lon=149.1651717, alt=-0.03 m\n",
      "Vehicle 1: 📍 Position: lat=-35.3632801, lon=149.1651717, alt=-0.03 m\n",
      "Vehicle 1: 📍 Position: lat=-35.3632801, lon=149.1651717, alt=-0.03 m\n",
      "Vehicle 1: 📍 Position: lat=-35.3632801, lon=149.1651717, alt=-0.03 m\n",
      "Vehicle 1: 📍 Position: lat=-35.3632801, lon=149.1651717, alt=-0.03 m\n",
      "Vehicle 1: 📍 Position: lat=-35.3632801, lon=149.1651717, alt=-0.03 m\n",
      "Vehicle 1: 📍 Position: lat=-35.3632801, lon=149.1651717, alt=-0.03 m\n",
      "Vehicle 1: 📍 Position: lat=-35.3632801, lon=149.1651716, alt=-0.03 m\n",
      "Vehicle 1: 📍 Position: lat=-35.3632801, lon=149.1651717, alt=-0.03 m\n",
      "Vehicle 1: 📍 Position: lat=-35.3632801, lon=149.1651716, alt=-0.03 m\n",
      "Vehicle 1: 📍 Position: lat=-35.3632801, lon=149.1651716, alt=-0.03 m\n",
      "Vehicle 1: 📍 Position: lat=-35.3632801, lon=149.1651716, alt=-0.03 m\n",
      "Vehicle 1: 📍 Position: lat=-35.3632801, lon=149.1651716, alt=-0.03 m\n",
      "Vehicle 1: 📍 Position: lat=-35.3632801, lon=149.1651716, alt=-0.02 m\n",
      "Oracle ⚪: 🔁 Received Remote ID from 1\n",
      "Oracle ⚪: ✅ Vehicle 1 completed its mission\n"
     ]
    }
   ],
   "source": [
    "orac.run()"
   ]
  }
 ],
 "metadata": {
  "kernelspec": {
   "display_name": "uav-cyber-sim11",
   "language": "python",
   "name": "python3"
  },
  "language_info": {
   "codemirror_mode": {
    "name": "ipython",
    "version": 3
   },
   "file_extension": ".py",
   "mimetype": "text/x-python",
   "name": "python",
   "nbconvert_exporter": "python",
   "pygments_lexer": "ipython3",
   "version": "3.11.13"
  }
 },
 "nbformat": 4,
 "nbformat_minor": 2
}
