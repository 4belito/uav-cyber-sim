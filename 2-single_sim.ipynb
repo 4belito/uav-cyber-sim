{
 "cells": [
  {
   "cell_type": "markdown",
   "metadata": {},
   "source": [
    "## Auto mode (single uav)\n",
    "\n",
    "This is for testing propouses"
   ]
  },
  {
   "cell_type": "code",
   "execution_count": null,
   "metadata": {},
   "outputs": [],
   "source": [
    "# Custom modules\n",
    "from config import Color\n",
    "from helpers import clean  #, local2global\n",
    "from mavlink.customtypes.location import ENUPose, GRAPose\n",
    "from plan import Plan\n",
    "from simulator import (\n",
    "    QGC,\n",
    "    ConfigGazebo,\n",
    "    ConfigNovis,\n",
    "    ConfigQGC,\n",
    "    Gazebo,\n",
    "    NoVisualizer,\n",
    "    Simulator,\n",
    ")\n",
    "\n",
    "clean()"
   ]
  },
  {
   "cell_type": "markdown",
   "metadata": {},
   "source": [
    "## Simulation Configuration"
   ]
  },
  {
   "cell_type": "code",
   "execution_count": null,
   "metadata": {},
   "outputs": [],
   "source": [
    "gra_origin = GRAPose(lat=-35.3633280, lon=149.1652241,alt=0,heading=90)   # east, north, up, heading\n",
    "enu_origin = ENUPose(x=0, y=0, z=gra_origin.alt, heading=gra_origin.heading) \n",
    "\n",
    "base_home = ENUPose(5,5,0,45)\n",
    "base_path = Plan.create_square_path(side_len=10, alt=5,heading=0)\n",
    "\n",
    "color =Color.BLUE"
   ]
  },
  {
   "cell_type": "markdown",
   "metadata": {},
   "source": [
    "## Gazebo Congiguration"
   ]
  },
  {
   "cell_type": "code",
   "execution_count": null,
   "metadata": {},
   "outputs": [],
   "source": [
    "gaz_config = ConfigGazebo(origin= enu_origin,\n",
    "                          world_path=\"simulator/gazebo/worlds/runway.world\")\n",
    "\n",
    "gaz_config.add(base_path=base_path,base_home=base_home,color=color)\n",
    "gaz_config.show()"
   ]
  },
  {
   "cell_type": "markdown",
   "metadata": {},
   "source": [
    "## QGroundControl Configuration"
   ]
  },
  {
   "cell_type": "code",
   "execution_count": null,
   "metadata": {},
   "outputs": [],
   "source": [
    "qgc_config = ConfigQGC(origin= gra_origin)\n",
    "\n",
    "qgc_config.add(base_path=base_path,base_home=base_home,color=color)\n",
    "qgc_config.show()"
   ]
  },
  {
   "cell_type": "markdown",
   "metadata": {},
   "source": [
    "## No Visualizer"
   ]
  },
  {
   "cell_type": "code",
   "execution_count": null,
   "metadata": {},
   "outputs": [],
   "source": [
    "novis_config = ConfigNovis(origin=gra_origin)\n",
    "novis_config.add(base_home=base_home)"
   ]
  },
  {
   "cell_type": "code",
   "execution_count": null,
   "metadata": {},
   "outputs": [],
   "source": [
    "novis=NoVisualizer(novis_config)\n",
    "\n",
    "gaz= Gazebo(gaz_config,gra_origin)\n",
    "\n",
    "qgc=QGC(qgc_config)"
   ]
  },
  {
   "cell_type": "markdown",
   "metadata": {},
   "source": [
    "## Launch Simulatotion"
   ]
  },
  {
   "cell_type": "code",
   "execution_count": null,
   "metadata": {},
   "outputs": [],
   "source": [
    "simulator = Simulator(\n",
    "\tvisualizers=[novis],\n",
    "    gcs_names=['simple GCS'],\n",
    "\tgcs_sysids=[[1]],\n",
    "\tmissions=[veh.mission for veh in qgc_config.vehicles],\n",
    "\tterminals=['gcs'],\n",
    "\tverbose=2,\n",
    ")\n",
    "orac = simulator.launch()"
   ]
  },
  {
   "cell_type": "markdown",
   "metadata": {},
   "source": [
    "## Oracle checking"
   ]
  },
  {
   "cell_type": "code",
   "execution_count": null,
   "metadata": {},
   "outputs": [],
   "source": [
    "orac.run()"
   ]
  }
 ],
 "metadata": {
  "kernelspec": {
   "display_name": "uav-cyber-sim11",
   "language": "python",
   "name": "python3"
  },
  "language_info": {
   "codemirror_mode": {
    "name": "ipython",
    "version": 3
   },
   "file_extension": ".py",
   "mimetype": "text/x-python",
   "name": "python",
   "nbconvert_exporter": "python",
   "pygments_lexer": "ipython3",
   "version": "3.11.11"
  }
 },
 "nbformat": 4,
 "nbformat_minor": 2
}
