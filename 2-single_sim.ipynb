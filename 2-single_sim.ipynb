{
 "cells": [
  {
   "cell_type": "markdown",
   "metadata": {},
   "source": [
    "## UAV fleet Simulation \n",
    "\n",
    "This is for testing propouses"
   ]
  },
  {
   "cell_type": "code",
   "execution_count": 1,
   "metadata": {},
   "outputs": [],
   "source": [
    "import os\n",
    "import subprocess\n",
    "import numpy as np\n",
    "\n",
    "# Custom modules\n",
    "from vehicle_logic import VehicleLogic\n",
    "from helpers.change_coordinates import heading_to_yaw,find_spawns\n",
    "from helpers.visualization.gazebo_world import update_world\n",
    "from helpers.change_coordinates import local2global,heading_to_yaw,find_spawns\n",
    "from helpers.visualization.plots import plot_3d_interactive\n",
    "\n",
    "from plan import Plan"
   ]
  },
  {
   "cell_type": "markdown",
   "metadata": {},
   "source": [
    "Kill all related process"
   ]
  },
  {
   "cell_type": "code",
   "execution_count": 2,
   "metadata": {},
   "outputs": [],
   "source": [
    "for process in [\"QGroundControl\", \"sim_vehicle.py\", \"arducopter\", \"gazebo\", \"mavproxy\"]:\n",
    "    os.system(f\"pkill -9 -f {process}\")"
   ]
  },
  {
   "cell_type": "markdown",
   "metadata": {},
   "source": [
    "Paths"
   ]
  },
  {
   "cell_type": "code",
   "execution_count": 3,
   "metadata": {},
   "outputs": [],
   "source": [
    "QGC_path='~/QGroundControl.AppImage'\n",
    "gazebo_word_path=\"gazebo_worlds/runway.world\"\n",
    "ardupilot_vehicle_path='~/ardupilot/Tools/autotest/sim_vehicle.py'"
   ]
  },
  {
   "cell_type": "markdown",
   "metadata": {},
   "source": [
    "## Choose Simulator"
   ]
  },
  {
   "cell_type": "code",
   "execution_count": 4,
   "metadata": {},
   "outputs": [],
   "source": [
    "simulator ='gazebo' #'QGroundControl' # "
   ]
  },
  {
   "cell_type": "markdown",
   "metadata": {},
   "source": [
    "## Create Plans"
   ]
  },
  {
   "cell_type": "code",
   "execution_count": 5,
   "metadata": {},
   "outputs": [
    {
     "name": "stdout",
     "output_type": "stream",
     "text": [
      "Plan 'basic plan' created — no connection yet 🧩\n",
      "Action 'Pre-Arm Check' created — no connection yet 🧩\n",
      "Step 'Check disarmed' created — no connection yet 🧩\n",
      "Step 'Check EKF' created — no connection yet 🧩\n",
      "Step 'Check GPS' created — no connection yet 🧩\n",
      "Step 'Check system' created — no connection yet 🧩\n",
      "Action 'Set Mode: GUIDED' created — no connection yet 🧩\n",
      "Step 'Switch to GUIDED' created — no connection yet 🧩\n",
      "Action 'Arm' created — no connection yet 🧩\n",
      "Step 'arm' created — no connection yet 🧩\n",
      "Action 'Take Off' created — no connection yet 🧩\n",
      "Step 'take off' created — no connection yet 🧩\n",
      "Action 'fly' created — no connection yet 🧩\n",
      "Step 'go to -> (0, 0, 5)' created — no connection yet 🧩\n",
      "Step 'go to -> (0, 7, 5)' created — no connection yet 🧩\n",
      "Step 'go to -> (7, 7, 5)' created — no connection yet 🧩\n",
      "Step 'go to -> (7, 0, 5)' created — no connection yet 🧩\n",
      "Step 'go to -> (0, 0, 5)' created — no connection yet 🧩\n",
      "Action 'Land' created — no connection yet 🧩\n",
      "Step 'land' created — no connection yet 🧩\n"
     ]
    },
    {
     "data": {
      "application/vnd.plotly.v1+json": {
       "config": {
        "plotlyServerURL": "https://plot.ly"
       },
       "data": [
        {
         "marker": {
          "color": "green",
          "size": 6
         },
         "mode": "markers",
         "name": "waypoints",
         "type": "scatter3d",
         "x": [
          0,
          0,
          7,
          7,
          0
         ],
         "y": [
          0,
          7,
          7,
          0,
          0
         ],
         "z": [
          5,
          5,
          5,
          5,
          5
         ]
        },
        {
         "marker": {
          "color": "orange",
          "size": 6
         },
         "mode": "markers",
         "name": "home",
         "type": "scatter3d",
         "x": [
          0
         ],
         "y": [
          0
         ],
         "z": [
          0
         ]
        }
       ],
       "layout": {
        "height": 600,
        "scene": {
         "xaxis": {
          "range": [
           -1.4000000000000001,
           8.4
          ],
          "title": {
           "text": "x"
          }
         },
         "yaxis": {
          "range": [
           -1.4000000000000001,
           8.4
          ],
          "title": {
           "text": "y"
          }
         },
         "zaxis": {
          "range": [
           -0.05,
           8
          ],
          "title": {
           "text": "z"
          }
         }
        },
        "template": {
         "data": {
          "bar": [
           {
            "error_x": {
             "color": "#2a3f5f"
            },
            "error_y": {
             "color": "#2a3f5f"
            },
            "marker": {
             "line": {
              "color": "#E5ECF6",
              "width": 0.5
             },
             "pattern": {
              "fillmode": "overlay",
              "size": 10,
              "solidity": 0.2
             }
            },
            "type": "bar"
           }
          ],
          "barpolar": [
           {
            "marker": {
             "line": {
              "color": "#E5ECF6",
              "width": 0.5
             },
             "pattern": {
              "fillmode": "overlay",
              "size": 10,
              "solidity": 0.2
             }
            },
            "type": "barpolar"
           }
          ],
          "carpet": [
           {
            "aaxis": {
             "endlinecolor": "#2a3f5f",
             "gridcolor": "white",
             "linecolor": "white",
             "minorgridcolor": "white",
             "startlinecolor": "#2a3f5f"
            },
            "baxis": {
             "endlinecolor": "#2a3f5f",
             "gridcolor": "white",
             "linecolor": "white",
             "minorgridcolor": "white",
             "startlinecolor": "#2a3f5f"
            },
            "type": "carpet"
           }
          ],
          "choropleth": [
           {
            "colorbar": {
             "outlinewidth": 0,
             "ticks": ""
            },
            "type": "choropleth"
           }
          ],
          "contour": [
           {
            "colorbar": {
             "outlinewidth": 0,
             "ticks": ""
            },
            "colorscale": [
             [
              0,
              "#0d0887"
             ],
             [
              0.1111111111111111,
              "#46039f"
             ],
             [
              0.2222222222222222,
              "#7201a8"
             ],
             [
              0.3333333333333333,
              "#9c179e"
             ],
             [
              0.4444444444444444,
              "#bd3786"
             ],
             [
              0.5555555555555556,
              "#d8576b"
             ],
             [
              0.6666666666666666,
              "#ed7953"
             ],
             [
              0.7777777777777778,
              "#fb9f3a"
             ],
             [
              0.8888888888888888,
              "#fdca26"
             ],
             [
              1,
              "#f0f921"
             ]
            ],
            "type": "contour"
           }
          ],
          "contourcarpet": [
           {
            "colorbar": {
             "outlinewidth": 0,
             "ticks": ""
            },
            "type": "contourcarpet"
           }
          ],
          "heatmap": [
           {
            "colorbar": {
             "outlinewidth": 0,
             "ticks": ""
            },
            "colorscale": [
             [
              0,
              "#0d0887"
             ],
             [
              0.1111111111111111,
              "#46039f"
             ],
             [
              0.2222222222222222,
              "#7201a8"
             ],
             [
              0.3333333333333333,
              "#9c179e"
             ],
             [
              0.4444444444444444,
              "#bd3786"
             ],
             [
              0.5555555555555556,
              "#d8576b"
             ],
             [
              0.6666666666666666,
              "#ed7953"
             ],
             [
              0.7777777777777778,
              "#fb9f3a"
             ],
             [
              0.8888888888888888,
              "#fdca26"
             ],
             [
              1,
              "#f0f921"
             ]
            ],
            "type": "heatmap"
           }
          ],
          "histogram": [
           {
            "marker": {
             "pattern": {
              "fillmode": "overlay",
              "size": 10,
              "solidity": 0.2
             }
            },
            "type": "histogram"
           }
          ],
          "histogram2d": [
           {
            "colorbar": {
             "outlinewidth": 0,
             "ticks": ""
            },
            "colorscale": [
             [
              0,
              "#0d0887"
             ],
             [
              0.1111111111111111,
              "#46039f"
             ],
             [
              0.2222222222222222,
              "#7201a8"
             ],
             [
              0.3333333333333333,
              "#9c179e"
             ],
             [
              0.4444444444444444,
              "#bd3786"
             ],
             [
              0.5555555555555556,
              "#d8576b"
             ],
             [
              0.6666666666666666,
              "#ed7953"
             ],
             [
              0.7777777777777778,
              "#fb9f3a"
             ],
             [
              0.8888888888888888,
              "#fdca26"
             ],
             [
              1,
              "#f0f921"
             ]
            ],
            "type": "histogram2d"
           }
          ],
          "histogram2dcontour": [
           {
            "colorbar": {
             "outlinewidth": 0,
             "ticks": ""
            },
            "colorscale": [
             [
              0,
              "#0d0887"
             ],
             [
              0.1111111111111111,
              "#46039f"
             ],
             [
              0.2222222222222222,
              "#7201a8"
             ],
             [
              0.3333333333333333,
              "#9c179e"
             ],
             [
              0.4444444444444444,
              "#bd3786"
             ],
             [
              0.5555555555555556,
              "#d8576b"
             ],
             [
              0.6666666666666666,
              "#ed7953"
             ],
             [
              0.7777777777777778,
              "#fb9f3a"
             ],
             [
              0.8888888888888888,
              "#fdca26"
             ],
             [
              1,
              "#f0f921"
             ]
            ],
            "type": "histogram2dcontour"
           }
          ],
          "mesh3d": [
           {
            "colorbar": {
             "outlinewidth": 0,
             "ticks": ""
            },
            "type": "mesh3d"
           }
          ],
          "parcoords": [
           {
            "line": {
             "colorbar": {
              "outlinewidth": 0,
              "ticks": ""
             }
            },
            "type": "parcoords"
           }
          ],
          "pie": [
           {
            "automargin": true,
            "type": "pie"
           }
          ],
          "scatter": [
           {
            "fillpattern": {
             "fillmode": "overlay",
             "size": 10,
             "solidity": 0.2
            },
            "type": "scatter"
           }
          ],
          "scatter3d": [
           {
            "line": {
             "colorbar": {
              "outlinewidth": 0,
              "ticks": ""
             }
            },
            "marker": {
             "colorbar": {
              "outlinewidth": 0,
              "ticks": ""
             }
            },
            "type": "scatter3d"
           }
          ],
          "scattercarpet": [
           {
            "marker": {
             "colorbar": {
              "outlinewidth": 0,
              "ticks": ""
             }
            },
            "type": "scattercarpet"
           }
          ],
          "scattergeo": [
           {
            "marker": {
             "colorbar": {
              "outlinewidth": 0,
              "ticks": ""
             }
            },
            "type": "scattergeo"
           }
          ],
          "scattergl": [
           {
            "marker": {
             "colorbar": {
              "outlinewidth": 0,
              "ticks": ""
             }
            },
            "type": "scattergl"
           }
          ],
          "scattermap": [
           {
            "marker": {
             "colorbar": {
              "outlinewidth": 0,
              "ticks": ""
             }
            },
            "type": "scattermap"
           }
          ],
          "scattermapbox": [
           {
            "marker": {
             "colorbar": {
              "outlinewidth": 0,
              "ticks": ""
             }
            },
            "type": "scattermapbox"
           }
          ],
          "scatterpolar": [
           {
            "marker": {
             "colorbar": {
              "outlinewidth": 0,
              "ticks": ""
             }
            },
            "type": "scatterpolar"
           }
          ],
          "scatterpolargl": [
           {
            "marker": {
             "colorbar": {
              "outlinewidth": 0,
              "ticks": ""
             }
            },
            "type": "scatterpolargl"
           }
          ],
          "scatterternary": [
           {
            "marker": {
             "colorbar": {
              "outlinewidth": 0,
              "ticks": ""
             }
            },
            "type": "scatterternary"
           }
          ],
          "surface": [
           {
            "colorbar": {
             "outlinewidth": 0,
             "ticks": ""
            },
            "colorscale": [
             [
              0,
              "#0d0887"
             ],
             [
              0.1111111111111111,
              "#46039f"
             ],
             [
              0.2222222222222222,
              "#7201a8"
             ],
             [
              0.3333333333333333,
              "#9c179e"
             ],
             [
              0.4444444444444444,
              "#bd3786"
             ],
             [
              0.5555555555555556,
              "#d8576b"
             ],
             [
              0.6666666666666666,
              "#ed7953"
             ],
             [
              0.7777777777777778,
              "#fb9f3a"
             ],
             [
              0.8888888888888888,
              "#fdca26"
             ],
             [
              1,
              "#f0f921"
             ]
            ],
            "type": "surface"
           }
          ],
          "table": [
           {
            "cells": {
             "fill": {
              "color": "#EBF0F8"
             },
             "line": {
              "color": "white"
             }
            },
            "header": {
             "fill": {
              "color": "#C8D4E3"
             },
             "line": {
              "color": "white"
             }
            },
            "type": "table"
           }
          ]
         },
         "layout": {
          "annotationdefaults": {
           "arrowcolor": "#2a3f5f",
           "arrowhead": 0,
           "arrowwidth": 1
          },
          "autotypenumbers": "strict",
          "coloraxis": {
           "colorbar": {
            "outlinewidth": 0,
            "ticks": ""
           }
          },
          "colorscale": {
           "diverging": [
            [
             0,
             "#8e0152"
            ],
            [
             0.1,
             "#c51b7d"
            ],
            [
             0.2,
             "#de77ae"
            ],
            [
             0.3,
             "#f1b6da"
            ],
            [
             0.4,
             "#fde0ef"
            ],
            [
             0.5,
             "#f7f7f7"
            ],
            [
             0.6,
             "#e6f5d0"
            ],
            [
             0.7,
             "#b8e186"
            ],
            [
             0.8,
             "#7fbc41"
            ],
            [
             0.9,
             "#4d9221"
            ],
            [
             1,
             "#276419"
            ]
           ],
           "sequential": [
            [
             0,
             "#0d0887"
            ],
            [
             0.1111111111111111,
             "#46039f"
            ],
            [
             0.2222222222222222,
             "#7201a8"
            ],
            [
             0.3333333333333333,
             "#9c179e"
            ],
            [
             0.4444444444444444,
             "#bd3786"
            ],
            [
             0.5555555555555556,
             "#d8576b"
            ],
            [
             0.6666666666666666,
             "#ed7953"
            ],
            [
             0.7777777777777778,
             "#fb9f3a"
            ],
            [
             0.8888888888888888,
             "#fdca26"
            ],
            [
             1,
             "#f0f921"
            ]
           ],
           "sequentialminus": [
            [
             0,
             "#0d0887"
            ],
            [
             0.1111111111111111,
             "#46039f"
            ],
            [
             0.2222222222222222,
             "#7201a8"
            ],
            [
             0.3333333333333333,
             "#9c179e"
            ],
            [
             0.4444444444444444,
             "#bd3786"
            ],
            [
             0.5555555555555556,
             "#d8576b"
            ],
            [
             0.6666666666666666,
             "#ed7953"
            ],
            [
             0.7777777777777778,
             "#fb9f3a"
            ],
            [
             0.8888888888888888,
             "#fdca26"
            ],
            [
             1,
             "#f0f921"
            ]
           ]
          },
          "colorway": [
           "#636efa",
           "#EF553B",
           "#00cc96",
           "#ab63fa",
           "#FFA15A",
           "#19d3f3",
           "#FF6692",
           "#B6E880",
           "#FF97FF",
           "#FECB52"
          ],
          "font": {
           "color": "#2a3f5f"
          },
          "geo": {
           "bgcolor": "white",
           "lakecolor": "white",
           "landcolor": "#E5ECF6",
           "showlakes": true,
           "showland": true,
           "subunitcolor": "white"
          },
          "hoverlabel": {
           "align": "left"
          },
          "hovermode": "closest",
          "mapbox": {
           "style": "light"
          },
          "paper_bgcolor": "white",
          "plot_bgcolor": "#E5ECF6",
          "polar": {
           "angularaxis": {
            "gridcolor": "white",
            "linecolor": "white",
            "ticks": ""
           },
           "bgcolor": "#E5ECF6",
           "radialaxis": {
            "gridcolor": "white",
            "linecolor": "white",
            "ticks": ""
           }
          },
          "scene": {
           "xaxis": {
            "backgroundcolor": "#E5ECF6",
            "gridcolor": "white",
            "gridwidth": 2,
            "linecolor": "white",
            "showbackground": true,
            "ticks": "",
            "zerolinecolor": "white"
           },
           "yaxis": {
            "backgroundcolor": "#E5ECF6",
            "gridcolor": "white",
            "gridwidth": 2,
            "linecolor": "white",
            "showbackground": true,
            "ticks": "",
            "zerolinecolor": "white"
           },
           "zaxis": {
            "backgroundcolor": "#E5ECF6",
            "gridcolor": "white",
            "gridwidth": 2,
            "linecolor": "white",
            "showbackground": true,
            "ticks": "",
            "zerolinecolor": "white"
           }
          },
          "shapedefaults": {
           "line": {
            "color": "#2a3f5f"
           }
          },
          "ternary": {
           "aaxis": {
            "gridcolor": "white",
            "linecolor": "white",
            "ticks": ""
           },
           "baxis": {
            "gridcolor": "white",
            "linecolor": "white",
            "ticks": ""
           },
           "bgcolor": "#E5ECF6",
           "caxis": {
            "gridcolor": "white",
            "linecolor": "white",
            "ticks": ""
           }
          },
          "title": {
           "x": 0.05
          },
          "xaxis": {
           "automargin": true,
           "gridcolor": "white",
           "linecolor": "white",
           "ticks": "",
           "title": {
            "standoff": 15
           },
           "zerolinecolor": "white",
           "zerolinewidth": 2
          },
          "yaxis": {
           "automargin": true,
           "gridcolor": "white",
           "linecolor": "white",
           "ticks": "",
           "title": {
            "standoff": 15
           },
           "zerolinecolor": "white",
           "zerolinewidth": 2
          }
         }
        },
        "title": {
         "text": "Simulation Markers",
         "x": 0.5,
         "xanchor": "center"
        },
        "width": 800
       }
      }
     },
     "metadata": {},
     "output_type": "display_data"
    }
   ],
   "source": [
    "offset = (0, 0, 0, 0) #east, north, up, heading\n",
    "    \n",
    "path = Plan.create_square_path(side_len=7,alt= 5)\n",
    "home=np.array(offset[:3])\n",
    "\n",
    "global_path=local2global(np.array(path), home,pairwise=True) \n",
    "\n",
    "plan = Plan.basic(wps=path,alt=5,wp_margin=0.5)\n",
    "\n",
    "\n",
    "markers = {'waypoints': {'pos':global_path,'color':'green'},\n",
    "           'home':      {'pos':[home],'color':'orange'}}\n",
    "\n",
    "\n",
    "if simulator == 'QGroundControl':\n",
    "    home_position=(-35.3633245,149.1652241,0,0)\n",
    "    spawn=find_spawns(home_position, offset)\n",
    "\n",
    "plot_3d_interactive(markers,title='Simulation Markers',expand=[0.2,0.2,0.6],ground=-0.05)\n",
    "\n"
   ]
  },
  {
   "cell_type": "markdown",
   "metadata": {},
   "source": [
    "Launch Simulator"
   ]
  },
  {
   "cell_type": "code",
   "execution_count": 6,
   "metadata": {},
   "outputs": [],
   "source": [
    "if simulator == 'QGroundControl':\n",
    "    sim_path = os.path.expanduser(QGC_path)\n",
    "    sim_cmd =[sim_path]\n",
    "elif simulator == 'gazebo':\n",
    "    # Convert to Gazebo format (name, x, y, z, roll, pitch, yaw)\n",
    "    east, north, up, heading = offset\n",
    "    drones = [(east, north, up, 0, 0, heading_to_yaw(heading))]\n",
    "    world_path = os.path.expanduser(gazebo_word_path)\n",
    "    del markers['home']\n",
    "    updated_world_path = update_world(drones,markers,world_path)\n",
    "    sim_cmd = [\"gazebo\", \"--verbose\", updated_world_path] \n",
    "\n",
    "simulator_process = subprocess.Popen(\n",
    "                    sim_cmd,\n",
    "                    stdout=subprocess.DEVNULL,  # Suppress standard output\n",
    "                    stderr=subprocess.DEVNULL,  # Suppress error output\n",
    "                    shell=False  # Ensure safety when passing arguments\n",
    "                    )"
   ]
  },
  {
   "cell_type": "markdown",
   "metadata": {},
   "source": [
    "Launch Vehicles"
   ]
  },
  {
   "cell_type": "code",
   "execution_count": 7,
   "metadata": {},
   "outputs": [
    {
     "data": {
      "text/plain": [
       "<Popen: returncode: None args: ['gnome-terminal', '--', 'bash', '-c', 'pytho...>"
      ]
     },
     "execution_count": 7,
     "metadata": {},
     "output_type": "execute_result"
    }
   ],
   "source": [
    "vehicle_cmd = f\"python3 {ardupilot_vehicle_path} -v ArduCopter -I0 --sysid 1 --no-rebuild\"\n",
    "if simulator == 'QGroundControl':\n",
    "    vehicle_cmd += f\" --custom-location={spawn}\"\n",
    "elif simulator == 'gazebo':\n",
    "    vehicle_cmd += \" -f gazebo-iris\"\n",
    "subprocess.Popen([\"gnome-terminal\", \"--\", \"bash\", \"-c\", f\"{vehicle_cmd}; exec bash\"])"
   ]
  },
  {
   "cell_type": "markdown",
   "metadata": {},
   "source": [
    "Create UAV"
   ]
  },
  {
   "cell_type": "code",
   "execution_count": 8,
   "metadata": {},
   "outputs": [
    {
     "name": "stdout",
     "output_type": "stream",
     "text": [
      "vehicle 1 created\n"
     ]
    }
   ],
   "source": [
    "# uav = VehicleLogic(sys_id=1,\n",
    "#                     home=home,\n",
    "#                     plan= plan)\n",
    "\n",
    "uav = VehicleLogic(sys_id=1,\n",
    "                    home=home,\n",
    "                    plan=plan)"
   ]
  },
  {
   "cell_type": "code",
   "execution_count": 9,
   "metadata": {},
   "outputs": [
    {
     "name": "stdout",
     "output_type": "stream",
     "text": [
      "🕓 <Plan 'basic plan'>\n",
      "  🕓 <Action 'Pre-Arm Check'>\n",
      "    🕓 <Step 'Check disarmed'>\n",
      "    🕓 <Step 'Check EKF'>\n",
      "    🕓 <Step 'Check GPS'>\n",
      "    🕓 <Step 'Check system'>\n",
      "  🕓 <Action 'Set Mode: GUIDED'>\n",
      "    🕓 <Step 'Switch to GUIDED'>\n",
      "  🕓 <Action 'Arm'>\n",
      "    🕓 <Step 'arm'>\n",
      "  🕓 <Action 'Take Off'>\n",
      "    🕓 <Step 'take off'>\n",
      "  🕓 <Action 'fly'>\n",
      "    🕓 <Step 'go to -> (0, 0, 5)'>\n",
      "    🕓 <Step 'go to -> (0, 7, 5)'>\n",
      "    🕓 <Step 'go to -> (7, 7, 5)'>\n",
      "    🕓 <Step 'go to -> (7, 0, 5)'>\n",
      "    🕓 <Step 'go to -> (0, 0, 5)'>\n",
      "  🕓 <Action 'Land'>\n",
      "    🕓 <Step 'land'>\n"
     ]
    }
   ],
   "source": [
    "print(uav.plan)"
   ]
  },
  {
   "cell_type": "markdown",
   "metadata": {},
   "source": [
    "## Execute Plan"
   ]
  },
  {
   "cell_type": "code",
   "execution_count": 10,
   "metadata": {},
   "outputs": [
    {
     "name": "stdout",
     "output_type": "stream",
     "text": [
      "Vehicle 1: Action 'Pre-Arm Check' is now connected ✅🔗\n",
      "Vehicle 1: ▶️ Starting Action: Pre-Arm Check\n",
      "Vehicle 1: Step 'Check disarmed' is now connected ✅🔗\n",
      "Vehicle 1: ▶️ Starting Step: Check disarmed\n",
      "Vehicle 1: ✅ Step: Check disarmed is done\n",
      "Vehicle 1: Step 'Check EKF' is now connected ✅🔗\n",
      "Vehicle 1: ▶️ Starting Step: Check EKF\n",
      "Vehicle 1: EKF is not ready — missing: POS_HORIZ_ABS\n",
      "Vehicle 1: EKF is not ready — missing: POS_HORIZ_ABS\n",
      "Vehicle 1: EKF is not ready — missing: POS_HORIZ_ABS\n",
      "Vehicle 1: EKF is not ready — missing: POS_HORIZ_ABS\n",
      "Vehicle 1: EKF is not ready — missing: POS_HORIZ_ABS\n",
      "Vehicle 1: EKF is not ready — missing: POS_HORIZ_ABS\n",
      "Vehicle 1: EKF is not ready — missing: POS_HORIZ_ABS\n",
      "Vehicle 1: EKF is not ready — missing: POS_HORIZ_ABS\n",
      "Vehicle 1: EKF is not ready — missing: POS_HORIZ_ABS\n",
      "Vehicle 1: EKF is not ready — missing: POS_HORIZ_ABS\n",
      "Vehicle 1: EKF is not ready — missing: POS_HORIZ_ABS\n",
      "Vehicle 1: EKF is not ready — missing: POS_HORIZ_ABS\n",
      "Vehicle 1: EKF is not ready — missing: POS_HORIZ_ABS\n",
      "Vehicle 1: EKF is not ready — missing: POS_HORIZ_ABS\n",
      "Vehicle 1: EKF is not ready — missing: POS_HORIZ_ABS\n",
      "Vehicle 1: EKF is not ready — missing: POS_HORIZ_ABS\n",
      "Vehicle 1: EKF is not ready — missing: POS_HORIZ_ABS\n",
      "Vehicle 1: EKF is not ready — missing: POS_HORIZ_ABS\n",
      "Vehicle 1: EKF is not ready — missing: POS_HORIZ_ABS\n",
      "Vehicle 1: EKF is not ready — missing: POS_HORIZ_ABS\n",
      "Vehicle 1: EKF is not ready — missing: POS_HORIZ_ABS\n",
      "Vehicle 1: EKF is not ready — missing: POS_HORIZ_ABS\n",
      "Vehicle 1: EKF is not ready — missing: POS_HORIZ_ABS\n",
      "Vehicle 1: EKF is not ready — missing: POS_HORIZ_ABS\n",
      "Vehicle 1: EKF is not ready — missing: POS_HORIZ_ABS\n",
      "Vehicle 1: EKF is not ready — missing: POS_HORIZ_ABS\n",
      "Vehicle 1: EKF is not ready — missing: POS_HORIZ_ABS\n",
      "Vehicle 1: EKF is not ready — missing: POS_HORIZ_ABS\n",
      "Vehicle 1: EKF is not ready — missing: POS_HORIZ_ABS\n",
      "Vehicle 1: EKF is not ready — missing: POS_HORIZ_ABS\n",
      "Vehicle 1: EKF is not ready — missing: POS_HORIZ_ABS\n",
      "Vehicle 1: EKF is not ready — missing: POS_HORIZ_ABS\n",
      "Vehicle 1: EKF is not ready — missing: POS_HORIZ_ABS\n",
      "Vehicle 1: EKF is not ready — missing: POS_HORIZ_ABS\n",
      "Vehicle 1: EKF is not ready — missing: POS_HORIZ_ABS\n",
      "Vehicle 1: EKF is not ready — missing: POS_HORIZ_ABS\n",
      "Vehicle 1: EKF is not ready — missing: POS_HORIZ_ABS\n",
      "Vehicle 1: EKF is not ready — missing: POS_HORIZ_ABS\n",
      "Vehicle 1: EKF is not ready — missing: POS_HORIZ_ABS\n",
      "Vehicle 1: EKF is not ready — missing: POS_HORIZ_ABS\n",
      "Vehicle 1: EKF is not ready — missing: POS_HORIZ_ABS\n",
      "Vehicle 1: EKF is not ready — missing: POS_HORIZ_ABS\n",
      "Vehicle 1: EKF is not ready — missing: POS_HORIZ_ABS\n",
      "Vehicle 1: EKF is not ready — missing: POS_HORIZ_ABS\n",
      "Vehicle 1: EKF is not ready — missing: POS_HORIZ_ABS\n",
      "Vehicle 1: EKF is not ready — missing: POS_HORIZ_ABS\n",
      "Vehicle 1: EKF is not ready — missing: POS_HORIZ_ABS\n",
      "Vehicle 1: EKF is not ready — missing: POS_HORIZ_ABS\n",
      "Vehicle 1: EKF is not ready — missing: POS_HORIZ_ABS\n",
      "Vehicle 1: EKF is not ready — missing: POS_HORIZ_ABS\n",
      "Vehicle 1: EKF is not ready — missing: POS_HORIZ_ABS\n",
      "Vehicle 1: EKF is not ready — missing: POS_HORIZ_ABS\n",
      "Vehicle 1: EKF is not ready — missing: POS_HORIZ_ABS\n",
      "Vehicle 1: EKF is not ready — missing: POS_HORIZ_ABS\n",
      "Vehicle 1: EKF is not ready — missing: POS_HORIZ_ABS\n",
      "Vehicle 1: EKF is not ready — missing: POS_HORIZ_ABS\n",
      "Vehicle 1: EKF is not ready — missing: POS_HORIZ_ABS\n",
      "Vehicle 1: EKF is not ready — missing: POS_HORIZ_ABS\n",
      "Vehicle 1: EKF is not ready — missing: POS_HORIZ_ABS\n",
      "Vehicle 1: EKF is not ready — missing: POS_HORIZ_ABS\n",
      "Vehicle 1: EKF is not ready — missing: POS_HORIZ_ABS\n",
      "Vehicle 1: EKF is not ready — missing: POS_HORIZ_ABS\n",
      "Vehicle 1: EKF is not ready — missing: POS_HORIZ_ABS\n",
      "Vehicle 1: EKF is not ready — missing: POS_HORIZ_ABS\n",
      "Vehicle 1: EKF is not ready — missing: POS_HORIZ_ABS\n",
      "Vehicle 1: EKF is not ready — missing: POS_HORIZ_ABS\n",
      "Vehicle 1: EKF is not ready — missing: POS_HORIZ_ABS\n",
      "Vehicle 1: EKF is not ready — missing: POS_HORIZ_ABS\n",
      "Vehicle 1: EKF is not ready — missing: POS_HORIZ_ABS\n",
      "Vehicle 1: EKF is not ready — missing: POS_HORIZ_ABS\n",
      "Vehicle 1: EKF is not ready — missing: POS_HORIZ_ABS\n",
      "Vehicle 1: EKF is not ready — missing: POS_HORIZ_ABS\n",
      "Vehicle 1: EKF is not ready — missing: POS_HORIZ_ABS\n",
      "Vehicle 1: EKF is not ready — missing: POS_HORIZ_ABS\n",
      "Vehicle 1: EKF is not ready — missing: POS_HORIZ_ABS\n",
      "Vehicle 1: EKF is not ready — missing: POS_HORIZ_ABS\n",
      "Vehicle 1: EKF is not ready — missing: POS_HORIZ_ABS\n",
      "Vehicle 1: EKF is not ready — missing: POS_HORIZ_ABS\n",
      "Vehicle 1: EKF is not ready — missing: POS_HORIZ_ABS\n",
      "Vehicle 1: EKF is not ready — missing: POS_HORIZ_ABS\n",
      "Vehicle 1: EKF is not ready — missing: POS_HORIZ_ABS\n",
      "Vehicle 1: EKF is not ready — missing: POS_HORIZ_ABS\n",
      "Vehicle 1: EKF is not ready — missing: POS_HORIZ_ABS\n",
      "Vehicle 1: EKF is not ready — missing: POS_HORIZ_ABS\n",
      "Vehicle 1: EKF is not ready — missing: POS_HORIZ_ABS\n",
      "Vehicle 1: EKF is not ready — missing: POS_HORIZ_ABS\n",
      "Vehicle 1: EKF is not ready — missing: POS_HORIZ_ABS\n",
      "Vehicle 1: EKF is not ready — missing: POS_HORIZ_ABS\n",
      "Vehicle 1: EKF is not ready — missing: POS_HORIZ_ABS\n",
      "Vehicle 1: EKF is not ready — missing: POS_HORIZ_ABS\n",
      "Vehicle 1: EKF is not ready — missing: POS_HORIZ_ABS\n",
      "Vehicle 1: EKF is not ready — missing: POS_HORIZ_ABS\n",
      "Vehicle 1: EKF is not ready — missing: POS_HORIZ_ABS\n",
      "Vehicle 1: EKF is not ready — missing: POS_HORIZ_ABS\n",
      "Vehicle 1: EKF is not ready — missing: POS_HORIZ_ABS\n",
      "Vehicle 1: EKF is not ready — missing: POS_HORIZ_ABS\n",
      "Vehicle 1: EKF is not ready — missing: POS_HORIZ_ABS\n",
      "Vehicle 1: EKF is not ready — missing: POS_HORIZ_ABS\n",
      "Vehicle 1: EKF is not ready — missing: POS_HORIZ_ABS\n",
      "Vehicle 1: EKF is not ready — missing: POS_HORIZ_ABS\n",
      "Vehicle 1: EKF is not ready — missing: POS_HORIZ_ABS\n",
      "Vehicle 1: EKF is not ready — missing: POS_HORIZ_ABS\n",
      "Vehicle 1: EKF is not ready — missing: POS_HORIZ_ABS\n",
      "Vehicle 1: EKF is not ready — missing: POS_HORIZ_ABS\n",
      "Vehicle 1: EKF is not ready — missing: POS_HORIZ_ABS\n",
      "Vehicle 1: EKF is not ready — missing: POS_HORIZ_ABS\n",
      "Vehicle 1: ✅ Step: Check EKF is done\n",
      "Vehicle 1: Step 'Check GPS' is now connected ✅🔗\n",
      "Vehicle 1: ▶️ Starting Step: Check GPS\n",
      "Vehicle 1: ✅ Step: Check GPS is done\n",
      "Vehicle 1: Step 'Check system' is now connected ✅🔗\n",
      "Vehicle 1: ▶️ Starting Step: Check system\n",
      "Vehicle 1: ✅ Step: Check system is done\n",
      "Vehicle 1: ✅ Action: Pre-Arm Check is done\n",
      "Vehicle 1: Action 'Set Mode: GUIDED' is now connected ✅🔗\n",
      "Vehicle 1: ▶️ Starting Action: Set Mode: GUIDED\n",
      "Vehicle 1: Step 'Switch to GUIDED' is now connected ✅🔗\n",
      "Vehicle 1: ▶️ Starting Step: Switch to GUIDED\n",
      "Vehicle 1: ✅ Step: Switch to GUIDED is done\n",
      "Vehicle 1: ✅ Action: Set Mode: GUIDED is done\n",
      "Vehicle 1: Action 'Arm' is now connected ✅🔗\n",
      "Vehicle 1: ▶️ Starting Action: Arm\n",
      "Vehicle 1: Step 'arm' is now connected ✅🔗\n",
      "Vehicle 1: 🛰️ Sending ARM command...\n",
      "Vehicle 1: ▶️ Starting Step: arm\n",
      "Vehicle 1: ✅ Step: arm is done\n",
      "Vehicle 1: ✅ Action: Arm is done\n",
      "Vehicle 1: Action 'Take Off' is now connected ✅🔗\n",
      "Vehicle 1: ▶️ Starting Action: Take Off\n",
      "Vehicle 1: Step 'take off' is now connected ✅🔗\n",
      "Vehicle 1: ▶️ Starting Step: take off\n",
      "Vehicle 1:📍 Distance to target: 5.03 m\n",
      "Vehicle 1:📍 Distance to target: 5.03 m\n",
      "Vehicle 1:📍 Distance to target: 5.03 m\n",
      "Vehicle 1:📍 Distance to target: 5.03 m\n",
      "Vehicle 1:📍 Distance to target: 5.03 m\n",
      "Vehicle 1:📍 Distance to target: 5.03 m\n",
      "Vehicle 1:📍 Distance to target: 5.03 m\n",
      "Vehicle 1:📍 Distance to target: 5.03 m\n",
      "Vehicle 1:📍 Distance to target: 5.03 m\n",
      "Vehicle 1:📍 Distance to target: 5.03 m\n",
      "Vehicle 1:📍 Distance to target: 4.99 m\n",
      "Vehicle 1:📍 Distance to target: 4.90 m\n",
      "Vehicle 1:📍 Distance to target: 4.74 m\n",
      "Vehicle 1:📍 Distance to target: 4.52 m\n",
      "Vehicle 1:📍 Distance to target: 4.23 m\n",
      "Vehicle 1:📍 Distance to target: 3.88 m\n",
      "Vehicle 1:📍 Distance to target: 3.45 m\n",
      "Vehicle 1:📍 Distance to target: 2.99 m\n",
      "Vehicle 1:📍 Distance to target: 2.53 m\n",
      "Vehicle 1:📍 Distance to target: 2.10 m\n",
      "Vehicle 1:📍 Distance to target: 1.70 m\n",
      "Vehicle 1:📍 Distance to target: 1.36 m\n",
      "Vehicle 1:📍 Distance to target: 1.05 m\n",
      "Vehicle 1:📍 Distance to target: 0.78 m\n",
      "Vehicle 1:📍 Distance to target: 0.55 m\n",
      "Vehicle 1:📍 Distance to target: 0.36 m\n",
      "Vehicle 1: ✅ Step: take off is done\n",
      "Vehicle 1: ✅ Action: Take Off is done\n",
      "Vehicle 1: Action 'fly' is now connected ✅🔗\n",
      "Vehicle 1: ▶️ Starting Action: fly\n",
      "Vehicle 1: Step 'go to -> (0, 0, 5)' is now connected ✅🔗\n",
      "Vehicle 1: ▶️ Starting Step: go to -> (0, 0, 5)\n",
      "Vehicle 1:📍 Distance to target: 0.21 m\n",
      "Vehicle 1: ✅ Step: go to -> (0, 0, 5) is done\n",
      "Vehicle 1: Step 'go to -> (0, 7, 5)' is now connected ✅🔗\n",
      "Vehicle 1: ▶️ Starting Step: go to -> (0, 7, 5)\n",
      "Vehicle 1:📍 Distance to target: 6.99 m\n",
      "Vehicle 1:📍 Distance to target: 6.94 m\n",
      "Vehicle 1:📍 Distance to target: 6.77 m\n",
      "Vehicle 1:📍 Distance to target: 6.42 m\n",
      "Vehicle 1:📍 Distance to target: 5.90 m\n",
      "Vehicle 1:📍 Distance to target: 5.20 m\n",
      "Vehicle 1:📍 Distance to target: 4.40 m\n",
      "Vehicle 1:📍 Distance to target: 3.57 m\n",
      "Vehicle 1:📍 Distance to target: 2.78 m\n",
      "Vehicle 1:📍 Distance to target: 2.06 m\n",
      "Vehicle 1:📍 Distance to target: 1.44 m\n",
      "Vehicle 1:📍 Distance to target: 0.91 m\n",
      "Vehicle 1:📍 Distance to target: 0.50 m\n",
      "Vehicle 1: ✅ Step: go to -> (0, 7, 5) is done\n",
      "Vehicle 1: Step 'go to -> (7, 7, 5)' is now connected ✅🔗\n",
      "Vehicle 1: ▶️ Starting Step: go to -> (7, 7, 5)\n",
      "Vehicle 1:📍 Distance to target: 6.99 m\n",
      "Vehicle 1:📍 Distance to target: 6.94 m\n",
      "Vehicle 1:📍 Distance to target: 6.76 m\n",
      "Vehicle 1:📍 Distance to target: 6.42 m\n",
      "Vehicle 1:📍 Distance to target: 5.91 m\n",
      "Vehicle 1:📍 Distance to target: 5.24 m\n",
      "Vehicle 1:📍 Distance to target: 4.45 m\n",
      "Vehicle 1:📍 Distance to target: 3.63 m\n",
      "Vehicle 1:📍 Distance to target: 2.84 m\n",
      "Vehicle 1:📍 Distance to target: 2.12 m\n",
      "Vehicle 1:📍 Distance to target: 1.49 m\n",
      "Vehicle 1:📍 Distance to target: 0.97 m\n",
      "Vehicle 1:📍 Distance to target: 0.56 m\n",
      "Vehicle 1:📍 Distance to target: 0.27 m\n",
      "Vehicle 1: ✅ Step: go to -> (7, 7, 5) is done\n",
      "Vehicle 1: Step 'go to -> (7, 0, 5)' is now connected ✅🔗\n",
      "Vehicle 1: ▶️ Starting Step: go to -> (7, 0, 5)\n",
      "Vehicle 1:📍 Distance to target: 6.99 m\n",
      "Vehicle 1:📍 Distance to target: 6.94 m\n",
      "Vehicle 1:📍 Distance to target: 6.77 m\n",
      "Vehicle 1:📍 Distance to target: 6.43 m\n",
      "Vehicle 1:📍 Distance to target: 5.91 m\n",
      "Vehicle 1:📍 Distance to target: 5.23 m\n",
      "Vehicle 1:📍 Distance to target: 4.43 m\n",
      "Vehicle 1:📍 Distance to target: 3.61 m\n",
      "Vehicle 1:📍 Distance to target: 2.83 m\n",
      "Vehicle 1:📍 Distance to target: 2.12 m\n",
      "Vehicle 1:📍 Distance to target: 1.49 m\n",
      "Vehicle 1:📍 Distance to target: 0.97 m\n",
      "Vehicle 1:📍 Distance to target: 0.56 m\n",
      "Vehicle 1:📍 Distance to target: 0.26 m\n",
      "Vehicle 1: ✅ Step: go to -> (7, 0, 5) is done\n",
      "Vehicle 1: Step 'go to -> (0, 0, 5)' is now connected ✅🔗\n",
      "Vehicle 1: ▶️ Starting Step: go to -> (0, 0, 5)\n",
      "Vehicle 1:📍 Distance to target: 6.99 m\n",
      "Vehicle 1:📍 Distance to target: 6.93 m\n",
      "Vehicle 1:📍 Distance to target: 6.76 m\n",
      "Vehicle 1:📍 Distance to target: 6.42 m\n",
      "Vehicle 1:📍 Distance to target: 5.90 m\n",
      "Vehicle 1:📍 Distance to target: 5.22 m\n",
      "Vehicle 1:📍 Distance to target: 4.42 m\n",
      "Vehicle 1:📍 Distance to target: 3.60 m\n",
      "Vehicle 1:📍 Distance to target: 2.81 m\n",
      "Vehicle 1:📍 Distance to target: 2.10 m\n",
      "Vehicle 1:📍 Distance to target: 1.48 m\n",
      "Vehicle 1:📍 Distance to target: 0.96 m\n",
      "Vehicle 1:📍 Distance to target: 0.56 m\n",
      "Vehicle 1:📍 Distance to target: 0.27 m\n",
      "Vehicle 1: ✅ Step: go to -> (0, 0, 5) is done\n",
      "Vehicle 1: ✅ Action: fly is done\n",
      "Vehicle 1: Action 'Land' is now connected ✅🔗\n",
      "Vehicle 1: ▶️ Starting Action: Land\n",
      "Vehicle 1: Step 'land' is now connected ✅🔗\n",
      "Vehicle 1: ▶️ Starting Step: land\n",
      "Vehicle 1: ✅ Step: land is done\n",
      "Vehicle 1: ✅ Action: Land is done\n"
     ]
    }
   ],
   "source": [
    "mission_incomplete = True\n",
    "while mission_incomplete:\n",
    "    mission_incomplete = not uav.act_plan()"
   ]
  },
  {
   "cell_type": "code",
   "execution_count": 11,
   "metadata": {},
   "outputs": [
    {
     "name": "stdout",
     "output_type": "stream",
     "text": [
      "✅ <Plan 'basic plan'>\n",
      "  ✅ <Action 'Pre-Arm Check'>\n",
      "    ✅ <Step 'Check disarmed'>\n",
      "    ✅ <Step 'Check EKF'>\n",
      "    ✅ <Step 'Check GPS'>\n",
      "    ✅ <Step 'Check system'>\n",
      "  ✅ <Action 'Set Mode: GUIDED'>\n",
      "    ✅ <Step 'Switch to GUIDED'>\n",
      "  ✅ <Action 'Arm'>\n",
      "    ✅ <Step 'arm'>\n",
      "  ✅ <Action 'Take Off'>\n",
      "    ✅ <Step 'take off'>\n",
      "  ✅ <Action 'fly'>\n",
      "    ✅ <Step 'go to -> (0, 0, 5)'>\n",
      "    ✅ <Step 'go to -> (0, 7, 5)'>\n",
      "    ✅ <Step 'go to -> (7, 7, 5)'>\n",
      "    ✅ <Step 'go to -> (7, 0, 5)'>\n",
      "    ✅ <Step 'go to -> (0, 0, 5)'>\n",
      "  ✅ <Action 'Land'>\n",
      "    ✅ <Step 'land'>\n"
     ]
    }
   ],
   "source": [
    "print(uav.plan)"
   ]
  },
  {
   "cell_type": "markdown",
   "metadata": {},
   "source": [
    "## Kill all related process"
   ]
  },
  {
   "cell_type": "code",
   "execution_count": 12,
   "metadata": {},
   "outputs": [],
   "source": [
    "for process in [\"QGroundControl\", \"sim_vehicle.py\", \"arducopter\", \"gazebo\", \"mavproxy\"]:\n",
    "    os.system(f\"pkill -9 -f {process}\")"
   ]
  }
 ],
 "metadata": {
  "kernelspec": {
   "display_name": "pymavlink",
   "language": "python",
   "name": "python3"
  },
  "language_info": {
   "codemirror_mode": {
    "name": "ipython",
    "version": 3
   },
   "file_extension": ".py",
   "mimetype": "text/x-python",
   "name": "python",
   "nbconvert_exporter": "python",
   "pygments_lexer": "ipython3",
   "version": "3.9.21"
  }
 },
 "nbformat": 4,
 "nbformat_minor": 2
}
