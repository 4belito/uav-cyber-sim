{
 "cells": [
  {
   "cell_type": "code",
   "execution_count": 1,
   "id": "8783c6fd",
   "metadata": {},
   "outputs": [],
   "source": [
    "from helpers.change_coordinates import GRAPose\n",
    "from oracle import Oracle\n",
    "\n",
    "gra_origin = GRAPose(lat=-35.3633280, lon=149.1652241, alt=0, heading=90)\n",
    "Oracle.plot_trajectories(gra_origin)"
   ]
  },
  {
   "cell_type": "code",
   "execution_count": null,
   "id": "4592b972",
   "metadata": {},
   "outputs": [],
   "source": []
  }
 ],
 "metadata": {
  "kernelspec": {
   "display_name": "uav-cyber-sim11",
   "language": "python",
   "name": "python3"
  },
  "language_info": {
   "codemirror_mode": {
    "name": "ipython",
    "version": 3
   },
   "file_extension": ".py",
   "mimetype": "text/x-python",
   "name": "python",
   "nbconvert_exporter": "python",
   "pygments_lexer": "ipython3",
   "version": "3.11.13"
  }
 },
 "nbformat": 4,
 "nbformat_minor": 5
}
