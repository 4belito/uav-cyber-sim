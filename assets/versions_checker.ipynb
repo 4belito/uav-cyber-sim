{
 "cells": [
  {
   "cell_type": "markdown",
   "metadata": {},
   "source": [
    "## Version Comands"
   ]
  },
  {
   "cell_type": "code",
   "execution_count": 2,
   "metadata": {},
   "outputs": [],
   "source": [
    "from pymavlink import mavutil\n",
    "conn = mavutil.mavlink_connection('udp:127.0.0.1:14550')\n"
   ]
  },
  {
   "cell_type": "markdown",
   "metadata": {
    "vscode": {
     "languageId": "plaintext"
    }
   },
   "source": [
    "## Mavlink\n"
   ]
  },
  {
   "cell_type": "code",
   "execution_count": null,
   "metadata": {},
   "outputs": [],
   "source": [
    "msg = conn.recv_match(type='HEARTBEAT', blocking=True)\n",
    "\n",
    "if msg:\n",
    "    print(f\"Autopilot MAVLink version: {msg.mavlink_version}\")  \n",
    "if msg.mavlink_version == 3:\n",
    "    print(\"This likely corresponds to MAVLink 2.0 or an experimental version.\")"
   ]
  },
  {
   "cell_type": "markdown",
   "metadata": {},
   "source": [
    "## Ardupilot"
   ]
  },
  {
   "cell_type": "code",
   "execution_count": 10,
   "metadata": {},
   "outputs": [
    {
     "name": "stdout",
     "output_type": "stream",
     "text": [
      "Heartbeat received. Connected to the vehicle.\n",
      "ArduPilot Version: 4.5.7\n"
     ]
    }
   ],
   "source": [
    "conn.wait_heartbeat()\n",
    "print(\"Heartbeat received. Connected to the vehicle.\")\n",
    "\n",
    "# Request the AUTOPILOT_VERSION message\n",
    "conn.mav.command_long_send(\n",
    "    conn.target_system, conn.target_component,\n",
    "    mavutil.mavlink.MAV_CMD_REQUEST_MESSAGE, 0,\n",
    "    mavutil.mavlink.MAVLINK_MSG_ID_AUTOPILOT_VERSION, 0, 0, 0, 0, 0, 0\n",
    ")\n",
    "\n",
    "# Wait for the response\n",
    "msg = conn.recv_match(type='AUTOPILOT_VERSION', blocking=True, timeout=5)\n",
    "\n",
    "if msg:\n",
    "    # The firmware version is stored in msg.flight_sw_version\n",
    "    major = (msg.flight_sw_version >> 24) & 0xFF\n",
    "    minor = (msg.flight_sw_version >> 16) & 0xFF\n",
    "    patch = (msg.flight_sw_version >> 8) & 0xFF\n",
    "    print(f\"ArduPilot Version: {major}.{minor}.{patch}\")\n",
    "else:\n",
    "    print(\"Failed to receive AUTOPILOT_VERSION message.\")\n"
   ]
  },
  {
   "cell_type": "code",
   "execution_count": null,
   "metadata": {},
   "outputs": [],
   "source": []
  }
 ],
 "metadata": {
  "kernelspec": {
   "display_name": "uav-cyber-sim11",
   "language": "python",
   "name": "python3"
  },
  "language_info": {
   "codemirror_mode": {
    "name": "ipython",
    "version": 3
   },
   "file_extension": ".py",
   "mimetype": "text/x-python",
   "name": "python",
   "nbconvert_exporter": "python",
   "pygments_lexer": "ipython3",
   "version": "3.11.13"
  }
 },
 "nbformat": 4,
 "nbformat_minor": 2
}
