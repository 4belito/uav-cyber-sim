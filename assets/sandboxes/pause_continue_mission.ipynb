{
 "cells": [
  {
   "cell_type": "markdown",
   "metadata": {},
   "source": [
    "## Simple Mission\n",
    "\n",
    "This notebook serves to check the ardupilot installation"
   ]
  },
  {
   "cell_type": "code",
   "execution_count": 1,
   "metadata": {},
   "outputs": [],
   "source": [
    "import os\n",
    "import sys\n",
    "from pathlib import Path\n",
    "from typing import cast\n",
    "\n",
    "root = Path.cwd().resolve().parents[1]\n",
    "sys.path.append(str(root))\n",
    "\n",
    "import pymavlink.dialects.v20.ardupilotmega as mavlink  # noqa: E402\n",
    "\n",
    "from config import (  # noqa: E402\n",
    "    ARDU_LOGS_PATH,\n",
    "    ARDUPILOT_VEHICLE_PATH,\n",
    "    ENV_CMD_PYT,\n",
    "    VEH_PARAMS_PATH,\n",
    "    BasePort,\n",
    ")\n",
    "from helpers import clean, create_process, setup_logging, wait_for_port  # noqa: E402\n",
    "from helpers.connections.mavlink.conn import connect  # noqa: E402\n",
    "from helpers.connections.mavlink.customtypes.mission import MissionLoader  # noqa: E402\n",
    "from helpers.connections.mavlink.enums import (  # noqa: E402\n",
    "    Cmd,\n",
    "    CmdNav,\n",
    "    MissionResult,\n",
    "    MsgID,  # noqa: E402\n",
    ")\n",
    "from helpers.connections.mavlink.streams import stop_msg  # noqa: E402\n",
    "from plan import State  # noqa: E402\n",
    "from plan.planner import Plan  # noqa: E402\n",
    "\n",
    "clean()"
   ]
  },
  {
   "cell_type": "markdown",
   "metadata": {},
   "source": [
    "## Launch Copter (ardupilot)"
   ]
  },
  {
   "cell_type": "code",
   "execution_count": 2,
   "metadata": {},
   "outputs": [
    {
     "name": "stdout",
     "output_type": "stream",
     "text": [
      "Waiting for port 5760 to open...\n"
     ]
    }
   ],
   "source": [
    "# type: ignore\n",
    "\n",
    "#This must agrre with first waypoint in mission.waypoint\n",
    "spawn_str= '-35.3633245,149.1652241,0.0,0' \n",
    "\n",
    "sim_vehicle_path = os.path.expanduser(ARDUPILOT_VEHICLE_PATH)\n",
    "sysid = 1\n",
    "vehicle_cmd = (\n",
    "    f\"python3 {sim_vehicle_path} \"\n",
    "    f\"-v ArduCopter \"\n",
    "    f\"-I{sysid-1} --sysid {sysid} \"\n",
    "    f\"--no-rebuild \"\n",
    "    f\"--use-dir={ARDU_LOGS_PATH} \"\n",
    "    f\"--add-param-file {VEH_PARAMS_PATH} \"\n",
    "    f\"--no-mavproxy \"\n",
    "    f\"--port-offset=0 \"  # ArduPilot automatically binds TCP port 5760 (BasePort.ARP)\n",
    "    f'--custom-location={spawn_str}'\n",
    ")\n",
    "\n",
    "create_process(\n",
    "                vehicle_cmd,\n",
    "                after=\"exec bash\",\n",
    "                visible= True,\n",
    "                suppress_output=False,\n",
    "                title=\"ardu_vehicle\",\n",
    "                env_cmd=ENV_CMD_PYT,\n",
    "            )\n",
    "\n",
    "wait_for_port(BasePort.ARP ,timeout=0.5)"
   ]
  },
  {
   "cell_type": "markdown",
   "metadata": {},
   "source": [
    "## 1. Connect to the vehicle"
   ]
  },
  {
   "cell_type": "code",
   "execution_count": 3,
   "metadata": {},
   "outputs": [
    {
     "name": "stdout",
     "output_type": "stream",
     "text": [
      "✅ Heartbeat received\n"
     ]
    }
   ],
   "source": [
    "conn = connect(f\"tcp:127.0.0.1:{BasePort.ARP}\", source_system=sysid)\n",
    "conn.wait_heartbeat() \n",
    "print(\"✅ Heartbeat received\")"
   ]
  },
  {
   "cell_type": "markdown",
   "metadata": {},
   "source": [
    "# 2. Load the waypoint file"
   ]
  },
  {
   "cell_type": "code",
   "execution_count": 4,
   "metadata": {},
   "outputs": [
    {
     "name": "stdout",
     "output_type": "stream",
     "text": [
      "✅ Loaded 6 waypoints\n"
     ]
    }
   ],
   "source": [
    "mission = MissionLoader(conn.target_system, conn.target_component)\n",
    "mission_path = (root / \"plan\" / \"missions\" / \"mission_change_speed.waypoints\").resolve()\n",
    "#mission_path = (root / \"plan\" / \"missions\" / \"mission_3wp.waypoints\").resolve()\n",
    "count = mission.load(str(mission_path)) # your QGC WPL 110 file\n",
    "print(f\"✅ Loaded {count} waypoints\")"
   ]
  },
  {
   "cell_type": "markdown",
   "metadata": {},
   "source": [
    "# 3. Read the mission"
   ]
  },
  {
   "cell_type": "code",
   "execution_count": 5,
   "metadata": {},
   "outputs": [
    {
     "name": "stdout",
     "output_type": "stream",
     "text": [
      "🧭 Mission[0] → cmd: NAV_WAYPOINT, x: -35.363328, y: 149.1651141, z: 0.0, current: 0\n",
      "🧭 Mission[1] → cmd: NAV_TAKEOFF, x: -35.363328, y: 149.1651141, z: 5.0, current: 0\n",
      "🧭 Mission[2] → cmd: DO_CHANGE_SPEED, x: 0.0, y: 0.0, z: 0.0, current: 0\n",
      "🧭 Mission[3] → cmd: DO_CHANGE_SPEED, x: 0.0, y: 0.0, z: 0.0, current: 0\n",
      "🧭 Mission[4] → cmd: NAV_WAYPOINT, x: -35.363328, y: 149.1653341, z: 5.0, current: 0\n",
      "🧭 Mission[5] → cmd: NAV_LAND, x: -35.363328, y: 149.1653341, z: 0.0, current: 0\n"
     ]
    }
   ],
   "source": [
    "# Retrieve each mission item\n",
    "for i in range(count):\n",
    "    wp = mission.item(i)\n",
    "    cmd_name = Cmd(wp.command).name\n",
    "    print(\n",
    "        f\"🧭 Mission[{i}] → cmd: {cmd_name}, \"\n",
    "        f\"x: {wp.x}, y: {wp.y}, z: {wp.z}, current: {wp.current}\"\n",
    "    )"
   ]
  },
  {
   "cell_type": "markdown",
   "metadata": {},
   "source": [
    "# 3. Clear any existing mission"
   ]
  },
  {
   "cell_type": "code",
   "execution_count": 6,
   "metadata": {},
   "outputs": [
    {
     "name": "stdout",
     "output_type": "stream",
     "text": [
      "🧹 Cleared previous mission\n"
     ]
    }
   ],
   "source": [
    "conn.mav.mission_clear_all_send(conn.target_system, conn.target_component)\n",
    "while True:\n",
    "    msg = conn.recv_match(type='STATUSTEXT',blocking=False)\n",
    "    if msg and msg.text == 'ArduPilot Ready':\n",
    "        print(\"🧹 Cleared previous mission\")\n",
    "        break\n",
    "\n"
   ]
  },
  {
   "cell_type": "markdown",
   "metadata": {},
   "source": [
    "# 4. Send new mission count"
   ]
  },
  {
   "cell_type": "code",
   "execution_count": 7,
   "metadata": {},
   "outputs": [
    {
     "name": "stdout",
     "output_type": "stream",
     "text": [
      "📤 Sending 6 mission items\n"
     ]
    }
   ],
   "source": [
    "conn.mav.mission_count_send(conn.target_system, conn.target_component, mission.count())\n",
    "print(f\"📤 Sending {mission.count()} mission items\")\n"
   ]
  },
  {
   "cell_type": "markdown",
   "metadata": {},
   "source": [
    "# 5. Send each item in response to MISSION_REQUEST"
   ]
  },
  {
   "cell_type": "code",
   "execution_count": 8,
   "metadata": {},
   "outputs": [
    {
     "name": "stdout",
     "output_type": "stream",
     "text": [
      "✅ Sent mission item 0\n",
      "✅ Sent mission item 1\n",
      "✅ Sent mission item 2\n",
      "✅ Sent mission item 3\n",
      "✅ Sent mission item 4\n",
      "✅ Sent mission item 5\n"
     ]
    }
   ],
   "source": [
    "for i in range(mission.count()):\n",
    "    msg = conn.recv_match(type='MISSION_REQUEST', blocking=True, timeout=5)\n",
    "    if not msg or msg.seq != i:\n",
    "        raise RuntimeError(f\"❌ Unexpected mission request: {msg}\")\n",
    "    conn.mav.send(mission.wp(i))\n",
    "    print(f\"✅ Sent mission item {i}\")"
   ]
  },
  {
   "cell_type": "markdown",
   "metadata": {},
   "source": [
    "# 6. Wait for final MISSION_ACK"
   ]
  },
  {
   "cell_type": "code",
   "execution_count": 9,
   "metadata": {},
   "outputs": [
    {
     "name": "stdout",
     "output_type": "stream",
     "text": [
      "🎉 Mission upload successful!\n"
     ]
    }
   ],
   "source": [
    "ack = conn.recv_match(type='MISSION_ACK', blocking=True, timeout=5)\n",
    "if ack and MissionResult(ack.type) == MissionResult.ACCEPTED:\n",
    "    print(\"🎉 Mission upload successful!\")\n",
    "else:\n",
    "    print(f\"⚠️ Mission upload failed or timed out: {ack}\")"
   ]
  },
  {
   "cell_type": "markdown",
   "metadata": {},
   "source": [
    "## Check the mission"
   ]
  },
  {
   "cell_type": "code",
   "execution_count": 10,
   "metadata": {},
   "outputs": [
    {
     "name": "stdout",
     "output_type": "stream",
     "text": [
      "📦 UAV has 6 mission items\n",
      "🧭 Mission[0] → cmd: NAV_WAYPOINT, x: 0.0, y: 0.0, z: 0.0, current: 0\n",
      "🧭 Mission[1] → cmd: NAV_TAKEOFF, x: -35.36332702636719, y: 149.1651153564453, z: 5.0, current: 0\n",
      "🧭 Mission[2] → cmd: DO_CHANGE_SPEED, x: 0.0, y: 0.0, z: 0.0, current: 0\n",
      "🧭 Mission[3] → cmd: DO_CHANGE_SPEED, x: 0.0, y: 0.0, z: 0.0, current: 0\n",
      "🧭 Mission[4] → cmd: NAV_WAYPOINT, x: -35.36332702636719, y: 149.1653289794922, z: 5.0, current: 0\n",
      "🧭 Mission[5] → cmd: NAV_LAND, x: -35.36332702636719, y: 149.1653289794922, z: 0.0, current: 0\n"
     ]
    }
   ],
   "source": [
    "# Create a mission protocol loader\n",
    "wp = MissionLoader()\n",
    "\n",
    "\n",
    "# Request list of mission items\n",
    "conn.mav.mission_request_list_send(conn.target_system, conn.target_component)\n",
    "\n",
    "# Wait for mission count\n",
    "msg = conn.recv_match(type='MISSION_COUNT', blocking=True, timeout=5)\n",
    "if msg:\n",
    "    mission_count = msg.count\n",
    "    print(f\"📦 UAV has {mission_count} mission items\")\n",
    "    # Retrieve each mission item\n",
    "    for i in range(mission_count):\n",
    "        conn.mav.mission_request_send(conn.target_system, conn.target_component, i)\n",
    "        item = conn.recv_match(type='MISSION_ITEM', blocking=True, timeout=5)\n",
    "        if item:\n",
    "            wp.set(item, i)\n",
    "            print(\n",
    "                f\"🧭 Mission[{i}] → cmd: {Cmd(item.command).name}, \"\n",
    "                f\"x: {item.x}, y: {item.y}, z: {item.z}, current: {item.current}\"\n",
    "            )\n",
    "else:\n",
    "    print('No mission count received')"
   ]
  },
  {
   "cell_type": "markdown",
   "metadata": {},
   "source": [
    "# Arm the uav"
   ]
  },
  {
   "cell_type": "code",
   "execution_count": 11,
   "metadata": {},
   "outputs": [
    {
     "name": "stderr",
     "output_type": "stream",
     "text": [
      "19:54:21 - plan - DEBUG - ▶️ Vehicle 1: Plan Started: 📋 arm\n",
      "19:54:21 - plan - DEBUG - ▶️ Vehicle 1: Action Started: 🔧 PREARM\n",
      "19:54:21 - plan - DEBUG - ▶️ Vehicle 1: CheckDisarmed Started: Check disarmed\n",
      "19:54:22 - plan - DEBUG - ✅ Vehicle 1: CheckDisarmed Done: Check disarmed\n",
      "19:54:22 - plan - DEBUG - Vehicle 1: 📡 Requested message EKF_STATUS_REPORT at 1.00 Hz\n",
      "19:54:22 - plan - DEBUG - ▶️ Vehicle 1: EFKStatus Started: Check EKF status\n",
      "19:54:23 - plan - DEBUG - 🛰️ Vehicle 1: Waiting for EKF to be ready... Pending: ATTITUDE, VELOCITY_HORIZ, POS_VERT_ABS, POS_HORIZ_ABS\n",
      "19:54:24 - plan - DEBUG - 🛰️ Vehicle 1: Waiting for EKF to be ready... Pending: ATTITUDE, VELOCITY_HORIZ, POS_VERT_ABS, POS_HORIZ_ABS\n",
      "19:54:25 - plan - DEBUG - 🛰️ Vehicle 1: Waiting for EKF to be ready... Pending: POS_HORIZ_ABS\n",
      "19:54:26 - plan - DEBUG - 🛰️ Vehicle 1: Waiting for EKF to be ready... Pending: POS_HORIZ_ABS\n",
      "19:54:27 - plan - DEBUG - 🛰️ Vehicle 1: Waiting for EKF to be ready... Pending: POS_HORIZ_ABS\n",
      "19:54:28 - plan - DEBUG - 🛰️ Vehicle 1: Waiting for EKF to be ready... Pending: POS_HORIZ_ABS\n",
      "19:54:29 - plan - DEBUG - 🛰️ Vehicle 1: Waiting for EKF to be ready... Pending: POS_HORIZ_ABS\n",
      "19:54:30 - plan - DEBUG - 🛰️ Vehicle 1: Waiting for EKF to be ready... Pending: POS_HORIZ_ABS\n",
      "19:54:31 - plan - DEBUG - 🛰️ Vehicle 1: Waiting for EKF to be ready... Pending: POS_HORIZ_ABS\n",
      "19:54:32 - plan - DEBUG - 🛰️ Vehicle 1: Waiting for EKF to be ready... Pending: POS_HORIZ_ABS\n",
      "19:54:33 - plan - DEBUG - 🛰️ Vehicle 1: Waiting for EKF to be ready... Pending: POS_HORIZ_ABS\n",
      "19:54:34 - plan - DEBUG - 🛰️ Vehicle 1: Waiting for EKF to be ready... Pending: POS_HORIZ_ABS\n",
      "19:54:35 - plan - DEBUG - 🛰️ Vehicle 1: Waiting for EKF to be ready... Pending: POS_HORIZ_ABS\n",
      "19:54:36 - plan - DEBUG - 🛰️ Vehicle 1: Waiting for EKF to be ready... Pending: POS_HORIZ_ABS\n",
      "19:54:37 - plan - DEBUG - 🛰️ Vehicle 1: Waiting for EKF to be ready... Pending: POS_HORIZ_ABS\n",
      "19:54:38 - plan - DEBUG - 🛰️ Vehicle 1: Waiting for EKF to be ready... Pending: POS_HORIZ_ABS\n",
      "19:54:39 - plan - DEBUG - 🛰️ Vehicle 1: Waiting for EKF to be ready... Pending: POS_HORIZ_ABS\n",
      "19:54:40 - plan - DEBUG - 🛰️ Vehicle 1: Waiting for EKF to be ready... Pending: POS_HORIZ_ABS\n",
      "19:54:41 - plan - DEBUG - 🛰️ Vehicle 1: Waiting for EKF to be ready... Pending: POS_HORIZ_ABS\n",
      "19:54:42 - plan - DEBUG - 🛰️ Vehicle 1: Waiting for EKF to be ready... Pending: POS_HORIZ_ABS\n",
      "19:54:43 - plan - DEBUG - 🛰️ Vehicle 1: Waiting for EKF to be ready... Pending: POS_HORIZ_ABS\n",
      "19:54:44 - plan - DEBUG - 🛰️ Vehicle 1: Waiting for EKF to be ready... Pending: POS_HORIZ_ABS\n",
      "19:54:45 - plan - DEBUG - 🛰️ Vehicle 1: Waiting for EKF to be ready... Pending: POS_HORIZ_ABS\n",
      "19:54:46 - plan - DEBUG - 🛰️ Vehicle 1: Waiting for EKF to be ready... Pending: POS_HORIZ_ABS\n",
      "19:54:47 - plan - DEBUG - 🛰️ Vehicle 1: Waiting for EKF to be ready... Pending: POS_HORIZ_ABS\n",
      "19:54:48 - plan - DEBUG - 🛰️ Vehicle 1: Waiting for EKF to be ready... Pending: POS_HORIZ_ABS\n",
      "19:54:49 - plan - DEBUG - 🛰️ Vehicle 1: Waiting for EKF to be ready... Pending: POS_HORIZ_ABS\n",
      "19:54:50 - plan - DEBUG - 🛰️ Vehicle 1: Waiting for EKF to be ready... Pending: POS_HORIZ_ABS\n",
      "19:54:51 - plan - DEBUG - 🛰️ Vehicle 1: Waiting for EKF to be ready... Pending: POS_HORIZ_ABS\n",
      "19:54:52 - plan - DEBUG - 🛰️ Vehicle 1: Waiting for EKF to be ready... Pending: POS_HORIZ_ABS\n",
      "19:54:53 - plan - DEBUG - 🛰️ Vehicle 1: Waiting for EKF to be ready... Pending: POS_HORIZ_ABS\n",
      "19:54:54 - plan - DEBUG - 🛰️ Vehicle 1: Waiting for EKF to be ready... Pending: POS_HORIZ_ABS\n",
      "19:54:55 - plan - DEBUG - 🛰️ Vehicle 1: Waiting for EKF to be ready... Pending: POS_HORIZ_ABS\n",
      "19:54:56 - plan - DEBUG - 🛰️ Vehicle 1: Waiting for EKF to be ready... Pending: POS_HORIZ_ABS\n",
      "19:54:57 - plan - DEBUG - 🛰️ Vehicle 1: Waiting for EKF to be ready... Pending: POS_HORIZ_ABS\n",
      "19:54:58 - plan - DEBUG - 🛰️ Vehicle 1: Waiting for EKF to be ready... Pending: POS_HORIZ_ABS\n",
      "19:54:59 - plan - DEBUG - 🛰️ Vehicle 1: Waiting for EKF to be ready... Pending: POS_HORIZ_ABS\n",
      "19:55:00 - plan - DEBUG - 🛰️ Vehicle 1: Waiting for EKF to be ready... Pending: POS_HORIZ_ABS\n",
      "19:55:01 - plan - DEBUG - ✅ Vehicle 1: EFKStatus Done: Check EKF status\n",
      "19:55:01 - plan - DEBUG - Vehicle 1: 📡 Requested message GPS_RAW_INT at 1.00 Hz\n",
      "19:55:01 - plan - DEBUG - ▶️ Vehicle 1: GPSStatus Started: Check GPS\n",
      "19:55:02 - plan - DEBUG - ✅ Vehicle 1: GPSStatus Done: Check GPS\n",
      "19:55:02 - plan - DEBUG - Vehicle 1: 📡 Requested message SYS_STATUS at 1.00 Hz\n",
      "19:55:02 - plan - DEBUG - ▶️ Vehicle 1: CheckSystem Started: Check system status\n",
      "19:55:04 - plan - DEBUG - ✅ Vehicle 1: CheckSystem Done: Check system status\n",
      "19:55:04 - plan - INFO - ✅ Vehicle 1: Action Done: 🔧 PREARM\n",
      "19:55:04 - plan - DEBUG - ▶️ Vehicle 1: Action Started: ⚙️  MODE: GUIDED\n",
      "19:55:04 - plan - DEBUG - ▶️ Vehicle 1: SwitchMode Started: Switch to GUIDED\n",
      "19:55:04 - plan - DEBUG - ✅ Vehicle 1: SwitchMode Done: Switch to GUIDED\n",
      "19:55:04 - plan - INFO - ✅ Vehicle 1: Action Done: ⚙️  MODE: GUIDED\n",
      "19:55:04 - plan - DEBUG - ▶️ Vehicle 1: Action Started: 🔐 ARM\n",
      "19:55:04 - plan - DEBUG - ▶️ Vehicle 1: Arm Started: arm\n",
      "19:55:05 - plan - DEBUG - ✅ Vehicle 1: Arm Done: arm\n",
      "19:55:05 - plan - INFO - ✅ Vehicle 1: Action Done: 🔐 ARM\n",
      "19:55:05 - plan - INFO - ✅ Vehicle 1: Plan Done: 📋 arm\n"
     ]
    }
   ],
   "source": [
    "plan_auto = Plan.arm(name=\"arm\")\n",
    "\n",
    "plan_auto = Plan.arm(name=\"arm\")\n",
    "plan_auto.bind(conn)\n",
    "setup_logging('plan',verbose=2)\n",
    "while plan_auto.state != State.DONE:\n",
    "    plan_auto.act()"
   ]
  },
  {
   "cell_type": "markdown",
   "metadata": {},
   "source": [
    "# Start mission"
   ]
  },
  {
   "cell_type": "code",
   "execution_count": 12,
   "metadata": {},
   "outputs": [],
   "source": [
    "conn.mav.command_long_send(\n",
    "        conn.target_system,\n",
    "        conn.target_component,\n",
    "        Cmd.MISSION_START,\n",
    "        0,\n",
    "        0,\n",
    "        0,\n",
    "        0,\n",
    "        0,\n",
    "        0,\n",
    "        0,\n",
    "        0,\n",
    "    )"
   ]
  },
  {
   "cell_type": "markdown",
   "metadata": {},
   "source": [
    "## Pause actions"
   ]
  },
  {
   "cell_type": "code",
   "execution_count": 13,
   "metadata": {},
   "outputs": [
    {
     "name": "stderr",
     "output_type": "stream",
     "text": [
      "19:55:05 - plan - DEBUG - 🔗 Vehicle 1: SwitchMode 'Switch to GUIDED' is now connected\n",
      "19:55:05 - plan - DEBUG - 🔗 Vehicle 1: Action 'MODE: GUIDED' is now connected\n",
      "19:55:05 - plan - DEBUG - 🔗 Vehicle 1: Action 'MODE: GUIDED' is now connected\n",
      "19:55:05 - plan - DEBUG - 🔗 Vehicle 1: SwitchMode 'Switch to AUTO' is now connected\n",
      "19:55:05 - plan - DEBUG - 🔗 Vehicle 1: Action 'MODE: AUTO' is now connected\n",
      "19:55:05 - plan - DEBUG - 🔗 Vehicle 1: Action 'MODE: AUTO' is now connected\n",
      "19:55:05 - plan - DEBUG - 🔗 Vehicle 1: GoTo 'go to  -> (0, 0, 5)' is now connected\n"
     ]
    }
   ],
   "source": [
    "from plan.actions import make_set_mode,make_go_to\n",
    "from helpers.connections.mavlink.streams import ask_msg\n",
    "from helpers.connections.mavlink.enums import CopterMode\n",
    "from helpers.coordinates import ENU,GRA\n",
    "import time\n",
    "set_guided = make_set_mode(CopterMode.GUIDED)\n",
    "set_auto = make_set_mode(CopterMode.AUTO)\n",
    "gra_origin = GRA(*map(float,spawn_str.split(',')[:3]))  # -35.3633245,149.1652241,0.0,0\n",
    "go_to = make_go_to(ENU(0,0,5))\n",
    "\n",
    "set_guided.bind(conn)\n",
    "set_auto.bind(conn)\n",
    "go_to.bind(conn)\n"
   ]
  },
  {
   "cell_type": "markdown",
   "metadata": {},
   "source": [
    "# Monitoring"
   ]
  },
  {
   "cell_type": "code",
   "execution_count": null,
   "metadata": {},
   "outputs": [
    {
     "name": "stderr",
     "output_type": "stream",
     "text": [
      "19:55:05 - plan - DEBUG - Vehicle 1: 📡 Requested message GLOBAL_POSITION_INT at 10.00 Hz\n"
     ]
    },
    {
     "name": "stdout",
     "output_type": "stream",
     "text": [
      "📌 Next waypoint: ENU(x=-9.460908929972677, y=-0.3883206297383679, z=4.9999929805269945)\n",
      "📍 Position: ENU(x=0.00908828486039962, y=9.434313530051752e-11, z=0.0029999998967365944)\n",
      "📍 Position: ENU(x=0.00908828486039962, y=9.434313530051752e-11, z=0.0029999998967365944)\n",
      "📍 Position: ENU(x=0.00908828486039962, y=9.434313530051752e-11, z=0.0029999998967365944)\n",
      "📍 Position: ENU(x=0.00908828486039962, y=9.434313530051752e-11, z=0.0029999998967365944)\n",
      "📍 Position: ENU(x=0.00908828486039962, y=9.434313530051752e-11, z=0.0029999998967365944)\n",
      "📍 Position: ENU(x=0.00908828486039962, y=9.434313530051752e-11, z=0.0029999998967365944)\n",
      "📍 Position: ENU(x=0.00908828486039962, y=9.434313530051752e-11, z=0.0029999998967365944)\n",
      "📍 Position: ENU(x=0.00908828486039962, y=9.434313530051752e-11, z=0.0029999998967365944)\n",
      "📍 Position: ENU(x=0.00908828486039962, y=9.434313530051752e-11, z=0.0029999998967365944)\n",
      "📍 Position: ENU(x=0.00908828486039962, y=9.434313530051752e-11, z=0.0029999998967365944)\n",
      "📍 Position: ENU(x=0.00908828486039962, y=9.434313530051752e-11, z=0.0029999998967365944)\n",
      "📍 Position: ENU(x=0.00908828486039962, y=9.434313530051752e-11, z=0.0029999998967365944)\n",
      "📍 Position: ENU(x=0.00908828486039962, y=9.434313530051752e-11, z=0.0029999998967365944)\n",
      "📍 Position: ENU(x=0.009088284890722243, y=1.9600757410372094e-10, z=0.003999999961254055)\n",
      "📍 Position: ENU(x=0.009088284564972827, y=2.415080331899522e-10, z=0.008999999631704262)\n",
      "📍 Position: ENU(x=0.009088284373958824, y=-3.61793268954802e-10, z=0.020999999446006983)\n",
      "📍 Position: ENU(x=0.009088284734397517, y=-2.1516532305865255e-10, z=0.03799999911874702)\n",
      "📍 Position: ENU(x=0.009088284893810089, y=3.1772801056817457e-10, z=0.05900000062999397)\n",
      "📍 Position: ENU(x=0.00908828457242733, y=7.394637679958294e-11, z=0.08499999984862275)\n",
      "📍 Position: ENU(x=0.009088284863142518, y=2.3930780967962306e-11, z=0.11799999959373536)\n",
      "📍 Position: ENU(x=0.009088285235747305, y=-9.415222768094367e-11, z=0.1720000000033136)\n",
      "📍 Position: ENU(x=0.009088285368858973, y=-1.4433818029679912e-10, z=0.2730000000264805)\n",
      "📍 Position: ENU(x=0.009088285523214973, y=-8.617440094838003e-11, z=0.39300000031557236)\n",
      "📍 Position: ENU(x=0.009088285465312651, y=-3.5991565283666205e-10, z=0.5059999998835363)\n",
      "📍 Position: ENU(x=-2.2234589169833896e-10, y=2.968841839035008e-11, z=0.6169999997390635)\n",
      "📍 Position: ENU(x=-2.0272528100662157e-10, y=-2.2838064772656708e-11, z=0.7300000004233145)\n",
      "📍 Position: ENU(x=-9.556960778311918e-11, y=-8.42245717613821e-11, z=0.8509999996606366)\n",
      "📍 Position: ENU(x=-5.32067112590795e-10, y=-1.1147699430225089e-10, z=0.9829999996891696)\n",
      "📍 Position: ENU(x=1.0401807193360924e-10, y=1.202263844035656e-10, z=1.1240000001785773)\n",
      "📍 Position: ENU(x=-3.281128702070646e-10, y=-1.963080809019857e-10, z=1.2769999997552888)\n",
      "📍 Position: ENU(x=-4.5701753492721764e-10, y=1.2405565463780022e-10, z=1.4400000002466808)\n",
      "📍 Position: ENU(x=-6.822487019775281e-11, y=1.9338974865945602e-11, z=1.611999999430523)\n",
      "📍 Position: ENU(x=-2.5340818332608706e-10, y=-1.5290813060175878e-10, z=1.7939999993410587)\n",
      "📍 Position: ENU(x=-3.307458751322656e-10, y=3.774696111236153e-10, z=1.9770000001628927)\n",
      "📍 Position: ENU(x=-5.462517105314646e-10, y=1.0355827306796073e-10, z=2.158000000008911)\n",
      "📍 Position: ENU(x=-0.00908828550086671, y=1.4196110953434982e-10, z=2.3400000002162624)\n",
      "📍 Position: ENU(x=-0.00908828574669518, y=1.461311072148419e-10, z=2.519999999728257)\n",
      "📍 Position: ENU(x=-0.009088286127259204, y=-3.401352532961255e-10, z=2.692999999904917)\n",
      "📍 Position: ENU(x=-0.0090882863507189, y=0.011094728437731849, z=2.8629999999032165)\n",
      "📍 Position: ENU(x=-0.009088286479623564, y=0.011094729137841819, z=3.0260000001251024)\n",
      "📍 Position: ENU(x=-0.009088286743263563, y=0.01109472934751543, z=3.182000001011654)\n",
      "📍 Position: ENU(x=-0.009088287188839361, y=0.011094729706693895, z=3.332000000972088)\n",
      "📍 Position: ENU(x=-0.009088286908826237, y=0.01109473026197949, z=3.4770000007979225)\n",
      "📍 Position: ENU(x=-0.009088287331878941, y=0.011094729938759818, z=3.612000000173227)\n",
      "📍 Position: ENU(x=-0.009088287334781509, y=0.011094730568632194, z=3.740000001442609)\n",
      "📍 Position: ENU(x=-0.009088287627465386, y=0.01109473102513081, z=3.861000000605069)\n",
      "📍 Position: ENU(x=-0.009088287655045102, y=0.011094730853054013, z=3.9750000002375505)\n",
      "📍 Position: ENU(x=-0.00908828815655438, y=0.011094730911754391, z=4.084000000588869)\n",
      "📍 Position: ENU(x=-0.00908828839295972, y=0.01109473148111828, z=4.186000000601693)\n",
      "📍 Position: ENU(x=-0.009088288411461365, y=0.011094731302356386, z=4.282000000032767)\n",
      "📍 Position: ENU(x=-0.009088288456852611, y=0.011094731335782537, z=4.372000001039804)\n",
      "📍 Position: ENU(x=-0.009088288653857024, y=0.011094731620379328, z=4.457000001185243)\n",
      "📍 Position: ENU(x=-0.009088288602635108, y=0.011094732018007036, z=4.537000000274437)\n",
      "📍 Position: ENU(x=-0.009088289055665388, y=0.011094732165001009, z=4.61100000028746)\n",
      "📍 Position: ENU(x=-0.009088289243591507, y=0.011094731683420012, z=4.678000000770503)\n",
      "📍 Position: ENU(x=-0.009088289075445566, y=0.011094732017495446, z=4.741000001108601)\n",
      "📍 Position: ENU(x=-0.009088289089235424, y=0.011094732121330608, z=4.798000000790089)\n",
      "📍 Position: ENU(x=-0.009088289129915328, y=0.011094732817099828, z=4.849000001778034)\n",
      "📍 Position: ENU(x=-0.009088289077414213, y=0.011094732423978737, z=4.895000000016174)\n",
      "📍 Position: ENU(x=-0.009088289478687228, y=0.022189465467184366, z=4.934000000246768)\n",
      "📍 Position: ENU(x=-0.0090882891104489, y=0.022189466018129433, z=4.967000000838662)\n",
      "📍 Position: ENU(x=-0.00908828943183182, y=0.022189465774347994, z=4.993000000057291)\n",
      "📌 Reached waypoint: 2: MISSION_ITEM_REACHED {seq : 2}\n",
      "📌 Next waypoint (3): ENU(x=-3269204.176277885, y=-3189796.8598611914, z=-10837124.862563875)\n",
      "📌 Reached waypoint: 3: MISSION_ITEM_REACHED {seq : 3}\n",
      "📌 Next waypoint (4): ENU(x=9.15190710164044, y=-0.3883203105499766, z=4.999993430278108)\n",
      "📍 Position: ENU(x=-0.00908828941058748, y=0.02218946588269821, z=5.012000000323216)\n",
      "📍 Position: ENU(x=-0.00908828915456139, y=0.02218946602030014, z=5.0230000004556326)\n",
      "📍 Position: ENU(x=-0.009088289540956085, y=0.02218946624221818, z=5.025999999727542)\n",
      "📍 Position: ENU(x=-0.009088289493755841, y=0.022189466361767884, z=5.025000000779311)\n",
      "📍 Position: ENU(x=-0.009088289722891663, y=0.02218946563223101, z=5.019999999340437)\n",
      "📍 Position: ENU(x=-0.009088289349941991, y=0.022189466086026677, z=5.014000000452251)\n",
      "📍 Position: ENU(x=-5.618039367050187e-10, y=0.02218946596496396, z=5.007000000028209)\n",
      "📍 Position: ENU(x=0.00908829194961358, y=0.02218946570090674, z=4.9989999994814145)\n",
      "📍 Position: ENU(x=0.018176578738553717, y=0.022189466270539082, z=4.992000000030594)\n",
      "📍 Position: ENU(x=0.04544144635420766, y=0.011094732449389966, z=4.9860000001286)\n",
      "📍 Position: ENU(x=0.06361802712698772, y=0.011094732116290196, z=4.980000000936227)\n",
      "📍 Position: ENU(x=0.09997118365191593, y=0.011094731834293103, z=4.975999999244638)\n",
      "📍 Position: ENU(x=0.13632434363845225, y=0.011094731212492714, z=4.972999999409276)\n",
      "📍 Position: ENU(x=0.1908540785168127, y=0.011094730334998193, z=4.969999997604457)\n",
      "📍 Position: ENU(x=0.2453838134525399, y=-3.147085259058713e-09, z=4.968999995372805)\n",
      "📍 Position: ENU(x=0.3090018389440996, y=-5.042007256150782e-09, z=4.968999992702773)\n",
      "📍 Position: ENU(x=0.37261986811173875, y=-7.579219030162676e-09, z=4.968999989127724)\n",
      "📍 Position: ENU(x=0.44532618327537254, y=-0.011094743447750854, z=4.969999984180576)\n",
      "📍 Position: ENU(x=0.527120786410433, y=-0.011094747824127893, z=4.970999977935327)\n",
      "📍 Position: ENU(x=0.6180036808674043, y=-0.011094753419457426, z=4.971999969972518)\n",
      "📍 Position: ENU(x=0.708886575196374, y=-0.0221894940622005, z=4.973999960633311)\n",
      "📍 Position: ENU(x=0.7997694697734159, y=-0.022189502097847313, z=4.97599994915325)\n",
      "📍 Position: ENU(x=0.8906523622434142, y=-0.02218951014542503, z=4.976999937735111)\n",
      "📍 Position: ENU(x=0.9815352558624526, y=-0.03328425305387128, z=4.978999925203423)\n",
      "📍 Position: ENU(x=1.0815064398216323, y=-0.033284264261422614, z=4.9799999093327365)\n",
      "📍 Position: ENU(x=1.1723893331305788, y=-0.04437900805472772, z=4.9819998923359)\n",
      "📍 Position: ENU(x=1.2632722254577557, y=-0.044379020447169015, z=4.982999874795648)\n",
      "📍 Position: ENU(x=1.3541551223382144, y=-0.044379033536964485, z=4.983999857077378)\n",
      "📍 Position: ENU(x=1.445038015259546, y=-0.0554737818540576, z=4.985999836924659)\n",
      "📍 Position: ENU(x=1.5359209093533521, y=-0.05547379674007624, z=4.986999815870842)\n",
      "📍 Position: ENU(x=1.6268037999350713, y=-0.06656854573274407, z=4.987999792431183)\n",
      "📍 Position: ENU(x=1.7176866946735108, y=-0.0665685620969616, z=4.988999769294516)\n",
      "📍 Position: ENU(x=1.808569588749219, y=-0.06656858022758749, z=4.98899974374763)\n",
      "📍 Position: ENU(x=1.9085407677886739, y=-0.07766333397563008, z=4.989999715216601)\n",
      "📍 Position: ENU(x=2.0085119532760407, y=-0.0776633558671902, z=4.989999684370386)\n",
      "📍 Position: ENU(x=2.1175714265293104, y=-0.0776633807757312, z=4.990999649194375)\n",
      "📍 Position: ENU(x=2.2357191853303138, y=-0.08875814184397823, z=4.990999608013817)\n",
      "📍 Position: ENU(x=2.353866944809552, y=-0.08875817186058876, z=4.991999565640301)\n",
      "📍 Position: ENU(x=2.490191285878987, y=-0.09985294227398045, z=4.991999512901176)\n",
      "📍 Position: ENU(x=2.626515626826978, y=-0.09985298059996461, z=4.992999458819369)\n",
      "📍 Position: ENU(x=2.781016540503397, y=-0.11094776002757456, z=4.9929993933787955)\n",
      "📍 Position: ENU(x=2.9355174596561255, y=-0.11094780930172465, z=4.993999323870522)\n",
      "📍 Position: ENU(x=3.099106665001222, y=-0.12204259697327213, z=4.9939992468138605)\n",
      "📍 Position: ENU(x=3.2626958683121448, y=-0.13313738721661839, z=4.994999165250099)\n",
      "📍 Position: ENU(x=3.4353733672811937, y=-0.1331374511344321, z=4.99599907510823)\n",
      "📍 Position: ENU(x=3.6080508585666164, y=-0.14423225298352405, z=4.995998978879343)\n",
      "📍 Position: ENU(x=3.789816646417691, y=-0.1442323273212458, z=4.996998874055345)\n",
      "📍 Position: ENU(x=3.971582428339543, y=-0.1553271385611339, z=4.996998763789809)\n",
      "📍 Position: ENU(x=4.153348211348415, y=-0.16642195445863983, z=4.997998646882744)\n",
      "📍 Position: ENU(x=4.326025706362095, y=-0.16642203595438332, z=4.997998532051495)\n",
      "📍 Position: ENU(x=4.5077914872108495, y=-0.17751685837091902, z=4.9979984052329645)\n",
      "📍 Position: ENU(x=4.689557265595269, y=-0.1886116837025238, z=4.997998274306966)\n",
      "📍 Position: ENU(x=4.871323052224553, y=-0.1886117803290519, z=4.997998138155747)\n",
      "📍 Position: ENU(x=5.053088834739663, y=-0.19970661300505244, z=4.998997997607011)\n",
      "📍 Position: ENU(x=5.234854612450826, y=-0.21080145041093568, z=4.998997850472387)\n",
      "📍 Position: ENU(x=5.416620391851095, y=-0.22189629015186396, z=4.998997698438404)\n",
      "📍 Position: ENU(x=5.598386174065743, y=-0.22189640157453683, z=4.998997541438737)\n",
      "📍 Position: ENU(x=5.789240240283541, y=-0.23299125592781955, z=4.9989973712290325)\n",
      "📍 Position: ENU(x=5.971006020287595, y=-0.24408610755648263, z=4.998997203249271)\n",
      "📍 Position: ENU(x=6.152771804013552, y=-0.2440862304405429, z=4.999997030825836)\n",
      "📍 Position: ENU(x=6.334537581410449, y=-0.2551810897088851, z=4.999996852886)\n",
      "📍 Position: ENU(x=6.525391645212809, y=-0.2662759584097696, z=4.999996660046109)\n",
      "📍 Position: ENU(x=6.716245712703474, y=-0.277370832035126, z=4.999996462681167)\n",
      "📍 Position: ENU(x=6.898011494860876, y=-0.27737096980326115, z=4.999996268559532)\n",
      "📍 Position: ENU(x=7.088865559589338, y=-0.2884658507512339, z=4.999996058462931)\n",
      "📍 Position: ENU(x=7.270631332828618, y=-0.2995607296784706, z=4.999995853627396)\n",
      "📍 Position: ENU(x=7.443308828152092, y=-0.29956087028916434, z=4.999995655500465)\n",
      "📍 Position: ENU(x=7.625074603015181, y=-0.3106557556750964, z=4.999995440759745)\n",
      "📍 Position: ENU(x=7.788663796874653, y=-0.3217506291458907, z=4.999995242808003)\n",
      "📍 Position: ENU(x=7.961341291679915, y=-0.32175078024919435, z=4.999995029896503)\n",
      "📍 Position: ENU(x=8.115842198126126, y=-0.33284565058095206, z=4.9999948347586365)\n",
      "📍 Position: ENU(x=8.261254812838361, y=-0.3439405167924203, z=4.999994646231032)\n",
      "📍 Position: ENU(x=8.406667440736356, y=-0.34394065161161613, z=4.999994456264589)\n",
      "📍 Position: ENU(x=8.53390347723163, y=-0.355035502972485, z=4.999994287052991)\n",
      "📍 Position: ENU(x=8.652051233966944, y=-0.3550356156431791, z=4.999994128294805)\n",
      "📍 Position: ENU(x=8.76111069424445, y=-0.3661304551226192, z=4.999993979043028)\n",
      "📍 Position: ENU(x=8.851993583403416, y=-0.36613054374511966, z=4.999993854169852)\n",
      "📍 Position: ENU(x=8.942876474484054, y=-0.3661306336592749, z=4.999993727476674)\n",
      "📍 Position: ENU(x=9.006494486157148, y=-0.37722543050975244, z=4.99999363748648)\n",
      "📍 Position: ENU(x=9.070112510293846, y=-0.3772254947109719, z=4.999993547024011)\n",
      "📍 Position: ENU(x=9.124642246670513, y=-0.37722554950766085, z=4.999993469812957)\n",
      "📍 Position: ENU(x=9.160995391984873, y=-0.38832031947975443, z=5.000993417616908)\n",
      "📍 Position: ENU(x=9.197348550209878, y=-0.3883203564414326, z=5.000993365536205)\n",
      "📍 Position: ENU(x=9.215525124930256, y=-0.3883203749742137, z=5.000993339422665)\n",
      "📍 Position: ENU(x=9.233701705081119, y=-0.3883203934999204, z=5.000993313319093)\n",
      "📍 Position: ENU(x=9.25187828478494, y=-0.38832041276653007, z=5.001993286897407)\n",
      "📍 Position: ENU(x=9.260966573422174, y=-0.3883204218463767, z=5.001993274103486)\n",
      "📍 Position: ENU(x=9.260966573422174, y=-0.3883204218463767, z=5.001993274103486)\n",
      "📍 Position: ENU(x=9.270054862459244, y=-0.3883204310643631, z=5.00199326111492)\n",
      "📍 Position: ENU(x=9.270054862459244, y=-0.3883204310643631, z=5.00199326111492)\n",
      "📍 Position: ENU(x=9.270054862459244, y=-0.3883204310643631, z=5.00199326111492)\n",
      "📌 Reached waypoint: 4: MISSION_ITEM_REACHED {seq : 4}\n",
      "📌 Next waypoint (5): ENU(x=9.151899935109705, y=-0.3883200051923449, z=-6.569692402647043e-06)\n",
      "📍 Position: ENU(x=9.270054862459244, y=-0.3883204310643631, z=5.00199326111492)\n",
      "📍 Position: ENU(x=9.270054849410432, y=-0.39941516373982955, z=5.0009932592152415)\n",
      "📍 Position: ENU(x=9.270054840921613, y=-0.3994151632313869, z=4.994993258794883)\n",
      "📍 Position: ENU(x=9.270054821914453, y=-0.399415162005218, z=4.981993259132377)\n",
      "📍 Position: ENU(x=9.270054788466862, y=-0.3994151605461993, z=4.958993258976119)\n",
      "📍 Position: ENU(x=9.27005475485749, y=-0.3883204272511107, z=4.927993260245383)\n",
      "📍 Position: ENU(x=9.270054698235855, y=-0.3883204240904874, z=4.888993261332728)\n",
      "📍 Position: ENU(x=9.270054634677557, y=-0.3883204214732734, z=4.844993260438875)\n",
      "📍 Position: ENU(x=9.270054564845328, y=-0.3883204187722997, z=4.796993260782557)\n",
      "📍 Position: ENU(x=9.270054490768691, y=-0.3883204154373585, z=4.745993260646555)\n",
      "📍 Position: ENU(x=9.270054413677485, y=-0.38832041254069516, z=4.692993260050465)\n",
      "📍 Position: ENU(x=9.270054335433962, y=-0.3883204091100647, z=4.638993261090077)\n",
      "📍 Position: ENU(x=9.27005425540571, y=-0.3883204056709717, z=4.583993260611174)\n",
      "📍 Position: ENU(x=9.270054175854824, y=-0.3883204021488029, z=4.528993261053914)\n",
      "📍 Position: ENU(x=9.27005409459673, y=-0.3883203983969572, z=4.472993261094427)\n",
      "📍 Position: ENU(x=9.270054015720799, y=-0.38832039625132353, z=4.4189932595188335)\n",
      "📍 Position: ENU(x=9.270053939184479, y=-0.38832039267062357, z=4.365993260691168)\n",
      "📍 Position: ENU(x=9.270053862170796, y=-0.38832038879325315, z=4.312993260672354)\n",
      "📍 Position: ENU(x=9.26096549731956, y=-0.38832037649205975, z=4.2599932733276775)\n",
      "📍 Position: ENU(x=9.260965434829325, y=-0.37722564197178166, z=4.208993273070425)\n",
      "📍 Position: ENU(x=9.260965360752687, y=-0.3772256390165869, z=4.15799327320393)\n",
      "📍 Position: ENU(x=9.2518769988385, y=-0.37722562725782316, z=4.106993285742067)\n",
      "📍 Position: ENU(x=9.251876926946428, y=-0.3772256236897371, z=4.05699328666043)\n",
      "📍 Position: ENU(x=9.251876854099631, y=-0.37722562104729485, z=4.006993286274518)\n",
      "📍 Position: ENU(x=9.24278849559985, y=-0.37722560860864673, z=3.9579932988085935)\n",
      "📍 Position: ENU(x=9.242788423307939, y=-0.3772256052821683, z=3.907993300191106)\n",
      "📍 Position: ENU(x=9.242788363832272, y=-0.3661308710831046, z=3.858993300932955)\n",
      "📍 Position: ENU(x=9.233700005254967, y=-0.3661308592454169, z=3.8099933126202488)\n",
      "📍 Position: ENU(x=9.233699934992577, y=-0.3661308565079695, z=3.7609933130940574)\n",
      "📍 Position: ENU(x=9.233699863852985, y=-0.36613085409520396, z=3.7119933131103737)\n",
      "📍 Position: ENU(x=9.233699791483552, y=-0.3661308506101937, z=3.661993313107094)\n",
      "📍 Position: ENU(x=9.224611431706728, y=-0.36613083911758104, z=3.6129933259173326)\n",
      "📍 Position: ENU(x=9.224611361044499, y=-0.3661308358622475, z=3.5639933263162806)\n",
      "📍 Position: ENU(x=9.224611288597542, y=-0.3661308337376905, z=3.51399332600523)\n",
      "📍 Position: ENU(x=9.224611216228109, y=-0.3661308302526807, z=3.46399332600195)\n",
      "📍 Position: ENU(x=9.215522856068324, y=-0.36613081784455104, z=3.412993339455073)\n",
      "📍 Position: ENU(x=9.215522784928732, y=-0.3661308150520399, z=3.3639933392018833)\n",
      "📍 Position: ENU(x=9.215522724623062, y=-0.355036080678363, z=3.3139933402685022)\n",
      "📍 Position: ENU(x=9.215522652176105, y=-0.3550360785538056, z=3.2639933399574526)\n",
      "📍 Position: ENU(x=9.215522581436353, y=-0.3550360758994331, z=3.2149933395096193)\n",
      "📍 Position: ENU(x=9.206434225860171, y=-0.3550360637072467, z=3.164993352579736)\n",
      "📍 Position: ENU(x=9.206434153490738, y=-0.3550360606019831, z=3.1149933528459615)\n",
      "📍 Position: ENU(x=9.206434083150825, y=-0.3550360580857497, z=3.065993352203484)\n",
      "📍 Position: ENU(x=9.206434011181232, y=-0.3550360554983705, z=3.0159933525445712)\n",
      "📍 Position: ENU(x=9.206433938811799, y=-0.3550360523931064, z=2.965993352810797)\n",
      "📍 Position: ENU(x=9.206433866842204, y=-0.35503604980572745, z=2.915993353151884)\n",
      "📍 Position: ENU(x=9.20643379487261, y=-0.35503604683860246, z=2.865993353223466)\n",
      "📍 Position: ENU(x=9.206433723655495, y=-0.35503604464705196, z=2.816993352123495)\n",
      "📍 Position: ENU(x=9.206433651763424, y=-0.3550360410789659, z=2.7669933530418582)\n",
      "📍 Position: ENU(x=9.206433579793831, y=-0.35503603849158716, z=2.7169933533829447)\n",
      "📍 Position: ENU(x=9.206433507346873, y=-0.35503603598728395, z=2.6669933528023897)\n",
      "📍 Position: ENU(x=9.206433435299758, y=-0.35503603324137356, z=2.6169933517576838)\n",
      "📍 Position: ENU(x=9.206433363407687, y=-0.35503603005303375, z=2.566993352945553)\n",
      "📍 Position: ENU(x=9.20643329096073, y=-0.3550360275487303, z=2.5169933523649974)\n",
      "📍 Position: ENU(x=9.206433217683772, y=-0.35503602486981367, z=2.465993352109212)\n",
      "📍 Position: ENU(x=9.206433145791701, y=-0.35503602168147386, z=2.415993353297081)\n",
      "📍 Position: ENU(x=9.206433072114903, y=-0.3550360188644184, z=2.3649933532359406)\n",
      "📍 Position: ENU(x=9.19734471526168, y=-0.35503600685877557, z=2.314993366043209)\n",
      "📍 Position: ENU(x=9.197344642814723, y=-0.35503600397472623, z=2.2649933651931473)\n",
      "📍 Position: ENU(x=9.197344570845129, y=-0.35503600138734714, z=2.214993365534235)\n",
      "📍 Position: ENU(x=9.197344498875536, y=-0.3550359984202225, z=2.164993365605816)\n",
      "📍 Position: ENU(x=9.197344426905941, y=-0.3550359958328434, z=2.1149933659469036)\n",
      "📍 Position: ENU(x=9.197344354936348, y=-0.3550359928657182, z=2.064993366018485)\n",
      "📍 Position: ENU(x=9.19734428288923, y=-0.3550359904995538, z=2.0149933652432854)\n",
      "📍 Position: ENU(x=9.197344210919638, y=-0.35503598753242926, z=1.9649933653148666)\n",
      "📍 Position: ENU(x=9.197344138950044, y=-0.35503598456530405, z=1.9149933653864486)\n",
      "📍 Position: ENU(x=9.197344066580609, y=-0.3550359818397858, z=1.8649933659221802)\n",
      "📍 Position: ENU(x=9.197343994611016, y=-0.35503597887266114, z=1.8149933659937614)\n",
      "📍 Position: ENU(x=9.19734392296374, y=-0.35503597664463593, z=1.7649933650239173)\n",
      "📍 Position: ENU(x=9.197343851071668, y=-0.35503597307654977, z=1.7149933659422807)\n",
      "📍 Position: ENU(x=9.197343779932076, y=-0.35503597066378445, z=1.665993365958597)\n",
      "📍 Position: ENU(x=9.197343708362322, y=-0.3550359678347983, z=1.6159933658355345)\n",
      "📍 Position: ENU(x=9.19734362488385, y=-0.3661306931735737, z=1.565993365258112)\n",
      "📍 Position: ENU(x=9.197343552514415, y=-0.36613069006830956, z=1.5159933655243378)\n",
      "📍 Position: ENU(x=9.197343480544822, y=-0.3661306871011849, z=1.465993365595919)\n",
      "📍 Position: ENU(x=9.197343408975067, y=-0.36613068465194476, z=1.4159933657423625)\n",
      "📍 Position: ENU(x=9.197343337005472, y=-0.36613068168481966, z=1.365993365813944)\n",
      "📍 Position: ENU(x=9.197343262928836, y=-0.36613067872962496, z=1.3149933659474478)\n",
      "📍 Position: ENU(x=9.197343191281558, y=-0.3661306761218536, z=1.264993364708098)\n",
      "📍 Position: ENU(x=9.197343119389487, y=-0.3661306725537676, z=1.214993365626461)\n",
      "📍 Position: ENU(x=9.197343047419894, y=-0.3661306695866429, z=1.1649933656980422)\n",
      "📍 Position: ENU(x=9.197342974972937, y=-0.36613066746208583, z=1.1149933653869923)\n",
      "📍 Position: ENU(x=9.197342904710547, y=-0.3661306639651453, z=1.0659933653217903)\n",
      "📍 Position: ENU(x=9.197342832740953, y=-0.3661306613777663, z=1.0159933656628777)\n",
      "📍 Position: ENU(x=9.19734276077136, y=-0.3661306584106417, z=0.9659933657344587)\n",
      "📍 Position: ENU(x=9.197342688324403, y=-0.3661306559063383, z=0.9159933651539032)\n",
      "📍 Position: ENU(x=9.188254334932788, y=-0.3661306431012613, z=0.8669933790088789)\n",
      "📍 Position: ENU(x=9.188254262963195, y=-0.36613064013413604, z=0.8169933790804607)\n",
      "📍 Position: ENU(x=9.188254189286397, y=-0.3661306373170801, z=0.7659933790193204)\n",
      "📍 Position: ENU(x=9.188254119024005, y=-0.36613063457963213, z=0.7169933794931295)\n",
      "📍 Position: ENU(x=9.188254047054413, y=-0.3661306316125069, z=0.6669933795647114)\n",
      "📍 Position: ENU(x=9.188253975084818, y=-0.36613062826563586, z=0.616993379366787)\n",
      "📍 Position: ENU(x=9.188253904345066, y=-0.36613062599100926, z=0.5679933791884594)\n",
      "📍 Position: ENU(x=9.188253832375473, y=-0.3661306230238843, z=0.517993379260041)\n",
      "📍 Position: ENU(x=9.188253760805718, y=-0.3661306201948985, z=0.467993379136978)\n",
      "📍 Position: ENU(x=9.188253688836124, y=-0.3661306168480275, z=0.4179933789390537)\n",
      "📍 Position: ENU(x=9.188253616866529, y=-0.366130614260648, z=0.3679933792801417)\n",
      "📍 Position: ENU(x=9.188253543112209, y=-0.3661306120445533, z=0.31699337837221936)\n",
      "📍 Position: ENU(x=9.188253469912773, y=-0.36613060876467546, z=0.2659933789632164)\n",
      "📍 Position: ENU(x=9.18825339794318, y=-0.36613060579755097, z=0.2159933790347972)\n",
      "📍 Position: ENU(x=9.188253325973587, y=-0.36613060283042553, z=0.16599337910637943)\n",
      "📍 Position: ENU(x=9.188253254003993, y=-0.36613059986330054, z=0.11599337917796089)\n",
      "📍 Position: ENU(x=9.188253181956876, y=-0.36613059749713633, z=0.06599337840276101)\n",
      "📍 Position: ENU(x=9.188253110064805, y=-0.36613059392905056, z=0.01599337932112388)\n",
      "📍 Position: ENU(x=9.188253046506507, y=-0.3661305916915828, z=-0.028006621303224205)\n",
      "📍 Position: ENU(x=9.188253036787845, y=-0.3661305912501335, z=-0.03500662093466039)\n",
      "📍 Position: ENU(x=9.188253060869418, y=-0.36613059252539204, z=-0.018006621656252914)\n",
      "📍 Position: ENU(x=9.188253082968666, y=-0.3661305930920694, z=-0.003006620417371847)\n",
      "📍 Position: ENU(x=9.188253087213075, y=-0.36613059296654465, z=-6.62047669885979e-06)\n",
      "📍 Position: ENU(x=9.18825308590571, y=-0.36613059287500704, z=-0.0010066210735711345)\n",
      "📍 Position: ENU(x=9.188253082968666, y=-0.3661305930920694, z=-0.003006620417371847)\n",
      "📍 Position: ENU(x=9.188253081261463, y=-0.3661305928623929, z=-0.0040066208196000985)\n",
      "📍 Position: ENU(x=9.188253081261463, y=-0.3661305928623929, z=-0.0040066208196000985)\n",
      "📍 Position: ENU(x=9.188253071214994, y=-0.377225317399687, z=-0.0030066210647096414)\n",
      "📍 Position: ENU(x=9.188253071214994, y=-0.377225317399687, z=-0.0030066210647096414)\n",
      "📍 Position: ENU(x=9.188253071214994, y=-0.377225317399687, z=-0.0030066210647096414)\n",
      "📍 Position: ENU(x=9.188253072844674, y=-0.37722531747083254, z=-0.0020066220482747033)\n",
      "📍 Position: ENU(x=9.188253072844674, y=-0.37722531747083254, z=-0.0020066220482747033)\n",
      "📍 Position: ENU(x=9.188253072844674, y=-0.37722531747083254, z=-0.0020066220482747033)\n",
      "📍 Position: ENU(x=9.188253072844674, y=-0.37722531747083254, z=-0.0020066220482747033)\n",
      "📍 Position: ENU(x=9.188253072844674, y=-0.37722531747083254, z=-0.0020066220482747033)\n",
      "📍 Position: ENU(x=9.188253072844674, y=-0.37722531747083254, z=-0.0020066220482747033)\n",
      "📍 Position: ENU(x=9.188253072844674, y=-0.37722531747083254, z=-0.0020066220482747033)\n",
      "📍 Position: ENU(x=9.188253074152039, y=-0.37722531756237065, z=-0.0010066214514031224)\n",
      "📍 Position: ENU(x=9.188253074152039, y=-0.37722531756237065, z=-0.0010066214514031224)\n",
      "🏁 Mission completed\n"
     ]
    }
   ],
   "source": [
    "ask_msg(conn, msg_id=MsgID.GLOBAL_POSITION_INT, interval=100_000)\n",
    "    \n",
    "last_seq = mission.count() - 1\n",
    "conn.mav.mission_request_int_send(\n",
    "            conn.target_system,\n",
    "            conn.target_component,\n",
    "            1\n",
    "            )\n",
    "item = conn.recv_match(type=\"MISSION_ITEM_INT\", blocking=True, timeout=2) # type: ignore\n",
    "gra_pos =GRA.from_msn_item_int(item.x,item.y,item.z) # type: ignore\n",
    "next_pos = gra_origin.to_rel(gra_pos)\n",
    "print(f\"📌 Next waypoint: {next_pos}\")\n",
    "while True:\n",
    "    msg = conn.recv_match(blocking=True, timeout=1)\n",
    "\n",
    "    if not msg:\n",
    "        print(\"⏳ Waiting for mission update...\")\n",
    "        continue\n",
    "    #print(f\"🔔 Received message: {msg}\")\n",
    "    # ✅ Reached a waypoint\n",
    "    if msg.get_type() == \"MISSION_ITEM_REACHED\":\n",
    "        msg = cast(mavlink.MAVLink_mission_item_reached_message, msg)\n",
    "        print(f\"📌 Reached waypoint: {msg.seq}: {msg}\")\n",
    "        if msg.seq == last_seq:\n",
    "            print(\"✅ Final waypoint reached\")\n",
    "        else:\n",
    "            conn.mav.mission_request_int_send(\n",
    "            conn.target_system,\n",
    "            conn.target_component,\n",
    "            msg.seq+1\n",
    "            )\n",
    "            item = conn.recv_match(type=\"MISSION_ITEM_INT\", blocking=True, timeout=2) # type: ignore\n",
    "            gra_pos =GRA.from_msn_item_int(item.x,item.y,item.z) # type: ignore\n",
    "            next_pos = gra_origin.to_rel(gra_pos)\n",
    "            print(f\"📌 Next waypoint ({msg.seq+1}): {next_pos}\")\n",
    "            \n",
    "        if msg.seq == 2:\n",
    "            print(\"⏸️ Pausing  mission \")\n",
    "            while set_guided.state != State.DONE:\n",
    "                set_guided.act()\n",
    "                time.sleep(0.001)\n",
    "            while go_to.state != State.DONE:\n",
    "                go_to.act()\n",
    "                time.sleep(0.001)\n",
    "            while set_auto.state != State.DONE:\n",
    "                set_auto.act()\n",
    "                time.sleep(0.001)\n",
    "\n",
    "    #✅ UAV position\n",
    "    elif msg.get_type() == \"GLOBAL_POSITION_INT\":\n",
    "        \n",
    "        msg = cast(mavlink.MAVLink_global_position_int_message, msg)\n",
    "        lat = msg.lat / 1e7\n",
    "        lon = msg.lon / 1e7\n",
    "        alt = msg.relative_alt / 1000.0\n",
    "        enu_pos = gra_origin.to_rel(GRA(lat,lon,alt)) # type: ignore\n",
    "        print(f\"📍 Position: {enu_pos}\")\n",
    "        #print(f\"📍 Position: lat={lat:.7f}, lon={lon:.7f}, alt={alt:.2f} m\")\n",
    "        \n",
    "    #✅ Look for end hints in text\n",
    "    elif msg.get_type() == \"STATUSTEXT\":\n",
    "        msg = cast(mavlink.MAVLink_statustext_message, msg)\n",
    "        text = msg.text.strip().lower()\n",
    "        if \"disarming\" in text:\n",
    "            stop_msg(conn, msg_id=MsgID.GLOBAL_POSITION_INT)\n",
    "            print(\"🏁 Mission completed\")\n",
    "            break"
   ]
  },
  {
   "cell_type": "code",
   "execution_count": null,
   "metadata": {},
   "outputs": [],
   "source": []
  }
 ],
 "metadata": {
  "kernelspec": {
   "display_name": "uav-cyber-sim11",
   "language": "python",
   "name": "python3"
  },
  "language_info": {
   "codemirror_mode": {
    "name": "ipython",
    "version": 3
   },
   "file_extension": ".py",
   "mimetype": "text/x-python",
   "name": "python",
   "nbconvert_exporter": "python",
   "pygments_lexer": "ipython3",
   "version": "3.11.13"
  }
 },
 "nbformat": 4,
 "nbformat_minor": 2
}
