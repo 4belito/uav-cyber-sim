{
 "cells": [
  {
   "cell_type": "markdown",
   "metadata": {},
   "source": [
    "## Simple Mission\n",
    "\n",
    "This notebook serves to check the ardupilot installation"
   ]
  },
  {
   "cell_type": "code",
   "execution_count": 1,
   "metadata": {},
   "outputs": [],
   "source": [
    "import os\n",
    "import subprocess\n",
    "import sys\n",
    "from pathlib import Path\n",
    "from typing import cast\n",
    "\n",
    "import pymavlink.dialects.v20.ardupilotmega as mavlink\n",
    "\n",
    "root = Path.cwd().resolve().parents[1]\n",
    "sys.path.append(str(root))  \n",
    "\n",
    "from config import ARDUPILOT_VEHICLE_PATH, LOGS_PATH, VEH_PARAMS_PATH  # noqa: E402\n",
    "from helpers import clean  # noqa: E402\n",
    "from mavlink.customtypes.mission import MissionLoader  # noqa: E402\n",
    "from mavlink.enums import Cmd, CmdNav, MissionResult, MsgID  # noqa: E402\n",
    "from mavlink.util import ask_msg, connect, stop_msg  # noqa: E402\n",
    "from plan import State  # noqa: E402\n",
    "from plan.planner import Plan  # noqa: E402\n",
    "\n",
    "clean()"
   ]
  },
  {
   "cell_type": "markdown",
   "metadata": {},
   "source": [
    "## Launch Copter (ardupilot)"
   ]
  },
  {
   "cell_type": "code",
   "execution_count": 2,
   "metadata": {},
   "outputs": [
    {
     "data": {
      "text/plain": [
       "<Popen: returncode: None args: ['gnome-terminal', '--title=planner', '--', '...>"
      ]
     },
     "execution_count": 2,
     "metadata": {},
     "output_type": "execute_result"
    }
   ],
   "source": [
    "#This must agrre with first waypoint in mission.waypoint\n",
    "spawn_str= '-35.3633245,149.1652241,0.0,0' \n",
    "\n",
    "sim_vehicle_path = os.path.expanduser(ARDUPILOT_VEHICLE_PATH)\n",
    "vehicle_cmd = (\n",
    "    f\"python3 {sim_vehicle_path} \"\n",
    "    f\"-v ArduCopter \"\n",
    "    f\"-I0 --sysid 1 \"\n",
    "    f\"--no-rebuild \"\n",
    "    f\"--use-dir={LOGS_PATH} \"\n",
    "    f\"--add-param-file {VEH_PARAMS_PATH} \"\n",
    "    f\"--no-mavproxy \"\n",
    "    f'--custom-location={spawn_str}'\n",
    ")\n",
    "\n",
    "\n",
    "# Open a new terminal and run the command\n",
    "subprocess.Popen([\"gnome-terminal\",\"--title=planner\",\"--\", \n",
    "                  \"bash\", \"-c\", f\"{vehicle_cmd}; exec bash\"])"
   ]
  },
  {
   "cell_type": "markdown",
   "metadata": {},
   "source": [
    "## 1. Connect to the vehicle"
   ]
  },
  {
   "cell_type": "code",
   "execution_count": 3,
   "metadata": {},
   "outputs": [
    {
     "name": "stdout",
     "output_type": "stream",
     "text": [
      "[Errno 111] Connection refused sleeping\n",
      "✅ Heartbeat received\n"
     ]
    }
   ],
   "source": [
    "conn = connect(\"tcp:127.0.0.1:5760\")\n",
    "conn.wait_heartbeat() \n",
    "print(\"✅ Heartbeat received\")\n"
   ]
  },
  {
   "cell_type": "markdown",
   "metadata": {},
   "source": [
    "# 2. Load the waypoint file"
   ]
  },
  {
   "cell_type": "code",
   "execution_count": 4,
   "metadata": {},
   "outputs": [
    {
     "name": "stdout",
     "output_type": "stream",
     "text": [
      "✅ Loaded 4 waypoints\n"
     ]
    }
   ],
   "source": [
    "mission = MissionLoader(conn.target_system, conn.target_component)\n",
    "mission_path = (root / \"plan\" / \"missions\" / \"simple_mission.waypoints\").resolve()\n",
    "count = mission.load(str(mission_path)) # your QGC WPL 110 file\n",
    "print(f\"✅ Loaded {count} waypoints\")"
   ]
  },
  {
   "cell_type": "markdown",
   "metadata": {},
   "source": [
    "# 3. Read the mission"
   ]
  },
  {
   "cell_type": "code",
   "execution_count": 5,
   "metadata": {},
   "outputs": [
    {
     "name": "stdout",
     "output_type": "stream",
     "text": [
      "🧭 Mission[0] → cmd: WAYPOINT, x: -35.3633245, y: 149.1652241, z: 0.0, current: 0\n",
      "🧭 Mission[1] → cmd: TAKEOFF, x: -35.3633245, y: 149.1652241, z: 5.0, current: 0\n",
      "🧭 Mission[2] → cmd: WAYPOINT, x: -35.3632795, y: 149.1652241, z: 5.0, current: 0\n",
      "🧭 Mission[3] → cmd: LAND, x: -35.3632795, y: 149.1652241, z: 0.0, current: 0\n"
     ]
    }
   ],
   "source": [
    "# Retrieve each mission item\n",
    "for i in range(count):\n",
    "    wp = mission.item(i)\n",
    "    cmd_name = CmdNav(wp.command).name\n",
    "    print(\n",
    "        f\"🧭 Mission[{i}] → cmd: {cmd_name}, \"\n",
    "        f\"x: {wp.x}, y: {wp.y}, z: {wp.z}, current: {wp.current}\"\n",
    "    )"
   ]
  },
  {
   "cell_type": "markdown",
   "metadata": {},
   "source": [
    "# 3. Clear any existing mission"
   ]
  },
  {
   "cell_type": "code",
   "execution_count": 6,
   "metadata": {},
   "outputs": [
    {
     "name": "stdout",
     "output_type": "stream",
     "text": [
      "🧹 Cleared previous mission\n"
     ]
    }
   ],
   "source": [
    "conn.mav.mission_clear_all_send(conn.target_system, conn.target_component)\n",
    "while True:\n",
    "    msg = conn.recv_match(type='STATUSTEXT',blocking=False)\n",
    "    if msg and msg.text == 'ArduPilot Ready':\n",
    "        print(\"🧹 Cleared previous mission\")\n",
    "        break\n",
    "\n"
   ]
  },
  {
   "cell_type": "markdown",
   "metadata": {},
   "source": [
    "# 4. Send new mission count"
   ]
  },
  {
   "cell_type": "code",
   "execution_count": 7,
   "metadata": {},
   "outputs": [
    {
     "name": "stdout",
     "output_type": "stream",
     "text": [
      "📤 Sending 4 mission items\n"
     ]
    }
   ],
   "source": [
    "conn.mav.mission_count_send(conn.target_system, conn.target_component, mission.count())\n",
    "print(f\"📤 Sending {mission.count()} mission items\")\n"
   ]
  },
  {
   "cell_type": "markdown",
   "metadata": {},
   "source": [
    "# 5. Send each item in response to MISSION_REQUEST"
   ]
  },
  {
   "cell_type": "code",
   "execution_count": 8,
   "metadata": {},
   "outputs": [
    {
     "name": "stdout",
     "output_type": "stream",
     "text": [
      "✅ Sent mission item 0\n",
      "✅ Sent mission item 1\n",
      "✅ Sent mission item 2\n",
      "✅ Sent mission item 3\n"
     ]
    }
   ],
   "source": [
    "for i in range(mission.count()):\n",
    "    msg = conn.recv_match(type='MISSION_REQUEST', blocking=True, timeout=5)\n",
    "    if not msg or msg.seq != i:\n",
    "        raise RuntimeError(f\"❌ Unexpected mission request: {msg}\")\n",
    "    conn.mav.send(mission.wp(i))\n",
    "    print(f\"✅ Sent mission item {i}\")"
   ]
  },
  {
   "cell_type": "markdown",
   "metadata": {},
   "source": [
    "# 6. Wait for final MISSION_ACK"
   ]
  },
  {
   "cell_type": "code",
   "execution_count": 9,
   "metadata": {},
   "outputs": [
    {
     "name": "stdout",
     "output_type": "stream",
     "text": [
      "🎉 Mission upload successful!\n"
     ]
    }
   ],
   "source": [
    "ack = conn.recv_match(type='MISSION_ACK', blocking=True, timeout=5)\n",
    "if ack and MissionResult(ack.type) == MissionResult.ACCEPTED:\n",
    "    print(\"🎉 Mission upload successful!\")\n",
    "else:\n",
    "    print(f\"⚠️ Mission upload failed or timed out: {ack}\")"
   ]
  },
  {
   "cell_type": "markdown",
   "metadata": {},
   "source": [
    "## Check the mission"
   ]
  },
  {
   "cell_type": "code",
   "execution_count": 10,
   "metadata": {},
   "outputs": [
    {
     "name": "stdout",
     "output_type": "stream",
     "text": [
      "📦 UAV has 4 mission items\n",
      "🧭 Mission[0] → cmd: WAYPOINT, x: 0.0, y: 0.0, z: 0.0, current: 0\n",
      "🧭 Mission[1] → cmd: TAKEOFF, x: -35.36332702636719, y: 149.16522216796875, z: 5.0, current: 0\n",
      "🧭 Mission[2] → cmd: WAYPOINT, x: -35.36328125, y: 149.16522216796875, z: 5.0, current: 0\n",
      "🧭 Mission[3] → cmd: LAND, x: -35.36328125, y: 149.16522216796875, z: 0.0, current: 0\n"
     ]
    }
   ],
   "source": [
    "# Create a mission protocol loader\n",
    "wp = MissionLoader()\n",
    "\n",
    "\n",
    "# Request list of mission items\n",
    "conn.mav.mission_request_list_send(conn.target_system, conn.target_component)\n",
    "\n",
    "# Wait for mission count\n",
    "msg = conn.recv_match(type='MISSION_COUNT', blocking=True, timeout=5)\n",
    "if msg:\n",
    "    mission_count = msg.count\n",
    "    print(f\"📦 UAV has {mission_count} mission items\")\n",
    "    # Retrieve each mission item\n",
    "    for i in range(mission_count):\n",
    "        conn.mav.mission_request_send(conn.target_system, conn.target_component, i)\n",
    "        item = conn.recv_match(type='MISSION_ITEM', blocking=True, timeout=5)\n",
    "        if item:\n",
    "            wp.set(item, i)\n",
    "            print(\n",
    "                f\"🧭 Mission[{i}] → cmd: {CmdNav(item.command).name}, \"\n",
    "                f\"x: {item.x}, y: {item.y}, z: {item.z}, current: {item.current}\"\n",
    "            )\n",
    "else:\n",
    "    print('No mission count received')"
   ]
  },
  {
   "cell_type": "markdown",
   "metadata": {},
   "source": [
    "# Arm the uav"
   ]
  },
  {
   "cell_type": "code",
   "execution_count": 11,
   "metadata": {},
   "outputs": [
    {
     "name": "stdout",
     "output_type": "stream",
     "text": [
      "Vehicle 1: ▶️ Plan Started: 📋 arm\n",
      "Vehicle 1: ▶️ Action Started: 🔧 PREARM\n",
      "Vehicle 1: ▶️ Step Started: Check disarmed\n",
      "Vehicle 1: ✅ Step Done: Check disarmed\n",
      "Vehicle 1: ▶️ Step Started: Check EKF status\n",
      "Vehicle 1: ✅ Step Done: Check EKF status\n",
      "Vehicle 1: ▶️ Step Started: Check GPS\n",
      "Vehicle 1: ✅ Step Done: Check GPS\n",
      "Vehicle 1: ▶️ Step Started: Check system\n",
      "Vehicle 1: ✅ Step Done: Check system\n",
      "Vehicle 1: ✅ Action Done: 🔧 PREARM\n",
      "Vehicle 1: ▶️ Action Started: ⚙️ MODE: GUIDED\n",
      "Vehicle 1: ▶️ Step Started: Switch to GUIDED\n",
      "Vehicle 1: ✅ Step Done: Switch to GUIDED\n",
      "Vehicle 1: ✅ Action Done: ⚙️ MODE: GUIDED\n",
      "Vehicle 1: ▶️ Action Started: 🔐 ARM\n",
      "Vehicle 1: ▶️ Step Started: arm\n",
      "Vehicle 1: ✅ Step Done: arm\n",
      "Vehicle 1: ✅ Action Done: 🔐 ARM\n",
      "Vehicle 1: ✅ Plan Done: 📋 arm\n"
     ]
    }
   ],
   "source": [
    "plan_auto = Plan.arm(name=\"arm\")\n",
    "plan_auto.bind(conn,verbose=2)\n",
    "while plan_auto.state != State.DONE:\n",
    "    plan_auto.act()"
   ]
  },
  {
   "cell_type": "markdown",
   "metadata": {},
   "source": [
    "# Check Sensors"
   ]
  },
  {
   "cell_type": "code",
   "execution_count": 12,
   "metadata": {},
   "outputs": [
    {
     "ename": "NameError",
     "evalue": "name 'mavutil' is not defined",
     "output_type": "error",
     "traceback": [
      "\u001b[31m---------------------------------------------------------------------------\u001b[39m",
      "\u001b[31mNameError\u001b[39m                                 Traceback (most recent call last)",
      "\u001b[36mCell\u001b[39m\u001b[36m \u001b[39m\u001b[32mIn[12]\u001b[39m\u001b[32m, line 4\u001b[39m\n\u001b[32m      1\u001b[39m conn.mav.request_data_stream_send(\n\u001b[32m      2\u001b[39m     conn.target_system,               \u001b[38;5;66;03m# target_system\u001b[39;00m\n\u001b[32m      3\u001b[39m     conn.target_component,            \u001b[38;5;66;03m# target_component\u001b[39;00m\n\u001b[32m----> \u001b[39m\u001b[32m4\u001b[39m     \u001b[43mmavutil\u001b[49m.mavlink.MAV_DATA_STREAM_ALL,  \u001b[38;5;66;03m# req_stream_id\u001b[39;00m\n\u001b[32m      5\u001b[39m     \u001b[32m5\u001b[39m,                                \u001b[38;5;66;03m# req_message_rate (Hz)\u001b[39;00m\n\u001b[32m      6\u001b[39m     \u001b[32m1\u001b[39m                                 \u001b[38;5;66;03m# start_stop (1 = start)\u001b[39;00m\n\u001b[32m      7\u001b[39m )\n",
      "\u001b[31mNameError\u001b[39m: name 'mavutil' is not defined"
     ]
    }
   ],
   "source": [
    "conn.mav.request_data_stream_send(\n",
    "    conn.target_system,               # target_system\n",
    "    conn.target_component,            # target_component\n",
    "    mavutil.mavlink.MAV_DATA_STREAM_ALL,  # req_stream_id\n",
    "    5,                                # req_message_rate (Hz)\n",
    "    1                                 # start_stop (1 = start)\n",
    ")\n"
   ]
  },
  {
   "cell_type": "code",
   "execution_count": null,
   "metadata": {},
   "outputs": [
    {
     "name": "stdout",
     "output_type": "stream",
     "text": [
      "🔍 Checking for active sensor MAVLink messages...\n",
      "Waiting for sensor messages (5 seconds)...\n",
      "✅ IMU (accelerometer + gyro): RAW_IMU\n",
      "✅ Barometer: SCALED_PRESSURE\n",
      "✅ GPS: GPS_RAW_INT\n",
      "\n",
      "🔍 Checking for sensor-related parameters...\n",
      "✅ Basic IMU: Accelerometer + Gyroscope: None\n",
      "✅ Second IMU (if present): None\n",
      "✅ Third IMU (if present): None\n",
      "✅ High-resolution IMU (full sensor data at high rate): None\n",
      "✅ Barometer (altitude estimation): None\n",
      "✅ GPS primary: None\n",
      "✅ GPS secondary: None\n",
      "✅ Magnetometer (Compass): None\n",
      "✅ Rangefinder / Sonar / Lidar: None\n",
      "✅ Optical Flow (PX4Flow, etc.): None\n",
      "✅ Obstacle Avoidance grid: None\n",
      "✅ ADSB aircraft data (e.g., for traffic avoidance): None\n",
      "✅ Vision-based pose estimate (e.g., VIO): None\n",
      "✅ Vision-based velocity estimate: None\n",
      "✅ IRLock beacon (for precision landing): None\n",
      "✅ Motion capture system (VICON): None\n",
      "✅ Ultra-wideband beacon distance (e.g., Pozyx): None\n"
     ]
    }
   ],
   "source": [
    "from pymavlink import mavutil\n",
    "\n",
    "def check_sensor_messages(conn):\n",
    "    print(\"🔍 Checking for active sensor MAVLink messages...\")\n",
    "\n",
    "    # Define MAVLink message types associated with known sensors\n",
    "    sensor_msgs = {\n",
    "        \"RAW_IMU\": \"IMU (accelerometer + gyro)\",\n",
    "        \"HIGHRES_IMU\": \"High-resolution IMU\",\n",
    "        \"SCALED_PRESSURE\": \"Barometer\",\n",
    "        \"GPS_RAW_INT\": \"GPS\",\n",
    "        \"GPS2_RAW\": \"Secondary GPS\",\n",
    "        \"RAW_MAG\": \"Compass (magnetometer)\",\n",
    "        \"OPTICAL_FLOW_RAD\": \"Optical Flow\",\n",
    "        \"DISTANCE_SENSOR\": \"Proximity / RangeFinder\",\n",
    "        \"OBSTACLE_DISTANCE\": \"Obstacle Avoidance\",\n",
    "        \"ADSB_VEHICLE\": \"ADSB Receiver\",\n",
    "        \"VISION_POSITION_ESTIMATE\": \"Vision/VIO\",\n",
    "        \"IRLOCK_REPORT\": \"IRLock Landing Beacon\",\n",
    "        \"VICON_POSITION_ESTIMATE\": \"Motion Capture\",\n",
    "        \"UWB_DISTANCE\": \"UWB Beacon\",\n",
    "    }\n",
    "\n",
    "    found = set()\n",
    "\n",
    "    # Listen for messages for a few seconds\n",
    "    conn.mav.request_data_stream_send(\n",
    "        conn.target_system, conn.target_component,\n",
    "        mavutil.mavlink.MAV_DATA_STREAM_ALL,\n",
    "        4, 1\n",
    "    )\n",
    "\n",
    "    print(\"Waiting for sensor messages (5 seconds)...\")\n",
    "    import time\n",
    "    start = time.time()\n",
    "    while time.time() - start < 5:\n",
    "        msg = conn.recv_match(blocking=False)\n",
    "        if msg:\n",
    "            msg_type = msg.get_type()\n",
    "            if msg_type in sensor_msgs and msg_type not in found:\n",
    "                print(f\"✅ {sensor_msgs[msg_type]}: {msg_type}\")\n",
    "                found.add(msg_type)\n",
    "\n",
    "    if not found:\n",
    "        print(\"⚠️  No sensor messages received in 5 seconds. Is the drone armed and sensors active?\")\n",
    "\n",
    "def check_sensor_params(conn):\n",
    "    print(\"\\n🔍 Checking for sensor-related parameters...\")\n",
    "\n",
    "    sensor_params = {\n",
    "        \"RAW_IMU\": \"Basic IMU: Accelerometer + Gyroscope\",\n",
    "        \"SCALED_IMU2\": \"Second IMU (if present)\",\n",
    "        \"SCALED_IMU3\": \"Third IMU (if present)\",\n",
    "        \"HIGHRES_IMU\": \"High-resolution IMU (full sensor data at high rate)\",\n",
    "        \"SCALED_PRESSURE\": \"Barometer (altitude estimation)\",\n",
    "        \"GPS_RAW_INT\": \"GPS primary\",\n",
    "        \"GPS2_RAW\": \"GPS secondary\",\n",
    "        \"RAW_MAG\": \"Magnetometer (Compass)\",\n",
    "        \"DISTANCE_SENSOR\": \"Rangefinder / Sonar / Lidar\",\n",
    "        \"OPTICAL_FLOW_RAD\": \"Optical Flow (PX4Flow, etc.)\",\n",
    "        \"OBSTACLE_DISTANCE\": \"Obstacle Avoidance grid\",\n",
    "        \"ADSB_VEHICLE\": \"ADSB aircraft data (e.g., for traffic avoidance)\",\n",
    "        \"VISION_POSITION_ESTIMATE\": \"Vision-based pose estimate (e.g., VIO)\",\n",
    "        \"VISION_SPEED_ESTIMATE\": \"Vision-based velocity estimate\",\n",
    "        \"IRLOCK_REPORT\": \"IRLock beacon (for precision landing)\",\n",
    "        \"VICON_POSITION_ESTIMATE\": \"Motion capture system (VICON)\",\n",
    "        \"UWB_DISTANCE\": \"Ultra-wideband beacon distance (e.g., Pozyx)\",\n",
    "    }\n",
    "\n",
    "    for param, description in sensor_params.items():\n",
    "        try:\n",
    "            value = conn.param_fetch_one(param)\n",
    "            print(f\"✅ {description}: {value}\")\n",
    "        except:\n",
    "            print(f\"⚠️  {description} not found\")\n",
    "check_sensor_messages(conn)\n",
    "check_sensor_params(conn)\n"
   ]
  },
  {
   "cell_type": "code",
   "execution_count": null,
   "metadata": {},
   "outputs": [],
   "source": [
    "import os\n",
    "import csv\n",
    "import time\n",
    "from pymavlink import mavutil\n",
    "\n",
    "# Output folder\n",
    "output_dir = \"sensor_logs\"\n",
    "os.makedirs(output_dir, exist_ok=True)\n",
    "\n",
    "# Request data stream (ensures ArduPilot sends sensor data continuously)\n",
    "conn.mav.request_data_stream_send(\n",
    "    conn.target_system,\n",
    "    conn.target_component,\n",
    "    mavutil.mavlink.MAV_DATA_STREAM_ALL,\n",
    "    5,  # 5 Hz\n",
    "    1   # Start sending\n",
    ")\n",
    "\n",
    "# Define sensor message types and CSV writers\n",
    "sensor_types = {\n",
    "    \"RAW_IMU\": None,\n",
    "    \"SCALED_PRESSURE\": None,\n",
    "    \"GPS_RAW_INT\": None,\n",
    "}\n",
    "\n",
    "# Prepare open file handles and CSV writers\n",
    "writers = {}\n",
    "files = {}\n",
    "\n",
    "for msg_type in sensor_types:\n",
    "    filename = os.path.join(output_dir, f\"{msg_type}.csv\")\n",
    "    f = open(filename, \"w\", newline=\"\")\n",
    "    files[msg_type] = f\n",
    "    writers[msg_type] = csv.writer(f)\n",
    "    writers[msg_type].writerow([\"timestamp\", \"field\", \"value\"])  # Generic header\n",
    "\n",
    "print(\"📡 Logging sensor messages... Press Ctrl+C to stop.\\n\")\n",
    "\n",
    "try:\n",
    "    while True:\n",
    "        msg = conn.recv_match(type=list(sensor_types.keys()), blocking=True, timeout=10)\n",
    "        if msg:\n",
    "            msg_type = msg.get_type()\n",
    "            timestamp = time.time()\n",
    "            for field_name in msg.__dict__:\n",
    "                if not field_name.startswith(\"_\"):\n",
    "                    value = getattr(msg, field_name)\n",
    "                    writers[msg_type].writerow([timestamp, field_name, value])\n",
    "except KeyboardInterrupt:\n",
    "    print(\"\\n🛑 Logging stopped by user.\")\n",
    "finally:\n",
    "    for f in files.values():\n",
    "        f.close()\n"
   ]
  }
 ],
 "metadata": {
  "kernelspec": {
   "display_name": "uav-cyber-sim11",
   "language": "python",
   "name": "python3"
  },
  "language_info": {
   "codemirror_mode": {
    "name": "ipython",
    "version": 3
   },
   "file_extension": ".py",
   "mimetype": "text/x-python",
   "name": "python",
   "nbconvert_exporter": "python",
   "pygments_lexer": "ipython3",
   "version": "3.11.13"
  }
 },
 "nbformat": 4,
 "nbformat_minor": 2
}
