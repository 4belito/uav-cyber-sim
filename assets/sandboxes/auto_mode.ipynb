{
 "cells": [
  {
   "cell_type": "markdown",
   "metadata": {},
   "source": [
    "## Simple Mission\n",
    "\n",
    "This notebook serves to check the ardupilot installation"
   ]
  },
  {
   "cell_type": "code",
   "execution_count": null,
   "metadata": {},
   "outputs": [],
   "source": [
    "import os\n",
    "import subprocess\n",
    "import sys\n",
    "from pathlib import Path\n",
    "from typing import cast\n",
    "\n",
    "import pymavlink.dialects.v20.ardupilotmega as mavlink\n",
    "\n",
    "root = Path.cwd().resolve().parents[1]\n",
    "sys.path.append(str(root))  \n",
    "\n",
    "from config import ARDUPILOT_VEHICLE_PATH, LOGS_PATH, VEH_PARAMS_PATH  # noqa: E402\n",
    "from helpers import clean  # noqa: E402\n",
    "from mavlink.customtypes.mission import MissionLoader  # noqa: E402\n",
    "from mavlink.enums import CmdNav, MissionResult, MsgID  # noqa: E402\n",
    "from mavlink.util import ask_msg, connect, stop_msg  # noqa: E402\n",
    "from plan import State  # noqa: E402\n",
    "from plan.planner import Plan  # noqa: E402\n",
    "\n",
    "clean()"
   ]
  },
  {
   "cell_type": "markdown",
   "metadata": {},
   "source": [
    "## Launch Copter (ardupilot)"
   ]
  },
  {
   "cell_type": "code",
   "execution_count": 2,
   "metadata": {},
   "outputs": [
    {
     "data": {
      "text/plain": [
       "<Popen: returncode: None args: ['gnome-terminal', '--title=planner', '--', '...>"
      ]
     },
     "execution_count": 2,
     "metadata": {},
     "output_type": "execute_result"
    }
   ],
   "source": [
    "#This must agrre with first waypoint in mission.waypoint\n",
    "spawn_str= '-35.3633245,149.1652241,0.0,0' \n",
    "\n",
    "sim_vehicle_path = os.path.expanduser(ARDUPILOT_VEHICLE_PATH)\n",
    "vehicle_cmd = (\n",
    "    f\"python3 {sim_vehicle_path} \"\n",
    "    f\"-v ArduCopter \"\n",
    "    f\"-I0 --sysid 1 \"\n",
    "    f\"--no-rebuild \"\n",
    "    f\"--use-dir={LOGS_PATH} \"\n",
    "    f\"--add-param-file {VEH_PARAMS_PATH} \"\n",
    "    f\"--no-mavproxy \"\n",
    "    f'--custom-location={spawn_str}'\n",
    ")\n",
    "\n",
    "\n",
    "# Open a new terminal and run the command\n",
    "subprocess.Popen([\"gnome-terminal\",\"--title=planner\",\"--\", \n",
    "                  \"bash\", \"-c\", f\"{vehicle_cmd}; exec bash\"])"
   ]
  },
  {
   "cell_type": "markdown",
   "metadata": {},
   "source": [
    "## 1. Connect to the vehicle"
   ]
  },
  {
   "cell_type": "code",
   "execution_count": 3,
   "metadata": {},
   "outputs": [
    {
     "name": "stdout",
     "output_type": "stream",
     "text": [
      "[Errno 111] Connection refused sleeping\n",
      "✅ Heartbeat received\n"
     ]
    }
   ],
   "source": [
    "conn = connect(\"tcp:127.0.0.1:5760\")\n",
    "conn.wait_heartbeat() \n",
    "print(\"✅ Heartbeat received\")\n"
   ]
  },
  {
   "cell_type": "markdown",
   "metadata": {},
   "source": [
    "# 2. Load the waypoint file"
   ]
  },
  {
   "cell_type": "code",
   "execution_count": 4,
   "metadata": {},
   "outputs": [
    {
     "name": "stdout",
     "output_type": "stream",
     "text": [
      "✅ Loaded 4 waypoints\n"
     ]
    }
   ],
   "source": [
    "mission = MissionLoader(conn.target_system, conn.target_component)\n",
    "mission_path = (root / \"plan\" / \"missions\" / \"simple_mission.waypoints\").resolve()\n",
    "count = mission.load(str(mission_path)) # your QGC WPL 110 file\n",
    "print(f\"✅ Loaded {count} waypoints\")"
   ]
  },
  {
   "cell_type": "markdown",
   "metadata": {},
   "source": [
    "# 3. Read the mission"
   ]
  },
  {
   "cell_type": "code",
   "execution_count": 5,
   "metadata": {},
   "outputs": [
    {
     "name": "stdout",
     "output_type": "stream",
     "text": [
      "🧭 Mission[0] → cmd: WAYPOINT, x: -35.3633245, y: 149.1652241, z: 0.0, current: 0\n",
      "🧭 Mission[1] → cmd: TAKEOFF, x: -35.3633245, y: 149.1652241, z: 5.0, current: 0\n",
      "🧭 Mission[2] → cmd: WAYPOINT, x: -35.3632795, y: 149.1652241, z: 5.0, current: 0\n",
      "🧭 Mission[3] → cmd: LAND, x: -35.3632795, y: 149.1652241, z: 0.0, current: 0\n"
     ]
    }
   ],
   "source": [
    "# Retrieve each mission item\n",
    "for i in range(count):\n",
    "    wp = mission.item(i)\n",
    "    cmd_name = CmdNav(wp.command).name\n",
    "    print(\n",
    "        f\"🧭 Mission[{i}] → cmd: {cmd_name}, \"\n",
    "        f\"x: {wp.x}, y: {wp.y}, z: {wp.z}, current: {wp.current}\"\n",
    "    )"
   ]
  },
  {
   "cell_type": "markdown",
   "metadata": {},
   "source": [
    "# 3. Clear any existing mission"
   ]
  },
  {
   "cell_type": "code",
   "execution_count": 6,
   "metadata": {},
   "outputs": [
    {
     "name": "stdout",
     "output_type": "stream",
     "text": [
      "🧹 Cleared previous mission\n"
     ]
    }
   ],
   "source": [
    "conn.mav.mission_clear_all_send(conn.target_system, conn.target_component)\n",
    "while True:\n",
    "    msg = conn.recv_match(type='STATUSTEXT',blocking=False)\n",
    "    if msg and msg.text == 'ArduPilot Ready':\n",
    "        print(\"🧹 Cleared previous mission\")\n",
    "        break\n",
    "\n"
   ]
  },
  {
   "cell_type": "markdown",
   "metadata": {},
   "source": [
    "# 4. Send new mission count"
   ]
  },
  {
   "cell_type": "code",
   "execution_count": 7,
   "metadata": {},
   "outputs": [
    {
     "name": "stdout",
     "output_type": "stream",
     "text": [
      "📤 Sending 4 mission items\n"
     ]
    }
   ],
   "source": [
    "conn.mav.mission_count_send(conn.target_system, conn.target_component, mission.count())\n",
    "print(f\"📤 Sending {mission.count()} mission items\")\n"
   ]
  },
  {
   "cell_type": "markdown",
   "metadata": {},
   "source": [
    "# 5. Send each item in response to MISSION_REQUEST"
   ]
  },
  {
   "cell_type": "code",
   "execution_count": 8,
   "metadata": {},
   "outputs": [
    {
     "name": "stdout",
     "output_type": "stream",
     "text": [
      "✅ Sent mission item 0\n",
      "✅ Sent mission item 1\n",
      "✅ Sent mission item 2\n",
      "✅ Sent mission item 3\n"
     ]
    }
   ],
   "source": [
    "for i in range(mission.count()):\n",
    "    msg = conn.recv_match(type='MISSION_REQUEST', blocking=True, timeout=5)\n",
    "    if not msg or msg.seq != i:\n",
    "        raise RuntimeError(f\"❌ Unexpected mission request: {msg}\")\n",
    "    conn.mav.send(mission.wp(i))\n",
    "    print(f\"✅ Sent mission item {i}\")"
   ]
  },
  {
   "cell_type": "markdown",
   "metadata": {},
   "source": [
    "# 6. Wait for final MISSION_ACK"
   ]
  },
  {
   "cell_type": "code",
   "execution_count": 9,
   "metadata": {},
   "outputs": [
    {
     "name": "stdout",
     "output_type": "stream",
     "text": [
      "🎉 Mission upload successful!\n"
     ]
    }
   ],
   "source": [
    "ack = conn.recv_match(type='MISSION_ACK', blocking=True, timeout=5)\n",
    "if ack and MissionResult(ack.type) == MissionResult.ACCEPTED:\n",
    "    print(\"🎉 Mission upload successful!\")\n",
    "else:\n",
    "    print(f\"⚠️ Mission upload failed or timed out: {ack}\")"
   ]
  },
  {
   "cell_type": "markdown",
   "metadata": {},
   "source": [
    "## Check the mission"
   ]
  },
  {
   "cell_type": "code",
   "execution_count": 10,
   "metadata": {},
   "outputs": [
    {
     "name": "stdout",
     "output_type": "stream",
     "text": [
      "📦 UAV has 4 mission items\n",
      "🧭 Mission[0] → cmd: WAYPOINT, x: 0.0, y: 0.0, z: 0.0, current: 0\n",
      "🧭 Mission[1] → cmd: TAKEOFF, x: -35.36332702636719, y: 149.16522216796875, z: 5.0, current: 0\n",
      "🧭 Mission[2] → cmd: WAYPOINT, x: -35.36328125, y: 149.16522216796875, z: 5.0, current: 0\n",
      "🧭 Mission[3] → cmd: LAND, x: -35.36328125, y: 149.16522216796875, z: 0.0, current: 0\n"
     ]
    }
   ],
   "source": [
    "# Create a mission protocol loader\n",
    "wp = MissionLoader()\n",
    "\n",
    "\n",
    "# Request list of mission items\n",
    "conn.mav.mission_request_list_send(conn.target_system, conn.target_component)\n",
    "\n",
    "# Wait for mission count\n",
    "msg = conn.recv_match(type='MISSION_COUNT', blocking=True, timeout=5)\n",
    "if msg:\n",
    "    mission_count = msg.count\n",
    "    print(f\"📦 UAV has {mission_count} mission items\")\n",
    "    # Retrieve each mission item\n",
    "    for i in range(mission_count):\n",
    "        conn.mav.mission_request_send(conn.target_system, conn.target_component, i)\n",
    "        item = conn.recv_match(type='MISSION_ITEM', blocking=True, timeout=5)\n",
    "        if item:\n",
    "            wp.set(item, i)\n",
    "            print(\n",
    "                f\"🧭 Mission[{i}] → cmd: {CmdNav(item.command).name}, \"\n",
    "                f\"x: {item.x}, y: {item.y}, z: {item.z}, current: {item.current}\"\n",
    "            )\n",
    "else:\n",
    "    print('No mission count received')"
   ]
  },
  {
   "cell_type": "markdown",
   "metadata": {},
   "source": [
    "# Execute Plan"
   ]
  },
  {
   "cell_type": "code",
   "execution_count": 11,
   "metadata": {},
   "outputs": [
    {
     "name": "stdout",
     "output_type": "stream",
     "text": [
      "Vehicle 1: ▶️ Plan Started: 📋 \n",
      "Vehicle 1: ▶️ Action Started: 🔧 PREARM\n",
      "Vehicle 1: ▶️ Step Started: Check disarmed\n",
      "Vehicle 1: ✅ Step Done: Check disarmed\n",
      "Vehicle 1: ▶️ Step Started: Check EKF status\n",
      "Vehicle 1: ✅ Step Done: Check EKF status\n",
      "Vehicle 1: ▶️ Step Started: Check GPS\n",
      "Vehicle 1: ✅ Step Done: Check GPS\n",
      "Vehicle 1: ▶️ Step Started: Check system\n",
      "Vehicle 1: ✅ Step Done: Check system\n",
      "Vehicle 1: ✅ Action Done: 🔧 PREARM\n",
      "Vehicle 1: ▶️ Action Started: ⚙️ MODE: GUIDED\n",
      "Vehicle 1: ▶️ Step Started: Switch to GUIDED\n",
      "Vehicle 1: ✅ Step Done: Switch to GUIDED\n",
      "Vehicle 1: ✅ Action Done: ⚙️ MODE: GUIDED\n",
      "Vehicle 1: ▶️ Action Started: 🔐 ARM\n",
      "Vehicle 1: ▶️ Step Started: arm\n",
      "Vehicle 1: ✅ Step Done: arm\n",
      "Vehicle 1: ✅ Action Done: 🔐 ARM\n",
      "Vehicle 1: ▶️ Action Started: 🚀 START_MISSION\n",
      "Vehicle 1: ▶️ Step Started: start_mission\n",
      "Vehicle 1: ✅ Step Done: start_mission\n",
      "Vehicle 1: ✅ Action Done: 🚀 START_MISSION\n",
      "Vehicle 1: ✅ Plan Done: 📋 \n"
     ]
    }
   ],
   "source": [
    "plan_auto = Plan.auto(mission_name=\"\",monitor=False)\n",
    "plan_auto.bind(conn)\n",
    "while plan_auto.state != State.DONE:\n",
    "    plan_auto.act()"
   ]
  },
  {
   "cell_type": "markdown",
   "metadata": {},
   "source": [
    "# Monitoring"
   ]
  },
  {
   "cell_type": "code",
   "execution_count": 12,
   "metadata": {},
   "outputs": [
    {
     "name": "stdout",
     "output_type": "stream",
     "text": [
      "📍 Position: lat=-35.3633245, lon=149.1652241, alt=0.00 m\n",
      "📍 Position: lat=-35.3633245, lon=149.1652241, alt=0.00 m\n",
      "📍 Position: lat=-35.3633245, lon=149.1652241, alt=0.00 m\n",
      "📍 Position: lat=-35.3633245, lon=149.1652241, alt=0.00 m\n",
      "📍 Position: lat=-35.3633245, lon=149.1652241, alt=0.00 m\n",
      "📍 Position: lat=-35.3633245, lon=149.1652241, alt=0.00 m\n",
      "📍 Position: lat=-35.3633245, lon=149.1652241, alt=0.00 m\n",
      "📍 Position: lat=-35.3633245, lon=149.1652241, alt=0.00 m\n",
      "📍 Position: lat=-35.3633245, lon=149.1652241, alt=0.00 m\n",
      "📍 Position: lat=-35.3633245, lon=149.1652241, alt=0.00 m\n",
      "📍 Position: lat=-35.3633245, lon=149.1652241, alt=0.00 m\n",
      "📍 Position: lat=-35.3633245, lon=149.1652241, alt=0.00 m\n",
      "📍 Position: lat=-35.3633245, lon=149.1652241, alt=0.00 m\n",
      "📍 Position: lat=-35.3633245, lon=149.1652241, alt=0.00 m\n",
      "📍 Position: lat=-35.3633245, lon=149.1652241, alt=0.00 m\n",
      "📍 Position: lat=-35.3633245, lon=149.1652241, alt=0.00 m\n",
      "📍 Position: lat=-35.3633245, lon=149.1652241, alt=0.00 m\n",
      "📍 Position: lat=-35.3633245, lon=149.1652241, alt=0.00 m\n",
      "📍 Position: lat=-35.3633245, lon=149.1652241, alt=0.00 m\n",
      "📍 Position: lat=-35.3633245, lon=149.1652241, alt=0.00 m\n",
      "📍 Position: lat=-35.3633245, lon=149.1652241, alt=0.00 m\n",
      "📍 Position: lat=-35.3633245, lon=149.1652241, alt=0.00 m\n",
      "📍 Position: lat=-35.3633245, lon=149.1652241, alt=0.00 m\n",
      "📍 Position: lat=-35.3633245, lon=149.1652241, alt=0.01 m\n",
      "📍 Position: lat=-35.3633245, lon=149.1652241, alt=0.02 m\n",
      "📍 Position: lat=-35.3633245, lon=149.1652241, alt=0.04 m\n",
      "📍 Position: lat=-35.3633245, lon=149.1652241, alt=0.06 m\n",
      "📍 Position: lat=-35.3633245, lon=149.1652241, alt=0.09 m\n",
      "📍 Position: lat=-35.3633245, lon=149.1652241, alt=0.12 m\n",
      "📍 Position: lat=-35.3633245, lon=149.1652241, alt=0.18 m\n",
      "📍 Position: lat=-35.3633245, lon=149.1652241, alt=0.29 m\n",
      "📍 Position: lat=-35.3633245, lon=149.1652241, alt=0.41 m\n",
      "📍 Position: lat=-35.3633245, lon=149.1652241, alt=0.52 m\n",
      "📍 Position: lat=-35.3633245, lon=149.1652241, alt=0.63 m\n",
      "📍 Position: lat=-35.3633245, lon=149.1652241, alt=0.74 m\n",
      "📍 Position: lat=-35.3633245, lon=149.1652241, alt=0.86 m\n",
      "📍 Position: lat=-35.3633245, lon=149.1652241, alt=1.00 m\n",
      "📍 Position: lat=-35.3633245, lon=149.1652241, alt=1.14 m\n",
      "📍 Position: lat=-35.3633245, lon=149.1652241, alt=1.30 m\n",
      "📍 Position: lat=-35.3633245, lon=149.1652241, alt=1.46 m\n",
      "📍 Position: lat=-35.3633245, lon=149.1652241, alt=1.64 m\n",
      "📍 Position: lat=-35.3633245, lon=149.1652241, alt=1.81 m\n",
      "📍 Position: lat=-35.3633245, lon=149.1652240, alt=2.00 m\n",
      "📍 Position: lat=-35.3633245, lon=149.1652240, alt=2.18 m\n",
      "📍 Position: lat=-35.3633245, lon=149.1652240, alt=2.37 m\n",
      "📍 Position: lat=-35.3633244, lon=149.1652240, alt=2.54 m\n",
      "📍 Position: lat=-35.3633244, lon=149.1652240, alt=2.72 m\n",
      "📍 Position: lat=-35.3633244, lon=149.1652240, alt=2.89 m\n",
      "📍 Position: lat=-35.3633244, lon=149.1652240, alt=3.05 m\n",
      "📍 Position: lat=-35.3633244, lon=149.1652240, alt=3.21 m\n",
      "📍 Position: lat=-35.3633244, lon=149.1652240, alt=3.35 m\n",
      "📍 Position: lat=-35.3633244, lon=149.1652240, alt=3.49 m\n",
      "📍 Position: lat=-35.3633244, lon=149.1652240, alt=3.63 m\n",
      "📍 Position: lat=-35.3633244, lon=149.1652240, alt=3.75 m\n",
      "📍 Position: lat=-35.3633244, lon=149.1652240, alt=3.87 m\n",
      "📍 Position: lat=-35.3633244, lon=149.1652240, alt=3.99 m\n",
      "📍 Position: lat=-35.3633244, lon=149.1652240, alt=4.09 m\n",
      "📍 Position: lat=-35.3633244, lon=149.1652240, alt=4.20 m\n",
      "📍 Position: lat=-35.3633244, lon=149.1652240, alt=4.29 m\n",
      "📍 Position: lat=-35.3633244, lon=149.1652240, alt=4.38 m\n",
      "📍 Position: lat=-35.3633244, lon=149.1652240, alt=4.47 m\n",
      "📍 Position: lat=-35.3633244, lon=149.1652240, alt=4.54 m\n",
      "📍 Position: lat=-35.3633244, lon=149.1652240, alt=4.62 m\n",
      "📍 Position: lat=-35.3633244, lon=149.1652240, alt=4.68 m\n",
      "📍 Position: lat=-35.3633244, lon=149.1652240, alt=4.75 m\n",
      "📍 Position: lat=-35.3633243, lon=149.1652240, alt=4.80 m\n",
      "📍 Position: lat=-35.3633243, lon=149.1652240, alt=4.85 m\n",
      "📍 Position: lat=-35.3633243, lon=149.1652240, alt=4.90 m\n",
      "📍 Position: lat=-35.3633243, lon=149.1652240, alt=4.94 m\n",
      "📍 Position: lat=-35.3633243, lon=149.1652240, alt=4.97 m\n",
      "📍 Position: lat=-35.3633243, lon=149.1652240, alt=4.99 m\n",
      "📌 Reached waypoint: 1\n",
      "📍 Position: lat=-35.3633243, lon=149.1652240, alt=5.01 m\n",
      "📍 Position: lat=-35.3633243, lon=149.1652240, alt=5.02 m\n",
      "📍 Position: lat=-35.3633243, lon=149.1652240, alt=5.02 m\n",
      "📍 Position: lat=-35.3633243, lon=149.1652240, alt=5.02 m\n",
      "📍 Position: lat=-35.3633243, lon=149.1652240, alt=5.02 m\n",
      "📍 Position: lat=-35.3633243, lon=149.1652240, alt=5.01 m\n",
      "📍 Position: lat=-35.3633243, lon=149.1652240, alt=5.00 m\n",
      "📍 Position: lat=-35.3633242, lon=149.1652240, alt=5.00 m\n",
      "📍 Position: lat=-35.3633240, lon=149.1652240, alt=4.99 m\n",
      "📍 Position: lat=-35.3633238, lon=149.1652240, alt=4.98 m\n",
      "📍 Position: lat=-35.3633236, lon=149.1652240, alt=4.98 m\n",
      "📍 Position: lat=-35.3633233, lon=149.1652240, alt=4.97 m\n",
      "📍 Position: lat=-35.3633229, lon=149.1652240, alt=4.97 m\n",
      "📍 Position: lat=-35.3633224, lon=149.1652240, alt=4.97 m\n",
      "📍 Position: lat=-35.3633218, lon=149.1652240, alt=4.96 m\n",
      "📍 Position: lat=-35.3633211, lon=149.1652239, alt=4.96 m\n",
      "📍 Position: lat=-35.3633204, lon=149.1652239, alt=4.96 m\n",
      "📍 Position: lat=-35.3633195, lon=149.1652239, alt=4.97 m\n",
      "📍 Position: lat=-35.3633186, lon=149.1652239, alt=4.97 m\n",
      "📍 Position: lat=-35.3633175, lon=149.1652238, alt=4.97 m\n",
      "📍 Position: lat=-35.3633164, lon=149.1652238, alt=4.97 m\n",
      "📍 Position: lat=-35.3633153, lon=149.1652237, alt=4.97 m\n",
      "📍 Position: lat=-35.3633140, lon=149.1652237, alt=4.97 m\n",
      "📍 Position: lat=-35.3633127, lon=149.1652236, alt=4.98 m\n",
      "📍 Position: lat=-35.3633114, lon=149.1652236, alt=4.98 m\n",
      "📍 Position: lat=-35.3633100, lon=149.1652235, alt=4.98 m\n",
      "📍 Position: lat=-35.3633086, lon=149.1652235, alt=4.98 m\n",
      "📍 Position: lat=-35.3633072, lon=149.1652234, alt=4.98 m\n",
      "📍 Position: lat=-35.3633058, lon=149.1652234, alt=4.98 m\n",
      "📍 Position: lat=-35.3633043, lon=149.1652233, alt=4.98 m\n",
      "📍 Position: lat=-35.3633029, lon=149.1652233, alt=4.99 m\n",
      "📍 Position: lat=-35.3633014, lon=149.1652232, alt=4.99 m\n",
      "📍 Position: lat=-35.3633000, lon=149.1652232, alt=4.99 m\n",
      "📍 Position: lat=-35.3632986, lon=149.1652231, alt=4.99 m\n",
      "📍 Position: lat=-35.3632972, lon=149.1652231, alt=4.99 m\n",
      "📍 Position: lat=-35.3632957, lon=149.1652230, alt=4.99 m\n",
      "📍 Position: lat=-35.3632943, lon=149.1652230, alt=4.99 m\n",
      "📍 Position: lat=-35.3632930, lon=149.1652229, alt=4.99 m\n",
      "📍 Position: lat=-35.3632916, lon=149.1652229, alt=4.99 m\n",
      "📍 Position: lat=-35.3632903, lon=149.1652228, alt=4.99 m\n",
      "📍 Position: lat=-35.3632891, lon=149.1652228, alt=4.99 m\n",
      "📍 Position: lat=-35.3632879, lon=149.1652227, alt=4.99 m\n",
      "📍 Position: lat=-35.3632867, lon=149.1652227, alt=4.99 m\n",
      "📍 Position: lat=-35.3632857, lon=149.1652226, alt=4.99 m\n",
      "📍 Position: lat=-35.3632847, lon=149.1652226, alt=4.99 m\n",
      "📍 Position: lat=-35.3632838, lon=149.1652225, alt=4.99 m\n",
      "📍 Position: lat=-35.3632830, lon=149.1652225, alt=4.99 m\n",
      "📍 Position: lat=-35.3632823, lon=149.1652225, alt=4.99 m\n",
      "📍 Position: lat=-35.3632817, lon=149.1652224, alt=4.99 m\n",
      "📍 Position: lat=-35.3632811, lon=149.1652224, alt=4.99 m\n",
      "📍 Position: lat=-35.3632807, lon=149.1652224, alt=4.99 m\n",
      "📍 Position: lat=-35.3632804, lon=149.1652224, alt=4.99 m\n",
      "📍 Position: lat=-35.3632801, lon=149.1652224, alt=4.99 m\n",
      "📍 Position: lat=-35.3632799, lon=149.1652223, alt=5.00 m\n",
      "📍 Position: lat=-35.3632797, lon=149.1652223, alt=5.00 m\n",
      "📍 Position: lat=-35.3632796, lon=149.1652223, alt=5.00 m\n",
      "📍 Position: lat=-35.3632795, lon=149.1652223, alt=5.00 m\n",
      "📍 Position: lat=-35.3632795, lon=149.1652223, alt=5.00 m\n",
      "📍 Position: lat=-35.3632794, lon=149.1652223, alt=5.00 m\n",
      "📍 Position: lat=-35.3632794, lon=149.1652223, alt=5.00 m\n",
      "📌 Reached waypoint: 2\n",
      "📍 Position: lat=-35.3632794, lon=149.1652223, alt=5.00 m\n",
      "📍 Position: lat=-35.3632794, lon=149.1652223, alt=5.00 m\n",
      "📍 Position: lat=-35.3632794, lon=149.1652223, alt=5.00 m\n",
      "📍 Position: lat=-35.3632794, lon=149.1652223, alt=5.00 m\n",
      "📍 Position: lat=-35.3632794, lon=149.1652223, alt=5.00 m\n",
      "📍 Position: lat=-35.3632793, lon=149.1652223, alt=5.00 m\n",
      "📍 Position: lat=-35.3632793, lon=149.1652223, alt=5.00 m\n",
      "📍 Position: lat=-35.3632793, lon=149.1652223, alt=4.99 m\n",
      "📍 Position: lat=-35.3632793, lon=149.1652223, alt=4.99 m\n",
      "📍 Position: lat=-35.3632793, lon=149.1652223, alt=4.99 m\n",
      "📍 Position: lat=-35.3632792, lon=149.1652223, alt=4.99 m\n",
      "📍 Position: lat=-35.3632792, lon=149.1652223, alt=4.99 m\n",
      "📍 Position: lat=-35.3632792, lon=149.1652223, alt=4.99 m\n",
      "📍 Position: lat=-35.3632792, lon=149.1652223, alt=4.99 m\n",
      "📍 Position: lat=-35.3632792, lon=149.1652223, alt=4.98 m\n",
      "📍 Position: lat=-35.3632792, lon=149.1652223, alt=4.96 m\n",
      "📍 Position: lat=-35.3632792, lon=149.1652223, alt=4.94 m\n",
      "📍 Position: lat=-35.3632792, lon=149.1652223, alt=4.91 m\n",
      "📍 Position: lat=-35.3632792, lon=149.1652223, alt=4.87 m\n",
      "📍 Position: lat=-35.3632792, lon=149.1652223, alt=4.82 m\n",
      "📍 Position: lat=-35.3632792, lon=149.1652223, alt=4.77 m\n",
      "📍 Position: lat=-35.3632792, lon=149.1652223, alt=4.72 m\n",
      "📍 Position: lat=-35.3632792, lon=149.1652223, alt=4.67 m\n",
      "📍 Position: lat=-35.3632792, lon=149.1652223, alt=4.61 m\n",
      "📍 Position: lat=-35.3632792, lon=149.1652223, alt=4.56 m\n",
      "📍 Position: lat=-35.3632793, lon=149.1652222, alt=4.50 m\n",
      "📍 Position: lat=-35.3632793, lon=149.1652222, alt=4.45 m\n",
      "📍 Position: lat=-35.3632793, lon=149.1652222, alt=4.40 m\n",
      "📍 Position: lat=-35.3632793, lon=149.1652222, alt=4.34 m\n",
      "📍 Position: lat=-35.3632793, lon=149.1652222, alt=4.29 m\n",
      "📍 Position: lat=-35.3632794, lon=149.1652222, alt=4.24 m\n",
      "📍 Position: lat=-35.3632794, lon=149.1652222, alt=4.18 m\n",
      "📍 Position: lat=-35.3632794, lon=149.1652222, alt=4.13 m\n",
      "📍 Position: lat=-35.3632794, lon=149.1652222, alt=4.08 m\n",
      "📍 Position: lat=-35.3632795, lon=149.1652222, alt=4.03 m\n",
      "📍 Position: lat=-35.3632795, lon=149.1652222, alt=3.98 m\n",
      "📍 Position: lat=-35.3632795, lon=149.1652222, alt=3.93 m\n",
      "📍 Position: lat=-35.3632795, lon=149.1652222, alt=3.88 m\n",
      "📍 Position: lat=-35.3632795, lon=149.1652222, alt=3.83 m\n",
      "📍 Position: lat=-35.3632795, lon=149.1652222, alt=3.79 m\n",
      "📍 Position: lat=-35.3632796, lon=149.1652222, alt=3.74 m\n",
      "📍 Position: lat=-35.3632796, lon=149.1652222, alt=3.69 m\n",
      "📍 Position: lat=-35.3632796, lon=149.1652222, alt=3.64 m\n",
      "📍 Position: lat=-35.3632796, lon=149.1652222, alt=3.59 m\n",
      "📍 Position: lat=-35.3632796, lon=149.1652222, alt=3.54 m\n",
      "📍 Position: lat=-35.3632797, lon=149.1652222, alt=3.49 m\n",
      "📍 Position: lat=-35.3632797, lon=149.1652222, alt=3.44 m\n",
      "📍 Position: lat=-35.3632797, lon=149.1652222, alt=3.39 m\n",
      "📍 Position: lat=-35.3632797, lon=149.1652222, alt=3.34 m\n",
      "📍 Position: lat=-35.3632797, lon=149.1652222, alt=3.29 m\n",
      "📍 Position: lat=-35.3632797, lon=149.1652222, alt=3.24 m\n",
      "📍 Position: lat=-35.3632797, lon=149.1652222, alt=3.19 m\n",
      "📍 Position: lat=-35.3632797, lon=149.1652222, alt=3.14 m\n",
      "📍 Position: lat=-35.3632797, lon=149.1652222, alt=3.09 m\n",
      "📍 Position: lat=-35.3632798, lon=149.1652222, alt=3.04 m\n",
      "📍 Position: lat=-35.3632798, lon=149.1652222, alt=2.99 m\n",
      "📍 Position: lat=-35.3632798, lon=149.1652222, alt=2.94 m\n",
      "📍 Position: lat=-35.3632798, lon=149.1652222, alt=2.89 m\n",
      "📍 Position: lat=-35.3632798, lon=149.1652222, alt=2.84 m\n",
      "📍 Position: lat=-35.3632798, lon=149.1652222, alt=2.79 m\n",
      "📍 Position: lat=-35.3632798, lon=149.1652222, alt=2.74 m\n",
      "📍 Position: lat=-35.3632798, lon=149.1652222, alt=2.69 m\n",
      "📍 Position: lat=-35.3632798, lon=149.1652222, alt=2.64 m\n",
      "📍 Position: lat=-35.3632798, lon=149.1652222, alt=2.59 m\n",
      "📍 Position: lat=-35.3632798, lon=149.1652222, alt=2.54 m\n",
      "📍 Position: lat=-35.3632798, lon=149.1652222, alt=2.49 m\n",
      "📍 Position: lat=-35.3632798, lon=149.1652222, alt=2.44 m\n",
      "📍 Position: lat=-35.3632798, lon=149.1652222, alt=2.39 m\n",
      "📍 Position: lat=-35.3632798, lon=149.1652222, alt=2.34 m\n",
      "📍 Position: lat=-35.3632798, lon=149.1652222, alt=2.29 m\n",
      "📍 Position: lat=-35.3632798, lon=149.1652222, alt=2.24 m\n",
      "📍 Position: lat=-35.3632798, lon=149.1652222, alt=2.19 m\n",
      "📍 Position: lat=-35.3632798, lon=149.1652222, alt=2.14 m\n",
      "📍 Position: lat=-35.3632798, lon=149.1652222, alt=2.09 m\n",
      "📍 Position: lat=-35.3632798, lon=149.1652222, alt=2.04 m\n",
      "📍 Position: lat=-35.3632798, lon=149.1652222, alt=1.99 m\n",
      "📍 Position: lat=-35.3632798, lon=149.1652222, alt=1.94 m\n",
      "📍 Position: lat=-35.3632798, lon=149.1652222, alt=1.89 m\n",
      "📍 Position: lat=-35.3632798, lon=149.1652222, alt=1.84 m\n",
      "📍 Position: lat=-35.3632798, lon=149.1652222, alt=1.79 m\n",
      "📍 Position: lat=-35.3632798, lon=149.1652222, alt=1.74 m\n",
      "📍 Position: lat=-35.3632798, lon=149.1652222, alt=1.69 m\n",
      "📍 Position: lat=-35.3632798, lon=149.1652222, alt=1.64 m\n",
      "📍 Position: lat=-35.3632798, lon=149.1652222, alt=1.59 m\n",
      "📍 Position: lat=-35.3632798, lon=149.1652222, alt=1.54 m\n",
      "📍 Position: lat=-35.3632798, lon=149.1652222, alt=1.49 m\n",
      "📍 Position: lat=-35.3632798, lon=149.1652222, alt=1.44 m\n",
      "📍 Position: lat=-35.3632798, lon=149.1652222, alt=1.39 m\n",
      "📍 Position: lat=-35.3632798, lon=149.1652222, alt=1.34 m\n",
      "📍 Position: lat=-35.3632798, lon=149.1652222, alt=1.29 m\n",
      "📍 Position: lat=-35.3632798, lon=149.1652222, alt=1.24 m\n",
      "📍 Position: lat=-35.3632798, lon=149.1652222, alt=1.19 m\n",
      "📍 Position: lat=-35.3632798, lon=149.1652222, alt=1.14 m\n",
      "📍 Position: lat=-35.3632798, lon=149.1652222, alt=1.09 m\n",
      "📍 Position: lat=-35.3632798, lon=149.1652222, alt=1.04 m\n",
      "📍 Position: lat=-35.3632798, lon=149.1652222, alt=0.99 m\n",
      "📍 Position: lat=-35.3632798, lon=149.1652222, alt=0.94 m\n",
      "📍 Position: lat=-35.3632798, lon=149.1652222, alt=0.89 m\n",
      "📍 Position: lat=-35.3632798, lon=149.1652223, alt=0.84 m\n",
      "📍 Position: lat=-35.3632798, lon=149.1652223, alt=0.79 m\n",
      "📍 Position: lat=-35.3632798, lon=149.1652223, alt=0.74 m\n",
      "📍 Position: lat=-35.3632798, lon=149.1652223, alt=0.69 m\n",
      "📍 Position: lat=-35.3632798, lon=149.1652223, alt=0.64 m\n",
      "📍 Position: lat=-35.3632798, lon=149.1652223, alt=0.59 m\n",
      "📍 Position: lat=-35.3632798, lon=149.1652222, alt=0.54 m\n",
      "📍 Position: lat=-35.3632798, lon=149.1652222, alt=0.49 m\n",
      "📍 Position: lat=-35.3632798, lon=149.1652222, alt=0.44 m\n",
      "📍 Position: lat=-35.3632798, lon=149.1652222, alt=0.39 m\n",
      "📍 Position: lat=-35.3632798, lon=149.1652222, alt=0.34 m\n",
      "📍 Position: lat=-35.3632798, lon=149.1652222, alt=0.29 m\n",
      "📍 Position: lat=-35.3632798, lon=149.1652222, alt=0.24 m\n",
      "📍 Position: lat=-35.3632798, lon=149.1652222, alt=0.19 m\n",
      "📍 Position: lat=-35.3632798, lon=149.1652222, alt=0.14 m\n",
      "📍 Position: lat=-35.3632798, lon=149.1652222, alt=0.09 m\n",
      "📍 Position: lat=-35.3632798, lon=149.1652222, alt=0.04 m\n",
      "📍 Position: lat=-35.3632798, lon=149.1652222, alt=-0.01 m\n",
      "📍 Position: lat=-35.3632798, lon=149.1652222, alt=-0.03 m\n",
      "📍 Position: lat=-35.3632798, lon=149.1652222, alt=-0.03 m\n",
      "📍 Position: lat=-35.3632798, lon=149.1652222, alt=-0.02 m\n",
      "📍 Position: lat=-35.3632798, lon=149.1652222, alt=-0.01 m\n",
      "📍 Position: lat=-35.3632798, lon=149.1652222, alt=-0.01 m\n",
      "📍 Position: lat=-35.3632798, lon=149.1652222, alt=-0.02 m\n",
      "📍 Position: lat=-35.3632798, lon=149.1652222, alt=-0.02 m\n",
      "📍 Position: lat=-35.3632798, lon=149.1652222, alt=-0.02 m\n",
      "📍 Position: lat=-35.3632798, lon=149.1652222, alt=-0.02 m\n",
      "📍 Position: lat=-35.3632798, lon=149.1652222, alt=-0.02 m\n",
      "📍 Position: lat=-35.3632798, lon=149.1652222, alt=-0.02 m\n",
      "📍 Position: lat=-35.3632798, lon=149.1652222, alt=-0.02 m\n",
      "📍 Position: lat=-35.3632798, lon=149.1652222, alt=-0.02 m\n",
      "📍 Position: lat=-35.3632798, lon=149.1652222, alt=-0.02 m\n",
      "📍 Position: lat=-35.3632798, lon=149.1652222, alt=-0.02 m\n",
      "📍 Position: lat=-35.3632799, lon=149.1652222, alt=-0.02 m\n",
      "📍 Position: lat=-35.3632799, lon=149.1652222, alt=-0.02 m\n",
      "📍 Position: lat=-35.3632799, lon=149.1652222, alt=-0.02 m\n",
      "📍 Position: lat=-35.3632799, lon=149.1652222, alt=-0.02 m\n",
      "📍 Position: lat=-35.3632799, lon=149.1652222, alt=-0.02 m\n",
      "📍 Position: lat=-35.3632799, lon=149.1652222, alt=-0.02 m\n",
      "🏁 Mission completed\n"
     ]
    }
   ],
   "source": [
    "ask_msg(conn, verbose=2, msg_id=MsgID.GLOBAL_POSITION_INT, interval=100_000)\n",
    "\n",
    "last_seq = mission.count() - 1\n",
    "seq=0\n",
    "while True:\n",
    "    msg = conn.recv_match(blocking=True, timeout=1)\n",
    "\n",
    "    if not msg:\n",
    "        print(\"⏳ Waiting for mission update...\")\n",
    "        continue\n",
    "\n",
    "    # ✅ Reached a waypoint\n",
    "    if msg.get_type() == \"MISSION_ITEM_REACHED\":\n",
    "        msg = cast(mavlink.MAVLink_mission_item_reached_message, msg)\n",
    "        print(f\"📌 Reached waypoint: {msg.seq}\")\n",
    "        seq+=1\n",
    "        if msg.seq == last_seq:\n",
    "            print(\"✅ Final waypoint reached\")\n",
    "\n",
    "    # ✅ UAV position\n",
    "    elif msg.get_type() == \"GLOBAL_POSITION_INT\":\n",
    "        msg = cast(mavlink.MAVLink_global_position_int_message, msg)\n",
    "        lat = msg.lat / 1e7\n",
    "        lon = msg.lon / 1e7\n",
    "        alt = msg.relative_alt / 1000.0\n",
    "        print(f\"📍 Position: lat={lat:.7f}, lon={lon:.7f}, alt={alt:.2f} m\")\n",
    "        \n",
    "    # ✅ Look for end hints in text\n",
    "    elif msg.get_type() == \"STATUSTEXT\":\n",
    "        msg = cast(mavlink.MAVLink_statustext_message, msg)\n",
    "        text = msg.text.strip().lower()\n",
    "        if \"disarming\" in text:\n",
    "            stop_msg(conn, msg_id=MsgID.GLOBAL_POSITION_INT)\n",
    "            print(\"🏁 Mission completed\")\n",
    "            break"
   ]
  },
  {
   "cell_type": "code",
   "execution_count": null,
   "metadata": {},
   "outputs": [],
   "source": []
  }
 ],
 "metadata": {
  "kernelspec": {
   "display_name": "uav-cyber-sim-py311",
   "language": "python",
   "name": "python3"
  },
  "language_info": {
   "codemirror_mode": {
    "name": "ipython",
    "version": 3
   },
   "file_extension": ".py",
   "mimetype": "text/x-python",
   "name": "python",
   "nbconvert_exporter": "python",
   "pygments_lexer": "ipython3",
   "version": "3.11.11"
  }
 },
 "nbformat": 4,
 "nbformat_minor": 2
}
