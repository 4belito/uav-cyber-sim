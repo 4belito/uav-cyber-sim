{
 "cells": [
  {
   "cell_type": "markdown",
   "id": "f5a6c7a1",
   "metadata": {},
   "source": [
    "## Arducopter Parameter \n",
    "\n",
    "[link](https://autotest.ardupilot.org/Parameters/ArduCopter/)"
   ]
  },
  {
   "cell_type": "markdown",
   "id": "58f152ab",
   "metadata": {},
   "source": []
  }
 ],
 "metadata": {
  "language_info": {
   "name": "python"
  }
 },
 "nbformat": 4,
 "nbformat_minor": 5
}
