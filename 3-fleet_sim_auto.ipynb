{
 "cells": [
  {
   "cell_type": "markdown",
   "metadata": {},
   "source": [
    "## Auto mode\n",
    "\n",
    "This is for testing propouses"
   ]
  },
  {
   "cell_type": "code",
   "execution_count": null,
   "metadata": {},
   "outputs": [],
   "source": [
    "from config import Color\n",
    "from helpers import clean  #, local2global\n",
    "from mavlink.customtypes.location import ENUPose, GRAPose\n",
    "from plan import Plan\n",
    "from simulator import QGC, ConfigGazebo, ConfigQGC, Gazebo, NoneVisualizer, Simulator\n",
    "\n",
    "clean()"
   ]
  },
  {
   "cell_type": "markdown",
   "metadata": {},
   "source": [
    "## Simulation Configuration"
   ]
  },
  {
   "cell_type": "code",
   "execution_count": null,
   "metadata": {},
   "outputs": [],
   "source": [
    "mission_name = \"square\"\n",
    "\n",
    "gra_origin = GRAPose(-35.3633280, 149.1652241, 0, 90)   # east, north, up, heading\n",
    "enu_origin = ENUPose(0, 0, gra_origin.alt, gra_origin.heading) \n",
    "\n",
    "base_homes= ENUPose.list([  # east, north, up, heading\n",
    "    (0., 0., 0., 0.),\n",
    "    (15., 0., 0., 0),\n",
    "    (-15., -15., 0., 0),\n",
    "    (-15., 0., 0., 45),\n",
    "    (5., -20., 0., 0.),\n",
    "])\n",
    "n_uavs = len(base_homes)\n",
    "base_paths = [Plan.create_square_path(side_len=10, alt=5,heading=0) for _ in base_homes]\n",
    "\n",
    "colors=[\n",
    "    Color.BLUE,\n",
    "    Color.GREEN,\n",
    "    Color.BLACK,\n",
    "    Color.ORANGE,\n",
    "    Color.RED,\n",
    "]"
   ]
  },
  {
   "cell_type": "markdown",
   "metadata": {},
   "source": [
    "## Gazebo Congiguration"
   ]
  },
  {
   "cell_type": "code",
   "execution_count": null,
   "metadata": {},
   "outputs": [],
   "source": [
    "gaz_config = ConfigGazebo(origin= enu_origin,\n",
    "                          world_path=\"simulator/gazebo/worlds/runway.world\")\n",
    "\n",
    "for path,home,c in zip(base_paths,base_homes,colors):\n",
    "    gaz_config.add(base_path=path,base_home=home,color=c)\n",
    "gaz_config.show()"
   ]
  },
  {
   "cell_type": "markdown",
   "metadata": {},
   "source": [
    "## QGroundControl Configuration"
   ]
  },
  {
   "cell_type": "code",
   "execution_count": null,
   "metadata": {},
   "outputs": [],
   "source": [
    "qgc_config = ConfigQGC(origin= gra_origin)\n",
    "\n",
    "for path,home,c in zip(base_paths,base_homes,colors):\n",
    "    qgc_config.add(base_path=path,base_home=home,color=c)\n",
    "qgc_config.show()"
   ]
  },
  {
   "cell_type": "markdown",
   "metadata": {},
   "source": [
    "## Save the missions"
   ]
  },
  {
   "cell_type": "code",
   "execution_count": null,
   "metadata": {},
   "outputs": [],
   "source": [
    "qgc_config.save_missions('square')"
   ]
  },
  {
   "cell_type": "markdown",
   "metadata": {},
   "source": [
    "## Visualization Parameters"
   ]
  },
  {
   "cell_type": "code",
   "execution_count": null,
   "metadata": {},
   "outputs": [],
   "source": [
    "novis=NoneVisualizer()\n",
    "\n",
    "gaz= Gazebo(gaz_config,gra_origin)\n",
    "\n",
    "qgc=QGC(qgc_config)"
   ]
  },
  {
   "cell_type": "markdown",
   "metadata": {},
   "source": [
    "## Launch Simulatotion"
   ]
  },
  {
   "cell_type": "code",
   "execution_count": null,
   "metadata": {},
   "outputs": [],
   "source": [
    "# TODO: Is it possible/feasible use more than one visualizer at the same time? \n",
    "# It seems there is a port conflict, only the visualizer that launches first works.\n",
    "\n",
    "simulator = Simulator(\n",
    "\tvisualizers=[qgc],\n",
    "\tmission_names=[f\"square_{i + 1}\" for i in range(n_uavs)],\n",
    "\tterminals=False,\n",
    "\tverbose=1,\n",
    ")\n",
    "orac = simulator.launch(gcs_sysids={'blue 🟦': [1]})"
   ]
  },
  {
   "cell_type": "markdown",
   "metadata": {},
   "source": [
    "## Oracle checking"
   ]
  },
  {
   "cell_type": "code",
   "execution_count": null,
   "metadata": {},
   "outputs": [],
   "source": [
    "while len(orac.conns):\n",
    "    for sysid in list(orac.conns.keys()):\n",
    "        if orac.is_plan_done(sysid):\n",
    "            orac.remove(sysid)"
   ]
  }
 ],
 "metadata": {
  "kernelspec": {
   "display_name": "uav-cyber-sim",
   "language": "python",
   "name": "python3"
  },
  "language_info": {
   "codemirror_mode": {
    "name": "ipython",
    "version": 3
   },
   "file_extension": ".py",
   "mimetype": "text/x-python",
   "name": "python",
   "nbconvert_exporter": "python",
   "pygments_lexer": "ipython3",
   "version": "3.11.13"
  }
 },
 "nbformat": 4,
 "nbformat_minor": 2
}
