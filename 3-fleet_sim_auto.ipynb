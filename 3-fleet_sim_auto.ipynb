{
 "cells": [
  {
   "cell_type": "markdown",
   "metadata": {},
   "source": [
    "## Auto mode\n",
    "\n",
    "This is for testing propouses"
   ]
  },
  {
   "cell_type": "code",
   "execution_count": 1,
   "metadata": {},
   "outputs": [],
   "source": [
    "from config import Color\n",
    "from helpers import clean  #, local2global\n",
    "from mavlink.customtypes.location import ENUPose, GRAPose\n",
    "from plan import Plan\n",
    "from simulator import (\n",
    "    QGC,\n",
    "    ConfigGazebo,\n",
    "    ConfigQGC,\n",
    "    ConfigVis,\n",
    "    Gazebo,\n",
    "    NoneVisualizer,\n",
    "    Simulator,\n",
    ")\n",
    "\n",
    "clean()"
   ]
  },
  {
   "cell_type": "markdown",
   "metadata": {},
   "source": [
    "## Simulation Configuration"
   ]
  },
  {
   "cell_type": "code",
   "execution_count": 2,
   "metadata": {},
   "outputs": [],
   "source": [
    "mission_name = \"square\"\n",
    "\n",
    "gra_origin = GRAPose(-35.3633280, 149.1652241, 0, 90)   # east, north, up, heading\n",
    "enu_origin = ENUPose(0, 0, gra_origin.alt, gra_origin.heading) \n",
    "\n",
    "base_homes= ENUPose.list([  # east, north, up, heading\n",
    "    (0., 0., 0., 0.),\n",
    "    (15., 0., 0., 0),\n",
    "    (-15., -15., 0., 0),\n",
    "    (-15., 0., 0., 45),\n",
    "    (5., -20., 0., 0.),\n",
    "])\n",
    "n_uavs = len(base_homes)\n",
    "base_paths = [Plan.create_square_path(side_len=10, alt=5,heading=0) for _ in base_homes]\n",
    "\n",
    "colors=[\n",
    "    Color.BLUE,\n",
    "    Color.GREEN,\n",
    "    Color.BLACK,\n",
    "    Color.ORANGE,\n",
    "    Color.RED,\n",
    "]"
   ]
  },
  {
   "cell_type": "markdown",
   "metadata": {},
   "source": [
    "## Gazebo Congiguration"
   ]
  },
  {
   "cell_type": "code",
   "execution_count": 3,
   "metadata": {},
   "outputs": [
    {
     "data": {
      "application/vnd.plotly.v1+json": {
       "config": {
        "plotlyServerURL": "https://plot.ly"
       },
       "data": [
        {
         "marker": {
          "color": [
           "blue",
           "blue",
           "blue",
           "blue",
           "blue"
          ],
          "size": 6
         },
         "mode": "markers",
         "name": "trajectory 0",
         "type": "scatter3d",
         "x": [
          0,
          -10,
          -10,
          6.123233995736766e-16,
          0
         ],
         "y": [
          0,
          6.123233995736766e-16,
          10,
          10,
          0
         ],
         "z": [
          5,
          5,
          5,
          5,
          5
         ]
        },
        {
         "marker": {
          "color": [
           "green",
           "green",
           "green",
           "green",
           "green"
          ],
          "size": 6
         },
         "mode": "markers",
         "name": "trajectory 1",
         "type": "scatter3d",
         "x": [
          9.18485099360515e-16,
          -9.999999999999998,
          -9.999999999999998,
          1.5308084989341915e-15,
          9.18485099360515e-16
         ],
         "y": [
          15,
          15,
          25,
          25,
          15
         ],
         "z": [
          5,
          5,
          5,
          5,
          5
         ]
        },
        {
         "marker": {
          "color": [
           "black",
           "black",
           "black",
           "black",
           "black"
          ],
          "size": 6
         },
         "mode": "markers",
         "name": "trajectory 2",
         "type": "scatter3d",
         "x": [
          14.999999999999998,
          4.999999999999999,
          5,
          15,
          14.999999999999998
         ],
         "y": [
          -15.000000000000002,
          -15,
          -5,
          -5.000000000000001,
          -15.000000000000002
         ],
         "z": [
          5,
          5,
          5,
          5,
          5
         ]
        },
        {
         "marker": {
          "color": [
           "orange",
           "orange",
           "orange",
           "orange",
           "orange"
          ],
          "size": 6
         },
         "mode": "markers",
         "name": "trajectory 3",
         "type": "scatter3d",
         "x": [
          -9.18485099360515e-16,
          -7.071067811865477,
          -14.142135623730953,
          -7.0710678118654755,
          -9.18485099360515e-16
         ],
         "y": [
          -15,
          -22.071067811865476,
          -15,
          -7.9289321881345245,
          -15
         ],
         "z": [
          5,
          5,
          5,
          5,
          5
         ]
        },
        {
         "marker": {
          "color": [
           "red",
           "red",
           "red",
           "red",
           "red"
          ],
          "size": 6
         },
         "mode": "markers",
         "name": "trajectory 4",
         "type": "scatter3d",
         "x": [
          20,
          10,
          10.000000000000002,
          20,
          20
         ],
         "y": [
          4.999999999999999,
          4.999999999999999,
          15,
          14.999999999999998,
          4.999999999999999
         ],
         "z": [
          5,
          5,
          5,
          5,
          5
         ]
        },
        {
         "marker": {
          "color": "white",
          "size": 8
         },
         "mode": "markers+text",
         "name": "origin",
         "text": [
          "origin"
         ],
         "textposition": "top center",
         "type": "scatter3d",
         "x": [
          0
         ],
         "y": [
          0
         ],
         "z": [
          0
         ]
        }
       ],
       "layout": {
        "height": 600,
        "scene": {
         "xaxis": {
          "range": [
           -20.970562748477143,
           26.82842712474619
          ],
          "title": {
           "text": "x"
          }
         },
         "yaxis": {
          "range": [
           -31.48528137423857,
           34.41421356237309
          ],
          "title": {
           "text": "y"
          }
         },
         "zaxis": {
          "range": [
           0,
           6
          ],
          "title": {
           "text": "z"
          }
         }
        },
        "showlegend": true,
        "template": {
         "data": {
          "bar": [
           {
            "error_x": {
             "color": "#2a3f5f"
            },
            "error_y": {
             "color": "#2a3f5f"
            },
            "marker": {
             "line": {
              "color": "#E5ECF6",
              "width": 0.5
             },
             "pattern": {
              "fillmode": "overlay",
              "size": 10,
              "solidity": 0.2
             }
            },
            "type": "bar"
           }
          ],
          "barpolar": [
           {
            "marker": {
             "line": {
              "color": "#E5ECF6",
              "width": 0.5
             },
             "pattern": {
              "fillmode": "overlay",
              "size": 10,
              "solidity": 0.2
             }
            },
            "type": "barpolar"
           }
          ],
          "carpet": [
           {
            "aaxis": {
             "endlinecolor": "#2a3f5f",
             "gridcolor": "white",
             "linecolor": "white",
             "minorgridcolor": "white",
             "startlinecolor": "#2a3f5f"
            },
            "baxis": {
             "endlinecolor": "#2a3f5f",
             "gridcolor": "white",
             "linecolor": "white",
             "minorgridcolor": "white",
             "startlinecolor": "#2a3f5f"
            },
            "type": "carpet"
           }
          ],
          "choropleth": [
           {
            "colorbar": {
             "outlinewidth": 0,
             "ticks": ""
            },
            "type": "choropleth"
           }
          ],
          "contour": [
           {
            "colorbar": {
             "outlinewidth": 0,
             "ticks": ""
            },
            "colorscale": [
             [
              0,
              "#0d0887"
             ],
             [
              0.1111111111111111,
              "#46039f"
             ],
             [
              0.2222222222222222,
              "#7201a8"
             ],
             [
              0.3333333333333333,
              "#9c179e"
             ],
             [
              0.4444444444444444,
              "#bd3786"
             ],
             [
              0.5555555555555556,
              "#d8576b"
             ],
             [
              0.6666666666666666,
              "#ed7953"
             ],
             [
              0.7777777777777778,
              "#fb9f3a"
             ],
             [
              0.8888888888888888,
              "#fdca26"
             ],
             [
              1,
              "#f0f921"
             ]
            ],
            "type": "contour"
           }
          ],
          "contourcarpet": [
           {
            "colorbar": {
             "outlinewidth": 0,
             "ticks": ""
            },
            "type": "contourcarpet"
           }
          ],
          "heatmap": [
           {
            "colorbar": {
             "outlinewidth": 0,
             "ticks": ""
            },
            "colorscale": [
             [
              0,
              "#0d0887"
             ],
             [
              0.1111111111111111,
              "#46039f"
             ],
             [
              0.2222222222222222,
              "#7201a8"
             ],
             [
              0.3333333333333333,
              "#9c179e"
             ],
             [
              0.4444444444444444,
              "#bd3786"
             ],
             [
              0.5555555555555556,
              "#d8576b"
             ],
             [
              0.6666666666666666,
              "#ed7953"
             ],
             [
              0.7777777777777778,
              "#fb9f3a"
             ],
             [
              0.8888888888888888,
              "#fdca26"
             ],
             [
              1,
              "#f0f921"
             ]
            ],
            "type": "heatmap"
           }
          ],
          "histogram": [
           {
            "marker": {
             "pattern": {
              "fillmode": "overlay",
              "size": 10,
              "solidity": 0.2
             }
            },
            "type": "histogram"
           }
          ],
          "histogram2d": [
           {
            "colorbar": {
             "outlinewidth": 0,
             "ticks": ""
            },
            "colorscale": [
             [
              0,
              "#0d0887"
             ],
             [
              0.1111111111111111,
              "#46039f"
             ],
             [
              0.2222222222222222,
              "#7201a8"
             ],
             [
              0.3333333333333333,
              "#9c179e"
             ],
             [
              0.4444444444444444,
              "#bd3786"
             ],
             [
              0.5555555555555556,
              "#d8576b"
             ],
             [
              0.6666666666666666,
              "#ed7953"
             ],
             [
              0.7777777777777778,
              "#fb9f3a"
             ],
             [
              0.8888888888888888,
              "#fdca26"
             ],
             [
              1,
              "#f0f921"
             ]
            ],
            "type": "histogram2d"
           }
          ],
          "histogram2dcontour": [
           {
            "colorbar": {
             "outlinewidth": 0,
             "ticks": ""
            },
            "colorscale": [
             [
              0,
              "#0d0887"
             ],
             [
              0.1111111111111111,
              "#46039f"
             ],
             [
              0.2222222222222222,
              "#7201a8"
             ],
             [
              0.3333333333333333,
              "#9c179e"
             ],
             [
              0.4444444444444444,
              "#bd3786"
             ],
             [
              0.5555555555555556,
              "#d8576b"
             ],
             [
              0.6666666666666666,
              "#ed7953"
             ],
             [
              0.7777777777777778,
              "#fb9f3a"
             ],
             [
              0.8888888888888888,
              "#fdca26"
             ],
             [
              1,
              "#f0f921"
             ]
            ],
            "type": "histogram2dcontour"
           }
          ],
          "mesh3d": [
           {
            "colorbar": {
             "outlinewidth": 0,
             "ticks": ""
            },
            "type": "mesh3d"
           }
          ],
          "parcoords": [
           {
            "line": {
             "colorbar": {
              "outlinewidth": 0,
              "ticks": ""
             }
            },
            "type": "parcoords"
           }
          ],
          "pie": [
           {
            "automargin": true,
            "type": "pie"
           }
          ],
          "scatter": [
           {
            "fillpattern": {
             "fillmode": "overlay",
             "size": 10,
             "solidity": 0.2
            },
            "type": "scatter"
           }
          ],
          "scatter3d": [
           {
            "line": {
             "colorbar": {
              "outlinewidth": 0,
              "ticks": ""
             }
            },
            "marker": {
             "colorbar": {
              "outlinewidth": 0,
              "ticks": ""
             }
            },
            "type": "scatter3d"
           }
          ],
          "scattercarpet": [
           {
            "marker": {
             "colorbar": {
              "outlinewidth": 0,
              "ticks": ""
             }
            },
            "type": "scattercarpet"
           }
          ],
          "scattergeo": [
           {
            "marker": {
             "colorbar": {
              "outlinewidth": 0,
              "ticks": ""
             }
            },
            "type": "scattergeo"
           }
          ],
          "scattergl": [
           {
            "marker": {
             "colorbar": {
              "outlinewidth": 0,
              "ticks": ""
             }
            },
            "type": "scattergl"
           }
          ],
          "scattermap": [
           {
            "marker": {
             "colorbar": {
              "outlinewidth": 0,
              "ticks": ""
             }
            },
            "type": "scattermap"
           }
          ],
          "scattermapbox": [
           {
            "marker": {
             "colorbar": {
              "outlinewidth": 0,
              "ticks": ""
             }
            },
            "type": "scattermapbox"
           }
          ],
          "scatterpolar": [
           {
            "marker": {
             "colorbar": {
              "outlinewidth": 0,
              "ticks": ""
             }
            },
            "type": "scatterpolar"
           }
          ],
          "scatterpolargl": [
           {
            "marker": {
             "colorbar": {
              "outlinewidth": 0,
              "ticks": ""
             }
            },
            "type": "scatterpolargl"
           }
          ],
          "scatterternary": [
           {
            "marker": {
             "colorbar": {
              "outlinewidth": 0,
              "ticks": ""
             }
            },
            "type": "scatterternary"
           }
          ],
          "surface": [
           {
            "colorbar": {
             "outlinewidth": 0,
             "ticks": ""
            },
            "colorscale": [
             [
              0,
              "#0d0887"
             ],
             [
              0.1111111111111111,
              "#46039f"
             ],
             [
              0.2222222222222222,
              "#7201a8"
             ],
             [
              0.3333333333333333,
              "#9c179e"
             ],
             [
              0.4444444444444444,
              "#bd3786"
             ],
             [
              0.5555555555555556,
              "#d8576b"
             ],
             [
              0.6666666666666666,
              "#ed7953"
             ],
             [
              0.7777777777777778,
              "#fb9f3a"
             ],
             [
              0.8888888888888888,
              "#fdca26"
             ],
             [
              1,
              "#f0f921"
             ]
            ],
            "type": "surface"
           }
          ],
          "table": [
           {
            "cells": {
             "fill": {
              "color": "#EBF0F8"
             },
             "line": {
              "color": "white"
             }
            },
            "header": {
             "fill": {
              "color": "#C8D4E3"
             },
             "line": {
              "color": "white"
             }
            },
            "type": "table"
           }
          ]
         },
         "layout": {
          "annotationdefaults": {
           "arrowcolor": "#2a3f5f",
           "arrowhead": 0,
           "arrowwidth": 1
          },
          "autotypenumbers": "strict",
          "coloraxis": {
           "colorbar": {
            "outlinewidth": 0,
            "ticks": ""
           }
          },
          "colorscale": {
           "diverging": [
            [
             0,
             "#8e0152"
            ],
            [
             0.1,
             "#c51b7d"
            ],
            [
             0.2,
             "#de77ae"
            ],
            [
             0.3,
             "#f1b6da"
            ],
            [
             0.4,
             "#fde0ef"
            ],
            [
             0.5,
             "#f7f7f7"
            ],
            [
             0.6,
             "#e6f5d0"
            ],
            [
             0.7,
             "#b8e186"
            ],
            [
             0.8,
             "#7fbc41"
            ],
            [
             0.9,
             "#4d9221"
            ],
            [
             1,
             "#276419"
            ]
           ],
           "sequential": [
            [
             0,
             "#0d0887"
            ],
            [
             0.1111111111111111,
             "#46039f"
            ],
            [
             0.2222222222222222,
             "#7201a8"
            ],
            [
             0.3333333333333333,
             "#9c179e"
            ],
            [
             0.4444444444444444,
             "#bd3786"
            ],
            [
             0.5555555555555556,
             "#d8576b"
            ],
            [
             0.6666666666666666,
             "#ed7953"
            ],
            [
             0.7777777777777778,
             "#fb9f3a"
            ],
            [
             0.8888888888888888,
             "#fdca26"
            ],
            [
             1,
             "#f0f921"
            ]
           ],
           "sequentialminus": [
            [
             0,
             "#0d0887"
            ],
            [
             0.1111111111111111,
             "#46039f"
            ],
            [
             0.2222222222222222,
             "#7201a8"
            ],
            [
             0.3333333333333333,
             "#9c179e"
            ],
            [
             0.4444444444444444,
             "#bd3786"
            ],
            [
             0.5555555555555556,
             "#d8576b"
            ],
            [
             0.6666666666666666,
             "#ed7953"
            ],
            [
             0.7777777777777778,
             "#fb9f3a"
            ],
            [
             0.8888888888888888,
             "#fdca26"
            ],
            [
             1,
             "#f0f921"
            ]
           ]
          },
          "colorway": [
           "#636efa",
           "#EF553B",
           "#00cc96",
           "#ab63fa",
           "#FFA15A",
           "#19d3f3",
           "#FF6692",
           "#B6E880",
           "#FF97FF",
           "#FECB52"
          ],
          "font": {
           "color": "#2a3f5f"
          },
          "geo": {
           "bgcolor": "white",
           "lakecolor": "white",
           "landcolor": "#E5ECF6",
           "showlakes": true,
           "showland": true,
           "subunitcolor": "white"
          },
          "hoverlabel": {
           "align": "left"
          },
          "hovermode": "closest",
          "mapbox": {
           "style": "light"
          },
          "paper_bgcolor": "white",
          "plot_bgcolor": "#E5ECF6",
          "polar": {
           "angularaxis": {
            "gridcolor": "white",
            "linecolor": "white",
            "ticks": ""
           },
           "bgcolor": "#E5ECF6",
           "radialaxis": {
            "gridcolor": "white",
            "linecolor": "white",
            "ticks": ""
           }
          },
          "scene": {
           "xaxis": {
            "backgroundcolor": "#E5ECF6",
            "gridcolor": "white",
            "gridwidth": 2,
            "linecolor": "white",
            "showbackground": true,
            "ticks": "",
            "zerolinecolor": "white"
           },
           "yaxis": {
            "backgroundcolor": "#E5ECF6",
            "gridcolor": "white",
            "gridwidth": 2,
            "linecolor": "white",
            "showbackground": true,
            "ticks": "",
            "zerolinecolor": "white"
           },
           "zaxis": {
            "backgroundcolor": "#E5ECF6",
            "gridcolor": "white",
            "gridwidth": 2,
            "linecolor": "white",
            "showbackground": true,
            "ticks": "",
            "zerolinecolor": "white"
           }
          },
          "shapedefaults": {
           "line": {
            "color": "#2a3f5f"
           }
          },
          "ternary": {
           "aaxis": {
            "gridcolor": "white",
            "linecolor": "white",
            "ticks": ""
           },
           "baxis": {
            "gridcolor": "white",
            "linecolor": "white",
            "ticks": ""
           },
           "bgcolor": "#E5ECF6",
           "caxis": {
            "gridcolor": "white",
            "linecolor": "white",
            "ticks": ""
           }
          },
          "title": {
           "x": 0.05
          },
          "xaxis": {
           "automargin": true,
           "gridcolor": "white",
           "linecolor": "white",
           "ticks": "",
           "title": {
            "standoff": 15
           },
           "zerolinecolor": "white",
           "zerolinewidth": 2
          },
          "yaxis": {
           "automargin": true,
           "gridcolor": "white",
           "linecolor": "white",
           "ticks": "",
           "title": {
            "standoff": 15
           },
           "zerolinecolor": "white",
           "zerolinewidth": 2
          }
         }
        },
        "title": {
         "text": "Trajectories",
         "x": 0.5,
         "xanchor": "center"
        },
        "width": 800
       }
      }
     },
     "metadata": {},
     "output_type": "display_data"
    }
   ],
   "source": [
    "gaz_config = ConfigGazebo(origin = enu_origin,\n",
    "                          world_path=\"simulator/gazebo/worlds/runway.world\")\n",
    "\n",
    "for path,home,c in zip(base_paths,base_homes,colors):\n",
    "    gaz_config.add(base_path=path,base_home=home,color=c)\n",
    "gaz_config.show()"
   ]
  },
  {
   "cell_type": "markdown",
   "metadata": {},
   "source": [
    "## QGroundControl Configuration"
   ]
  },
  {
   "cell_type": "code",
   "execution_count": 4,
   "metadata": {},
   "outputs": [
    {
     "data": {
      "text/html": [
       "<div style=\"width:100%;\"><div style=\"position:relative;width:100%;height:0;padding-bottom:60%;\"><span style=\"color:#565656\">Make this Notebook Trusted to load map: File -> Trust Notebook</span><iframe srcdoc=\"&lt;!DOCTYPE html&gt;\n",
       "&lt;html&gt;\n",
       "&lt;head&gt;\n",
       "    \n",
       "    &lt;meta http-equiv=&quot;content-type&quot; content=&quot;text/html; charset=UTF-8&quot; /&gt;\n",
       "    &lt;script src=&quot;https://cdn.jsdelivr.net/npm/leaflet@1.9.3/dist/leaflet.js&quot;&gt;&lt;/script&gt;\n",
       "    &lt;script src=&quot;https://code.jquery.com/jquery-3.7.1.min.js&quot;&gt;&lt;/script&gt;\n",
       "    &lt;script src=&quot;https://cdn.jsdelivr.net/npm/bootstrap@5.2.2/dist/js/bootstrap.bundle.min.js&quot;&gt;&lt;/script&gt;\n",
       "    &lt;script src=&quot;https://cdnjs.cloudflare.com/ajax/libs/Leaflet.awesome-markers/2.0.2/leaflet.awesome-markers.js&quot;&gt;&lt;/script&gt;\n",
       "    &lt;link rel=&quot;stylesheet&quot; href=&quot;https://cdn.jsdelivr.net/npm/leaflet@1.9.3/dist/leaflet.css&quot;/&gt;\n",
       "    &lt;link rel=&quot;stylesheet&quot; href=&quot;https://cdn.jsdelivr.net/npm/bootstrap@5.2.2/dist/css/bootstrap.min.css&quot;/&gt;\n",
       "    &lt;link rel=&quot;stylesheet&quot; href=&quot;https://netdna.bootstrapcdn.com/bootstrap/3.0.0/css/bootstrap-glyphicons.css&quot;/&gt;\n",
       "    &lt;link rel=&quot;stylesheet&quot; href=&quot;https://cdn.jsdelivr.net/npm/@fortawesome/fontawesome-free@6.2.0/css/all.min.css&quot;/&gt;\n",
       "    &lt;link rel=&quot;stylesheet&quot; href=&quot;https://cdnjs.cloudflare.com/ajax/libs/Leaflet.awesome-markers/2.0.2/leaflet.awesome-markers.css&quot;/&gt;\n",
       "    &lt;link rel=&quot;stylesheet&quot; href=&quot;https://cdn.jsdelivr.net/gh/python-visualization/folium/folium/templates/leaflet.awesome.rotate.min.css&quot;/&gt;\n",
       "    \n",
       "            &lt;meta name=&quot;viewport&quot; content=&quot;width=device-width,\n",
       "                initial-scale=1.0, maximum-scale=1.0, user-scalable=no&quot; /&gt;\n",
       "            &lt;style&gt;\n",
       "                #map_7d6150fb19bb0bf0afe8663fec470a2b {\n",
       "                    position: relative;\n",
       "                    width: 100.0%;\n",
       "                    height: 100.0%;\n",
       "                    left: 0.0%;\n",
       "                    top: 0.0%;\n",
       "                }\n",
       "                .leaflet-container { font-size: 1rem; }\n",
       "            &lt;/style&gt;\n",
       "\n",
       "            &lt;style&gt;html, body {\n",
       "                width: 100%;\n",
       "                height: 100%;\n",
       "                margin: 0;\n",
       "                padding: 0;\n",
       "            }\n",
       "            &lt;/style&gt;\n",
       "\n",
       "            &lt;style&gt;#map {\n",
       "                position:absolute;\n",
       "                top:0;\n",
       "                bottom:0;\n",
       "                right:0;\n",
       "                left:0;\n",
       "                }\n",
       "            &lt;/style&gt;\n",
       "\n",
       "            &lt;script&gt;\n",
       "                L_NO_TOUCH = false;\n",
       "                L_DISABLE_3D = false;\n",
       "            &lt;/script&gt;\n",
       "\n",
       "        \n",
       "&lt;/head&gt;\n",
       "&lt;body&gt;\n",
       "    \n",
       "    \n",
       "            &lt;div class=&quot;folium-map&quot; id=&quot;map_7d6150fb19bb0bf0afe8663fec470a2b&quot; &gt;&lt;/div&gt;\n",
       "        \n",
       "&lt;/body&gt;\n",
       "&lt;script&gt;\n",
       "    \n",
       "    \n",
       "            var map_7d6150fb19bb0bf0afe8663fec470a2b = L.map(\n",
       "                &quot;map_7d6150fb19bb0bf0afe8663fec470a2b&quot;,\n",
       "                {\n",
       "                    center: [-35.363328, 149.1652241],\n",
       "                    crs: L.CRS.EPSG3857,\n",
       "                    ...{\n",
       "  &quot;zoom&quot;: 18,\n",
       "  &quot;zoomControl&quot;: true,\n",
       "  &quot;preferCanvas&quot;: false,\n",
       "}\n",
       "\n",
       "                }\n",
       "            );\n",
       "\n",
       "            \n",
       "\n",
       "        \n",
       "    \n",
       "            var tile_layer_a658fd3e79cffcd79dddcd18fa617ddf = L.tileLayer(\n",
       "                &quot;https://tile.openstreetmap.org/{z}/{x}/{y}.png&quot;,\n",
       "                {\n",
       "  &quot;minZoom&quot;: 0,\n",
       "  &quot;maxZoom&quot;: 19,\n",
       "  &quot;maxNativeZoom&quot;: 19,\n",
       "  &quot;noWrap&quot;: false,\n",
       "  &quot;attribution&quot;: &quot;\\u0026copy; \\u003ca href=\\&quot;https://www.openstreetmap.org/copyright\\&quot;\\u003eOpenStreetMap\\u003c/a\\u003e contributors&quot;,\n",
       "  &quot;subdomains&quot;: &quot;abc&quot;,\n",
       "  &quot;detectRetina&quot;: false,\n",
       "  &quot;tms&quot;: false,\n",
       "  &quot;opacity&quot;: 1,\n",
       "}\n",
       "\n",
       "            );\n",
       "        \n",
       "    \n",
       "            tile_layer_a658fd3e79cffcd79dddcd18fa617ddf.addTo(map_7d6150fb19bb0bf0afe8663fec470a2b);\n",
       "        \n",
       "    \n",
       "            var marker_a5d3a22e43ac96fdc00838c492366408 = L.marker(\n",
       "                [-35.363328, 149.1652241],\n",
       "                {\n",
       "}\n",
       "            ).addTo(map_7d6150fb19bb0bf0afe8663fec470a2b);\n",
       "        \n",
       "    \n",
       "            var icon_f591db5a4cb1f9c9727527149f4f5037 = L.AwesomeMarkers.icon(\n",
       "                {\n",
       "  &quot;markerColor&quot;: &quot;blue&quot;,\n",
       "  &quot;iconColor&quot;: &quot;white&quot;,\n",
       "  &quot;icon&quot;: &quot;info-sign&quot;,\n",
       "  &quot;prefix&quot;: &quot;glyphicon&quot;,\n",
       "  &quot;extraClasses&quot;: &quot;fa-rotate-0&quot;,\n",
       "}\n",
       "            );\n",
       "        \n",
       "    \n",
       "        var popup_cb901c72444dc8fe884cb686ff35f7ab = L.popup({\n",
       "  &quot;maxWidth&quot;: &quot;100%&quot;,\n",
       "});\n",
       "\n",
       "        \n",
       "            \n",
       "                var html_904701d869e6a7100732819e15a67775 = $(`&lt;div id=&quot;html_904701d869e6a7100732819e15a67775&quot; style=&quot;width: 100.0%; height: 100.0%;&quot;&gt;pos_0&lt;/div&gt;`)[0];\n",
       "                popup_cb901c72444dc8fe884cb686ff35f7ab.setContent(html_904701d869e6a7100732819e15a67775);\n",
       "            \n",
       "        \n",
       "\n",
       "        marker_a5d3a22e43ac96fdc00838c492366408.bindPopup(popup_cb901c72444dc8fe884cb686ff35f7ab)\n",
       "        ;\n",
       "\n",
       "        \n",
       "    \n",
       "    \n",
       "                marker_a5d3a22e43ac96fdc00838c492366408.setIcon(icon_f591db5a4cb1f9c9727527149f4f5037);\n",
       "            \n",
       "    \n",
       "            var marker_bb84dab31246ce8867b788705c6c8fc4 = L.marker(\n",
       "                [-35.36332799995002, 149.16511394398992],\n",
       "                {\n",
       "}\n",
       "            ).addTo(map_7d6150fb19bb0bf0afe8663fec470a2b);\n",
       "        \n",
       "    \n",
       "            var icon_5370765add9e5495e528a1cba37bfcdd = L.AwesomeMarkers.icon(\n",
       "                {\n",
       "  &quot;markerColor&quot;: &quot;blue&quot;,\n",
       "  &quot;iconColor&quot;: &quot;white&quot;,\n",
       "  &quot;icon&quot;: &quot;info-sign&quot;,\n",
       "  &quot;prefix&quot;: &quot;glyphicon&quot;,\n",
       "  &quot;extraClasses&quot;: &quot;fa-rotate-0&quot;,\n",
       "}\n",
       "            );\n",
       "        \n",
       "    \n",
       "        var popup_5048755cb742d1ec6429182ecd06e1ca = L.popup({\n",
       "  &quot;maxWidth&quot;: &quot;100%&quot;,\n",
       "});\n",
       "\n",
       "        \n",
       "            \n",
       "                var html_f40f6dc10391a22dafd4cfe99c76c31c = $(`&lt;div id=&quot;html_f40f6dc10391a22dafd4cfe99c76c31c&quot; style=&quot;width: 100.0%; height: 100.0%;&quot;&gt;pos_1&lt;/div&gt;`)[0];\n",
       "                popup_5048755cb742d1ec6429182ecd06e1ca.setContent(html_f40f6dc10391a22dafd4cfe99c76c31c);\n",
       "            \n",
       "        \n",
       "\n",
       "        marker_bb84dab31246ce8867b788705c6c8fc4.bindPopup(popup_5048755cb742d1ec6429182ecd06e1ca)\n",
       "        ;\n",
       "\n",
       "        \n",
       "    \n",
       "    \n",
       "                marker_bb84dab31246ce8867b788705c6c8fc4.setIcon(icon_5370765add9e5495e528a1cba37bfcdd);\n",
       "            \n",
       "    \n",
       "            var marker_3054b1e0381f7ed63f03452e68ae01ae = L.marker(\n",
       "                [-35.36323816790049, 149.16511394411248],\n",
       "                {\n",
       "}\n",
       "            ).addTo(map_7d6150fb19bb0bf0afe8663fec470a2b);\n",
       "        \n",
       "    \n",
       "            var icon_06db6c346a707aee2ff242f1e549153e = L.AwesomeMarkers.icon(\n",
       "                {\n",
       "  &quot;markerColor&quot;: &quot;blue&quot;,\n",
       "  &quot;iconColor&quot;: &quot;white&quot;,\n",
       "  &quot;icon&quot;: &quot;info-sign&quot;,\n",
       "  &quot;prefix&quot;: &quot;glyphicon&quot;,\n",
       "  &quot;extraClasses&quot;: &quot;fa-rotate-0&quot;,\n",
       "}\n",
       "            );\n",
       "        \n",
       "    \n",
       "        var popup_88abcb55cc58646dbb5c4feade24d302 = L.popup({\n",
       "  &quot;maxWidth&quot;: &quot;100%&quot;,\n",
       "});\n",
       "\n",
       "        \n",
       "            \n",
       "                var html_2eb58196eafda2d8c4c582a57ff0f876 = $(`&lt;div id=&quot;html_2eb58196eafda2d8c4c582a57ff0f876&quot; style=&quot;width: 100.0%; height: 100.0%;&quot;&gt;pos_2&lt;/div&gt;`)[0];\n",
       "                popup_88abcb55cc58646dbb5c4feade24d302.setContent(html_2eb58196eafda2d8c4c582a57ff0f876);\n",
       "            \n",
       "        \n",
       "\n",
       "        marker_3054b1e0381f7ed63f03452e68ae01ae.bindPopup(popup_88abcb55cc58646dbb5c4feade24d302)\n",
       "        ;\n",
       "\n",
       "        \n",
       "    \n",
       "    \n",
       "                marker_3054b1e0381f7ed63f03452e68ae01ae.setIcon(icon_06db6c346a707aee2ff242f1e549153e);\n",
       "            \n",
       "    \n",
       "            var marker_e4bbbb004501832044b2c6076ea8fdc2 = L.marker(\n",
       "                [-35.36323816795048, 149.1652241],\n",
       "                {\n",
       "}\n",
       "            ).addTo(map_7d6150fb19bb0bf0afe8663fec470a2b);\n",
       "        \n",
       "    \n",
       "            var icon_e07f493840d50c0b2a33f32724c4e511 = L.AwesomeMarkers.icon(\n",
       "                {\n",
       "  &quot;markerColor&quot;: &quot;blue&quot;,\n",
       "  &quot;iconColor&quot;: &quot;white&quot;,\n",
       "  &quot;icon&quot;: &quot;info-sign&quot;,\n",
       "  &quot;prefix&quot;: &quot;glyphicon&quot;,\n",
       "  &quot;extraClasses&quot;: &quot;fa-rotate-0&quot;,\n",
       "}\n",
       "            );\n",
       "        \n",
       "    \n",
       "        var popup_f52ec88dc4fb2b22e269bf9a3983fd0c = L.popup({\n",
       "  &quot;maxWidth&quot;: &quot;100%&quot;,\n",
       "});\n",
       "\n",
       "        \n",
       "            \n",
       "                var html_7fd50c12e8933c15e943ae89f90645d8 = $(`&lt;div id=&quot;html_7fd50c12e8933c15e943ae89f90645d8&quot; style=&quot;width: 100.0%; height: 100.0%;&quot;&gt;pos_3&lt;/div&gt;`)[0];\n",
       "                popup_f52ec88dc4fb2b22e269bf9a3983fd0c.setContent(html_7fd50c12e8933c15e943ae89f90645d8);\n",
       "            \n",
       "        \n",
       "\n",
       "        marker_e4bbbb004501832044b2c6076ea8fdc2.bindPopup(popup_f52ec88dc4fb2b22e269bf9a3983fd0c)\n",
       "        ;\n",
       "\n",
       "        \n",
       "    \n",
       "    \n",
       "                marker_e4bbbb004501832044b2c6076ea8fdc2.setIcon(icon_e07f493840d50c0b2a33f32724c4e511);\n",
       "            \n",
       "    \n",
       "            var marker_617e1f7af83033c574224449a5e98d36 = L.marker(\n",
       "                [-35.363328, 149.1652241],\n",
       "                {\n",
       "}\n",
       "            ).addTo(map_7d6150fb19bb0bf0afe8663fec470a2b);\n",
       "        \n",
       "    \n",
       "            var icon_8739342a179ea13c4fac13c52bf9a1c8 = L.AwesomeMarkers.icon(\n",
       "                {\n",
       "  &quot;markerColor&quot;: &quot;blue&quot;,\n",
       "  &quot;iconColor&quot;: &quot;white&quot;,\n",
       "  &quot;icon&quot;: &quot;info-sign&quot;,\n",
       "  &quot;prefix&quot;: &quot;glyphicon&quot;,\n",
       "  &quot;extraClasses&quot;: &quot;fa-rotate-0&quot;,\n",
       "}\n",
       "            );\n",
       "        \n",
       "    \n",
       "        var popup_10a0104ac737c372820313577543818b = L.popup({\n",
       "  &quot;maxWidth&quot;: &quot;100%&quot;,\n",
       "});\n",
       "\n",
       "        \n",
       "            \n",
       "                var html_cdf27acc937729422daf155f911102d4 = $(`&lt;div id=&quot;html_cdf27acc937729422daf155f911102d4&quot; style=&quot;width: 100.0%; height: 100.0%;&quot;&gt;pos_4&lt;/div&gt;`)[0];\n",
       "                popup_10a0104ac737c372820313577543818b.setContent(html_cdf27acc937729422daf155f911102d4);\n",
       "            \n",
       "        \n",
       "\n",
       "        marker_617e1f7af83033c574224449a5e98d36.bindPopup(popup_10a0104ac737c372820313577543818b)\n",
       "        ;\n",
       "\n",
       "        \n",
       "    \n",
       "    \n",
       "                marker_617e1f7af83033c574224449a5e98d36.setIcon(icon_8739342a179ea13c4fac13c52bf9a1c8);\n",
       "            \n",
       "    \n",
       "            var marker_7809d67ed040f527b7a6c7f8de61198e = L.marker(\n",
       "                [-35.36319325192571, 149.1652241],\n",
       "                {\n",
       "}\n",
       "            ).addTo(map_7d6150fb19bb0bf0afe8663fec470a2b);\n",
       "        \n",
       "    \n",
       "            var icon_7057e6050486a0190cbddf41827d907a = L.AwesomeMarkers.icon(\n",
       "                {\n",
       "  &quot;markerColor&quot;: &quot;green&quot;,\n",
       "  &quot;iconColor&quot;: &quot;white&quot;,\n",
       "  &quot;icon&quot;: &quot;info-sign&quot;,\n",
       "  &quot;prefix&quot;: &quot;glyphicon&quot;,\n",
       "  &quot;extraClasses&quot;: &quot;fa-rotate-0&quot;,\n",
       "}\n",
       "            );\n",
       "        \n",
       "    \n",
       "        var popup_e92c9f62443e346f8ad93b264aa17a58 = L.popup({\n",
       "  &quot;maxWidth&quot;: &quot;100%&quot;,\n",
       "});\n",
       "\n",
       "        \n",
       "            \n",
       "                var html_339d668a1c05c707c87ec9ded6405730 = $(`&lt;div id=&quot;html_339d668a1c05c707c87ec9ded6405730&quot; style=&quot;width: 100.0%; height: 100.0%;&quot;&gt;pos_0&lt;/div&gt;`)[0];\n",
       "                popup_e92c9f62443e346f8ad93b264aa17a58.setContent(html_339d668a1c05c707c87ec9ded6405730);\n",
       "            \n",
       "        \n",
       "\n",
       "        marker_7809d67ed040f527b7a6c7f8de61198e.bindPopup(popup_e92c9f62443e346f8ad93b264aa17a58)\n",
       "        ;\n",
       "\n",
       "        \n",
       "    \n",
       "    \n",
       "                marker_7809d67ed040f527b7a6c7f8de61198e.setIcon(icon_7057e6050486a0190cbddf41827d907a);\n",
       "            \n",
       "    \n",
       "            var marker_e055858668aaaf7bae294be47119c711 = L.marker(\n",
       "                [-35.36319325187572, 149.16511394417375],\n",
       "                {\n",
       "}\n",
       "            ).addTo(map_7d6150fb19bb0bf0afe8663fec470a2b);\n",
       "        \n",
       "    \n",
       "            var icon_6505e4f4fe4c10e5f2bbb28a64d6bfe7 = L.AwesomeMarkers.icon(\n",
       "                {\n",
       "  &quot;markerColor&quot;: &quot;green&quot;,\n",
       "  &quot;iconColor&quot;: &quot;white&quot;,\n",
       "  &quot;icon&quot;: &quot;info-sign&quot;,\n",
       "  &quot;prefix&quot;: &quot;glyphicon&quot;,\n",
       "  &quot;extraClasses&quot;: &quot;fa-rotate-0&quot;,\n",
       "}\n",
       "            );\n",
       "        \n",
       "    \n",
       "        var popup_0c843289227e4c814090fa507778c704 = L.popup({\n",
       "  &quot;maxWidth&quot;: &quot;100%&quot;,\n",
       "});\n",
       "\n",
       "        \n",
       "            \n",
       "                var html_07210adbf7d592d67d54d9c5962edae7 = $(`&lt;div id=&quot;html_07210adbf7d592d67d54d9c5962edae7&quot; style=&quot;width: 100.0%; height: 100.0%;&quot;&gt;pos_1&lt;/div&gt;`)[0];\n",
       "                popup_0c843289227e4c814090fa507778c704.setContent(html_07210adbf7d592d67d54d9c5962edae7);\n",
       "            \n",
       "        \n",
       "\n",
       "        marker_e055858668aaaf7bae294be47119c711.bindPopup(popup_0c843289227e4c814090fa507778c704)\n",
       "        ;\n",
       "\n",
       "        \n",
       "    \n",
       "    \n",
       "                marker_e055858668aaaf7bae294be47119c711.setIcon(icon_6505e4f4fe4c10e5f2bbb28a64d6bfe7);\n",
       "            \n",
       "    \n",
       "            var marker_4dede9471473798467b482c6e0a071ef = L.marker(\n",
       "                [-35.363103419826196, 149.16511394429637],\n",
       "                {\n",
       "}\n",
       "            ).addTo(map_7d6150fb19bb0bf0afe8663fec470a2b);\n",
       "        \n",
       "    \n",
       "            var icon_91d74a3821fc3d703f5309d80a6ad6d9 = L.AwesomeMarkers.icon(\n",
       "                {\n",
       "  &quot;markerColor&quot;: &quot;green&quot;,\n",
       "  &quot;iconColor&quot;: &quot;white&quot;,\n",
       "  &quot;icon&quot;: &quot;info-sign&quot;,\n",
       "  &quot;prefix&quot;: &quot;glyphicon&quot;,\n",
       "  &quot;extraClasses&quot;: &quot;fa-rotate-0&quot;,\n",
       "}\n",
       "            );\n",
       "        \n",
       "    \n",
       "        var popup_55d7c3cb0150a57b14ab72e6a5ac8062 = L.popup({\n",
       "  &quot;maxWidth&quot;: &quot;100%&quot;,\n",
       "});\n",
       "\n",
       "        \n",
       "            \n",
       "                var html_c729c003e2d81740105fc8b8a89fe879 = $(`&lt;div id=&quot;html_c729c003e2d81740105fc8b8a89fe879&quot; style=&quot;width: 100.0%; height: 100.0%;&quot;&gt;pos_2&lt;/div&gt;`)[0];\n",
       "                popup_55d7c3cb0150a57b14ab72e6a5ac8062.setContent(html_c729c003e2d81740105fc8b8a89fe879);\n",
       "            \n",
       "        \n",
       "\n",
       "        marker_4dede9471473798467b482c6e0a071ef.bindPopup(popup_55d7c3cb0150a57b14ab72e6a5ac8062)\n",
       "        ;\n",
       "\n",
       "        \n",
       "    \n",
       "    \n",
       "                marker_4dede9471473798467b482c6e0a071ef.setIcon(icon_91d74a3821fc3d703f5309d80a6ad6d9);\n",
       "            \n",
       "    \n",
       "            var marker_47fcf4af894719b1d0118df2ec396d64 = L.marker(\n",
       "                [-35.36310341987617, 149.1652241],\n",
       "                {\n",
       "}\n",
       "            ).addTo(map_7d6150fb19bb0bf0afe8663fec470a2b);\n",
       "        \n",
       "    \n",
       "            var icon_feeb853c28adb5600615f0991b32a2f1 = L.AwesomeMarkers.icon(\n",
       "                {\n",
       "  &quot;markerColor&quot;: &quot;green&quot;,\n",
       "  &quot;iconColor&quot;: &quot;white&quot;,\n",
       "  &quot;icon&quot;: &quot;info-sign&quot;,\n",
       "  &quot;prefix&quot;: &quot;glyphicon&quot;,\n",
       "  &quot;extraClasses&quot;: &quot;fa-rotate-0&quot;,\n",
       "}\n",
       "            );\n",
       "        \n",
       "    \n",
       "        var popup_b73e7331248669dae15acd7c8d04198c = L.popup({\n",
       "  &quot;maxWidth&quot;: &quot;100%&quot;,\n",
       "});\n",
       "\n",
       "        \n",
       "            \n",
       "                var html_fcedde100d3c83fae1837cb8ae054b10 = $(`&lt;div id=&quot;html_fcedde100d3c83fae1837cb8ae054b10&quot; style=&quot;width: 100.0%; height: 100.0%;&quot;&gt;pos_3&lt;/div&gt;`)[0];\n",
       "                popup_b73e7331248669dae15acd7c8d04198c.setContent(html_fcedde100d3c83fae1837cb8ae054b10);\n",
       "            \n",
       "        \n",
       "\n",
       "        marker_47fcf4af894719b1d0118df2ec396d64.bindPopup(popup_b73e7331248669dae15acd7c8d04198c)\n",
       "        ;\n",
       "\n",
       "        \n",
       "    \n",
       "    \n",
       "                marker_47fcf4af894719b1d0118df2ec396d64.setIcon(icon_feeb853c28adb5600615f0991b32a2f1);\n",
       "            \n",
       "    \n",
       "            var marker_7c61a8f0e049bac0c33dda1a33ed1104 = L.marker(\n",
       "                [-35.36319325192571, 149.1652241],\n",
       "                {\n",
       "}\n",
       "            ).addTo(map_7d6150fb19bb0bf0afe8663fec470a2b);\n",
       "        \n",
       "    \n",
       "            var icon_f07253239baad59f26769100523b501e = L.AwesomeMarkers.icon(\n",
       "                {\n",
       "  &quot;markerColor&quot;: &quot;green&quot;,\n",
       "  &quot;iconColor&quot;: &quot;white&quot;,\n",
       "  &quot;icon&quot;: &quot;info-sign&quot;,\n",
       "  &quot;prefix&quot;: &quot;glyphicon&quot;,\n",
       "  &quot;extraClasses&quot;: &quot;fa-rotate-0&quot;,\n",
       "}\n",
       "            );\n",
       "        \n",
       "    \n",
       "        var popup_d80c321371f757435938da93935f0778 = L.popup({\n",
       "  &quot;maxWidth&quot;: &quot;100%&quot;,\n",
       "});\n",
       "\n",
       "        \n",
       "            \n",
       "                var html_f535ad1ec5a9690330409b3d80b0383a = $(`&lt;div id=&quot;html_f535ad1ec5a9690330409b3d80b0383a&quot; style=&quot;width: 100.0%; height: 100.0%;&quot;&gt;pos_4&lt;/div&gt;`)[0];\n",
       "                popup_d80c321371f757435938da93935f0778.setContent(html_f535ad1ec5a9690330409b3d80b0383a);\n",
       "            \n",
       "        \n",
       "\n",
       "        marker_7c61a8f0e049bac0c33dda1a33ed1104.bindPopup(popup_d80c321371f757435938da93935f0778)\n",
       "        ;\n",
       "\n",
       "        \n",
       "    \n",
       "    \n",
       "                marker_7c61a8f0e049bac0c33dda1a33ed1104.setIcon(icon_f07253239baad59f26769100523b501e);\n",
       "            \n",
       "    \n",
       "            var marker_ff7d070e2c694efe1d555c8767be1b92 = L.marker(\n",
       "                [-35.36346274796185, 149.16538933429092],\n",
       "                {\n",
       "}\n",
       "            ).addTo(map_7d6150fb19bb0bf0afe8663fec470a2b);\n",
       "        \n",
       "    \n",
       "            var icon_92d19ae2d1070e01255325a46618bd78 = L.AwesomeMarkers.icon(\n",
       "                {\n",
       "  &quot;markerColor&quot;: &quot;black&quot;,\n",
       "  &quot;iconColor&quot;: &quot;white&quot;,\n",
       "  &quot;icon&quot;: &quot;info-sign&quot;,\n",
       "  &quot;prefix&quot;: &quot;glyphicon&quot;,\n",
       "  &quot;extraClasses&quot;: &quot;fa-rotate-0&quot;,\n",
       "}\n",
       "            );\n",
       "        \n",
       "    \n",
       "        var popup_69e214ee34da41b38ca929651266b9f2 = L.popup({\n",
       "  &quot;maxWidth&quot;: &quot;100%&quot;,\n",
       "});\n",
       "\n",
       "        \n",
       "            \n",
       "                var html_6e8550f1ffd513a83b09ef2514f1476f = $(`&lt;div id=&quot;html_6e8550f1ffd513a83b09ef2514f1476f&quot; style=&quot;width: 100.0%; height: 100.0%;&quot;&gt;pos_0&lt;/div&gt;`)[0];\n",
       "                popup_69e214ee34da41b38ca929651266b9f2.setContent(html_6e8550f1ffd513a83b09ef2514f1476f);\n",
       "            \n",
       "        \n",
       "\n",
       "        marker_ff7d070e2c694efe1d555c8767be1b92.bindPopup(popup_69e214ee34da41b38ca929651266b9f2)\n",
       "        ;\n",
       "\n",
       "        \n",
       "    \n",
       "    \n",
       "                marker_ff7d070e2c694efe1d555c8767be1b92.setIcon(icon_92d19ae2d1070e01255325a46618bd78);\n",
       "            \n",
       "    \n",
       "            var marker_51ea6949f90e682fabfadc2755351db2 = L.marker(\n",
       "                [-35.363462748061814, 149.16527917809697],\n",
       "                {\n",
       "}\n",
       "            ).addTo(map_7d6150fb19bb0bf0afe8663fec470a2b);\n",
       "        \n",
       "    \n",
       "            var icon_0b0bbfe44ed1193bdfbd01b4666efb85 = L.AwesomeMarkers.icon(\n",
       "                {\n",
       "  &quot;markerColor&quot;: &quot;black&quot;,\n",
       "  &quot;iconColor&quot;: &quot;white&quot;,\n",
       "  &quot;icon&quot;: &quot;info-sign&quot;,\n",
       "  &quot;prefix&quot;: &quot;glyphicon&quot;,\n",
       "  &quot;extraClasses&quot;: &quot;fa-rotate-0&quot;,\n",
       "}\n",
       "            );\n",
       "        \n",
       "    \n",
       "        var popup_2828a8bf367d0c20202e6d12e386b69d = L.popup({\n",
       "  &quot;maxWidth&quot;: &quot;100%&quot;,\n",
       "});\n",
       "\n",
       "        \n",
       "            \n",
       "                var html_9ad62938e99146d90a899362b4dc408f = $(`&lt;div id=&quot;html_9ad62938e99146d90a899362b4dc408f&quot; style=&quot;width: 100.0%; height: 100.0%;&quot;&gt;pos_1&lt;/div&gt;`)[0];\n",
       "                popup_2828a8bf367d0c20202e6d12e386b69d.setContent(html_9ad62938e99146d90a899362b4dc408f);\n",
       "            \n",
       "        \n",
       "\n",
       "        marker_51ea6949f90e682fabfadc2755351db2.bindPopup(popup_2828a8bf367d0c20202e6d12e386b69d)\n",
       "        ;\n",
       "\n",
       "        \n",
       "    \n",
       "    \n",
       "                marker_51ea6949f90e682fabfadc2755351db2.setIcon(icon_0b0bbfe44ed1193bdfbd01b4666efb85);\n",
       "            \n",
       "    \n",
       "            var marker_e8ea14049a2d287681f732b35986911b = L.marker(\n",
       "                [-35.36337291601228, 149.1652791780357],\n",
       "                {\n",
       "}\n",
       "            ).addTo(map_7d6150fb19bb0bf0afe8663fec470a2b);\n",
       "        \n",
       "    \n",
       "            var icon_419a29b11adc8bba4e815cdc62be33e7 = L.AwesomeMarkers.icon(\n",
       "                {\n",
       "  &quot;markerColor&quot;: &quot;black&quot;,\n",
       "  &quot;iconColor&quot;: &quot;white&quot;,\n",
       "  &quot;icon&quot;: &quot;info-sign&quot;,\n",
       "  &quot;prefix&quot;: &quot;glyphicon&quot;,\n",
       "  &quot;extraClasses&quot;: &quot;fa-rotate-0&quot;,\n",
       "}\n",
       "            );\n",
       "        \n",
       "    \n",
       "        var popup_6db5b87241971d81173ea86b2f005661 = L.popup({\n",
       "  &quot;maxWidth&quot;: &quot;100%&quot;,\n",
       "});\n",
       "\n",
       "        \n",
       "            \n",
       "                var html_9d4f60ba780855417f1adc70d3538bfa = $(`&lt;div id=&quot;html_9d4f60ba780855417f1adc70d3538bfa&quot; style=&quot;width: 100.0%; height: 100.0%;&quot;&gt;pos_2&lt;/div&gt;`)[0];\n",
       "                popup_6db5b87241971d81173ea86b2f005661.setContent(html_9d4f60ba780855417f1adc70d3538bfa);\n",
       "            \n",
       "        \n",
       "\n",
       "        marker_e8ea14049a2d287681f732b35986911b.bindPopup(popup_6db5b87241971d81173ea86b2f005661)\n",
       "        ;\n",
       "\n",
       "        \n",
       "    \n",
       "    \n",
       "                marker_e8ea14049a2d287681f732b35986911b.setIcon(icon_419a29b11adc8bba4e815cdc62be33e7);\n",
       "            \n",
       "    \n",
       "            var marker_e880f28b787939e3048f329165d05e20 = L.marker(\n",
       "                [-35.36337291591232, 149.1653893341071],\n",
       "                {\n",
       "}\n",
       "            ).addTo(map_7d6150fb19bb0bf0afe8663fec470a2b);\n",
       "        \n",
       "    \n",
       "            var icon_37bbd0fadc8f473c88f39fb2c027b3c3 = L.AwesomeMarkers.icon(\n",
       "                {\n",
       "  &quot;markerColor&quot;: &quot;black&quot;,\n",
       "  &quot;iconColor&quot;: &quot;white&quot;,\n",
       "  &quot;icon&quot;: &quot;info-sign&quot;,\n",
       "  &quot;prefix&quot;: &quot;glyphicon&quot;,\n",
       "  &quot;extraClasses&quot;: &quot;fa-rotate-0&quot;,\n",
       "}\n",
       "            );\n",
       "        \n",
       "    \n",
       "        var popup_b6b37781d278a10326676c2f881b7afd = L.popup({\n",
       "  &quot;maxWidth&quot;: &quot;100%&quot;,\n",
       "});\n",
       "\n",
       "        \n",
       "            \n",
       "                var html_3c1fb7b1a06516ca62ab55de5b93061b = $(`&lt;div id=&quot;html_3c1fb7b1a06516ca62ab55de5b93061b&quot; style=&quot;width: 100.0%; height: 100.0%;&quot;&gt;pos_3&lt;/div&gt;`)[0];\n",
       "                popup_b6b37781d278a10326676c2f881b7afd.setContent(html_3c1fb7b1a06516ca62ab55de5b93061b);\n",
       "            \n",
       "        \n",
       "\n",
       "        marker_e880f28b787939e3048f329165d05e20.bindPopup(popup_b6b37781d278a10326676c2f881b7afd)\n",
       "        ;\n",
       "\n",
       "        \n",
       "    \n",
       "    \n",
       "                marker_e880f28b787939e3048f329165d05e20.setIcon(icon_37bbd0fadc8f473c88f39fb2c027b3c3);\n",
       "            \n",
       "    \n",
       "            var marker_ed0ac0f88f632a1597140edb16b58e30 = L.marker(\n",
       "                [-35.36346274796185, 149.16538933429092],\n",
       "                {\n",
       "}\n",
       "            ).addTo(map_7d6150fb19bb0bf0afe8663fec470a2b);\n",
       "        \n",
       "    \n",
       "            var icon_5e7c4846f973dc05d3588e19f757baed = L.AwesomeMarkers.icon(\n",
       "                {\n",
       "  &quot;markerColor&quot;: &quot;black&quot;,\n",
       "  &quot;iconColor&quot;: &quot;white&quot;,\n",
       "  &quot;icon&quot;: &quot;info-sign&quot;,\n",
       "  &quot;prefix&quot;: &quot;glyphicon&quot;,\n",
       "  &quot;extraClasses&quot;: &quot;fa-rotate-0&quot;,\n",
       "}\n",
       "            );\n",
       "        \n",
       "    \n",
       "        var popup_7fb3276a6fa6f2c490d177e6e57a7ee2 = L.popup({\n",
       "  &quot;maxWidth&quot;: &quot;100%&quot;,\n",
       "});\n",
       "\n",
       "        \n",
       "            \n",
       "                var html_96da0d28c220cb0979eef8efaa5da916 = $(`&lt;div id=&quot;html_96da0d28c220cb0979eef8efaa5da916&quot; style=&quot;width: 100.0%; height: 100.0%;&quot;&gt;pos_4&lt;/div&gt;`)[0];\n",
       "                popup_7fb3276a6fa6f2c490d177e6e57a7ee2.setContent(html_96da0d28c220cb0979eef8efaa5da916);\n",
       "            \n",
       "        \n",
       "\n",
       "        marker_ed0ac0f88f632a1597140edb16b58e30.bindPopup(popup_7fb3276a6fa6f2c490d177e6e57a7ee2)\n",
       "        ;\n",
       "\n",
       "        \n",
       "    \n",
       "    \n",
       "                marker_ed0ac0f88f632a1597140edb16b58e30.setIcon(icon_5e7c4846f973dc05d3588e19f757baed);\n",
       "            \n",
       "    \n",
       "            var marker_ef8b681b08644d349403a883fff12199 = L.marker(\n",
       "                [-35.363462748074305, 149.1652241],\n",
       "                {\n",
       "}\n",
       "            ).addTo(map_7d6150fb19bb0bf0afe8663fec470a2b);\n",
       "        \n",
       "    \n",
       "            var icon_66929e7d348e37a5537816cd6ef7071c = L.AwesomeMarkers.icon(\n",
       "                {\n",
       "  &quot;markerColor&quot;: &quot;orange&quot;,\n",
       "  &quot;iconColor&quot;: &quot;white&quot;,\n",
       "  &quot;icon&quot;: &quot;info-sign&quot;,\n",
       "  &quot;prefix&quot;: &quot;glyphicon&quot;,\n",
       "  &quot;extraClasses&quot;: &quot;fa-rotate-0&quot;,\n",
       "}\n",
       "            );\n",
       "        \n",
       "    \n",
       "        var popup_ea28a9deefa312e31c8934b12e07f65a = L.popup({\n",
       "  &quot;maxWidth&quot;: &quot;100%&quot;,\n",
       "});\n",
       "\n",
       "        \n",
       "            \n",
       "                var html_915f05b94abb5b8ffb0af7e801b4a5ee = $(`&lt;div id=&quot;html_915f05b94abb5b8ffb0af7e801b4a5ee&quot; style=&quot;width: 100.0%; height: 100.0%;&quot;&gt;pos_0&lt;/div&gt;`)[0];\n",
       "                popup_ea28a9deefa312e31c8934b12e07f65a.setContent(html_915f05b94abb5b8ffb0af7e801b4a5ee);\n",
       "            \n",
       "        \n",
       "\n",
       "        marker_ef8b681b08644d349403a883fff12199.bindPopup(popup_ea28a9deefa312e31c8934b12e07f65a)\n",
       "        ;\n",
       "\n",
       "        \n",
       "    \n",
       "    \n",
       "                marker_ef8b681b08644d349403a883fff12199.setIcon(icon_66929e7d348e37a5537816cd6ef7071c);\n",
       "            \n",
       "    \n",
       "            var marker_dde91e42b9920a0c080028731d147cd7 = L.marker(\n",
       "                [-35.3635262689007, 149.165146207747],\n",
       "                {\n",
       "}\n",
       "            ).addTo(map_7d6150fb19bb0bf0afe8663fec470a2b);\n",
       "        \n",
       "    \n",
       "            var icon_536366a1685f379bcc678b23b80fa808 = L.AwesomeMarkers.icon(\n",
       "                {\n",
       "  &quot;markerColor&quot;: &quot;orange&quot;,\n",
       "  &quot;iconColor&quot;: &quot;white&quot;,\n",
       "  &quot;icon&quot;: &quot;info-sign&quot;,\n",
       "  &quot;prefix&quot;: &quot;glyphicon&quot;,\n",
       "  &quot;extraClasses&quot;: &quot;fa-rotate-0&quot;,\n",
       "}\n",
       "            );\n",
       "        \n",
       "    \n",
       "        var popup_e9fce383922faa7892cfb58575c54711 = L.popup({\n",
       "  &quot;maxWidth&quot;: &quot;100%&quot;,\n",
       "});\n",
       "\n",
       "        \n",
       "            \n",
       "                var html_b131fbff59d458e314ccf867cd510825 = $(`&lt;div id=&quot;html_b131fbff59d458e314ccf867cd510825&quot; style=&quot;width: 100.0%; height: 100.0%;&quot;&gt;pos_1&lt;/div&gt;`)[0];\n",
       "                popup_e9fce383922faa7892cfb58575c54711.setContent(html_b131fbff59d458e314ccf867cd510825);\n",
       "            \n",
       "        \n",
       "\n",
       "        marker_dde91e42b9920a0c080028731d147cd7.bindPopup(popup_e9fce383922faa7892cfb58575c54711)\n",
       "        ;\n",
       "\n",
       "        \n",
       "    \n",
       "    \n",
       "                marker_dde91e42b9920a0c080028731d147cd7.setIcon(icon_536366a1685f379bcc678b23b80fa808);\n",
       "            \n",
       "    \n",
       "            var marker_fecf5cd0d99f32910993d232cb514645 = L.marker(\n",
       "                [-35.363462747974346, 149.1650683156165],\n",
       "                {\n",
       "}\n",
       "            ).addTo(map_7d6150fb19bb0bf0afe8663fec470a2b);\n",
       "        \n",
       "    \n",
       "            var icon_b4d440b175c7945c294996a841843c38 = L.AwesomeMarkers.icon(\n",
       "                {\n",
       "  &quot;markerColor&quot;: &quot;orange&quot;,\n",
       "  &quot;iconColor&quot;: &quot;white&quot;,\n",
       "  &quot;icon&quot;: &quot;info-sign&quot;,\n",
       "  &quot;prefix&quot;: &quot;glyphicon&quot;,\n",
       "  &quot;extraClasses&quot;: &quot;fa-rotate-0&quot;,\n",
       "}\n",
       "            );\n",
       "        \n",
       "    \n",
       "        var popup_b9601068685a345bd9dc059f430e5719 = L.popup({\n",
       "  &quot;maxWidth&quot;: &quot;100%&quot;,\n",
       "});\n",
       "\n",
       "        \n",
       "            \n",
       "                var html_4969e028998aa3f2f19d7a8713d1b21f = $(`&lt;div id=&quot;html_4969e028998aa3f2f19d7a8713d1b21f&quot; style=&quot;width: 100.0%; height: 100.0%;&quot;&gt;pos_2&lt;/div&gt;`)[0];\n",
       "                popup_b9601068685a345bd9dc059f430e5719.setContent(html_4969e028998aa3f2f19d7a8713d1b21f);\n",
       "            \n",
       "        \n",
       "\n",
       "        marker_fecf5cd0d99f32910993d232cb514645.bindPopup(popup_b9601068685a345bd9dc059f430e5719)\n",
       "        ;\n",
       "\n",
       "        \n",
       "    \n",
       "    \n",
       "                marker_fecf5cd0d99f32910993d232cb514645.setIcon(icon_b4d440b175c7945c294996a841843c38);\n",
       "            \n",
       "    \n",
       "            var marker_270da7e2c4b684aa2d0889ed776c2ad8 = L.marker(\n",
       "                [-35.36339922719792, 149.16514620786955],\n",
       "                {\n",
       "}\n",
       "            ).addTo(map_7d6150fb19bb0bf0afe8663fec470a2b);\n",
       "        \n",
       "    \n",
       "            var icon_a3f35af145b9e59a40dcdd78a11f9edb = L.AwesomeMarkers.icon(\n",
       "                {\n",
       "  &quot;markerColor&quot;: &quot;orange&quot;,\n",
       "  &quot;iconColor&quot;: &quot;white&quot;,\n",
       "  &quot;icon&quot;: &quot;info-sign&quot;,\n",
       "  &quot;prefix&quot;: &quot;glyphicon&quot;,\n",
       "  &quot;extraClasses&quot;: &quot;fa-rotate-0&quot;,\n",
       "}\n",
       "            );\n",
       "        \n",
       "    \n",
       "        var popup_e7cea697b18b421bc88e5e4cae1fd4ec = L.popup({\n",
       "  &quot;maxWidth&quot;: &quot;100%&quot;,\n",
       "});\n",
       "\n",
       "        \n",
       "            \n",
       "                var html_4389279cdca992fb72715d07944bd3fd = $(`&lt;div id=&quot;html_4389279cdca992fb72715d07944bd3fd&quot; style=&quot;width: 100.0%; height: 100.0%;&quot;&gt;pos_3&lt;/div&gt;`)[0];\n",
       "                popup_e7cea697b18b421bc88e5e4cae1fd4ec.setContent(html_4389279cdca992fb72715d07944bd3fd);\n",
       "            \n",
       "        \n",
       "\n",
       "        marker_270da7e2c4b684aa2d0889ed776c2ad8.bindPopup(popup_e7cea697b18b421bc88e5e4cae1fd4ec)\n",
       "        ;\n",
       "\n",
       "        \n",
       "    \n",
       "    \n",
       "                marker_270da7e2c4b684aa2d0889ed776c2ad8.setIcon(icon_a3f35af145b9e59a40dcdd78a11f9edb);\n",
       "            \n",
       "    \n",
       "            var marker_35a56a2893058fe4ab79e021b75e4c1b = L.marker(\n",
       "                [-35.363462748074305, 149.1652241],\n",
       "                {\n",
       "}\n",
       "            ).addTo(map_7d6150fb19bb0bf0afe8663fec470a2b);\n",
       "        \n",
       "    \n",
       "            var icon_f76fb77e1f609086415664fca57783ad = L.AwesomeMarkers.icon(\n",
       "                {\n",
       "  &quot;markerColor&quot;: &quot;orange&quot;,\n",
       "  &quot;iconColor&quot;: &quot;white&quot;,\n",
       "  &quot;icon&quot;: &quot;info-sign&quot;,\n",
       "  &quot;prefix&quot;: &quot;glyphicon&quot;,\n",
       "  &quot;extraClasses&quot;: &quot;fa-rotate-0&quot;,\n",
       "}\n",
       "            );\n",
       "        \n",
       "    \n",
       "        var popup_e3cf25367a42b5db43f59afc8fb48b5b = L.popup({\n",
       "  &quot;maxWidth&quot;: &quot;100%&quot;,\n",
       "});\n",
       "\n",
       "        \n",
       "            \n",
       "                var html_94b6c80bc782003301993c963ac62529 = $(`&lt;div id=&quot;html_94b6c80bc782003301993c963ac62529&quot; style=&quot;width: 100.0%; height: 100.0%;&quot;&gt;pos_4&lt;/div&gt;`)[0];\n",
       "                popup_e3cf25367a42b5db43f59afc8fb48b5b.setContent(html_94b6c80bc782003301993c963ac62529);\n",
       "            \n",
       "        \n",
       "\n",
       "        marker_35a56a2893058fe4ab79e021b75e4c1b.bindPopup(popup_e3cf25367a42b5db43f59afc8fb48b5b)\n",
       "        ;\n",
       "\n",
       "        \n",
       "    \n",
       "    \n",
       "                marker_35a56a2893058fe4ab79e021b75e4c1b.setIcon(icon_f76fb77e1f609086415664fca57783ad);\n",
       "            \n",
       "    \n",
       "            var marker_aa176be67c68ce20d6ec68a6c09f53c1 = L.marker(\n",
       "                [-35.36328308377532, 149.16544441189762],\n",
       "                {\n",
       "}\n",
       "            ).addTo(map_7d6150fb19bb0bf0afe8663fec470a2b);\n",
       "        \n",
       "    \n",
       "            var icon_b1e238ca130a8cf937fe4c87a6ec3861 = L.AwesomeMarkers.icon(\n",
       "                {\n",
       "  &quot;markerColor&quot;: &quot;red&quot;,\n",
       "  &quot;iconColor&quot;: &quot;white&quot;,\n",
       "  &quot;icon&quot;: &quot;info-sign&quot;,\n",
       "  &quot;prefix&quot;: &quot;glyphicon&quot;,\n",
       "  &quot;extraClasses&quot;: &quot;fa-rotate-0&quot;,\n",
       "}\n",
       "            );\n",
       "        \n",
       "    \n",
       "        var popup_09641205645d5f92d324b557bf60816a = L.popup({\n",
       "  &quot;maxWidth&quot;: &quot;100%&quot;,\n",
       "});\n",
       "\n",
       "        \n",
       "            \n",
       "                var html_94abb04da7b61547acb97ed62d2c84e5 = $(`&lt;div id=&quot;html_94abb04da7b61547acb97ed62d2c84e5&quot; style=&quot;width: 100.0%; height: 100.0%;&quot;&gt;pos_0&lt;/div&gt;`)[0];\n",
       "                popup_09641205645d5f92d324b557bf60816a.setContent(html_94abb04da7b61547acb97ed62d2c84e5);\n",
       "            \n",
       "        \n",
       "\n",
       "        marker_aa176be67c68ce20d6ec68a6c09f53c1.bindPopup(popup_09641205645d5f92d324b557bf60816a)\n",
       "        ;\n",
       "\n",
       "        \n",
       "    \n",
       "    \n",
       "                marker_aa176be67c68ce20d6ec68a6c09f53c1.setIcon(icon_b1e238ca130a8cf937fe4c87a6ec3861);\n",
       "            \n",
       "    \n",
       "            var marker_807ea6a78c35aace3ed7af26d6529370 = L.marker(\n",
       "                [-35.36328308392526, 149.16533425594878],\n",
       "                {\n",
       "}\n",
       "            ).addTo(map_7d6150fb19bb0bf0afe8663fec470a2b);\n",
       "        \n",
       "    \n",
       "            var icon_511e91ee6e46eda75c3c9a33ca9079f5 = L.AwesomeMarkers.icon(\n",
       "                {\n",
       "  &quot;markerColor&quot;: &quot;red&quot;,\n",
       "  &quot;iconColor&quot;: &quot;white&quot;,\n",
       "  &quot;icon&quot;: &quot;info-sign&quot;,\n",
       "  &quot;prefix&quot;: &quot;glyphicon&quot;,\n",
       "  &quot;extraClasses&quot;: &quot;fa-rotate-0&quot;,\n",
       "}\n",
       "            );\n",
       "        \n",
       "    \n",
       "        var popup_79916fd3e000e905a1b20f0e1909f0fb = L.popup({\n",
       "  &quot;maxWidth&quot;: &quot;100%&quot;,\n",
       "});\n",
       "\n",
       "        \n",
       "            \n",
       "                var html_36db2db58e700070211b8e2a2ac2fe65 = $(`&lt;div id=&quot;html_36db2db58e700070211b8e2a2ac2fe65&quot; style=&quot;width: 100.0%; height: 100.0%;&quot;&gt;pos_1&lt;/div&gt;`)[0];\n",
       "                popup_79916fd3e000e905a1b20f0e1909f0fb.setContent(html_36db2db58e700070211b8e2a2ac2fe65);\n",
       "            \n",
       "        \n",
       "\n",
       "        marker_807ea6a78c35aace3ed7af26d6529370.bindPopup(popup_79916fd3e000e905a1b20f0e1909f0fb)\n",
       "        ;\n",
       "\n",
       "        \n",
       "    \n",
       "    \n",
       "                marker_807ea6a78c35aace3ed7af26d6529370.setIcon(icon_511e91ee6e46eda75c3c9a33ca9079f5);\n",
       "            \n",
       "    \n",
       "            var marker_6e30c79be735c926e2935feaad70cadb = L.marker(\n",
       "                [-35.36319325187572, 149.16533425582622],\n",
       "                {\n",
       "}\n",
       "            ).addTo(map_7d6150fb19bb0bf0afe8663fec470a2b);\n",
       "        \n",
       "    \n",
       "            var icon_8b3141a0cda9e133cf5fd26798a08af9 = L.AwesomeMarkers.icon(\n",
       "                {\n",
       "  &quot;markerColor&quot;: &quot;red&quot;,\n",
       "  &quot;iconColor&quot;: &quot;white&quot;,\n",
       "  &quot;icon&quot;: &quot;info-sign&quot;,\n",
       "  &quot;prefix&quot;: &quot;glyphicon&quot;,\n",
       "  &quot;extraClasses&quot;: &quot;fa-rotate-0&quot;,\n",
       "}\n",
       "            );\n",
       "        \n",
       "    \n",
       "        var popup_d02e0b05599199270968e1ef8587ac3a = L.popup({\n",
       "  &quot;maxWidth&quot;: &quot;100%&quot;,\n",
       "});\n",
       "\n",
       "        \n",
       "            \n",
       "                var html_b0819a63431af8e02288dd55c6dd1367 = $(`&lt;div id=&quot;html_b0819a63431af8e02288dd55c6dd1367&quot; style=&quot;width: 100.0%; height: 100.0%;&quot;&gt;pos_2&lt;/div&gt;`)[0];\n",
       "                popup_d02e0b05599199270968e1ef8587ac3a.setContent(html_b0819a63431af8e02288dd55c6dd1367);\n",
       "            \n",
       "        \n",
       "\n",
       "        marker_6e30c79be735c926e2935feaad70cadb.bindPopup(popup_d02e0b05599199270968e1ef8587ac3a)\n",
       "        ;\n",
       "\n",
       "        \n",
       "    \n",
       "    \n",
       "                marker_6e30c79be735c926e2935feaad70cadb.setIcon(icon_8b3141a0cda9e133cf5fd26798a08af9);\n",
       "            \n",
       "    \n",
       "            var marker_8ce71437c0122cdddf4e34bc04f3a540 = L.marker(\n",
       "                [-35.36319325172579, 149.16544441165246],\n",
       "                {\n",
       "}\n",
       "            ).addTo(map_7d6150fb19bb0bf0afe8663fec470a2b);\n",
       "        \n",
       "    \n",
       "            var icon_c04b21af7d3ac867771291f79778e3b1 = L.AwesomeMarkers.icon(\n",
       "                {\n",
       "  &quot;markerColor&quot;: &quot;red&quot;,\n",
       "  &quot;iconColor&quot;: &quot;white&quot;,\n",
       "  &quot;icon&quot;: &quot;info-sign&quot;,\n",
       "  &quot;prefix&quot;: &quot;glyphicon&quot;,\n",
       "  &quot;extraClasses&quot;: &quot;fa-rotate-0&quot;,\n",
       "}\n",
       "            );\n",
       "        \n",
       "    \n",
       "        var popup_9be40b2d2183fd4a9ffda8a5bf992276 = L.popup({\n",
       "  &quot;maxWidth&quot;: &quot;100%&quot;,\n",
       "});\n",
       "\n",
       "        \n",
       "            \n",
       "                var html_523f73f3029a73c8dd8c7d8045712e14 = $(`&lt;div id=&quot;html_523f73f3029a73c8dd8c7d8045712e14&quot; style=&quot;width: 100.0%; height: 100.0%;&quot;&gt;pos_3&lt;/div&gt;`)[0];\n",
       "                popup_9be40b2d2183fd4a9ffda8a5bf992276.setContent(html_523f73f3029a73c8dd8c7d8045712e14);\n",
       "            \n",
       "        \n",
       "\n",
       "        marker_8ce71437c0122cdddf4e34bc04f3a540.bindPopup(popup_9be40b2d2183fd4a9ffda8a5bf992276)\n",
       "        ;\n",
       "\n",
       "        \n",
       "    \n",
       "    \n",
       "                marker_8ce71437c0122cdddf4e34bc04f3a540.setIcon(icon_c04b21af7d3ac867771291f79778e3b1);\n",
       "            \n",
       "    \n",
       "            var marker_f0928654e1823b9a04fe28d7f289dd95 = L.marker(\n",
       "                [-35.36328308377532, 149.16544441189762],\n",
       "                {\n",
       "}\n",
       "            ).addTo(map_7d6150fb19bb0bf0afe8663fec470a2b);\n",
       "        \n",
       "    \n",
       "            var icon_fc9f3e8da8ddca51cc0702f013da4237 = L.AwesomeMarkers.icon(\n",
       "                {\n",
       "  &quot;markerColor&quot;: &quot;red&quot;,\n",
       "  &quot;iconColor&quot;: &quot;white&quot;,\n",
       "  &quot;icon&quot;: &quot;info-sign&quot;,\n",
       "  &quot;prefix&quot;: &quot;glyphicon&quot;,\n",
       "  &quot;extraClasses&quot;: &quot;fa-rotate-0&quot;,\n",
       "}\n",
       "            );\n",
       "        \n",
       "    \n",
       "        var popup_6605051626f0a479f9db7149b00b8873 = L.popup({\n",
       "  &quot;maxWidth&quot;: &quot;100%&quot;,\n",
       "});\n",
       "\n",
       "        \n",
       "            \n",
       "                var html_c3b0a0fc8f8a0b4491fd03e6cdb8cc24 = $(`&lt;div id=&quot;html_c3b0a0fc8f8a0b4491fd03e6cdb8cc24&quot; style=&quot;width: 100.0%; height: 100.0%;&quot;&gt;pos_4&lt;/div&gt;`)[0];\n",
       "                popup_6605051626f0a479f9db7149b00b8873.setContent(html_c3b0a0fc8f8a0b4491fd03e6cdb8cc24);\n",
       "            \n",
       "        \n",
       "\n",
       "        marker_f0928654e1823b9a04fe28d7f289dd95.bindPopup(popup_6605051626f0a479f9db7149b00b8873)\n",
       "        ;\n",
       "\n",
       "        \n",
       "    \n",
       "    \n",
       "                marker_f0928654e1823b9a04fe28d7f289dd95.setIcon(icon_fc9f3e8da8ddca51cc0702f013da4237);\n",
       "            \n",
       "    \n",
       "            var marker_85ccba9fdd5539d3313d067e9d15c822 = L.marker(\n",
       "                [-35.363328, 149.1652241],\n",
       "                {\n",
       "}\n",
       "            ).addTo(map_7d6150fb19bb0bf0afe8663fec470a2b);\n",
       "        \n",
       "    \n",
       "            var icon_76ee8ba16ab990206b2d66d687b485a4 = L.AwesomeMarkers.icon(\n",
       "                {\n",
       "  &quot;markerColor&quot;: &quot;white&quot;,\n",
       "  &quot;iconColor&quot;: &quot;white&quot;,\n",
       "  &quot;icon&quot;: &quot;info-sign&quot;,\n",
       "  &quot;prefix&quot;: &quot;glyphicon&quot;,\n",
       "  &quot;extraClasses&quot;: &quot;fa-rotate-0&quot;,\n",
       "}\n",
       "            );\n",
       "        \n",
       "    \n",
       "        var popup_2050a0b6dcefab46fdbed24b384c0ffb = L.popup({\n",
       "  &quot;maxWidth&quot;: &quot;100%&quot;,\n",
       "});\n",
       "\n",
       "        \n",
       "            \n",
       "                var html_d1a8f942349830bb1c4175be3b79f3d2 = $(`&lt;div id=&quot;html_d1a8f942349830bb1c4175be3b79f3d2&quot; style=&quot;width: 100.0%; height: 100.0%;&quot;&gt;Origin&lt;/div&gt;`)[0];\n",
       "                popup_2050a0b6dcefab46fdbed24b384c0ffb.setContent(html_d1a8f942349830bb1c4175be3b79f3d2);\n",
       "            \n",
       "        \n",
       "\n",
       "        marker_85ccba9fdd5539d3313d067e9d15c822.bindPopup(popup_2050a0b6dcefab46fdbed24b384c0ffb)\n",
       "        ;\n",
       "\n",
       "        \n",
       "    \n",
       "    \n",
       "                marker_85ccba9fdd5539d3313d067e9d15c822.setIcon(icon_76ee8ba16ab990206b2d66d687b485a4);\n",
       "            \n",
       "&lt;/script&gt;\n",
       "&lt;/html&gt;\" style=\"position:absolute;width:100%;height:100%;left:0;top:0;border:none !important;\" allowfullscreen webkitallowfullscreen mozallowfullscreen></iframe></div></div>"
      ],
      "text/plain": [
       "<folium.folium.Map at 0x7f4717b14c10>"
      ]
     },
     "execution_count": 4,
     "metadata": {},
     "output_type": "execute_result"
    }
   ],
   "source": [
    "qgc_config = ConfigQGC(origin = gra_origin)\n",
    "\n",
    "for path,home,color in zip(base_paths,base_homes,colors):\n",
    "    qgc_config.add(base_path=path,base_home=home,color=color)\n",
    "qgc_config.show()"
   ]
  },
  {
   "cell_type": "code",
   "execution_count": 5,
   "metadata": {},
   "outputs": [],
   "source": [
    "novis_config = ConfigVis[int]()\n",
    "\n",
    "for i,_ in enumerate(base_homes):\n",
    "    novis_config.add_vehicle(i)"
   ]
  },
  {
   "cell_type": "markdown",
   "metadata": {},
   "source": [
    "## Save the missions"
   ]
  },
  {
   "cell_type": "code",
   "execution_count": 6,
   "metadata": {},
   "outputs": [],
   "source": [
    "qgc_config.save_missions()"
   ]
  },
  {
   "cell_type": "markdown",
   "metadata": {},
   "source": [
    "## Visualization Parameters"
   ]
  },
  {
   "cell_type": "code",
   "execution_count": 7,
   "metadata": {},
   "outputs": [],
   "source": [
    "novis=NoneVisualizer(novis_config)\n",
    "\n",
    "gaz= Gazebo(gaz_config,gra_origin)\n",
    "\n",
    "qgc=QGC(qgc_config)"
   ]
  },
  {
   "cell_type": "markdown",
   "metadata": {},
   "source": [
    "## Launch Simulatotion"
   ]
  },
  {
   "cell_type": "code",
   "execution_count": 8,
   "metadata": {},
   "outputs": [
    {
     "name": "stdout",
     "output_type": "stream",
     "text": [
      "🗺️ QGroundControl launched for 2D visualization — simulation powered by ArduPilot SITL.\n",
      "🚀 ArduPilot SITL vehicle 1 launched (PID 248768)\n",
      "🚀 ArduPilot SITL vehicle 2 launched (PID 248770)\n",
      "🚀 ArduPilot SITL vehicle 4 launched (PID 248774)\n",
      "🚀 ArduPilot SITL vehicle 3 launched (PID 248772)\n",
      "🚀 UAV logic for vehicle 1 launched (PID 248776)\n",
      "🚀 ArduPilot SITL vehicle 5 launched (PID 248775)\n",
      "🚀 UAV logic for vehicle 2 launched (PID 248777)\n",
      "🚀 UAV logic for vehicle 5 launched (PID 248783)\n",
      "🚀 UAV logic for vehicle 4 launched (PID 248778)\n",
      "🚀 UAV logic for vehicle 3 launched (PID 248779)\n",
      "🚀 Proxy for vehicle 1 launched (PID 248782)\n",
      "🔗 UAV logic 1 is connected to Ardupilot SITL vehicle 1\n",
      "🚀 Proxy for vehicle 2 launched (PID 248788)\n",
      "🔗 UAV logic 2 is connected to Ardupilot SITL vehicle 2\n",
      "🚀 Proxy for vehicle 5 launched (PID 248792)\n",
      "🔗 UAV logic 5 is connected to Ardupilot SITL vehicle 5\n",
      "🚀 Proxy for vehicle 4 launched (PID 248794)\n",
      "🔗 UAV logic 4 is connected to Ardupilot SITL vehicle 4\n",
      "🚀 Proxy for vehicle 3 launched (PID 248795)\n",
      "🔗 UAV logic 3 is connected to Ardupilot SITL vehicle 3\n",
      "SIM_VEHICLE: Start\n",
      "SIM_VEHICLE: Starting up at [-35.36319325192571, 149.1652241, 0.0, 90.0]\n",
      "SIM_VEHICLE: Using defaults from (../../ardupilot/Tools/autotest/default_params/copter.parm)\n",
      "SIM_VEHICLE: Adding parameters from (/home/abeldg/uav-cyber-sim/params/vehicle.parm)\n",
      "SIM_VEHICLE: Start\n",
      "SIM_VEHICLE: Starting up at [-35.36328308377532, 149.16544441189762, 0.0, 90.0]\n",
      "SIM_VEHICLE: Using defaults from (../../ardupilot/Tools/autotest/default_params/copter.parm)\n",
      "SIM_VEHICLE: Adding parameters from (/home/abeldg/uav-cyber-sim/params/vehicle.parm)\n",
      "Setting SIM_SPEEDUP=1.000000\n",
      "Setting SIM_SPEEDUP=1.000000\n",
      "Setting MAV_SYSID=5\n",
      "Suggested EK3_DRAG_BCOEF_* = 17.209, EK3_DRAG_MCOEF = 0.209\n",
      "Home: -35.363283 149.165444 alt=0.000000m hdg=90.000000\n",
      "Starting sketch 'ArduCopter'\n",
      "Starting SITL input\n",
      "Using Irlock at port : 9045\n",
      "Waiting for connection ....\n",
      "Setting MAV_SYSID=2\n",
      "Suggested EK3_DRAG_BCOEF_* = 17.209, EK3_DRAG_MCOEF = 0.209\n",
      "Home: -35.363193 149.165224 alt=0.000000m hdg=90.000000\n",
      "Starting sketch 'ArduCopter'\n",
      "Starting SITL input\n",
      "Using Irlock at port : 9015\n",
      "Waiting for connection ....\n",
      "SIM_VEHICLE: Start\n",
      "SIM_VEHICLE: Starting up at [-35.363462748074305, 149.1652241, 0.0, 135.0]\n",
      "SIM_VEHICLE: Using defaults from (../../ardupilot/Tools/autotest/default_params/copter.parm)\n",
      "SIM_VEHICLE: Adding parameters from (/home/abeldg/uav-cyber-sim/params/vehicle.parm)\n",
      "Setting SIM_SPEEDUP=1.000000\n",
      "Setting MAV_SYSID=4\n",
      "Suggested EK3_DRAG_BCOEF_* = 17.209, EK3_DRAG_MCOEF = 0.209\n",
      "Home: -35.363463 149.165224 alt=0.000000m hdg=135.000000\n",
      "Starting sketch 'ArduCopter'\n",
      "Starting SITL input\n",
      "Using Irlock at port : 9035\n",
      "Waiting for connection ....\n",
      "SIM_VEHICLE: Start\n",
      "SIM_VEHICLE: Killing tasks\n",
      "SIM_VEHICLE: Start\n",
      "SIM_VEHICLE: Starting up at [-35.36346274796185, 149.16538933429092, 0.0, 90.0]\n",
      "SIM_VEHICLE: Using defaults from (../../ardupilot/Tools/autotest/default_params/copter.parm)\n",
      "SIM_VEHICLE: Adding parameters from (/home/abeldg/uav-cyber-sim/params/vehicle.parm)\n",
      "Setting SIM_SPEEDUP=1.000000\n",
      "Setting MAV_SYSID=3\n",
      "Suggested EK3_DRAG_BCOEF_* = 17.209, EK3_DRAG_MCOEF = 0.209\n",
      "Home: -35.363463 149.165389 alt=0.000000m hdg=90.000000\n",
      "Starting sketch 'ArduCopter'\n",
      "Starting SITL input\n",
      "Using Irlock at port : 9025\n",
      "Waiting for connection ....\n",
      "SIM_VEHICLE: Starting up at [-35.363328, 149.1652241, 0.0, 90.0]\n",
      "SIM_VEHICLE: Using defaults from (../../ardupilot/Tools/autotest/default_params/copter.parm)\n",
      "SIM_VEHICLE: Adding parameters from (/home/abeldg/uav-cyber-sim/params/vehicle.parm)\n",
      "Setting SIM_SPEEDUP=1.000000\n",
      "Setting MAV_SYSID=1\n",
      "Suggested EK3_DRAG_BCOEF_* = 17.209, EK3_DRAG_MCOEF = 0.209\n",
      "Home: -35.363328 149.165224 alt=0.000000m hdg=90.000000\n",
      "Starting sketch 'ArduCopter'\n",
      "Starting SITL input\n",
      "Using Irlock at port : 9005\n",
      "Waiting for connection ....\n"
     ]
    },
    {
     "name": "stderr",
     "output_type": "stream",
     "text": [
      "bind port 5900 for SERIAL0\n",
      "SERIAL0 on TCP port 5900\n",
      "bind port 5870 for SERIAL0\n",
      "SERIAL0 on TCP port 5870\n",
      "bind port 5890 for SERIAL0\n",
      "SERIAL0 on TCP port 5890\n",
      "bind port 5880 for SERIAL0\n",
      "SERIAL0 on TCP port 5880\n",
      "bind port 5860 for SERIAL0\n",
      "SERIAL0 on TCP port 5860\n"
     ]
    },
    {
     "name": "stdout",
     "output_type": "stream",
     "text": [
      "System id: 3\n",
      "System id: 5\n",
      "Connection on serial port 5900\n",
      "[Errno 111] Connection refused sleeping\n",
      "Loaded defaults from ../../ardupilot/Tools/autotest/default_params/copter.parm,/home/abeldg/uav-cyber-sim/params/vehicle.parm\n",
      "Smoothing reset at 0.001\n",
      "Loaded defaults from ../../ardupilot/Tools/autotest/default_params/copter.parm,/home/abeldg/uav-cyber-sim/params/vehicle.parm\n",
      "Loaded defaults from ../../ardupilot/Tools/autotest/default_params/copter.parm,/home/abeldg/uav-cyber-sim/params/vehicle.parm\n",
      "Loaded defaults from ../../ardupilot/Tools/autotest/default_params/copter.parm,/home/abeldg/uav-cyber-sim/params/vehicle.parm\n",
      "Loaded defaults from ../../ardupilot/Tools/autotest/default_params/copter.parm,/home/abeldg/uav-cyber-sim/params/vehicle.parm\n",
      "Loaded defaults from ../../ardupilot/Tools/autotest/default_params/copter.parm,/home/abeldg/uav-cyber-sim/params/vehicle.parm\n",
      "Loaded defaults from ../../ardupilot/Tools/autotest/default_params/copter.parm,/home/abeldg/uav-cyber-sim/params/vehicle.parm\n",
      "Loaded defaults from ../../ardupilot/Tools/autotest/default_params/copter.parm,/home/abeldg/uav-cyber-sim/params/vehicle.parm\n",
      "Loaded defaults from ../../ardupilot/Tools/autotest/default_params/copter.parm,/home/abeldg/uav-cyber-sim/params/vehicle.parm\n",
      "Loaded defaults from ../../ardupilot/Tools/autotest/default_params/copter.parm,/home/abeldg/uav-cyber-sim/params/vehicle.parm\n",
      "Loaded defaults from ../../ardupilot/Tools/autotest/default_params/copter.parm,/home/abeldg/uav-cyber-sim/params/vehicle.parm\n",
      "Loaded defaults from ../../ardupilot/Tools/autotest/default_params/copter.parm,/home/abeldg/uav-cyber-sim/params/vehicle.parm\n",
      "Loaded defaults from ../../ardupilot/Tools/autotest/default_params/copter.parm,/home/abeldg/uav-cyber-sim/params/vehicle.parm\n",
      "Loaded defaults from ../../ardupilot/Tools/autotest/default_params/copter.parm,/home/abeldg/uav-cyber-sim/params/vehicle.parm\n",
      "Loaded defaults from ../../ardupilot/Tools/autotest/default_params/copter.parm,/home/abeldg/uav-cyber-sim/params/vehicle.parm\n",
      "Loaded defaults from ../../ardupilot/Tools/autotest/default_params/copter.parm,/home/abeldg/uav-cyber-sim/params/vehicle.parm\n",
      "Loaded defaults from ../../ardupilot/Tools/autotest/default_params/copter.parm,/home/abeldg/uav-cyber-sim/params/vehicle.parm\n",
      "Loaded defaults from ../../ardupilot/Tools/autotest/default_params/copter.parm,/home/abeldg/uav-cyber-sim/params/vehicle.parm\n",
      "Loaded defaults from ../../ardupilot/Tools/autotest/default_params/copter.parm,/home/abeldg/uav-cyber-sim/params/vehicle.parm\n",
      "Loaded defaults from ../../ardupilot/Tools/autotest/default_params/copter.parm,/home/abeldg/uav-cyber-sim/params/vehicle.parm\n",
      "Loaded defaults from ../../ardupilot/Tools/autotest/default_params/copter.parm,/home/abeldg/uav-cyber-sim/params/vehicle.parm\n",
      "Loaded defaults from ../../ardupilot/Tools/autotest/default_params/copter.parm,/home/abeldg/uav-cyber-sim/params/vehicle.parm\n",
      "Loaded defaults from ../../ardupilot/Tools/autotest/default_params/copter.parm,/home/abeldg/uav-cyber-sim/params/vehicle.parm\n",
      "Loaded defaults from ../../ardupilot/Tools/autotest/default_params/copter.parm,/home/abeldg/uav-cyber-sim/params/vehicle.parm\n",
      "System id: 4\n",
      "System id: 5\n",
      "System id: 3\n",
      "Connection on serial port 5880\n",
      "\n",
      "🚀 Starting Proxy 3\n",
      "Loaded defaults from ../../ardupilot/Tools/autotest/default_params/copter.parm,/home/abeldg/uav-cyber-sim/params/vehicle.parm\n",
      "Smoothing reset at 0.001\n",
      "Loaded defaults from ../../ardupilot/Tools/autotest/default_params/copter.parm,/home/abeldg/uav-cyber-sim/params/vehicle.parm\n",
      "Loaded defaults from ../../ardupilot/Tools/autotest/default_params/copter.parm,/home/abeldg/uav-cyber-sim/params/vehicle.parm\n",
      "Loaded defaults from ../../ardupilot/Tools/autotest/default_params/copter.parm,/home/abeldg/uav-cyber-sim/params/vehicle.parm\n",
      "Loaded defaults from ../../ardupilot/Tools/autotest/default_params/copter.parm,/home/abeldg/uav-cyber-sim/params/vehicle.parm\n",
      "Loaded defaults from ../../ardupilot/Tools/autotest/default_params/copter.parm,/home/abeldg/uav-cyber-sim/params/vehicle.parm\n",
      "Loaded defaults from ../../ardupilot/Tools/autotest/default_params/copter.parm,/home/abeldg/uav-cyber-sim/params/vehicle.parm\n",
      "Loaded defaults from ../../ardupilot/Tools/autotest/default_params/copter.parm,/home/abeldg/uav-cyber-sim/params/vehicle.parm\n",
      "Loaded defaults from ../../ardupilot/Tools/autotest/default_params/copter.parm,/home/abeldg/uav-cyber-sim/params/vehicle.parm\n",
      "Loaded defaults from ../../ardupilot/Tools/autotest/default_params/copter.parm,/home/abeldg/uav-cyber-sim/params/vehicle.parm\n",
      "Loaded defaults from ../../ardupilot/Tools/autotest/default_params/copter.parm,/home/abeldg/uav-cyber-sim/params/vehicle.parm\n",
      "Loaded defaults from ../../ardupilot/Tools/autotest/default_params/copter.parm,/home/abeldg/uav-cyber-sim/params/vehicle.parm\n",
      "Loaded defaults from ../../ardupilot/Tools/autotest/default_params/copter.parm,/home/abeldg/uav-cyber-sim/params/vehicle.parm\n",
      "Loaded defaults from ../../ardupilot/Tools/autotest/default_params/copter.parm,/home/abeldg/uav-cyber-sim/params/vehicle.parm\n",
      "Loaded defaults from ../../ardupilot/Tools/autotest/default_params/copter.parm,/home/abeldg/uav-cyber-sim/params/vehicle.parm\n",
      "System id: 2\n",
      "Loaded defaults from ../../ardupilot/Tools/autotest/default_params/copter.parm,/home/abeldg/uav-cyber-sim/params/vehicle.parm\n",
      "Loaded defaults from ../../ardupilot/Tools/autotest/default_params/copter.parm,/home/abeldg/uav-cyber-sim/params/vehicle.parm\n",
      "Loaded defaults from ../../ardupilot/Tools/autotest/default_params/copter.parm,/home/abeldg/uav-cyber-sim/params/vehicle.parm\n",
      "System id: 4\n",
      "Connection on serial port 5890\n",
      "\n",
      "🚀 Starting Proxy 4\n",
      "Loaded defaults from ../../ardupilot/Tools/autotest/default_params/copter.parm,/home/abeldg/uav-cyber-sim/params/vehicle.parm\n",
      "Loaded defaults from ../../ardupilot/Tools/autotest/default_params/copter.parm,/home/abeldg/uav-cyber-sim/params/vehicle.parm\n",
      "Loaded defaults from ../../ardupilot/Tools/autotest/default_params/copter.parm,/home/abeldg/uav-cyber-sim/params/vehicle.parm\n",
      "Smoothing reset at 0.001\n",
      "Loaded defaults from ../../ardupilot/Tools/autotest/default_params/copter.parm,/home/abeldg/uav-cyber-sim/params/vehicle.parm\n",
      "Loaded defaults from ../../ardupilot/Tools/autotest/default_params/copter.parm,/home/abeldg/uav-cyber-sim/params/vehicle.parm\n",
      "Loaded defaults from ../../ardupilot/Tools/autotest/default_params/copter.parm,/home/abeldg/uav-cyber-sim/params/vehicle.parm\n",
      "Loaded defaults from ../../ardupilot/Tools/autotest/default_params/copter.parm,/home/abeldg/uav-cyber-sim/params/vehicle.parm\n",
      "Loaded defaults from ../../ardupilot/Tools/autotest/default_params/copter.parm,/home/abeldg/uav-cyber-sim/params/vehicle.parm\n",
      "System id: 1\n",
      "Connection on serial port 5860\n",
      "[Errno 111] Connection refused sleeping\n",
      "Loaded defaults from ../../ardupilot/Tools/autotest/default_params/copter.parm,/home/abeldg/uav-cyber-sim/params/vehicle.parm\n",
      "Smoothing reset at 0.001\n",
      "System id: 2\n",
      "Connection on serial port 5870\n",
      "Loaded defaults from ../../ardupilot/Tools/autotest/default_params/copter.parm,/home/abeldg/uav-cyber-sim/params/vehicle.parm\n",
      "\n",
      "🚀 Starting Proxy 2\n",
      "Loaded defaults from ../../ardupilot/Tools/autotest/default_params/copter.parm,/home/abeldg/uav-cyber-sim/params/vehicle.parm\n",
      "Loaded defaults from ../../ardupilot/Tools/autotest/default_params/copter.parm,/home/abeldg/uav-cyber-sim/params/vehicle.parm\n",
      "Smoothing reset at 0.001\n",
      "Loaded defaults from ../../ardupilot/Tools/autotest/default_params/copter.parm,/home/abeldg/uav-cyber-sim/params/vehicle.parm\n",
      "Loaded defaults from ../../ardupilot/Tools/autotest/default_params/copter.parm,/home/abeldg/uav-cyber-sim/params/vehicle.parm\n",
      "Loaded defaults from ../../ardupilot/Tools/autotest/default_params/copter.parm,/home/abeldg/uav-cyber-sim/params/vehicle.parm\n",
      "Loaded defaults from ../../ardupilot/Tools/autotest/default_params/copter.parm,/home/abeldg/uav-cyber-sim/params/vehicle.parm\n",
      "Loaded defaults from ../../ardupilot/Tools/autotest/default_params/copter.parm,/home/abeldg/uav-cyber-sim/params/vehicle.parm\n",
      "System id: 1\n",
      "Loaded defaults from ../../ardupilot/Tools/autotest/default_params/copter.parm,/home/abeldg/uav-cyber-sim/params/vehicle.parm\n",
      "Loaded defaults from ../../ardupilot/Tools/autotest/default_params/copter.parm,/home/abeldg/uav-cyber-sim/params/vehicle.parm\n",
      "Loaded defaults from ../../ardupilot/Tools/autotest/default_params/copter.parm,/home/abeldg/uav-cyber-sim/params/vehicle.parm\n",
      "Loaded defaults from ../../ardupilot/Tools/autotest/default_params/copter.parm,/home/abeldg/uav-cyber-sim/params/vehicle.parm\n",
      "Loaded defaults from ../../ardupilot/Tools/autotest/default_params/copter.parm,/home/abeldg/uav-cyber-sim/params/vehicle.parm\n",
      "Loaded defaults from ../../ardupilot/Tools/autotest/default_params/copter.parm,/home/abeldg/uav-cyber-sim/params/vehicle.parm\n",
      "Loaded defaults from ../../ardupilot/Tools/autotest/default_params/copter.parm,/home/abeldg/uav-cyber-sim/params/vehicle.parm\n",
      "Loaded defaults from ../../ardupilot/Tools/autotest/default_params/copter.parm,/home/abeldg/uav-cyber-sim/params/vehicle.parm\n",
      "Loaded defaults from ../../ardupilot/Tools/autotest/default_params/copter.parm,/home/abeldg/uav-cyber-sim/params/vehicle.parm\n",
      "Loaded defaults from ../../ardupilot/Tools/autotest/default_params/copter.parm,/home/abeldg/uav-cyber-sim/params/vehicle.parm\n",
      "Loaded defaults from ../../ardupilot/Tools/autotest/default_params/copter.parm,/home/abeldg/uav-cyber-sim/params/vehicle.parm\n",
      "Loaded defaults from ../../ardupilot/Tools/autotest/default_params/copter.parm,/home/abeldg/uav-cyber-sim/params/vehicle.parm\n",
      "Loaded defaults from ../../ardupilot/Tools/autotest/default_params/copter.parm,/home/abeldg/uav-cyber-sim/params/vehicle.parm\n",
      "Loaded defaults from ../../ardupilot/Tools/autotest/default_params/copter.parm,/home/abeldg/uav-cyber-sim/params/vehicle.parm\n",
      "Loaded defaults from ../../ardupilot/Tools/autotest/default_params/copter.parm,/home/abeldg/uav-cyber-sim/params/vehicle.parm\n",
      "Loaded defaults from ../../ardupilot/Tools/autotest/default_params/copter.parm,/home/abeldg/uav-cyber-sim/params/vehicle.parm\n",
      "Loaded defaults from ../../ardupilot/Tools/autotest/default_params/copter.parm,/home/abeldg/uav-cyber-sim/params/vehicle.parm\n",
      "Loaded defaults from ../../ardupilot/Tools/autotest/default_params/copter.parm,/home/abeldg/uav-cyber-sim/params/vehicle.parm\n",
      "Loaded defaults from ../../ardupilot/Tools/autotest/default_params/copter.parm,/home/abeldg/uav-cyber-sim/params/vehicle.parm\n",
      "Loaded defaults from ../../ardupilot/Tools/autotest/default_params/copter.parm,/home/abeldg/uav-cyber-sim/params/vehicle.parm\n",
      "Loaded defaults from ../../ardupilot/Tools/autotest/default_params/copter.parm,/home/abeldg/uav-cyber-sim/params/vehicle.parm\n",
      "Loaded defaults from ../../ardupilot/Tools/autotest/default_params/copter.parm,/home/abeldg/uav-cyber-sim/params/vehicle.parm\n",
      "Loaded defaults from ../../ardupilot/Tools/autotest/default_params/copter.parm,/home/abeldg/uav-cyber-sim/params/vehicle.parm\n",
      "Loaded defaults from ../../ardupilot/Tools/autotest/default_params/copter.parm,/home/abeldg/uav-cyber-sim/params/vehicle.parm\n",
      "Loaded defaults from ../../ardupilot/Tools/autotest/default_params/copter.parm,/home/abeldg/uav-cyber-sim/params/vehicle.parm\n",
      "Loaded defaults from ../../ardupilot/Tools/autotest/default_params/copter.parm,/home/abeldg/uav-cyber-sim/params/vehicle.parm\n",
      "Loaded defaults from ../../ardupilot/Tools/autotest/default_params/copter.parm,/home/abeldg/uav-cyber-sim/params/vehicle.parm\n",
      "Loaded defaults from ../../ardupilot/Tools/autotest/default_params/copter.parm,/home/abeldg/uav-cyber-sim/params/vehicle.parm\n",
      "Loaded defaults from ../../ardupilot/Tools/autotest/default_params/copter.parm,/home/abeldg/uav-cyber-sim/params/vehicle.parm\n",
      "Loaded defaults from ../../ardupilot/Tools/autotest/default_params/copter.parm,/home/abeldg/uav-cyber-sim/params/vehicle.parm\n",
      "Loaded defaults from ../../ardupilot/Tools/autotest/default_params/copter.parm,/home/abeldg/uav-cyber-sim/params/vehicle.parm\n",
      "Loaded defaults from ../../ardupilot/Tools/autotest/default_params/copter.parm,/home/abeldg/uav-cyber-sim/params/vehicle.parm\n",
      "Loaded defaults from ../../ardupilot/Tools/autotest/default_params/copter.parm,/home/abeldg/uav-cyber-sim/params/vehicle.parm\n",
      "Loaded defaults from ../../ardupilot/Tools/autotest/default_params/copter.parm,/home/abeldg/uav-cyber-sim/params/vehicle.parm\n",
      "Loaded defaults from ../../ardupilot/Tools/autotest/default_params/copter.parm,/home/abeldg/uav-cyber-sim/params/vehicle.parm\n",
      "Loaded defaults from ../../ardupilot/Tools/autotest/default_params/copter.parm,/home/abeldg/uav-cyber-sim/params/vehicle.parm\n",
      "Loaded defaults from ../../ardupilot/Tools/autotest/default_params/copter.parm,/home/abeldg/uav-cyber-sim/params/vehicle.parm\n",
      "Loaded defaults from ../../ardupilot/Tools/autotest/default_params/copter.parm,/home/abeldg/uav-cyber-sim/params/vehicle.parm\n",
      "Loaded defaults from ../../ardupilot/Tools/autotest/default_params/copter.parm,/home/abeldg/uav-cyber-sim/params/vehicle.parm\n",
      "Loaded defaults from ../../ardupilot/Tools/autotest/default_params/copter.parm,/home/abeldg/uav-cyber-sim/params/vehicle.parm\n",
      "Loaded defaults from ../../ardupilot/Tools/autotest/default_params/copter.parm,/home/abeldg/uav-cyber-sim/params/vehicle.parm\n",
      "Loaded defaults from ../../ardupilot/Tools/autotest/default_params/copter.parm,/home/abeldg/uav-cyber-sim/params/vehicle.parm\n",
      "Loaded defaults from ../../ardupilot/Tools/autotest/default_params/copter.parm,/home/abeldg/uav-cyber-sim/params/vehicle.parm\n",
      "Loaded defaults from ../../ardupilot/Tools/autotest/default_params/copter.parm,/home/abeldg/uav-cyber-sim/params/vehicle.parm\n",
      "Loaded defaults from ../../ardupilot/Tools/autotest/default_params/copter.parm,/home/abeldg/uav-cyber-sim/params/vehicle.parm\n",
      "Loaded defaults from ../../ardupilot/Tools/autotest/default_params/copter.parm,/home/abeldg/uav-cyber-sim/params/vehicle.parm\n",
      "Loaded defaults from ../../ardupilot/Tools/autotest/default_params/copter.parm,/home/abeldg/uav-cyber-sim/params/vehicle.parm\n",
      "Loaded defaults from ../../ardupilot/Tools/autotest/default_params/copter.parm,/home/abeldg/uav-cyber-sim/params/vehicle.parm\n",
      "Loaded defaults from ../../ardupilot/Tools/autotest/default_params/copter.parm,/home/abeldg/uav-cyber-sim/params/vehicle.parm\n",
      "Loaded defaults from ../../ardupilot/Tools/autotest/default_params/copter.parm,/home/abeldg/uav-cyber-sim/params/vehicle.parm\n",
      "Loaded defaults from ../../ardupilot/Tools/autotest/default_params/copter.parm,/home/abeldg/uav-cyber-sim/params/vehicle.parm\n",
      "Loaded defaults from ../../ardupilot/Tools/autotest/default_params/copter.parm,/home/abeldg/uav-cyber-sim/params/vehicle.parm\n",
      "Loaded defaults from ../../ardupilot/Tools/autotest/default_params/copter.parm,/home/abeldg/uav-cyber-sim/params/vehicle.parm\n",
      "Loaded defaults from ../../ardupilot/Tools/autotest/default_params/copter.parm,/home/abeldg/uav-cyber-sim/params/vehicle.parm\n",
      "Loaded defaults from ../../ardupilot/Tools/autotest/default_params/copter.parm,/home/abeldg/uav-cyber-sim/params/vehicle.parm\n",
      "Loaded defaults from ../../ardupilot/Tools/autotest/default_params/copter.parm,/home/abeldg/uav-cyber-sim/params/vehicle.parm\n",
      "Loaded defaults from ../../ardupilot/Tools/autotest/default_params/copter.parm,/home/abeldg/uav-cyber-sim/params/vehicle.parm\n",
      "Loaded defaults from ../../ardupilot/Tools/autotest/default_params/copter.parm,/home/abeldg/uav-cyber-sim/params/vehicle.parm\n",
      "Loaded defaults from ../../ardupilot/Tools/autotest/default_params/copter.parm,/home/abeldg/uav-cyber-sim/params/vehicle.parm\n",
      "Loaded defaults from ../../ardupilot/Tools/autotest/default_params/copter.parm,/home/abeldg/uav-cyber-sim/params/vehicle.parm\n",
      "Loaded defaults from ../../ardupilot/Tools/autotest/default_params/copter.parm,/home/abeldg/uav-cyber-sim/params/vehicle.parm\n"
     ]
    },
    {
     "name": "stderr",
     "output_type": "stream",
     "text": [
      "bind port 5902 for SERIAL1\n",
      "SERIAL1 on TCP port 5902\n",
      "bind port 5903 for SERIAL2\n",
      "SERIAL2 on TCP port 5903\n",
      "validate_structures:528: Validating structures\n",
      "Waiting for internal clock bits to be set (current=0x00)\n",
      "bind port 5882 for SERIAL1\n",
      "SERIAL1 on TCP port 5882\n",
      "bind port 5883 for SERIAL2\n",
      "SERIAL2 on TCP port 5883\n",
      "validate_structures:528: Validating structures\n",
      "Waiting for internal clock bits to be set (current=0x00)\n",
      "bind port 5892 for SERIAL1\n",
      "SERIAL1 on TCP port 5892\n",
      "bind port 5893 for SERIAL2\n",
      "SERIAL2 on TCP port 5893\n",
      "validate_structures:528: Validating structures\n",
      "Waiting for internal clock bits to be set (current=0x00)\n",
      "bind port 5862 for SERIAL1\n",
      "SERIAL1 on TCP port 5862\n",
      "bind port 5863 for SERIAL2\n",
      "SERIAL2 on TCP port 5863\n",
      "validate_structures:528: Validating structures\n",
      "bind port 5872 for SERIAL1\n",
      "SERIAL1 on TCP port 5872\n",
      "bind port 5873 for SERIAL2\n",
      "SERIAL2 on TCP port 5873\n",
      "Waiting for internal clock bits to be set (current=0x00)\n",
      "validate_structures:528: Validating structures\n",
      "Waiting for internal clock bits to be set (current=0x00)\n"
     ]
    },
    {
     "name": "stdout",
     "output_type": "stream",
     "text": [
      "🔗 UAV logic 3 is connected to Oracle ⚪\n",
      "✅ Heartbeat received\n",
      "\n",
      "🚀 Starting Vehicle 3 logic\n",
      "Vehicle 3: ▶️ Plan Started: 📋 auto\n",
      "Vehicle 3: ▶️ Action Started: 📤 UPLOAD_MISSION\n",
      "Vehicle 3: ▶️ Step Started: clear uav missions\n",
      "🔗 UAV logic 2 is connected to Oracle ⚪\n",
      "✅ Heartbeat received\n",
      "\n",
      "🚀 Starting Vehicle 2 logic\n",
      "Vehicle 2: ▶️ Plan Started: 📋 auto\n",
      "🔗 UAV logic 4 is connected to Oracle ⚪\n",
      "✅ Heartbeat received\n",
      "\n",
      "🚀 Starting Vehicle 4 logic\n",
      "Vehicle 4: ▶️ Plan Started: 📋 auto\n",
      "Vehicle 2: ▶️ Action Started: 📤 UPLOAD_MISSION\n",
      "Vehicle 4: ▶️ Action Started: 📤 UPLOAD_MISSION\n",
      "Vehicle 2: ▶️ Step Started: clear uav missions\n",
      "Vehicle 4: ▶️ Step Started: clear uav missions\n",
      "\n",
      "🚀 Starting Proxy 5\n",
      "🔗 UAV logic 5 is connected to Oracle ⚪\n",
      "✅ Heartbeat received\n",
      "\n",
      "🚀 Starting Vehicle 5 logic\n",
      "Vehicle 5: ▶️ Plan Started: 📋 auto\n",
      "Vehicle 5: ▶️ Action Started: 📤 UPLOAD_MISSION\n",
      "Vehicle 5: ▶️ Step Started: clear uav missions\n",
      "\n",
      "🚀 Starting Proxy 1\n",
      "🔗 UAV logic 1 is connected to Oracle ⚪\n",
      "🚀 GCS blue 🟦 launched (PID 249603)\n",
      "✅ Heartbeat received\n",
      "\n",
      "🚀 Starting Vehicle 1 logic\n",
      "Vehicle 1: ▶️ Plan Started: 📋 auto\n"
     ]
    }
   ],
   "source": [
    "simulator = Simulator(\n",
    "\tvisualizers=[qgc],\n",
    "\tmission_names=[f\"square_{i + 1}\" for i in range(n_uavs)],\n",
    "\tterminals=False,\n",
    "\tverbose=1,\n",
    ")\n",
    "orac = simulator.launch(gcs_sysids={'blue 🟦': [1,2,3,4,5]})"
   ]
  },
  {
   "cell_type": "markdown",
   "metadata": {},
   "source": [
    "## Oracle checking"
   ]
  },
  {
   "cell_type": "code",
   "execution_count": null,
   "metadata": {},
   "outputs": [
    {
     "name": "stdout",
     "output_type": "stream",
     "text": [
      "Vehicle 1: ▶️ Action Started: 📤 UPLOAD_MISSION\n",
      "Vehicle 1: ▶️ Step Started: clear uav missions\n",
      "🔗 UAV logic 1 is connected\n",
      "🔗 UAV logic 2 is connected\n",
      "🔗 UAV logic 3 is connected\n",
      "🔗 UAV logic 4 is connected\n",
      "Vehicle 5: ✅ Step Done: clear uav missions\n",
      "Vehicle 5: ✅ 7 waypoints read.\n",
      "Vehicle 3: ✅ Step Done: clear uav missions\n",
      "Vehicle 4: ✅ Step Done: clear uav missions\n",
      "Vehicle 1: ✅ Step Done: clear uav missions\n",
      "Vehicle 3: ✅ 7 waypoints read.\n",
      "Vehicle 2: ✅ Step Done: clear uav missions\n",
      "Vehicle 4: ✅ 7 waypoints read.\n",
      "Vehicle 1: ✅ 7 waypoints read.\n",
      "Vehicle 2: ✅ 7 waypoints read.\n",
      "SIM_VEHICLE: Waiting for SITL to exit\n",
      "SIM_VEHICLE: Waiting for SITL to exit\n",
      "SIM_VEHICLE: Waiting for SITL to exit\n",
      "SIM_VEHICLE: Waiting for SITL to exit\n",
      "SIM_VEHICLE: Waiting for SITL to exit\n",
      "🔗 UAV logic 5 is connected\n",
      "New connection on SERIAL1\n",
      "New connection on SERIAL1\n",
      "New connection on SERIAL1\n",
      "New connection on SERIAL1\n",
      "New connection on SERIAL1\n",
      "Vehicle 5: ✅ Sent mission item 0\n",
      "Vehicle 5: ✅ Sent mission item 1\n",
      "Vehicle 3: ✅ Sent mission item 0\n",
      "Vehicle 4: ✅ Sent mission item 0\n",
      "Vehicle 5: ✅ Sent mission item 2\n",
      "Vehicle 1: ✅ Sent mission item 0\n",
      "Vehicle 3: ✅ Sent mission item 1\n",
      "Vehicle 2: ✅ Sent mission item 0\n",
      "Vehicle 4: ✅ Sent mission item 1\n",
      "Vehicle 5: ✅ Sent mission item 3\n",
      "Vehicle 1: ✅ Sent mission item 1\n",
      "Vehicle 3: ✅ Sent mission item 2\n",
      "Vehicle 2: ✅ Sent mission item 1\n",
      "Vehicle 4: ✅ Sent mission item 2\n",
      "Vehicle 5: ✅ Sent mission item 4\n",
      "Vehicle 1: ✅ Sent mission item 2\n",
      "Vehicle 3: ✅ Sent mission item 3\n",
      "Vehicle 2: ✅ Sent mission item 2\n",
      "Vehicle 4: ✅ Sent mission item 3\n",
      "Vehicle 5: ✅ Sent mission item 5\n",
      "Vehicle 1: ✅ Sent mission item 3\n",
      "Vehicle 3: ✅ Sent mission item 4\n",
      "Vehicle 2: ✅ Sent mission item 3\n",
      "Vehicle 4: ✅ Sent mission item 4\n",
      "Vehicle 5: ✅ Sent mission item 6\n",
      "Vehicle 5: ▶️ Step Started: load mission square_5\n",
      "Vehicle 1: ✅ Sent mission item 4\n",
      "Vehicle 3: ✅ Sent mission item 5\n",
      "Vehicle 2: ✅ Sent mission item 4\n",
      "Vehicle 4: ✅ Sent mission item 5\n",
      "Vehicle 5: ✅ Mission upload successful!\n",
      "Vehicle 5: ✅ Step Done: load mission square_5\n",
      "Vehicle 5: ✅ Action Done: 📤 UPLOAD_MISSION\n",
      "Vehicle 1: ✅ Sent mission item 5\n",
      "Vehicle 3: ✅ Sent mission item 6\n",
      "Vehicle 3: ▶️ Step Started: load mission square_3\n",
      "Vehicle 2: ✅ Sent mission item 5\n",
      "Vehicle 4: ✅ Sent mission item 6\n",
      "Vehicle 4: ▶️ Step Started: load mission square_4\n",
      "Vehicle 5: ▶️ Action Started: 🔧 PREARM\n",
      "Vehicle 1: ✅ Sent mission item 6\n",
      "Vehicle 1: ▶️ Step Started: load mission square_1\n",
      "Vehicle 3: ✅ Mission upload successful!\n",
      "Vehicle 3: ✅ Step Done: load mission square_3\n",
      "Vehicle 2: ✅ Sent mission item 6\n",
      "Vehicle 2: ▶️ Step Started: load mission square_2\n",
      "Vehicle 4: ✅ Mission upload successful!\n",
      "Vehicle 4: ✅ Step Done: load mission square_4\n",
      "Vehicle 5: ▶️ Step Started: Check disarmed\n",
      "Vehicle 3: ✅ Action Done: 📤 UPLOAD_MISSION\n",
      "Vehicle 4: ✅ Action Done: 📤 UPLOAD_MISSION\n",
      "Vehicle 1: ✅ Mission upload successful!\n",
      "Vehicle 1: ✅ Step Done: load mission square_1\n",
      "Vehicle 2: ✅ Mission upload successful!\n",
      "Vehicle 2: ✅ Step Done: load mission square_2\n",
      "Vehicle 1: ✅ Action Done: 📤 UPLOAD_MISSION\n",
      "Vehicle 3: ▶️ Action Started: 🔧 PREARM\n",
      "Vehicle 2: ✅ Action Done: 📤 UPLOAD_MISSION\n",
      "Vehicle 4: ▶️ Action Started: 🔧 PREARM\n",
      "Vehicle 3: ▶️ Step Started: Check disarmed\n",
      "Vehicle 4: ▶️ Step Started: Check disarmed\n",
      "Vehicle 1: ▶️ Action Started: 🔧 PREARM\n",
      "Vehicle 2: ▶️ Action Started: 🔧 PREARM\n",
      "Vehicle 1: ▶️ Step Started: Check disarmed\n",
      "Vehicle 2: ▶️ Step Started: Check disarmed\n",
      "Vehicle 4: ❌ Step Check disarmed check failed: UAV is already armed\n",
      "Vehicle 5: ❌ Step Check disarmed check failed: UAV is already armed\n",
      "Vehicle 1: ❌ Step Check disarmed check failed: UAV is already armed\n",
      "Vehicle 3: ❌ Step Check disarmed check failed: UAV is already armed\n",
      "Vehicle 2: ❌ Step Check disarmed check failed: UAV is already armed\n",
      "Vehicle 4: ▶️ Step Started: Check disarmed\n",
      "Vehicle 5: ▶️ Step Started: Check disarmed\n",
      "Vehicle 1: ▶️ Step Started: Check disarmed\n",
      "Vehicle 3: ▶️ Step Started: Check disarmed\n",
      "Vehicle 2: ▶️ Step Started: Check disarmed\n",
      "Vehicle 4: ❌ Step Check disarmed check failed: UAV is already armed\n",
      "Vehicle 5: ❌ Step Check disarmed check failed: UAV is already armed\n",
      "Vehicle 1: ❌ Step Check disarmed check failed: UAV is already armed\n",
      "Vehicle 3: ❌ Step Check disarmed check failed: UAV is already armed\n",
      "Vehicle 2: ❌ Step Check disarmed check failed: UAV is already armed\n",
      "Vehicle 4: ▶️ Step Started: Check disarmed\n",
      "Vehicle 5: ▶️ Step Started: Check disarmed\n",
      "Vehicle 1: ▶️ Step Started: Check disarmed\n",
      "Vehicle 3: ▶️ Step Started: Check disarmed\n",
      "Vehicle 2: ▶️ Step Started: Check disarmed\n",
      "Vehicle 4: ❌ Step Check disarmed check failed: UAV is already armed\n",
      "Vehicle 5: ❌ Step Check disarmed check failed: UAV is already armed\n",
      "Vehicle 1: ❌ Step Check disarmed check failed: UAV is already armed\n",
      "Vehicle 3: ❌ Step Check disarmed check failed: UAV is already armed\n",
      "Vehicle 2: ❌ Step Check disarmed check failed: UAV is already armed\n",
      "Vehicle 4: ▶️ Step Started: Check disarmed\n",
      "Vehicle 5: ▶️ Step Started: Check disarmed\n",
      "Vehicle 1: ▶️ Step Started: Check disarmed\n",
      "Vehicle 3: ▶️ Step Started: Check disarmed\n",
      "Vehicle 2: ▶️ Step Started: Check disarmed\n",
      "Vehicle 4: ❌ Step Check disarmed check failed: UAV is already armed\n",
      "Vehicle 5: ❌ Step Check disarmed check failed: UAV is already armed\n",
      "Vehicle 1: ❌ Step Check disarmed check failed: UAV is already armed\n",
      "Vehicle 3: ❌ Step Check disarmed check failed: UAV is already armed\n",
      "Vehicle 2: ❌ Step Check disarmed check failed: UAV is already armed\n",
      "Vehicle 4: ▶️ Step Started: Check disarmed\n",
      "Vehicle 5: ▶️ Step Started: Check disarmed\n",
      "Vehicle 1: ▶️ Step Started: Check disarmed\n",
      "Vehicle 3: ▶️ Step Started: Check disarmed\n",
      "Vehicle 2: ▶️ Step Started: Check disarmed\n",
      "Vehicle 4: ❌ Step Check disarmed check failed: UAV is already armed\n",
      "Vehicle 5: ❌ Step Check disarmed check failed: UAV is already armed\n",
      "Vehicle 1: ❌ Step Check disarmed check failed: UAV is already armed\n",
      "Vehicle 3: ❌ Step Check disarmed check failed: UAV is already armed\n",
      "Vehicle 2: ❌ Step Check disarmed check failed: UAV is already armed\n",
      "Vehicle 4: ▶️ Step Started: Check disarmed\n",
      "Vehicle 5: ▶️ Step Started: Check disarmed\n",
      "Vehicle 1: ▶️ Step Started: Check disarmed\n",
      "Vehicle 3: ▶️ Step Started: Check disarmed\n",
      "Vehicle 2: ▶️ Step Started: Check disarmed\n",
      "Vehicle 4: ❌ Step Check disarmed check failed: UAV is already armed\n",
      "Vehicle 5: ❌ Step Check disarmed check failed: UAV is already armed\n",
      "Vehicle 1: ❌ Step Check disarmed check failed: UAV is already armed\n",
      "Vehicle 3: ❌ Step Check disarmed check failed: UAV is already armed\n",
      "Vehicle 2: ❌ Step Check disarmed check failed: UAV is already armed\n",
      "Vehicle 4: ▶️ Step Started: Check disarmed\n",
      "Vehicle 5: ▶️ Step Started: Check disarmed\n",
      "Vehicle 1: ▶️ Step Started: Check disarmed\n",
      "Vehicle 3: ▶️ Step Started: Check disarmed\n",
      "Vehicle 2: ▶️ Step Started: Check disarmed\n",
      "Vehicle 5: ✅ Step Done: Check disarmed\n",
      "Vehicle 5: ▶️ Step Started: Check EKF status\n",
      "Vehicle 3: ✅ Step Done: Check disarmed\n",
      "Vehicle 3: ▶️ Step Started: Check EKF status\n",
      "Vehicle 4: ✅ Step Done: Check disarmed\n",
      "Vehicle 1: ✅ Step Done: Check disarmed\n",
      "Vehicle 2: ✅ Step Done: Check disarmed\n",
      "Vehicle 4: ▶️ Step Started: Check EKF status\n",
      "Vehicle 1: ▶️ Step Started: Check EKF status\n",
      "Vehicle 2: ▶️ Step Started: Check EKF status\n",
      "Vehicle 5: ✅ Step Done: Check EKF status\n",
      "Vehicle 5: ▶️ Step Started: Check GPS\n",
      "Vehicle 3: ✅ Step Done: Check EKF status\n",
      "Vehicle 4: ✅ Step Done: Check EKF status\n",
      "Vehicle 3: ▶️ Step Started: Check GPS\n",
      "Vehicle 1: ✅ Step Done: Check EKF status\n",
      "Vehicle 2: ✅ Step Done: Check EKF status\n",
      "Vehicle 4: ▶️ Step Started: Check GPS\n",
      "Vehicle 1: ▶️ Step Started: Check GPS\n",
      "Vehicle 2: ▶️ Step Started: Check GPS\n",
      "Vehicle 5: ✅ Step Done: Check GPS\n",
      "Vehicle 5: ▶️ Step Started: Check system\n",
      "Vehicle 3: ✅ Step Done: Check GPS\n",
      "Vehicle 3: ▶️ Step Started: Check system\n",
      "Vehicle 4: ✅ Step Done: Check GPS\n",
      "Vehicle 1: ✅ Step Done: Check GPS\n",
      "Vehicle 2: ✅ Step Done: Check GPS\n",
      "Vehicle 4: ▶️ Step Started: Check system\n",
      "Vehicle 1: ▶️ Step Started: Check system\n",
      "Vehicle 2: ▶️ Step Started: Check system\n",
      "Vehicle 5: ✅ Step Done: Check system\n",
      "Vehicle 5: ✅ Action Done: 🔧 PREARM\n",
      "Vehicle 3: ✅ Step Done: Check system\n",
      "Vehicle 5: ▶️ Action Started: ⚙️ MODE: GUIDED\n",
      "Vehicle 3: ✅ Action Done: 🔧 PREARM\n",
      "Vehicle 5: ▶️ Step Started: Switch to GUIDED\n",
      "Vehicle 4: ✅ Step Done: Check system\n",
      "Vehicle 3: ▶️ Action Started: ⚙️ MODE: GUIDED\n",
      "Vehicle 1: ✅ Step Done: Check system\n",
      "Vehicle 5: ✅ Step Done: Switch to GUIDED\n",
      "Vehicle 2: ✅ Step Done: Check system\n",
      "Vehicle 4: ✅ Action Done: 🔧 PREARM\n",
      "Vehicle 3: ▶️ Step Started: Switch to GUIDED\n",
      "Vehicle 1: ✅ Action Done: 🔧 PREARM\n",
      "Vehicle 5: ✅ Action Done: ⚙️ MODE: GUIDED\n",
      "Vehicle 2: ✅ Action Done: 🔧 PREARM\n",
      "Vehicle 4: ▶️ Action Started: ⚙️ MODE: GUIDED\n",
      "Vehicle 3: ✅ Step Done: Switch to GUIDED\n",
      "Vehicle 1: ▶️ Action Started: ⚙️ MODE: GUIDED\n",
      "Vehicle 5: ▶️ Action Started: 🔐 ARM\n",
      "Vehicle 2: ▶️ Action Started: ⚙️ MODE: GUIDED\n",
      "Vehicle 4: ▶️ Step Started: Switch to GUIDED\n",
      "Vehicle 3: ✅ Action Done: ⚙️ MODE: GUIDED\n",
      "Vehicle 1: ▶️ Step Started: Switch to GUIDED\n",
      "Vehicle 5: ▶️ Step Started: arm\n",
      "Vehicle 2: ▶️ Step Started: Switch to GUIDED\n",
      "Vehicle 4: ✅ Step Done: Switch to GUIDED\n",
      "Vehicle 3: ▶️ Action Started: 🔐 ARM\n",
      "Vehicle 1: ✅ Step Done: Switch to GUIDED\n",
      "Vehicle 2: ✅ Step Done: Switch to GUIDED\n",
      "Vehicle 4: ✅ Action Done: ⚙️ MODE: GUIDED\n",
      "Vehicle 3: ▶️ Step Started: arm\n",
      "Vehicle 1: ✅ Action Done: ⚙️ MODE: GUIDED\n",
      "Vehicle 2: ✅ Action Done: ⚙️ MODE: GUIDED\n",
      "Vehicle 4: ▶️ Action Started: 🔐 ARM\n",
      "Vehicle 1: ▶️ Action Started: 🔐 ARM\n",
      "Vehicle 2: ▶️ Action Started: 🔐 ARM\n",
      "Vehicle 4: ▶️ Step Started: arm\n",
      "Vehicle 1: ▶️ Step Started: arm\n",
      "Vehicle 2: ▶️ Step Started: arm\n",
      "Vehicle 5: ✅ Step Done: arm\n",
      "Vehicle 1: ✅ Step Done: arm\n",
      "Vehicle 5: ✅ Action Done: 🔐 ARM\n",
      "Vehicle 4: ✅ Step Done: arm\n",
      "Vehicle 1: ✅ Action Done: 🔐 ARM\n",
      "Vehicle 2: ✅ Step Done: arm\n",
      "Vehicle 4: ✅ Action Done: 🔐 ARM\n",
      "Vehicle 3: ✅ Step Done: arm\n",
      "Vehicle 5: ▶️ Action Started: 🚀 START_MISSION\n",
      "Vehicle 2: ✅ Action Done: 🔐 ARM\n",
      "Vehicle 3: ✅ Action Done: 🔐 ARM\n",
      "Vehicle 1: ▶️ Action Started: 🚀 START_MISSION\n",
      "Vehicle 5: ▶️ Step Started: start_mission\n",
      "Vehicle 4: ▶️ Action Started: 🚀 START_MISSION\n",
      "Vehicle 1: ▶️ Step Started: start_mission\n",
      "Vehicle 2: ▶️ Action Started: 🚀 START_MISSION\n",
      "Vehicle 4: ▶️ Step Started: start_mission\n",
      "Vehicle 3: ▶️ Action Started: 🚀 START_MISSION\n",
      "Vehicle 5: ✅ Step Done: start_mission\n",
      "Vehicle 2: ▶️ Step Started: start_mission\n",
      "Vehicle 3: ▶️ Step Started: start_mission\n",
      "Vehicle 1: ✅ Step Done: start_mission\n",
      "Vehicle 5: ✅ Action Done: 🚀 START_MISSION\n",
      "Vehicle 2: ✅ Step Done: start_mission\n",
      "Vehicle 4: ✅ Step Done: start_mission\n",
      "Vehicle 1: ✅ Action Done: 🚀 START_MISSION\n",
      "Vehicle 2: ✅ Action Done: 🚀 START_MISSION\n",
      "Vehicle 4: ✅ Action Done: 🚀 START_MISSION\n",
      "Vehicle 3: ✅ Step Done: start_mission\n",
      "Vehicle 5: ▶️ Action Started: 📤 UPLOAD_MISSION\n",
      "Vehicle 3: ✅ Action Done: 🚀 START_MISSION\n",
      "Vehicle 1: ▶️ Action Started: 📤 UPLOAD_MISSION\n",
      "Vehicle 5: ▶️ Step Started: monitoring\n",
      "Vehicle 2: ▶️ Action Started: 📤 UPLOAD_MISSION\n",
      "Vehicle 4: ▶️ Action Started: 📤 UPLOAD_MISSION\n",
      "Vehicle 1: ▶️ Step Started: monitoring\n",
      "Vehicle 2: ▶️ Step Started: monitoring\n",
      "Vehicle 4: ▶️ Step Started: monitoring\n",
      "Vehicle 3: ▶️ Action Started: 📤 UPLOAD_MISSION\n",
      "Vehicle 3: ▶️ Step Started: monitoring\n",
      "Vehicle 5: 📌 Reached waypoint: 1\n",
      "Vehicle 3: 📌 Reached waypoint: 1\n",
      "Vehicle 4: 📌 Reached waypoint: 1\n",
      "Vehicle 1: 📌 Reached waypoint: 1\n",
      "Vehicle 2: 📌 Reached waypoint: 1\n",
      "Closed connection on SERIAL1\n",
      "Closed connection on SERIAL1\n",
      "Closed connection on SERIAL1\n",
      "Closed connection on SERIAL1\n",
      "Closed connection on SERIAL1\n"
     ]
    }
   ],
   "source": [
    "while len(orac.conns):\n",
    "    for sysid in list(orac.conns.keys()):\n",
    "        if orac.is_plan_done(sysid):\n",
    "            orac.remove(sysid)"
   ]
  }
 ],
 "metadata": {
  "kernelspec": {
   "display_name": "uav-cyber-sim-py311",
   "language": "python",
   "name": "python3"
  },
  "language_info": {
   "codemirror_mode": {
    "name": "ipython",
    "version": 3
   },
   "file_extension": ".py",
   "mimetype": "text/x-python",
   "name": "python",
   "nbconvert_exporter": "python",
   "pygments_lexer": "ipython3",
   "version": "3.11.11"
  }
 },
 "nbformat": 4,
 "nbformat_minor": 2
}
