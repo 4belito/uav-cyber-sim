{
 "cells": [
  {
   "cell_type": "markdown",
   "metadata": {},
   "source": [
    "## Auto mode (single uav)\n",
    "\n",
    "This is for testing propouses"
   ]
  },
  {
   "cell_type": "code",
   "execution_count": 1,
   "metadata": {},
   "outputs": [],
   "source": [
    "# Custom modules\n",
    "from config import Color\n",
    "from helpers import clean  #, local2global\n",
    "from helpers.change_coordinates import ENUs_to_GRAs, rel_to_abs\n",
    "from mavlink.customtypes.location import ENU, ENUPose, GRAPose\n",
    "from mavlink.util import save_mission\n",
    "from plan import Plan\n",
    "from simulators import QGC, ConfigGazebo, Gazebo, NoneVisualizer, Simulator\n",
    "\n",
    "clean()"
   ]
  },
  {
   "cell_type": "markdown",
   "metadata": {},
   "source": [
    "## Create mission"
   ]
  },
  {
   "cell_type": "code",
   "execution_count": 2,
   "metadata": {},
   "outputs": [],
   "source": [
    "mission_name = \"square\"\n",
    "\n",
    "enu_poses= ENUPose.list([  # east, north, up, heading\n",
    "    (0., 0., 0., 0.),\n",
    "    (10., 0., 0., 45.),\n",
    "    (-5., -10., 0., 225.),\n",
    "    (-15., 0., 0., 0.),\n",
    "    (0., -20., 0., 0.),\n",
    "])\n",
    "colors=[\n",
    "    Color.BLUE,\n",
    "    Color.GREEN,\n",
    "    Color.YELLOW,\n",
    "    Color.ORANGE,\n",
    "    Color.RED,\n",
    "]\n",
    "origin=GRAPose(-35.3633245, 149.1652241, 0, 0)\n",
    "\n",
    "\n",
    "n_vehicles = len(enu_poses)\n",
    "side_lens = (5, 5, 5, 5, 5)  # must agree with n_vehicles\n",
    "rel_paths = [Plan.create_square_path(side_len=10, alt=5) for _ in enu_poses]\n",
    "\n",
    "gra_enu_poses = ENUs_to_GRAs(origin, enu_poses)\n",
    "\n",
    "\n",
    "\n",
    "\n",
    "\n",
    "\n",
    "\n",
    "# mission_name = \"square\"\n",
    "# offset = ENUPose(0,0,0,0)  # east, north, up, heading \n",
    "# origin = GRAPose(-35.363261, 149.165230, 0, 0)\n",
    "# rel_path = Plan.create_square_path(side_len=10, alt=5)"
   ]
  },
  {
   "cell_type": "markdown",
   "metadata": {},
   "source": [
    "## Convert to Global (ENU) coordinates"
   ]
  },
  {
   "cell_type": "code",
   "execution_count": 3,
   "metadata": {},
   "outputs": [],
   "source": [
    "# home = ENU(*offset[:3])\n",
    "# abs_path = [rel_to_abs(pos, home, cls=ENU) for pos in rel_path]\n",
    "abs_paths = [\n",
    "    [rel_to_abs(pos, ENU(*offset[:3]), cls=ENU) for pos in path]\n",
    "    for (path, offset) in zip(rel_paths, enu_poses)\n",
    "]\n",
    "\n"
   ]
  },
  {
   "cell_type": "markdown",
   "metadata": {},
   "source": [
    "## Create Plan"
   ]
  },
  {
   "cell_type": "code",
   "execution_count": 4,
   "metadata": {},
   "outputs": [],
   "source": [
    "# gra_offset = ENUs_to_GRAs(origin, [offset])[0]\n",
    "# gra_path = ENUs_to_GRAs(origin, abs_path)\n",
    "# save_mission(name=mission_name,poses=gra_path)\n",
    "\n",
    "\n",
    "gra_paths = [\n",
    "    ENUs_to_GRAs(offset, abs_path)\n",
    "    for offset, abs_path in zip(gra_enu_poses, abs_paths)\n",
    "]\n",
    "\n",
    "for i,gra_path in enumerate(gra_paths):\n",
    "    save_mission(name=mission_name+f\"_{i+1}\",poses=gra_path)"
   ]
  },
  {
   "cell_type": "markdown",
   "metadata": {},
   "source": [
    "## Visualization Parameters"
   ]
  },
  {
   "cell_type": "code",
   "execution_count": 5,
   "metadata": {},
   "outputs": [
    {
     "data": {
      "application/vnd.plotly.v1+json": {
       "config": {
        "plotlyServerURL": "https://plot.ly"
       },
       "data": [
        {
         "marker": {
          "color": [
           "blue",
           "blue",
           "blue",
           "blue",
           "blue"
          ],
          "size": 6
         },
         "mode": "markers",
         "name": "trajectory 0",
         "type": "scatter3d",
         "x": [
          0,
          0,
          10,
          10,
          0
         ],
         "y": [
          0,
          10,
          10,
          0,
          0
         ],
         "z": [
          5,
          5,
          5,
          5,
          5
         ]
        },
        {
         "marker": {
          "color": [
           "green",
           "green",
           "green",
           "green",
           "green"
          ],
          "size": 6
         },
         "mode": "markers",
         "name": "trajectory 1",
         "type": "scatter3d",
         "x": [
          10,
          10,
          20,
          20,
          10
         ],
         "y": [
          0,
          10,
          10,
          0,
          0
         ],
         "z": [
          5,
          5,
          5,
          5,
          5
         ]
        },
        {
         "marker": {
          "color": [
           "yellow",
           "yellow",
           "yellow",
           "yellow",
           "yellow"
          ],
          "size": 6
         },
         "mode": "markers",
         "name": "trajectory 2",
         "type": "scatter3d",
         "x": [
          -5,
          -5,
          5,
          5,
          -5
         ],
         "y": [
          -10,
          0,
          0,
          -10,
          -10
         ],
         "z": [
          5,
          5,
          5,
          5,
          5
         ]
        },
        {
         "marker": {
          "color": [
           "orange",
           "orange",
           "orange",
           "orange",
           "orange"
          ],
          "size": 6
         },
         "mode": "markers",
         "name": "trajectory 3",
         "type": "scatter3d",
         "x": [
          -15,
          -15,
          -5,
          -5,
          -15
         ],
         "y": [
          0,
          10,
          10,
          0,
          0
         ],
         "z": [
          5,
          5,
          5,
          5,
          5
         ]
        },
        {
         "marker": {
          "color": [
           "red",
           "red",
           "red",
           "red",
           "red"
          ],
          "size": 6
         },
         "mode": "markers",
         "name": "trajectory 4",
         "type": "scatter3d",
         "x": [
          0,
          0,
          10,
          10,
          0
         ],
         "y": [
          -20,
          -10,
          -10,
          -20,
          -20
         ],
         "z": [
          5,
          5,
          5,
          5,
          5
         ]
        }
       ],
       "layout": {
        "height": 600,
        "scene": {
         "xaxis": {
          "range": [
           -22,
           27
          ],
          "title": {
           "text": "x"
          }
         },
         "yaxis": {
          "range": [
           -26,
           16
          ],
          "title": {
           "text": "y"
          }
         },
         "zaxis": {
          "range": [
           -0.05,
           5
          ],
          "title": {
           "text": "z"
          }
         }
        },
        "showlegend": true,
        "template": {
         "data": {
          "bar": [
           {
            "error_x": {
             "color": "#2a3f5f"
            },
            "error_y": {
             "color": "#2a3f5f"
            },
            "marker": {
             "line": {
              "color": "#E5ECF6",
              "width": 0.5
             },
             "pattern": {
              "fillmode": "overlay",
              "size": 10,
              "solidity": 0.2
             }
            },
            "type": "bar"
           }
          ],
          "barpolar": [
           {
            "marker": {
             "line": {
              "color": "#E5ECF6",
              "width": 0.5
             },
             "pattern": {
              "fillmode": "overlay",
              "size": 10,
              "solidity": 0.2
             }
            },
            "type": "barpolar"
           }
          ],
          "carpet": [
           {
            "aaxis": {
             "endlinecolor": "#2a3f5f",
             "gridcolor": "white",
             "linecolor": "white",
             "minorgridcolor": "white",
             "startlinecolor": "#2a3f5f"
            },
            "baxis": {
             "endlinecolor": "#2a3f5f",
             "gridcolor": "white",
             "linecolor": "white",
             "minorgridcolor": "white",
             "startlinecolor": "#2a3f5f"
            },
            "type": "carpet"
           }
          ],
          "choropleth": [
           {
            "colorbar": {
             "outlinewidth": 0,
             "ticks": ""
            },
            "type": "choropleth"
           }
          ],
          "contour": [
           {
            "colorbar": {
             "outlinewidth": 0,
             "ticks": ""
            },
            "colorscale": [
             [
              0,
              "#0d0887"
             ],
             [
              0.1111111111111111,
              "#46039f"
             ],
             [
              0.2222222222222222,
              "#7201a8"
             ],
             [
              0.3333333333333333,
              "#9c179e"
             ],
             [
              0.4444444444444444,
              "#bd3786"
             ],
             [
              0.5555555555555556,
              "#d8576b"
             ],
             [
              0.6666666666666666,
              "#ed7953"
             ],
             [
              0.7777777777777778,
              "#fb9f3a"
             ],
             [
              0.8888888888888888,
              "#fdca26"
             ],
             [
              1,
              "#f0f921"
             ]
            ],
            "type": "contour"
           }
          ],
          "contourcarpet": [
           {
            "colorbar": {
             "outlinewidth": 0,
             "ticks": ""
            },
            "type": "contourcarpet"
           }
          ],
          "heatmap": [
           {
            "colorbar": {
             "outlinewidth": 0,
             "ticks": ""
            },
            "colorscale": [
             [
              0,
              "#0d0887"
             ],
             [
              0.1111111111111111,
              "#46039f"
             ],
             [
              0.2222222222222222,
              "#7201a8"
             ],
             [
              0.3333333333333333,
              "#9c179e"
             ],
             [
              0.4444444444444444,
              "#bd3786"
             ],
             [
              0.5555555555555556,
              "#d8576b"
             ],
             [
              0.6666666666666666,
              "#ed7953"
             ],
             [
              0.7777777777777778,
              "#fb9f3a"
             ],
             [
              0.8888888888888888,
              "#fdca26"
             ],
             [
              1,
              "#f0f921"
             ]
            ],
            "type": "heatmap"
           }
          ],
          "histogram": [
           {
            "marker": {
             "pattern": {
              "fillmode": "overlay",
              "size": 10,
              "solidity": 0.2
             }
            },
            "type": "histogram"
           }
          ],
          "histogram2d": [
           {
            "colorbar": {
             "outlinewidth": 0,
             "ticks": ""
            },
            "colorscale": [
             [
              0,
              "#0d0887"
             ],
             [
              0.1111111111111111,
              "#46039f"
             ],
             [
              0.2222222222222222,
              "#7201a8"
             ],
             [
              0.3333333333333333,
              "#9c179e"
             ],
             [
              0.4444444444444444,
              "#bd3786"
             ],
             [
              0.5555555555555556,
              "#d8576b"
             ],
             [
              0.6666666666666666,
              "#ed7953"
             ],
             [
              0.7777777777777778,
              "#fb9f3a"
             ],
             [
              0.8888888888888888,
              "#fdca26"
             ],
             [
              1,
              "#f0f921"
             ]
            ],
            "type": "histogram2d"
           }
          ],
          "histogram2dcontour": [
           {
            "colorbar": {
             "outlinewidth": 0,
             "ticks": ""
            },
            "colorscale": [
             [
              0,
              "#0d0887"
             ],
             [
              0.1111111111111111,
              "#46039f"
             ],
             [
              0.2222222222222222,
              "#7201a8"
             ],
             [
              0.3333333333333333,
              "#9c179e"
             ],
             [
              0.4444444444444444,
              "#bd3786"
             ],
             [
              0.5555555555555556,
              "#d8576b"
             ],
             [
              0.6666666666666666,
              "#ed7953"
             ],
             [
              0.7777777777777778,
              "#fb9f3a"
             ],
             [
              0.8888888888888888,
              "#fdca26"
             ],
             [
              1,
              "#f0f921"
             ]
            ],
            "type": "histogram2dcontour"
           }
          ],
          "mesh3d": [
           {
            "colorbar": {
             "outlinewidth": 0,
             "ticks": ""
            },
            "type": "mesh3d"
           }
          ],
          "parcoords": [
           {
            "line": {
             "colorbar": {
              "outlinewidth": 0,
              "ticks": ""
             }
            },
            "type": "parcoords"
           }
          ],
          "pie": [
           {
            "automargin": true,
            "type": "pie"
           }
          ],
          "scatter": [
           {
            "fillpattern": {
             "fillmode": "overlay",
             "size": 10,
             "solidity": 0.2
            },
            "type": "scatter"
           }
          ],
          "scatter3d": [
           {
            "line": {
             "colorbar": {
              "outlinewidth": 0,
              "ticks": ""
             }
            },
            "marker": {
             "colorbar": {
              "outlinewidth": 0,
              "ticks": ""
             }
            },
            "type": "scatter3d"
           }
          ],
          "scattercarpet": [
           {
            "marker": {
             "colorbar": {
              "outlinewidth": 0,
              "ticks": ""
             }
            },
            "type": "scattercarpet"
           }
          ],
          "scattergeo": [
           {
            "marker": {
             "colorbar": {
              "outlinewidth": 0,
              "ticks": ""
             }
            },
            "type": "scattergeo"
           }
          ],
          "scattergl": [
           {
            "marker": {
             "colorbar": {
              "outlinewidth": 0,
              "ticks": ""
             }
            },
            "type": "scattergl"
           }
          ],
          "scattermap": [
           {
            "marker": {
             "colorbar": {
              "outlinewidth": 0,
              "ticks": ""
             }
            },
            "type": "scattermap"
           }
          ],
          "scattermapbox": [
           {
            "marker": {
             "colorbar": {
              "outlinewidth": 0,
              "ticks": ""
             }
            },
            "type": "scattermapbox"
           }
          ],
          "scatterpolar": [
           {
            "marker": {
             "colorbar": {
              "outlinewidth": 0,
              "ticks": ""
             }
            },
            "type": "scatterpolar"
           }
          ],
          "scatterpolargl": [
           {
            "marker": {
             "colorbar": {
              "outlinewidth": 0,
              "ticks": ""
             }
            },
            "type": "scatterpolargl"
           }
          ],
          "scatterternary": [
           {
            "marker": {
             "colorbar": {
              "outlinewidth": 0,
              "ticks": ""
             }
            },
            "type": "scatterternary"
           }
          ],
          "surface": [
           {
            "colorbar": {
             "outlinewidth": 0,
             "ticks": ""
            },
            "colorscale": [
             [
              0,
              "#0d0887"
             ],
             [
              0.1111111111111111,
              "#46039f"
             ],
             [
              0.2222222222222222,
              "#7201a8"
             ],
             [
              0.3333333333333333,
              "#9c179e"
             ],
             [
              0.4444444444444444,
              "#bd3786"
             ],
             [
              0.5555555555555556,
              "#d8576b"
             ],
             [
              0.6666666666666666,
              "#ed7953"
             ],
             [
              0.7777777777777778,
              "#fb9f3a"
             ],
             [
              0.8888888888888888,
              "#fdca26"
             ],
             [
              1,
              "#f0f921"
             ]
            ],
            "type": "surface"
           }
          ],
          "table": [
           {
            "cells": {
             "fill": {
              "color": "#EBF0F8"
             },
             "line": {
              "color": "white"
             }
            },
            "header": {
             "fill": {
              "color": "#C8D4E3"
             },
             "line": {
              "color": "white"
             }
            },
            "type": "table"
           }
          ]
         },
         "layout": {
          "annotationdefaults": {
           "arrowcolor": "#2a3f5f",
           "arrowhead": 0,
           "arrowwidth": 1
          },
          "autotypenumbers": "strict",
          "coloraxis": {
           "colorbar": {
            "outlinewidth": 0,
            "ticks": ""
           }
          },
          "colorscale": {
           "diverging": [
            [
             0,
             "#8e0152"
            ],
            [
             0.1,
             "#c51b7d"
            ],
            [
             0.2,
             "#de77ae"
            ],
            [
             0.3,
             "#f1b6da"
            ],
            [
             0.4,
             "#fde0ef"
            ],
            [
             0.5,
             "#f7f7f7"
            ],
            [
             0.6,
             "#e6f5d0"
            ],
            [
             0.7,
             "#b8e186"
            ],
            [
             0.8,
             "#7fbc41"
            ],
            [
             0.9,
             "#4d9221"
            ],
            [
             1,
             "#276419"
            ]
           ],
           "sequential": [
            [
             0,
             "#0d0887"
            ],
            [
             0.1111111111111111,
             "#46039f"
            ],
            [
             0.2222222222222222,
             "#7201a8"
            ],
            [
             0.3333333333333333,
             "#9c179e"
            ],
            [
             0.4444444444444444,
             "#bd3786"
            ],
            [
             0.5555555555555556,
             "#d8576b"
            ],
            [
             0.6666666666666666,
             "#ed7953"
            ],
            [
             0.7777777777777778,
             "#fb9f3a"
            ],
            [
             0.8888888888888888,
             "#fdca26"
            ],
            [
             1,
             "#f0f921"
            ]
           ],
           "sequentialminus": [
            [
             0,
             "#0d0887"
            ],
            [
             0.1111111111111111,
             "#46039f"
            ],
            [
             0.2222222222222222,
             "#7201a8"
            ],
            [
             0.3333333333333333,
             "#9c179e"
            ],
            [
             0.4444444444444444,
             "#bd3786"
            ],
            [
             0.5555555555555556,
             "#d8576b"
            ],
            [
             0.6666666666666666,
             "#ed7953"
            ],
            [
             0.7777777777777778,
             "#fb9f3a"
            ],
            [
             0.8888888888888888,
             "#fdca26"
            ],
            [
             1,
             "#f0f921"
            ]
           ]
          },
          "colorway": [
           "#636efa",
           "#EF553B",
           "#00cc96",
           "#ab63fa",
           "#FFA15A",
           "#19d3f3",
           "#FF6692",
           "#B6E880",
           "#FF97FF",
           "#FECB52"
          ],
          "font": {
           "color": "#2a3f5f"
          },
          "geo": {
           "bgcolor": "white",
           "lakecolor": "white",
           "landcolor": "#E5ECF6",
           "showlakes": true,
           "showland": true,
           "subunitcolor": "white"
          },
          "hoverlabel": {
           "align": "left"
          },
          "hovermode": "closest",
          "mapbox": {
           "style": "light"
          },
          "paper_bgcolor": "white",
          "plot_bgcolor": "#E5ECF6",
          "polar": {
           "angularaxis": {
            "gridcolor": "white",
            "linecolor": "white",
            "ticks": ""
           },
           "bgcolor": "#E5ECF6",
           "radialaxis": {
            "gridcolor": "white",
            "linecolor": "white",
            "ticks": ""
           }
          },
          "scene": {
           "xaxis": {
            "backgroundcolor": "#E5ECF6",
            "gridcolor": "white",
            "gridwidth": 2,
            "linecolor": "white",
            "showbackground": true,
            "ticks": "",
            "zerolinecolor": "white"
           },
           "yaxis": {
            "backgroundcolor": "#E5ECF6",
            "gridcolor": "white",
            "gridwidth": 2,
            "linecolor": "white",
            "showbackground": true,
            "ticks": "",
            "zerolinecolor": "white"
           },
           "zaxis": {
            "backgroundcolor": "#E5ECF6",
            "gridcolor": "white",
            "gridwidth": 2,
            "linecolor": "white",
            "showbackground": true,
            "ticks": "",
            "zerolinecolor": "white"
           }
          },
          "shapedefaults": {
           "line": {
            "color": "#2a3f5f"
           }
          },
          "ternary": {
           "aaxis": {
            "gridcolor": "white",
            "linecolor": "white",
            "ticks": ""
           },
           "baxis": {
            "gridcolor": "white",
            "linecolor": "white",
            "ticks": ""
           },
           "bgcolor": "#E5ECF6",
           "caxis": {
            "gridcolor": "white",
            "linecolor": "white",
            "ticks": ""
           }
          },
          "title": {
           "x": 0.05
          },
          "xaxis": {
           "automargin": true,
           "gridcolor": "white",
           "linecolor": "white",
           "ticks": "",
           "title": {
            "standoff": 15
           },
           "zerolinecolor": "white",
           "zerolinewidth": 2
          },
          "yaxis": {
           "automargin": true,
           "gridcolor": "white",
           "linecolor": "white",
           "ticks": "",
           "title": {
            "standoff": 15
           },
           "zerolinecolor": "white",
           "zerolinewidth": 2
          }
         }
        },
        "title": {
         "text": "Simulation Waypoints",
         "x": 0.5,
         "xanchor": "center"
        },
        "width": 800
       }
      }
     },
     "metadata": {},
     "output_type": "display_data"
    }
   ],
   "source": [
    "\n",
    "markers = [\n",
    "\tConfigGazebo.create_markertraj(traj=abs_path, color=color) for abs_path,color in zip(abs_paths,colors)\n",
    "]\n",
    "Gazebo.plot_3d_interactive(\n",
    "\tmarkers=markers,\n",
    "\ttitle=\"Simulation Waypoints\",\n",
    "\tframes=(0.2, 0.2, 0.6),\n",
    "\tground=-0.05\n",
    ")"
   ]
  },
  {
   "cell_type": "code",
   "execution_count": null,
   "metadata": {},
   "outputs": [],
   "source": []
  },
  {
   "cell_type": "markdown",
   "metadata": {},
   "source": [
    "## Visualizer Config"
   ]
  },
  {
   "cell_type": "code",
   "execution_count": 6,
   "metadata": {},
   "outputs": [],
   "source": [
    "no_vis=NoneVisualizer(origin,enu_poses)\n",
    "\n",
    "\n",
    "gazebo_config = ConfigGazebo(world_path=\"simulators/gazebo/worlds/runway.world\",\n",
    "                           models=list(zip(5*[\"iris\"],colors)),\n",
    "                           marker_trajs = markers)\n",
    "gaz_vis= Gazebo(origin,enu_poses,gazebo_config)\n",
    "\n",
    "qgc_vis=QGC(origin,enu_poses)"
   ]
  },
  {
   "cell_type": "markdown",
   "metadata": {},
   "source": [
    "## Launch Simulatotion"
   ]
  },
  {
   "cell_type": "code",
   "execution_count": 7,
   "metadata": {},
   "outputs": [
    {
     "name": "stdout",
     "output_type": "stream",
     "text": [
      "🗺️ QGroundControl launched for 2D visualization — simulation powered by ArduPilot SITL.\n",
      "🚀 ArduPilot SITL vehicle 1 launched (PID 3112751)\n",
      "🚀 ArduPilot SITL vehicle 3 launched (PID 3112754)\n",
      "🚀 ArduPilot SITL vehicle 2 launched (PID 3112752)\n",
      "🚀 ArduPilot SITL vehicle 4 launched (PID 3112756)\n",
      "🚀 ArduPilot SITL vehicle 5 launched (PID 3112757)\n",
      "🚀 UAV logic for vehicle 1 launched (PID 3112758)\n",
      "🚀 UAV logic for vehicle 3 launched (PID 3112759)\n",
      "🚀 UAV logic for vehicle 2 launched (PID 3112760)\n",
      "🚀 UAV logic for vehicle 4 launched (PID 3112761)\n",
      "🚀 UAV logic for vehicle 5 launched (PID 3112762)\n",
      "🚀 Proxy for vehicle 1 launched (PID 3112764)\n",
      "🔗 UAV logic 1 is connected to Ardupilot SITL vehicle 1\n",
      "🚀 Proxy for vehicle 3 launched (PID 3112765)\n",
      "🔗 UAV logic 3 is connected to Ardupilot SITL vehicle 3\n",
      "🚀 Proxy for vehicle 2 launched (PID 3112772)\n",
      "🔗 UAV logic 2 is connected to Ardupilot SITL vehicle 2\n",
      "🚀 Proxy for vehicle 4 launched (PID 3112774)\n",
      "🔗 UAV logic 4 is connected to Ardupilot SITL vehicle 4\n",
      "🚀 Proxy for vehicle 5 launched (PID 3112776)\n",
      "🔗 UAV logic 5 is connected to Ardupilot SITL vehicle 5\n",
      "System id: 4\n",
      "[Errno 111] Connection refused sleeping\n",
      "System id: 5\n",
      "System id: 4\n",
      "System id: 2\n",
      "System id: 5\n",
      "[Errno 111] Connection refused sleeping\n",
      "System id: 1\n",
      "[Errno 111] Connection refused sleeping\n",
      "System id: 3\n",
      "[Errno 111] Connection refused sleeping\n",
      "System id: 3\n",
      "System id: 2\n",
      "[Errno 111] Connection refused sleeping\n",
      "System id: 1\n",
      "SIM_VEHICLE: Start\n",
      "SIM_VEHICLE: Starting up at [-35.36332449988755, 149.16505886599202, 0.0, 0.0]\n",
      "SIM_VEHICLE: Using defaults from (../../../ardupilot/Tools/autotest/default_params/copter.parm)\n",
      "SIM_VEHICLE: Adding parameters from (/home/abeldg/repo_temp/uav-cyber-sim/params/vehicle.parm)\n",
      "Setting SIM_SPEEDUP=1.000000\n",
      "Setting MAV_SYSID=4\n",
      "Suggested EK3_DRAG_BCOEF_* = 17.209, EK3_DRAG_MCOEF = 0.209\n",
      "Home: -35.363324 149.165059 alt=0.000000m hdg=0.000000\n",
      "Starting sketch 'ArduCopter'\n",
      "Starting SITL input\n",
      "Using Irlock at port : 9035\n",
      "Waiting for connection ....\n",
      "SIM_VEHICLE: Start\n",
      "SIM_VEHICLE: Starting up at [-35.36350416409907, 149.1652241, 0.0, 0.0]\n",
      "SIM_VEHICLE: Using defaults from (../../../ardupilot/Tools/autotest/default_params/copter.parm)\n",
      "SIM_VEHICLE: Adding parameters from (/home/abeldg/repo_temp/uav-cyber-sim/params/vehicle.parm)\n",
      "Setting SIM_SPEEDUP=1.000000\n",
      "Setting MAV_SYSID=5\n",
      "Suggested EK3_DRAG_BCOEF_* = 17.209, EK3_DRAG_MCOEF = 0.209\n",
      "Home: -35.363504 149.165224 alt=0.000000m hdg=0.000000\n",
      "Starting sketch 'ArduCopter'\n",
      "Starting SITL input\n",
      "Using Irlock at port : 9045\n",
      "Waiting for connection ....\n",
      "SIM_VEHICLE: Start\n",
      "SIM_VEHICLE: Starting up at [-35.36332449995002, 149.16533425600528, 0.0, 45.0]\n",
      "SIM_VEHICLE: Using defaults from (../../../ardupilot/Tools/autotest/default_params/copter.parm)\n",
      "SIM_VEHICLE: Adding parameters from (/home/abeldg/repo_temp/uav-cyber-sim/params/vehicle.parm)\n"
     ]
    },
    {
     "name": "stderr",
     "output_type": "stream",
     "text": [
      "bind port 5790 for SERIAL0\n",
      "SERIAL0 on TCP port 5790\n",
      "bind port 5800 for SERIAL0\n",
      "SERIAL0 on TCP port 5800\n",
      "bind port 5780 for SERIAL0\n",
      "SERIAL0 on TCP port 5780\n",
      "bind port 5770 for SERIAL0\n",
      "SERIAL0 on TCP port 5770\n",
      "bind port 5760 for SERIAL0\n",
      "SERIAL0 on TCP port 5760\n"
     ]
    },
    {
     "name": "stdout",
     "output_type": "stream",
     "text": [
      "SIM_VEHICLE: Start\n",
      "SIM_VEHICLE: Starting up at [-35.363414332037046, 149.1651690219361, 0.0, 225.0]\n",
      "SIM_VEHICLE: Using defaults from (../../../ardupilot/Tools/autotest/default_params/copter.parm)\n",
      "SIM_VEHICLE: Adding parameters from (/home/abeldg/repo_temp/uav-cyber-sim/params/vehicle.parm)\n",
      "Setting SIM_SPEEDUP=1.000000\n",
      "Setting MAV_SYSID=3\n",
      "Suggested EK3_DRAG_BCOEF_* = 17.209, EK3_DRAG_MCOEF = 0.209\n",
      "Home: -35.363414 149.165169 alt=0.000000m hdg=225.000000\n",
      "Starting sketch 'ArduCopter'\n",
      "Starting SITL input\n",
      "Using Irlock at port : 9025\n",
      "Waiting for connection ....\n",
      "Setting SIM_SPEEDUP=1.000000\n",
      "Setting MAV_SYSID=2\n",
      "Suggested EK3_DRAG_BCOEF_* = 17.209, EK3_DRAG_MCOEF = 0.209\n",
      "Home: -35.363324 149.165334 alt=0.000000m hdg=45.000000\n",
      "Starting sketch 'ArduCopter'\n",
      "Starting SITL input\n",
      "Using Irlock at port : 9015\n",
      "Waiting for connection ....\n",
      "SIM_VEHICLE: Start\n",
      "SIM_VEHICLE: Killing tasks\n",
      "SIM_VEHICLE: Starting up at [-35.3633245, 149.1652241, 0.0, 0.0]\n",
      "SIM_VEHICLE: Using defaults from (../../../ardupilot/Tools/autotest/default_params/copter.parm)\n",
      "SIM_VEHICLE: Adding parameters from (/home/abeldg/repo_temp/uav-cyber-sim/params/vehicle.parm)\n",
      "Setting SIM_SPEEDUP=1.000000\n",
      "Setting MAV_SYSID=1\n",
      "Suggested EK3_DRAG_BCOEF_* = 17.209, EK3_DRAG_MCOEF = 0.209\n",
      "Home: -35.363324 149.165224 alt=0.000000m hdg=0.000000\n",
      "Starting sketch 'ArduCopter'\n",
      "Starting SITL input\n",
      "Using Irlock at port : 9005\n",
      "Waiting for connection ....\n",
      "Connection on serial port 5790\n",
      "\n",
      "🚀 Starting Proxy 4\n",
      "Loaded defaults from ../../../ardupilot/Tools/autotest/default_params/copter.parm,/home/abeldg/repo_temp/uav-cyber-sim/params/vehicle.parm\n",
      "Smoothing reset at 0.001\n",
      "Loaded defaults from ../../../ardupilot/Tools/autotest/default_params/copter.parm,/home/abeldg/repo_temp/uav-cyber-sim/params/vehicle.parm\n",
      "Loaded defaults from ../../../ardupilot/Tools/autotest/default_params/copter.parm,/home/abeldg/repo_temp/uav-cyber-sim/params/vehicle.parm\n",
      "Loaded defaults from ../../../ardupilot/Tools/autotest/default_params/copter.parm,/home/abeldg/repo_temp/uav-cyber-sim/params/vehicle.parm\n",
      "Connection on serial port 5800\n",
      "\n",
      "🚀 Starting Proxy 5\n",
      "Loaded defaults from ../../../ardupilot/Tools/autotest/default_params/copter.parm,/home/abeldg/repo_temp/uav-cyber-sim/params/vehicle.parm\n",
      "Loaded defaults from ../../../ardupilot/Tools/autotest/default_params/copter.parm,/home/abeldg/repo_temp/uav-cyber-sim/params/vehicle.parm\n",
      "Smoothing reset at 0.001\n",
      "Loaded defaults from ../../../ardupilot/Tools/autotest/default_params/copter.parm,/home/abeldg/repo_temp/uav-cyber-sim/params/vehicle.parm\n",
      "Connection on serial port 5760\n",
      "Loaded defaults from ../../../ardupilot/Tools/autotest/default_params/copter.parm,/home/abeldg/repo_temp/uav-cyber-sim/params/vehicle.parm\n",
      "Loaded defaults from ../../../ardupilot/Tools/autotest/default_params/copter.parm,/home/abeldg/repo_temp/uav-cyber-sim/params/vehicle.parm\n",
      "\n",
      "🚀 Starting Proxy 1\n",
      "Loaded defaults from ../../../ardupilot/Tools/autotest/default_params/copter.parm,/home/abeldg/repo_temp/uav-cyber-sim/params/vehicle.parm\n",
      "Smoothing reset at 0.001\n",
      "Loaded defaults from ../../../ardupilot/Tools/autotest/default_params/copter.parm,/home/abeldg/repo_temp/uav-cyber-sim/params/vehicle.parm\n",
      "Loaded defaults from ../../../ardupilot/Tools/autotest/default_params/copter.parm,/home/abeldg/repo_temp/uav-cyber-sim/params/vehicle.parm\n",
      "Loaded defaults from ../../../ardupilot/Tools/autotest/default_params/copter.parm,/home/abeldg/repo_temp/uav-cyber-sim/params/vehicle.parm\n",
      "Loaded defaults from ../../../ardupilot/Tools/autotest/default_params/copter.parm,/home/abeldg/repo_temp/uav-cyber-sim/params/vehicle.parm\n",
      "Loaded defaults from ../../../ardupilot/Tools/autotest/default_params/copter.parm,/home/abeldg/repo_temp/uav-cyber-sim/params/vehicle.parm\n",
      "Loaded defaults from ../../../ardupilot/Tools/autotest/default_params/copter.parm,/home/abeldg/repo_temp/uav-cyber-sim/params/vehicle.parm\n",
      "Loaded defaults from ../../../ardupilot/Tools/autotest/default_params/copter.parm,/home/abeldg/repo_temp/uav-cyber-sim/params/vehicle.parm\n",
      "Loaded defaults from ../../../ardupilot/Tools/autotest/default_params/copter.parm,/home/abeldg/repo_temp/uav-cyber-sim/params/vehicle.parm\n",
      "Loaded defaults from ../../../ardupilot/Tools/autotest/default_params/copter.parm,/home/abeldg/repo_temp/uav-cyber-sim/params/vehicle.parm\n",
      "Loaded defaults from ../../../ardupilot/Tools/autotest/default_params/copter.parm,/home/abeldg/repo_temp/uav-cyber-sim/params/vehicle.parm\n",
      "Connection on serial port 5780\n",
      "Loaded defaults from ../../../ardupilot/Tools/autotest/default_params/copter.parm,/home/abeldg/repo_temp/uav-cyber-sim/params/vehicle.parm\n",
      "\n",
      "🚀 Starting Proxy 3\n",
      "Loaded defaults from ../../../ardupilot/Tools/autotest/default_params/copter.parm,/home/abeldg/repo_temp/uav-cyber-sim/params/vehicle.parm\n",
      "Loaded defaults from ../../../ardupilot/Tools/autotest/default_params/copter.parm,/home/abeldg/repo_temp/uav-cyber-sim/params/vehicle.parm\n",
      "Loaded defaults from ../../../ardupilot/Tools/autotest/default_params/copter.parm,/home/abeldg/repo_temp/uav-cyber-sim/params/vehicle.parm\n",
      "Loaded defaults from ../../../ardupilot/Tools/autotest/default_params/copter.parm,/home/abeldg/repo_temp/uav-cyber-sim/params/vehicle.parm\n",
      "Smoothing reset at 0.001\n",
      "Loaded defaults from ../../../ardupilot/Tools/autotest/default_params/copter.parm,/home/abeldg/repo_temp/uav-cyber-sim/params/vehicle.parm\n",
      "Loaded defaults from ../../../ardupilot/Tools/autotest/default_params/copter.parm,/home/abeldg/repo_temp/uav-cyber-sim/params/vehicle.parm\n",
      "Loaded defaults from ../../../ardupilot/Tools/autotest/default_params/copter.parm,/home/abeldg/repo_temp/uav-cyber-sim/params/vehicle.parm\n",
      "Loaded defaults from ../../../ardupilot/Tools/autotest/default_params/copter.parm,/home/abeldg/repo_temp/uav-cyber-sim/params/vehicle.parm\n",
      "Loaded defaults from ../../../ardupilot/Tools/autotest/default_params/copter.parm,/home/abeldg/repo_temp/uav-cyber-sim/params/vehicle.parm\n",
      "Loaded defaults from ../../../ardupilot/Tools/autotest/default_params/copter.parm,/home/abeldg/repo_temp/uav-cyber-sim/params/vehicle.parm\n",
      "Loaded defaults from ../../../ardupilot/Tools/autotest/default_params/copter.parm,/home/abeldg/repo_temp/uav-cyber-sim/params/vehicle.parm\n",
      "Loaded defaults from ../../../ardupilot/Tools/autotest/default_params/copter.parm,/home/abeldg/repo_temp/uav-cyber-sim/params/vehicle.parm\n",
      "Loaded defaults from ../../../ardupilot/Tools/autotest/default_params/copter.parm,/home/abeldg/repo_temp/uav-cyber-sim/params/vehicle.parm\n",
      "Loaded defaults from ../../../ardupilot/Tools/autotest/default_params/copter.parm,/home/abeldg/repo_temp/uav-cyber-sim/params/vehicle.parm\n",
      "Loaded defaults from ../../../ardupilot/Tools/autotest/default_params/copter.parm,/home/abeldg/repo_temp/uav-cyber-sim/params/vehicle.parm\n",
      "Loaded defaults from ../../../ardupilot/Tools/autotest/default_params/copter.parm,/home/abeldg/repo_temp/uav-cyber-sim/params/vehicle.parm\n",
      "Loaded defaults from ../../../ardupilot/Tools/autotest/default_params/copter.parm,/home/abeldg/repo_temp/uav-cyber-sim/params/vehicle.parm\n",
      "Loaded defaults from ../../../ardupilot/Tools/autotest/default_params/copter.parm,/home/abeldg/repo_temp/uav-cyber-sim/params/vehicle.parm\n",
      "Loaded defaults from ../../../ardupilot/Tools/autotest/default_params/copter.parm,/home/abeldg/repo_temp/uav-cyber-sim/params/vehicle.parm\n",
      "Connection on serial port 5770\n",
      "Loaded defaults from ../../../ardupilot/Tools/autotest/default_params/copter.parm,/home/abeldg/repo_temp/uav-cyber-sim/params/vehicle.parm\n",
      "Loaded defaults from ../../../ardupilot/Tools/autotest/default_params/copter.parm,/home/abeldg/repo_temp/uav-cyber-sim/params/vehicle.parm\n",
      "\n",
      "🚀 Starting Proxy 2\n",
      "Loaded defaults from ../../../ardupilot/Tools/autotest/default_params/copter.parm,/home/abeldg/repo_temp/uav-cyber-sim/params/vehicle.parm\n",
      "Loaded defaults from ../../../ardupilot/Tools/autotest/default_params/copter.parm,/home/abeldg/repo_temp/uav-cyber-sim/params/vehicle.parm\n",
      "Smoothing reset at 0.001\n",
      "Loaded defaults from ../../../ardupilot/Tools/autotest/default_params/copter.parm,/home/abeldg/repo_temp/uav-cyber-sim/params/vehicle.parm\n",
      "Loaded defaults from ../../../ardupilot/Tools/autotest/default_params/copter.parm,/home/abeldg/repo_temp/uav-cyber-sim/params/vehicle.parm\n",
      "Loaded defaults from ../../../ardupilot/Tools/autotest/default_params/copter.parm,/home/abeldg/repo_temp/uav-cyber-sim/params/vehicle.parm\n",
      "Loaded defaults from ../../../ardupilot/Tools/autotest/default_params/copter.parm,/home/abeldg/repo_temp/uav-cyber-sim/params/vehicle.parm\n",
      "Loaded defaults from ../../../ardupilot/Tools/autotest/default_params/copter.parm,/home/abeldg/repo_temp/uav-cyber-sim/params/vehicle.parm\n",
      "Loaded defaults from ../../../ardupilot/Tools/autotest/default_params/copter.parm,/home/abeldg/repo_temp/uav-cyber-sim/params/vehicle.parm\n",
      "Loaded defaults from ../../../ardupilot/Tools/autotest/default_params/copter.parm,/home/abeldg/repo_temp/uav-cyber-sim/params/vehicle.parm\n",
      "Loaded defaults from ../../../ardupilot/Tools/autotest/default_params/copter.parm,/home/abeldg/repo_temp/uav-cyber-sim/params/vehicle.parm\n",
      "Loaded defaults from ../../../ardupilot/Tools/autotest/default_params/copter.parm,/home/abeldg/repo_temp/uav-cyber-sim/params/vehicle.parm\n",
      "Loaded defaults from ../../../ardupilot/Tools/autotest/default_params/copter.parm,/home/abeldg/repo_temp/uav-cyber-sim/params/vehicle.parm\n",
      "Loaded defaults from ../../../ardupilot/Tools/autotest/default_params/copter.parm,/home/abeldg/repo_temp/uav-cyber-sim/params/vehicle.parm\n",
      "Loaded defaults from ../../../ardupilot/Tools/autotest/default_params/copter.parm,/home/abeldg/repo_temp/uav-cyber-sim/params/vehicle.parm\n",
      "Loaded defaults from ../../../ardupilot/Tools/autotest/default_params/copter.parm,/home/abeldg/repo_temp/uav-cyber-sim/params/vehicle.parm\n",
      "Loaded defaults from ../../../ardupilot/Tools/autotest/default_params/copter.parm,/home/abeldg/repo_temp/uav-cyber-sim/params/vehicle.parm\n",
      "Loaded defaults from ../../../ardupilot/Tools/autotest/default_params/copter.parm,/home/abeldg/repo_temp/uav-cyber-sim/params/vehicle.parm\n",
      "Loaded defaults from ../../../ardupilot/Tools/autotest/default_params/copter.parm,/home/abeldg/repo_temp/uav-cyber-sim/params/vehicle.parm\n",
      "Loaded defaults from ../../../ardupilot/Tools/autotest/default_params/copter.parm,/home/abeldg/repo_temp/uav-cyber-sim/params/vehicle.parm\n",
      "Loaded defaults from ../../../ardupilot/Tools/autotest/default_params/copter.parm,/home/abeldg/repo_temp/uav-cyber-sim/params/vehicle.parm\n",
      "Loaded defaults from ../../../ardupilot/Tools/autotest/default_params/copter.parm,/home/abeldg/repo_temp/uav-cyber-sim/params/vehicle.parm\n",
      "Loaded defaults from ../../../ardupilot/Tools/autotest/default_params/copter.parm,/home/abeldg/repo_temp/uav-cyber-sim/params/vehicle.parm\n",
      "Loaded defaults from ../../../ardupilot/Tools/autotest/default_params/copter.parm,/home/abeldg/repo_temp/uav-cyber-sim/params/vehicle.parm\n",
      "Loaded defaults from ../../../ardupilot/Tools/autotest/default_params/copter.parm,/home/abeldg/repo_temp/uav-cyber-sim/params/vehicle.parm\n",
      "Loaded defaults from ../../../ardupilot/Tools/autotest/default_params/copter.parm,/home/abeldg/repo_temp/uav-cyber-sim/params/vehicle.parm\n",
      "Loaded defaults from ../../../ardupilot/Tools/autotest/default_params/copter.parm,/home/abeldg/repo_temp/uav-cyber-sim/params/vehicle.parm\n",
      "Loaded defaults from ../../../ardupilot/Tools/autotest/default_params/copter.parm,/home/abeldg/repo_temp/uav-cyber-sim/params/vehicle.parm\n",
      "Loaded defaults from ../../../ardupilot/Tools/autotest/default_params/copter.parm,/home/abeldg/repo_temp/uav-cyber-sim/params/vehicle.parm\n",
      "Loaded defaults from ../../../ardupilot/Tools/autotest/default_params/copter.parm,/home/abeldg/repo_temp/uav-cyber-sim/params/vehicle.parm\n",
      "Loaded defaults from ../../../ardupilot/Tools/autotest/default_params/copter.parm,/home/abeldg/repo_temp/uav-cyber-sim/params/vehicle.parm\n",
      "Loaded defaults from ../../../ardupilot/Tools/autotest/default_params/copter.parm,/home/abeldg/repo_temp/uav-cyber-sim/params/vehicle.parm\n",
      "Loaded defaults from ../../../ardupilot/Tools/autotest/default_params/copter.parm,/home/abeldg/repo_temp/uav-cyber-sim/params/vehicle.parm\n",
      "Loaded defaults from ../../../ardupilot/Tools/autotest/default_params/copter.parm,/home/abeldg/repo_temp/uav-cyber-sim/params/vehicle.parm\n",
      "Loaded defaults from ../../../ardupilot/Tools/autotest/default_params/copter.parm,/home/abeldg/repo_temp/uav-cyber-sim/params/vehicle.parm\n",
      "Loaded defaults from ../../../ardupilot/Tools/autotest/default_params/copter.parm,/home/abeldg/repo_temp/uav-cyber-sim/params/vehicle.parm\n",
      "Loaded defaults from ../../../ardupilot/Tools/autotest/default_params/copter.parm,/home/abeldg/repo_temp/uav-cyber-sim/params/vehicle.parm\n",
      "Loaded defaults from ../../../ardupilot/Tools/autotest/default_params/copter.parm,/home/abeldg/repo_temp/uav-cyber-sim/params/vehicle.parm\n",
      "Loaded defaults from ../../../ardupilot/Tools/autotest/default_params/copter.parm,/home/abeldg/repo_temp/uav-cyber-sim/params/vehicle.parm\n",
      "Loaded defaults from ../../../ardupilot/Tools/autotest/default_params/copter.parm,/home/abeldg/repo_temp/uav-cyber-sim/params/vehicle.parm\n",
      "Loaded defaults from ../../../ardupilot/Tools/autotest/default_params/copter.parm,/home/abeldg/repo_temp/uav-cyber-sim/params/vehicle.parm\n",
      "Loaded defaults from ../../../ardupilot/Tools/autotest/default_params/copter.parm,/home/abeldg/repo_temp/uav-cyber-sim/params/vehicle.parm\n",
      "Loaded defaults from ../../../ardupilot/Tools/autotest/default_params/copter.parm,/home/abeldg/repo_temp/uav-cyber-sim/params/vehicle.parm\n",
      "Loaded defaults from ../../../ardupilot/Tools/autotest/default_params/copter.parm,/home/abeldg/repo_temp/uav-cyber-sim/params/vehicle.parm\n",
      "Loaded defaults from ../../../ardupilot/Tools/autotest/default_params/copter.parm,/home/abeldg/repo_temp/uav-cyber-sim/params/vehicle.parm\n",
      "Loaded defaults from ../../../ardupilot/Tools/autotest/default_params/copter.parm,/home/abeldg/repo_temp/uav-cyber-sim/params/vehicle.parm\n",
      "Loaded defaults from ../../../ardupilot/Tools/autotest/default_params/copter.parm,/home/abeldg/repo_temp/uav-cyber-sim/params/vehicle.parm\n",
      "Loaded defaults from ../../../ardupilot/Tools/autotest/default_params/copter.parm,/home/abeldg/repo_temp/uav-cyber-sim/params/vehicle.parm\n",
      "Loaded defaults from ../../../ardupilot/Tools/autotest/default_params/copter.parm,/home/abeldg/repo_temp/uav-cyber-sim/params/vehicle.parm\n",
      "Loaded defaults from ../../../ardupilot/Tools/autotest/default_params/copter.parm,/home/abeldg/repo_temp/uav-cyber-sim/params/vehicle.parm\n",
      "Loaded defaults from ../../../ardupilot/Tools/autotest/default_params/copter.parm,/home/abeldg/repo_temp/uav-cyber-sim/params/vehicle.parm\n",
      "Loaded defaults from ../../../ardupilot/Tools/autotest/default_params/copter.parm,/home/abeldg/repo_temp/uav-cyber-sim/params/vehicle.parm\n",
      "Loaded defaults from ../../../ardupilot/Tools/autotest/default_params/copter.parm,/home/abeldg/repo_temp/uav-cyber-sim/params/vehicle.parm\n",
      "Loaded defaults from ../../../ardupilot/Tools/autotest/default_params/copter.parm,/home/abeldg/repo_temp/uav-cyber-sim/params/vehicle.parm\n",
      "Loaded defaults from ../../../ardupilot/Tools/autotest/default_params/copter.parm,/home/abeldg/repo_temp/uav-cyber-sim/params/vehicle.parm\n",
      "Loaded defaults from ../../../ardupilot/Tools/autotest/default_params/copter.parm,/home/abeldg/repo_temp/uav-cyber-sim/params/vehicle.parm\n",
      "Loaded defaults from ../../../ardupilot/Tools/autotest/default_params/copter.parm,/home/abeldg/repo_temp/uav-cyber-sim/params/vehicle.parm\n",
      "Loaded defaults from ../../../ardupilot/Tools/autotest/default_params/copter.parm,/home/abeldg/repo_temp/uav-cyber-sim/params/vehicle.parm\n",
      "Loaded defaults from ../../../ardupilot/Tools/autotest/default_params/copter.parm,/home/abeldg/repo_temp/uav-cyber-sim/params/vehicle.parm\n",
      "Loaded defaults from ../../../ardupilot/Tools/autotest/default_params/copter.parm,/home/abeldg/repo_temp/uav-cyber-sim/params/vehicle.parm\n",
      "Loaded defaults from ../../../ardupilot/Tools/autotest/default_params/copter.parm,/home/abeldg/repo_temp/uav-cyber-sim/params/vehicle.parm\n",
      "Loaded defaults from ../../../ardupilot/Tools/autotest/default_params/copter.parm,/home/abeldg/repo_temp/uav-cyber-sim/params/vehicle.parm\n",
      "Loaded defaults from ../../../ardupilot/Tools/autotest/default_params/copter.parm,/home/abeldg/repo_temp/uav-cyber-sim/params/vehicle.parm\n",
      "Loaded defaults from ../../../ardupilot/Tools/autotest/default_params/copter.parm,/home/abeldg/repo_temp/uav-cyber-sim/params/vehicle.parm\n",
      "Loaded defaults from ../../../ardupilot/Tools/autotest/default_params/copter.parm,/home/abeldg/repo_temp/uav-cyber-sim/params/vehicle.parm\n",
      "Loaded defaults from ../../../ardupilot/Tools/autotest/default_params/copter.parm,/home/abeldg/repo_temp/uav-cyber-sim/params/vehicle.parm\n",
      "Loaded defaults from ../../../ardupilot/Tools/autotest/default_params/copter.parm,/home/abeldg/repo_temp/uav-cyber-sim/params/vehicle.parm\n",
      "Loaded defaults from ../../../ardupilot/Tools/autotest/default_params/copter.parm,/home/abeldg/repo_temp/uav-cyber-sim/params/vehicle.parm\n",
      "Loaded defaults from ../../../ardupilot/Tools/autotest/default_params/copter.parm,/home/abeldg/repo_temp/uav-cyber-sim/params/vehicle.parm\n",
      "Loaded defaults from ../../../ardupilot/Tools/autotest/default_params/copter.parm,/home/abeldg/repo_temp/uav-cyber-sim/params/vehicle.parm\n",
      "Loaded defaults from ../../../ardupilot/Tools/autotest/default_params/copter.parm,/home/abeldg/repo_temp/uav-cyber-sim/params/vehicle.parm\n",
      "Loaded defaults from ../../../ardupilot/Tools/autotest/default_params/copter.parm,/home/abeldg/repo_temp/uav-cyber-sim/params/vehicle.parm\n",
      "Loaded defaults from ../../../ardupilot/Tools/autotest/default_params/copter.parm,/home/abeldg/repo_temp/uav-cyber-sim/params/vehicle.parm\n",
      "Loaded defaults from ../../../ardupilot/Tools/autotest/default_params/copter.parm,/home/abeldg/repo_temp/uav-cyber-sim/params/vehicle.parm\n",
      "Loaded defaults from ../../../ardupilot/Tools/autotest/default_params/copter.parm,/home/abeldg/repo_temp/uav-cyber-sim/params/vehicle.parm\n",
      "Loaded defaults from ../../../ardupilot/Tools/autotest/default_params/copter.parm,/home/abeldg/repo_temp/uav-cyber-sim/params/vehicle.parm\n",
      "Loaded defaults from ../../../ardupilot/Tools/autotest/default_params/copter.parm,/home/abeldg/repo_temp/uav-cyber-sim/params/vehicle.parm\n",
      "Loaded defaults from ../../../ardupilot/Tools/autotest/default_params/copter.parm,/home/abeldg/repo_temp/uav-cyber-sim/params/vehicle.parm\n",
      "Loaded defaults from ../../../ardupilot/Tools/autotest/default_params/copter.parm,/home/abeldg/repo_temp/uav-cyber-sim/params/vehicle.parm\n"
     ]
    },
    {
     "name": "stderr",
     "output_type": "stream",
     "text": [
      "bind port 5792 for SERIAL1\n",
      "SERIAL1 on TCP port 5792\n",
      "bind port 5793 for SERIAL2\n",
      "SERIAL2 on TCP port 5793\n",
      "validate_structures:528: Validating structures\n",
      "Waiting for internal clock bits to be set (current=0x00)\n",
      "bind port 5802 for SERIAL1\n",
      "SERIAL1 on TCP port 5802\n",
      "bind port 5803 for SERIAL2\n",
      "SERIAL2 on TCP port 5803\n",
      "validate_structures:528: Validating structures\n",
      "Waiting for internal clock bits to be set (current=0x00)\n",
      "bind port 5762 for SERIAL1\n",
      "SERIAL1 on TCP port 5762\n",
      "bind port 5763 for SERIAL2\n",
      "SERIAL2 on TCP port 5763\n",
      "validate_structures:528: Validating structures\n",
      "Waiting for internal clock bits to be set (current=0x00)\n",
      "bind port 5782 for SERIAL1\n",
      "SERIAL1 on TCP port 5782\n",
      "bind port 5783 for SERIAL2\n",
      "SERIAL2 on TCP port 5783\n",
      "validate_structures:528: Validating structures\n",
      "Waiting for internal clock bits to be set (current=0x00)\n",
      "bind port 5772 for SERIAL1\n",
      "SERIAL1 on TCP port 5772\n",
      "bind port 5773 for SERIAL2\n",
      "SERIAL2 on TCP port 5773\n",
      "validate_structures:528: Validating structures\n",
      "Waiting for internal clock bits to be set (current=0x00)\n"
     ]
    },
    {
     "name": "stdout",
     "output_type": "stream",
     "text": [
      "New connection on SERIAL1\n",
      "New connection on SERIAL1\n",
      "New connection on SERIAL1\n",
      "New connection on SERIAL1\n",
      "New connection on SERIAL1\n",
      "🔗 UAV logic 4 is connected to Oracle ⚪\n",
      "✅ Heartbeat received\n",
      "\n",
      "🚀 Starting Vehicle 4 logic\n",
      "Vehicle 4: ▶️ Plan Started: 📋 square_auto\n",
      "🔗 UAV logic 5 is connected to Oracle ⚪\n",
      "✅ Heartbeat received\n",
      "\n",
      "🚀 Starting Vehicle 5 logic\n",
      "Vehicle 5: ▶️ Plan Started: 📋 square_auto\n",
      "🔗 UAV logic 1 is connected to Oracle ⚪\n",
      "Vehicle 4: ▶️ Action Started: 📤 UPLOAD_MISSION\n",
      "✅ Heartbeat received\n",
      "\n",
      "🚀 Starting Vehicle 1 logic\n",
      "Vehicle 1: ▶️ Plan Started: 📋 square_auto\n",
      "🔗 UAV logic 3 is connected to Oracle ⚪\n",
      "✅ Heartbeat received\n",
      "\n",
      "🚀 Starting Vehicle 3 logic\n",
      "Vehicle 3: ▶️ Plan Started: 📋 square_auto\n",
      "Vehicle 5: ▶️ Action Started: 📤 UPLOAD_MISSION\n",
      "🔗 UAV logic 2 is connected to Oracle ⚪\n",
      "✅ Heartbeat received\n",
      "\n",
      "🚀 Starting Vehicle 2 logic\n",
      "Vehicle 2: ▶️ Plan Started: 📋 square_auto\n",
      "Vehicle 4: ▶️ Step Started: clear uav missions\n",
      "Vehicle 1: ▶️ Action Started: 📤 UPLOAD_MISSION\n",
      "🚀 GCS blue 🟦 launched (PID 3113702)\n"
     ]
    },
    {
     "name": "stdout",
     "output_type": "stream",
     "text": [
      "Vehicle 3: ▶️ Action Started: 📤 UPLOAD_MISSION\n"
     ]
    }
   ],
   "source": [
    "# TODO: Is it possible/feasible use more than one visualizer at the same time? \n",
    "# It seems there is a port conflict, only the visualizer that launches first works.\n",
    "\n",
    "simulator = Simulator(\n",
    "\tvisualizers=[qgc_vis],\n",
    "\tterminals=False,\n",
    "\tverbose=2\n",
    ")\n",
    "orac = simulator.launch(gcs_sysids={'blue 🟦': [1]})"
   ]
  },
  {
   "cell_type": "markdown",
   "metadata": {},
   "source": [
    "## Execute Plan"
   ]
  },
  {
   "cell_type": "code",
   "execution_count": null,
   "metadata": {},
   "outputs": [
    {
     "name": "stdout",
     "output_type": "stream",
     "text": [
      "Vehicle 5: ▶️ Step Started: clear uav missions\n",
      "Vehicle 2: ▶️ Action Started: 📤 UPLOAD_MISSION\n",
      "Vehicle 1: ▶️ Step Started: clear uav missions\n",
      "Vehicle 3: ▶️ Step Started: clear uav missions\n",
      "Vehicle 2: ▶️ Step Started: clear uav missions\n",
      "🔗 UAV logic 1 is connected\n",
      "SIM_VEHICLE: Waiting for SITL to exit\n",
      "SIM_VEHICLE: Waiting for SITL to exit\n",
      "SIM_VEHICLE: Waiting for SITL to exit\n",
      "SIM_VEHICLE: Waiting for SITL to exit\n",
      "SIM_VEHICLE: Waiting for SITL to exit\n",
      "🧹 Cleared previous mission\n",
      "Vehicle 4: ✅ Step Done: clear uav missions\n",
      "🧹 Cleared previous mission\n",
      "Vehicle 1: ✅ Step Done: clear uav missions\n",
      "🧹 Cleared previous mission\n",
      "Vehicle 5: ✅ Step Done: clear uav missions\n",
      "🧹 Cleared previous mission\n",
      "Vehicle 2: ✅ Step Done: clear uav missions\n",
      "✅ 7 waypoints read.\n",
      "🧭 Mission[0] → cmd: WAYPOINT, x: -35.3633245, y: 149.1648936, z: 0.0, current: 0\n",
      "🧭 Mission[1] → cmd: TAKEOFF, x: -35.3633245, y: 149.1648936, z: 5.0, current: 0\n",
      "🧭 Mission[2] → cmd: WAYPOINT, x: -35.3632347, y: 149.1648936, z: 5.0, current: 0\n",
      "🧭 Mission[3] → cmd: WAYPOINT, x: -35.3632347, y: 149.1650038, z: 5.0, current: 0\n",
      "🧭 Mission[4] → cmd: WAYPOINT, x: -35.3633245, y: 149.1650038, z: 5.0, current: 0\n",
      "🧭 Mission[5] → cmd: WAYPOINT, x: -35.3633245, y: 149.1648936, z: 5.0, current: 0\n",
      "🧭 Mission[6] → cmd: LAND, x: -35.3633245, y: 149.1648936, z: 0.0, current: 0\n",
      "🧹 Cleared previous mission\n",
      "Vehicle 3: ✅ Step Done: clear uav missions\n",
      "✅ 7 waypoints read.\n",
      "🧭 Mission[0] → cmd: WAYPOINT, x: -35.3633245, y: 149.1652241, z: 0.0, current: 0\n",
      "🧭 Mission[1] → cmd: TAKEOFF, x: -35.3633245, y: 149.1652241, z: 5.0, current: 0\n",
      "🧭 Mission[2] → cmd: WAYPOINT, x: -35.3632347, y: 149.1652241, z: 5.0, current: 0\n",
      "🧭 Mission[3] → cmd: WAYPOINT, x: -35.3632347, y: 149.1653343, z: 5.0, current: 0\n",
      "🧭 Mission[4] → cmd: WAYPOINT, x: -35.3633245, y: 149.1653343, z: 5.0, current: 0\n",
      "🧭 Mission[5] → cmd: WAYPOINT, x: -35.3633245, y: 149.1652241, z: 5.0, current: 0\n",
      "🧭 Mission[6] → cmd: LAND, x: -35.3633245, y: 149.1652241, z: 0.0, current: 0\n",
      "✅ 7 waypoints read.\n",
      "🧭 Mission[0] → cmd: WAYPOINT, x: -35.3636838, y: 149.1652241, z: 0.0, current: 0\n",
      "🧭 Mission[1] → cmd: TAKEOFF, x: -35.3636838, y: 149.1652241, z: 5.0, current: 0\n",
      "🧭 Mission[2] → cmd: WAYPOINT, x: -35.363594, y: 149.1652241, z: 5.0, current: 0\n",
      "🧭 Mission[3] → cmd: WAYPOINT, x: -35.363594, y: 149.1653343, z: 5.0, current: 0\n",
      "🧭 Mission[4] → cmd: WAYPOINT, x: -35.3636838, y: 149.1653343, z: 5.0, current: 0\n",
      "🧭 Mission[5] → cmd: WAYPOINT, x: -35.3636838, y: 149.1652241, z: 5.0, current: 0\n",
      "🧭 Mission[6] → cmd: LAND, x: -35.3636838, y: 149.1652241, z: 0.0, current: 0\n",
      "✅ 7 waypoints read.\n",
      "🧭 Mission[0] → cmd: WAYPOINT, x: -35.363261, y: 149.1654121, z: 0.0, current: 0\n",
      "🧭 Mission[1] → cmd: TAKEOFF, x: -35.363261, y: 149.1654121, z: 5.0, current: 0\n",
      "🧭 Mission[2] → cmd: WAYPOINT, x: -35.3631975, y: 149.1653343, z: 5.0, current: 0\n",
      "🧭 Mission[3] → cmd: WAYPOINT, x: -35.3631339, y: 149.1654121, z: 5.0, current: 0\n",
      "🧭 Mission[4] → cmd: WAYPOINT, x: -35.3631975, y: 149.16549, z: 5.0, current: 0\n",
      "🧭 Mission[5] → cmd: WAYPOINT, x: -35.363261, y: 149.1654121, z: 5.0, current: 0\n",
      "🧭 Mission[6] → cmd: LAND, x: -35.363261, y: 149.1654121, z: 0.0, current: 0\n",
      "✅ 7 waypoints read.\n",
      "🧭 Mission[0] → cmd: WAYPOINT, x: -35.3633191, y: 149.1651301, z: 0.0, current: 0\n",
      "🧭 Mission[1] → cmd: TAKEOFF, x: -35.3633191, y: 149.1651301, z: 5.0, current: 0\n",
      "🧭 Mission[2] → cmd: WAYPOINT, x: -35.3633826, y: 149.165208, z: 5.0, current: 0\n",
      "🧭 Mission[3] → cmd: WAYPOINT, x: -35.3634461, y: 149.1651301, z: 5.0, current: 0\n",
      "🧭 Mission[4] → cmd: WAYPOINT, x: -35.3633826, y: 149.1650522, z: 5.0, current: 0\n",
      "🧭 Mission[5] → cmd: WAYPOINT, x: -35.3633191, y: 149.1651301, z: 5.0, current: 0\n",
      "🧭 Mission[6] → cmd: LAND, x: -35.3633191, y: 149.1651301, z: 0.0, current: 0\n",
      "✅ Sent mission item 0\n",
      "✅ Sent mission item 0\n",
      "✅ Sent mission item 0\n",
      "✅ Sent mission item 0\n",
      "✅ Sent mission item 1\n",
      "✅ Sent mission item 0\n",
      "✅ Sent mission item 1\n",
      "✅ Sent mission item 1\n",
      "✅ Sent mission item 1\n",
      "✅ Sent mission item 2\n",
      "✅ Sent mission item 1\n",
      "✅ Sent mission item 2\n",
      "✅ Sent mission item 2\n",
      "✅ Sent mission item 2\n",
      "✅ Sent mission item 3\n",
      "✅ Sent mission item 2\n",
      "✅ Sent mission item 3\n",
      "✅ Sent mission item 3\n",
      "✅ Sent mission item 3\n",
      "✅ Sent mission item 4\n",
      "✅ Sent mission item 3\n",
      "✅ Sent mission item 4\n",
      "✅ Sent mission item 4\n",
      "✅ Sent mission item 4\n",
      "✅ Sent mission item 5\n",
      "✅ Sent mission item 4\n",
      "✅ Sent mission item 5\n",
      "✅ Sent mission item 5\n",
      "✅ Sent mission item 5\n",
      "✅ Sent mission item 6\n",
      "Vehicle 4: ▶️ Step Started: load mission square_4\n",
      "✅ Sent mission item 5\n",
      "✅ Sent mission item 6\n",
      "Vehicle 1: ▶️ Step Started: load mission square_1\n",
      "✅ Sent mission item 6\n",
      "Vehicle 5: ▶️ Step Started: load mission square_5\n",
      "✅ Sent mission item 6\n",
      "Vehicle 2: ▶️ Step Started: load mission square_2\n",
      "🎉 Mission upload successful!\n",
      "Vehicle 4: ✅ Step Done: load mission square_4\n",
      "✅ Sent mission item 6\n",
      "Vehicle 3: ▶️ Step Started: load mission square_3\n",
      "🎉 Mission upload successful!\n",
      "Vehicle 1: ✅ Step Done: load mission square_1\n",
      "Vehicle 4: ✅ Action Done: 📤 UPLOAD_MISSION\n",
      "🎉 Mission upload successful!\n",
      "Vehicle 5: ✅ Step Done: load mission square_5\n",
      "🎉 Mission upload successful!\n",
      "Vehicle 2: ✅ Step Done: load mission square_2\n",
      "Vehicle 1: ✅ Action Done: 📤 UPLOAD_MISSION\n",
      "🎉 Mission upload successful!\n",
      "Vehicle 3: ✅ Step Done: load mission square_3\n",
      "Vehicle 5: ✅ Action Done: 📤 UPLOAD_MISSION\n",
      "Vehicle 2: ✅ Action Done: 📤 UPLOAD_MISSION\n",
      "Vehicle 4: ▶️ Action Started: 🔧 PREARM\n",
      "Vehicle 3: ✅ Action Done: 📤 UPLOAD_MISSION\n",
      "Vehicle 1: ▶️ Action Started: 🔧 PREARM\n",
      "Vehicle 4: ▶️ Step Started: Check disarmed\n",
      "Vehicle 5: ▶️ Action Started: 🔧 PREARM\n",
      "Vehicle 2: ▶️ Action Started: 🔧 PREARM\n",
      "Vehicle 1: ▶️ Step Started: Check disarmed\n",
      "Vehicle 3: ▶️ Action Started: 🔧 PREARM\n",
      "Vehicle 5: ▶️ Step Started: Check disarmed\n",
      "Vehicle 2: ▶️ Step Started: Check disarmed\n",
      "Vehicle 3: ▶️ Step Started: Check disarmed\n",
      "Vehicle 4: ✅ Step Done: Check disarmed\n",
      "Vehicle 5: ✅ Step Done: Check disarmed\n",
      "Vehicle 1: ✅ Step Done: Check disarmed\n",
      "Vehicle 3: ✅ Step Done: Check disarmed\n",
      "Vehicle 2: ✅ Step Done: Check disarmed\n",
      "📡 Requested message EKF_STATUS_REPORT at 1.00 Hz\n",
      "Vehicle 4: ▶️ Step Started: Check EKF status\n",
      "📡 Requested message EKF_STATUS_REPORT at 1.00 Hz\n",
      "Vehicle 5: ▶️ Step Started: Check EKF status\n",
      "📡 Requested message EKF_STATUS_REPORT at 1.00 Hz\n",
      "Vehicle 1: ▶️ Step Started: Check EKF status\n",
      "📡 Requested message EKF_STATUS_REPORT at 1.00 Hz\n",
      "Vehicle 3: ▶️ Step Started: Check EKF status\n",
      "📡 Requested message EKF_STATUS_REPORT at 1.00 Hz\n",
      "Vehicle 2: ▶️ Step Started: Check EKF status\n",
      "⌛ Waiting for EKF to be ready... Pending: ATTITUDE, VELOCITY_HORIZ, POS_VERT_ABS, POS_HORIZ_ABS\n",
      "⌛ Waiting for EKF to be ready... Pending: ATTITUDE, VELOCITY_HORIZ, POS_VERT_ABS, POS_HORIZ_ABS\n",
      "⌛ Waiting for EKF to be ready... Pending: ATTITUDE, VELOCITY_HORIZ, POS_VERT_ABS, POS_HORIZ_ABS\n",
      "⌛ Waiting for EKF to be ready... Pending: ATTITUDE, VELOCITY_HORIZ, POS_VERT_ABS, POS_HORIZ_ABS\n",
      "⌛ Waiting for EKF to be ready... Pending: ATTITUDE, VELOCITY_HORIZ, POS_VERT_ABS, POS_HORIZ_ABS\n",
      "⌛ Waiting for EKF to be ready... Pending: POS_HORIZ_ABS\n",
      "⌛ Waiting for EKF to be ready... Pending: POS_HORIZ_ABS\n",
      "⌛ Waiting for EKF to be ready... Pending: POS_HORIZ_ABS\n",
      "⌛ Waiting for EKF to be ready... Pending: POS_HORIZ_ABS\n",
      "⌛ Waiting for EKF to be ready... Pending: POS_HORIZ_ABS\n",
      "⌛ Waiting for EKF to be ready... Pending: POS_HORIZ_ABS\n",
      "⌛ Waiting for EKF to be ready... Pending: POS_HORIZ_ABS\n",
      "⌛ Waiting for EKF to be ready... Pending: POS_HORIZ_ABS\n",
      "⌛ Waiting for EKF to be ready... Pending: POS_HORIZ_ABS\n",
      "⌛ Waiting for EKF to be ready... Pending: POS_HORIZ_ABS\n",
      "⌛ Waiting for EKF to be ready... Pending: POS_HORIZ_ABS\n",
      "⌛ Waiting for EKF to be ready... Pending: POS_HORIZ_ABS\n",
      "⌛ Waiting for EKF to be ready... Pending: POS_HORIZ_ABS\n",
      "⌛ Waiting for EKF to be ready... Pending: POS_HORIZ_ABS\n",
      "⌛ Waiting for EKF to be ready... Pending: POS_HORIZ_ABS\n",
      "⌛ Waiting for EKF to be ready... Pending: POS_HORIZ_ABS\n",
      "⌛ Waiting for EKF to be ready... Pending: POS_HORIZ_ABS\n",
      "⌛ Waiting for EKF to be ready... Pending: POS_HORIZ_ABS\n",
      "⌛ Waiting for EKF to be ready... Pending: POS_HORIZ_ABS\n",
      "⌛ Waiting for EKF to be ready... Pending: POS_HORIZ_ABS\n",
      "⌛ Waiting for EKF to be ready... Pending: POS_HORIZ_ABS\n",
      "⌛ Waiting for EKF to be ready... Pending: POS_HORIZ_ABS\n",
      "⌛ Waiting for EKF to be ready... Pending: POS_HORIZ_ABS\n",
      "⌛ Waiting for EKF to be ready... Pending: POS_HORIZ_ABS\n",
      "⌛ Waiting for EKF to be ready... Pending: POS_HORIZ_ABS\n",
      "⌛ Waiting for EKF to be ready... Pending: POS_HORIZ_ABS\n",
      "⌛ Waiting for EKF to be ready... Pending: POS_HORIZ_ABS\n",
      "⌛ Waiting for EKF to be ready... Pending: POS_HORIZ_ABS\n",
      "⌛ Waiting for EKF to be ready... Pending: POS_HORIZ_ABS\n",
      "⌛ Waiting for EKF to be ready... Pending: POS_HORIZ_ABS\n",
      "⌛ Waiting for EKF to be ready... Pending: POS_HORIZ_ABS\n",
      "⌛ Waiting for EKF to be ready... Pending: POS_HORIZ_ABS\n",
      "⌛ Waiting for EKF to be ready... Pending: POS_HORIZ_ABS\n",
      "⌛ Waiting for EKF to be ready... Pending: POS_HORIZ_ABS\n",
      "⌛ Waiting for EKF to be ready... Pending: POS_HORIZ_ABS\n",
      "⌛ Waiting for EKF to be ready... Pending: POS_HORIZ_ABS\n",
      "⌛ Waiting for EKF to be ready... Pending: POS_HORIZ_ABS\n",
      "⌛ Waiting for EKF to be ready... Pending: POS_HORIZ_ABS\n",
      "⌛ Waiting for EKF to be ready... Pending: POS_HORIZ_ABS\n",
      "⌛ Waiting for EKF to be ready... Pending: POS_HORIZ_ABS\n",
      "⌛ Waiting for EKF to be ready... Pending: POS_HORIZ_ABS\n",
      "⌛ Waiting for EKF to be ready... Pending: POS_HORIZ_ABS\n",
      "⌛ Waiting for EKF to be ready... Pending: POS_HORIZ_ABS\n",
      "⌛ Waiting for EKF to be ready... Pending: POS_HORIZ_ABS\n",
      "⌛ Waiting for EKF to be ready... Pending: POS_HORIZ_ABS\n",
      "⌛ Waiting for EKF to be ready... Pending: POS_HORIZ_ABS\n",
      "⌛ Waiting for EKF to be ready... Pending: POS_HORIZ_ABS\n",
      "⌛ Waiting for EKF to be ready... Pending: POS_HORIZ_ABS\n",
      "⌛ Waiting for EKF to be ready... Pending: POS_HORIZ_ABS\n",
      "⌛ Waiting for EKF to be ready... Pending: POS_HORIZ_ABS\n",
      "⌛ Waiting for EKF to be ready... Pending: POS_HORIZ_ABS\n",
      "⌛ Waiting for EKF to be ready... Pending: POS_HORIZ_ABS\n",
      "⌛ Waiting for EKF to be ready... Pending: POS_HORIZ_ABS\n",
      "⌛ Waiting for EKF to be ready... Pending: POS_HORIZ_ABS\n",
      "⌛ Waiting for EKF to be ready... Pending: POS_HORIZ_ABS\n",
      "⌛ Waiting for EKF to be ready... Pending: POS_HORIZ_ABS\n",
      "⌛ Waiting for EKF to be ready... Pending: POS_HORIZ_ABS\n",
      "⌛ Waiting for EKF to be ready... Pending: POS_HORIZ_ABS\n",
      "⌛ Waiting for EKF to be ready... Pending: POS_HORIZ_ABS\n",
      "⌛ Waiting for EKF to be ready... Pending: POS_HORIZ_ABS\n",
      "⌛ Waiting for EKF to be ready... Pending: POS_HORIZ_ABS\n",
      "⌛ Waiting for EKF to be ready... Pending: POS_HORIZ_ABS\n",
      "⌛ Waiting for EKF to be ready... Pending: POS_HORIZ_ABS\n",
      "⌛ Waiting for EKF to be ready... Pending: POS_HORIZ_ABS\n",
      "⌛ Waiting for EKF to be ready... Pending: POS_HORIZ_ABS\n",
      "⌛ Waiting for EKF to be ready... Pending: POS_HORIZ_ABS\n",
      "⌛ Waiting for EKF to be ready... Pending: POS_HORIZ_ABS\n",
      "⌛ Waiting for EKF to be ready... Pending: POS_HORIZ_ABS\n",
      "⌛ Waiting for EKF to be ready... Pending: POS_HORIZ_ABS\n",
      "⌛ Waiting for EKF to be ready... Pending: POS_HORIZ_ABS\n",
      "⌛ Waiting for EKF to be ready... Pending: POS_HORIZ_ABS\n",
      "⌛ Waiting for EKF to be ready... Pending: POS_HORIZ_ABS\n",
      "⌛ Waiting for EKF to be ready... Pending: POS_HORIZ_ABS\n",
      "⌛ Waiting for EKF to be ready... Pending: POS_HORIZ_ABS\n",
      "⌛ Waiting for EKF to be ready... Pending: POS_HORIZ_ABS\n",
      "⌛ Waiting for EKF to be ready... Pending: POS_HORIZ_ABS\n",
      "⌛ Waiting for EKF to be ready... Pending: POS_HORIZ_ABS\n",
      "⌛ Waiting for EKF to be ready... Pending: POS_HORIZ_ABS\n",
      "⌛ Waiting for EKF to be ready... Pending: POS_HORIZ_ABS\n",
      "⌛ Waiting for EKF to be ready... Pending: POS_HORIZ_ABS\n",
      "⌛ Waiting for EKF to be ready... Pending: POS_HORIZ_ABS\n",
      "⌛ Waiting for EKF to be ready... Pending: POS_HORIZ_ABS\n",
      "⌛ Waiting for EKF to be ready... Pending: POS_HORIZ_ABS\n",
      "⌛ Waiting for EKF to be ready... Pending: POS_HORIZ_ABS\n",
      "⌛ Waiting for EKF to be ready... Pending: POS_HORIZ_ABS\n",
      "⌛ Waiting for EKF to be ready... Pending: POS_HORIZ_ABS\n",
      "⌛ Waiting for EKF to be ready... Pending: POS_HORIZ_ABS\n",
      "⌛ Waiting for EKF to be ready... Pending: POS_HORIZ_ABS\n",
      "⌛ Waiting for EKF to be ready... Pending: POS_HORIZ_ABS\n",
      "⌛ Waiting for EKF to be ready... Pending: POS_HORIZ_ABS\n",
      "⌛ Waiting for EKF to be ready... Pending: POS_HORIZ_ABS\n",
      "⌛ Waiting for EKF to be ready... Pending: POS_HORIZ_ABS\n",
      "⌛ Waiting for EKF to be ready... Pending: POS_HORIZ_ABS\n",
      "⌛ Waiting for EKF to be ready... Pending: POS_HORIZ_ABS\n",
      "⌛ Waiting for EKF to be ready... Pending: POS_HORIZ_ABS\n",
      "⌛ Waiting for EKF to be ready... Pending: POS_HORIZ_ABS\n",
      "⌛ Waiting for EKF to be ready... Pending: POS_HORIZ_ABS\n",
      "⌛ Waiting for EKF to be ready... Pending: POS_HORIZ_ABS\n",
      "⌛ Waiting for EKF to be ready... Pending: POS_HORIZ_ABS\n",
      "⌛ Waiting for EKF to be ready... Pending: POS_HORIZ_ABS\n",
      "⌛ Waiting for EKF to be ready... Pending: POS_HORIZ_ABS\n",
      "⌛ Waiting for EKF to be ready... Pending: POS_HORIZ_ABS\n",
      "⌛ Waiting for EKF to be ready... Pending: POS_HORIZ_ABS\n",
      "⌛ Waiting for EKF to be ready... Pending: POS_HORIZ_ABS\n",
      "⌛ Waiting for EKF to be ready... Pending: POS_HORIZ_ABS\n",
      "⌛ Waiting for EKF to be ready... Pending: POS_HORIZ_ABS\n",
      "⌛ Waiting for EKF to be ready... Pending: POS_HORIZ_ABS\n",
      "⌛ Waiting for EKF to be ready... Pending: POS_HORIZ_ABS\n",
      "⌛ Waiting for EKF to be ready... Pending: POS_HORIZ_ABS\n",
      "⌛ Waiting for EKF to be ready... Pending: POS_HORIZ_ABS\n",
      "⌛ Waiting for EKF to be ready... Pending: POS_HORIZ_ABS\n",
      "⌛ Waiting for EKF to be ready... Pending: POS_HORIZ_ABS\n",
      "⌛ Waiting for EKF to be ready... Pending: POS_HORIZ_ABS\n",
      "⌛ Waiting for EKF to be ready... Pending: POS_HORIZ_ABS\n",
      "⌛ Waiting for EKF to be ready... Pending: POS_HORIZ_ABS\n",
      "⌛ Waiting for EKF to be ready... Pending: POS_HORIZ_ABS\n",
      "⌛ Waiting for EKF to be ready... Pending: POS_HORIZ_ABS\n",
      "⌛ Waiting for EKF to be ready... Pending: POS_HORIZ_ABS\n",
      "⌛ Waiting for EKF to be ready... Pending: POS_HORIZ_ABS\n",
      "⌛ Waiting for EKF to be ready... Pending: POS_HORIZ_ABS\n",
      "⌛ Waiting for EKF to be ready... Pending: POS_HORIZ_ABS\n",
      "⌛ Waiting for EKF to be ready... Pending: POS_HORIZ_ABS\n",
      "⌛ Waiting for EKF to be ready... Pending: POS_HORIZ_ABS\n",
      "⌛ Waiting for EKF to be ready... Pending: POS_HORIZ_ABS\n",
      "⌛ Waiting for EKF to be ready... Pending: POS_HORIZ_ABS\n",
      "⌛ Waiting for EKF to be ready... Pending: POS_HORIZ_ABS\n",
      "⌛ Waiting for EKF to be ready... Pending: POS_HORIZ_ABS\n",
      "⌛ Waiting for EKF to be ready... Pending: POS_HORIZ_ABS\n",
      "⌛ Waiting for EKF to be ready... Pending: POS_HORIZ_ABS\n",
      "⌛ Waiting for EKF to be ready... Pending: POS_HORIZ_ABS\n",
      "⌛ Waiting for EKF to be ready... Pending: POS_HORIZ_ABS\n",
      "⌛ Waiting for EKF to be ready... Pending: POS_HORIZ_ABS\n",
      "⌛ Waiting for EKF to be ready... Pending: POS_HORIZ_ABS\n",
      "⌛ Waiting for EKF to be ready... Pending: POS_HORIZ_ABS\n",
      "⌛ Waiting for EKF to be ready... Pending: POS_HORIZ_ABS\n",
      "⌛ Waiting for EKF to be ready... Pending: POS_HORIZ_ABS\n",
      "⌛ Waiting for EKF to be ready... Pending: POS_HORIZ_ABS\n",
      "⌛ Waiting for EKF to be ready... Pending: POS_HORIZ_ABS\n",
      "⌛ Waiting for EKF to be ready... Pending: POS_HORIZ_ABS\n",
      "⌛ Waiting for EKF to be ready... Pending: POS_HORIZ_ABS\n",
      "⌛ Waiting for EKF to be ready... Pending: POS_HORIZ_ABS\n",
      "⌛ Waiting for EKF to be ready... Pending: POS_HORIZ_ABS\n",
      "⌛ Waiting for EKF to be ready... Pending: POS_HORIZ_ABS\n",
      "⌛ Waiting for EKF to be ready... Pending: POS_HORIZ_ABS\n",
      "⌛ Waiting for EKF to be ready... Pending: POS_HORIZ_ABS\n",
      "⌛ Waiting for EKF to be ready... Pending: POS_HORIZ_ABS\n",
      "⌛ Waiting for EKF to be ready... Pending: POS_HORIZ_ABS\n",
      "⌛ Waiting for EKF to be ready... Pending: POS_HORIZ_ABS\n",
      "⌛ Waiting for EKF to be ready... Pending: POS_HORIZ_ABS\n",
      "⌛ Waiting for EKF to be ready... Pending: POS_HORIZ_ABS\n",
      "⌛ Waiting for EKF to be ready... Pending: POS_HORIZ_ABS\n",
      "⌛ Waiting for EKF to be ready... Pending: POS_HORIZ_ABS\n",
      "⌛ Waiting for EKF to be ready... Pending: POS_HORIZ_ABS\n",
      "⌛ Waiting for EKF to be ready... Pending: POS_HORIZ_ABS\n",
      "⌛ Waiting for EKF to be ready... Pending: POS_HORIZ_ABS\n",
      "⌛ Waiting for EKF to be ready... Pending: POS_HORIZ_ABS\n",
      "⌛ Waiting for EKF to be ready... Pending: POS_HORIZ_ABS\n",
      "⌛ Waiting for EKF to be ready... Pending: POS_HORIZ_ABS\n",
      "⌛ Waiting for EKF to be ready... Pending: POS_HORIZ_ABS\n",
      "⌛ Waiting for EKF to be ready... Pending: POS_HORIZ_ABS\n",
      "⌛ Waiting for EKF to be ready... Pending: POS_HORIZ_ABS\n",
      "⌛ Waiting for EKF to be ready... Pending: POS_HORIZ_ABS\n",
      "⌛ Waiting for EKF to be ready... Pending: POS_HORIZ_ABS\n",
      "⌛ Waiting for EKF to be ready... Pending: POS_HORIZ_ABS\n",
      "⌛ Waiting for EKF to be ready... Pending: POS_HORIZ_ABS\n",
      "⌛ Waiting for EKF to be ready... Pending: POS_HORIZ_ABS\n",
      "⌛ Waiting for EKF to be ready... Pending: POS_HORIZ_ABS\n",
      "⌛ Waiting for EKF to be ready... Pending: POS_HORIZ_ABS\n",
      "⌛ Waiting for EKF to be ready... Pending: POS_HORIZ_ABS\n",
      "⌛ Waiting for EKF to be ready... Pending: POS_HORIZ_ABS\n",
      "⌛ Waiting for EKF to be ready... Pending: POS_HORIZ_ABS\n",
      "⌛ Waiting for EKF to be ready... Pending: POS_HORIZ_ABS\n",
      "⌛ Waiting for EKF to be ready... Pending: POS_HORIZ_ABS\n",
      "⌛ Waiting for EKF to be ready... Pending: POS_HORIZ_ABS\n",
      "⌛ Waiting for EKF to be ready... Pending: POS_HORIZ_ABS\n",
      "⌛ Waiting for EKF to be ready... Pending: POS_HORIZ_ABS\n",
      "⌛ Waiting for EKF to be ready... Pending: POS_HORIZ_ABS\n",
      "⌛ Waiting for EKF to be ready... Pending: POS_HORIZ_ABS\n",
      "⌛ Waiting for EKF to be ready... Pending: POS_HORIZ_ABS\n",
      "⌛ Waiting for EKF to be ready... Pending: POS_HORIZ_ABS\n",
      "Vehicle 4: ✅ Step Done: Check EKF status\n",
      "Vehicle 5: ✅ Step Done: Check EKF status\n",
      "Vehicle 2: ✅ Step Done: Check EKF status\n",
      "📡 Requested message GPS_RAW_INT at 1.00 Hz\n",
      "Vehicle 4: ▶️ Step Started: Check GPS\n",
      "Vehicle 1: ✅ Step Done: Check EKF status\n",
      "Vehicle 3: ✅ Step Done: Check EKF status\n",
      "📡 Requested message GPS_RAW_INT at 1.00 Hz\n",
      "Vehicle 5: ▶️ Step Started: Check GPS\n",
      "📡 Requested message GPS_RAW_INT at 1.00 Hz\n",
      "Vehicle 2: ▶️ Step Started: Check GPS\n",
      "📡 Requested message GPS_RAW_INT at 1.00 Hz\n",
      "Vehicle 1: ▶️ Step Started: Check GPS\n",
      "📡 Requested message GPS_RAW_INT at 1.00 Hz\n",
      "Vehicle 3: ▶️ Step Started: Check GPS\n",
      "Vehicle 4: ✅ Step Done: Check GPS\n",
      "Vehicle 5: ✅ Step Done: Check GPS\n",
      "Vehicle 1: ✅ Step Done: Check GPS\n",
      "Vehicle 3: ✅ Step Done: Check GPS\n",
      "Vehicle 2: ✅ Step Done: Check GPS\n",
      "📡 Requested message SYS_STATUS at 1.00 Hz\n",
      "Vehicle 4: ▶️ Step Started: Check system\n",
      "📡 Requested message SYS_STATUS at 1.00 Hz\n",
      "Vehicle 5: ▶️ Step Started: Check system\n",
      "📡 Requested message SYS_STATUS at 1.00 Hz\n",
      "Vehicle 1: ▶️ Step Started: Check system\n",
      "📡 Requested message SYS_STATUS at 1.00 Hz\n",
      "Vehicle 3: ▶️ Step Started: Check system\n",
      "📡 Requested message SYS_STATUS at 1.00 Hz\n",
      "Vehicle 2: ▶️ Step Started: Check system\n",
      "Vehicle 4: ✅ Step Done: Check system\n",
      "Vehicle 5: ✅ Step Done: Check system\n",
      "Vehicle 4: ✅ Action Done: 🔧 PREARM\n",
      "Vehicle 1: ✅ Step Done: Check system\n",
      "Vehicle 3: ✅ Step Done: Check system\n",
      "Vehicle 5: ✅ Action Done: 🔧 PREARM\n",
      "Vehicle 2: ✅ Step Done: Check system\n",
      "Vehicle 1: ✅ Action Done: 🔧 PREARM\n",
      "Vehicle 3: ✅ Action Done: 🔧 PREARM\n",
      "Vehicle 2: ✅ Action Done: 🔧 PREARM\n",
      "Vehicle 4: ▶️ Action Started: ⚙️ MODE: GUIDED\n",
      "Vehicle 5: ▶️ Action Started: ⚙️ MODE: GUIDED\n",
      "Vehicle 4: ▶️ Step Started: Switch to GUIDED\n",
      "Vehicle 1: ▶️ Action Started: ⚙️ MODE: GUIDED\n",
      "Vehicle 3: ▶️ Action Started: ⚙️ MODE: GUIDED\n",
      "Vehicle 5: ▶️ Step Started: Switch to GUIDED\n",
      "Vehicle 2: ▶️ Action Started: ⚙️ MODE: GUIDED\n",
      "Vehicle 1: ▶️ Step Started: Switch to GUIDED\n",
      "Vehicle 3: ▶️ Step Started: Switch to GUIDED\n",
      "Vehicle 2: ▶️ Step Started: Switch to GUIDED\n",
      "Vehicle 4: ✅ Step Done: Switch to GUIDED\n",
      "Vehicle 5: ✅ Step Done: Switch to GUIDED\n",
      "Vehicle 4: ✅ Action Done: ⚙️ MODE: GUIDED\n",
      "Vehicle 1: ✅ Step Done: Switch to GUIDED\n",
      "Vehicle 3: ✅ Step Done: Switch to GUIDED\n",
      "Vehicle 5: ✅ Action Done: ⚙️ MODE: GUIDED\n",
      "Vehicle 2: ✅ Step Done: Switch to GUIDED\n",
      "Vehicle 1: ✅ Action Done: ⚙️ MODE: GUIDED\n",
      "Vehicle 3: ✅ Action Done: ⚙️ MODE: GUIDED\n",
      "Vehicle 2: ✅ Action Done: ⚙️ MODE: GUIDED\n",
      "Vehicle 4: ▶️ Action Started: 🔐 ARM\n",
      "Vehicle 5: ▶️ Action Started: 🔐 ARM\n",
      "Vehicle 4: ▶️ Step Started: arm\n",
      "Vehicle 1: ▶️ Action Started: 🔐 ARM\n",
      "Vehicle 3: ▶️ Action Started: 🔐 ARM\n",
      "Vehicle 5: ▶️ Step Started: arm\n",
      "Vehicle 2: ▶️ Action Started: 🔐 ARM\n",
      "Vehicle 1: ▶️ Step Started: arm\n",
      "Vehicle 3: ▶️ Step Started: arm\n",
      "Vehicle 2: ▶️ Step Started: arm\n",
      "Vehicle 3: ✅ Step Done: arm\n",
      "Vehicle 5: ✅ Step Done: arm\n",
      "Vehicle 1: ✅ Step Done: arm\n",
      "Vehicle 3: ✅ Action Done: 🔐 ARM\n",
      "Vehicle 5: ✅ Action Done: 🔐 ARM\n",
      "Vehicle 2: ✅ Step Done: arm\n",
      "Vehicle 4: ✅ Step Done: arm\n",
      "Vehicle 1: ✅ Action Done: 🔐 ARM\n",
      "Vehicle 2: ✅ Action Done: 🔐 ARM\n",
      "Vehicle 4: ✅ Action Done: 🔐 ARM\n",
      "Vehicle 3: ▶️ Action Started: 🚀 START_MISSION\n",
      "Vehicle 5: ▶️ Action Started: 🚀 START_MISSION\n",
      "Vehicle 1: ▶️ Action Started: 🚀 START_MISSION\n",
      "Vehicle 3: ▶️ Step Started: start_mission\n",
      "Vehicle 5: ▶️ Step Started: start_mission\n",
      "Vehicle 2: ▶️ Action Started: 🚀 START_MISSION\n",
      "Vehicle 4: ▶️ Action Started: 🚀 START_MISSION\n",
      "Vehicle 1: ▶️ Step Started: start_mission\n",
      "Vehicle 2: ▶️ Step Started: start_mission\n",
      "Vehicle 4: ▶️ Step Started: start_mission\n",
      "🚀 Mission has started\n",
      "Vehicle 3: ✅ Step Done: start_mission\n",
      "🚀 Mission has started\n",
      "Vehicle 5: ✅ Step Done: start_mission\n",
      "🚀 Mission has started\n",
      "Vehicle 1: ✅ Step Done: start_mission\n",
      "Vehicle 3: ✅ Action Done: 🚀 START_MISSION\n",
      "Vehicle 5: ✅ Action Done: 🚀 START_MISSION\n",
      "🚀 Mission has started\n",
      "Vehicle 2: ✅ Step Done: start_mission\n",
      "🚀 Mission has started\n",
      "Vehicle 4: ✅ Step Done: start_mission\n",
      "Vehicle 1: ✅ Action Done: 🚀 START_MISSION\n",
      "Vehicle 2: ✅ Action Done: 🚀 START_MISSION\n",
      "Vehicle 4: ✅ Action Done: 🚀 START_MISSION\n",
      "Vehicle 3: ▶️ Action Started: 📤 UPLOAD_MISSION\n",
      "Vehicle 5: ▶️ Action Started: 📤 UPLOAD_MISSION\n",
      "Vehicle 1: ▶️ Action Started: 📤 UPLOAD_MISSION\n",
      "Vehicle 3: ▶️ Step Started: monitoring\n",
      "Vehicle 5: ▶️ Step Started: monitoring\n",
      "Vehicle 2: ▶️ Action Started: 📤 UPLOAD_MISSION\n",
      "Vehicle 4: ▶️ Action Started: 📤 UPLOAD_MISSION\n",
      "Vehicle 1: ▶️ Step Started: monitoring\n",
      "Vehicle 2: ▶️ Step Started: monitoring\n",
      "Vehicle 4: ▶️ Step Started: monitoring\n",
      "📌 Reached waypoint: 1\n",
      "📌 Reached waypoint: 1\n",
      "📌 Reached waypoint: 1\n",
      "📌 Reached waypoint: 1\n",
      "📌 Reached waypoint: 1\n",
      "📌 Reached waypoint: 2\n",
      "📌 Reached waypoint: 2\n",
      "📌 Reached waypoint: 2\n",
      "📌 Reached waypoint: 2\n",
      "📌 Reached waypoint: 2\n",
      "📌 Reached waypoint: 3\n",
      "📌 Reached waypoint: 3\n",
      "📌 Reached waypoint: 3\n",
      "📌 Reached waypoint: 3\n",
      "📌 Reached waypoint: 3\n",
      "📌 Reached waypoint: 4\n",
      "📌 Reached waypoint: 4\n",
      "📌 Reached waypoint: 4\n",
      "📌 Reached waypoint: 4\n",
      "📌 Reached waypoint: 4\n",
      "📌 Reached waypoint: 5\n",
      "📌 Reached waypoint: 5\n",
      "📌 Reached waypoint: 5\n",
      "📌 Reached waypoint: 5\n",
      "📌 Reached waypoint: 5\n",
      "🏁 Mission completed\n",
      "Vehicle 3: ✅ Step Done: monitoring\n",
      "Vehicle 3: ✅ Action Done: 📤 UPLOAD_MISSION\n",
      "Vehicle 3: ✅ Plan Done: 📋 square_auto\n",
      "📤 GCS ← UAV 3: Sending DONE (attempt 1)\n",
      "✅ Vehicle 3 completed its mission\n",
      "✅ ACK received. DONE message acknowledged.\n",
      "📤 GCS ← UAV 3: Sending DONE (attempt 1)\n",
      "📤 GCS ← UAV 3: Sending DONE (attempt 2)\n",
      "📤 GCS ← UAV 3: Sending DONE (attempt 3)\n",
      "📤 GCS ← UAV 3: Sending DONE (attempt 4)\n",
      "📤 GCS ← UAV 3: Sending DONE (attempt 5)\n",
      "📤 GCS ← UAV 3: Sending DONE (attempt 6)\n",
      "📤 GCS ← UAV 3: Sending DONE (attempt 7)\n",
      "📤 GCS ← UAV 3: Sending DONE (attempt 8)\n",
      "📤 GCS ← UAV 3: Sending DONE (attempt 9)\n",
      "📤 GCS ← UAV 3: Sending DONE (attempt 10)\n",
      "📤 GCS ← UAV 3: Sending DONE (attempt 11)\n",
      "📤 GCS ← UAV 3: Sending DONE (attempt 12)\n",
      "📤 GCS ← UAV 3: Sending DONE (attempt 13)\n",
      "📤 GCS ← UAV 3: Sending DONE (attempt 14)\n",
      "📤 GCS ← UAV 3: Sending DONE (attempt 15)\n",
      "📤 GCS ← UAV 3: Sending DONE (attempt 16)\n",
      "📤 GCS ← UAV 3: Sending DONE (attempt 17)\n",
      "📤 GCS ← UAV 3: Sending DONE (attempt 18)\n",
      "📤 GCS ← UAV 3: Sending DONE (attempt 19)\n",
      "📤 GCS ← UAV 3: Sending DONE (attempt 20)\n",
      "📤 GCS ← UAV 3: Sending DONE (attempt 21)\n",
      "📤 GCS ← UAV 3: Sending DONE (attempt 22)\n",
      "📤 GCS ← UAV 3: Sending DONE (attempt 23)\n",
      "📤 GCS ← UAV 3: Sending DONE (attempt 24)\n",
      "📤 GCS ← UAV 3: Sending DONE (attempt 25)\n",
      "📤 GCS ← UAV 3: Sending DONE (attempt 26)\n",
      "🏁 Mission completed\n",
      "Vehicle 5: ✅ Step Done: monitoring\n",
      "Vehicle 5: ✅ Action Done: 📤 UPLOAD_MISSION\n",
      "📤 GCS ← UAV 3: Sending DONE (attempt 27)\n",
      "Vehicle 5: ✅ Plan Done: 📋 square_auto\n",
      "📤 GCS ← UAV 5: Sending DONE (attempt 1)\n",
      "✅ Vehicle 5 completed its mission\n",
      "✅ ACK received. DONE message acknowledged.\n",
      "📤 GCS ← UAV 5: Sending DONE (attempt 1)\n",
      "📤 GCS ← UAV 3: Sending DONE (attempt 28)\n",
      "📤 GCS ← UAV 5: Sending DONE (attempt 2)\n",
      "📤 GCS ← UAV 3: Sending DONE (attempt 29)\n",
      "📤 GCS ← UAV 5: Sending DONE (attempt 3)\n",
      "📤 GCS ← UAV 3: Sending DONE (attempt 30)\n",
      "📤 GCS ← UAV 5: Sending DONE (attempt 4)\n",
      "📤 GCS ← UAV 3: Sending DONE (attempt 31)\n",
      "📤 GCS ← UAV 5: Sending DONE (attempt 5)\n",
      "📤 GCS ← UAV 3: Sending DONE (attempt 32)\n",
      "📤 GCS ← UAV 5: Sending DONE (attempt 6)\n",
      "📤 GCS ← UAV 3: Sending DONE (attempt 33)\n",
      "📤 GCS ← UAV 5: Sending DONE (attempt 7)\n",
      "📤 GCS ← UAV 3: Sending DONE (attempt 34)\n",
      "📤 GCS ← UAV 5: Sending DONE (attempt 8)\n",
      "📤 GCS ← UAV 3: Sending DONE (attempt 35)\n",
      "📤 GCS ← UAV 5: Sending DONE (attempt 9)\n",
      "📤 GCS ← UAV 3: Sending DONE (attempt 36)\n",
      "📤 GCS ← UAV 5: Sending DONE (attempt 10)\n",
      "📤 GCS ← UAV 3: Sending DONE (attempt 37)\n",
      "🏁 Mission completed\n",
      "Vehicle 1: ✅ Step Done: monitoring\n",
      "Vehicle 1: ✅ Action Done: 📤 UPLOAD_MISSION\n",
      "📤 GCS ← UAV 5: Sending DONE (attempt 11)\n",
      "Vehicle 1: ✅ Plan Done: 📋 square_auto\n",
      "📤 GCS ← UAV 1: Sending DONE (attempt 1)\n",
      "✅ Vehicle 1 completed its mission\n",
      "✅ ACK received. DONE message acknowledged.\n",
      "📤 GCS ← UAV 1: Sending DONE (attempt 1)\n",
      "📤 GCS ← UAV 3: Sending DONE (attempt 38)\n",
      "📤 GCS ← UAV 5: Sending DONE (attempt 12)\n",
      "📤 GCS ← UAV 1: Sending DONE (attempt 2)\n",
      "📤 GCS ← UAV 3: Sending DONE (attempt 39)\n",
      "📤 GCS ← UAV 5: Sending DONE (attempt 13)\n",
      "📤 GCS ← UAV 1: Sending DONE (attempt 3)\n",
      "📤 GCS ← UAV 3: Sending DONE (attempt 40)\n",
      "📤 GCS ← UAV 5: Sending DONE (attempt 14)\n",
      "📤 GCS ← UAV 1: Sending DONE (attempt 4)\n",
      "✅ Vehicle 0 completed its mission\n",
      "✅ All UAVs assigned to GCS blue 🟦 have completed their mission.\n",
      "💾 Trajectories saved to 'trajectories_blue 🟦.pkl'.\n",
      "✅ ACK received. DONE message acknowledged.\n",
      "❎ Vehicle 1 logic stopped.\n",
      "Connection reset or closed by peer on TCP socket\n",
      "📤 GCS ← UAV 3: Sending DONE (attempt 41)\n",
      "📤 GCS ← UAV 5: Sending DONE (attempt 15)\n",
      "📤 GCS ← UAV 3: Sending DONE (attempt 42)\n",
      "📤 GCS ← UAV 5: Sending DONE (attempt 16)\n",
      "❎ Proxy 1 stopped.\n",
      "Closed connection on SERIAL0\n",
      "📤 GCS ← UAV 3: Sending DONE (attempt 43)\n",
      "📤 GCS ← UAV 5: Sending DONE (attempt 17)\n",
      "📤 GCS ← UAV 3: Sending DONE (attempt 44)\n",
      "📤 GCS ← UAV 5: Sending DONE (attempt 18)\n",
      "📤 GCS ← UAV 3: Sending DONE (attempt 45)\n",
      "📤 GCS ← UAV 5: Sending DONE (attempt 19)\n",
      "📤 GCS ← UAV 3: Sending DONE (attempt 46)\n",
      "📤 GCS ← UAV 5: Sending DONE (attempt 20)\n",
      "📤 GCS ← UAV 3: Sending DONE (attempt 47)\n",
      "📤 GCS ← UAV 5: Sending DONE (attempt 21)\n",
      "📤 GCS ← UAV 3: Sending DONE (attempt 48)\n",
      "📤 GCS ← UAV 5: Sending DONE (attempt 22)\n",
      "📤 GCS ← UAV 3: Sending DONE (attempt 49)\n",
      "📤 GCS ← UAV 5: Sending DONE (attempt 23)\n",
      "📤 GCS ← UAV 3: Sending DONE (attempt 50)\n",
      "📤 GCS ← UAV 5: Sending DONE (attempt 24)\n",
      "📤 GCS ← UAV 3: Sending DONE (attempt 51)\n",
      "📤 GCS ← UAV 5: Sending DONE (attempt 25)\n",
      "📤 GCS ← UAV 3: Sending DONE (attempt 52)\n",
      "📤 GCS ← UAV 5: Sending DONE (attempt 26)\n",
      "📤 GCS ← UAV 3: Sending DONE (attempt 53)\n",
      "📤 GCS ← UAV 5: Sending DONE (attempt 27)\n",
      "📤 GCS ← UAV 3: Sending DONE (attempt 54)\n",
      "📤 GCS ← UAV 5: Sending DONE (attempt 28)\n",
      "📤 GCS ← UAV 3: Sending DONE (attempt 55)\n",
      "📤 GCS ← UAV 5: Sending DONE (attempt 29)\n",
      "📤 GCS ← UAV 3: Sending DONE (attempt 56)\n",
      "📤 GCS ← UAV 5: Sending DONE (attempt 30)\n",
      "📤 GCS ← UAV 3: Sending DONE (attempt 57)\n",
      "📤 GCS ← UAV 5: Sending DONE (attempt 31)\n",
      "📤 GCS ← UAV 3: Sending DONE (attempt 58)\n",
      "📤 GCS ← UAV 5: Sending DONE (attempt 32)\n",
      "📤 GCS ← UAV 3: Sending DONE (attempt 59)\n",
      "📤 GCS ← UAV 5: Sending DONE (attempt 33)\n",
      "📤 GCS ← UAV 3: Sending DONE (attempt 60)\n",
      "📤 GCS ← UAV 5: Sending DONE (attempt 34)\n",
      "📤 GCS ← UAV 3: Sending DONE (attempt 61)\n",
      "📤 GCS ← UAV 5: Sending DONE (attempt 35)\n",
      "📤 GCS ← UAV 3: Sending DONE (attempt 62)\n",
      "📤 GCS ← UAV 5: Sending DONE (attempt 36)\n",
      "📤 GCS ← UAV 3: Sending DONE (attempt 63)\n",
      "🏁 Mission completed\n",
      "Vehicle 2: ✅ Step Done: monitoring\n",
      "📤 GCS ← UAV 5: Sending DONE (attempt 37)\n",
      "Vehicle 2: ✅ Action Done: 📤 UPLOAD_MISSION\n",
      "Vehicle 2: ✅ Plan Done: 📋 square_auto\n",
      "📤 GCS ← UAV 2: Sending DONE (attempt 1)\n",
      "✅ Vehicle 2 completed its mission\n",
      "✅ ACK received. DONE message acknowledged.\n",
      "📤 GCS ← UAV 2: Sending DONE (attempt 1)\n",
      "📤 GCS ← UAV 3: Sending DONE (attempt 64)\n",
      "📤 GCS ← UAV 5: Sending DONE (attempt 38)\n",
      "📤 GCS ← UAV 2: Sending DONE (attempt 2)\n",
      "📤 GCS ← UAV 3: Sending DONE (attempt 65)\n",
      "📤 GCS ← UAV 5: Sending DONE (attempt 39)\n",
      "📤 GCS ← UAV 2: Sending DONE (attempt 3)\n",
      "📤 GCS ← UAV 3: Sending DONE (attempt 66)\n",
      "🏁 Mission completed\n",
      "Vehicle 4: ✅ Step Done: monitoring\n",
      "📤 GCS ← UAV 5: Sending DONE (attempt 40)\n",
      "Vehicle 4: ✅ Action Done: 📤 UPLOAD_MISSION\n",
      "Vehicle 4: ✅ Plan Done: 📋 square_auto\n",
      "📤 GCS ← UAV 4: Sending DONE (attempt 1)\n",
      "✅ Vehicle 4 completed its mission\n",
      "📤 GCS ← UAV 2: Sending DONE (attempt 4)\n",
      "✅ ACK received. DONE message acknowledged.\n",
      "📤 GCS ← UAV 4: Sending DONE (attempt 1)\n"
     ]
    },
    {
     "name": "stdout",
     "output_type": "stream",
     "text": [
      "📤 GCS ← UAV 3: Sending DONE (attempt 67)\n",
      "📤 GCS ← UAV 5: Sending DONE (attempt 41)\n",
      "📤 GCS ← UAV 2: Sending DONE (attempt 5)\n",
      "📤 GCS ← UAV 4: Sending DONE (attempt 2)\n",
      "📤 GCS ← UAV 3: Sending DONE (attempt 68)\n",
      "📤 GCS ← UAV 5: Sending DONE (attempt 42)\n",
      "📤 GCS ← UAV 2: Sending DONE (attempt 6)\n",
      "📤 GCS ← UAV 4: Sending DONE (attempt 3)\n",
      "📤 GCS ← UAV 3: Sending DONE (attempt 69)\n",
      "📤 GCS ← UAV 5: Sending DONE (attempt 43)\n",
      "📤 GCS ← UAV 2: Sending DONE (attempt 7)\n",
      "📤 GCS ← UAV 4: Sending DONE (attempt 4)\n",
      "📤 GCS ← UAV 3: Sending DONE (attempt 70)\n",
      "📤 GCS ← UAV 5: Sending DONE (attempt 44)\n",
      "📤 GCS ← UAV 2: Sending DONE (attempt 8)\n",
      "📤 GCS ← UAV 4: Sending DONE (attempt 5)\n",
      "📤 GCS ← UAV 3: Sending DONE (attempt 71)\n",
      "📤 GCS ← UAV 5: Sending DONE (attempt 45)\n",
      "📤 GCS ← UAV 2: Sending DONE (attempt 9)\n",
      "📤 GCS ← UAV 4: Sending DONE (attempt 6)\n",
      "📤 GCS ← UAV 3: Sending DONE (attempt 72)\n",
      "📤 GCS ← UAV 5: Sending DONE (attempt 46)\n",
      "📤 GCS ← UAV 2: Sending DONE (attempt 10)\n",
      "📤 GCS ← UAV 4: Sending DONE (attempt 7)\n",
      "📤 GCS ← UAV 3: Sending DONE (attempt 73)\n",
      "📤 GCS ← UAV 5: Sending DONE (attempt 47)\n",
      "📤 GCS ← UAV 2: Sending DONE (attempt 11)\n",
      "📤 GCS ← UAV 4: Sending DONE (attempt 8)\n",
      "📤 GCS ← UAV 3: Sending DONE (attempt 74)\n",
      "📤 GCS ← UAV 5: Sending DONE (attempt 48)\n",
      "📤 GCS ← UAV 2: Sending DONE (attempt 12)\n",
      "📤 GCS ← UAV 4: Sending DONE (attempt 9)\n",
      "📤 GCS ← UAV 3: Sending DONE (attempt 75)\n",
      "📤 GCS ← UAV 5: Sending DONE (attempt 49)\n",
      "📤 GCS ← UAV 2: Sending DONE (attempt 13)\n",
      "📤 GCS ← UAV 4: Sending DONE (attempt 10)\n",
      "📤 GCS ← UAV 3: Sending DONE (attempt 76)\n",
      "📤 GCS ← UAV 5: Sending DONE (attempt 50)\n",
      "📤 GCS ← UAV 2: Sending DONE (attempt 14)\n",
      "📤 GCS ← UAV 4: Sending DONE (attempt 11)\n",
      "📤 GCS ← UAV 3: Sending DONE (attempt 77)\n",
      "📤 GCS ← UAV 5: Sending DONE (attempt 51)\n",
      "📤 GCS ← UAV 2: Sending DONE (attempt 15)\n",
      "📤 GCS ← UAV 4: Sending DONE (attempt 12)\n",
      "📤 GCS ← UAV 3: Sending DONE (attempt 78)\n",
      "📤 GCS ← UAV 5: Sending DONE (attempt 52)\n",
      "📤 GCS ← UAV 2: Sending DONE (attempt 16)\n",
      "📤 GCS ← UAV 4: Sending DONE (attempt 13)\n",
      "📤 GCS ← UAV 3: Sending DONE (attempt 79)\n",
      "📤 GCS ← UAV 5: Sending DONE (attempt 53)\n",
      "📤 GCS ← UAV 2: Sending DONE (attempt 17)\n",
      "📤 GCS ← UAV 4: Sending DONE (attempt 14)\n",
      "📤 GCS ← UAV 3: Sending DONE (attempt 80)\n",
      "📤 GCS ← UAV 5: Sending DONE (attempt 54)\n",
      "📤 GCS ← UAV 2: Sending DONE (attempt 18)\n",
      "📤 GCS ← UAV 4: Sending DONE (attempt 15)\n",
      "📤 GCS ← UAV 3: Sending DONE (attempt 81)\n",
      "📤 GCS ← UAV 5: Sending DONE (attempt 55)\n",
      "📤 GCS ← UAV 2: Sending DONE (attempt 19)\n",
      "📤 GCS ← UAV 4: Sending DONE (attempt 16)\n",
      "📤 GCS ← UAV 3: Sending DONE (attempt 82)\n",
      "📤 GCS ← UAV 5: Sending DONE (attempt 56)\n",
      "📤 GCS ← UAV 2: Sending DONE (attempt 20)\n",
      "📤 GCS ← UAV 4: Sending DONE (attempt 17)\n",
      "📤 GCS ← UAV 3: Sending DONE (attempt 83)\n",
      "📤 GCS ← UAV 5: Sending DONE (attempt 57)\n",
      "📤 GCS ← UAV 2: Sending DONE (attempt 21)\n",
      "📤 GCS ← UAV 4: Sending DONE (attempt 18)\n",
      "📤 GCS ← UAV 3: Sending DONE (attempt 84)\n",
      "📤 GCS ← UAV 5: Sending DONE (attempt 58)\n",
      "📤 GCS ← UAV 2: Sending DONE (attempt 22)\n",
      "📤 GCS ← UAV 4: Sending DONE (attempt 19)\n",
      "📤 GCS ← UAV 3: Sending DONE (attempt 85)\n",
      "📤 GCS ← UAV 5: Sending DONE (attempt 59)\n",
      "📤 GCS ← UAV 2: Sending DONE (attempt 23)\n",
      "📤 GCS ← UAV 4: Sending DONE (attempt 20)\n",
      "📤 GCS ← UAV 3: Sending DONE (attempt 86)\n",
      "📤 GCS ← UAV 5: Sending DONE (attempt 60)\n",
      "📤 GCS ← UAV 2: Sending DONE (attempt 24)\n",
      "📤 GCS ← UAV 4: Sending DONE (attempt 21)\n",
      "📤 GCS ← UAV 3: Sending DONE (attempt 87)\n",
      "📤 GCS ← UAV 5: Sending DONE (attempt 61)\n",
      "📤 GCS ← UAV 2: Sending DONE (attempt 25)\n",
      "📤 GCS ← UAV 4: Sending DONE (attempt 22)\n",
      "📤 GCS ← UAV 3: Sending DONE (attempt 88)\n",
      "📤 GCS ← UAV 5: Sending DONE (attempt 62)\n",
      "📤 GCS ← UAV 2: Sending DONE (attempt 26)\n",
      "📤 GCS ← UAV 4: Sending DONE (attempt 23)\n",
      "📤 GCS ← UAV 3: Sending DONE (attempt 89)\n",
      "📤 GCS ← UAV 5: Sending DONE (attempt 63)\n",
      "📤 GCS ← UAV 2: Sending DONE (attempt 27)\n",
      "📤 GCS ← UAV 4: Sending DONE (attempt 24)\n",
      "📤 GCS ← UAV 3: Sending DONE (attempt 90)\n",
      "📤 GCS ← UAV 5: Sending DONE (attempt 64)\n",
      "📤 GCS ← UAV 2: Sending DONE (attempt 28)\n",
      "📤 GCS ← UAV 4: Sending DONE (attempt 25)\n",
      "📤 GCS ← UAV 3: Sending DONE (attempt 91)\n",
      "📤 GCS ← UAV 5: Sending DONE (attempt 65)\n",
      "📤 GCS ← UAV 2: Sending DONE (attempt 29)\n",
      "📤 GCS ← UAV 4: Sending DONE (attempt 26)\n",
      "📤 GCS ← UAV 3: Sending DONE (attempt 92)\n",
      "📤 GCS ← UAV 5: Sending DONE (attempt 66)\n",
      "📤 GCS ← UAV 2: Sending DONE (attempt 30)\n",
      "📤 GCS ← UAV 4: Sending DONE (attempt 27)\n",
      "📤 GCS ← UAV 3: Sending DONE (attempt 93)\n",
      "📤 GCS ← UAV 5: Sending DONE (attempt 67)\n",
      "📤 GCS ← UAV 2: Sending DONE (attempt 31)\n",
      "📤 GCS ← UAV 4: Sending DONE (attempt 28)\n",
      "📤 GCS ← UAV 3: Sending DONE (attempt 94)\n",
      "📤 GCS ← UAV 5: Sending DONE (attempt 68)\n",
      "📤 GCS ← UAV 2: Sending DONE (attempt 32)\n",
      "📤 GCS ← UAV 4: Sending DONE (attempt 29)\n",
      "📤 GCS ← UAV 3: Sending DONE (attempt 95)\n",
      "📤 GCS ← UAV 5: Sending DONE (attempt 69)\n",
      "📤 GCS ← UAV 2: Sending DONE (attempt 33)\n",
      "📤 GCS ← UAV 4: Sending DONE (attempt 30)\n",
      "📤 GCS ← UAV 3: Sending DONE (attempt 96)\n",
      "📤 GCS ← UAV 5: Sending DONE (attempt 70)\n",
      "📤 GCS ← UAV 2: Sending DONE (attempt 34)\n",
      "📤 GCS ← UAV 4: Sending DONE (attempt 31)\n",
      "📤 GCS ← UAV 3: Sending DONE (attempt 97)\n",
      "📤 GCS ← UAV 5: Sending DONE (attempt 71)\n",
      "📤 GCS ← UAV 2: Sending DONE (attempt 35)\n",
      "📤 GCS ← UAV 4: Sending DONE (attempt 32)\n",
      "📤 GCS ← UAV 3: Sending DONE (attempt 98)\n",
      "📤 GCS ← UAV 5: Sending DONE (attempt 72)\n",
      "📤 GCS ← UAV 2: Sending DONE (attempt 36)\n",
      "📤 GCS ← UAV 4: Sending DONE (attempt 33)\n",
      "📤 GCS ← UAV 3: Sending DONE (attempt 99)\n",
      "📤 GCS ← UAV 5: Sending DONE (attempt 73)\n",
      "📤 GCS ← UAV 2: Sending DONE (attempt 37)\n",
      "📤 GCS ← UAV 4: Sending DONE (attempt 34)\n",
      "📤 GCS ← UAV 3: Sending DONE (attempt 100)\n",
      "📤 GCS ← UAV 5: Sending DONE (attempt 74)\n",
      "📤 GCS ← UAV 2: Sending DONE (attempt 38)\n",
      "📤 GCS ← UAV 4: Sending DONE (attempt 35)\n",
      "⚠️ No ACK received after max attempts.\n",
      "❎ Vehicle 3 logic stopped.\n",
      "Connection reset or closed by peer on TCP socket\n",
      "📤 GCS ← UAV 5: Sending DONE (attempt 75)\n",
      "📤 GCS ← UAV 2: Sending DONE (attempt 39)\n",
      "📤 GCS ← UAV 4: Sending DONE (attempt 36)\n",
      "📤 GCS ← UAV 5: Sending DONE (attempt 76)\n",
      "❎ Proxy 3 stopped.\n",
      "Closed connection on SERIAL0\n",
      "📤 GCS ← UAV 2: Sending DONE (attempt 40)\n",
      "📤 GCS ← UAV 4: Sending DONE (attempt 37)\n",
      "📤 GCS ← UAV 5: Sending DONE (attempt 77)\n",
      "📤 GCS ← UAV 2: Sending DONE (attempt 41)\n",
      "📤 GCS ← UAV 4: Sending DONE (attempt 38)\n",
      "📤 GCS ← UAV 5: Sending DONE (attempt 78)\n",
      "📤 GCS ← UAV 2: Sending DONE (attempt 42)\n",
      "📤 GCS ← UAV 4: Sending DONE (attempt 39)\n",
      "📤 GCS ← UAV 5: Sending DONE (attempt 79)\n",
      "📤 GCS ← UAV 2: Sending DONE (attempt 43)\n",
      "📤 GCS ← UAV 4: Sending DONE (attempt 40)\n",
      "📤 GCS ← UAV 5: Sending DONE (attempt 80)\n",
      "📤 GCS ← UAV 2: Sending DONE (attempt 44)\n",
      "📤 GCS ← UAV 4: Sending DONE (attempt 41)\n",
      "📤 GCS ← UAV 5: Sending DONE (attempt 81)\n",
      "📤 GCS ← UAV 2: Sending DONE (attempt 45)\n",
      "📤 GCS ← UAV 4: Sending DONE (attempt 42)\n",
      "📤 GCS ← UAV 5: Sending DONE (attempt 82)\n",
      "📤 GCS ← UAV 2: Sending DONE (attempt 46)\n",
      "📤 GCS ← UAV 4: Sending DONE (attempt 43)\n",
      "📤 GCS ← UAV 5: Sending DONE (attempt 83)\n",
      "📤 GCS ← UAV 2: Sending DONE (attempt 47)\n",
      "📤 GCS ← UAV 4: Sending DONE (attempt 44)\n",
      "📤 GCS ← UAV 5: Sending DONE (attempt 84)\n",
      "📤 GCS ← UAV 2: Sending DONE (attempt 48)\n",
      "📤 GCS ← UAV 4: Sending DONE (attempt 45)\n",
      "📤 GCS ← UAV 5: Sending DONE (attempt 85)\n",
      "📤 GCS ← UAV 2: Sending DONE (attempt 49)\n",
      "📤 GCS ← UAV 4: Sending DONE (attempt 46)\n",
      "📤 GCS ← UAV 5: Sending DONE (attempt 86)\n",
      "📤 GCS ← UAV 2: Sending DONE (attempt 50)\n",
      "📤 GCS ← UAV 4: Sending DONE (attempt 47)\n",
      "📤 GCS ← UAV 5: Sending DONE (attempt 87)\n",
      "📤 GCS ← UAV 2: Sending DONE (attempt 51)\n",
      "📤 GCS ← UAV 4: Sending DONE (attempt 48)\n",
      "📤 GCS ← UAV 5: Sending DONE (attempt 88)\n",
      "📤 GCS ← UAV 2: Sending DONE (attempt 52)\n",
      "📤 GCS ← UAV 4: Sending DONE (attempt 49)\n",
      "📤 GCS ← UAV 5: Sending DONE (attempt 89)\n",
      "📤 GCS ← UAV 2: Sending DONE (attempt 53)\n",
      "📤 GCS ← UAV 4: Sending DONE (attempt 50)\n",
      "📤 GCS ← UAV 5: Sending DONE (attempt 90)\n",
      "📤 GCS ← UAV 2: Sending DONE (attempt 54)\n",
      "📤 GCS ← UAV 4: Sending DONE (attempt 51)\n",
      "📤 GCS ← UAV 5: Sending DONE (attempt 91)\n",
      "📤 GCS ← UAV 2: Sending DONE (attempt 55)\n",
      "📤 GCS ← UAV 4: Sending DONE (attempt 52)\n",
      "📤 GCS ← UAV 5: Sending DONE (attempt 92)\n",
      "📤 GCS ← UAV 2: Sending DONE (attempt 56)\n",
      "📤 GCS ← UAV 4: Sending DONE (attempt 53)\n",
      "📤 GCS ← UAV 5: Sending DONE (attempt 93)\n",
      "📤 GCS ← UAV 2: Sending DONE (attempt 57)\n",
      "📤 GCS ← UAV 4: Sending DONE (attempt 54)\n",
      "📤 GCS ← UAV 5: Sending DONE (attempt 94)\n",
      "📤 GCS ← UAV 2: Sending DONE (attempt 58)\n",
      "📤 GCS ← UAV 4: Sending DONE (attempt 55)\n",
      "📤 GCS ← UAV 5: Sending DONE (attempt 95)\n",
      "📤 GCS ← UAV 2: Sending DONE (attempt 59)\n",
      "📤 GCS ← UAV 4: Sending DONE (attempt 56)\n",
      "📤 GCS ← UAV 5: Sending DONE (attempt 96)\n",
      "📤 GCS ← UAV 2: Sending DONE (attempt 60)\n",
      "📤 GCS ← UAV 4: Sending DONE (attempt 57)\n",
      "📤 GCS ← UAV 5: Sending DONE (attempt 97)\n",
      "📤 GCS ← UAV 2: Sending DONE (attempt 61)\n",
      "📤 GCS ← UAV 4: Sending DONE (attempt 58)\n",
      "📤 GCS ← UAV 5: Sending DONE (attempt 98)\n",
      "📤 GCS ← UAV 2: Sending DONE (attempt 62)\n",
      "📤 GCS ← UAV 4: Sending DONE (attempt 59)\n",
      "📤 GCS ← UAV 5: Sending DONE (attempt 99)\n",
      "📤 GCS ← UAV 2: Sending DONE (attempt 63)\n",
      "📤 GCS ← UAV 4: Sending DONE (attempt 60)\n",
      "📤 GCS ← UAV 5: Sending DONE (attempt 100)\n",
      "📤 GCS ← UAV 2: Sending DONE (attempt 64)\n",
      "📤 GCS ← UAV 4: Sending DONE (attempt 61)\n",
      "⚠️ No ACK received after max attempts.\n",
      "❎ Vehicle 5 logic stopped.\n",
      "Connection reset or closed by peer on TCP socket\n",
      "📤 GCS ← UAV 2: Sending DONE (attempt 65)\n",
      "📤 GCS ← UAV 4: Sending DONE (attempt 62)\n",
      "📤 GCS ← UAV 2: Sending DONE (attempt 66)\n",
      "❎ Proxy 5 stopped.\n",
      "📤 GCS ← UAV 4: Sending DONE (attempt 63)\n",
      "Closed connection on SERIAL0\n",
      "📤 GCS ← UAV 2: Sending DONE (attempt 67)\n",
      "📤 GCS ← UAV 4: Sending DONE (attempt 64)\n",
      "📤 GCS ← UAV 2: Sending DONE (attempt 68)\n",
      "📤 GCS ← UAV 4: Sending DONE (attempt 65)\n",
      "📤 GCS ← UAV 2: Sending DONE (attempt 69)\n",
      "📤 GCS ← UAV 4: Sending DONE (attempt 66)\n",
      "📤 GCS ← UAV 2: Sending DONE (attempt 70)\n",
      "📤 GCS ← UAV 4: Sending DONE (attempt 67)\n",
      "📤 GCS ← UAV 2: Sending DONE (attempt 71)\n",
      "📤 GCS ← UAV 4: Sending DONE (attempt 68)\n",
      "📤 GCS ← UAV 2: Sending DONE (attempt 72)\n",
      "📤 GCS ← UAV 4: Sending DONE (attempt 69)\n",
      "📤 GCS ← UAV 2: Sending DONE (attempt 73)\n",
      "📤 GCS ← UAV 4: Sending DONE (attempt 70)\n",
      "📤 GCS ← UAV 2: Sending DONE (attempt 74)\n",
      "📤 GCS ← UAV 4: Sending DONE (attempt 71)\n",
      "📤 GCS ← UAV 2: Sending DONE (attempt 75)\n",
      "📤 GCS ← UAV 4: Sending DONE (attempt 72)\n",
      "📤 GCS ← UAV 2: Sending DONE (attempt 76)\n",
      "📤 GCS ← UAV 4: Sending DONE (attempt 73)\n",
      "📤 GCS ← UAV 2: Sending DONE (attempt 77)\n",
      "📤 GCS ← UAV 4: Sending DONE (attempt 74)\n",
      "📤 GCS ← UAV 2: Sending DONE (attempt 78)\n",
      "📤 GCS ← UAV 4: Sending DONE (attempt 75)\n",
      "📤 GCS ← UAV 2: Sending DONE (attempt 79)\n",
      "📤 GCS ← UAV 4: Sending DONE (attempt 76)\n",
      "📤 GCS ← UAV 2: Sending DONE (attempt 80)\n",
      "📤 GCS ← UAV 4: Sending DONE (attempt 77)\n",
      "📤 GCS ← UAV 2: Sending DONE (attempt 81)\n",
      "📤 GCS ← UAV 4: Sending DONE (attempt 78)\n",
      "📤 GCS ← UAV 2: Sending DONE (attempt 82)\n",
      "📤 GCS ← UAV 4: Sending DONE (attempt 79)\n",
      "📤 GCS ← UAV 2: Sending DONE (attempt 83)\n",
      "📤 GCS ← UAV 4: Sending DONE (attempt 80)\n",
      "📤 GCS ← UAV 2: Sending DONE (attempt 84)\n",
      "📤 GCS ← UAV 4: Sending DONE (attempt 81)\n",
      "📤 GCS ← UAV 2: Sending DONE (attempt 85)\n",
      "📤 GCS ← UAV 4: Sending DONE (attempt 82)\n",
      "📤 GCS ← UAV 2: Sending DONE (attempt 86)\n",
      "📤 GCS ← UAV 4: Sending DONE (attempt 83)\n",
      "📤 GCS ← UAV 2: Sending DONE (attempt 87)\n",
      "📤 GCS ← UAV 4: Sending DONE (attempt 84)\n",
      "📤 GCS ← UAV 2: Sending DONE (attempt 88)\n",
      "📤 GCS ← UAV 4: Sending DONE (attempt 85)\n",
      "📤 GCS ← UAV 2: Sending DONE (attempt 89)\n",
      "📤 GCS ← UAV 4: Sending DONE (attempt 86)\n",
      "📤 GCS ← UAV 2: Sending DONE (attempt 90)\n",
      "📤 GCS ← UAV 4: Sending DONE (attempt 87)\n",
      "📤 GCS ← UAV 2: Sending DONE (attempt 91)\n",
      "📤 GCS ← UAV 4: Sending DONE (attempt 88)\n",
      "📤 GCS ← UAV 2: Sending DONE (attempt 92)\n",
      "📤 GCS ← UAV 4: Sending DONE (attempt 89)\n",
      "📤 GCS ← UAV 2: Sending DONE (attempt 93)\n",
      "📤 GCS ← UAV 4: Sending DONE (attempt 90)\n",
      "📤 GCS ← UAV 2: Sending DONE (attempt 94)\n",
      "📤 GCS ← UAV 4: Sending DONE (attempt 91)\n",
      "📤 GCS ← UAV 2: Sending DONE (attempt 95)\n",
      "📤 GCS ← UAV 4: Sending DONE (attempt 92)\n",
      "📤 GCS ← UAV 2: Sending DONE (attempt 96)\n",
      "📤 GCS ← UAV 4: Sending DONE (attempt 93)\n",
      "📤 GCS ← UAV 2: Sending DONE (attempt 97)\n",
      "📤 GCS ← UAV 4: Sending DONE (attempt 94)\n",
      "📤 GCS ← UAV 2: Sending DONE (attempt 98)\n",
      "📤 GCS ← UAV 4: Sending DONE (attempt 95)\n",
      "📤 GCS ← UAV 2: Sending DONE (attempt 99)\n",
      "📤 GCS ← UAV 4: Sending DONE (attempt 96)\n",
      "📤 GCS ← UAV 2: Sending DONE (attempt 100)\n",
      "📤 GCS ← UAV 4: Sending DONE (attempt 97)\n",
      "⚠️ No ACK received after max attempts.\n",
      "❎ Vehicle 2 logic stopped.\n",
      "Connection reset or closed by peer on TCP socket\n",
      "📤 GCS ← UAV 4: Sending DONE (attempt 98)\n",
      "📤 GCS ← UAV 4: Sending DONE (attempt 99)\n",
      "❎ Proxy 2 stopped.\n",
      "Closed connection on SERIAL0\n",
      "📤 GCS ← UAV 4: Sending DONE (attempt 100)\n",
      "⚠️ No ACK received after max attempts.\n",
      "❎ Vehicle 4 logic stopped.\n",
      "Connection reset or closed by peer on TCP socket\n",
      "❎ Proxy 4 stopped.\n",
      "Closed connection on SERIAL0\n",
      "Closed connection on SERIAL1\n",
      "Closed connection on SERIAL1\n",
      "Closed connection on SERIAL1\n",
      "Closed connection on SERIAL1\n",
      "Closed connection on SERIAL1\n"
     ]
    }
   ],
   "source": [
    "while len(orac.conns):\n",
    "    for sysid in list(orac.conns.keys()):\n",
    "        if orac.is_plan_done(sysid):\n",
    "            orac.remove(sysid)"
   ]
  }
 ],
 "metadata": {
  "kernelspec": {
   "display_name": "uav-cyber-sim-py311",
   "language": "python",
   "name": "python3"
  },
  "language_info": {
   "codemirror_mode": {
    "name": "ipython",
    "version": 3
   },
   "file_extension": ".py",
   "mimetype": "text/x-python",
   "name": "python",
   "nbconvert_exporter": "python",
   "pygments_lexer": "ipython3",
   "version": "3.11.11"
  }
 },
 "nbformat": 4,
 "nbformat_minor": 2
}
