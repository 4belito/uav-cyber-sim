{
 "cells": [
  {
   "cell_type": "markdown",
   "metadata": {},
   "source": [
    "## Auto mode (single uav)\n",
    "\n",
    "This is for testing propouses"
   ]
  },
  {
   "cell_type": "code",
   "execution_count": 1,
   "metadata": {},
   "outputs": [],
   "source": [
    "# Custom modules\n",
    "from config import Color\n",
    "from helpers import clean  #, local2global\n",
    "from helpers.change_coordinates import poses\n",
    "from mavlink.customtypes.location import ENUPose, GRAPose\n",
    "from mavlink.util import save_mission\n",
    "from plan import Plan\n",
    "from simulators import QGC, ConfigGazebo, Gazebo, NoneVisualizer, Simulator\n",
    "\n",
    "clean()"
   ]
  },
  {
   "cell_type": "markdown",
   "metadata": {},
   "source": [
    "## Simulation Configuration"
   ]
  },
  {
   "cell_type": "code",
   "execution_count": 2,
   "metadata": {},
   "outputs": [],
   "source": [
    "mission_name = \"square\"\n",
    "\n",
    "gra_origin = GRAPose(-35.3633280, 149.1652241, 0, 90)   # east, north, up, heading\n",
    "enu_origin = ENUPose(0, 0, gra_origin.alt, gra_origin.heading) \n",
    "\n",
    "homes= ENUPose.list([  # east, north, up, heading\n",
    "    (0., 0., 0., 0.),\n",
    "    (10., 0., 0., 0),\n",
    "    (-5., -10., 0., 0),\n",
    "    (-15., 0., 0., 45),\n",
    "    (0., -20., 0., 0.),\n",
    "])\n",
    "\n",
    "n_uavs=len(homes)\n",
    "paths = [Plan.create_square_path(side_len=10, alt=5,heading=0) for _ in range(n_uavs)]\n",
    "\n",
    "colors=[\n",
    "    Color.BLUE,\n",
    "    Color.GREEN,\n",
    "    Color.YELLOW,\n",
    "    Color.ORANGE,\n",
    "    Color.RED,\n",
    "]\n",
    "\n",
    "\n",
    "h_paths = [poses(home,path) for home,path in zip(homes,paths)]"
   ]
  },
  {
   "cell_type": "markdown",
   "metadata": {},
   "source": [
    "## ENU Coordinates"
   ]
  },
  {
   "cell_type": "code",
   "execution_count": 3,
   "metadata": {},
   "outputs": [
    {
     "data": {
      "text/plain": [
       "[[ENUPose(x=0.0, y=0.0, z=5.0, heading=90.0),\n",
       "  ENUPose(x=-10.0, y=6.123233995736766e-16, z=5.0, heading=90.0),\n",
       "  ENUPose(x=-10.0, y=10.0, z=5.0, heading=90.0),\n",
       "  ENUPose(x=6.123233995736766e-16, y=10.0, z=5.0, heading=90.0),\n",
       "  ENUPose(x=0.0, y=0.0, z=5.0, heading=90.0)],\n",
       " [ENUPose(x=6.123233995736766e-16, y=10.0, z=5.0, heading=90),\n",
       "  ENUPose(x=-10.0, y=10.0, z=5.0, heading=90),\n",
       "  ENUPose(x=-9.999999999999998, y=20.0, z=5.0, heading=90),\n",
       "  ENUPose(x=1.2246467991473533e-15, y=20.0, z=5.0, heading=90),\n",
       "  ENUPose(x=6.123233995736766e-16, y=10.0, z=5.0, heading=90)],\n",
       " [ENUPose(x=10.0, y=-5.000000000000001, z=5.0, heading=90),\n",
       "  ENUPose(x=-3.061616997868383e-16, y=-5.0, z=5.0, heading=90),\n",
       "  ENUPose(x=3.061616997868383e-16, y=5.0, z=5.0, heading=90),\n",
       "  ENUPose(x=10.0, y=4.999999999999999, z=5.0, heading=90),\n",
       "  ENUPose(x=10.0, y=-5.000000000000001, z=5.0, heading=90)],\n",
       " [ENUPose(x=-9.18485099360515e-16, y=-15.0, z=5.0, heading=135),\n",
       "  ENUPose(x=-7.071067811865477, y=-22.071067811865476, z=5.0, heading=135),\n",
       "  ENUPose(x=-14.142135623730953, y=-15.0, z=5.0, heading=135),\n",
       "  ENUPose(x=-7.0710678118654755, y=-7.9289321881345245, z=5.0, heading=135),\n",
       "  ENUPose(x=-9.18485099360515e-16, y=-15.0, z=5.0, heading=135)],\n",
       " [ENUPose(x=20.0, y=-1.2246467991473533e-15, z=5.0, heading=90.0),\n",
       "  ENUPose(x=10.0, y=-6.123233995736766e-16, z=5.0, heading=90.0),\n",
       "  ENUPose(x=10.0, y=10.0, z=5.0, heading=90.0),\n",
       "  ENUPose(x=20.0, y=9.999999999999998, z=5.0, heading=90.0),\n",
       "  ENUPose(x=20.0, y=-1.2246467991473533e-15, z=5.0, heading=90.0)]]"
      ]
     },
     "execution_count": 3,
     "metadata": {},
     "output_type": "execute_result"
    }
   ],
   "source": [
    "enu_paths = [poses(enu_origin,h_path) for h_path in h_paths]\n",
    "enu_homes = poses(enu_origin,homes)\n",
    "enu_paths"
   ]
  },
  {
   "cell_type": "markdown",
   "metadata": {},
   "source": [
    "## GRA Coordinates"
   ]
  },
  {
   "cell_type": "code",
   "execution_count": 4,
   "metadata": {},
   "outputs": [
    {
     "data": {
      "text/plain": [
       "[[GRAPose(lat=-35.363328, lon=149.1652241, alt=5.0, heading=90.0),\n",
       "  GRAPose(lat=-35.36332799995002, lon=149.16511394398992, alt=5.0, heading=90.0),\n",
       "  GRAPose(lat=-35.36323816790049, lon=149.16511394411248, alt=5.0, heading=90.0),\n",
       "  GRAPose(lat=-35.36323816795048, lon=149.1652241, alt=5.0, heading=90.0),\n",
       "  GRAPose(lat=-35.363328, lon=149.1652241, alt=5.0, heading=90.0)],\n",
       " [GRAPose(lat=-35.36323816795048, lon=149.1652241, alt=5.0, heading=90),\n",
       "  GRAPose(lat=-35.36323816790049, lon=149.16511394411248, alt=5.0, heading=90),\n",
       "  GRAPose(lat=-35.36314833585095, lon=149.16511394423503, alt=5.0, heading=90),\n",
       "  GRAPose(lat=-35.36314833590094, lon=149.1652241, alt=5.0, heading=90),\n",
       "  GRAPose(lat=-35.36323816795048, lon=149.1652241, alt=5.0, heading=90)],\n",
       " [GRAPose(lat=-35.36337291597479, lon=149.16533425607133, alt=5.0, heading=90),\n",
       "  GRAPose(lat=-35.36337291602477, lon=149.1652241, alt=5.0, heading=90),\n",
       "  GRAPose(lat=-35.36328308397523, lon=149.1652241, alt=5.0, heading=90),\n",
       "  GRAPose(lat=-35.36328308392526, lon=149.16533425594878, alt=5.0, heading=90),\n",
       "  GRAPose(lat=-35.36337291597479, lon=149.16533425607133, alt=5.0, heading=90)],\n",
       " [GRAPose(lat=-35.363462748074305, lon=149.1652241, alt=5.0, heading=135),\n",
       "  GRAPose(lat=-35.3635262689007, lon=149.165146207747, alt=5.0, heading=135),\n",
       "  GRAPose(lat=-35.363462747974346, lon=149.1650683156165, alt=5.0, heading=135),\n",
       "  GRAPose(lat=-35.36339922719792, lon=149.16514620786955, alt=5.0, heading=135),\n",
       "  GRAPose(lat=-35.363462748074305, lon=149.1652241, alt=5.0, heading=135)],\n",
       " [GRAPose(lat=-35.36332799980009, lon=149.16544441202018, alt=5.0, heading=90.0),\n",
       "  GRAPose(lat=-35.36332799995002, lon=149.16533425601006, alt=5.0, heading=90.0),\n",
       "  GRAPose(lat=-35.36323816790049, lon=149.1653342558875, alt=5.0, heading=90.0),\n",
       "  GRAPose(lat=-35.36323816775055, lon=149.165444411775, alt=5.0, heading=90.0),\n",
       "  GRAPose(lat=-35.36332799980009, lon=149.16544441202018, alt=5.0, heading=90.0)]]"
      ]
     },
     "execution_count": 4,
     "metadata": {},
     "output_type": "execute_result"
    }
   ],
   "source": [
    "gra_paths = [poses(gra_origin,h_path) for h_path in h_paths]\n",
    "gra_homes = poses(gra_origin,homes)\n",
    "gra_paths"
   ]
  },
  {
   "cell_type": "markdown",
   "metadata": {},
   "source": [
    "## Save the missions"
   ]
  },
  {
   "cell_type": "code",
   "execution_count": 5,
   "metadata": {},
   "outputs": [],
   "source": [
    "for i,gra_path in enumerate(gra_paths):\n",
    "    save_mission(name=mission_name+f\"_{i+1}\",poses=gra_path)"
   ]
  },
  {
   "cell_type": "markdown",
   "metadata": {},
   "source": [
    "## Visualization Parameters"
   ]
  },
  {
   "cell_type": "code",
   "execution_count": 6,
   "metadata": {},
   "outputs": [
    {
     "data": {
      "application/vnd.plotly.v1+json": {
       "config": {
        "plotlyServerURL": "https://plot.ly"
       },
       "data": [
        {
         "marker": {
          "color": [
           "blue",
           "blue",
           "blue",
           "blue",
           "blue"
          ],
          "size": 6
         },
         "mode": "markers",
         "name": "trajectory 0",
         "type": "scatter3d",
         "x": [
          0,
          -10,
          -10,
          6.123233995736766e-16,
          0
         ],
         "y": [
          0,
          6.123233995736766e-16,
          10,
          10,
          0
         ],
         "z": [
          5,
          5,
          5,
          5,
          5
         ]
        },
        {
         "marker": {
          "color": [
           "green",
           "green",
           "green",
           "green",
           "green"
          ],
          "size": 6
         },
         "mode": "markers",
         "name": "trajectory 1",
         "type": "scatter3d",
         "x": [
          6.123233995736766e-16,
          -10,
          -9.999999999999998,
          1.2246467991473533e-15,
          6.123233995736766e-16
         ],
         "y": [
          10,
          10,
          20,
          20,
          10
         ],
         "z": [
          5,
          5,
          5,
          5,
          5
         ]
        },
        {
         "marker": {
          "color": [
           "yellow",
           "yellow",
           "yellow",
           "yellow",
           "yellow"
          ],
          "size": 6
         },
         "mode": "markers",
         "name": "trajectory 2",
         "type": "scatter3d",
         "x": [
          10,
          -3.061616997868383e-16,
          3.061616997868383e-16,
          10,
          10
         ],
         "y": [
          -5.000000000000001,
          -5,
          5,
          4.999999999999999,
          -5.000000000000001
         ],
         "z": [
          5,
          5,
          5,
          5,
          5
         ]
        },
        {
         "marker": {
          "color": [
           "orange",
           "orange",
           "orange",
           "orange",
           "orange"
          ],
          "size": 6
         },
         "mode": "markers",
         "name": "trajectory 3",
         "type": "scatter3d",
         "x": [
          -9.18485099360515e-16,
          -7.071067811865477,
          -14.142135623730953,
          -7.0710678118654755,
          -9.18485099360515e-16
         ],
         "y": [
          -15,
          -22.071067811865476,
          -15,
          -7.9289321881345245,
          -15
         ],
         "z": [
          5,
          5,
          5,
          5,
          5
         ]
        },
        {
         "marker": {
          "color": [
           "red",
           "red",
           "red",
           "red",
           "red"
          ],
          "size": 6
         },
         "mode": "markers",
         "name": "trajectory 4",
         "type": "scatter3d",
         "x": [
          20,
          10,
          10,
          20,
          20
         ],
         "y": [
          -1.2246467991473533e-15,
          -6.123233995736766e-16,
          10,
          9.999999999999998,
          -1.2246467991473533e-15
         ],
         "z": [
          5,
          5,
          5,
          5,
          5
         ]
        }
       ],
       "layout": {
        "height": 600,
        "scene": {
         "xaxis": {
          "range": [
           -20.970562748477143,
           26.82842712474619
          ],
          "title": {
           "text": "x"
          }
         },
         "yaxis": {
          "range": [
           -30.48528137423857,
           28.414213562373096
          ],
          "title": {
           "text": "y"
          }
         },
         "zaxis": {
          "range": [
           -0.05,
           5
          ],
          "title": {
           "text": "z"
          }
         }
        },
        "showlegend": true,
        "template": {
         "data": {
          "bar": [
           {
            "error_x": {
             "color": "#2a3f5f"
            },
            "error_y": {
             "color": "#2a3f5f"
            },
            "marker": {
             "line": {
              "color": "#E5ECF6",
              "width": 0.5
             },
             "pattern": {
              "fillmode": "overlay",
              "size": 10,
              "solidity": 0.2
             }
            },
            "type": "bar"
           }
          ],
          "barpolar": [
           {
            "marker": {
             "line": {
              "color": "#E5ECF6",
              "width": 0.5
             },
             "pattern": {
              "fillmode": "overlay",
              "size": 10,
              "solidity": 0.2
             }
            },
            "type": "barpolar"
           }
          ],
          "carpet": [
           {
            "aaxis": {
             "endlinecolor": "#2a3f5f",
             "gridcolor": "white",
             "linecolor": "white",
             "minorgridcolor": "white",
             "startlinecolor": "#2a3f5f"
            },
            "baxis": {
             "endlinecolor": "#2a3f5f",
             "gridcolor": "white",
             "linecolor": "white",
             "minorgridcolor": "white",
             "startlinecolor": "#2a3f5f"
            },
            "type": "carpet"
           }
          ],
          "choropleth": [
           {
            "colorbar": {
             "outlinewidth": 0,
             "ticks": ""
            },
            "type": "choropleth"
           }
          ],
          "contour": [
           {
            "colorbar": {
             "outlinewidth": 0,
             "ticks": ""
            },
            "colorscale": [
             [
              0,
              "#0d0887"
             ],
             [
              0.1111111111111111,
              "#46039f"
             ],
             [
              0.2222222222222222,
              "#7201a8"
             ],
             [
              0.3333333333333333,
              "#9c179e"
             ],
             [
              0.4444444444444444,
              "#bd3786"
             ],
             [
              0.5555555555555556,
              "#d8576b"
             ],
             [
              0.6666666666666666,
              "#ed7953"
             ],
             [
              0.7777777777777778,
              "#fb9f3a"
             ],
             [
              0.8888888888888888,
              "#fdca26"
             ],
             [
              1,
              "#f0f921"
             ]
            ],
            "type": "contour"
           }
          ],
          "contourcarpet": [
           {
            "colorbar": {
             "outlinewidth": 0,
             "ticks": ""
            },
            "type": "contourcarpet"
           }
          ],
          "heatmap": [
           {
            "colorbar": {
             "outlinewidth": 0,
             "ticks": ""
            },
            "colorscale": [
             [
              0,
              "#0d0887"
             ],
             [
              0.1111111111111111,
              "#46039f"
             ],
             [
              0.2222222222222222,
              "#7201a8"
             ],
             [
              0.3333333333333333,
              "#9c179e"
             ],
             [
              0.4444444444444444,
              "#bd3786"
             ],
             [
              0.5555555555555556,
              "#d8576b"
             ],
             [
              0.6666666666666666,
              "#ed7953"
             ],
             [
              0.7777777777777778,
              "#fb9f3a"
             ],
             [
              0.8888888888888888,
              "#fdca26"
             ],
             [
              1,
              "#f0f921"
             ]
            ],
            "type": "heatmap"
           }
          ],
          "histogram": [
           {
            "marker": {
             "pattern": {
              "fillmode": "overlay",
              "size": 10,
              "solidity": 0.2
             }
            },
            "type": "histogram"
           }
          ],
          "histogram2d": [
           {
            "colorbar": {
             "outlinewidth": 0,
             "ticks": ""
            },
            "colorscale": [
             [
              0,
              "#0d0887"
             ],
             [
              0.1111111111111111,
              "#46039f"
             ],
             [
              0.2222222222222222,
              "#7201a8"
             ],
             [
              0.3333333333333333,
              "#9c179e"
             ],
             [
              0.4444444444444444,
              "#bd3786"
             ],
             [
              0.5555555555555556,
              "#d8576b"
             ],
             [
              0.6666666666666666,
              "#ed7953"
             ],
             [
              0.7777777777777778,
              "#fb9f3a"
             ],
             [
              0.8888888888888888,
              "#fdca26"
             ],
             [
              1,
              "#f0f921"
             ]
            ],
            "type": "histogram2d"
           }
          ],
          "histogram2dcontour": [
           {
            "colorbar": {
             "outlinewidth": 0,
             "ticks": ""
            },
            "colorscale": [
             [
              0,
              "#0d0887"
             ],
             [
              0.1111111111111111,
              "#46039f"
             ],
             [
              0.2222222222222222,
              "#7201a8"
             ],
             [
              0.3333333333333333,
              "#9c179e"
             ],
             [
              0.4444444444444444,
              "#bd3786"
             ],
             [
              0.5555555555555556,
              "#d8576b"
             ],
             [
              0.6666666666666666,
              "#ed7953"
             ],
             [
              0.7777777777777778,
              "#fb9f3a"
             ],
             [
              0.8888888888888888,
              "#fdca26"
             ],
             [
              1,
              "#f0f921"
             ]
            ],
            "type": "histogram2dcontour"
           }
          ],
          "mesh3d": [
           {
            "colorbar": {
             "outlinewidth": 0,
             "ticks": ""
            },
            "type": "mesh3d"
           }
          ],
          "parcoords": [
           {
            "line": {
             "colorbar": {
              "outlinewidth": 0,
              "ticks": ""
             }
            },
            "type": "parcoords"
           }
          ],
          "pie": [
           {
            "automargin": true,
            "type": "pie"
           }
          ],
          "scatter": [
           {
            "fillpattern": {
             "fillmode": "overlay",
             "size": 10,
             "solidity": 0.2
            },
            "type": "scatter"
           }
          ],
          "scatter3d": [
           {
            "line": {
             "colorbar": {
              "outlinewidth": 0,
              "ticks": ""
             }
            },
            "marker": {
             "colorbar": {
              "outlinewidth": 0,
              "ticks": ""
             }
            },
            "type": "scatter3d"
           }
          ],
          "scattercarpet": [
           {
            "marker": {
             "colorbar": {
              "outlinewidth": 0,
              "ticks": ""
             }
            },
            "type": "scattercarpet"
           }
          ],
          "scattergeo": [
           {
            "marker": {
             "colorbar": {
              "outlinewidth": 0,
              "ticks": ""
             }
            },
            "type": "scattergeo"
           }
          ],
          "scattergl": [
           {
            "marker": {
             "colorbar": {
              "outlinewidth": 0,
              "ticks": ""
             }
            },
            "type": "scattergl"
           }
          ],
          "scattermap": [
           {
            "marker": {
             "colorbar": {
              "outlinewidth": 0,
              "ticks": ""
             }
            },
            "type": "scattermap"
           }
          ],
          "scattermapbox": [
           {
            "marker": {
             "colorbar": {
              "outlinewidth": 0,
              "ticks": ""
             }
            },
            "type": "scattermapbox"
           }
          ],
          "scatterpolar": [
           {
            "marker": {
             "colorbar": {
              "outlinewidth": 0,
              "ticks": ""
             }
            },
            "type": "scatterpolar"
           }
          ],
          "scatterpolargl": [
           {
            "marker": {
             "colorbar": {
              "outlinewidth": 0,
              "ticks": ""
             }
            },
            "type": "scatterpolargl"
           }
          ],
          "scatterternary": [
           {
            "marker": {
             "colorbar": {
              "outlinewidth": 0,
              "ticks": ""
             }
            },
            "type": "scatterternary"
           }
          ],
          "surface": [
           {
            "colorbar": {
             "outlinewidth": 0,
             "ticks": ""
            },
            "colorscale": [
             [
              0,
              "#0d0887"
             ],
             [
              0.1111111111111111,
              "#46039f"
             ],
             [
              0.2222222222222222,
              "#7201a8"
             ],
             [
              0.3333333333333333,
              "#9c179e"
             ],
             [
              0.4444444444444444,
              "#bd3786"
             ],
             [
              0.5555555555555556,
              "#d8576b"
             ],
             [
              0.6666666666666666,
              "#ed7953"
             ],
             [
              0.7777777777777778,
              "#fb9f3a"
             ],
             [
              0.8888888888888888,
              "#fdca26"
             ],
             [
              1,
              "#f0f921"
             ]
            ],
            "type": "surface"
           }
          ],
          "table": [
           {
            "cells": {
             "fill": {
              "color": "#EBF0F8"
             },
             "line": {
              "color": "white"
             }
            },
            "header": {
             "fill": {
              "color": "#C8D4E3"
             },
             "line": {
              "color": "white"
             }
            },
            "type": "table"
           }
          ]
         },
         "layout": {
          "annotationdefaults": {
           "arrowcolor": "#2a3f5f",
           "arrowhead": 0,
           "arrowwidth": 1
          },
          "autotypenumbers": "strict",
          "coloraxis": {
           "colorbar": {
            "outlinewidth": 0,
            "ticks": ""
           }
          },
          "colorscale": {
           "diverging": [
            [
             0,
             "#8e0152"
            ],
            [
             0.1,
             "#c51b7d"
            ],
            [
             0.2,
             "#de77ae"
            ],
            [
             0.3,
             "#f1b6da"
            ],
            [
             0.4,
             "#fde0ef"
            ],
            [
             0.5,
             "#f7f7f7"
            ],
            [
             0.6,
             "#e6f5d0"
            ],
            [
             0.7,
             "#b8e186"
            ],
            [
             0.8,
             "#7fbc41"
            ],
            [
             0.9,
             "#4d9221"
            ],
            [
             1,
             "#276419"
            ]
           ],
           "sequential": [
            [
             0,
             "#0d0887"
            ],
            [
             0.1111111111111111,
             "#46039f"
            ],
            [
             0.2222222222222222,
             "#7201a8"
            ],
            [
             0.3333333333333333,
             "#9c179e"
            ],
            [
             0.4444444444444444,
             "#bd3786"
            ],
            [
             0.5555555555555556,
             "#d8576b"
            ],
            [
             0.6666666666666666,
             "#ed7953"
            ],
            [
             0.7777777777777778,
             "#fb9f3a"
            ],
            [
             0.8888888888888888,
             "#fdca26"
            ],
            [
             1,
             "#f0f921"
            ]
           ],
           "sequentialminus": [
            [
             0,
             "#0d0887"
            ],
            [
             0.1111111111111111,
             "#46039f"
            ],
            [
             0.2222222222222222,
             "#7201a8"
            ],
            [
             0.3333333333333333,
             "#9c179e"
            ],
            [
             0.4444444444444444,
             "#bd3786"
            ],
            [
             0.5555555555555556,
             "#d8576b"
            ],
            [
             0.6666666666666666,
             "#ed7953"
            ],
            [
             0.7777777777777778,
             "#fb9f3a"
            ],
            [
             0.8888888888888888,
             "#fdca26"
            ],
            [
             1,
             "#f0f921"
            ]
           ]
          },
          "colorway": [
           "#636efa",
           "#EF553B",
           "#00cc96",
           "#ab63fa",
           "#FFA15A",
           "#19d3f3",
           "#FF6692",
           "#B6E880",
           "#FF97FF",
           "#FECB52"
          ],
          "font": {
           "color": "#2a3f5f"
          },
          "geo": {
           "bgcolor": "white",
           "lakecolor": "white",
           "landcolor": "#E5ECF6",
           "showlakes": true,
           "showland": true,
           "subunitcolor": "white"
          },
          "hoverlabel": {
           "align": "left"
          },
          "hovermode": "closest",
          "mapbox": {
           "style": "light"
          },
          "paper_bgcolor": "white",
          "plot_bgcolor": "#E5ECF6",
          "polar": {
           "angularaxis": {
            "gridcolor": "white",
            "linecolor": "white",
            "ticks": ""
           },
           "bgcolor": "#E5ECF6",
           "radialaxis": {
            "gridcolor": "white",
            "linecolor": "white",
            "ticks": ""
           }
          },
          "scene": {
           "xaxis": {
            "backgroundcolor": "#E5ECF6",
            "gridcolor": "white",
            "gridwidth": 2,
            "linecolor": "white",
            "showbackground": true,
            "ticks": "",
            "zerolinecolor": "white"
           },
           "yaxis": {
            "backgroundcolor": "#E5ECF6",
            "gridcolor": "white",
            "gridwidth": 2,
            "linecolor": "white",
            "showbackground": true,
            "ticks": "",
            "zerolinecolor": "white"
           },
           "zaxis": {
            "backgroundcolor": "#E5ECF6",
            "gridcolor": "white",
            "gridwidth": 2,
            "linecolor": "white",
            "showbackground": true,
            "ticks": "",
            "zerolinecolor": "white"
           }
          },
          "shapedefaults": {
           "line": {
            "color": "#2a3f5f"
           }
          },
          "ternary": {
           "aaxis": {
            "gridcolor": "white",
            "linecolor": "white",
            "ticks": ""
           },
           "baxis": {
            "gridcolor": "white",
            "linecolor": "white",
            "ticks": ""
           },
           "bgcolor": "#E5ECF6",
           "caxis": {
            "gridcolor": "white",
            "linecolor": "white",
            "ticks": ""
           }
          },
          "title": {
           "x": 0.05
          },
          "xaxis": {
           "automargin": true,
           "gridcolor": "white",
           "linecolor": "white",
           "ticks": "",
           "title": {
            "standoff": 15
           },
           "zerolinecolor": "white",
           "zerolinewidth": 2
          },
          "yaxis": {
           "automargin": true,
           "gridcolor": "white",
           "linecolor": "white",
           "ticks": "",
           "title": {
            "standoff": 15
           },
           "zerolinecolor": "white",
           "zerolinewidth": 2
          }
         }
        },
        "title": {
         "text": "Simulation Waypoints",
         "x": 0.5,
         "xanchor": "center"
        },
        "width": 800
       }
      }
     },
     "metadata": {},
     "output_type": "display_data"
    }
   ],
   "source": [
    "\n",
    "markers = [\n",
    "\tConfigGazebo.create_markertraj(\n",
    "\t\ttraj=enu_path,\n",
    "\t\tcolor=color\n",
    "\t)\n",
    "\tfor enu_path, color in zip(enu_paths, colors)\n",
    "]\n",
    "Gazebo.plot_3d_interactive(\n",
    "\tmarkers=markers,\n",
    "\ttitle=\"Simulation Waypoints\",\n",
    "\tframes=(0.2, 0.2, 0.6),\n",
    "\tground=-0.05\n",
    ")"
   ]
  },
  {
   "cell_type": "markdown",
   "metadata": {},
   "source": [
    "## Visualizer Config"
   ]
  },
  {
   "cell_type": "code",
   "execution_count": 7,
   "metadata": {},
   "outputs": [],
   "source": [
    "novis=NoneVisualizer()\n",
    "\n",
    "\n",
    "gaz_config = ConfigGazebo(world_path=\"simulators/gazebo/worlds/runway.world\",\n",
    "                           models=list(zip(n_uavs*[\"iris\"],colors)),\n",
    "                           marker_trajs = markers)\n",
    "gaz= Gazebo(gra_origin,enu_homes,gaz_config)\n",
    "\n",
    "qgc=QGC(gra_homes)"
   ]
  },
  {
   "cell_type": "markdown",
   "metadata": {},
   "source": [
    "## Launch Simulatotion"
   ]
  },
  {
   "cell_type": "code",
   "execution_count": 8,
   "metadata": {},
   "outputs": [
    {
     "name": "stdout",
     "output_type": "stream",
     "text": [
      "🖥️ Gazebo launched for realistic simulation and 3D visualization.\n",
      "🚀 ArduPilot SITL vehicle 1 launched (PID 3437865)\n",
      "🚀 ArduPilot SITL vehicle 3 launched (PID 3437869)\n",
      "🚀 ArduPilot SITL vehicle 2 launched (PID 3437867)\n",
      "🚀 ArduPilot SITL vehicle 4 launched (PID 3437871)\n",
      "🚀 ArduPilot SITL vehicle 5 launched (PID 3437873)\n",
      "🚀 UAV logic for vehicle 1 launched (PID 3437875)\n",
      "🚀 UAV logic for vehicle 2 launched (PID 3437878)\n",
      "🚀 UAV logic for vehicle 3 launched (PID 3437876)\n",
      "🚀 UAV logic for vehicle 4 launched (PID 3437877)\n",
      "🚀 UAV logic for vehicle 5 launched (PID 3437879)\n",
      "🚀 Proxy for vehicle 1 launched (PID 3437884)\n",
      "🔗 UAV logic 1 is connected to Ardupilot SITL vehicle 1\n",
      "🚀 Proxy for vehicle 2 launched (PID 3437889)\n",
      "🔗 UAV logic 2 is connected to Ardupilot SITL vehicle 2\n",
      "🚀 Proxy for vehicle 4 launched (PID 3437893)\n",
      "🔗 UAV logic 4 is connected to Ardupilot SITL vehicle 4\n",
      "🚀 Proxy for vehicle 3 launched (PID 3437892)\n",
      "🔗 UAV logic 3 is connected to Ardupilot SITL vehicle 3\n",
      "🚀 Proxy for vehicle 5 launched (PID 3437899)\n",
      "🔗 UAV logic 5 is connected to Ardupilot SITL vehicle 5\n",
      "System id: 4\n",
      "System id: 1\n",
      "System id: 2\n",
      "System id: 5\n",
      "System id: 4\n",
      "[Errno 111] Connection refused sleeping\n",
      "System id: 3\n",
      "[Errno 111] Connection refused sleeping\n",
      "System id: 5\n",
      "[Errno 111] Connection refused sleeping\n",
      "System id: 3\n",
      "System id: 1\n",
      "[Errno 111] Connection refused sleeping\n",
      "System id: 2\n",
      "[Errno 111] Connection refused sleeping\n",
      "SIM_VEHICLE: Start\n",
      "SIM_VEHICLE: Starting up at [-35.363328, 149.1652241, 0.0, 90.0]\n",
      "SIM_VEHICLE: Using defaults from (../../ardupilot/Tools/autotest/default_params/copter.parm,../../ardupilot/Tools/autotest/default_params/gazebo-iris.parm)\n",
      "SIM_VEHICLE: Adding parameters from (/home/abeldg/uav-cyber-sim/params/vehicle.parm)\n",
      "Setting SIM_SPEEDUP=1.000000\n",
      "Setting MAV_SYSID=2\n",
      "Starting SITL Gazebo\n",
      "Home: -35.363328 149.165224 alt=0.000000m hdg=90.000000\n",
      "Bind 127.0.0.1:9013 for SITL in\n",
      "Setting Gazebo interface to 127.0.0.1:9012 \n",
      "Starting sketch 'ArduCopter'\n",
      "Starting SITL input\n",
      "Using Irlock at port : 9015\n",
      "Waiting for connection ....\n",
      "SIM_VEHICLE: Start\n",
      "SIM_VEHICLE: Killing tasks\n",
      "SIM_VEHICLE: Start\n",
      "SIM_VEHICLE: Starting up at [-35.363328, 149.1652241, 0.0, 90.0]\n",
      "SIM_VEHICLE: Using defaults from (../../ardupilot/Tools/autotest/default_params/copter.parm,../../ardupilot/Tools/autotest/default_params/gazebo-iris.parm)\n",
      "SIM_VEHICLE: Adding parameters from (/home/abeldg/uav-cyber-sim/params/vehicle.parm)\n",
      "SIM_VEHICLE: Start\n",
      "SIM_VEHICLE: Starting up at [-35.363328, 149.1652241, 0.0, 90.0]\n",
      "Setting SIM_SPEEDUP=1.000000\n",
      "Setting MAV_SYSID=5\n",
      "Starting SITL Gazebo\n",
      "Home: -35.363328 149.165224 alt=0.000000m hdg=90.000000\n",
      "SIM_VEHICLE: Using defaults from (../../ardupilot/Tools/autotest/default_params/copter.parm,../../ardupilot/Tools/autotest/default_params/gazebo-iris.parm)\n",
      "Bind 127.0.0.1:9043 for SITL in\n",
      "Setting Gazebo interface to 127.0.0.1:9042 \n",
      "Starting sketch 'ArduCopter'\n",
      "SIM_VEHICLE: Adding parameters from (/home/abeldg/uav-cyber-sim/params/vehicle.parm)\n",
      "Starting SITL input\n",
      "Using Irlock at port : 9045\n",
      "Waiting for connection ....\n"
     ]
    },
    {
     "name": "stderr",
     "output_type": "stream",
     "text": [
      "bind port 5800 for SERIAL0\n",
      "SERIAL0 on TCP port 5800\n",
      "bind port 5830 for SERIAL0\n",
      "SERIAL0 on TCP port 5830\n",
      "bind port 5810 for SERIAL0\n",
      "SERIAL0 on TCP port 5810\n",
      "bind port 5820 for SERIAL0\n",
      "SERIAL0 on TCP port 5820\n",
      "bind port 5790 for SERIAL0\n",
      "SERIAL0 on TCP port 5790\n"
     ]
    },
    {
     "name": "stdout",
     "output_type": "stream",
     "text": [
      "Setting SIM_SPEEDUP=1.000000\n",
      "Setting MAV_SYSID=3\n",
      "Starting SITL Gazebo\n",
      "Home: -35.363328 149.165224 alt=0.000000m hdg=90.000000\n",
      "Bind 127.0.0.1:9023 for SITL in\n",
      "Setting Gazebo interface to 127.0.0.1:9022 \n",
      "Starting sketch 'ArduCopter'\n",
      "Starting SITL input\n",
      "Using Irlock at port : 9025\n",
      "Waiting for connection ....\n",
      "SIM_VEHICLE: Start\n",
      "SIM_VEHICLE: Starting up at [-35.363328, 149.1652241, 0.0, 90.0]\n",
      "SIM_VEHICLE: Using defaults from (../../ardupilot/Tools/autotest/default_params/copter.parm,../../ardupilot/Tools/autotest/default_params/gazebo-iris.parm)\n",
      "SIM_VEHICLE: Adding parameters from (/home/abeldg/uav-cyber-sim/params/vehicle.parm)\n",
      "Setting SIM_SPEEDUP=1.000000\n",
      "Setting MAV_SYSID=4\n",
      "Starting SITL Gazebo\n",
      "Home: -35.363328 149.165224 alt=0.000000m hdg=90.000000\n",
      "Bind 127.0.0.1:9033 for SITL in\n",
      "Setting Gazebo interface to 127.0.0.1:9032 \n",
      "Starting sketch 'ArduCopter'\n",
      "Starting SITL input\n",
      "Using Irlock at port : 9035\n",
      "Waiting for connection ....\n",
      "SIM_VEHICLE: Starting up at [-35.363328, 149.1652241, 0.0, 90.0]\n",
      "SIM_VEHICLE: Using defaults from (../../ardupilot/Tools/autotest/default_params/copter.parm,../../ardupilot/Tools/autotest/default_params/gazebo-iris.parm)\n",
      "SIM_VEHICLE: Adding parameters from (/home/abeldg/uav-cyber-sim/params/vehicle.parm)\n",
      "Setting SIM_SPEEDUP=1.000000\n",
      "Setting MAV_SYSID=1\n",
      "Starting SITL Gazebo\n",
      "Home: -35.363328 149.165224 alt=0.000000m hdg=90.000000\n",
      "Bind 127.0.0.1:9003 for SITL in\n",
      "Setting Gazebo interface to 127.0.0.1:9002 \n",
      "Starting sketch 'ArduCopter'\n",
      "Starting SITL input\n",
      "Using Irlock at port : 9005\n",
      "Waiting for connection ....\n",
      "Connection on serial port 5820\n",
      "\n",
      "🚀 Starting Proxy 4\n",
      "Loaded defaults from ../../ardupilot/Tools/autotest/default_params/copter.parm,../../ardupilot/Tools/autotest/default_params/gazebo-iris.parm,/home/abeldg/uav-cyber-sim/params/vehicle.parm\n",
      "Connection on serial port 5810\n",
      "\n",
      "🚀 Starting Proxy 3\n",
      "Connection on serial port 5830\n",
      "Loaded defaults from ../../ardupilot/Tools/autotest/default_params/copter.parm,../../ardupilot/Tools/autotest/default_params/gazebo-iris.parm,/home/abeldg/uav-cyber-sim/params/vehicle.parm\n",
      "\n",
      "🚀 Starting Proxy 5\n",
      "Loaded defaults from ../../ardupilot/Tools/autotest/default_params/copter.parm,../../ardupilot/Tools/autotest/default_params/gazebo-iris.parm,/home/abeldg/uav-cyber-sim/params/vehicle.parm\n",
      "Connection on serial port 5790\n",
      "\n",
      "🚀 Starting Proxy 1\n",
      "Loaded defaults from ../../ardupilot/Tools/autotest/default_params/copter.parm,../../ardupilot/Tools/autotest/default_params/gazebo-iris.parm,/home/abeldg/uav-cyber-sim/params/vehicle.parm\n",
      "Connection on serial port 5800\n",
      "\n",
      "🚀 Starting Proxy 2\n",
      "Loaded defaults from ../../ardupilot/Tools/autotest/default_params/copter.parm,../../ardupilot/Tools/autotest/default_params/gazebo-iris.parm,/home/abeldg/uav-cyber-sim/params/vehicle.parm\n"
     ]
    },
    {
     "name": "stderr",
     "output_type": "stream",
     "text": [
      "\u001b[1;33mWarning [parser.cc:833]\u001b[0m XML Attribute[version] in element[sdf] not defined in SDF, ignoring.\n",
      "\u001b[1;33mWarning [parser.cc:833]\u001b[0m XML Attribute[version] in element[sdf] not defined in SDF, ignoring.\n",
      "\u001b[1;33mWarning [parser.cc:833]\u001b[0m XML Attribute[version] in element[sdf] not defined in SDF, ignoring.\n",
      "\u001b[1;33mWarning [parser.cc:833]\u001b[0m XML Attribute[version] in element[sdf] not defined in SDF, ignoring.\n",
      "\u001b[1;33mWarning [parser.cc:833]\u001b[0m XML Attribute[version] in element[sdf] not defined in SDF, ignoring.\n",
      "\u001b[1;33mWarning [parser.cc:833]\u001b[0m XML Attribute[version] in element[sdf] not defined in SDF, ignoring.\n",
      "\u001b[1;33mWarning [parser.cc:833]\u001b[0m XML Attribute[version] in element[sdf] not defined in SDF, ignoring.\n",
      "\u001b[1;33mWarning [parser.cc:833]\u001b[0m XML Attribute[version] in element[sdf] not defined in SDF, ignoring.\n",
      "\u001b[1;33mWarning [parser.cc:833]\u001b[0m XML Attribute[version] in element[sdf] not defined in SDF, ignoring.\n",
      "\u001b[1;33mWarning [parser.cc:833]\u001b[0m XML Attribute[version] in element[sdf] not defined in SDF, ignoring.\n"
     ]
    },
    {
     "name": "stdout",
     "output_type": "stream",
     "text": [
      "Loaded defaults from ../../ardupilot/Tools/autotest/default_params/copter.parm,../../ardupilot/Tools/autotest/default_params/gazebo-iris.parm,/home/abeldg/uav-cyber-sim/params/vehicle.parm\n",
      "Loaded defaults from ../../ardupilot/Tools/autotest/default_params/copter.parm,../../ardupilot/Tools/autotest/default_params/gazebo-iris.parm,/home/abeldg/uav-cyber-sim/params/vehicle.parm\n",
      "Loaded defaults from ../../ardupilot/Tools/autotest/default_params/copter.parm,../../ardupilot/Tools/autotest/default_params/gazebo-iris.parm,/home/abeldg/uav-cyber-sim/params/vehicle.parm\n",
      "Loaded defaults from ../../ardupilot/Tools/autotest/default_params/copter.parm,../../ardupilot/Tools/autotest/default_params/gazebo-iris.parm,/home/abeldg/uav-cyber-sim/params/vehicle.parm\n",
      "Loaded defaults from ../../ardupilot/Tools/autotest/default_params/copter.parm,../../ardupilot/Tools/autotest/default_params/gazebo-iris.parm,/home/abeldg/uav-cyber-sim/params/vehicle.parm\n",
      "Loaded defaults from ../../ardupilot/Tools/autotest/default_params/copter.parm,../../ardupilot/Tools/autotest/default_params/gazebo-iris.parm,/home/abeldg/uav-cyber-sim/params/vehicle.parm\n",
      "Loaded defaults from ../../ardupilot/Tools/autotest/default_params/copter.parm,../../ardupilot/Tools/autotest/default_params/gazebo-iris.parm,/home/abeldg/uav-cyber-sim/params/vehicle.parm\n",
      "Loaded defaults from ../../ardupilot/Tools/autotest/default_params/copter.parm,../../ardupilot/Tools/autotest/default_params/gazebo-iris.parm,/home/abeldg/uav-cyber-sim/params/vehicle.parm\n",
      "Loaded defaults from ../../ardupilot/Tools/autotest/default_params/copter.parm,../../ardupilot/Tools/autotest/default_params/gazebo-iris.parm,/home/abeldg/uav-cyber-sim/params/vehicle.parm\n",
      "Loaded defaults from ../../ardupilot/Tools/autotest/default_params/copter.parm,../../ardupilot/Tools/autotest/default_params/gazebo-iris.parm,/home/abeldg/uav-cyber-sim/params/vehicle.parm\n",
      "Loaded defaults from ../../ardupilot/Tools/autotest/default_params/copter.parm,../../ardupilot/Tools/autotest/default_params/gazebo-iris.parm,/home/abeldg/uav-cyber-sim/params/vehicle.parm\n",
      "Loaded defaults from ../../ardupilot/Tools/autotest/default_params/copter.parm,../../ardupilot/Tools/autotest/default_params/gazebo-iris.parm,/home/abeldg/uav-cyber-sim/params/vehicle.parm\n",
      "Loaded defaults from ../../ardupilot/Tools/autotest/default_params/copter.parm,../../ardupilot/Tools/autotest/default_params/gazebo-iris.parm,/home/abeldg/uav-cyber-sim/params/vehicle.parm\n",
      "Loaded defaults from ../../ardupilot/Tools/autotest/default_params/copter.parm,../../ardupilot/Tools/autotest/default_params/gazebo-iris.parm,/home/abeldg/uav-cyber-sim/params/vehicle.parm\n",
      "Loaded defaults from ../../ardupilot/Tools/autotest/default_params/copter.parm,../../ardupilot/Tools/autotest/default_params/gazebo-iris.parm,/home/abeldg/uav-cyber-sim/params/vehicle.parm\n",
      "Loaded defaults from ../../ardupilot/Tools/autotest/default_params/copter.parm,../../ardupilot/Tools/autotest/default_params/gazebo-iris.parm,/home/abeldg/uav-cyber-sim/params/vehicle.parm\n",
      "Loaded defaults from ../../ardupilot/Tools/autotest/default_params/copter.parm,../../ardupilot/Tools/autotest/default_params/gazebo-iris.parm,/home/abeldg/uav-cyber-sim/params/vehicle.parm\n",
      "Loaded defaults from ../../ardupilot/Tools/autotest/default_params/copter.parm,../../ardupilot/Tools/autotest/default_params/gazebo-iris.parm,/home/abeldg/uav-cyber-sim/params/vehicle.parm\n",
      "Loaded defaults from ../../ardupilot/Tools/autotest/default_params/copter.parm,../../ardupilot/Tools/autotest/default_params/gazebo-iris.parm,/home/abeldg/uav-cyber-sim/params/vehicle.parm\n",
      "Loaded defaults from ../../ardupilot/Tools/autotest/default_params/copter.parm,../../ardupilot/Tools/autotest/default_params/gazebo-iris.parm,/home/abeldg/uav-cyber-sim/params/vehicle.parm\n",
      "Loaded defaults from ../../ardupilot/Tools/autotest/default_params/copter.parm,../../ardupilot/Tools/autotest/default_params/gazebo-iris.parm,/home/abeldg/uav-cyber-sim/params/vehicle.parm\n",
      "Loaded defaults from ../../ardupilot/Tools/autotest/default_params/copter.parm,../../ardupilot/Tools/autotest/default_params/gazebo-iris.parm,/home/abeldg/uav-cyber-sim/params/vehicle.parm\n",
      "Loaded defaults from ../../ardupilot/Tools/autotest/default_params/copter.parm,../../ardupilot/Tools/autotest/default_params/gazebo-iris.parm,/home/abeldg/uav-cyber-sim/params/vehicle.parm\n",
      "Loaded defaults from ../../ardupilot/Tools/autotest/default_params/copter.parm,../../ardupilot/Tools/autotest/default_params/gazebo-iris.parm,/home/abeldg/uav-cyber-sim/params/vehicle.parm\n",
      "Loaded defaults from ../../ardupilot/Tools/autotest/default_params/copter.parm,../../ardupilot/Tools/autotest/default_params/gazebo-iris.parm,/home/abeldg/uav-cyber-sim/params/vehicle.parm\n",
      "Loaded defaults from ../../ardupilot/Tools/autotest/default_params/copter.parm,../../ardupilot/Tools/autotest/default_params/gazebo-iris.parm,/home/abeldg/uav-cyber-sim/params/vehicle.parm\n",
      "Loaded defaults from ../../ardupilot/Tools/autotest/default_params/copter.parm,../../ardupilot/Tools/autotest/default_params/gazebo-iris.parm,/home/abeldg/uav-cyber-sim/params/vehicle.parm\n",
      "Loaded defaults from ../../ardupilot/Tools/autotest/default_params/copter.parm,../../ardupilot/Tools/autotest/default_params/gazebo-iris.parm,/home/abeldg/uav-cyber-sim/params/vehicle.parm\n",
      "Loaded defaults from ../../ardupilot/Tools/autotest/default_params/copter.parm,../../ardupilot/Tools/autotest/default_params/gazebo-iris.parm,/home/abeldg/uav-cyber-sim/params/vehicle.parm\n",
      "Loaded defaults from ../../ardupilot/Tools/autotest/default_params/copter.parm,../../ardupilot/Tools/autotest/default_params/gazebo-iris.parm,/home/abeldg/uav-cyber-sim/params/vehicle.parm\n",
      "Loaded defaults from ../../ardupilot/Tools/autotest/default_params/copter.parm,../../ardupilot/Tools/autotest/default_params/gazebo-iris.parm,/home/abeldg/uav-cyber-sim/params/vehicle.parm\n",
      "Loaded defaults from ../../ardupilot/Tools/autotest/default_params/copter.parm,../../ardupilot/Tools/autotest/default_params/gazebo-iris.parm,/home/abeldg/uav-cyber-sim/params/vehicle.parm\n",
      "Loaded defaults from ../../ardupilot/Tools/autotest/default_params/copter.parm,../../ardupilot/Tools/autotest/default_params/gazebo-iris.parm,/home/abeldg/uav-cyber-sim/params/vehicle.parm\n",
      "Loaded defaults from ../../ardupilot/Tools/autotest/default_params/copter.parm,../../ardupilot/Tools/autotest/default_params/gazebo-iris.parm,/home/abeldg/uav-cyber-sim/params/vehicle.parm\n",
      "Loaded defaults from ../../ardupilot/Tools/autotest/default_params/copter.parm,../../ardupilot/Tools/autotest/default_params/gazebo-iris.parm,/home/abeldg/uav-cyber-sim/params/vehicle.parm\n",
      "Loaded defaults from ../../ardupilot/Tools/autotest/default_params/copter.parm,../../ardupilot/Tools/autotest/default_params/gazebo-iris.parm,/home/abeldg/uav-cyber-sim/params/vehicle.parm\n",
      "Loaded defaults from ../../ardupilot/Tools/autotest/default_params/copter.parm,../../ardupilot/Tools/autotest/default_params/gazebo-iris.parm,/home/abeldg/uav-cyber-sim/params/vehicle.parm\n",
      "Loaded defaults from ../../ardupilot/Tools/autotest/default_params/copter.parm,../../ardupilot/Tools/autotest/default_params/gazebo-iris.parm,/home/abeldg/uav-cyber-sim/params/vehicle.parm\n",
      "Loaded defaults from ../../ardupilot/Tools/autotest/default_params/copter.parm,../../ardupilot/Tools/autotest/default_params/gazebo-iris.parm,/home/abeldg/uav-cyber-sim/params/vehicle.parm\n",
      "Loaded defaults from ../../ardupilot/Tools/autotest/default_params/copter.parm,../../ardupilot/Tools/autotest/default_params/gazebo-iris.parm,/home/abeldg/uav-cyber-sim/params/vehicle.parm\n",
      "Loaded defaults from ../../ardupilot/Tools/autotest/default_params/copter.parm,../../ardupilot/Tools/autotest/default_params/gazebo-iris.parm,/home/abeldg/uav-cyber-sim/params/vehicle.parm\n",
      "Loaded defaults from ../../ardupilot/Tools/autotest/default_params/copter.parm,../../ardupilot/Tools/autotest/default_params/gazebo-iris.parm,/home/abeldg/uav-cyber-sim/params/vehicle.parm\n",
      "Loaded defaults from ../../ardupilot/Tools/autotest/default_params/copter.parm,../../ardupilot/Tools/autotest/default_params/gazebo-iris.parm,/home/abeldg/uav-cyber-sim/params/vehicle.parm\n",
      "Loaded defaults from ../../ardupilot/Tools/autotest/default_params/copter.parm,../../ardupilot/Tools/autotest/default_params/gazebo-iris.parm,/home/abeldg/uav-cyber-sim/params/vehicle.parm\n",
      "Loaded defaults from ../../ardupilot/Tools/autotest/default_params/copter.parm,../../ardupilot/Tools/autotest/default_params/gazebo-iris.parm,/home/abeldg/uav-cyber-sim/params/vehicle.parm\n",
      "Loaded defaults from ../../ardupilot/Tools/autotest/default_params/copter.parm,../../ardupilot/Tools/autotest/default_params/gazebo-iris.parm,/home/abeldg/uav-cyber-sim/params/vehicle.parm\n",
      "Loaded defaults from ../../ardupilot/Tools/autotest/default_params/copter.parm,../../ardupilot/Tools/autotest/default_params/gazebo-iris.parm,/home/abeldg/uav-cyber-sim/params/vehicle.parm\n",
      "Loaded defaults from ../../ardupilot/Tools/autotest/default_params/copter.parm,../../ardupilot/Tools/autotest/default_params/gazebo-iris.parm,/home/abeldg/uav-cyber-sim/params/vehicle.parm\n",
      "Loaded defaults from ../../ardupilot/Tools/autotest/default_params/copter.parm,../../ardupilot/Tools/autotest/default_params/gazebo-iris.parm,/home/abeldg/uav-cyber-sim/params/vehicle.parm\n",
      "Loaded defaults from ../../ardupilot/Tools/autotest/default_params/copter.parm,../../ardupilot/Tools/autotest/default_params/gazebo-iris.parm,/home/abeldg/uav-cyber-sim/params/vehicle.parm\n",
      "Loaded defaults from ../../ardupilot/Tools/autotest/default_params/copter.parm,../../ardupilot/Tools/autotest/default_params/gazebo-iris.parm,/home/abeldg/uav-cyber-sim/params/vehicle.parm\n",
      "Loaded defaults from ../../ardupilot/Tools/autotest/default_params/copter.parm,../../ardupilot/Tools/autotest/default_params/gazebo-iris.parm,/home/abeldg/uav-cyber-sim/params/vehicle.parm\n",
      "Loaded defaults from ../../ardupilot/Tools/autotest/default_params/copter.parm,../../ardupilot/Tools/autotest/default_params/gazebo-iris.parm,/home/abeldg/uav-cyber-sim/params/vehicle.parm\n",
      "Loaded defaults from ../../ardupilot/Tools/autotest/default_params/copter.parm,../../ardupilot/Tools/autotest/default_params/gazebo-iris.parm,/home/abeldg/uav-cyber-sim/params/vehicle.parm\n",
      "Loaded defaults from ../../ardupilot/Tools/autotest/default_params/copter.parm,../../ardupilot/Tools/autotest/default_params/gazebo-iris.parm,/home/abeldg/uav-cyber-sim/params/vehicle.parm\n",
      "Loaded defaults from ../../ardupilot/Tools/autotest/default_params/copter.parm,../../ardupilot/Tools/autotest/default_params/gazebo-iris.parm,/home/abeldg/uav-cyber-sim/params/vehicle.parm\n",
      "Loaded defaults from ../../ardupilot/Tools/autotest/default_params/copter.parm,../../ardupilot/Tools/autotest/default_params/gazebo-iris.parm,/home/abeldg/uav-cyber-sim/params/vehicle.parm\n",
      "Loaded defaults from ../../ardupilot/Tools/autotest/default_params/copter.parm,../../ardupilot/Tools/autotest/default_params/gazebo-iris.parm,/home/abeldg/uav-cyber-sim/params/vehicle.parm\n",
      "Loaded defaults from ../../ardupilot/Tools/autotest/default_params/copter.parm,../../ardupilot/Tools/autotest/default_params/gazebo-iris.parm,/home/abeldg/uav-cyber-sim/params/vehicle.parm\n",
      "Loaded defaults from ../../ardupilot/Tools/autotest/default_params/copter.parm,../../ardupilot/Tools/autotest/default_params/gazebo-iris.parm,/home/abeldg/uav-cyber-sim/params/vehicle.parm\n",
      "Loaded defaults from ../../ardupilot/Tools/autotest/default_params/copter.parm,../../ardupilot/Tools/autotest/default_params/gazebo-iris.parm,/home/abeldg/uav-cyber-sim/params/vehicle.parm\n",
      "Loaded defaults from ../../ardupilot/Tools/autotest/default_params/copter.parm,../../ardupilot/Tools/autotest/default_params/gazebo-iris.parm,/home/abeldg/uav-cyber-sim/params/vehicle.parm\n",
      "Loaded defaults from ../../ardupilot/Tools/autotest/default_params/copter.parm,../../ardupilot/Tools/autotest/default_params/gazebo-iris.parm,/home/abeldg/uav-cyber-sim/params/vehicle.parm\n",
      "Loaded defaults from ../../ardupilot/Tools/autotest/default_params/copter.parm,../../ardupilot/Tools/autotest/default_params/gazebo-iris.parm,/home/abeldg/uav-cyber-sim/params/vehicle.parm\n",
      "Loaded defaults from ../../ardupilot/Tools/autotest/default_params/copter.parm,../../ardupilot/Tools/autotest/default_params/gazebo-iris.parm,/home/abeldg/uav-cyber-sim/params/vehicle.parm\n",
      "Loaded defaults from ../../ardupilot/Tools/autotest/default_params/copter.parm,../../ardupilot/Tools/autotest/default_params/gazebo-iris.parm,/home/abeldg/uav-cyber-sim/params/vehicle.parm\n",
      "Loaded defaults from ../../ardupilot/Tools/autotest/default_params/copter.parm,../../ardupilot/Tools/autotest/default_params/gazebo-iris.parm,/home/abeldg/uav-cyber-sim/params/vehicle.parm\n",
      "Loaded defaults from ../../ardupilot/Tools/autotest/default_params/copter.parm,../../ardupilot/Tools/autotest/default_params/gazebo-iris.parm,/home/abeldg/uav-cyber-sim/params/vehicle.parm\n",
      "Loaded defaults from ../../ardupilot/Tools/autotest/default_params/copter.parm,../../ardupilot/Tools/autotest/default_params/gazebo-iris.parm,/home/abeldg/uav-cyber-sim/params/vehicle.parm\n",
      "Loaded defaults from ../../ardupilot/Tools/autotest/default_params/copter.parm,../../ardupilot/Tools/autotest/default_params/gazebo-iris.parm,/home/abeldg/uav-cyber-sim/params/vehicle.parm\n",
      "Loaded defaults from ../../ardupilot/Tools/autotest/default_params/copter.parm,../../ardupilot/Tools/autotest/default_params/gazebo-iris.parm,/home/abeldg/uav-cyber-sim/params/vehicle.parm\n",
      "Loaded defaults from ../../ardupilot/Tools/autotest/default_params/copter.parm,../../ardupilot/Tools/autotest/default_params/gazebo-iris.parm,/home/abeldg/uav-cyber-sim/params/vehicle.parm\n",
      "Loaded defaults from ../../ardupilot/Tools/autotest/default_params/copter.parm,../../ardupilot/Tools/autotest/default_params/gazebo-iris.parm,/home/abeldg/uav-cyber-sim/params/vehicle.parm\n",
      "Loaded defaults from ../../ardupilot/Tools/autotest/default_params/copter.parm,../../ardupilot/Tools/autotest/default_params/gazebo-iris.parm,/home/abeldg/uav-cyber-sim/params/vehicle.parm\n",
      "Loaded defaults from ../../ardupilot/Tools/autotest/default_params/copter.parm,../../ardupilot/Tools/autotest/default_params/gazebo-iris.parm,/home/abeldg/uav-cyber-sim/params/vehicle.parm\n",
      "Loaded defaults from ../../ardupilot/Tools/autotest/default_params/copter.parm,../../ardupilot/Tools/autotest/default_params/gazebo-iris.parm,/home/abeldg/uav-cyber-sim/params/vehicle.parm\n",
      "Loaded defaults from ../../ardupilot/Tools/autotest/default_params/copter.parm,../../ardupilot/Tools/autotest/default_params/gazebo-iris.parm,/home/abeldg/uav-cyber-sim/params/vehicle.parm\n",
      "Loaded defaults from ../../ardupilot/Tools/autotest/default_params/copter.parm,../../ardupilot/Tools/autotest/default_params/gazebo-iris.parm,/home/abeldg/uav-cyber-sim/params/vehicle.parm\n",
      "Loaded defaults from ../../ardupilot/Tools/autotest/default_params/copter.parm,../../ardupilot/Tools/autotest/default_params/gazebo-iris.parm,/home/abeldg/uav-cyber-sim/params/vehicle.parm\n",
      "Loaded defaults from ../../ardupilot/Tools/autotest/default_params/copter.parm,../../ardupilot/Tools/autotest/default_params/gazebo-iris.parm,/home/abeldg/uav-cyber-sim/params/vehicle.parm\n",
      "Loaded defaults from ../../ardupilot/Tools/autotest/default_params/copter.parm,../../ardupilot/Tools/autotest/default_params/gazebo-iris.parm,/home/abeldg/uav-cyber-sim/params/vehicle.parm\n",
      "Loaded defaults from ../../ardupilot/Tools/autotest/default_params/copter.parm,../../ardupilot/Tools/autotest/default_params/gazebo-iris.parm,/home/abeldg/uav-cyber-sim/params/vehicle.parm\n",
      "Loaded defaults from ../../ardupilot/Tools/autotest/default_params/copter.parm,../../ardupilot/Tools/autotest/default_params/gazebo-iris.parm,/home/abeldg/uav-cyber-sim/params/vehicle.parm\n",
      "Loaded defaults from ../../ardupilot/Tools/autotest/default_params/copter.parm,../../ardupilot/Tools/autotest/default_params/gazebo-iris.parm,/home/abeldg/uav-cyber-sim/params/vehicle.parm\n",
      "🔗 UAV logic 4 is connected to Oracle ⚪\n",
      "Loaded defaults from ../../ardupilot/Tools/autotest/default_params/copter.parm,../../ardupilot/Tools/autotest/default_params/gazebo-iris.parm,/home/abeldg/uav-cyber-sim/params/vehicle.parm\n",
      "Loaded defaults from ../../ardupilot/Tools/autotest/default_params/copter.parm,../../ardupilot/Tools/autotest/default_params/gazebo-iris.parm,/home/abeldg/uav-cyber-sim/params/vehicle.parm\n",
      "✅ Heartbeat received\n",
      "\n",
      "🚀 Starting Vehicle 4 logic\n",
      "Vehicle 4: ▶️ Plan Started: 📋 square_auto\n",
      "Loaded defaults from ../../ardupilot/Tools/autotest/default_params/copter.parm,../../ardupilot/Tools/autotest/default_params/gazebo-iris.parm,/home/abeldg/uav-cyber-sim/params/vehicle.parm\n",
      "Loaded defaults from ../../ardupilot/Tools/autotest/default_params/copter.parm,../../ardupilot/Tools/autotest/default_params/gazebo-iris.parm,/home/abeldg/uav-cyber-sim/params/vehicle.parm\n",
      "Loaded defaults from ../../ardupilot/Tools/autotest/default_params/copter.parm,../../ardupilot/Tools/autotest/default_params/gazebo-iris.parm,/home/abeldg/uav-cyber-sim/params/vehicle.parm\n",
      "Loaded defaults from ../../ardupilot/Tools/autotest/default_params/copter.parm,../../ardupilot/Tools/autotest/default_params/gazebo-iris.parm,/home/abeldg/uav-cyber-sim/params/vehicle.parm\n",
      "Loaded defaults from ../../ardupilot/Tools/autotest/default_params/copter.parm,../../ardupilot/Tools/autotest/default_params/gazebo-iris.parm,/home/abeldg/uav-cyber-sim/params/vehicle.parm\n",
      "Loaded defaults from ../../ardupilot/Tools/autotest/default_params/copter.parm,../../ardupilot/Tools/autotest/default_params/gazebo-iris.parm,/home/abeldg/uav-cyber-sim/params/vehicle.parm\n",
      "🔗 UAV logic 3 is connected to Oracle ⚪\n",
      "✅ Heartbeat received\n",
      "\n",
      "🚀 Starting Vehicle 3 logic\n",
      "Vehicle 3: ▶️ Plan Started: 📋 square_auto\n",
      "Loaded defaults from ../../ardupilot/Tools/autotest/default_params/copter.parm,../../ardupilot/Tools/autotest/default_params/gazebo-iris.parm,/home/abeldg/uav-cyber-sim/params/vehicle.parm\n",
      "Loaded defaults from ../../ardupilot/Tools/autotest/default_params/copter.parm,../../ardupilot/Tools/autotest/default_params/gazebo-iris.parm,/home/abeldg/uav-cyber-sim/params/vehicle.parm\n",
      "Loaded defaults from ../../ardupilot/Tools/autotest/default_params/copter.parm,../../ardupilot/Tools/autotest/default_params/gazebo-iris.parm,/home/abeldg/uav-cyber-sim/params/vehicle.parm\n",
      "🔗 UAV logic 5 is connected to Oracle ⚪\n",
      "✅ Heartbeat received\n",
      "Loaded defaults from ../../ardupilot/Tools/autotest/default_params/copter.parm,../../ardupilot/Tools/autotest/default_params/gazebo-iris.parm,/home/abeldg/uav-cyber-sim/params/vehicle.parm\n",
      "\n",
      "🚀 Starting Vehicle 5 logic\n",
      "Vehicle 5: ▶️ Plan Started: 📋 square_auto\n",
      "Loaded defaults from ../../ardupilot/Tools/autotest/default_params/copter.parm,../../ardupilot/Tools/autotest/default_params/gazebo-iris.parm,/home/abeldg/uav-cyber-sim/params/vehicle.parm\n",
      "Loaded defaults from ../../ardupilot/Tools/autotest/default_params/copter.parm,../../ardupilot/Tools/autotest/default_params/gazebo-iris.parm,/home/abeldg/uav-cyber-sim/params/vehicle.parm\n",
      "Loaded defaults from ../../ardupilot/Tools/autotest/default_params/copter.parm,../../ardupilot/Tools/autotest/default_params/gazebo-iris.parm,/home/abeldg/uav-cyber-sim/params/vehicle.parm\n",
      "Loaded defaults from ../../ardupilot/Tools/autotest/default_params/copter.parm,../../ardupilot/Tools/autotest/default_params/gazebo-iris.parm,/home/abeldg/uav-cyber-sim/params/vehicle.parm\n",
      "Loaded defaults from ../../ardupilot/Tools/autotest/default_params/copter.parm,../../ardupilot/Tools/autotest/default_params/gazebo-iris.parm,/home/abeldg/uav-cyber-sim/params/vehicle.parm\n",
      "Loaded defaults from ../../ardupilot/Tools/autotest/default_params/copter.parm,../../ardupilot/Tools/autotest/default_params/gazebo-iris.parm,/home/abeldg/uav-cyber-sim/params/vehicle.parm\n",
      "Loaded defaults from ../../ardupilot/Tools/autotest/default_params/copter.parm,../../ardupilot/Tools/autotest/default_params/gazebo-iris.parm,/home/abeldg/uav-cyber-sim/params/vehicle.parm\n",
      "Loaded defaults from ../../ardupilot/Tools/autotest/default_params/copter.parm,../../ardupilot/Tools/autotest/default_params/gazebo-iris.parm,/home/abeldg/uav-cyber-sim/params/vehicle.parm\n",
      "Loaded defaults from ../../ardupilot/Tools/autotest/default_params/copter.parm,../../ardupilot/Tools/autotest/default_params/gazebo-iris.parm,/home/abeldg/uav-cyber-sim/params/vehicle.parm\n",
      "Loaded defaults from ../../ardupilot/Tools/autotest/default_params/copter.parm,../../ardupilot/Tools/autotest/default_params/gazebo-iris.parm,/home/abeldg/uav-cyber-sim/params/vehicle.parm\n",
      "Loaded defaults from ../../ardupilot/Tools/autotest/default_params/copter.parm,../../ardupilot/Tools/autotest/default_params/gazebo-iris.parm,/home/abeldg/uav-cyber-sim/params/vehicle.parm\n",
      "Loaded defaults from ../../ardupilot/Tools/autotest/default_params/copter.parm,../../ardupilot/Tools/autotest/default_params/gazebo-iris.parm,/home/abeldg/uav-cyber-sim/params/vehicle.parm\n",
      "Loaded defaults from ../../ardupilot/Tools/autotest/default_params/copter.parm,../../ardupilot/Tools/autotest/default_params/gazebo-iris.parm,/home/abeldg/uav-cyber-sim/params/vehicle.parm\n",
      "Vehicle 4: ▶️ Action Started: 📤 UPLOAD_MISSION\n",
      "Loaded defaults from ../../ardupilot/Tools/autotest/default_params/copter.parm,../../ardupilot/Tools/autotest/default_params/gazebo-iris.parm,/home/abeldg/uav-cyber-sim/params/vehicle.parm\n",
      "Loaded defaults from ../../ardupilot/Tools/autotest/default_params/copter.parm,../../ardupilot/Tools/autotest/default_params/gazebo-iris.parm,/home/abeldg/uav-cyber-sim/params/vehicle.parm\n",
      "Loaded defaults from ../../ardupilot/Tools/autotest/default_params/copter.parm,../../ardupilot/Tools/autotest/default_params/gazebo-iris.parm,/home/abeldg/uav-cyber-sim/params/vehicle.parm\n",
      "Loaded defaults from ../../ardupilot/Tools/autotest/default_params/copter.parm,../../ardupilot/Tools/autotest/default_params/gazebo-iris.parm,/home/abeldg/uav-cyber-sim/params/vehicle.parm\n",
      "Loaded defaults from ../../ardupilot/Tools/autotest/default_params/copter.parm,../../ardupilot/Tools/autotest/default_params/gazebo-iris.parm,/home/abeldg/uav-cyber-sim/params/vehicle.parm\n",
      "Vehicle 3: ▶️ Action Started: 📤 UPLOAD_MISSION\n",
      "Loaded defaults from ../../ardupilot/Tools/autotest/default_params/copter.parm,../../ardupilot/Tools/autotest/default_params/gazebo-iris.parm,/home/abeldg/uav-cyber-sim/params/vehicle.parm\n",
      "Vehicle 5: ▶️ Action Started: 📤 UPLOAD_MISSION\n",
      "Vehicle 4: ▶️ Step Started: clear uav missions\n",
      "🔗 UAV logic 2 is connected to Oracle ⚪\n",
      "✅ Heartbeat received\n",
      "\n",
      "🚀 Starting Vehicle 2 logic\n",
      "Vehicle 2: ▶️ Plan Started: 📋 square_auto\n",
      "Vehicle 3: ▶️ Step Started: clear uav missions\n",
      "Vehicle 5: ▶️ Step Started: clear uav missions\n",
      "🔗 UAV logic 1 is connected to Oracle ⚪\n",
      "✅ Heartbeat received\n",
      "\n",
      "🚀 Starting Vehicle 1 logic\n",
      "Vehicle 1: ▶️ Plan Started: 📋 square_auto\n",
      "🚀 GCS GCS launched (PID 3438888)\n"
     ]
    },
    {
     "name": "stderr",
     "output_type": "stream",
     "text": [
      "bind port 5812 for SERIAL1\n",
      "SERIAL1 on TCP port 5812\n",
      "bind port 5813 for SERIAL2\n",
      "SERIAL2 on TCP port 5813\n",
      "bind port 5822 for SERIAL1\n",
      "SERIAL1 on TCP port 5822\n",
      "bind port 5823 for SERIAL2\n",
      "SERIAL2 on TCP port 5823\n",
      "bind port 5832 for SERIAL1\n",
      "SERIAL1 on TCP port 5832\n",
      "bind port 5833 for SERIAL2\n",
      "SERIAL2 on TCP port 5833\n",
      "bind port 5792 for SERIAL1\n",
      "SERIAL1 on TCP port 5792\n",
      "bind port 5793 for SERIAL2\n",
      "SERIAL2 on TCP port 5793\n",
      "bind port 5802 for SERIAL1\n",
      "SERIAL1 on TCP port 5802\n",
      "bind port 5803 for SERIAL2\n",
      "SERIAL2 on TCP port 5803\n",
      "validate_structures:528: Validating structures\n",
      "validate_structures:528: Validating structures\n",
      "validate_structures:528: Validating structures\n",
      "validate_structures:528: Validating structures\n",
      "validate_structures:528: Validating structures\n"
     ]
    },
    {
     "name": "stdout",
     "output_type": "stream",
     "text": [
      "Vehicle 2: ▶️ Action Started: 📤 UPLOAD_MISSION\n",
      "Vehicle 1: ▶️ Action Started: 📤 UPLOAD_MISSION\n",
      "Vehicle 2: ▶️ Step Started: clear uav missions\n"
     ]
    }
   ],
   "source": [
    "# TODO: Is it possible/feasible use more than one visualizer at the same time? \n",
    "# It seems there is a port conflict, only the visualizer that launches first works.\n",
    "\n",
    "simulator = Simulator(\n",
    "\tvisualizers=[gaz],\n",
    "\tn_uavs=n_uavs,\n",
    "\tterminals=False,\n",
    "\tverbose=1,\n",
    ")\n",
    "orac = simulator.launch(gcs_sysids={'GCS': [1]})"
   ]
  },
  {
   "cell_type": "markdown",
   "metadata": {},
   "source": [
    "## Execute Plan"
   ]
  },
  {
   "cell_type": "code",
   "execution_count": null,
   "metadata": {},
   "outputs": [
    {
     "name": "stdout",
     "output_type": "stream",
     "text": [
      "Vehicle 1: ▶️ Step Started: clear uav missions\n"
     ]
    },
    {
     "name": "stdout",
     "output_type": "stream",
     "text": [
      "🔗 UAV logic 1 is connected\n",
      "SIM_VEHICLE: Waiting for SITL to exit\n",
      "SIM_VEHICLE: Waiting for SITL to exit\n",
      "SIM_VEHICLE: Waiting for SITL to exit\n",
      "SIM_VEHICLE: Waiting for SITL to exit\n",
      "SIM_VEHICLE: Waiting for SITL to exit\n",
      "Vehicle 4: ✅ Step Done: clear uav missions\n",
      "Vehicle 2: ✅ Step Done: clear uav missions\n",
      "Vehicle 3: ✅ Step Done: clear uav missions\n",
      "Vehicle 5: ✅ Step Done: clear uav missions\n",
      "Vehicle 1: ✅ Step Done: clear uav missions\n",
      "Vehicle 4: ✅ 7 waypoints read.\n",
      "Vehicle 2: ✅ 7 waypoints read.\n",
      "Vehicle 3: ✅ 7 waypoints read.\n",
      "Vehicle 5: ✅ 7 waypoints read.\n",
      "Vehicle 1: ✅ 7 waypoints read.\n",
      "Vehicle 4: ✅ Sent mission item 0\n",
      "Vehicle 2: ✅ Sent mission item 0\n",
      "Vehicle 3: ✅ Sent mission item 0\n",
      "Vehicle 5: ✅ Sent mission item 0\n",
      "Vehicle 1: ✅ Sent mission item 0\n",
      "Vehicle 4: ✅ Sent mission item 1\n",
      "Vehicle 2: ✅ Sent mission item 1\n",
      "Vehicle 3: ✅ Sent mission item 1\n",
      "Vehicle 5: ✅ Sent mission item 1\n",
      "Vehicle 1: ✅ Sent mission item 1\n",
      "Vehicle 4: ✅ Sent mission item 2\n",
      "Vehicle 2: ✅ Sent mission item 2\n",
      "Vehicle 3: ✅ Sent mission item 2\n",
      "Vehicle 5: ✅ Sent mission item 2\n",
      "Vehicle 1: ✅ Sent mission item 2\n",
      "Vehicle 4: ✅ Sent mission item 3\n",
      "Vehicle 2: ✅ Sent mission item 3\n",
      "Vehicle 3: ✅ Sent mission item 3\n",
      "Vehicle 5: ✅ Sent mission item 3\n",
      "Vehicle 1: ✅ Sent mission item 3\n",
      "Vehicle 4: ✅ Sent mission item 4\n",
      "Vehicle 2: ✅ Sent mission item 4\n",
      "Vehicle 3: ✅ Sent mission item 4\n",
      "Vehicle 5: ✅ Sent mission item 4\n",
      "Vehicle 1: ✅ Sent mission item 4\n",
      "Vehicle 4: ✅ Sent mission item 5\n",
      "Vehicle 2: ✅ Sent mission item 5\n",
      "Vehicle 3: ✅ Sent mission item 5\n",
      "Vehicle 5: ✅ Sent mission item 5\n",
      "Vehicle 1: ✅ Sent mission item 5\n",
      "Vehicle 4: ✅ Sent mission item 6\n",
      "Vehicle 4: ▶️ Step Started: load mission square_4\n",
      "Vehicle 2: ✅ Sent mission item 6\n",
      "Vehicle 2: ▶️ Step Started: load mission square_2\n",
      "Vehicle 3: ✅ Sent mission item 6\n",
      "Vehicle 3: ▶️ Step Started: load mission square_3\n",
      "Vehicle 5: ✅ Sent mission item 6\n",
      "Vehicle 5: ▶️ Step Started: load mission square_5\n",
      "Vehicle 1: ✅ Sent mission item 6\n",
      "Vehicle 1: ▶️ Step Started: load mission square_1\n",
      "Vehicle 4: ✅ Mission upload successful!\n",
      "Vehicle 4: ✅ Step Done: load mission square_4\n",
      "Vehicle 2: ✅ Mission upload successful!\n",
      "Vehicle 2: ✅ Step Done: load mission square_2\n",
      "Vehicle 3: ✅ Mission upload successful!\n",
      "Vehicle 3: ✅ Step Done: load mission square_3\n",
      "Vehicle 5: ✅ Mission upload successful!\n",
      "Vehicle 5: ✅ Step Done: load mission square_5\n",
      "Vehicle 1: ✅ Mission upload successful!\n",
      "Vehicle 1: ✅ Step Done: load mission square_1\n",
      "Vehicle 4: ✅ Action Done: 📤 UPLOAD_MISSION\n",
      "Vehicle 2: ✅ Action Done: 📤 UPLOAD_MISSION\n",
      "Vehicle 3: ✅ Action Done: 📤 UPLOAD_MISSION\n",
      "Vehicle 5: ✅ Action Done: 📤 UPLOAD_MISSION\n",
      "Vehicle 1: ✅ Action Done: 📤 UPLOAD_MISSION\n",
      "Vehicle 4: ▶️ Action Started: 🔧 PREARM\n",
      "Vehicle 2: ▶️ Action Started: 🔧 PREARM\n",
      "Vehicle 3: ▶️ Action Started: 🔧 PREARM\n",
      "Vehicle 5: ▶️ Action Started: 🔧 PREARM\n",
      "Vehicle 1: ▶️ Action Started: 🔧 PREARM\n",
      "Vehicle 4: ▶️ Step Started: Check disarmed\n",
      "Vehicle 2: ▶️ Step Started: Check disarmed\n",
      "Vehicle 3: ▶️ Step Started: Check disarmed\n",
      "Vehicle 5: ▶️ Step Started: Check disarmed\n",
      "Vehicle 1: ▶️ Step Started: Check disarmed\n",
      "Vehicle 4: ✅ Step Done: Check disarmed\n",
      "Vehicle 2: ✅ Step Done: Check disarmed\n",
      "Vehicle 3: ✅ Step Done: Check disarmed\n",
      "Vehicle 5: ✅ Step Done: Check disarmed\n",
      "Vehicle 1: ✅ Step Done: Check disarmed\n",
      "Vehicle 4: ▶️ Step Started: Check EKF status\n",
      "Vehicle 2: ▶️ Step Started: Check EKF status\n",
      "Vehicle 3: ▶️ Step Started: Check EKF status\n",
      "Vehicle 5: ▶️ Step Started: Check EKF status\n",
      "Vehicle 1: ▶️ Step Started: Check EKF status\n"
     ]
    }
   ],
   "source": [
    "while len(orac.conns):\n",
    "    for sysid in list(orac.conns.keys()):\n",
    "        if orac.is_plan_done(sysid):\n",
    "            orac.remove(sysid)"
   ]
  }
 ],
 "metadata": {
  "kernelspec": {
   "display_name": "uav-cyber-sim-py311",
   "language": "python",
   "name": "python3"
  },
  "language_info": {
   "codemirror_mode": {
    "name": "ipython",
    "version": 3
   },
   "file_extension": ".py",
   "mimetype": "text/x-python",
   "name": "python",
   "nbconvert_exporter": "python",
   "pygments_lexer": "ipython3",
   "version": "3.11.11"
  }
 },
 "nbformat": 4,
 "nbformat_minor": 2
}
