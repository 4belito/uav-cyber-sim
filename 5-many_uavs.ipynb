{
 "cells": [
  {
   "cell_type": "markdown",
   "id": "43e5403f",
   "metadata": {},
   "source": [
    "## UAV-Cyber-SIM"
   ]
  },
  {
   "cell_type": "code",
   "execution_count": null,
   "id": "4154823d",
   "metadata": {},
   "outputs": [],
   "source": [
    "import random\n",
    "from collections import defaultdict\n",
    "\n",
    "from config import Color\n",
    "from helpers import clean\n",
    "from mavlink.customtypes.location import ENUPose, GRAPose\n",
    "from plan import Plan\n",
    "from simulator import (\n",
    "    QGC,\n",
    "    ConfigGazebo,\n",
    "    ConfigNovis,\n",
    "    ConfigQGC,\n",
    "    Gazebo,\n",
    "    NoVisualizer,\n",
    "    Simulator,\n",
    ")\n",
    "\n",
    "clean()"
   ]
  },
  {
   "cell_type": "markdown",
   "id": "c7200ef2",
   "metadata": {},
   "source": [
    "## Create Plans"
   ]
  },
  {
   "cell_type": "code",
   "execution_count": null,
   "id": "103f0d43",
   "metadata": {},
   "outputs": [],
   "source": [
    "gra_origin = GRAPose(lat=-35.3633280, lon=149.1652241,alt=0,heading=90) \n",
    "enu_origin = ENUPose(x=0, y=0, z=gra_origin.alt, heading=gra_origin.heading) \n",
    "\n",
    "gcs=[Color.RED,\n",
    "     Color.ORANGE,\n",
    "     Color.GREEN,\n",
    "     Color.BLUE\n",
    "     ]\n",
    "n_uavs_per_gcs = 1\n",
    "side_len = 10\n",
    "altitude = 5\n",
    "max_delay = 10 #sec\n",
    "\n",
    "base_homes = ENUPose.list([\n",
    "    (i * 50, j * 3 * side_len, 0, 0)\n",
    "    for i in range(len(gcs))\n",
    "    for j in range(n_uavs_per_gcs)\n",
    "])\n",
    "\n",
    "base_paths = [\n",
    "    Plan.create_square_path(side_len=side_len, alt=altitude,heading=0) \n",
    "    for _ in base_homes\n",
    "    ]\n",
    "\n",
    "colors = [color for color in gcs for _ in range(n_uavs_per_gcs)]\n",
    "\n",
    "msn_delays=[random.randint(0, max_delay) for _ in base_homes]\n",
    "\n",
    "\n",
    "## Assign vehicles to GCS (by color)\n",
    "gcs_sysids: dict[str, list[int]] = defaultdict(list)\n",
    "\n",
    "for i,color in enumerate(colors,start=1):\n",
    "    gcs_sysids[f'{color.name} {color.emoji}'].append(i)"
   ]
  },
  {
   "cell_type": "markdown",
   "id": "26be593f",
   "metadata": {},
   "source": [
    "## Gazebo Congiguration"
   ]
  },
  {
   "cell_type": "code",
   "execution_count": null,
   "id": "6f15ed24",
   "metadata": {},
   "outputs": [],
   "source": [
    "gaz_config = ConfigGazebo(origin = enu_origin,\n",
    "                          world_path=\"simulator/gazebo/worlds/runway3.world\")\n",
    "\n",
    "for path,home,c in zip(base_paths,base_homes,colors):\n",
    "    gaz_config.add(base_path=path,base_home=home,color=c)\n",
    "#gaz_config.show()"
   ]
  },
  {
   "cell_type": "markdown",
   "id": "e1bb0deb",
   "metadata": {},
   "source": [
    "## QGroundControl Configuration"
   ]
  },
  {
   "cell_type": "code",
   "execution_count": null,
   "id": "fdce6b67",
   "metadata": {},
   "outputs": [],
   "source": [
    "qgc_config = ConfigQGC(origin = gra_origin)\n",
    "\n",
    "for path,home,color,delay in zip(base_paths,base_homes,colors,msn_delays):\n",
    "    qgc_config.add(base_path=path,base_home=home,color=color,mission_delay=delay)\n",
    "qgc_config.show()"
   ]
  },
  {
   "cell_type": "markdown",
   "id": "46ca878e",
   "metadata": {},
   "source": [
    "# No Visualizer"
   ]
  },
  {
   "cell_type": "code",
   "execution_count": null,
   "id": "ce63ff81",
   "metadata": {},
   "outputs": [],
   "source": [
    "novis_config = ConfigNovis(origin=gra_origin)\n",
    "for home in base_homes:\n",
    "    novis_config.add(base_home=home)"
   ]
  },
  {
   "cell_type": "markdown",
   "id": "ad000424",
   "metadata": {},
   "source": [
    "## Visualization Parameters"
   ]
  },
  {
   "cell_type": "code",
   "execution_count": null,
   "id": "b9927b06",
   "metadata": {},
   "outputs": [],
   "source": [
    "novis=NoVisualizer(novis_config)\n",
    "\n",
    "gaz= Gazebo(gaz_config,gra_origin)\n",
    "\n",
    "qgc=QGC(qgc_config)"
   ]
  },
  {
   "cell_type": "markdown",
   "id": "a16dcd84",
   "metadata": {},
   "source": [
    "## Launch Simulator"
   ]
  },
  {
   "cell_type": "code",
   "execution_count": null,
   "id": "5e8a1b3b",
   "metadata": {},
   "outputs": [],
   "source": [
    "simulator = Simulator(\n",
    "\tvisualizers=[qgc],\n",
    "\tgcs_sysids=gcs_sysids,\n",
    "\tmissions=[veh.mission for veh in qgc_config.vehicles],\n",
    "\tterminals=['gcs'],\n",
    "\tverbose=1,\n",
    ")\n",
    "\n",
    "orac = simulator.launch()"
   ]
  },
  {
   "cell_type": "markdown",
   "id": "41863c09",
   "metadata": {},
   "source": [
    "## Oracle checking"
   ]
  },
  {
   "cell_type": "code",
   "execution_count": null,
   "id": "ab9b521a",
   "metadata": {},
   "outputs": [],
   "source": [
    "orac.run()"
   ]
  }
 ],
 "metadata": {
  "kernelspec": {
   "display_name": "uav-cyber-sim",
   "language": "python",
   "name": "python3"
  },
  "language_info": {
   "codemirror_mode": {
    "name": "ipython",
    "version": 3
   },
   "file_extension": ".py",
   "mimetype": "text/x-python",
   "name": "python",
   "nbconvert_exporter": "python",
   "pygments_lexer": "ipython3",
   "version": "3.11.13"
  }
 },
 "nbformat": 4,
 "nbformat_minor": 5
}
