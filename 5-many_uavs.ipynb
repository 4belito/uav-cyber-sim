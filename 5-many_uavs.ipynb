{
 "cells": [
  {
   "cell_type": "code",
   "execution_count": null,
   "id": "4154823d",
   "metadata": {},
   "outputs": [],
   "source": [
    "from config import Color\n",
    "from helpers import clean, local2global\n",
    "from helpers.change_coordinates import Offset\n",
    "from plan import Plan\n",
    "from simulators import QGC, ConfigGazebo, Gazebo, Simulator\n",
    "\n",
    "clean()"
   ]
  },
  {
   "cell_type": "markdown",
   "id": "c7200ef2",
   "metadata": {},
   "source": [
    "## Create Plans"
   ]
  },
  {
   "cell_type": "code",
   "execution_count": null,
   "id": "103f0d43",
   "metadata": {},
   "outputs": [],
   "source": [
    "gcses = [\n",
    "    (\"blue 🟦\", Color.BLUE),\n",
    "    (\"green 🟩\", Color.GREEN),\n",
    "    (\"yellow 🟨\", Color.YELLOW),\n",
    "    # (\"orange 🟧\", Color.ORANGE),\n",
    "    # (\"red 🟥\", Color.RED),\n",
    "]\n",
    "n_uavs_per_gcs = 5\n",
    "side_len = 5\n",
    "altitude = 5\n",
    "\n",
    "n_gcs = len(gcses)\n",
    "n_vehicles = n_gcs * n_uavs_per_gcs    \n",
    "offsets:list[Offset] = [\n",
    "    (i * 10 * side_len, j * 3 * side_len, 0, 0) for i in range(n_gcs) for j in range(n_uavs_per_gcs)\n",
    "]\n",
    "\n",
    "local_paths = [Plan.create_square_path(side_len=side_len, alt=altitude) for i in range(n_vehicles)]\n",
    "plans = [Plan.basic(wps=path, wp_margin=0.5) for path in local_paths]"
   ]
  },
  {
   "cell_type": "markdown",
   "id": "26be593f",
   "metadata": {},
   "source": [
    "## Visualization Parameters"
   ]
  },
  {
   "cell_type": "code",
   "execution_count": null,
   "id": "6f15ed24",
   "metadata": {},
   "outputs": [],
   "source": [
    "homes = [offset[:3] for offset in offsets]\n",
    "global_paths = [local2global(path, home) for path, home in zip(local_paths, homes)]\n",
    "models = [('iris', gcses[i][1]) for i in range(n_gcs) for j in range(n_uavs_per_gcs)]\n",
    "markers = [ConfigGazebo.create_trajectory_from_array(array=global_paths[i],color=models[i][1]) for i in range(n_vehicles)]\n",
    "Gazebo.plot_3d_interactive(markers=markers, title=\"Simulation Markers\")"
   ]
  },
  {
   "cell_type": "markdown",
   "id": "ad000424",
   "metadata": {},
   "source": [
    "## Choose Simulator"
   ]
  },
  {
   "cell_type": "code",
   "execution_count": null,
   "id": "b9927b06",
   "metadata": {},
   "outputs": [],
   "source": [
    "simulator = Simulator(offsets=offsets, plans=plans)\n",
    "\n",
    "simulator = QGC(offsets=offsets, plans=plans, origin=(-35.3633245, 149.1652241, 0, 0))\n",
    "\n",
    "gazebo_config = ConfigGazebo(world_path=\"simulators/gazebo/worlds/runway3.world\",models=models,markers = markers)\n",
    "simulator = Gazebo(offsets=offsets,plans=plans,config=gazebo_config, visible_terminals=False)"
   ]
  },
  {
   "cell_type": "markdown",
   "id": "a16dcd84",
   "metadata": {},
   "source": [
    "## Launch Simulator"
   ]
  },
  {
   "cell_type": "code",
   "execution_count": null,
   "id": "5e8a1b3b",
   "metadata": {},
   "outputs": [],
   "source": [
    "sysids = list(range(1,n_vehicles + 1))\n",
    "gcs_sysids = {gcses[i][0]: sysids[i * n_uavs_per_gcs:(i + 1) * n_uavs_per_gcs] for i in range(n_gcs)}\n",
    "orac = simulator.launch(gcs_sysids)"
   ]
  },
  {
   "cell_type": "markdown",
   "id": "41863c09",
   "metadata": {},
   "source": [
    "## Execute Plans"
   ]
  },
  {
   "cell_type": "code",
   "execution_count": null,
   "id": "ab9b521a",
   "metadata": {},
   "outputs": [],
   "source": [
    "while len(orac.conns):\n",
    "    for sysid in list(orac.conns.keys()):\n",
    "        if orac.is_plan_done(sysid):\n",
    "            orac.remove(sysid)"
   ]
  },
  {
   "cell_type": "code",
   "execution_count": null,
   "id": "c3d1229c",
   "metadata": {},
   "outputs": [],
   "source": [
    "import pickle\n",
    "\n",
    "import numpy as np\n",
    "from numpy.typing import NDArray\n",
    "\n",
    "colors=[Color.BLUE,Color.GREEN,Color.YELLOW] \n",
    "for gcs_name,color in zip(gcs_sysids,colors):\n",
    "    with open(f\"trajectories_{gcs_name}.pkl\", \"rb\") as f:\n",
    "        trajs = pickle.load(f)\n",
    "    paths:list[NDArray[np.float64]] = []\n",
    "    for sysid,path in trajs.items():\n",
    "        paths.append(np.array([x for x in path if x is not None]))\n",
    "    markers = [ConfigGazebo.create_trajectory_from_array(array=path,color=color) for path in paths]\n",
    "    Gazebo.plot_3d_interactive(markers=markers,title=\"Simulation Waypoints\",frames=(0.2, 0.2, 0.6),ground=-0.05)"
   ]
  },
  {
   "cell_type": "code",
   "execution_count": null,
   "id": "c1ef05cd",
   "metadata": {},
   "outputs": [],
   "source": []
  }
 ],
 "metadata": {
  "kernelspec": {
   "display_name": "uav-cyber-sim11",
   "language": "python",
   "name": "python3"
  },
  "language_info": {
   "codemirror_mode": {
    "name": "ipython",
    "version": 3
   },
   "file_extension": ".py",
   "mimetype": "text/x-python",
   "name": "python",
   "nbconvert_exporter": "python",
   "pygments_lexer": "ipython3",
   "version": "3.11.11"
  }
 },
 "nbformat": 4,
 "nbformat_minor": 5
}
