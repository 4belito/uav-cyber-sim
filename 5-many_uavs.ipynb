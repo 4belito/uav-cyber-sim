{
 "cells": [
  {
   "cell_type": "markdown",
   "metadata": {},
   "source": [
    "## 2 Ground Control Stations (simple)\n",
    "\n",
    "This is a first version. The two ground control stations are working in series. "
   ]
  },
  {
   "cell_type": "code",
   "execution_count": 1,
   "metadata": {},
   "outputs": [],
   "source": [
    "from helpers import local2global, kill_processes,clean\n",
    "from simulators import Simulator, Gazebo, ConfigGazebo, QGC\n",
    "from plan import Plan\n",
    "from oracle import Oracle,GCS\n",
    "from config import Color\n",
    "kill_processes()"
   ]
  },
  {
   "cell_type": "code",
   "execution_count": 2,
   "metadata": {},
   "outputs": [],
   "source": [
    "# import random\n",
    "# from helpers.change_coordinates import Offset\n",
    "# n_vehicles = 10\n",
    "# offsets = [\n",
    "#         (\n",
    "#             random.uniform(-5, 5),  # east\n",
    "#             random.uniform(-5, 5),  # north\n",
    "#             0,                          # up\n",
    "#             random.randint(0, 359)      # heading\n",
    "#         )\n",
    "#         for _ in range(n_vehicles)\n",
    "#     ]\n",
    "# offsets"
   ]
  },
  {
   "cell_type": "markdown",
   "metadata": {},
   "source": [
    "## Create Plans"
   ]
  },
  {
   "cell_type": "code",
   "execution_count": 3,
   "metadata": {},
   "outputs": [],
   "source": [
    "offsets = [\n",
    "    (-4.891311895481473, -1.3721148432366883, 0, 78),\n",
    "    (4.272452965244035, -2.0624885894963674, 0, 308),\n",
    "    (3.0267596011325804, 2.2013367285195207, 0, 21),\n",
    "    (-2.0396000412483604, 0.07477394309030139, 0, 322),\n",
    "    (-3.3237962685317655, 0.6696946809570994, 0, 289),\n",
    "    (1.5219370395388898, -1.1094923308348625, 0, 149),\n",
    "    (0.03170515670252261, 1.4467355333174172, 0, 17),\n",
    "    (-3.167665911861357, -3.81136282344402, 0, 22),\n",
    "    (-2.444501492007306, 2.3741511359188525, 0, 349),\n",
    "    (0.48442199707763045, 4.043149308497993, 0, 38),\n",
    "]\n",
    "n_vehicles = len(offsets)\n",
    "\n",
    "# offsets = [  # east, north, up, heading\n",
    "#     (5., 5., 0., 90.),\n",
    "#     (10., 0., 0., 45.),\n",
    "#     (-5., -10., 0., 225.),\n",
    "#     (-15., 0., 0., 0.),\n",
    "#     (0., -20., 0., 0.),\n",
    "# ]\n",
    "\n",
    "\n",
    "\n",
    "local_paths = [Plan.create_square_path(side_len=8, alt=5) for _ in range(n_vehicles)]\n",
    "plans = [Plan.basic(wps=path, wp_margin=0.5) for path in local_paths]\n",
    "homes = [offset[:3] for offset in offsets]"
   ]
  },
  {
   "cell_type": "markdown",
   "metadata": {},
   "source": [
    "## Visualization Parameters"
   ]
  },
  {
   "cell_type": "code",
   "execution_count": 4,
   "metadata": {},
   "outputs": [
    {
     "data": {
      "application/vnd.plotly.v1+json": {
       "config": {
        "plotlyServerURL": "https://plot.ly"
       },
       "data": [
        {
         "marker": {
          "color": [
           "blue",
           "blue",
           "blue",
           "blue",
           "blue"
          ],
          "size": 6
         },
         "mode": "markers",
         "name": "trajectory 0",
         "type": "scatter3d",
         "x": [
          -4.891311895481473,
          -4.891311895481473,
          3.108688104518527,
          3.108688104518527,
          -4.891311895481473
         ],
         "y": [
          -1.3721148432366883,
          6.627885156763312,
          6.627885156763312,
          -1.3721148432366883,
          -1.3721148432366883
         ],
         "z": [
          5,
          5,
          5,
          5,
          5
         ]
        },
        {
         "marker": {
          "color": [
           "blue",
           "blue",
           "blue",
           "blue",
           "blue"
          ],
          "size": 6
         },
         "mode": "markers",
         "name": "trajectory 1",
         "type": "scatter3d",
         "x": [
          4.272452965244035,
          4.272452965244035,
          12.272452965244035,
          12.272452965244035,
          4.272452965244035
         ],
         "y": [
          -2.0624885894963674,
          5.937511410503633,
          5.937511410503633,
          -2.0624885894963674,
          -2.0624885894963674
         ],
         "z": [
          5,
          5,
          5,
          5,
          5
         ]
        },
        {
         "marker": {
          "color": [
           "blue",
           "blue",
           "blue",
           "blue",
           "blue"
          ],
          "size": 6
         },
         "mode": "markers",
         "name": "trajectory 2",
         "type": "scatter3d",
         "x": [
          3.0267596011325804,
          3.0267596011325804,
          11.02675960113258,
          11.02675960113258,
          3.0267596011325804
         ],
         "y": [
          2.2013367285195207,
          10.201336728519522,
          10.201336728519522,
          2.2013367285195207,
          2.2013367285195207
         ],
         "z": [
          5,
          5,
          5,
          5,
          5
         ]
        },
        {
         "marker": {
          "color": [
           "blue",
           "blue",
           "blue",
           "blue",
           "blue"
          ],
          "size": 6
         },
         "mode": "markers",
         "name": "trajectory 3",
         "type": "scatter3d",
         "x": [
          -2.0396000412483604,
          -2.0396000412483604,
          5.96039995875164,
          5.96039995875164,
          -2.0396000412483604
         ],
         "y": [
          0.07477394309030139,
          8.074773943090301,
          8.074773943090301,
          0.07477394309030139,
          0.07477394309030139
         ],
         "z": [
          5,
          5,
          5,
          5,
          5
         ]
        },
        {
         "marker": {
          "color": [
           "blue",
           "blue",
           "blue",
           "blue",
           "blue"
          ],
          "size": 6
         },
         "mode": "markers",
         "name": "trajectory 4",
         "type": "scatter3d",
         "x": [
          -3.3237962685317655,
          -3.3237962685317655,
          4.6762037314682345,
          4.6762037314682345,
          -3.3237962685317655
         ],
         "y": [
          0.6696946809570994,
          8.6696946809571,
          8.6696946809571,
          0.6696946809570994,
          0.6696946809570994
         ],
         "z": [
          5,
          5,
          5,
          5,
          5
         ]
        },
        {
         "marker": {
          "color": [
           "blue",
           "blue",
           "blue",
           "blue",
           "blue"
          ],
          "size": 6
         },
         "mode": "markers",
         "name": "trajectory 5",
         "type": "scatter3d",
         "x": [
          1.5219370395388898,
          1.5219370395388898,
          9.52193703953889,
          9.52193703953889,
          1.5219370395388898
         ],
         "y": [
          -1.1094923308348625,
          6.890507669165137,
          6.890507669165137,
          -1.1094923308348625,
          -1.1094923308348625
         ],
         "z": [
          5,
          5,
          5,
          5,
          5
         ]
        },
        {
         "marker": {
          "color": [
           "blue",
           "blue",
           "blue",
           "blue",
           "blue"
          ],
          "size": 6
         },
         "mode": "markers",
         "name": "trajectory 6",
         "type": "scatter3d",
         "x": [
          0.03170515670252261,
          0.03170515670252261,
          8.031705156702522,
          8.031705156702522,
          0.03170515670252261
         ],
         "y": [
          1.4467355333174172,
          9.446735533317417,
          9.446735533317417,
          1.4467355333174172,
          1.4467355333174172
         ],
         "z": [
          5,
          5,
          5,
          5,
          5
         ]
        },
        {
         "marker": {
          "color": [
           "green",
           "green",
           "green",
           "green",
           "green"
          ],
          "size": 6
         },
         "mode": "markers",
         "name": "trajectory 7",
         "type": "scatter3d",
         "x": [
          -3.167665911861357,
          -3.167665911861357,
          4.8323340881386425,
          4.8323340881386425,
          -3.167665911861357
         ],
         "y": [
          -3.81136282344402,
          4.1886371765559804,
          4.1886371765559804,
          -3.81136282344402,
          -3.81136282344402
         ],
         "z": [
          5,
          5,
          5,
          5,
          5
         ]
        },
        {
         "marker": {
          "color": [
           "green",
           "green",
           "green",
           "green",
           "green"
          ],
          "size": 6
         },
         "mode": "markers",
         "name": "trajectory 8",
         "type": "scatter3d",
         "x": [
          -2.444501492007306,
          -2.444501492007306,
          5.555498507992694,
          5.555498507992694,
          -2.444501492007306
         ],
         "y": [
          2.3741511359188525,
          10.374151135918853,
          10.374151135918853,
          2.3741511359188525,
          2.3741511359188525
         ],
         "z": [
          5,
          5,
          5,
          5,
          5
         ]
        },
        {
         "marker": {
          "color": [
           "green",
           "green",
           "green",
           "green",
           "green"
          ],
          "size": 6
         },
         "mode": "markers",
         "name": "trajectory 9",
         "type": "scatter3d",
         "x": [
          0.48442199707763045,
          0.48442199707763045,
          8.48442199707763,
          8.48442199707763,
          0.48442199707763045
         ],
         "y": [
          4.043149308497993,
          12.043149308497993,
          12.043149308497993,
          4.043149308497993,
          4.043149308497993
         ],
         "z": [
          5,
          5,
          5,
          5,
          5
         ]
        }
       ],
       "layout": {
        "height": 600,
        "scene": {
         "xaxis": {
          "range": [
           -8.324064867626575,
           15.705205937389136
          ],
          "title": {
           "text": "x"
          }
         },
         "yaxis": {
          "range": [
           -6.982265249832423,
           15.214051734886397
          ],
          "title": {
           "text": "y"
          }
         },
         "zaxis": {
          "range": [
           -0.05,
           5
          ],
          "title": {
           "text": "z"
          }
         }
        },
        "showlegend": true,
        "template": {
         "data": {
          "bar": [
           {
            "error_x": {
             "color": "#2a3f5f"
            },
            "error_y": {
             "color": "#2a3f5f"
            },
            "marker": {
             "line": {
              "color": "#E5ECF6",
              "width": 0.5
             },
             "pattern": {
              "fillmode": "overlay",
              "size": 10,
              "solidity": 0.2
             }
            },
            "type": "bar"
           }
          ],
          "barpolar": [
           {
            "marker": {
             "line": {
              "color": "#E5ECF6",
              "width": 0.5
             },
             "pattern": {
              "fillmode": "overlay",
              "size": 10,
              "solidity": 0.2
             }
            },
            "type": "barpolar"
           }
          ],
          "carpet": [
           {
            "aaxis": {
             "endlinecolor": "#2a3f5f",
             "gridcolor": "white",
             "linecolor": "white",
             "minorgridcolor": "white",
             "startlinecolor": "#2a3f5f"
            },
            "baxis": {
             "endlinecolor": "#2a3f5f",
             "gridcolor": "white",
             "linecolor": "white",
             "minorgridcolor": "white",
             "startlinecolor": "#2a3f5f"
            },
            "type": "carpet"
           }
          ],
          "choropleth": [
           {
            "colorbar": {
             "outlinewidth": 0,
             "ticks": ""
            },
            "type": "choropleth"
           }
          ],
          "contour": [
           {
            "colorbar": {
             "outlinewidth": 0,
             "ticks": ""
            },
            "colorscale": [
             [
              0,
              "#0d0887"
             ],
             [
              0.1111111111111111,
              "#46039f"
             ],
             [
              0.2222222222222222,
              "#7201a8"
             ],
             [
              0.3333333333333333,
              "#9c179e"
             ],
             [
              0.4444444444444444,
              "#bd3786"
             ],
             [
              0.5555555555555556,
              "#d8576b"
             ],
             [
              0.6666666666666666,
              "#ed7953"
             ],
             [
              0.7777777777777778,
              "#fb9f3a"
             ],
             [
              0.8888888888888888,
              "#fdca26"
             ],
             [
              1,
              "#f0f921"
             ]
            ],
            "type": "contour"
           }
          ],
          "contourcarpet": [
           {
            "colorbar": {
             "outlinewidth": 0,
             "ticks": ""
            },
            "type": "contourcarpet"
           }
          ],
          "heatmap": [
           {
            "colorbar": {
             "outlinewidth": 0,
             "ticks": ""
            },
            "colorscale": [
             [
              0,
              "#0d0887"
             ],
             [
              0.1111111111111111,
              "#46039f"
             ],
             [
              0.2222222222222222,
              "#7201a8"
             ],
             [
              0.3333333333333333,
              "#9c179e"
             ],
             [
              0.4444444444444444,
              "#bd3786"
             ],
             [
              0.5555555555555556,
              "#d8576b"
             ],
             [
              0.6666666666666666,
              "#ed7953"
             ],
             [
              0.7777777777777778,
              "#fb9f3a"
             ],
             [
              0.8888888888888888,
              "#fdca26"
             ],
             [
              1,
              "#f0f921"
             ]
            ],
            "type": "heatmap"
           }
          ],
          "histogram": [
           {
            "marker": {
             "pattern": {
              "fillmode": "overlay",
              "size": 10,
              "solidity": 0.2
             }
            },
            "type": "histogram"
           }
          ],
          "histogram2d": [
           {
            "colorbar": {
             "outlinewidth": 0,
             "ticks": ""
            },
            "colorscale": [
             [
              0,
              "#0d0887"
             ],
             [
              0.1111111111111111,
              "#46039f"
             ],
             [
              0.2222222222222222,
              "#7201a8"
             ],
             [
              0.3333333333333333,
              "#9c179e"
             ],
             [
              0.4444444444444444,
              "#bd3786"
             ],
             [
              0.5555555555555556,
              "#d8576b"
             ],
             [
              0.6666666666666666,
              "#ed7953"
             ],
             [
              0.7777777777777778,
              "#fb9f3a"
             ],
             [
              0.8888888888888888,
              "#fdca26"
             ],
             [
              1,
              "#f0f921"
             ]
            ],
            "type": "histogram2d"
           }
          ],
          "histogram2dcontour": [
           {
            "colorbar": {
             "outlinewidth": 0,
             "ticks": ""
            },
            "colorscale": [
             [
              0,
              "#0d0887"
             ],
             [
              0.1111111111111111,
              "#46039f"
             ],
             [
              0.2222222222222222,
              "#7201a8"
             ],
             [
              0.3333333333333333,
              "#9c179e"
             ],
             [
              0.4444444444444444,
              "#bd3786"
             ],
             [
              0.5555555555555556,
              "#d8576b"
             ],
             [
              0.6666666666666666,
              "#ed7953"
             ],
             [
              0.7777777777777778,
              "#fb9f3a"
             ],
             [
              0.8888888888888888,
              "#fdca26"
             ],
             [
              1,
              "#f0f921"
             ]
            ],
            "type": "histogram2dcontour"
           }
          ],
          "mesh3d": [
           {
            "colorbar": {
             "outlinewidth": 0,
             "ticks": ""
            },
            "type": "mesh3d"
           }
          ],
          "parcoords": [
           {
            "line": {
             "colorbar": {
              "outlinewidth": 0,
              "ticks": ""
             }
            },
            "type": "parcoords"
           }
          ],
          "pie": [
           {
            "automargin": true,
            "type": "pie"
           }
          ],
          "scatter": [
           {
            "fillpattern": {
             "fillmode": "overlay",
             "size": 10,
             "solidity": 0.2
            },
            "type": "scatter"
           }
          ],
          "scatter3d": [
           {
            "line": {
             "colorbar": {
              "outlinewidth": 0,
              "ticks": ""
             }
            },
            "marker": {
             "colorbar": {
              "outlinewidth": 0,
              "ticks": ""
             }
            },
            "type": "scatter3d"
           }
          ],
          "scattercarpet": [
           {
            "marker": {
             "colorbar": {
              "outlinewidth": 0,
              "ticks": ""
             }
            },
            "type": "scattercarpet"
           }
          ],
          "scattergeo": [
           {
            "marker": {
             "colorbar": {
              "outlinewidth": 0,
              "ticks": ""
             }
            },
            "type": "scattergeo"
           }
          ],
          "scattergl": [
           {
            "marker": {
             "colorbar": {
              "outlinewidth": 0,
              "ticks": ""
             }
            },
            "type": "scattergl"
           }
          ],
          "scattermap": [
           {
            "marker": {
             "colorbar": {
              "outlinewidth": 0,
              "ticks": ""
             }
            },
            "type": "scattermap"
           }
          ],
          "scattermapbox": [
           {
            "marker": {
             "colorbar": {
              "outlinewidth": 0,
              "ticks": ""
             }
            },
            "type": "scattermapbox"
           }
          ],
          "scatterpolar": [
           {
            "marker": {
             "colorbar": {
              "outlinewidth": 0,
              "ticks": ""
             }
            },
            "type": "scatterpolar"
           }
          ],
          "scatterpolargl": [
           {
            "marker": {
             "colorbar": {
              "outlinewidth": 0,
              "ticks": ""
             }
            },
            "type": "scatterpolargl"
           }
          ],
          "scatterternary": [
           {
            "marker": {
             "colorbar": {
              "outlinewidth": 0,
              "ticks": ""
             }
            },
            "type": "scatterternary"
           }
          ],
          "surface": [
           {
            "colorbar": {
             "outlinewidth": 0,
             "ticks": ""
            },
            "colorscale": [
             [
              0,
              "#0d0887"
             ],
             [
              0.1111111111111111,
              "#46039f"
             ],
             [
              0.2222222222222222,
              "#7201a8"
             ],
             [
              0.3333333333333333,
              "#9c179e"
             ],
             [
              0.4444444444444444,
              "#bd3786"
             ],
             [
              0.5555555555555556,
              "#d8576b"
             ],
             [
              0.6666666666666666,
              "#ed7953"
             ],
             [
              0.7777777777777778,
              "#fb9f3a"
             ],
             [
              0.8888888888888888,
              "#fdca26"
             ],
             [
              1,
              "#f0f921"
             ]
            ],
            "type": "surface"
           }
          ],
          "table": [
           {
            "cells": {
             "fill": {
              "color": "#EBF0F8"
             },
             "line": {
              "color": "white"
             }
            },
            "header": {
             "fill": {
              "color": "#C8D4E3"
             },
             "line": {
              "color": "white"
             }
            },
            "type": "table"
           }
          ]
         },
         "layout": {
          "annotationdefaults": {
           "arrowcolor": "#2a3f5f",
           "arrowhead": 0,
           "arrowwidth": 1
          },
          "autotypenumbers": "strict",
          "coloraxis": {
           "colorbar": {
            "outlinewidth": 0,
            "ticks": ""
           }
          },
          "colorscale": {
           "diverging": [
            [
             0,
             "#8e0152"
            ],
            [
             0.1,
             "#c51b7d"
            ],
            [
             0.2,
             "#de77ae"
            ],
            [
             0.3,
             "#f1b6da"
            ],
            [
             0.4,
             "#fde0ef"
            ],
            [
             0.5,
             "#f7f7f7"
            ],
            [
             0.6,
             "#e6f5d0"
            ],
            [
             0.7,
             "#b8e186"
            ],
            [
             0.8,
             "#7fbc41"
            ],
            [
             0.9,
             "#4d9221"
            ],
            [
             1,
             "#276419"
            ]
           ],
           "sequential": [
            [
             0,
             "#0d0887"
            ],
            [
             0.1111111111111111,
             "#46039f"
            ],
            [
             0.2222222222222222,
             "#7201a8"
            ],
            [
             0.3333333333333333,
             "#9c179e"
            ],
            [
             0.4444444444444444,
             "#bd3786"
            ],
            [
             0.5555555555555556,
             "#d8576b"
            ],
            [
             0.6666666666666666,
             "#ed7953"
            ],
            [
             0.7777777777777778,
             "#fb9f3a"
            ],
            [
             0.8888888888888888,
             "#fdca26"
            ],
            [
             1,
             "#f0f921"
            ]
           ],
           "sequentialminus": [
            [
             0,
             "#0d0887"
            ],
            [
             0.1111111111111111,
             "#46039f"
            ],
            [
             0.2222222222222222,
             "#7201a8"
            ],
            [
             0.3333333333333333,
             "#9c179e"
            ],
            [
             0.4444444444444444,
             "#bd3786"
            ],
            [
             0.5555555555555556,
             "#d8576b"
            ],
            [
             0.6666666666666666,
             "#ed7953"
            ],
            [
             0.7777777777777778,
             "#fb9f3a"
            ],
            [
             0.8888888888888888,
             "#fdca26"
            ],
            [
             1,
             "#f0f921"
            ]
           ]
          },
          "colorway": [
           "#636efa",
           "#EF553B",
           "#00cc96",
           "#ab63fa",
           "#FFA15A",
           "#19d3f3",
           "#FF6692",
           "#B6E880",
           "#FF97FF",
           "#FECB52"
          ],
          "font": {
           "color": "#2a3f5f"
          },
          "geo": {
           "bgcolor": "white",
           "lakecolor": "white",
           "landcolor": "#E5ECF6",
           "showlakes": true,
           "showland": true,
           "subunitcolor": "white"
          },
          "hoverlabel": {
           "align": "left"
          },
          "hovermode": "closest",
          "mapbox": {
           "style": "light"
          },
          "paper_bgcolor": "white",
          "plot_bgcolor": "#E5ECF6",
          "polar": {
           "angularaxis": {
            "gridcolor": "white",
            "linecolor": "white",
            "ticks": ""
           },
           "bgcolor": "#E5ECF6",
           "radialaxis": {
            "gridcolor": "white",
            "linecolor": "white",
            "ticks": ""
           }
          },
          "scene": {
           "xaxis": {
            "backgroundcolor": "#E5ECF6",
            "gridcolor": "white",
            "gridwidth": 2,
            "linecolor": "white",
            "showbackground": true,
            "ticks": "",
            "zerolinecolor": "white"
           },
           "yaxis": {
            "backgroundcolor": "#E5ECF6",
            "gridcolor": "white",
            "gridwidth": 2,
            "linecolor": "white",
            "showbackground": true,
            "ticks": "",
            "zerolinecolor": "white"
           },
           "zaxis": {
            "backgroundcolor": "#E5ECF6",
            "gridcolor": "white",
            "gridwidth": 2,
            "linecolor": "white",
            "showbackground": true,
            "ticks": "",
            "zerolinecolor": "white"
           }
          },
          "shapedefaults": {
           "line": {
            "color": "#2a3f5f"
           }
          },
          "ternary": {
           "aaxis": {
            "gridcolor": "white",
            "linecolor": "white",
            "ticks": ""
           },
           "baxis": {
            "gridcolor": "white",
            "linecolor": "white",
            "ticks": ""
           },
           "bgcolor": "#E5ECF6",
           "caxis": {
            "gridcolor": "white",
            "linecolor": "white",
            "ticks": ""
           }
          },
          "title": {
           "x": 0.05
          },
          "xaxis": {
           "automargin": true,
           "gridcolor": "white",
           "linecolor": "white",
           "ticks": "",
           "title": {
            "standoff": 15
           },
           "zerolinecolor": "white",
           "zerolinewidth": 2
          },
          "yaxis": {
           "automargin": true,
           "gridcolor": "white",
           "linecolor": "white",
           "ticks": "",
           "title": {
            "standoff": 15
           },
           "zerolinecolor": "white",
           "zerolinewidth": 2
          }
         }
        },
        "title": {
         "text": "Simulation Markers",
         "x": 0.5,
         "xanchor": "center"
        },
        "width": 800
       }
      }
     },
     "metadata": {},
     "output_type": "display_data"
    }
   ],
   "source": [
    "green_nvehicles = 3\n",
    "global_paths = [local2global(path, home) for path, home in zip(local_paths, homes)]\n",
    "models = (n_vehicles-green_nvehicles)*[('iris',Color.BLUE)]+green_nvehicles*[('iris',Color.GREEN)]   # must agree with n_vehicles\n",
    "markers = [ConfigGazebo.create_trajectory_from_array(array=global_paths[i],color=models[i][1]) for i in range(n_vehicles)]\n",
    "Gazebo.plot_3d_interactive(markers=markers, title=\"Simulation Markers\", frames=(0.2, 0.2, 0.6), ground=-0.05)\n"
   ]
  },
  {
   "cell_type": "markdown",
   "metadata": {},
   "source": [
    "## Choose Simulator"
   ]
  },
  {
   "cell_type": "code",
   "execution_count": 5,
   "metadata": {},
   "outputs": [],
   "source": [
    "\n",
    "gazebo_config = ConfigGazebo(world_path=\"simulators/gazebo/worlds/runway.world\",models=models,markers = markers)\n",
    "simulator = Gazebo(offsets=offsets,plans=plans,config=gazebo_config)\n",
    "\n",
    "simulator = QGC(offsets=offsets, plans=plans, origin=(-35.3633245, 149.1652241, 0, 0))\n",
    "\n",
    "\n",
    "simulator = Simulator(offsets=offsets, plans=plans)"
   ]
  },
  {
   "cell_type": "code",
   "execution_count": 6,
   "metadata": {},
   "outputs": [],
   "source": [
    "#simulator._delete_all_qgc_links()"
   ]
  },
  {
   "cell_type": "markdown",
   "metadata": {},
   "source": [
    "Launch Simulator"
   ]
  },
  {
   "cell_type": "code",
   "execution_count": null,
   "metadata": {},
   "outputs": [
    {
     "name": "stdout",
     "output_type": "stream",
     "text": [
      "🚀 Vehicle 1 launched (PID 2903404)\n",
      "🚀 Vehicle 1 logic launched (PID 2903405)\n",
      "🚀 Vehicle 2 launched (PID 2903406)\n",
      "🚀 Vehicle 2 logic launched (PID 2903407)\n",
      "🚀 Vehicle 3 launched (PID 2903408)\n",
      "🚀 Vehicle 3 logic launched (PID 2903409)\n",
      "🚀 Vehicle 4 launched (PID 2903410)\n",
      "🚀 Vehicle 4 logic launched (PID 2903411)\n",
      "🚀 Vehicle 5 launched (PID 2903412)\n",
      "🚀 Vehicle 5 logic launched (PID 2903413)\n",
      "🚀 Vehicle 6 launched (PID 2903414)\n",
      "🚀 Vehicle 6 logic launched (PID 2903415)\n",
      "🚀 Vehicle 7 launched (PID 2903416)\n",
      "🚀 Vehicle 7 logic launched (PID 2903417)\n",
      "🚀 Vehicle 8 launched (PID 2903418)\n",
      "🚀 Vehicle 8 logic launched (PID 2903419)\n",
      "🚀 Vehicle 9 launched (PID 2903420)\n",
      "🚀 Vehicle 9 logic launched (PID 2903421)\n",
      "🚀 Vehicle 10 launched (PID 2903422)\n",
      "🚀 Vehicle 10 logic launched (PID 2903423)\n",
      "ℹ️  Running without visualization.\n",
      "🔗 UAV logic 1 is connected to Oracle ⚪\n",
      "🔗 UAV logic 2 is connected to Oracle ⚪\n",
      "🔗 UAV logic 3 is connected to Oracle ⚪\n",
      "🔗 UAV logic 4 is connected to Oracle ⚪\n",
      "🔗 UAV logic 5 is connected to Oracle ⚪\n",
      "🔗 UAV logic 6 is connected to Oracle ⚪\n",
      "🔗 UAV logic 7 is connected to Oracle ⚪\n",
      "🔗 UAV logic 8 is connected to Oracle ⚪\n",
      "🔗 UAV logic 9 is connected to Oracle ⚪\n",
      "🔗 UAV logic 10 is connected to Oracle ⚪\n",
      "🔗 UAV logic 1 is connected to GCS blue 🟦\n",
      "🔗 UAV logic 2 is connected to GCS blue 🟦\n",
      "🔗 UAV logic 3 is connected to GCS blue 🟦\n"
     ]
    }
   ],
   "source": [
    "sysids = list(range(1,n_vehicles+1))\n",
    "simulator.launch()\n",
    "orac = Oracle(sysids)\n",
    "blue_gcs = GCS(sysids[:4],name='blue 🟦')\n",
    "green_gcs = GCS(sysids[4:],name = 'green 🟩')\n",
    "\n",
    "while len(orac.conns):\n",
    "    blue_gcs.gather_broadcasts()\n",
    "    green_gcs.gather_broadcasts()\n",
    "    blue_gcs.save_pos()\n",
    "    green_gcs.save_pos() \n",
    "    for sysid in list(orac.conns.keys()):\n",
    "        if orac.is_plan_done(sysid):\n",
    "            orac.remove(sysid)\n",
    "clean()"
   ]
  },
  {
   "cell_type": "markdown",
   "metadata": {},
   "source": [
    "## Print Positions gathered"
   ]
  },
  {
   "cell_type": "code",
   "execution_count": null,
   "metadata": {},
   "outputs": [
    {
     "data": {
      "application/vnd.plotly.v1+json": {
       "config": {
        "plotlyServerURL": "https://plot.ly"
       },
       "data": [
        {
         "marker": {
          "color": [
           "blue",
           "blue",
           "blue",
           "blue",
           "blue",
           "blue",
           "blue",
           "blue",
           "blue",
           "blue",
           "blue",
           "blue",
           "blue",
           "blue",
           "blue",
           "blue",
           "blue",
           "blue",
           "blue",
           "blue",
           "blue",
           "blue",
           "blue",
           "blue",
           "blue",
           "blue",
           "blue",
           "blue",
           "blue",
           "blue",
           "blue",
           "blue",
           "blue",
           "blue",
           "blue",
           "blue",
           "blue",
           "blue",
           "blue",
           "blue",
           "blue",
           "blue",
           "blue",
           "blue",
           "blue",
           "blue",
           "blue",
           "blue",
           "blue",
           "blue",
           "blue",
           "blue",
           "blue",
           "blue",
           "blue",
           "blue",
           "blue",
           "blue",
           "blue",
           "blue",
           "blue",
           "blue",
           "blue",
           "blue",
           "blue",
           "blue",
           "blue",
           "blue",
           "blue",
           "blue",
           "blue",
           "blue",
           "blue",
           "blue",
           "blue",
           "blue",
           "blue",
           "blue",
           "blue",
           "blue",
           "blue",
           "blue",
           "blue",
           "blue",
           "blue",
           "blue",
           "blue",
           "blue",
           "blue",
           "blue",
           "blue",
           "blue",
           "blue",
           "blue",
           "blue",
           "blue",
           "blue",
           "blue",
           "blue",
           "blue",
           "blue",
           "blue",
           "blue",
           "blue",
           "blue",
           "blue",
           "blue",
           "blue",
           "blue",
           "blue",
           "blue",
           "blue",
           "blue",
           "blue",
           "blue",
           "blue",
           "blue",
           "blue",
           "blue",
           "blue",
           "blue",
           "blue",
           "blue",
           "blue",
           "blue",
           "blue",
           "blue",
           "blue",
           "blue",
           "blue",
           "blue"
          ],
          "size": 6
         },
         "mode": "markers",
         "name": "trajectory 0",
         "type": "scatter3d",
         "x": [
          0.8953180788379758,
          0.8984903842505663,
          0.9000348747071474,
          0.9022200648036449,
          0.9039157377850859,
          0.9038412757512777,
          0.9053892270025461,
          0.9060797319111078,
          0.9028123272877782,
          0.900434331997916,
          0.9054159261581152,
          0.907264272711858,
          0.9260831671130507,
          0.9283794099759906,
          1.5110524194609969,
          5.159143139637694,
          8.650045086659178,
          8.962409664906248,
          9.203485180653319,
          9.183561970509276,
          8.343849350727782,
          5.9211174743544905,
          2.932914902485594,
          1.039485503948912,
          0.602210660494551,
          0.5725553827655165,
          0.5705389874350875,
          0.5760567086112349,
          0.6064019101035445,
          0.6082824366462081,
          0.620007713354811,
          0.6206696527373641,
          0.6211264031302779,
          0.6210364895236342,
          0.6197601454627364,
          0.6196845965754836,
          0.6174668567550032,
          0.6137631731402724,
          0.6132520633113234,
          0.6084999935996382,
          0.6084999935996382,
          0.6084999935996382,
          0.6084999935996382,
          0.6084999935996382,
          0.6084999935996382,
          0.6084999935996382,
          0.6084999935996382,
          0.6084999935996382,
          0.6084999935996382,
          0.6084999935996382,
          0.6084999935996382,
          0.6084999935996382,
          0.6084999935996382,
          0.6084999935996382,
          0.6084999935996382,
          0.6084999935996382,
          0.6084999935996382,
          0.6084999935996382,
          0.6084999935996382,
          0.6084999935996382,
          0.6084999935996382,
          0.6084999935996382,
          0.6084999935996382,
          0.6084999935996382,
          0.6084999935996382,
          0.6084999935996382,
          0.6084999935996382,
          0.6084999935996382,
          0.6084999935996382,
          0.6084999935996382,
          0.6084999935996382,
          0.6084999935996382,
          0.6084999935996382,
          0.6084999935996382,
          0.6084999935996382,
          0.6084999935996382,
          0.6084999935996382,
          0.6084999935996382,
          0.6084999935996382,
          0.6084999935996382,
          0.6084999935996382,
          0.6084999935996382,
          0.6084999935996382,
          0.6084999935996382,
          0.6084999935996382,
          0.6084999935996382,
          0.6084999935996382,
          0.6084999935996382,
          0.6056912439238875,
          0.6056912439238875,
          0.6056912439238875,
          0.6056912439238875,
          0.6056912439238875,
          0.6056912439238875,
          0.6056912439238875,
          0.6056912439238875,
          0.6056912439238875,
          0.6056912439238875,
          0.6056912439238875,
          0.6056912439238875,
          0.6056912439238875,
          0.6056912439238875,
          0.6056912439238875,
          0.6056912439238875,
          0.6056912439238875,
          0.6056912439238875,
          0.6056912439238875,
          0.6056912439238875,
          0.6056912439238875,
          0.6056912439238875,
          0.6056912439238875,
          0.6056912439238875,
          0.6056912439238875,
          0.6056912439238875,
          0.6056912439238875,
          0.6056912439238875,
          0.6056912439238875,
          0.6056912439238875,
          0.6056912439238875,
          0.6056912439238875,
          0.6056912439238875,
          0.6056912439238875,
          0.6056912439238875,
          0.6056912439238875,
          0.6056912439238875,
          0.6056912439238875,
          0.6056912439238875,
          0.6056912439238875,
          0.6056912439238875,
          0.6056912439238875,
          0.6056912439238875
         ],
         "y": [
          0.9019299741547186,
          0.9079700099017103,
          0.9098978280733903,
          0.9125914364765961,
          0.9142234675299008,
          0.9140333585153897,
          0.9160719398121913,
          1.2019110504250605,
          3.5831576768021662,
          4.8899821225266535,
          6.109775680647381,
          6.392479080305584,
          8.195237297163494,
          8.35206188593913,
          9.186323303328045,
          9.206859726057537,
          9.019321579084881,
          8.926009315596112,
          5.30689825449992,
          4.360227722273358,
          0.6583448830704768,
          0.5660720649819453,
          0.6402380350689967,
          0.7966461214881022,
          0.903732562036403,
          0.9135472081314404,
          0.9036621554467459,
          0.8970986786069446,
          0.8576633404653151,
          0.8553872998516638,
          0.83848687966276,
          0.8401680882732947,
          0.8426854531924803,
          0.8429053049247344,
          0.85201696266342,
          0.8526872168939192,
          0.8553891401450713,
          0.8654549024711926,
          0.8739727470736582,
          0.8729895572822173,
          0.8729895572822173,
          0.8729895572822173,
          0.8729895572822173,
          0.8729895572822173,
          0.8729895572822173,
          0.8729895572822173,
          0.8729895572822173,
          0.8729895572822173,
          0.8729895572822173,
          0.8729895572822173,
          0.8729895572822173,
          0.8729895572822173,
          0.8729895572822173,
          0.8729895572822173,
          0.8729895572822173,
          0.8729895572822173,
          0.8729895572822173,
          0.8729895572822173,
          0.8729895572822173,
          0.8729895572822173,
          0.8729895572822173,
          0.8729895572822173,
          0.8729895572822173,
          0.8729895572822173,
          0.8729895572822173,
          0.8729895572822173,
          0.8729895572822173,
          0.8729895572822173,
          0.8729895572822173,
          0.8729895572822173,
          0.8729895572822173,
          0.8729895572822173,
          0.8729895572822173,
          0.8729895572822173,
          0.8729895572822173,
          0.8729895572822173,
          0.8729895572822173,
          0.8729895572822173,
          0.8729895572822173,
          0.8729895572822173,
          0.8729895572822173,
          0.8729895572822173,
          0.8729895572822173,
          0.8729895572822173,
          0.8729895572822173,
          0.8729895572822173,
          0.8729895572822173,
          0.8729895572822173,
          0.872135873482712,
          0.872135873482712,
          0.872135873482712,
          0.872135873482712,
          0.872135873482712,
          0.872135873482712,
          0.872135873482712,
          0.872135873482712,
          0.872135873482712,
          0.872135873482712,
          0.872135873482712,
          0.872135873482712,
          0.872135873482712,
          0.872135873482712,
          0.872135873482712,
          0.872135873482712,
          0.872135873482712,
          0.872135873482712,
          0.872135873482712,
          0.872135873482712,
          0.872135873482712,
          0.872135873482712,
          0.872135873482712,
          0.872135873482712,
          0.872135873482712,
          0.872135873482712,
          0.872135873482712,
          0.872135873482712,
          0.872135873482712,
          0.872135873482712,
          0.872135873482712,
          0.872135873482712,
          0.872135873482712,
          0.872135873482712,
          0.872135873482712,
          0.872135873482712,
          0.872135873482712,
          0.872135873482712,
          0.872135873482712,
          0.872135873482712,
          0.872135873482712,
          0.872135873482712,
          0.872135873482712
         ],
         "z": [
          1.2575483322143555,
          2.115999937057495,
          2.46897554397583,
          2.9707422256469727,
          3.921156167984009,
          4.031650066375732,
          4.647626876831055,
          4.926793098449707,
          4.982715129852295,
          4.982681751251221,
          4.978693008422852,
          4.977841377258301,
          4.980887413024902,
          4.982192039489746,
          4.994065284729004,
          5.002958297729492,
          5.000917434692383,
          5.002188205718994,
          5.014102935791016,
          5.012659549713135,
          5.003209114074707,
          5.011399269104004,
          5.006546497344971,
          4.9998779296875,
          4.501917839050293,
          4.287704944610596,
          3.834455966949463,
          3.7358617782592773,
          3.1406266689300537,
          3.090780019760132,
          2.440368890762329,
          2.2403790950775146,
          2.0903642177581787,
          2.040344715118408,
          1.2407076358795166,
          1.1908318996429443,
          0.8913801312446594,
          0.34251025319099426,
          -0.024931538850069046,
          -0.035346999764442444,
          -0.035346999764442444,
          -0.035346999764442444,
          -0.035346999764442444,
          -0.035346999764442444,
          -0.035346999764442444,
          -0.035346999764442444,
          -0.035346999764442444,
          -0.035346999764442444,
          -0.035346999764442444,
          -0.035346999764442444,
          -0.035346999764442444,
          -0.035346999764442444,
          -0.035346999764442444,
          -0.035346999764442444,
          -0.035346999764442444,
          -0.035346999764442444,
          -0.035346999764442444,
          -0.035346999764442444,
          -0.035346999764442444,
          -0.035346999764442444,
          -0.035346999764442444,
          -0.035346999764442444,
          -0.035346999764442444,
          -0.035346999764442444,
          -0.035346999764442444,
          -0.035346999764442444,
          -0.035346999764442444,
          -0.035346999764442444,
          -0.035346999764442444,
          -0.035346999764442444,
          -0.035346999764442444,
          -0.035346999764442444,
          -0.035346999764442444,
          -0.035346999764442444,
          -0.035346999764442444,
          -0.035346999764442444,
          -0.035346999764442444,
          -0.035346999764442444,
          -0.035346999764442444,
          -0.035346999764442444,
          -0.035346999764442444,
          -0.035346999764442444,
          -0.035346999764442444,
          -0.035346999764442444,
          -0.035346999764442444,
          -0.035346999764442444,
          -0.035346999764442444,
          -0.035346999764442444,
          -0.032748375087976456,
          -0.032748375087976456,
          -0.032748375087976456,
          -0.032748375087976456,
          -0.032748375087976456,
          -0.032748375087976456,
          -0.032748375087976456,
          -0.032748375087976456,
          -0.032748375087976456,
          -0.032748375087976456,
          -0.032748375087976456,
          -0.032748375087976456,
          -0.032748375087976456,
          -0.032748375087976456,
          -0.032748375087976456,
          -0.032748375087976456,
          -0.032748375087976456,
          -0.032748375087976456,
          -0.032748375087976456,
          -0.032748375087976456,
          -0.032748375087976456,
          -0.032748375087976456,
          -0.032748375087976456,
          -0.032748375087976456,
          -0.032748375087976456,
          -0.032748375087976456,
          -0.032748375087976456,
          -0.032748375087976456,
          -0.032748375087976456,
          -0.032748375087976456,
          -0.032748375087976456,
          -0.032748375087976456,
          -0.032748375087976456,
          -0.032748375087976456,
          -0.032748375087976456,
          -0.032748375087976456,
          -0.032748375087976456,
          -0.032748375087976456,
          -0.032748375087976456,
          -0.032748375087976456,
          -0.032748375087976456,
          -0.032748375087976456,
          -0.032748375087976456
         ]
        },
        {
         "marker": {
          "color": [
           "blue",
           "blue",
           "blue",
           "blue",
           "blue",
           "blue",
           "blue",
           "blue",
           "blue",
           "blue",
           "blue",
           "blue",
           "blue",
           "blue",
           "blue",
           "blue",
           "blue",
           "blue",
           "blue",
           "blue",
           "blue",
           "blue",
           "blue",
           "blue",
           "blue",
           "blue",
           "blue",
           "blue",
           "blue",
           "blue",
           "blue",
           "blue",
           "blue",
           "blue",
           "blue",
           "blue",
           "blue",
           "blue",
           "blue",
           "blue",
           "blue",
           "blue",
           "blue",
           "blue",
           "blue",
           "blue",
           "blue",
           "blue",
           "blue",
           "blue",
           "blue",
           "blue",
           "blue",
           "blue",
           "blue",
           "blue",
           "blue",
           "blue",
           "blue",
           "blue",
           "blue",
           "blue",
           "blue",
           "blue",
           "blue",
           "blue",
           "blue",
           "blue",
           "blue",
           "blue",
           "blue",
           "blue",
           "blue",
           "blue",
           "blue",
           "blue",
           "blue",
           "blue",
           "blue",
           "blue",
           "blue",
           "blue",
           "blue",
           "blue",
           "blue",
           "blue",
           "blue",
           "blue",
           "blue",
           "blue",
           "blue",
           "blue",
           "blue",
           "blue",
           "blue",
           "blue",
           "blue",
           "blue",
           "blue",
           "blue",
           "blue",
           "blue",
           "blue",
           "blue",
           "blue",
           "blue",
           "blue",
           "blue",
           "blue",
           "blue",
           "blue",
           "blue",
           "blue",
           "blue",
           "blue",
           "blue",
           "blue",
           "blue",
           "blue",
           "blue",
           "blue",
           "blue",
           "blue",
           "blue",
           "blue",
           "blue",
           "blue",
           "blue",
           "blue",
           "blue",
           "blue"
          ],
          "size": 6
         },
         "mode": "markers",
         "name": "trajectory 1",
         "type": "scatter3d",
         "x": [
          4.309667355000606,
          4.311184326504922,
          4.317593511512136,
          4.321643249449885,
          4.320228904803848,
          4.317600488049543,
          4.316354779844737,
          4.315435442460334,
          4.347019169797754,
          4.353166275044536,
          4.4672415706716535,
          4.776284590681648,
          4.929349407871818,
          6.9804328534208295,
          7.948674545010185,
          8.882359609325981,
          9.469928369244194,
          10.965769395550346,
          12.54492293330059,
          12.63898859949932,
          12.63792715998516,
          12.54991446467266,
          12.493855581005668,
          12.450024709423637,
          12.16400776835308,
          12.05257092448101,
          10.287000760754204,
          4.928889438828087,
          4.16131447287426,
          3.9801096770368574,
          4.007551923712349,
          4.0100537392698286,
          4.016965434273338,
          4.02662499280796,
          4.033258900364494,
          4.034796849211311,
          4.035723612030601,
          4.036459550579643,
          4.035991594513511,
          4.0339864346586225,
          4.032327995022392,
          4.030805990418052,
          4.028521761616325,
          4.029403820952034,
          4.024171546419716,
          4.022154406031227,
          4.022154406031227,
          4.022154406031227,
          4.022154406031227,
          4.022154406031227,
          4.022154406031227,
          4.022154406031227,
          4.022154406031227,
          4.022154406031227,
          4.022154406031227,
          4.022154406031227,
          4.022154406031227,
          4.022154406031227,
          4.022154406031227,
          4.022154406031227,
          4.022154406031227,
          4.022154406031227,
          4.022154406031227,
          4.022154406031227,
          4.022154406031227,
          4.022154406031227,
          4.022154406031227,
          4.022154406031227,
          4.022154406031227,
          4.022154406031227,
          4.022154406031227,
          4.022154406031227,
          4.022154406031227,
          4.022154406031227,
          4.022154406031227,
          4.022154406031227,
          4.022154406031227,
          4.022154406031227,
          4.022154406031227,
          4.022154406031227,
          4.022154406031227,
          4.022154406031227,
          4.022154406031227,
          4.022154406031227,
          4.022154406031227,
          4.022154406031227,
          4.022154406031227,
          4.022154406031227,
          4.022154406031227,
          4.022154406031227,
          4.022154406031227,
          4.022154406031227,
          4.022154406031227,
          4.022154406031227,
          4.022154406031227,
          4.022154406031227,
          4.022154406031227,
          4.022154406031227,
          4.022154406031227,
          4.022154406031227,
          4.022154406031227,
          4.022154406031227,
          4.022154406031227,
          4.022154406031227,
          4.022154406031227,
          4.022154406031227,
          4.022154406031227,
          4.022154406031227,
          4.022154406031227,
          4.022154406031227,
          4.022154406031227,
          4.022154406031227,
          4.022154406031227,
          4.022154406031227,
          4.022154406031227,
          4.022154406031227,
          4.022154406031227,
          4.022154406031227,
          4.022154406031227,
          4.022154406031227,
          4.022154406031227,
          4.022154406031227,
          4.022154406031227,
          4.022154406031227,
          4.022154406031227,
          4.022154406031227,
          4.022154406031227,
          4.022154406031227,
          4.022154406031227,
          4.022154406031227,
          4.022154406031227
         ],
         "y": [
          -2.9424661303803648,
          -2.9401632937535966,
          -2.9305729711361552,
          -2.64031784738678,
          -0.903621365682068,
          -0.26293270792144785,
          0.06593854223114004,
          0.39486105237823477,
          4.6504193047128295,
          4.985730240686951,
          5.236703942164001,
          5.337979386194763,
          5.360996315821228,
          5.393407891138611,
          5.368069718226013,
          5.338393280848083,
          5.316383431299744,
          5.24459368978363,
          4.538100312098083,
          2.7666812637887572,
          2.1210075119577025,
          -1.1273967524923707,
          -1.984442522183838,
          -2.4624707302011872,
          -3.1121528496899034,
          -3.1478492220796968,
          -3.273127903596344,
          -3.097246800915184,
          -2.9846379769899274,
          -2.9286961475320483,
          -2.966704708889904,
          -2.9706195028432036,
          -2.9801601445235635,
          -2.9926142482020284,
          -3.002774102047863,
          -3.005506092117014,
          -3.001593788520279,
          -2.997586523548546,
          -2.9949088482119466,
          -2.988961422250452,
          -2.9854085309364224,
          -2.9836479103125955,
          -2.9781647933580304,
          -2.968721625760975,
          -2.9688065456159736,
          -2.96979972477335,
          -2.96979972477335,
          -2.96979972477335,
          -2.96979972477335,
          -2.96979972477335,
          -2.96979972477335,
          -2.96979972477335,
          -2.96979972477335,
          -2.96979972477335,
          -2.96979972477335,
          -2.96979972477335,
          -2.96979972477335,
          -2.96979972477335,
          -2.96979972477335,
          -2.96979972477335,
          -2.96979972477335,
          -2.96979972477335,
          -2.96979972477335,
          -2.96979972477335,
          -2.96979972477335,
          -2.96979972477335,
          -2.96979972477335,
          -2.96979972477335,
          -2.96979972477335,
          -2.96979972477335,
          -2.96979972477335,
          -2.96979972477335,
          -2.96979972477335,
          -2.96979972477335,
          -2.96979972477335,
          -2.96979972477335,
          -2.96979972477335,
          -2.96979972477335,
          -2.96979972477335,
          -2.96979972477335,
          -2.96979972477335,
          -2.96979972477335,
          -2.96979972477335,
          -2.96979972477335,
          -2.96979972477335,
          -2.96979972477335,
          -2.96979972477335,
          -2.96979972477335,
          -2.96979972477335,
          -2.96979972477335,
          -2.96979972477335,
          -2.96979972477335,
          -2.96979972477335,
          -2.96979972477335,
          -2.96979972477335,
          -2.96979972477335,
          -2.96979972477335,
          -2.96979972477335,
          -2.96979972477335,
          -2.96979972477335,
          -2.96979972477335,
          -2.96979972477335,
          -2.96979972477335,
          -2.96979972477335,
          -2.96979972477335,
          -2.96979972477335,
          -2.96979972477335,
          -2.96979972477335,
          -2.96979972477335,
          -2.96979972477335,
          -2.96979972477335,
          -2.96979972477335,
          -2.96979972477335,
          -2.96979972477335,
          -2.96979972477335,
          -2.96979972477335,
          -2.96979972477335,
          -2.96979972477335,
          -2.96979972477335,
          -2.96979972477335,
          -2.96979972477335,
          -2.96979972477335,
          -2.96979972477335,
          -2.96979972477335,
          -2.96979972477335,
          -2.96979972477335,
          -2.96979972477335,
          -2.96979972477335,
          -2.96979972477335,
          -2.96979972477335,
          -2.96979972477335
         ],
         "z": [
          1.0827938318252563,
          1.3796734809875488,
          2.910696268081665,
          4.917257308959961,
          4.979848384857178,
          4.982748508453369,
          4.983509540557861,
          4.983741283416748,
          4.982940196990967,
          4.988053798675537,
          4.992495059967041,
          4.993898391723633,
          4.994513034820557,
          5.000951290130615,
          5.003279209136963,
          5.002502918243408,
          5.001203536987305,
          4.998628616333008,
          5.002985954284668,
          5.010501861572266,
          5.013445854187012,
          5.006687164306641,
          5.00355339050293,
          5.002773761749268,
          5.002362251281738,
          5.002364158630371,
          5.007617473602295,
          5.00265645980835,
          4.870384216308594,
          4.032224655151367,
          3.439242124557495,
          3.3896484375,
          3.2404839992523193,
          2.990586042404175,
          2.640918731689453,
          2.3906705379486084,
          1.8898838758468628,
          1.6399199962615967,
          1.4402011632919312,
          1.090493083000183,
          0.8908568620681763,
          0.7909765839576721,
          0.5411366820335388,
          0.14178118109703064,
          -0.010849587619304657,
          -0.01003586407750845,
          -0.01003586407750845,
          -0.01003586407750845,
          -0.01003586407750845,
          -0.01003586407750845,
          -0.01003586407750845,
          -0.01003586407750845,
          -0.01003586407750845,
          -0.01003586407750845,
          -0.01003586407750845,
          -0.01003586407750845,
          -0.01003586407750845,
          -0.01003586407750845,
          -0.01003586407750845,
          -0.01003586407750845,
          -0.01003586407750845,
          -0.01003586407750845,
          -0.01003586407750845,
          -0.01003586407750845,
          -0.01003586407750845,
          -0.01003586407750845,
          -0.01003586407750845,
          -0.01003586407750845,
          -0.01003586407750845,
          -0.01003586407750845,
          -0.01003586407750845,
          -0.01003586407750845,
          -0.01003586407750845,
          -0.01003586407750845,
          -0.01003586407750845,
          -0.01003586407750845,
          -0.01003586407750845,
          -0.01003586407750845,
          -0.01003586407750845,
          -0.01003586407750845,
          -0.01003586407750845,
          -0.01003586407750845,
          -0.01003586407750845,
          -0.01003586407750845,
          -0.01003586407750845,
          -0.01003586407750845,
          -0.01003586407750845,
          -0.01003586407750845,
          -0.01003586407750845,
          -0.01003586407750845,
          -0.01003586407750845,
          -0.01003586407750845,
          -0.01003586407750845,
          -0.01003586407750845,
          -0.01003586407750845,
          -0.01003586407750845,
          -0.01003586407750845,
          -0.01003586407750845,
          -0.01003586407750845,
          -0.01003586407750845,
          -0.01003586407750845,
          -0.01003586407750845,
          -0.01003586407750845,
          -0.01003586407750845,
          -0.01003586407750845,
          -0.01003586407750845,
          -0.01003586407750845,
          -0.01003586407750845,
          -0.01003586407750845,
          -0.01003586407750845,
          -0.01003586407750845,
          -0.01003586407750845,
          -0.01003586407750845,
          -0.01003586407750845,
          -0.01003586407750845,
          -0.01003586407750845,
          -0.01003586407750845,
          -0.01003586407750845,
          -0.01003586407750845,
          -0.01003586407750845,
          -0.01003586407750845,
          -0.01003586407750845,
          -0.01003586407750845,
          -0.01003586407750845,
          -0.01003586407750845,
          -0.01003586407750845,
          -0.01003586407750845,
          -0.01003586407750845,
          -0.01003586407750845,
          -0.01003586407750845,
          -0.01003586407750845
         ]
        },
        {
         "marker": {
          "color": [
           "blue",
           "blue",
           "blue",
           "blue",
           "blue",
           "blue",
           "blue",
           "blue",
           "blue",
           "blue",
           "blue",
           "blue",
           "blue",
           "blue",
           "blue",
           "blue",
           "blue",
           "blue",
           "blue",
           "blue",
           "blue",
           "blue",
           "blue",
           "blue",
           "blue",
           "blue",
           "blue",
           "blue",
           "blue",
           "blue",
           "blue",
           "blue",
           "blue",
           "blue",
           "blue",
           "blue",
           "blue",
           "blue",
           "blue",
           "blue",
           "blue",
           "blue",
           "blue",
           "blue",
           "blue",
           "blue",
           "blue",
           "blue",
           "blue",
           "blue",
           "blue",
           "blue",
           "blue",
           "blue",
           "blue",
           "blue",
           "blue",
           "blue",
           "blue",
           "blue",
           "blue",
           "blue",
           "blue",
           "blue",
           "blue",
           "blue",
           "blue",
           "blue",
           "blue",
           "blue",
           "blue",
           "blue",
           "blue",
           "blue",
           "blue",
           "blue",
           "blue",
           "blue",
           "blue",
           "blue",
           "blue",
           "blue",
           "blue",
           "blue",
           "blue",
           "blue",
           "blue",
           "blue",
           "blue",
           "blue",
           "blue",
           "blue",
           "blue",
           "blue",
           "blue",
           "blue",
           "blue",
           "blue",
           "blue",
           "blue",
           "blue",
           "blue",
           "blue",
           "blue",
           "blue",
           "blue",
           "blue",
           "blue",
           "blue",
           "blue",
           "blue",
           "blue",
           "blue",
           "blue",
           "blue",
           "blue",
           "blue",
           "blue",
           "blue",
           "blue",
           "blue",
           "blue",
           "blue",
           "blue",
           "blue",
           "blue",
           "blue",
           "blue",
           "blue",
           "blue",
           "blue"
          ],
          "size": 6
         },
         "mode": "markers",
         "name": "trajectory 2",
         "type": "scatter3d",
         "x": [
          -0.4475622432077335,
          -0.4473236037596626,
          -0.4454439278346518,
          -0.4429098690747315,
          -0.4403073919824356,
          -0.43711696908613984,
          -0.4344724311380679,
          -0.43427212321004216,
          -0.4338314111231858,
          -0.4329550188853437,
          -0.4321206684111649,
          -0.43187836901089494,
          -0.4318105668648178,
          -0.43594672315558736,
          -0.4360938870235378,
          -0.41897915833434407,
          0.7815697810725277,
          1.30496686912337,
          3.1880223176554745,
          6.600200357206256,
          7.81250876403609,
          7.799719991453082,
          7.77373808837691,
          7.677890958555133,
          7.487638654477984,
          4.241272153623492,
          1.8494116685465878,
          0.6961196086482113,
          -0.2997505196257526,
          -0.6525529899521763,
          -0.6766007819100315,
          -0.7735376336499149,
          -0.7607252874298984,
          -0.7575390317364628,
          -0.7548368849678928,
          -0.7185742833538944,
          -0.7177097775860721,
          -0.7176153638287479,
          -0.7179089763089115,
          -0.7201812543793613,
          -0.7227846660538608,
          -0.7230592050476963,
          -0.7228187897129947,
          -0.7240065016671116,
          -0.725484369031995,
          -0.7338442184849674,
          -0.7338442184849674,
          -0.7338442184849674,
          -0.7338442184849674,
          -0.7338442184849674,
          -0.7338442184849674,
          -0.7338442184849674,
          -0.7338442184849674,
          -0.7338442184849674,
          -0.7338442184849674,
          -0.7338442184849674,
          -0.7338442184849674,
          -0.7338442184849674,
          -0.7338442184849674,
          -0.7338442184849674,
          -0.7338442184849674,
          -0.7338442184849674,
          -0.7338442184849674,
          -0.7338442184849674,
          -0.7338442184849674,
          -0.7338442184849674,
          -0.7338442184849674,
          -0.7338442184849674,
          -0.7338442184849674,
          -0.7338442184849674,
          -0.7338442184849674,
          -0.7338442184849674,
          -0.7338442184849674,
          -0.7338442184849674,
          -0.7338442184849674,
          -0.7338442184849674,
          -0.7338442184849674,
          -0.7338442184849674,
          -0.7338442184849674,
          -0.7338442184849674,
          -0.7338442184849674,
          -0.7338442184849674,
          -0.7338442184849674,
          -0.7338442184849674,
          -0.7338442184849674,
          -0.7338442184849674,
          -0.7338442184849674,
          -0.7338442184849674,
          -0.7338442184849674,
          -0.7338442184849674,
          -0.7338442184849674,
          -0.7338442184849674,
          -0.7338442184849674,
          -0.7338442184849674,
          -0.7338442184849674,
          -0.7338442184849674,
          -0.7338442184849674,
          -0.7338442184849674,
          -0.7338442184849674,
          -0.7338442184849674,
          -0.7338442184849674,
          -0.7338442184849674,
          -0.7338442184849674,
          -0.7338442184849674,
          -0.7338442184849674,
          -0.7338442184849674,
          -0.7338442184849674,
          -0.7338442184849674,
          -0.7338442184849674,
          -0.7338442184849674,
          -0.7338442184849674,
          -0.7338442184849674,
          -0.7338442184849674,
          -0.7338442184849674,
          -0.7338442184849674,
          -0.7338442184849674,
          -0.7338442184849674,
          -0.7338442184849674,
          -0.7338442184849674,
          -0.7338442184849674,
          -0.7338442184849674,
          -0.7338442184849674,
          -0.7338442184849674,
          -0.7338442184849674,
          -0.7338442184849674,
          -0.7338442184849674,
          -0.7338442184849674,
          -0.7338442184849674,
          -0.7338442184849674,
          -0.7338442184849674,
          -0.7338442184849674
         ],
         "y": [
          0.48638764771365306,
          0.48671511676709844,
          0.48931848044938153,
          0.4928252559291453,
          0.4978631392257542,
          0.5019393583895893,
          0.5050038688021035,
          0.5052413374321789,
          0.5065614517914385,
          0.5080161720650525,
          1.2550555553423495,
          1.4601407732950777,
          1.6892448749529452,
          3.1705199565874667,
          5.108343967436466,
          7.2200049247728915,
          8.830114730833682,
          8.841471084593447,
          8.810426124571475,
          8.662898429869326,
          7.9702609863268465,
          2.5482260074602694,
          2.0636665906893343,
          0.8418038871275515,
          0.32101474070421165,
          0.17534545922151512,
          0.23814574742189354,
          0.30169157051912254,
          0.39703451210132545,
          0.46958332621923393,
          0.47664635462186045,
          0.508978462977919,
          0.4871760120820712,
          0.48311035727581686,
          0.47950249650946564,
          0.4299695875631899,
          0.4368463169919581,
          0.4382120419429869,
          0.43958310150972313,
          0.4445891987668604,
          0.4459894310819239,
          0.46375675426295704,
          0.4662478502976031,
          0.46556877085438675,
          0.46540647113195366,
          0.46247539782396263,
          0.46247539782396263,
          0.46247539782396263,
          0.46247539782396263,
          0.46247539782396263,
          0.46247539782396263,
          0.46247539782396263,
          0.46247539782396263,
          0.46247539782396263,
          0.46247539782396263,
          0.46247539782396263,
          0.46247539782396263,
          0.46247539782396263,
          0.46247539782396263,
          0.46247539782396263,
          0.46247539782396263,
          0.46247539782396263,
          0.46247539782396263,
          0.46247539782396263,
          0.46247539782396263,
          0.46247539782396263,
          0.46247539782396263,
          0.46247539782396263,
          0.46247539782396263,
          0.46247539782396263,
          0.46247539782396263,
          0.46247539782396263,
          0.46247539782396263,
          0.46247539782396263,
          0.46247539782396263,
          0.46247539782396263,
          0.46247539782396263,
          0.46247539782396263,
          0.46247539782396263,
          0.46247539782396263,
          0.46247539782396263,
          0.46247539782396263,
          0.46247539782396263,
          0.46247539782396263,
          0.46247539782396263,
          0.46247539782396263,
          0.46247539782396263,
          0.46247539782396263,
          0.46247539782396263,
          0.46247539782396263,
          0.46247539782396263,
          0.46247539782396263,
          0.46247539782396263,
          0.46247539782396263,
          0.46247539782396263,
          0.46247539782396263,
          0.46247539782396263,
          0.46247539782396263,
          0.46247539782396263,
          0.46247539782396263,
          0.46247539782396263,
          0.46247539782396263,
          0.46247539782396263,
          0.46247539782396263,
          0.46247539782396263,
          0.46247539782396263,
          0.46247539782396263,
          0.46247539782396263,
          0.46247539782396263,
          0.46247539782396263,
          0.46247539782396263,
          0.46247539782396263,
          0.46247539782396263,
          0.46247539782396263,
          0.46247539782396263,
          0.46247539782396263,
          0.46247539782396263,
          0.46247539782396263,
          0.46247539782396263,
          0.46247539782396263,
          0.46247539782396263,
          0.46247539782396263,
          0.46247539782396263,
          0.46247539782396263,
          0.46247539782396263,
          0.46247539782396263,
          0.46247539782396263,
          0.46247539782396263,
          0.46247539782396263,
          0.46247539782396263,
          0.46247539782396263
         ],
         "z": [
          0.3516135811805725,
          0.47063905000686646,
          0.8236677050590515,
          1.237130880355835,
          1.899055004119873,
          2.602792501449585,
          3.380009174346924,
          3.5166797637939453,
          4.000424385070801,
          4.301273822784424,
          4.95927619934082,
          4.966363906860352,
          4.971353054046631,
          4.982410430908203,
          4.980820178985596,
          4.977492809295654,
          4.996182918548584,
          4.9974260330200195,
          5.00305700302124,
          4.9984130859375,
          5.002997398376465,
          5.007792949676514,
          5.0057053565979,
          5.002905368804932,
          5.002871513366699,
          5.011969566345215,
          5.0076775550842285,
          5.00393009185791,
          5.0000104904174805,
          4.772601127624512,
          4.720123767852783,
          4.184080600738525,
          3.6850903034210205,
          3.635686159133911,
          3.5862348079681396,
          2.340407609939575,
          1.8889856338500977,
          1.7889546155929565,
          1.6388721466064453,
          1.1399095058441162,
          0.940409779548645,
          0.09191565215587616,
          -0.033884428441524506,
          -0.026520945131778717,
          -0.031791023910045624,
          -0.0324302539229393,
          -0.0324302539229393,
          -0.0324302539229393,
          -0.0324302539229393,
          -0.0324302539229393,
          -0.0324302539229393,
          -0.0324302539229393,
          -0.0324302539229393,
          -0.0324302539229393,
          -0.0324302539229393,
          -0.0324302539229393,
          -0.0324302539229393,
          -0.0324302539229393,
          -0.0324302539229393,
          -0.0324302539229393,
          -0.0324302539229393,
          -0.0324302539229393,
          -0.0324302539229393,
          -0.0324302539229393,
          -0.0324302539229393,
          -0.0324302539229393,
          -0.0324302539229393,
          -0.0324302539229393,
          -0.0324302539229393,
          -0.0324302539229393,
          -0.0324302539229393,
          -0.0324302539229393,
          -0.0324302539229393,
          -0.0324302539229393,
          -0.0324302539229393,
          -0.0324302539229393,
          -0.0324302539229393,
          -0.0324302539229393,
          -0.0324302539229393,
          -0.0324302539229393,
          -0.0324302539229393,
          -0.0324302539229393,
          -0.0324302539229393,
          -0.0324302539229393,
          -0.0324302539229393,
          -0.0324302539229393,
          -0.0324302539229393,
          -0.0324302539229393,
          -0.0324302539229393,
          -0.0324302539229393,
          -0.0324302539229393,
          -0.0324302539229393,
          -0.0324302539229393,
          -0.0324302539229393,
          -0.0324302539229393,
          -0.0324302539229393,
          -0.0324302539229393,
          -0.0324302539229393,
          -0.0324302539229393,
          -0.0324302539229393,
          -0.0324302539229393,
          -0.0324302539229393,
          -0.0324302539229393,
          -0.0324302539229393,
          -0.0324302539229393,
          -0.0324302539229393,
          -0.0324302539229393,
          -0.0324302539229393,
          -0.0324302539229393,
          -0.0324302539229393,
          -0.0324302539229393,
          -0.0324302539229393,
          -0.0324302539229393,
          -0.0324302539229393,
          -0.0324302539229393,
          -0.0324302539229393,
          -0.0324302539229393,
          -0.0324302539229393,
          -0.0324302539229393,
          -0.0324302539229393,
          -0.0324302539229393,
          -0.0324302539229393,
          -0.0324302539229393,
          -0.0324302539229393,
          -0.0324302539229393,
          -0.0324302539229393,
          -0.0324302539229393,
          -0.0324302539229393,
          -0.0324302539229393,
          -0.0324302539229393,
          -0.0324302539229393
         ]
        },
        {
         "marker": {
          "color": [
           "blue",
           "blue",
           "blue",
           "blue",
           "blue",
           "blue",
           "blue",
           "blue",
           "blue",
           "blue",
           "blue",
           "blue",
           "blue",
           "blue",
           "blue",
           "blue",
           "blue",
           "blue",
           "blue",
           "blue",
           "blue",
           "blue",
           "blue",
           "blue",
           "blue",
           "blue",
           "blue",
           "blue",
           "blue",
           "blue",
           "blue",
           "blue",
           "blue",
           "blue",
           "blue",
           "blue",
           "blue",
           "blue",
           "blue",
           "blue",
           "blue",
           "blue",
           "blue",
           "blue",
           "blue",
           "blue",
           "blue",
           "blue",
           "blue",
           "blue",
           "blue",
           "blue",
           "blue",
           "blue",
           "blue",
           "blue",
           "blue",
           "blue",
           "blue",
           "blue",
           "blue",
           "blue",
           "blue",
           "blue",
           "blue",
           "blue",
           "blue",
           "blue",
           "blue",
           "blue",
           "blue",
           "blue",
           "blue",
           "blue",
           "blue",
           "blue",
           "blue",
           "blue",
           "blue",
           "blue",
           "blue",
           "blue",
           "blue",
           "blue",
           "blue",
           "blue",
           "blue",
           "blue",
           "blue",
           "blue",
           "blue",
           "blue",
           "blue",
           "blue",
           "blue",
           "blue",
           "blue",
           "blue",
           "blue",
           "blue",
           "blue",
           "blue",
           "blue",
           "blue",
           "blue",
           "blue",
           "blue",
           "blue",
           "blue",
           "blue",
           "blue",
           "blue",
           "blue",
           "blue",
           "blue",
           "blue",
           "blue",
           "blue",
           "blue",
           "blue",
           "blue",
           "blue",
           "blue",
           "blue",
           "blue",
           "blue",
           "blue",
           "blue",
           "blue",
           "blue",
           "blue"
          ],
          "size": 6
         },
         "mode": "markers",
         "name": "trajectory 3",
         "type": "scatter3d",
         "x": [
          0.021412922272624257,
          0.027254907675718698,
          0.029710154776161346,
          0.03071192259032074,
          0.0335291938676292,
          0.03435269815910402,
          0.03666350597578827,
          0.03865297490794006,
          0.03828219303924385,
          0.03683235568988863,
          0.032871114817147884,
          0.36810765395004097,
          1.254274315927809,
          4.890652842615431,
          7.402913756464308,
          8.096688456629103,
          8.309799380396193,
          8.345632739160841,
          8.182644076441115,
          7.079117007349318,
          6.84466189870674,
          4.720463938806837,
          4.396720595453566,
          3.1565472556098157,
          2.8666932059271986,
          1.3629416895850355,
          0.6411156726821119,
          -0.07420255264204201,
          -0.1925039367930239,
          -0.2463692056195086,
          -0.22802292575996574,
          -0.2265400218025988,
          -0.22393976917427239,
          -0.2235427724377459,
          -0.2237573640600985,
          -0.22673318555515465,
          -0.22689782848518547,
          -0.22701949646633324,
          -0.22839739194076714,
          -0.2304835545079058,
          -0.2304835545079058,
          -0.2304835545079058,
          -0.2304835545079058,
          -0.2304835545079058,
          -0.2304835545079058,
          -0.2304835545079058,
          -0.2304835545079058,
          -0.2304835545079058,
          -0.2304835545079058,
          -0.2304835545079058,
          -0.2304835545079058,
          -0.2304835545079058,
          -0.2304835545079058,
          -0.2304835545079058,
          -0.2304835545079058,
          -0.2304835545079058,
          -0.2304835545079058,
          -0.2304835545079058,
          -0.2304835545079058,
          -0.2304835545079058,
          -0.2304835545079058,
          -0.2304835545079058,
          -0.2304835545079058,
          -0.2304835545079058,
          -0.2304835545079058,
          -0.2304835545079058,
          -0.2304835545079058,
          -0.2304835545079058,
          -0.2304835545079058,
          -0.2304835545079058,
          -0.2304835545079058,
          -0.2304835545079058,
          -0.2304835545079058,
          -0.2304835545079058,
          -0.2304835545079058,
          -0.2304835545079058,
          -0.2304835545079058,
          -0.2304835545079058,
          -0.2304835545079058,
          -0.2304835545079058,
          -0.2304835545079058,
          -0.2304835545079058,
          -0.2304835545079058,
          -0.2304835545079058,
          -0.2304835545079058,
          -0.2304835545079058,
          -0.2304835545079058,
          -0.2304835545079058,
          -0.2304835545079058,
          -0.2304835545079058,
          -0.2304835545079058,
          -0.2304835545079058,
          -0.2304835545079058,
          -0.2304835545079058,
          -0.2304835545079058,
          -0.2304835545079058,
          -0.2304835545079058,
          -0.2304835545079058,
          -0.2304835545079058,
          -0.2304835545079058,
          -0.2304835545079058,
          -0.2304835545079058,
          -0.2304835545079058,
          -0.2304835545079058,
          -0.2304835545079058,
          -0.2304835545079058,
          -0.2304835545079058,
          -0.2304835545079058,
          -0.2304835545079058,
          -0.2304835545079058,
          -0.2304835545079058,
          -0.2304835545079058,
          -0.2304835545079058,
          -0.2304835545079058,
          -0.2304835545079058,
          -0.2304835545079058,
          -0.2304835545079058,
          -0.2304835545079058,
          -0.2304835545079058,
          -0.2304835545079058,
          -0.2304835545079058,
          -0.2304835545079058,
          -0.2304835545079058,
          -0.2304835545079058,
          -0.2304835545079058,
          -0.2304835545079058,
          -0.2304835545079058,
          -0.2304835545079058,
          -0.2304835545079058,
          -0.2304835545079058,
          -0.2304835545079058
         ],
         "y": [
          -4.154888540931267,
          -4.147309724782814,
          -4.143246371374686,
          -4.141936520190199,
          -4.138168185093661,
          -4.137070530169864,
          -4.133456963190098,
          -4.130120315664668,
          -4.130405076855083,
          -3.721850930788775,
          0.46583098258707967,
          4.073095024487714,
          4.187218368909101,
          4.127696693799238,
          3.997102440259199,
          3.819258392712812,
          2.9358312496158883,
          0.25432843055460896,
          -3.505730985739489,
          -4.440966486075182,
          -4.455024301150103,
          -4.4743100694205955,
          -4.47056838784482,
          -4.444967239239474,
          -4.4360856107261375,
          -4.364638387301226,
          -4.307222797611018,
          -4.204498048016091,
          -4.167680262663622,
          -4.181889076792856,
          -4.20448168281581,
          -4.2075956231739715,
          -4.210616245010157,
          -4.206298365333338,
          -4.20644816298153,
          -4.185869078227539,
          -4.1823137878265575,
          -4.1760044759896,
          -4.176936944090982,
          -4.178256214671989,
          -4.178256214671989,
          -4.178256214671989,
          -4.178256214671989,
          -4.178256214671989,
          -4.178256214671989,
          -4.178256214671989,
          -4.178256214671989,
          -4.178256214671989,
          -4.178256214671989,
          -4.178256214671989,
          -4.178256214671989,
          -4.178256214671989,
          -4.178256214671989,
          -4.178256214671989,
          -4.178256214671989,
          -4.178256214671989,
          -4.178256214671989,
          -4.178256214671989,
          -4.178256214671989,
          -4.178256214671989,
          -4.178256214671989,
          -4.178256214671989,
          -4.178256214671989,
          -4.178256214671989,
          -4.178256214671989,
          -4.178256214671989,
          -4.178256214671989,
          -4.178256214671989,
          -4.178256214671989,
          -4.178256214671989,
          -4.178256214671989,
          -4.178256214671989,
          -4.178256214671989,
          -4.178256214671989,
          -4.178256214671989,
          -4.178256214671989,
          -4.178256214671989,
          -4.178256214671989,
          -4.178256214671989,
          -4.178256214671989,
          -4.178256214671989,
          -4.178256214671989,
          -4.178256214671989,
          -4.178256214671989,
          -4.178256214671989,
          -4.178256214671989,
          -4.178256214671989,
          -4.178256214671989,
          -4.178256214671989,
          -4.178256214671989,
          -4.178256214671989,
          -4.178256214671989,
          -4.178256214671989,
          -4.178256214671989,
          -4.178256214671989,
          -4.178256214671989,
          -4.178256214671989,
          -4.178256214671989,
          -4.178256214671989,
          -4.178256214671989,
          -4.178256214671989,
          -4.178256214671989,
          -4.178256214671989,
          -4.178256214671989,
          -4.178256214671989,
          -4.178256214671989,
          -4.178256214671989,
          -4.178256214671989,
          -4.178256214671989,
          -4.178256214671989,
          -4.178256214671989,
          -4.178256214671989,
          -4.178256214671989,
          -4.178256214671989,
          -4.178256214671989,
          -4.178256214671989,
          -4.178256214671989,
          -4.178256214671989,
          -4.178256214671989,
          -4.178256214671989,
          -4.178256214671989,
          -4.178256214671989,
          -4.178256214671989,
          -4.178256214671989,
          -4.178256214671989,
          -4.178256214671989,
          -4.178256214671989,
          -4.178256214671989,
          -4.178256214671989,
          -4.178256214671989,
          -4.178256214671989
         ],
         "z": [
          0.27315226197242737,
          1.335350513458252,
          1.8716709613800049,
          2.0561981201171875,
          2.595564126968384,
          2.76696515083313,
          3.5262510776519775,
          4.308277606964111,
          4.633089065551758,
          4.934114456176758,
          4.977929592132568,
          4.991785049438477,
          4.995097637176514,
          5.001753330230713,
          4.999310493469238,
          5.002132892608643,
          5.004896640777588,
          5.015807628631592,
          5.005003929138184,
          5.004870891571045,
          5.005509853363037,
          5.012819766998291,
          5.013067245483398,
          5.010669708251953,
          5.009723663330078,
          5.004942893981934,
          5.003271579742432,
          4.870398998260498,
          4.66745662689209,
          3.290168046951294,
          2.7909493446350098,
          2.6906189918518066,
          2.092047929763794,
          1.5908935070037842,
          1.5408217906951904,
          0.4404759109020233,
          0.29047849774360657,
          -0.033227741718292236,
          -0.03822498768568039,
          -0.03467368334531784,
          -0.03467368334531784,
          -0.03467368334531784,
          -0.03467368334531784,
          -0.03467368334531784,
          -0.03467368334531784,
          -0.03467368334531784,
          -0.03467368334531784,
          -0.03467368334531784,
          -0.03467368334531784,
          -0.03467368334531784,
          -0.03467368334531784,
          -0.03467368334531784,
          -0.03467368334531784,
          -0.03467368334531784,
          -0.03467368334531784,
          -0.03467368334531784,
          -0.03467368334531784,
          -0.03467368334531784,
          -0.03467368334531784,
          -0.03467368334531784,
          -0.03467368334531784,
          -0.03467368334531784,
          -0.03467368334531784,
          -0.03467368334531784,
          -0.03467368334531784,
          -0.03467368334531784,
          -0.03467368334531784,
          -0.03467368334531784,
          -0.03467368334531784,
          -0.03467368334531784,
          -0.03467368334531784,
          -0.03467368334531784,
          -0.03467368334531784,
          -0.03467368334531784,
          -0.03467368334531784,
          -0.03467368334531784,
          -0.03467368334531784,
          -0.03467368334531784,
          -0.03467368334531784,
          -0.03467368334531784,
          -0.03467368334531784,
          -0.03467368334531784,
          -0.03467368334531784,
          -0.03467368334531784,
          -0.03467368334531784,
          -0.03467368334531784,
          -0.03467368334531784,
          -0.03467368334531784,
          -0.03467368334531784,
          -0.03467368334531784,
          -0.03467368334531784,
          -0.03467368334531784,
          -0.03467368334531784,
          -0.03467368334531784,
          -0.03467368334531784,
          -0.03467368334531784,
          -0.03467368334531784,
          -0.03467368334531784,
          -0.03467368334531784,
          -0.03467368334531784,
          -0.03467368334531784,
          -0.03467368334531784,
          -0.03467368334531784,
          -0.03467368334531784,
          -0.03467368334531784,
          -0.03467368334531784,
          -0.03467368334531784,
          -0.03467368334531784,
          -0.03467368334531784,
          -0.03467368334531784,
          -0.03467368334531784,
          -0.03467368334531784,
          -0.03467368334531784,
          -0.03467368334531784,
          -0.03467368334531784,
          -0.03467368334531784,
          -0.03467368334531784,
          -0.03467368334531784,
          -0.03467368334531784,
          -0.03467368334531784,
          -0.03467368334531784,
          -0.03467368334531784,
          -0.03467368334531784,
          -0.03467368334531784,
          -0.03467368334531784,
          -0.03467368334531784,
          -0.03467368334531784,
          -0.03467368334531784,
          -0.03467368334531784,
          -0.03467368334531784,
          -0.03467368334531784
         ]
        }
       ],
       "layout": {
        "height": 600,
        "scene": {
         "xaxis": {
          "range": [
           -3.4560428802797625,
           15.321493846129169
          ],
          "title": {
           "text": "x"
          }
         },
         "yaxis": {
          "range": [
           -7.210544028516223,
           11.943093685153164
          ],
          "title": {
           "text": "y"
          }
         },
         "zaxis": {
          "range": [
           -0.05,
           8.048227198421955
          ],
          "title": {
           "text": "z"
          }
         }
        },
        "showlegend": true,
        "template": {
         "data": {
          "bar": [
           {
            "error_x": {
             "color": "#2a3f5f"
            },
            "error_y": {
             "color": "#2a3f5f"
            },
            "marker": {
             "line": {
              "color": "#E5ECF6",
              "width": 0.5
             },
             "pattern": {
              "fillmode": "overlay",
              "size": 10,
              "solidity": 0.2
             }
            },
            "type": "bar"
           }
          ],
          "barpolar": [
           {
            "marker": {
             "line": {
              "color": "#E5ECF6",
              "width": 0.5
             },
             "pattern": {
              "fillmode": "overlay",
              "size": 10,
              "solidity": 0.2
             }
            },
            "type": "barpolar"
           }
          ],
          "carpet": [
           {
            "aaxis": {
             "endlinecolor": "#2a3f5f",
             "gridcolor": "white",
             "linecolor": "white",
             "minorgridcolor": "white",
             "startlinecolor": "#2a3f5f"
            },
            "baxis": {
             "endlinecolor": "#2a3f5f",
             "gridcolor": "white",
             "linecolor": "white",
             "minorgridcolor": "white",
             "startlinecolor": "#2a3f5f"
            },
            "type": "carpet"
           }
          ],
          "choropleth": [
           {
            "colorbar": {
             "outlinewidth": 0,
             "ticks": ""
            },
            "type": "choropleth"
           }
          ],
          "contour": [
           {
            "colorbar": {
             "outlinewidth": 0,
             "ticks": ""
            },
            "colorscale": [
             [
              0,
              "#0d0887"
             ],
             [
              0.1111111111111111,
              "#46039f"
             ],
             [
              0.2222222222222222,
              "#7201a8"
             ],
             [
              0.3333333333333333,
              "#9c179e"
             ],
             [
              0.4444444444444444,
              "#bd3786"
             ],
             [
              0.5555555555555556,
              "#d8576b"
             ],
             [
              0.6666666666666666,
              "#ed7953"
             ],
             [
              0.7777777777777778,
              "#fb9f3a"
             ],
             [
              0.8888888888888888,
              "#fdca26"
             ],
             [
              1,
              "#f0f921"
             ]
            ],
            "type": "contour"
           }
          ],
          "contourcarpet": [
           {
            "colorbar": {
             "outlinewidth": 0,
             "ticks": ""
            },
            "type": "contourcarpet"
           }
          ],
          "heatmap": [
           {
            "colorbar": {
             "outlinewidth": 0,
             "ticks": ""
            },
            "colorscale": [
             [
              0,
              "#0d0887"
             ],
             [
              0.1111111111111111,
              "#46039f"
             ],
             [
              0.2222222222222222,
              "#7201a8"
             ],
             [
              0.3333333333333333,
              "#9c179e"
             ],
             [
              0.4444444444444444,
              "#bd3786"
             ],
             [
              0.5555555555555556,
              "#d8576b"
             ],
             [
              0.6666666666666666,
              "#ed7953"
             ],
             [
              0.7777777777777778,
              "#fb9f3a"
             ],
             [
              0.8888888888888888,
              "#fdca26"
             ],
             [
              1,
              "#f0f921"
             ]
            ],
            "type": "heatmap"
           }
          ],
          "histogram": [
           {
            "marker": {
             "pattern": {
              "fillmode": "overlay",
              "size": 10,
              "solidity": 0.2
             }
            },
            "type": "histogram"
           }
          ],
          "histogram2d": [
           {
            "colorbar": {
             "outlinewidth": 0,
             "ticks": ""
            },
            "colorscale": [
             [
              0,
              "#0d0887"
             ],
             [
              0.1111111111111111,
              "#46039f"
             ],
             [
              0.2222222222222222,
              "#7201a8"
             ],
             [
              0.3333333333333333,
              "#9c179e"
             ],
             [
              0.4444444444444444,
              "#bd3786"
             ],
             [
              0.5555555555555556,
              "#d8576b"
             ],
             [
              0.6666666666666666,
              "#ed7953"
             ],
             [
              0.7777777777777778,
              "#fb9f3a"
             ],
             [
              0.8888888888888888,
              "#fdca26"
             ],
             [
              1,
              "#f0f921"
             ]
            ],
            "type": "histogram2d"
           }
          ],
          "histogram2dcontour": [
           {
            "colorbar": {
             "outlinewidth": 0,
             "ticks": ""
            },
            "colorscale": [
             [
              0,
              "#0d0887"
             ],
             [
              0.1111111111111111,
              "#46039f"
             ],
             [
              0.2222222222222222,
              "#7201a8"
             ],
             [
              0.3333333333333333,
              "#9c179e"
             ],
             [
              0.4444444444444444,
              "#bd3786"
             ],
             [
              0.5555555555555556,
              "#d8576b"
             ],
             [
              0.6666666666666666,
              "#ed7953"
             ],
             [
              0.7777777777777778,
              "#fb9f3a"
             ],
             [
              0.8888888888888888,
              "#fdca26"
             ],
             [
              1,
              "#f0f921"
             ]
            ],
            "type": "histogram2dcontour"
           }
          ],
          "mesh3d": [
           {
            "colorbar": {
             "outlinewidth": 0,
             "ticks": ""
            },
            "type": "mesh3d"
           }
          ],
          "parcoords": [
           {
            "line": {
             "colorbar": {
              "outlinewidth": 0,
              "ticks": ""
             }
            },
            "type": "parcoords"
           }
          ],
          "pie": [
           {
            "automargin": true,
            "type": "pie"
           }
          ],
          "scatter": [
           {
            "fillpattern": {
             "fillmode": "overlay",
             "size": 10,
             "solidity": 0.2
            },
            "type": "scatter"
           }
          ],
          "scatter3d": [
           {
            "line": {
             "colorbar": {
              "outlinewidth": 0,
              "ticks": ""
             }
            },
            "marker": {
             "colorbar": {
              "outlinewidth": 0,
              "ticks": ""
             }
            },
            "type": "scatter3d"
           }
          ],
          "scattercarpet": [
           {
            "marker": {
             "colorbar": {
              "outlinewidth": 0,
              "ticks": ""
             }
            },
            "type": "scattercarpet"
           }
          ],
          "scattergeo": [
           {
            "marker": {
             "colorbar": {
              "outlinewidth": 0,
              "ticks": ""
             }
            },
            "type": "scattergeo"
           }
          ],
          "scattergl": [
           {
            "marker": {
             "colorbar": {
              "outlinewidth": 0,
              "ticks": ""
             }
            },
            "type": "scattergl"
           }
          ],
          "scattermap": [
           {
            "marker": {
             "colorbar": {
              "outlinewidth": 0,
              "ticks": ""
             }
            },
            "type": "scattermap"
           }
          ],
          "scattermapbox": [
           {
            "marker": {
             "colorbar": {
              "outlinewidth": 0,
              "ticks": ""
             }
            },
            "type": "scattermapbox"
           }
          ],
          "scatterpolar": [
           {
            "marker": {
             "colorbar": {
              "outlinewidth": 0,
              "ticks": ""
             }
            },
            "type": "scatterpolar"
           }
          ],
          "scatterpolargl": [
           {
            "marker": {
             "colorbar": {
              "outlinewidth": 0,
              "ticks": ""
             }
            },
            "type": "scatterpolargl"
           }
          ],
          "scatterternary": [
           {
            "marker": {
             "colorbar": {
              "outlinewidth": 0,
              "ticks": ""
             }
            },
            "type": "scatterternary"
           }
          ],
          "surface": [
           {
            "colorbar": {
             "outlinewidth": 0,
             "ticks": ""
            },
            "colorscale": [
             [
              0,
              "#0d0887"
             ],
             [
              0.1111111111111111,
              "#46039f"
             ],
             [
              0.2222222222222222,
              "#7201a8"
             ],
             [
              0.3333333333333333,
              "#9c179e"
             ],
             [
              0.4444444444444444,
              "#bd3786"
             ],
             [
              0.5555555555555556,
              "#d8576b"
             ],
             [
              0.6666666666666666,
              "#ed7953"
             ],
             [
              0.7777777777777778,
              "#fb9f3a"
             ],
             [
              0.8888888888888888,
              "#fdca26"
             ],
             [
              1,
              "#f0f921"
             ]
            ],
            "type": "surface"
           }
          ],
          "table": [
           {
            "cells": {
             "fill": {
              "color": "#EBF0F8"
             },
             "line": {
              "color": "white"
             }
            },
            "header": {
             "fill": {
              "color": "#C8D4E3"
             },
             "line": {
              "color": "white"
             }
            },
            "type": "table"
           }
          ]
         },
         "layout": {
          "annotationdefaults": {
           "arrowcolor": "#2a3f5f",
           "arrowhead": 0,
           "arrowwidth": 1
          },
          "autotypenumbers": "strict",
          "coloraxis": {
           "colorbar": {
            "outlinewidth": 0,
            "ticks": ""
           }
          },
          "colorscale": {
           "diverging": [
            [
             0,
             "#8e0152"
            ],
            [
             0.1,
             "#c51b7d"
            ],
            [
             0.2,
             "#de77ae"
            ],
            [
             0.3,
             "#f1b6da"
            ],
            [
             0.4,
             "#fde0ef"
            ],
            [
             0.5,
             "#f7f7f7"
            ],
            [
             0.6,
             "#e6f5d0"
            ],
            [
             0.7,
             "#b8e186"
            ],
            [
             0.8,
             "#7fbc41"
            ],
            [
             0.9,
             "#4d9221"
            ],
            [
             1,
             "#276419"
            ]
           ],
           "sequential": [
            [
             0,
             "#0d0887"
            ],
            [
             0.1111111111111111,
             "#46039f"
            ],
            [
             0.2222222222222222,
             "#7201a8"
            ],
            [
             0.3333333333333333,
             "#9c179e"
            ],
            [
             0.4444444444444444,
             "#bd3786"
            ],
            [
             0.5555555555555556,
             "#d8576b"
            ],
            [
             0.6666666666666666,
             "#ed7953"
            ],
            [
             0.7777777777777778,
             "#fb9f3a"
            ],
            [
             0.8888888888888888,
             "#fdca26"
            ],
            [
             1,
             "#f0f921"
            ]
           ],
           "sequentialminus": [
            [
             0,
             "#0d0887"
            ],
            [
             0.1111111111111111,
             "#46039f"
            ],
            [
             0.2222222222222222,
             "#7201a8"
            ],
            [
             0.3333333333333333,
             "#9c179e"
            ],
            [
             0.4444444444444444,
             "#bd3786"
            ],
            [
             0.5555555555555556,
             "#d8576b"
            ],
            [
             0.6666666666666666,
             "#ed7953"
            ],
            [
             0.7777777777777778,
             "#fb9f3a"
            ],
            [
             0.8888888888888888,
             "#fdca26"
            ],
            [
             1,
             "#f0f921"
            ]
           ]
          },
          "colorway": [
           "#636efa",
           "#EF553B",
           "#00cc96",
           "#ab63fa",
           "#FFA15A",
           "#19d3f3",
           "#FF6692",
           "#B6E880",
           "#FF97FF",
           "#FECB52"
          ],
          "font": {
           "color": "#2a3f5f"
          },
          "geo": {
           "bgcolor": "white",
           "lakecolor": "white",
           "landcolor": "#E5ECF6",
           "showlakes": true,
           "showland": true,
           "subunitcolor": "white"
          },
          "hoverlabel": {
           "align": "left"
          },
          "hovermode": "closest",
          "mapbox": {
           "style": "light"
          },
          "paper_bgcolor": "white",
          "plot_bgcolor": "#E5ECF6",
          "polar": {
           "angularaxis": {
            "gridcolor": "white",
            "linecolor": "white",
            "ticks": ""
           },
           "bgcolor": "#E5ECF6",
           "radialaxis": {
            "gridcolor": "white",
            "linecolor": "white",
            "ticks": ""
           }
          },
          "scene": {
           "xaxis": {
            "backgroundcolor": "#E5ECF6",
            "gridcolor": "white",
            "gridwidth": 2,
            "linecolor": "white",
            "showbackground": true,
            "ticks": "",
            "zerolinecolor": "white"
           },
           "yaxis": {
            "backgroundcolor": "#E5ECF6",
            "gridcolor": "white",
            "gridwidth": 2,
            "linecolor": "white",
            "showbackground": true,
            "ticks": "",
            "zerolinecolor": "white"
           },
           "zaxis": {
            "backgroundcolor": "#E5ECF6",
            "gridcolor": "white",
            "gridwidth": 2,
            "linecolor": "white",
            "showbackground": true,
            "ticks": "",
            "zerolinecolor": "white"
           }
          },
          "shapedefaults": {
           "line": {
            "color": "#2a3f5f"
           }
          },
          "ternary": {
           "aaxis": {
            "gridcolor": "white",
            "linecolor": "white",
            "ticks": ""
           },
           "baxis": {
            "gridcolor": "white",
            "linecolor": "white",
            "ticks": ""
           },
           "bgcolor": "#E5ECF6",
           "caxis": {
            "gridcolor": "white",
            "linecolor": "white",
            "ticks": ""
           }
          },
          "title": {
           "x": 0.05
          },
          "xaxis": {
           "automargin": true,
           "gridcolor": "white",
           "linecolor": "white",
           "ticks": "",
           "title": {
            "standoff": 15
           },
           "zerolinecolor": "white",
           "zerolinewidth": 2
          },
          "yaxis": {
           "automargin": true,
           "gridcolor": "white",
           "linecolor": "white",
           "ticks": "",
           "title": {
            "standoff": 15
           },
           "zerolinecolor": "white",
           "zerolinewidth": 2
          }
         }
        },
        "title": {
         "text": "Simulation Waypoints",
         "x": 0.5,
         "xanchor": "center"
        },
        "width": 800
       }
      }
     },
     "metadata": {},
     "output_type": "display_data"
    }
   ],
   "source": [
    "import numpy as np\n",
    "from numpy.typing import NDArray\n",
    "from typing import List\n",
    "blue_paths:List[NDArray[np.float64]] = []\n",
    "for sysid,path in blue_gcs.paths.items():\n",
    "    blue_paths.append(np.array([x for x in path if x is not None]))\n",
    "\n",
    "markers = [ConfigGazebo.create_trajectory_from_array(array=path,color=Color.BLUE) for path in blue_paths]\n",
    "Gazebo.plot_3d_interactive(markers=markers,title=\"Simulation Waypoints\",frames=(0.2, 0.2, 0.6),ground=-0.05)"
   ]
  },
  {
   "cell_type": "code",
   "execution_count": null,
   "metadata": {},
   "outputs": [
    {
     "data": {
      "application/vnd.plotly.v1+json": {
       "config": {
        "plotlyServerURL": "https://plot.ly"
       },
       "data": [
        {
         "marker": {
          "color": [
           "green",
           "green",
           "green",
           "green",
           "green",
           "green",
           "green",
           "green",
           "green",
           "green",
           "green",
           "green",
           "green",
           "green",
           "green",
           "green",
           "green",
           "green",
           "green",
           "green",
           "green",
           "green",
           "green",
           "green",
           "green",
           "green",
           "green",
           "green",
           "green",
           "green",
           "green",
           "green",
           "green",
           "green",
           "green",
           "green",
           "green",
           "green",
           "green",
           "green",
           "green",
           "green",
           "green",
           "green",
           "green",
           "green",
           "green",
           "green",
           "green",
           "green",
           "green",
           "green",
           "green",
           "green",
           "green",
           "green",
           "green",
           "green",
           "green",
           "green",
           "green",
           "green",
           "green",
           "green",
           "green",
           "green",
           "green",
           "green",
           "green",
           "green",
           "green",
           "green",
           "green",
           "green",
           "green",
           "green",
           "green",
           "green",
           "green",
           "green",
           "green",
           "green",
           "green",
           "green",
           "green",
           "green",
           "green",
           "green",
           "green",
           "green",
           "green",
           "green",
           "green",
           "green",
           "green",
           "green",
           "green",
           "green",
           "green",
           "green",
           "green",
           "green",
           "green",
           "green",
           "green",
           "green",
           "green",
           "green",
           "green",
           "green",
           "green",
           "green",
           "green",
           "green",
           "green",
           "green",
           "green",
           "green",
           "green",
           "green",
           "green",
           "green",
           "green",
           "green",
           "green",
           "green",
           "green",
           "green",
           "green",
           "green",
           "green"
          ],
          "size": 6
         },
         "mode": "markers",
         "name": "trajectory 0",
         "type": "scatter3d",
         "x": [
          -2.6004230247702003,
          -2.5969551785740554,
          -2.594661226764649,
          -2.589408779785365,
          -2.591596674442619,
          -2.5913011136356294,
          -2.5979580611813367,
          -2.590017985821098,
          -2.5828633963021934,
          -1.8045425995144546,
          -0.2535696013722122,
          1.9599614159312546,
          2.825387002631694,
          5.596237661048442,
          5.691581250831157,
          5.587790967628032,
          5.4729475990977585,
          3.3723502175059616,
          1.7646737114634812,
          0.5252196804728806,
          -2.851950181916684,
          -2.88405337770316,
          -2.8996622844490707,
          -2.8977302892956436,
          -2.884944765165776,
          -2.8532943113598526,
          -2.8527631296667755,
          -2.8547174765619934,
          -2.8555846049341858,
          -2.855254618719548,
          -2.855254618719548,
          -2.855254618719548,
          -2.855254618719548,
          -2.855254618719548,
          -2.855254618719548,
          -2.855254618719548,
          -2.855254618719548,
          -2.855254618719548,
          -2.855254618719548,
          -2.855254618719548,
          -2.855254618719548,
          -2.855254618719548,
          -2.855254618719548,
          -2.855254618719548,
          -2.855254618719548,
          -2.855254618719548,
          -2.855254618719548,
          -2.855254618719548,
          -2.855254618719548,
          -2.855254618719548,
          -2.855254618719548,
          -2.855254618719548,
          -2.855254618719548,
          -2.855254618719548,
          -2.855254618719548,
          -2.855254618719548,
          -2.855254618719548,
          -2.855254618719548,
          -2.855254618719548,
          -2.855254618719548,
          -2.855254618719548,
          -2.855254618719548,
          -2.855254618719548,
          -2.855254618719548,
          -2.855254618719548,
          -2.855254618719548,
          -2.855254618719548,
          -2.855254618719548,
          -2.855254618719548,
          -2.855254618719548,
          -2.855254618719548,
          -2.855254618719548,
          -2.855254618719548,
          -2.855254618719548,
          -2.855254618719548,
          -2.855254618719548,
          -2.855254618719548,
          -2.855254618719548,
          -2.855254618719548,
          -2.855254618719548,
          -2.855254618719548,
          -2.855254618719548,
          -2.855254618719548,
          -2.855254618719548,
          -2.855254618719548,
          -2.855254618719548,
          -2.855254618719548,
          -2.855254618719548,
          -2.855254618719548,
          -2.855254618719548,
          -2.855254618719548,
          -2.855254618719548,
          -2.855254618719548,
          -2.855254618719548,
          -2.855254618719548,
          -2.855254618719548,
          -2.855254618719548,
          -2.855254618719548,
          -2.855254618719548,
          -2.855254618719548,
          -2.855254618719548,
          -2.855254618719548,
          -2.855254618719548,
          -2.855254618719548,
          -2.855254618719548,
          -2.855254618719548,
          -2.855254618719548,
          -2.855254618719548,
          -2.855254618719548,
          -2.855254618719548,
          -2.855254618719548,
          -2.855254618719548,
          -2.855254618719548,
          -2.855254618719548,
          -2.855254618719548,
          -2.855254618719548,
          -2.855254618719548,
          -2.855254618719548,
          -2.855254618719548,
          -2.855254618719548,
          -2.855254618719548,
          -2.855254618719548,
          -2.855254618719548,
          -2.855254618719548,
          -2.855254618719548,
          -2.855254618719548,
          -2.855254618719548,
          -2.855254618719548,
          -2.855254618719548,
          -2.855254618719548,
          -2.855254618719548
         ],
         "y": [
          0.5758317752760123,
          0.5806353359502028,
          0.5835950306635569,
          0.5904886803608607,
          1.156028122363634,
          1.7727938598972033,
          4.237470836101122,
          6.065935105739183,
          6.846559495387621,
          8.878333062587327,
          8.914538354335374,
          8.860091180263108,
          8.827735871730393,
          8.342996091304368,
          7.656494111476488,
          1.7266193336826037,
          0.6294085874241064,
          0.24282017415577872,
          0.24985438650662406,
          0.27397981351429923,
          0.5684557804041761,
          0.5810359033774803,
          0.5869748990070294,
          0.5691222378071616,
          0.5532073413040708,
          0.5080960548501681,
          0.5188971950691412,
          0.5265119268577765,
          0.5299045040291022,
          0.5458583503049086,
          0.5458583503049086,
          0.5458583503049086,
          0.5458583503049086,
          0.5458583503049086,
          0.5458583503049086,
          0.5458583503049086,
          0.5458583503049086,
          0.5458583503049086,
          0.5458583503049086,
          0.5458583503049086,
          0.5458583503049086,
          0.5458583503049086,
          0.5458583503049086,
          0.5458583503049086,
          0.5458583503049086,
          0.5458583503049086,
          0.5458583503049086,
          0.5458583503049086,
          0.5458583503049086,
          0.5458583503049086,
          0.5458583503049086,
          0.5458583503049086,
          0.5458583503049086,
          0.5458583503049086,
          0.5458583503049086,
          0.5458583503049086,
          0.5458583503049086,
          0.5458583503049086,
          0.5458583503049086,
          0.5458583503049086,
          0.5458583503049086,
          0.5458583503049086,
          0.5458583503049086,
          0.5458583503049086,
          0.5458583503049086,
          0.5458583503049086,
          0.5458583503049086,
          0.5458583503049086,
          0.5458583503049086,
          0.5458583503049086,
          0.5458583503049086,
          0.5458583503049086,
          0.5458583503049086,
          0.5458583503049086,
          0.5458583503049086,
          0.5458583503049086,
          0.5458583503049086,
          0.5458583503049086,
          0.5458583503049086,
          0.5458583503049086,
          0.5458583503049086,
          0.5458583503049086,
          0.5458583503049086,
          0.5458583503049086,
          0.5458583503049086,
          0.5458583503049086,
          0.5458583503049086,
          0.5458583503049086,
          0.5458583503049086,
          0.5458583503049086,
          0.5458583503049086,
          0.5458583503049086,
          0.5458583503049086,
          0.5458583503049086,
          0.5458583503049086,
          0.5458583503049086,
          0.5458583503049086,
          0.5458583503049086,
          0.5458583503049086,
          0.5458583503049086,
          0.5458583503049086,
          0.5458583503049086,
          0.5458583503049086,
          0.5458583503049086,
          0.5458583503049086,
          0.5458583503049086,
          0.5458583503049086,
          0.5458583503049086,
          0.5458583503049086,
          0.5458583503049086,
          0.5458583503049086,
          0.5458583503049086,
          0.5458583503049086,
          0.5458583503049086,
          0.5458583503049086,
          0.5458583503049086,
          0.5458583503049086,
          0.5458583503049086,
          0.5458583503049086,
          0.5458583503049086,
          0.5458583503049086,
          0.5458583503049086,
          0.5458583503049086,
          0.5458583503049086,
          0.5458583503049086,
          0.5458583503049086,
          0.5458583503049086,
          0.5458583503049086,
          0.5458583503049086,
          0.5458583503049086,
          0.5458583503049086
         ],
         "z": [
          1.3381931781768799,
          1.8632954359054565,
          2.2297422885894775,
          3.2395379543304443,
          4.951809883117676,
          4.971555233001709,
          4.982134819030762,
          4.977550029754639,
          4.976695537567139,
          4.995016098022461,
          4.999738693237305,
          5.002873420715332,
          5.000822067260742,
          5.002381324768066,
          5.004793643951416,
          5.005019187927246,
          5.003547191619873,
          5.007931232452393,
          5.012402057647705,
          5.010298728942871,
          4.558043479919434,
          4.393974304199219,
          4.235764980316162,
          3.7356650829315186,
          3.48903226852417,
          2.141288995742798,
          1.3907076120376587,
          0.9399013519287109,
          0.7401516437530518,
          -0.031246721744537354,
          -0.031246721744537354,
          -0.031246721744537354,
          -0.031246721744537354,
          -0.031246721744537354,
          -0.031246721744537354,
          -0.031246721744537354,
          -0.031246721744537354,
          -0.031246721744537354,
          -0.031246721744537354,
          -0.031246721744537354,
          -0.031246721744537354,
          -0.031246721744537354,
          -0.031246721744537354,
          -0.031246721744537354,
          -0.031246721744537354,
          -0.031246721744537354,
          -0.031246721744537354,
          -0.031246721744537354,
          -0.031246721744537354,
          -0.031246721744537354,
          -0.031246721744537354,
          -0.031246721744537354,
          -0.031246721744537354,
          -0.031246721744537354,
          -0.031246721744537354,
          -0.031246721744537354,
          -0.031246721744537354,
          -0.031246721744537354,
          -0.031246721744537354,
          -0.031246721744537354,
          -0.031246721744537354,
          -0.031246721744537354,
          -0.031246721744537354,
          -0.031246721744537354,
          -0.031246721744537354,
          -0.031246721744537354,
          -0.031246721744537354,
          -0.031246721744537354,
          -0.031246721744537354,
          -0.031246721744537354,
          -0.031246721744537354,
          -0.031246721744537354,
          -0.031246721744537354,
          -0.031246721744537354,
          -0.031246721744537354,
          -0.031246721744537354,
          -0.031246721744537354,
          -0.031246721744537354,
          -0.031246721744537354,
          -0.031246721744537354,
          -0.031246721744537354,
          -0.031246721744537354,
          -0.031246721744537354,
          -0.031246721744537354,
          -0.031246721744537354,
          -0.031246721744537354,
          -0.031246721744537354,
          -0.031246721744537354,
          -0.031246721744537354,
          -0.031246721744537354,
          -0.031246721744537354,
          -0.031246721744537354,
          -0.031246721744537354,
          -0.031246721744537354,
          -0.031246721744537354,
          -0.031246721744537354,
          -0.031246721744537354,
          -0.031246721744537354,
          -0.031246721744537354,
          -0.031246721744537354,
          -0.031246721744537354,
          -0.031246721744537354,
          -0.031246721744537354,
          -0.031246721744537354,
          -0.031246721744537354,
          -0.031246721744537354,
          -0.031246721744537354,
          -0.031246721744537354,
          -0.031246721744537354,
          -0.031246721744537354,
          -0.031246721744537354,
          -0.031246721744537354,
          -0.031246721744537354,
          -0.031246721744537354,
          -0.031246721744537354,
          -0.031246721744537354,
          -0.031246721744537354,
          -0.031246721744537354,
          -0.031246721744537354,
          -0.031246721744537354,
          -0.031246721744537354,
          -0.031246721744537354,
          -0.031246721744537354,
          -0.031246721744537354,
          -0.031246721744537354,
          -0.031246721744537354,
          -0.031246721744537354,
          -0.031246721744537354,
          -0.031246721744537354,
          -0.031246721744537354,
          -0.031246721744537354
         ]
        },
        {
         "marker": {
          "color": [
           "green",
           "green",
           "green",
           "green",
           "green",
           "green",
           "green",
           "green",
           "green",
           "green",
           "green",
           "green",
           "green",
           "green",
           "green",
           "green",
           "green",
           "green",
           "green",
           "green",
           "green",
           "green",
           "green",
           "green",
           "green",
           "green",
           "green",
           "green",
           "green",
           "green",
           "green",
           "green",
           "green",
           "green",
           "green",
           "green",
           "green",
           "green",
           "green",
           "green",
           "green",
           "green",
           "green",
           "green",
           "green",
           "green",
           "green",
           "green",
           "green",
           "green",
           "green",
           "green",
           "green",
           "green",
           "green",
           "green",
           "green",
           "green",
           "green",
           "green",
           "green",
           "green",
           "green",
           "green",
           "green",
           "green",
           "green",
           "green",
           "green",
           "green",
           "green",
           "green",
           "green",
           "green",
           "green",
           "green",
           "green",
           "green",
           "green",
           "green",
           "green",
           "green",
           "green",
           "green",
           "green",
           "green",
           "green",
           "green",
           "green",
           "green",
           "green",
           "green",
           "green",
           "green",
           "green",
           "green",
           "green",
           "green",
           "green",
           "green",
           "green",
           "green",
           "green",
           "green",
           "green",
           "green",
           "green",
           "green",
           "green",
           "green",
           "green",
           "green",
           "green",
           "green",
           "green",
           "green",
           "green",
           "green",
           "green",
           "green",
           "green",
           "green",
           "green",
           "green",
           "green",
           "green",
           "green",
           "green",
           "green",
           "green",
           "green"
          ],
          "size": 6
         },
         "mode": "markers",
         "name": "trajectory 1",
         "type": "scatter3d",
         "x": [
          0.7697582533421281,
          0.7711000144319895,
          0.7718414937682736,
          0.7814897799236986,
          0.785305667419574,
          0.7853184293328139,
          0.7850177928177926,
          0.7790502400441381,
          0.7861904639123294,
          0.816116495740256,
          0.9318957764027926,
          1.1129421728967044,
          2.5223216551659915,
          8.535597636115394,
          8.71513254822477,
          8.785542323005043,
          8.893907381903968,
          8.936024500739418,
          9.050617052924476,
          9.089844538581215,
          9.04895479859098,
          8.909705950629554,
          8.775606943976722,
          8.71219475449308,
          8.625084711921058,
          8.376412703406654,
          7.5878136891244266,
          7.329908205878577,
          4.811996294867835,
          1.7232542175172183,
          1.5507831114648196,
          0.5939753788827273,
          0.44410277785047025,
          0.4481620031712863,
          0.4579728680966708,
          0.46877674640401334,
          0.499162926089606,
          0.4994707244752261,
          0.49984918416722746,
          0.498360319745383,
          0.49831433476193876,
          0.4918278592942569,
          0.49252305806859464,
          0.49019186080678434,
          0.48533053578122587,
          0.48533053578122587,
          0.48533053578122587,
          0.48533053578122587,
          0.48533053578122587,
          0.48533053578122587,
          0.48533053578122587,
          0.48533053578122587,
          0.48533053578122587,
          0.48533053578122587,
          0.48533053578122587,
          0.48533053578122587,
          0.48533053578122587,
          0.48533053578122587,
          0.48533053578122587,
          0.48533053578122587,
          0.48533053578122587,
          0.48533053578122587,
          0.48533053578122587,
          0.48533053578122587,
          0.48533053578122587,
          0.48533053578122587,
          0.48533053578122587,
          0.48533053578122587,
          0.48533053578122587,
          0.48533053578122587,
          0.48533053578122587,
          0.48533053578122587,
          0.48533053578122587,
          0.48533053578122587,
          0.48533053578122587,
          0.48533053578122587,
          0.48533053578122587,
          0.48533053578122587,
          0.48533053578122587,
          0.48533053578122587,
          0.48533053578122587,
          0.48533053578122587,
          0.48533053578122587,
          0.48533053578122587,
          0.48533053578122587,
          0.48533053578122587,
          0.48533053578122587,
          0.48533053578122587,
          0.48533053578122587,
          0.48533053578122587,
          0.48533053578122587,
          0.48533053578122587,
          0.48533053578122587,
          0.48533053578122587,
          0.48533053578122587,
          0.48533053578122587,
          0.48533053578122587,
          0.48533053578122587,
          0.48533053578122587,
          0.48533053578122587,
          0.48533053578122587,
          0.48533053578122587,
          0.48533053578122587,
          0.48533053578122587,
          0.48533053578122587,
          0.48533053578122587,
          0.48533053578122587,
          0.48533053578122587,
          0.48533053578122587,
          0.48533053578122587,
          0.48533053578122587,
          0.48533053578122587,
          0.48533053578122587,
          0.48533053578122587,
          0.48533053578122587,
          0.48533053578122587,
          0.48533053578122587,
          0.48533053578122587,
          0.48533053578122587,
          0.48533053578122587,
          0.48533053578122587,
          0.48533053578122587,
          0.48533053578122587,
          0.48533053578122587,
          0.48533053578122587,
          0.48533053578122587,
          0.48533053578122587,
          0.48533053578122587,
          0.48533053578122587,
          0.48533053578122587,
          0.48533053578122587
         ],
         "y": [
          -1.7531608213370982,
          -1.751334350852141,
          -1.7502948123196456,
          -1.7361034651452991,
          -1.7300488104278537,
          -1.706016463523576,
          -1.4466522646302673,
          2.238586990798047,
          3.747235147917798,
          6.085663645232251,
          6.384118883574536,
          6.473584024870923,
          6.602443544829419,
          6.367583124602368,
          6.340908853972485,
          6.315632669890454,
          6.215794889891675,
          6.132778494322827,
          5.547457544768384,
          4.847464411223462,
          1.1210716652517823,
          -1.2697160256261322,
          -1.828291387593219,
          -1.8773437601680252,
          -1.9191010010594818,
          -1.9855494511479828,
          -2.0625022960061523,
          -2.0717811000699493,
          -2.066215963398883,
          -1.9316367072219345,
          -1.917095766698787,
          -1.7784779419357273,
          -1.7316003342325184,
          -1.7408957596103045,
          -1.7544033264907393,
          -1.7697442614639494,
          -1.808909693097541,
          -1.8069983025247547,
          -1.8044771601612064,
          -1.7974105862135383,
          -1.796264780049989,
          -1.782534578179786,
          -1.7784568735564443,
          -1.773610054811308,
          -1.7757479970509502,
          -1.7757479970509502,
          -1.7757479970509502,
          -1.7757479970509502,
          -1.7757479970509502,
          -1.7757479970509502,
          -1.7757479970509502,
          -1.7757479970509502,
          -1.7757479970509502,
          -1.7757479970509502,
          -1.7757479970509502,
          -1.7757479970509502,
          -1.7757479970509502,
          -1.7757479970509502,
          -1.7757479970509502,
          -1.7757479970509502,
          -1.7757479970509502,
          -1.7757479970509502,
          -1.7757479970509502,
          -1.7757479970509502,
          -1.7757479970509502,
          -1.7757479970509502,
          -1.7757479970509502,
          -1.7757479970509502,
          -1.7757479970509502,
          -1.7757479970509502,
          -1.7757479970509502,
          -1.7757479970509502,
          -1.7757479970509502,
          -1.7757479970509502,
          -1.7757479970509502,
          -1.7757479970509502,
          -1.7757479970509502,
          -1.7757479970509502,
          -1.7757479970509502,
          -1.7757479970509502,
          -1.7757479970509502,
          -1.7757479970509502,
          -1.7757479970509502,
          -1.7757479970509502,
          -1.7757479970509502,
          -1.7757479970509502,
          -1.7757479970509502,
          -1.7757479970509502,
          -1.7757479970509502,
          -1.7757479970509502,
          -1.7757479970509502,
          -1.7757479970509502,
          -1.7757479970509502,
          -1.7757479970509502,
          -1.7757479970509502,
          -1.7757479970509502,
          -1.7757479970509502,
          -1.7757479970509502,
          -1.7757479970509502,
          -1.7757479970509502,
          -1.7757479970509502,
          -1.7757479970509502,
          -1.7757479970509502,
          -1.7757479970509502,
          -1.7757479970509502,
          -1.7757479970509502,
          -1.7757479970509502,
          -1.7757479970509502,
          -1.7757479970509502,
          -1.7757479970509502,
          -1.7757479970509502,
          -1.7757479970509502,
          -1.7757479970509502,
          -1.7757479970509502,
          -1.7757479970509502,
          -1.7757479970509502,
          -1.7757479970509502,
          -1.7757479970509502,
          -1.7757479970509502,
          -1.7757479970509502,
          -1.7757479970509502,
          -1.7757479970509502,
          -1.7757479970509502,
          -1.7757479970509502,
          -1.7757479970509502,
          -1.7757479970509502,
          -1.7757479970509502,
          -1.7757479970509502,
          -1.7757479970509502,
          -1.7757479970509502,
          -1.7757479970509502
         ],
         "z": [
          0.34998053312301636,
          0.7019045948982239,
          0.821052610874176,
          2.9097583293914795,
          4.618288993835449,
          4.79140043258667,
          4.917082786560059,
          4.9832987785339355,
          4.977993488311768,
          4.986576557159424,
          4.991518020629883,
          4.992684364318848,
          4.997325420379639,
          5.001064777374268,
          5.00203800201416,
          5.002328395843506,
          5.002264976501465,
          5.002099514007568,
          5.003637313842773,
          5.0063796043396,
          5.011299133300781,
          5.002959728240967,
          5.002989292144775,
          5.002745628356934,
          5.002477645874023,
          5.0027174949646,
          5.0050482749938965,
          5.005735397338867,
          5.012137413024902,
          5.0033416748046875,
          5.003006458282471,
          4.823770523071289,
          4.082283973693848,
          3.88328218460083,
          3.686260223388672,
          3.4885447025299072,
          2.1402945518493652,
          1.9402239322662354,
          1.7402355670928955,
          1.2902657985687256,
          1.2402958869934082,
          0.49106812477111816,
          0.3414330780506134,
          -0.013691899366676807,
          -0.010950949043035507,
          -0.010950949043035507,
          -0.010950949043035507,
          -0.010950949043035507,
          -0.010950949043035507,
          -0.010950949043035507,
          -0.010950949043035507,
          -0.010950949043035507,
          -0.010950949043035507,
          -0.010950949043035507,
          -0.010950949043035507,
          -0.010950949043035507,
          -0.010950949043035507,
          -0.010950949043035507,
          -0.010950949043035507,
          -0.010950949043035507,
          -0.010950949043035507,
          -0.010950949043035507,
          -0.010950949043035507,
          -0.010950949043035507,
          -0.010950949043035507,
          -0.010950949043035507,
          -0.010950949043035507,
          -0.010950949043035507,
          -0.010950949043035507,
          -0.010950949043035507,
          -0.010950949043035507,
          -0.010950949043035507,
          -0.010950949043035507,
          -0.010950949043035507,
          -0.010950949043035507,
          -0.010950949043035507,
          -0.010950949043035507,
          -0.010950949043035507,
          -0.010950949043035507,
          -0.010950949043035507,
          -0.010950949043035507,
          -0.010950949043035507,
          -0.010950949043035507,
          -0.010950949043035507,
          -0.010950949043035507,
          -0.010950949043035507,
          -0.010950949043035507,
          -0.010950949043035507,
          -0.010950949043035507,
          -0.010950949043035507,
          -0.010950949043035507,
          -0.010950949043035507,
          -0.010950949043035507,
          -0.010950949043035507,
          -0.010950949043035507,
          -0.010950949043035507,
          -0.010950949043035507,
          -0.010950949043035507,
          -0.010950949043035507,
          -0.010950949043035507,
          -0.010950949043035507,
          -0.010950949043035507,
          -0.010950949043035507,
          -0.010950949043035507,
          -0.010950949043035507,
          -0.010950949043035507,
          -0.010950949043035507,
          -0.010950949043035507,
          -0.010950949043035507,
          -0.010950949043035507,
          -0.010950949043035507,
          -0.010950949043035507,
          -0.010950949043035507,
          -0.010950949043035507,
          -0.010950949043035507,
          -0.010950949043035507,
          -0.010950949043035507,
          -0.010950949043035507,
          -0.010950949043035507,
          -0.010950949043035507,
          -0.010950949043035507,
          -0.010950949043035507,
          -0.010950949043035507,
          -0.010950949043035507,
          -0.010950949043035507,
          -0.010950949043035507,
          -0.010950949043035507,
          -0.010950949043035507,
          -0.010950949043035507,
          -0.010950949043035507,
          -0.010950949043035507
         ]
        },
        {
         "marker": {
          "color": [
           "green",
           "green",
           "green",
           "green",
           "green",
           "green",
           "green",
           "green",
           "green",
           "green",
           "green",
           "green",
           "green",
           "green",
           "green",
           "green",
           "green",
           "green",
           "green",
           "green",
           "green",
           "green",
           "green",
           "green",
           "green",
           "green",
           "green",
           "green",
           "green",
           "green",
           "green",
           "green",
           "green",
           "green",
           "green",
           "green",
           "green",
           "green",
           "green",
           "green",
           "green",
           "green",
           "green",
           "green",
           "green",
           "green",
           "green",
           "green",
           "green",
           "green",
           "green",
           "green",
           "green",
           "green",
           "green",
           "green",
           "green",
           "green",
           "green",
           "green",
           "green",
           "green",
           "green",
           "green",
           "green",
           "green",
           "green",
           "green",
           "green",
           "green",
           "green",
           "green",
           "green",
           "green",
           "green",
           "green",
           "green",
           "green",
           "green",
           "green",
           "green",
           "green",
           "green",
           "green",
           "green",
           "green",
           "green",
           "green",
           "green",
           "green",
           "green",
           "green",
           "green",
           "green",
           "green",
           "green",
           "green",
           "green",
           "green",
           "green",
           "green",
           "green",
           "green",
           "green",
           "green",
           "green",
           "green",
           "green",
           "green",
           "green",
           "green",
           "green",
           "green",
           "green",
           "green",
           "green",
           "green",
           "green",
           "green",
           "green",
           "green",
           "green",
           "green",
           "green",
           "green",
           "green",
           "green",
           "green",
           "green",
           "green",
           "green"
          ],
          "size": 6
         },
         "mode": "markers",
         "name": "trajectory 2",
         "type": "scatter3d",
         "x": [
          3.2468451774204414,
          3.2482992969909947,
          3.2510762797193866,
          3.2556937779756527,
          3.2575808964194994,
          3.257657509808455,
          3.263080048886154,
          3.2760254606129866,
          3.2783683254840117,
          3.2808830976011496,
          3.4043949372591715,
          3.866165203553651,
          9.678516966802095,
          11.25804148386142,
          11.511577708226655,
          11.436984164220307,
          11.423280817967866,
          11.184693915349458,
          11.097583872777436,
          10.986052615148042,
          8.586042983037446,
          6.971448761922334,
          4.801316482526277,
          4.583749753934358,
          4.195753378373597,
          2.9530837065996867,
          2.9187873728098612,
          2.9252106971564036,
          2.9274942107023936,
          2.9359621829809885,
          2.9509236342730265,
          2.955398989421342,
          2.964121175509904,
          2.9693291015448313,
          2.970859480601762,
          2.9683822221579295,
          2.9673973448099833,
          2.9668846554579478,
          2.96601833174846,
          2.965673280459855,
          2.96588764856479,
          2.966548813086961,
          2.9662697143378,
          2.9601911432566386,
          2.957212818366502,
          2.957212818366502,
          2.957212818366502,
          2.957212818366502,
          2.957212818366502,
          2.957212818366502,
          2.957212818366502,
          2.957212818366502,
          2.957212818366502,
          2.957212818366502,
          2.957212818366502,
          2.957212818366502,
          2.957212818366502,
          2.957212818366502,
          2.957212818366502,
          2.957212818366502,
          2.957212818366502,
          2.957212818366502,
          2.957212818366502,
          2.957212818366502,
          2.957212818366502,
          2.957212818366502,
          2.957212818366502,
          2.957212818366502,
          2.957212818366502,
          2.957212818366502,
          2.957212818366502,
          2.957212818366502,
          2.957212818366502,
          2.957212818366502,
          2.957212818366502,
          2.957212818366502,
          2.957212818366502,
          2.957212818366502,
          2.957212818366502,
          2.957212818366502,
          2.957212818366502,
          2.957212818366502,
          2.957212818366502,
          2.957212818366502,
          2.957212818366502,
          2.957212818366502,
          2.957212818366502,
          2.957212818366502,
          2.957212818366502,
          2.957212818366502,
          2.957212818366502,
          2.957212818366502,
          2.957212818366502,
          2.957212818366502,
          2.957212818366502,
          2.957212818366502,
          2.957212818366502,
          2.957212818366502,
          2.957212818366502,
          2.957212818366502,
          2.957212818366502,
          2.957212818366502,
          2.957212818366502,
          2.957212818366502,
          2.957212818366502,
          2.957212818366502,
          2.957212818366502,
          2.957212818366502,
          2.957212818366502,
          2.957212818366502,
          2.957212818366502,
          2.957212818366502,
          2.957212818366502,
          2.957212818366502,
          2.957212818366502,
          2.957212818366502,
          2.957212818366502,
          2.957212818366502,
          2.957212818366502,
          2.957212818366502,
          2.957212818366502,
          2.957212818366502,
          2.957212818366502,
          2.957212818366502,
          2.957212818366502,
          2.957212818366502,
          2.957212818366502,
          2.957212818366502,
          2.957212818366502,
          2.957212818366502,
          2.957212818366502
         ],
         "y": [
          -3.3289346026818736,
          -3.3263953423689587,
          -3.3218284773271067,
          -3.3161584392752035,
          -3.3124067124541385,
          -3.2057587832774503,
          2.696347770038666,
          3.7910118668709414,
          3.963724192920746,
          4.120500144306244,
          4.8019819825325625,
          4.95515161449057,
          4.879035052600922,
          4.7334957688484804,
          -0.7432238489951475,
          -2.184321346935211,
          -2.37518251245874,
          -3.459480661209999,
          -3.5012379021014555,
          -3.53693366354364,
          -3.662499520238815,
          -3.642066869195877,
          -3.5567737550105436,
          -3.5426429391469343,
          -3.513773608263908,
          -3.3216956930797084,
          -3.3117920525934084,
          -3.329407842140971,
          -3.3326304642347155,
          -3.3442303484867795,
          -3.365872751232563,
          -3.371766991224466,
          -3.3837111622657163,
          -3.391643758174358,
          -3.379547487255512,
          -3.373210217114864,
          -3.372628535386501,
          -3.3716117844547613,
          -3.3709405877258165,
          -3.3697748289074285,
          -3.3575922988917215,
          -3.3564011913354976,
          -3.3542297382469757,
          -3.3568874851431234,
          -3.358236006703554,
          -3.358236006703554,
          -3.358236006703554,
          -3.358236006703554,
          -3.358236006703554,
          -3.358236006703554,
          -3.358236006703554,
          -3.358236006703554,
          -3.358236006703554,
          -3.358236006703554,
          -3.358236006703554,
          -3.358236006703554,
          -3.358236006703554,
          -3.358236006703554,
          -3.358236006703554,
          -3.358236006703554,
          -3.358236006703554,
          -3.358236006703554,
          -3.358236006703554,
          -3.358236006703554,
          -3.358236006703554,
          -3.358236006703554,
          -3.358236006703554,
          -3.358236006703554,
          -3.358236006703554,
          -3.358236006703554,
          -3.358236006703554,
          -3.358236006703554,
          -3.358236006703554,
          -3.358236006703554,
          -3.358236006703554,
          -3.358236006703554,
          -3.358236006703554,
          -3.358236006703554,
          -3.358236006703554,
          -3.358236006703554,
          -3.358236006703554,
          -3.358236006703554,
          -3.358236006703554,
          -3.358236006703554,
          -3.358236006703554,
          -3.358236006703554,
          -3.358236006703554,
          -3.358236006703554,
          -3.358236006703554,
          -3.358236006703554,
          -3.358236006703554,
          -3.358236006703554,
          -3.358236006703554,
          -3.358236006703554,
          -3.358236006703554,
          -3.358236006703554,
          -3.358236006703554,
          -3.358236006703554,
          -3.358236006703554,
          -3.358236006703554,
          -3.358236006703554,
          -3.358236006703554,
          -3.358236006703554,
          -3.358236006703554,
          -3.358236006703554,
          -3.358236006703554,
          -3.358236006703554,
          -3.358236006703554,
          -3.358236006703554,
          -3.358236006703554,
          -3.358236006703554,
          -3.358236006703554,
          -3.358236006703554,
          -3.358236006703554,
          -3.358236006703554,
          -3.358236006703554,
          -3.358236006703554,
          -3.358236006703554,
          -3.358236006703554,
          -3.358236006703554,
          -3.358236006703554,
          -3.358236006703554,
          -3.358236006703554,
          -3.358236006703554,
          -3.358236006703554,
          -3.358236006703554,
          -3.358236006703554,
          -3.358236006703554,
          -3.358236006703554,
          -3.358236006703554,
          -3.358236006703554
         ],
         "z": [
          1.2294846773147583,
          1.5412238836288452,
          2.23299241065979,
          3.631474494934082,
          4.4631242752075195,
          4.867232799530029,
          4.976860046386719,
          4.979516506195068,
          4.980633735656738,
          4.9818878173828125,
          4.991518020629883,
          4.994048595428467,
          4.998563289642334,
          5.002328395843506,
          5.010178565979004,
          5.004295825958252,
          5.003750324249268,
          5.002745628356934,
          5.002477645874023,
          5.0024800300598145,
          5.010257244110107,
          5.011669635772705,
          5.004964828491211,
          5.004317283630371,
          5.0033416748046875,
          4.502424240112305,
          4.183794021606445,
          3.7846992015838623,
          3.7355079650878906,
          3.587557077407837,
          3.2899582386016846,
          3.1903882026672363,
          2.940633773803711,
          2.6411592960357666,
          1.2902657985687256,
          0.9399967193603516,
          0.8900184035301208,
          0.8400992751121521,
          0.7902255654335022,
          0.7403724789619446,
          0.19196777045726776,
          0.14214612543582916,
          -0.01593964546918869,
          -0.011993050575256348,
          -0.01075359620153904,
          -0.01075359620153904,
          -0.01075359620153904,
          -0.01075359620153904,
          -0.01075359620153904,
          -0.01075359620153904,
          -0.01075359620153904,
          -0.01075359620153904,
          -0.01075359620153904,
          -0.01075359620153904,
          -0.01075359620153904,
          -0.01075359620153904,
          -0.01075359620153904,
          -0.01075359620153904,
          -0.01075359620153904,
          -0.01075359620153904,
          -0.01075359620153904,
          -0.01075359620153904,
          -0.01075359620153904,
          -0.01075359620153904,
          -0.01075359620153904,
          -0.01075359620153904,
          -0.01075359620153904,
          -0.01075359620153904,
          -0.01075359620153904,
          -0.01075359620153904,
          -0.01075359620153904,
          -0.01075359620153904,
          -0.01075359620153904,
          -0.01075359620153904,
          -0.01075359620153904,
          -0.01075359620153904,
          -0.01075359620153904,
          -0.01075359620153904,
          -0.01075359620153904,
          -0.01075359620153904,
          -0.01075359620153904,
          -0.01075359620153904,
          -0.01075359620153904,
          -0.01075359620153904,
          -0.01075359620153904,
          -0.01075359620153904,
          -0.01075359620153904,
          -0.01075359620153904,
          -0.01075359620153904,
          -0.01075359620153904,
          -0.01075359620153904,
          -0.01075359620153904,
          -0.01075359620153904,
          -0.01075359620153904,
          -0.01075359620153904,
          -0.01075359620153904,
          -0.01075359620153904,
          -0.01075359620153904,
          -0.01075359620153904,
          -0.01075359620153904,
          -0.01075359620153904,
          -0.01075359620153904,
          -0.01075359620153904,
          -0.01075359620153904,
          -0.01075359620153904,
          -0.01075359620153904,
          -0.01075359620153904,
          -0.01075359620153904,
          -0.01075359620153904,
          -0.01075359620153904,
          -0.01075359620153904,
          -0.01075359620153904,
          -0.01075359620153904,
          -0.01075359620153904,
          -0.01075359620153904,
          -0.01075359620153904,
          -0.01075359620153904,
          -0.01075359620153904,
          -0.01075359620153904,
          -0.01075359620153904,
          -0.01075359620153904,
          -0.01075359620153904,
          -0.01075359620153904,
          -0.01075359620153904,
          -0.01075359620153904,
          -0.01075359620153904,
          -0.01075359620153904,
          -0.01075359620153904,
          -0.01075359620153904,
          -0.01075359620153904,
          -0.01075359620153904
         ]
        },
        {
         "marker": {
          "color": [
           "green",
           "green",
           "green",
           "green",
           "green",
           "green",
           "green",
           "green",
           "green",
           "green",
           "green",
           "green",
           "green",
           "green",
           "green",
           "green",
           "green",
           "green",
           "green",
           "green",
           "green",
           "green",
           "green",
           "green",
           "green",
           "green",
           "green",
           "green",
           "green",
           "green",
           "green",
           "green",
           "green",
           "green",
           "green",
           "green",
           "green",
           "green",
           "green",
           "green",
           "green",
           "green",
           "green",
           "green",
           "green",
           "green",
           "green",
           "green",
           "green",
           "green",
           "green",
           "green",
           "green",
           "green",
           "green",
           "green",
           "green",
           "green",
           "green",
           "green",
           "green",
           "green",
           "green",
           "green",
           "green",
           "green",
           "green",
           "green",
           "green",
           "green",
           "green",
           "green",
           "green",
           "green",
           "green",
           "green",
           "green",
           "green",
           "green",
           "green",
           "green",
           "green",
           "green",
           "green",
           "green",
           "green",
           "green",
           "green",
           "green",
           "green",
           "green",
           "green",
           "green",
           "green",
           "green",
           "green",
           "green",
           "green",
           "green",
           "green",
           "green",
           "green",
           "green",
           "green",
           "green",
           "green",
           "green",
           "green",
           "green",
           "green",
           "green",
           "green",
           "green",
           "green",
           "green",
           "green",
           "green",
           "green",
           "green",
           "green",
           "green",
           "green",
           "green",
           "green",
           "green",
           "green",
           "green",
           "green",
           "green",
           "green",
           "green"
          ],
          "size": 6
         },
         "mode": "markers",
         "name": "trajectory 3",
         "type": "scatter3d",
         "x": [
          0.09655879383395494,
          0.10030289869651732,
          0.1059926556412929,
          0.11277078129247364,
          0.11189081836388048,
          0.1212472658594006,
          0.12884862571850952,
          0.43917141333118614,
          0.5664843417693728,
          1.5716758169223422,
          3.733648339657938,
          4.0508613981296175,
          6.532490531354105,
          7.143941680340921,
          7.474772731213724,
          7.8634269632388705,
          7.959969321637308,
          8.396636763959085,
          8.425164023785745,
          8.415785590558206,
          8.329293052106058,
          8.249186316876566,
          8.149158278851663,
          7.95749024525181,
          6.919523517041361,
          3.2286889947940463,
          2.131048242001688,
          1.4364505209018343,
          0.16625245138899025,
          0.10150416046277222,
          -0.06752619668945137,
          -0.17186640724643532,
          -0.18005367145046058,
          -0.1870976291607267,
          -0.19793312773212257,
          -0.17546470984920326,
          -0.17075275406345192,
          -0.15321721658214393,
          -0.14502007290824714,
          -0.14467663094505134,
          -0.14479691311820808,
          -0.14473623558982673,
          -0.14694360420211616,
          -0.14799288436874214,
          -0.1513261549185163,
          -0.15225704535945717,
          -0.1518689744184858,
          -0.15150447711452308,
          -0.15150447711452308,
          -0.15150447711452308,
          -0.15150447711452308,
          -0.15150447711452308,
          -0.15150447711452308,
          -0.15150447711452308,
          -0.15150447711452308,
          -0.15150447711452308,
          -0.15150447711452308,
          -0.15150447711452308,
          -0.15150447711452308,
          -0.15150447711452308,
          -0.15150447711452308,
          -0.15150447711452308,
          -0.15150447711452308,
          -0.15150447711452308,
          -0.15150447711452308,
          -0.15150447711452308,
          -0.15150447711452308,
          -0.15150447711452308,
          -0.15150447711452308,
          -0.15150447711452308,
          -0.15150447711452308,
          -0.15150447711452308,
          -0.15150447711452308,
          -0.15150447711452308,
          -0.16091754064067665,
          -0.16091754064067665,
          -0.16091754064067665,
          -0.16091754064067665,
          -0.16091754064067665,
          -0.16091754064067665,
          -0.16091754064067665,
          -0.16091754064067665,
          -0.16091754064067665,
          -0.16091754064067665,
          -0.16091754064067665,
          -0.16091754064067665,
          -0.16091754064067665,
          -0.16091754064067665,
          -0.16091754064067665,
          -0.16091754064067665,
          -0.16091754064067665,
          -0.16091754064067665,
          -0.16091754064067665,
          -0.16091754064067665,
          -0.16091754064067665,
          -0.16091754064067665,
          -0.16091754064067665,
          -0.16091754064067665,
          -0.16091754064067665,
          -0.16091754064067665,
          -0.16091754064067665,
          -0.16091754064067665,
          -0.16091754064067665,
          -0.16091754064067665,
          -0.16091754064067665,
          -0.16091754064067665,
          -0.16091754064067665,
          -0.16091754064067665,
          -0.16091754064067665,
          -0.16091754064067665,
          -0.16091754064067665,
          -0.16091754064067665,
          -0.16091754064067665,
          -0.16091754064067665,
          -0.16091754064067665,
          -0.16091754064067665,
          -0.16091754064067665,
          -0.16091754064067665,
          -0.16091754064067665,
          -0.16091754064067665,
          -0.16091754064067665,
          -0.16091754064067665,
          -0.16091754064067665,
          -0.16091754064067665,
          -0.16091754064067665,
          -0.16091754064067665,
          -0.16091754064067665,
          -0.16091754064067665,
          -0.16091754064067665,
          -0.16091754064067665,
          -0.16091754064067665
         ],
         "y": [
          -0.6878487824710859,
          -0.6829371533954358,
          -0.6751901011580443,
          -0.6648160207683063,
          -0.657374921035192,
          5.823652648586609,
          6.439898395199158,
          7.535777949947693,
          7.570401096004822,
          7.659413242000916,
          7.632227801937439,
          7.623394870418885,
          7.524793529171326,
          7.487775706905701,
          7.46392717327533,
          7.431206607479432,
          7.420256518978455,
          6.38945379223285,
          5.001028442043641,
          4.033594989437439,
          1.1332972284739995,
          -0.04631636176647902,
          -0.6865568853813997,
          -0.8407210919672465,
          -0.9918094638401485,
          -0.9812153044754481,
          -0.9384941521698451,
          -0.898367143016479,
          -0.7725075322801089,
          -0.7609245169574237,
          -0.7192137211227632,
          -0.6798275744208908,
          -0.6761405940765357,
          -0.6734622742647147,
          -0.6782838318163371,
          -0.7097731202507234,
          -0.716696674715898,
          -0.7417002532297587,
          -0.747821683775804,
          -0.7449459943586803,
          -0.7445434990936732,
          -0.7435649584645248,
          -0.7402286927813506,
          -0.7389358643108821,
          -0.7338184293025947,
          -0.731125685166738,
          -0.7140992160552955,
          -0.7109029356056666,
          -0.7109029356056666,
          -0.7109029356056666,
          -0.7109029356056666,
          -0.7109029356056666,
          -0.7109029356056666,
          -0.7109029356056666,
          -0.7109029356056666,
          -0.7109029356056666,
          -0.7109029356056666,
          -0.7109029356056666,
          -0.7109029356056666,
          -0.7109029356056666,
          -0.7109029356056666,
          -0.7109029356056666,
          -0.7109029356056666,
          -0.7109029356056666,
          -0.7109029356056666,
          -0.7109029356056666,
          -0.7109029356056666,
          -0.7109029356056666,
          -0.7109029356056666,
          -0.7109029356056666,
          -0.7109029356056666,
          -0.7109029356056666,
          -0.7109029356056666,
          -0.7109029356056666,
          -0.7171716082507587,
          -0.7171716082507587,
          -0.7171716082507587,
          -0.7171716082507587,
          -0.7171716082507587,
          -0.7171716082507587,
          -0.7171716082507587,
          -0.7171716082507587,
          -0.7171716082507587,
          -0.7171716082507587,
          -0.7171716082507587,
          -0.7171716082507587,
          -0.7171716082507587,
          -0.7171716082507587,
          -0.7171716082507587,
          -0.7171716082507587,
          -0.7171716082507587,
          -0.7171716082507587,
          -0.7171716082507587,
          -0.7171716082507587,
          -0.7171716082507587,
          -0.7171716082507587,
          -0.7171716082507587,
          -0.7171716082507587,
          -0.7171716082507587,
          -0.7171716082507587,
          -0.7171716082507587,
          -0.7171716082507587,
          -0.7171716082507587,
          -0.7171716082507587,
          -0.7171716082507587,
          -0.7171716082507587,
          -0.7171716082507587,
          -0.7171716082507587,
          -0.7171716082507587,
          -0.7171716082507587,
          -0.7171716082507587,
          -0.7171716082507587,
          -0.7171716082507587,
          -0.7171716082507587,
          -0.7171716082507587,
          -0.7171716082507587,
          -0.7171716082507587,
          -0.7171716082507587,
          -0.7171716082507587,
          -0.7171716082507587,
          -0.7171716082507587,
          -0.7171716082507587,
          -0.7171716082507587,
          -0.7171716082507587,
          -0.7171716082507587,
          -0.7171716082507587,
          -0.7171716082507587,
          -0.7171716082507587,
          -0.7171716082507587,
          -0.7171716082507587,
          -0.7171716082507587
         ],
         "z": [
          0.6265127658843994,
          1.1663260459899902,
          2.22800612449646,
          4.107437610626221,
          4.747783660888672,
          4.975810527801514,
          4.97817850112915,
          4.9914631843566895,
          4.992167949676514,
          4.995567798614502,
          5.002562522888184,
          5.002692222595215,
          4.99878454208374,
          4.998616695404053,
          4.999328136444092,
          5.001062870025635,
          5.001619338989258,
          5.004862308502197,
          5.010944366455078,
          5.0151591300964355,
          5.008747577667236,
          5.004827976226807,
          5.004015922546387,
          5.003117084503174,
          5.005631923675537,
          5.010794639587402,
          5.007105350494385,
          5.004973888397217,
          4.973583698272705,
          4.94670295715332,
          4.7733683586120605,
          4.447999000549316,
          4.394033432006836,
          4.340750694274902,
          3.8348045349121094,
          3.389725923538208,
          3.2903754711151123,
          2.791696071624756,
          2.1917948722839355,
          1.9417824745178223,
          1.8916897773742676,
          1.8415849208831787,
          1.5906623601913452,
          1.4905043840408325,
          1.1903287172317505,
          1.0407437086105347,
          0.19050388038158417,
          -0.012551174499094486,
          -0.012551174499094486,
          -0.012551174499094486,
          -0.012551174499094486,
          -0.012551174499094486,
          -0.012551174499094486,
          -0.012551174499094486,
          -0.012551174499094486,
          -0.012551174499094486,
          -0.012551174499094486,
          -0.012551174499094486,
          -0.012551174499094486,
          -0.012551174499094486,
          -0.012551174499094486,
          -0.012551174499094486,
          -0.012551174499094486,
          -0.012551174499094486,
          -0.012551174499094486,
          -0.012551174499094486,
          -0.012551174499094486,
          -0.012551174499094486,
          -0.012551174499094486,
          -0.012551174499094486,
          -0.012551174499094486,
          -0.012551174499094486,
          -0.012551174499094486,
          -0.012551174499094486,
          -0.008859345689415932,
          -0.008859345689415932,
          -0.008859345689415932,
          -0.008859345689415932,
          -0.008859345689415932,
          -0.008859345689415932,
          -0.008859345689415932,
          -0.008859345689415932,
          -0.008859345689415932,
          -0.008859345689415932,
          -0.008859345689415932,
          -0.008859345689415932,
          -0.008859345689415932,
          -0.008859345689415932,
          -0.008859345689415932,
          -0.008859345689415932,
          -0.008859345689415932,
          -0.008859345689415932,
          -0.008859345689415932,
          -0.008859345689415932,
          -0.008859345689415932,
          -0.008859345689415932,
          -0.008859345689415932,
          -0.008859345689415932,
          -0.008859345689415932,
          -0.008859345689415932,
          -0.008859345689415932,
          -0.008859345689415932,
          -0.008859345689415932,
          -0.008859345689415932,
          -0.008859345689415932,
          -0.008859345689415932,
          -0.008859345689415932,
          -0.008859345689415932,
          -0.008859345689415932,
          -0.008859345689415932,
          -0.008859345689415932,
          -0.008859345689415932,
          -0.008859345689415932,
          -0.008859345689415932,
          -0.008859345689415932,
          -0.008859345689415932,
          -0.008859345689415932,
          -0.008859345689415932,
          -0.008859345689415932,
          -0.008859345689415932,
          -0.008859345689415932,
          -0.008859345689415932,
          -0.008859345689415932,
          -0.008859345689415932,
          -0.008859345689415932,
          -0.008859345689415932,
          -0.008859345689415932,
          -0.008859345689415932,
          -0.008859345689415932,
          -0.008859345689415932,
          -0.008859345689415932
         ]
        },
        {
         "marker": {
          "color": [
           "green",
           "green",
           "green",
           "green",
           "green",
           "green",
           "green",
           "green",
           "green",
           "green",
           "green",
           "green",
           "green",
           "green",
           "green",
           "green",
           "green",
           "green",
           "green",
           "green",
           "green",
           "green",
           "green",
           "green",
           "green",
           "green",
           "green",
           "green",
           "green",
           "green",
           "green",
           "green",
           "green",
           "green",
           "green",
           "green",
           "green",
           "green",
           "green",
           "green",
           "green",
           "green",
           "green",
           "green",
           "green",
           "green",
           "green",
           "green",
           "green",
           "green",
           "green",
           "green",
           "green",
           "green",
           "green",
           "green",
           "green",
           "green",
           "green",
           "green",
           "green",
           "green",
           "green",
           "green",
           "green",
           "green",
           "green",
           "green",
           "green",
           "green",
           "green",
           "green",
           "green",
           "green",
           "green",
           "green",
           "green",
           "green",
           "green",
           "green",
           "green",
           "green",
           "green",
           "green",
           "green",
           "green",
           "green",
           "green",
           "green",
           "green",
           "green",
           "green",
           "green",
           "green",
           "green",
           "green",
           "green",
           "green",
           "green",
           "green",
           "green",
           "green",
           "green",
           "green",
           "green",
           "green",
           "green",
           "green",
           "green",
           "green",
           "green",
           "green",
           "green",
           "green",
           "green",
           "green",
           "green",
           "green",
           "green",
           "green",
           "green",
           "green",
           "green",
           "green",
           "green",
           "green",
           "green",
           "green",
           "green",
           "green",
           "green"
          ],
          "size": 6
         },
         "mode": "markers",
         "name": "trajectory 4",
         "type": "scatter3d",
         "x": [
          -1.4811980294924338,
          -1.4811980294924338,
          -1.4811980294924338,
          -1.4811980294924338,
          -1.4811980294924338,
          -1.4811980294924338,
          -1.4811980294924338,
          -1.4811980294924338,
          -1.4811980294924338,
          -1.4811980294924338,
          -1.4811980294924338,
          -1.4811980294924338,
          -1.4811980294924338,
          -1.4811980294924338,
          -1.4811980294924338,
          -1.4811980294924338,
          -1.4811980294924338,
          -1.4811980294924338,
          -1.4811980294924338,
          -1.4811980294924338,
          -1.4811980294924338,
          -1.4811980294924338,
          -1.4811980294924338,
          -1.4811980294924338,
          -1.4811980294924338,
          -1.4811980294924338,
          -1.4811980294924338,
          -1.4811980294924338,
          -1.4811980294924338,
          -1.4811980294924338,
          -1.4811980294924338,
          -1.4811980294924338,
          -1.4811980294924338,
          -1.4811980294924338,
          -1.4811980294924338,
          -1.4811980294924338,
          -1.4811980294924338,
          -1.4811980294924338,
          -1.4811980294924338,
          -1.4811980294924338,
          -1.4811980294924338,
          -1.4811980294924338,
          -1.4811980294924338,
          -1.4811980294924338,
          -1.4811980294924338,
          -1.4811980294924338,
          -1.4811980294924338,
          -1.4811980294924338,
          -1.4811980294924338,
          -1.4811980294924338,
          -1.4811980294924338,
          -1.4811980294924338,
          -1.4811980294924338,
          -1.4811980294924338,
          -1.4811980294924338,
          -1.4811980294924338,
          -1.4811980294924338,
          -1.4811980294924338,
          -1.4811980294924338,
          -1.4811980294924338,
          -1.4811980294924338,
          -1.4811980294924338,
          -1.4811980294924338,
          -1.4811980294924338,
          -1.4811980294924338,
          -1.4811980294924338,
          -1.4811980294924338,
          -1.4811980294924338,
          -1.4811980294924338,
          -1.4811980294924338,
          -1.4811980294924338,
          -1.4811980294924338,
          -1.4811980294924338,
          -1.4811980294924338,
          -1.4811980294924338,
          -1.4811980294924338,
          -1.4811980294924338,
          -1.4811980294924338,
          -1.4811980294924338,
          -1.4811980294924338,
          -1.4811980294924338,
          -1.4811980294924338,
          -1.4811980294924338,
          -1.4811980294924338,
          -1.4811980294924338,
          -1.4811980294924338,
          -1.4811980294924338,
          -1.4811980294924338,
          -1.4811980294924338,
          -1.4811980294924338,
          -1.4811980294924338,
          -1.4811980294924338,
          -1.4811980294924338,
          -1.4811980294924338,
          -1.4811980294924338,
          -1.4811980294924338,
          -1.4811980294924338,
          -1.4811980294924338,
          -1.4811980294924338,
          -1.4811980294924338,
          -1.4811980294924338,
          -1.4811980294924338,
          -1.4811980294924338,
          -1.4811980294924338,
          -1.4811980294924338,
          -1.4811980294924338,
          -1.4811980294924338,
          -1.4811980294924338,
          -1.4811980294924338,
          -1.4811980294924338,
          -1.4811980294924338,
          -1.4811980294924338,
          -1.4811980294924338,
          -1.4811980294924338,
          -1.4811980294924338,
          -1.4811980294924338,
          -1.4811980294924338,
          -1.4811980294924338,
          -1.4811980294924338,
          -1.4811980294924338,
          -1.4811980294924338,
          -1.4811980294924338,
          -1.4811980294924338,
          -1.4811980294924338,
          -1.4811980294924338,
          -1.4811980294924338,
          -1.4811980294924338,
          -1.4811980294924338,
          -1.4811980294924338,
          -1.4811980294924338,
          -1.4811980294924338
         ],
         "y": [
          -1.3422295359282606,
          -1.3422295359282606,
          -1.3422295359282606,
          -1.3422295359282606,
          -1.3422295359282606,
          -1.3422295359282606,
          -1.3422295359282606,
          -1.3422295359282606,
          -1.3422295359282606,
          -1.3422295359282606,
          -1.3422295359282606,
          -1.3422295359282606,
          -1.3422295359282606,
          -1.3422295359282606,
          -1.3422295359282606,
          -1.3422295359282606,
          -1.3422295359282606,
          -1.3422295359282606,
          -1.3422295359282606,
          -1.3422295359282606,
          -1.3422295359282606,
          -1.3422295359282606,
          -1.3422295359282606,
          -1.3422295359282606,
          -1.3422295359282606,
          -1.3422295359282606,
          -1.3422295359282606,
          -1.3422295359282606,
          -1.3422295359282606,
          -1.3422295359282606,
          -1.3422295359282606,
          -1.3422295359282606,
          -1.3422295359282606,
          -1.3422295359282606,
          -1.3422295359282606,
          -1.3422295359282606,
          -1.3422295359282606,
          -1.3422295359282606,
          -1.3422295359282606,
          -1.3422295359282606,
          -1.3422295359282606,
          -1.3422295359282606,
          -1.3422295359282606,
          -1.3422295359282606,
          -1.3422295359282606,
          -1.3422295359282606,
          -1.3422295359282606,
          -1.3422295359282606,
          -1.3422295359282606,
          -1.3422295359282606,
          -1.3422295359282606,
          -1.3422295359282606,
          -1.3422295359282606,
          -1.3422295359282606,
          -1.3422295359282606,
          -1.3422295359282606,
          -1.3422295359282606,
          -1.3422295359282606,
          -1.3422295359282606,
          -1.3422295359282606,
          -1.3422295359282606,
          -1.3422295359282606,
          -1.3422295359282606,
          -1.3422295359282606,
          -1.3422295359282606,
          -1.3422295359282606,
          -1.3422295359282606,
          -1.3422295359282606,
          -1.3422295359282606,
          -1.3422295359282606,
          -1.3422295359282606,
          -1.3422295359282606,
          -1.3422295359282606,
          -1.3422295359282606,
          -1.3422295359282606,
          -1.3422295359282606,
          -1.3422295359282606,
          -1.3422295359282606,
          -1.3422295359282606,
          -1.3422295359282606,
          -1.3422295359282606,
          -1.3422295359282606,
          -1.3422295359282606,
          -1.3422295359282606,
          -1.3422295359282606,
          -1.3422295359282606,
          -1.3422295359282606,
          -1.3422295359282606,
          -1.3422295359282606,
          -1.3422295359282606,
          -1.3422295359282606,
          -1.3422295359282606,
          -1.3422295359282606,
          -1.3422295359282606,
          -1.3422295359282606,
          -1.3422295359282606,
          -1.3422295359282606,
          -1.3422295359282606,
          -1.3422295359282606,
          -1.3422295359282606,
          -1.3422295359282606,
          -1.3422295359282606,
          -1.3422295359282606,
          -1.3422295359282606,
          -1.3422295359282606,
          -1.3422295359282606,
          -1.3422295359282606,
          -1.3422295359282606,
          -1.3422295359282606,
          -1.3422295359282606,
          -1.3422295359282606,
          -1.3422295359282606,
          -1.3422295359282606,
          -1.3422295359282606,
          -1.3422295359282606,
          -1.3422295359282606,
          -1.3422295359282606,
          -1.3422295359282606,
          -1.3422295359282606,
          -1.3422295359282606,
          -1.3422295359282606,
          -1.3422295359282606,
          -1.3422295359282606,
          -1.3422295359282606,
          -1.3422295359282606,
          -1.3422295359282606,
          -1.3422295359282606,
          -1.3422295359282606,
          -1.3422295359282606,
          -1.3422295359282606,
          -1.3422295359282606
         ],
         "z": [
          -0.030912557616829872,
          -0.030912557616829872,
          -0.030912557616829872,
          -0.030912557616829872,
          -0.030912557616829872,
          -0.030912557616829872,
          -0.030912557616829872,
          -0.030912557616829872,
          -0.030912557616829872,
          -0.030912557616829872,
          -0.030912557616829872,
          -0.030912557616829872,
          -0.030912557616829872,
          -0.030912557616829872,
          -0.030912557616829872,
          -0.030912557616829872,
          -0.030912557616829872,
          -0.030912557616829872,
          -0.030912557616829872,
          -0.030912557616829872,
          -0.030912557616829872,
          -0.030912557616829872,
          -0.030912557616829872,
          -0.030912557616829872,
          -0.030912557616829872,
          -0.030912557616829872,
          -0.030912557616829872,
          -0.030912557616829872,
          -0.030912557616829872,
          -0.030912557616829872,
          -0.030912557616829872,
          -0.030912557616829872,
          -0.030912557616829872,
          -0.030912557616829872,
          -0.030912557616829872,
          -0.030912557616829872,
          -0.030912557616829872,
          -0.030912557616829872,
          -0.030912557616829872,
          -0.030912557616829872,
          -0.030912557616829872,
          -0.030912557616829872,
          -0.030912557616829872,
          -0.030912557616829872,
          -0.030912557616829872,
          -0.030912557616829872,
          -0.030912557616829872,
          -0.030912557616829872,
          -0.030912557616829872,
          -0.030912557616829872,
          -0.030912557616829872,
          -0.030912557616829872,
          -0.030912557616829872,
          -0.030912557616829872,
          -0.030912557616829872,
          -0.030912557616829872,
          -0.030912557616829872,
          -0.030912557616829872,
          -0.030912557616829872,
          -0.030912557616829872,
          -0.030912557616829872,
          -0.030912557616829872,
          -0.030912557616829872,
          -0.030912557616829872,
          -0.030912557616829872,
          -0.030912557616829872,
          -0.030912557616829872,
          -0.030912557616829872,
          -0.030912557616829872,
          -0.030912557616829872,
          -0.030912557616829872,
          -0.030912557616829872,
          -0.030912557616829872,
          -0.030912557616829872,
          -0.030912557616829872,
          -0.030912557616829872,
          -0.030912557616829872,
          -0.030912557616829872,
          -0.030912557616829872,
          -0.030912557616829872,
          -0.030912557616829872,
          -0.030912557616829872,
          -0.030912557616829872,
          -0.030912557616829872,
          -0.030912557616829872,
          -0.030912557616829872,
          -0.030912557616829872,
          -0.030912557616829872,
          -0.030912557616829872,
          -0.030912557616829872,
          -0.030912557616829872,
          -0.030912557616829872,
          -0.030912557616829872,
          -0.030912557616829872,
          -0.030912557616829872,
          -0.030912557616829872,
          -0.030912557616829872,
          -0.030912557616829872,
          -0.030912557616829872,
          -0.030912557616829872,
          -0.030912557616829872,
          -0.030912557616829872,
          -0.030912557616829872,
          -0.030912557616829872,
          -0.030912557616829872,
          -0.030912557616829872,
          -0.030912557616829872,
          -0.030912557616829872,
          -0.030912557616829872,
          -0.030912557616829872,
          -0.030912557616829872,
          -0.030912557616829872,
          -0.030912557616829872,
          -0.030912557616829872,
          -0.030912557616829872,
          -0.030912557616829872,
          -0.030912557616829872,
          -0.030912557616829872,
          -0.030912557616829872,
          -0.030912557616829872,
          -0.030912557616829872,
          -0.030912557616829872,
          -0.030912557616829872,
          -0.030912557616829872,
          -0.030912557616829872,
          -0.030912557616829872,
          -0.030912557616829872,
          -0.030912557616829872,
          -0.030912557616829872,
          -0.030912557616829872,
          -0.030912557616829872
         ]
        },
        {
         "marker": {
          "color": [
           "green",
           "green",
           "green",
           "green",
           "green",
           "green",
           "green",
           "green",
           "green",
           "green",
           "green",
           "green",
           "green",
           "green",
           "green",
           "green",
           "green",
           "green",
           "green",
           "green",
           "green",
           "green",
           "green",
           "green",
           "green",
           "green",
           "green",
           "green",
           "green"
          ],
          "size": 6
         },
         "mode": "markers",
         "name": "trajectory 5",
         "type": "scatter3d",
         "x": [
          -4.43662606401152,
          -4.43662606401152,
          -4.43662606401152,
          -4.43662606401152,
          -4.43662606401152,
          -4.43662606401152,
          -4.43662606401152,
          -4.43662606401152,
          -4.43662606401152,
          -4.43662606401152,
          -4.43662606401152,
          -4.43662606401152,
          -4.43662606401152,
          -4.43662606401152,
          -4.43662606401152,
          -4.43662606401152,
          -4.43662606401152,
          -4.43662606401152,
          -4.43662606401152,
          -4.43662606401152,
          -4.43662606401152,
          -4.43662606401152,
          -4.43662606401152,
          -4.43662606401152,
          -4.43662606401152,
          -4.43662606401152,
          -4.43662606401152,
          -4.43662606401152,
          -4.43662606401152
         ],
         "y": [
          -0.2150075136628926,
          -0.2150075136628926,
          -0.2150075136628926,
          -0.2150075136628926,
          -0.2150075136628926,
          -0.2150075136628926,
          -0.2150075136628926,
          -0.2150075136628926,
          -0.2150075136628926,
          -0.2150075136628926,
          -0.2150075136628926,
          -0.2150075136628926,
          -0.2150075136628926,
          -0.2150075136628926,
          -0.2150075136628926,
          -0.2150075136628926,
          -0.2150075136628926,
          -0.2150075136628926,
          -0.2150075136628926,
          -0.2150075136628926,
          -0.2150075136628926,
          -0.2150075136628926,
          -0.2150075136628926,
          -0.2150075136628926,
          -0.2150075136628926,
          -0.2150075136628926,
          -0.2150075136628926,
          -0.2150075136628926,
          -0.2150075136628926
         ],
         "z": [
          -0.03238027170300484,
          -0.03238027170300484,
          -0.03238027170300484,
          -0.03238027170300484,
          -0.03238027170300484,
          -0.03238027170300484,
          -0.03238027170300484,
          -0.03238027170300484,
          -0.03238027170300484,
          -0.03238027170300484,
          -0.03238027170300484,
          -0.03238027170300484,
          -0.03238027170300484,
          -0.03238027170300484,
          -0.03238027170300484,
          -0.03238027170300484,
          -0.03238027170300484,
          -0.03238027170300484,
          -0.03238027170300484,
          -0.03238027170300484,
          -0.03238027170300484,
          -0.03238027170300484,
          -0.03238027170300484,
          -0.03238027170300484,
          -0.03238027170300484,
          -0.03238027170300484,
          -0.03238027170300484,
          -0.03238027170300484,
          -0.03238027170300484
         ]
        }
       ],
       "layout": {
        "height": 600,
        "scene": {
         "xaxis": {
          "range": [
           -7.626266818459156,
           14.70121846267429
          ],
          "title": {
           "text": "x"
          }
         },
         "yaxis": {
          "range": [
           -6.177907095153653,
           11.429945929250211
          ],
          "title": {
           "text": "y"
          }
         },
         "zaxis": {
          "range": [
           -0.05,
           8.0436827711761
          ],
          "title": {
           "text": "z"
          }
         }
        },
        "showlegend": true,
        "template": {
         "data": {
          "bar": [
           {
            "error_x": {
             "color": "#2a3f5f"
            },
            "error_y": {
             "color": "#2a3f5f"
            },
            "marker": {
             "line": {
              "color": "#E5ECF6",
              "width": 0.5
             },
             "pattern": {
              "fillmode": "overlay",
              "size": 10,
              "solidity": 0.2
             }
            },
            "type": "bar"
           }
          ],
          "barpolar": [
           {
            "marker": {
             "line": {
              "color": "#E5ECF6",
              "width": 0.5
             },
             "pattern": {
              "fillmode": "overlay",
              "size": 10,
              "solidity": 0.2
             }
            },
            "type": "barpolar"
           }
          ],
          "carpet": [
           {
            "aaxis": {
             "endlinecolor": "#2a3f5f",
             "gridcolor": "white",
             "linecolor": "white",
             "minorgridcolor": "white",
             "startlinecolor": "#2a3f5f"
            },
            "baxis": {
             "endlinecolor": "#2a3f5f",
             "gridcolor": "white",
             "linecolor": "white",
             "minorgridcolor": "white",
             "startlinecolor": "#2a3f5f"
            },
            "type": "carpet"
           }
          ],
          "choropleth": [
           {
            "colorbar": {
             "outlinewidth": 0,
             "ticks": ""
            },
            "type": "choropleth"
           }
          ],
          "contour": [
           {
            "colorbar": {
             "outlinewidth": 0,
             "ticks": ""
            },
            "colorscale": [
             [
              0,
              "#0d0887"
             ],
             [
              0.1111111111111111,
              "#46039f"
             ],
             [
              0.2222222222222222,
              "#7201a8"
             ],
             [
              0.3333333333333333,
              "#9c179e"
             ],
             [
              0.4444444444444444,
              "#bd3786"
             ],
             [
              0.5555555555555556,
              "#d8576b"
             ],
             [
              0.6666666666666666,
              "#ed7953"
             ],
             [
              0.7777777777777778,
              "#fb9f3a"
             ],
             [
              0.8888888888888888,
              "#fdca26"
             ],
             [
              1,
              "#f0f921"
             ]
            ],
            "type": "contour"
           }
          ],
          "contourcarpet": [
           {
            "colorbar": {
             "outlinewidth": 0,
             "ticks": ""
            },
            "type": "contourcarpet"
           }
          ],
          "heatmap": [
           {
            "colorbar": {
             "outlinewidth": 0,
             "ticks": ""
            },
            "colorscale": [
             [
              0,
              "#0d0887"
             ],
             [
              0.1111111111111111,
              "#46039f"
             ],
             [
              0.2222222222222222,
              "#7201a8"
             ],
             [
              0.3333333333333333,
              "#9c179e"
             ],
             [
              0.4444444444444444,
              "#bd3786"
             ],
             [
              0.5555555555555556,
              "#d8576b"
             ],
             [
              0.6666666666666666,
              "#ed7953"
             ],
             [
              0.7777777777777778,
              "#fb9f3a"
             ],
             [
              0.8888888888888888,
              "#fdca26"
             ],
             [
              1,
              "#f0f921"
             ]
            ],
            "type": "heatmap"
           }
          ],
          "histogram": [
           {
            "marker": {
             "pattern": {
              "fillmode": "overlay",
              "size": 10,
              "solidity": 0.2
             }
            },
            "type": "histogram"
           }
          ],
          "histogram2d": [
           {
            "colorbar": {
             "outlinewidth": 0,
             "ticks": ""
            },
            "colorscale": [
             [
              0,
              "#0d0887"
             ],
             [
              0.1111111111111111,
              "#46039f"
             ],
             [
              0.2222222222222222,
              "#7201a8"
             ],
             [
              0.3333333333333333,
              "#9c179e"
             ],
             [
              0.4444444444444444,
              "#bd3786"
             ],
             [
              0.5555555555555556,
              "#d8576b"
             ],
             [
              0.6666666666666666,
              "#ed7953"
             ],
             [
              0.7777777777777778,
              "#fb9f3a"
             ],
             [
              0.8888888888888888,
              "#fdca26"
             ],
             [
              1,
              "#f0f921"
             ]
            ],
            "type": "histogram2d"
           }
          ],
          "histogram2dcontour": [
           {
            "colorbar": {
             "outlinewidth": 0,
             "ticks": ""
            },
            "colorscale": [
             [
              0,
              "#0d0887"
             ],
             [
              0.1111111111111111,
              "#46039f"
             ],
             [
              0.2222222222222222,
              "#7201a8"
             ],
             [
              0.3333333333333333,
              "#9c179e"
             ],
             [
              0.4444444444444444,
              "#bd3786"
             ],
             [
              0.5555555555555556,
              "#d8576b"
             ],
             [
              0.6666666666666666,
              "#ed7953"
             ],
             [
              0.7777777777777778,
              "#fb9f3a"
             ],
             [
              0.8888888888888888,
              "#fdca26"
             ],
             [
              1,
              "#f0f921"
             ]
            ],
            "type": "histogram2dcontour"
           }
          ],
          "mesh3d": [
           {
            "colorbar": {
             "outlinewidth": 0,
             "ticks": ""
            },
            "type": "mesh3d"
           }
          ],
          "parcoords": [
           {
            "line": {
             "colorbar": {
              "outlinewidth": 0,
              "ticks": ""
             }
            },
            "type": "parcoords"
           }
          ],
          "pie": [
           {
            "automargin": true,
            "type": "pie"
           }
          ],
          "scatter": [
           {
            "fillpattern": {
             "fillmode": "overlay",
             "size": 10,
             "solidity": 0.2
            },
            "type": "scatter"
           }
          ],
          "scatter3d": [
           {
            "line": {
             "colorbar": {
              "outlinewidth": 0,
              "ticks": ""
             }
            },
            "marker": {
             "colorbar": {
              "outlinewidth": 0,
              "ticks": ""
             }
            },
            "type": "scatter3d"
           }
          ],
          "scattercarpet": [
           {
            "marker": {
             "colorbar": {
              "outlinewidth": 0,
              "ticks": ""
             }
            },
            "type": "scattercarpet"
           }
          ],
          "scattergeo": [
           {
            "marker": {
             "colorbar": {
              "outlinewidth": 0,
              "ticks": ""
             }
            },
            "type": "scattergeo"
           }
          ],
          "scattergl": [
           {
            "marker": {
             "colorbar": {
              "outlinewidth": 0,
              "ticks": ""
             }
            },
            "type": "scattergl"
           }
          ],
          "scattermap": [
           {
            "marker": {
             "colorbar": {
              "outlinewidth": 0,
              "ticks": ""
             }
            },
            "type": "scattermap"
           }
          ],
          "scattermapbox": [
           {
            "marker": {
             "colorbar": {
              "outlinewidth": 0,
              "ticks": ""
             }
            },
            "type": "scattermapbox"
           }
          ],
          "scatterpolar": [
           {
            "marker": {
             "colorbar": {
              "outlinewidth": 0,
              "ticks": ""
             }
            },
            "type": "scatterpolar"
           }
          ],
          "scatterpolargl": [
           {
            "marker": {
             "colorbar": {
              "outlinewidth": 0,
              "ticks": ""
             }
            },
            "type": "scatterpolargl"
           }
          ],
          "scatterternary": [
           {
            "marker": {
             "colorbar": {
              "outlinewidth": 0,
              "ticks": ""
             }
            },
            "type": "scatterternary"
           }
          ],
          "surface": [
           {
            "colorbar": {
             "outlinewidth": 0,
             "ticks": ""
            },
            "colorscale": [
             [
              0,
              "#0d0887"
             ],
             [
              0.1111111111111111,
              "#46039f"
             ],
             [
              0.2222222222222222,
              "#7201a8"
             ],
             [
              0.3333333333333333,
              "#9c179e"
             ],
             [
              0.4444444444444444,
              "#bd3786"
             ],
             [
              0.5555555555555556,
              "#d8576b"
             ],
             [
              0.6666666666666666,
              "#ed7953"
             ],
             [
              0.7777777777777778,
              "#fb9f3a"
             ],
             [
              0.8888888888888888,
              "#fdca26"
             ],
             [
              1,
              "#f0f921"
             ]
            ],
            "type": "surface"
           }
          ],
          "table": [
           {
            "cells": {
             "fill": {
              "color": "#EBF0F8"
             },
             "line": {
              "color": "white"
             }
            },
            "header": {
             "fill": {
              "color": "#C8D4E3"
             },
             "line": {
              "color": "white"
             }
            },
            "type": "table"
           }
          ]
         },
         "layout": {
          "annotationdefaults": {
           "arrowcolor": "#2a3f5f",
           "arrowhead": 0,
           "arrowwidth": 1
          },
          "autotypenumbers": "strict",
          "coloraxis": {
           "colorbar": {
            "outlinewidth": 0,
            "ticks": ""
           }
          },
          "colorscale": {
           "diverging": [
            [
             0,
             "#8e0152"
            ],
            [
             0.1,
             "#c51b7d"
            ],
            [
             0.2,
             "#de77ae"
            ],
            [
             0.3,
             "#f1b6da"
            ],
            [
             0.4,
             "#fde0ef"
            ],
            [
             0.5,
             "#f7f7f7"
            ],
            [
             0.6,
             "#e6f5d0"
            ],
            [
             0.7,
             "#b8e186"
            ],
            [
             0.8,
             "#7fbc41"
            ],
            [
             0.9,
             "#4d9221"
            ],
            [
             1,
             "#276419"
            ]
           ],
           "sequential": [
            [
             0,
             "#0d0887"
            ],
            [
             0.1111111111111111,
             "#46039f"
            ],
            [
             0.2222222222222222,
             "#7201a8"
            ],
            [
             0.3333333333333333,
             "#9c179e"
            ],
            [
             0.4444444444444444,
             "#bd3786"
            ],
            [
             0.5555555555555556,
             "#d8576b"
            ],
            [
             0.6666666666666666,
             "#ed7953"
            ],
            [
             0.7777777777777778,
             "#fb9f3a"
            ],
            [
             0.8888888888888888,
             "#fdca26"
            ],
            [
             1,
             "#f0f921"
            ]
           ],
           "sequentialminus": [
            [
             0,
             "#0d0887"
            ],
            [
             0.1111111111111111,
             "#46039f"
            ],
            [
             0.2222222222222222,
             "#7201a8"
            ],
            [
             0.3333333333333333,
             "#9c179e"
            ],
            [
             0.4444444444444444,
             "#bd3786"
            ],
            [
             0.5555555555555556,
             "#d8576b"
            ],
            [
             0.6666666666666666,
             "#ed7953"
            ],
            [
             0.7777777777777778,
             "#fb9f3a"
            ],
            [
             0.8888888888888888,
             "#fdca26"
            ],
            [
             1,
             "#f0f921"
            ]
           ]
          },
          "colorway": [
           "#636efa",
           "#EF553B",
           "#00cc96",
           "#ab63fa",
           "#FFA15A",
           "#19d3f3",
           "#FF6692",
           "#B6E880",
           "#FF97FF",
           "#FECB52"
          ],
          "font": {
           "color": "#2a3f5f"
          },
          "geo": {
           "bgcolor": "white",
           "lakecolor": "white",
           "landcolor": "#E5ECF6",
           "showlakes": true,
           "showland": true,
           "subunitcolor": "white"
          },
          "hoverlabel": {
           "align": "left"
          },
          "hovermode": "closest",
          "mapbox": {
           "style": "light"
          },
          "paper_bgcolor": "white",
          "plot_bgcolor": "#E5ECF6",
          "polar": {
           "angularaxis": {
            "gridcolor": "white",
            "linecolor": "white",
            "ticks": ""
           },
           "bgcolor": "#E5ECF6",
           "radialaxis": {
            "gridcolor": "white",
            "linecolor": "white",
            "ticks": ""
           }
          },
          "scene": {
           "xaxis": {
            "backgroundcolor": "#E5ECF6",
            "gridcolor": "white",
            "gridwidth": 2,
            "linecolor": "white",
            "showbackground": true,
            "ticks": "",
            "zerolinecolor": "white"
           },
           "yaxis": {
            "backgroundcolor": "#E5ECF6",
            "gridcolor": "white",
            "gridwidth": 2,
            "linecolor": "white",
            "showbackground": true,
            "ticks": "",
            "zerolinecolor": "white"
           },
           "zaxis": {
            "backgroundcolor": "#E5ECF6",
            "gridcolor": "white",
            "gridwidth": 2,
            "linecolor": "white",
            "showbackground": true,
            "ticks": "",
            "zerolinecolor": "white"
           }
          },
          "shapedefaults": {
           "line": {
            "color": "#2a3f5f"
           }
          },
          "ternary": {
           "aaxis": {
            "gridcolor": "white",
            "linecolor": "white",
            "ticks": ""
           },
           "baxis": {
            "gridcolor": "white",
            "linecolor": "white",
            "ticks": ""
           },
           "bgcolor": "#E5ECF6",
           "caxis": {
            "gridcolor": "white",
            "linecolor": "white",
            "ticks": ""
           }
          },
          "title": {
           "x": 0.05
          },
          "xaxis": {
           "automargin": true,
           "gridcolor": "white",
           "linecolor": "white",
           "ticks": "",
           "title": {
            "standoff": 15
           },
           "zerolinecolor": "white",
           "zerolinewidth": 2
          },
          "yaxis": {
           "automargin": true,
           "gridcolor": "white",
           "linecolor": "white",
           "ticks": "",
           "title": {
            "standoff": 15
           },
           "zerolinecolor": "white",
           "zerolinewidth": 2
          }
         }
        },
        "title": {
         "text": "Simulation Waypoints",
         "x": 0.5,
         "xanchor": "center"
        },
        "width": 800
       }
      }
     },
     "metadata": {},
     "output_type": "display_data"
    }
   ],
   "source": [
    "green_paths = []\n",
    "for sysid,path in green_gcs.paths.items():\n",
    "    green_paths.append(np.array([x for x in path if x is not None]))\n",
    "\n",
    "markers = [ConfigGazebo.create_trajectory_from_array(array=path,color=Color.GREEN) for path in green_paths]\n",
    "Gazebo.plot_3d_interactive(markers=markers,title=\"Simulation Waypoints\",frames=(0.2, 0.2, 0.6),ground=-0.05)"
   ]
  },
  {
   "cell_type": "code",
   "execution_count": null,
   "metadata": {},
   "outputs": [],
   "source": []
  }
 ],
 "metadata": {
  "kernelspec": {
   "display_name": "uav-cyber-sim-py311",
   "language": "python",
   "name": "python3"
  },
  "language_info": {
   "codemirror_mode": {
    "name": "ipython",
    "version": 3
   },
   "file_extension": ".py",
   "mimetype": "text/x-python",
   "name": "python",
   "nbconvert_exporter": "python",
   "pygments_lexer": "ipython3",
   "version": "3.11.11"
  }
 },
 "nbformat": 4,
 "nbformat_minor": 2
}
