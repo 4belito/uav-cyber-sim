{
 "cells": [
  {
   "cell_type": "markdown",
   "metadata": {},
   "source": [
    "## Remote ID Attack"
   ]
  },
  {
   "cell_type": "code",
   "execution_count": 1,
   "metadata": {},
   "outputs": [],
   "source": [
    "import numpy as np\n",
    "\n",
    "# Custom modules\n",
    "from helpers import global2local, plot_3d_interactive, kill_processes\n",
    "from simulators import Simulator, Gazebo, QGC,Color\n",
    "from oracle import Oracle\n",
    "\n",
    "from plan import Plan, State\n",
    "from vehicle_logic import VehicleMode\n",
    "\n",
    "kill_processes()"
   ]
  },
  {
   "cell_type": "markdown",
   "metadata": {},
   "source": [
    "## Create Plans"
   ]
  },
  {
   "cell_type": "code",
   "execution_count": 2,
   "metadata": {},
   "outputs": [],
   "source": [
    "offsets = [(-10, 0, 0, 0),(0, -5, 0, 0)]#\n",
    "n_vehicles=len(offsets)\n",
    "\n",
    "homes=np.array([offset[:3] for offset in offsets])\n",
    "\n",
    "\n",
    "radar_radius=10\n",
    "safety_radius =5\n",
    "\n",
    "\n",
    "## Normal behavior\n",
    "# global_paths=[np.array([[-10, 0, 5],[10, 0, 5]]),\n",
    "#               np.array([[0, -5, 5]])]\n",
    "# local_paths=[global2local(path, home,pairwise=True) for path,home in zip(global_paths,homes)]\n",
    "# markers = {f'waypoints': {'pos':global_paths[0],'color':'green'},\n",
    "#        f'real pos': {'pos':global_paths[1],'color':'red','radius':0.1},\n",
    "#        f'avoid zone': {'pos':global_paths[1],'color':'orange','radius':safety_radius,'alpha': 0.84},\n",
    "#        f'radar zone': {'pos':global_paths[1],'color':'orange','radius':radar_radius,'alpha': 0.9}}\n",
    "\n",
    "\n",
    "## Remote ID attack\n",
    "global_paths=[np.array([[-10, 0, 5],[10, 0, 5]]),\n",
    "              np.array([[0, -5, 5]])]\n",
    "local_paths=[global2local(path, home) for path,home in zip(global_paths,homes)]\n",
    "fake_posistion=np.array([[0,0,5]])\n",
    "markers = {f'waypoints': {'pos':global_paths[0],'color':Color.GREEN},\n",
    "       f'real pos': {'pos':global_paths[1],'color':Color.RED,'radius':0.1},\n",
    "       f'fake_pos': {'pos':fake_posistion,'color':Color.ORANGE,'radius':0.1},\n",
    "       f'avoid zone': {'pos':fake_posistion,'color':Color.RED,'radius':safety_radius,'alpha': 0.85},\n",
    "       f'radar zone': {'pos':global_paths[1],'color':Color.ORANGE,'radius':radar_radius,'alpha': 0.9}\n",
    "       }\n",
    "\n",
    "\n",
    "plans=[Plan.basic(wps=local_paths[0],wp_margin=1,navegation_speed=1.5),\n",
    "       Plan.hover(wps=local_paths[1],wp_margin=1,navegation_speed=5)\n",
    "       ]"
   ]
  },
  {
   "cell_type": "markdown",
   "metadata": {},
   "source": [
    "## Visualization Parameters"
   ]
  },
  {
   "cell_type": "code",
   "execution_count": 3,
   "metadata": {},
   "outputs": [
    {
     "data": {
      "application/vnd.plotly.v1+json": {
       "config": {
        "plotlyServerURL": "https://plot.ly"
       },
       "data": [
        {
         "marker": {
          "color": "green",
          "size": 6
         },
         "mode": "markers",
         "name": "waypoints",
         "type": "scatter3d",
         "x": [
          -10,
          10
         ],
         "y": [
          0,
          0
         ],
         "z": [
          5,
          5
         ]
        },
        {
         "marker": {
          "color": "green",
          "size": 6
         },
         "mode": "markers",
         "name": "uav start",
         "type": "scatter3d",
         "x": [
          -10
         ],
         "y": [
          0
         ],
         "z": [
          0
         ]
        },
        {
         "marker": {
          "color": "green",
          "size": 6
         },
         "mode": "markers",
         "name": "uav goal",
         "type": "scatter3d",
         "x": [
          10
         ],
         "y": [
          0
         ],
         "z": [
          0
         ]
        },
        {
         "marker": {
          "color": "red",
          "size": 6
         },
         "mode": "markers",
         "name": "adversary pos",
         "type": "scatter3d",
         "x": [
          0
         ],
         "y": [
          -5
         ],
         "z": [
          5
         ]
        }
       ],
       "layout": {
        "height": 600,
        "scene": {
         "xaxis": {
          "range": [
           -18,
           18
          ],
          "title": {
           "text": "x"
          }
         },
         "yaxis": {
          "range": [
           -7,
           2
          ],
          "title": {
           "text": "y"
          }
         },
         "zaxis": {
          "range": [
           -0.05,
           6
          ],
          "title": {
           "text": "z"
          }
         }
        },
        "showlegend": true,
        "template": {
         "data": {
          "bar": [
           {
            "error_x": {
             "color": "#2a3f5f"
            },
            "error_y": {
             "color": "#2a3f5f"
            },
            "marker": {
             "line": {
              "color": "#E5ECF6",
              "width": 0.5
             },
             "pattern": {
              "fillmode": "overlay",
              "size": 10,
              "solidity": 0.2
             }
            },
            "type": "bar"
           }
          ],
          "barpolar": [
           {
            "marker": {
             "line": {
              "color": "#E5ECF6",
              "width": 0.5
             },
             "pattern": {
              "fillmode": "overlay",
              "size": 10,
              "solidity": 0.2
             }
            },
            "type": "barpolar"
           }
          ],
          "carpet": [
           {
            "aaxis": {
             "endlinecolor": "#2a3f5f",
             "gridcolor": "white",
             "linecolor": "white",
             "minorgridcolor": "white",
             "startlinecolor": "#2a3f5f"
            },
            "baxis": {
             "endlinecolor": "#2a3f5f",
             "gridcolor": "white",
             "linecolor": "white",
             "minorgridcolor": "white",
             "startlinecolor": "#2a3f5f"
            },
            "type": "carpet"
           }
          ],
          "choropleth": [
           {
            "colorbar": {
             "outlinewidth": 0,
             "ticks": ""
            },
            "type": "choropleth"
           }
          ],
          "contour": [
           {
            "colorbar": {
             "outlinewidth": 0,
             "ticks": ""
            },
            "colorscale": [
             [
              0,
              "#0d0887"
             ],
             [
              0.1111111111111111,
              "#46039f"
             ],
             [
              0.2222222222222222,
              "#7201a8"
             ],
             [
              0.3333333333333333,
              "#9c179e"
             ],
             [
              0.4444444444444444,
              "#bd3786"
             ],
             [
              0.5555555555555556,
              "#d8576b"
             ],
             [
              0.6666666666666666,
              "#ed7953"
             ],
             [
              0.7777777777777778,
              "#fb9f3a"
             ],
             [
              0.8888888888888888,
              "#fdca26"
             ],
             [
              1,
              "#f0f921"
             ]
            ],
            "type": "contour"
           }
          ],
          "contourcarpet": [
           {
            "colorbar": {
             "outlinewidth": 0,
             "ticks": ""
            },
            "type": "contourcarpet"
           }
          ],
          "heatmap": [
           {
            "colorbar": {
             "outlinewidth": 0,
             "ticks": ""
            },
            "colorscale": [
             [
              0,
              "#0d0887"
             ],
             [
              0.1111111111111111,
              "#46039f"
             ],
             [
              0.2222222222222222,
              "#7201a8"
             ],
             [
              0.3333333333333333,
              "#9c179e"
             ],
             [
              0.4444444444444444,
              "#bd3786"
             ],
             [
              0.5555555555555556,
              "#d8576b"
             ],
             [
              0.6666666666666666,
              "#ed7953"
             ],
             [
              0.7777777777777778,
              "#fb9f3a"
             ],
             [
              0.8888888888888888,
              "#fdca26"
             ],
             [
              1,
              "#f0f921"
             ]
            ],
            "type": "heatmap"
           }
          ],
          "histogram": [
           {
            "marker": {
             "pattern": {
              "fillmode": "overlay",
              "size": 10,
              "solidity": 0.2
             }
            },
            "type": "histogram"
           }
          ],
          "histogram2d": [
           {
            "colorbar": {
             "outlinewidth": 0,
             "ticks": ""
            },
            "colorscale": [
             [
              0,
              "#0d0887"
             ],
             [
              0.1111111111111111,
              "#46039f"
             ],
             [
              0.2222222222222222,
              "#7201a8"
             ],
             [
              0.3333333333333333,
              "#9c179e"
             ],
             [
              0.4444444444444444,
              "#bd3786"
             ],
             [
              0.5555555555555556,
              "#d8576b"
             ],
             [
              0.6666666666666666,
              "#ed7953"
             ],
             [
              0.7777777777777778,
              "#fb9f3a"
             ],
             [
              0.8888888888888888,
              "#fdca26"
             ],
             [
              1,
              "#f0f921"
             ]
            ],
            "type": "histogram2d"
           }
          ],
          "histogram2dcontour": [
           {
            "colorbar": {
             "outlinewidth": 0,
             "ticks": ""
            },
            "colorscale": [
             [
              0,
              "#0d0887"
             ],
             [
              0.1111111111111111,
              "#46039f"
             ],
             [
              0.2222222222222222,
              "#7201a8"
             ],
             [
              0.3333333333333333,
              "#9c179e"
             ],
             [
              0.4444444444444444,
              "#bd3786"
             ],
             [
              0.5555555555555556,
              "#d8576b"
             ],
             [
              0.6666666666666666,
              "#ed7953"
             ],
             [
              0.7777777777777778,
              "#fb9f3a"
             ],
             [
              0.8888888888888888,
              "#fdca26"
             ],
             [
              1,
              "#f0f921"
             ]
            ],
            "type": "histogram2dcontour"
           }
          ],
          "mesh3d": [
           {
            "colorbar": {
             "outlinewidth": 0,
             "ticks": ""
            },
            "type": "mesh3d"
           }
          ],
          "parcoords": [
           {
            "line": {
             "colorbar": {
              "outlinewidth": 0,
              "ticks": ""
             }
            },
            "type": "parcoords"
           }
          ],
          "pie": [
           {
            "automargin": true,
            "type": "pie"
           }
          ],
          "scatter": [
           {
            "fillpattern": {
             "fillmode": "overlay",
             "size": 10,
             "solidity": 0.2
            },
            "type": "scatter"
           }
          ],
          "scatter3d": [
           {
            "line": {
             "colorbar": {
              "outlinewidth": 0,
              "ticks": ""
             }
            },
            "marker": {
             "colorbar": {
              "outlinewidth": 0,
              "ticks": ""
             }
            },
            "type": "scatter3d"
           }
          ],
          "scattercarpet": [
           {
            "marker": {
             "colorbar": {
              "outlinewidth": 0,
              "ticks": ""
             }
            },
            "type": "scattercarpet"
           }
          ],
          "scattergeo": [
           {
            "marker": {
             "colorbar": {
              "outlinewidth": 0,
              "ticks": ""
             }
            },
            "type": "scattergeo"
           }
          ],
          "scattergl": [
           {
            "marker": {
             "colorbar": {
              "outlinewidth": 0,
              "ticks": ""
             }
            },
            "type": "scattergl"
           }
          ],
          "scattermap": [
           {
            "marker": {
             "colorbar": {
              "outlinewidth": 0,
              "ticks": ""
             }
            },
            "type": "scattermap"
           }
          ],
          "scattermapbox": [
           {
            "marker": {
             "colorbar": {
              "outlinewidth": 0,
              "ticks": ""
             }
            },
            "type": "scattermapbox"
           }
          ],
          "scatterpolar": [
           {
            "marker": {
             "colorbar": {
              "outlinewidth": 0,
              "ticks": ""
             }
            },
            "type": "scatterpolar"
           }
          ],
          "scatterpolargl": [
           {
            "marker": {
             "colorbar": {
              "outlinewidth": 0,
              "ticks": ""
             }
            },
            "type": "scatterpolargl"
           }
          ],
          "scatterternary": [
           {
            "marker": {
             "colorbar": {
              "outlinewidth": 0,
              "ticks": ""
             }
            },
            "type": "scatterternary"
           }
          ],
          "surface": [
           {
            "colorbar": {
             "outlinewidth": 0,
             "ticks": ""
            },
            "colorscale": [
             [
              0,
              "#0d0887"
             ],
             [
              0.1111111111111111,
              "#46039f"
             ],
             [
              0.2222222222222222,
              "#7201a8"
             ],
             [
              0.3333333333333333,
              "#9c179e"
             ],
             [
              0.4444444444444444,
              "#bd3786"
             ],
             [
              0.5555555555555556,
              "#d8576b"
             ],
             [
              0.6666666666666666,
              "#ed7953"
             ],
             [
              0.7777777777777778,
              "#fb9f3a"
             ],
             [
              0.8888888888888888,
              "#fdca26"
             ],
             [
              1,
              "#f0f921"
             ]
            ],
            "type": "surface"
           }
          ],
          "table": [
           {
            "cells": {
             "fill": {
              "color": "#EBF0F8"
             },
             "line": {
              "color": "white"
             }
            },
            "header": {
             "fill": {
              "color": "#C8D4E3"
             },
             "line": {
              "color": "white"
             }
            },
            "type": "table"
           }
          ]
         },
         "layout": {
          "annotationdefaults": {
           "arrowcolor": "#2a3f5f",
           "arrowhead": 0,
           "arrowwidth": 1
          },
          "autotypenumbers": "strict",
          "coloraxis": {
           "colorbar": {
            "outlinewidth": 0,
            "ticks": ""
           }
          },
          "colorscale": {
           "diverging": [
            [
             0,
             "#8e0152"
            ],
            [
             0.1,
             "#c51b7d"
            ],
            [
             0.2,
             "#de77ae"
            ],
            [
             0.3,
             "#f1b6da"
            ],
            [
             0.4,
             "#fde0ef"
            ],
            [
             0.5,
             "#f7f7f7"
            ],
            [
             0.6,
             "#e6f5d0"
            ],
            [
             0.7,
             "#b8e186"
            ],
            [
             0.8,
             "#7fbc41"
            ],
            [
             0.9,
             "#4d9221"
            ],
            [
             1,
             "#276419"
            ]
           ],
           "sequential": [
            [
             0,
             "#0d0887"
            ],
            [
             0.1111111111111111,
             "#46039f"
            ],
            [
             0.2222222222222222,
             "#7201a8"
            ],
            [
             0.3333333333333333,
             "#9c179e"
            ],
            [
             0.4444444444444444,
             "#bd3786"
            ],
            [
             0.5555555555555556,
             "#d8576b"
            ],
            [
             0.6666666666666666,
             "#ed7953"
            ],
            [
             0.7777777777777778,
             "#fb9f3a"
            ],
            [
             0.8888888888888888,
             "#fdca26"
            ],
            [
             1,
             "#f0f921"
            ]
           ],
           "sequentialminus": [
            [
             0,
             "#0d0887"
            ],
            [
             0.1111111111111111,
             "#46039f"
            ],
            [
             0.2222222222222222,
             "#7201a8"
            ],
            [
             0.3333333333333333,
             "#9c179e"
            ],
            [
             0.4444444444444444,
             "#bd3786"
            ],
            [
             0.5555555555555556,
             "#d8576b"
            ],
            [
             0.6666666666666666,
             "#ed7953"
            ],
            [
             0.7777777777777778,
             "#fb9f3a"
            ],
            [
             0.8888888888888888,
             "#fdca26"
            ],
            [
             1,
             "#f0f921"
            ]
           ]
          },
          "colorway": [
           "#636efa",
           "#EF553B",
           "#00cc96",
           "#ab63fa",
           "#FFA15A",
           "#19d3f3",
           "#FF6692",
           "#B6E880",
           "#FF97FF",
           "#FECB52"
          ],
          "font": {
           "color": "#2a3f5f"
          },
          "geo": {
           "bgcolor": "white",
           "lakecolor": "white",
           "landcolor": "#E5ECF6",
           "showlakes": true,
           "showland": true,
           "subunitcolor": "white"
          },
          "hoverlabel": {
           "align": "left"
          },
          "hovermode": "closest",
          "mapbox": {
           "style": "light"
          },
          "paper_bgcolor": "white",
          "plot_bgcolor": "#E5ECF6",
          "polar": {
           "angularaxis": {
            "gridcolor": "white",
            "linecolor": "white",
            "ticks": ""
           },
           "bgcolor": "#E5ECF6",
           "radialaxis": {
            "gridcolor": "white",
            "linecolor": "white",
            "ticks": ""
           }
          },
          "scene": {
           "xaxis": {
            "backgroundcolor": "#E5ECF6",
            "gridcolor": "white",
            "gridwidth": 2,
            "linecolor": "white",
            "showbackground": true,
            "ticks": "",
            "zerolinecolor": "white"
           },
           "yaxis": {
            "backgroundcolor": "#E5ECF6",
            "gridcolor": "white",
            "gridwidth": 2,
            "linecolor": "white",
            "showbackground": true,
            "ticks": "",
            "zerolinecolor": "white"
           },
           "zaxis": {
            "backgroundcolor": "#E5ECF6",
            "gridcolor": "white",
            "gridwidth": 2,
            "linecolor": "white",
            "showbackground": true,
            "ticks": "",
            "zerolinecolor": "white"
           }
          },
          "shapedefaults": {
           "line": {
            "color": "#2a3f5f"
           }
          },
          "ternary": {
           "aaxis": {
            "gridcolor": "white",
            "linecolor": "white",
            "ticks": ""
           },
           "baxis": {
            "gridcolor": "white",
            "linecolor": "white",
            "ticks": ""
           },
           "bgcolor": "#E5ECF6",
           "caxis": {
            "gridcolor": "white",
            "linecolor": "white",
            "ticks": ""
           }
          },
          "title": {
           "x": 0.05
          },
          "xaxis": {
           "automargin": true,
           "gridcolor": "white",
           "linecolor": "white",
           "ticks": "",
           "title": {
            "standoff": 15
           },
           "zerolinecolor": "white",
           "zerolinewidth": 2
          },
          "yaxis": {
           "automargin": true,
           "gridcolor": "white",
           "linecolor": "white",
           "ticks": "",
           "title": {
            "standoff": 15
           },
           "zerolinecolor": "white",
           "zerolinewidth": 2
          }
         }
        },
        "title": {
         "text": "Simulation Markers",
         "x": 0.5,
         "xanchor": "center"
        },
        "width": 800
       }
      }
     },
     "metadata": {},
     "output_type": "display_data"
    }
   ],
   "source": [
    "markers_plot = {f'waypoints': {'pos':global_paths[0],'color':Color.GREEN},\n",
    "                f'uav start': {'pos':np.array([[-10, 0, 0]]),'color':Color.GREEN},\n",
    "                'uav goal': {'pos':np.array([[10, 0, 0]]),'color':Color.GREEN},\n",
    "              f'adversary pos': {'pos':global_paths[1],'color':Color.RED,'radius':0.1},\n",
    "              #f'adversary fake pos': {'pos':fake_posistion,'color':'orange','radius':0.1}\n",
    "              }\n",
    "plot_3d_interactive(markers_plot,title='Simulation Markers',expand=[0.4,0.4,0.2],ground=-0.05)"
   ]
  },
  {
   "cell_type": "markdown",
   "metadata": {},
   "source": [
    "## Choose Simulator"
   ]
  },
  {
   "cell_type": "code",
   "execution_count": 4,
   "metadata": {},
   "outputs": [],
   "source": [
    "# simulator=QGC(offsets=offsets,\n",
    "#               plans=plans,\n",
    "#               origin=(-35.3633245,149.1652241,0,0))\n",
    "\n",
    "simulator=Gazebo(offsets=offsets,\n",
    "                 plans=plans,\n",
    "                 world_path='simulators/gazebo/worlds/runway.world',\n",
    "                 models=n_vehicles*['iris'],\n",
    "                 colors = [Color.GREEN,Color.RED],\n",
    "                 markers=markers)"
   ]
  },
  {
   "cell_type": "markdown",
   "metadata": {},
   "source": [
    "Launch Simulator"
   ]
  },
  {
   "cell_type": "code",
   "execution_count": 5,
   "metadata": {},
   "outputs": [
    {
     "name": "stdout",
     "output_type": "stream",
     "text": [
      "Vehicle 1 launched 🚀\n",
      "Vehicle 2 launched 🚀\n"
     ]
    }
   ],
   "source": [
    "uavs = simulator.launch()\n",
    "for uav in uavs:\n",
    "    uav.safety_radius = safety_radius\n",
    "    uav.radar_radius = radar_radius\n",
    "orac = Oracle(uavs)"
   ]
  },
  {
   "cell_type": "markdown",
   "metadata": {},
   "source": [
    "## Execute Plan"
   ]
  },
  {
   "cell_type": "code",
   "execution_count": 6,
   "metadata": {},
   "outputs": [
    {
     "name": "stdout",
     "output_type": "stream",
     "text": [
      "Vehicle 1: ▶️ Plan Started: 📋 basic\n",
      "Vehicle 1: ▶️ Action Started: 🔧 PREARM\n",
      "Vehicle 1: ▶️ Step Started: Check disarmed\n",
      "Vehicle 2: ▶️ Plan Started: 📋 hover\n",
      "Vehicle 2: ▶️ Action Started: 🔧 PREARM\n",
      "Vehicle 2: ▶️ Step Started: Check disarmed\n",
      "Vehicle 2: ✅ Step Done: Check disarmed\n",
      "Vehicle 2: ▶️ Step Started: Check EKF\n",
      "Vehicle 1: ✅ Step Done: Check disarmed\n",
      "Vehicle 1: ▶️ Step Started: Check EKF\n",
      "Vehicle 1: ✅ Step Done: Check EKF\n",
      "Vehicle 1: ▶️ Step Started: Check GPS\n",
      "Vehicle 2: ✅ Step Done: Check EKF\n",
      "Vehicle 2: ▶️ Step Started: Check GPS\n",
      "Vehicle 1: ✅ Step Done: Check GPS\n",
      "Vehicle 1: ▶️ Step Started: Check system\n",
      "Vehicle 2: ✅ Step Done: Check GPS\n",
      "Vehicle 2: ▶️ Step Started: Check system\n",
      "Vehicle 1: ✅ Step Done: Check system\n",
      "Vehicle 1: ✅ Action Done: 🔧 PREARM\n",
      "Vehicle 1: ▶️ Action Started: ⚙️ MODE: GUIDED\n",
      "Vehicle 1: ▶️ Step Started: Switch to GUIDED\n",
      "Vehicle 1: ✅ Step Done: Switch to GUIDED\n",
      "Vehicle 1: ✅ Action Done: ⚙️ MODE: GUIDED\n",
      "Vehicle 1: ▶️ Action Started: 🎚️ CHANGE_NAV_SPEED\n",
      "Vehicle 1: ▶️ Step Started: Set speed to 1.50 m/s\n",
      "Vehicle 1: ✅ Step Done: Set speed to 1.50 m/s\n",
      "Vehicle 1: ✅ Action Done: 🎚️ CHANGE_NAV_SPEED\n",
      "Vehicle 1: ▶️ Action Started: 🔐 ARM\n",
      "Vehicle 1: ▶️ Step Started: arm\n",
      "Vehicle 2: ✅ Step Done: Check system\n",
      "Vehicle 2: ✅ Action Done: 🔧 PREARM\n",
      "Vehicle 2: ▶️ Action Started: ⚙️ MODE: GUIDED\n",
      "Vehicle 2: ▶️ Step Started: Switch to GUIDED\n",
      "Vehicle 2: ✅ Step Done: Switch to GUIDED\n",
      "Vehicle 2: ✅ Action Done: ⚙️ MODE: GUIDED\n",
      "Vehicle 2: ▶️ Action Started: 🔐 ARM\n",
      "Vehicle 2: ▶️ Step Started: arm\n",
      "Vehicle 2: ✅ Step Done: arm\n",
      "Vehicle 2: ✅ Action Done: 🔐 ARM\n",
      "Vehicle 2: ▶️ Action Started: 🛫 TAKEOFF\n",
      "Vehicle 2: ▶️ Step Started: takeoff\n",
      "Vehicle 1: ✅ Step Done: arm\n",
      "Vehicle 1: ✅ Action Done: 🔐 ARM\n",
      "Vehicle 1: ▶️ Action Started: 🛫 TAKEOFF\n",
      "Vehicle 1: ▶️ Step Started: takeoff\n",
      "Vehicle 1: ✅ Step Done: takeoff\n",
      "Vehicle 1: ✅ Action Done: 🛫 TAKEOFF\n",
      "Vehicle 1: ▶️ Action Started: 🛩️ FLY\n",
      "Vehicle 1: ▶️ Step Started: go to  -> (0, 0, 5)\n",
      "Vehicle 2: ✅ Step Done: takeoff\n",
      "Vehicle 2: ✅ Action Done: 🛫 TAKEOFF\n",
      "Vehicle 2: ▶️ Action Started: 🛩️ FLY\n",
      "Vehicle 2: ▶️ Step Started: go to  -> (0, 0, 5)\n",
      "Vehicle 1: ✅ Step Done: go to  -> (0, 0, 5)\n",
      "Vehicle 1: ▶️ Step Started: go to  -> (20, 0, 5)\n",
      "Vehicle 2: ✅ Step Done: go to  -> (0, 0, 5)\n",
      "Vehicle 2: ✅ Action Done: 🛩️ FLY\n",
      "Vehicle 2: ✅ Plan Done: 📋 hover\n",
      "Vehicle 1 switched to mode: 🔁 AVOIDANCE\n",
      "Vehicle 1: ▶️ Step Started: go to (avoidance) -> (5.01, 0.09, 4.69)\n",
      "Vehicle 1: ✅ Step Done: go to (avoidance) -> (5.01, 0.09, 4.69)\n",
      "Vehicle 1: ▶️ Step Started: go to (avoidance) -> (5.02, 0.28, 4.69)\n",
      "Vehicle 1: ✅ Step Done: go to (avoidance) -> (5.02, 0.28, 4.69)\n",
      "Vehicle 1: ▶️ Step Started: go to (avoidance) -> (5.03, 0.43, 4.69)\n",
      "Vehicle 1: ✅ Step Done: go to (avoidance) -> (5.03, 0.43, 4.69)\n",
      "Vehicle 1: ▶️ Step Started: go to (avoidance) -> (5.04, 0.55, 4.69)\n",
      "Vehicle 1: ✅ Step Done: go to (avoidance) -> (5.04, 0.55, 4.69)\n",
      "Vehicle 1: ▶️ Step Started: go to (avoidance) -> (5.04, 0.57, 4.69)\n",
      "Vehicle 1: ✅ Step Done: go to (avoidance) -> (5.04, 0.57, 4.69)\n",
      "Vehicle 1: ▶️ Step Started: go to (avoidance) -> (5.05, 0.63, 4.69)\n",
      "Vehicle 1: ✅ Step Done: go to (avoidance) -> (5.05, 0.63, 4.69)\n",
      "Vehicle 1: ▶️ Step Started: go to (avoidance) -> (5.06, 0.72, 4.69)\n",
      "Vehicle 1: ✅ Step Done: go to (avoidance) -> (5.06, 0.72, 4.69)\n",
      "Vehicle 1: ▶️ Step Started: go to (avoidance) -> (5.07, 0.79, 4.69)\n",
      "Vehicle 1: ✅ Step Done: go to (avoidance) -> (5.07, 0.79, 4.69)\n",
      "Vehicle 1: ▶️ Step Started: go to (avoidance) -> (5.08, 0.86, 4.69)\n",
      "Vehicle 1: ✅ Step Done: go to (avoidance) -> (5.08, 0.86, 4.69)\n",
      "Vehicle 1: ▶️ Step Started: go to (avoidance) -> (5.09, 0.91, 4.69)\n",
      "Vehicle 1: ✅ Step Done: go to (avoidance) -> (5.09, 0.91, 4.69)\n",
      "Vehicle 1: ▶️ Step Started: go to (avoidance) -> (5.1, 0.94, 4.69)\n",
      "Vehicle 1: ✅ Step Done: go to (avoidance) -> (5.1, 0.94, 4.69)\n",
      "Vehicle 1: ▶️ Step Started: go to (avoidance) -> (5.11, 0.97, 4.69)\n",
      "Vehicle 1: ✅ Step Done: go to (avoidance) -> (5.11, 0.97, 4.69)\n",
      "Vehicle 1: ▶️ Step Started: go to (avoidance) -> (5.11, 0.99, 4.69)\n",
      "Vehicle 1: ✅ Step Done: go to (avoidance) -> (5.11, 0.99, 4.69)\n",
      "Vehicle 1: ▶️ Step Started: go to (avoidance) -> (5.12, 1.02, 4.69)\n",
      "Vehicle 1: ✅ Step Done: go to (avoidance) -> (5.12, 1.02, 4.69)\n",
      "Vehicle 1: ▶️ Step Started: go to (avoidance) -> (6.16, 3.19, 4.69)\n",
      "Vehicle 1: ✅ Step Done: go to (avoidance) -> (6.16, 3.19, 4.69)\n",
      "Vehicle 1: ▶️ Step Started: go to (avoidance) -> (6.38, 3.43, 4.69)\n",
      "Vehicle 1: ✅ Step Done: go to (avoidance) -> (6.38, 3.43, 4.69)\n",
      "Vehicle 1: ▶️ Step Started: go to (avoidance) -> (6.45, 3.51, 4.69)\n",
      "Vehicle 1: ✅ Step Done: go to (avoidance) -> (6.45, 3.51, 4.69)\n",
      "Vehicle 1: ▶️ Step Started: go to (avoidance) -> (6.46, 3.52, 4.69)\n",
      "Vehicle 1: ✅ Step Done: go to (avoidance) -> (6.46, 3.52, 4.69)\n",
      "Vehicle 1: ▶️ Step Started: go to (avoidance) -> (6.47, 3.53, 4.69)\n",
      "Vehicle 1: ✅ Step Done: go to (avoidance) -> (6.47, 3.53, 4.69)\n",
      "Vehicle 1: ▶️ Step Started: go to (avoidance) -> (6.47, 3.53, 4.69)\n",
      "Vehicle 1: ✅ Step Done: go to (avoidance) -> (6.47, 3.53, 4.69)\n",
      "Vehicle 1: ▶️ Step Started: go to (avoidance) -> (6.47, 3.53, 4.69)\n",
      "Vehicle 1: ✅ Step Done: go to (avoidance) -> (6.47, 3.53, 4.69)\n",
      "Vehicle 1: ▶️ Step Started: go to (avoidance) -> (6.47, 3.53, 4.69)\n",
      "Vehicle 1: ✅ Step Done: go to (avoidance) -> (6.47, 3.53, 4.69)\n",
      "Vehicle 1: ▶️ Step Started: go to (avoidance) -> (6.47, 3.53, 4.69)\n",
      "Vehicle 1: ✅ Step Done: go to (avoidance) -> (6.47, 3.53, 4.69)\n",
      "Vehicle 1: ▶️ Step Started: go to (avoidance) -> (6.47, 3.53, 4.69)\n",
      "Vehicle 1: ✅ Step Done: go to (avoidance) -> (6.47, 3.53, 4.69)\n",
      "Vehicle 1: ▶️ Step Started: go to (avoidance) -> (6.47, 3.53, 4.69)\n",
      "Vehicle 1: ✅ Step Done: go to (avoidance) -> (6.47, 3.53, 4.69)\n",
      "Vehicle 1: ▶️ Step Started: go to (avoidance) -> (6.48, 3.53, 4.69)\n",
      "Vehicle 1: ✅ Step Done: go to (avoidance) -> (6.48, 3.53, 4.69)\n",
      "Vehicle 1: ▶️ Step Started: go to (avoidance) -> (6.48, 3.53, 4.69)\n",
      "Vehicle 1: ✅ Step Done: go to (avoidance) -> (6.48, 3.53, 4.69)\n",
      "Vehicle 1: ▶️ Step Started: go to (avoidance) -> (6.48, 3.54, 4.69)\n",
      "Vehicle 1: ✅ Step Done: go to (avoidance) -> (6.48, 3.54, 4.69)\n",
      "Vehicle 1: ▶️ Step Started: go to (avoidance) -> (6.48, 3.54, 4.69)\n",
      "Vehicle 1: ✅ Step Done: go to (avoidance) -> (6.48, 3.54, 4.69)\n",
      "Vehicle 1: ▶️ Step Started: go to (avoidance) -> (6.48, 3.54, 4.69)\n",
      "Vehicle 1: ✅ Step Done: go to (avoidance) -> (6.48, 3.54, 4.69)\n",
      "Vehicle 1: ▶️ Step Started: go to (avoidance) -> (6.48, 3.54, 4.69)\n",
      "Vehicle 1: ✅ Step Done: go to (avoidance) -> (6.48, 3.54, 4.69)\n",
      "Vehicle 1: ▶️ Step Started: go to (avoidance) -> (6.48, 3.54, 4.69)\n",
      "Vehicle 1: ✅ Step Done: go to (avoidance) -> (6.48, 3.54, 4.69)\n",
      "Vehicle 1: ▶️ Step Started: go to (avoidance) -> (6.48, 3.54, 4.69)\n",
      "Vehicle 1: ✅ Step Done: go to (avoidance) -> (6.48, 3.54, 4.69)\n",
      "Vehicle 1: ▶️ Step Started: go to (avoidance) -> (6.48, 3.54, 4.69)\n",
      "Vehicle 1: ✅ Step Done: go to (avoidance) -> (6.48, 3.54, 4.69)\n",
      "Vehicle 1: ▶️ Step Started: go to (avoidance) -> (6.48, 3.54, 4.69)\n",
      "Vehicle 1: ✅ Step Done: go to (avoidance) -> (6.48, 3.54, 4.69)\n",
      "Vehicle 1: ▶️ Step Started: go to (avoidance) -> (6.49, 3.54, 4.69)\n",
      "Vehicle 1: ✅ Step Done: go to (avoidance) -> (6.49, 3.54, 4.69)\n",
      "Vehicle 1: ▶️ Step Started: go to (avoidance) -> (6.49, 3.54, 4.69)\n",
      "Vehicle 1: ✅ Step Done: go to (avoidance) -> (6.49, 3.54, 4.69)\n",
      "Vehicle 1: ▶️ Step Started: go to (avoidance) -> (6.49, 3.54, 4.7)\n",
      "Vehicle 1: ✅ Step Done: go to (avoidance) -> (6.49, 3.54, 4.7)\n",
      "Vehicle 1: ▶️ Step Started: go to (avoidance) -> (6.49, 3.55, 4.7)\n",
      "Vehicle 1: ✅ Step Done: go to (avoidance) -> (6.49, 3.55, 4.7)\n",
      "Vehicle 1: ▶️ Step Started: go to (avoidance) -> (6.49, 3.55, 4.7)\n",
      "Vehicle 1: ✅ Step Done: go to (avoidance) -> (6.49, 3.55, 4.7)\n",
      "Vehicle 1: ▶️ Step Started: go to (avoidance) -> (6.49, 3.55, 4.7)\n",
      "Vehicle 1: ✅ Step Done: go to (avoidance) -> (6.49, 3.55, 4.7)\n",
      "Vehicle 1: ▶️ Step Started: go to (avoidance) -> (6.49, 3.55, 4.7)\n",
      "Vehicle 1: ✅ Step Done: go to (avoidance) -> (6.49, 3.55, 4.7)\n",
      "Vehicle 1: ▶️ Step Started: go to (avoidance) -> (6.49, 3.55, 4.7)\n",
      "Vehicle 1: ✅ Step Done: go to (avoidance) -> (6.49, 3.55, 4.7)\n",
      "Vehicle 1: ▶️ Step Started: go to (avoidance) -> (6.49, 3.55, 4.7)\n",
      "Vehicle 1: ✅ Step Done: go to (avoidance) -> (6.49, 3.55, 4.7)\n",
      "Vehicle 1: ▶️ Step Started: go to (avoidance) -> (6.49, 3.55, 4.7)\n",
      "Vehicle 1: ✅ Step Done: go to (avoidance) -> (6.49, 3.55, 4.7)\n",
      "Vehicle 1: ▶️ Step Started: go to (avoidance) -> (6.49, 3.55, 4.7)\n",
      "Vehicle 1: ✅ Step Done: go to (avoidance) -> (6.49, 3.55, 4.7)\n",
      "Vehicle 1: ▶️ Step Started: go to (avoidance) -> (6.5, 3.55, 4.7)\n",
      "Vehicle 1: ✅ Step Done: go to (avoidance) -> (6.5, 3.55, 4.7)\n",
      "Vehicle 1: ▶️ Step Started: go to (avoidance) -> (6.5, 3.55, 4.7)\n",
      "Vehicle 1: ✅ Step Done: go to (avoidance) -> (6.5, 3.55, 4.7)\n",
      "Vehicle 1: ▶️ Step Started: go to (avoidance) -> (6.5, 3.55, 4.7)\n",
      "Vehicle 1: ✅ Step Done: go to (avoidance) -> (6.5, 3.55, 4.7)\n",
      "Vehicle 1: ▶️ Step Started: go to (avoidance) -> (6.5, 3.55, 4.7)\n",
      "Vehicle 1: ✅ Step Done: go to (avoidance) -> (6.5, 3.55, 4.7)\n",
      "Vehicle 1: ▶️ Step Started: go to (avoidance) -> (6.5, 3.55, 4.7)\n",
      "Vehicle 1: ✅ Step Done: go to (avoidance) -> (6.5, 3.55, 4.7)\n",
      "Vehicle 1: ▶️ Step Started: go to (avoidance) -> (6.5, 3.55, 4.7)\n",
      "Vehicle 1: ✅ Step Done: go to (avoidance) -> (6.5, 3.55, 4.7)\n",
      "Vehicle 1: ▶️ Step Started: go to (avoidance) -> (6.5, 3.56, 4.7)\n",
      "Vehicle 1: ✅ Step Done: go to (avoidance) -> (6.5, 3.56, 4.7)\n",
      "Vehicle 1: ▶️ Step Started: go to (avoidance) -> (6.5, 3.56, 4.7)\n",
      "Vehicle 1: ✅ Step Done: go to (avoidance) -> (6.5, 3.56, 4.7)\n",
      "Vehicle 1: ▶️ Step Started: go to (avoidance) -> (6.5, 3.56, 4.7)\n",
      "Vehicle 1: ✅ Step Done: go to (avoidance) -> (6.5, 3.56, 4.7)\n",
      "Vehicle 1: ▶️ Step Started: go to (avoidance) -> (6.5, 3.56, 4.7)\n",
      "Vehicle 1: ✅ Step Done: go to (avoidance) -> (6.5, 3.56, 4.7)\n",
      "Vehicle 1: ▶️ Step Started: go to (avoidance) -> (6.5, 3.56, 4.7)\n",
      "Vehicle 1: ✅ Step Done: go to (avoidance) -> (6.5, 3.56, 4.7)\n",
      "Vehicle 1: ▶️ Step Started: go to (avoidance) -> (6.5, 3.56, 4.7)\n",
      "Vehicle 1: ✅ Step Done: go to (avoidance) -> (6.5, 3.56, 4.7)\n",
      "Vehicle 1: ▶️ Step Started: go to (avoidance) -> (6.5, 3.56, 4.7)\n",
      "Vehicle 1: ✅ Step Done: go to (avoidance) -> (6.5, 3.56, 4.7)\n",
      "Vehicle 1: ▶️ Step Started: go to (avoidance) -> (6.5, 3.56, 4.7)\n",
      "Vehicle 1: ✅ Step Done: go to (avoidance) -> (6.5, 3.56, 4.7)\n",
      "Vehicle 1: ▶️ Step Started: go to (avoidance) -> (6.5, 3.56, 4.7)\n",
      "Vehicle 1: ✅ Step Done: go to (avoidance) -> (6.5, 3.56, 4.7)\n",
      "Vehicle 1: ▶️ Step Started: go to (avoidance) -> (6.5, 3.56, 4.7)\n",
      "Vehicle 1: ✅ Step Done: go to (avoidance) -> (6.5, 3.56, 4.7)\n",
      "Vehicle 1: ▶️ Step Started: go to (avoidance) -> (6.5, 3.56, 4.7)\n",
      "Vehicle 1: ✅ Step Done: go to (avoidance) -> (6.5, 3.56, 4.7)\n",
      "Vehicle 1: ▶️ Step Started: go to (avoidance) -> (6.5, 3.56, 4.7)\n",
      "Vehicle 1: ✅ Step Done: go to (avoidance) -> (6.5, 3.56, 4.7)\n",
      "Vehicle 1: ▶️ Step Started: go to (avoidance) -> (6.51, 3.56, 4.7)\n",
      "Vehicle 1: ✅ Step Done: go to (avoidance) -> (6.51, 3.56, 4.7)\n",
      "Vehicle 1: ▶️ Step Started: go to (avoidance) -> (6.5, 3.56, 4.7)\n",
      "Vehicle 1: ✅ Step Done: go to (avoidance) -> (6.5, 3.56, 4.7)\n",
      "Vehicle 1: ▶️ Step Started: go to (avoidance) -> (6.51, 3.56, 4.7)\n",
      "Vehicle 1: ✅ Step Done: go to (avoidance) -> (6.51, 3.56, 4.7)\n",
      "Vehicle 1: ▶️ Step Started: go to (avoidance) -> (6.51, 3.56, 4.7)\n",
      "Vehicle 1: ✅ Step Done: go to (avoidance) -> (6.51, 3.56, 4.7)\n",
      "Vehicle 1: ▶️ Step Started: go to (avoidance) -> (6.51, 3.56, 4.7)\n",
      "Vehicle 1: ✅ Step Done: go to (avoidance) -> (6.51, 3.56, 4.7)\n",
      "Vehicle 1: ▶️ Step Started: go to (avoidance) -> (6.5, 3.56, 4.7)\n",
      "Vehicle 1: ✅ Step Done: go to (avoidance) -> (6.5, 3.56, 4.7)\n",
      "Vehicle 1: ▶️ Step Started: go to (avoidance) -> (6.51, 3.56, 4.7)\n",
      "Vehicle 1: ✅ Step Done: go to (avoidance) -> (6.51, 3.56, 4.7)\n",
      "Vehicle 1: ▶️ Step Started: go to (avoidance) -> (6.5, 3.56, 4.7)\n",
      "Vehicle 1: ✅ Step Done: go to (avoidance) -> (6.5, 3.56, 4.7)\n",
      "Vehicle 1: ▶️ Step Started: go to (avoidance) -> (6.51, 3.56, 4.7)\n",
      "Vehicle 1: ✅ Step Done: go to (avoidance) -> (6.51, 3.56, 4.7)\n",
      "Vehicle 1: ▶️ Step Started: go to (avoidance) -> (6.5, 3.56, 4.7)\n",
      "Vehicle 1: ✅ Step Done: go to (avoidance) -> (6.5, 3.56, 4.7)\n",
      "Vehicle 1: ▶️ Step Started: go to (avoidance) -> (6.5, 3.56, 4.7)\n",
      "Vehicle 1: ✅ Step Done: go to (avoidance) -> (6.5, 3.56, 4.7)\n",
      "Vehicle 1: ▶️ Step Started: go to (avoidance) -> (6.5, 3.56, 4.7)\n",
      "Vehicle 1: ✅ Step Done: go to (avoidance) -> (6.5, 3.56, 4.7)\n",
      "Vehicle 1: ▶️ Step Started: go to (avoidance) -> (6.5, 3.56, 4.7)\n",
      "Vehicle 1: ✅ Step Done: go to (avoidance) -> (6.5, 3.56, 4.7)\n",
      "Vehicle 1: ▶️ Step Started: go to (avoidance) -> (6.5, 3.56, 4.7)\n",
      "Vehicle 1: ✅ Step Done: go to (avoidance) -> (6.5, 3.56, 4.7)\n",
      "Vehicle 1: ▶️ Step Started: go to (avoidance) -> (6.5, 3.56, 4.7)\n",
      "Vehicle 1: ✅ Step Done: go to (avoidance) -> (6.5, 3.56, 4.7)\n",
      "Vehicle 1: ▶️ Step Started: go to (avoidance) -> (6.51, 3.56, 4.7)\n",
      "Vehicle 1: ✅ Step Done: go to (avoidance) -> (6.51, 3.56, 4.7)\n",
      "Vehicle 1: ▶️ Step Started: go to (avoidance) -> (6.5, 3.56, 4.7)\n",
      "Vehicle 1: ✅ Step Done: go to (avoidance) -> (6.5, 3.56, 4.7)\n",
      "Vehicle 1: ▶️ Step Started: go to (avoidance) -> (6.5, 3.56, 4.7)\n",
      "Vehicle 1: ✅ Step Done: go to (avoidance) -> (6.5, 3.56, 4.7)\n",
      "Vehicle 1: ▶️ Step Started: go to (avoidance) -> (6.5, 3.56, 4.7)\n",
      "Vehicle 1: ✅ Step Done: go to (avoidance) -> (6.5, 3.56, 4.7)\n",
      "Vehicle 1: ▶️ Step Started: go to (avoidance) -> (6.5, 3.56, 4.7)\n",
      "Vehicle 1: ✅ Step Done: go to (avoidance) -> (6.5, 3.56, 4.7)\n",
      "Vehicle 1: ▶️ Step Started: go to (avoidance) -> (6.51, 3.56, 4.7)\n",
      "Vehicle 1: ✅ Step Done: go to (avoidance) -> (6.51, 3.56, 4.7)\n",
      "Vehicle 1: ▶️ Step Started: go to (avoidance) -> (6.5, 3.56, 4.7)\n",
      "Vehicle 1: ✅ Step Done: go to (avoidance) -> (6.5, 3.56, 4.7)\n",
      "Vehicle 1: ▶️ Step Started: go to (avoidance) -> (6.5, 3.56, 4.7)\n",
      "Vehicle 1: ✅ Step Done: go to (avoidance) -> (6.5, 3.56, 4.7)\n",
      "Vehicle 1: ▶️ Step Started: go to (avoidance) -> (6.5, 3.56, 4.7)\n",
      "Vehicle 1: ✅ Step Done: go to (avoidance) -> (6.5, 3.56, 4.7)\n",
      "Vehicle 1: ▶️ Step Started: go to (avoidance) -> (6.5, 3.56, 4.7)\n",
      "Vehicle 1: ✅ Step Done: go to (avoidance) -> (6.5, 3.56, 4.7)\n",
      "Vehicle 1: ▶️ Step Started: go to (avoidance) -> (6.5, 3.56, 4.7)\n",
      "Vehicle 1: ✅ Step Done: go to (avoidance) -> (6.5, 3.56, 4.7)\n",
      "Vehicle 1: ▶️ Step Started: go to (avoidance) -> (6.5, 3.56, 4.7)\n",
      "Vehicle 1: ✅ Step Done: go to (avoidance) -> (6.5, 3.56, 4.7)\n",
      "Vehicle 1: ▶️ Step Started: go to (avoidance) -> (6.5, 3.56, 4.7)\n",
      "Vehicle 1: ✅ Step Done: go to (avoidance) -> (6.5, 3.56, 4.7)\n",
      "Vehicle 1: ▶️ Step Started: go to (avoidance) -> (6.5, 3.56, 4.7)\n",
      "Vehicle 1: ✅ Step Done: go to (avoidance) -> (6.5, 3.56, 4.7)\n",
      "Vehicle 1: ▶️ Step Started: go to (avoidance) -> (6.5, 3.56, 4.7)\n",
      "Vehicle 1: ✅ Step Done: go to (avoidance) -> (6.5, 3.56, 4.7)\n",
      "Vehicle 1: ▶️ Step Started: go to (avoidance) -> (6.5, 3.56, 4.7)\n",
      "Vehicle 1: ✅ Step Done: go to (avoidance) -> (6.5, 3.56, 4.7)\n",
      "Vehicle 1: ▶️ Step Started: go to (avoidance) -> (6.5, 3.56, 4.7)\n",
      "Vehicle 1: ✅ Step Done: go to (avoidance) -> (6.5, 3.56, 4.7)\n",
      "Vehicle 1: ▶️ Step Started: go to (avoidance) -> (6.5, 3.56, 4.7)\n",
      "Vehicle 1: ✅ Step Done: go to (avoidance) -> (6.5, 3.56, 4.7)\n",
      "Vehicle 1: ▶️ Step Started: go to (avoidance) -> (6.5, 3.56, 4.7)\n",
      "Vehicle 1: ✅ Step Done: go to (avoidance) -> (6.5, 3.56, 4.7)\n",
      "Vehicle 1: ▶️ Step Started: go to (avoidance) -> (6.5, 3.56, 4.7)\n",
      "Vehicle 1: ✅ Step Done: go to (avoidance) -> (6.5, 3.56, 4.7)\n",
      "Vehicle 1: ▶️ Step Started: go to (avoidance) -> (6.5, 3.56, 4.7)\n",
      "Vehicle 1: ✅ Step Done: go to (avoidance) -> (6.5, 3.56, 4.7)\n",
      "Vehicle 1: ▶️ Step Started: go to (avoidance) -> (6.5, 3.56, 4.7)\n",
      "Vehicle 1: ✅ Step Done: go to (avoidance) -> (6.5, 3.56, 4.7)\n",
      "Vehicle 1: ▶️ Step Started: go to (avoidance) -> (6.5, 3.56, 4.7)\n",
      "Vehicle 1: ✅ Step Done: go to (avoidance) -> (6.5, 3.56, 4.7)\n",
      "Vehicle 1: ▶️ Step Started: go to (avoidance) -> (6.5, 3.56, 4.7)\n",
      "Vehicle 1: ✅ Step Done: go to (avoidance) -> (6.5, 3.56, 4.7)\n",
      "Vehicle 1: ▶️ Step Started: go to (avoidance) -> (6.5, 3.56, 4.7)\n",
      "Vehicle 1: ✅ Step Done: go to (avoidance) -> (6.5, 3.56, 4.7)\n",
      "Vehicle 1: ▶️ Step Started: go to (avoidance) -> (6.5, 3.55, 4.7)\n",
      "Vehicle 1: ✅ Step Done: go to (avoidance) -> (6.5, 3.55, 4.7)\n",
      "Vehicle 1: ▶️ Step Started: go to (avoidance) -> (6.49, 3.55, 4.7)\n",
      "Vehicle 1: ✅ Step Done: go to (avoidance) -> (6.49, 3.55, 4.7)\n",
      "Vehicle 1: ▶️ Step Started: go to (avoidance) -> (6.49, 3.55, 4.7)\n",
      "Vehicle 1: ✅ Step Done: go to (avoidance) -> (6.49, 3.55, 4.7)\n",
      "Vehicle 1: ▶️ Step Started: go to (avoidance) -> (6.49, 3.55, 4.7)\n",
      "Vehicle 1: ✅ Step Done: go to (avoidance) -> (6.49, 3.55, 4.7)\n",
      "Vehicle 1: ▶️ Step Started: go to (avoidance) -> (6.49, 3.55, 4.7)\n",
      "Vehicle 1: ✅ Step Done: go to (avoidance) -> (6.49, 3.55, 4.7)\n",
      "Vehicle 1: ▶️ Step Started: go to (avoidance) -> (6.49, 3.55, 4.7)\n",
      "Vehicle 1: ✅ Step Done: go to (avoidance) -> (6.49, 3.55, 4.7)\n",
      "Vehicle 1: ▶️ Step Started: go to (avoidance) -> (6.49, 3.55, 4.7)\n",
      "Vehicle 1: ✅ Step Done: go to (avoidance) -> (6.49, 3.55, 4.7)\n",
      "Vehicle 1: ▶️ Step Started: go to (avoidance) -> (6.49, 3.54, 4.7)\n",
      "Vehicle 1: ✅ Step Done: go to (avoidance) -> (6.49, 3.54, 4.7)\n",
      "Vehicle 1: ▶️ Step Started: go to (avoidance) -> (6.48, 3.54, 4.7)\n",
      "Vehicle 1: ✅ Step Done: go to (avoidance) -> (6.48, 3.54, 4.7)\n",
      "Vehicle 1: ▶️ Step Started: go to (avoidance) -> (6.48, 3.54, 4.7)\n",
      "Vehicle 1: ✅ Step Done: go to (avoidance) -> (6.48, 3.54, 4.7)\n",
      "Vehicle 1: ▶️ Step Started: go to (avoidance) -> (6.48, 3.54, 4.7)\n",
      "Vehicle 1: ✅ Step Done: go to (avoidance) -> (6.48, 3.54, 4.7)\n",
      "Vehicle 1: ▶️ Step Started: go to (avoidance) -> (6.48, 3.54, 4.7)\n",
      "Vehicle 1: ✅ Step Done: go to (avoidance) -> (6.48, 3.54, 4.7)\n",
      "Vehicle 1: ▶️ Step Started: go to (avoidance) -> (6.48, 3.54, 4.7)\n",
      "Vehicle 1: ✅ Step Done: go to (avoidance) -> (6.48, 3.54, 4.7)\n",
      "Vehicle 1: ▶️ Step Started: go to (avoidance) -> (6.48, 3.54, 4.7)\n",
      "Vehicle 1: ✅ Step Done: go to (avoidance) -> (6.48, 3.54, 4.7)\n",
      "Vehicle 1: ▶️ Step Started: go to (avoidance) -> (6.48, 3.54, 4.7)\n",
      "Vehicle 1: ✅ Step Done: go to (avoidance) -> (6.48, 3.54, 4.7)\n",
      "Vehicle 1: ▶️ Step Started: go to (avoidance) -> (6.48, 3.54, 4.7)\n",
      "Vehicle 1: ✅ Step Done: go to (avoidance) -> (6.48, 3.54, 4.7)\n",
      "Vehicle 1: ▶️ Step Started: go to (avoidance) -> (6.48, 3.53, 4.7)\n",
      "Vehicle 1: ✅ Step Done: go to (avoidance) -> (6.48, 3.53, 4.7)\n",
      "Vehicle 1: ▶️ Step Started: go to (avoidance) -> (6.47, 3.53, 4.7)\n",
      "Vehicle 1: ✅ Step Done: go to (avoidance) -> (6.47, 3.53, 4.7)\n",
      "Vehicle 1: ▶️ Step Started: go to (avoidance) -> (6.47, 3.53, 4.7)\n",
      "Vehicle 1: ✅ Step Done: go to (avoidance) -> (6.47, 3.53, 4.7)\n",
      "Vehicle 1: ▶️ Step Started: go to (avoidance) -> (6.47, 3.53, 4.7)\n",
      "Vehicle 1: ✅ Step Done: go to (avoidance) -> (6.47, 3.53, 4.7)\n",
      "Vehicle 1: ▶️ Step Started: go to (avoidance) -> (6.47, 3.53, 4.7)\n",
      "Vehicle 1: ✅ Step Done: go to (avoidance) -> (6.47, 3.53, 4.7)\n",
      "Vehicle 1: ▶️ Step Started: go to (avoidance) -> (6.47, 3.52, 4.7)\n",
      "Vehicle 1: ✅ Step Done: go to (avoidance) -> (6.47, 3.52, 4.7)\n",
      "Vehicle 1: ▶️ Step Started: go to (avoidance) -> (6.46, 3.52, 4.7)\n",
      "Vehicle 1: ✅ Step Done: go to (avoidance) -> (6.46, 3.52, 4.7)\n",
      "Vehicle 1: ▶️ Step Started: go to (avoidance) -> (6.46, 3.52, 4.7)\n",
      "Vehicle 1: ✅ Step Done: go to (avoidance) -> (6.46, 3.52, 4.7)\n",
      "Vehicle 1: ▶️ Step Started: go to (avoidance) -> (6.46, 3.52, 4.7)\n",
      "Vehicle 1: ✅ Step Done: go to (avoidance) -> (6.46, 3.52, 4.7)\n",
      "Vehicle 1: ▶️ Step Started: go to (avoidance) -> (6.46, 3.51, 4.7)\n",
      "Vehicle 1: ✅ Step Done: go to (avoidance) -> (6.46, 3.51, 4.7)\n",
      "Vehicle 1: ▶️ Step Started: go to (avoidance) -> (6.45, 3.51, 4.7)\n",
      "Vehicle 1: ✅ Step Done: go to (avoidance) -> (6.45, 3.51, 4.7)\n",
      "Vehicle 1: ▶️ Step Started: go to (avoidance) -> (6.45, 3.5, 4.7)\n",
      "Vehicle 1: ✅ Step Done: go to (avoidance) -> (6.45, 3.5, 4.7)\n",
      "Vehicle 1: ▶️ Step Started: go to (avoidance) -> (6.44, 3.5, 4.7)\n",
      "Vehicle 1: ✅ Step Done: go to (avoidance) -> (6.44, 3.5, 4.7)\n",
      "Vehicle 1: ▶️ Step Started: go to (avoidance) -> (6.44, 3.5, 4.7)\n",
      "Vehicle 1: ✅ Step Done: go to (avoidance) -> (6.44, 3.5, 4.7)\n",
      "Vehicle 1: ▶️ Step Started: go to (avoidance) -> (6.44, 3.5, 4.7)\n",
      "Vehicle 1: ✅ Step Done: go to (avoidance) -> (6.44, 3.5, 4.7)\n",
      "Vehicle 1: ▶️ Step Started: go to (avoidance) -> (6.43, 3.49, 4.7)\n",
      "Vehicle 1: ✅ Step Done: go to (avoidance) -> (6.43, 3.49, 4.7)\n",
      "Vehicle 1: ▶️ Step Started: go to (avoidance) -> (6.43, 3.49, 4.7)\n",
      "Vehicle 1: ✅ Step Done: go to (avoidance) -> (6.43, 3.49, 4.7)\n",
      "Vehicle 1: ▶️ Step Started: go to (avoidance) -> (6.42, 3.48, 4.7)\n",
      "Vehicle 1: ✅ Step Done: go to (avoidance) -> (6.42, 3.48, 4.7)\n",
      "Vehicle 1: ▶️ Step Started: go to (avoidance) -> (6.41, 3.47, 4.7)\n",
      "Vehicle 1: ✅ Step Done: go to (avoidance) -> (6.41, 3.47, 4.7)\n",
      "Vehicle 1: ▶️ Step Started: go to (avoidance) -> (6.4, 3.46, 4.7)\n",
      "Vehicle 1: ✅ Step Done: go to (avoidance) -> (6.4, 3.46, 4.7)\n",
      "Vehicle 1: ▶️ Step Started: go to (avoidance) -> (6.4, 3.45, 4.7)\n",
      "Vehicle 1: ✅ Step Done: go to (avoidance) -> (6.4, 3.45, 4.7)\n",
      "Vehicle 1: ▶️ Step Started: go to (avoidance) -> (6.39, 3.45, 4.7)\n",
      "Vehicle 1: ✅ Step Done: go to (avoidance) -> (6.39, 3.45, 4.7)\n",
      "Vehicle 1: ▶️ Step Started: go to (avoidance) -> (6.38, 3.44, 4.7)\n",
      "Vehicle 1: ✅ Step Done: go to (avoidance) -> (6.38, 3.44, 4.7)\n",
      "Vehicle 1: ▶️ Step Started: go to (avoidance) -> (6.36, 3.41, 4.7)\n",
      "Vehicle 1: ✅ Step Done: go to (avoidance) -> (6.36, 3.41, 4.7)\n",
      "Vehicle 1 switched to mode: 🔁 MISSION\n",
      "Vehicle 1: ▶️ Step Started: go to  -> (20, 0, 5)\n",
      "Vehicle 1 switched to mode: 🔁 AVOIDANCE\n",
      "Vehicle 1: ▶️ Step Started: go to (avoidance) -> (6.5, 3.56, 4.7)\n",
      "Vehicle 1: ✅ Step Done: go to (avoidance) -> (6.5, 3.56, 4.7)\n",
      "Vehicle 1: ▶️ Step Started: go to (avoidance) -> (6.54, 3.59, 4.7)\n",
      "Vehicle 1: ✅ Step Done: go to (avoidance) -> (6.54, 3.59, 4.7)\n",
      "Vehicle 1: ▶️ Step Started: go to (avoidance) -> (6.57, 3.62, 4.7)\n",
      "Vehicle 1: ✅ Step Done: go to (avoidance) -> (6.57, 3.62, 4.7)\n",
      "Vehicle 1: ▶️ Step Started: go to (avoidance) -> (6.59, 3.65, 4.7)\n",
      "Vehicle 1: ✅ Step Done: go to (avoidance) -> (6.59, 3.65, 4.7)\n",
      "Vehicle 1: ▶️ Step Started: go to (avoidance) -> (6.62, 3.67, 4.7)\n",
      "Vehicle 1: ✅ Step Done: go to (avoidance) -> (6.62, 3.67, 4.7)\n",
      "Vehicle 1: ▶️ Step Started: go to (avoidance) -> (6.64, 3.69, 4.7)\n",
      "Vehicle 1: ✅ Step Done: go to (avoidance) -> (6.64, 3.69, 4.7)\n",
      "Vehicle 1: ▶️ Step Started: go to (avoidance) -> (6.64, 3.69, 4.7)\n",
      "Vehicle 1: ✅ Step Done: go to (avoidance) -> (6.64, 3.69, 4.7)\n",
      "Vehicle 1: ▶️ Step Started: go to (avoidance) -> (6.69, 3.73, 4.7)\n",
      "Vehicle 1: ✅ Step Done: go to (avoidance) -> (6.69, 3.73, 4.7)\n",
      "Vehicle 1: ▶️ Step Started: go to (avoidance) -> (6.7, 3.75, 4.7)\n",
      "Vehicle 1: ✅ Step Done: go to (avoidance) -> (6.7, 3.75, 4.7)\n",
      "Vehicle 1: ▶️ Step Started: go to (avoidance) -> (6.72, 3.76, 4.7)\n",
      "Vehicle 1: ✅ Step Done: go to (avoidance) -> (6.72, 3.76, 4.7)\n",
      "Vehicle 1: ▶️ Step Started: go to (avoidance) -> (6.73, 3.77, 4.7)\n",
      "Vehicle 1: ✅ Step Done: go to (avoidance) -> (6.73, 3.77, 4.7)\n",
      "Vehicle 1: ▶️ Step Started: go to (avoidance) -> (6.74, 3.78, 4.7)\n",
      "Vehicle 1: ✅ Step Done: go to (avoidance) -> (6.74, 3.78, 4.7)\n",
      "Vehicle 1: ▶️ Step Started: go to (avoidance) -> (6.76, 3.79, 4.7)\n",
      "Vehicle 1: ✅ Step Done: go to (avoidance) -> (6.76, 3.79, 4.7)\n",
      "Vehicle 1: ▶️ Step Started: go to (avoidance) -> (6.78, 3.82, 4.7)\n",
      "Vehicle 1: ✅ Step Done: go to (avoidance) -> (6.78, 3.82, 4.7)\n",
      "Vehicle 1: ▶️ Step Started: go to (avoidance) -> (6.79, 3.82, 4.7)\n",
      "Vehicle 1: ✅ Step Done: go to (avoidance) -> (6.79, 3.82, 4.7)\n",
      "Vehicle 1: ▶️ Step Started: go to (avoidance) -> (6.8, 3.83, 4.7)\n",
      "Vehicle 1: ✅ Step Done: go to (avoidance) -> (6.8, 3.83, 4.7)\n",
      "Vehicle 1: ▶️ Step Started: go to (avoidance) -> (6.81, 3.84, 4.7)\n",
      "Vehicle 1: ✅ Step Done: go to (avoidance) -> (6.81, 3.84, 4.7)\n",
      "Vehicle 1: ▶️ Step Started: go to (avoidance) -> (6.82, 3.85, 4.7)\n",
      "Vehicle 1: ✅ Step Done: go to (avoidance) -> (6.82, 3.85, 4.7)\n",
      "Vehicle 1: ▶️ Step Started: go to (avoidance) -> (6.83, 3.85, 4.7)\n",
      "Vehicle 1: ✅ Step Done: go to (avoidance) -> (6.83, 3.85, 4.7)\n",
      "Vehicle 1: ▶️ Step Started: go to (avoidance) -> (6.84, 3.86, 4.7)\n",
      "Vehicle 1: ✅ Step Done: go to (avoidance) -> (6.84, 3.86, 4.7)\n",
      "Vehicle 1: ▶️ Step Started: go to (avoidance) -> (6.86, 3.88, 4.7)\n",
      "Vehicle 1: ✅ Step Done: go to (avoidance) -> (6.86, 3.88, 4.7)\n",
      "Vehicle 1: ▶️ Step Started: go to (avoidance) -> (6.86, 3.88, 4.7)\n",
      "Vehicle 1: ✅ Step Done: go to (avoidance) -> (6.86, 3.88, 4.7)\n",
      "Vehicle 1: ▶️ Step Started: go to (avoidance) -> (6.88, 3.9, 4.7)\n",
      "Vehicle 1: ✅ Step Done: go to (avoidance) -> (6.88, 3.9, 4.7)\n",
      "Vehicle 1: ▶️ Step Started: go to (avoidance) -> (6.9, 3.91, 4.7)\n",
      "Vehicle 1: ✅ Step Done: go to (avoidance) -> (6.9, 3.91, 4.7)\n",
      "Vehicle 1: ▶️ Step Started: go to (avoidance) -> (6.91, 3.92, 4.7)\n",
      "Vehicle 1: ✅ Step Done: go to (avoidance) -> (6.91, 3.92, 4.7)\n",
      "Vehicle 1: ▶️ Step Started: go to (avoidance) -> (6.92, 3.93, 4.7)\n",
      "Vehicle 1: ✅ Step Done: go to (avoidance) -> (6.92, 3.93, 4.7)\n",
      "Vehicle 1: ▶️ Step Started: go to (avoidance) -> (6.92, 3.93, 4.7)\n",
      "Vehicle 1: ✅ Step Done: go to (avoidance) -> (6.92, 3.93, 4.7)\n",
      "Vehicle 1: ▶️ Step Started: go to (avoidance) -> (6.94, 3.94, 4.7)\n",
      "Vehicle 1: ✅ Step Done: go to (avoidance) -> (6.94, 3.94, 4.7)\n",
      "Vehicle 1: ▶️ Step Started: go to (avoidance) -> (6.96, 3.96, 4.7)\n",
      "Vehicle 1: ✅ Step Done: go to (avoidance) -> (6.96, 3.96, 4.7)\n",
      "Vehicle 1: ▶️ Step Started: go to (avoidance) -> (6.97, 3.97, 4.7)\n",
      "Vehicle 1: ✅ Step Done: go to (avoidance) -> (6.97, 3.97, 4.7)\n",
      "Vehicle 1: ▶️ Step Started: go to (avoidance) -> (7.0, 3.99, 4.7)\n",
      "Vehicle 1: ✅ Step Done: go to (avoidance) -> (7.0, 3.99, 4.7)\n",
      "Vehicle 1: ▶️ Step Started: go to (avoidance) -> (7.02, 4.0, 4.7)\n",
      "Vehicle 1: ✅ Step Done: go to (avoidance) -> (7.02, 4.0, 4.7)\n",
      "Vehicle 1: ▶️ Step Started: go to (avoidance) -> (7.02, 4.01, 4.7)\n",
      "Vehicle 1: ✅ Step Done: go to (avoidance) -> (7.02, 4.01, 4.7)\n",
      "Vehicle 1: ▶️ Step Started: go to (avoidance) -> (7.04, 4.02, 4.7)\n",
      "Vehicle 1: ✅ Step Done: go to (avoidance) -> (7.04, 4.02, 4.7)\n",
      "Vehicle 1: ▶️ Step Started: go to (avoidance) -> (7.06, 4.03, 4.7)\n",
      "Vehicle 1: ✅ Step Done: go to (avoidance) -> (7.06, 4.03, 4.7)\n",
      "Vehicle 1: ▶️ Step Started: go to (avoidance) -> (7.07, 4.04, 4.7)\n",
      "Vehicle 1: ✅ Step Done: go to (avoidance) -> (7.07, 4.04, 4.7)\n",
      "Vehicle 1: ▶️ Step Started: go to (avoidance) -> (7.08, 4.05, 4.7)\n",
      "Vehicle 1: ✅ Step Done: go to (avoidance) -> (7.08, 4.05, 4.7)\n",
      "Vehicle 1: ▶️ Step Started: go to (avoidance) -> (7.09, 4.06, 4.7)\n",
      "Vehicle 1: ✅ Step Done: go to (avoidance) -> (7.09, 4.06, 4.7)\n",
      "Vehicle 1: ▶️ Step Started: go to (avoidance) -> (7.12, 4.07, 4.7)\n",
      "Vehicle 1: ✅ Step Done: go to (avoidance) -> (7.12, 4.07, 4.7)\n",
      "Vehicle 1: ▶️ Step Started: go to (avoidance) -> (7.13, 4.08, 4.7)\n",
      "Vehicle 1: ✅ Step Done: go to (avoidance) -> (7.13, 4.08, 4.7)\n",
      "Vehicle 1: ▶️ Step Started: go to (avoidance) -> (7.15, 4.1, 4.7)\n",
      "Vehicle 1: ✅ Step Done: go to (avoidance) -> (7.15, 4.1, 4.7)\n",
      "Vehicle 1: ▶️ Step Started: go to (avoidance) -> (7.16, 4.1, 4.7)\n",
      "Vehicle 1: ✅ Step Done: go to (avoidance) -> (7.16, 4.1, 4.7)\n",
      "Vehicle 1: ▶️ Step Started: go to (avoidance) -> (7.16, 4.11, 4.7)\n",
      "Vehicle 1: ✅ Step Done: go to (avoidance) -> (7.16, 4.11, 4.7)\n",
      "Vehicle 1: ▶️ Step Started: go to (avoidance) -> (7.17, 4.11, 4.7)\n",
      "Vehicle 1: ✅ Step Done: go to (avoidance) -> (7.17, 4.11, 4.7)\n",
      "Vehicle 1: ▶️ Step Started: go to (avoidance) -> (7.19, 4.12, 4.7)\n",
      "Vehicle 1: ✅ Step Done: go to (avoidance) -> (7.19, 4.12, 4.7)\n",
      "Vehicle 1: ▶️ Step Started: go to (avoidance) -> (7.19, 4.13, 4.7)\n",
      "Vehicle 1: ✅ Step Done: go to (avoidance) -> (7.19, 4.13, 4.7)\n",
      "Vehicle 1: ▶️ Step Started: go to (avoidance) -> (7.2, 4.13, 4.7)\n",
      "Vehicle 1: ✅ Step Done: go to (avoidance) -> (7.2, 4.13, 4.7)\n",
      "Vehicle 1: ▶️ Step Started: go to (avoidance) -> (7.22, 4.15, 4.7)\n",
      "Vehicle 1: ✅ Step Done: go to (avoidance) -> (7.22, 4.15, 4.7)\n",
      "Vehicle 1: ▶️ Step Started: go to (avoidance) -> (7.24, 4.16, 4.7)\n",
      "Vehicle 1: ✅ Step Done: go to (avoidance) -> (7.24, 4.16, 4.7)\n",
      "Vehicle 1: ▶️ Step Started: go to (avoidance) -> (7.25, 4.17, 4.7)\n",
      "Vehicle 1: ✅ Step Done: go to (avoidance) -> (7.25, 4.17, 4.7)\n",
      "Vehicle 1: ▶️ Step Started: go to (avoidance) -> (7.25, 4.17, 4.7)\n",
      "Vehicle 1: ✅ Step Done: go to (avoidance) -> (7.25, 4.17, 4.7)\n",
      "Vehicle 1: ▶️ Step Started: go to (avoidance) -> (7.26, 4.17, 4.7)\n",
      "Vehicle 1: ✅ Step Done: go to (avoidance) -> (7.26, 4.17, 4.7)\n",
      "Vehicle 1: ▶️ Step Started: go to (avoidance) -> (7.29, 4.19, 4.7)\n",
      "Vehicle 1: ✅ Step Done: go to (avoidance) -> (7.29, 4.19, 4.7)\n",
      "Vehicle 1: ▶️ Step Started: go to (avoidance) -> (7.31, 4.2, 4.7)\n",
      "Vehicle 1: ✅ Step Done: go to (avoidance) -> (7.31, 4.2, 4.7)\n",
      "Vehicle 1: ▶️ Step Started: go to (avoidance) -> (7.32, 4.21, 4.7)\n",
      "Vehicle 1: ✅ Step Done: go to (avoidance) -> (7.32, 4.21, 4.7)\n",
      "Vehicle 1: ▶️ Step Started: go to (avoidance) -> (7.37, 4.24, 4.7)\n",
      "Vehicle 1: ✅ Step Done: go to (avoidance) -> (7.37, 4.24, 4.7)\n",
      "Vehicle 1: ▶️ Step Started: go to (avoidance) -> (7.76, 4.46, 4.7)\n",
      "Vehicle 1: ✅ Step Done: go to (avoidance) -> (7.76, 4.46, 4.7)\n",
      "Vehicle 1: ▶️ Step Started: go to (avoidance) -> (8.68, 4.81, 4.7)\n",
      "Vehicle 1: ✅ Step Done: go to (avoidance) -> (8.68, 4.81, 4.7)\n",
      "Vehicle 1: ▶️ Step Started: go to (avoidance) -> (9.23, 4.93, 4.7)\n",
      "Vehicle 1: ✅ Step Done: go to (avoidance) -> (9.23, 4.93, 4.7)\n",
      "Vehicle 1: ▶️ Step Started: go to (avoidance) -> (9.29, 4.94, 4.71)\n",
      "Vehicle 1: ✅ Step Done: go to (avoidance) -> (9.29, 4.94, 4.71)\n",
      "Vehicle 1: ▶️ Step Started: go to (avoidance) -> (9.29, 4.94, 4.71)\n",
      "Vehicle 1: ✅ Step Done: go to (avoidance) -> (9.29, 4.94, 4.71)\n",
      "Vehicle 1: ▶️ Step Started: go to (avoidance) -> (9.29, 4.94, 4.71)\n",
      "Vehicle 1: ✅ Step Done: go to (avoidance) -> (9.29, 4.94, 4.71)\n",
      "Vehicle 1: ▶️ Step Started: go to (avoidance) -> (9.29, 4.94, 4.71)\n",
      "Vehicle 1: ✅ Step Done: go to (avoidance) -> (9.29, 4.94, 4.71)\n",
      "Vehicle 1: ▶️ Step Started: go to (avoidance) -> (9.29, 4.94, 4.71)\n",
      "Vehicle 1: ✅ Step Done: go to (avoidance) -> (9.29, 4.94, 4.71)\n",
      "Vehicle 1: ▶️ Step Started: go to (avoidance) -> (9.29, 4.94, 4.71)\n",
      "Vehicle 1: ✅ Step Done: go to (avoidance) -> (9.29, 4.94, 4.71)\n",
      "Vehicle 1: ▶️ Step Started: go to (avoidance) -> (9.29, 4.94, 4.71)\n",
      "Vehicle 1: ✅ Step Done: go to (avoidance) -> (9.29, 4.94, 4.71)\n",
      "Vehicle 1: ▶️ Step Started: go to (avoidance) -> (9.28, 4.94, 4.71)\n",
      "Vehicle 1: ✅ Step Done: go to (avoidance) -> (9.28, 4.94, 4.71)\n",
      "Vehicle 1: ▶️ Step Started: go to (avoidance) -> (9.28, 4.94, 4.71)\n",
      "Vehicle 1: ✅ Step Done: go to (avoidance) -> (9.28, 4.94, 4.71)\n",
      "Vehicle 1: ▶️ Step Started: go to (avoidance) -> (9.28, 4.94, 4.71)\n",
      "Vehicle 1: ✅ Step Done: go to (avoidance) -> (9.28, 4.94, 4.71)\n",
      "Vehicle 1: ▶️ Step Started: go to (avoidance) -> (9.28, 4.94, 4.71)\n",
      "Vehicle 1: ✅ Step Done: go to (avoidance) -> (9.28, 4.94, 4.71)\n",
      "Vehicle 1: ▶️ Step Started: go to (avoidance) -> (9.28, 4.94, 4.71)\n",
      "Vehicle 1: ✅ Step Done: go to (avoidance) -> (9.28, 4.94, 4.71)\n",
      "Vehicle 1: ▶️ Step Started: go to (avoidance) -> (9.28, 4.94, 4.71)\n",
      "Vehicle 1: ✅ Step Done: go to (avoidance) -> (9.28, 4.94, 4.71)\n",
      "Vehicle 1: ▶️ Step Started: go to (avoidance) -> (9.28, 4.94, 4.71)\n",
      "Vehicle 1: ✅ Step Done: go to (avoidance) -> (9.28, 4.94, 4.71)\n",
      "Vehicle 1: ▶️ Step Started: go to (avoidance) -> (9.28, 4.94, 4.71)\n",
      "Vehicle 1: ✅ Step Done: go to (avoidance) -> (9.28, 4.94, 4.71)\n",
      "Vehicle 1: ▶️ Step Started: go to (avoidance) -> (9.28, 4.94, 4.71)\n",
      "Vehicle 1: ✅ Step Done: go to (avoidance) -> (9.28, 4.94, 4.71)\n",
      "Vehicle 1: ▶️ Step Started: go to (avoidance) -> (9.28, 4.94, 4.71)\n",
      "Vehicle 1: ✅ Step Done: go to (avoidance) -> (9.28, 4.94, 4.71)\n",
      "Vehicle 1: ▶️ Step Started: go to (avoidance) -> (9.28, 4.94, 4.71)\n",
      "Vehicle 1: ✅ Step Done: go to (avoidance) -> (9.28, 4.94, 4.71)\n",
      "Vehicle 1: ▶️ Step Started: go to (avoidance) -> (9.28, 4.94, 4.71)\n",
      "Vehicle 1: ✅ Step Done: go to (avoidance) -> (9.28, 4.94, 4.71)\n",
      "Vehicle 1: ▶️ Step Started: go to (avoidance) -> (9.27, 4.94, 4.71)\n",
      "Vehicle 1: ✅ Step Done: go to (avoidance) -> (9.27, 4.94, 4.71)\n",
      "Vehicle 1: ▶️ Step Started: go to (avoidance) -> (9.27, 4.94, 4.71)\n",
      "Vehicle 1: ✅ Step Done: go to (avoidance) -> (9.27, 4.94, 4.71)\n",
      "Vehicle 1: ▶️ Step Started: go to (avoidance) -> (9.27, 4.94, 4.71)\n",
      "Vehicle 1: ✅ Step Done: go to (avoidance) -> (9.27, 4.94, 4.71)\n",
      "Vehicle 1: ▶️ Step Started: go to (avoidance) -> (9.27, 4.94, 4.71)\n",
      "Vehicle 1: ✅ Step Done: go to (avoidance) -> (9.27, 4.94, 4.71)\n",
      "Vehicle 1: ▶️ Step Started: go to (avoidance) -> (9.27, 4.94, 4.71)\n",
      "Vehicle 1: ✅ Step Done: go to (avoidance) -> (9.27, 4.94, 4.71)\n",
      "Vehicle 1: ▶️ Step Started: go to (avoidance) -> (9.27, 4.94, 4.71)\n",
      "Vehicle 1: ✅ Step Done: go to (avoidance) -> (9.27, 4.94, 4.71)\n",
      "Vehicle 1: ▶️ Step Started: go to (avoidance) -> (9.27, 4.94, 4.71)\n",
      "Vehicle 1: ✅ Step Done: go to (avoidance) -> (9.27, 4.94, 4.71)\n",
      "Vehicle 1: ▶️ Step Started: go to (avoidance) -> (9.26, 4.94, 4.71)\n",
      "Vehicle 1: ✅ Step Done: go to (avoidance) -> (9.26, 4.94, 4.71)\n",
      "Vehicle 1: ▶️ Step Started: go to (avoidance) -> (9.26, 4.94, 4.71)\n",
      "Vehicle 1: ✅ Step Done: go to (avoidance) -> (9.26, 4.94, 4.71)\n",
      "Vehicle 1: ▶️ Step Started: go to (avoidance) -> (9.26, 4.94, 4.71)\n",
      "Vehicle 1: ✅ Step Done: go to (avoidance) -> (9.26, 4.94, 4.71)\n",
      "Vehicle 1: ▶️ Step Started: go to (avoidance) -> (9.26, 4.94, 4.71)\n",
      "Vehicle 1: ✅ Step Done: go to (avoidance) -> (9.26, 4.94, 4.71)\n",
      "Vehicle 1: ▶️ Step Started: go to (avoidance) -> (9.25, 4.94, 4.71)\n",
      "Vehicle 1: ✅ Step Done: go to (avoidance) -> (9.25, 4.94, 4.71)\n",
      "Vehicle 1: ▶️ Step Started: go to (avoidance) -> (9.25, 4.93, 4.71)\n",
      "Vehicle 1: ✅ Step Done: go to (avoidance) -> (9.25, 4.93, 4.71)\n",
      "Vehicle 1: ▶️ Step Started: go to (avoidance) -> (9.25, 4.93, 4.71)\n",
      "Vehicle 1: ✅ Step Done: go to (avoidance) -> (9.25, 4.93, 4.71)\n",
      "Vehicle 1: ▶️ Step Started: go to (avoidance) -> (9.24, 4.93, 4.71)\n",
      "Vehicle 1: ✅ Step Done: go to (avoidance) -> (9.24, 4.93, 4.71)\n",
      "Vehicle 1: ▶️ Step Started: go to (avoidance) -> (9.24, 4.93, 4.71)\n",
      "Vehicle 1: ✅ Step Done: go to (avoidance) -> (9.24, 4.93, 4.71)\n",
      "Vehicle 1: ▶️ Step Started: go to (avoidance) -> (9.24, 4.93, 4.71)\n",
      "Vehicle 1: ✅ Step Done: go to (avoidance) -> (9.24, 4.93, 4.71)\n",
      "Vehicle 1: ▶️ Step Started: go to (avoidance) -> (9.24, 4.93, 4.71)\n",
      "Vehicle 1: ✅ Step Done: go to (avoidance) -> (9.24, 4.93, 4.71)\n",
      "Vehicle 1: ▶️ Step Started: go to (avoidance) -> (9.23, 4.93, 4.71)\n",
      "Vehicle 1: ✅ Step Done: go to (avoidance) -> (9.23, 4.93, 4.71)\n",
      "Vehicle 1: ▶️ Step Started: go to (avoidance) -> (9.23, 4.93, 4.71)\n",
      "Vehicle 1: ✅ Step Done: go to (avoidance) -> (9.23, 4.93, 4.71)\n",
      "Vehicle 1: ▶️ Step Started: go to (avoidance) -> (9.23, 4.93, 4.71)\n",
      "Vehicle 1: ✅ Step Done: go to (avoidance) -> (9.23, 4.93, 4.71)\n",
      "Vehicle 1: ▶️ Step Started: go to (avoidance) -> (9.22, 4.93, 4.71)\n",
      "Vehicle 1: ✅ Step Done: go to (avoidance) -> (9.22, 4.93, 4.71)\n",
      "Vehicle 1: ▶️ Step Started: go to (avoidance) -> (9.22, 4.93, 4.71)\n",
      "Vehicle 1: ✅ Step Done: go to (avoidance) -> (9.22, 4.93, 4.71)\n",
      "Vehicle 1: ▶️ Step Started: go to (avoidance) -> (9.22, 4.93, 4.71)\n",
      "Vehicle 1: ✅ Step Done: go to (avoidance) -> (9.22, 4.93, 4.71)\n",
      "Vehicle 1: ▶️ Step Started: go to (avoidance) -> (9.21, 4.93, 4.71)\n",
      "Vehicle 1: ✅ Step Done: go to (avoidance) -> (9.21, 4.93, 4.71)\n",
      "Vehicle 1: ▶️ Step Started: go to (avoidance) -> (9.21, 4.93, 4.71)\n",
      "Vehicle 1: ✅ Step Done: go to (avoidance) -> (9.21, 4.93, 4.71)\n",
      "Vehicle 1: ▶️ Step Started: go to (avoidance) -> (9.2, 4.93, 4.71)\n",
      "Vehicle 1: ✅ Step Done: go to (avoidance) -> (9.2, 4.93, 4.71)\n",
      "Vehicle 1: ▶️ Step Started: go to (avoidance) -> (9.2, 4.93, 4.71)\n",
      "Vehicle 1: ✅ Step Done: go to (avoidance) -> (9.2, 4.93, 4.71)\n",
      "Vehicle 1: ▶️ Step Started: go to (avoidance) -> (9.19, 4.93, 4.71)\n",
      "Vehicle 1: ✅ Step Done: go to (avoidance) -> (9.19, 4.93, 4.71)\n",
      "Vehicle 1: ▶️ Step Started: go to (avoidance) -> (9.19, 4.92, 4.71)\n",
      "Vehicle 1: ✅ Step Done: go to (avoidance) -> (9.19, 4.92, 4.71)\n",
      "Vehicle 1: ▶️ Step Started: go to (avoidance) -> (9.18, 4.92, 4.71)\n",
      "Vehicle 1: ✅ Step Done: go to (avoidance) -> (9.18, 4.92, 4.71)\n",
      "Vehicle 1: ▶️ Step Started: go to (avoidance) -> (9.18, 4.92, 4.71)\n",
      "Vehicle 1: ✅ Step Done: go to (avoidance) -> (9.18, 4.92, 4.71)\n",
      "Vehicle 1: ▶️ Step Started: go to (avoidance) -> (9.18, 4.92, 4.71)\n",
      "Vehicle 1: ✅ Step Done: go to (avoidance) -> (9.18, 4.92, 4.71)\n",
      "Vehicle 1: ▶️ Step Started: go to (avoidance) -> (9.17, 4.92, 4.71)\n",
      "Vehicle 1: ✅ Step Done: go to (avoidance) -> (9.17, 4.92, 4.71)\n",
      "Vehicle 1: ▶️ Step Started: go to (avoidance) -> (9.16, 4.92, 4.71)\n",
      "Vehicle 1: ✅ Step Done: go to (avoidance) -> (9.16, 4.92, 4.71)\n",
      "Vehicle 1: ▶️ Step Started: go to (avoidance) -> (9.15, 4.92, 4.71)\n",
      "Vehicle 1: ✅ Step Done: go to (avoidance) -> (9.15, 4.92, 4.71)\n",
      "Vehicle 1: ▶️ Step Started: go to (avoidance) -> (9.14, 4.92, 4.71)\n",
      "Vehicle 1: ✅ Step Done: go to (avoidance) -> (9.14, 4.92, 4.71)\n",
      "Vehicle 1: ▶️ Step Started: go to (avoidance) -> (9.14, 4.92, 4.71)\n",
      "Vehicle 1: ✅ Step Done: go to (avoidance) -> (9.14, 4.92, 4.71)\n",
      "Vehicle 1: ▶️ Step Started: go to (avoidance) -> (9.13, 4.91, 4.71)\n",
      "Vehicle 1: ✅ Step Done: go to (avoidance) -> (9.13, 4.91, 4.71)\n",
      "Vehicle 1: ▶️ Step Started: go to (avoidance) -> (9.13, 4.91, 4.71)\n",
      "Vehicle 1: ✅ Step Done: go to (avoidance) -> (9.13, 4.91, 4.71)\n",
      "Vehicle 1: ▶️ Step Started: go to (avoidance) -> (9.11, 4.91, 4.71)\n",
      "Vehicle 1: ✅ Step Done: go to (avoidance) -> (9.11, 4.91, 4.71)\n",
      "Vehicle 1: ▶️ Step Started: go to (avoidance) -> (9.11, 4.91, 4.71)\n",
      "Vehicle 1: ✅ Step Done: go to (avoidance) -> (9.11, 4.91, 4.71)\n",
      "Vehicle 1: ▶️ Step Started: go to (avoidance) -> (9.09, 4.91, 4.71)\n",
      "Vehicle 1: ✅ Step Done: go to (avoidance) -> (9.09, 4.91, 4.71)\n",
      "Vehicle 1: ▶️ Step Started: go to (avoidance) -> (9.09, 4.91, 4.71)\n",
      "Vehicle 1: ✅ Step Done: go to (avoidance) -> (9.09, 4.91, 4.71)\n",
      "Vehicle 1: ▶️ Step Started: go to (avoidance) -> (9.08, 4.91, 4.71)\n",
      "Vehicle 1: ✅ Step Done: go to (avoidance) -> (9.08, 4.91, 4.71)\n",
      "Vehicle 1: ▶️ Step Started: go to (avoidance) -> (9.06, 4.9, 4.71)\n",
      "Vehicle 1: ✅ Step Done: go to (avoidance) -> (9.06, 4.9, 4.71)\n",
      "Vehicle 1: ▶️ Step Started: go to (avoidance) -> (9.05, 4.9, 4.71)\n",
      "Vehicle 1: ✅ Step Done: go to (avoidance) -> (9.05, 4.9, 4.71)\n",
      "Vehicle 1: ▶️ Step Started: go to (avoidance) -> (9.02, 4.9, 4.71)\n",
      "Vehicle 1: ✅ Step Done: go to (avoidance) -> (9.02, 4.9, 4.71)\n",
      "Vehicle 1: ▶️ Step Started: go to (avoidance) -> (9.01, 4.89, 4.71)\n",
      "Vehicle 1: ✅ Step Done: go to (avoidance) -> (9.01, 4.89, 4.71)\n",
      "Vehicle 1: ▶️ Step Started: go to (avoidance) -> (8.99, 4.89, 4.71)\n",
      "Vehicle 1: ✅ Step Done: go to (avoidance) -> (8.99, 4.89, 4.71)\n",
      "Vehicle 1: ▶️ Step Started: go to (avoidance) -> (8.98, 4.89, 4.71)\n",
      "Vehicle 1: ✅ Step Done: go to (avoidance) -> (8.98, 4.89, 4.71)\n",
      "Vehicle 1: ▶️ Step Started: go to (avoidance) -> (8.96, 4.88, 4.71)\n",
      "Vehicle 1: ✅ Step Done: go to (avoidance) -> (8.96, 4.88, 4.71)\n",
      "Vehicle 1: ▶️ Step Started: go to (avoidance) -> (8.93, 4.88, 4.71)\n",
      "Vehicle 1: ✅ Step Done: go to (avoidance) -> (8.93, 4.88, 4.71)\n",
      "Vehicle 1: ▶️ Step Started: go to (avoidance) -> (8.92, 4.87, 4.71)\n",
      "Vehicle 1: ✅ Step Done: go to (avoidance) -> (8.92, 4.87, 4.71)\n",
      "Vehicle 1: ▶️ Step Started: go to (avoidance) -> (8.9, 4.87, 4.71)\n",
      "Vehicle 1: ✅ Step Done: go to (avoidance) -> (8.9, 4.87, 4.71)\n",
      "Vehicle 1: ▶️ Step Started: go to (avoidance) -> (8.82, 4.85, 4.71)\n",
      "Vehicle 1: ✅ Step Done: go to (avoidance) -> (8.82, 4.85, 4.71)\n",
      "Vehicle 1 switched to mode: 🔁 MISSION\n",
      "Vehicle 1: ▶️ Step Started: go to  -> (20, 0, 5)\n",
      "Vehicle 1 switched to mode: 🔁 AVOIDANCE\n",
      "Vehicle 1: ▶️ Step Started: go to (avoidance) -> (9.25, 4.94, 4.72)\n",
      "Vehicle 1: ✅ Step Done: go to (avoidance) -> (9.25, 4.94, 4.72)\n",
      "Vehicle 1: ▶️ Step Started: go to (avoidance) -> (9.28, 4.94, 4.72)\n",
      "Vehicle 1: ✅ Step Done: go to (avoidance) -> (9.28, 4.94, 4.72)\n",
      "Vehicle 1: ▶️ Step Started: go to (avoidance) -> (9.34, 4.95, 4.72)\n",
      "Vehicle 1: ✅ Step Done: go to (avoidance) -> (9.34, 4.95, 4.72)\n",
      "Vehicle 1: ▶️ Step Started: go to (avoidance) -> (9.4, 4.96, 4.72)\n",
      "Vehicle 1: ✅ Step Done: go to (avoidance) -> (9.4, 4.96, 4.72)\n",
      "Vehicle 1: ▶️ Step Started: go to (avoidance) -> (9.41, 4.96, 4.72)\n",
      "Vehicle 1: ✅ Step Done: go to (avoidance) -> (9.41, 4.96, 4.72)\n",
      "Vehicle 1: ▶️ Step Started: go to (avoidance) -> (9.45, 4.96, 4.72)\n",
      "Vehicle 1: ✅ Step Done: go to (avoidance) -> (9.45, 4.96, 4.72)\n",
      "Vehicle 1: ▶️ Step Started: go to (avoidance) -> (9.49, 4.97, 4.72)\n",
      "Vehicle 1: ✅ Step Done: go to (avoidance) -> (9.49, 4.97, 4.72)\n",
      "Vehicle 1: ▶️ Step Started: go to (avoidance) -> (9.55, 4.97, 4.72)\n",
      "Vehicle 1: ✅ Step Done: go to (avoidance) -> (9.55, 4.97, 4.72)\n",
      "Vehicle 1: ▶️ Step Started: go to (avoidance) -> (9.59, 4.98, 4.72)\n",
      "Vehicle 1: ✅ Step Done: go to (avoidance) -> (9.59, 4.98, 4.72)\n",
      "Vehicle 1: ▶️ Step Started: go to (avoidance) -> (9.63, 4.98, 4.72)\n",
      "Vehicle 1: ✅ Step Done: go to (avoidance) -> (9.63, 4.98, 4.72)\n",
      "Vehicle 1: ▶️ Step Started: go to (avoidance) -> (9.66, 4.98, 4.72)\n",
      "Vehicle 1: ✅ Step Done: go to (avoidance) -> (9.66, 4.98, 4.72)\n",
      "Vehicle 1: ▶️ Step Started: go to (avoidance) -> (9.66, 4.98, 4.72)\n",
      "Vehicle 1: ✅ Step Done: go to (avoidance) -> (9.66, 4.98, 4.72)\n",
      "Vehicle 1: ▶️ Step Started: go to (avoidance) -> (9.67, 4.98, 4.72)\n",
      "Vehicle 1: ✅ Step Done: go to (avoidance) -> (9.67, 4.98, 4.72)\n",
      "Vehicle 1: ▶️ Step Started: go to (avoidance) -> (9.73, 4.98, 4.72)\n",
      "Vehicle 1: ✅ Step Done: go to (avoidance) -> (9.73, 4.98, 4.72)\n",
      "Vehicle 1: ▶️ Step Started: go to (avoidance) -> (9.76, 4.99, 4.72)\n",
      "Vehicle 1: ✅ Step Done: go to (avoidance) -> (9.76, 4.99, 4.72)\n",
      "Vehicle 1: ▶️ Step Started: go to (avoidance) -> (9.81, 4.99, 4.72)\n",
      "Vehicle 1: ✅ Step Done: go to (avoidance) -> (9.81, 4.99, 4.72)\n",
      "Vehicle 1: ▶️ Step Started: go to (avoidance) -> (9.83, 4.99, 4.72)\n",
      "Vehicle 1: ✅ Step Done: go to (avoidance) -> (9.83, 4.99, 4.72)\n",
      "Vehicle 1: ▶️ Step Started: go to (avoidance) -> (9.85, 4.99, 4.72)\n",
      "Vehicle 1: ✅ Step Done: go to (avoidance) -> (9.85, 4.99, 4.72)\n",
      "Vehicle 1: ▶️ Step Started: go to (avoidance) -> (9.87, 4.99, 4.72)\n",
      "Vehicle 1: ✅ Step Done: go to (avoidance) -> (9.87, 4.99, 4.72)\n",
      "Vehicle 1: ▶️ Step Started: go to (avoidance) -> (9.88, 4.99, 4.72)\n",
      "Vehicle 1: ✅ Step Done: go to (avoidance) -> (9.88, 4.99, 4.72)\n",
      "Vehicle 1: ▶️ Step Started: go to (avoidance) -> (9.9, 4.99, 4.72)\n",
      "Vehicle 1: ✅ Step Done: go to (avoidance) -> (9.9, 4.99, 4.72)\n",
      "Vehicle 1: ▶️ Step Started: go to (avoidance) -> (9.93, 4.99, 4.72)\n",
      "Vehicle 1: ✅ Step Done: go to (avoidance) -> (9.93, 4.99, 4.72)\n",
      "Vehicle 1: ▶️ Step Started: go to (avoidance) -> (9.95, 4.99, 4.72)\n",
      "Vehicle 1: ✅ Step Done: go to (avoidance) -> (9.95, 4.99, 4.72)\n",
      "Vehicle 1: ▶️ Step Started: go to (avoidance) -> (9.99, 4.99, 4.72)\n",
      "Vehicle 1: ✅ Step Done: go to (avoidance) -> (9.99, 4.99, 4.72)\n",
      "Vehicle 1: ▶️ Step Started: go to (avoidance) -> (10.01, 4.99, 4.72)\n",
      "Vehicle 1: ✅ Step Done: go to (avoidance) -> (10.01, 4.99, 4.72)\n",
      "Vehicle 1: ▶️ Step Started: go to (avoidance) -> (10.03, 4.99, 4.72)\n",
      "Vehicle 1: ✅ Step Done: go to (avoidance) -> (10.03, 4.99, 4.72)\n",
      "Vehicle 1: ▶️ Step Started: go to (avoidance) -> (10.05, 4.99, 4.72)\n",
      "Vehicle 1: ✅ Step Done: go to (avoidance) -> (10.05, 4.99, 4.72)\n",
      "Vehicle 1: ▶️ Step Started: go to (avoidance) -> (10.05, 4.99, 4.72)\n",
      "Vehicle 1: ✅ Step Done: go to (avoidance) -> (10.05, 4.99, 4.72)\n",
      "Vehicle 1: ▶️ Step Started: go to (avoidance) -> (10.07, 4.99, 4.72)\n",
      "Vehicle 1: ✅ Step Done: go to (avoidance) -> (10.07, 4.99, 4.72)\n",
      "Vehicle 1: ▶️ Step Started: go to (avoidance) -> (10.1, 4.99, 4.72)\n",
      "Vehicle 1: ✅ Step Done: go to (avoidance) -> (10.1, 4.99, 4.72)\n",
      "Vehicle 1: ▶️ Step Started: go to (avoidance) -> (10.13, 4.99, 4.72)\n",
      "Vehicle 1: ✅ Step Done: go to (avoidance) -> (10.13, 4.99, 4.72)\n",
      "Vehicle 1: ▶️ Step Started: go to (avoidance) -> (10.16, 4.99, 4.72)\n",
      "Vehicle 1: ✅ Step Done: go to (avoidance) -> (10.16, 4.99, 4.72)\n",
      "Vehicle 1: ▶️ Step Started: go to (avoidance) -> (10.17, 4.99, 4.72)\n",
      "Vehicle 1: ✅ Step Done: go to (avoidance) -> (10.17, 4.99, 4.72)\n",
      "Vehicle 1: ▶️ Step Started: go to (avoidance) -> (10.19, 4.99, 4.72)\n",
      "Vehicle 1: ✅ Step Done: go to (avoidance) -> (10.19, 4.99, 4.72)\n",
      "Vehicle 1: ▶️ Step Started: go to (avoidance) -> (10.21, 4.99, 4.72)\n",
      "Vehicle 1: ✅ Step Done: go to (avoidance) -> (10.21, 4.99, 4.72)\n",
      "Vehicle 1: ▶️ Step Started: go to (avoidance) -> (10.22, 4.99, 4.72)\n",
      "Vehicle 1: ✅ Step Done: go to (avoidance) -> (10.22, 4.99, 4.72)\n",
      "Vehicle 1: ▶️ Step Started: go to (avoidance) -> (10.24, 4.99, 4.72)\n",
      "Vehicle 1: ✅ Step Done: go to (avoidance) -> (10.24, 4.99, 4.72)\n",
      "Vehicle 1: ▶️ Step Started: go to (avoidance) -> (10.25, 4.99, 4.72)\n",
      "Vehicle 1: ✅ Step Done: go to (avoidance) -> (10.25, 4.99, 4.72)\n",
      "Vehicle 1: ▶️ Step Started: go to (avoidance) -> (10.28, 4.98, 4.72)\n",
      "Vehicle 1: ✅ Step Done: go to (avoidance) -> (10.28, 4.98, 4.72)\n",
      "Vehicle 1: ▶️ Step Started: go to (avoidance) -> (10.3, 4.98, 4.72)\n",
      "Vehicle 1: ✅ Step Done: go to (avoidance) -> (10.3, 4.98, 4.72)\n",
      "Vehicle 1: ▶️ Step Started: go to (avoidance) -> (10.33, 4.98, 4.72)\n",
      "Vehicle 1: ✅ Step Done: go to (avoidance) -> (10.33, 4.98, 4.72)\n",
      "Vehicle 1: ▶️ Step Started: go to (avoidance) -> (10.35, 4.98, 4.72)\n",
      "Vehicle 1: ✅ Step Done: go to (avoidance) -> (10.35, 4.98, 4.72)\n",
      "Vehicle 1: ▶️ Step Started: go to (avoidance) -> (10.44, 4.97, 4.73)\n",
      "Vehicle 1: ✅ Step Done: go to (avoidance) -> (10.44, 4.97, 4.73)\n",
      "Vehicle 1: ▶️ Step Started: go to (avoidance) -> (10.73, 4.94, 4.73)\n",
      "Vehicle 1: ✅ Step Done: go to (avoidance) -> (10.73, 4.94, 4.73)\n",
      "Vehicle 1: ▶️ Step Started: go to (avoidance) -> (11.46, 4.77, 4.73)\n",
      "Vehicle 1: ✅ Step Done: go to (avoidance) -> (11.46, 4.77, 4.73)\n",
      "Vehicle 1: ▶️ Step Started: go to (avoidance) -> (12.16, 4.5, 4.73)\n",
      "Vehicle 1: ✅ Step Done: go to (avoidance) -> (12.16, 4.5, 4.73)\n",
      "Vehicle 1: ▶️ Step Started: go to (avoidance) -> (12.39, 4.38, 4.73)\n",
      "Vehicle 1: ✅ Step Done: go to (avoidance) -> (12.39, 4.38, 4.73)\n",
      "Vehicle 1: ▶️ Step Started: go to (avoidance) -> (12.43, 4.36, 4.73)\n",
      "Vehicle 1: ✅ Step Done: go to (avoidance) -> (12.43, 4.36, 4.73)\n",
      "Vehicle 1: ▶️ Step Started: go to (avoidance) -> (12.43, 4.36, 4.73)\n",
      "Vehicle 1: ✅ Step Done: go to (avoidance) -> (12.43, 4.36, 4.73)\n",
      "Vehicle 1: ▶️ Step Started: go to (avoidance) -> (12.43, 4.36, 4.73)\n",
      "Vehicle 1: ✅ Step Done: go to (avoidance) -> (12.43, 4.36, 4.73)\n",
      "Vehicle 1: ▶️ Step Started: go to (avoidance) -> (12.43, 4.36, 4.73)\n",
      "Vehicle 1: ✅ Step Done: go to (avoidance) -> (12.43, 4.36, 4.73)\n",
      "Vehicle 1: ▶️ Step Started: go to (avoidance) -> (12.43, 4.36, 4.73)\n",
      "Vehicle 1: ✅ Step Done: go to (avoidance) -> (12.43, 4.36, 4.73)\n",
      "Vehicle 1: ▶️ Step Started: go to (avoidance) -> (12.43, 4.36, 4.73)\n",
      "Vehicle 1: ✅ Step Done: go to (avoidance) -> (12.43, 4.36, 4.73)\n",
      "Vehicle 1: ▶️ Step Started: go to (avoidance) -> (12.43, 4.36, 4.73)\n",
      "Vehicle 1: ✅ Step Done: go to (avoidance) -> (12.43, 4.36, 4.73)\n",
      "Vehicle 1: ▶️ Step Started: go to (avoidance) -> (12.43, 4.36, 4.73)\n",
      "Vehicle 1: ✅ Step Done: go to (avoidance) -> (12.43, 4.36, 4.73)\n",
      "Vehicle 1: ▶️ Step Started: go to (avoidance) -> (12.43, 4.36, 4.73)\n",
      "Vehicle 1: ✅ Step Done: go to (avoidance) -> (12.43, 4.36, 4.73)\n",
      "Vehicle 1: ▶️ Step Started: go to (avoidance) -> (12.43, 4.36, 4.73)\n",
      "Vehicle 1: ✅ Step Done: go to (avoidance) -> (12.43, 4.36, 4.73)\n",
      "Vehicle 1: ▶️ Step Started: go to (avoidance) -> (12.43, 4.36, 4.73)\n",
      "Vehicle 1: ✅ Step Done: go to (avoidance) -> (12.43, 4.36, 4.73)\n",
      "Vehicle 1: ▶️ Step Started: go to (avoidance) -> (12.43, 4.36, 4.73)\n",
      "Vehicle 1: ✅ Step Done: go to (avoidance) -> (12.43, 4.36, 4.73)\n",
      "Vehicle 1: ▶️ Step Started: go to (avoidance) -> (12.43, 4.36, 4.73)\n",
      "Vehicle 1: ✅ Step Done: go to (avoidance) -> (12.43, 4.36, 4.73)\n",
      "Vehicle 1: ▶️ Step Started: go to (avoidance) -> (12.43, 4.36, 4.73)\n",
      "Vehicle 1: ✅ Step Done: go to (avoidance) -> (12.43, 4.36, 4.73)\n",
      "Vehicle 1: ▶️ Step Started: go to (avoidance) -> (12.43, 4.36, 4.73)\n",
      "Vehicle 1: ✅ Step Done: go to (avoidance) -> (12.43, 4.36, 4.73)\n",
      "Vehicle 1: ▶️ Step Started: go to (avoidance) -> (12.43, 4.36, 4.73)\n",
      "Vehicle 1: ✅ Step Done: go to (avoidance) -> (12.43, 4.36, 4.73)\n",
      "Vehicle 1: ▶️ Step Started: go to (avoidance) -> (12.43, 4.36, 4.73)\n",
      "Vehicle 1: ✅ Step Done: go to (avoidance) -> (12.43, 4.36, 4.73)\n",
      "Vehicle 1: ▶️ Step Started: go to (avoidance) -> (12.43, 4.36, 4.73)\n",
      "Vehicle 1: ✅ Step Done: go to (avoidance) -> (12.43, 4.36, 4.73)\n",
      "Vehicle 1: ▶️ Step Started: go to (avoidance) -> (12.43, 4.36, 4.73)\n",
      "Vehicle 1: ✅ Step Done: go to (avoidance) -> (12.43, 4.36, 4.73)\n",
      "Vehicle 1: ▶️ Step Started: go to (avoidance) -> (12.43, 4.36, 4.73)\n",
      "Vehicle 1: ✅ Step Done: go to (avoidance) -> (12.43, 4.36, 4.73)\n",
      "Vehicle 1: ▶️ Step Started: go to (avoidance) -> (12.43, 4.36, 4.73)\n",
      "Vehicle 1: ✅ Step Done: go to (avoidance) -> (12.43, 4.36, 4.73)\n",
      "Vehicle 1: ▶️ Step Started: go to (avoidance) -> (12.43, 4.36, 4.73)\n",
      "Vehicle 1: ✅ Step Done: go to (avoidance) -> (12.43, 4.36, 4.73)\n",
      "Vehicle 1: ▶️ Step Started: go to (avoidance) -> (12.43, 4.36, 4.73)\n",
      "Vehicle 1: ✅ Step Done: go to (avoidance) -> (12.43, 4.36, 4.73)\n",
      "Vehicle 1: ▶️ Step Started: go to (avoidance) -> (12.43, 4.36, 4.73)\n",
      "Vehicle 1: ✅ Step Done: go to (avoidance) -> (12.43, 4.36, 4.73)\n",
      "Vehicle 1: ▶️ Step Started: go to (avoidance) -> (12.42, 4.36, 4.73)\n",
      "Vehicle 1: ✅ Step Done: go to (avoidance) -> (12.42, 4.36, 4.73)\n",
      "Vehicle 1: ▶️ Step Started: go to (avoidance) -> (12.42, 4.37, 4.73)\n",
      "Vehicle 1: ✅ Step Done: go to (avoidance) -> (12.42, 4.37, 4.73)\n",
      "Vehicle 1: ▶️ Step Started: go to (avoidance) -> (12.42, 4.37, 4.73)\n",
      "Vehicle 1: ✅ Step Done: go to (avoidance) -> (12.42, 4.37, 4.73)\n",
      "Vehicle 1: ▶️ Step Started: go to (avoidance) -> (12.42, 4.37, 4.73)\n",
      "Vehicle 1: ✅ Step Done: go to (avoidance) -> (12.42, 4.37, 4.73)\n",
      "Vehicle 1: ▶️ Step Started: go to (avoidance) -> (12.42, 4.37, 4.73)\n",
      "Vehicle 1: ✅ Step Done: go to (avoidance) -> (12.42, 4.37, 4.73)\n",
      "Vehicle 1: ▶️ Step Started: go to (avoidance) -> (12.42, 4.37, 4.73)\n",
      "Vehicle 1: ✅ Step Done: go to (avoidance) -> (12.42, 4.37, 4.73)\n",
      "Vehicle 1: ▶️ Step Started: go to (avoidance) -> (12.42, 4.37, 4.73)\n",
      "Vehicle 1: ✅ Step Done: go to (avoidance) -> (12.42, 4.37, 4.73)\n",
      "Vehicle 1: ▶️ Step Started: go to (avoidance) -> (12.42, 4.37, 4.73)\n",
      "Vehicle 1: ✅ Step Done: go to (avoidance) -> (12.42, 4.37, 4.73)\n",
      "Vehicle 1: ▶️ Step Started: go to (avoidance) -> (12.42, 4.37, 4.73)\n",
      "Vehicle 1: ✅ Step Done: go to (avoidance) -> (12.42, 4.37, 4.73)\n",
      "Vehicle 1: ▶️ Step Started: go to (avoidance) -> (12.42, 4.37, 4.73)\n",
      "Vehicle 1: ✅ Step Done: go to (avoidance) -> (12.42, 4.37, 4.73)\n",
      "Vehicle 1: ▶️ Step Started: go to (avoidance) -> (12.42, 4.37, 4.73)\n",
      "Vehicle 1: ✅ Step Done: go to (avoidance) -> (12.42, 4.37, 4.73)\n",
      "Vehicle 1: ▶️ Step Started: go to (avoidance) -> (12.42, 4.37, 4.73)\n",
      "Vehicle 1: ✅ Step Done: go to (avoidance) -> (12.42, 4.37, 4.73)\n",
      "Vehicle 1: ▶️ Step Started: go to (avoidance) -> (12.42, 4.37, 4.73)\n",
      "Vehicle 1: ✅ Step Done: go to (avoidance) -> (12.42, 4.37, 4.73)\n",
      "Vehicle 1: ▶️ Step Started: go to (avoidance) -> (12.41, 4.37, 4.73)\n",
      "Vehicle 1: ✅ Step Done: go to (avoidance) -> (12.41, 4.37, 4.73)\n",
      "Vehicle 1: ▶️ Step Started: go to (avoidance) -> (12.41, 4.37, 4.73)\n",
      "Vehicle 1: ✅ Step Done: go to (avoidance) -> (12.41, 4.37, 4.73)\n",
      "Vehicle 1: ▶️ Step Started: go to (avoidance) -> (12.41, 4.37, 4.73)\n",
      "Vehicle 1: ✅ Step Done: go to (avoidance) -> (12.41, 4.37, 4.73)\n",
      "Vehicle 1: ▶️ Step Started: go to (avoidance) -> (12.41, 4.37, 4.73)\n",
      "Vehicle 1: ✅ Step Done: go to (avoidance) -> (12.41, 4.37, 4.73)\n",
      "Vehicle 1: ▶️ Step Started: go to (avoidance) -> (12.41, 4.37, 4.73)\n",
      "Vehicle 1: ✅ Step Done: go to (avoidance) -> (12.41, 4.37, 4.73)\n",
      "Vehicle 1: ▶️ Step Started: go to (avoidance) -> (12.41, 4.37, 4.73)\n",
      "Vehicle 1: ✅ Step Done: go to (avoidance) -> (12.41, 4.37, 4.73)\n",
      "Vehicle 1: ▶️ Step Started: go to (avoidance) -> (12.41, 4.37, 4.73)\n",
      "Vehicle 1: ✅ Step Done: go to (avoidance) -> (12.41, 4.37, 4.73)\n",
      "Vehicle 1: ▶️ Step Started: go to (avoidance) -> (12.41, 4.37, 4.73)\n",
      "Vehicle 1: ✅ Step Done: go to (avoidance) -> (12.41, 4.37, 4.73)\n",
      "Vehicle 1: ▶️ Step Started: go to (avoidance) -> (12.4, 4.38, 4.73)\n",
      "Vehicle 1: ✅ Step Done: go to (avoidance) -> (12.4, 4.38, 4.73)\n",
      "Vehicle 1: ▶️ Step Started: go to (avoidance) -> (12.4, 4.38, 4.73)\n",
      "Vehicle 1: ✅ Step Done: go to (avoidance) -> (12.4, 4.38, 4.73)\n",
      "Vehicle 1: ▶️ Step Started: go to (avoidance) -> (12.4, 4.38, 4.73)\n",
      "Vehicle 1: ✅ Step Done: go to (avoidance) -> (12.4, 4.38, 4.73)\n",
      "Vehicle 1: ▶️ Step Started: go to (avoidance) -> (12.4, 4.38, 4.73)\n",
      "Vehicle 1: ✅ Step Done: go to (avoidance) -> (12.4, 4.38, 4.73)\n",
      "Vehicle 1: ▶️ Step Started: go to (avoidance) -> (12.4, 4.38, 4.73)\n",
      "Vehicle 1: ✅ Step Done: go to (avoidance) -> (12.4, 4.38, 4.73)\n",
      "Vehicle 1: ▶️ Step Started: go to (avoidance) -> (12.4, 4.38, 4.73)\n",
      "Vehicle 1: ✅ Step Done: go to (avoidance) -> (12.4, 4.38, 4.73)\n",
      "Vehicle 1: ▶️ Step Started: go to (avoidance) -> (12.4, 4.38, 4.73)\n",
      "Vehicle 1: ✅ Step Done: go to (avoidance) -> (12.4, 4.38, 4.73)\n",
      "Vehicle 1: ▶️ Step Started: go to (avoidance) -> (12.39, 4.38, 4.73)\n",
      "Vehicle 1: ✅ Step Done: go to (avoidance) -> (12.39, 4.38, 4.73)\n",
      "Vehicle 1: ▶️ Step Started: go to (avoidance) -> (12.39, 4.38, 4.73)\n",
      "Vehicle 1: ✅ Step Done: go to (avoidance) -> (12.39, 4.38, 4.73)\n",
      "Vehicle 1: ▶️ Step Started: go to (avoidance) -> (12.39, 4.39, 4.73)\n",
      "Vehicle 1: ✅ Step Done: go to (avoidance) -> (12.39, 4.39, 4.73)\n",
      "Vehicle 1: ▶️ Step Started: go to (avoidance) -> (12.39, 4.39, 4.73)\n",
      "Vehicle 1: ✅ Step Done: go to (avoidance) -> (12.39, 4.39, 4.73)\n",
      "Vehicle 1: ▶️ Step Started: go to (avoidance) -> (12.38, 4.39, 4.73)\n",
      "Vehicle 1: ✅ Step Done: go to (avoidance) -> (12.38, 4.39, 4.73)\n",
      "Vehicle 1: ▶️ Step Started: go to (avoidance) -> (12.38, 4.39, 4.73)\n",
      "Vehicle 1: ✅ Step Done: go to (avoidance) -> (12.38, 4.39, 4.73)\n",
      "Vehicle 1: ▶️ Step Started: go to (avoidance) -> (12.38, 4.39, 4.73)\n",
      "Vehicle 1: ✅ Step Done: go to (avoidance) -> (12.38, 4.39, 4.73)\n",
      "Vehicle 1: ▶️ Step Started: go to (avoidance) -> (12.37, 4.39, 4.73)\n",
      "Vehicle 1: ✅ Step Done: go to (avoidance) -> (12.37, 4.39, 4.73)\n",
      "Vehicle 1: ▶️ Step Started: go to (avoidance) -> (12.37, 4.39, 4.73)\n",
      "Vehicle 1: ✅ Step Done: go to (avoidance) -> (12.37, 4.39, 4.73)\n",
      "Vehicle 1: ▶️ Step Started: go to (avoidance) -> (12.37, 4.39, 4.73)\n",
      "Vehicle 1: ✅ Step Done: go to (avoidance) -> (12.37, 4.39, 4.73)\n",
      "Vehicle 1: ▶️ Step Started: go to (avoidance) -> (12.37, 4.4, 4.73)\n",
      "Vehicle 1: ✅ Step Done: go to (avoidance) -> (12.37, 4.4, 4.73)\n",
      "Vehicle 1: ▶️ Step Started: go to (avoidance) -> (12.36, 4.4, 4.73)\n",
      "Vehicle 1: ✅ Step Done: go to (avoidance) -> (12.36, 4.4, 4.73)\n",
      "Vehicle 1: ▶️ Step Started: go to (avoidance) -> (12.36, 4.4, 4.73)\n",
      "Vehicle 1: ✅ Step Done: go to (avoidance) -> (12.36, 4.4, 4.73)\n",
      "Vehicle 1: ▶️ Step Started: go to (avoidance) -> (12.36, 4.4, 4.73)\n",
      "Vehicle 1: ✅ Step Done: go to (avoidance) -> (12.36, 4.4, 4.73)\n",
      "Vehicle 1: ▶️ Step Started: go to (avoidance) -> (12.36, 4.4, 4.73)\n",
      "Vehicle 1: ✅ Step Done: go to (avoidance) -> (12.36, 4.4, 4.73)\n",
      "Vehicle 1: ▶️ Step Started: go to (avoidance) -> (12.35, 4.4, 4.73)\n",
      "Vehicle 1: ✅ Step Done: go to (avoidance) -> (12.35, 4.4, 4.73)\n",
      "Vehicle 1: ▶️ Step Started: go to (avoidance) -> (12.35, 4.4, 4.73)\n",
      "Vehicle 1: ✅ Step Done: go to (avoidance) -> (12.35, 4.4, 4.73)\n",
      "Vehicle 1: ▶️ Step Started: go to (avoidance) -> (12.35, 4.41, 4.73)\n",
      "Vehicle 1: ✅ Step Done: go to (avoidance) -> (12.35, 4.41, 4.73)\n",
      "Vehicle 1: ▶️ Step Started: go to (avoidance) -> (12.34, 4.41, 4.73)\n",
      "Vehicle 1: ✅ Step Done: go to (avoidance) -> (12.34, 4.41, 4.73)\n",
      "Vehicle 1: ▶️ Step Started: go to (avoidance) -> (12.34, 4.41, 4.73)\n",
      "Vehicle 1: ✅ Step Done: go to (avoidance) -> (12.34, 4.41, 4.73)\n",
      "Vehicle 1: ▶️ Step Started: go to (avoidance) -> (12.33, 4.41, 4.73)\n",
      "Vehicle 1: ✅ Step Done: go to (avoidance) -> (12.33, 4.41, 4.73)\n",
      "Vehicle 1: ▶️ Step Started: go to (avoidance) -> (12.33, 4.41, 4.73)\n",
      "Vehicle 1: ✅ Step Done: go to (avoidance) -> (12.33, 4.41, 4.73)\n",
      "Vehicle 1: ▶️ Step Started: go to (avoidance) -> (12.33, 4.42, 4.73)\n",
      "Vehicle 1: ✅ Step Done: go to (avoidance) -> (12.33, 4.42, 4.73)\n",
      "Vehicle 1: ▶️ Step Started: go to (avoidance) -> (12.32, 4.42, 4.73)\n",
      "Vehicle 1: ✅ Step Done: go to (avoidance) -> (12.32, 4.42, 4.73)\n",
      "Vehicle 1: ▶️ Step Started: go to (avoidance) -> (12.32, 4.42, 4.73)\n",
      "Vehicle 1: ✅ Step Done: go to (avoidance) -> (12.32, 4.42, 4.73)\n",
      "Vehicle 1: ▶️ Step Started: go to (avoidance) -> (12.31, 4.43, 4.73)\n",
      "Vehicle 1: ✅ Step Done: go to (avoidance) -> (12.31, 4.43, 4.73)\n",
      "Vehicle 1: ▶️ Step Started: go to (avoidance) -> (12.3, 4.43, 4.73)\n",
      "Vehicle 1: ✅ Step Done: go to (avoidance) -> (12.3, 4.43, 4.73)\n",
      "Vehicle 1: ▶️ Step Started: go to (avoidance) -> (12.3, 4.43, 4.73)\n",
      "Vehicle 1: ✅ Step Done: go to (avoidance) -> (12.3, 4.43, 4.73)\n",
      "Vehicle 1: ▶️ Step Started: go to (avoidance) -> (12.29, 4.44, 4.73)\n",
      "Vehicle 1: ✅ Step Done: go to (avoidance) -> (12.29, 4.44, 4.73)\n",
      "Vehicle 1: ▶️ Step Started: go to (avoidance) -> (12.28, 4.44, 4.73)\n",
      "Vehicle 1: ✅ Step Done: go to (avoidance) -> (12.28, 4.44, 4.73)\n",
      "Vehicle 1: ▶️ Step Started: go to (avoidance) -> (12.28, 4.44, 4.73)\n",
      "Vehicle 1: ✅ Step Done: go to (avoidance) -> (12.28, 4.44, 4.73)\n",
      "Vehicle 1: ▶️ Step Started: go to (avoidance) -> (12.28, 4.44, 4.73)\n",
      "Vehicle 1: ✅ Step Done: go to (avoidance) -> (12.28, 4.44, 4.73)\n",
      "Vehicle 1: ▶️ Step Started: go to (avoidance) -> (12.27, 4.45, 4.73)\n",
      "Vehicle 1: ✅ Step Done: go to (avoidance) -> (12.27, 4.45, 4.73)\n",
      "Vehicle 1: ▶️ Step Started: go to (avoidance) -> (12.26, 4.45, 4.73)\n",
      "Vehicle 1: ✅ Step Done: go to (avoidance) -> (12.26, 4.45, 4.73)\n",
      "Vehicle 1: ▶️ Step Started: go to (avoidance) -> (12.26, 4.45, 4.73)\n",
      "Vehicle 1: ✅ Step Done: go to (avoidance) -> (12.26, 4.45, 4.73)\n",
      "Vehicle 1: ▶️ Step Started: go to (avoidance) -> (12.25, 4.46, 4.73)\n",
      "Vehicle 1: ✅ Step Done: go to (avoidance) -> (12.25, 4.46, 4.73)\n",
      "Vehicle 1: ▶️ Step Started: go to (avoidance) -> (12.24, 4.46, 4.73)\n",
      "Vehicle 1: ✅ Step Done: go to (avoidance) -> (12.24, 4.46, 4.73)\n",
      "Vehicle 1: ▶️ Step Started: go to (avoidance) -> (12.24, 4.46, 4.73)\n",
      "Vehicle 1: ✅ Step Done: go to (avoidance) -> (12.24, 4.46, 4.73)\n",
      "Vehicle 1: ▶️ Step Started: go to (avoidance) -> (12.23, 4.47, 4.73)\n",
      "Vehicle 1: ✅ Step Done: go to (avoidance) -> (12.23, 4.47, 4.73)\n",
      "Vehicle 1: ▶️ Step Started: go to (avoidance) -> (12.22, 4.47, 4.73)\n",
      "Vehicle 1: ✅ Step Done: go to (avoidance) -> (12.22, 4.47, 4.73)\n",
      "Vehicle 1: ▶️ Step Started: go to (avoidance) -> (12.21, 4.48, 4.73)\n",
      "Vehicle 1: ✅ Step Done: go to (avoidance) -> (12.21, 4.48, 4.73)\n",
      "Vehicle 1: ▶️ Step Started: go to (avoidance) -> (12.19, 4.49, 4.73)\n",
      "Vehicle 1: ✅ Step Done: go to (avoidance) -> (12.19, 4.49, 4.73)\n",
      "Vehicle 1: ▶️ Step Started: go to (avoidance) -> (12.18, 4.49, 4.73)\n",
      "Vehicle 1: ✅ Step Done: go to (avoidance) -> (12.18, 4.49, 4.73)\n",
      "Vehicle 1: ▶️ Step Started: go to (avoidance) -> (12.17, 4.5, 4.73)\n",
      "Vehicle 1: ✅ Step Done: go to (avoidance) -> (12.17, 4.5, 4.73)\n",
      "Vehicle 1: ▶️ Step Started: go to (avoidance) -> (12.16, 4.5, 4.73)\n",
      "Vehicle 1: ✅ Step Done: go to (avoidance) -> (12.16, 4.5, 4.73)\n",
      "Vehicle 1: ▶️ Step Started: go to (avoidance) -> (12.14, 4.51, 4.73)\n",
      "Vehicle 1: ✅ Step Done: go to (avoidance) -> (12.14, 4.51, 4.73)\n",
      "Vehicle 1: ▶️ Step Started: go to (avoidance) -> (12.09, 4.53, 4.73)\n",
      "Vehicle 1: ✅ Step Done: go to (avoidance) -> (12.09, 4.53, 4.73)\n",
      "Vehicle 1 switched to mode: 🔁 MISSION\n",
      "Vehicle 1: ▶️ Step Started: go to  -> (20, 0, 5)\n",
      "Vehicle 1: ✅ Step Done: go to  -> (20, 0, 5)\n",
      "Vehicle 1: ✅ Action Done: 🛩️ FLY\n",
      "Vehicle 1: ▶️ Action Started: 🛬 LAND\n",
      "Vehicle 1: ▶️ Step Started: land\n",
      "Vehicle 1: ✅ Step Done: land\n",
      "Vehicle 1: ✅ Action Done: 🛬 LAND\n",
      "Vehicle 1: ✅ Plan Done: 📋 basic\n"
     ]
    }
   ],
   "source": [
    "while orac.vehs:\n",
    "    orac.gather_broadcasts()\n",
    "    ## Remote ID attack\n",
    "    orac.pos[uavs[1]]=fake_posistion[0]\n",
    "    for uav in orac.vehs.copy():\n",
    "        orac.update_neighbors(uav)\n",
    "        if uav.plan.state != State.DONE:\n",
    "            uav.act()\n",
    "        elif uav.idx==1 or len(orac.vehs)==1:\n",
    "            orac.remove(uav)\n",
    "kill_processes()"
   ]
  },
  {
   "cell_type": "code",
   "execution_count": null,
   "metadata": {},
   "outputs": [],
   "source": []
  },
  {
   "cell_type": "code",
   "execution_count": 7,
   "metadata": {},
   "outputs": [
    {
     "ename": "IndexError",
     "evalue": "list index out of range",
     "output_type": "error",
     "traceback": [
      "\u001b[0;31m---------------------------------------------------------------------------\u001b[0m",
      "\u001b[0;31mIndexError\u001b[0m                                Traceback (most recent call last)",
      "Cell \u001b[0;32mIn[7], line 1\u001b[0m\n\u001b[0;32m----> 1\u001b[0m \u001b[43muavs\u001b[49m\u001b[43m[\u001b[49m\u001b[38;5;241;43m0\u001b[39;49m\u001b[43m]\u001b[49m\u001b[38;5;241m.\u001b[39msafety_radius\n",
      "\u001b[0;31mIndexError\u001b[0m: list index out of range"
     ]
    }
   ],
   "source": [
    "uavs[0].safety_radius"
   ]
  },
  {
   "cell_type": "code",
   "execution_count": null,
   "metadata": {},
   "outputs": [],
   "source": []
  }
 ],
 "metadata": {
  "kernelspec": {
   "display_name": "uav-cyber-sim",
   "language": "python",
   "name": "python3"
  },
  "language_info": {
   "codemirror_mode": {
    "name": "ipython",
    "version": 3
   },
   "file_extension": ".py",
   "mimetype": "text/x-python",
   "name": "python",
   "nbconvert_exporter": "python",
   "pygments_lexer": "ipython3",
   "version": "3.10.16"
  }
 },
 "nbformat": 4,
 "nbformat_minor": 2
}
