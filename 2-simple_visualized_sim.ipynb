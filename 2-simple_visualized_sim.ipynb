{
 "cells": [
  {
   "cell_type": "markdown",
   "metadata": {},
   "source": [
    "## Simple simulation \n",
    "\n",
    "This is for testing propouses"
   ]
  },
  {
   "cell_type": "code",
   "execution_count": 4,
   "metadata": {},
   "outputs": [],
   "source": [
    "import os\n",
    "import subprocess\n",
    "from pymavlink import mavutil\n",
    "\n",
    "from vehicle_logic import VehicleLogic"
   ]
  },
  {
   "cell_type": "markdown",
   "metadata": {},
   "source": [
    "## Kill all related processes"
   ]
  },
  {
   "cell_type": "code",
   "execution_count": 5,
   "metadata": {},
   "outputs": [],
   "source": [
    "for process in [\"QGroundControl\", \"gazebo\", \"sim_vehicle.py\", \"arducopter\", \"mavproxy\"]:\n",
    "    os.system(f\"pkill -9 -f {process}\")"
   ]
  },
  {
   "cell_type": "markdown",
   "metadata": {},
   "source": [
    "# Choose Simulator"
   ]
  },
  {
   "cell_type": "code",
   "execution_count": 6,
   "metadata": {},
   "outputs": [],
   "source": [
    "simulator ='gazebo' #'QGroundControl' # "
   ]
  },
  {
   "cell_type": "markdown",
   "metadata": {},
   "source": [
    "## Set simulator"
   ]
  },
  {
   "cell_type": "code",
   "execution_count": 4,
   "metadata": {},
   "outputs": [],
   "source": [
    "if simulator == 'QGroundControl':\n",
    "    vis_path = os.path.expanduser(\"~/QGroundControl.AppImage\")\n",
    "    vis_cmd =[vis_path]\n",
    "elif simulator == 'gazebo':\n",
    "    vis_path = os.path.expanduser(\"~/ardupilot_gazebo/worlds/iris_arducopter_runway.world\")\n",
    "    vis_cmd = [\"gazebo\", \"--verbose\", vis_path] "
   ]
  },
  {
   "cell_type": "code",
   "execution_count": 5,
   "metadata": {},
   "outputs": [],
   "source": [
    "vis_process = subprocess.Popen(\n",
    "    vis_cmd,\n",
    "    stdout=subprocess.DEVNULL,  # Suppress standard output\n",
    "    stderr=subprocess.DEVNULL,  # Suppress error output\n",
    "    shell=False  # Ensure safety when passing arguments\n",
    ")\n"
   ]
  },
  {
   "cell_type": "markdown",
   "metadata": {},
   "source": [
    "# Set Vehicle Autopilot"
   ]
  },
  {
   "cell_type": "code",
   "execution_count": 6,
   "metadata": {},
   "outputs": [
    {
     "data": {
      "text/plain": [
       "<Popen: returncode: None args: ['gnome-terminal', '--', 'bash', '-c', 'pytho...>"
      ]
     },
     "execution_count": 6,
     "metadata": {},
     "output_type": "execute_result"
    }
   ],
   "source": [
    "# Define the command string\n",
    "sim_vehicle_path = os.path.expanduser(\"~/ardupilot/Tools/autotest/sim_vehicle.py\")\n",
    "vehicle_cmd = f\"python3 {sim_vehicle_path} -v ArduCopter\" \n",
    "if simulator == 'gazebo':\n",
    "    vehicle_cmd += ' -f gazebo-iris'\n",
    "# Open a new terminal and run the command\n",
    "subprocess.Popen([\"gnome-terminal\", \"--\", \"bash\", \"-c\", f\"{vehicle_cmd}; exec bash\"])"
   ]
  },
  {
   "cell_type": "markdown",
   "metadata": {},
   "source": [
    "## Create Plan"
   ]
  },
  {
   "cell_type": "code",
   "execution_count": 7,
   "metadata": {},
   "outputs": [],
   "source": [
    "takeoff_pos=(-35.3633286,149.1652227,585,353)\n",
    "\n",
    "# Plan\n",
    "alt = 5\n",
    "dist = 10\n",
    "wps=[(0, 0, alt), #takeoff point\n",
    "    (0,dist, alt),\n",
    "    (dist, dist, alt),\n",
    "    (dist, -dist, alt),\n",
    "    (0, -dist, alt),\n",
    "    (0, 0, alt)]\n",
    "plan=['check_prearm','check_pos_est','mode_stabilize','mode_guided','arm','takeoff','fly','land']\n",
    "\n",
    "uavs_arg = []\n",
    "uav_arg={'home':takeoff_pos,\n",
    "        'waypoints':wps,\n",
    "        'plan': plan,\n",
    "        'wp_margin': 0.5}"
   ]
  },
  {
   "cell_type": "markdown",
   "metadata": {},
   "source": [
    "## Create UavLogic"
   ]
  },
  {
   "cell_type": "code",
   "execution_count": 8,
   "metadata": {},
   "outputs": [
    {
     "name": "stdout",
     "output_type": "stream",
     "text": [
      "vehicle 1 created\n"
     ]
    }
   ],
   "source": [
    "i=0\n",
    "connection = mavutil.mavlink_connection(f'udp:127.0.0.1:{14551+10*i}')\n",
    "connection.wait_heartbeat()\n",
    "uav=VehicleLogic(connection,**uav_arg)"
   ]
  },
  {
   "cell_type": "markdown",
   "metadata": {},
   "source": [
    "## Execute Plan"
   ]
  },
  {
   "cell_type": "code",
   "execution_count": 9,
   "metadata": {},
   "outputs": [
    {
     "name": "stdout",
     "output_type": "stream",
     "text": [
      "vehicle 1: action check_prearm is done\n",
      "flags: EKF_STATUS_REPORT {flags : 167, velocity_variance : 0.0, pos_horiz_variance : 0.00633350620046258, pos_vert_variance : 0.0017164436867460608, compass_variance : 0.043113186955451965, terrain_alt_variance : 0.0, airspeed_variance : 0.0}\n",
      "rare 16\n",
      "flags: EKF_STATUS_REPORT {flags : 167, velocity_variance : 0.0, pos_horiz_variance : 0.006693053059279919, pos_vert_variance : 0.0014550561318174005, compass_variance : 0.042843542993068695, terrain_alt_variance : 0.0, airspeed_variance : 0.0}\n",
      "rare 16\n",
      "flags: EKF_STATUS_REPORT {flags : 167, velocity_variance : 0.0, pos_horiz_variance : 0.006899583153426647, pos_vert_variance : 0.0012840109411627054, compass_variance : 0.042661797255277634, terrain_alt_variance : 0.0, airspeed_variance : 0.0}\n",
      "rare 16\n",
      "flags: EKF_STATUS_REPORT {flags : 167, velocity_variance : 0.0, pos_horiz_variance : 0.007171650417149067, pos_vert_variance : 0.001033774227835238, compass_variance : 0.04239838570356369, terrain_alt_variance : 0.0, airspeed_variance : 0.0}\n",
      "rare 16\n",
      "flags: EKF_STATUS_REPORT {flags : 167, velocity_variance : 0.0, pos_horiz_variance : 0.007320763543248177, pos_vert_variance : 0.000872758449986577, compass_variance : 0.04219646006822586, terrain_alt_variance : 0.0, airspeed_variance : 0.0}\n",
      "rare 16\n",
      "flags: EKF_STATUS_REPORT {flags : 167, velocity_variance : 0.0, pos_horiz_variance : 0.007504429668188095, pos_vert_variance : 0.0006398059776984155, compass_variance : 0.041907455772161484, terrain_alt_variance : 0.0, airspeed_variance : 0.0}\n",
      "rare 16\n",
      "flags: EKF_STATUS_REPORT {flags : 167, velocity_variance : 0.0, pos_horiz_variance : 0.007604787591844797, pos_vert_variance : 0.0004889373085461557, compass_variance : 0.041711028665304184, terrain_alt_variance : 0.0, airspeed_variance : 0.0}\n",
      "rare 16\n",
      "flags: EKF_STATUS_REPORT {flags : 167, velocity_variance : 0.0, pos_horiz_variance : 0.007725182920694351, pos_vert_variance : 0.0002710571570787579, compass_variance : 0.04141397401690483, terrain_alt_variance : 0.0, airspeed_variance : 0.0}\n",
      "rare 16\n",
      "flags: EKF_STATUS_REPORT {flags : 167, velocity_variance : 0.0, pos_horiz_variance : 0.007773122750222683, pos_vert_variance : 0.00013212328485678881, compass_variance : 0.04119689017534256, terrain_alt_variance : 0.0, airspeed_variance : 0.0}\n",
      "rare 16\n",
      "flags: EKF_STATUS_REPORT {flags : 167, velocity_variance : 0.0, pos_horiz_variance : 0.008283131755888462, pos_vert_variance : 0.00031603933894075453, compass_variance : 0.04093192517757416, terrain_alt_variance : 0.0, airspeed_variance : 0.0}\n",
      "rare 16\n",
      "flags: EKF_STATUS_REPORT {flags : 167, velocity_variance : 0.0, pos_horiz_variance : 0.008623182773590088, pos_vert_variance : 0.0006357518141157925, compass_variance : 0.04073268920183182, terrain_alt_variance : 0.0, airspeed_variance : 0.0}\n",
      "rare 16\n",
      "flags: EKF_STATUS_REPORT {flags : 167, velocity_variance : 0.0, pos_horiz_variance : 0.008999776095151901, pos_vert_variance : 0.0010714450618252158, compass_variance : 0.040423352271318436, terrain_alt_variance : 0.0, airspeed_variance : 0.0}\n",
      "rare 16\n",
      "flags: EKF_STATUS_REPORT {flags : 167, velocity_variance : 0.0, pos_horiz_variance : 0.009172825142741203, pos_vert_variance : 0.0013345637125894427, compass_variance : 0.04021420329809189, terrain_alt_variance : 0.0, airspeed_variance : 0.0}\n",
      "rare 16\n",
      "flags: EKF_STATUS_REPORT {flags : 167, velocity_variance : 0.0, pos_horiz_variance : 0.009331922046840191, pos_vert_variance : 0.0016903867945075035, compass_variance : 0.03989719599485397, terrain_alt_variance : 0.0, airspeed_variance : 0.0}\n",
      "rare 16\n",
      "flags: EKF_STATUS_REPORT {flags : 167, velocity_variance : 0.0, pos_horiz_variance : 0.009377988055348396, pos_vert_variance : 0.0019016563892364502, compass_variance : 0.039699487388134, terrain_alt_variance : 0.0, airspeed_variance : 0.0}\n",
      "rare 16\n",
      "flags: EKF_STATUS_REPORT {flags : 167, velocity_variance : 0.0, pos_horiz_variance : 0.009376700036227703, pos_vert_variance : 0.0021806780714541674, compass_variance : 0.03939446061849594, terrain_alt_variance : 0.0, airspeed_variance : 0.0}\n",
      "rare 16\n",
      "flags: EKF_STATUS_REPORT {flags : 167, velocity_variance : 0.0, pos_horiz_variance : 0.009334633126854897, pos_vert_variance : 0.0023427954874932766, compass_variance : 0.039188772439956665, terrain_alt_variance : 0.0, airspeed_variance : 0.0}\n",
      "rare 16\n",
      "flags: EKF_STATUS_REPORT {flags : 167, velocity_variance : 0.0, pos_horiz_variance : 0.009225799702107906, pos_vert_variance : 0.002555987099185586, compass_variance : 0.03888203203678131, terrain_alt_variance : 0.0, airspeed_variance : 0.0}\n",
      "rare 16\n",
      "flags: EKF_STATUS_REPORT {flags : 167, velocity_variance : 0.0, pos_horiz_variance : 0.009129291400313377, pos_vert_variance : 0.0026786320377141237, compass_variance : 0.03867795318365097, terrain_alt_variance : 0.0, airspeed_variance : 0.0}\n",
      "rare 16\n",
      "flags: EKF_STATUS_REPORT {flags : 167, velocity_variance : 0.0, pos_horiz_variance : 0.00896019022911787, pos_vert_variance : 0.002833773847669363, compass_variance : 0.03841039165854454, terrain_alt_variance : 0.0, airspeed_variance : 0.0}\n",
      "rare 16\n",
      "flags: EKF_STATUS_REPORT {flags : 167, velocity_variance : 0.0, pos_horiz_variance : 0.008830378763377666, pos_vert_variance : 0.002915774704888463, compass_variance : 0.038239117711782455, terrain_alt_variance : 0.0, airspeed_variance : 0.0}\n",
      "rare 16\n",
      "flags: EKF_STATUS_REPORT {flags : 167, velocity_variance : 0.0, pos_horiz_variance : 0.008650370873510838, pos_vert_variance : 0.003018447197973728, compass_variance : 0.03795963525772095, terrain_alt_variance : 0.0, airspeed_variance : 0.0}\n",
      "rare 16\n",
      "flags: EKF_STATUS_REPORT {flags : 167, velocity_variance : 0.0, pos_horiz_variance : 0.0084706274792552, pos_vert_variance : 0.0030891322530806065, compass_variance : 0.03776669129729271, terrain_alt_variance : 0.0, airspeed_variance : 0.0}\n",
      "rare 16\n",
      "flags: EKF_STATUS_REPORT {flags : 167, velocity_variance : 0.0, pos_horiz_variance : 0.008351916447281837, pos_vert_variance : 0.003120098728686571, compass_variance : 0.03748943656682968, terrain_alt_variance : 0.0, airspeed_variance : 0.0}\n",
      "rare 16\n",
      "flags: EKF_STATUS_REPORT {flags : 167, velocity_variance : 0.0, pos_horiz_variance : 0.008181875571608543, pos_vert_variance : 0.0031464446801692247, compass_variance : 0.03730962425470352, terrain_alt_variance : 0.0, airspeed_variance : 0.0}\n",
      "rare 16\n",
      "flags: EKF_STATUS_REPORT {flags : 167, velocity_variance : 0.0, pos_horiz_variance : 0.008077639155089855, pos_vert_variance : 0.0031522882636636496, compass_variance : 0.03704825043678284, terrain_alt_variance : 0.0, airspeed_variance : 0.0}\n",
      "rare 16\n",
      "flags: EKF_STATUS_REPORT {flags : 167, velocity_variance : 0.0, pos_horiz_variance : 0.007923472672700882, pos_vert_variance : 0.0031424309127032757, compass_variance : 0.03686583787202835, terrain_alt_variance : 0.0, airspeed_variance : 0.0}\n",
      "rare 16\n",
      "flags: EKF_STATUS_REPORT {flags : 167, velocity_variance : 0.0, pos_horiz_variance : 0.00783746037632227, pos_vert_variance : 0.0031270368490368128, compass_variance : 0.03661775961518288, terrain_alt_variance : 0.0, airspeed_variance : 0.0}\n",
      "rare 16\n",
      "flags: EKF_STATUS_REPORT {flags : 167, velocity_variance : 0.0, pos_horiz_variance : 0.007728300057351589, pos_vert_variance : 0.003089363221079111, compass_variance : 0.036449503153562546, terrain_alt_variance : 0.0, airspeed_variance : 0.0}\n",
      "rare 16\n",
      "flags: EKF_STATUS_REPORT {flags : 167, velocity_variance : 0.0, pos_horiz_variance : 0.00768067454919219, pos_vert_variance : 0.00306238722987473, compass_variance : 0.036214299499988556, terrain_alt_variance : 0.0, airspeed_variance : 0.0}\n",
      "rare 16\n",
      "flags: EKF_STATUS_REPORT {flags : 167, velocity_variance : 0.0, pos_horiz_variance : 0.007629566825926304, pos_vert_variance : 0.0030221932101994753, compass_variance : 0.03605704754590988, terrain_alt_variance : 0.0, airspeed_variance : 0.0}\n",
      "rare 16\n",
      "flags: EKF_STATUS_REPORT {flags : 167, velocity_variance : 0.0, pos_horiz_variance : 0.007603964302688837, pos_vert_variance : 0.0029570332262665033, compass_variance : 0.03585352003574371, terrain_alt_variance : 0.0, airspeed_variance : 0.0}\n",
      "rare 16\n",
      "flags: EKF_STATUS_REPORT {flags : 167, velocity_variance : 0.0, pos_horiz_variance : 0.007568296976387501, pos_vert_variance : 0.002900311490520835, compass_variance : 0.035694316029548645, terrain_alt_variance : 0.0, airspeed_variance : 0.0}\n",
      "rare 16\n",
      "flags: EKF_STATUS_REPORT {flags : 167, velocity_variance : 0.0, pos_horiz_variance : 0.007537986617535353, pos_vert_variance : 0.002808799734339118, compass_variance : 0.03546985983848572, terrain_alt_variance : 0.0, airspeed_variance : 0.0}\n",
      "rare 16\n",
      "flags: EKF_STATUS_REPORT {flags : 167, velocity_variance : 0.0, pos_horiz_variance : 0.007527031935751438, pos_vert_variance : 0.00274262810125947, compass_variance : 0.035296548157930374, terrain_alt_variance : 0.0, airspeed_variance : 0.0}\n",
      "rare 16\n",
      "flags: EKF_STATUS_REPORT {flags : 167, velocity_variance : 0.0, pos_horiz_variance : 0.007334050722420216, pos_vert_variance : 0.002481781179085374, compass_variance : 0.03506767004728317, terrain_alt_variance : 0.0, airspeed_variance : 0.0}\n",
      "rare 16\n",
      "flags: EKF_STATUS_REPORT {flags : 167, velocity_variance : 0.0, pos_horiz_variance : 0.007246099412441254, pos_vert_variance : 0.002315020887181163, compass_variance : 0.03492824733257294, terrain_alt_variance : 0.0, airspeed_variance : 0.0}\n",
      "rare 16\n",
      "flags: EKF_STATUS_REPORT {flags : 167, velocity_variance : 0.0, pos_horiz_variance : 0.007165980525314808, pos_vert_variance : 0.002078339224681258, compass_variance : 0.034714702516794205, terrain_alt_variance : 0.0, airspeed_variance : 0.0}\n",
      "rare 16\n",
      "flags: EKF_STATUS_REPORT {flags : 167, velocity_variance : 0.0, pos_horiz_variance : 0.00714121013879776, pos_vert_variance : 0.0019290988566353917, compass_variance : 0.034572672098875046, terrain_alt_variance : 0.0, airspeed_variance : 0.0}\n",
      "rare 16\n",
      "flags: EKF_STATUS_REPORT {flags : 167, velocity_variance : 0.0, pos_horiz_variance : 0.0071394131518900394, pos_vert_variance : 0.0017099258257076144, compass_variance : 0.03435666486620903, terrain_alt_variance : 0.0, airspeed_variance : 0.0}\n",
      "rare 16\n",
      "flags: EKF_STATUS_REPORT {flags : 167, velocity_variance : 0.0, pos_horiz_variance : 0.00694293575361371, pos_vert_variance : 0.0013631493784487247, compass_variance : 0.03422180190682411, terrain_alt_variance : 0.0, airspeed_variance : 0.0}\n",
      "rare 16\n",
      "flags: EKF_STATUS_REPORT {flags : 167, velocity_variance : 0.0, pos_horiz_variance : 0.006771527696400881, pos_vert_variance : 0.000892423908226192, compass_variance : 0.03403520956635475, terrain_alt_variance : 0.0, airspeed_variance : 0.0}\n",
      "rare 16\n",
      "flags: EKF_STATUS_REPORT {flags : 167, velocity_variance : 0.0, pos_horiz_variance : 0.006705132778733969, pos_vert_variance : 0.0006114655407145619, compass_variance : 0.03389919549226761, terrain_alt_variance : 0.0, airspeed_variance : 0.0}\n",
      "rare 16\n",
      "flags: EKF_STATUS_REPORT {flags : 167, velocity_variance : 0.0, pos_horiz_variance : 0.0066858138889074326, pos_vert_variance : 0.0002314835728611797, compass_variance : 0.03373294323682785, terrain_alt_variance : 0.0, airspeed_variance : 0.0}\n",
      "rare 16\n",
      "flags: EKF_STATUS_REPORT {flags : 167, velocity_variance : 0.0, pos_horiz_variance : 0.006703880149871111, pos_vert_variance : 7.081534477038076e-06, compass_variance : 0.03362593427300453, terrain_alt_variance : 0.0, airspeed_variance : 0.0}\n",
      "rare 16\n",
      "flags: EKF_STATUS_REPORT {flags : 167, velocity_variance : 0.0, pos_horiz_variance : 0.006925944704562426, pos_vert_variance : 5.5506556236650795e-05, compass_variance : 0.03351270779967308, terrain_alt_variance : 0.0, airspeed_variance : 0.0}\n",
      "rare 16\n",
      "flags: EKF_STATUS_REPORT {flags : 167, velocity_variance : 0.0, pos_horiz_variance : 0.007254619617015123, pos_vert_variance : 2.5179651856888086e-05, compass_variance : 0.033392515033483505, terrain_alt_variance : 0.0, airspeed_variance : 0.0}\n",
      "rare 16\n",
      "flags: EKF_STATUS_REPORT {flags : 167, velocity_variance : 0.0, pos_horiz_variance : 0.007479182910174131, pos_vert_variance : 5.955176220595604e-06, compass_variance : 0.0332145132124424, terrain_alt_variance : 0.0, airspeed_variance : 0.0}\n",
      "rare 16\n",
      "flags: EKF_STATUS_REPORT {flags : 167, velocity_variance : 0.0, pos_horiz_variance : 0.0077028521336615086, pos_vert_variance : 1.2628705007955432e-05, compass_variance : 0.033092401921749115, terrain_alt_variance : 0.0, airspeed_variance : 0.0}\n",
      "rare 16\n",
      "flags: EKF_STATUS_REPORT {flags : 167, velocity_variance : 0.0, pos_horiz_variance : 0.008033037185668945, pos_vert_variance : 3.896209454978816e-05, compass_variance : 0.03289361670613289, terrain_alt_variance : 0.0, airspeed_variance : 0.0}\n",
      "rare 16\n",
      "flags: EKF_STATUS_REPORT {flags : 167, velocity_variance : 0.0, pos_horiz_variance : 0.008345363661646843, pos_vert_variance : 6.234014290384948e-05, compass_variance : 0.03275809809565544, terrain_alt_variance : 0.0, airspeed_variance : 0.0}\n",
      "rare 16\n",
      "flags: EKF_STATUS_REPORT {flags : 167, velocity_variance : 0.0, pos_horiz_variance : 0.00852732453495264, pos_vert_variance : 7.59948234190233e-05, compass_variance : 0.03255607187747955, terrain_alt_variance : 0.0, airspeed_variance : 0.0}\n",
      "rare 16\n",
      "flags: EKF_STATUS_REPORT {flags : 167, velocity_variance : 0.0, pos_horiz_variance : 0.008803870528936386, pos_vert_variance : 9.559751197230071e-05, compass_variance : 0.03242062032222748, terrain_alt_variance : 0.0, airspeed_variance : 0.0}\n",
      "rare 16\n",
      "flags: EKF_STATUS_REPORT {flags : 167, velocity_variance : 0.0, pos_horiz_variance : 0.008975750766694546, pos_vert_variance : 0.00010811438551172614, compass_variance : 0.03223073482513428, terrain_alt_variance : 0.0, airspeed_variance : 0.0}\n",
      "rare 16\n",
      "flags: EKF_STATUS_REPORT {flags : 167, velocity_variance : 0.0, pos_horiz_variance : 0.00922316126525402, pos_vert_variance : 0.00012509524822235107, compass_variance : 0.03210321441292763, terrain_alt_variance : 0.0, airspeed_variance : 0.0}\n",
      "rare 16\n",
      "flags: EKF_STATUS_REPORT {flags : 167, velocity_variance : 0.0, pos_horiz_variance : 0.00936792604625225, pos_vert_variance : 0.0001354371488559991, compass_variance : 0.03190235048532486, terrain_alt_variance : 0.0, airspeed_variance : 0.0}\n",
      "rare 16\n",
      "flags: EKF_STATUS_REPORT {flags : 167, velocity_variance : 0.0, pos_horiz_variance : 0.00956937950104475, pos_vert_variance : 0.00015153855201788247, compass_variance : 0.03176829218864441, terrain_alt_variance : 0.0, airspeed_variance : 0.0}\n",
      "rare 16\n",
      "flags: EKF_STATUS_REPORT {flags : 167, velocity_variance : 0.0, pos_horiz_variance : 0.009759089909493923, pos_vert_variance : 0.00016321164730470628, compass_variance : 0.03160735219717026, terrain_alt_variance : 0.0, airspeed_variance : 0.0}\n",
      "rare 16\n",
      "flags: EKF_STATUS_REPORT {flags : 167, velocity_variance : 0.0, pos_horiz_variance : 0.009857294149696827, pos_vert_variance : 0.00017252942780032754, compass_variance : 0.031473126262426376, terrain_alt_variance : 0.0, airspeed_variance : 0.0}\n",
      "rare 16\n",
      "flags: EKF_STATUS_REPORT {flags : 167, velocity_variance : 0.0, pos_horiz_variance : 0.009997772984206676, pos_vert_variance : 0.00018516262935008854, compass_variance : 0.03127285838127136, terrain_alt_variance : 0.0, airspeed_variance : 0.0}\n",
      "rare 16\n",
      "flags: EKF_STATUS_REPORT {flags : 167, velocity_variance : 0.0, pos_horiz_variance : 0.01001393236219883, pos_vert_variance : 0.0001550590095575899, compass_variance : 0.031103389337658882, terrain_alt_variance : 0.0, airspeed_variance : 0.0}\n",
      "rare 16\n",
      "flags: EKF_STATUS_REPORT {flags : 167, velocity_variance : 0.0, pos_horiz_variance : 0.009919867850840092, pos_vert_variance : 1.4770544112252537e-05, compass_variance : 0.030908044427633286, terrain_alt_variance : 0.0, airspeed_variance : 0.0}\n",
      "rare 16\n",
      "flags: EKF_STATUS_REPORT {flags : 167, velocity_variance : 0.0, pos_horiz_variance : 0.009891567751765251, pos_vert_variance : 6.790695624658838e-05, compass_variance : 0.030785568058490753, terrain_alt_variance : 0.0, airspeed_variance : 0.0}\n",
      "rare 16\n",
      "flags: EKF_STATUS_REPORT {flags : 167, velocity_variance : 0.0, pos_horiz_variance : 0.009879512712359428, pos_vert_variance : 0.00017444055993109941, compass_variance : 0.030608845874667168, terrain_alt_variance : 0.0, airspeed_variance : 0.0}\n",
      "rare 16\n",
      "flags: EKF_STATUS_REPORT {flags : 167, velocity_variance : 0.0, pos_horiz_variance : 0.00988729391247034, pos_vert_variance : 0.00023503856209572405, compass_variance : 0.030487580224871635, terrain_alt_variance : 0.0, airspeed_variance : 0.0}\n",
      "rare 16\n",
      "flags: EKF_STATUS_REPORT {flags : 167, velocity_variance : 0.0, pos_horiz_variance : 0.009920801967382431, pos_vert_variance : 0.00031195752671919763, compass_variance : 0.030306322500109673, terrain_alt_variance : 0.0, airspeed_variance : 0.0}\n",
      "rare 16\n",
      "flags: EKF_STATUS_REPORT {flags : 167, velocity_variance : 0.0, pos_horiz_variance : 0.009961409494280815, pos_vert_variance : 0.0003541494661476463, compass_variance : 0.030190076678991318, terrain_alt_variance : 0.0, airspeed_variance : 0.0}\n",
      "rare 16\n",
      "flags: EKF_STATUS_REPORT {flags : 167, velocity_variance : 0.0, pos_horiz_variance : 0.01002402976155281, pos_vert_variance : 0.00040554304723627865, compass_variance : 0.030008573085069656, terrain_alt_variance : 0.0, airspeed_variance : 0.0}\n",
      "rare 16\n",
      "flags: EKF_STATUS_REPORT {flags : 167, velocity_variance : 0.0, pos_horiz_variance : 0.010074594058096409, pos_vert_variance : 0.0004327107744757086, compass_variance : 0.02989128604531288, terrain_alt_variance : 0.0, airspeed_variance : 0.0}\n",
      "rare 16\n",
      "flags: EKF_STATUS_REPORT {flags : 831, velocity_variance : 0.0, pos_horiz_variance : 0.010132109746336937, pos_vert_variance : 0.0004649757465813309, compass_variance : 0.02971958927810192, terrain_alt_variance : 0.0, airspeed_variance : 0.0}\n",
      "rare 16\n",
      "vehicle 1: action check_pos_est is done\n",
      "ack?\n",
      "ack end\n",
      "vehicle 1: action mode_stabilize is done\n",
      "ack?\n",
      "ack end\n",
      "vehicle 1: action mode_guided is done\n",
      "ack?\n",
      "ack end\n",
      "vehicle 1: action arm is done\n",
      "vehicle 1: action land is done\n"
     ]
    }
   ],
   "source": [
    "mission_incomplete = True\n",
    "while mission_incomplete:\n",
    "    mission_incomplete = uav.act_plan()"
   ]
  },
  {
   "cell_type": "markdown",
   "metadata": {},
   "source": [
    "## Kill all related process"
   ]
  },
  {
   "cell_type": "code",
   "execution_count": 10,
   "metadata": {},
   "outputs": [],
   "source": [
    "for process in [\"QGroundControl\", \"sim_vehicle.py\", \"arducopter\", \"gazebo\", \"mavproxy\"]:\n",
    "    os.system(f\"pkill -9 -f {process}\")"
   ]
  },
  {
   "cell_type": "code",
   "execution_count": null,
   "metadata": {},
   "outputs": [],
   "source": []
  }
 ],
 "metadata": {
  "kernelspec": {
   "display_name": "Python 3",
   "language": "python",
   "name": "python3"
  },
  "language_info": {
   "codemirror_mode": {
    "name": "ipython",
    "version": 3
   },
   "file_extension": ".py",
   "mimetype": "text/x-python",
   "name": "python",
   "nbconvert_exporter": "python",
   "pygments_lexer": "ipython3",
   "version": "3.9.21"
  }
 },
 "nbformat": 4,
 "nbformat_minor": 2
}
