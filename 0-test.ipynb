{
 "cells": [
  {
   "cell_type": "markdown",
   "metadata": {},
   "source": [
    "## Simulator (single uav)\n",
    "\n",
    "This notebook serves to get familiar with the simulator"
   ]
  },
  {
   "cell_type": "code",
   "execution_count": null,
   "metadata": {},
   "outputs": [],
   "source": [
    "from helpers import clean\n",
    "from helpers.coordinates import *\n",
    "from helpers.change_coordinates import *"
   ]
  },
  {
   "cell_type": "code",
   "execution_count": 21,
   "metadata": {},
   "outputs": [],
   "source": [
    "gra_pose = GRAPose(lat=-35.3633280, lon=-149.1652241,alt=0,heading=90) \n",
    "gra2_pose = GRAPose(lat=-12.3633280, lon=10.1652241,alt=0,heading=90) \n",
    "enu_pose = ENUPose(x=1, y=5, z=2, heading=45)\n",
    "gra = GRA(-31.3633280, 129.1652241, 0)\n",
    "gra2 = GRA(31.3, 18.16, 0)\n",
    "enu = ENU(5, 4.2, 0)"
   ]
  },
  {
   "cell_type": "code",
   "execution_count": 28,
   "metadata": {},
   "outputs": [
    {
     "data": {
      "text/plain": [
       "GRA(lat=31.300037880609985, lon=18.16005251884001, alt=3.34612189944861e-06)"
      ]
     },
     "execution_count": 28,
     "metadata": {},
     "output_type": "execute_result"
    }
   ],
   "source": [
    "ENU_to_GRA(gra2,enu)"
   ]
  },
  {
   "cell_type": "code",
   "execution_count": 27,
   "metadata": {},
   "outputs": [
    {
     "data": {
      "text/plain": [
       "GRA(lat=31.300037880609985, lon=18.16005251884001, alt=3.34612189944861e-06)"
      ]
     },
     "execution_count": 27,
     "metadata": {},
     "output_type": "execute_result"
    }
   ],
   "source": [
    "gra2.to_abs(enu)"
   ]
  },
  {
   "cell_type": "code",
   "execution_count": null,
   "metadata": {},
   "outputs": [],
   "source": []
  }
 ],
 "metadata": {
  "kernelspec": {
   "display_name": "uav-cyber-sim11",
   "language": "python",
   "name": "python3"
  },
  "language_info": {
   "codemirror_mode": {
    "name": "ipython",
    "version": 3
   },
   "file_extension": ".py",
   "mimetype": "text/x-python",
   "name": "python",
   "nbconvert_exporter": "python",
   "pygments_lexer": "ipython3",
   "version": "3.11.13"
  }
 },
 "nbformat": 4,
 "nbformat_minor": 2
}
