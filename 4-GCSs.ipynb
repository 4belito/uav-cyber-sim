{
 "cells": [
  {
   "cell_type": "markdown",
   "metadata": {},
   "source": [
    "## Ground Control Stations\n",
    "\n",
    "This notebook serves to get familiar with the simulator"
   ]
  },
  {
   "cell_type": "code",
   "execution_count": 1,
   "metadata": {},
   "outputs": [],
   "source": [
    "from collections import Counter\n",
    "\n",
    "from config import Color\n",
    "from helpers import clean  #, local2global\n",
    "from mavlink.customtypes.location import ENUPose, GRAPose\n",
    "from plan import Plan\n",
    "from simulator import (\n",
    "    QGC,\n",
    "    ConfigGazebo,\n",
    "    ConfigNovis,\n",
    "    ConfigQGC,\n",
    "    Gazebo,\n",
    "    NoVisualizer,\n",
    "    Simulator,\n",
    ")\n",
    "\n",
    "clean()"
   ]
  },
  {
   "cell_type": "markdown",
   "metadata": {},
   "source": [
    "## Simulation Configuration\n",
    "\n",
    "We can extend Notebook 3 to multiple GCSs by defining the list of UAVs corresponding to each GCS using `gcs_sysids`.  \n",
    "Each GCS must be assigned a name. For simplicity and better visualization, we name them using colors.  \n",
    " "
   ]
  },
  {
   "cell_type": "code",
   "execution_count": 2,
   "metadata": {},
   "outputs": [],
   "source": [
    "gra_origin = GRAPose(lat=-35.3633280, lon=149.1652241,alt=0,heading=90) \n",
    "enu_origin = ENUPose(x=0, y=0, z=gra_origin.alt, heading=gra_origin.heading) \n",
    "\n",
    "base_homes= ENUPose.list([  # east, north, up, heading\n",
    "    (0., 15., 0., 30.),\n",
    "    (15., 0., 0., 0),\n",
    "    (-15., -15., 0., 0),\n",
    "    (-15., 0., 0., 45),\n",
    "    (5., -20., 0., 0.),\n",
    "])\n",
    "base_paths = [Plan.create_square_path(side_len=10, alt=5,heading=0) for _ in base_homes]\n",
    "\n",
    "gcs_colors=[Color.BLUE,Color.RED]\n",
    "gcs_names = [f\"{color.name}_{color.emoji}\" for color in gcs_colors]\n",
    "gcs_sysids = [[1,2,3],[4,5]]"
   ]
  },
  {
   "cell_type": "markdown",
   "metadata": {},
   "source": [
    "## Visualizer\n",
    "\n",
    "For visualization propouses we colored each uav the same color than the GCS they belongs to"
   ]
  },
  {
   "cell_type": "code",
   "execution_count": 3,
   "metadata": {},
   "outputs": [],
   "source": [
    "uav_colors=list(Counter({color:len(sysids) \n",
    "                    for color, sysids in zip(gcs_colors, gcs_sysids)}).elements())"
   ]
  },
  {
   "cell_type": "markdown",
   "metadata": {},
   "source": [
    "## Gazebo Configuration\n",
    "\n",
    "Here we color each UAV with the color of the GCS it belongs to."
   ]
  },
  {
   "cell_type": "code",
   "execution_count": 4,
   "metadata": {},
   "outputs": [
    {
     "data": {
      "application/vnd.plotly.v1+json": {
       "config": {
        "plotlyServerURL": "https://plot.ly"
       },
       "data": [
        {
         "marker": {
          "color": [
           "blue",
           "blue",
           "blue",
           "blue",
           "blue"
          ],
          "size": 6
         },
         "mode": "markers",
         "name": "trajectory 0",
         "type": "scatter3d",
         "x": [
          -15,
          -23.66025403784439,
          -28.660254037844386,
          -20,
          -15
         ],
         "y": [
          9.18485099360515e-16,
          -4.999999999999997,
          3.66025403784439,
          8.660254037844389,
          9.18485099360515e-16
         ],
         "z": [
          5,
          5,
          5,
          5,
          5
         ]
        },
        {
         "marker": {
          "color": [
           "blue",
           "blue",
           "blue",
           "blue",
           "blue"
          ],
          "size": 6
         },
         "mode": "markers",
         "name": "trajectory 1",
         "type": "scatter3d",
         "x": [
          9.18485099360515e-16,
          -9.999999999999998,
          -9.999999999999998,
          1.5308084989341915e-15,
          9.18485099360515e-16
         ],
         "y": [
          15,
          15,
          25,
          25,
          15
         ],
         "z": [
          5,
          5,
          5,
          5,
          5
         ]
        },
        {
         "marker": {
          "color": [
           "blue",
           "blue",
           "blue",
           "blue",
           "blue"
          ],
          "size": 6
         },
         "mode": "markers",
         "name": "trajectory 2",
         "type": "scatter3d",
         "x": [
          14.999999999999998,
          4.999999999999999,
          5,
          15,
          14.999999999999998
         ],
         "y": [
          -15.000000000000002,
          -15,
          -5,
          -5.000000000000001,
          -15.000000000000002
         ],
         "z": [
          5,
          5,
          5,
          5,
          5
         ]
        },
        {
         "marker": {
          "color": [
           "red",
           "red",
           "red",
           "red",
           "red"
          ],
          "size": 6
         },
         "mode": "markers",
         "name": "trajectory 3",
         "type": "scatter3d",
         "x": [
          -9.18485099360515e-16,
          -7.071067811865477,
          -14.142135623730953,
          -7.0710678118654755,
          -9.18485099360515e-16
         ],
         "y": [
          -15,
          -22.071067811865476,
          -15,
          -7.9289321881345245,
          -15
         ],
         "z": [
          5,
          5,
          5,
          5,
          5
         ]
        },
        {
         "marker": {
          "color": [
           "red",
           "red",
           "red",
           "red",
           "red"
          ],
          "size": 6
         },
         "mode": "markers",
         "name": "trajectory 4",
         "type": "scatter3d",
         "x": [
          20,
          10,
          10.000000000000002,
          20,
          20
         ],
         "y": [
          4.999999999999999,
          4.999999999999999,
          15,
          14.999999999999998,
          4.999999999999999
         ],
         "z": [
          5,
          5,
          5,
          5,
          5
         ]
        },
        {
         "marker": {
          "color": "white",
          "size": 8
         },
         "mode": "markers+text",
         "name": "origin",
         "text": [
          "origin"
         ],
         "textposition": "top center",
         "type": "scatter3d",
         "x": [
          0
         ],
         "y": [
          0
         ],
         "z": [
          0
         ]
        }
       ],
       "layout": {
        "height": 600,
        "scene": {
         "xaxis": {
          "range": [
           -38.392304845413264,
           29.732050807568875
          ],
          "title": {
           "text": "x"
          }
         },
         "yaxis": {
          "range": [
           -31.48528137423857,
           34.41421356237309
          ],
          "title": {
           "text": "y"
          }
         },
         "zaxis": {
          "range": [
           0,
           6
          ],
          "title": {
           "text": "z"
          }
         }
        },
        "showlegend": true,
        "template": {
         "data": {
          "bar": [
           {
            "error_x": {
             "color": "#2a3f5f"
            },
            "error_y": {
             "color": "#2a3f5f"
            },
            "marker": {
             "line": {
              "color": "#E5ECF6",
              "width": 0.5
             },
             "pattern": {
              "fillmode": "overlay",
              "size": 10,
              "solidity": 0.2
             }
            },
            "type": "bar"
           }
          ],
          "barpolar": [
           {
            "marker": {
             "line": {
              "color": "#E5ECF6",
              "width": 0.5
             },
             "pattern": {
              "fillmode": "overlay",
              "size": 10,
              "solidity": 0.2
             }
            },
            "type": "barpolar"
           }
          ],
          "carpet": [
           {
            "aaxis": {
             "endlinecolor": "#2a3f5f",
             "gridcolor": "white",
             "linecolor": "white",
             "minorgridcolor": "white",
             "startlinecolor": "#2a3f5f"
            },
            "baxis": {
             "endlinecolor": "#2a3f5f",
             "gridcolor": "white",
             "linecolor": "white",
             "minorgridcolor": "white",
             "startlinecolor": "#2a3f5f"
            },
            "type": "carpet"
           }
          ],
          "choropleth": [
           {
            "colorbar": {
             "outlinewidth": 0,
             "ticks": ""
            },
            "type": "choropleth"
           }
          ],
          "contour": [
           {
            "colorbar": {
             "outlinewidth": 0,
             "ticks": ""
            },
            "colorscale": [
             [
              0,
              "#0d0887"
             ],
             [
              0.1111111111111111,
              "#46039f"
             ],
             [
              0.2222222222222222,
              "#7201a8"
             ],
             [
              0.3333333333333333,
              "#9c179e"
             ],
             [
              0.4444444444444444,
              "#bd3786"
             ],
             [
              0.5555555555555556,
              "#d8576b"
             ],
             [
              0.6666666666666666,
              "#ed7953"
             ],
             [
              0.7777777777777778,
              "#fb9f3a"
             ],
             [
              0.8888888888888888,
              "#fdca26"
             ],
             [
              1,
              "#f0f921"
             ]
            ],
            "type": "contour"
           }
          ],
          "contourcarpet": [
           {
            "colorbar": {
             "outlinewidth": 0,
             "ticks": ""
            },
            "type": "contourcarpet"
           }
          ],
          "heatmap": [
           {
            "colorbar": {
             "outlinewidth": 0,
             "ticks": ""
            },
            "colorscale": [
             [
              0,
              "#0d0887"
             ],
             [
              0.1111111111111111,
              "#46039f"
             ],
             [
              0.2222222222222222,
              "#7201a8"
             ],
             [
              0.3333333333333333,
              "#9c179e"
             ],
             [
              0.4444444444444444,
              "#bd3786"
             ],
             [
              0.5555555555555556,
              "#d8576b"
             ],
             [
              0.6666666666666666,
              "#ed7953"
             ],
             [
              0.7777777777777778,
              "#fb9f3a"
             ],
             [
              0.8888888888888888,
              "#fdca26"
             ],
             [
              1,
              "#f0f921"
             ]
            ],
            "type": "heatmap"
           }
          ],
          "histogram": [
           {
            "marker": {
             "pattern": {
              "fillmode": "overlay",
              "size": 10,
              "solidity": 0.2
             }
            },
            "type": "histogram"
           }
          ],
          "histogram2d": [
           {
            "colorbar": {
             "outlinewidth": 0,
             "ticks": ""
            },
            "colorscale": [
             [
              0,
              "#0d0887"
             ],
             [
              0.1111111111111111,
              "#46039f"
             ],
             [
              0.2222222222222222,
              "#7201a8"
             ],
             [
              0.3333333333333333,
              "#9c179e"
             ],
             [
              0.4444444444444444,
              "#bd3786"
             ],
             [
              0.5555555555555556,
              "#d8576b"
             ],
             [
              0.6666666666666666,
              "#ed7953"
             ],
             [
              0.7777777777777778,
              "#fb9f3a"
             ],
             [
              0.8888888888888888,
              "#fdca26"
             ],
             [
              1,
              "#f0f921"
             ]
            ],
            "type": "histogram2d"
           }
          ],
          "histogram2dcontour": [
           {
            "colorbar": {
             "outlinewidth": 0,
             "ticks": ""
            },
            "colorscale": [
             [
              0,
              "#0d0887"
             ],
             [
              0.1111111111111111,
              "#46039f"
             ],
             [
              0.2222222222222222,
              "#7201a8"
             ],
             [
              0.3333333333333333,
              "#9c179e"
             ],
             [
              0.4444444444444444,
              "#bd3786"
             ],
             [
              0.5555555555555556,
              "#d8576b"
             ],
             [
              0.6666666666666666,
              "#ed7953"
             ],
             [
              0.7777777777777778,
              "#fb9f3a"
             ],
             [
              0.8888888888888888,
              "#fdca26"
             ],
             [
              1,
              "#f0f921"
             ]
            ],
            "type": "histogram2dcontour"
           }
          ],
          "mesh3d": [
           {
            "colorbar": {
             "outlinewidth": 0,
             "ticks": ""
            },
            "type": "mesh3d"
           }
          ],
          "parcoords": [
           {
            "line": {
             "colorbar": {
              "outlinewidth": 0,
              "ticks": ""
             }
            },
            "type": "parcoords"
           }
          ],
          "pie": [
           {
            "automargin": true,
            "type": "pie"
           }
          ],
          "scatter": [
           {
            "fillpattern": {
             "fillmode": "overlay",
             "size": 10,
             "solidity": 0.2
            },
            "type": "scatter"
           }
          ],
          "scatter3d": [
           {
            "line": {
             "colorbar": {
              "outlinewidth": 0,
              "ticks": ""
             }
            },
            "marker": {
             "colorbar": {
              "outlinewidth": 0,
              "ticks": ""
             }
            },
            "type": "scatter3d"
           }
          ],
          "scattercarpet": [
           {
            "marker": {
             "colorbar": {
              "outlinewidth": 0,
              "ticks": ""
             }
            },
            "type": "scattercarpet"
           }
          ],
          "scattergeo": [
           {
            "marker": {
             "colorbar": {
              "outlinewidth": 0,
              "ticks": ""
             }
            },
            "type": "scattergeo"
           }
          ],
          "scattergl": [
           {
            "marker": {
             "colorbar": {
              "outlinewidth": 0,
              "ticks": ""
             }
            },
            "type": "scattergl"
           }
          ],
          "scattermap": [
           {
            "marker": {
             "colorbar": {
              "outlinewidth": 0,
              "ticks": ""
             }
            },
            "type": "scattermap"
           }
          ],
          "scattermapbox": [
           {
            "marker": {
             "colorbar": {
              "outlinewidth": 0,
              "ticks": ""
             }
            },
            "type": "scattermapbox"
           }
          ],
          "scatterpolar": [
           {
            "marker": {
             "colorbar": {
              "outlinewidth": 0,
              "ticks": ""
             }
            },
            "type": "scatterpolar"
           }
          ],
          "scatterpolargl": [
           {
            "marker": {
             "colorbar": {
              "outlinewidth": 0,
              "ticks": ""
             }
            },
            "type": "scatterpolargl"
           }
          ],
          "scatterternary": [
           {
            "marker": {
             "colorbar": {
              "outlinewidth": 0,
              "ticks": ""
             }
            },
            "type": "scatterternary"
           }
          ],
          "surface": [
           {
            "colorbar": {
             "outlinewidth": 0,
             "ticks": ""
            },
            "colorscale": [
             [
              0,
              "#0d0887"
             ],
             [
              0.1111111111111111,
              "#46039f"
             ],
             [
              0.2222222222222222,
              "#7201a8"
             ],
             [
              0.3333333333333333,
              "#9c179e"
             ],
             [
              0.4444444444444444,
              "#bd3786"
             ],
             [
              0.5555555555555556,
              "#d8576b"
             ],
             [
              0.6666666666666666,
              "#ed7953"
             ],
             [
              0.7777777777777778,
              "#fb9f3a"
             ],
             [
              0.8888888888888888,
              "#fdca26"
             ],
             [
              1,
              "#f0f921"
             ]
            ],
            "type": "surface"
           }
          ],
          "table": [
           {
            "cells": {
             "fill": {
              "color": "#EBF0F8"
             },
             "line": {
              "color": "white"
             }
            },
            "header": {
             "fill": {
              "color": "#C8D4E3"
             },
             "line": {
              "color": "white"
             }
            },
            "type": "table"
           }
          ]
         },
         "layout": {
          "annotationdefaults": {
           "arrowcolor": "#2a3f5f",
           "arrowhead": 0,
           "arrowwidth": 1
          },
          "autotypenumbers": "strict",
          "coloraxis": {
           "colorbar": {
            "outlinewidth": 0,
            "ticks": ""
           }
          },
          "colorscale": {
           "diverging": [
            [
             0,
             "#8e0152"
            ],
            [
             0.1,
             "#c51b7d"
            ],
            [
             0.2,
             "#de77ae"
            ],
            [
             0.3,
             "#f1b6da"
            ],
            [
             0.4,
             "#fde0ef"
            ],
            [
             0.5,
             "#f7f7f7"
            ],
            [
             0.6,
             "#e6f5d0"
            ],
            [
             0.7,
             "#b8e186"
            ],
            [
             0.8,
             "#7fbc41"
            ],
            [
             0.9,
             "#4d9221"
            ],
            [
             1,
             "#276419"
            ]
           ],
           "sequential": [
            [
             0,
             "#0d0887"
            ],
            [
             0.1111111111111111,
             "#46039f"
            ],
            [
             0.2222222222222222,
             "#7201a8"
            ],
            [
             0.3333333333333333,
             "#9c179e"
            ],
            [
             0.4444444444444444,
             "#bd3786"
            ],
            [
             0.5555555555555556,
             "#d8576b"
            ],
            [
             0.6666666666666666,
             "#ed7953"
            ],
            [
             0.7777777777777778,
             "#fb9f3a"
            ],
            [
             0.8888888888888888,
             "#fdca26"
            ],
            [
             1,
             "#f0f921"
            ]
           ],
           "sequentialminus": [
            [
             0,
             "#0d0887"
            ],
            [
             0.1111111111111111,
             "#46039f"
            ],
            [
             0.2222222222222222,
             "#7201a8"
            ],
            [
             0.3333333333333333,
             "#9c179e"
            ],
            [
             0.4444444444444444,
             "#bd3786"
            ],
            [
             0.5555555555555556,
             "#d8576b"
            ],
            [
             0.6666666666666666,
             "#ed7953"
            ],
            [
             0.7777777777777778,
             "#fb9f3a"
            ],
            [
             0.8888888888888888,
             "#fdca26"
            ],
            [
             1,
             "#f0f921"
            ]
           ]
          },
          "colorway": [
           "#636efa",
           "#EF553B",
           "#00cc96",
           "#ab63fa",
           "#FFA15A",
           "#19d3f3",
           "#FF6692",
           "#B6E880",
           "#FF97FF",
           "#FECB52"
          ],
          "font": {
           "color": "#2a3f5f"
          },
          "geo": {
           "bgcolor": "white",
           "lakecolor": "white",
           "landcolor": "#E5ECF6",
           "showlakes": true,
           "showland": true,
           "subunitcolor": "white"
          },
          "hoverlabel": {
           "align": "left"
          },
          "hovermode": "closest",
          "mapbox": {
           "style": "light"
          },
          "paper_bgcolor": "white",
          "plot_bgcolor": "#E5ECF6",
          "polar": {
           "angularaxis": {
            "gridcolor": "white",
            "linecolor": "white",
            "ticks": ""
           },
           "bgcolor": "#E5ECF6",
           "radialaxis": {
            "gridcolor": "white",
            "linecolor": "white",
            "ticks": ""
           }
          },
          "scene": {
           "xaxis": {
            "backgroundcolor": "#E5ECF6",
            "gridcolor": "white",
            "gridwidth": 2,
            "linecolor": "white",
            "showbackground": true,
            "ticks": "",
            "zerolinecolor": "white"
           },
           "yaxis": {
            "backgroundcolor": "#E5ECF6",
            "gridcolor": "white",
            "gridwidth": 2,
            "linecolor": "white",
            "showbackground": true,
            "ticks": "",
            "zerolinecolor": "white"
           },
           "zaxis": {
            "backgroundcolor": "#E5ECF6",
            "gridcolor": "white",
            "gridwidth": 2,
            "linecolor": "white",
            "showbackground": true,
            "ticks": "",
            "zerolinecolor": "white"
           }
          },
          "shapedefaults": {
           "line": {
            "color": "#2a3f5f"
           }
          },
          "ternary": {
           "aaxis": {
            "gridcolor": "white",
            "linecolor": "white",
            "ticks": ""
           },
           "baxis": {
            "gridcolor": "white",
            "linecolor": "white",
            "ticks": ""
           },
           "bgcolor": "#E5ECF6",
           "caxis": {
            "gridcolor": "white",
            "linecolor": "white",
            "ticks": ""
           }
          },
          "title": {
           "x": 0.05
          },
          "xaxis": {
           "automargin": true,
           "gridcolor": "white",
           "linecolor": "white",
           "ticks": "",
           "title": {
            "standoff": 15
           },
           "zerolinecolor": "white",
           "zerolinewidth": 2
          },
          "yaxis": {
           "automargin": true,
           "gridcolor": "white",
           "linecolor": "white",
           "ticks": "",
           "title": {
            "standoff": 15
           },
           "zerolinecolor": "white",
           "zerolinewidth": 2
          }
         }
        },
        "title": {
         "text": "Trajectories",
         "x": 0.5,
         "xanchor": "center"
        },
        "width": 800
       }
      }
     },
     "metadata": {},
     "output_type": "display_data"
    }
   ],
   "source": [
    "gaz_config = ConfigGazebo(origin = enu_origin,\n",
    "                          world_path=\"simulator/gazebo/worlds/runway.world\")\n",
    "\n",
    "for path,home,c in zip(base_paths,base_homes,uav_colors):\n",
    "    gaz_config.add(base_path=path,base_home=home,color=c)\n",
    "gaz_config.show()\n",
    "\n",
    "gaz= Gazebo(gaz_config,gra_origin)"
   ]
  },
  {
   "cell_type": "markdown",
   "metadata": {},
   "source": [
    "## QGroundControl"
   ]
  },
  {
   "cell_type": "code",
   "execution_count": 5,
   "metadata": {},
   "outputs": [
    {
     "data": {
      "text/html": [
       "<div style=\"width:100%;\"><div style=\"position:relative;width:100%;height:0;padding-bottom:60%;\"><span style=\"color:#565656\">Make this Notebook Trusted to load map: File -> Trust Notebook</span><iframe srcdoc=\"&lt;!DOCTYPE html&gt;\n",
       "&lt;html&gt;\n",
       "&lt;head&gt;\n",
       "    \n",
       "    &lt;meta http-equiv=&quot;content-type&quot; content=&quot;text/html; charset=UTF-8&quot; /&gt;\n",
       "    &lt;script src=&quot;https://cdn.jsdelivr.net/npm/leaflet@1.9.3/dist/leaflet.js&quot;&gt;&lt;/script&gt;\n",
       "    &lt;script src=&quot;https://code.jquery.com/jquery-3.7.1.min.js&quot;&gt;&lt;/script&gt;\n",
       "    &lt;script src=&quot;https://cdn.jsdelivr.net/npm/bootstrap@5.2.2/dist/js/bootstrap.bundle.min.js&quot;&gt;&lt;/script&gt;\n",
       "    &lt;script src=&quot;https://cdnjs.cloudflare.com/ajax/libs/Leaflet.awesome-markers/2.0.2/leaflet.awesome-markers.js&quot;&gt;&lt;/script&gt;\n",
       "    &lt;link rel=&quot;stylesheet&quot; href=&quot;https://cdn.jsdelivr.net/npm/leaflet@1.9.3/dist/leaflet.css&quot;/&gt;\n",
       "    &lt;link rel=&quot;stylesheet&quot; href=&quot;https://cdn.jsdelivr.net/npm/bootstrap@5.2.2/dist/css/bootstrap.min.css&quot;/&gt;\n",
       "    &lt;link rel=&quot;stylesheet&quot; href=&quot;https://netdna.bootstrapcdn.com/bootstrap/3.0.0/css/bootstrap-glyphicons.css&quot;/&gt;\n",
       "    &lt;link rel=&quot;stylesheet&quot; href=&quot;https://cdn.jsdelivr.net/npm/@fortawesome/fontawesome-free@6.2.0/css/all.min.css&quot;/&gt;\n",
       "    &lt;link rel=&quot;stylesheet&quot; href=&quot;https://cdnjs.cloudflare.com/ajax/libs/Leaflet.awesome-markers/2.0.2/leaflet.awesome-markers.css&quot;/&gt;\n",
       "    &lt;link rel=&quot;stylesheet&quot; href=&quot;https://cdn.jsdelivr.net/gh/python-visualization/folium/folium/templates/leaflet.awesome.rotate.min.css&quot;/&gt;\n",
       "    \n",
       "            &lt;meta name=&quot;viewport&quot; content=&quot;width=device-width,\n",
       "                initial-scale=1.0, maximum-scale=1.0, user-scalable=no&quot; /&gt;\n",
       "            &lt;style&gt;\n",
       "                #map_e5167c2b5f0275c25cc82f3eaa3c6acc {\n",
       "                    position: relative;\n",
       "                    width: 100.0%;\n",
       "                    height: 100.0%;\n",
       "                    left: 0.0%;\n",
       "                    top: 0.0%;\n",
       "                }\n",
       "                .leaflet-container { font-size: 1rem; }\n",
       "            &lt;/style&gt;\n",
       "\n",
       "            &lt;style&gt;html, body {\n",
       "                width: 100%;\n",
       "                height: 100%;\n",
       "                margin: 0;\n",
       "                padding: 0;\n",
       "            }\n",
       "            &lt;/style&gt;\n",
       "\n",
       "            &lt;style&gt;#map {\n",
       "                position:absolute;\n",
       "                top:0;\n",
       "                bottom:0;\n",
       "                right:0;\n",
       "                left:0;\n",
       "                }\n",
       "            &lt;/style&gt;\n",
       "\n",
       "            &lt;script&gt;\n",
       "                L_NO_TOUCH = false;\n",
       "                L_DISABLE_3D = false;\n",
       "            &lt;/script&gt;\n",
       "\n",
       "        \n",
       "&lt;/head&gt;\n",
       "&lt;body&gt;\n",
       "    \n",
       "    \n",
       "            &lt;div class=&quot;folium-map&quot; id=&quot;map_e5167c2b5f0275c25cc82f3eaa3c6acc&quot; &gt;&lt;/div&gt;\n",
       "        \n",
       "&lt;/body&gt;\n",
       "&lt;script&gt;\n",
       "    \n",
       "    \n",
       "            var map_e5167c2b5f0275c25cc82f3eaa3c6acc = L.map(\n",
       "                &quot;map_e5167c2b5f0275c25cc82f3eaa3c6acc&quot;,\n",
       "                {\n",
       "                    center: [-35.363328, 149.1652241],\n",
       "                    crs: L.CRS.EPSG3857,\n",
       "                    ...{\n",
       "  &quot;zoom&quot;: 18,\n",
       "  &quot;zoomControl&quot;: true,\n",
       "  &quot;preferCanvas&quot;: false,\n",
       "}\n",
       "\n",
       "                }\n",
       "            );\n",
       "\n",
       "            \n",
       "\n",
       "        \n",
       "    \n",
       "            var tile_layer_1da4e2a105ffffeb829b0472f160ffad = L.tileLayer(\n",
       "                &quot;https://tile.openstreetmap.org/{z}/{x}/{y}.png&quot;,\n",
       "                {\n",
       "  &quot;minZoom&quot;: 0,\n",
       "  &quot;maxZoom&quot;: 19,\n",
       "  &quot;maxNativeZoom&quot;: 19,\n",
       "  &quot;noWrap&quot;: false,\n",
       "  &quot;attribution&quot;: &quot;\\u0026copy; \\u003ca href=\\&quot;https://www.openstreetmap.org/copyright\\&quot;\\u003eOpenStreetMap\\u003c/a\\u003e contributors&quot;,\n",
       "  &quot;subdomains&quot;: &quot;abc&quot;,\n",
       "  &quot;detectRetina&quot;: false,\n",
       "  &quot;tms&quot;: false,\n",
       "  &quot;opacity&quot;: 1,\n",
       "}\n",
       "\n",
       "            );\n",
       "        \n",
       "    \n",
       "            tile_layer_1da4e2a105ffffeb829b0472f160ffad.addTo(map_e5167c2b5f0275c25cc82f3eaa3c6acc);\n",
       "        \n",
       "    \n",
       "            var marker_56744e117edf613d41a15042b8b0efd5 = L.marker(\n",
       "                [-35.36332799988755, 149.16505886598486],\n",
       "                {\n",
       "}\n",
       "            ).addTo(map_e5167c2b5f0275c25cc82f3eaa3c6acc);\n",
       "        \n",
       "    \n",
       "            var icon_49e363a87f6a9b9987820cb86cbce54a = L.AwesomeMarkers.icon(\n",
       "                {\n",
       "  &quot;markerColor&quot;: &quot;blue&quot;,\n",
       "  &quot;iconColor&quot;: &quot;white&quot;,\n",
       "  &quot;icon&quot;: &quot;info-sign&quot;,\n",
       "  &quot;prefix&quot;: &quot;glyphicon&quot;,\n",
       "  &quot;extraClasses&quot;: &quot;fa-rotate-0&quot;,\n",
       "}\n",
       "            );\n",
       "        \n",
       "    \n",
       "        var popup_d04e10435ee2ede3925298983440dbd1 = L.popup({\n",
       "  &quot;maxWidth&quot;: &quot;100%&quot;,\n",
       "});\n",
       "\n",
       "        \n",
       "            \n",
       "                var html_f32adb08797c3a3ca9ec73ea30f39409 = $(`&lt;div id=&quot;html_f32adb08797c3a3ca9ec73ea30f39409&quot; style=&quot;width: 100.0%; height: 100.0%;&quot;&gt;pos_0&lt;/div&gt;`)[0];\n",
       "                popup_d04e10435ee2ede3925298983440dbd1.setContent(html_f32adb08797c3a3ca9ec73ea30f39409);\n",
       "            \n",
       "        \n",
       "\n",
       "        marker_56744e117edf613d41a15042b8b0efd5.bindPopup(popup_d04e10435ee2ede3925298983440dbd1)\n",
       "        ;\n",
       "\n",
       "        \n",
       "    \n",
       "    \n",
       "                marker_56744e117edf613d41a15042b8b0efd5.setIcon(icon_49e363a87f6a9b9987820cb86cbce54a);\n",
       "            \n",
       "    \n",
       "            var marker_701829fabac1d80f7d1d639015db75f0 = L.marker(\n",
       "                [-35.36337291574498, 149.1649634679368],\n",
       "                {\n",
       "}\n",
       "            ).addTo(map_e5167c2b5f0275c25cc82f3eaa3c6acc);\n",
       "        \n",
       "    \n",
       "            var icon_12c750671d17aa6f8fc4c5cf99881f1b = L.AwesomeMarkers.icon(\n",
       "                {\n",
       "  &quot;markerColor&quot;: &quot;blue&quot;,\n",
       "  &quot;iconColor&quot;: &quot;white&quot;,\n",
       "  &quot;icon&quot;: &quot;info-sign&quot;,\n",
       "  &quot;prefix&quot;: &quot;glyphicon&quot;,\n",
       "  &quot;extraClasses&quot;: &quot;fa-rotate-0&quot;,\n",
       "}\n",
       "            );\n",
       "        \n",
       "    \n",
       "        var popup_ac53c10c2007edb91a98b8564ea78e13 = L.popup({\n",
       "  &quot;maxWidth&quot;: &quot;100%&quot;,\n",
       "});\n",
       "\n",
       "        \n",
       "            \n",
       "                var html_7fb3d1783e39097364fb1aa5b8837a2a = $(`&lt;div id=&quot;html_7fb3d1783e39097364fb1aa5b8837a2a&quot; style=&quot;width: 100.0%; height: 100.0%;&quot;&gt;pos_1&lt;/div&gt;`)[0];\n",
       "                popup_ac53c10c2007edb91a98b8564ea78e13.setContent(html_7fb3d1783e39097364fb1aa5b8837a2a);\n",
       "            \n",
       "        \n",
       "\n",
       "        marker_701829fabac1d80f7d1d639015db75f0.bindPopup(popup_ac53c10c2007edb91a98b8564ea78e13)\n",
       "        ;\n",
       "\n",
       "        \n",
       "    \n",
       "    \n",
       "                marker_701829fabac1d80f7d1d639015db75f0.setIcon(icon_12c750671d17aa6f8fc4c5cf99881f1b);\n",
       "            \n",
       "    \n",
       "            var marker_eafe8d477acd0f93eb1232285e4e24f1 = L.marker(\n",
       "                [-35.36329511877727, 149.1649083902053],\n",
       "                {\n",
       "}\n",
       "            ).addTo(map_e5167c2b5f0275c25cc82f3eaa3c6acc);\n",
       "        \n",
       "    \n",
       "            var icon_fecb61429e1fd1c32a597550ca5ea117 = L.AwesomeMarkers.icon(\n",
       "                {\n",
       "  &quot;markerColor&quot;: &quot;blue&quot;,\n",
       "  &quot;iconColor&quot;: &quot;white&quot;,\n",
       "  &quot;icon&quot;: &quot;info-sign&quot;,\n",
       "  &quot;prefix&quot;: &quot;glyphicon&quot;,\n",
       "  &quot;extraClasses&quot;: &quot;fa-rotate-0&quot;,\n",
       "}\n",
       "            );\n",
       "        \n",
       "    \n",
       "        var popup_ae2d2d9bdf57b94a5f6521777a5b42fa = L.popup({\n",
       "  &quot;maxWidth&quot;: &quot;100%&quot;,\n",
       "});\n",
       "\n",
       "        \n",
       "            \n",
       "                var html_b6508321257034511b1af5635c0b674c = $(`&lt;div id=&quot;html_b6508321257034511b1af5635c0b674c&quot; style=&quot;width: 100.0%; height: 100.0%;&quot;&gt;pos_2&lt;/div&gt;`)[0];\n",
       "                popup_ae2d2d9bdf57b94a5f6521777a5b42fa.setContent(html_b6508321257034511b1af5635c0b674c);\n",
       "            \n",
       "        \n",
       "\n",
       "        marker_eafe8d477acd0f93eb1232285e4e24f1.bindPopup(popup_ae2d2d9bdf57b94a5f6521777a5b42fa)\n",
       "        ;\n",
       "\n",
       "        \n",
       "    \n",
       "    \n",
       "                marker_eafe8d477acd0f93eb1232285e4e24f1.setIcon(icon_fecb61429e1fd1c32a597550ca5ea117);\n",
       "            \n",
       "    \n",
       "            var marker_5280f73ffa61d0b1389671ad1ff57b0b = L.marker(\n",
       "                [-35.363250202963115, 149.16500378819217],\n",
       "                {\n",
       "}\n",
       "            ).addTo(map_e5167c2b5f0275c25cc82f3eaa3c6acc);\n",
       "        \n",
       "    \n",
       "            var icon_291acf7ff96d080ef775f97cbef534a7 = L.AwesomeMarkers.icon(\n",
       "                {\n",
       "  &quot;markerColor&quot;: &quot;blue&quot;,\n",
       "  &quot;iconColor&quot;: &quot;white&quot;,\n",
       "  &quot;icon&quot;: &quot;info-sign&quot;,\n",
       "  &quot;prefix&quot;: &quot;glyphicon&quot;,\n",
       "  &quot;extraClasses&quot;: &quot;fa-rotate-0&quot;,\n",
       "}\n",
       "            );\n",
       "        \n",
       "    \n",
       "        var popup_196d6d679467fa545e80d00e71a5cc95 = L.popup({\n",
       "  &quot;maxWidth&quot;: &quot;100%&quot;,\n",
       "});\n",
       "\n",
       "        \n",
       "            \n",
       "                var html_4cfdd9045923eb73822d08d7794ea4b2 = $(`&lt;div id=&quot;html_4cfdd9045923eb73822d08d7794ea4b2&quot; style=&quot;width: 100.0%; height: 100.0%;&quot;&gt;pos_3&lt;/div&gt;`)[0];\n",
       "                popup_196d6d679467fa545e80d00e71a5cc95.setContent(html_4cfdd9045923eb73822d08d7794ea4b2);\n",
       "            \n",
       "        \n",
       "\n",
       "        marker_5280f73ffa61d0b1389671ad1ff57b0b.bindPopup(popup_196d6d679467fa545e80d00e71a5cc95)\n",
       "        ;\n",
       "\n",
       "        \n",
       "    \n",
       "    \n",
       "                marker_5280f73ffa61d0b1389671ad1ff57b0b.setIcon(icon_291acf7ff96d080ef775f97cbef534a7);\n",
       "            \n",
       "    \n",
       "            var marker_e5bb412338f0b847d0ab12d33a8fe5ba = L.marker(\n",
       "                [-35.36332799988755, 149.16505886598486],\n",
       "                {\n",
       "}\n",
       "            ).addTo(map_e5167c2b5f0275c25cc82f3eaa3c6acc);\n",
       "        \n",
       "    \n",
       "            var icon_320ce0fc2bac59fa63bc3cd790ad9e48 = L.AwesomeMarkers.icon(\n",
       "                {\n",
       "  &quot;markerColor&quot;: &quot;blue&quot;,\n",
       "  &quot;iconColor&quot;: &quot;white&quot;,\n",
       "  &quot;icon&quot;: &quot;info-sign&quot;,\n",
       "  &quot;prefix&quot;: &quot;glyphicon&quot;,\n",
       "  &quot;extraClasses&quot;: &quot;fa-rotate-0&quot;,\n",
       "}\n",
       "            );\n",
       "        \n",
       "    \n",
       "        var popup_085b0ba81b1acda65936af7b4f6e8037 = L.popup({\n",
       "  &quot;maxWidth&quot;: &quot;100%&quot;,\n",
       "});\n",
       "\n",
       "        \n",
       "            \n",
       "                var html_f064e49bf18f6ea4cdaa4256f5434e69 = $(`&lt;div id=&quot;html_f064e49bf18f6ea4cdaa4256f5434e69&quot; style=&quot;width: 100.0%; height: 100.0%;&quot;&gt;pos_4&lt;/div&gt;`)[0];\n",
       "                popup_085b0ba81b1acda65936af7b4f6e8037.setContent(html_f064e49bf18f6ea4cdaa4256f5434e69);\n",
       "            \n",
       "        \n",
       "\n",
       "        marker_e5bb412338f0b847d0ab12d33a8fe5ba.bindPopup(popup_085b0ba81b1acda65936af7b4f6e8037)\n",
       "        ;\n",
       "\n",
       "        \n",
       "    \n",
       "    \n",
       "                marker_e5bb412338f0b847d0ab12d33a8fe5ba.setIcon(icon_320ce0fc2bac59fa63bc3cd790ad9e48);\n",
       "            \n",
       "    \n",
       "            var marker_b95b5855d333e2473528e70b8c13e82b = L.marker(\n",
       "                [-35.36319325192571, 149.1652241],\n",
       "                {\n",
       "}\n",
       "            ).addTo(map_e5167c2b5f0275c25cc82f3eaa3c6acc);\n",
       "        \n",
       "    \n",
       "            var icon_c22092725698595b2ea22d76bab678fc = L.AwesomeMarkers.icon(\n",
       "                {\n",
       "  &quot;markerColor&quot;: &quot;blue&quot;,\n",
       "  &quot;iconColor&quot;: &quot;white&quot;,\n",
       "  &quot;icon&quot;: &quot;info-sign&quot;,\n",
       "  &quot;prefix&quot;: &quot;glyphicon&quot;,\n",
       "  &quot;extraClasses&quot;: &quot;fa-rotate-0&quot;,\n",
       "}\n",
       "            );\n",
       "        \n",
       "    \n",
       "        var popup_a91d5e46d52f1ad9e8d86a795a0765f4 = L.popup({\n",
       "  &quot;maxWidth&quot;: &quot;100%&quot;,\n",
       "});\n",
       "\n",
       "        \n",
       "            \n",
       "                var html_23c6874c2285235f493ed2a46f423eca = $(`&lt;div id=&quot;html_23c6874c2285235f493ed2a46f423eca&quot; style=&quot;width: 100.0%; height: 100.0%;&quot;&gt;pos_0&lt;/div&gt;`)[0];\n",
       "                popup_a91d5e46d52f1ad9e8d86a795a0765f4.setContent(html_23c6874c2285235f493ed2a46f423eca);\n",
       "            \n",
       "        \n",
       "\n",
       "        marker_b95b5855d333e2473528e70b8c13e82b.bindPopup(popup_a91d5e46d52f1ad9e8d86a795a0765f4)\n",
       "        ;\n",
       "\n",
       "        \n",
       "    \n",
       "    \n",
       "                marker_b95b5855d333e2473528e70b8c13e82b.setIcon(icon_c22092725698595b2ea22d76bab678fc);\n",
       "            \n",
       "    \n",
       "            var marker_9725eb6aee6bad5bc6a085df4a4c43c0 = L.marker(\n",
       "                [-35.36319325187572, 149.16511394417375],\n",
       "                {\n",
       "}\n",
       "            ).addTo(map_e5167c2b5f0275c25cc82f3eaa3c6acc);\n",
       "        \n",
       "    \n",
       "            var icon_92bbd5917722125634dcef5847b14023 = L.AwesomeMarkers.icon(\n",
       "                {\n",
       "  &quot;markerColor&quot;: &quot;blue&quot;,\n",
       "  &quot;iconColor&quot;: &quot;white&quot;,\n",
       "  &quot;icon&quot;: &quot;info-sign&quot;,\n",
       "  &quot;prefix&quot;: &quot;glyphicon&quot;,\n",
       "  &quot;extraClasses&quot;: &quot;fa-rotate-0&quot;,\n",
       "}\n",
       "            );\n",
       "        \n",
       "    \n",
       "        var popup_8acb53caa1e24d6d5bc9d50f9b880eff = L.popup({\n",
       "  &quot;maxWidth&quot;: &quot;100%&quot;,\n",
       "});\n",
       "\n",
       "        \n",
       "            \n",
       "                var html_0222ba894665fcbc92b3a109e044433c = $(`&lt;div id=&quot;html_0222ba894665fcbc92b3a109e044433c&quot; style=&quot;width: 100.0%; height: 100.0%;&quot;&gt;pos_1&lt;/div&gt;`)[0];\n",
       "                popup_8acb53caa1e24d6d5bc9d50f9b880eff.setContent(html_0222ba894665fcbc92b3a109e044433c);\n",
       "            \n",
       "        \n",
       "\n",
       "        marker_9725eb6aee6bad5bc6a085df4a4c43c0.bindPopup(popup_8acb53caa1e24d6d5bc9d50f9b880eff)\n",
       "        ;\n",
       "\n",
       "        \n",
       "    \n",
       "    \n",
       "                marker_9725eb6aee6bad5bc6a085df4a4c43c0.setIcon(icon_92bbd5917722125634dcef5847b14023);\n",
       "            \n",
       "    \n",
       "            var marker_430bf969f21cc638ab5b66f61998d51f = L.marker(\n",
       "                [-35.363103419826196, 149.16511394429637],\n",
       "                {\n",
       "}\n",
       "            ).addTo(map_e5167c2b5f0275c25cc82f3eaa3c6acc);\n",
       "        \n",
       "    \n",
       "            var icon_bb6c334777e3448b7a2b7881f8129e09 = L.AwesomeMarkers.icon(\n",
       "                {\n",
       "  &quot;markerColor&quot;: &quot;blue&quot;,\n",
       "  &quot;iconColor&quot;: &quot;white&quot;,\n",
       "  &quot;icon&quot;: &quot;info-sign&quot;,\n",
       "  &quot;prefix&quot;: &quot;glyphicon&quot;,\n",
       "  &quot;extraClasses&quot;: &quot;fa-rotate-0&quot;,\n",
       "}\n",
       "            );\n",
       "        \n",
       "    \n",
       "        var popup_a34ec1971223b8ea0083e471564f3c64 = L.popup({\n",
       "  &quot;maxWidth&quot;: &quot;100%&quot;,\n",
       "});\n",
       "\n",
       "        \n",
       "            \n",
       "                var html_14fe0c9901a42ebef28ec5b28bb32026 = $(`&lt;div id=&quot;html_14fe0c9901a42ebef28ec5b28bb32026&quot; style=&quot;width: 100.0%; height: 100.0%;&quot;&gt;pos_2&lt;/div&gt;`)[0];\n",
       "                popup_a34ec1971223b8ea0083e471564f3c64.setContent(html_14fe0c9901a42ebef28ec5b28bb32026);\n",
       "            \n",
       "        \n",
       "\n",
       "        marker_430bf969f21cc638ab5b66f61998d51f.bindPopup(popup_a34ec1971223b8ea0083e471564f3c64)\n",
       "        ;\n",
       "\n",
       "        \n",
       "    \n",
       "    \n",
       "                marker_430bf969f21cc638ab5b66f61998d51f.setIcon(icon_bb6c334777e3448b7a2b7881f8129e09);\n",
       "            \n",
       "    \n",
       "            var marker_147cfa1b5fbd457684c2529408e3c920 = L.marker(\n",
       "                [-35.36310341987617, 149.1652241],\n",
       "                {\n",
       "}\n",
       "            ).addTo(map_e5167c2b5f0275c25cc82f3eaa3c6acc);\n",
       "        \n",
       "    \n",
       "            var icon_868e17b6a698cac8c74f006b5d5f5f56 = L.AwesomeMarkers.icon(\n",
       "                {\n",
       "  &quot;markerColor&quot;: &quot;blue&quot;,\n",
       "  &quot;iconColor&quot;: &quot;white&quot;,\n",
       "  &quot;icon&quot;: &quot;info-sign&quot;,\n",
       "  &quot;prefix&quot;: &quot;glyphicon&quot;,\n",
       "  &quot;extraClasses&quot;: &quot;fa-rotate-0&quot;,\n",
       "}\n",
       "            );\n",
       "        \n",
       "    \n",
       "        var popup_647074cca974c2445968790e5f2c834b = L.popup({\n",
       "  &quot;maxWidth&quot;: &quot;100%&quot;,\n",
       "});\n",
       "\n",
       "        \n",
       "            \n",
       "                var html_cc3679b56e13ea070282f356e6475388 = $(`&lt;div id=&quot;html_cc3679b56e13ea070282f356e6475388&quot; style=&quot;width: 100.0%; height: 100.0%;&quot;&gt;pos_3&lt;/div&gt;`)[0];\n",
       "                popup_647074cca974c2445968790e5f2c834b.setContent(html_cc3679b56e13ea070282f356e6475388);\n",
       "            \n",
       "        \n",
       "\n",
       "        marker_147cfa1b5fbd457684c2529408e3c920.bindPopup(popup_647074cca974c2445968790e5f2c834b)\n",
       "        ;\n",
       "\n",
       "        \n",
       "    \n",
       "    \n",
       "                marker_147cfa1b5fbd457684c2529408e3c920.setIcon(icon_868e17b6a698cac8c74f006b5d5f5f56);\n",
       "            \n",
       "    \n",
       "            var marker_7fdc5f4dd7dfeebcfd003101579a6a06 = L.marker(\n",
       "                [-35.36319325192571, 149.1652241],\n",
       "                {\n",
       "}\n",
       "            ).addTo(map_e5167c2b5f0275c25cc82f3eaa3c6acc);\n",
       "        \n",
       "    \n",
       "            var icon_e1cadc40fb5e21cbb0c5c35163c592b0 = L.AwesomeMarkers.icon(\n",
       "                {\n",
       "  &quot;markerColor&quot;: &quot;blue&quot;,\n",
       "  &quot;iconColor&quot;: &quot;white&quot;,\n",
       "  &quot;icon&quot;: &quot;info-sign&quot;,\n",
       "  &quot;prefix&quot;: &quot;glyphicon&quot;,\n",
       "  &quot;extraClasses&quot;: &quot;fa-rotate-0&quot;,\n",
       "}\n",
       "            );\n",
       "        \n",
       "    \n",
       "        var popup_b58a0262a2552a1dc3ef399f12f4cdcb = L.popup({\n",
       "  &quot;maxWidth&quot;: &quot;100%&quot;,\n",
       "});\n",
       "\n",
       "        \n",
       "            \n",
       "                var html_9859504444bbe626b2ce5ecbf55d56be = $(`&lt;div id=&quot;html_9859504444bbe626b2ce5ecbf55d56be&quot; style=&quot;width: 100.0%; height: 100.0%;&quot;&gt;pos_4&lt;/div&gt;`)[0];\n",
       "                popup_b58a0262a2552a1dc3ef399f12f4cdcb.setContent(html_9859504444bbe626b2ce5ecbf55d56be);\n",
       "            \n",
       "        \n",
       "\n",
       "        marker_7fdc5f4dd7dfeebcfd003101579a6a06.bindPopup(popup_b58a0262a2552a1dc3ef399f12f4cdcb)\n",
       "        ;\n",
       "\n",
       "        \n",
       "    \n",
       "    \n",
       "                marker_7fdc5f4dd7dfeebcfd003101579a6a06.setIcon(icon_e1cadc40fb5e21cbb0c5c35163c592b0);\n",
       "            \n",
       "    \n",
       "            var marker_1e89a0efaf37fb7f91ae7ebf9f6edc60 = L.marker(\n",
       "                [-35.36346274796185, 149.16538933429092],\n",
       "                {\n",
       "}\n",
       "            ).addTo(map_e5167c2b5f0275c25cc82f3eaa3c6acc);\n",
       "        \n",
       "    \n",
       "            var icon_07fb5d1159602020ed25c04352920b1a = L.AwesomeMarkers.icon(\n",
       "                {\n",
       "  &quot;markerColor&quot;: &quot;blue&quot;,\n",
       "  &quot;iconColor&quot;: &quot;white&quot;,\n",
       "  &quot;icon&quot;: &quot;info-sign&quot;,\n",
       "  &quot;prefix&quot;: &quot;glyphicon&quot;,\n",
       "  &quot;extraClasses&quot;: &quot;fa-rotate-0&quot;,\n",
       "}\n",
       "            );\n",
       "        \n",
       "    \n",
       "        var popup_099408d47c077fe98daa888bd8a9b586 = L.popup({\n",
       "  &quot;maxWidth&quot;: &quot;100%&quot;,\n",
       "});\n",
       "\n",
       "        \n",
       "            \n",
       "                var html_42c93d3664bd313d6305b47dfda6b3e1 = $(`&lt;div id=&quot;html_42c93d3664bd313d6305b47dfda6b3e1&quot; style=&quot;width: 100.0%; height: 100.0%;&quot;&gt;pos_0&lt;/div&gt;`)[0];\n",
       "                popup_099408d47c077fe98daa888bd8a9b586.setContent(html_42c93d3664bd313d6305b47dfda6b3e1);\n",
       "            \n",
       "        \n",
       "\n",
       "        marker_1e89a0efaf37fb7f91ae7ebf9f6edc60.bindPopup(popup_099408d47c077fe98daa888bd8a9b586)\n",
       "        ;\n",
       "\n",
       "        \n",
       "    \n",
       "    \n",
       "                marker_1e89a0efaf37fb7f91ae7ebf9f6edc60.setIcon(icon_07fb5d1159602020ed25c04352920b1a);\n",
       "            \n",
       "    \n",
       "            var marker_5f11471a7c14d7aea3aa4afda1f681be = L.marker(\n",
       "                [-35.363462748061814, 149.16527917809697],\n",
       "                {\n",
       "}\n",
       "            ).addTo(map_e5167c2b5f0275c25cc82f3eaa3c6acc);\n",
       "        \n",
       "    \n",
       "            var icon_e200fcb92bb1959c153de96ceb6799c7 = L.AwesomeMarkers.icon(\n",
       "                {\n",
       "  &quot;markerColor&quot;: &quot;blue&quot;,\n",
       "  &quot;iconColor&quot;: &quot;white&quot;,\n",
       "  &quot;icon&quot;: &quot;info-sign&quot;,\n",
       "  &quot;prefix&quot;: &quot;glyphicon&quot;,\n",
       "  &quot;extraClasses&quot;: &quot;fa-rotate-0&quot;,\n",
       "}\n",
       "            );\n",
       "        \n",
       "    \n",
       "        var popup_97720c856d02829dac71d314e27cba59 = L.popup({\n",
       "  &quot;maxWidth&quot;: &quot;100%&quot;,\n",
       "});\n",
       "\n",
       "        \n",
       "            \n",
       "                var html_4099e25fdcad9e583b47d65a73804cdb = $(`&lt;div id=&quot;html_4099e25fdcad9e583b47d65a73804cdb&quot; style=&quot;width: 100.0%; height: 100.0%;&quot;&gt;pos_1&lt;/div&gt;`)[0];\n",
       "                popup_97720c856d02829dac71d314e27cba59.setContent(html_4099e25fdcad9e583b47d65a73804cdb);\n",
       "            \n",
       "        \n",
       "\n",
       "        marker_5f11471a7c14d7aea3aa4afda1f681be.bindPopup(popup_97720c856d02829dac71d314e27cba59)\n",
       "        ;\n",
       "\n",
       "        \n",
       "    \n",
       "    \n",
       "                marker_5f11471a7c14d7aea3aa4afda1f681be.setIcon(icon_e200fcb92bb1959c153de96ceb6799c7);\n",
       "            \n",
       "    \n",
       "            var marker_9cda02ae370cce104e178e4b45d5be1c = L.marker(\n",
       "                [-35.36337291601228, 149.1652791780357],\n",
       "                {\n",
       "}\n",
       "            ).addTo(map_e5167c2b5f0275c25cc82f3eaa3c6acc);\n",
       "        \n",
       "    \n",
       "            var icon_def9bf14374fb4bf0a1ec72d86dfe515 = L.AwesomeMarkers.icon(\n",
       "                {\n",
       "  &quot;markerColor&quot;: &quot;blue&quot;,\n",
       "  &quot;iconColor&quot;: &quot;white&quot;,\n",
       "  &quot;icon&quot;: &quot;info-sign&quot;,\n",
       "  &quot;prefix&quot;: &quot;glyphicon&quot;,\n",
       "  &quot;extraClasses&quot;: &quot;fa-rotate-0&quot;,\n",
       "}\n",
       "            );\n",
       "        \n",
       "    \n",
       "        var popup_3947a84e6f0705284bfd3f8e15e5b3de = L.popup({\n",
       "  &quot;maxWidth&quot;: &quot;100%&quot;,\n",
       "});\n",
       "\n",
       "        \n",
       "            \n",
       "                var html_789e5a51dac6e2f40bc705163edb3d22 = $(`&lt;div id=&quot;html_789e5a51dac6e2f40bc705163edb3d22&quot; style=&quot;width: 100.0%; height: 100.0%;&quot;&gt;pos_2&lt;/div&gt;`)[0];\n",
       "                popup_3947a84e6f0705284bfd3f8e15e5b3de.setContent(html_789e5a51dac6e2f40bc705163edb3d22);\n",
       "            \n",
       "        \n",
       "\n",
       "        marker_9cda02ae370cce104e178e4b45d5be1c.bindPopup(popup_3947a84e6f0705284bfd3f8e15e5b3de)\n",
       "        ;\n",
       "\n",
       "        \n",
       "    \n",
       "    \n",
       "                marker_9cda02ae370cce104e178e4b45d5be1c.setIcon(icon_def9bf14374fb4bf0a1ec72d86dfe515);\n",
       "            \n",
       "    \n",
       "            var marker_ccb065fd8bd32394ff35678dd8c68985 = L.marker(\n",
       "                [-35.36337291591232, 149.1653893341071],\n",
       "                {\n",
       "}\n",
       "            ).addTo(map_e5167c2b5f0275c25cc82f3eaa3c6acc);\n",
       "        \n",
       "    \n",
       "            var icon_a183b470b2c80e56b0a42f0693b2e261 = L.AwesomeMarkers.icon(\n",
       "                {\n",
       "  &quot;markerColor&quot;: &quot;blue&quot;,\n",
       "  &quot;iconColor&quot;: &quot;white&quot;,\n",
       "  &quot;icon&quot;: &quot;info-sign&quot;,\n",
       "  &quot;prefix&quot;: &quot;glyphicon&quot;,\n",
       "  &quot;extraClasses&quot;: &quot;fa-rotate-0&quot;,\n",
       "}\n",
       "            );\n",
       "        \n",
       "    \n",
       "        var popup_c624364448bdd461ff5284df303dd528 = L.popup({\n",
       "  &quot;maxWidth&quot;: &quot;100%&quot;,\n",
       "});\n",
       "\n",
       "        \n",
       "            \n",
       "                var html_d0da2e06f0d65feb674d907bf9afae0c = $(`&lt;div id=&quot;html_d0da2e06f0d65feb674d907bf9afae0c&quot; style=&quot;width: 100.0%; height: 100.0%;&quot;&gt;pos_3&lt;/div&gt;`)[0];\n",
       "                popup_c624364448bdd461ff5284df303dd528.setContent(html_d0da2e06f0d65feb674d907bf9afae0c);\n",
       "            \n",
       "        \n",
       "\n",
       "        marker_ccb065fd8bd32394ff35678dd8c68985.bindPopup(popup_c624364448bdd461ff5284df303dd528)\n",
       "        ;\n",
       "\n",
       "        \n",
       "    \n",
       "    \n",
       "                marker_ccb065fd8bd32394ff35678dd8c68985.setIcon(icon_a183b470b2c80e56b0a42f0693b2e261);\n",
       "            \n",
       "    \n",
       "            var marker_a0c7bace44e7a2e8c0b141be79b4fa2d = L.marker(\n",
       "                [-35.36346274796185, 149.16538933429092],\n",
       "                {\n",
       "}\n",
       "            ).addTo(map_e5167c2b5f0275c25cc82f3eaa3c6acc);\n",
       "        \n",
       "    \n",
       "            var icon_586a7ae25739da0e73327dc1fae4ca37 = L.AwesomeMarkers.icon(\n",
       "                {\n",
       "  &quot;markerColor&quot;: &quot;blue&quot;,\n",
       "  &quot;iconColor&quot;: &quot;white&quot;,\n",
       "  &quot;icon&quot;: &quot;info-sign&quot;,\n",
       "  &quot;prefix&quot;: &quot;glyphicon&quot;,\n",
       "  &quot;extraClasses&quot;: &quot;fa-rotate-0&quot;,\n",
       "}\n",
       "            );\n",
       "        \n",
       "    \n",
       "        var popup_920068f2d70da2a8b4efc1d52aeb146d = L.popup({\n",
       "  &quot;maxWidth&quot;: &quot;100%&quot;,\n",
       "});\n",
       "\n",
       "        \n",
       "            \n",
       "                var html_debae2648b8f9e91fdc1f48e98ca0ad2 = $(`&lt;div id=&quot;html_debae2648b8f9e91fdc1f48e98ca0ad2&quot; style=&quot;width: 100.0%; height: 100.0%;&quot;&gt;pos_4&lt;/div&gt;`)[0];\n",
       "                popup_920068f2d70da2a8b4efc1d52aeb146d.setContent(html_debae2648b8f9e91fdc1f48e98ca0ad2);\n",
       "            \n",
       "        \n",
       "\n",
       "        marker_a0c7bace44e7a2e8c0b141be79b4fa2d.bindPopup(popup_920068f2d70da2a8b4efc1d52aeb146d)\n",
       "        ;\n",
       "\n",
       "        \n",
       "    \n",
       "    \n",
       "                marker_a0c7bace44e7a2e8c0b141be79b4fa2d.setIcon(icon_586a7ae25739da0e73327dc1fae4ca37);\n",
       "            \n",
       "    \n",
       "            var marker_df4499e3f1fed07e88d73188978a1178 = L.marker(\n",
       "                [-35.363462748074305, 149.1652241],\n",
       "                {\n",
       "}\n",
       "            ).addTo(map_e5167c2b5f0275c25cc82f3eaa3c6acc);\n",
       "        \n",
       "    \n",
       "            var icon_d54fbca21c06d88e5368dc088327e45d = L.AwesomeMarkers.icon(\n",
       "                {\n",
       "  &quot;markerColor&quot;: &quot;red&quot;,\n",
       "  &quot;iconColor&quot;: &quot;white&quot;,\n",
       "  &quot;icon&quot;: &quot;info-sign&quot;,\n",
       "  &quot;prefix&quot;: &quot;glyphicon&quot;,\n",
       "  &quot;extraClasses&quot;: &quot;fa-rotate-0&quot;,\n",
       "}\n",
       "            );\n",
       "        \n",
       "    \n",
       "        var popup_8ab71451f819c713aaa9f903688da303 = L.popup({\n",
       "  &quot;maxWidth&quot;: &quot;100%&quot;,\n",
       "});\n",
       "\n",
       "        \n",
       "            \n",
       "                var html_3ac7ad8a3a772eaf62225c22c5d6559a = $(`&lt;div id=&quot;html_3ac7ad8a3a772eaf62225c22c5d6559a&quot; style=&quot;width: 100.0%; height: 100.0%;&quot;&gt;pos_0&lt;/div&gt;`)[0];\n",
       "                popup_8ab71451f819c713aaa9f903688da303.setContent(html_3ac7ad8a3a772eaf62225c22c5d6559a);\n",
       "            \n",
       "        \n",
       "\n",
       "        marker_df4499e3f1fed07e88d73188978a1178.bindPopup(popup_8ab71451f819c713aaa9f903688da303)\n",
       "        ;\n",
       "\n",
       "        \n",
       "    \n",
       "    \n",
       "                marker_df4499e3f1fed07e88d73188978a1178.setIcon(icon_d54fbca21c06d88e5368dc088327e45d);\n",
       "            \n",
       "    \n",
       "            var marker_32962bd821cbd5498d1fac9a18fefde9 = L.marker(\n",
       "                [-35.3635262689007, 149.165146207747],\n",
       "                {\n",
       "}\n",
       "            ).addTo(map_e5167c2b5f0275c25cc82f3eaa3c6acc);\n",
       "        \n",
       "    \n",
       "            var icon_79ea1fb5ff5d06d6f07cb2f1fc9f5291 = L.AwesomeMarkers.icon(\n",
       "                {\n",
       "  &quot;markerColor&quot;: &quot;red&quot;,\n",
       "  &quot;iconColor&quot;: &quot;white&quot;,\n",
       "  &quot;icon&quot;: &quot;info-sign&quot;,\n",
       "  &quot;prefix&quot;: &quot;glyphicon&quot;,\n",
       "  &quot;extraClasses&quot;: &quot;fa-rotate-0&quot;,\n",
       "}\n",
       "            );\n",
       "        \n",
       "    \n",
       "        var popup_fcdc1ad289386ba486d3a7731c12f74f = L.popup({\n",
       "  &quot;maxWidth&quot;: &quot;100%&quot;,\n",
       "});\n",
       "\n",
       "        \n",
       "            \n",
       "                var html_cf82ae4afcf2e736994300b23f939bb9 = $(`&lt;div id=&quot;html_cf82ae4afcf2e736994300b23f939bb9&quot; style=&quot;width: 100.0%; height: 100.0%;&quot;&gt;pos_1&lt;/div&gt;`)[0];\n",
       "                popup_fcdc1ad289386ba486d3a7731c12f74f.setContent(html_cf82ae4afcf2e736994300b23f939bb9);\n",
       "            \n",
       "        \n",
       "\n",
       "        marker_32962bd821cbd5498d1fac9a18fefde9.bindPopup(popup_fcdc1ad289386ba486d3a7731c12f74f)\n",
       "        ;\n",
       "\n",
       "        \n",
       "    \n",
       "    \n",
       "                marker_32962bd821cbd5498d1fac9a18fefde9.setIcon(icon_79ea1fb5ff5d06d6f07cb2f1fc9f5291);\n",
       "            \n",
       "    \n",
       "            var marker_1d2dd5b5fcfc7c831065dbfef85a9c45 = L.marker(\n",
       "                [-35.363462747974346, 149.1650683156165],\n",
       "                {\n",
       "}\n",
       "            ).addTo(map_e5167c2b5f0275c25cc82f3eaa3c6acc);\n",
       "        \n",
       "    \n",
       "            var icon_fce18bec06f2d81d61579ba7d1413aa8 = L.AwesomeMarkers.icon(\n",
       "                {\n",
       "  &quot;markerColor&quot;: &quot;red&quot;,\n",
       "  &quot;iconColor&quot;: &quot;white&quot;,\n",
       "  &quot;icon&quot;: &quot;info-sign&quot;,\n",
       "  &quot;prefix&quot;: &quot;glyphicon&quot;,\n",
       "  &quot;extraClasses&quot;: &quot;fa-rotate-0&quot;,\n",
       "}\n",
       "            );\n",
       "        \n",
       "    \n",
       "        var popup_b6bd44c4a772d33148c81ad1603f0310 = L.popup({\n",
       "  &quot;maxWidth&quot;: &quot;100%&quot;,\n",
       "});\n",
       "\n",
       "        \n",
       "            \n",
       "                var html_6d1cfb397e32ddfcfc52eb82ea87ce5b = $(`&lt;div id=&quot;html_6d1cfb397e32ddfcfc52eb82ea87ce5b&quot; style=&quot;width: 100.0%; height: 100.0%;&quot;&gt;pos_2&lt;/div&gt;`)[0];\n",
       "                popup_b6bd44c4a772d33148c81ad1603f0310.setContent(html_6d1cfb397e32ddfcfc52eb82ea87ce5b);\n",
       "            \n",
       "        \n",
       "\n",
       "        marker_1d2dd5b5fcfc7c831065dbfef85a9c45.bindPopup(popup_b6bd44c4a772d33148c81ad1603f0310)\n",
       "        ;\n",
       "\n",
       "        \n",
       "    \n",
       "    \n",
       "                marker_1d2dd5b5fcfc7c831065dbfef85a9c45.setIcon(icon_fce18bec06f2d81d61579ba7d1413aa8);\n",
       "            \n",
       "    \n",
       "            var marker_677c38d66ffb725f085e0593b9d7cea5 = L.marker(\n",
       "                [-35.36339922719792, 149.16514620786955],\n",
       "                {\n",
       "}\n",
       "            ).addTo(map_e5167c2b5f0275c25cc82f3eaa3c6acc);\n",
       "        \n",
       "    \n",
       "            var icon_7d2d5daeaf92794d8d664b349f8e9670 = L.AwesomeMarkers.icon(\n",
       "                {\n",
       "  &quot;markerColor&quot;: &quot;red&quot;,\n",
       "  &quot;iconColor&quot;: &quot;white&quot;,\n",
       "  &quot;icon&quot;: &quot;info-sign&quot;,\n",
       "  &quot;prefix&quot;: &quot;glyphicon&quot;,\n",
       "  &quot;extraClasses&quot;: &quot;fa-rotate-0&quot;,\n",
       "}\n",
       "            );\n",
       "        \n",
       "    \n",
       "        var popup_48175daa7e53702b8265b93d8460190b = L.popup({\n",
       "  &quot;maxWidth&quot;: &quot;100%&quot;,\n",
       "});\n",
       "\n",
       "        \n",
       "            \n",
       "                var html_4ce662e8b65ac8090d301174919a9902 = $(`&lt;div id=&quot;html_4ce662e8b65ac8090d301174919a9902&quot; style=&quot;width: 100.0%; height: 100.0%;&quot;&gt;pos_3&lt;/div&gt;`)[0];\n",
       "                popup_48175daa7e53702b8265b93d8460190b.setContent(html_4ce662e8b65ac8090d301174919a9902);\n",
       "            \n",
       "        \n",
       "\n",
       "        marker_677c38d66ffb725f085e0593b9d7cea5.bindPopup(popup_48175daa7e53702b8265b93d8460190b)\n",
       "        ;\n",
       "\n",
       "        \n",
       "    \n",
       "    \n",
       "                marker_677c38d66ffb725f085e0593b9d7cea5.setIcon(icon_7d2d5daeaf92794d8d664b349f8e9670);\n",
       "            \n",
       "    \n",
       "            var marker_af8984fa752e57b9aa4f2078aace2036 = L.marker(\n",
       "                [-35.363462748074305, 149.1652241],\n",
       "                {\n",
       "}\n",
       "            ).addTo(map_e5167c2b5f0275c25cc82f3eaa3c6acc);\n",
       "        \n",
       "    \n",
       "            var icon_72eae5fd53c115f4d28edeb463038149 = L.AwesomeMarkers.icon(\n",
       "                {\n",
       "  &quot;markerColor&quot;: &quot;red&quot;,\n",
       "  &quot;iconColor&quot;: &quot;white&quot;,\n",
       "  &quot;icon&quot;: &quot;info-sign&quot;,\n",
       "  &quot;prefix&quot;: &quot;glyphicon&quot;,\n",
       "  &quot;extraClasses&quot;: &quot;fa-rotate-0&quot;,\n",
       "}\n",
       "            );\n",
       "        \n",
       "    \n",
       "        var popup_d3477d47c7643d5d5ea07c522cd01414 = L.popup({\n",
       "  &quot;maxWidth&quot;: &quot;100%&quot;,\n",
       "});\n",
       "\n",
       "        \n",
       "            \n",
       "                var html_06feaa787a64940975ee4cde18e4f0d8 = $(`&lt;div id=&quot;html_06feaa787a64940975ee4cde18e4f0d8&quot; style=&quot;width: 100.0%; height: 100.0%;&quot;&gt;pos_4&lt;/div&gt;`)[0];\n",
       "                popup_d3477d47c7643d5d5ea07c522cd01414.setContent(html_06feaa787a64940975ee4cde18e4f0d8);\n",
       "            \n",
       "        \n",
       "\n",
       "        marker_af8984fa752e57b9aa4f2078aace2036.bindPopup(popup_d3477d47c7643d5d5ea07c522cd01414)\n",
       "        ;\n",
       "\n",
       "        \n",
       "    \n",
       "    \n",
       "                marker_af8984fa752e57b9aa4f2078aace2036.setIcon(icon_72eae5fd53c115f4d28edeb463038149);\n",
       "            \n",
       "    \n",
       "            var marker_dc1d84b59f54f158a0900dd8149b159d = L.marker(\n",
       "                [-35.36328308377532, 149.16544441189762],\n",
       "                {\n",
       "}\n",
       "            ).addTo(map_e5167c2b5f0275c25cc82f3eaa3c6acc);\n",
       "        \n",
       "    \n",
       "            var icon_9df6bc6a5421fd260cfe9d55f0125bec = L.AwesomeMarkers.icon(\n",
       "                {\n",
       "  &quot;markerColor&quot;: &quot;red&quot;,\n",
       "  &quot;iconColor&quot;: &quot;white&quot;,\n",
       "  &quot;icon&quot;: &quot;info-sign&quot;,\n",
       "  &quot;prefix&quot;: &quot;glyphicon&quot;,\n",
       "  &quot;extraClasses&quot;: &quot;fa-rotate-0&quot;,\n",
       "}\n",
       "            );\n",
       "        \n",
       "    \n",
       "        var popup_a5ee3723958eba171501c6f3dce3214d = L.popup({\n",
       "  &quot;maxWidth&quot;: &quot;100%&quot;,\n",
       "});\n",
       "\n",
       "        \n",
       "            \n",
       "                var html_db782986e30222517498e9bb125a050d = $(`&lt;div id=&quot;html_db782986e30222517498e9bb125a050d&quot; style=&quot;width: 100.0%; height: 100.0%;&quot;&gt;pos_0&lt;/div&gt;`)[0];\n",
       "                popup_a5ee3723958eba171501c6f3dce3214d.setContent(html_db782986e30222517498e9bb125a050d);\n",
       "            \n",
       "        \n",
       "\n",
       "        marker_dc1d84b59f54f158a0900dd8149b159d.bindPopup(popup_a5ee3723958eba171501c6f3dce3214d)\n",
       "        ;\n",
       "\n",
       "        \n",
       "    \n",
       "    \n",
       "                marker_dc1d84b59f54f158a0900dd8149b159d.setIcon(icon_9df6bc6a5421fd260cfe9d55f0125bec);\n",
       "            \n",
       "    \n",
       "            var marker_b0b216ecf2ad45c51e67e08a1b91aba6 = L.marker(\n",
       "                [-35.36328308392526, 149.16533425594878],\n",
       "                {\n",
       "}\n",
       "            ).addTo(map_e5167c2b5f0275c25cc82f3eaa3c6acc);\n",
       "        \n",
       "    \n",
       "            var icon_9d6fa80f134523729c50353d69b47282 = L.AwesomeMarkers.icon(\n",
       "                {\n",
       "  &quot;markerColor&quot;: &quot;red&quot;,\n",
       "  &quot;iconColor&quot;: &quot;white&quot;,\n",
       "  &quot;icon&quot;: &quot;info-sign&quot;,\n",
       "  &quot;prefix&quot;: &quot;glyphicon&quot;,\n",
       "  &quot;extraClasses&quot;: &quot;fa-rotate-0&quot;,\n",
       "}\n",
       "            );\n",
       "        \n",
       "    \n",
       "        var popup_d778edb028e2e421240154aa1537405e = L.popup({\n",
       "  &quot;maxWidth&quot;: &quot;100%&quot;,\n",
       "});\n",
       "\n",
       "        \n",
       "            \n",
       "                var html_4d91dfaa1cec67106782ce5290f8c2a0 = $(`&lt;div id=&quot;html_4d91dfaa1cec67106782ce5290f8c2a0&quot; style=&quot;width: 100.0%; height: 100.0%;&quot;&gt;pos_1&lt;/div&gt;`)[0];\n",
       "                popup_d778edb028e2e421240154aa1537405e.setContent(html_4d91dfaa1cec67106782ce5290f8c2a0);\n",
       "            \n",
       "        \n",
       "\n",
       "        marker_b0b216ecf2ad45c51e67e08a1b91aba6.bindPopup(popup_d778edb028e2e421240154aa1537405e)\n",
       "        ;\n",
       "\n",
       "        \n",
       "    \n",
       "    \n",
       "                marker_b0b216ecf2ad45c51e67e08a1b91aba6.setIcon(icon_9d6fa80f134523729c50353d69b47282);\n",
       "            \n",
       "    \n",
       "            var marker_9f60054fb79dbff9bb421a292bd649b7 = L.marker(\n",
       "                [-35.36319325187572, 149.16533425582622],\n",
       "                {\n",
       "}\n",
       "            ).addTo(map_e5167c2b5f0275c25cc82f3eaa3c6acc);\n",
       "        \n",
       "    \n",
       "            var icon_482450dca762e64c0989b675b8964290 = L.AwesomeMarkers.icon(\n",
       "                {\n",
       "  &quot;markerColor&quot;: &quot;red&quot;,\n",
       "  &quot;iconColor&quot;: &quot;white&quot;,\n",
       "  &quot;icon&quot;: &quot;info-sign&quot;,\n",
       "  &quot;prefix&quot;: &quot;glyphicon&quot;,\n",
       "  &quot;extraClasses&quot;: &quot;fa-rotate-0&quot;,\n",
       "}\n",
       "            );\n",
       "        \n",
       "    \n",
       "        var popup_2f181a04f6f385a567ae39a40826283a = L.popup({\n",
       "  &quot;maxWidth&quot;: &quot;100%&quot;,\n",
       "});\n",
       "\n",
       "        \n",
       "            \n",
       "                var html_1a4d0539abd1ed5b94770cdf71116bb4 = $(`&lt;div id=&quot;html_1a4d0539abd1ed5b94770cdf71116bb4&quot; style=&quot;width: 100.0%; height: 100.0%;&quot;&gt;pos_2&lt;/div&gt;`)[0];\n",
       "                popup_2f181a04f6f385a567ae39a40826283a.setContent(html_1a4d0539abd1ed5b94770cdf71116bb4);\n",
       "            \n",
       "        \n",
       "\n",
       "        marker_9f60054fb79dbff9bb421a292bd649b7.bindPopup(popup_2f181a04f6f385a567ae39a40826283a)\n",
       "        ;\n",
       "\n",
       "        \n",
       "    \n",
       "    \n",
       "                marker_9f60054fb79dbff9bb421a292bd649b7.setIcon(icon_482450dca762e64c0989b675b8964290);\n",
       "            \n",
       "    \n",
       "            var marker_a33368b534d8b8333d9b5096b9d7a0ca = L.marker(\n",
       "                [-35.36319325172579, 149.16544441165246],\n",
       "                {\n",
       "}\n",
       "            ).addTo(map_e5167c2b5f0275c25cc82f3eaa3c6acc);\n",
       "        \n",
       "    \n",
       "            var icon_ba9041f88d00ead8f8bd3f287cb916e0 = L.AwesomeMarkers.icon(\n",
       "                {\n",
       "  &quot;markerColor&quot;: &quot;red&quot;,\n",
       "  &quot;iconColor&quot;: &quot;white&quot;,\n",
       "  &quot;icon&quot;: &quot;info-sign&quot;,\n",
       "  &quot;prefix&quot;: &quot;glyphicon&quot;,\n",
       "  &quot;extraClasses&quot;: &quot;fa-rotate-0&quot;,\n",
       "}\n",
       "            );\n",
       "        \n",
       "    \n",
       "        var popup_d1de362d752045e91fd9251e5691cc28 = L.popup({\n",
       "  &quot;maxWidth&quot;: &quot;100%&quot;,\n",
       "});\n",
       "\n",
       "        \n",
       "            \n",
       "                var html_0dbc1edc4a45da9b01b4da567e5e9a9f = $(`&lt;div id=&quot;html_0dbc1edc4a45da9b01b4da567e5e9a9f&quot; style=&quot;width: 100.0%; height: 100.0%;&quot;&gt;pos_3&lt;/div&gt;`)[0];\n",
       "                popup_d1de362d752045e91fd9251e5691cc28.setContent(html_0dbc1edc4a45da9b01b4da567e5e9a9f);\n",
       "            \n",
       "        \n",
       "\n",
       "        marker_a33368b534d8b8333d9b5096b9d7a0ca.bindPopup(popup_d1de362d752045e91fd9251e5691cc28)\n",
       "        ;\n",
       "\n",
       "        \n",
       "    \n",
       "    \n",
       "                marker_a33368b534d8b8333d9b5096b9d7a0ca.setIcon(icon_ba9041f88d00ead8f8bd3f287cb916e0);\n",
       "            \n",
       "    \n",
       "            var marker_bee39b6735fd0d4bab078ba24b7ec282 = L.marker(\n",
       "                [-35.36328308377532, 149.16544441189762],\n",
       "                {\n",
       "}\n",
       "            ).addTo(map_e5167c2b5f0275c25cc82f3eaa3c6acc);\n",
       "        \n",
       "    \n",
       "            var icon_309be08a104fc49946ec8466d86af269 = L.AwesomeMarkers.icon(\n",
       "                {\n",
       "  &quot;markerColor&quot;: &quot;red&quot;,\n",
       "  &quot;iconColor&quot;: &quot;white&quot;,\n",
       "  &quot;icon&quot;: &quot;info-sign&quot;,\n",
       "  &quot;prefix&quot;: &quot;glyphicon&quot;,\n",
       "  &quot;extraClasses&quot;: &quot;fa-rotate-0&quot;,\n",
       "}\n",
       "            );\n",
       "        \n",
       "    \n",
       "        var popup_5ecf3eb2be6109946084112cba3d198e = L.popup({\n",
       "  &quot;maxWidth&quot;: &quot;100%&quot;,\n",
       "});\n",
       "\n",
       "        \n",
       "            \n",
       "                var html_caec2222e408f80cf6cf4c4d09db5228 = $(`&lt;div id=&quot;html_caec2222e408f80cf6cf4c4d09db5228&quot; style=&quot;width: 100.0%; height: 100.0%;&quot;&gt;pos_4&lt;/div&gt;`)[0];\n",
       "                popup_5ecf3eb2be6109946084112cba3d198e.setContent(html_caec2222e408f80cf6cf4c4d09db5228);\n",
       "            \n",
       "        \n",
       "\n",
       "        marker_bee39b6735fd0d4bab078ba24b7ec282.bindPopup(popup_5ecf3eb2be6109946084112cba3d198e)\n",
       "        ;\n",
       "\n",
       "        \n",
       "    \n",
       "    \n",
       "                marker_bee39b6735fd0d4bab078ba24b7ec282.setIcon(icon_309be08a104fc49946ec8466d86af269);\n",
       "            \n",
       "    \n",
       "            var marker_62795e823063d51364ad182103a96beb = L.marker(\n",
       "                [-35.363328, 149.1652241],\n",
       "                {\n",
       "}\n",
       "            ).addTo(map_e5167c2b5f0275c25cc82f3eaa3c6acc);\n",
       "        \n",
       "    \n",
       "            var icon_de37b47646a91ad0f14e7eeceba5340b = L.AwesomeMarkers.icon(\n",
       "                {\n",
       "  &quot;markerColor&quot;: &quot;white&quot;,\n",
       "  &quot;iconColor&quot;: &quot;white&quot;,\n",
       "  &quot;icon&quot;: &quot;info-sign&quot;,\n",
       "  &quot;prefix&quot;: &quot;glyphicon&quot;,\n",
       "  &quot;extraClasses&quot;: &quot;fa-rotate-0&quot;,\n",
       "}\n",
       "            );\n",
       "        \n",
       "    \n",
       "        var popup_b53c4409280711739babaf814d3990a9 = L.popup({\n",
       "  &quot;maxWidth&quot;: &quot;100%&quot;,\n",
       "});\n",
       "\n",
       "        \n",
       "            \n",
       "                var html_9fd115589055e53cf0647a02010cf30d = $(`&lt;div id=&quot;html_9fd115589055e53cf0647a02010cf30d&quot; style=&quot;width: 100.0%; height: 100.0%;&quot;&gt;Origin&lt;/div&gt;`)[0];\n",
       "                popup_b53c4409280711739babaf814d3990a9.setContent(html_9fd115589055e53cf0647a02010cf30d);\n",
       "            \n",
       "        \n",
       "\n",
       "        marker_62795e823063d51364ad182103a96beb.bindPopup(popup_b53c4409280711739babaf814d3990a9)\n",
       "        ;\n",
       "\n",
       "        \n",
       "    \n",
       "    \n",
       "                marker_62795e823063d51364ad182103a96beb.setIcon(icon_de37b47646a91ad0f14e7eeceba5340b);\n",
       "            \n",
       "&lt;/script&gt;\n",
       "&lt;/html&gt;\" style=\"position:absolute;width:100%;height:100%;left:0;top:0;border:none !important;\" allowfullscreen webkitallowfullscreen mozallowfullscreen></iframe></div></div>"
      ],
      "text/plain": [
       "<folium.folium.Map at 0x7efff92ebc10>"
      ]
     },
     "metadata": {},
     "output_type": "display_data"
    }
   ],
   "source": [
    "qgc_config = ConfigQGC(origin = gra_origin)\n",
    "\n",
    "for path,home,color in zip(base_paths,base_homes,uav_colors):\n",
    "    qgc_config.add(base_path=path,base_home=home,color=color)\n",
    "\n",
    "qgc_config.show()\n",
    "\n",
    "\n",
    "qgc=QGC(qgc_config)"
   ]
  },
  {
   "cell_type": "markdown",
   "metadata": {},
   "source": [
    "# No Simulator"
   ]
  },
  {
   "cell_type": "code",
   "execution_count": 6,
   "metadata": {},
   "outputs": [],
   "source": [
    "novis_config = ConfigNovis(origin=gra_origin)\n",
    "for home in base_homes:\n",
    "    novis_config.add(base_home=home)\n",
    "\n",
    "novis=NoVisualizer(novis_config)"
   ]
  },
  {
   "cell_type": "markdown",
   "metadata": {},
   "source": [
    "## Launch Simulation\n",
    "\n",
    "**Here we configure the simulation:**\n",
    "* **visualizers**: Select the desired visualizer for the simulation (only one visualizer at a time is currently supported).  \n",
    "* **gcs_names**: List of GCS names.  \n",
    "* **gcs_sysids**: A list of lists of UAVs. Each inner list enumerates the system IDs (sysids) for a given GCS. The length of the outer list must match the length of `gcs_names`.  \n",
    "* **missions**: List of missions for each UAV. Although advanced, customized missions can be built using the `Mission` class defined in the QGroundControl configuration script, here we use the QGroundControl configuration builder for simplicity.  \n",
    "* **terminals**: Processes to display in the terminal. The available processes are defined in the `sim.py` script: `[\"launcher\", \"veh\", \"logic\", \"proxy\", \"gcs\"]`.  \n",
    "* **suppress_output**: Processes whose output should be suppressed. The available processes are defined in the `sim.py` script: `[\"launcher\", \"veh\", \"logic\", \"proxy\", \"gcs\"]`.  \n",
    "* **verbose**: Verbosity level (0 = no information, 1 = normal information, 2 = include debugging information).  \n",
    "* **other arguments**: More advanced options that allow further customization.  "
   ]
  },
  {
   "cell_type": "code",
   "execution_count": 7,
   "metadata": {},
   "outputs": [
    {
     "name": "stderr",
     "output_type": "stream",
     "text": [
      "18:38:42 - Oracle ⚪ - INFO - 🖥️  Gazebo launched for realistic simulation and 3D visualization.\n",
      "18:38:42 - Oracle ⚪ - INFO - 🚀 GCS BLUE_🟦 launched (PID 394537)\n",
      "18:38:42 - Oracle ⚪ - INFO - 🚀 GCS RED_🟥 launched (PID 394540)\n",
      "18:38:42 - Oracle ⚪ - INFO - ⏳ Waiting for GCS processes to launch vehicles...\n",
      "18:38:47 - Oracle ⚪ - INFO - 🔗 Starting Oracle connections to vehicles...\n",
      "18:38:48 - Oracle ⚪ - INFO - 🔗 UAV logic 3 is connected to Oracle ⚪\n",
      "18:38:48 - Oracle ⚪ - INFO - 🔗 UAV logic 1 is connected to Oracle ⚪\n",
      "18:38:48 - Oracle ⚪ - INFO - 🔗 UAV logic 4 is connected to Oracle ⚪\n",
      "18:38:48 - Oracle ⚪ - INFO - 🔗 UAV logic 2 is connected to Oracle ⚪\n",
      "18:38:48 - Oracle ⚪ - INFO - 🔗 UAV logic 5 is connected to Oracle ⚪\n"
     ]
    }
   ],
   "source": [
    "simulator = Simulator(\n",
    "\tvisualizers=[gaz],\n",
    "\tgcs_names=gcs_names,\n",
    "\tgcs_sysids=gcs_sysids,\n",
    "\tmissions=[veh.mission for veh in qgc_config.vehicles],\n",
    "\tterminals=['gcs'],\n",
    "\tverbose=1,\n",
    ")\n",
    "\n",
    "orac = simulator.launch()"
   ]
  },
  {
   "cell_type": "markdown",
   "metadata": {},
   "source": [
    "## Oracle checking"
   ]
  },
  {
   "cell_type": "code",
   "execution_count": 8,
   "metadata": {},
   "outputs": [
    {
     "name": "stderr",
     "output_type": "stream",
     "text": [
      "18:38:48 - Oracle ⚪ - INFO - 🏁 Starting Oracle with 5 vehicles\n",
      "18:38:48 - Oracle ⚪ - INFO - Monitoring 2 GCS processes\n",
      "18:40:09 - Oracle ⚪ - INFO - Received message 'DONE' from GCS RED_🟥\n",
      "18:40:09 - Oracle ⚪ - INFO - GCS RED_🟥 removal complete. Remaining connections: 3\n",
      "18:40:12 - Oracle ⚪ - INFO - Received message 'DONE' from GCS BLUE_🟦\n",
      "18:40:12 - Oracle ⚪ - INFO - GCS BLUE_🟦 removal complete. Remaining connections: 0\n",
      "18:40:12 - Oracle ⚪ - INFO - ✅ Main monitoring loop completed - all connections closed\n",
      "18:40:12 - Oracle ⚪ - INFO - 🎉 Oracle shutdown complete!\n"
     ]
    }
   ],
   "source": [
    "orac.run()"
   ]
  },
  {
   "cell_type": "markdown",
   "metadata": {},
   "source": [
    "## Plot gathered positions\n",
    "\n",
    "Note: We have to name the GCS as \"color_*\" to make this work"
   ]
  },
  {
   "cell_type": "code",
   "execution_count": null,
   "metadata": {},
   "outputs": [
    {
     "name": "stderr",
     "output_type": "stream",
     "text": [
      "18:40:12 - Oracle ⚪ - INFO - Found 2 trajectory files\n"
     ]
    },
    {
     "data": {
      "image/png": "[encoded data removed]",
      "text/plain": [
       "<Figure size 800x800 with 1 Axes>"
      ]
     },
     "metadata": {},
     "output_type": "display_data"
    },
    {
     "data": {
      "image/png": "[encoded data removed]",
      "text/plain": [
       "<Figure size 800x800 with 1 Axes>"
      ]
     },
     "metadata": {},
     "output_type": "display_data"
    }
   ],
   "source": [
    "orac.wait_for_trajectory_files()\n",
    "orac.plot_trajectories(gra_origin)"
   ]
  },
  {
   "cell_type": "code",
   "execution_count": null,
   "metadata": {},
   "outputs": [],
   "source": []
  }
 ],
 "metadata": {
  "kernelspec": {
   "display_name": "uav-cyber-sim11",
   "language": "python",
   "name": "python3"
  },
  "language_info": {
   "codemirror_mode": {
    "name": "ipython",
    "version": 3
   },
   "file_extension": ".py",
   "mimetype": "text/x-python",
   "name": "python",
   "nbconvert_exporter": "python",
   "pygments_lexer": "ipython3",
   "version": "3.11.13"
  }
 },
 "nbformat": 4,
 "nbformat_minor": 2
}
