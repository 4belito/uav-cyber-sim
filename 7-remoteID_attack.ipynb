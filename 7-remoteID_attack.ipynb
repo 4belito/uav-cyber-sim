{
 "cells": [
  {
   "cell_type": "markdown",
   "metadata": {},
   "source": [
    "## Remote ID Attack"
   ]
  },
  {
   "cell_type": "code",
   "execution_count": 1,
   "metadata": {},
   "outputs": [],
   "source": [
    "import numpy as np\n",
    "\n",
    "# Custom modules\n",
    "from helpers import global2local, plot_3d_interactive, kill_processes\n",
    "from simulators import Simulator, Gazebo, QGC\n",
    "from oracle import Oracle\n",
    "\n",
    "from plan import Plan, State\n",
    "from vehicle_logic import VehicleMode\n",
    "\n",
    "kill_processes()"
   ]
  },
  {
   "cell_type": "markdown",
   "metadata": {},
   "source": [
    "## Create Plans"
   ]
  },
  {
   "cell_type": "code",
   "execution_count": 2,
   "metadata": {},
   "outputs": [],
   "source": [
    "offsets = [(-10, 0, 0, 0),(0, -5, 0, 0)]#\n",
    "n_vehicles=len(offsets)\n",
    "\n",
    "homes=np.array([offset[:3] for offset in offsets])\n",
    "\n",
    "\n",
    "radar_radius=10\n",
    "safety_radius =5\n",
    "\n",
    "\n",
    "## Normal behavior\n",
    "# global_paths=[np.array([[-10, 0, 5],[10, 0, 5]]),\n",
    "#               np.array([[0, -5, 5]])]\n",
    "# local_paths=[global2local(path, home,pairwise=True) for path,home in zip(global_paths,homes)]\n",
    "# markers = {f'waypoints': {'pos':global_paths[0],'color':'green'},\n",
    "#        f'real pos': {'pos':global_paths[1],'color':'red','radius':0.1},\n",
    "#        f'avoid zone': {'pos':global_paths[1],'color':'orange','radius':safety_radius,'alpha': 0.84},\n",
    "#        f'radar zone': {'pos':global_paths[1],'color':'orange','radius':radar_radius,'alpha': 0.9}}\n",
    "\n",
    "\n",
    "## Remote ID attack\n",
    "global_paths=[np.array([[-10, 0, 5],[10, 0, 5]]),\n",
    "              np.array([[0, -5, 5]])]\n",
    "local_paths=[global2local(path, home) for path,home in zip(global_paths,homes)]\n",
    "fake_posistion=np.array([[0,0,5]])\n",
    "markers = {f'waypoints': {'pos':global_paths[0],'color':'blue'},\n",
    "       f'real pos': {'pos':global_paths[1],'color':'red','radius':0.1},\n",
    "       f'fake_pos': {'pos':fake_posistion,'color':'orange','radius':0.1},\n",
    "       f'avoid zone': {'pos':fake_posistion,'color':'red','radius':safety_radius,'alpha': 0.85},\n",
    "       f'radar zone': {'pos':global_paths[1],'color':'orange','radius':radar_radius,'alpha': 0.9}\n",
    "       }\n",
    "\n",
    "\n",
    "plans=[Plan.basic(wps=local_paths[0],wp_margin=1,navegation_speed=1.5),\n",
    "       Plan.hover(wps=local_paths[1],wp_margin=1,navegation_speed=5)\n",
    "       ]"
   ]
  },
  {
   "cell_type": "markdown",
   "metadata": {},
   "source": [
    "## Visualization Parameters"
   ]
  },
  {
   "cell_type": "code",
   "execution_count": 3,
   "metadata": {},
   "outputs": [
    {
     "data": {
      "application/vnd.plotly.v1+json": {
       "config": {
        "plotlyServerURL": "https://plot.ly"
       },
       "data": [
        {
         "marker": {
          "color": "green",
          "size": 6
         },
         "mode": "markers",
         "name": "waypoints",
         "type": "scatter3d",
         "x": [
          -10,
          10
         ],
         "y": [
          0,
          0
         ],
         "z": [
          5,
          5
         ]
        },
        {
         "marker": {
          "color": "green",
          "size": 6
         },
         "mode": "markers",
         "name": "uav start",
         "type": "scatter3d",
         "x": [
          -10
         ],
         "y": [
          0
         ],
         "z": [
          0
         ]
        },
        {
         "marker": {
          "color": "green",
          "size": 6
         },
         "mode": "markers",
         "name": "uav goal",
         "type": "scatter3d",
         "x": [
          10
         ],
         "y": [
          0
         ],
         "z": [
          0
         ]
        },
        {
         "marker": {
          "color": "red",
          "size": 6
         },
         "mode": "markers",
         "name": "adversary pos",
         "type": "scatter3d",
         "x": [
          0
         ],
         "y": [
          -5
         ],
         "z": [
          5
         ]
        }
       ],
       "layout": {
        "height": 600,
        "scene": {
         "xaxis": {
          "range": [
           -18,
           18
          ],
          "title": {
           "text": "x"
          }
         },
         "yaxis": {
          "range": [
           -7,
           2
          ],
          "title": {
           "text": "y"
          }
         },
         "zaxis": {
          "range": [
           -0.05,
           6
          ],
          "title": {
           "text": "z"
          }
         }
        },
        "showlegend": true,
        "template": {
         "data": {
          "bar": [
           {
            "error_x": {
             "color": "#2a3f5f"
            },
            "error_y": {
             "color": "#2a3f5f"
            },
            "marker": {
             "line": {
              "color": "#E5ECF6",
              "width": 0.5
             },
             "pattern": {
              "fillmode": "overlay",
              "size": 10,
              "solidity": 0.2
             }
            },
            "type": "bar"
           }
          ],
          "barpolar": [
           {
            "marker": {
             "line": {
              "color": "#E5ECF6",
              "width": 0.5
             },
             "pattern": {
              "fillmode": "overlay",
              "size": 10,
              "solidity": 0.2
             }
            },
            "type": "barpolar"
           }
          ],
          "carpet": [
           {
            "aaxis": {
             "endlinecolor": "#2a3f5f",
             "gridcolor": "white",
             "linecolor": "white",
             "minorgridcolor": "white",
             "startlinecolor": "#2a3f5f"
            },
            "baxis": {
             "endlinecolor": "#2a3f5f",
             "gridcolor": "white",
             "linecolor": "white",
             "minorgridcolor": "white",
             "startlinecolor": "#2a3f5f"
            },
            "type": "carpet"
           }
          ],
          "choropleth": [
           {
            "colorbar": {
             "outlinewidth": 0,
             "ticks": ""
            },
            "type": "choropleth"
           }
          ],
          "contour": [
           {
            "colorbar": {
             "outlinewidth": 0,
             "ticks": ""
            },
            "colorscale": [
             [
              0,
              "#0d0887"
             ],
             [
              0.1111111111111111,
              "#46039f"
             ],
             [
              0.2222222222222222,
              "#7201a8"
             ],
             [
              0.3333333333333333,
              "#9c179e"
             ],
             [
              0.4444444444444444,
              "#bd3786"
             ],
             [
              0.5555555555555556,
              "#d8576b"
             ],
             [
              0.6666666666666666,
              "#ed7953"
             ],
             [
              0.7777777777777778,
              "#fb9f3a"
             ],
             [
              0.8888888888888888,
              "#fdca26"
             ],
             [
              1,
              "#f0f921"
             ]
            ],
            "type": "contour"
           }
          ],
          "contourcarpet": [
           {
            "colorbar": {
             "outlinewidth": 0,
             "ticks": ""
            },
            "type": "contourcarpet"
           }
          ],
          "heatmap": [
           {
            "colorbar": {
             "outlinewidth": 0,
             "ticks": ""
            },
            "colorscale": [
             [
              0,
              "#0d0887"
             ],
             [
              0.1111111111111111,
              "#46039f"
             ],
             [
              0.2222222222222222,
              "#7201a8"
             ],
             [
              0.3333333333333333,
              "#9c179e"
             ],
             [
              0.4444444444444444,
              "#bd3786"
             ],
             [
              0.5555555555555556,
              "#d8576b"
             ],
             [
              0.6666666666666666,
              "#ed7953"
             ],
             [
              0.7777777777777778,
              "#fb9f3a"
             ],
             [
              0.8888888888888888,
              "#fdca26"
             ],
             [
              1,
              "#f0f921"
             ]
            ],
            "type": "heatmap"
           }
          ],
          "histogram": [
           {
            "marker": {
             "pattern": {
              "fillmode": "overlay",
              "size": 10,
              "solidity": 0.2
             }
            },
            "type": "histogram"
           }
          ],
          "histogram2d": [
           {
            "colorbar": {
             "outlinewidth": 0,
             "ticks": ""
            },
            "colorscale": [
             [
              0,
              "#0d0887"
             ],
             [
              0.1111111111111111,
              "#46039f"
             ],
             [
              0.2222222222222222,
              "#7201a8"
             ],
             [
              0.3333333333333333,
              "#9c179e"
             ],
             [
              0.4444444444444444,
              "#bd3786"
             ],
             [
              0.5555555555555556,
              "#d8576b"
             ],
             [
              0.6666666666666666,
              "#ed7953"
             ],
             [
              0.7777777777777778,
              "#fb9f3a"
             ],
             [
              0.8888888888888888,
              "#fdca26"
             ],
             [
              1,
              "#f0f921"
             ]
            ],
            "type": "histogram2d"
           }
          ],
          "histogram2dcontour": [
           {
            "colorbar": {
             "outlinewidth": 0,
             "ticks": ""
            },
            "colorscale": [
             [
              0,
              "#0d0887"
             ],
             [
              0.1111111111111111,
              "#46039f"
             ],
             [
              0.2222222222222222,
              "#7201a8"
             ],
             [
              0.3333333333333333,
              "#9c179e"
             ],
             [
              0.4444444444444444,
              "#bd3786"
             ],
             [
              0.5555555555555556,
              "#d8576b"
             ],
             [
              0.6666666666666666,
              "#ed7953"
             ],
             [
              0.7777777777777778,
              "#fb9f3a"
             ],
             [
              0.8888888888888888,
              "#fdca26"
             ],
             [
              1,
              "#f0f921"
             ]
            ],
            "type": "histogram2dcontour"
           }
          ],
          "mesh3d": [
           {
            "colorbar": {
             "outlinewidth": 0,
             "ticks": ""
            },
            "type": "mesh3d"
           }
          ],
          "parcoords": [
           {
            "line": {
             "colorbar": {
              "outlinewidth": 0,
              "ticks": ""
             }
            },
            "type": "parcoords"
           }
          ],
          "pie": [
           {
            "automargin": true,
            "type": "pie"
           }
          ],
          "scatter": [
           {
            "fillpattern": {
             "fillmode": "overlay",
             "size": 10,
             "solidity": 0.2
            },
            "type": "scatter"
           }
          ],
          "scatter3d": [
           {
            "line": {
             "colorbar": {
              "outlinewidth": 0,
              "ticks": ""
             }
            },
            "marker": {
             "colorbar": {
              "outlinewidth": 0,
              "ticks": ""
             }
            },
            "type": "scatter3d"
           }
          ],
          "scattercarpet": [
           {
            "marker": {
             "colorbar": {
              "outlinewidth": 0,
              "ticks": ""
             }
            },
            "type": "scattercarpet"
           }
          ],
          "scattergeo": [
           {
            "marker": {
             "colorbar": {
              "outlinewidth": 0,
              "ticks": ""
             }
            },
            "type": "scattergeo"
           }
          ],
          "scattergl": [
           {
            "marker": {
             "colorbar": {
              "outlinewidth": 0,
              "ticks": ""
             }
            },
            "type": "scattergl"
           }
          ],
          "scattermap": [
           {
            "marker": {
             "colorbar": {
              "outlinewidth": 0,
              "ticks": ""
             }
            },
            "type": "scattermap"
           }
          ],
          "scattermapbox": [
           {
            "marker": {
             "colorbar": {
              "outlinewidth": 0,
              "ticks": ""
             }
            },
            "type": "scattermapbox"
           }
          ],
          "scatterpolar": [
           {
            "marker": {
             "colorbar": {
              "outlinewidth": 0,
              "ticks": ""
             }
            },
            "type": "scatterpolar"
           }
          ],
          "scatterpolargl": [
           {
            "marker": {
             "colorbar": {
              "outlinewidth": 0,
              "ticks": ""
             }
            },
            "type": "scatterpolargl"
           }
          ],
          "scatterternary": [
           {
            "marker": {
             "colorbar": {
              "outlinewidth": 0,
              "ticks": ""
             }
            },
            "type": "scatterternary"
           }
          ],
          "surface": [
           {
            "colorbar": {
             "outlinewidth": 0,
             "ticks": ""
            },
            "colorscale": [
             [
              0,
              "#0d0887"
             ],
             [
              0.1111111111111111,
              "#46039f"
             ],
             [
              0.2222222222222222,
              "#7201a8"
             ],
             [
              0.3333333333333333,
              "#9c179e"
             ],
             [
              0.4444444444444444,
              "#bd3786"
             ],
             [
              0.5555555555555556,
              "#d8576b"
             ],
             [
              0.6666666666666666,
              "#ed7953"
             ],
             [
              0.7777777777777778,
              "#fb9f3a"
             ],
             [
              0.8888888888888888,
              "#fdca26"
             ],
             [
              1,
              "#f0f921"
             ]
            ],
            "type": "surface"
           }
          ],
          "table": [
           {
            "cells": {
             "fill": {
              "color": "#EBF0F8"
             },
             "line": {
              "color": "white"
             }
            },
            "header": {
             "fill": {
              "color": "#C8D4E3"
             },
             "line": {
              "color": "white"
             }
            },
            "type": "table"
           }
          ]
         },
         "layout": {
          "annotationdefaults": {
           "arrowcolor": "#2a3f5f",
           "arrowhead": 0,
           "arrowwidth": 1
          },
          "autotypenumbers": "strict",
          "coloraxis": {
           "colorbar": {
            "outlinewidth": 0,
            "ticks": ""
           }
          },
          "colorscale": {
           "diverging": [
            [
             0,
             "#8e0152"
            ],
            [
             0.1,
             "#c51b7d"
            ],
            [
             0.2,
             "#de77ae"
            ],
            [
             0.3,
             "#f1b6da"
            ],
            [
             0.4,
             "#fde0ef"
            ],
            [
             0.5,
             "#f7f7f7"
            ],
            [
             0.6,
             "#e6f5d0"
            ],
            [
             0.7,
             "#b8e186"
            ],
            [
             0.8,
             "#7fbc41"
            ],
            [
             0.9,
             "#4d9221"
            ],
            [
             1,
             "#276419"
            ]
           ],
           "sequential": [
            [
             0,
             "#0d0887"
            ],
            [
             0.1111111111111111,
             "#46039f"
            ],
            [
             0.2222222222222222,
             "#7201a8"
            ],
            [
             0.3333333333333333,
             "#9c179e"
            ],
            [
             0.4444444444444444,
             "#bd3786"
            ],
            [
             0.5555555555555556,
             "#d8576b"
            ],
            [
             0.6666666666666666,
             "#ed7953"
            ],
            [
             0.7777777777777778,
             "#fb9f3a"
            ],
            [
             0.8888888888888888,
             "#fdca26"
            ],
            [
             1,
             "#f0f921"
            ]
           ],
           "sequentialminus": [
            [
             0,
             "#0d0887"
            ],
            [
             0.1111111111111111,
             "#46039f"
            ],
            [
             0.2222222222222222,
             "#7201a8"
            ],
            [
             0.3333333333333333,
             "#9c179e"
            ],
            [
             0.4444444444444444,
             "#bd3786"
            ],
            [
             0.5555555555555556,
             "#d8576b"
            ],
            [
             0.6666666666666666,
             "#ed7953"
            ],
            [
             0.7777777777777778,
             "#fb9f3a"
            ],
            [
             0.8888888888888888,
             "#fdca26"
            ],
            [
             1,
             "#f0f921"
            ]
           ]
          },
          "colorway": [
           "#636efa",
           "#EF553B",
           "#00cc96",
           "#ab63fa",
           "#FFA15A",
           "#19d3f3",
           "#FF6692",
           "#B6E880",
           "#FF97FF",
           "#FECB52"
          ],
          "font": {
           "color": "#2a3f5f"
          },
          "geo": {
           "bgcolor": "white",
           "lakecolor": "white",
           "landcolor": "#E5ECF6",
           "showlakes": true,
           "showland": true,
           "subunitcolor": "white"
          },
          "hoverlabel": {
           "align": "left"
          },
          "hovermode": "closest",
          "mapbox": {
           "style": "light"
          },
          "paper_bgcolor": "white",
          "plot_bgcolor": "#E5ECF6",
          "polar": {
           "angularaxis": {
            "gridcolor": "white",
            "linecolor": "white",
            "ticks": ""
           },
           "bgcolor": "#E5ECF6",
           "radialaxis": {
            "gridcolor": "white",
            "linecolor": "white",
            "ticks": ""
           }
          },
          "scene": {
           "xaxis": {
            "backgroundcolor": "#E5ECF6",
            "gridcolor": "white",
            "gridwidth": 2,
            "linecolor": "white",
            "showbackground": true,
            "ticks": "",
            "zerolinecolor": "white"
           },
           "yaxis": {
            "backgroundcolor": "#E5ECF6",
            "gridcolor": "white",
            "gridwidth": 2,
            "linecolor": "white",
            "showbackground": true,
            "ticks": "",
            "zerolinecolor": "white"
           },
           "zaxis": {
            "backgroundcolor": "#E5ECF6",
            "gridcolor": "white",
            "gridwidth": 2,
            "linecolor": "white",
            "showbackground": true,
            "ticks": "",
            "zerolinecolor": "white"
           }
          },
          "shapedefaults": {
           "line": {
            "color": "#2a3f5f"
           }
          },
          "ternary": {
           "aaxis": {
            "gridcolor": "white",
            "linecolor": "white",
            "ticks": ""
           },
           "baxis": {
            "gridcolor": "white",
            "linecolor": "white",
            "ticks": ""
           },
           "bgcolor": "#E5ECF6",
           "caxis": {
            "gridcolor": "white",
            "linecolor": "white",
            "ticks": ""
           }
          },
          "title": {
           "x": 0.05
          },
          "xaxis": {
           "automargin": true,
           "gridcolor": "white",
           "linecolor": "white",
           "ticks": "",
           "title": {
            "standoff": 15
           },
           "zerolinecolor": "white",
           "zerolinewidth": 2
          },
          "yaxis": {
           "automargin": true,
           "gridcolor": "white",
           "linecolor": "white",
           "ticks": "",
           "title": {
            "standoff": 15
           },
           "zerolinecolor": "white",
           "zerolinewidth": 2
          }
         }
        },
        "title": {
         "text": "Simulation Markers",
         "x": 0.5,
         "xanchor": "center"
        },
        "width": 800
       }
      }
     },
     "metadata": {},
     "output_type": "display_data"
    }
   ],
   "source": [
    "markers_plot = {f'waypoints': {'pos':global_paths[0],'color':'green'},\n",
    "                f'uav start': {'pos':np.array([[-10, 0, 0]]),'color':'green'},\n",
    "                'uav goal': {'pos':np.array([[10, 0, 0]]),'color':'green'},\n",
    "              f'adversary pos': {'pos':global_paths[1],'color':'red','radius':0.1},\n",
    "              #f'adversary fake pos': {'pos':fake_posistion,'color':'orange','radius':0.1}\n",
    "              }\n",
    "plot_3d_interactive(markers_plot,title='Simulation Markers',expand=[0.4,0.4,0.2],ground=-0.05)"
   ]
  },
  {
   "cell_type": "markdown",
   "metadata": {},
   "source": [
    "## Choose Simulator"
   ]
  },
  {
   "cell_type": "code",
   "execution_count": 4,
   "metadata": {},
   "outputs": [],
   "source": [
    "simulator=QGC(offsets=offsets,\n",
    "              plans=plans,\n",
    "              origin=(-35.3633245,149.1652241,0,0))\n",
    "\n",
    "simulator=Gazebo(offsets=offsets,\n",
    "                 plans=plans,\n",
    "                 world_path='simulators/gazebo/worlds/runway.world',\n",
    "                 vehicle_models=n_vehicles*['drone'],\n",
    "                 markers=markers)"
   ]
  },
  {
   "cell_type": "markdown",
   "metadata": {},
   "source": [
    "Launch Simulator"
   ]
  },
  {
   "cell_type": "code",
   "execution_count": 5,
   "metadata": {},
   "outputs": [
    {
     "name": "stdout",
     "output_type": "stream",
     "text": [
      "Vehicle 1 launched 🚀\n",
      "Vehicle 2 launched 🚀\n"
     ]
    }
   ],
   "source": [
    "uavs = simulator.launch()\n",
    "for uav in uavs:\n",
    "    uav.safety_radius = safety_radius\n",
    "    uav.ar_radius = radar_radius\n",
    "orac = Oracle(uavs)"
   ]
  },
  {
   "cell_type": "markdown",
   "metadata": {},
   "source": [
    "## Execute Plan"
   ]
  },
  {
   "cell_type": "code",
   "execution_count": 6,
   "metadata": {},
   "outputs": [
    {
     "data": {
      "text/plain": [
       "[<vehicle_logic.VehicleLogic at 0x7fe9a81d0e80>,\n",
       " <vehicle_logic.VehicleLogic at 0x7fe7f06d9bb0>]"
      ]
     },
     "execution_count": 6,
     "metadata": {},
     "output_type": "execute_result"
    }
   ],
   "source": [
    "orac.vehs"
   ]
  },
  {
   "cell_type": "code",
   "execution_count": 7,
   "metadata": {},
   "outputs": [
    {
     "name": "stdout",
     "output_type": "stream",
     "text": [
      "Vehicle 1: ▶️ Plan Started: 📋 basic\n",
      "Vehicle 1: ▶️ Action Started: 🔧 PREARM\n",
      "Vehicle 1: ▶️ Step Started: Check disarmed\n",
      "Vehicle 2: ▶️ Plan Started: 📋 hover\n",
      "Vehicle 2: ▶️ Action Started: 🔧 PREARM\n",
      "Vehicle 2: ▶️ Step Started: Check disarmed\n",
      "Vehicle 2: ✅ Step Done: Check disarmed\n",
      "Vehicle 2: ▶️ Step Started: Check EKF\n",
      "Vehicle 1: ✅ Step Done: Check disarmed\n",
      "Vehicle 1: ▶️ Step Started: Check EKF\n",
      "Vehicle 2: ✅ Step Done: Check EKF\n",
      "Vehicle 2: ▶️ Step Started: Check GPS\n",
      "Vehicle 1: ✅ Step Done: Check EKF\n",
      "Vehicle 1: ▶️ Step Started: Check GPS\n",
      "Vehicle 2: ✅ Step Done: Check GPS\n",
      "Vehicle 2: ▶️ Step Started: Check system\n",
      "Vehicle 1: ✅ Step Done: Check GPS\n",
      "Vehicle 1: ▶️ Step Started: Check system\n",
      "Vehicle 2: ✅ Step Done: Check system\n",
      "Vehicle 2: ✅ Action Done: 🔧 PREARM\n",
      "Vehicle 2: ▶️ Action Started: ⚙️ MODE: GUIDED\n",
      "Vehicle 2: ▶️ Step Started: Switch to GUIDED\n",
      "Vehicle 2: ✅ Step Done: Switch to GUIDED\n",
      "Vehicle 2: ✅ Action Done: ⚙️ MODE: GUIDED\n",
      "Vehicle 2: ▶️ Action Started: 🔐 ARM\n",
      "Vehicle 2: ▶️ Step Started: arm\n",
      "Vehicle 1: ✅ Step Done: Check system\n",
      "Vehicle 1: ✅ Action Done: 🔧 PREARM\n",
      "Vehicle 1: ▶️ Action Started: ⚙️ MODE: GUIDED\n",
      "Vehicle 1: ▶️ Step Started: Switch to GUIDED\n",
      "Vehicle 1: ✅ Step Done: Switch to GUIDED\n",
      "Vehicle 1: ✅ Action Done: ⚙️ MODE: GUIDED\n",
      "Vehicle 1: ▶️ Action Started: 🎚️ CHANGE_NAV_SPEED\n",
      "Vehicle 1: ▶️ Step Started: Set speed to 1.50 m/s\n",
      "Vehicle 1: ✅ Step Done: Set speed to 1.50 m/s\n",
      "Vehicle 1: ✅ Action Done: 🎚️ CHANGE_NAV_SPEED\n",
      "Vehicle 1: ▶️ Action Started: 🔐 ARM\n",
      "Vehicle 1: ▶️ Step Started: arm\n",
      "Vehicle 2: ✅ Step Done: arm\n",
      "Vehicle 2: ✅ Action Done: 🔐 ARM\n",
      "Vehicle 2: ▶️ Action Started: 🛫 TAKEOFF\n",
      "Vehicle 2: ▶️ Step Started: takeoff\n",
      "Vehicle 1: ✅ Step Done: arm\n",
      "Vehicle 1: ✅ Action Done: 🔐 ARM\n",
      "Vehicle 1: ▶️ Action Started: 🛫 TAKEOFF\n",
      "Vehicle 1: ▶️ Step Started: takeoff\n",
      "Vehicle 2: ✅ Step Done: takeoff\n",
      "Vehicle 2: ✅ Action Done: 🛫 TAKEOFF\n",
      "Vehicle 2: ▶️ Action Started: 🛩️ FLY\n",
      "Vehicle 2: ▶️ Step Started: go to  -> (0, 0, 5)\n",
      "Vehicle 1: ✅ Step Done: takeoff\n",
      "Vehicle 1: ✅ Action Done: 🛫 TAKEOFF\n",
      "Vehicle 1: ▶️ Action Started: 🛩️ FLY\n",
      "Vehicle 1: ▶️ Step Started: go to  -> (0, 0, 5)\n",
      "Vehicle 2: ✅ Step Done: go to  -> (0, 0, 5)\n",
      "Vehicle 2: ✅ Action Done: 🛩️ FLY\n",
      "Vehicle 2: ✅ Plan Done: 📋 hover\n",
      "Vehicle 1: ✅ Step Done: go to  -> (0, 0, 5)\n",
      "Vehicle 1: ▶️ Step Started: go to  -> (20, 0, 5)\n",
      "Vehigcle 1 switched to mode: AVOIDANCE\n",
      "Vehicle 1: ▶️ Step Started: go to (avoidance) -> (6.02, 3.01, 4.72)\n",
      "Vehigcle 1 switched to mode: MISSION\n",
      "Vehicle 1: ✅ Step Done: go to (avoidance) -> (6.02, 3.01, 4.72)\n",
      "Vehicle 1: ▶️ Step Started: go to  -> (20, 0, 5)\n",
      "Vehigcle 1 switched to mode: AVOIDANCE\n",
      "Vehicle 1: ▶️ Step Started: go to (avoidance) -> (9.26, 4.94, 4.75)\n",
      "Vehigcle 1 switched to mode: MISSION\n",
      "Vehicle 1: ✅ Step Done: go to (avoidance) -> (9.26, 4.94, 4.75)\n",
      "Vehicle 1: ▶️ Step Started: go to  -> (20, 0, 5)\n",
      "Vehicle 1: ✅ Step Done: go to  -> (20, 0, 5)\n",
      "Vehicle 1: ✅ Action Done: 🛩️ FLY\n",
      "Vehicle 1: ▶️ Action Started: 🛬 LAND\n",
      "Vehicle 1: ▶️ Step Started: land\n",
      "Vehicle 1: ✅ Step Done: land\n",
      "Vehicle 1: ✅ Action Done: 🛬 LAND\n",
      "Vehicle 1: ✅ Plan Done: 📋 basic\n",
      "✅ <Plan '📋 basic'>\n",
      "  ✅ <Action '🔧 PREARM'>\n",
      "    ✅ <Step '🔹 Check disarmed'>\n",
      "    ✅ <Step '🔹 Check EKF'>\n",
      "    ✅ <Step '🔹 Check GPS'>\n",
      "    ✅ <Step '🔹 Check system'>\n",
      "  ✅ <Action '⚙️ MODE: GUIDED'>\n",
      "    ✅ <Step '🔹 Switch to GUIDED'>\n",
      "  ✅ <Action '🎚️ CHANGE_NAV_SPEED'>\n",
      "    ✅ <Step '🔹 Set speed to 1.50 m/s'>\n",
      "  ✅ <Action '🔐 ARM'>\n",
      "    ✅ <Step '🔹 arm'>\n",
      "  ✅ <Action '🛫 TAKEOFF'>\n",
      "    ✅ <Step '🔹 takeoff'>\n",
      "  ✅ <Action '🛩️ FLY'>\n",
      "    ✅ <Step '🔹 go to  -> (0, 0, 5)'>\n",
      "    ✅ <Step '🔹 go to (avoidance) -> (6.02, 3.01, 4.72)'>\n",
      "    ✅ <Step '🔹 go to (avoidance) -> (9.26, 4.94, 4.75)'>\n",
      "    ✅ <Step '🔹 go to  -> (20, 0, 5)'>\n",
      "  ✅ <Action '🛬 LAND'>\n",
      "    ✅ <Step '🔹 land'>\n",
      "✅ <Plan '📋 hover'>\n",
      "  ✅ <Action '🔧 PREARM'>\n",
      "    ✅ <Step '🔹 Check disarmed'>\n",
      "    ✅ <Step '🔹 Check EKF'>\n",
      "    ✅ <Step '🔹 Check GPS'>\n",
      "    ✅ <Step '🔹 Check system'>\n",
      "  ✅ <Action '⚙️ MODE: GUIDED'>\n",
      "    ✅ <Step '🔹 Switch to GUIDED'>\n",
      "  ✅ <Action '🔐 ARM'>\n",
      "    ✅ <Step '🔹 arm'>\n",
      "  ✅ <Action '🛫 TAKEOFF'>\n",
      "    ✅ <Step '🔹 takeoff'>\n",
      "  ✅ <Action '🛩️ FLY'>\n",
      "    ✅ <Step '🔹 go to  -> (0, 0, 5)'>\n"
     ]
    }
   ],
   "source": [
    "while orac.vehs:\n",
    "    orac.gather_broadcasts()\n",
    "    ## Remote ID attack\n",
    "    orac.pos[uavs[1]]=fake_posistion[0]\n",
    "    for uav in orac.vehs.copy():\n",
    "        orac.update_neighbors(uav)\n",
    "        if uav.plan.state != State.DONE:\n",
    "            uav.act()\n",
    "        elif uav.idx==1 or len(orac.vehs)==1:\n",
    "            print(uav.plan)\n",
    "            orac.remove(uav)\n",
    "kill_processes()"
   ]
  }
 ],
 "metadata": {
  "kernelspec": {
   "display_name": "Python 3",
   "language": "python",
   "name": "python3"
  },
  "language_info": {
   "codemirror_mode": {
    "name": "ipython",
    "version": 3
   },
   "file_extension": ".py",
   "mimetype": "text/x-python",
   "name": "python",
   "nbconvert_exporter": "python",
   "pygments_lexer": "ipython3",
   "version": "3.9.21"
  }
 },
 "nbformat": 4,
 "nbformat_minor": 2
}
