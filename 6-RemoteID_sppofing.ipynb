{
 "cells": [
  {
   "cell_type": "markdown",
   "metadata": {},
   "source": [
    "## Remote ID Spoofing\n",
    "\n",
    "This notebook implements a uav logic instead of a plan and decisions are done online following that logic"
   ]
  },
  {
   "cell_type": "code",
   "execution_count": 1,
   "metadata": {},
   "outputs": [],
   "source": [
    "import os\n",
    "import subprocess\n",
    "from pymavlink import mavutil\n",
    "import numpy as np\n",
    "from collections import OrderedDict\n",
    "\n",
    "# Custom modules\n",
    "from vehicle_logic import VehicleLogic\n",
    "from helpers.change_coordinates import heading_to_yaw,find_spawns,global2local,local2global\n",
    "from helpers.visualization.gazebo_world import update_world\n",
    "from helpers.math import manhattan_distance\n",
    "from helpers.navegation_logic import find_path,find_best_waypoint\n",
    "from helpers.visualization.plots import plot_3d_interactive"
   ]
  },
  {
   "cell_type": "markdown",
   "metadata": {},
   "source": [
    "## Kill all related process"
   ]
  },
  {
   "cell_type": "code",
   "execution_count": 2,
   "metadata": {},
   "outputs": [],
   "source": [
    "for process in [\"QGroundControl\", \"sim_vehicle.py\", \"arducopter\", \"gazebo\", \"mavproxy\"]:\n",
    "    os.system(f\"pkill -9 -f {process}\")"
   ]
  },
  {
   "cell_type": "markdown",
   "metadata": {},
   "source": [
    "## Paths"
   ]
  },
  {
   "cell_type": "code",
   "execution_count": 3,
   "metadata": {},
   "outputs": [],
   "source": [
    "QGC_path='~/QGroundControl.AppImage'\n",
    "gazebo_word_path=\"gazebo_worlds/attack_city.world\"\n",
    "ardupilot_vehicle_path='~/ardupilot/Tools/autotest/sim_vehicle.py'"
   ]
  },
  {
   "cell_type": "markdown",
   "metadata": {},
   "source": [
    "# Choose Simulator"
   ]
  },
  {
   "cell_type": "code",
   "execution_count": 4,
   "metadata": {},
   "outputs": [],
   "source": [
    "simulator ='gazebo' # 'QGroundControl' #"
   ]
  },
  {
   "cell_type": "markdown",
   "metadata": {},
   "source": [
    "## Gonfiguration"
   ]
  },
  {
   "cell_type": "code",
   "execution_count": 5,
   "metadata": {},
   "outputs": [
    {
     "data": {
      "application/vnd.plotly.v1+json": {
       "config": {
        "plotlyServerURL": "https://plot.ly"
       },
       "data": [
        {
         "marker": {
          "color": "yellow",
          "size": 6
         },
         "mode": "markers",
         "name": "waypoints",
         "type": "scatter3d",
         "x": [
          40,
          15,
          0,
          0,
          40,
          15,
          0
         ],
         "y": [
          -10,
          -10,
          -10,
          4,
          20,
          20,
          20
         ],
         "z": [
          5,
          5,
          5,
          5,
          5,
          5,
          5
         ]
        },
        {
         "marker": {
          "color": "blue",
          "size": 6
         },
         "mode": "markers",
         "name": "homes",
         "type": "scatter3d",
         "x": [
          40,
          40
         ],
         "y": [
          -10,
          20
         ],
         "z": [
          0,
          0
         ]
        },
        {
         "marker": {
          "color": "green",
          "size": 6
         },
         "mode": "markers",
         "name": "targets",
         "type": "scatter3d",
         "x": [
          40,
          40
         ],
         "y": [
          20,
          -10
         ],
         "z": [
          0,
          0
         ]
        }
       ],
       "layout": {
        "height": 600,
        "scene": {
         "xaxis": {
          "range": [
           -8,
           48
          ],
          "title": {
           "text": "x"
          }
         },
         "yaxis": {
          "range": [
           -16,
           26
          ],
          "title": {
           "text": "y"
          }
         },
         "zaxis": {
          "range": [
           -0.05,
           7
          ],
          "title": {
           "text": "z"
          }
         }
        },
        "template": {
         "data": {
          "bar": [
           {
            "error_x": {
             "color": "#2a3f5f"
            },
            "error_y": {
             "color": "#2a3f5f"
            },
            "marker": {
             "line": {
              "color": "#E5ECF6",
              "width": 0.5
             },
             "pattern": {
              "fillmode": "overlay",
              "size": 10,
              "solidity": 0.2
             }
            },
            "type": "bar"
           }
          ],
          "barpolar": [
           {
            "marker": {
             "line": {
              "color": "#E5ECF6",
              "width": 0.5
             },
             "pattern": {
              "fillmode": "overlay",
              "size": 10,
              "solidity": 0.2
             }
            },
            "type": "barpolar"
           }
          ],
          "carpet": [
           {
            "aaxis": {
             "endlinecolor": "#2a3f5f",
             "gridcolor": "white",
             "linecolor": "white",
             "minorgridcolor": "white",
             "startlinecolor": "#2a3f5f"
            },
            "baxis": {
             "endlinecolor": "#2a3f5f",
             "gridcolor": "white",
             "linecolor": "white",
             "minorgridcolor": "white",
             "startlinecolor": "#2a3f5f"
            },
            "type": "carpet"
           }
          ],
          "choropleth": [
           {
            "colorbar": {
             "outlinewidth": 0,
             "ticks": ""
            },
            "type": "choropleth"
           }
          ],
          "contour": [
           {
            "colorbar": {
             "outlinewidth": 0,
             "ticks": ""
            },
            "colorscale": [
             [
              0,
              "#0d0887"
             ],
             [
              0.1111111111111111,
              "#46039f"
             ],
             [
              0.2222222222222222,
              "#7201a8"
             ],
             [
              0.3333333333333333,
              "#9c179e"
             ],
             [
              0.4444444444444444,
              "#bd3786"
             ],
             [
              0.5555555555555556,
              "#d8576b"
             ],
             [
              0.6666666666666666,
              "#ed7953"
             ],
             [
              0.7777777777777778,
              "#fb9f3a"
             ],
             [
              0.8888888888888888,
              "#fdca26"
             ],
             [
              1,
              "#f0f921"
             ]
            ],
            "type": "contour"
           }
          ],
          "contourcarpet": [
           {
            "colorbar": {
             "outlinewidth": 0,
             "ticks": ""
            },
            "type": "contourcarpet"
           }
          ],
          "heatmap": [
           {
            "colorbar": {
             "outlinewidth": 0,
             "ticks": ""
            },
            "colorscale": [
             [
              0,
              "#0d0887"
             ],
             [
              0.1111111111111111,
              "#46039f"
             ],
             [
              0.2222222222222222,
              "#7201a8"
             ],
             [
              0.3333333333333333,
              "#9c179e"
             ],
             [
              0.4444444444444444,
              "#bd3786"
             ],
             [
              0.5555555555555556,
              "#d8576b"
             ],
             [
              0.6666666666666666,
              "#ed7953"
             ],
             [
              0.7777777777777778,
              "#fb9f3a"
             ],
             [
              0.8888888888888888,
              "#fdca26"
             ],
             [
              1,
              "#f0f921"
             ]
            ],
            "type": "heatmap"
           }
          ],
          "histogram": [
           {
            "marker": {
             "pattern": {
              "fillmode": "overlay",
              "size": 10,
              "solidity": 0.2
             }
            },
            "type": "histogram"
           }
          ],
          "histogram2d": [
           {
            "colorbar": {
             "outlinewidth": 0,
             "ticks": ""
            },
            "colorscale": [
             [
              0,
              "#0d0887"
             ],
             [
              0.1111111111111111,
              "#46039f"
             ],
             [
              0.2222222222222222,
              "#7201a8"
             ],
             [
              0.3333333333333333,
              "#9c179e"
             ],
             [
              0.4444444444444444,
              "#bd3786"
             ],
             [
              0.5555555555555556,
              "#d8576b"
             ],
             [
              0.6666666666666666,
              "#ed7953"
             ],
             [
              0.7777777777777778,
              "#fb9f3a"
             ],
             [
              0.8888888888888888,
              "#fdca26"
             ],
             [
              1,
              "#f0f921"
             ]
            ],
            "type": "histogram2d"
           }
          ],
          "histogram2dcontour": [
           {
            "colorbar": {
             "outlinewidth": 0,
             "ticks": ""
            },
            "colorscale": [
             [
              0,
              "#0d0887"
             ],
             [
              0.1111111111111111,
              "#46039f"
             ],
             [
              0.2222222222222222,
              "#7201a8"
             ],
             [
              0.3333333333333333,
              "#9c179e"
             ],
             [
              0.4444444444444444,
              "#bd3786"
             ],
             [
              0.5555555555555556,
              "#d8576b"
             ],
             [
              0.6666666666666666,
              "#ed7953"
             ],
             [
              0.7777777777777778,
              "#fb9f3a"
             ],
             [
              0.8888888888888888,
              "#fdca26"
             ],
             [
              1,
              "#f0f921"
             ]
            ],
            "type": "histogram2dcontour"
           }
          ],
          "mesh3d": [
           {
            "colorbar": {
             "outlinewidth": 0,
             "ticks": ""
            },
            "type": "mesh3d"
           }
          ],
          "parcoords": [
           {
            "line": {
             "colorbar": {
              "outlinewidth": 0,
              "ticks": ""
             }
            },
            "type": "parcoords"
           }
          ],
          "pie": [
           {
            "automargin": true,
            "type": "pie"
           }
          ],
          "scatter": [
           {
            "fillpattern": {
             "fillmode": "overlay",
             "size": 10,
             "solidity": 0.2
            },
            "type": "scatter"
           }
          ],
          "scatter3d": [
           {
            "line": {
             "colorbar": {
              "outlinewidth": 0,
              "ticks": ""
             }
            },
            "marker": {
             "colorbar": {
              "outlinewidth": 0,
              "ticks": ""
             }
            },
            "type": "scatter3d"
           }
          ],
          "scattercarpet": [
           {
            "marker": {
             "colorbar": {
              "outlinewidth": 0,
              "ticks": ""
             }
            },
            "type": "scattercarpet"
           }
          ],
          "scattergeo": [
           {
            "marker": {
             "colorbar": {
              "outlinewidth": 0,
              "ticks": ""
             }
            },
            "type": "scattergeo"
           }
          ],
          "scattergl": [
           {
            "marker": {
             "colorbar": {
              "outlinewidth": 0,
              "ticks": ""
             }
            },
            "type": "scattergl"
           }
          ],
          "scattermap": [
           {
            "marker": {
             "colorbar": {
              "outlinewidth": 0,
              "ticks": ""
             }
            },
            "type": "scattermap"
           }
          ],
          "scattermapbox": [
           {
            "marker": {
             "colorbar": {
              "outlinewidth": 0,
              "ticks": ""
             }
            },
            "type": "scattermapbox"
           }
          ],
          "scatterpolar": [
           {
            "marker": {
             "colorbar": {
              "outlinewidth": 0,
              "ticks": ""
             }
            },
            "type": "scatterpolar"
           }
          ],
          "scatterpolargl": [
           {
            "marker": {
             "colorbar": {
              "outlinewidth": 0,
              "ticks": ""
             }
            },
            "type": "scatterpolargl"
           }
          ],
          "scatterternary": [
           {
            "marker": {
             "colorbar": {
              "outlinewidth": 0,
              "ticks": ""
             }
            },
            "type": "scatterternary"
           }
          ],
          "surface": [
           {
            "colorbar": {
             "outlinewidth": 0,
             "ticks": ""
            },
            "colorscale": [
             [
              0,
              "#0d0887"
             ],
             [
              0.1111111111111111,
              "#46039f"
             ],
             [
              0.2222222222222222,
              "#7201a8"
             ],
             [
              0.3333333333333333,
              "#9c179e"
             ],
             [
              0.4444444444444444,
              "#bd3786"
             ],
             [
              0.5555555555555556,
              "#d8576b"
             ],
             [
              0.6666666666666666,
              "#ed7953"
             ],
             [
              0.7777777777777778,
              "#fb9f3a"
             ],
             [
              0.8888888888888888,
              "#fdca26"
             ],
             [
              1,
              "#f0f921"
             ]
            ],
            "type": "surface"
           }
          ],
          "table": [
           {
            "cells": {
             "fill": {
              "color": "#EBF0F8"
             },
             "line": {
              "color": "white"
             }
            },
            "header": {
             "fill": {
              "color": "#C8D4E3"
             },
             "line": {
              "color": "white"
             }
            },
            "type": "table"
           }
          ]
         },
         "layout": {
          "annotationdefaults": {
           "arrowcolor": "#2a3f5f",
           "arrowhead": 0,
           "arrowwidth": 1
          },
          "autotypenumbers": "strict",
          "coloraxis": {
           "colorbar": {
            "outlinewidth": 0,
            "ticks": ""
           }
          },
          "colorscale": {
           "diverging": [
            [
             0,
             "#8e0152"
            ],
            [
             0.1,
             "#c51b7d"
            ],
            [
             0.2,
             "#de77ae"
            ],
            [
             0.3,
             "#f1b6da"
            ],
            [
             0.4,
             "#fde0ef"
            ],
            [
             0.5,
             "#f7f7f7"
            ],
            [
             0.6,
             "#e6f5d0"
            ],
            [
             0.7,
             "#b8e186"
            ],
            [
             0.8,
             "#7fbc41"
            ],
            [
             0.9,
             "#4d9221"
            ],
            [
             1,
             "#276419"
            ]
           ],
           "sequential": [
            [
             0,
             "#0d0887"
            ],
            [
             0.1111111111111111,
             "#46039f"
            ],
            [
             0.2222222222222222,
             "#7201a8"
            ],
            [
             0.3333333333333333,
             "#9c179e"
            ],
            [
             0.4444444444444444,
             "#bd3786"
            ],
            [
             0.5555555555555556,
             "#d8576b"
            ],
            [
             0.6666666666666666,
             "#ed7953"
            ],
            [
             0.7777777777777778,
             "#fb9f3a"
            ],
            [
             0.8888888888888888,
             "#fdca26"
            ],
            [
             1,
             "#f0f921"
            ]
           ],
           "sequentialminus": [
            [
             0,
             "#0d0887"
            ],
            [
             0.1111111111111111,
             "#46039f"
            ],
            [
             0.2222222222222222,
             "#7201a8"
            ],
            [
             0.3333333333333333,
             "#9c179e"
            ],
            [
             0.4444444444444444,
             "#bd3786"
            ],
            [
             0.5555555555555556,
             "#d8576b"
            ],
            [
             0.6666666666666666,
             "#ed7953"
            ],
            [
             0.7777777777777778,
             "#fb9f3a"
            ],
            [
             0.8888888888888888,
             "#fdca26"
            ],
            [
             1,
             "#f0f921"
            ]
           ]
          },
          "colorway": [
           "#636efa",
           "#EF553B",
           "#00cc96",
           "#ab63fa",
           "#FFA15A",
           "#19d3f3",
           "#FF6692",
           "#B6E880",
           "#FF97FF",
           "#FECB52"
          ],
          "font": {
           "color": "#2a3f5f"
          },
          "geo": {
           "bgcolor": "white",
           "lakecolor": "white",
           "landcolor": "#E5ECF6",
           "showlakes": true,
           "showland": true,
           "subunitcolor": "white"
          },
          "hoverlabel": {
           "align": "left"
          },
          "hovermode": "closest",
          "mapbox": {
           "style": "light"
          },
          "paper_bgcolor": "white",
          "plot_bgcolor": "#E5ECF6",
          "polar": {
           "angularaxis": {
            "gridcolor": "white",
            "linecolor": "white",
            "ticks": ""
           },
           "bgcolor": "#E5ECF6",
           "radialaxis": {
            "gridcolor": "white",
            "linecolor": "white",
            "ticks": ""
           }
          },
          "scene": {
           "xaxis": {
            "backgroundcolor": "#E5ECF6",
            "gridcolor": "white",
            "gridwidth": 2,
            "linecolor": "white",
            "showbackground": true,
            "ticks": "",
            "zerolinecolor": "white"
           },
           "yaxis": {
            "backgroundcolor": "#E5ECF6",
            "gridcolor": "white",
            "gridwidth": 2,
            "linecolor": "white",
            "showbackground": true,
            "ticks": "",
            "zerolinecolor": "white"
           },
           "zaxis": {
            "backgroundcolor": "#E5ECF6",
            "gridcolor": "white",
            "gridwidth": 2,
            "linecolor": "white",
            "showbackground": true,
            "ticks": "",
            "zerolinecolor": "white"
           }
          },
          "shapedefaults": {
           "line": {
            "color": "#2a3f5f"
           }
          },
          "ternary": {
           "aaxis": {
            "gridcolor": "white",
            "linecolor": "white",
            "ticks": ""
           },
           "baxis": {
            "gridcolor": "white",
            "linecolor": "white",
            "ticks": ""
           },
           "bgcolor": "#E5ECF6",
           "caxis": {
            "gridcolor": "white",
            "linecolor": "white",
            "ticks": ""
           }
          },
          "title": {
           "x": 0.05
          },
          "xaxis": {
           "automargin": true,
           "gridcolor": "white",
           "linecolor": "white",
           "ticks": "",
           "title": {
            "standoff": 15
           },
           "zerolinecolor": "white",
           "zerolinewidth": 2
          },
          "yaxis": {
           "automargin": true,
           "gridcolor": "white",
           "linecolor": "white",
           "ticks": "",
           "title": {
            "standoff": 15
           },
           "zerolinecolor": "white",
           "zerolinewidth": 2
          }
         }
        },
        "title": {
         "text": "Simulation Markers",
         "x": 0.5,
         "xanchor": "center"
        },
        "width": 800
       }
      }
     },
     "metadata": {},
     "output_type": "display_data"
    }
   ],
   "source": [
    "wps = [(40, -10, 5),\n",
    "            (15, -10, 5),\n",
    "            (0, -10, 5),\n",
    "            (0, 4, 5),\n",
    "            (40, 20, 5),\n",
    "            (15, 20, 5),\n",
    "            (0, 20, 5)]\n",
    "\n",
    "\n",
    "use_nav_wps=[True,False]\n",
    "\n",
    "\n",
    "#GPS_spoofings={'real':[(15, -10, 5),(15, 20, 5)],'fake':[(15, 10, 5),(15, 0, 5)]}\n",
    "GPS_spoofings={}\n",
    "\n",
    "wp_plans=[\n",
    "    [(40, -10,5),(40, 20,5)],\n",
    "    [(40,  20, 5),(40, -10,5)]\n",
    "    ]\n",
    "\n",
    "n_uavs = len(use_nav_wps)\n",
    "\n",
    "\n",
    "homes=[(*plan[0][:2],0) for plan in wp_plans]\n",
    "targets=[(*plan[-1][:2],0) for plan in wp_plans]\n",
    "\n",
    "markers = {'waypoints': {'pos':wps,'color':'yellow'},\n",
    "           'homes': {'pos':homes,'color':'blue'},\n",
    "           'targets':{'pos':targets,'color':'green'}}\n",
    "\n",
    "\n",
    "if GPS_spoofings:\n",
    "    assert len(GPS_spoofings['real'])==len(GPS_spoofings['fakr']), 'real and fake position must be a one-to-one relation' \n",
    "    markers.update({\n",
    "        'spoofing real':{'pos':GPS_spoofings['real'],'color':'orange'},\n",
    "        'spoofing fake':{'pos':GPS_spoofings['fake'],'color':'red'}})\n",
    "\n",
    "# Interactive widget to rotate the plot\n",
    "\n",
    "plot_3d_interactive(markers,title='Simulation Markers',expand=[0.2,0.2,0.4],ground=-0.05)\n"
   ]
  },
  {
   "cell_type": "markdown",
   "metadata": {},
   "source": [
    "# Get Local positions"
   ]
  },
  {
   "cell_type": "code",
   "execution_count": 6,
   "metadata": {},
   "outputs": [],
   "source": [
    "eps=1\n",
    "headings=n_uavs*[0]\n",
    "offsets=[(*home,heading) for home,heading in zip(homes,headings)]"
   ]
  },
  {
   "cell_type": "code",
   "execution_count": 7,
   "metadata": {},
   "outputs": [],
   "source": [
    "homes_np=np.array(homes)\n",
    "wps_np = np.array(wps)  # Extract keys as a list of tuples\n",
    "\n",
    "\n",
    "local_wps=global2local(wps_np, homes_np,pairwise=False)\n",
    "local_plans=[global2local(np.array(plan), home,pairwise=True) for plan,home in zip(wp_plans,homes_np)]\n",
    "\n",
    "\n",
    "local_GPS_spoofings={key:global2local(np.array(value), homes_np,pairwise=False) for key,value in GPS_spoofings.items()}"
   ]
  },
  {
   "cell_type": "code",
   "execution_count": 8,
   "metadata": {},
   "outputs": [],
   "source": [
    "if simulator == 'QGroundControl':\n",
    "    # lat,long,alt,heading\n",
    "    home_position=(-35.3633245,149.1652241,0,90)\n",
    "    spawns=find_spawns(home_position, offsets)"
   ]
  },
  {
   "cell_type": "markdown",
   "metadata": {},
   "source": [
    "## Waypoint seletion algorithm\n",
    "\n",
    "The path is shown in local coordinates"
   ]
  },
  {
   "cell_type": "code",
   "execution_count": 9,
   "metadata": {},
   "outputs": [
    {
     "name": "stdout",
     "output_type": "stream",
     "text": [
      "uav-0 Best path: [[ 0  0  0]\n",
      " [ 0  0  5]\n",
      " [ 0 30  5]]\n",
      "uav-1 Best path: [[  0   0   0]\n",
      " [  0 -30   5]]\n"
     ]
    }
   ],
   "source": [
    "for i,((_,end),waypoints) in enumerate(zip(local_plans,local_wps)):\n",
    "        local_path=find_path(np.array((0,0,0)),end, waypoints,eps=1)\n",
    "        print(f'uav-{i} Best path: {local_path}') \n"
   ]
  },
  {
   "cell_type": "markdown",
   "metadata": {},
   "source": [
    "## Launch Simulator"
   ]
  },
  {
   "cell_type": "code",
   "execution_count": 10,
   "metadata": {},
   "outputs": [],
   "source": [
    "if simulator == 'QGroundControl':\n",
    "    sim_path = os.path.expanduser(QGC_path)\n",
    "    sim_cmd =[sim_path]\n",
    "elif simulator == 'gazebo':\n",
    "    # Convert to Gazebo format (name, x, y, z, roll, pitch, yaw)\n",
    "    drones = [(east, north, up, 0, 0, heading_to_yaw(heading)) for i, (east, north, up, heading) in enumerate(offsets)]\n",
    "    world_path = os.path.expanduser(gazebo_word_path)\n",
    "    updated_world_path = update_world(drones,markers,world_path)\n",
    "    sim_cmd = [\"gazebo\", \"--verbose\", updated_world_path] \n",
    "\n",
    "simulator_process = subprocess.Popen(\n",
    "                    sim_cmd,\n",
    "                    stdout=subprocess.DEVNULL,  # Suppress standard output\n",
    "                    stderr=subprocess.DEVNULL,  # Suppress error output\n",
    "                    shell=False  # Ensure safety when passing arguments\n",
    "                    )"
   ]
  },
  {
   "cell_type": "markdown",
   "metadata": {},
   "source": [
    "## Create Plan"
   ]
  },
  {
   "cell_type": "code",
   "execution_count": 11,
   "metadata": {},
   "outputs": [],
   "source": [
    "uavs_arg = []\n",
    "for i in range(n_uavs):\n",
    "    uav_arg={'sys_id':i+1,\n",
    "            'waypoints':local_plans[i],\n",
    "             'plan': ['check_pos_est','check_prearm','mode_stabilize','mode_guided','arm','takeoff','fly','land'], #\n",
    "             'wp_margin': 0.5,\n",
    "             'home':homes[i],\n",
    "             'wpnv_speed':1}\n",
    "    uavs_arg.append(uav_arg)"
   ]
  },
  {
   "cell_type": "markdown",
   "metadata": {},
   "source": [
    "# Launch Vehicle"
   ]
  },
  {
   "cell_type": "code",
   "execution_count": 12,
   "metadata": {},
   "outputs": [],
   "source": [
    "vehicle_path = os.path.expanduser(ardupilot_vehicle_path)"
   ]
  },
  {
   "cell_type": "code",
   "execution_count": 13,
   "metadata": {},
   "outputs": [],
   "source": [
    "for i in range(n_uavs):\n",
    "    vehicle_cmd = f\"python3 {vehicle_path} -v ArduCopter -I{i} --sysid {i+1} --no-rebuild\"\n",
    "    if simulator == 'QGroundControl':\n",
    "        spawn=','.join(map(str, spawns[i]))\n",
    "        vehicle_cmd += f\" --custom-location={spawn}\"\n",
    "    elif simulator == 'gazebo':\n",
    "        vehicle_cmd += \" -f gazebo-iris\"\n",
    "    subprocess.Popen([\"gnome-terminal\", \"--\", \"bash\", \"-c\", f\"{vehicle_cmd}; exec bash\"])"
   ]
  },
  {
   "cell_type": "markdown",
   "metadata": {},
   "source": [
    "## Create UavLogic"
   ]
  },
  {
   "cell_type": "code",
   "execution_count": 14,
   "metadata": {},
   "outputs": [
    {
     "name": "stdout",
     "output_type": "stream",
     "text": [
      "WPNAV_SPEED set to 1 m/s (100 cm/s)\n",
      "vehicle 1 created\n",
      "WPNAV_SPEED set to 1 m/s (100 cm/s)\n",
      "vehicle 2 created\n"
     ]
    }
   ],
   "source": [
    "uavs=[]\n",
    "for i,uav_arg in enumerate(uavs_arg):\n",
    "    uav=VehicleLogic(**uav_arg)\n",
    "    uavs.append(uav)"
   ]
  },
  {
   "cell_type": "markdown",
   "metadata": {},
   "source": [
    "## Execute Plan"
   ]
  },
  {
   "cell_type": "code",
   "execution_count": 15,
   "metadata": {},
   "outputs": [],
   "source": [
    "# import numpy as np\n",
    "# from scipy.spatial import cKDTree\n",
    "\n",
    "# # Example positions\n",
    "# positions = np.array([\n",
    "#     [0, 0], [1, 1], [2, 2], [5, 5], [16, 16]\n",
    "# ])\n",
    "\n",
    "# r = 3.0\n",
    "\n",
    "# # Build KD-Tree\n",
    "# tree = cKDTree(positions)\n",
    "\n",
    "# # Query neighbors (excluding self)\n",
    "# filtered_neighbors = tree.query_ball_tree(tree, r)\n",
    "# # Remove self from results\n",
    "# filtered_neighbors = {i: [j for j in nearby if j != i] for i, nearby in enumerate(filtered_neighbors)}\n",
    "\n",
    "# # Print results\n",
    "# for i, nearby in enumerate(filtered_neighbors):\n",
    "#     print(f\"Point {positions[i]} has neighbors: {positions[nearby]}\")\n",
    "\n",
    "# print(filtered_neighbors)"
   ]
  },
  {
   "cell_type": "code",
   "execution_count": 16,
   "metadata": {},
   "outputs": [
    {
     "name": "stdout",
     "output_type": "stream",
     "text": [
      "Nearest neighbor to ID 3 is ID (4, 1.4142135623730951)\n"
     ]
    }
   ],
   "source": [
    "positions_dict = {\n",
    "    0: [0, 0],\n",
    "    1: [1, 1],\n",
    "    2: [2, 2],\n",
    "    3: [5, 5],\n",
    "    4: [6, 6]\n",
    "}\n",
    "\n",
    "def get_nearest_neighbor(target_id,positions_dict):\n",
    "    target_position = np.array(positions_dict[target_id])  # Get the position of the target ID\n",
    "    \n",
    "    min_distance = float('inf')\n",
    "    nearest_id = None\n",
    "\n",
    "    for other_id, position in positions_dict.items():\n",
    "        if other_id == target_id:\n",
    "            continue  # Skip itself\n",
    "        \n",
    "        distance = np.linalg.norm(target_position - np.array(position))  # Compute Euclidean distance\n",
    "        \n",
    "        if distance < min_distance:\n",
    "            min_distance = distance\n",
    "            nearest_id = other_id  # Update nearest ID\n",
    "    \n",
    "    return nearest_id,min_distance\n",
    "\n",
    "# Example usage\n",
    "target_id = 3\n",
    "nearest_id = get_nearest_neighbor(target_id,positions_dict)\n",
    "print(f\"Nearest neighbor to ID {target_id} is ID {nearest_id}\")"
   ]
  },
  {
   "cell_type": "code",
   "execution_count": 17,
   "metadata": {},
   "outputs": [],
   "source": [
    "from pymavlink import mavutil\n"
   ]
  },
  {
   "cell_type": "code",
   "execution_count": 18,
   "metadata": {},
   "outputs": [
    {
     "name": "stdout",
     "output_type": "stream",
     "text": [
      "vehicle 1: action check_pos_est is done\n",
      "vehicle 2: action check_pos_est is done\n",
      "vehicle 1: action check_prearm is done\n",
      "vehicle 2: action check_prearm is done\n",
      "ack?\n",
      "ack end\n",
      "vehicle 1: action mode_stabilize is done\n",
      "ack?\n",
      "ack end\n",
      "vehicle 2: action mode_stabilize is done\n",
      "ack?\n",
      "ack end\n",
      "vehicle 1: action mode_guided is done\n",
      "ack?\n",
      "ack end\n",
      "vehicle 2: action mode_guided is done\n",
      "ack?\n",
      "ack end\n",
      "vehicle 1: action arm is done\n",
      "ack?\n",
      "ack end\n",
      "vehicle 2: action arm is done\n",
      "uav 1 act plan\n",
      "uav 2 act plan\n",
      "uav 1 act plan\n",
      "uav 2 act plan\n",
      "uav 1 act plan\n",
      "uav 2 act plan\n",
      "uav 1 act plan\n",
      "uav 2 act plan\n",
      "uav 1 act plan\n",
      "uav 2 act plan\n",
      "uav 1 act plan\n",
      "uav 2 act plan\n",
      "uav 1 act plan\n",
      "uav 2 act plan\n",
      "uav 1 act plan\n",
      "uav 2 act plan\n",
      "uav 1 act plan\n",
      "uav 2 act plan\n",
      "uav 1 act plan\n",
      "uav 2 act plan\n",
      "uav 1 act plan\n",
      "uav 2 act plan\n",
      "uav 1 act plan\n",
      "uav 2 act plan\n",
      "uav 1 act plan\n",
      "uav 2 act plan\n",
      "uav 1 act plan\n",
      "uav 2 act plan\n",
      "uav 1 act plan\n",
      "uav 2 act plan\n",
      "uav 1 act plan\n",
      "uav 2 act plan\n",
      "uav 1 act plan\n",
      "uav 2 act plan\n",
      "uav 1 act plan\n",
      "uav 2 act plan\n",
      "uav 1 act plan\n",
      "uav 2 act plan\n",
      "uav 1 act plan\n",
      "uav 2 act plan\n",
      "uav 1 act plan\n",
      "uav 2 act plan\n",
      "uav 1 act plan\n",
      "uav 2 act plan\n",
      "uav 1 act plan\n",
      "uav 2 act plan\n",
      "uav 1 act plan\n",
      "uav 2 act plan\n",
      "uav 1 act plan\n",
      "uav 2 act plan\n",
      "uav 1 act plan\n",
      "uav 2 act plan\n",
      "uav 1 act plan\n",
      "uav 2 act plan\n",
      "uav 1 act plan\n",
      "uav 2 act plan\n",
      "uav 1 act plan\n",
      "uav 2 act plan\n",
      "uav 1 act plan\n",
      "uav 2 act plan\n",
      "uav 1 act plan\n",
      "uav 2 act plan\n",
      "uav 1 act plan\n",
      "uav 2 act plan\n",
      "uav 1 act plan\n",
      "uav 2 act plan\n",
      "uav 1 act plan\n",
      "uav 2 act plan\n",
      "uav 1 act plan\n",
      "uav 2 act plan\n",
      "uav 1 act plan\n",
      "uav 2 act plan\n",
      "uav 1 act plan\n",
      "uav 2 act plan\n",
      "uav 1 act plan\n",
      "uav 2 act plan\n",
      "uav 1 act plan\n",
      "uav 2 act plan\n",
      "uav 1 act plan\n",
      "uav 2 act plan\n",
      "uav 1 act plan\n",
      "uav 2 act plan\n",
      "uav 1 act plan\n",
      "uav 2 act plan\n",
      "uav 1 act plan\n",
      "uav 2 act plan\n",
      "fly\n",
      "Moving left at 1 m/s\n",
      "turn left msg will be sent\n",
      "turn left msgsent\n",
      "ack?\n"
     ]
    },
    {
     "ename": "KeyboardInterrupt",
     "evalue": "",
     "output_type": "error",
     "traceback": [
      "\u001b[0;31m---------------------------------------------------------------------------\u001b[0m",
      "\u001b[0;31mKeyboardInterrupt\u001b[0m                         Traceback (most recent call last)",
      "Cell \u001b[0;32mIn[18], line 41\u001b[0m\n\u001b[1;32m     39\u001b[0m     \u001b[38;5;28mprint\u001b[39m(uav\u001b[38;5;241m.\u001b[39mcurrent_action())\n\u001b[1;32m     40\u001b[0m     \u001b[38;5;66;03m#uav.stop_position_control()\u001b[39;00m\n\u001b[0;32m---> 41\u001b[0m     \u001b[43muav\u001b[49m\u001b[38;5;241;43m.\u001b[39;49m\u001b[43mmove_left\u001b[49m\u001b[43m(\u001b[49m\u001b[43mspeed\u001b[49m\u001b[38;5;241;43m=\u001b[39;49m\u001b[38;5;241;43m1\u001b[39;49m\u001b[43m)\u001b[49m\n\u001b[1;32m     42\u001b[0m     \u001b[38;5;28mprint\u001b[39m(\u001b[38;5;124m'\u001b[39m\u001b[38;5;124mmoved left\u001b[39m\u001b[38;5;124m'\u001b[39m)\n\u001b[1;32m     43\u001b[0m \u001b[38;5;28;01melse\u001b[39;00m:\n",
      "File \u001b[0;32m~/uav-cyber-sim/vehicle_logic.py:415\u001b[0m, in \u001b[0;36mVehicleLogic.move_left\u001b[0;34m(self, speed)\u001b[0m\n\u001b[1;32m    413\u001b[0m \u001b[38;5;28mprint\u001b[39m(\u001b[38;5;124m'\u001b[39m\u001b[38;5;124mturn left msgsent\u001b[39m\u001b[38;5;124m'\u001b[39m)\n\u001b[1;32m    414\u001b[0m \u001b[38;5;66;03m# Wait for acknowledgment before continuing\u001b[39;00m\n\u001b[0;32m--> 415\u001b[0m \u001b[38;5;28;01mwhile\u001b[39;00m \u001b[38;5;129;01mnot\u001b[39;00m \u001b[38;5;28;43mself\u001b[39;49m\u001b[38;5;241;43m.\u001b[39;49m\u001b[43mis_acknowledged\u001b[49m\u001b[43m(\u001b[49m\u001b[43m)\u001b[49m:\n\u001b[1;32m    416\u001b[0m     \u001b[38;5;28mprint\u001b[39m(\u001b[38;5;124mf\u001b[39m\u001b[38;5;124m\"\u001b[39m\u001b[38;5;124mWaiting moving left acknowledge\u001b[39m\u001b[38;5;124m\"\u001b[39m)\n\u001b[1;32m    417\u001b[0m     \u001b[38;5;28;01mpass\u001b[39;00m\n",
      "File \u001b[0;32m~/uav-cyber-sim/vehicle_logic.py:213\u001b[0m, in \u001b[0;36mVehicleLogic.is_acknowledged\u001b[0;34m(self)\u001b[0m\n\u001b[1;32m    211\u001b[0m \u001b[38;5;28;01mdef\u001b[39;00m\u001b[38;5;250m \u001b[39m\u001b[38;5;21mis_acknowledged\u001b[39m(\u001b[38;5;28mself\u001b[39m):\n\u001b[1;32m    212\u001b[0m     \u001b[38;5;28mprint\u001b[39m(\u001b[38;5;124m'\u001b[39m\u001b[38;5;124mack?\u001b[39m\u001b[38;5;124m'\u001b[39m)\n\u001b[0;32m--> 213\u001b[0m     msg \u001b[38;5;241m=\u001b[39m \u001b[38;5;28;43mself\u001b[39;49m\u001b[38;5;241;43m.\u001b[39;49m\u001b[43mconn\u001b[49m\u001b[38;5;241;43m.\u001b[39;49m\u001b[43mrecv_match\u001b[49m\u001b[43m(\u001b[49m\u001b[38;5;28;43mtype\u001b[39;49m\u001b[38;5;241;43m=\u001b[39;49m\u001b[38;5;124;43m'\u001b[39;49m\u001b[38;5;124;43mCOMMAND_ACK\u001b[39;49m\u001b[38;5;124;43m'\u001b[39;49m\u001b[43m,\u001b[49m\u001b[43m \u001b[49m\u001b[43mblocking\u001b[49m\u001b[38;5;241;43m=\u001b[39;49m\u001b[38;5;28;43;01mTrue\u001b[39;49;00m\u001b[43m)\u001b[49m\n\u001b[1;32m    214\u001b[0m     \u001b[38;5;28mprint\u001b[39m(\u001b[38;5;124m'\u001b[39m\u001b[38;5;124mack end\u001b[39m\u001b[38;5;124m'\u001b[39m)\n\u001b[1;32m    215\u001b[0m     \u001b[38;5;28;01mreturn\u001b[39;00m msg \u001b[38;5;129;01mand\u001b[39;00m (\u001b[38;5;129;01mnot\u001b[39;00m msg\u001b[38;5;241m.\u001b[39mresult)\n",
      "File \u001b[0;32m~/.local/lib/python3.9/site-packages/pymavlink/mavutil.py:526\u001b[0m, in \u001b[0;36mmavfile.recv_match\u001b[0;34m(self, condition, type, blocking, timeout)\u001b[0m\n\u001b[1;32m    524\u001b[0m     hook(\u001b[38;5;28mself\u001b[39m)\n\u001b[1;32m    525\u001b[0m \u001b[38;5;28;01mif\u001b[39;00m timeout \u001b[38;5;129;01mis\u001b[39;00m \u001b[38;5;28;01mNone\u001b[39;00m:\n\u001b[0;32m--> 526\u001b[0m     \u001b[38;5;28;43mself\u001b[39;49m\u001b[38;5;241;43m.\u001b[39;49m\u001b[43mselect\u001b[49m\u001b[43m(\u001b[49m\u001b[38;5;241;43m0.05\u001b[39;49m\u001b[43m)\u001b[49m\n\u001b[1;32m    527\u001b[0m \u001b[38;5;28;01melse\u001b[39;00m:\n\u001b[1;32m    528\u001b[0m     \u001b[38;5;28mself\u001b[39m\u001b[38;5;241m.\u001b[39mselect(timeout\u001b[38;5;241m/\u001b[39m\u001b[38;5;241m2\u001b[39m)\n",
      "File \u001b[0;32m~/.local/lib/python3.9/site-packages/pymavlink/mavutil.py:339\u001b[0m, in \u001b[0;36mmavfile.select\u001b[0;34m(self, timeout)\u001b[0m\n\u001b[1;32m    337\u001b[0m     \u001b[38;5;28;01mreturn\u001b[39;00m \u001b[38;5;28;01mTrue\u001b[39;00m\n\u001b[1;32m    338\u001b[0m \u001b[38;5;28;01mtry\u001b[39;00m:\n\u001b[0;32m--> 339\u001b[0m     (rin, win, xin) \u001b[38;5;241m=\u001b[39m \u001b[43mselect\u001b[49m\u001b[38;5;241;43m.\u001b[39;49m\u001b[43mselect\u001b[49m\u001b[43m(\u001b[49m\u001b[43m[\u001b[49m\u001b[38;5;28;43mself\u001b[39;49m\u001b[38;5;241;43m.\u001b[39;49m\u001b[43mfd\u001b[49m\u001b[43m]\u001b[49m\u001b[43m,\u001b[49m\u001b[43m \u001b[49m\u001b[43m[\u001b[49m\u001b[43m]\u001b[49m\u001b[43m,\u001b[49m\u001b[43m \u001b[49m\u001b[43m[\u001b[49m\u001b[43m]\u001b[49m\u001b[43m,\u001b[49m\u001b[43m \u001b[49m\u001b[43mtimeout\u001b[49m\u001b[43m)\u001b[49m\n\u001b[1;32m    340\u001b[0m \u001b[38;5;28;01mexcept\u001b[39;00m select\u001b[38;5;241m.\u001b[39merror:\n\u001b[1;32m    341\u001b[0m     \u001b[38;5;28;01mreturn\u001b[39;00m \u001b[38;5;28;01mFalse\u001b[39;00m\n",
      "\u001b[0;31mKeyboardInterrupt\u001b[0m: "
     ]
    }
   ],
   "source": [
    "mission_incomplete = n_uavs*[True]\n",
    "old_dist=n_uavs*[float('inf')]\n",
    "paths=[[] for _ in range(n_uavs)]\n",
    "r=5\n",
    "while any(mission_incomplete):\n",
    "    #get posiiton\n",
    "    global_poss={i: local2global(np.array(uav.get_local_position()),np.array(uav.home),pairwise=True) for i,uav in enumerate(uavs) if uav.current_action() in ['takeoff','fly','land']}\n",
    "    for i,uav in enumerate(uavs):\n",
    "        # Dynamic Plan\n",
    "        if uav.current_action()=='fly' and uav.wp_reached:\n",
    "            # Search algorithm\n",
    "            final_wp = uav.wps[1]\n",
    "            curr_wp  = uav.wps[0]\n",
    "\n",
    "            # GPS spoofing\n",
    "            if GPS_spoofings:\n",
    "                spoof_dists=manhattan_distance(curr_wp,local_GPS_spoofings['real'][i])\n",
    "                spoof_idx=np.argmin(spoof_dists)\n",
    "                if spoof_dists[spoof_idx]<1:\n",
    "                    curr_wp=local_GPS_spoofings['fake'][i][spoof_idx]\n",
    "\n",
    "            # Search algorithm\n",
    "            curr_wp= find_best_waypoint(curr_wp, final_wp, local_wps[i],eps=eps)\n",
    "            \n",
    "            # Modify wp_plan\n",
    "            if np.array_equal(curr_wp, final_wp):\n",
    "                path=np.stack([final_wp],axis=0)\n",
    "            else:\n",
    "                path=np.stack([curr_wp,final_wp],axis=0)\n",
    "\n",
    "            uav.update_waypoints(path)\n",
    "\n",
    "            paths[i].append(curr_wp)\n",
    "\n",
    "        #This is temporal\n",
    "        if i in global_poss.keys():\n",
    "            _,min_distance=get_nearest_neighbor(i,global_poss)\n",
    "            if min_distance < r and min_distance<old_dist[i]:\n",
    "                print(uav.current_action())\n",
    "                #uav.stop_position_control()\n",
    "                uav.move_left(speed=1)\n",
    "                print('moved left')\n",
    "            else:\n",
    "                print(f'uav {uav.sys} act plan')\n",
    "                mission_incomplete[i] = uav.act_plan()\n",
    "            old_dist[i]=min_distance\n",
    "        else:\n",
    "            mission_incomplete[i] = uav.act_plan()\n",
    "for path in paths:\n",
    "    print(path)\n",
    "        "
   ]
  },
  {
   "cell_type": "markdown",
   "metadata": {},
   "source": [
    "## Kill all related process"
   ]
  },
  {
   "cell_type": "code",
   "execution_count": null,
   "metadata": {},
   "outputs": [],
   "source": [
    "# for process in [\"QGroundControl\", \"sim_vehicle.py\", \"arducopter\", \"gazebo\", \"mavproxy\"]:\n",
    "#     os.system(f\"pkill -9 -f {process}\")"
   ]
  },
  {
   "cell_type": "code",
   "execution_count": null,
   "metadata": {},
   "outputs": [],
   "source": []
  }
 ],
 "metadata": {
  "kernelspec": {
   "display_name": "Python 3",
   "language": "python",
   "name": "python3"
  },
  "language_info": {
   "codemirror_mode": {
    "name": "ipython",
    "version": 3
   },
   "file_extension": ".py",
   "mimetype": "text/x-python",
   "name": "python",
   "nbconvert_exporter": "python",
   "pygments_lexer": "ipython3",
   "version": "3.9.21"
  }
 },
 "nbformat": 4,
 "nbformat_minor": 2
}
