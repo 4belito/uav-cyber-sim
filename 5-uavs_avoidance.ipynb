{
 "cells": [
  {
   "cell_type": "markdown",
   "metadata": {},
   "source": [
    "## Uavs Collision\n",
    "\n",
    "This notebook implements a uav logic instead of a plan and decisions are done online following that logic"
   ]
  },
  {
   "cell_type": "code",
   "execution_count": 1,
   "metadata": {},
   "outputs": [],
   "source": [
    "import os\n",
    "import subprocess\n",
    "import numpy as np\n",
    "\n",
    "# Custom modules\n",
    "from vehicle_logic import VehicleLogic\n",
    "from helpers.change_coordinates import heading_to_yaw,find_spawns,global2local\n",
    "from helpers.visualization.gazebo_world import update_world\n",
    "from helpers.visualization.plots import plot_3d_interactive\n",
    "from plan import Plan,State"
   ]
  },
  {
   "cell_type": "markdown",
   "metadata": {},
   "source": [
    "Kill all related process"
   ]
  },
  {
   "cell_type": "code",
   "execution_count": 22,
   "metadata": {},
   "outputs": [],
   "source": [
    "for process in [\"QGroundControl\", \"sim_vehicle.py\", \"arducopter\", \"gazebo\", \"mavproxy\"]:\n",
    "    os.system(f\"pkill -9 -f {process}\")"
   ]
  },
  {
   "cell_type": "markdown",
   "metadata": {},
   "source": [
    "Paths"
   ]
  },
  {
   "cell_type": "code",
   "execution_count": 3,
   "metadata": {},
   "outputs": [],
   "source": [
    "QGC_path='~/QGroundControl.AppImage'\n",
    "gazebo_word_path=\"gazebo_worlds/runway.world\"\n",
    "ardupilot_vehicle_path='~/ardupilot/Tools/autotest/sim_vehicle.py'"
   ]
  },
  {
   "cell_type": "markdown",
   "metadata": {},
   "source": [
    "## Choose Simulator"
   ]
  },
  {
   "cell_type": "code",
   "execution_count": 4,
   "metadata": {},
   "outputs": [],
   "source": [
    "simulator ='gazebo' # 'QGroundControl' #"
   ]
  },
  {
   "cell_type": "markdown",
   "metadata": {},
   "source": [
    "## Create Plans"
   ]
  },
  {
   "cell_type": "code",
   "execution_count": 5,
   "metadata": {},
   "outputs": [],
   "source": [
    "# local_paths=[global2local(path, home,pairwise=True) for path,home in zip(global_paths,homes)]\n",
    "# local_paths"
   ]
  },
  {
   "cell_type": "code",
   "execution_count": 6,
   "metadata": {},
   "outputs": [
    {
     "name": "stdout",
     "output_type": "stream",
     "text": [
      "Plan 'basic plan' created — no connection yet 🧩\n",
      "Action 'Pre-Arm Check' created — no connection yet 🧩\n",
      "Step 'Check disarmed' created — no connection yet 🧩\n",
      "Step 'Check EKF' created — no connection yet 🧩\n",
      "Step 'Check GPS' created — no connection yet 🧩\n",
      "Step 'Check system' created — no connection yet 🧩\n",
      "Action 'Set Navigation Speed' created — no connection yet 🧩\n",
      "Step 'Set speed to 1.00 m/s' created — no connection yet 🧩\n",
      "Action 'Set Mode: GUIDED' created — no connection yet 🧩\n",
      "Step 'Switch to GUIDED' created — no connection yet 🧩\n",
      "Action 'Arm' created — no connection yet 🧩\n",
      "Step 'arm' created — no connection yet 🧩\n",
      "Action 'takeoff' created — no connection yet 🧩\n",
      "Step 'takeoff' created — no connection yet 🧩\n",
      "Action 'fly' created — no connection yet 🧩\n",
      "Step 'go to -> (0, 0, 5)' created — no connection yet 🧩\n",
      "Step 'go to -> (20, 0, 5)' created — no connection yet 🧩\n",
      "Action 'Land' created — no connection yet 🧩\n",
      "Step 'land' created — no connection yet 🧩\n",
      "Plan 'hover' created — no connection yet 🧩\n",
      "Action 'Pre-Arm Check' created — no connection yet 🧩\n",
      "Step 'Check disarmed' created — no connection yet 🧩\n",
      "Step 'Check EKF' created — no connection yet 🧩\n",
      "Step 'Check GPS' created — no connection yet 🧩\n",
      "Step 'Check system' created — no connection yet 🧩\n",
      "Action 'Set Navigation Speed' created — no connection yet 🧩\n",
      "Step 'Set speed to 1.00 m/s' created — no connection yet 🧩\n",
      "Action 'Set Mode: GUIDED' created — no connection yet 🧩\n",
      "Step 'Switch to GUIDED' created — no connection yet 🧩\n",
      "Action 'Arm' created — no connection yet 🧩\n",
      "Step 'arm' created — no connection yet 🧩\n",
      "Action 'takeoff' created — no connection yet 🧩\n",
      "Step 'takeoff' created — no connection yet 🧩\n",
      "Action 'fly' created — no connection yet 🧩\n",
      "Step 'go to -> (0, 0, 5)' created — no connection yet 🧩\n",
      "Step 'go to -> (-8, 0, 5)' created — no connection yet 🧩\n"
     ]
    },
    {
     "data": {
      "application/vnd.plotly.v1+json": {
       "config": {
        "plotlyServerURL": "https://plot.ly"
       },
       "data": [
        {
         "marker": {
          "color": "blue",
          "size": 6
         },
         "mode": "markers",
         "name": "waypoints",
         "type": "scatter3d",
         "x": [
          -10,
          10
         ],
         "y": [
          0,
          0
         ],
         "z": [
          5,
          5
         ]
        }
       ],
       "layout": {
        "height": 600,
        "scene": {
         "xaxis": {
          "range": [
           -14,
           14
          ],
          "title": {
           "text": "x"
          }
         },
         "yaxis": {
          "range": [
           0,
           0
          ],
          "title": {
           "text": "y"
          }
         },
         "zaxis": {
          "range": [
           -0.05,
           5
          ],
          "title": {
           "text": "z"
          }
         }
        },
        "template": {
         "data": {
          "bar": [
           {
            "error_x": {
             "color": "#2a3f5f"
            },
            "error_y": {
             "color": "#2a3f5f"
            },
            "marker": {
             "line": {
              "color": "#E5ECF6",
              "width": 0.5
             },
             "pattern": {
              "fillmode": "overlay",
              "size": 10,
              "solidity": 0.2
             }
            },
            "type": "bar"
           }
          ],
          "barpolar": [
           {
            "marker": {
             "line": {
              "color": "#E5ECF6",
              "width": 0.5
             },
             "pattern": {
              "fillmode": "overlay",
              "size": 10,
              "solidity": 0.2
             }
            },
            "type": "barpolar"
           }
          ],
          "carpet": [
           {
            "aaxis": {
             "endlinecolor": "#2a3f5f",
             "gridcolor": "white",
             "linecolor": "white",
             "minorgridcolor": "white",
             "startlinecolor": "#2a3f5f"
            },
            "baxis": {
             "endlinecolor": "#2a3f5f",
             "gridcolor": "white",
             "linecolor": "white",
             "minorgridcolor": "white",
             "startlinecolor": "#2a3f5f"
            },
            "type": "carpet"
           }
          ],
          "choropleth": [
           {
            "colorbar": {
             "outlinewidth": 0,
             "ticks": ""
            },
            "type": "choropleth"
           }
          ],
          "contour": [
           {
            "colorbar": {
             "outlinewidth": 0,
             "ticks": ""
            },
            "colorscale": [
             [
              0,
              "#0d0887"
             ],
             [
              0.1111111111111111,
              "#46039f"
             ],
             [
              0.2222222222222222,
              "#7201a8"
             ],
             [
              0.3333333333333333,
              "#9c179e"
             ],
             [
              0.4444444444444444,
              "#bd3786"
             ],
             [
              0.5555555555555556,
              "#d8576b"
             ],
             [
              0.6666666666666666,
              "#ed7953"
             ],
             [
              0.7777777777777778,
              "#fb9f3a"
             ],
             [
              0.8888888888888888,
              "#fdca26"
             ],
             [
              1,
              "#f0f921"
             ]
            ],
            "type": "contour"
           }
          ],
          "contourcarpet": [
           {
            "colorbar": {
             "outlinewidth": 0,
             "ticks": ""
            },
            "type": "contourcarpet"
           }
          ],
          "heatmap": [
           {
            "colorbar": {
             "outlinewidth": 0,
             "ticks": ""
            },
            "colorscale": [
             [
              0,
              "#0d0887"
             ],
             [
              0.1111111111111111,
              "#46039f"
             ],
             [
              0.2222222222222222,
              "#7201a8"
             ],
             [
              0.3333333333333333,
              "#9c179e"
             ],
             [
              0.4444444444444444,
              "#bd3786"
             ],
             [
              0.5555555555555556,
              "#d8576b"
             ],
             [
              0.6666666666666666,
              "#ed7953"
             ],
             [
              0.7777777777777778,
              "#fb9f3a"
             ],
             [
              0.8888888888888888,
              "#fdca26"
             ],
             [
              1,
              "#f0f921"
             ]
            ],
            "type": "heatmap"
           }
          ],
          "histogram": [
           {
            "marker": {
             "pattern": {
              "fillmode": "overlay",
              "size": 10,
              "solidity": 0.2
             }
            },
            "type": "histogram"
           }
          ],
          "histogram2d": [
           {
            "colorbar": {
             "outlinewidth": 0,
             "ticks": ""
            },
            "colorscale": [
             [
              0,
              "#0d0887"
             ],
             [
              0.1111111111111111,
              "#46039f"
             ],
             [
              0.2222222222222222,
              "#7201a8"
             ],
             [
              0.3333333333333333,
              "#9c179e"
             ],
             [
              0.4444444444444444,
              "#bd3786"
             ],
             [
              0.5555555555555556,
              "#d8576b"
             ],
             [
              0.6666666666666666,
              "#ed7953"
             ],
             [
              0.7777777777777778,
              "#fb9f3a"
             ],
             [
              0.8888888888888888,
              "#fdca26"
             ],
             [
              1,
              "#f0f921"
             ]
            ],
            "type": "histogram2d"
           }
          ],
          "histogram2dcontour": [
           {
            "colorbar": {
             "outlinewidth": 0,
             "ticks": ""
            },
            "colorscale": [
             [
              0,
              "#0d0887"
             ],
             [
              0.1111111111111111,
              "#46039f"
             ],
             [
              0.2222222222222222,
              "#7201a8"
             ],
             [
              0.3333333333333333,
              "#9c179e"
             ],
             [
              0.4444444444444444,
              "#bd3786"
             ],
             [
              0.5555555555555556,
              "#d8576b"
             ],
             [
              0.6666666666666666,
              "#ed7953"
             ],
             [
              0.7777777777777778,
              "#fb9f3a"
             ],
             [
              0.8888888888888888,
              "#fdca26"
             ],
             [
              1,
              "#f0f921"
             ]
            ],
            "type": "histogram2dcontour"
           }
          ],
          "mesh3d": [
           {
            "colorbar": {
             "outlinewidth": 0,
             "ticks": ""
            },
            "type": "mesh3d"
           }
          ],
          "parcoords": [
           {
            "line": {
             "colorbar": {
              "outlinewidth": 0,
              "ticks": ""
             }
            },
            "type": "parcoords"
           }
          ],
          "pie": [
           {
            "automargin": true,
            "type": "pie"
           }
          ],
          "scatter": [
           {
            "fillpattern": {
             "fillmode": "overlay",
             "size": 10,
             "solidity": 0.2
            },
            "type": "scatter"
           }
          ],
          "scatter3d": [
           {
            "line": {
             "colorbar": {
              "outlinewidth": 0,
              "ticks": ""
             }
            },
            "marker": {
             "colorbar": {
              "outlinewidth": 0,
              "ticks": ""
             }
            },
            "type": "scatter3d"
           }
          ],
          "scattercarpet": [
           {
            "marker": {
             "colorbar": {
              "outlinewidth": 0,
              "ticks": ""
             }
            },
            "type": "scattercarpet"
           }
          ],
          "scattergeo": [
           {
            "marker": {
             "colorbar": {
              "outlinewidth": 0,
              "ticks": ""
             }
            },
            "type": "scattergeo"
           }
          ],
          "scattergl": [
           {
            "marker": {
             "colorbar": {
              "outlinewidth": 0,
              "ticks": ""
             }
            },
            "type": "scattergl"
           }
          ],
          "scattermap": [
           {
            "marker": {
             "colorbar": {
              "outlinewidth": 0,
              "ticks": ""
             }
            },
            "type": "scattermap"
           }
          ],
          "scattermapbox": [
           {
            "marker": {
             "colorbar": {
              "outlinewidth": 0,
              "ticks": ""
             }
            },
            "type": "scattermapbox"
           }
          ],
          "scatterpolar": [
           {
            "marker": {
             "colorbar": {
              "outlinewidth": 0,
              "ticks": ""
             }
            },
            "type": "scatterpolar"
           }
          ],
          "scatterpolargl": [
           {
            "marker": {
             "colorbar": {
              "outlinewidth": 0,
              "ticks": ""
             }
            },
            "type": "scatterpolargl"
           }
          ],
          "scatterternary": [
           {
            "marker": {
             "colorbar": {
              "outlinewidth": 0,
              "ticks": ""
             }
            },
            "type": "scatterternary"
           }
          ],
          "surface": [
           {
            "colorbar": {
             "outlinewidth": 0,
             "ticks": ""
            },
            "colorscale": [
             [
              0,
              "#0d0887"
             ],
             [
              0.1111111111111111,
              "#46039f"
             ],
             [
              0.2222222222222222,
              "#7201a8"
             ],
             [
              0.3333333333333333,
              "#9c179e"
             ],
             [
              0.4444444444444444,
              "#bd3786"
             ],
             [
              0.5555555555555556,
              "#d8576b"
             ],
             [
              0.6666666666666666,
              "#ed7953"
             ],
             [
              0.7777777777777778,
              "#fb9f3a"
             ],
             [
              0.8888888888888888,
              "#fdca26"
             ],
             [
              1,
              "#f0f921"
             ]
            ],
            "type": "surface"
           }
          ],
          "table": [
           {
            "cells": {
             "fill": {
              "color": "#EBF0F8"
             },
             "line": {
              "color": "white"
             }
            },
            "header": {
             "fill": {
              "color": "#C8D4E3"
             },
             "line": {
              "color": "white"
             }
            },
            "type": "table"
           }
          ]
         },
         "layout": {
          "annotationdefaults": {
           "arrowcolor": "#2a3f5f",
           "arrowhead": 0,
           "arrowwidth": 1
          },
          "autotypenumbers": "strict",
          "coloraxis": {
           "colorbar": {
            "outlinewidth": 0,
            "ticks": ""
           }
          },
          "colorscale": {
           "diverging": [
            [
             0,
             "#8e0152"
            ],
            [
             0.1,
             "#c51b7d"
            ],
            [
             0.2,
             "#de77ae"
            ],
            [
             0.3,
             "#f1b6da"
            ],
            [
             0.4,
             "#fde0ef"
            ],
            [
             0.5,
             "#f7f7f7"
            ],
            [
             0.6,
             "#e6f5d0"
            ],
            [
             0.7,
             "#b8e186"
            ],
            [
             0.8,
             "#7fbc41"
            ],
            [
             0.9,
             "#4d9221"
            ],
            [
             1,
             "#276419"
            ]
           ],
           "sequential": [
            [
             0,
             "#0d0887"
            ],
            [
             0.1111111111111111,
             "#46039f"
            ],
            [
             0.2222222222222222,
             "#7201a8"
            ],
            [
             0.3333333333333333,
             "#9c179e"
            ],
            [
             0.4444444444444444,
             "#bd3786"
            ],
            [
             0.5555555555555556,
             "#d8576b"
            ],
            [
             0.6666666666666666,
             "#ed7953"
            ],
            [
             0.7777777777777778,
             "#fb9f3a"
            ],
            [
             0.8888888888888888,
             "#fdca26"
            ],
            [
             1,
             "#f0f921"
            ]
           ],
           "sequentialminus": [
            [
             0,
             "#0d0887"
            ],
            [
             0.1111111111111111,
             "#46039f"
            ],
            [
             0.2222222222222222,
             "#7201a8"
            ],
            [
             0.3333333333333333,
             "#9c179e"
            ],
            [
             0.4444444444444444,
             "#bd3786"
            ],
            [
             0.5555555555555556,
             "#d8576b"
            ],
            [
             0.6666666666666666,
             "#ed7953"
            ],
            [
             0.7777777777777778,
             "#fb9f3a"
            ],
            [
             0.8888888888888888,
             "#fdca26"
            ],
            [
             1,
             "#f0f921"
            ]
           ]
          },
          "colorway": [
           "#636efa",
           "#EF553B",
           "#00cc96",
           "#ab63fa",
           "#FFA15A",
           "#19d3f3",
           "#FF6692",
           "#B6E880",
           "#FF97FF",
           "#FECB52"
          ],
          "font": {
           "color": "#2a3f5f"
          },
          "geo": {
           "bgcolor": "white",
           "lakecolor": "white",
           "landcolor": "#E5ECF6",
           "showlakes": true,
           "showland": true,
           "subunitcolor": "white"
          },
          "hoverlabel": {
           "align": "left"
          },
          "hovermode": "closest",
          "mapbox": {
           "style": "light"
          },
          "paper_bgcolor": "white",
          "plot_bgcolor": "#E5ECF6",
          "polar": {
           "angularaxis": {
            "gridcolor": "white",
            "linecolor": "white",
            "ticks": ""
           },
           "bgcolor": "#E5ECF6",
           "radialaxis": {
            "gridcolor": "white",
            "linecolor": "white",
            "ticks": ""
           }
          },
          "scene": {
           "xaxis": {
            "backgroundcolor": "#E5ECF6",
            "gridcolor": "white",
            "gridwidth": 2,
            "linecolor": "white",
            "showbackground": true,
            "ticks": "",
            "zerolinecolor": "white"
           },
           "yaxis": {
            "backgroundcolor": "#E5ECF6",
            "gridcolor": "white",
            "gridwidth": 2,
            "linecolor": "white",
            "showbackground": true,
            "ticks": "",
            "zerolinecolor": "white"
           },
           "zaxis": {
            "backgroundcolor": "#E5ECF6",
            "gridcolor": "white",
            "gridwidth": 2,
            "linecolor": "white",
            "showbackground": true,
            "ticks": "",
            "zerolinecolor": "white"
           }
          },
          "shapedefaults": {
           "line": {
            "color": "#2a3f5f"
           }
          },
          "ternary": {
           "aaxis": {
            "gridcolor": "white",
            "linecolor": "white",
            "ticks": ""
           },
           "baxis": {
            "gridcolor": "white",
            "linecolor": "white",
            "ticks": ""
           },
           "bgcolor": "#E5ECF6",
           "caxis": {
            "gridcolor": "white",
            "linecolor": "white",
            "ticks": ""
           }
          },
          "title": {
           "x": 0.05
          },
          "xaxis": {
           "automargin": true,
           "gridcolor": "white",
           "linecolor": "white",
           "ticks": "",
           "title": {
            "standoff": 15
           },
           "zerolinecolor": "white",
           "zerolinewidth": 2
          },
          "yaxis": {
           "automargin": true,
           "gridcolor": "white",
           "linecolor": "white",
           "ticks": "",
           "title": {
            "standoff": 15
           },
           "zerolinecolor": "white",
           "zerolinewidth": 2
          }
         }
        },
        "title": {
         "text": "Simulation Markers",
         "x": 0.5,
         "xanchor": "center"
        },
        "width": 800
       }
      }
     },
     "metadata": {},
     "output_type": "display_data"
    }
   ],
   "source": [
    "offsets = [(-10, 0, 0, 0),(10, 0, 0, 0)]#\n",
    "n_uavs = len(offsets)\n",
    "\n",
    "\n",
    "homes=np.array([offset[:3] for offset in offsets])\n",
    "\n",
    "# global_paths=[np.array([[-10, 0, 5],[10, 0, 5]]),\n",
    "#               np.array([[10, 0, 5],[-10, 0, 5]])]\n",
    "\n",
    "global_paths=[np.array([[-10, 0, 5],[10, 0, 5]]),\n",
    "              np.array([[10, 0, 5],[2, 0, 5]])]\n",
    "local_paths=[global2local(path, home,pairwise=True) for path,home in zip(global_paths,homes)]\n",
    "#plans=[Plan.basic(wps=path,alt=5,wp_margin=0.5,navegation_speed=1) for path in local_paths]\n",
    "plan1=Plan.basic(wps=local_paths[0],alt=5,wp_margin=0.5,navegation_speed=1,verbose=2)\n",
    "\n",
    "\n",
    "## Debouging\n",
    "\n",
    "from plan.actions.pre_arm import make_pre_arm\n",
    "from plan.actions.change_mode import make_set_mode\n",
    "from plan.actions.arm import make_arm\n",
    "from plan.actions.take_off import make_takeoff\n",
    "from plan.actions.land import make_land\n",
    "from plan.actions.change_parameter import make_change_nav_speed\n",
    "from plan.actions.navegation import make_path\n",
    "verbose=0\n",
    "navegation_speed=1\n",
    "alt=5\n",
    "wp_margin=0.5\n",
    "\n",
    "\n",
    "plan2=Plan('hover')\n",
    "plan2.add(make_pre_arm(verbose=verbose))\n",
    "if navegation_speed!=5:\n",
    "    plan2.add(make_change_nav_speed(speed=navegation_speed,verbose=verbose))\n",
    "plan2.add(make_set_mode('GUIDED',verbose=verbose))\n",
    "plan2.add(make_arm(verbose=verbose))\n",
    "plan2.add(make_takeoff(altitude=alt,wp_margin=wp_margin,verbose=verbose))\n",
    "plan2.add(make_path(wps=local_paths[1],wp_margin=wp_margin,verbose=verbose))\n",
    "plans=[plan1,plan2]\n",
    "\n",
    "\n",
    "markers = {f'waypoints': {'pos':global_paths[0],'color':'blue'}}\n",
    "\n",
    "\n",
    "plot_3d_interactive(markers,title='Simulation Markers',expand=[0.2,0.2,0.6],ground=-0.05)\n",
    "\n",
    "\n",
    "\n",
    "if simulator == 'QGroundControl':\n",
    "    home_position=(-35.3633245,149.1652241,0,0)\n",
    "    spawns=find_spawns(home_position, offsets)"
   ]
  },
  {
   "cell_type": "markdown",
   "metadata": {},
   "source": [
    "## Waypoint seletion algorithm"
   ]
  },
  {
   "cell_type": "code",
   "execution_count": 7,
   "metadata": {},
   "outputs": [],
   "source": [
    "if simulator == 'QGroundControl':\n",
    "    sim_path = os.path.expanduser(QGC_path)\n",
    "    sim_cmd =[sim_path]\n",
    "elif simulator == 'gazebo':\n",
    "    # Convert to Gazebo format (name, x, y, z, roll, pitch, yaw)\n",
    "    drones = [(east, north, up, 0, 0, heading_to_yaw(heading)) for i, (east, north, up, heading) in enumerate(offsets)]\n",
    "    world_path = os.path.expanduser(gazebo_word_path)\n",
    "    updated_world_path = update_world(drones,markers,world_path)\n",
    "    sim_cmd = [\"gazebo\", \"--verbose\", updated_world_path] \n",
    "\n",
    "simulator_process = subprocess.Popen(\n",
    "                    sim_cmd,\n",
    "                    stdout=subprocess.DEVNULL,  # Suppress standard output\n",
    "                    stderr=subprocess.DEVNULL,  # Suppress error output\n",
    "                    shell=False  # Ensure safety when passing arguments\n",
    "                    )"
   ]
  },
  {
   "cell_type": "markdown",
   "metadata": {},
   "source": [
    "Launch Vehicle"
   ]
  },
  {
   "cell_type": "code",
   "execution_count": 8,
   "metadata": {},
   "outputs": [],
   "source": [
    "vehicle_path = os.path.expanduser(ardupilot_vehicle_path)"
   ]
  },
  {
   "cell_type": "code",
   "execution_count": 9,
   "metadata": {},
   "outputs": [],
   "source": [
    "for i in range(n_uavs):\n",
    "    vehicle_cmd = f\"python3 {vehicle_path} -v ArduCopter -I{i} --sysid {i+1} --no-rebuild\"\n",
    "    if simulator == 'QGroundControl':\n",
    "        spawn=','.join(map(str, spawns[i]))\n",
    "        vehicle_cmd += f\" --custom-location={spawn}\"\n",
    "    elif simulator == 'gazebo':\n",
    "        vehicle_cmd += \" -f gazebo-iris\"\n",
    "    subprocess.Popen([\"gnome-terminal\", \"--\", \"bash\", \"-c\", f\"{vehicle_cmd}; exec bash\"])"
   ]
  },
  {
   "cell_type": "markdown",
   "metadata": {},
   "source": [
    "Create UavLogic"
   ]
  },
  {
   "cell_type": "code",
   "execution_count": 10,
   "metadata": {},
   "outputs": [
    {
     "name": "stdout",
     "output_type": "stream",
     "text": [
      "vehicle 1 created\n",
      "vehicle 2 created\n"
     ]
    }
   ],
   "source": [
    "uavs=[]\n",
    "for i,(plan,home) in enumerate(zip(plans,homes)):\n",
    "    uavs.append(VehicleLogic(sys_id=i+1,\n",
    "                    home=home,\n",
    "                    plan= plan))"
   ]
  },
  {
   "cell_type": "code",
   "execution_count": 11,
   "metadata": {},
   "outputs": [],
   "source": [
    "def get_nearest_neighbor(target_id,positions_dict):\n",
    "    target_position = np.array(positions_dict[target_id])  # Get the position of the target ID\n",
    "    \n",
    "    min_distance = float('inf')\n",
    "    nearest_id = None\n",
    "\n",
    "    for other_id, position in positions_dict.items():\n",
    "        if other_id == target_id:\n",
    "            continue  # Skip itself\n",
    "        \n",
    "        distance = np.linalg.norm(target_position - np.array(position))  # Compute Euclidean distance\n",
    "        \n",
    "        if distance < min_distance:\n",
    "            min_distance = distance\n",
    "            nearest_id = other_id  # Update nearest ID\n",
    "    \n",
    "    return nearest_id,min_distance"
   ]
  },
  {
   "cell_type": "code",
   "execution_count": 12,
   "metadata": {},
   "outputs": [
    {
     "name": "stdout",
     "output_type": "stream",
     "text": [
      "🕓 <Plan 'basic plan'>\n",
      "  🕓 <Action 'Pre-Arm Check'>\n",
      "    🕓 <Step 'Check disarmed'>\n",
      "    🕓 <Step 'Check EKF'>\n",
      "    🕓 <Step 'Check GPS'>\n",
      "    🕓 <Step 'Check system'>\n",
      "  🕓 <Action 'Set Navigation Speed'>\n",
      "    🕓 <Step 'Set speed to 1.00 m/s'>\n",
      "  🕓 <Action 'Set Mode: GUIDED'>\n",
      "    🕓 <Step 'Switch to GUIDED'>\n",
      "  🕓 <Action 'Arm'>\n",
      "    🕓 <Step 'arm'>\n",
      "  🕓 <Action 'takeoff'>\n",
      "    🕓 <Step 'takeoff'>\n",
      "  🕓 <Action 'fly'>\n",
      "    🕓 <Step 'go to -> (0, 0, 5)'>\n",
      "    🕓 <Step 'go to -> (20, 0, 5)'>\n",
      "  🕓 <Action 'Land'>\n",
      "    🕓 <Step 'land'>\n"
     ]
    }
   ],
   "source": [
    "print(uavs[0].plan)"
   ]
  },
  {
   "cell_type": "code",
   "execution_count": 13,
   "metadata": {},
   "outputs": [],
   "source": [
    "def get_avoidance_wp(pos: np.ndarray,\n",
    "                    obj_pos:np.ndarray,\n",
    "                    goal_pos:np.ndarray,\n",
    "                    direction: str = 'left'):\n",
    "    \"\"\"\n",
    "    Sends a velocity command in body frame, orthogonal to the direction of wp.\n",
    "    `direction` can be 'left' or 'right' (relative to wp direction).\n",
    "    \"\"\"\n",
    "\n",
    "    # Normalize wp direction (ignore Z)\n",
    "    obj_dir = (obj_pos -pos)[:2]\n",
    "    goal_dir = (goal_pos -pos)[:2]\n",
    "    if np.dot(obj_dir,goal_dir)<0:\n",
    "        return goal_pos\n",
    "    obj_dir = obj_dir / np.linalg.norm(obj_dir)\n",
    "    # Get orthogonal direction\n",
    "    if direction == 'left':\n",
    "        ortho = np.array([-obj_dir[1], obj_dir[0],0])\n",
    "    elif direction == 'right':\n",
    "        ortho = np.array([obj_dir[1], -obj_dir[0],0])\n",
    "    else:\n",
    "        raise ValueError(\"Direction must be 'left' or 'right'\")\n",
    "\n",
    "    # Scale to desired speed\n",
    "    return pos+ortho\n",
    "   "
   ]
  },
  {
   "cell_type": "code",
   "execution_count": 14,
   "metadata": {},
   "outputs": [
    {
     "data": {
      "text/plain": [
       "'NOT_STARTED'"
      ]
     },
     "execution_count": 14,
     "metadata": {},
     "output_type": "execute_result"
    }
   ],
   "source": [
    "uavs[0].current_step().state"
   ]
  },
  {
   "cell_type": "code",
   "execution_count": 15,
   "metadata": {},
   "outputs": [
    {
     "data": {
      "text/plain": [
       "🕓 <Plan 'basic plan'>\n",
       "  🕓 <Action 'Pre-Arm Check'>\n",
       "    🕓 <Step 'Check disarmed'>\n",
       "    🕓 <Step 'Check EKF'>\n",
       "    🕓 <Step 'Check GPS'>\n",
       "    🕓 <Step 'Check system'>\n",
       "  🕓 <Action 'Set Navigation Speed'>\n",
       "    🕓 <Step 'Set speed to 1.00 m/s'>\n",
       "  🕓 <Action 'Set Mode: GUIDED'>\n",
       "    🕓 <Step 'Switch to GUIDED'>\n",
       "  🕓 <Action 'Arm'>\n",
       "    🕓 <Step 'arm'>\n",
       "  🕓 <Action 'takeoff'>\n",
       "    🕓 <Step 'takeoff'>\n",
       "  🕓 <Action 'fly'>\n",
       "    🕓 <Step 'go to -> (0, 0, 5)'>\n",
       "    🕓 <Step 'go to -> (20, 0, 5)'>\n",
       "  🕓 <Action 'Land'>\n",
       "    🕓 <Step 'land'>"
      ]
     },
     "execution_count": 15,
     "metadata": {},
     "output_type": "execute_result"
    }
   ],
   "source": [
    "uavs[0].plan"
   ]
  },
  {
   "cell_type": "markdown",
   "metadata": {},
   "source": [
    "## Execute Plan"
   ]
  },
  {
   "cell_type": "code",
   "execution_count": 16,
   "metadata": {},
   "outputs": [
    {
     "name": "stdout",
     "output_type": "stream",
     "text": [
      "Vehicle 1: Plan 'basic plan' is now connected ✅🔗\n",
      "Vehicle 1: ▶️ Starting Plan: basic plan\n",
      "Vehicle 2: Plan 'hover' is now connected ✅🔗\n",
      "Vehicle 2: ▶️ Starting Plan: hover\n",
      "Vehicle 1: Action 'Pre-Arm Check' is now connected ✅🔗\n",
      "Vehicle 1: ▶️ Starting Action: Pre-Arm Check\n",
      "Vehicle 2: Action 'Pre-Arm Check' is now connected ✅🔗\n",
      "Vehicle 2: ▶️ Starting Action: Pre-Arm Check\n",
      "Vehicle 1: Step 'Check disarmed' is now connected ✅🔗\n",
      "Vehicle 1: ▶️ Starting Step: Check disarmed\n",
      "Vehicle 2: Step 'Check disarmed' is now connected ✅🔗\n",
      "Vehicle 2: ▶️ Starting Step: Check disarmed\n",
      "Vehicle 1: ✅ Step: Check disarmed is done\n",
      "Vehicle 2: ✅ Step: Check disarmed is done\n",
      "Vehicle 1: Step 'Check EKF' is now connected ✅🔗\n",
      "Vehicle 1: ▶️ Starting Step: Check EKF\n",
      "Vehicle 2: Step 'Check EKF' is now connected ✅🔗\n",
      "Vehicle 2: ▶️ Starting Step: Check EKF\n",
      "Vehicle 1: EKF is not ready — missing: POS_HORIZ_ABS\n",
      "Vehicle 1: EKF is not ready — missing: POS_HORIZ_ABS\n",
      "Vehicle 1: EKF is not ready — missing: POS_HORIZ_ABS\n",
      "Vehicle 1: EKF is not ready — missing: POS_HORIZ_ABS\n",
      "Vehicle 1: EKF is not ready — missing: POS_HORIZ_ABS\n",
      "Vehicle 1: EKF is not ready — missing: POS_HORIZ_ABS\n",
      "Vehicle 1: EKF is not ready — missing: POS_HORIZ_ABS\n",
      "Vehicle 1: EKF is not ready — missing: POS_HORIZ_ABS\n",
      "Vehicle 1: EKF is not ready — missing: POS_HORIZ_ABS\n",
      "Vehicle 1: EKF is not ready — missing: POS_HORIZ_ABS\n",
      "Vehicle 1: EKF is not ready — missing: POS_HORIZ_ABS\n",
      "Vehicle 1: EKF is not ready — missing: POS_HORIZ_ABS\n",
      "Vehicle 1: EKF is not ready — missing: POS_HORIZ_ABS\n",
      "Vehicle 1: EKF is not ready — missing: POS_HORIZ_ABS\n",
      "Vehicle 1: EKF is not ready — missing: POS_HORIZ_ABS\n",
      "Vehicle 1: EKF is not ready — missing: POS_HORIZ_ABS\n",
      "Vehicle 1: EKF is not ready — missing: POS_HORIZ_ABS\n",
      "Vehicle 1: EKF is not ready — missing: POS_HORIZ_ABS\n",
      "Vehicle 1: EKF is not ready — missing: POS_HORIZ_ABS\n",
      "Vehicle 1: EKF is not ready — missing: POS_HORIZ_ABS\n",
      "Vehicle 1: EKF is not ready — missing: POS_HORIZ_ABS\n",
      "Vehicle 1: EKF is not ready — missing: POS_HORIZ_ABS\n",
      "Vehicle 1: EKF is not ready — missing: POS_HORIZ_ABS\n",
      "Vehicle 1: EKF is not ready — missing: POS_HORIZ_ABS\n",
      "Vehicle 1: EKF is not ready — missing: POS_HORIZ_ABS\n",
      "Vehicle 1: EKF is not ready — missing: POS_HORIZ_ABS\n",
      "Vehicle 1: EKF is not ready — missing: POS_HORIZ_ABS\n",
      "Vehicle 1: EKF is not ready — missing: POS_HORIZ_ABS\n",
      "Vehicle 1: EKF is not ready — missing: POS_HORIZ_ABS\n",
      "Vehicle 1: EKF is not ready — missing: POS_HORIZ_ABS\n",
      "Vehicle 1: EKF is not ready — missing: POS_HORIZ_ABS\n",
      "Vehicle 1: EKF is not ready — missing: POS_HORIZ_ABS\n",
      "Vehicle 1: EKF is not ready — missing: POS_HORIZ_ABS\n",
      "Vehicle 1: EKF is not ready — missing: POS_HORIZ_ABS\n",
      "Vehicle 1: EKF is not ready — missing: POS_HORIZ_ABS\n",
      "Vehicle 1: EKF is not ready — missing: POS_HORIZ_ABS\n",
      "Vehicle 1: EKF is not ready — missing: POS_HORIZ_ABS\n",
      "Vehicle 1: EKF is not ready — missing: POS_HORIZ_ABS\n",
      "Vehicle 1: EKF is not ready — missing: POS_HORIZ_ABS\n",
      "Vehicle 1: EKF is not ready — missing: POS_HORIZ_ABS\n",
      "Vehicle 1: EKF is not ready — missing: POS_HORIZ_ABS\n",
      "Vehicle 1: EKF is not ready — missing: POS_HORIZ_ABS\n",
      "Vehicle 1: EKF is not ready — missing: POS_HORIZ_ABS\n",
      "Vehicle 1: EKF is not ready — missing: POS_HORIZ_ABS\n",
      "Vehicle 1: EKF is not ready — missing: POS_HORIZ_ABS\n",
      "Vehicle 1: EKF is not ready — missing: POS_HORIZ_ABS\n",
      "Vehicle 1: EKF is not ready — missing: POS_HORIZ_ABS\n",
      "Vehicle 1: EKF is not ready — missing: POS_HORIZ_ABS\n",
      "Vehicle 1: EKF is not ready — missing: POS_HORIZ_ABS\n",
      "Vehicle 1: EKF is not ready — missing: POS_HORIZ_ABS\n",
      "Vehicle 1: EKF is not ready — missing: POS_HORIZ_ABS\n",
      "Vehicle 1: EKF is not ready — missing: POS_HORIZ_ABS\n",
      "Vehicle 1: EKF is not ready — missing: POS_HORIZ_ABS\n",
      "Vehicle 1: EKF is not ready — missing: POS_HORIZ_ABS\n",
      "Vehicle 1: EKF is not ready — missing: POS_HORIZ_ABS\n",
      "Vehicle 1: EKF is not ready — missing: POS_HORIZ_ABS\n",
      "Vehicle 1: EKF is not ready — missing: POS_HORIZ_ABS\n",
      "Vehicle 1: EKF is not ready — missing: POS_HORIZ_ABS\n",
      "Vehicle 1: EKF is not ready — missing: POS_HORIZ_ABS\n",
      "Vehicle 1: EKF is not ready — missing: POS_HORIZ_ABS\n",
      "Vehicle 1: EKF is not ready — missing: POS_HORIZ_ABS\n",
      "Vehicle 1: EKF is not ready — missing: POS_HORIZ_ABS\n",
      "Vehicle 1: EKF is not ready — missing: POS_HORIZ_ABS\n",
      "Vehicle 1: EKF is not ready — missing: POS_HORIZ_ABS\n",
      "Vehicle 1: EKF is not ready — missing: POS_HORIZ_ABS\n",
      "Vehicle 1: EKF is not ready — missing: POS_HORIZ_ABS\n",
      "Vehicle 1: EKF is not ready — missing: POS_HORIZ_ABS\n",
      "Vehicle 1: EKF is not ready — missing: POS_HORIZ_ABS\n",
      "Vehicle 1: EKF is not ready — missing: POS_HORIZ_ABS\n",
      "Vehicle 1: EKF is not ready — missing: POS_HORIZ_ABS\n",
      "Vehicle 1: EKF is not ready — missing: POS_HORIZ_ABS\n",
      "Vehicle 1: EKF is not ready — missing: POS_HORIZ_ABS\n",
      "Vehicle 1: EKF is not ready — missing: POS_HORIZ_ABS\n",
      "Vehicle 1: EKF is not ready — missing: POS_HORIZ_ABS\n",
      "Vehicle 1: EKF is not ready — missing: POS_HORIZ_ABS\n",
      "Vehicle 1: EKF is not ready — missing: POS_HORIZ_ABS\n",
      "Vehicle 1: EKF is not ready — missing: POS_HORIZ_ABS\n",
      "Vehicle 1: EKF is not ready — missing: POS_HORIZ_ABS\n",
      "Vehicle 1: EKF is not ready — missing: POS_HORIZ_ABS\n",
      "Vehicle 1: EKF is not ready — missing: POS_HORIZ_ABS\n",
      "Vehicle 1: EKF is not ready — missing: POS_HORIZ_ABS\n",
      "Vehicle 1: EKF is not ready — missing: POS_HORIZ_ABS\n",
      "Vehicle 1: EKF is not ready — missing: POS_HORIZ_ABS\n",
      "Vehicle 1: EKF is not ready — missing: POS_HORIZ_ABS\n",
      "Vehicle 1: EKF is not ready — missing: POS_HORIZ_ABS\n",
      "Vehicle 1: EKF is not ready — missing: POS_HORIZ_ABS\n",
      "Vehicle 1: EKF is not ready — missing: POS_HORIZ_ABS\n",
      "Vehicle 1: EKF is not ready — missing: POS_HORIZ_ABS\n",
      "Vehicle 1: EKF is not ready — missing: POS_HORIZ_ABS\n",
      "Vehicle 1: EKF is not ready — missing: POS_HORIZ_ABS\n",
      "Vehicle 1: EKF is not ready — missing: POS_HORIZ_ABS\n",
      "Vehicle 1: EKF is not ready — missing: POS_HORIZ_ABS\n",
      "Vehicle 1: EKF is not ready — missing: POS_HORIZ_ABS\n",
      "Vehicle 1: EKF is not ready — missing: POS_HORIZ_ABS\n",
      "Vehicle 1: EKF is not ready — missing: POS_HORIZ_ABS\n",
      "Vehicle 1: EKF is not ready — missing: POS_HORIZ_ABS\n",
      "Vehicle 1: EKF is not ready — missing: POS_HORIZ_ABS\n",
      "Vehicle 1: EKF is not ready — missing: POS_HORIZ_ABS\n",
      "Vehicle 1: EKF is not ready — missing: POS_HORIZ_ABS\n",
      "Vehicle 1: EKF is not ready — missing: POS_HORIZ_ABS\n",
      "Vehicle 1: EKF is not ready — missing: POS_HORIZ_ABS\n",
      "Vehicle 1: EKF is not ready — missing: POS_HORIZ_ABS\n",
      "Vehicle 1: EKF is not ready — missing: POS_HORIZ_ABS\n",
      "Vehicle 1: EKF is not ready — missing: POS_HORIZ_ABS\n",
      "Vehicle 1: EKF is not ready — missing: POS_HORIZ_ABS\n",
      "Vehicle 1: EKF is not ready — missing: POS_HORIZ_ABS\n",
      "Vehicle 2: ✅ Step: Check EKF is done\n",
      "Vehicle 2: Step 'Check GPS' is now connected ✅🔗\n",
      "Vehicle 2: ▶️ Starting Step: Check GPS\n",
      "Vehicle 1: ✅ Step: Check EKF is done\n",
      "Vehicle 1: Step 'Check GPS' is now connected ✅🔗\n",
      "Vehicle 1: ▶️ Starting Step: Check GPS\n",
      "Vehicle 2: ✅ Step: Check GPS is done\n",
      "Vehicle 2: Step 'Check system' is now connected ✅🔗\n",
      "Vehicle 2: ▶️ Starting Step: Check system\n",
      "Vehicle 1: ✅ Step: Check GPS is done\n",
      "Vehicle 1: Step 'Check system' is now connected ✅🔗\n",
      "Vehicle 1: ▶️ Starting Step: Check system\n",
      "Vehicle 2: ✅ Step: Check system is done\n",
      "Vehicle 2: ✅ Action: Pre-Arm Check is done\n",
      "Vehicle 2: Action 'Set Navigation Speed' is now connected ✅🔗\n",
      "Vehicle 2: ▶️ Starting Action: Set Navigation Speed\n",
      "Vehicle 2: Step 'Set speed to 1.00 m/s' is now connected ✅🔗\n",
      "Vehicle 2: ▶️ Starting Step: Set speed to 1.00 m/s\n",
      "Vehicle 2: ✅ Step: Set speed to 1.00 m/s is done\n",
      "Vehicle 2: ✅ Action: Set Navigation Speed is done\n",
      "Vehicle 2: Action 'Set Mode: GUIDED' is now connected ✅🔗\n",
      "Vehicle 2: ▶️ Starting Action: Set Mode: GUIDED\n",
      "Vehicle 2: Step 'Switch to GUIDED' is now connected ✅🔗\n",
      "Vehicle 2: ▶️ Starting Step: Switch to GUIDED\n",
      "Vehicle 2: ✅ Step: Switch to GUIDED is done\n",
      "Vehicle 2: ✅ Action: Set Mode: GUIDED is done\n",
      "Vehicle 2: Action 'Arm' is now connected ✅🔗\n",
      "Vehicle 2: ▶️ Starting Action: Arm\n",
      "Vehicle 2: Step 'arm' is now connected ✅🔗\n",
      "Vehicle 2: ▶️ Starting Step: arm\n",
      "Vehicle 2: ✅ Step: arm is done\n",
      "Vehicle 2: ✅ Action: Arm is done\n",
      "Vehicle 2: Action 'takeoff' is now connected ✅🔗\n",
      "Vehicle 2: ▶️ Starting Action: takeoff\n",
      "Vehicle 2: Step 'takeoff' is now connected ✅🔗\n",
      "Vehicle 2: ▶️ Starting Step: takeoff\n",
      "Vehicle 1: ✅ Step: Check system is done\n",
      "Vehicle 1: ✅ Action: Pre-Arm Check is done\n",
      "Vehicle 1: Action 'Set Navigation Speed' is now connected ✅🔗\n",
      "Vehicle 1: ▶️ Starting Action: Set Navigation Speed\n",
      "Vehicle 1: Step 'Set speed to 1.00 m/s' is now connected ✅🔗\n",
      "Vehicle 1: 📤 Sending WPNAV_SPEED = 100 cm/s (1.00 m/s)\n",
      "Vehicle 1: ▶️ Starting Step: Set speed to 1.00 m/s\n",
      "Vehicle 1: ✅ Parameter 'WPNAV_SPEED' confirmed at 100 cm/s (1.00 m/s)\n",
      "Vehicle 1: ✅ Step: Set speed to 1.00 m/s is done\n",
      "Vehicle 1: ✅ Action: Set Navigation Speed is done\n",
      "Vehicle 1: Action 'Set Mode: GUIDED' is now connected ✅🔗\n",
      "Vehicle 1: ▶️ Starting Action: Set Mode: GUIDED\n",
      "Vehicle 1: Step 'Switch to GUIDED' is now connected ✅🔗\n",
      "Vehicle 1: ▶️ Starting Step: Switch to GUIDED\n",
      "Vehicle 1: ✅ Step: Switch to GUIDED is done\n",
      "Vehicle 1: ✅ Action: Set Mode: GUIDED is done\n",
      "Vehicle 1: Action 'Arm' is now connected ✅🔗\n",
      "Vehicle 1: ▶️ Starting Action: Arm\n",
      "Vehicle 1: Step 'arm' is now connected ✅🔗\n",
      "Vehicle 1: 🛰️ Sending ARM command...\n",
      "Vehicle 1: ▶️ Starting Step: arm\n",
      "Vehicle 1: ✅ Step: arm is done\n",
      "Vehicle 1: ✅ Action: Arm is done\n",
      "Vehicle 1: Action 'takeoff' is now connected ✅🔗\n",
      "Vehicle 1: ▶️ Starting Action: takeoff\n",
      "Vehicle 1: Step 'takeoff' is now connected ✅🔗\n",
      "Vehicle 1: ▶️ Starting Step: takeoff\n",
      "Vehicle 2: ✅ Step: takeoff is done\n",
      "Vehicle 2: ✅ Action: takeoff is done\n",
      "Vehicle 2: Action 'fly' is now connected ✅🔗\n",
      "Vehicle 2: ▶️ Starting Action: fly\n",
      "Vehicle 2: Step 'go to -> (0, 0, 5)' is now connected ✅🔗\n",
      "message to go to (0, 0, -5) sent\n",
      "Vehicle 2: ▶️ Starting Step: go to -> (0, 0, 5)\n",
      "Vehicle 2: ✅ Step: go to -> (0, 0, 5) is done\n",
      "Vehicle 2: Step 'go to -> (-8, 0, 5)' is now connected ✅🔗\n",
      "message to go to (-8, 0, -5) sent\n",
      "Vehicle 2: ▶️ Starting Step: go to -> (-8, 0, 5)\n",
      "Vehicle 1: ✅ Step: takeoff is done\n",
      "Vehicle 1: ✅ Action: takeoff is done\n",
      "Vehicle 1: Action 'fly' is now connected ✅🔗\n",
      "Vehicle 1: ▶️ Starting Action: fly\n",
      "Vehicle 1: Step 'go to -> (0, 0, 5)' is now connected ✅🔗\n",
      "message to go to (0, 0, -5) sent\n",
      "Vehicle 1: ▶️ Starting Step: go to -> (0, 0, 5)\n",
      "Vehicle 1:📍 Distance to target: 0.03 m\n",
      "Vehicle 1: ✅ Step: go to -> (0, 0, 5) is done\n",
      "Vehicle 1: Step 'go to -> (20, 0, 5)' is now connected ✅🔗\n",
      "message to go to (20, 0, -5) sent\n",
      "Vehicle 1: ▶️ Starting Step: go to -> (20, 0, 5)\n",
      "Vehicle 1:📍 Distance to target: 19.81 m\n",
      "Vehicle 1:📍 Distance to target: 19.40 m\n",
      "Vehicle 1:📍 Distance to target: 19.15 m\n",
      "Vehicle 1:📍 Distance to target: 18.39 m\n",
      "Vehicle 1:📍 Distance to target: 17.15 m\n",
      "Vehicle 1:📍 Distance to target: 15.92 m\n",
      "Vehicle 1:📍 Distance to target: 15.42 m\n",
      "Vehicle 1:📍 Distance to target: 14.92 m\n",
      "Vehicle 1:📍 Distance to target: 14.67 m\n",
      "Vehicle 1:📍 Distance to target: 14.42 m\n",
      "Vehicle 1:📍 Distance to target: 14.17 m\n",
      "Vehicle 1:📍 Distance to target: 13.92 m\n",
      "Vehicle 1:📍 Distance to target: 13.67 m\n",
      "Vehicle 1:📍 Distance to target: 13.42 m\n",
      "Vehicle 2: ✅ Step: go to -> (-8, 0, 5) is done\n",
      "Vehicle 2: ✅ Action: fly is done\n",
      "Vehicle 2: ✅ Plan: hover is done\n",
      "Vehicle 1:📍 Distance to target: 12.92 m\n",
      "Vehicle 1:📍 Distance to target: 12.67 m\n",
      "Vehicle 1:📍 Distance to target: 12.43 m\n",
      "Vehicle 1:📍 Distance to target: 11.68 m\n",
      "Vehicle 1:📍 Distance to target: 11.43 m\n",
      "waypoint [20  0  5]\n",
      "[8.82835064 1.01134554 5.00196838]\n",
      "Step 'go to -> (8.828350643537217, 1.0113455406346858, 5.0019683837890625)' created — no connection yet 🧩\n",
      "Vehicle 1: Step 'go to -> (8.828350643537217, 1.0113455406346858, 5.0019683837890625)' is now connected ✅🔗\n",
      "message to go to (8.828350643537217, -1.0113455406346858, -5.0019683837890625) sent\n",
      "Vehicle 1: ▶️ Starting Step: go to -> (8.828350643537217, 1.0113455406346858, 5.0019683837890625)\n",
      "Vehicle 1:📍 Distance to target: 1.03 m\n",
      "Vehicle 1:📍 Distance to target: 1.07 m\n",
      "Vehicle 1:📍 Distance to target: 1.04 m\n",
      "Vehicle 1:📍 Distance to target: 0.74 m\n",
      "Vehicle 1:📍 Distance to target: 0.55 m\n",
      "Vehicle 1:📍 Distance to target: 0.37 m\n",
      "Vehicle 1: ✅ Step: go to -> (8.828350643537217, 1.0113455406346858, 5.0019683837890625) is done\n",
      "False\n",
      "waypoint [20  0  5]\n",
      "[9.46987807 1.2867935  5.00637531]\n",
      "Step 'go to -> (9.469878066032162, 1.2867934973220168, 5.006375312805176)' created — no connection yet 🧩\n",
      "Vehicle 1: Step 'go to -> (9.469878066032162, 1.2867934973220168, 5.006375312805176)' is now connected ✅🔗\n",
      "message to go to (9.469878066032162, -1.2867934973220168, -5.006375312805176) sent\n",
      "Vehicle 1: ▶️ Starting Step: go to -> (9.469878066032162, 1.2867934973220168, 5.006375312805176)\n",
      "Vehicle 1:📍 Distance to target: 0.62 m\n",
      "Vehicle 1:📍 Distance to target: 0.60 m\n",
      "Vehicle 1:📍 Distance to target: 0.53 m\n",
      "Vehicle 1:📍 Distance to target: 0.33 m\n",
      "Vehicle 1: ✅ Step: go to -> (9.469878066032162, 1.2867934973220168, 5.006375312805176) is done\n",
      "False\n",
      "waypoint [20  0  5]\n",
      "[9.31494263 2.12120224 5.01437187]\n",
      "Step 'go to -> (9.314942631993926, 2.1212022361407974, 5.014371871948242)' created — no connection yet 🧩\n",
      "Vehicle 1: Step 'go to -> (9.314942631993926, 2.1212022361407974, 5.014371871948242)' is now connected ✅🔗\n",
      "message to go to (9.314942631993926, -2.1212022361407974, -5.014371871948242) sent\n",
      "Vehicle 1: ▶️ Starting Step: go to -> (9.314942631993926, 2.1212022361407974, 5.014371871948242)\n",
      "Vehicle 1:📍 Distance to target: 0.78 m\n",
      "Vehicle 1:📍 Distance to target: 0.51 m\n",
      "Vehicle 1:📍 Distance to target: 0.38 m\n",
      "Vehicle 1: ✅ Step: go to -> (9.314942631993926, 2.1212022361407974, 5.014371871948242) is done\n",
      "False\n",
      "waypoint [20  0  5]\n",
      "[9.73356014 2.40858501 5.0148325 ]\n",
      "Step 'go to -> (9.73356013662661, 2.4085850147548475, 5.014832496643066)' created — no connection yet 🧩\n",
      "Vehicle 1: Step 'go to -> (9.73356013662661, 2.4085850147548475, 5.014832496643066)' is now connected ✅🔗\n",
      "message to go to (9.73356013662661, -2.4085850147548475, -5.014832496643066) sent\n",
      "Vehicle 1: ▶️ Starting Step: go to -> (9.73356013662661, 2.4085850147548475, 5.014832496643066)\n",
      "Vehicle 1:📍 Distance to target: 0.60 m\n",
      "Vehicle 1:📍 Distance to target: 0.49 m\n",
      "Vehicle 1: ✅ Step: go to -> (9.73356013662661, 2.4085850147548475, 5.014832496643066) is done\n",
      "False\n",
      "waypoint [20  0  5]\n",
      "[9.73356014 2.40858501 5.0148325 ]\n",
      "Step 'go to -> (9.73356013662661, 2.4085850147548475, 5.014832496643066)' created — no connection yet 🧩\n",
      "Vehicle 1: Step 'go to -> (9.73356013662661, 2.4085850147548475, 5.014832496643066)' is now connected ✅🔗\n",
      "message to go to (9.73356013662661, -2.4085850147548475, -5.014832496643066) sent\n",
      "Vehicle 1: ▶️ Starting Step: go to -> (9.73356013662661, 2.4085850147548475, 5.014832496643066)\n",
      "Vehicle 1:📍 Distance to target: 0.18 m\n",
      "Vehicle 1: ✅ Step: go to -> (9.73356013662661, 2.4085850147548475, 5.014832496643066) is done\n",
      "False\n",
      "waypoint [20  0  5]\n",
      "[10.0310876   3.09719032  5.02027845]\n",
      "Step 'go to -> (10.031087602278195, 3.0971903174057744, 5.020278453826904)' created — no connection yet 🧩\n",
      "Vehicle 1: Step 'go to -> (10.031087602278195, 3.0971903174057744, 5.020278453826904)' is now connected ✅🔗\n",
      "message to go to (10.031087602278195, -3.0971903174057744, -5.020278453826904) sent\n",
      "Vehicle 1: ▶️ Starting Step: go to -> (10.031087602278195, 3.0971903174057744, 5.020278453826904)\n",
      "Vehicle 1:📍 Distance to target: 0.83 m\n",
      "Vehicle 1:📍 Distance to target: 0.74 m\n",
      "Vehicle 1:📍 Distance to target: 0.60 m\n",
      "Vehicle 1:📍 Distance to target: 0.45 m\n",
      "Vehicle 1: ✅ Step: go to -> (10.031087602278195, 3.0971903174057744, 5.020278453826904) is done\n",
      "False\n",
      "waypoint [20  0  5]\n",
      "[10.0310876   3.09719032  5.02027845]\n",
      "Step 'go to -> (10.031087602278195, 3.0971903174057744, 5.020278453826904)' created — no connection yet 🧩\n",
      "Vehicle 1: Step 'go to -> (10.031087602278195, 3.0971903174057744, 5.020278453826904)' is now connected ✅🔗\n",
      "message to go to (10.031087602278195, -3.0971903174057744, -5.020278453826904) sent\n",
      "Vehicle 1: ▶️ Starting Step: go to -> (10.031087602278195, 3.0971903174057744, 5.020278453826904)\n",
      "Vehicle 1:📍 Distance to target: 0.31 m\n",
      "Vehicle 1: ✅ Step: go to -> (10.031087602278195, 3.0971903174057744, 5.020278453826904) is done\n",
      "False\n",
      "waypoint [20  0  5]\n",
      "[10.0310876   3.09719032  5.02027845]\n",
      "Step 'go to -> (10.031087602278195, 3.0971903174057744, 5.020278453826904)' created — no connection yet 🧩\n",
      "Vehicle 1: Step 'go to -> (10.031087602278195, 3.0971903174057744, 5.020278453826904)' is now connected ✅🔗\n",
      "message to go to (10.031087602278195, -3.0971903174057744, -5.020278453826904) sent\n",
      "Vehicle 1: ▶️ Starting Step: go to -> (10.031087602278195, 3.0971903174057744, 5.020278453826904)\n",
      "Vehicle 1:📍 Distance to target: 0.20 m\n",
      "Vehicle 1: ✅ Step: go to -> (10.031087602278195, 3.0971903174057744, 5.020278453826904) is done\n",
      "False\n",
      "waypoint [20  0  5]\n",
      "[10.0310876   3.09719032  5.02027845]\n",
      "Step 'go to -> (10.031087602278195, 3.0971903174057744, 5.020278453826904)' created — no connection yet 🧩\n",
      "Vehicle 1: Step 'go to -> (10.031087602278195, 3.0971903174057744, 5.020278453826904)' is now connected ✅🔗\n",
      "message to go to (10.031087602278195, -3.0971903174057744, -5.020278453826904) sent\n",
      "Vehicle 1: ▶️ Starting Step: go to -> (10.031087602278195, 3.0971903174057744, 5.020278453826904)\n",
      "Vehicle 1:📍 Distance to target: 0.11 m\n",
      "Vehicle 1: ✅ Step: go to -> (10.031087602278195, 3.0971903174057744, 5.020278453826904) is done\n",
      "False\n",
      "waypoint [20  0  5]\n",
      "[10.0310876   3.09719032  5.02027845]\n",
      "Step 'go to -> (10.031087602278195, 3.0971903174057744, 5.020278453826904)' created — no connection yet 🧩\n",
      "Vehicle 1: Step 'go to -> (10.031087602278195, 3.0971903174057744, 5.020278453826904)' is now connected ✅🔗\n",
      "message to go to (10.031087602278195, -3.0971903174057744, -5.020278453826904) sent\n",
      "Vehicle 1: ▶️ Starting Step: go to -> (10.031087602278195, 3.0971903174057744, 5.020278453826904)\n",
      "Vehicle 1:📍 Distance to target: 0.04 m\n",
      "Vehicle 1: ✅ Step: go to -> (10.031087602278195, 3.0971903174057744, 5.020278453826904) is done\n",
      "False\n",
      "waypoint [20  0  5]\n",
      "[10.0310876   3.09719032  5.02027845]\n",
      "Step 'go to -> (10.031087602278195, 3.0971903174057744, 5.020278453826904)' created — no connection yet 🧩\n",
      "Vehicle 1: Step 'go to -> (10.031087602278195, 3.0971903174057744, 5.020278453826904)' is now connected ✅🔗\n",
      "message to go to (10.031087602278195, -3.0971903174057744, -5.020278453826904) sent\n",
      "Vehicle 1: ▶️ Starting Step: go to -> (10.031087602278195, 3.0971903174057744, 5.020278453826904)\n",
      "Vehicle 1:📍 Distance to target: 0.02 m\n",
      "Vehicle 1: ✅ Step: go to -> (10.031087602278195, 3.0971903174057744, 5.020278453826904) is done\n",
      "False\n",
      "waypoint [20  0  5]\n",
      "[10.0310876   3.09719032  5.02027845]\n",
      "Step 'go to -> (10.031087602278195, 3.0971903174057744, 5.020278453826904)' created — no connection yet 🧩\n",
      "Vehicle 1: Step 'go to -> (10.031087602278195, 3.0971903174057744, 5.020278453826904)' is now connected ✅🔗\n",
      "message to go to (10.031087602278195, -3.0971903174057744, -5.020278453826904) sent\n",
      "Vehicle 1: ▶️ Starting Step: go to -> (10.031087602278195, 3.0971903174057744, 5.020278453826904)\n",
      "Vehicle 1:📍 Distance to target: 0.03 m\n",
      "Vehicle 1: ✅ Step: go to -> (10.031087602278195, 3.0971903174057744, 5.020278453826904) is done\n",
      "False\n",
      "waypoint [20  0  5]\n",
      "[10.0310876   3.09719032  5.02027845]\n",
      "Step 'go to -> (10.031087602278195, 3.0971903174057744, 5.020278453826904)' created — no connection yet 🧩\n",
      "Vehicle 1: Step 'go to -> (10.031087602278195, 3.0971903174057744, 5.020278453826904)' is now connected ✅🔗\n",
      "message to go to (10.031087602278195, -3.0971903174057744, -5.020278453826904) sent\n",
      "Vehicle 1: ▶️ Starting Step: go to -> (10.031087602278195, 3.0971903174057744, 5.020278453826904)\n",
      "Vehicle 1:📍 Distance to target: 0.04 m\n",
      "Vehicle 1: ✅ Step: go to -> (10.031087602278195, 3.0971903174057744, 5.020278453826904) is done\n",
      "False\n",
      "waypoint [20  0  5]\n",
      "[10.0310876   3.09719032  5.02027845]\n",
      "Step 'go to -> (10.031087602278195, 3.0971903174057744, 5.020278453826904)' created — no connection yet 🧩\n",
      "Vehicle 1: Step 'go to -> (10.031087602278195, 3.0971903174057744, 5.020278453826904)' is now connected ✅🔗\n",
      "message to go to (10.031087602278195, -3.0971903174057744, -5.020278453826904) sent\n",
      "Vehicle 1: ▶️ Starting Step: go to -> (10.031087602278195, 3.0971903174057744, 5.020278453826904)\n",
      "Vehicle 1:📍 Distance to target: 0.04 m\n",
      "Vehicle 1: ✅ Step: go to -> (10.031087602278195, 3.0971903174057744, 5.020278453826904) is done\n",
      "False\n",
      "waypoint [20  0  5]\n",
      "[10.0310876   3.09719032  5.02027845]\n",
      "Step 'go to -> (10.031087602278195, 3.0971903174057744, 5.020278453826904)' created — no connection yet 🧩\n",
      "Vehicle 1: Step 'go to -> (10.031087602278195, 3.0971903174057744, 5.020278453826904)' is now connected ✅🔗\n",
      "message to go to (10.031087602278195, -3.0971903174057744, -5.020278453826904) sent\n",
      "Vehicle 1: ▶️ Starting Step: go to -> (10.031087602278195, 3.0971903174057744, 5.020278453826904)\n",
      "Vehicle 1:📍 Distance to target: 0.03 m\n",
      "Vehicle 1: ✅ Step: go to -> (10.031087602278195, 3.0971903174057744, 5.020278453826904) is done\n",
      "False\n",
      "waypoint [20  0  5]\n",
      "[10.67671184  3.85470638  5.01908159]\n",
      "Step 'go to -> (10.676711839921579, 3.854706383791039, 5.0190815925598145)' created — no connection yet 🧩\n",
      "Vehicle 1: Step 'go to -> (10.676711839921579, 3.854706383791039, 5.0190815925598145)' is now connected ✅🔗\n",
      "message to go to (10.676711839921579, -3.854706383791039, -5.0190815925598145) sent\n",
      "Vehicle 1: ▶️ Starting Step: go to -> (10.676711839921579, 3.854706383791039, 5.0190815925598145)\n",
      "Vehicle 1:📍 Distance to target: 1.01 m\n",
      "Vehicle 1:📍 Distance to target: 0.84 m\n",
      "Vehicle 1:📍 Distance to target: 0.67 m\n",
      "Vehicle 1:📍 Distance to target: 0.49 m\n",
      "Vehicle 1: ✅ Step: go to -> (10.676711839921579, 3.854706383791039, 5.0190815925598145) is done\n",
      "False\n",
      "waypoint [20  0  5]\n",
      "[10.71009714  3.87711111  5.01919174]\n",
      "Step 'go to -> (10.71009714166284, 3.877111108017526, 5.019191741943359)' created — no connection yet 🧩\n",
      "Vehicle 1: Step 'go to -> (10.71009714166284, 3.877111108017526, 5.019191741943359)' is now connected ✅🔗\n",
      "message to go to (10.71009714166284, -3.877111108017526, -5.019191741943359) sent\n",
      "Vehicle 1: ▶️ Starting Step: go to -> (10.71009714166284, 3.877111108017526, 5.019191741943359)\n",
      "Vehicle 1:📍 Distance to target: 0.23 m\n",
      "Vehicle 1: ✅ Step: go to -> (10.71009714166284, 3.877111108017526, 5.019191741943359) is done\n",
      "False\n",
      "waypoint [20  0  5]\n",
      "[11.20409844  4.27573252  5.01657104]\n",
      "Step 'go to -> (11.204098444900929, 4.275732522116908, 5.016571044921875)' created — no connection yet 🧩\n",
      "Vehicle 1: Step 'go to -> (11.204098444900929, 4.275732522116908, 5.016571044921875)' is now connected ✅🔗\n",
      "message to go to (11.204098444900929, -4.275732522116908, -5.016571044921875) sent\n",
      "Vehicle 1: ▶️ Starting Step: go to -> (11.204098444900929, 4.275732522116908, 5.016571044921875)\n",
      "Vehicle 1:📍 Distance to target: 0.64 m\n",
      "Vehicle 1:📍 Distance to target: 0.37 m\n",
      "Vehicle 1: ✅ Step: go to -> (11.204098444900929, 4.275732522116908, 5.016571044921875) is done\n",
      "False\n",
      "waypoint [20  0  5]\n",
      "[11.61418837  4.5465236   5.01482153]\n",
      "Step 'go to -> (11.614188374466602, 4.546523599390714, 5.014821529388428)' created — no connection yet 🧩\n",
      "Vehicle 1: Step 'go to -> (11.614188374466602, 4.546523599390714, 5.014821529388428)' is now connected ✅🔗\n",
      "message to go to (11.614188374466602, -4.546523599390714, -5.014821529388428) sent\n",
      "Vehicle 1: ▶️ Starting Step: go to -> (11.614188374466602, 4.546523599390714, 5.014821529388428)\n",
      "Vehicle 1:📍 Distance to target: 0.74 m\n",
      "Vehicle 1:📍 Distance to target: 0.46 m\n",
      "Vehicle 1: ✅ Step: go to -> (11.614188374466602, 4.546523599390714, 5.014821529388428) is done\n",
      "False\n",
      "waypoint [20  0  5]\n",
      "[11.97094991  4.71437131  5.01231432]\n",
      "Step 'go to -> (11.970949911502801, 4.714371305257809, 5.012314319610596)' created — no connection yet 🧩\n",
      "Vehicle 1: Step 'go to -> (11.970949911502801, 4.714371305257809, 5.012314319610596)' is now connected ✅🔗\n",
      "message to go to (11.970949911502801, -4.714371305257809, -5.012314319610596) sent\n",
      "Vehicle 1: ▶️ Starting Step: go to -> (11.970949911502801, 4.714371305257809, 5.012314319610596)\n",
      "Vehicle 1:📍 Distance to target: 0.72 m\n",
      "Vehicle 1:📍 Distance to target: 0.42 m\n",
      "Vehicle 1: ✅ Step: go to -> (11.970949911502801, 4.714371305257809, 5.012314319610596) is done\n",
      "False\n",
      "waypoint [20  0  5]\n",
      "[12.37244146  4.87358951  5.01229572]\n",
      "Step 'go to -> (12.372441464109883, 4.873589508472588, 5.012295722961426)' created — no connection yet 🧩\n",
      "Vehicle 1: Step 'go to -> (12.372441464109883, 4.873589508472588, 5.012295722961426)' is now connected ✅🔗\n",
      "message to go to (12.372441464109883, -4.873589508472588, -5.012295722961426) sent\n",
      "Vehicle 1: ▶️ Starting Step: go to -> (12.372441464109883, 4.873589508472588, 5.012295722961426)\n",
      "Vehicle 1:📍 Distance to target: 0.57 m\n",
      "Vehicle 1:📍 Distance to target: 0.42 m\n",
      "Vehicle 1: ✅ Step: go to -> (12.372441464109883, 4.873589508472588, 5.012295722961426) is done\n",
      "False\n",
      "waypoint [20  0  5]\n",
      "[12.64635837  4.96137895  5.01158237]\n",
      "Step 'go to -> (12.64635836713925, 4.961378948553424, 5.011582374572754)' created — no connection yet 🧩\n",
      "Vehicle 1: Step 'go to -> (12.64635836713925, 4.961378948553424, 5.011582374572754)' is now connected ✅🔗\n",
      "message to go to (12.64635836713925, -4.961378948553424, -5.011582374572754) sent\n",
      "Vehicle 1: ▶️ Starting Step: go to -> (12.64635836713925, 4.961378948553424, 5.011582374572754)\n",
      "Vehicle 1:📍 Distance to target: 0.57 m\n",
      "Vehicle 1:📍 Distance to target: 0.44 m\n",
      "Vehicle 1: ✅ Step: go to -> (12.64635836713925, 4.961378948553424, 5.011582374572754) is done\n",
      "False\n",
      "waypoint [20  0  5]\n",
      "[12.64635837  4.96137895  5.01158237]\n",
      "Step 'go to -> (12.64635836713925, 4.961378948553424, 5.011582374572754)' created — no connection yet 🧩\n",
      "Vehicle 1: Step 'go to -> (12.64635836713925, 4.961378948553424, 5.011582374572754)' is now connected ✅🔗\n",
      "message to go to (12.64635836713925, -4.961378948553424, -5.011582374572754) sent\n",
      "Vehicle 1: ▶️ Starting Step: go to -> (12.64635836713925, 4.961378948553424, 5.011582374572754)\n",
      "Vehicle 1:📍 Distance to target: 0.31 m\n",
      "Vehicle 1: ✅ Step: go to -> (12.64635836713925, 4.961378948553424, 5.011582374572754) is done\n",
      "False\n",
      "waypoint [20  0  5]\n",
      "[12.64635837  4.96137895  5.01158237]\n",
      "Step 'go to -> (12.64635836713925, 4.961378948553424, 5.011582374572754)' created — no connection yet 🧩\n",
      "Vehicle 1: Step 'go to -> (12.64635836713925, 4.961378948553424, 5.011582374572754)' is now connected ✅🔗\n",
      "message to go to (12.64635836713925, -4.961378948553424, -5.011582374572754) sent\n",
      "Vehicle 1: ▶️ Starting Step: go to -> (12.64635836713925, 4.961378948553424, 5.011582374572754)\n",
      "Vehicle 1:📍 Distance to target: 0.11 m\n",
      "Vehicle 1: ✅ Step: go to -> (12.64635836713925, 4.961378948553424, 5.011582374572754) is done\n",
      "False\n",
      "Vehicle 1: Step 'go to -> (20, 0, 5)' is now connected ✅🔗\n",
      "message to go to (20, 0, -5) sent\n",
      "Vehicle 1: ▶️ Starting Step: go to -> (20, 0, 5)\n",
      "Vehicle 1:📍 Distance to target: 8.92 m\n",
      "waypoint [20  0  5]\n",
      "[13.79389678  5.00800718  5.00816488]\n",
      "Step 'go to -> (13.793896781000607, 5.008007177755372, 5.008164882659912)' created — no connection yet 🧩\n",
      "Vehicle 1: Step 'go to -> (13.793896781000607, 5.008007177755372, 5.008164882659912)' is now connected ✅🔗\n",
      "message to go to (13.793896781000607, -5.008007177755372, -5.008164882659912) sent\n",
      "Vehicle 1: ▶️ Starting Step: go to -> (13.793896781000607, 5.008007177755372, 5.008164882659912)\n",
      "Vehicle 1:📍 Distance to target: 0.70 m\n",
      "Vehicle 1:📍 Distance to target: 0.42 m\n",
      "Vehicle 1: ✅ Step: go to -> (13.793896781000607, 5.008007177755372, 5.008164882659912) is done\n",
      "False\n",
      "waypoint [20  0  5]\n",
      "[14.3617685   4.68072802  5.0089221 ]\n",
      "Step 'go to -> (14.361768499829891, 4.680728017210731, 5.008922100067139)' created — no connection yet 🧩\n",
      "Vehicle 1: Step 'go to -> (14.361768499829891, 4.680728017210731, 5.008922100067139)' is now connected ✅🔗\n",
      "message to go to (14.361768499829891, -4.680728017210731, -5.008922100067139) sent\n",
      "Vehicle 1: ▶️ Starting Step: go to -> (14.361768499829891, 4.680728017210731, 5.008922100067139)\n",
      "Vehicle 1:📍 Distance to target: 0.71 m\n",
      "Vehicle 1:📍 Distance to target: 0.47 m\n",
      "Vehicle 1: ✅ Step: go to -> (14.361768499829891, 4.680728017210731, 5.008922100067139) is done\n",
      "False\n",
      "waypoint [20  0  5]\n",
      "[14.76996479  4.70464168  5.0078392 ]\n",
      "Step 'go to -> (14.769964787655276, 4.704641683670895, 5.007839202880859)' created — no connection yet 🧩\n",
      "Vehicle 1: Step 'go to -> (14.769964787655276, 4.704641683670895, 5.007839202880859)' is now connected ✅🔗\n",
      "message to go to (14.769964787655276, -4.704641683670895, -5.007839202880859) sent\n",
      "Vehicle 1: ▶️ Starting Step: go to -> (14.769964787655276, 4.704641683670895, 5.007839202880859)\n",
      "Vehicle 1:📍 Distance to target: 0.59 m\n",
      "Vehicle 1:📍 Distance to target: 0.44 m\n",
      "Vehicle 1: ✅ Step: go to -> (14.769964787655276, 4.704641683670895, 5.007839202880859) is done\n",
      "False\n",
      "waypoint [20  0  5]\n",
      "[15.03304325  4.67429067  5.00667429]\n",
      "Step 'go to -> (15.033043250504635, 4.674290672602304, 5.006674289703369)' created — no connection yet 🧩\n",
      "Vehicle 1: Step 'go to -> (15.033043250504635, 4.674290672602304, 5.006674289703369)' is now connected ✅🔗\n",
      "message to go to (15.033043250504635, -4.674290672602304, -5.006674289703369) sent\n",
      "Vehicle 1: ▶️ Starting Step: go to -> (15.033043250504635, 4.674290672602304, 5.006674289703369)\n",
      "Vehicle 1:📍 Distance to target: 0.56 m\n",
      "Vehicle 1:📍 Distance to target: 0.43 m\n",
      "Vehicle 1: ✅ Step: go to -> (15.033043250504635, 4.674290672602304, 5.006674289703369) is done\n",
      "False\n",
      "waypoint [20  0  5]\n",
      "[15.03304325  4.67429067  5.00667429]\n",
      "Step 'go to -> (15.033043250504635, 4.674290672602304, 5.006674289703369)' created — no connection yet 🧩\n",
      "Vehicle 1: Step 'go to -> (15.033043250504635, 4.674290672602304, 5.006674289703369)' is now connected ✅🔗\n",
      "message to go to (15.033043250504635, -4.674290672602304, -5.006674289703369) sent\n",
      "Vehicle 1: ▶️ Starting Step: go to -> (15.033043250504635, 4.674290672602304, 5.006674289703369)\n",
      "Vehicle 1:📍 Distance to target: 0.30 m\n",
      "Vehicle 1: ✅ Step: go to -> (15.033043250504635, 4.674290672602304, 5.006674289703369) is done\n",
      "False\n",
      "waypoint [20  0  5]\n",
      "[15.03304325  4.67429067  5.00667429]\n",
      "Step 'go to -> (15.033043250504635, 4.674290672602304, 5.006674289703369)' created — no connection yet 🧩\n",
      "Vehicle 1: Step 'go to -> (15.033043250504635, 4.674290672602304, 5.006674289703369)' is now connected ✅🔗\n",
      "message to go to (15.033043250504635, -4.674290672602304, -5.006674289703369) sent\n",
      "Vehicle 1: ▶️ Starting Step: go to -> (15.033043250504635, 4.674290672602304, 5.006674289703369)\n",
      "Vehicle 1:📍 Distance to target: 0.04 m\n",
      "Vehicle 1: ✅ Step: go to -> (15.033043250504635, 4.674290672602304, 5.006674289703369) is done\n",
      "False\n",
      "waypoint [20  0  5]\n",
      "[15.88698203  4.39619651  5.00349665]\n",
      "Step 'go to -> (15.88698203219666, 4.396196509616215, 5.0034966468811035)' created — no connection yet 🧩\n",
      "Vehicle 1: Step 'go to -> (15.88698203219666, 4.396196509616215, 5.0034966468811035)' is now connected ✅🔗\n",
      "message to go to (15.88698203219666, -4.396196509616215, -5.0034966468811035) sent\n",
      "Vehicle 1: ▶️ Starting Step: go to -> (15.88698203219666, 4.396196509616215, 5.0034966468811035)\n",
      "Vehicle 1:📍 Distance to target: 0.90 m\n",
      "Vehicle 1:📍 Distance to target: 0.83 m\n",
      "Vehicle 1:📍 Distance to target: 0.70 m\n",
      "Vehicle 1:📍 Distance to target: 0.25 m\n",
      "Vehicle 1: ✅ Step: go to -> (15.88698203219666, 4.396196509616215, 5.0034966468811035) is done\n",
      "False\n",
      "waypoint [20  0  5]\n",
      "[16.42413991  4.0898755   4.99974251]\n",
      "Step 'go to -> (16.424139914086545, 4.089875504962916, 4.99974250793457)' created — no connection yet 🧩\n",
      "Vehicle 1: Step 'go to -> (16.424139914086545, 4.089875504962916, 4.99974250793457)' is now connected ✅🔗\n",
      "message to go to (16.424139914086545, -4.089875504962916, -4.99974250793457) sent\n",
      "Vehicle 1: ▶️ Starting Step: go to -> (16.424139914086545, 4.089875504962916, 4.99974250793457)\n",
      "Vehicle 1:📍 Distance to target: 0.62 m\n",
      "Vehicle 1:📍 Distance to target: 0.47 m\n",
      "Vehicle 1: ✅ Step: go to -> (16.424139914086545, 4.089875504962916, 4.99974250793457) is done\n",
      "False\n",
      "Vehicle 1: Step 'go to -> (20, 0, 5)' is now connected ✅🔗\n",
      "message to go to (20, 0, -5) sent\n",
      "Vehicle 1: ▶️ Starting Step: go to -> (20, 0, 5)\n",
      "Vehicle 1:📍 Distance to target: 5.73 m\n",
      "Vehicle 1:📍 Distance to target: 5.14 m\n",
      "waypoint [20  0  5]\n",
      "[17.4823726   2.98278009  4.99291468]\n",
      "Step 'go to -> (17.482372595638818, 2.9827800872583685, 4.99291467666626)' created — no connection yet 🧩\n",
      "Vehicle 1: Step 'go to -> (17.482372595638818, 2.9827800872583685, 4.99291467666626)' is now connected ✅🔗\n",
      "message to go to (17.482372595638818, -2.9827800872583685, -4.99291467666626) sent\n",
      "Vehicle 1: ▶️ Starting Step: go to -> (17.482372595638818, 2.9827800872583685, 4.99291467666626)\n",
      "Vehicle 1:📍 Distance to target: 0.75 m\n",
      "Vehicle 1:📍 Distance to target: 0.52 m\n",
      "Vehicle 1:📍 Distance to target: 0.32 m\n",
      "Vehicle 1: ✅ Step: go to -> (17.482372595638818, 2.9827800872583685, 4.99291467666626) is done\n",
      "False\n",
      "waypoint [20  0  5]\n",
      "[17.4823726   2.98278009  4.99291468]\n",
      "Step 'go to -> (17.482372595638818, 2.9827800872583685, 4.99291467666626)' created — no connection yet 🧩\n",
      "Vehicle 1: Step 'go to -> (17.482372595638818, 2.9827800872583685, 4.99291467666626)' is now connected ✅🔗\n",
      "message to go to (17.482372595638818, -2.9827800872583685, -4.99291467666626) sent\n",
      "Vehicle 1: ▶️ Starting Step: go to -> (17.482372595638818, 2.9827800872583685, 4.99291467666626)\n",
      "Vehicle 1:📍 Distance to target: 0.07 m\n",
      "Vehicle 1: ✅ Step: go to -> (17.482372595638818, 2.9827800872583685, 4.99291467666626) is done\n",
      "False\n",
      "waypoint [20  0  5]\n",
      "[20  0  5]\n",
      "Step 'go to -> (20, 0, 5)' created — no connection yet 🧩\n",
      "Vehicle 1: Step 'go to -> (20, 0, 5)' is now connected ✅🔗\n",
      "message to go to (20, 0, -5) sent\n",
      "Vehicle 1: ▶️ Starting Step: go to -> (20, 0, 5)\n",
      "Vehicle 1:📍 Distance to target: 3.86 m\n",
      "Vehicle 1:📍 Distance to target: 3.78 m\n",
      "Vehicle 1:📍 Distance to target: 3.64 m\n",
      "Vehicle 1:📍 Distance to target: 3.44 m\n",
      "Vehicle 1:📍 Distance to target: 2.98 m\n",
      "Vehicle 1:📍 Distance to target: 2.47 m\n",
      "Vehicle 1:📍 Distance to target: 1.95 m\n",
      "Vehicle 1:📍 Distance to target: 1.44 m\n",
      "Vehicle 1:📍 Distance to target: 1.19 m\n",
      "Vehicle 1:📍 Distance to target: 0.94 m\n",
      "Vehicle 1:📍 Distance to target: 0.70 m\n",
      "Vehicle 1:📍 Distance to target: 0.47 m\n",
      "Vehicle 1: ✅ Step: go to -> (20, 0, 5) is done\n",
      "False\n",
      "Vehicle 1: Step 'go to -> (20, 0, 5)' is now connected ✅🔗\n",
      "message to go to (20, 0, -5) sent\n",
      "Vehicle 1: ▶️ Starting Step: go to -> (20, 0, 5)\n",
      "Vehicle 1:📍 Distance to target: 0.12 m\n",
      "Vehicle 1: ✅ Step: go to -> (20, 0, 5) is done\n",
      "Vehicle 1: ✅ Action: fly is done\n",
      "Vehicle 1: Action 'Land' is now connected ✅🔗\n",
      "Vehicle 1: ▶️ Starting Action: Land\n",
      "Vehicle 1: Step 'land' is now connected ✅🔗\n",
      "Vehicle 1: ▶️ Starting Step: land\n",
      "Vehicle 1: ✅ Step: land is done\n",
      "Vehicle 1: ✅ Action: Land is done\n",
      "Vehicle 1: ✅ Plan: basic plan is done\n"
     ]
    }
   ],
   "source": [
    "from helpers.change_coordinates import local2global\n",
    "from plan.actions.navegation import get_local_position,make_go_to\n",
    "from plan.actions.avoidance import exec_avoid_move,stop_position_hold\n",
    "\n",
    "\n",
    "mission_incomplete = set(range(n_uavs))\n",
    "global_poss = {}\n",
    "collision_modes=n_uavs*[False]\n",
    "while mission_incomplete:\n",
    "    ## Get global positions\n",
    "    for i in mission_incomplete:\n",
    "        uav=uavs[i]\n",
    "        current_action=uav.current_action().name \n",
    "        if current_action in ['takeoff','fly']:\n",
    "            local_pos=get_local_position(uav.conn)\n",
    "            if local_pos is not False:\n",
    "                global_poss[i] = local2global(local_pos,uav.home,pairwise=True)\n",
    "    to_remove = set()\n",
    "    for i in mission_incomplete:\n",
    "        uav = uavs[i]\n",
    "        if i in global_poss.keys():\n",
    "            j,min_dist=get_nearest_neighbor(target_id=i,positions_dict=global_poss)\n",
    "            if min_dist<5 and not collision_modes[i]:  \n",
    "                collision_modes[i]=True\n",
    "                wp=uav.plan.current.current.wp\n",
    "                print('waypoint',wp)\n",
    "                next_wp = get_avoidance_wp(pos=global2local(global_poss[i],uav.home,pairwise=True),\n",
    "                                           obj_pos=global2local(global_poss[j],uav.home,pairwise=True),\n",
    "                                           goal_pos=wp)\n",
    "                print(next_wp)\n",
    "                next_step=make_go_to(wp=next_wp,wp_margin=0.5,verbose=2)\n",
    "                uav.plan.current.add_now(next_step)\n",
    "            if collision_modes[i] and uav.current_step().state==State.DONE:\n",
    "                collision_modes[i] = False\n",
    "                print(collision_modes[i])\n",
    "        uav.act_plan()\n",
    "        if uav.plan.state == State.DONE:\n",
    "            to_remove.add(i)\n",
    "            \n",
    "    mission_incomplete -= to_remove  # batch-remove outside the loop"
   ]
  },
  {
   "cell_type": "code",
   "execution_count": 20,
   "metadata": {},
   "outputs": [
    {
     "name": "stdout",
     "output_type": "stream",
     "text": [
      "✅ <Plan 'basic plan'>\n",
      "  ✅ <Action 'Pre-Arm Check'>\n",
      "    ✅ <Step 'Check disarmed'>\n",
      "    ✅ <Step 'Check EKF'>\n",
      "    ✅ <Step 'Check GPS'>\n",
      "    ✅ <Step 'Check system'>\n",
      "  ✅ <Action 'Set Navigation Speed'>\n",
      "    ✅ <Step 'Set speed to 1.00 m/s'>\n",
      "  ✅ <Action 'Set Mode: GUIDED'>\n",
      "    ✅ <Step 'Switch to GUIDED'>\n",
      "  ✅ <Action 'Arm'>\n",
      "    ✅ <Step 'arm'>\n",
      "  ✅ <Action 'takeoff'>\n",
      "    ✅ <Step 'takeoff'>\n",
      "  ✅ <Action 'fly'>\n",
      "    ✅ <Step 'go to -> (0, 0, 5)'>\n",
      "    ✅ <Step 'go to -> (8.828350643537217, 1.0113455406346858, 5.0019683837890625)'>\n",
      "    ✅ <Step 'go to -> (9.469878066032162, 1.2867934973220168, 5.006375312805176)'>\n",
      "    ✅ <Step 'go to -> (9.314942631993926, 2.1212022361407974, 5.014371871948242)'>\n",
      "    ✅ <Step 'go to -> (9.73356013662661, 2.4085850147548475, 5.014832496643066)'>\n",
      "    ✅ <Step 'go to -> (9.73356013662661, 2.4085850147548475, 5.014832496643066)'>\n",
      "    ✅ <Step 'go to -> (10.031087602278195, 3.0971903174057744, 5.020278453826904)'>\n",
      "    ✅ <Step 'go to -> (10.031087602278195, 3.0971903174057744, 5.020278453826904)'>\n",
      "    ✅ <Step 'go to -> (10.031087602278195, 3.0971903174057744, 5.020278453826904)'>\n",
      "    ✅ <Step 'go to -> (10.031087602278195, 3.0971903174057744, 5.020278453826904)'>\n",
      "    ✅ <Step 'go to -> (10.031087602278195, 3.0971903174057744, 5.020278453826904)'>\n",
      "    ✅ <Step 'go to -> (10.031087602278195, 3.0971903174057744, 5.020278453826904)'>\n",
      "    ✅ <Step 'go to -> (10.031087602278195, 3.0971903174057744, 5.020278453826904)'>\n",
      "    ✅ <Step 'go to -> (10.031087602278195, 3.0971903174057744, 5.020278453826904)'>\n",
      "    ✅ <Step 'go to -> (10.031087602278195, 3.0971903174057744, 5.020278453826904)'>\n",
      "    ✅ <Step 'go to -> (10.031087602278195, 3.0971903174057744, 5.020278453826904)'>\n",
      "    ✅ <Step 'go to -> (10.676711839921579, 3.854706383791039, 5.0190815925598145)'>\n",
      "    ✅ <Step 'go to -> (10.71009714166284, 3.877111108017526, 5.019191741943359)'>\n",
      "    ✅ <Step 'go to -> (11.204098444900929, 4.275732522116908, 5.016571044921875)'>\n",
      "    ✅ <Step 'go to -> (11.614188374466602, 4.546523599390714, 5.014821529388428)'>\n",
      "    ✅ <Step 'go to -> (11.970949911502801, 4.714371305257809, 5.012314319610596)'>\n",
      "    ✅ <Step 'go to -> (12.372441464109883, 4.873589508472588, 5.012295722961426)'>\n",
      "    ✅ <Step 'go to -> (12.64635836713925, 4.961378948553424, 5.011582374572754)'>\n",
      "    ✅ <Step 'go to -> (12.64635836713925, 4.961378948553424, 5.011582374572754)'>\n",
      "    ✅ <Step 'go to -> (12.64635836713925, 4.961378948553424, 5.011582374572754)'>\n",
      "    ✅ <Step 'go to -> (13.793896781000607, 5.008007177755372, 5.008164882659912)'>\n",
      "    ✅ <Step 'go to -> (14.361768499829891, 4.680728017210731, 5.008922100067139)'>\n",
      "    ✅ <Step 'go to -> (14.769964787655276, 4.704641683670895, 5.007839202880859)'>\n",
      "    ✅ <Step 'go to -> (15.033043250504635, 4.674290672602304, 5.006674289703369)'>\n",
      "    ✅ <Step 'go to -> (15.033043250504635, 4.674290672602304, 5.006674289703369)'>\n",
      "    ✅ <Step 'go to -> (15.033043250504635, 4.674290672602304, 5.006674289703369)'>\n",
      "    ✅ <Step 'go to -> (15.88698203219666, 4.396196509616215, 5.0034966468811035)'>\n",
      "    ✅ <Step 'go to -> (16.424139914086545, 4.089875504962916, 4.99974250793457)'>\n",
      "    ✅ <Step 'go to -> (17.482372595638818, 2.9827800872583685, 4.99291467666626)'>\n",
      "    ✅ <Step 'go to -> (17.482372595638818, 2.9827800872583685, 4.99291467666626)'>\n",
      "    ✅ <Step 'go to -> (20, 0, 5)'>\n",
      "    ✅ <Step 'go to -> (20, 0, 5)'>\n",
      "  ✅ <Action 'Land'>\n",
      "    ✅ <Step 'land'>\n"
     ]
    }
   ],
   "source": [
    "print(uavs[0].plan)"
   ]
  },
  {
   "cell_type": "code",
   "execution_count": 21,
   "metadata": {},
   "outputs": [
    {
     "name": "stdout",
     "output_type": "stream",
     "text": [
      "✅ <Plan 'hover'>\n",
      "  ✅ <Action 'Pre-Arm Check'>\n",
      "    ✅ <Step 'Check disarmed'>\n",
      "    ✅ <Step 'Check EKF'>\n",
      "    ✅ <Step 'Check GPS'>\n",
      "    ✅ <Step 'Check system'>\n",
      "  ✅ <Action 'Set Navigation Speed'>\n",
      "    ✅ <Step 'Set speed to 1.00 m/s'>\n",
      "  ✅ <Action 'Set Mode: GUIDED'>\n",
      "    ✅ <Step 'Switch to GUIDED'>\n",
      "  ✅ <Action 'Arm'>\n",
      "    ✅ <Step 'arm'>\n",
      "  ✅ <Action 'takeoff'>\n",
      "    ✅ <Step 'takeoff'>\n",
      "  ✅ <Action 'fly'>\n",
      "    ✅ <Step 'go to -> (0, 0, 5)'>\n",
      "    ✅ <Step 'go to -> (-8, 0, 5)'>\n"
     ]
    }
   ],
   "source": [
    "print(uavs[1].plan)"
   ]
  },
  {
   "cell_type": "markdown",
   "metadata": {},
   "source": [
    "## Kill all related process"
   ]
  },
  {
   "cell_type": "code",
   "execution_count": 19,
   "metadata": {},
   "outputs": [],
   "source": [
    "# for process in [\"QGroundControl\", \"sim_vehicle.py\", \"arducopter\", \"gazebo\", \"mavproxy\"]:\n",
    "#     os.system(f\"pkill -9 -f {process}\")"
   ]
  },
  {
   "cell_type": "code",
   "execution_count": null,
   "metadata": {},
   "outputs": [],
   "source": []
  }
 ],
 "metadata": {
  "kernelspec": {
   "display_name": "Python 3",
   "language": "python",
   "name": "python3"
  },
  "language_info": {
   "codemirror_mode": {
    "name": "ipython",
    "version": 3
   },
   "file_extension": ".py",
   "mimetype": "text/x-python",
   "name": "python",
   "nbconvert_exporter": "python",
   "pygments_lexer": "ipython3",
   "version": "3.9.21"
  }
 },
 "nbformat": 4,
 "nbformat_minor": 2
}
