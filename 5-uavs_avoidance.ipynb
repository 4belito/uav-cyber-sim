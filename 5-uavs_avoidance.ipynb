{
 "cells": [
  {
   "cell_type": "markdown",
   "metadata": {},
   "source": [
    "## Uavs Collision\n",
    "\n",
    "This notebook implements a uav logic instead of a plan and decisions are done online following that logic"
   ]
  },
  {
   "cell_type": "code",
   "execution_count": 1,
   "metadata": {},
   "outputs": [],
   "source": [
    "import os\n",
    "import subprocess\n",
    "import numpy as np\n",
    "\n",
    "# Custom modules\n",
    "from vehicle_logic import VehicleLogic\n",
    "from helpers.change_coordinates import heading_to_yaw,find_spawns,global2local\n",
    "from helpers.visualization.gazebo_world import update_world\n",
    "from helpers.visualization.plots import plot_3d_interactive\n",
    "from plan import Plan,State"
   ]
  },
  {
   "cell_type": "markdown",
   "metadata": {},
   "source": [
    "Kill all related process"
   ]
  },
  {
   "cell_type": "code",
   "execution_count": 2,
   "metadata": {},
   "outputs": [],
   "source": [
    "for process in [\"QGroundControl\", \"sim_vehicle.py\", \"arducopter\", \"gazebo\", \"mavproxy\"]:\n",
    "    os.system(f\"pkill -9 -f {process}\")"
   ]
  },
  {
   "cell_type": "markdown",
   "metadata": {},
   "source": [
    "Paths"
   ]
  },
  {
   "cell_type": "code",
   "execution_count": 3,
   "metadata": {},
   "outputs": [],
   "source": [
    "QGC_path='~/QGroundControl.AppImage'\n",
    "gazebo_word_path=\"gazebo_worlds/runway.world\"\n",
    "ardupilot_vehicle_path='~/ardupilot/Tools/autotest/sim_vehicle.py'"
   ]
  },
  {
   "cell_type": "markdown",
   "metadata": {},
   "source": [
    "## Choose Simulator"
   ]
  },
  {
   "cell_type": "code",
   "execution_count": 4,
   "metadata": {},
   "outputs": [],
   "source": [
    "simulator ='gazebo' # 'QGroundControl' #"
   ]
  },
  {
   "cell_type": "markdown",
   "metadata": {},
   "source": [
    "## Create Plans"
   ]
  },
  {
   "cell_type": "code",
   "execution_count": 5,
   "metadata": {},
   "outputs": [],
   "source": [
    "# local_paths=[global2local(path, home,pairwise=True) for path,home in zip(global_paths,homes)]\n",
    "# local_paths"
   ]
  },
  {
   "cell_type": "code",
   "execution_count": 6,
   "metadata": {},
   "outputs": [
    {
     "name": "stdout",
     "output_type": "stream",
     "text": [
      "Plan 'basic' created — no connection yet 🧩\n",
      "Action 'Pre-Arm Check' created — no connection yet 🧩\n",
      "Step 'Check disarmed' created — no connection yet 🧩\n",
      "Step 'Check EKF' created — no connection yet 🧩\n",
      "Step 'Check GPS' created — no connection yet 🧩\n",
      "Step 'Check system' created — no connection yet 🧩\n",
      "Action 'Set Navigation Speed' created — no connection yet 🧩\n",
      "Step 'Set speed to 1.00 m/s' created — no connection yet 🧩\n",
      "Action 'Set Mode: GUIDED' created — no connection yet 🧩\n",
      "Step 'Switch to GUIDED' created — no connection yet 🧩\n",
      "Action 'Arm' created — no connection yet 🧩\n",
      "Step 'arm' created — no connection yet 🧩\n",
      "Action 'takeoff' created — no connection yet 🧩\n",
      "Step 'takeoff' created — no connection yet 🧩\n",
      "Action 'fly' created — no connection yet 🧩\n",
      "Step 'go to  -> (0, 0, 5)' created — no connection yet 🧩\n",
      "Step 'go to  -> (20, 0, 5)' created — no connection yet 🧩\n",
      "Action 'Land' created — no connection yet 🧩\n",
      "Step 'land' created — no connection yet 🧩\n",
      "Plan 'basic' created — no connection yet 🧩\n",
      "Action 'Pre-Arm Check' created — no connection yet 🧩\n",
      "Step 'Check disarmed' created — no connection yet 🧩\n",
      "Step 'Check EKF' created — no connection yet 🧩\n",
      "Step 'Check GPS' created — no connection yet 🧩\n",
      "Step 'Check system' created — no connection yet 🧩\n",
      "Action 'Set Navigation Speed' created — no connection yet 🧩\n",
      "Step 'Set speed to 1.00 m/s' created — no connection yet 🧩\n",
      "Action 'Set Mode: GUIDED' created — no connection yet 🧩\n",
      "Step 'Switch to GUIDED' created — no connection yet 🧩\n",
      "Action 'Arm' created — no connection yet 🧩\n",
      "Step 'arm' created — no connection yet 🧩\n",
      "Action 'takeoff' created — no connection yet 🧩\n",
      "Step 'takeoff' created — no connection yet 🧩\n",
      "Action 'fly' created — no connection yet 🧩\n",
      "Step 'go to  -> (0, 0, 5)' created — no connection yet 🧩\n",
      "Step 'go to  -> (-20, 0, 5)' created — no connection yet 🧩\n",
      "Action 'Land' created — no connection yet 🧩\n",
      "Step 'land' created — no connection yet 🧩\n"
     ]
    },
    {
     "data": {
      "application/vnd.plotly.v1+json": {
       "config": {
        "plotlyServerURL": "https://plot.ly"
       },
       "data": [
        {
         "marker": {
          "color": "blue",
          "size": 6
         },
         "mode": "markers",
         "name": "waypoints",
         "type": "scatter3d",
         "x": [
          -10,
          10
         ],
         "y": [
          0,
          0
         ],
         "z": [
          5,
          5
         ]
        }
       ],
       "layout": {
        "height": 600,
        "scene": {
         "xaxis": {
          "range": [
           -14,
           14
          ],
          "title": {
           "text": "x"
          }
         },
         "yaxis": {
          "range": [
           0,
           0
          ],
          "title": {
           "text": "y"
          }
         },
         "zaxis": {
          "range": [
           -0.05,
           5
          ],
          "title": {
           "text": "z"
          }
         }
        },
        "template": {
         "data": {
          "bar": [
           {
            "error_x": {
             "color": "#2a3f5f"
            },
            "error_y": {
             "color": "#2a3f5f"
            },
            "marker": {
             "line": {
              "color": "#E5ECF6",
              "width": 0.5
             },
             "pattern": {
              "fillmode": "overlay",
              "size": 10,
              "solidity": 0.2
             }
            },
            "type": "bar"
           }
          ],
          "barpolar": [
           {
            "marker": {
             "line": {
              "color": "#E5ECF6",
              "width": 0.5
             },
             "pattern": {
              "fillmode": "overlay",
              "size": 10,
              "solidity": 0.2
             }
            },
            "type": "barpolar"
           }
          ],
          "carpet": [
           {
            "aaxis": {
             "endlinecolor": "#2a3f5f",
             "gridcolor": "white",
             "linecolor": "white",
             "minorgridcolor": "white",
             "startlinecolor": "#2a3f5f"
            },
            "baxis": {
             "endlinecolor": "#2a3f5f",
             "gridcolor": "white",
             "linecolor": "white",
             "minorgridcolor": "white",
             "startlinecolor": "#2a3f5f"
            },
            "type": "carpet"
           }
          ],
          "choropleth": [
           {
            "colorbar": {
             "outlinewidth": 0,
             "ticks": ""
            },
            "type": "choropleth"
           }
          ],
          "contour": [
           {
            "colorbar": {
             "outlinewidth": 0,
             "ticks": ""
            },
            "colorscale": [
             [
              0,
              "#0d0887"
             ],
             [
              0.1111111111111111,
              "#46039f"
             ],
             [
              0.2222222222222222,
              "#7201a8"
             ],
             [
              0.3333333333333333,
              "#9c179e"
             ],
             [
              0.4444444444444444,
              "#bd3786"
             ],
             [
              0.5555555555555556,
              "#d8576b"
             ],
             [
              0.6666666666666666,
              "#ed7953"
             ],
             [
              0.7777777777777778,
              "#fb9f3a"
             ],
             [
              0.8888888888888888,
              "#fdca26"
             ],
             [
              1,
              "#f0f921"
             ]
            ],
            "type": "contour"
           }
          ],
          "contourcarpet": [
           {
            "colorbar": {
             "outlinewidth": 0,
             "ticks": ""
            },
            "type": "contourcarpet"
           }
          ],
          "heatmap": [
           {
            "colorbar": {
             "outlinewidth": 0,
             "ticks": ""
            },
            "colorscale": [
             [
              0,
              "#0d0887"
             ],
             [
              0.1111111111111111,
              "#46039f"
             ],
             [
              0.2222222222222222,
              "#7201a8"
             ],
             [
              0.3333333333333333,
              "#9c179e"
             ],
             [
              0.4444444444444444,
              "#bd3786"
             ],
             [
              0.5555555555555556,
              "#d8576b"
             ],
             [
              0.6666666666666666,
              "#ed7953"
             ],
             [
              0.7777777777777778,
              "#fb9f3a"
             ],
             [
              0.8888888888888888,
              "#fdca26"
             ],
             [
              1,
              "#f0f921"
             ]
            ],
            "type": "heatmap"
           }
          ],
          "histogram": [
           {
            "marker": {
             "pattern": {
              "fillmode": "overlay",
              "size": 10,
              "solidity": 0.2
             }
            },
            "type": "histogram"
           }
          ],
          "histogram2d": [
           {
            "colorbar": {
             "outlinewidth": 0,
             "ticks": ""
            },
            "colorscale": [
             [
              0,
              "#0d0887"
             ],
             [
              0.1111111111111111,
              "#46039f"
             ],
             [
              0.2222222222222222,
              "#7201a8"
             ],
             [
              0.3333333333333333,
              "#9c179e"
             ],
             [
              0.4444444444444444,
              "#bd3786"
             ],
             [
              0.5555555555555556,
              "#d8576b"
             ],
             [
              0.6666666666666666,
              "#ed7953"
             ],
             [
              0.7777777777777778,
              "#fb9f3a"
             ],
             [
              0.8888888888888888,
              "#fdca26"
             ],
             [
              1,
              "#f0f921"
             ]
            ],
            "type": "histogram2d"
           }
          ],
          "histogram2dcontour": [
           {
            "colorbar": {
             "outlinewidth": 0,
             "ticks": ""
            },
            "colorscale": [
             [
              0,
              "#0d0887"
             ],
             [
              0.1111111111111111,
              "#46039f"
             ],
             [
              0.2222222222222222,
              "#7201a8"
             ],
             [
              0.3333333333333333,
              "#9c179e"
             ],
             [
              0.4444444444444444,
              "#bd3786"
             ],
             [
              0.5555555555555556,
              "#d8576b"
             ],
             [
              0.6666666666666666,
              "#ed7953"
             ],
             [
              0.7777777777777778,
              "#fb9f3a"
             ],
             [
              0.8888888888888888,
              "#fdca26"
             ],
             [
              1,
              "#f0f921"
             ]
            ],
            "type": "histogram2dcontour"
           }
          ],
          "mesh3d": [
           {
            "colorbar": {
             "outlinewidth": 0,
             "ticks": ""
            },
            "type": "mesh3d"
           }
          ],
          "parcoords": [
           {
            "line": {
             "colorbar": {
              "outlinewidth": 0,
              "ticks": ""
             }
            },
            "type": "parcoords"
           }
          ],
          "pie": [
           {
            "automargin": true,
            "type": "pie"
           }
          ],
          "scatter": [
           {
            "fillpattern": {
             "fillmode": "overlay",
             "size": 10,
             "solidity": 0.2
            },
            "type": "scatter"
           }
          ],
          "scatter3d": [
           {
            "line": {
             "colorbar": {
              "outlinewidth": 0,
              "ticks": ""
             }
            },
            "marker": {
             "colorbar": {
              "outlinewidth": 0,
              "ticks": ""
             }
            },
            "type": "scatter3d"
           }
          ],
          "scattercarpet": [
           {
            "marker": {
             "colorbar": {
              "outlinewidth": 0,
              "ticks": ""
             }
            },
            "type": "scattercarpet"
           }
          ],
          "scattergeo": [
           {
            "marker": {
             "colorbar": {
              "outlinewidth": 0,
              "ticks": ""
             }
            },
            "type": "scattergeo"
           }
          ],
          "scattergl": [
           {
            "marker": {
             "colorbar": {
              "outlinewidth": 0,
              "ticks": ""
             }
            },
            "type": "scattergl"
           }
          ],
          "scattermap": [
           {
            "marker": {
             "colorbar": {
              "outlinewidth": 0,
              "ticks": ""
             }
            },
            "type": "scattermap"
           }
          ],
          "scattermapbox": [
           {
            "marker": {
             "colorbar": {
              "outlinewidth": 0,
              "ticks": ""
             }
            },
            "type": "scattermapbox"
           }
          ],
          "scatterpolar": [
           {
            "marker": {
             "colorbar": {
              "outlinewidth": 0,
              "ticks": ""
             }
            },
            "type": "scatterpolar"
           }
          ],
          "scatterpolargl": [
           {
            "marker": {
             "colorbar": {
              "outlinewidth": 0,
              "ticks": ""
             }
            },
            "type": "scatterpolargl"
           }
          ],
          "scatterternary": [
           {
            "marker": {
             "colorbar": {
              "outlinewidth": 0,
              "ticks": ""
             }
            },
            "type": "scatterternary"
           }
          ],
          "surface": [
           {
            "colorbar": {
             "outlinewidth": 0,
             "ticks": ""
            },
            "colorscale": [
             [
              0,
              "#0d0887"
             ],
             [
              0.1111111111111111,
              "#46039f"
             ],
             [
              0.2222222222222222,
              "#7201a8"
             ],
             [
              0.3333333333333333,
              "#9c179e"
             ],
             [
              0.4444444444444444,
              "#bd3786"
             ],
             [
              0.5555555555555556,
              "#d8576b"
             ],
             [
              0.6666666666666666,
              "#ed7953"
             ],
             [
              0.7777777777777778,
              "#fb9f3a"
             ],
             [
              0.8888888888888888,
              "#fdca26"
             ],
             [
              1,
              "#f0f921"
             ]
            ],
            "type": "surface"
           }
          ],
          "table": [
           {
            "cells": {
             "fill": {
              "color": "#EBF0F8"
             },
             "line": {
              "color": "white"
             }
            },
            "header": {
             "fill": {
              "color": "#C8D4E3"
             },
             "line": {
              "color": "white"
             }
            },
            "type": "table"
           }
          ]
         },
         "layout": {
          "annotationdefaults": {
           "arrowcolor": "#2a3f5f",
           "arrowhead": 0,
           "arrowwidth": 1
          },
          "autotypenumbers": "strict",
          "coloraxis": {
           "colorbar": {
            "outlinewidth": 0,
            "ticks": ""
           }
          },
          "colorscale": {
           "diverging": [
            [
             0,
             "#8e0152"
            ],
            [
             0.1,
             "#c51b7d"
            ],
            [
             0.2,
             "#de77ae"
            ],
            [
             0.3,
             "#f1b6da"
            ],
            [
             0.4,
             "#fde0ef"
            ],
            [
             0.5,
             "#f7f7f7"
            ],
            [
             0.6,
             "#e6f5d0"
            ],
            [
             0.7,
             "#b8e186"
            ],
            [
             0.8,
             "#7fbc41"
            ],
            [
             0.9,
             "#4d9221"
            ],
            [
             1,
             "#276419"
            ]
           ],
           "sequential": [
            [
             0,
             "#0d0887"
            ],
            [
             0.1111111111111111,
             "#46039f"
            ],
            [
             0.2222222222222222,
             "#7201a8"
            ],
            [
             0.3333333333333333,
             "#9c179e"
            ],
            [
             0.4444444444444444,
             "#bd3786"
            ],
            [
             0.5555555555555556,
             "#d8576b"
            ],
            [
             0.6666666666666666,
             "#ed7953"
            ],
            [
             0.7777777777777778,
             "#fb9f3a"
            ],
            [
             0.8888888888888888,
             "#fdca26"
            ],
            [
             1,
             "#f0f921"
            ]
           ],
           "sequentialminus": [
            [
             0,
             "#0d0887"
            ],
            [
             0.1111111111111111,
             "#46039f"
            ],
            [
             0.2222222222222222,
             "#7201a8"
            ],
            [
             0.3333333333333333,
             "#9c179e"
            ],
            [
             0.4444444444444444,
             "#bd3786"
            ],
            [
             0.5555555555555556,
             "#d8576b"
            ],
            [
             0.6666666666666666,
             "#ed7953"
            ],
            [
             0.7777777777777778,
             "#fb9f3a"
            ],
            [
             0.8888888888888888,
             "#fdca26"
            ],
            [
             1,
             "#f0f921"
            ]
           ]
          },
          "colorway": [
           "#636efa",
           "#EF553B",
           "#00cc96",
           "#ab63fa",
           "#FFA15A",
           "#19d3f3",
           "#FF6692",
           "#B6E880",
           "#FF97FF",
           "#FECB52"
          ],
          "font": {
           "color": "#2a3f5f"
          },
          "geo": {
           "bgcolor": "white",
           "lakecolor": "white",
           "landcolor": "#E5ECF6",
           "showlakes": true,
           "showland": true,
           "subunitcolor": "white"
          },
          "hoverlabel": {
           "align": "left"
          },
          "hovermode": "closest",
          "mapbox": {
           "style": "light"
          },
          "paper_bgcolor": "white",
          "plot_bgcolor": "#E5ECF6",
          "polar": {
           "angularaxis": {
            "gridcolor": "white",
            "linecolor": "white",
            "ticks": ""
           },
           "bgcolor": "#E5ECF6",
           "radialaxis": {
            "gridcolor": "white",
            "linecolor": "white",
            "ticks": ""
           }
          },
          "scene": {
           "xaxis": {
            "backgroundcolor": "#E5ECF6",
            "gridcolor": "white",
            "gridwidth": 2,
            "linecolor": "white",
            "showbackground": true,
            "ticks": "",
            "zerolinecolor": "white"
           },
           "yaxis": {
            "backgroundcolor": "#E5ECF6",
            "gridcolor": "white",
            "gridwidth": 2,
            "linecolor": "white",
            "showbackground": true,
            "ticks": "",
            "zerolinecolor": "white"
           },
           "zaxis": {
            "backgroundcolor": "#E5ECF6",
            "gridcolor": "white",
            "gridwidth": 2,
            "linecolor": "white",
            "showbackground": true,
            "ticks": "",
            "zerolinecolor": "white"
           }
          },
          "shapedefaults": {
           "line": {
            "color": "#2a3f5f"
           }
          },
          "ternary": {
           "aaxis": {
            "gridcolor": "white",
            "linecolor": "white",
            "ticks": ""
           },
           "baxis": {
            "gridcolor": "white",
            "linecolor": "white",
            "ticks": ""
           },
           "bgcolor": "#E5ECF6",
           "caxis": {
            "gridcolor": "white",
            "linecolor": "white",
            "ticks": ""
           }
          },
          "title": {
           "x": 0.05
          },
          "xaxis": {
           "automargin": true,
           "gridcolor": "white",
           "linecolor": "white",
           "ticks": "",
           "title": {
            "standoff": 15
           },
           "zerolinecolor": "white",
           "zerolinewidth": 2
          },
          "yaxis": {
           "automargin": true,
           "gridcolor": "white",
           "linecolor": "white",
           "ticks": "",
           "title": {
            "standoff": 15
           },
           "zerolinecolor": "white",
           "zerolinewidth": 2
          }
         }
        },
        "title": {
         "text": "Simulation Markers",
         "x": 0.5,
         "xanchor": "center"
        },
        "width": 800
       }
      }
     },
     "metadata": {},
     "output_type": "display_data"
    }
   ],
   "source": [
    "offsets = [(-10, 0, 0, 0),(10, 0, 0, 0)]#\n",
    "n_uavs = len(offsets)\n",
    "\n",
    "\n",
    "homes=np.array([offset[:3] for offset in offsets])\n",
    "\n",
    "global_paths=[np.array([[-10, 0, 5],[10, 0, 5]]),\n",
    "              np.array([[10, 0, 5],[-10, 0, 5]])]\n",
    "\n",
    "# global_paths=[np.array([[-10, 0, 5],[10, 0, 5]]),\n",
    "#               np.array([[10, 0, 5],[2, 0, 5]])]\n",
    "local_paths=[global2local(path, home,pairwise=True) for path,home in zip(global_paths,homes)]\n",
    "plans=[Plan.basic(wps=path,alt=5,wp_margin=0.5,navegation_speed=1) for path in local_paths]\n",
    "\n",
    "\n",
    "\n",
    "## Debouging\n",
    "# plan1=Plan.basic(wps=local_paths[0],alt=5,wp_margin=0.5,navegation_speed=1,verbose=2)\n",
    "# from plan.actions.pre_arm import make_pre_arm\n",
    "# from plan.actions.change_mode import make_set_mode\n",
    "# from plan.actions.arm import make_arm\n",
    "# from plan.actions.take_off import make_takeoff\n",
    "# from plan.actions.land import make_land\n",
    "# from plan.actions.change_parameter import make_change_nav_speed\n",
    "# from plan.actions.navegation import make_path\n",
    "# verbose=0\n",
    "# navegation_speed=1\n",
    "# alt=5\n",
    "# wp_margin=0.5\n",
    "\n",
    "\n",
    "# plan2=Plan('hover')\n",
    "# plan2.add(make_pre_arm(verbose=verbose))\n",
    "# if navegation_speed!=5:\n",
    "#     plan2.add(make_change_nav_speed(speed=navegation_speed,verbose=verbose))\n",
    "# plan2.add(make_set_mode('GUIDED',verbose=verbose))\n",
    "# plan2.add(make_arm(verbose=verbose))\n",
    "# plan2.add(make_takeoff(altitude=alt,wp_margin=wp_margin,verbose=verbose))\n",
    "# plan2.add(make_path(wps=local_paths[1],wp_margin=wp_margin,verbose=verbose))\n",
    "# plans=[plan1,plan2]\n",
    "\n",
    "\n",
    "markers = {f'waypoints': {'pos':global_paths[0],'color':'blue'}}\n",
    "\n",
    "\n",
    "plot_3d_interactive(markers,title='Simulation Markers',expand=[0.2,0.2,0.6],ground=-0.05)\n",
    "\n",
    "\n",
    "\n",
    "if simulator == 'QGroundControl':\n",
    "    home_position=(-35.3633245,149.1652241,0,0)\n",
    "    spawns=find_spawns(home_position, offsets)"
   ]
  },
  {
   "cell_type": "markdown",
   "metadata": {},
   "source": [
    "## Waypoint seletion algorithm"
   ]
  },
  {
   "cell_type": "code",
   "execution_count": 7,
   "metadata": {},
   "outputs": [],
   "source": [
    "if simulator == 'QGroundControl':\n",
    "    sim_path = os.path.expanduser(QGC_path)\n",
    "    sim_cmd =[sim_path]\n",
    "elif simulator == 'gazebo':\n",
    "    # Convert to Gazebo format (name, x, y, z, roll, pitch, yaw)\n",
    "    drones = [(east, north, up, 0, 0, heading_to_yaw(heading)) for i, (east, north, up, heading) in enumerate(offsets)]\n",
    "    world_path = os.path.expanduser(gazebo_word_path)\n",
    "    updated_world_path = update_world(drones,markers,world_path)\n",
    "    sim_cmd = [\"gazebo\", \"--verbose\", updated_world_path] \n",
    "\n",
    "simulator_process = subprocess.Popen(\n",
    "                    sim_cmd,\n",
    "                    stdout=subprocess.DEVNULL,  # Suppress standard output\n",
    "                    stderr=subprocess.DEVNULL,  # Suppress error output\n",
    "                    shell=False  # Ensure safety when passing arguments\n",
    "                    )"
   ]
  },
  {
   "cell_type": "markdown",
   "metadata": {},
   "source": [
    "Launch Vehicle"
   ]
  },
  {
   "cell_type": "code",
   "execution_count": 8,
   "metadata": {},
   "outputs": [],
   "source": [
    "vehicle_path = os.path.expanduser(ardupilot_vehicle_path)"
   ]
  },
  {
   "cell_type": "code",
   "execution_count": 9,
   "metadata": {},
   "outputs": [],
   "source": [
    "for i in range(n_uavs):\n",
    "    vehicle_cmd = f\"python3 {vehicle_path} -v ArduCopter -I{i} --sysid {i+1} --no-rebuild\"\n",
    "    if simulator == 'QGroundControl':\n",
    "        spawn=','.join(map(str, spawns[i]))\n",
    "        vehicle_cmd += f\" --custom-location={spawn}\"\n",
    "    elif simulator == 'gazebo':\n",
    "        vehicle_cmd += \" -f gazebo-iris\"\n",
    "    subprocess.Popen([\"gnome-terminal\", \"--\", \"bash\", \"-c\", f\"{vehicle_cmd}; exec bash\"])"
   ]
  },
  {
   "cell_type": "markdown",
   "metadata": {},
   "source": [
    "Create UavLogic"
   ]
  },
  {
   "cell_type": "code",
   "execution_count": 10,
   "metadata": {},
   "outputs": [
    {
     "name": "stdout",
     "output_type": "stream",
     "text": [
      "vehicle 1 created\n",
      "vehicle 2 created\n"
     ]
    }
   ],
   "source": [
    "uavs=[]\n",
    "for i,(plan,home) in enumerate(zip(plans,homes)):\n",
    "    uavs.append(VehicleLogic(sys_id=i+1,\n",
    "                    home=home,\n",
    "                    plan= plan))"
   ]
  },
  {
   "cell_type": "code",
   "execution_count": 11,
   "metadata": {},
   "outputs": [],
   "source": [
    "def get_nearest_neighbor(target_id,positions_dict):\n",
    "    target_position = np.array(positions_dict[target_id])  # Get the position of the target ID\n",
    "    \n",
    "    min_distance = float('inf')\n",
    "    nearest_id = None\n",
    "\n",
    "    for other_id, position in positions_dict.items():\n",
    "        if other_id == target_id:\n",
    "            continue  # Skip itself\n",
    "        \n",
    "        distance = np.linalg.norm(target_position - np.array(position))  # Compute Euclidean distance\n",
    "        \n",
    "        if distance < min_distance:\n",
    "            min_distance = distance\n",
    "            nearest_id = other_id  # Update nearest ID\n",
    "    \n",
    "    return nearest_id,min_distance"
   ]
  },
  {
   "cell_type": "code",
   "execution_count": 12,
   "metadata": {},
   "outputs": [
    {
     "name": "stdout",
     "output_type": "stream",
     "text": [
      "🕓 <Plan 'basic'>\n",
      "  🕓 <Action 'Pre-Arm Check'>\n",
      "    🕓 <Step 'Check disarmed'>\n",
      "    🕓 <Step 'Check EKF'>\n",
      "    🕓 <Step 'Check GPS'>\n",
      "    🕓 <Step 'Check system'>\n",
      "  🕓 <Action 'Set Navigation Speed'>\n",
      "    🕓 <Step 'Set speed to 1.00 m/s'>\n",
      "  🕓 <Action 'Set Mode: GUIDED'>\n",
      "    🕓 <Step 'Switch to GUIDED'>\n",
      "  🕓 <Action 'Arm'>\n",
      "    🕓 <Step 'arm'>\n",
      "  🕓 <Action 'takeoff'>\n",
      "    🕓 <Step 'takeoff'>\n",
      "  🕓 <Action 'fly'>\n",
      "    🕓 <Step 'go to  -> (0, 0, 5)'>\n",
      "    🕓 <Step 'go to  -> (20, 0, 5)'>\n",
      "  🕓 <Action 'Land'>\n",
      "    🕓 <Step 'land'>\n"
     ]
    }
   ],
   "source": [
    "print(uavs[0].plan)"
   ]
  },
  {
   "cell_type": "code",
   "execution_count": 13,
   "metadata": {},
   "outputs": [],
   "source": [
    "def get_avoidance_wp(pos: np.ndarray,\n",
    "                    obj_pos:np.ndarray,\n",
    "                    goal_pos:np.ndarray,\n",
    "                    direction: str = 'left'):\n",
    "    \"\"\"\n",
    "    Sends a velocity command in body frame, orthogonal to the direction of wp.\n",
    "    `direction` can be 'left' or 'right' (relative to wp direction).\n",
    "    \"\"\"\n",
    "\n",
    "    # Normalize wp direction (ignore Z)\n",
    "    obj_dir = (obj_pos -pos)[:2]\n",
    "    goal_dir = (goal_pos -pos)[:2]\n",
    "    if np.dot(obj_dir,goal_dir)<0:\n",
    "        return goal_pos\n",
    "    obj_dir = obj_dir / np.linalg.norm(obj_dir)\n",
    "    # Get orthogonal direction\n",
    "    if direction == 'left':\n",
    "        ortho = np.array([-obj_dir[1], obj_dir[0],0])\n",
    "    elif direction == 'right':\n",
    "        ortho = np.array([obj_dir[1], -obj_dir[0],0])\n",
    "    else:\n",
    "        raise ValueError(\"Direction must be 'left' or 'right'\")\n",
    "\n",
    "    # Scale to desired speed\n",
    "    return pos+ortho\n",
    "   "
   ]
  },
  {
   "cell_type": "code",
   "execution_count": 14,
   "metadata": {},
   "outputs": [
    {
     "data": {
      "text/plain": [
       "'NOT_STARTED'"
      ]
     },
     "execution_count": 14,
     "metadata": {},
     "output_type": "execute_result"
    }
   ],
   "source": [
    "uavs[0].current_step().state"
   ]
  },
  {
   "cell_type": "code",
   "execution_count": 15,
   "metadata": {},
   "outputs": [
    {
     "data": {
      "text/plain": [
       "🕓 <Plan 'basic'>\n",
       "  🕓 <Action 'Pre-Arm Check'>\n",
       "    🕓 <Step 'Check disarmed'>\n",
       "    🕓 <Step 'Check EKF'>\n",
       "    🕓 <Step 'Check GPS'>\n",
       "    🕓 <Step 'Check system'>\n",
       "  🕓 <Action 'Set Navigation Speed'>\n",
       "    🕓 <Step 'Set speed to 1.00 m/s'>\n",
       "  🕓 <Action 'Set Mode: GUIDED'>\n",
       "    🕓 <Step 'Switch to GUIDED'>\n",
       "  🕓 <Action 'Arm'>\n",
       "    🕓 <Step 'arm'>\n",
       "  🕓 <Action 'takeoff'>\n",
       "    🕓 <Step 'takeoff'>\n",
       "  🕓 <Action 'fly'>\n",
       "    🕓 <Step 'go to  -> (0, 0, 5)'>\n",
       "    🕓 <Step 'go to  -> (20, 0, 5)'>\n",
       "  🕓 <Action 'Land'>\n",
       "    🕓 <Step 'land'>"
      ]
     },
     "execution_count": 15,
     "metadata": {},
     "output_type": "execute_result"
    }
   ],
   "source": [
    "uavs[0].plan"
   ]
  },
  {
   "cell_type": "markdown",
   "metadata": {},
   "source": [
    "## Execute Plan"
   ]
  },
  {
   "cell_type": "code",
   "execution_count": null,
   "metadata": {},
   "outputs": [
    {
     "name": "stdout",
     "output_type": "stream",
     "text": [
      "Vehicle 1: Plan 'basic' is now connected ✅🔗\n",
      "Vehicle 1: ▶️ Starting Plan: basic\n",
      "Vehicle 2: Plan 'basic' is now connected ✅🔗\n",
      "Vehicle 2: ▶️ Starting Plan: basic\n",
      "Vehicle 1: Action 'Pre-Arm Check' is now connected ✅🔗\n",
      "Vehicle 1: ▶️ Starting Action: Pre-Arm Check\n",
      "Vehicle 2: Action 'Pre-Arm Check' is now connected ✅🔗\n",
      "Vehicle 2: ▶️ Starting Action: Pre-Arm Check\n",
      "Vehicle 1: Step 'Check disarmed' is now connected ✅🔗\n",
      "Vehicle 1: ▶️ Starting Step: Check disarmed\n",
      "Vehicle 2: Step 'Check disarmed' is now connected ✅🔗\n",
      "Vehicle 2: ▶️ Starting Step: Check disarmed\n",
      "Vehicle 1: ✅ Step: Check disarmed is done\n",
      "Vehicle 1: Step 'Check EKF' is now connected ✅🔗\n",
      "Vehicle 1: ▶️ Starting Step: Check EKF\n",
      "Vehicle 2: ✅ Step: Check disarmed is done\n",
      "Vehicle 2: Step 'Check EKF' is now connected ✅🔗\n",
      "Vehicle 2: ▶️ Starting Step: Check EKF\n"
     ]
    }
   ],
   "source": [
    "from helpers.change_coordinates import local2global\n",
    "from plan.actions.navegation import get_local_position,make_go_to\n",
    "from plan.actions.avoidance import exec_avoid_move,stop_position_hold\n",
    "\n",
    "\n",
    "mission_incomplete = set(range(n_uavs))\n",
    "global_poss = {}\n",
    "collision_modes=n_uavs*[False]\n",
    "while mission_incomplete:\n",
    "    ## Get global positions\n",
    "    for i in mission_incomplete:\n",
    "        uav=uavs[i]\n",
    "        current_action=uav.current_action().name \n",
    "        if current_action in ['takeoff','fly']:\n",
    "            local_pos=get_local_position(uav.conn)\n",
    "            if local_pos is not False:\n",
    "                global_poss[i] = local2global(local_pos,uav.home,pairwise=True)\n",
    "    to_remove = set()\n",
    "    for i in mission_incomplete:\n",
    "        uav = uavs[i]\n",
    "        if i in global_poss.keys():\n",
    "            j,min_dist=get_nearest_neighbor(target_id=i,positions_dict=global_poss)\n",
    "            if min_dist<5 and not collision_modes[i]:  \n",
    "                collision_modes[i]=True\n",
    "                wp=uav.plan.current.current.wp\n",
    "                print('waypoint',wp)\n",
    "                next_wp = get_avoidance_wp(pos=global2local(global_poss[i],uav.home,pairwise=True),\n",
    "                                           obj_pos=global2local(global_poss[j],uav.home,pairwise=True),\n",
    "                                           goal_pos=wp)\n",
    "                print(next_wp)\n",
    "                next_step=make_go_to(wp=next_wp,wp_margin=0.5,verbose=2,cause_text='(avoidance)')\n",
    "                uav.plan.current.add_now(next_step)\n",
    "            if collision_modes[i] and uav.current_step().state==State.DONE:\n",
    "                collision_modes[i] = False\n",
    "                print(collision_modes[i])\n",
    "        uav.act_plan()\n",
    "        if uav.plan.state == State.DONE:\n",
    "            to_remove.add(i)\n",
    "            \n",
    "    mission_incomplete -= to_remove  # batch-remove outside the loop"
   ]
  },
  {
   "cell_type": "code",
   "execution_count": null,
   "metadata": {},
   "outputs": [
    {
     "name": "stdout",
     "output_type": "stream",
     "text": [
      "✅ <Plan 'basic plan'>\n",
      "  ✅ <Action 'Pre-Arm Check'>\n",
      "    ✅ <Step 'Check disarmed'>\n",
      "    ✅ <Step 'Check EKF'>\n",
      "    ✅ <Step 'Check GPS'>\n",
      "    ✅ <Step 'Check system'>\n",
      "  ✅ <Action 'Set Navigation Speed'>\n",
      "    ✅ <Step 'Set speed to 1.00 m/s'>\n",
      "  ✅ <Action 'Set Mode: GUIDED'>\n",
      "    ✅ <Step 'Switch to GUIDED'>\n",
      "  ✅ <Action 'Arm'>\n",
      "    ✅ <Step 'arm'>\n",
      "  ✅ <Action 'takeoff'>\n",
      "    ✅ <Step 'takeoff'>\n",
      "  ✅ <Action 'fly'>\n",
      "    ✅ <Step 'go to  -> (0, 0, 5)'>\n",
      "    ✅ <Step 'go to (avoidance) -> (7.334704943408686, 1.0200536488128897, 5.001916408538818)'>\n",
      "    ✅ <Step 'go to (avoidance) -> (8.01579817158183, 1.5958534180579984, 5.0009002685546875)'>\n",
      "    ✅ <Step 'go to (avoidance) -> (8.382907688865584, 2.295544151763445, 4.995889663696289)'>\n",
      "    ✅ <Step 'go to (avoidance) -> (8.883096913288071, 2.442883137738055, 4.987478256225586)'>\n",
      "    ✅ <Step 'go to (avoidance) -> (8.883096913288071, 2.442883137738055, 4.987478256225586)'>\n",
      "    ✅ <Step 'go to (avoidance) -> (10.27361504835895, 2.5101019010282375, 4.978052139282227)'>\n",
      "    ✅ <Step 'go to (avoidance) -> (11.101881126166624, 2.0949936677200562, 4.977351188659668)'>\n",
      "    ✅ <Step 'go to  -> (20, 0, 5)'>\n",
      "  ✅ <Action 'Land'>\n",
      "    ✅ <Step 'land'>\n"
     ]
    }
   ],
   "source": [
    "print(uavs[0].plan)"
   ]
  },
  {
   "cell_type": "code",
   "execution_count": null,
   "metadata": {},
   "outputs": [
    {
     "name": "stdout",
     "output_type": "stream",
     "text": [
      "✅ <Plan 'basic plan'>\n",
      "  ✅ <Action 'Pre-Arm Check'>\n",
      "    ✅ <Step 'Check disarmed'>\n",
      "    ✅ <Step 'Check EKF'>\n",
      "    ✅ <Step 'Check GPS'>\n",
      "    ✅ <Step 'Check system'>\n",
      "  ✅ <Action 'Set Navigation Speed'>\n",
      "    ✅ <Step 'Set speed to 1.00 m/s'>\n",
      "  ✅ <Action 'Set Mode: GUIDED'>\n",
      "    ✅ <Step 'Switch to GUIDED'>\n",
      "  ✅ <Action 'Arm'>\n",
      "    ✅ <Step 'arm'>\n",
      "  ✅ <Action 'takeoff'>\n",
      "    ✅ <Step 'takeoff'>\n",
      "  ✅ <Action 'fly'>\n",
      "    ✅ <Step 'go to  -> (0, 0, 5)'>\n",
      "    ✅ <Step 'go to (avoidance) -> (-7.8357396800419865, -1.0260100899769065, 4.963913440704346)'>\n",
      "    ✅ <Step 'go to (avoidance) -> (-8.749456962170209, -1.4787887632308805, 4.966546058654785)'>\n",
      "    ✅ <Step 'go to (avoidance) -> (-8.674069700917528, -2.1108310022028953, 4.963695526123047)'>\n",
      "    ✅ <Step 'go to (avoidance) -> (-9.230858931070005, -2.308686491452498, 4.963657855987549)'>\n",
      "    ✅ <Step 'go to (avoidance) -> (-9.48250506300731, -2.4973369875305353, 4.9594645500183105)'>\n",
      "    ✅ <Step 'go to (avoidance) -> (-9.48250506300731, -2.4973369875305353, 4.9594645500183105)'>\n",
      "    ✅ <Step 'go to (avoidance) -> (-11.079412625263247, -2.569874869320474, 4.962131977081299)'>\n",
      "    ✅ <Step 'go to (avoidance) -> (-11.73601637244348, -2.1914935876114137, 4.965050220489502)'>\n",
      "    ✅ <Step 'go to (avoidance) -> (-11.73601637244348, -2.1914935876114137, 4.965050220489502)'>\n",
      "    ✅ <Step 'go to  -> (-20, 0, 5)'>\n",
      "  ✅ <Action 'Land'>\n",
      "    ✅ <Step 'land'>\n"
     ]
    }
   ],
   "source": [
    "print(uavs[1].plan)"
   ]
  },
  {
   "cell_type": "markdown",
   "metadata": {},
   "source": [
    "## Kill all related process"
   ]
  },
  {
   "cell_type": "code",
   "execution_count": null,
   "metadata": {},
   "outputs": [],
   "source": [
    "# for process in [\"QGroundControl\", \"sim_vehicle.py\", \"arducopter\", \"gazebo\", \"mavproxy\"]:\n",
    "#     os.system(f\"pkill -9 -f {process}\")"
   ]
  },
  {
   "cell_type": "code",
   "execution_count": null,
   "metadata": {},
   "outputs": [],
   "source": []
  }
 ],
 "metadata": {
  "kernelspec": {
   "display_name": "Python 3",
   "language": "python",
   "name": "python3"
  },
  "language_info": {
   "codemirror_mode": {
    "name": "ipython",
    "version": 3
   },
   "file_extension": ".py",
   "mimetype": "text/x-python",
   "name": "python",
   "nbconvert_exporter": "python",
   "pygments_lexer": "ipython3",
   "version": "3.9.21"
  }
 },
 "nbformat": 4,
 "nbformat_minor": 2
}
