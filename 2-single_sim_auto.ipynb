{
 "cells": [
  {
   "cell_type": "markdown",
   "metadata": {},
   "source": [
    "## Auto mode (single uav)\n",
    "\n",
    "This is for testing propouses"
   ]
  },
  {
   "cell_type": "code",
   "execution_count": 1,
   "metadata": {},
   "outputs": [],
   "source": [
    "# Custom modules\n",
    "from config import Color\n",
    "from helpers import clean  #, local2global\n",
    "from helpers.change_coordinates import ENUs_to_GRAs, rel_to_abs\n",
    "from mavlink.customtypes.location import ENU, ENUPose, GRAPose\n",
    "from mavlink.util import save_mission\n",
    "from plan import Plan\n",
    "from simulators import QGC, ConfigGazebo, Gazebo, NoneVisualizer, Simulator\n",
    "\n",
    "clean()"
   ]
  },
  {
   "cell_type": "markdown",
   "metadata": {},
   "source": [
    "## Create mission"
   ]
  },
  {
   "cell_type": "code",
   "execution_count": 2,
   "metadata": {},
   "outputs": [],
   "source": [
    "mission_name = \"square\"\n",
    "offset = ENUPose(0,0,0,0)  # east, north, up, heading \n",
    "origin = GRAPose(-35.363261, 149.165230, 0, 0)\n",
    "rel_path = Plan.create_square_path(side_len=10, alt=5)"
   ]
  },
  {
   "cell_type": "markdown",
   "metadata": {},
   "source": [
    "## Convert to Global (ENU) coordinates"
   ]
  },
  {
   "cell_type": "code",
   "execution_count": 3,
   "metadata": {},
   "outputs": [],
   "source": [
    "home = ENU(*offset[:3])\n",
    "abs_path = [rel_to_abs(pos, home, cls=ENU) for pos in rel_path]"
   ]
  },
  {
   "cell_type": "markdown",
   "metadata": {},
   "source": [
    "## Create Plan"
   ]
  },
  {
   "cell_type": "code",
   "execution_count": 4,
   "metadata": {},
   "outputs": [],
   "source": [
    "gra_offset = ENUs_to_GRAs(origin, [offset])[0]\n",
    "gra_path = ENUs_to_GRAs(origin, abs_path)\n",
    "save_mission(name=mission_name,poses=gra_path)"
   ]
  },
  {
   "cell_type": "code",
   "execution_count": 5,
   "metadata": {},
   "outputs": [
    {
     "data": {
      "text/plain": [
       "[GRAPose(lat=-35.363261, lon=149.16523, alt=5, heading=0.0),\n",
       " GRAPose(lat=-35.36317116795047, lon=149.16523, alt=5, heading=0.0),\n",
       " GRAPose(lat=-35.36317116790048, lon=149.16534015579612, alt=5, heading=0.0),\n",
       " GRAPose(lat=-35.36326099995002, lon=149.16534015591867, alt=5, heading=0.0),\n",
       " GRAPose(lat=-35.363261, lon=149.16523, alt=5, heading=0.0)]"
      ]
     },
     "execution_count": 5,
     "metadata": {},
     "output_type": "execute_result"
    }
   ],
   "source": [
    "gra_path "
   ]
  },
  {
   "cell_type": "markdown",
   "metadata": {},
   "source": [
    "## Visualization Parameters"
   ]
  },
  {
   "cell_type": "code",
   "execution_count": null,
   "metadata": {},
   "outputs": [
    {
     "data": {
      "application/vnd.plotly.v1+json": {
       "config": {
        "plotlyServerURL": "https://plot.ly"
       },
       "data": [
        {
         "marker": {
          "color": [
           "blue",
           "blue",
           "blue",
           "blue",
           "blue"
          ],
          "size": 6
         },
         "mode": "markers",
         "name": "trajectory 0",
         "type": "scatter3d",
         "x": [
          0,
          0,
          10,
          10,
          0
         ],
         "y": [
          0,
          10,
          10,
          0,
          0
         ],
         "z": [
          5,
          5,
          5,
          5,
          5
         ]
        }
       ],
       "layout": {
        "height": 600,
        "scene": {
         "xaxis": {
          "range": [
           -2,
           12
          ],
          "title": {
           "text": "x"
          }
         },
         "yaxis": {
          "range": [
           -2,
           12
          ],
          "title": {
           "text": "y"
          }
         },
         "zaxis": {
          "range": [
           -0.05,
           5
          ],
          "title": {
           "text": "z"
          }
         }
        },
        "showlegend": true,
        "template": {
         "data": {
          "bar": [
           {
            "error_x": {
             "color": "#2a3f5f"
            },
            "error_y": {
             "color": "#2a3f5f"
            },
            "marker": {
             "line": {
              "color": "#E5ECF6",
              "width": 0.5
             },
             "pattern": {
              "fillmode": "overlay",
              "size": 10,
              "solidity": 0.2
             }
            },
            "type": "bar"
           }
          ],
          "barpolar": [
           {
            "marker": {
             "line": {
              "color": "#E5ECF6",
              "width": 0.5
             },
             "pattern": {
              "fillmode": "overlay",
              "size": 10,
              "solidity": 0.2
             }
            },
            "type": "barpolar"
           }
          ],
          "carpet": [
           {
            "aaxis": {
             "endlinecolor": "#2a3f5f",
             "gridcolor": "white",
             "linecolor": "white",
             "minorgridcolor": "white",
             "startlinecolor": "#2a3f5f"
            },
            "baxis": {
             "endlinecolor": "#2a3f5f",
             "gridcolor": "white",
             "linecolor": "white",
             "minorgridcolor": "white",
             "startlinecolor": "#2a3f5f"
            },
            "type": "carpet"
           }
          ],
          "choropleth": [
           {
            "colorbar": {
             "outlinewidth": 0,
             "ticks": ""
            },
            "type": "choropleth"
           }
          ],
          "contour": [
           {
            "colorbar": {
             "outlinewidth": 0,
             "ticks": ""
            },
            "colorscale": [
             [
              0,
              "#0d0887"
             ],
             [
              0.1111111111111111,
              "#46039f"
             ],
             [
              0.2222222222222222,
              "#7201a8"
             ],
             [
              0.3333333333333333,
              "#9c179e"
             ],
             [
              0.4444444444444444,
              "#bd3786"
             ],
             [
              0.5555555555555556,
              "#d8576b"
             ],
             [
              0.6666666666666666,
              "#ed7953"
             ],
             [
              0.7777777777777778,
              "#fb9f3a"
             ],
             [
              0.8888888888888888,
              "#fdca26"
             ],
             [
              1,
              "#f0f921"
             ]
            ],
            "type": "contour"
           }
          ],
          "contourcarpet": [
           {
            "colorbar": {
             "outlinewidth": 0,
             "ticks": ""
            },
            "type": "contourcarpet"
           }
          ],
          "heatmap": [
           {
            "colorbar": {
             "outlinewidth": 0,
             "ticks": ""
            },
            "colorscale": [
             [
              0,
              "#0d0887"
             ],
             [
              0.1111111111111111,
              "#46039f"
             ],
             [
              0.2222222222222222,
              "#7201a8"
             ],
             [
              0.3333333333333333,
              "#9c179e"
             ],
             [
              0.4444444444444444,
              "#bd3786"
             ],
             [
              0.5555555555555556,
              "#d8576b"
             ],
             [
              0.6666666666666666,
              "#ed7953"
             ],
             [
              0.7777777777777778,
              "#fb9f3a"
             ],
             [
              0.8888888888888888,
              "#fdca26"
             ],
             [
              1,
              "#f0f921"
             ]
            ],
            "type": "heatmap"
           }
          ],
          "histogram": [
           {
            "marker": {
             "pattern": {
              "fillmode": "overlay",
              "size": 10,
              "solidity": 0.2
             }
            },
            "type": "histogram"
           }
          ],
          "histogram2d": [
           {
            "colorbar": {
             "outlinewidth": 0,
             "ticks": ""
            },
            "colorscale": [
             [
              0,
              "#0d0887"
             ],
             [
              0.1111111111111111,
              "#46039f"
             ],
             [
              0.2222222222222222,
              "#7201a8"
             ],
             [
              0.3333333333333333,
              "#9c179e"
             ],
             [
              0.4444444444444444,
              "#bd3786"
             ],
             [
              0.5555555555555556,
              "#d8576b"
             ],
             [
              0.6666666666666666,
              "#ed7953"
             ],
             [
              0.7777777777777778,
              "#fb9f3a"
             ],
             [
              0.8888888888888888,
              "#fdca26"
             ],
             [
              1,
              "#f0f921"
             ]
            ],
            "type": "histogram2d"
           }
          ],
          "histogram2dcontour": [
           {
            "colorbar": {
             "outlinewidth": 0,
             "ticks": ""
            },
            "colorscale": [
             [
              0,
              "#0d0887"
             ],
             [
              0.1111111111111111,
              "#46039f"
             ],
             [
              0.2222222222222222,
              "#7201a8"
             ],
             [
              0.3333333333333333,
              "#9c179e"
             ],
             [
              0.4444444444444444,
              "#bd3786"
             ],
             [
              0.5555555555555556,
              "#d8576b"
             ],
             [
              0.6666666666666666,
              "#ed7953"
             ],
             [
              0.7777777777777778,
              "#fb9f3a"
             ],
             [
              0.8888888888888888,
              "#fdca26"
             ],
             [
              1,
              "#f0f921"
             ]
            ],
            "type": "histogram2dcontour"
           }
          ],
          "mesh3d": [
           {
            "colorbar": {
             "outlinewidth": 0,
             "ticks": ""
            },
            "type": "mesh3d"
           }
          ],
          "parcoords": [
           {
            "line": {
             "colorbar": {
              "outlinewidth": 0,
              "ticks": ""
             }
            },
            "type": "parcoords"
           }
          ],
          "pie": [
           {
            "automargin": true,
            "type": "pie"
           }
          ],
          "scatter": [
           {
            "fillpattern": {
             "fillmode": "overlay",
             "size": 10,
             "solidity": 0.2
            },
            "type": "scatter"
           }
          ],
          "scatter3d": [
           {
            "line": {
             "colorbar": {
              "outlinewidth": 0,
              "ticks": ""
             }
            },
            "marker": {
             "colorbar": {
              "outlinewidth": 0,
              "ticks": ""
             }
            },
            "type": "scatter3d"
           }
          ],
          "scattercarpet": [
           {
            "marker": {
             "colorbar": {
              "outlinewidth": 0,
              "ticks": ""
             }
            },
            "type": "scattercarpet"
           }
          ],
          "scattergeo": [
           {
            "marker": {
             "colorbar": {
              "outlinewidth": 0,
              "ticks": ""
             }
            },
            "type": "scattergeo"
           }
          ],
          "scattergl": [
           {
            "marker": {
             "colorbar": {
              "outlinewidth": 0,
              "ticks": ""
             }
            },
            "type": "scattergl"
           }
          ],
          "scattermap": [
           {
            "marker": {
             "colorbar": {
              "outlinewidth": 0,
              "ticks": ""
             }
            },
            "type": "scattermap"
           }
          ],
          "scattermapbox": [
           {
            "marker": {
             "colorbar": {
              "outlinewidth": 0,
              "ticks": ""
             }
            },
            "type": "scattermapbox"
           }
          ],
          "scatterpolar": [
           {
            "marker": {
             "colorbar": {
              "outlinewidth": 0,
              "ticks": ""
             }
            },
            "type": "scatterpolar"
           }
          ],
          "scatterpolargl": [
           {
            "marker": {
             "colorbar": {
              "outlinewidth": 0,
              "ticks": ""
             }
            },
            "type": "scatterpolargl"
           }
          ],
          "scatterternary": [
           {
            "marker": {
             "colorbar": {
              "outlinewidth": 0,
              "ticks": ""
             }
            },
            "type": "scatterternary"
           }
          ],
          "surface": [
           {
            "colorbar": {
             "outlinewidth": 0,
             "ticks": ""
            },
            "colorscale": [
             [
              0,
              "#0d0887"
             ],
             [
              0.1111111111111111,
              "#46039f"
             ],
             [
              0.2222222222222222,
              "#7201a8"
             ],
             [
              0.3333333333333333,
              "#9c179e"
             ],
             [
              0.4444444444444444,
              "#bd3786"
             ],
             [
              0.5555555555555556,
              "#d8576b"
             ],
             [
              0.6666666666666666,
              "#ed7953"
             ],
             [
              0.7777777777777778,
              "#fb9f3a"
             ],
             [
              0.8888888888888888,
              "#fdca26"
             ],
             [
              1,
              "#f0f921"
             ]
            ],
            "type": "surface"
           }
          ],
          "table": [
           {
            "cells": {
             "fill": {
              "color": "#EBF0F8"
             },
             "line": {
              "color": "white"
             }
            },
            "header": {
             "fill": {
              "color": "#C8D4E3"
             },
             "line": {
              "color": "white"
             }
            },
            "type": "table"
           }
          ]
         },
         "layout": {
          "annotationdefaults": {
           "arrowcolor": "#2a3f5f",
           "arrowhead": 0,
           "arrowwidth": 1
          },
          "autotypenumbers": "strict",
          "coloraxis": {
           "colorbar": {
            "outlinewidth": 0,
            "ticks": ""
           }
          },
          "colorscale": {
           "diverging": [
            [
             0,
             "#8e0152"
            ],
            [
             0.1,
             "#c51b7d"
            ],
            [
             0.2,
             "#de77ae"
            ],
            [
             0.3,
             "#f1b6da"
            ],
            [
             0.4,
             "#fde0ef"
            ],
            [
             0.5,
             "#f7f7f7"
            ],
            [
             0.6,
             "#e6f5d0"
            ],
            [
             0.7,
             "#b8e186"
            ],
            [
             0.8,
             "#7fbc41"
            ],
            [
             0.9,
             "#4d9221"
            ],
            [
             1,
             "#276419"
            ]
           ],
           "sequential": [
            [
             0,
             "#0d0887"
            ],
            [
             0.1111111111111111,
             "#46039f"
            ],
            [
             0.2222222222222222,
             "#7201a8"
            ],
            [
             0.3333333333333333,
             "#9c179e"
            ],
            [
             0.4444444444444444,
             "#bd3786"
            ],
            [
             0.5555555555555556,
             "#d8576b"
            ],
            [
             0.6666666666666666,
             "#ed7953"
            ],
            [
             0.7777777777777778,
             "#fb9f3a"
            ],
            [
             0.8888888888888888,
             "#fdca26"
            ],
            [
             1,
             "#f0f921"
            ]
           ],
           "sequentialminus": [
            [
             0,
             "#0d0887"
            ],
            [
             0.1111111111111111,
             "#46039f"
            ],
            [
             0.2222222222222222,
             "#7201a8"
            ],
            [
             0.3333333333333333,
             "#9c179e"
            ],
            [
             0.4444444444444444,
             "#bd3786"
            ],
            [
             0.5555555555555556,
             "#d8576b"
            ],
            [
             0.6666666666666666,
             "#ed7953"
            ],
            [
             0.7777777777777778,
             "#fb9f3a"
            ],
            [
             0.8888888888888888,
             "#fdca26"
            ],
            [
             1,
             "#f0f921"
            ]
           ]
          },
          "colorway": [
           "#636efa",
           "#EF553B",
           "#00cc96",
           "#ab63fa",
           "#FFA15A",
           "#19d3f3",
           "#FF6692",
           "#B6E880",
           "#FF97FF",
           "#FECB52"
          ],
          "font": {
           "color": "#2a3f5f"
          },
          "geo": {
           "bgcolor": "white",
           "lakecolor": "white",
           "landcolor": "#E5ECF6",
           "showlakes": true,
           "showland": true,
           "subunitcolor": "white"
          },
          "hoverlabel": {
           "align": "left"
          },
          "hovermode": "closest",
          "mapbox": {
           "style": "light"
          },
          "paper_bgcolor": "white",
          "plot_bgcolor": "#E5ECF6",
          "polar": {
           "angularaxis": {
            "gridcolor": "white",
            "linecolor": "white",
            "ticks": ""
           },
           "bgcolor": "#E5ECF6",
           "radialaxis": {
            "gridcolor": "white",
            "linecolor": "white",
            "ticks": ""
           }
          },
          "scene": {
           "xaxis": {
            "backgroundcolor": "#E5ECF6",
            "gridcolor": "white",
            "gridwidth": 2,
            "linecolor": "white",
            "showbackground": true,
            "ticks": "",
            "zerolinecolor": "white"
           },
           "yaxis": {
            "backgroundcolor": "#E5ECF6",
            "gridcolor": "white",
            "gridwidth": 2,
            "linecolor": "white",
            "showbackground": true,
            "ticks": "",
            "zerolinecolor": "white"
           },
           "zaxis": {
            "backgroundcolor": "#E5ECF6",
            "gridcolor": "white",
            "gridwidth": 2,
            "linecolor": "white",
            "showbackground": true,
            "ticks": "",
            "zerolinecolor": "white"
           }
          },
          "shapedefaults": {
           "line": {
            "color": "#2a3f5f"
           }
          },
          "ternary": {
           "aaxis": {
            "gridcolor": "white",
            "linecolor": "white",
            "ticks": ""
           },
           "baxis": {
            "gridcolor": "white",
            "linecolor": "white",
            "ticks": ""
           },
           "bgcolor": "#E5ECF6",
           "caxis": {
            "gridcolor": "white",
            "linecolor": "white",
            "ticks": ""
           }
          },
          "title": {
           "x": 0.05
          },
          "xaxis": {
           "automargin": true,
           "gridcolor": "white",
           "linecolor": "white",
           "ticks": "",
           "title": {
            "standoff": 15
           },
           "zerolinecolor": "white",
           "zerolinewidth": 2
          },
          "yaxis": {
           "automargin": true,
           "gridcolor": "white",
           "linecolor": "white",
           "ticks": "",
           "title": {
            "standoff": 15
           },
           "zerolinecolor": "white",
           "zerolinewidth": 2
          }
         }
        },
        "title": {
         "text": "Simulation Waypoints",
         "x": 0.5,
         "xanchor": "center"
        },
        "width": 800
       }
      }
     },
     "metadata": {},
     "output_type": "display_data"
    }
   ],
   "source": [
    "markers = [\n",
    "\tConfigGazebo.create_markertraj(traj=abs_path, color=Color.BLUE)\n",
    "]\n",
    "Gazebo.plot_3d_interactive(\n",
    "\tmarkers=markers,\n",
    "\ttitle=\"Simulation Waypoints\",\n",
    "\tframes=(0.2, 0.2, 0.6),\n",
    "\tground=-0.05\n",
    ")"
   ]
  },
  {
   "cell_type": "markdown",
   "metadata": {},
   "source": [
    "## Visualizer Config"
   ]
  },
  {
   "cell_type": "code",
   "execution_count": 7,
   "metadata": {},
   "outputs": [],
   "source": [
    "no_vis=NoneVisualizer(origin,[offset])\n",
    "\n",
    "\n",
    "gazebo_config = ConfigGazebo(world_path=\"simulators/gazebo/worlds/runway.world\",\n",
    "                           models=[(\"iris\",color)],\n",
    "                           marker_trajs = markers)\n",
    "gaz_vis= Gazebo(origin,[offset],gazebo_config)\n",
    "\n",
    "qgc_vis=QGC(origin,[offset])"
   ]
  },
  {
   "cell_type": "markdown",
   "metadata": {},
   "source": [
    "## Launch Simulatotion"
   ]
  },
  {
   "cell_type": "code",
   "execution_count": null,
   "metadata": {},
   "outputs": [
    {
     "name": "stdout",
     "output_type": "stream",
     "text": [
      "🗺️ QGroundControl launched for 2D visualization — simulation powered by ArduPilot SITL.\n",
      "🚀 ArduPilot SITL vehicle 1 launched (PID 3098084)\n",
      "🚀 UAV logic for vehicle 1 launched (PID 3098085)\n",
      "🚀 Proxy for vehicle 1 launched (PID 3098086)\n",
      "🔗 UAV logic 1 is connected to Ardupilot SITL vehicle 1\n",
      "System id: 1\n",
      "[Errno 111] Connection refused sleeping\n",
      "System id: 1\n",
      "SIM_VEHICLE: Start\n",
      "SIM_VEHICLE: Killing tasks\n",
      "SIM_VEHICLE: Starting up at [-35.363261, 149.16523, 0.0, 0.0]\n",
      "SIM_VEHICLE: Using defaults from (../../../ardupilot/Tools/autotest/default_params/copter.parm)\n",
      "SIM_VEHICLE: Adding parameters from (/home/abeldg/repo_temp/uav-cyber-sim/params/vehicle.parm)\n",
      "Setting SIM_SPEEDUP=1.000000\n",
      "Setting MAV_SYSID=1\n",
      "Suggested EK3_DRAG_BCOEF_* = 17.209, EK3_DRAG_MCOEF = 0.209\n",
      "Home: -35.363261 149.165230 alt=0.000000m hdg=0.000000\n",
      "Starting sketch 'ArduCopter'\n",
      "Starting SITL input\n",
      "Using Irlock at port : 9005\n",
      "Waiting for connection ....\n"
     ]
    },
    {
     "name": "stderr",
     "output_type": "stream",
     "text": [
      "bind port 5760 for SERIAL0\n",
      "SERIAL0 on TCP port 5760\n"
     ]
    },
    {
     "name": "stdout",
     "output_type": "stream",
     "text": [
      "Connection on serial port 5760\n",
      "\n",
      "🚀 Starting Proxy 1\n",
      "Loaded defaults from ../../../ardupilot/Tools/autotest/default_params/copter.parm,/home/abeldg/repo_temp/uav-cyber-sim/params/vehicle.parm\n",
      "Smoothing reset at 0.001\n",
      "Loaded defaults from ../../../ardupilot/Tools/autotest/default_params/copter.parm,/home/abeldg/repo_temp/uav-cyber-sim/params/vehicle.parm\n",
      "Loaded defaults from ../../../ardupilot/Tools/autotest/default_params/copter.parm,/home/abeldg/repo_temp/uav-cyber-sim/params/vehicle.parm\n",
      "Loaded defaults from ../../../ardupilot/Tools/autotest/default_params/copter.parm,/home/abeldg/repo_temp/uav-cyber-sim/params/vehicle.parm\n",
      "Loaded defaults from ../../../ardupilot/Tools/autotest/default_params/copter.parm,/home/abeldg/repo_temp/uav-cyber-sim/params/vehicle.parm\n",
      "Loaded defaults from ../../../ardupilot/Tools/autotest/default_params/copter.parm,/home/abeldg/repo_temp/uav-cyber-sim/params/vehicle.parm\n",
      "Loaded defaults from ../../../ardupilot/Tools/autotest/default_params/copter.parm,/home/abeldg/repo_temp/uav-cyber-sim/params/vehicle.parm\n",
      "Loaded defaults from ../../../ardupilot/Tools/autotest/default_params/copter.parm,/home/abeldg/repo_temp/uav-cyber-sim/params/vehicle.parm\n",
      "Loaded defaults from ../../../ardupilot/Tools/autotest/default_params/copter.parm,/home/abeldg/repo_temp/uav-cyber-sim/params/vehicle.parm\n",
      "Loaded defaults from ../../../ardupilot/Tools/autotest/default_params/copter.parm,/home/abeldg/repo_temp/uav-cyber-sim/params/vehicle.parm\n",
      "Loaded defaults from ../../../ardupilot/Tools/autotest/default_params/copter.parm,/home/abeldg/repo_temp/uav-cyber-sim/params/vehicle.parm\n",
      "Loaded defaults from ../../../ardupilot/Tools/autotest/default_params/copter.parm,/home/abeldg/repo_temp/uav-cyber-sim/params/vehicle.parm\n",
      "Loaded defaults from ../../../ardupilot/Tools/autotest/default_params/copter.parm,/home/abeldg/repo_temp/uav-cyber-sim/params/vehicle.parm\n",
      "Loaded defaults from ../../../ardupilot/Tools/autotest/default_params/copter.parm,/home/abeldg/repo_temp/uav-cyber-sim/params/vehicle.parm\n",
      "Loaded defaults from ../../../ardupilot/Tools/autotest/default_params/copter.parm,/home/abeldg/repo_temp/uav-cyber-sim/params/vehicle.parm\n",
      "Loaded defaults from ../../../ardupilot/Tools/autotest/default_params/copter.parm,/home/abeldg/repo_temp/uav-cyber-sim/params/vehicle.parm\n",
      "Loaded defaults from ../../../ardupilot/Tools/autotest/default_params/copter.parm,/home/abeldg/repo_temp/uav-cyber-sim/params/vehicle.parm\n",
      "Loaded defaults from ../../../ardupilot/Tools/autotest/default_params/copter.parm,/home/abeldg/repo_temp/uav-cyber-sim/params/vehicle.parm\n",
      "Loaded defaults from ../../../ardupilot/Tools/autotest/default_params/copter.parm,/home/abeldg/repo_temp/uav-cyber-sim/params/vehicle.parm\n",
      "Loaded defaults from ../../../ardupilot/Tools/autotest/default_params/copter.parm,/home/abeldg/repo_temp/uav-cyber-sim/params/vehicle.parm\n",
      "Loaded defaults from ../../../ardupilot/Tools/autotest/default_params/copter.parm,/home/abeldg/repo_temp/uav-cyber-sim/params/vehicle.parm\n",
      "Loaded defaults from ../../../ardupilot/Tools/autotest/default_params/copter.parm,/home/abeldg/repo_temp/uav-cyber-sim/params/vehicle.parm\n",
      "Loaded defaults from ../../../ardupilot/Tools/autotest/default_params/copter.parm,/home/abeldg/repo_temp/uav-cyber-sim/params/vehicle.parm\n",
      "Loaded defaults from ../../../ardupilot/Tools/autotest/default_params/copter.parm,/home/abeldg/repo_temp/uav-cyber-sim/params/vehicle.parm\n"
     ]
    },
    {
     "name": "stderr",
     "output_type": "stream",
     "text": [
      "bind port 5762 for SERIAL1\n",
      "SERIAL1 on TCP port 5762\n",
      "bind port 5763 for SERIAL2\n",
      "SERIAL2 on TCP port 5763\n",
      "validate_structures:528: Validating structures\n",
      "Waiting for internal clock bits to be set (current=0x00)\n"
     ]
    },
    {
     "name": "stdout",
     "output_type": "stream",
     "text": [
      "🔗 UAV logic 1 is connected to Oracle ⚪\n",
      "✅ Heartbeat received\n",
      "\n",
      "🚀 Starting Vehicle 1 logic\n",
      "Vehicle 1: ▶️ Plan Started: 📋 square_auto\n",
      "🚀 GCS blue 🟦 launched (PID 3098258)\n"
     ]
    }
   ],
   "source": [
    "# TODO: Is it possible/feasible use more than one visualizer at the same time? \n",
    "# It seems there is a port conflict, only the visualizer that launches first works.\n",
    "\n",
    "simulator = Simulator(\n",
    "\tvisualizers=[gaz_vis],\n",
    "\tterminals=False,\n",
    "\tverbose=2\n",
    ")\n",
    "orac = simulator.launch(gcs_sysids={'blue 🟦': [1]})"
   ]
  },
  {
   "cell_type": "markdown",
   "metadata": {},
   "source": [
    "## Execute Plan"
   ]
  },
  {
   "cell_type": "code",
   "execution_count": null,
   "metadata": {},
   "outputs": [
    {
     "name": "stdout",
     "output_type": "stream",
     "text": [
      "Vehicle 1: ▶️ Action Started: 📤 UPLOAD_MISSION\n",
      "Vehicle 1: ▶️ Step Started: clear uav missions\n",
      "🔗 UAV logic 1 is connected\n",
      "SIM_VEHICLE: Waiting for SITL to exit\n",
      "🧹 Cleared previous mission\n",
      "Vehicle 1: ✅ Step Done: clear uav missions\n",
      "✅ 7 waypoints read.\n",
      "🧭 Mission[0] → cmd: WAYPOINT, x: -35.363261, y: 149.16523, z: 0.0, current: 0\n",
      "🧭 Mission[1] → cmd: TAKEOFF, x: -35.363261, y: 149.16523, z: 5.0, current: 0\n",
      "🧭 Mission[2] → cmd: WAYPOINT, x: -35.3631712, y: 149.16523, z: 5.0, current: 0\n",
      "🧭 Mission[3] → cmd: WAYPOINT, x: -35.3631712, y: 149.1653402, z: 5.0, current: 0\n",
      "🧭 Mission[4] → cmd: WAYPOINT, x: -35.363261, y: 149.1653402, z: 5.0, current: 0\n",
      "🧭 Mission[5] → cmd: WAYPOINT, x: -35.363261, y: 149.16523, z: 5.0, current: 0\n",
      "🧭 Mission[6] → cmd: LAND, x: -35.363261, y: 149.16523, z: 0.0, current: 0\n",
      "New connection on SERIAL1\n",
      "✅ Sent mission item 0\n",
      "✅ Sent mission item 1\n",
      "✅ Sent mission item 2\n",
      "✅ Sent mission item 3\n",
      "✅ Sent mission item 4\n",
      "✅ Sent mission item 5\n",
      "✅ Sent mission item 6\n",
      "Vehicle 1: ▶️ Step Started: load mission square\n",
      "🎉 Mission upload successful!\n",
      "Vehicle 1: ✅ Step Done: load mission square\n",
      "Vehicle 1: ✅ Action Done: 📤 UPLOAD_MISSION\n",
      "Vehicle 1: ▶️ Action Started: 🔧 PREARM\n",
      "Vehicle 1: ▶️ Step Started: Check disarmed\n",
      "Vehicle 1: ✅ Step Done: Check disarmed\n",
      "📡 Requested message EKF_STATUS_REPORT at 1.00 Hz\n",
      "Vehicle 1: ▶️ Step Started: Check EKF status\n",
      "⌛ Waiting for EKF to be ready... Pending: ATTITUDE, VELOCITY_HORIZ, POS_VERT_ABS, POS_HORIZ_ABS\n",
      "⌛ Waiting for EKF to be ready... Pending: POS_HORIZ_ABS\n",
      "⌛ Waiting for EKF to be ready... Pending: POS_HORIZ_ABS\n",
      "⌛ Waiting for EKF to be ready... Pending: POS_HORIZ_ABS\n",
      "⌛ Waiting for EKF to be ready... Pending: POS_HORIZ_ABS\n",
      "⌛ Waiting for EKF to be ready... Pending: POS_HORIZ_ABS\n",
      "⌛ Waiting for EKF to be ready... Pending: POS_HORIZ_ABS\n",
      "⌛ Waiting for EKF to be ready... Pending: POS_HORIZ_ABS\n",
      "⌛ Waiting for EKF to be ready... Pending: POS_HORIZ_ABS\n",
      "⌛ Waiting for EKF to be ready... Pending: POS_HORIZ_ABS\n",
      "⌛ Waiting for EKF to be ready... Pending: POS_HORIZ_ABS\n",
      "⌛ Waiting for EKF to be ready... Pending: POS_HORIZ_ABS\n",
      "⌛ Waiting for EKF to be ready... Pending: POS_HORIZ_ABS\n",
      "⌛ Waiting for EKF to be ready... Pending: POS_HORIZ_ABS\n",
      "⌛ Waiting for EKF to be ready... Pending: POS_HORIZ_ABS\n",
      "⌛ Waiting for EKF to be ready... Pending: POS_HORIZ_ABS\n",
      "⌛ Waiting for EKF to be ready... Pending: POS_HORIZ_ABS\n",
      "⌛ Waiting for EKF to be ready... Pending: POS_HORIZ_ABS\n",
      "⌛ Waiting for EKF to be ready... Pending: POS_HORIZ_ABS\n",
      "⌛ Waiting for EKF to be ready... Pending: POS_HORIZ_ABS\n",
      "⌛ Waiting for EKF to be ready... Pending: POS_HORIZ_ABS\n",
      "⌛ Waiting for EKF to be ready... Pending: POS_HORIZ_ABS\n",
      "⌛ Waiting for EKF to be ready... Pending: POS_HORIZ_ABS\n",
      "⌛ Waiting for EKF to be ready... Pending: POS_HORIZ_ABS\n",
      "⌛ Waiting for EKF to be ready... Pending: POS_HORIZ_ABS\n",
      "⌛ Waiting for EKF to be ready... Pending: POS_HORIZ_ABS\n",
      "⌛ Waiting for EKF to be ready... Pending: POS_HORIZ_ABS\n",
      "⌛ Waiting for EKF to be ready... Pending: POS_HORIZ_ABS\n",
      "⌛ Waiting for EKF to be ready... Pending: POS_HORIZ_ABS\n",
      "⌛ Waiting for EKF to be ready... Pending: POS_HORIZ_ABS\n",
      "⌛ Waiting for EKF to be ready... Pending: POS_HORIZ_ABS\n",
      "⌛ Waiting for EKF to be ready... Pending: POS_HORIZ_ABS\n",
      "⌛ Waiting for EKF to be ready... Pending: POS_HORIZ_ABS\n",
      "⌛ Waiting for EKF to be ready... Pending: POS_HORIZ_ABS\n",
      "⌛ Waiting for EKF to be ready... Pending: POS_HORIZ_ABS\n",
      "⌛ Waiting for EKF to be ready... Pending: POS_HORIZ_ABS\n",
      "⌛ Waiting for EKF to be ready... Pending: POS_HORIZ_ABS\n",
      "Vehicle 1: ✅ Step Done: Check EKF status\n",
      "📡 Requested message GPS_RAW_INT at 1.00 Hz\n",
      "Vehicle 1: ▶️ Step Started: Check GPS\n",
      "Vehicle 1: ✅ Step Done: Check GPS\n",
      "📡 Requested message SYS_STATUS at 1.00 Hz\n",
      "Vehicle 1: ▶️ Step Started: Check system\n",
      "Vehicle 1: ✅ Step Done: Check system\n",
      "Vehicle 1: ✅ Action Done: 🔧 PREARM\n",
      "Vehicle 1: ▶️ Action Started: ⚙️ MODE: GUIDED\n",
      "Vehicle 1: ▶️ Step Started: Switch to GUIDED\n",
      "Vehicle 1: ✅ Step Done: Switch to GUIDED\n",
      "Vehicle 1: ✅ Action Done: ⚙️ MODE: GUIDED\n",
      "Vehicle 1: ▶️ Action Started: 🔐 ARM\n",
      "Vehicle 1: ▶️ Step Started: arm\n",
      "Vehicle 1: ✅ Step Done: arm\n",
      "Vehicle 1: ✅ Action Done: 🔐 ARM\n",
      "Vehicle 1: ▶️ Action Started: 🚀 START_MISSION\n",
      "Vehicle 1: ▶️ Step Started: start_mission\n",
      "🚀 Mission has started\n",
      "Vehicle 1: ✅ Step Done: start_mission\n",
      "Vehicle 1: ✅ Action Done: 🚀 START_MISSION\n",
      "Vehicle 1: ▶️ Action Started: 📤 UPLOAD_MISSION\n",
      "Vehicle 1: ▶️ Step Started: monitoring\n",
      "📌 Reached waypoint: 1\n",
      "📌 Reached waypoint: 2\n",
      "📌 Reached waypoint: 3\n",
      "📌 Reached waypoint: 4\n",
      "📌 Reached waypoint: 5\n",
      "🏁 Mission completed\n",
      "Vehicle 1: ✅ Step Done: monitoring\n",
      "Vehicle 1: ✅ Action Done: 📤 UPLOAD_MISSION\n",
      "Vehicle 1: ✅ Plan Done: 📋 square_auto\n",
      "📤 GCS ← UAV 1: Sending DONE (attempt 1)\n",
      "✅ Vehicle 1 completed its mission\n",
      "✅ ACK received. DONE message acknowledged.\n",
      "📤 GCS ← UAV 1: Sending DONE (attempt 1)\n"
     ]
    },
    {
     "name": "stdout",
     "output_type": "stream",
     "text": [
      "📤 GCS ← UAV 1: Sending DONE (attempt 2)\n",
      "📤 GCS ← UAV 1: Sending DONE (attempt 3)\n",
      "📤 GCS ← UAV 1: Sending DONE (attempt 4)\n",
      "📤 GCS ← UAV 1: Sending DONE (attempt 5)\n",
      "📤 GCS ← UAV 1: Sending DONE (attempt 6)\n",
      "📤 GCS ← UAV 1: Sending DONE (attempt 7)\n",
      "📤 GCS ← UAV 1: Sending DONE (attempt 8)\n",
      "📤 GCS ← UAV 1: Sending DONE (attempt 9)\n",
      "📤 GCS ← UAV 1: Sending DONE (attempt 10)\n",
      "✅ Vehicle 1 completed its mission\n",
      "✅ All UAVs assigned to GCS blue 🟦 have completed their mission.\n",
      "💾 Trajectories saved to 'trajectories_blue 🟦.pkl'.\n",
      "✅ ACK received. DONE message acknowledged.\n",
      "❎ Vehicle 1 logic stopped.\n",
      "Connection reset or closed by peer on TCP socket\n",
      "❎ Proxy 1 stopped.\n",
      "Closed connection on SERIAL0\n"
     ]
    }
   ],
   "source": [
    "while len(orac.conns):\n",
    "    for sysid in list(orac.conns.keys()):\n",
    "        if orac.is_plan_done(sysid):\n",
    "            orac.remove(sysid)"
   ]
  }
 ],
 "metadata": {
  "kernelspec": {
   "display_name": "uav-cyber-sim-py311",
   "language": "python",
   "name": "python3"
  },
  "language_info": {
   "codemirror_mode": {
    "name": "ipython",
    "version": 3
   },
   "file_extension": ".py",
   "mimetype": "text/x-python",
   "name": "python",
   "nbconvert_exporter": "python",
   "pygments_lexer": "ipython3",
   "version": "3.11.11"
  }
 },
 "nbformat": 4,
 "nbformat_minor": 2
}
