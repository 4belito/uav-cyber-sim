{
 "cells": [
  {
   "cell_type": "markdown",
   "metadata": {},
   "source": [
    "## [Commands](https://ardupilot.org/dev/docs/copter-commands-in-guided-mode.html)"
   ]
  },
  {
   "cell_type": "code",
   "execution_count": 1,
   "metadata": {},
   "outputs": [],
   "source": [
    "from pymavlink import mavutil\n",
    "import subprocess\n",
    "import time\n",
    "import os\n",
    "\n",
    "# Custom Modules\n",
    "from mission_flow import Step,Action"
   ]
  },
  {
   "cell_type": "markdown",
   "metadata": {},
   "source": [
    "Kill related process"
   ]
  },
  {
   "cell_type": "code",
   "execution_count": 2,
   "metadata": {},
   "outputs": [],
   "source": [
    "for process in [\"QGroundControl\", \"sim_vehicle.py\", \"arducopter\", \"gazebo\", \"mavproxy\"]:\n",
    "    os.system(f\"pkill -9 -f {process}\")"
   ]
  },
  {
   "cell_type": "markdown",
   "metadata": {},
   "source": [
    "Launch Copter (ardupilot)"
   ]
  },
  {
   "cell_type": "code",
   "execution_count": 3,
   "metadata": {},
   "outputs": [
    {
     "data": {
      "text/plain": [
       "<Popen: returncode: None args: ['gnome-terminal', '--', 'bash', '-c', 'pytho...>"
      ]
     },
     "execution_count": 3,
     "metadata": {},
     "output_type": "execute_result"
    }
   ],
   "source": [
    "sim_vehicle_path = os.path.expanduser(\"~/ardupilot/Tools/autotest/sim_vehicle.py\")\n",
    "vehicle_cmd = f\"python3 {sim_vehicle_path} -v ArduCopter\" \n",
    "# Open a new terminal and run the command\n",
    "subprocess.Popen([\"gnome-terminal\", \"--\", \"bash\", \"-c\", f\"{vehicle_cmd}; exec bash\"])"
   ]
  },
  {
   "cell_type": "markdown",
   "metadata": {},
   "source": [
    "Conect to the device"
   ]
  },
  {
   "cell_type": "code",
   "execution_count": 4,
   "metadata": {},
   "outputs": [
    {
     "name": "stdout",
     "output_type": "stream",
     "text": [
      "Heartbeat received. Connected to the vehicle.\n"
     ]
    }
   ],
   "source": [
    "conn = mavutil.mavlink_connection('udp:127.0.0.1:14550')\n",
    "\n",
    "conn.wait_heartbeat()\n",
    "print(\"Heartbeat received. Connected to the vehicle.\")"
   ]
  },
  {
   "cell_type": "code",
   "execution_count": 5,
   "metadata": {},
   "outputs": [],
   "source": [
    "EKF_FLAGS = {\n",
    "    \"ATTITUDE\": mavutil.mavlink.EKF_ATTITUDE,\n",
    "    \"VELOCITY_HORIZ\": mavutil.mavlink.EKF_VELOCITY_HORIZ,\n",
    "    \"POS_HORIZ_ABS\": mavutil.mavlink.EKF_POS_HORIZ_ABS,\n",
    "    \"POS_VERT_ABS\": mavutil.mavlink.EKF_POS_VERT_ABS,\n",
    "}\n",
    "\n",
    "REQUIRED_SENSORS = {\n",
    "    \"3D_GYRO\": mavutil.mavlink.MAV_SYS_STATUS_SENSOR_3D_GYRO,\n",
    "    \"3D_ACCEL\": mavutil.mavlink.MAV_SYS_STATUS_SENSOR_3D_ACCEL,\n",
    "    \"3D_MAG\": mavutil.mavlink.MAV_SYS_STATUS_SENSOR_3D_MAG,\n",
    "    \"ABS_PRESSURE\": mavutil.mavlink.MAV_SYS_STATUS_SENSOR_ABSOLUTE_PRESSURE,\n",
    "    \"GPS\": mavutil.mavlink.MAV_SYS_STATUS_SENSOR_GPS,\n",
    "}\n",
    "\n",
    "class StepFailed(Exception):\n",
    "    \"\"\"Custom exception for step-level failures.\"\"\"\n",
    "    pass\n",
    "\n",
    "\n",
    "\n",
    "def check_noarmed(blocking=False):\n",
    "    \"\"\"Check if UAV is disarmed (not already armed).\"\"\"\n",
    "    msg = conn.recv_match(type=\"HEARTBEAT\", blocking=blocking)\n",
    "    if not msg:\n",
    "        return False  # Normal: still waiting for heartbeat\n",
    "\n",
    "    is_armed = msg.base_mode & mavutil.mavlink.MAV_MODE_FLAG_SAFETY_ARMED\n",
    "    if is_armed:\n",
    "        raise StepFailed(\"UAV is already armed\")\n",
    "    \n",
    "    return True\n",
    "\n",
    "def check_ekf_status(blocking=False):\n",
    "    \"\"\"Check if EKF is fully ready (attitude, velocity, position).\"\"\"\n",
    "    msg = conn.recv_match(type=\"EKF_STATUS_REPORT\", blocking=blocking)\n",
    "    if not msg:\n",
    "        return False  # Normal: still waiting for EKF report\n",
    "\n",
    "    flags = msg.flags\n",
    "    missing = [name for name, bit in EKF_FLAGS.items() if not flags & bit]\n",
    "\n",
    "    if missing:\n",
    "        print(f\"EKF is not ready — missing: {', '.join(missing)}\")\n",
    "\n",
    "    return True\n",
    "\n",
    "def check_gps_status(blocking=False):\n",
    "    \"\"\"Check if GPS fix is good enough (3D fix or better).\"\"\"\n",
    "    msg = conn.recv_match(type=\"GPS_RAW_INT\", blocking=blocking)\n",
    "    if not msg:\n",
    "        return False  # Normal: GPS still acquiring\n",
    "\n",
    "    if msg.fix_type < 3:\n",
    "        raise StepFailed(f\"GPS fix too weak (fix_type = {msg.fix_type})\")\n",
    "\n",
    "    return True\n",
    "\n",
    "def check_sys_status(blocking=False):\n",
    "    \"\"\"Check system status: battery and sensors.\"\"\"\n",
    "    msg = conn.recv_match(type=\"SYS_STATUS\", blocking=blocking)\n",
    "    if not msg:\n",
    "        return False  # Normal: no system status yet\n",
    "\n",
    "    if msg.battery_remaining < 20:\n",
    "        raise StepFailed(f\"Battery too low ({msg.battery_remaining}%)\")\n",
    "\n",
    "    sensors = msg.onboard_control_sensors_health\n",
    "    missing = [name for name, bit in REQUIRED_SENSORS.items() if not sensors & bit]\n",
    "\n",
    "    if missing:\n",
    "        raise StepFailed(f\"Missing or unhealthy sensors: {', '.join(missing)}\")\n",
    "\n",
    "    return True\n",
    "\n",
    "\n",
    "\n",
    "\n",
    "\n",
    "check_noarmed_step = Step(\n",
    "    name=\"Check no armed\",   \n",
    "    check_fn=check_noarmed   # Your function goes here\n",
    ")\n",
    "\n",
    "check_ekf_status_step = Step(\n",
    "    name=\"check EKF status\",   \n",
    "    check_fn=check_ekf_status   # Your function goes here\n",
    ")\n",
    "\n",
    "check_gps_status_step = Step(\n",
    "    name=\"check GPS status\",   \n",
    "    check_fn=check_gps_status   # Your function goes here\n",
    ")\n",
    "\n",
    "check_sys_status_step = Step(\n",
    "    name=\"check system status\",   \n",
    "    check_fn=check_sys_status  # Your function goes here\n",
    ")"
   ]
  },
  {
   "cell_type": "code",
   "execution_count": 6,
   "metadata": {},
   "outputs": [],
   "source": [
    "# while check_noarmed_step.state in [\"NOT_STARTED\",\"IN_PROGRESS\"]:\n",
    "#     check_noarmed_step.run()\n",
    "\n",
    "# while check_gps_status_step.state in [\"NOT_STARTED\",\"IN_PROGRESS\"]:\n",
    "#     check_gps_status_step .run()\n",
    "# while check_sys_status_step.state in [\"NOT_STARTED\",\"IN_PROGRESS\"]:\n",
    "#     check_sys_status_step .run()\n",
    "# while check_ekf_status_step.state in [\"NOT_STARTED\",\"IN_PROGRESS\"]:\n",
    "#     check_ekf_status_step.run()"
   ]
  },
  {
   "cell_type": "code",
   "execution_count": 7,
   "metadata": {},
   "outputs": [],
   "source": [
    "pre_arm=Action(name='pre arm')\n",
    "pre_arm.add_step(check_noarmed_step)\n",
    "pre_arm.add_step(check_gps_status_step)\n",
    "pre_arm.add_step(check_sys_status_step)\n",
    "pre_arm.add_step(check_ekf_status_step)"
   ]
  },
  {
   "cell_type": "code",
   "execution_count": 8,
   "metadata": {},
   "outputs": [
    {
     "name": "stdout",
     "output_type": "stream",
     "text": [
      "▶️ Starting Action: pre arm\n",
      "▶️ Starting Step: Check no armed\n",
      "✅ Step: Check no armed is done\n",
      "▶️ Starting Step: check GPS status\n",
      "✅ Step: check GPS status is done\n",
      "▶️ Starting Step: check system status\n",
      "✅ Step: check system status is done\n",
      "▶️ Starting Step: check EKF status\n",
      "EKF is not ready — missing: POS_HORIZ_ABS\n",
      "✅ Step: check EKF status is done\n",
      "✅ Action: pre arm is done\n"
     ]
    }
   ],
   "source": [
    "while pre_arm.state in [\"NOT_STARTED\",\"IN_PROGRESS\"]:\n",
    "    pre_arm.run()"
   ]
  },
  {
   "cell_type": "markdown",
   "metadata": {},
   "source": [
    "## Prearmed Comands"
   ]
  },
  {
   "cell_type": "markdown",
   "metadata": {},
   "source": [
    "## Movement Commands\n",
    "\n",
    "These commands can be used to control the vehicle’s position, velocity or attitude while in [Guided Mode](https://ardupilot.org/copter/docs/ac2_guidedmode.html#ac2-guidedmode)"
   ]
  },
  {
   "cell_type": "code",
   "execution_count": null,
   "metadata": {},
   "outputs": [],
   "source": []
  },
  {
   "cell_type": "code",
   "execution_count": 9,
   "metadata": {},
   "outputs": [
    {
     "data": {
      "text/plain": [
       "16"
      ]
     },
     "execution_count": 9,
     "metadata": {},
     "output_type": "execute_result"
    }
   ],
   "source": [
    "mavutil.mavlink.EKF_POS_HORIZ_ABS"
   ]
  },
  {
   "cell_type": "code",
   "execution_count": null,
   "metadata": {},
   "outputs": [],
   "source": []
  }
 ],
 "metadata": {
  "kernelspec": {
   "display_name": "Python 3",
   "language": "python",
   "name": "python3"
  },
  "language_info": {
   "codemirror_mode": {
    "name": "ipython",
    "version": 3
   },
   "file_extension": ".py",
   "mimetype": "text/x-python",
   "name": "python",
   "nbconvert_exporter": "python",
   "pygments_lexer": "ipython3",
   "version": "3.9.21"
  }
 },
 "nbformat": 4,
 "nbformat_minor": 2
}
