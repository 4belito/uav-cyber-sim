{
 "cells": [
  {
   "cell_type": "markdown",
   "metadata": {},
   "source": [
    "## [Commands](https://ardupilot.org/dev/docs/copter-commands-in-guided-mode.html)"
   ]
  },
  {
   "cell_type": "code",
   "execution_count": 1,
   "metadata": {},
   "outputs": [],
   "source": [
    "from pymavlink import mavutil\n",
    "import subprocess\n",
    "import time\n",
    "import os\n",
    "\n",
    "# Custom Modules\n",
    "from uav_actions.pre_arm import make_pre_arm_action"
   ]
  },
  {
   "cell_type": "markdown",
   "metadata": {},
   "source": [
    "Kill related process"
   ]
  },
  {
   "cell_type": "code",
   "execution_count": 2,
   "metadata": {},
   "outputs": [],
   "source": [
    "for process in [\"QGroundControl\", \"sim_vehicle.py\", \"arducopter\", \"gazebo\", \"mavproxy\"]:\n",
    "    os.system(f\"pkill -9 -f {process}\")"
   ]
  },
  {
   "cell_type": "markdown",
   "metadata": {},
   "source": [
    "Launch Copter (ardupilot)"
   ]
  },
  {
   "cell_type": "code",
   "execution_count": 3,
   "metadata": {},
   "outputs": [
    {
     "data": {
      "text/plain": [
       "<Popen: returncode: None args: ['gnome-terminal', '--', 'bash', '-c', 'pytho...>"
      ]
     },
     "execution_count": 3,
     "metadata": {},
     "output_type": "execute_result"
    }
   ],
   "source": [
    "sim_vehicle_path = os.path.expanduser(\"~/ardupilot/Tools/autotest/sim_vehicle.py\")\n",
    "vehicle_cmd = f\"python3 {sim_vehicle_path} -v ArduCopter\" \n",
    "# Open a new terminal and run the command\n",
    "subprocess.Popen([\"gnome-terminal\", \"--\", \"bash\", \"-c\", f\"{vehicle_cmd}; exec bash\"])"
   ]
  },
  {
   "cell_type": "markdown",
   "metadata": {},
   "source": [
    "Conect to the device"
   ]
  },
  {
   "cell_type": "code",
   "execution_count": 4,
   "metadata": {},
   "outputs": [
    {
     "name": "stdout",
     "output_type": "stream",
     "text": [
      "Heartbeat received. Connected to the vehicle.\n"
     ]
    }
   ],
   "source": [
    "conn = mavutil.mavlink_connection('udp:127.0.0.1:14550')\n",
    "\n",
    "conn.wait_heartbeat()\n",
    "print(\"Heartbeat received. Connected to the vehicle.\")"
   ]
  },
  {
   "cell_type": "code",
   "execution_count": 5,
   "metadata": {},
   "outputs": [
    {
     "name": "stdout",
     "output_type": "stream",
     "text": [
      "Step 'Check disarmed' created — no connection yet 🧩\n",
      "Step 'Check EKF' created — no connection yet 🧩\n",
      "Step 'Check GPS' created — no connection yet 🧩\n",
      "Step 'Check system' created — no connection yet 🧩\n",
      "Action 'Pre-Arm Check' created — no connection yet 🧩\n"
     ]
    }
   ],
   "source": [
    "pre_arm=make_pre_arm_action(conn)"
   ]
  },
  {
   "cell_type": "code",
   "execution_count": 6,
   "metadata": {},
   "outputs": [
    {
     "name": "stdout",
     "output_type": "stream",
     "text": [
      "Action 'Pre-Arm Check' is now connected ✅🔗\n",
      "▶️ Starting Action: Pre-Arm Check\n",
      "🚀 Running Action: Pre-Arm Check\n",
      "Step 'Check disarmed' is now connected ✅🔗\n",
      "▶️ Starting Step: Check disarmed\n",
      "✅ Step: Check disarmed is done\n",
      "Step 'Check GPS' is now connected ✅🔗\n",
      "▶️ Starting Step: Check GPS\n",
      "✅ Step: Check GPS is done\n",
      "Step 'Check system' is now connected ✅🔗\n",
      "▶️ Starting Step: Check system\n",
      "✅ Step: Check system is done\n",
      "Step 'Check EKF' is now connected ✅🔗\n",
      "▶️ Starting Step: Check EKF\n",
      "EKF is not ready — missing: POS_HORIZ_ABS\n",
      "EKF is not ready — missing: POS_HORIZ_ABS\n",
      "EKF is not ready — missing: POS_HORIZ_ABS\n",
      "EKF is not ready — missing: POS_HORIZ_ABS\n",
      "EKF is not ready — missing: POS_HORIZ_ABS\n",
      "EKF is not ready — missing: POS_HORIZ_ABS\n",
      "EKF is not ready — missing: POS_HORIZ_ABS\n",
      "EKF is not ready — missing: POS_HORIZ_ABS\n",
      "EKF is not ready — missing: POS_HORIZ_ABS\n",
      "EKF is not ready — missing: POS_HORIZ_ABS\n",
      "EKF is not ready — missing: POS_HORIZ_ABS\n",
      "EKF is not ready — missing: POS_HORIZ_ABS\n",
      "EKF is not ready — missing: POS_HORIZ_ABS\n",
      "EKF is not ready — missing: POS_HORIZ_ABS\n",
      "EKF is not ready — missing: POS_HORIZ_ABS\n",
      "EKF is not ready — missing: POS_HORIZ_ABS\n",
      "EKF is not ready — missing: POS_HORIZ_ABS\n",
      "EKF is not ready — missing: POS_HORIZ_ABS\n",
      "EKF is not ready — missing: POS_HORIZ_ABS\n",
      "EKF is not ready — missing: POS_HORIZ_ABS\n",
      "EKF is not ready — missing: POS_HORIZ_ABS\n",
      "EKF is not ready — missing: POS_HORIZ_ABS\n",
      "EKF is not ready — missing: POS_HORIZ_ABS\n",
      "EKF is not ready — missing: POS_HORIZ_ABS\n",
      "EKF is not ready — missing: POS_HORIZ_ABS\n",
      "EKF is not ready — missing: POS_HORIZ_ABS\n",
      "EKF is not ready — missing: POS_HORIZ_ABS\n",
      "EKF is not ready — missing: POS_HORIZ_ABS\n",
      "EKF is not ready — missing: POS_HORIZ_ABS\n",
      "EKF is not ready — missing: POS_HORIZ_ABS\n",
      "EKF is not ready — missing: POS_HORIZ_ABS\n",
      "EKF is not ready — missing: POS_HORIZ_ABS\n",
      "EKF is not ready — missing: POS_HORIZ_ABS\n",
      "EKF is not ready — missing: POS_HORIZ_ABS\n",
      "EKF is not ready — missing: POS_HORIZ_ABS\n",
      "EKF is not ready — missing: POS_HORIZ_ABS\n",
      "EKF is not ready — missing: POS_HORIZ_ABS\n",
      "EKF is not ready — missing: POS_HORIZ_ABS\n",
      "EKF is not ready — missing: POS_HORIZ_ABS\n",
      "EKF is not ready — missing: POS_HORIZ_ABS\n",
      "EKF is not ready — missing: POS_HORIZ_ABS\n",
      "EKF is not ready — missing: POS_HORIZ_ABS\n",
      "EKF is not ready — missing: POS_HORIZ_ABS\n",
      "EKF is not ready — missing: POS_HORIZ_ABS\n",
      "EKF is not ready — missing: POS_HORIZ_ABS\n",
      "EKF is not ready — missing: POS_HORIZ_ABS\n",
      "EKF is not ready — missing: POS_HORIZ_ABS\n",
      "EKF is not ready — missing: POS_HORIZ_ABS\n",
      "EKF is not ready — missing: POS_HORIZ_ABS\n",
      "EKF is not ready — missing: POS_HORIZ_ABS\n",
      "EKF is not ready — missing: POS_HORIZ_ABS\n",
      "EKF is not ready — missing: POS_HORIZ_ABS\n",
      "EKF is not ready — missing: POS_HORIZ_ABS\n",
      "EKF is not ready — missing: POS_HORIZ_ABS\n",
      "EKF is not ready — missing: POS_HORIZ_ABS\n",
      "EKF is not ready — missing: POS_HORIZ_ABS\n",
      "EKF is not ready — missing: POS_HORIZ_ABS\n",
      "EKF is not ready — missing: POS_HORIZ_ABS\n",
      "EKF is not ready — missing: POS_HORIZ_ABS\n",
      "EKF is not ready — missing: POS_HORIZ_ABS\n",
      "EKF is not ready — missing: POS_HORIZ_ABS\n",
      "EKF is not ready — missing: POS_HORIZ_ABS\n",
      "EKF is not ready — missing: POS_HORIZ_ABS\n",
      "EKF is not ready — missing: POS_HORIZ_ABS\n",
      "EKF is not ready — missing: POS_HORIZ_ABS\n",
      "EKF is not ready — missing: POS_HORIZ_ABS\n",
      "EKF is not ready — missing: POS_HORIZ_ABS\n",
      "EKF is not ready — missing: POS_HORIZ_ABS\n",
      "EKF is not ready — missing: POS_HORIZ_ABS\n",
      "EKF is not ready — missing: POS_HORIZ_ABS\n",
      "EKF is not ready — missing: POS_HORIZ_ABS\n",
      "EKF is not ready — missing: POS_HORIZ_ABS\n",
      "EKF is not ready — missing: POS_HORIZ_ABS\n",
      "EKF is not ready — missing: POS_HORIZ_ABS\n",
      "EKF is not ready — missing: POS_HORIZ_ABS\n",
      "EKF is not ready — missing: POS_HORIZ_ABS\n",
      "EKF is not ready — missing: POS_HORIZ_ABS\n",
      "EKF is not ready — missing: POS_HORIZ_ABS\n",
      "EKF is not ready — missing: POS_HORIZ_ABS\n",
      "EKF is not ready — missing: POS_HORIZ_ABS\n",
      "EKF is not ready — missing: POS_HORIZ_ABS\n",
      "EKF is not ready — missing: POS_HORIZ_ABS\n",
      "EKF is not ready — missing: POS_HORIZ_ABS\n",
      "EKF is not ready — missing: POS_HORIZ_ABS\n",
      "EKF is not ready — missing: POS_HORIZ_ABS\n",
      "EKF is not ready — missing: POS_HORIZ_ABS\n",
      "EKF is not ready — missing: POS_HORIZ_ABS\n",
      "EKF is not ready — missing: POS_HORIZ_ABS\n",
      "EKF is not ready — missing: POS_HORIZ_ABS\n",
      "EKF is not ready — missing: POS_HORIZ_ABS\n",
      "EKF is not ready — missing: POS_HORIZ_ABS\n",
      "EKF is not ready — missing: POS_HORIZ_ABS\n",
      "EKF is not ready — missing: POS_HORIZ_ABS\n",
      "EKF is not ready — missing: POS_HORIZ_ABS\n",
      "EKF is not ready — missing: POS_HORIZ_ABS\n",
      "EKF is not ready — missing: POS_HORIZ_ABS\n",
      "EKF is not ready — missing: POS_HORIZ_ABS\n",
      "EKF is not ready — missing: POS_HORIZ_ABS\n",
      "EKF is not ready — missing: POS_HORIZ_ABS\n",
      "EKF is not ready — missing: POS_HORIZ_ABS\n",
      "EKF is not ready — missing: POS_HORIZ_ABS\n",
      "EKF is not ready — missing: POS_HORIZ_ABS\n",
      "EKF is not ready — missing: POS_HORIZ_ABS\n",
      "EKF is not ready — missing: POS_HORIZ_ABS\n",
      "EKF is not ready — missing: POS_HORIZ_ABS\n",
      "EKF is not ready — missing: POS_HORIZ_ABS\n",
      "EKF is not ready — missing: POS_HORIZ_ABS\n",
      "EKF is not ready — missing: POS_HORIZ_ABS\n",
      "EKF is not ready — missing: POS_HORIZ_ABS\n",
      "EKF is not ready — missing: POS_HORIZ_ABS\n",
      "EKF is not ready — missing: POS_HORIZ_ABS\n",
      "EKF is not ready — missing: POS_HORIZ_ABS\n",
      "EKF is not ready — missing: POS_HORIZ_ABS\n",
      "EKF is not ready — missing: POS_HORIZ_ABS\n",
      "EKF is not ready — missing: POS_HORIZ_ABS\n",
      "EKF is not ready — missing: POS_HORIZ_ABS\n",
      "EKF is not ready — missing: POS_HORIZ_ABS\n",
      "EKF is not ready — missing: POS_HORIZ_ABS\n",
      "EKF is not ready — missing: POS_HORIZ_ABS\n",
      "EKF is not ready — missing: POS_HORIZ_ABS\n",
      "EKF is not ready — missing: POS_HORIZ_ABS\n",
      "EKF is not ready — missing: POS_HORIZ_ABS\n",
      "EKF is not ready — missing: POS_HORIZ_ABS\n",
      "EKF is not ready — missing: POS_HORIZ_ABS\n",
      "EKF is not ready — missing: POS_HORIZ_ABS\n",
      "EKF is not ready — missing: POS_HORIZ_ABS\n",
      "EKF is not ready — missing: POS_HORIZ_ABS\n",
      "EKF is not ready — missing: POS_HORIZ_ABS\n",
      "EKF is not ready — missing: POS_HORIZ_ABS\n",
      "EKF is not ready — missing: POS_HORIZ_ABS\n",
      "EKF is not ready — missing: POS_HORIZ_ABS\n",
      "EKF is not ready — missing: POS_HORIZ_ABS\n",
      "EKF is not ready — missing: POS_HORIZ_ABS\n",
      "EKF is not ready — missing: POS_HORIZ_ABS\n",
      "EKF is not ready — missing: POS_HORIZ_ABS\n",
      "EKF is not ready — missing: POS_HORIZ_ABS\n",
      "EKF is not ready — missing: POS_HORIZ_ABS\n",
      "EKF is not ready — missing: POS_HORIZ_ABS\n",
      "EKF is not ready — missing: POS_HORIZ_ABS\n",
      "EKF is not ready — missing: POS_HORIZ_ABS\n",
      "EKF is not ready — missing: POS_HORIZ_ABS\n",
      "EKF is not ready — missing: POS_HORIZ_ABS\n",
      "EKF is not ready — missing: POS_HORIZ_ABS\n",
      "EKF is not ready — missing: POS_HORIZ_ABS\n",
      "EKF is not ready — missing: POS_HORIZ_ABS\n",
      "EKF is not ready — missing: POS_HORIZ_ABS\n",
      "EKF is not ready — missing: POS_HORIZ_ABS\n",
      "EKF is not ready — missing: POS_HORIZ_ABS\n",
      "EKF is not ready — missing: POS_HORIZ_ABS\n",
      "EKF is not ready — missing: POS_HORIZ_ABS\n",
      "EKF is not ready — missing: POS_HORIZ_ABS\n",
      "EKF is not ready — missing: POS_HORIZ_ABS\n",
      "EKF is not ready — missing: POS_HORIZ_ABS\n",
      "EKF is not ready — missing: POS_HORIZ_ABS\n",
      "EKF is not ready — missing: POS_HORIZ_ABS\n",
      "EKF is not ready — missing: POS_HORIZ_ABS\n",
      "EKF is not ready — missing: POS_HORIZ_ABS\n",
      "EKF is not ready — missing: POS_HORIZ_ABS\n",
      "EKF is not ready — missing: POS_HORIZ_ABS\n",
      "EKF is not ready — missing: POS_HORIZ_ABS\n",
      "EKF is not ready — missing: POS_HORIZ_ABS\n",
      "EKF is not ready — missing: POS_HORIZ_ABS\n",
      "EKF is not ready — missing: POS_HORIZ_ABS\n",
      "EKF is not ready — missing: POS_HORIZ_ABS\n",
      "EKF is not ready — missing: POS_HORIZ_ABS\n",
      "EKF is not ready — missing: POS_HORIZ_ABS\n",
      "EKF is not ready — missing: POS_HORIZ_ABS\n",
      "EKF is not ready — missing: POS_HORIZ_ABS\n",
      "EKF is not ready — missing: POS_HORIZ_ABS\n",
      "EKF is not ready — missing: POS_HORIZ_ABS\n",
      "EKF is not ready — missing: POS_HORIZ_ABS\n",
      "EKF is not ready — missing: POS_HORIZ_ABS\n",
      "EKF is not ready — missing: POS_HORIZ_ABS\n",
      "EKF is not ready — missing: POS_HORIZ_ABS\n",
      "EKF is not ready — missing: POS_HORIZ_ABS\n",
      "EKF is not ready — missing: POS_HORIZ_ABS\n",
      "EKF is not ready — missing: POS_HORIZ_ABS\n",
      "EKF is not ready — missing: POS_HORIZ_ABS\n",
      "EKF is not ready — missing: POS_HORIZ_ABS\n",
      "EKF is not ready — missing: POS_HORIZ_ABS\n",
      "EKF is not ready — missing: POS_HORIZ_ABS\n",
      "EKF is not ready — missing: POS_HORIZ_ABS\n",
      "EKF is not ready — missing: POS_HORIZ_ABS\n",
      "EKF is not ready — missing: POS_HORIZ_ABS\n",
      "EKF is not ready — missing: POS_HORIZ_ABS\n",
      "EKF is not ready — missing: POS_HORIZ_ABS\n",
      "EKF is not ready — missing: POS_HORIZ_ABS\n",
      "EKF is not ready — missing: POS_HORIZ_ABS\n",
      "EKF is not ready — missing: POS_HORIZ_ABS\n",
      "EKF is not ready — missing: POS_HORIZ_ABS\n",
      "EKF is not ready — missing: POS_HORIZ_ABS\n",
      "EKF is not ready — missing: POS_HORIZ_ABS\n",
      "EKF is not ready — missing: POS_HORIZ_ABS\n",
      "EKF is not ready — missing: POS_HORIZ_ABS\n",
      "EKF is not ready — missing: POS_HORIZ_ABS\n",
      "EKF is not ready — missing: POS_HORIZ_ABS\n",
      "EKF is not ready — missing: POS_HORIZ_ABS\n",
      "EKF is not ready — missing: POS_HORIZ_ABS\n",
      "EKF is not ready — missing: POS_HORIZ_ABS\n",
      "EKF is not ready — missing: POS_HORIZ_ABS\n",
      "EKF is not ready — missing: POS_HORIZ_ABS\n",
      "EKF is not ready — missing: POS_HORIZ_ABS\n",
      "EKF is not ready — missing: POS_HORIZ_ABS\n",
      "EKF is not ready — missing: POS_HORIZ_ABS\n",
      "EKF is not ready — missing: POS_HORIZ_ABS\n",
      "EKF is not ready — missing: POS_HORIZ_ABS\n",
      "✅ Step: Check EKF is done\n"
     ]
    },
    {
     "data": {
      "text/plain": [
       "True"
      ]
     },
     "execution_count": 6,
     "metadata": {},
     "output_type": "execute_result"
    }
   ],
   "source": [
    "pre_arm.run(conn,blocking=True)"
   ]
  },
  {
   "cell_type": "code",
   "execution_count": null,
   "metadata": {},
   "outputs": [
    {
     "ename": "TypeError",
     "evalue": "__init__() got multiple values for argument 'check_fn'",
     "output_type": "error",
     "traceback": [
      "\u001b[0;31m---------------------------------------------------------------------------\u001b[0m",
      "\u001b[0;31mTypeError\u001b[0m                                 Traceback (most recent call last)",
      "Cell \u001b[0;32mIn[7], line 1\u001b[0m\n\u001b[0;32m----> 1\u001b[0m pre_arm\u001b[38;5;241m=\u001b[39m\u001b[43mmake_pre_arm_action\u001b[49m\u001b[43m(\u001b[49m\u001b[43mconn\u001b[49m\u001b[43m)\u001b[49m\n\u001b[1;32m      2\u001b[0m \u001b[38;5;28;01mwhile\u001b[39;00m pre_arm\u001b[38;5;241m.\u001b[39mstate \u001b[38;5;129;01min\u001b[39;00m [\u001b[38;5;124m\"\u001b[39m\u001b[38;5;124mNOT_STARTED\u001b[39m\u001b[38;5;124m\"\u001b[39m,\u001b[38;5;124m\"\u001b[39m\u001b[38;5;124mIN_PROGRESS\u001b[39m\u001b[38;5;124m\"\u001b[39m]:\n\u001b[1;32m      3\u001b[0m     pre_arm\u001b[38;5;241m.\u001b[39mrun()\n",
      "File \u001b[0;32m~/uav-cyber-sim/uav_actions/pre_arm.py:64\u001b[0m, in \u001b[0;36mmake_pre_arm_action\u001b[0;34m(conn)\u001b[0m\n\u001b[1;32m     63\u001b[0m \u001b[38;5;28;01mdef\u001b[39;00m\u001b[38;5;250m \u001b[39m\u001b[38;5;21mmake_pre_arm_action\u001b[39m(conn):\n\u001b[0;32m---> 64\u001b[0m     check_noarmed_step \u001b[38;5;241m=\u001b[39m \u001b[43mStep\u001b[49m\u001b[43m(\u001b[49m\u001b[38;5;124;43m\"\u001b[39;49m\u001b[38;5;124;43mCheck disarmed\u001b[39;49m\u001b[38;5;124;43m\"\u001b[39;49m\u001b[43m,\u001b[49m\u001b[43mconn\u001b[49m\u001b[43m,\u001b[49m\u001b[43m \u001b[49m\u001b[43mcheck_fn\u001b[49m\u001b[38;5;241;43m=\u001b[39;49m\u001b[43mcheck_noarmed\u001b[49m\u001b[43m)\u001b[49m\n\u001b[1;32m     65\u001b[0m     check_ekf_status_step \u001b[38;5;241m=\u001b[39m Step(\u001b[38;5;124m\"\u001b[39m\u001b[38;5;124mCheck EKF\u001b[39m\u001b[38;5;124m\"\u001b[39m,conn,  check_fn\u001b[38;5;241m=\u001b[39mcheck_ekf_status)\n\u001b[1;32m     66\u001b[0m     check_gps_status_step \u001b[38;5;241m=\u001b[39m Step(\u001b[38;5;124m\"\u001b[39m\u001b[38;5;124mCheck GPS\u001b[39m\u001b[38;5;124m\"\u001b[39m,conn,  check_fn\u001b[38;5;241m=\u001b[39mcheck_gps_status)\n",
      "\u001b[0;31mTypeError\u001b[0m: __init__() got multiple values for argument 'check_fn'"
     ]
    }
   ],
   "source": [
    "\n",
    "while pre_arm.state in [\"NOT_STARTED\",\"IN_PROGRESS\"]:\n",
    "    pre_arm.run()"
   ]
  },
  {
   "cell_type": "code",
   "execution_count": null,
   "metadata": {},
   "outputs": [],
   "source": [
    "EKF_FLAGS = {\n",
    "    \"ATTITUDE\": mavutil.mavlink.EKF_ATTITUDE,\n",
    "    \"VELOCITY_HORIZ\": mavutil.mavlink.EKF_VELOCITY_HORIZ,\n",
    "    \"POS_HORIZ_ABS\": mavutil.mavlink.EKF_POS_HORIZ_ABS,\n",
    "    \"POS_VERT_ABS\": mavutil.mavlink.EKF_POS_VERT_ABS,\n",
    "}\n",
    "\n",
    "REQUIRED_SENSORS = {\n",
    "    \"3D_GYRO\": mavutil.mavlink.MAV_SYS_STATUS_SENSOR_3D_GYRO,\n",
    "    \"3D_ACCEL\": mavutil.mavlink.MAV_SYS_STATUS_SENSOR_3D_ACCEL,\n",
    "    \"3D_MAG\": mavutil.mavlink.MAV_SYS_STATUS_SENSOR_3D_MAG,\n",
    "    \"ABS_PRESSURE\": mavutil.mavlink.MAV_SYS_STATUS_SENSOR_ABSOLUTE_PRESSURE,\n",
    "    \"GPS\": mavutil.mavlink.MAV_SYS_STATUS_SENSOR_GPS,\n",
    "}\n",
    "\n",
    "class StepFailed(Exception):\n",
    "    \"\"\"Custom exception for step-level failures.\"\"\"\n",
    "    pass\n",
    "\n",
    "\n",
    "\n",
    "def check_noarmed(blocking=False):\n",
    "    \"\"\"Check if UAV is disarmed (not already armed).\"\"\"\n",
    "    msg = conn.recv_match(type=\"HEARTBEAT\", blocking=blocking)\n",
    "    if not msg:\n",
    "        return False  # Normal: still waiting for heartbeat\n",
    "\n",
    "    is_armed = msg.base_mode & mavutil.mavlink.MAV_MODE_FLAG_SAFETY_ARMED\n",
    "    if is_armed:\n",
    "        raise StepFailed(\"UAV is already armed\")\n",
    "    \n",
    "    return True\n",
    "\n",
    "def check_ekf_status(blocking=False):\n",
    "    \"\"\"Check if EKF is fully ready (attitude, velocity, position).\"\"\"\n",
    "    msg = conn.recv_match(type=\"EKF_STATUS_REPORT\", blocking=blocking)\n",
    "    if not msg:\n",
    "        return False  # Normal: still waiting for EKF report\n",
    "\n",
    "    flags = msg.flags\n",
    "    missing = [name for name, bit in EKF_FLAGS.items() if not flags & bit]\n",
    "\n",
    "    if missing:\n",
    "        print(f\"EKF is not ready — missing: {', '.join(missing)}\")\n",
    "\n",
    "    return True\n",
    "\n",
    "def check_gps_status(blocking=False):\n",
    "    \"\"\"Check if GPS fix is good enough (3D fix or better).\"\"\"\n",
    "    msg = conn.recv_match(type=\"GPS_RAW_INT\", blocking=blocking)\n",
    "    if not msg:\n",
    "        return False  # Normal: GPS still acquiring\n",
    "\n",
    "    if msg.fix_type < 3:\n",
    "        raise StepFailed(f\"GPS fix too weak (fix_type = {msg.fix_type})\")\n",
    "\n",
    "    return True\n",
    "\n",
    "def check_sys_status(blocking=False):\n",
    "    \"\"\"Check system status: battery and sensors.\"\"\"\n",
    "    msg = conn.recv_match(type=\"SYS_STATUS\", blocking=blocking)\n",
    "    if not msg:\n",
    "        return False  # Normal: no system status yet\n",
    "\n",
    "    if msg.battery_remaining < 20:\n",
    "        raise StepFailed(f\"Battery too low ({msg.battery_remaining}%)\")\n",
    "\n",
    "    sensors = msg.onboard_control_sensors_health\n",
    "    missing = [name for name, bit in REQUIRED_SENSORS.items() if not sensors & bit]\n",
    "\n",
    "    if missing:\n",
    "        raise StepFailed(f\"Missing or unhealthy sensors: {', '.join(missing)}\")\n",
    "\n",
    "    return True\n",
    "\n",
    "\n",
    "\n",
    "\n",
    "\n",
    "check_noarmed_step = Step(\n",
    "    name=\"Check no armed\",   \n",
    "    check_fn=check_noarmed   # Your function goes here\n",
    ")\n",
    "\n",
    "check_ekf_status_step = Step(\n",
    "    name=\"check EKF status\",   \n",
    "    check_fn=check_ekf_status   # Your function goes here\n",
    ")\n",
    "\n",
    "check_gps_status_step = Step(\n",
    "    name=\"check GPS status\",   \n",
    "    check_fn=check_gps_status   # Your function goes here\n",
    ")\n",
    "\n",
    "check_sys_status_step = Step(\n",
    "    name=\"check system status\",   \n",
    "    check_fn=check_sys_status  # Your function goes here\n",
    ")\n",
    "\n",
    "pre_arm=Action(name='pre arm')\n",
    "pre_arm.add_step(check_noarmed_step)\n",
    "pre_arm.add_step(check_gps_status_step)\n",
    "pre_arm.add_step(check_sys_status_step)\n",
    "pre_arm.add_step(check_ekf_status_step)"
   ]
  },
  {
   "cell_type": "code",
   "execution_count": null,
   "metadata": {},
   "outputs": [],
   "source": []
  },
  {
   "cell_type": "code",
   "execution_count": null,
   "metadata": {},
   "outputs": [
    {
     "name": "stdout",
     "output_type": "stream",
     "text": [
      "▶️ Starting Action: pre arm\n",
      "▶️ Starting Step: Check no armed\n",
      "✅ Step: Check no armed is done\n",
      "▶️ Starting Step: check GPS status\n",
      "✅ Step: check GPS status is done\n",
      "▶️ Starting Step: check system status\n",
      "✅ Step: check system status is done\n",
      "▶️ Starting Step: check EKF status\n",
      "EKF is not ready — missing: POS_HORIZ_ABS\n",
      "✅ Step: check EKF status is done\n",
      "✅ Action: pre arm is done\n"
     ]
    }
   ],
   "source": []
  },
  {
   "cell_type": "markdown",
   "metadata": {},
   "source": [
    "## Prearmed Comands"
   ]
  },
  {
   "cell_type": "markdown",
   "metadata": {},
   "source": [
    "## Movement Commands\n",
    "\n",
    "These commands can be used to control the vehicle’s position, velocity or attitude while in [Guided Mode](https://ardupilot.org/copter/docs/ac2_guidedmode.html#ac2-guidedmode)"
   ]
  },
  {
   "cell_type": "code",
   "execution_count": null,
   "metadata": {},
   "outputs": [],
   "source": []
  }
 ],
 "metadata": {
  "kernelspec": {
   "display_name": "Python 3",
   "language": "python",
   "name": "python3"
  },
  "language_info": {
   "codemirror_mode": {
    "name": "ipython",
    "version": 3
   },
   "file_extension": ".py",
   "mimetype": "text/x-python",
   "name": "python",
   "nbconvert_exporter": "python",
   "pygments_lexer": "ipython3",
   "version": "3.9.21"
  }
 },
 "nbformat": 4,
 "nbformat_minor": 2
}
