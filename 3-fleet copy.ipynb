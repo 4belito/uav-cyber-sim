{
 "cells": [
  {
   "cell_type": "markdown",
   "metadata": {},
   "source": [
    "## UAV fleet Simulation \n",
    "\n",
    "This is for testing propouses"
   ]
  },
  {
   "cell_type": "code",
   "execution_count": 1,
   "metadata": {},
   "outputs": [],
   "source": [
    "import os\n",
    "import numpy as np\n",
    "\n",
    "# Custom modules\n",
    "from vehicle_logic import VehicleLogic\n",
    "from helpers.change_coordinates import local2global\n",
    "from helpers.visualization.plots import plot_3d_interactive\n",
    "from plan import Plan,State\n",
    "from gcs import GCS\n",
    "from simulators.QGroundControl.qgc import QGC\n",
    "from simulators.gazebo.gazebo import Gazebo\n",
    "\n",
    "#Kill all related process\n",
    "for process in [\"QGroundControl\", \"sim_vehicle.py\", \"arducopter\", \"gazebo\", \"mavproxy\"]:\n",
    "    os.system(f\"pkill -9 -f {process}\")"
   ]
  },
  {
   "cell_type": "markdown",
   "metadata": {},
   "source": [
    "## Create Plans"
   ]
  },
  {
   "cell_type": "code",
   "execution_count": 2,
   "metadata": {},
   "outputs": [
    {
     "name": "stdout",
     "output_type": "stream",
     "text": [
      "Plan 'basic' created — no connection yet 🧩\n",
      "Action 'Pre-Arm Check' created — no connection yet 🧩\n",
      "Step 'Check disarmed' created — no connection yet 🧩\n",
      "Step 'Check EKF' created — no connection yet 🧩\n",
      "Step 'Check GPS' created — no connection yet 🧩\n",
      "Step 'Check system' created — no connection yet 🧩\n",
      "Action 'Set Mode: GUIDED' created — no connection yet 🧩\n",
      "Step 'Switch to GUIDED' created — no connection yet 🧩\n",
      "Action 'Arm' created — no connection yet 🧩\n",
      "Step 'arm' created — no connection yet 🧩\n",
      "Action 'takeoff' created — no connection yet 🧩\n",
      "Step 'takeoff' created — no connection yet 🧩\n",
      "Action 'fly' created — no connection yet 🧩\n",
      "Step 'go to  -> (0, 0, 5)' created — no connection yet 🧩\n",
      "Step 'go to  -> (0, 5, 5)' created — no connection yet 🧩\n",
      "Step 'go to  -> (5, 5, 5)' created — no connection yet 🧩\n",
      "Step 'go to  -> (5, 0, 5)' created — no connection yet 🧩\n",
      "Step 'go to  -> (0, 0, 5)' created — no connection yet 🧩\n",
      "Action 'Land' created — no connection yet 🧩\n",
      "Step 'land' created — no connection yet 🧩\n",
      "Plan 'basic' created — no connection yet 🧩\n",
      "Action 'Pre-Arm Check' created — no connection yet 🧩\n",
      "Step 'Check disarmed' created — no connection yet 🧩\n",
      "Step 'Check EKF' created — no connection yet 🧩\n",
      "Step 'Check GPS' created — no connection yet 🧩\n",
      "Step 'Check system' created — no connection yet 🧩\n",
      "Action 'Set Mode: GUIDED' created — no connection yet 🧩\n",
      "Step 'Switch to GUIDED' created — no connection yet 🧩\n",
      "Action 'Arm' created — no connection yet 🧩\n",
      "Step 'arm' created — no connection yet 🧩\n",
      "Action 'takeoff' created — no connection yet 🧩\n",
      "Step 'takeoff' created — no connection yet 🧩\n",
      "Action 'fly' created — no connection yet 🧩\n",
      "Step 'go to  -> (0, 0, 5)' created — no connection yet 🧩\n",
      "Step 'go to  -> (0, 7, 5)' created — no connection yet 🧩\n",
      "Step 'go to  -> (7, 7, 5)' created — no connection yet 🧩\n",
      "Step 'go to  -> (7, 0, 5)' created — no connection yet 🧩\n",
      "Step 'go to  -> (0, 0, 5)' created — no connection yet 🧩\n",
      "Action 'Land' created — no connection yet 🧩\n",
      "Step 'land' created — no connection yet 🧩\n",
      "Plan 'basic' created — no connection yet 🧩\n",
      "Action 'Pre-Arm Check' created — no connection yet 🧩\n",
      "Step 'Check disarmed' created — no connection yet 🧩\n",
      "Step 'Check EKF' created — no connection yet 🧩\n",
      "Step 'Check GPS' created — no connection yet 🧩\n",
      "Step 'Check system' created — no connection yet 🧩\n",
      "Action 'Set Mode: GUIDED' created — no connection yet 🧩\n",
      "Step 'Switch to GUIDED' created — no connection yet 🧩\n",
      "Action 'Arm' created — no connection yet 🧩\n",
      "Step 'arm' created — no connection yet 🧩\n",
      "Action 'takeoff' created — no connection yet 🧩\n",
      "Step 'takeoff' created — no connection yet 🧩\n",
      "Action 'fly' created — no connection yet 🧩\n",
      "Step 'go to  -> (0, 0, 5)' created — no connection yet 🧩\n",
      "Step 'go to  -> (0, 10, 5)' created — no connection yet 🧩\n",
      "Step 'go to  -> (10, 10, 5)' created — no connection yet 🧩\n",
      "Step 'go to  -> (10, 0, 5)' created — no connection yet 🧩\n",
      "Step 'go to  -> (0, 0, 5)' created — no connection yet 🧩\n",
      "Action 'Land' created — no connection yet 🧩\n",
      "Step 'land' created — no connection yet 🧩\n",
      "Plan 'basic' created — no connection yet 🧩\n",
      "Action 'Pre-Arm Check' created — no connection yet 🧩\n",
      "Step 'Check disarmed' created — no connection yet 🧩\n",
      "Step 'Check EKF' created — no connection yet 🧩\n",
      "Step 'Check GPS' created — no connection yet 🧩\n",
      "Step 'Check system' created — no connection yet 🧩\n",
      "Action 'Set Mode: GUIDED' created — no connection yet 🧩\n",
      "Step 'Switch to GUIDED' created — no connection yet 🧩\n",
      "Action 'Arm' created — no connection yet 🧩\n",
      "Step 'arm' created — no connection yet 🧩\n",
      "Action 'takeoff' created — no connection yet 🧩\n",
      "Step 'takeoff' created — no connection yet 🧩\n",
      "Action 'fly' created — no connection yet 🧩\n",
      "Step 'go to  -> (0, 0, 5)' created — no connection yet 🧩\n",
      "Step 'go to  -> (0, 12, 5)' created — no connection yet 🧩\n",
      "Step 'go to  -> (12, 12, 5)' created — no connection yet 🧩\n",
      "Step 'go to  -> (12, 0, 5)' created — no connection yet 🧩\n",
      "Step 'go to  -> (0, 0, 5)' created — no connection yet 🧩\n",
      "Action 'Land' created — no connection yet 🧩\n",
      "Step 'land' created — no connection yet 🧩\n",
      "Plan 'basic' created — no connection yet 🧩\n",
      "Action 'Pre-Arm Check' created — no connection yet 🧩\n",
      "Step 'Check disarmed' created — no connection yet 🧩\n",
      "Step 'Check EKF' created — no connection yet 🧩\n",
      "Step 'Check GPS' created — no connection yet 🧩\n",
      "Step 'Check system' created — no connection yet 🧩\n",
      "Action 'Set Mode: GUIDED' created — no connection yet 🧩\n",
      "Step 'Switch to GUIDED' created — no connection yet 🧩\n",
      "Action 'Arm' created — no connection yet 🧩\n",
      "Step 'arm' created — no connection yet 🧩\n",
      "Action 'takeoff' created — no connection yet 🧩\n",
      "Step 'takeoff' created — no connection yet 🧩\n",
      "Action 'fly' created — no connection yet 🧩\n",
      "Step 'go to  -> (0, 0, 5)' created — no connection yet 🧩\n",
      "Step 'go to  -> (0, 15, 5)' created — no connection yet 🧩\n",
      "Step 'go to  -> (15, 15, 5)' created — no connection yet 🧩\n",
      "Step 'go to  -> (15, 0, 5)' created — no connection yet 🧩\n",
      "Step 'go to  -> (0, 0, 5)' created — no connection yet 🧩\n",
      "Action 'Land' created — no connection yet 🧩\n",
      "Step 'land' created — no connection yet 🧩\n"
     ]
    },
    {
     "data": {
      "application/vnd.plotly.v1+json": {
       "config": {
        "plotlyServerURL": "https://plot.ly"
       },
       "data": [
        {
         "marker": {
          "color": "Green",
          "size": 6
         },
         "mode": "markers",
         "name": "uav_1",
         "type": "scatter3d",
         "x": [
          5,
          5,
          10,
          10,
          5
         ],
         "y": [
          5,
          10,
          10,
          5,
          5
         ],
         "z": [
          5,
          5,
          5,
          5,
          5
         ]
        },
        {
         "marker": {
          "color": "Blue",
          "size": 6
         },
         "mode": "markers",
         "name": "uav_2",
         "type": "scatter3d",
         "x": [
          10,
          10,
          17,
          17,
          10
         ],
         "y": [
          0,
          7,
          7,
          0,
          0
         ],
         "z": [
          5,
          5,
          5,
          5,
          5
         ]
        },
        {
         "marker": {
          "color": "Red",
          "size": 6
         },
         "mode": "markers",
         "name": "uav_3",
         "type": "scatter3d",
         "x": [
          -5,
          -5,
          5,
          5,
          -5
         ],
         "y": [
          -10,
          0,
          0,
          -10,
          -10
         ],
         "z": [
          5,
          5,
          5,
          5,
          5
         ]
        },
        {
         "marker": {
          "color": "Orange",
          "size": 6
         },
         "mode": "markers",
         "name": "uav_4",
         "type": "scatter3d",
         "x": [
          -15,
          -15,
          -3,
          -3,
          -15
         ],
         "y": [
          0,
          12,
          12,
          0,
          0
         ],
         "z": [
          5,
          5,
          5,
          5,
          5
         ]
        },
        {
         "marker": {
          "color": "Yellow",
          "size": 6
         },
         "mode": "markers",
         "name": "uav_5",
         "type": "scatter3d",
         "x": [
          0,
          0,
          15,
          15,
          0
         ],
         "y": [
          -20,
          -5,
          -5,
          -20,
          -20
         ],
         "z": [
          5,
          5,
          5,
          5,
          5
         ]
        }
       ],
       "layout": {
        "height": 600,
        "scene": {
         "xaxis": {
          "range": [
           -21.4,
           23.4
          ],
          "title": {
           "text": "x"
          }
         },
         "yaxis": {
          "range": [
           -26.4,
           18.4
          ],
          "title": {
           "text": "y"
          }
         },
         "zaxis": {
          "range": [
           -0.05,
           5
          ],
          "title": {
           "text": "z"
          }
         }
        },
        "template": {
         "data": {
          "bar": [
           {
            "error_x": {
             "color": "#2a3f5f"
            },
            "error_y": {
             "color": "#2a3f5f"
            },
            "marker": {
             "line": {
              "color": "#E5ECF6",
              "width": 0.5
             },
             "pattern": {
              "fillmode": "overlay",
              "size": 10,
              "solidity": 0.2
             }
            },
            "type": "bar"
           }
          ],
          "barpolar": [
           {
            "marker": {
             "line": {
              "color": "#E5ECF6",
              "width": 0.5
             },
             "pattern": {
              "fillmode": "overlay",
              "size": 10,
              "solidity": 0.2
             }
            },
            "type": "barpolar"
           }
          ],
          "carpet": [
           {
            "aaxis": {
             "endlinecolor": "#2a3f5f",
             "gridcolor": "white",
             "linecolor": "white",
             "minorgridcolor": "white",
             "startlinecolor": "#2a3f5f"
            },
            "baxis": {
             "endlinecolor": "#2a3f5f",
             "gridcolor": "white",
             "linecolor": "white",
             "minorgridcolor": "white",
             "startlinecolor": "#2a3f5f"
            },
            "type": "carpet"
           }
          ],
          "choropleth": [
           {
            "colorbar": {
             "outlinewidth": 0,
             "ticks": ""
            },
            "type": "choropleth"
           }
          ],
          "contour": [
           {
            "colorbar": {
             "outlinewidth": 0,
             "ticks": ""
            },
            "colorscale": [
             [
              0,
              "#0d0887"
             ],
             [
              0.1111111111111111,
              "#46039f"
             ],
             [
              0.2222222222222222,
              "#7201a8"
             ],
             [
              0.3333333333333333,
              "#9c179e"
             ],
             [
              0.4444444444444444,
              "#bd3786"
             ],
             [
              0.5555555555555556,
              "#d8576b"
             ],
             [
              0.6666666666666666,
              "#ed7953"
             ],
             [
              0.7777777777777778,
              "#fb9f3a"
             ],
             [
              0.8888888888888888,
              "#fdca26"
             ],
             [
              1,
              "#f0f921"
             ]
            ],
            "type": "contour"
           }
          ],
          "contourcarpet": [
           {
            "colorbar": {
             "outlinewidth": 0,
             "ticks": ""
            },
            "type": "contourcarpet"
           }
          ],
          "heatmap": [
           {
            "colorbar": {
             "outlinewidth": 0,
             "ticks": ""
            },
            "colorscale": [
             [
              0,
              "#0d0887"
             ],
             [
              0.1111111111111111,
              "#46039f"
             ],
             [
              0.2222222222222222,
              "#7201a8"
             ],
             [
              0.3333333333333333,
              "#9c179e"
             ],
             [
              0.4444444444444444,
              "#bd3786"
             ],
             [
              0.5555555555555556,
              "#d8576b"
             ],
             [
              0.6666666666666666,
              "#ed7953"
             ],
             [
              0.7777777777777778,
              "#fb9f3a"
             ],
             [
              0.8888888888888888,
              "#fdca26"
             ],
             [
              1,
              "#f0f921"
             ]
            ],
            "type": "heatmap"
           }
          ],
          "histogram": [
           {
            "marker": {
             "pattern": {
              "fillmode": "overlay",
              "size": 10,
              "solidity": 0.2
             }
            },
            "type": "histogram"
           }
          ],
          "histogram2d": [
           {
            "colorbar": {
             "outlinewidth": 0,
             "ticks": ""
            },
            "colorscale": [
             [
              0,
              "#0d0887"
             ],
             [
              0.1111111111111111,
              "#46039f"
             ],
             [
              0.2222222222222222,
              "#7201a8"
             ],
             [
              0.3333333333333333,
              "#9c179e"
             ],
             [
              0.4444444444444444,
              "#bd3786"
             ],
             [
              0.5555555555555556,
              "#d8576b"
             ],
             [
              0.6666666666666666,
              "#ed7953"
             ],
             [
              0.7777777777777778,
              "#fb9f3a"
             ],
             [
              0.8888888888888888,
              "#fdca26"
             ],
             [
              1,
              "#f0f921"
             ]
            ],
            "type": "histogram2d"
           }
          ],
          "histogram2dcontour": [
           {
            "colorbar": {
             "outlinewidth": 0,
             "ticks": ""
            },
            "colorscale": [
             [
              0,
              "#0d0887"
             ],
             [
              0.1111111111111111,
              "#46039f"
             ],
             [
              0.2222222222222222,
              "#7201a8"
             ],
             [
              0.3333333333333333,
              "#9c179e"
             ],
             [
              0.4444444444444444,
              "#bd3786"
             ],
             [
              0.5555555555555556,
              "#d8576b"
             ],
             [
              0.6666666666666666,
              "#ed7953"
             ],
             [
              0.7777777777777778,
              "#fb9f3a"
             ],
             [
              0.8888888888888888,
              "#fdca26"
             ],
             [
              1,
              "#f0f921"
             ]
            ],
            "type": "histogram2dcontour"
           }
          ],
          "mesh3d": [
           {
            "colorbar": {
             "outlinewidth": 0,
             "ticks": ""
            },
            "type": "mesh3d"
           }
          ],
          "parcoords": [
           {
            "line": {
             "colorbar": {
              "outlinewidth": 0,
              "ticks": ""
             }
            },
            "type": "parcoords"
           }
          ],
          "pie": [
           {
            "automargin": true,
            "type": "pie"
           }
          ],
          "scatter": [
           {
            "fillpattern": {
             "fillmode": "overlay",
             "size": 10,
             "solidity": 0.2
            },
            "type": "scatter"
           }
          ],
          "scatter3d": [
           {
            "line": {
             "colorbar": {
              "outlinewidth": 0,
              "ticks": ""
             }
            },
            "marker": {
             "colorbar": {
              "outlinewidth": 0,
              "ticks": ""
             }
            },
            "type": "scatter3d"
           }
          ],
          "scattercarpet": [
           {
            "marker": {
             "colorbar": {
              "outlinewidth": 0,
              "ticks": ""
             }
            },
            "type": "scattercarpet"
           }
          ],
          "scattergeo": [
           {
            "marker": {
             "colorbar": {
              "outlinewidth": 0,
              "ticks": ""
             }
            },
            "type": "scattergeo"
           }
          ],
          "scattergl": [
           {
            "marker": {
             "colorbar": {
              "outlinewidth": 0,
              "ticks": ""
             }
            },
            "type": "scattergl"
           }
          ],
          "scattermap": [
           {
            "marker": {
             "colorbar": {
              "outlinewidth": 0,
              "ticks": ""
             }
            },
            "type": "scattermap"
           }
          ],
          "scattermapbox": [
           {
            "marker": {
             "colorbar": {
              "outlinewidth": 0,
              "ticks": ""
             }
            },
            "type": "scattermapbox"
           }
          ],
          "scatterpolar": [
           {
            "marker": {
             "colorbar": {
              "outlinewidth": 0,
              "ticks": ""
             }
            },
            "type": "scatterpolar"
           }
          ],
          "scatterpolargl": [
           {
            "marker": {
             "colorbar": {
              "outlinewidth": 0,
              "ticks": ""
             }
            },
            "type": "scatterpolargl"
           }
          ],
          "scatterternary": [
           {
            "marker": {
             "colorbar": {
              "outlinewidth": 0,
              "ticks": ""
             }
            },
            "type": "scatterternary"
           }
          ],
          "surface": [
           {
            "colorbar": {
             "outlinewidth": 0,
             "ticks": ""
            },
            "colorscale": [
             [
              0,
              "#0d0887"
             ],
             [
              0.1111111111111111,
              "#46039f"
             ],
             [
              0.2222222222222222,
              "#7201a8"
             ],
             [
              0.3333333333333333,
              "#9c179e"
             ],
             [
              0.4444444444444444,
              "#bd3786"
             ],
             [
              0.5555555555555556,
              "#d8576b"
             ],
             [
              0.6666666666666666,
              "#ed7953"
             ],
             [
              0.7777777777777778,
              "#fb9f3a"
             ],
             [
              0.8888888888888888,
              "#fdca26"
             ],
             [
              1,
              "#f0f921"
             ]
            ],
            "type": "surface"
           }
          ],
          "table": [
           {
            "cells": {
             "fill": {
              "color": "#EBF0F8"
             },
             "line": {
              "color": "white"
             }
            },
            "header": {
             "fill": {
              "color": "#C8D4E3"
             },
             "line": {
              "color": "white"
             }
            },
            "type": "table"
           }
          ]
         },
         "layout": {
          "annotationdefaults": {
           "arrowcolor": "#2a3f5f",
           "arrowhead": 0,
           "arrowwidth": 1
          },
          "autotypenumbers": "strict",
          "coloraxis": {
           "colorbar": {
            "outlinewidth": 0,
            "ticks": ""
           }
          },
          "colorscale": {
           "diverging": [
            [
             0,
             "#8e0152"
            ],
            [
             0.1,
             "#c51b7d"
            ],
            [
             0.2,
             "#de77ae"
            ],
            [
             0.3,
             "#f1b6da"
            ],
            [
             0.4,
             "#fde0ef"
            ],
            [
             0.5,
             "#f7f7f7"
            ],
            [
             0.6,
             "#e6f5d0"
            ],
            [
             0.7,
             "#b8e186"
            ],
            [
             0.8,
             "#7fbc41"
            ],
            [
             0.9,
             "#4d9221"
            ],
            [
             1,
             "#276419"
            ]
           ],
           "sequential": [
            [
             0,
             "#0d0887"
            ],
            [
             0.1111111111111111,
             "#46039f"
            ],
            [
             0.2222222222222222,
             "#7201a8"
            ],
            [
             0.3333333333333333,
             "#9c179e"
            ],
            [
             0.4444444444444444,
             "#bd3786"
            ],
            [
             0.5555555555555556,
             "#d8576b"
            ],
            [
             0.6666666666666666,
             "#ed7953"
            ],
            [
             0.7777777777777778,
             "#fb9f3a"
            ],
            [
             0.8888888888888888,
             "#fdca26"
            ],
            [
             1,
             "#f0f921"
            ]
           ],
           "sequentialminus": [
            [
             0,
             "#0d0887"
            ],
            [
             0.1111111111111111,
             "#46039f"
            ],
            [
             0.2222222222222222,
             "#7201a8"
            ],
            [
             0.3333333333333333,
             "#9c179e"
            ],
            [
             0.4444444444444444,
             "#bd3786"
            ],
            [
             0.5555555555555556,
             "#d8576b"
            ],
            [
             0.6666666666666666,
             "#ed7953"
            ],
            [
             0.7777777777777778,
             "#fb9f3a"
            ],
            [
             0.8888888888888888,
             "#fdca26"
            ],
            [
             1,
             "#f0f921"
            ]
           ]
          },
          "colorway": [
           "#636efa",
           "#EF553B",
           "#00cc96",
           "#ab63fa",
           "#FFA15A",
           "#19d3f3",
           "#FF6692",
           "#B6E880",
           "#FF97FF",
           "#FECB52"
          ],
          "font": {
           "color": "#2a3f5f"
          },
          "geo": {
           "bgcolor": "white",
           "lakecolor": "white",
           "landcolor": "#E5ECF6",
           "showlakes": true,
           "showland": true,
           "subunitcolor": "white"
          },
          "hoverlabel": {
           "align": "left"
          },
          "hovermode": "closest",
          "mapbox": {
           "style": "light"
          },
          "paper_bgcolor": "white",
          "plot_bgcolor": "#E5ECF6",
          "polar": {
           "angularaxis": {
            "gridcolor": "white",
            "linecolor": "white",
            "ticks": ""
           },
           "bgcolor": "#E5ECF6",
           "radialaxis": {
            "gridcolor": "white",
            "linecolor": "white",
            "ticks": ""
           }
          },
          "scene": {
           "xaxis": {
            "backgroundcolor": "#E5ECF6",
            "gridcolor": "white",
            "gridwidth": 2,
            "linecolor": "white",
            "showbackground": true,
            "ticks": "",
            "zerolinecolor": "white"
           },
           "yaxis": {
            "backgroundcolor": "#E5ECF6",
            "gridcolor": "white",
            "gridwidth": 2,
            "linecolor": "white",
            "showbackground": true,
            "ticks": "",
            "zerolinecolor": "white"
           },
           "zaxis": {
            "backgroundcolor": "#E5ECF6",
            "gridcolor": "white",
            "gridwidth": 2,
            "linecolor": "white",
            "showbackground": true,
            "ticks": "",
            "zerolinecolor": "white"
           }
          },
          "shapedefaults": {
           "line": {
            "color": "#2a3f5f"
           }
          },
          "ternary": {
           "aaxis": {
            "gridcolor": "white",
            "linecolor": "white",
            "ticks": ""
           },
           "baxis": {
            "gridcolor": "white",
            "linecolor": "white",
            "ticks": ""
           },
           "bgcolor": "#E5ECF6",
           "caxis": {
            "gridcolor": "white",
            "linecolor": "white",
            "ticks": ""
           }
          },
          "title": {
           "x": 0.05
          },
          "xaxis": {
           "automargin": true,
           "gridcolor": "white",
           "linecolor": "white",
           "ticks": "",
           "title": {
            "standoff": 15
           },
           "zerolinecolor": "white",
           "zerolinewidth": 2
          },
          "yaxis": {
           "automargin": true,
           "gridcolor": "white",
           "linecolor": "white",
           "ticks": "",
           "title": {
            "standoff": 15
           },
           "zerolinecolor": "white",
           "zerolinewidth": 2
          }
         }
        },
        "title": {
         "text": "Simulation Markers",
         "x": 0.5,
         "xanchor": "center"
        },
        "width": 800
       }
      }
     },
     "metadata": {},
     "output_type": "display_data"
    }
   ],
   "source": [
    "offsets = [ #east, north, up, heading\n",
    "    (5, 5, 0, 90), \n",
    "    (10, 0, 0, 45),\n",
    "    (-5, -10, 0, 225),\n",
    "    (-15, 0, 0, 0),\n",
    "    (0, -20, 0, 0),\n",
    "]\n",
    "\n",
    "n_uavs = len(offsets)\n",
    "local_paths=[Plan.create_square_path(side_len=dist,alt= 5) for dist in (5,7,10,12,15)]\n",
    "\n",
    "homes=np.array([offset[:3] for offset in offsets])\n",
    "gcs=GCS(positions=homes.copy())\n",
    "\n",
    "global_paths=[local2global(np.array(path), home,pairwise=True) for path,home in zip(local_paths,homes)]\n",
    "\n",
    "plans=[Plan.basic(wps=path,alt=5,wp_margin=0.5) for path in local_paths]\n",
    "\n",
    "\n",
    "colors=['Green','Blue','Red','Orange','Yellow',]\n",
    "markers = {f'uav_{i+1}': {'pos':global_paths[i],'color':colors[i]} for i in range(n_uavs)}\n",
    "\n",
    "plot_3d_interactive(markers,title='Simulation Markers',expand=[0.2,0.2,0.6],ground=-0.05)\n",
    "\n"
   ]
  },
  {
   "cell_type": "markdown",
   "metadata": {},
   "source": [
    "## Choose Simulator"
   ]
  },
  {
   "cell_type": "code",
   "execution_count": 3,
   "metadata": {},
   "outputs": [],
   "source": [
    "#simulator=QGC(offsets=offsets,origin=(-35.3633245,149.1652241,0,0))\n",
    "#simulator=Gazebo(offsets=offsets,world_path=\"simulators/gazebo/worlds/runway2.world\",markers=markers)"
   ]
  },
  {
   "cell_type": "markdown",
   "metadata": {},
   "source": [
    "Launch Vehicles"
   ]
  },
  {
   "cell_type": "code",
   "execution_count": 4,
   "metadata": {},
   "outputs": [],
   "source": [
    "#simulator.launch()"
   ]
  },
  {
   "cell_type": "code",
   "execution_count": 5,
   "metadata": {},
   "outputs": [
    {
     "ename": "NameError",
     "evalue": "name 'simulator' is not defined",
     "output_type": "error",
     "traceback": [
      "\u001b[0;31m---------------------------------------------------------------------------\u001b[0m",
      "\u001b[0;31mNameError\u001b[0m                                 Traceback (most recent call last)",
      "Cell \u001b[0;32mIn[5], line 1\u001b[0m\n\u001b[0;32m----> 1\u001b[0m \u001b[43msimulator\u001b[49m\u001b[38;5;241m.\u001b[39mlaunch_vehicles()\n",
      "\u001b[0;31mNameError\u001b[0m: name 'simulator' is not defined"
     ]
    }
   ],
   "source": [
    "simulator.launch_vehicles()"
   ]
  },
  {
   "cell_type": "markdown",
   "metadata": {},
   "source": [
    "Create UAVs"
   ]
  },
  {
   "cell_type": "code",
   "execution_count": null,
   "metadata": {},
   "outputs": [
    {
     "name": "stdout",
     "output_type": "stream",
     "text": [
      "Vehicle 1: Step 'Check disarmed' is now connected ✅🔗\n",
      "Vehicle 1: Step 'Check EKF' is now connected ✅🔗\n",
      "Vehicle 1: Step 'Check GPS' is now connected ✅🔗\n",
      "Vehicle 1: Step 'Check system' is now connected ✅🔗\n",
      "Vehicle 1: Action 'Pre-Arm Check' is now connected ✅🔗\n",
      "Vehicle 1: Action 'Pre-Arm Check' is now connected ✅🔗\n",
      "Vehicle 1: Step 'Switch to GUIDED' is now connected ✅🔗\n",
      "Vehicle 1: Action 'Set Mode: GUIDED' is now connected ✅🔗\n",
      "Vehicle 1: Action 'Set Mode: GUIDED' is now connected ✅🔗\n",
      "Vehicle 1: Step 'arm' is now connected ✅🔗\n",
      "Vehicle 1: Action 'Arm' is now connected ✅🔗\n",
      "Vehicle 1: Action 'Arm' is now connected ✅🔗\n",
      "Vehicle 1: Step 'takeoff' is now connected ✅🔗\n",
      "Vehicle 1: Action 'takeoff' is now connected ✅🔗\n",
      "Vehicle 1: Action 'takeoff' is now connected ✅🔗\n",
      "Vehicle 1: Step 'go to  -> (0, 0, 5)' is now connected ✅🔗\n",
      "Vehicle 1: Step 'go to  -> (0, 5, 5)' is now connected ✅🔗\n",
      "Vehicle 1: Step 'go to  -> (5, 5, 5)' is now connected ✅🔗\n",
      "Vehicle 1: Step 'go to  -> (5, 0, 5)' is now connected ✅🔗\n",
      "Vehicle 1: Step 'go to  -> (0, 0, 5)' is now connected ✅🔗\n",
      "Vehicle 1: Action 'fly' is now connected ✅🔗\n",
      "Vehicle 1: Action 'fly' is now connected ✅🔗\n",
      "Vehicle 1: Step 'land' is now connected ✅🔗\n",
      "Vehicle 1: Action 'Land' is now connected ✅🔗\n",
      "Vehicle 1: Action 'Land' is now connected ✅🔗\n",
      "Vehicle 1: Plan 'basic' is now connected ✅🔗\n",
      "Vehicle 1: Plan 'basic' is now connected ✅🔗\n",
      "vehicle 1 created\n",
      "Vehicle 2: Step 'Check disarmed' is now connected ✅🔗\n",
      "Vehicle 2: Step 'Check EKF' is now connected ✅🔗\n",
      "Vehicle 2: Step 'Check GPS' is now connected ✅🔗\n",
      "Vehicle 2: Step 'Check system' is now connected ✅🔗\n",
      "Vehicle 2: Action 'Pre-Arm Check' is now connected ✅🔗\n",
      "Vehicle 2: Action 'Pre-Arm Check' is now connected ✅🔗\n",
      "Vehicle 2: Step 'Switch to GUIDED' is now connected ✅🔗\n",
      "Vehicle 2: Action 'Set Mode: GUIDED' is now connected ✅🔗\n",
      "Vehicle 2: Action 'Set Mode: GUIDED' is now connected ✅🔗\n",
      "Vehicle 2: Step 'arm' is now connected ✅🔗\n",
      "Vehicle 2: Action 'Arm' is now connected ✅🔗\n",
      "Vehicle 2: Action 'Arm' is now connected ✅🔗\n",
      "Vehicle 2: Step 'takeoff' is now connected ✅🔗\n",
      "Vehicle 2: Action 'takeoff' is now connected ✅🔗\n",
      "Vehicle 2: Action 'takeoff' is now connected ✅🔗\n",
      "Vehicle 2: Step 'go to  -> (0, 0, 5)' is now connected ✅🔗\n",
      "Vehicle 2: Step 'go to  -> (0, 7, 5)' is now connected ✅🔗\n",
      "Vehicle 2: Step 'go to  -> (7, 7, 5)' is now connected ✅🔗\n",
      "Vehicle 2: Step 'go to  -> (7, 0, 5)' is now connected ✅🔗\n",
      "Vehicle 2: Step 'go to  -> (0, 0, 5)' is now connected ✅🔗\n",
      "Vehicle 2: Action 'fly' is now connected ✅🔗\n",
      "Vehicle 2: Action 'fly' is now connected ✅🔗\n",
      "Vehicle 2: Step 'land' is now connected ✅🔗\n",
      "Vehicle 2: Action 'Land' is now connected ✅🔗\n",
      "Vehicle 2: Action 'Land' is now connected ✅🔗\n",
      "Vehicle 2: Plan 'basic' is now connected ✅🔗\n",
      "Vehicle 2: Plan 'basic' is now connected ✅🔗\n",
      "vehicle 2 created\n",
      "Vehicle 3: Step 'Check disarmed' is now connected ✅🔗\n",
      "Vehicle 3: Step 'Check EKF' is now connected ✅🔗\n",
      "Vehicle 3: Step 'Check GPS' is now connected ✅🔗\n",
      "Vehicle 3: Step 'Check system' is now connected ✅🔗\n",
      "Vehicle 3: Action 'Pre-Arm Check' is now connected ✅🔗\n",
      "Vehicle 3: Action 'Pre-Arm Check' is now connected ✅🔗\n",
      "Vehicle 3: Step 'Switch to GUIDED' is now connected ✅🔗\n",
      "Vehicle 3: Action 'Set Mode: GUIDED' is now connected ✅🔗\n",
      "Vehicle 3: Action 'Set Mode: GUIDED' is now connected ✅🔗\n",
      "Vehicle 3: Step 'arm' is now connected ✅🔗\n",
      "Vehicle 3: Action 'Arm' is now connected ✅🔗\n",
      "Vehicle 3: Action 'Arm' is now connected ✅🔗\n",
      "Vehicle 3: Step 'takeoff' is now connected ✅🔗\n",
      "Vehicle 3: Action 'takeoff' is now connected ✅🔗\n",
      "Vehicle 3: Action 'takeoff' is now connected ✅🔗\n",
      "Vehicle 3: Step 'go to  -> (0, 0, 5)' is now connected ✅🔗\n",
      "Vehicle 3: Step 'go to  -> (0, 10, 5)' is now connected ✅🔗\n",
      "Vehicle 3: Step 'go to  -> (10, 10, 5)' is now connected ✅🔗\n",
      "Vehicle 3: Step 'go to  -> (10, 0, 5)' is now connected ✅🔗\n",
      "Vehicle 3: Step 'go to  -> (0, 0, 5)' is now connected ✅🔗\n",
      "Vehicle 3: Action 'fly' is now connected ✅🔗\n",
      "Vehicle 3: Action 'fly' is now connected ✅🔗\n",
      "Vehicle 3: Step 'land' is now connected ✅🔗\n",
      "Vehicle 3: Action 'Land' is now connected ✅🔗\n",
      "Vehicle 3: Action 'Land' is now connected ✅🔗\n",
      "Vehicle 3: Plan 'basic' is now connected ✅🔗\n",
      "Vehicle 3: Plan 'basic' is now connected ✅🔗\n",
      "vehicle 3 created\n",
      "Vehicle 4: Step 'Check disarmed' is now connected ✅🔗\n",
      "Vehicle 4: Step 'Check EKF' is now connected ✅🔗\n",
      "Vehicle 4: Step 'Check GPS' is now connected ✅🔗\n",
      "Vehicle 4: Step 'Check system' is now connected ✅🔗\n",
      "Vehicle 4: Action 'Pre-Arm Check' is now connected ✅🔗\n",
      "Vehicle 4: Action 'Pre-Arm Check' is now connected ✅🔗\n",
      "Vehicle 4: Step 'Switch to GUIDED' is now connected ✅🔗\n",
      "Vehicle 4: Action 'Set Mode: GUIDED' is now connected ✅🔗\n",
      "Vehicle 4: Action 'Set Mode: GUIDED' is now connected ✅🔗\n",
      "Vehicle 4: Step 'arm' is now connected ✅🔗\n",
      "Vehicle 4: Action 'Arm' is now connected ✅🔗\n",
      "Vehicle 4: Action 'Arm' is now connected ✅🔗\n",
      "Vehicle 4: Step 'takeoff' is now connected ✅🔗\n",
      "Vehicle 4: Action 'takeoff' is now connected ✅🔗\n",
      "Vehicle 4: Action 'takeoff' is now connected ✅🔗\n",
      "Vehicle 4: Step 'go to  -> (0, 0, 5)' is now connected ✅🔗\n",
      "Vehicle 4: Step 'go to  -> (0, 12, 5)' is now connected ✅🔗\n",
      "Vehicle 4: Step 'go to  -> (12, 12, 5)' is now connected ✅🔗\n",
      "Vehicle 4: Step 'go to  -> (12, 0, 5)' is now connected ✅🔗\n",
      "Vehicle 4: Step 'go to  -> (0, 0, 5)' is now connected ✅🔗\n",
      "Vehicle 4: Action 'fly' is now connected ✅🔗\n",
      "Vehicle 4: Action 'fly' is now connected ✅🔗\n",
      "Vehicle 4: Step 'land' is now connected ✅🔗\n",
      "Vehicle 4: Action 'Land' is now connected ✅🔗\n",
      "Vehicle 4: Action 'Land' is now connected ✅🔗\n",
      "Vehicle 4: Plan 'basic' is now connected ✅🔗\n",
      "Vehicle 4: Plan 'basic' is now connected ✅🔗\n",
      "vehicle 4 created\n",
      "Vehicle 5: Step 'Check disarmed' is now connected ✅🔗\n",
      "Vehicle 5: Step 'Check EKF' is now connected ✅🔗\n",
      "Vehicle 5: Step 'Check GPS' is now connected ✅🔗\n",
      "Vehicle 5: Step 'Check system' is now connected ✅🔗\n",
      "Vehicle 5: Action 'Pre-Arm Check' is now connected ✅🔗\n",
      "Vehicle 5: Action 'Pre-Arm Check' is now connected ✅🔗\n",
      "Vehicle 5: Step 'Switch to GUIDED' is now connected ✅🔗\n",
      "Vehicle 5: Action 'Set Mode: GUIDED' is now connected ✅🔗\n",
      "Vehicle 5: Action 'Set Mode: GUIDED' is now connected ✅🔗\n",
      "Vehicle 5: Step 'arm' is now connected ✅🔗\n",
      "Vehicle 5: Action 'Arm' is now connected ✅🔗\n",
      "Vehicle 5: Action 'Arm' is now connected ✅🔗\n",
      "Vehicle 5: Step 'takeoff' is now connected ✅🔗\n",
      "Vehicle 5: Action 'takeoff' is now connected ✅🔗\n",
      "Vehicle 5: Action 'takeoff' is now connected ✅🔗\n",
      "Vehicle 5: Step 'go to  -> (0, 0, 5)' is now connected ✅🔗\n",
      "Vehicle 5: Step 'go to  -> (0, 15, 5)' is now connected ✅🔗\n",
      "Vehicle 5: Step 'go to  -> (15, 15, 5)' is now connected ✅🔗\n",
      "Vehicle 5: Step 'go to  -> (15, 0, 5)' is now connected ✅🔗\n",
      "Vehicle 5: Step 'go to  -> (0, 0, 5)' is now connected ✅🔗\n",
      "Vehicle 5: Action 'fly' is now connected ✅🔗\n",
      "Vehicle 5: Action 'fly' is now connected ✅🔗\n",
      "Vehicle 5: Step 'land' is now connected ✅🔗\n",
      "Vehicle 5: Action 'Land' is now connected ✅🔗\n",
      "Vehicle 5: Action 'Land' is now connected ✅🔗\n",
      "Vehicle 5: Plan 'basic' is now connected ✅🔗\n",
      "Vehicle 5: Plan 'basic' is now connected ✅🔗\n",
      "vehicle 5 created\n"
     ]
    }
   ],
   "source": [
    "uavs=[]\n",
    "for i,(plan,home) in enumerate(zip(plans,homes)): \n",
    "    uavs.append(VehicleLogic(sys_id=i+1,\n",
    "                    home=home,\n",
    "                    plan= plan))"
   ]
  },
  {
   "cell_type": "markdown",
   "metadata": {},
   "source": [
    "Launch Simulator"
   ]
  },
  {
   "cell_type": "code",
   "execution_count": null,
   "metadata": {},
   "outputs": [
    {
     "name": "stdout",
     "output_type": "stream",
     "text": [
      "🧼 All QGroundControl links deleted (count=0).\n",
      "✅ 5 new connection(s) added starting from port 5763. Restart QGroundControl to see them.\n"
     ]
    }
   ],
   "source": [
    "simulator.launch()"
   ]
  },
  {
   "cell_type": "markdown",
   "metadata": {},
   "source": [
    "## Execute Plan"
   ]
  },
  {
   "cell_type": "code",
   "execution_count": null,
   "metadata": {},
   "outputs": [
    {
     "name": "stdout",
     "output_type": "stream",
     "text": [
      "Vehicle 1: ▶️ Starting Step: Check disarmed\n",
      "Vehicle 2: ▶️ Starting Step: Check disarmed\n",
      "Vehicle 3: ▶️ Starting Step: Check disarmed\n",
      "Vehicle 4: ▶️ Starting Step: Check disarmed\n",
      "Vehicle 5: ▶️ Starting Step: Check disarmed\n",
      "Vehicle 1: ✅ Step: Check disarmed is done\n",
      "Vehicle 2: ✅ Step: Check disarmed is done\n",
      "Vehicle 3: ✅ Step: Check disarmed is done\n",
      "Vehicle 1: ▶️ Starting Step: Check EKF\n",
      "Vehicle 2: ▶️ Starting Step: Check EKF\n",
      "Vehicle 3: ▶️ Starting Step: Check EKF\n",
      "Vehicle 4: ✅ Step: Check disarmed is done\n",
      "Vehicle 4: ▶️ Starting Step: Check EKF\n",
      "Vehicle 5: ✅ Step: Check disarmed is done\n",
      "Vehicle 5: ▶️ Starting Step: Check EKF\n"
     ]
    }
   ],
   "source": [
    "while gcs.incomplete_missions:\n",
    "    to_remove = set()\n",
    "    for id in gcs.incomplete_missions:\n",
    "        uav = uavs[id-1]\n",
    "        if uav.plan.state == State.DONE:\n",
    "            to_remove.add(id)\n",
    "        else:\n",
    "            uav.plan.act()\n",
    "    gcs.update_missions(to_remove)"
   ]
  },
  {
   "cell_type": "markdown",
   "metadata": {},
   "source": [
    "## Kill all related process"
   ]
  },
  {
   "cell_type": "code",
   "execution_count": null,
   "metadata": {},
   "outputs": [],
   "source": [
    "for process in [\"QGroundControl\", \"sim_vehicle.py\", \"arducopter\", \"gazebo\", \"mavproxy\"]:\n",
    "    os.system(f\"pkill -9 -f {process}\")"
   ]
  },
  {
   "cell_type": "code",
   "execution_count": null,
   "metadata": {},
   "outputs": [],
   "source": []
  }
 ],
 "metadata": {
  "kernelspec": {
   "display_name": "pymavlink",
   "language": "python",
   "name": "python3"
  },
  "language_info": {
   "codemirror_mode": {
    "name": "ipython",
    "version": 3
   },
   "file_extension": ".py",
   "mimetype": "text/x-python",
   "name": "python",
   "nbconvert_exporter": "python",
   "pygments_lexer": "ipython3",
   "version": "3.9.21"
  }
 },
 "nbformat": 4,
 "nbformat_minor": 2
}
