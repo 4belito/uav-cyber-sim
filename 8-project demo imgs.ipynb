{
 "cells": [
  {
   "cell_type": "markdown",
   "metadata": {},
   "source": [
    "## Dynamic Plans\n",
    "\n",
    "This notebook implements a uav logic instead of a plan and decisions are done online following that logic"
   ]
  },
  {
   "cell_type": "code",
   "execution_count": 1,
   "metadata": {},
   "outputs": [],
   "source": [
    "import numpy as np\n",
    "\n",
    "# Custom modules\n",
    "from helpers import local2global, plot_3d_interactive, kill_processes\n",
    "from simulators import Simulator, Gazebo, QGC\n",
    "from plan import Plan, State\n",
    "from oracle import Oracle\n",
    "\n",
    "kill_processes()"
   ]
  },
  {
   "cell_type": "markdown",
   "metadata": {},
   "source": [
    "## Create Plans"
   ]
  },
  {
   "cell_type": "code",
   "execution_count": null,
   "metadata": {},
   "outputs": [],
   "source": [
    "gazebo_word_path = \"simulators/gazebo/worlds/medical_delivery.world\"  ##\n",
    "target_box_center = (-85.263400, 56.518300, 0.593695, 0)\n",
    "\n",
    "origin = (0, 0, 0)\n",
    "offsets = [  # east, north, up, heading\n",
    "    target_box_center,\n",
    "    (0, -10, 0, 0),\n",
    "    (5, -15, 0, 0),\n",
    "    (10, -10, 0, 0),\n",
    "]\n",
    "\n",
    "n_vehicles = len(offsets)\n",
    "\n",
    "homes = np.array([offset[:3] for offset in offsets])\n",
    "\n",
    "altitudes = [5, 5, 5, 7]\n",
    "plans = [Plan.hover(takeoff_alt=5) for alt in altitudes]"
   ]
  },
  {
   "cell_type": "markdown",
   "metadata": {},
   "source": [
    "## Visualization Parameters"
   ]
  },
  {
   "cell_type": "code",
   "execution_count": 3,
   "metadata": {},
   "outputs": [
    {
     "data": {
      "application/vnd.plotly.v1+json": {
       "config": {
        "plotlyServerURL": "https://plot.ly"
       },
       "data": [
        {
         "marker": {
          "color": "blue",
          "size": 6
         },
         "mode": "markers",
         "name": "city_homes",
         "type": "scatter3d",
         "x": [
          0,
          5,
          10
         ],
         "y": [
          -10,
          -15,
          -10
         ],
         "z": [
          0,
          0,
          0
         ]
        },
        {
         "marker": {
          "color": "green",
          "size": 6
         },
         "mode": "markers",
         "name": "rural_home",
         "type": "scatter3d",
         "x": [
          -85.2634
         ],
         "y": [
          56.5183
         ],
         "z": [
          0.593695
         ]
        }
       ],
       "layout": {
        "height": 600,
        "scene": {
         "xaxis": {
          "range": [
           -104.31608,
           29.052680000000002
          ],
          "title": {
           "text": "x"
          }
         },
         "yaxis": {
          "range": [
           -29.30366,
           70.82196
          ],
          "title": {
           "text": "y"
          }
         },
         "zaxis": {
          "range": [
           -0.05,
           6.530645
          ],
          "title": {
           "text": "z"
          }
         }
        },
        "showlegend": true,
        "template": {
         "data": {
          "bar": [
           {
            "error_x": {
             "color": "#2a3f5f"
            },
            "error_y": {
             "color": "#2a3f5f"
            },
            "marker": {
             "line": {
              "color": "#E5ECF6",
              "width": 0.5
             },
             "pattern": {
              "fillmode": "overlay",
              "size": 10,
              "solidity": 0.2
             }
            },
            "type": "bar"
           }
          ],
          "barpolar": [
           {
            "marker": {
             "line": {
              "color": "#E5ECF6",
              "width": 0.5
             },
             "pattern": {
              "fillmode": "overlay",
              "size": 10,
              "solidity": 0.2
             }
            },
            "type": "barpolar"
           }
          ],
          "carpet": [
           {
            "aaxis": {
             "endlinecolor": "#2a3f5f",
             "gridcolor": "white",
             "linecolor": "white",
             "minorgridcolor": "white",
             "startlinecolor": "#2a3f5f"
            },
            "baxis": {
             "endlinecolor": "#2a3f5f",
             "gridcolor": "white",
             "linecolor": "white",
             "minorgridcolor": "white",
             "startlinecolor": "#2a3f5f"
            },
            "type": "carpet"
           }
          ],
          "choropleth": [
           {
            "colorbar": {
             "outlinewidth": 0,
             "ticks": ""
            },
            "type": "choropleth"
           }
          ],
          "contour": [
           {
            "colorbar": {
             "outlinewidth": 0,
             "ticks": ""
            },
            "colorscale": [
             [
              0,
              "#0d0887"
             ],
             [
              0.1111111111111111,
              "#46039f"
             ],
             [
              0.2222222222222222,
              "#7201a8"
             ],
             [
              0.3333333333333333,
              "#9c179e"
             ],
             [
              0.4444444444444444,
              "#bd3786"
             ],
             [
              0.5555555555555556,
              "#d8576b"
             ],
             [
              0.6666666666666666,
              "#ed7953"
             ],
             [
              0.7777777777777778,
              "#fb9f3a"
             ],
             [
              0.8888888888888888,
              "#fdca26"
             ],
             [
              1,
              "#f0f921"
             ]
            ],
            "type": "contour"
           }
          ],
          "contourcarpet": [
           {
            "colorbar": {
             "outlinewidth": 0,
             "ticks": ""
            },
            "type": "contourcarpet"
           }
          ],
          "heatmap": [
           {
            "colorbar": {
             "outlinewidth": 0,
             "ticks": ""
            },
            "colorscale": [
             [
              0,
              "#0d0887"
             ],
             [
              0.1111111111111111,
              "#46039f"
             ],
             [
              0.2222222222222222,
              "#7201a8"
             ],
             [
              0.3333333333333333,
              "#9c179e"
             ],
             [
              0.4444444444444444,
              "#bd3786"
             ],
             [
              0.5555555555555556,
              "#d8576b"
             ],
             [
              0.6666666666666666,
              "#ed7953"
             ],
             [
              0.7777777777777778,
              "#fb9f3a"
             ],
             [
              0.8888888888888888,
              "#fdca26"
             ],
             [
              1,
              "#f0f921"
             ]
            ],
            "type": "heatmap"
           }
          ],
          "histogram": [
           {
            "marker": {
             "pattern": {
              "fillmode": "overlay",
              "size": 10,
              "solidity": 0.2
             }
            },
            "type": "histogram"
           }
          ],
          "histogram2d": [
           {
            "colorbar": {
             "outlinewidth": 0,
             "ticks": ""
            },
            "colorscale": [
             [
              0,
              "#0d0887"
             ],
             [
              0.1111111111111111,
              "#46039f"
             ],
             [
              0.2222222222222222,
              "#7201a8"
             ],
             [
              0.3333333333333333,
              "#9c179e"
             ],
             [
              0.4444444444444444,
              "#bd3786"
             ],
             [
              0.5555555555555556,
              "#d8576b"
             ],
             [
              0.6666666666666666,
              "#ed7953"
             ],
             [
              0.7777777777777778,
              "#fb9f3a"
             ],
             [
              0.8888888888888888,
              "#fdca26"
             ],
             [
              1,
              "#f0f921"
             ]
            ],
            "type": "histogram2d"
           }
          ],
          "histogram2dcontour": [
           {
            "colorbar": {
             "outlinewidth": 0,
             "ticks": ""
            },
            "colorscale": [
             [
              0,
              "#0d0887"
             ],
             [
              0.1111111111111111,
              "#46039f"
             ],
             [
              0.2222222222222222,
              "#7201a8"
             ],
             [
              0.3333333333333333,
              "#9c179e"
             ],
             [
              0.4444444444444444,
              "#bd3786"
             ],
             [
              0.5555555555555556,
              "#d8576b"
             ],
             [
              0.6666666666666666,
              "#ed7953"
             ],
             [
              0.7777777777777778,
              "#fb9f3a"
             ],
             [
              0.8888888888888888,
              "#fdca26"
             ],
             [
              1,
              "#f0f921"
             ]
            ],
            "type": "histogram2dcontour"
           }
          ],
          "mesh3d": [
           {
            "colorbar": {
             "outlinewidth": 0,
             "ticks": ""
            },
            "type": "mesh3d"
           }
          ],
          "parcoords": [
           {
            "line": {
             "colorbar": {
              "outlinewidth": 0,
              "ticks": ""
             }
            },
            "type": "parcoords"
           }
          ],
          "pie": [
           {
            "automargin": true,
            "type": "pie"
           }
          ],
          "scatter": [
           {
            "fillpattern": {
             "fillmode": "overlay",
             "size": 10,
             "solidity": 0.2
            },
            "type": "scatter"
           }
          ],
          "scatter3d": [
           {
            "line": {
             "colorbar": {
              "outlinewidth": 0,
              "ticks": ""
             }
            },
            "marker": {
             "colorbar": {
              "outlinewidth": 0,
              "ticks": ""
             }
            },
            "type": "scatter3d"
           }
          ],
          "scattercarpet": [
           {
            "marker": {
             "colorbar": {
              "outlinewidth": 0,
              "ticks": ""
             }
            },
            "type": "scattercarpet"
           }
          ],
          "scattergeo": [
           {
            "marker": {
             "colorbar": {
              "outlinewidth": 0,
              "ticks": ""
             }
            },
            "type": "scattergeo"
           }
          ],
          "scattergl": [
           {
            "marker": {
             "colorbar": {
              "outlinewidth": 0,
              "ticks": ""
             }
            },
            "type": "scattergl"
           }
          ],
          "scattermap": [
           {
            "marker": {
             "colorbar": {
              "outlinewidth": 0,
              "ticks": ""
             }
            },
            "type": "scattermap"
           }
          ],
          "scattermapbox": [
           {
            "marker": {
             "colorbar": {
              "outlinewidth": 0,
              "ticks": ""
             }
            },
            "type": "scattermapbox"
           }
          ],
          "scatterpolar": [
           {
            "marker": {
             "colorbar": {
              "outlinewidth": 0,
              "ticks": ""
             }
            },
            "type": "scatterpolar"
           }
          ],
          "scatterpolargl": [
           {
            "marker": {
             "colorbar": {
              "outlinewidth": 0,
              "ticks": ""
             }
            },
            "type": "scatterpolargl"
           }
          ],
          "scatterternary": [
           {
            "marker": {
             "colorbar": {
              "outlinewidth": 0,
              "ticks": ""
             }
            },
            "type": "scatterternary"
           }
          ],
          "surface": [
           {
            "colorbar": {
             "outlinewidth": 0,
             "ticks": ""
            },
            "colorscale": [
             [
              0,
              "#0d0887"
             ],
             [
              0.1111111111111111,
              "#46039f"
             ],
             [
              0.2222222222222222,
              "#7201a8"
             ],
             [
              0.3333333333333333,
              "#9c179e"
             ],
             [
              0.4444444444444444,
              "#bd3786"
             ],
             [
              0.5555555555555556,
              "#d8576b"
             ],
             [
              0.6666666666666666,
              "#ed7953"
             ],
             [
              0.7777777777777778,
              "#fb9f3a"
             ],
             [
              0.8888888888888888,
              "#fdca26"
             ],
             [
              1,
              "#f0f921"
             ]
            ],
            "type": "surface"
           }
          ],
          "table": [
           {
            "cells": {
             "fill": {
              "color": "#EBF0F8"
             },
             "line": {
              "color": "white"
             }
            },
            "header": {
             "fill": {
              "color": "#C8D4E3"
             },
             "line": {
              "color": "white"
             }
            },
            "type": "table"
           }
          ]
         },
         "layout": {
          "annotationdefaults": {
           "arrowcolor": "#2a3f5f",
           "arrowhead": 0,
           "arrowwidth": 1
          },
          "autotypenumbers": "strict",
          "coloraxis": {
           "colorbar": {
            "outlinewidth": 0,
            "ticks": ""
           }
          },
          "colorscale": {
           "diverging": [
            [
             0,
             "#8e0152"
            ],
            [
             0.1,
             "#c51b7d"
            ],
            [
             0.2,
             "#de77ae"
            ],
            [
             0.3,
             "#f1b6da"
            ],
            [
             0.4,
             "#fde0ef"
            ],
            [
             0.5,
             "#f7f7f7"
            ],
            [
             0.6,
             "#e6f5d0"
            ],
            [
             0.7,
             "#b8e186"
            ],
            [
             0.8,
             "#7fbc41"
            ],
            [
             0.9,
             "#4d9221"
            ],
            [
             1,
             "#276419"
            ]
           ],
           "sequential": [
            [
             0,
             "#0d0887"
            ],
            [
             0.1111111111111111,
             "#46039f"
            ],
            [
             0.2222222222222222,
             "#7201a8"
            ],
            [
             0.3333333333333333,
             "#9c179e"
            ],
            [
             0.4444444444444444,
             "#bd3786"
            ],
            [
             0.5555555555555556,
             "#d8576b"
            ],
            [
             0.6666666666666666,
             "#ed7953"
            ],
            [
             0.7777777777777778,
             "#fb9f3a"
            ],
            [
             0.8888888888888888,
             "#fdca26"
            ],
            [
             1,
             "#f0f921"
            ]
           ],
           "sequentialminus": [
            [
             0,
             "#0d0887"
            ],
            [
             0.1111111111111111,
             "#46039f"
            ],
            [
             0.2222222222222222,
             "#7201a8"
            ],
            [
             0.3333333333333333,
             "#9c179e"
            ],
            [
             0.4444444444444444,
             "#bd3786"
            ],
            [
             0.5555555555555556,
             "#d8576b"
            ],
            [
             0.6666666666666666,
             "#ed7953"
            ],
            [
             0.7777777777777778,
             "#fb9f3a"
            ],
            [
             0.8888888888888888,
             "#fdca26"
            ],
            [
             1,
             "#f0f921"
            ]
           ]
          },
          "colorway": [
           "#636efa",
           "#EF553B",
           "#00cc96",
           "#ab63fa",
           "#FFA15A",
           "#19d3f3",
           "#FF6692",
           "#B6E880",
           "#FF97FF",
           "#FECB52"
          ],
          "font": {
           "color": "#2a3f5f"
          },
          "geo": {
           "bgcolor": "white",
           "lakecolor": "white",
           "landcolor": "#E5ECF6",
           "showlakes": true,
           "showland": true,
           "subunitcolor": "white"
          },
          "hoverlabel": {
           "align": "left"
          },
          "hovermode": "closest",
          "mapbox": {
           "style": "light"
          },
          "paper_bgcolor": "white",
          "plot_bgcolor": "#E5ECF6",
          "polar": {
           "angularaxis": {
            "gridcolor": "white",
            "linecolor": "white",
            "ticks": ""
           },
           "bgcolor": "#E5ECF6",
           "radialaxis": {
            "gridcolor": "white",
            "linecolor": "white",
            "ticks": ""
           }
          },
          "scene": {
           "xaxis": {
            "backgroundcolor": "#E5ECF6",
            "gridcolor": "white",
            "gridwidth": 2,
            "linecolor": "white",
            "showbackground": true,
            "ticks": "",
            "zerolinecolor": "white"
           },
           "yaxis": {
            "backgroundcolor": "#E5ECF6",
            "gridcolor": "white",
            "gridwidth": 2,
            "linecolor": "white",
            "showbackground": true,
            "ticks": "",
            "zerolinecolor": "white"
           },
           "zaxis": {
            "backgroundcolor": "#E5ECF6",
            "gridcolor": "white",
            "gridwidth": 2,
            "linecolor": "white",
            "showbackground": true,
            "ticks": "",
            "zerolinecolor": "white"
           }
          },
          "shapedefaults": {
           "line": {
            "color": "#2a3f5f"
           }
          },
          "ternary": {
           "aaxis": {
            "gridcolor": "white",
            "linecolor": "white",
            "ticks": ""
           },
           "baxis": {
            "gridcolor": "white",
            "linecolor": "white",
            "ticks": ""
           },
           "bgcolor": "#E5ECF6",
           "caxis": {
            "gridcolor": "white",
            "linecolor": "white",
            "ticks": ""
           }
          },
          "title": {
           "x": 0.05
          },
          "xaxis": {
           "automargin": true,
           "gridcolor": "white",
           "linecolor": "white",
           "ticks": "",
           "title": {
            "standoff": 15
           },
           "zerolinecolor": "white",
           "zerolinewidth": 2
          },
          "yaxis": {
           "automargin": true,
           "gridcolor": "white",
           "linecolor": "white",
           "ticks": "",
           "title": {
            "standoff": 15
           },
           "zerolinecolor": "white",
           "zerolinewidth": 2
          }
         }
        },
        "title": {
         "text": "Simulation Markers",
         "x": 0.5,
         "xanchor": "center"
        },
        "width": 800
       }
      }
     },
     "metadata": {},
     "output_type": "display_data"
    }
   ],
   "source": [
    "homes = np.array([offset[:3] for offset in offsets])\n",
    "waypoints = {\n",
    "    f\"city_homes\": {\"pos\": homes[1:], \"color\": \"blue\"},\n",
    "    f\"rural_home\": {\"pos\": homes[[0]], \"color\": \"green\"},\n",
    "}\n",
    "plot_3d_interactive(\n",
    "    waypoints, title=\"Simulation Markers\", expand=[0.2, 0.2, 10], ground=-0.05\n",
    ")"
   ]
  },
  {
   "cell_type": "markdown",
   "metadata": {},
   "source": [
    "## Choose Simulator"
   ]
  },
  {
   "cell_type": "code",
   "execution_count": 4,
   "metadata": {},
   "outputs": [],
   "source": [
    "simulator = Simulator(name=\"NONE\", offsets=offsets, plans=plans)\n",
    "\n",
    "simulator = QGC(offsets=offsets, plans=plans, origin=(-35.3633245, 149.1652241, 0, 0))\n",
    "\n",
    "simulator = Gazebo(\n",
    "    offsets=offsets,\n",
    "    plans=plans,\n",
    "    world_path=gazebo_word_path,\n",
    "    models=n_vehicles * [\"iris\"],\n",
    "    colors=n_vehicles * [\"blue\"],\n",
    "    markers=waypoints,\n",
    ")"
   ]
  },
  {
   "cell_type": "markdown",
   "metadata": {},
   "source": [
    "Launch Simulator"
   ]
  },
  {
   "cell_type": "code",
   "execution_count": 5,
   "metadata": {},
   "outputs": [
    {
     "name": "stdout",
     "output_type": "stream",
     "text": [
      "Vehicle 1 launched 🚀\n",
      "Vehicle 2 launched 🚀\n",
      "Vehicle 3 launched 🚀\n",
      "Vehicle 4 launched 🚀\n"
     ]
    }
   ],
   "source": [
    "uavs = simulator.launch()\n",
    "orac = Oracle(uavs)"
   ]
  },
  {
   "cell_type": "markdown",
   "metadata": {},
   "source": [
    "## Execute Plan"
   ]
  },
  {
   "cell_type": "code",
   "execution_count": 7,
   "metadata": {},
   "outputs": [
    {
     "data": {
      "text/plain": [
       "🚀 <Plan '📋 hover'>\n",
       "  ✅ <Action '🔧 PREARM'>\n",
       "    ✅ <Step '🔹 Check disarmed'>\n",
       "    ✅ <Step '🔹 Check EKF'>\n",
       "    ✅ <Step '🔹 Check GPS'>\n",
       "    ✅ <Step '🔹 Check system'>\n",
       "  ✅ <Action '⚙️ MODE: GUIDED'>\n",
       "    ✅ <Step '🔹 Switch to GUIDED'>\n",
       "  ✅ <Action '🔐 ARM'>\n",
       "    ✅ <Step '🔹 arm'>\n",
       "  🚀 <Action '🛫 TAKEOFF'>\n",
       "    🚀 <Step '🔹 takeoff'>\n",
       "  🕓 <Action '🛩️ FLY'>"
      ]
     },
     "execution_count": 7,
     "metadata": {},
     "output_type": "execute_result"
    }
   ],
   "source": [
    "uavs[0].plan"
   ]
  },
  {
   "cell_type": "code",
   "execution_count": 6,
   "metadata": {},
   "outputs": [
    {
     "name": "stdout",
     "output_type": "stream",
     "text": [
      "Vehicle 1: ▶️ Plan Started: 📋 hover\n",
      "Vehicle 1: ▶️ Action Started: 🔧 PREARM\n",
      "Vehicle 1: ▶️ Step Started: Check disarmed\n",
      "Vehicle 2: ▶️ Plan Started: 📋 hover\n",
      "Vehicle 2: ▶️ Action Started: 🔧 PREARM\n",
      "Vehicle 2: ▶️ Step Started: Check disarmed\n",
      "Vehicle 3: ▶️ Plan Started: 📋 hover\n",
      "Vehicle 3: ▶️ Action Started: 🔧 PREARM\n",
      "Vehicle 3: ▶️ Step Started: Check disarmed\n",
      "Vehicle 4: ▶️ Plan Started: 📋 hover\n",
      "Vehicle 4: ▶️ Action Started: 🔧 PREARM\n",
      "Vehicle 4: ▶️ Step Started: Check disarmed\n",
      "Vehicle 1: ✅ Step Done: Check disarmed\n",
      "Vehicle 2: ✅ Step Done: Check disarmed\n",
      "Vehicle 3: ✅ Step Done: Check disarmed\n",
      "Vehicle 4: ✅ Step Done: Check disarmed\n",
      "Vehicle 1: ▶️ Step Started: Check EKF\n",
      "Vehicle 2: ▶️ Step Started: Check EKF\n",
      "Vehicle 3: ▶️ Step Started: Check EKF\n",
      "Vehicle 4: ▶️ Step Started: Check EKF\n",
      "Vehicle 3: ✅ Step Done: Check EKF\n",
      "Vehicle 3: ▶️ Step Started: Check GPS\n",
      "Vehicle 4: ✅ Step Done: Check EKF\n",
      "Vehicle 4: ▶️ Step Started: Check GPS\n",
      "Vehicle 1: ✅ Step Done: Check EKF\n",
      "Vehicle 1: ▶️ Step Started: Check GPS\n",
      "Vehicle 2: ✅ Step Done: Check EKF\n",
      "Vehicle 2: ▶️ Step Started: Check GPS\n",
      "Vehicle 3: ✅ Step Done: Check GPS\n",
      "Vehicle 3: ▶️ Step Started: Check system\n",
      "Vehicle 4: ✅ Step Done: Check GPS\n",
      "Vehicle 4: ▶️ Step Started: Check system\n",
      "Vehicle 1: ✅ Step Done: Check GPS\n",
      "Vehicle 1: ▶️ Step Started: Check system\n",
      "Vehicle 2: ✅ Step Done: Check GPS\n",
      "Vehicle 2: ▶️ Step Started: Check system\n",
      "Vehicle 3: ✅ Step Done: Check system\n",
      "Vehicle 3: ✅ Action Done: 🔧 PREARM\n",
      "Vehicle 3: ▶️ Action Started: ⚙️ MODE: GUIDED\n",
      "Vehicle 3: ▶️ Step Started: Switch to GUIDED\n",
      "Vehicle 4: ✅ Step Done: Check system\n",
      "Vehicle 4: ✅ Action Done: 🔧 PREARM\n",
      "Vehicle 4: ▶️ Action Started: ⚙️ MODE: GUIDED\n",
      "Vehicle 4: ▶️ Step Started: Switch to GUIDED\n",
      "Vehicle 3: ✅ Step Done: Switch to GUIDED\n",
      "Vehicle 3: ✅ Action Done: ⚙️ MODE: GUIDED\n",
      "Vehicle 3: ▶️ Action Started: 🔐 ARM\n",
      "Vehicle 3: ▶️ Step Started: arm\n",
      "Vehicle 4: ✅ Step Done: Switch to GUIDED\n",
      "Vehicle 4: ✅ Action Done: ⚙️ MODE: GUIDED\n",
      "Vehicle 4: ▶️ Action Started: 🔐 ARM\n",
      "Vehicle 4: ▶️ Step Started: arm\n",
      "Vehicle 3: ✅ Step Done: arm\n",
      "Vehicle 3: ✅ Action Done: 🔐 ARM\n",
      "Vehicle 3: ▶️ Action Started: 🛫 TAKEOFF\n",
      "Vehicle 3: ▶️ Step Started: takeoff\n",
      "Vehicle 4: ✅ Step Done: arm\n",
      "Vehicle 4: ✅ Action Done: 🔐 ARM\n",
      "Vehicle 1: ✅ Step Done: Check system\n",
      "Vehicle 4: ▶️ Action Started: 🛫 TAKEOFF\n",
      "Vehicle 4: ▶️ Step Started: takeoff\n",
      "Vehicle 1: ✅ Action Done: 🔧 PREARM\n",
      "Vehicle 1: ▶️ Action Started: ⚙️ MODE: GUIDED\n",
      "Vehicle 1: ▶️ Step Started: Switch to GUIDED\n",
      "Vehicle 2: ✅ Step Done: Check system\n",
      "Vehicle 1: ✅ Step Done: Switch to GUIDED\n",
      "Vehicle 2: ✅ Action Done: 🔧 PREARM\n",
      "Vehicle 1: ✅ Action Done: ⚙️ MODE: GUIDED\n",
      "Vehicle 2: ▶️ Action Started: ⚙️ MODE: GUIDED\n",
      "Vehicle 2: ▶️ Step Started: Switch to GUIDED\n",
      "Vehicle 1: ▶️ Action Started: 🔐 ARM\n",
      "Vehicle 1: ▶️ Step Started: arm\n",
      "Vehicle 2: ✅ Step Done: Switch to GUIDED\n",
      "Vehicle 2: ✅ Action Done: ⚙️ MODE: GUIDED\n",
      "Vehicle 2: ▶️ Action Started: 🔐 ARM\n",
      "Vehicle 2: ▶️ Step Started: arm\n",
      "Vehicle 1: ✅ Step Done: arm\n",
      "Vehicle 1: ✅ Action Done: 🔐 ARM\n",
      "Vehicle 2: ✅ Step Done: arm\n",
      "Vehicle 2: ✅ Action Done: 🔐 ARM\n",
      "Vehicle 1: ▶️ Action Started: 🛫 TAKEOFF\n",
      "Vehicle 1: ▶️ Step Started: takeoff\n",
      "Vehicle 2: ▶️ Action Started: 🛫 TAKEOFF\n",
      "Vehicle 2: ▶️ Step Started: takeoff\n",
      "Vehicle 4: ✅ Step Done: takeoff\n",
      "Vehicle 3: ✅ Step Done: takeoff\n",
      "Vehicle 4: ✅ Action Done: 🛫 TAKEOFF\n",
      "Vehicle 3: ✅ Action Done: 🛫 TAKEOFF\n",
      "Vehicle 4: ▶️ Action Started: 🛩️ FLY\n",
      "Vehicle 4: ✅ Action Done: 🛩️ FLY\n",
      "Vehicle 3: ▶️ Action Started: 🛩️ FLY\n",
      "Vehicle 3: ✅ Action Done: 🛩️ FLY\n",
      "Vehicle 4: ✅ Plan Done: 📋 hover\n",
      "Vehicle 3: ✅ Plan Done: 📋 hover\n",
      "Vehicle 2: ✅ Step Done: takeoff\n",
      "Vehicle 2: ✅ Action Done: 🛫 TAKEOFF\n",
      "Vehicle 2: ▶️ Action Started: 🛩️ FLY\n",
      "Vehicle 2: ✅ Action Done: 🛩️ FLY\n",
      "Vehicle 2: ✅ Plan Done: 📋 hover\n"
     ]
    },
    {
     "ename": "KeyboardInterrupt",
     "evalue": "",
     "output_type": "error",
     "traceback": [
      "\u001b[0;31m---------------------------------------------------------------------------\u001b[0m",
      "\u001b[0;31mKeyboardInterrupt\u001b[0m                         Traceback (most recent call last)",
      "Cell \u001b[0;32mIn[6], line 8\u001b[0m\n\u001b[1;32m      6\u001b[0m             orac\u001b[38;5;241m.\u001b[39mremove(uav)\n\u001b[1;32m      7\u001b[0m         \u001b[38;5;28;01melse\u001b[39;00m:\n\u001b[0;32m----> 8\u001b[0m             \u001b[43muav\u001b[49m\u001b[38;5;241;43m.\u001b[39;49m\u001b[43mact\u001b[49m\u001b[43m(\u001b[49m\u001b[43m)\u001b[49m\n\u001b[1;32m      9\u001b[0m kill_processes()\n",
      "File \u001b[0;32m~/uav-cyber-sim/vehicle_logic.py:55\u001b[0m, in \u001b[0;36mVehicleLogic.act\u001b[0;34m(self)\u001b[0m\n\u001b[1;32m     53\u001b[0m \u001b[38;5;28;01mif\u001b[39;00m \u001b[38;5;28mself\u001b[39m\u001b[38;5;241m.\u001b[39mplan\u001b[38;5;241m.\u001b[39mmode \u001b[38;5;241m==\u001b[39m PlanMode\u001b[38;5;241m.\u001b[39mDYNAMIC \u001b[38;5;129;01mand\u001b[39;00m \u001b[38;5;28mself\u001b[39m\u001b[38;5;241m.\u001b[39mmode \u001b[38;5;241m!=\u001b[39m VehicleMode\u001b[38;5;241m.\u001b[39mAVOIDANCE:\n\u001b[1;32m     54\u001b[0m     \u001b[38;5;28mself\u001b[39m\u001b[38;5;241m.\u001b[39mcheck_dynamic_action()\n\u001b[0;32m---> 55\u001b[0m \u001b[38;5;28;43mself\u001b[39;49m\u001b[38;5;241;43m.\u001b[39;49m\u001b[43mplan\u001b[49m\u001b[38;5;241;43m.\u001b[39;49m\u001b[43mact\u001b[49m\u001b[43m(\u001b[49m\u001b[43m)\u001b[49m\n",
      "File \u001b[0;32m~/uav-cyber-sim/plan/core.py:219\u001b[0m, in \u001b[0;36mAction.act\u001b[0;34m(self)\u001b[0m\n\u001b[1;32m    215\u001b[0m             \u001b[38;5;28mprint\u001b[39m(\n\u001b[1;32m    216\u001b[0m                 \u001b[38;5;124mf\u001b[39m\u001b[38;5;124m\"\u001b[39m\u001b[38;5;124m⚠️ Vehicle \u001b[39m\u001b[38;5;132;01m{\u001b[39;00m\u001b[38;5;28mself\u001b[39m\u001b[38;5;241m.\u001b[39mconn\u001b[38;5;241m.\u001b[39mtarget_system\u001b[38;5;132;01m}\u001b[39;00m\u001b[38;5;124m: \u001b[39m\u001b[38;5;132;01m{\u001b[39;00mclass_name\u001b[38;5;132;01m}\u001b[39;00m\u001b[38;5;124m: \u001b[39m\u001b[38;5;132;01m{\u001b[39;00m\u001b[38;5;28mself\u001b[39m\u001b[38;5;241m.\u001b[39memoji\u001b[38;5;132;01m}\u001b[39;00m\u001b[38;5;124m \u001b[39m\u001b[38;5;132;01m{\u001b[39;00m\u001b[38;5;28mself\u001b[39m\u001b[38;5;241m.\u001b[39mname\u001b[38;5;132;01m}\u001b[39;00m\u001b[38;5;124m Already failed!. Cannot perform this again!\u001b[39m\u001b[38;5;124m\"\u001b[39m\n\u001b[1;32m    217\u001b[0m             )\n\u001b[1;32m    218\u001b[0m         \u001b[38;5;28;01melse\u001b[39;00m:\n\u001b[0;32m--> 219\u001b[0m             \u001b[43mstep\u001b[49m\u001b[38;5;241;43m.\u001b[39;49m\u001b[43mact\u001b[49m\u001b[43m(\u001b[49m\u001b[43m)\u001b[49m\n\u001b[1;32m    220\u001b[0m             \u001b[38;5;28mself\u001b[39m\u001b[38;5;241m.\u001b[39mupdate_pos(step)\n\u001b[1;32m    221\u001b[0m \u001b[38;5;28;01melif\u001b[39;00m \u001b[38;5;28mself\u001b[39m\u001b[38;5;241m.\u001b[39mstate \u001b[38;5;241m==\u001b[39m State\u001b[38;5;241m.\u001b[39mDONE:\n",
      "File \u001b[0;32m~/uav-cyber-sim/plan/core.py:219\u001b[0m, in \u001b[0;36mAction.act\u001b[0;34m(self)\u001b[0m\n\u001b[1;32m    215\u001b[0m             \u001b[38;5;28mprint\u001b[39m(\n\u001b[1;32m    216\u001b[0m                 \u001b[38;5;124mf\u001b[39m\u001b[38;5;124m\"\u001b[39m\u001b[38;5;124m⚠️ Vehicle \u001b[39m\u001b[38;5;132;01m{\u001b[39;00m\u001b[38;5;28mself\u001b[39m\u001b[38;5;241m.\u001b[39mconn\u001b[38;5;241m.\u001b[39mtarget_system\u001b[38;5;132;01m}\u001b[39;00m\u001b[38;5;124m: \u001b[39m\u001b[38;5;132;01m{\u001b[39;00mclass_name\u001b[38;5;132;01m}\u001b[39;00m\u001b[38;5;124m: \u001b[39m\u001b[38;5;132;01m{\u001b[39;00m\u001b[38;5;28mself\u001b[39m\u001b[38;5;241m.\u001b[39memoji\u001b[38;5;132;01m}\u001b[39;00m\u001b[38;5;124m \u001b[39m\u001b[38;5;132;01m{\u001b[39;00m\u001b[38;5;28mself\u001b[39m\u001b[38;5;241m.\u001b[39mname\u001b[38;5;132;01m}\u001b[39;00m\u001b[38;5;124m Already failed!. Cannot perform this again!\u001b[39m\u001b[38;5;124m\"\u001b[39m\n\u001b[1;32m    217\u001b[0m             )\n\u001b[1;32m    218\u001b[0m         \u001b[38;5;28;01melse\u001b[39;00m:\n\u001b[0;32m--> 219\u001b[0m             \u001b[43mstep\u001b[49m\u001b[38;5;241;43m.\u001b[39;49m\u001b[43mact\u001b[49m\u001b[43m(\u001b[49m\u001b[43m)\u001b[49m\n\u001b[1;32m    220\u001b[0m             \u001b[38;5;28mself\u001b[39m\u001b[38;5;241m.\u001b[39mupdate_pos(step)\n\u001b[1;32m    221\u001b[0m \u001b[38;5;28;01melif\u001b[39;00m \u001b[38;5;28mself\u001b[39m\u001b[38;5;241m.\u001b[39mstate \u001b[38;5;241m==\u001b[39m State\u001b[38;5;241m.\u001b[39mDONE:\n",
      "File \u001b[0;32m~/uav-cyber-sim/plan/core.py:145\u001b[0m, in \u001b[0;36mStep.act\u001b[0;34m(self)\u001b[0m\n\u001b[1;32m    143\u001b[0m     \u001b[38;5;28mself\u001b[39m\u001b[38;5;241m.\u001b[39mexecute()\n\u001b[1;32m    144\u001b[0m \u001b[38;5;28;01melif\u001b[39;00m \u001b[38;5;28mself\u001b[39m\u001b[38;5;241m.\u001b[39mstate \u001b[38;5;241m==\u001b[39m State\u001b[38;5;241m.\u001b[39mIN_PROGRESS:\n\u001b[0;32m--> 145\u001b[0m     \u001b[38;5;28;43mself\u001b[39;49m\u001b[38;5;241;43m.\u001b[39;49m\u001b[43mcheck\u001b[49m\u001b[43m(\u001b[49m\u001b[43m)\u001b[49m\n\u001b[1;32m    146\u001b[0m \u001b[38;5;28;01melif\u001b[39;00m \u001b[38;5;28mself\u001b[39m\u001b[38;5;241m.\u001b[39mstate \u001b[38;5;241m==\u001b[39m State\u001b[38;5;241m.\u001b[39mDONE:\n\u001b[1;32m    147\u001b[0m     \u001b[38;5;28mprint\u001b[39m(\u001b[38;5;124m\"\u001b[39m\u001b[38;5;124m⚠️ Already done!. Cannot perform this step again!\u001b[39m\u001b[38;5;124m\"\u001b[39m)\n",
      "File \u001b[0;32m~/uav-cyber-sim/plan/core.py:131\u001b[0m, in \u001b[0;36mStep.check\u001b[0;34m(self)\u001b[0m\n\u001b[1;32m    116\u001b[0m class_name \u001b[38;5;241m=\u001b[39m \u001b[38;5;28mself\u001b[39m\u001b[38;5;241m.\u001b[39m\u001b[38;5;18m__class__\u001b[39m\u001b[38;5;241m.\u001b[39m\u001b[38;5;18m__name__\u001b[39m\n\u001b[1;32m    117\u001b[0m \u001b[38;5;66;03m# try:\u001b[39;00m\n\u001b[1;32m    118\u001b[0m \u001b[38;5;66;03m#     answer, curr_pos = self.check_fn(self.conn)\u001b[39;00m\n\u001b[1;32m    119\u001b[0m \u001b[38;5;66;03m#     if curr_pos is not None:\u001b[39;00m\n\u001b[0;32m   (...)\u001b[0m\n\u001b[1;32m    129\u001b[0m \u001b[38;5;66;03m#     )\u001b[39;00m\n\u001b[1;32m    130\u001b[0m \u001b[38;5;66;03m#     self.state = State.FAILED\u001b[39;00m\n\u001b[0;32m--> 131\u001b[0m answer, curr_pos \u001b[38;5;241m=\u001b[39m \u001b[38;5;28;43mself\u001b[39;49m\u001b[38;5;241;43m.\u001b[39;49m\u001b[43mcheck_fn\u001b[49m\u001b[43m(\u001b[49m\u001b[38;5;28;43mself\u001b[39;49m\u001b[38;5;241;43m.\u001b[39;49m\u001b[43mconn\u001b[49m\u001b[43m,\u001b[49m\u001b[43m \u001b[49m\u001b[38;5;28;43mself\u001b[39;49m\u001b[38;5;241;43m.\u001b[39;49m\u001b[43mverbose\u001b[49m\u001b[43m)\u001b[49m\n\u001b[1;32m    132\u001b[0m \u001b[38;5;28;01mif\u001b[39;00m curr_pos \u001b[38;5;129;01mis\u001b[39;00m \u001b[38;5;129;01mnot\u001b[39;00m \u001b[38;5;28;01mNone\u001b[39;00m:\n\u001b[1;32m    133\u001b[0m     \u001b[38;5;28mself\u001b[39m\u001b[38;5;241m.\u001b[39mcurr_pos \u001b[38;5;241m=\u001b[39m curr_pos\n",
      "File \u001b[0;32m~/uav-cyber-sim/plan/actions/take_off.py:35\u001b[0m, in \u001b[0;36mcheck_takeoff\u001b[0;34m(conn, _verbose)\u001b[0m\n\u001b[1;32m     33\u001b[0m \u001b[38;5;28;01mdef\u001b[39;00m\u001b[38;5;250m \u001b[39m\u001b[38;5;21mcheck_takeoff\u001b[39m(conn: mavutil\u001b[38;5;241m.\u001b[39mmavlink_connection, _verbose: \u001b[38;5;28mint\u001b[39m):\n\u001b[1;32m     34\u001b[0m     \u001b[38;5;66;03m# Request EXTENDED_SYS_STATE message\u001b[39;00m\n\u001b[0;32m---> 35\u001b[0m     \u001b[43mconn\u001b[49m\u001b[38;5;241;43m.\u001b[39;49m\u001b[43mmav\u001b[49m\u001b[38;5;241;43m.\u001b[39;49m\u001b[43mcommand_long_send\u001b[49m\u001b[43m(\u001b[49m\n\u001b[1;32m     36\u001b[0m \u001b[43m        \u001b[49m\u001b[43mconn\u001b[49m\u001b[38;5;241;43m.\u001b[39;49m\u001b[43mtarget_system\u001b[49m\u001b[43m,\u001b[49m\n\u001b[1;32m     37\u001b[0m \u001b[43m        \u001b[49m\u001b[43mconn\u001b[49m\u001b[38;5;241;43m.\u001b[39;49m\u001b[43mtarget_component\u001b[49m\u001b[43m,\u001b[49m\n\u001b[1;32m     38\u001b[0m \u001b[43m        \u001b[49m\u001b[43mREQ_MSG\u001b[49m\u001b[43m,\u001b[49m\n\u001b[1;32m     39\u001b[0m \u001b[43m        \u001b[49m\u001b[38;5;241;43m0\u001b[39;49m\u001b[43m,\u001b[49m\n\u001b[1;32m     40\u001b[0m \u001b[43m        \u001b[49m\u001b[43mEXT_STATE\u001b[49m\u001b[43m,\u001b[49m\n\u001b[1;32m     41\u001b[0m \u001b[43m        \u001b[49m\u001b[38;5;241;43m0\u001b[39;49m\u001b[43m,\u001b[49m\n\u001b[1;32m     42\u001b[0m \u001b[43m        \u001b[49m\u001b[38;5;241;43m0\u001b[39;49m\u001b[43m,\u001b[49m\n\u001b[1;32m     43\u001b[0m \u001b[43m        \u001b[49m\u001b[38;5;241;43m0\u001b[39;49m\u001b[43m,\u001b[49m\n\u001b[1;32m     44\u001b[0m \u001b[43m        \u001b[49m\u001b[38;5;241;43m0\u001b[39;49m\u001b[43m,\u001b[49m\n\u001b[1;32m     45\u001b[0m \u001b[43m        \u001b[49m\u001b[38;5;241;43m0\u001b[39;49m\u001b[43m,\u001b[49m\n\u001b[1;32m     46\u001b[0m \u001b[43m        \u001b[49m\u001b[38;5;241;43m0\u001b[39;49m\u001b[43m,\u001b[49m\n\u001b[1;32m     47\u001b[0m \u001b[43m        \u001b[49m\u001b[38;5;241;43m0\u001b[39;49m\u001b[43m,\u001b[49m\n\u001b[1;32m     48\u001b[0m \u001b[43m    \u001b[49m\u001b[43m)\u001b[49m\n\u001b[1;32m     49\u001b[0m     msg \u001b[38;5;241m=\u001b[39m conn\u001b[38;5;241m.\u001b[39mrecv_match(\u001b[38;5;28mtype\u001b[39m\u001b[38;5;241m=\u001b[39m\u001b[38;5;124m\"\u001b[39m\u001b[38;5;124mEXTENDED_SYS_STATE\u001b[39m\u001b[38;5;124m\"\u001b[39m, blocking\u001b[38;5;241m=\u001b[39m\u001b[38;5;28;01mTrue\u001b[39;00m, timeout\u001b[38;5;241m=\u001b[39m\u001b[38;5;241m0.01\u001b[39m)\n\u001b[1;32m     50\u001b[0m     \u001b[38;5;28;01mreturn\u001b[39;00m (msg \u001b[38;5;129;01mand\u001b[39;00m msg\u001b[38;5;241m.\u001b[39mlanded_state \u001b[38;5;241m==\u001b[39m TAKEOFF), \u001b[38;5;28;01mNone\u001b[39;00m\n",
      "File \u001b[0;32m~/.local/lib/python3.9/site-packages/pymavlink/dialects/v20/ardupilotmega.py:24959\u001b[0m, in \u001b[0;36mMAVLink.command_long_send\u001b[0;34m(self, target_system, target_component, command, confirmation, param1, param2, param3, param4, param5, param6, param7, force_mavlink1)\u001b[0m\n\u001b[1;32m  24940\u001b[0m \u001b[38;5;28;01mdef\u001b[39;00m\u001b[38;5;250m \u001b[39m\u001b[38;5;21mcommand_long_send\u001b[39m(\u001b[38;5;28mself\u001b[39m, target_system: \u001b[38;5;28mint\u001b[39m, target_component: \u001b[38;5;28mint\u001b[39m, command: \u001b[38;5;28mint\u001b[39m, confirmation: \u001b[38;5;28mint\u001b[39m, param1: \u001b[38;5;28mfloat\u001b[39m, param2: \u001b[38;5;28mfloat\u001b[39m, param3: \u001b[38;5;28mfloat\u001b[39m, param4: \u001b[38;5;28mfloat\u001b[39m, param5: \u001b[38;5;28mfloat\u001b[39m, param6: \u001b[38;5;28mfloat\u001b[39m, param7: \u001b[38;5;28mfloat\u001b[39m, force_mavlink1: \u001b[38;5;28mbool\u001b[39m \u001b[38;5;241m=\u001b[39m \u001b[38;5;28;01mFalse\u001b[39;00m) \u001b[38;5;241m-\u001b[39m\u001b[38;5;241m>\u001b[39m \u001b[38;5;28;01mNone\u001b[39;00m:\n\u001b[1;32m  24941\u001b[0m \u001b[38;5;250m    \u001b[39m\u001b[38;5;124;03m\"\"\"\u001b[39;00m\n\u001b[1;32m  24942\u001b[0m \u001b[38;5;124;03m    Send a command with up to seven parameters to the MAV. The command\u001b[39;00m\n\u001b[1;32m  24943\u001b[0m \u001b[38;5;124;03m    microservice is documented at\u001b[39;00m\n\u001b[0;32m   (...)\u001b[0m\n\u001b[1;32m  24957\u001b[0m \n\u001b[1;32m  24958\u001b[0m \u001b[38;5;124;03m    \"\"\"\u001b[39;00m\n\u001b[0;32m> 24959\u001b[0m     \u001b[38;5;28;43mself\u001b[39;49m\u001b[38;5;241;43m.\u001b[39;49m\u001b[43msend\u001b[49m\u001b[43m(\u001b[49m\u001b[38;5;28;43mself\u001b[39;49m\u001b[38;5;241;43m.\u001b[39;49m\u001b[43mcommand_long_encode\u001b[49m\u001b[43m(\u001b[49m\u001b[43mtarget_system\u001b[49m\u001b[43m,\u001b[49m\u001b[43m \u001b[49m\u001b[43mtarget_component\u001b[49m\u001b[43m,\u001b[49m\u001b[43m \u001b[49m\u001b[43mcommand\u001b[49m\u001b[43m,\u001b[49m\u001b[43m \u001b[49m\u001b[43mconfirmation\u001b[49m\u001b[43m,\u001b[49m\u001b[43m \u001b[49m\u001b[43mparam1\u001b[49m\u001b[43m,\u001b[49m\u001b[43m \u001b[49m\u001b[43mparam2\u001b[49m\u001b[43m,\u001b[49m\u001b[43m \u001b[49m\u001b[43mparam3\u001b[49m\u001b[43m,\u001b[49m\u001b[43m \u001b[49m\u001b[43mparam4\u001b[49m\u001b[43m,\u001b[49m\u001b[43m \u001b[49m\u001b[43mparam5\u001b[49m\u001b[43m,\u001b[49m\u001b[43m \u001b[49m\u001b[43mparam6\u001b[49m\u001b[43m,\u001b[49m\u001b[43m \u001b[49m\u001b[43mparam7\u001b[49m\u001b[43m)\u001b[49m\u001b[43m,\u001b[49m\u001b[43m \u001b[49m\u001b[43mforce_mavlink1\u001b[49m\u001b[38;5;241;43m=\u001b[39;49m\u001b[43mforce_mavlink1\u001b[49m\u001b[43m)\u001b[49m\n",
      "File \u001b[0;32m~/.local/lib/python3.9/site-packages/pymavlink/dialects/v20/ardupilotmega.py:20585\u001b[0m, in \u001b[0;36mMAVLink.send\u001b[0;34m(self, mavmsg, force_mavlink1)\u001b[0m\n\u001b[1;32m  20583\u001b[0m \u001b[38;5;28;01mdef\u001b[39;00m\u001b[38;5;250m \u001b[39m\u001b[38;5;21msend\u001b[39m(\u001b[38;5;28mself\u001b[39m, mavmsg: MAVLink_message, force_mavlink1: \u001b[38;5;28mbool\u001b[39m \u001b[38;5;241m=\u001b[39m \u001b[38;5;28;01mFalse\u001b[39;00m) \u001b[38;5;241m-\u001b[39m\u001b[38;5;241m>\u001b[39m \u001b[38;5;28;01mNone\u001b[39;00m:\n\u001b[1;32m  20584\u001b[0m \u001b[38;5;250m    \u001b[39m\u001b[38;5;124;03m\"\"\"send a MAVLink message\"\"\"\u001b[39;00m\n\u001b[0;32m> 20585\u001b[0m     buf \u001b[38;5;241m=\u001b[39m \u001b[43mmavmsg\u001b[49m\u001b[38;5;241;43m.\u001b[39;49m\u001b[43mpack\u001b[49m\u001b[43m(\u001b[49m\u001b[38;5;28;43mself\u001b[39;49m\u001b[43m,\u001b[49m\u001b[43m \u001b[49m\u001b[43mforce_mavlink1\u001b[49m\u001b[38;5;241;43m=\u001b[39;49m\u001b[43mforce_mavlink1\u001b[49m\u001b[43m)\u001b[49m\n\u001b[1;32m  20586\u001b[0m     \u001b[38;5;28mself\u001b[39m\u001b[38;5;241m.\u001b[39mfile\u001b[38;5;241m.\u001b[39mwrite(buf)\n\u001b[1;32m  20587\u001b[0m     \u001b[38;5;28mself\u001b[39m\u001b[38;5;241m.\u001b[39mseq \u001b[38;5;241m=\u001b[39m (\u001b[38;5;28mself\u001b[39m\u001b[38;5;241m.\u001b[39mseq \u001b[38;5;241m+\u001b[39m \u001b[38;5;241m1\u001b[39m) \u001b[38;5;241m%\u001b[39m \u001b[38;5;241m256\u001b[39m\n",
      "File \u001b[0;32m~/.local/lib/python3.9/site-packages/pymavlink/dialects/v20/ardupilotmega.py:12181\u001b[0m, in \u001b[0;36mMAVLink_command_long_message.pack\u001b[0;34m(self, mav, force_mavlink1)\u001b[0m\n\u001b[1;32m  12180\u001b[0m \u001b[38;5;28;01mdef\u001b[39;00m\u001b[38;5;250m \u001b[39m\u001b[38;5;21mpack\u001b[39m(\u001b[38;5;28mself\u001b[39m, mav: \u001b[38;5;124m\"\u001b[39m\u001b[38;5;124mMAVLink\u001b[39m\u001b[38;5;124m\"\u001b[39m, force_mavlink1: \u001b[38;5;28mbool\u001b[39m \u001b[38;5;241m=\u001b[39m \u001b[38;5;28;01mFalse\u001b[39;00m) \u001b[38;5;241m-\u001b[39m\u001b[38;5;241m>\u001b[39m \u001b[38;5;28mbytes\u001b[39m:\n\u001b[0;32m> 12181\u001b[0m     \u001b[38;5;28;01mreturn\u001b[39;00m \u001b[38;5;28;43mself\u001b[39;49m\u001b[38;5;241;43m.\u001b[39;49m\u001b[43m_pack\u001b[49m\u001b[43m(\u001b[49m\u001b[43mmav\u001b[49m\u001b[43m,\u001b[49m\u001b[43m \u001b[49m\u001b[38;5;28;43mself\u001b[39;49m\u001b[38;5;241;43m.\u001b[39;49m\u001b[43mcrc_extra\u001b[49m\u001b[43m,\u001b[49m\u001b[43m \u001b[49m\u001b[38;5;28;43mself\u001b[39;49m\u001b[38;5;241;43m.\u001b[39;49m\u001b[43munpacker\u001b[49m\u001b[38;5;241;43m.\u001b[39;49m\u001b[43mpack\u001b[49m\u001b[43m(\u001b[49m\u001b[38;5;28;43mself\u001b[39;49m\u001b[38;5;241;43m.\u001b[39;49m\u001b[43mparam1\u001b[49m\u001b[43m,\u001b[49m\u001b[43m \u001b[49m\u001b[38;5;28;43mself\u001b[39;49m\u001b[38;5;241;43m.\u001b[39;49m\u001b[43mparam2\u001b[49m\u001b[43m,\u001b[49m\u001b[43m \u001b[49m\u001b[38;5;28;43mself\u001b[39;49m\u001b[38;5;241;43m.\u001b[39;49m\u001b[43mparam3\u001b[49m\u001b[43m,\u001b[49m\u001b[43m \u001b[49m\u001b[38;5;28;43mself\u001b[39;49m\u001b[38;5;241;43m.\u001b[39;49m\u001b[43mparam4\u001b[49m\u001b[43m,\u001b[49m\u001b[43m \u001b[49m\u001b[38;5;28;43mself\u001b[39;49m\u001b[38;5;241;43m.\u001b[39;49m\u001b[43mparam5\u001b[49m\u001b[43m,\u001b[49m\u001b[43m \u001b[49m\u001b[38;5;28;43mself\u001b[39;49m\u001b[38;5;241;43m.\u001b[39;49m\u001b[43mparam6\u001b[49m\u001b[43m,\u001b[49m\u001b[43m \u001b[49m\u001b[38;5;28;43mself\u001b[39;49m\u001b[38;5;241;43m.\u001b[39;49m\u001b[43mparam7\u001b[49m\u001b[43m,\u001b[49m\u001b[43m \u001b[49m\u001b[38;5;28;43mself\u001b[39;49m\u001b[38;5;241;43m.\u001b[39;49m\u001b[43mcommand\u001b[49m\u001b[43m,\u001b[49m\u001b[43m \u001b[49m\u001b[38;5;28;43mself\u001b[39;49m\u001b[38;5;241;43m.\u001b[39;49m\u001b[43mtarget_system\u001b[49m\u001b[43m,\u001b[49m\u001b[43m \u001b[49m\u001b[38;5;28;43mself\u001b[39;49m\u001b[38;5;241;43m.\u001b[39;49m\u001b[43mtarget_component\u001b[49m\u001b[43m,\u001b[49m\u001b[43m \u001b[49m\u001b[38;5;28;43mself\u001b[39;49m\u001b[38;5;241;43m.\u001b[39;49m\u001b[43mconfirmation\u001b[49m\u001b[43m)\u001b[49m\u001b[43m,\u001b[49m\u001b[43m \u001b[49m\u001b[43mforce_mavlink1\u001b[49m\u001b[38;5;241;43m=\u001b[39;49m\u001b[43mforce_mavlink1\u001b[49m\u001b[43m)\u001b[49m\n",
      "File \u001b[0;32m~/.local/lib/python3.9/site-packages/pymavlink/dialects/v20/ardupilotmega.py:274\u001b[0m, in \u001b[0;36mMAVLink_message._pack\u001b[0;34m(self, mav, crc_extra, payload, force_mavlink1)\u001b[0m\n\u001b[1;32m    272\u001b[0m \u001b[38;5;28mself\u001b[39m\u001b[38;5;241m.\u001b[39m_msgbuf \u001b[38;5;241m=\u001b[39m \u001b[38;5;28mbytearray\u001b[39m(\u001b[38;5;28mself\u001b[39m\u001b[38;5;241m.\u001b[39m_header\u001b[38;5;241m.\u001b[39mpack(force_mavlink1\u001b[38;5;241m=\u001b[39mforce_mavlink1))\n\u001b[1;32m    273\u001b[0m \u001b[38;5;28mself\u001b[39m\u001b[38;5;241m.\u001b[39m_msgbuf \u001b[38;5;241m+\u001b[39m\u001b[38;5;241m=\u001b[39m \u001b[38;5;28mself\u001b[39m\u001b[38;5;241m.\u001b[39m_payload\n\u001b[0;32m--> 274\u001b[0m crc \u001b[38;5;241m=\u001b[39m \u001b[43mx25crc\u001b[49m\u001b[43m(\u001b[49m\u001b[38;5;28;43mself\u001b[39;49m\u001b[38;5;241;43m.\u001b[39;49m\u001b[43m_msgbuf\u001b[49m\u001b[43m[\u001b[49m\u001b[38;5;241;43m1\u001b[39;49m\u001b[43m:\u001b[49m\u001b[43m]\u001b[49m\u001b[43m)\u001b[49m\n\u001b[1;32m    275\u001b[0m \u001b[38;5;28;01mif\u001b[39;00m \u001b[38;5;28;01mTrue\u001b[39;00m:\n\u001b[1;32m    276\u001b[0m     \u001b[38;5;66;03m# we are using CRC extra\u001b[39;00m\n\u001b[1;32m    277\u001b[0m     crc\u001b[38;5;241m.\u001b[39maccumulate(struct\u001b[38;5;241m.\u001b[39mpack(\u001b[38;5;124m\"\u001b[39m\u001b[38;5;124mB\u001b[39m\u001b[38;5;124m\"\u001b[39m, crc_extra))\n",
      "File \u001b[0;32m~/.local/lib/python3.9/site-packages/pymavlink/dialects/v20/ardupilotmega.py:59\u001b[0m, in \u001b[0;36mx25crc.__init__\u001b[0;34m(self, buf)\u001b[0m\n\u001b[1;32m     57\u001b[0m \u001b[38;5;28mself\u001b[39m\u001b[38;5;241m.\u001b[39mcrc \u001b[38;5;241m=\u001b[39m \u001b[38;5;241m0xFFFF\u001b[39m\n\u001b[1;32m     58\u001b[0m \u001b[38;5;28;01mif\u001b[39;00m buf \u001b[38;5;129;01mis\u001b[39;00m \u001b[38;5;129;01mnot\u001b[39;00m \u001b[38;5;28;01mNone\u001b[39;00m:\n\u001b[0;32m---> 59\u001b[0m     \u001b[38;5;28;43mself\u001b[39;49m\u001b[38;5;241;43m.\u001b[39;49m\u001b[43maccumulate\u001b[49m\u001b[43m(\u001b[49m\u001b[43mbuf\u001b[49m\u001b[43m)\u001b[49m\n",
      "File \u001b[0;32m~/.local/lib/python3.9/site-packages/pymavlink/dialects/v20/ardupilotmega.py:70\u001b[0m, in \u001b[0;36mx25crc.accumulate\u001b[0;34m(self, buf)\u001b[0m\n\u001b[1;32m     68\u001b[0m     tmp \u001b[38;5;241m=\u001b[39m b \u001b[38;5;241m^\u001b[39m (accum \u001b[38;5;241m&\u001b[39m \u001b[38;5;241m0xFF\u001b[39m)\n\u001b[1;32m     69\u001b[0m     tmp \u001b[38;5;241m=\u001b[39m (tmp \u001b[38;5;241m^\u001b[39m (tmp \u001b[38;5;241m<<\u001b[39m \u001b[38;5;241m4\u001b[39m)) \u001b[38;5;241m&\u001b[39m \u001b[38;5;241m0xFF\u001b[39m\n\u001b[0;32m---> 70\u001b[0m     accum \u001b[38;5;241m=\u001b[39m \u001b[43m(\u001b[49m\u001b[43maccum\u001b[49m\u001b[43m \u001b[49m\u001b[38;5;241;43m>>\u001b[39;49m\u001b[43m \u001b[49m\u001b[38;5;241;43m8\u001b[39;49m\u001b[43m)\u001b[49m\u001b[43m \u001b[49m\u001b[38;5;241;43m^\u001b[39;49m\u001b[43m \u001b[49m\u001b[43m(\u001b[49m\u001b[43mtmp\u001b[49m\u001b[43m \u001b[49m\u001b[38;5;241;43m<<\u001b[39;49m\u001b[43m \u001b[49m\u001b[38;5;241;43m8\u001b[39;49m\u001b[43m)\u001b[49m\u001b[43m \u001b[49m\u001b[38;5;241;43m^\u001b[39;49m\u001b[43m \u001b[49m\u001b[43m(\u001b[49m\u001b[43mtmp\u001b[49m\u001b[43m \u001b[49m\u001b[38;5;241;43m<<\u001b[39;49m\u001b[43m \u001b[49m\u001b[38;5;241;43m3\u001b[39;49m\u001b[43m)\u001b[49m\u001b[43m \u001b[49m\u001b[38;5;241;43m^\u001b[39;49m\u001b[43m \u001b[49m\u001b[43m(\u001b[49m\u001b[43mtmp\u001b[49m\u001b[43m \u001b[49m\u001b[38;5;241;43m>>\u001b[39;49m\u001b[43m \u001b[49m\u001b[38;5;241;43m4\u001b[39;49m\u001b[43m)\u001b[49m\n\u001b[1;32m     71\u001b[0m \u001b[38;5;28mself\u001b[39m\u001b[38;5;241m.\u001b[39mcrc \u001b[38;5;241m=\u001b[39m accum\n",
      "\u001b[0;31mKeyboardInterrupt\u001b[0m: "
     ]
    }
   ],
   "source": [
    "while orac.vehs:\n",
    "    orac.gather_broadcasts()\n",
    "    for uav in orac.vehs.copy():\n",
    "        orac.update_neighbors(uav)\n",
    "        if uav.plan.state == State.DONE:\n",
    "            orac.remove(uav)\n",
    "        else:\n",
    "            uav.act()\n",
    "kill_processes()"
   ]
  },
  {
   "cell_type": "code",
   "execution_count": null,
   "metadata": {},
   "outputs": [
    {
     "data": {
      "text/plain": [
       "🚀 <Plan 'hover'>\n",
       "  ✅ <Action 'Pre-Arm Check'>\n",
       "    ✅ <Step 'Check disarmed'>\n",
       "    ✅ <Step 'Check EKF'>\n",
       "    ✅ <Step 'Check GPS'>\n",
       "    ✅ <Step 'Check system'>\n",
       "  ✅ <Action 'Set Mode: GUIDED'>\n",
       "    ✅ <Step 'Switch to GUIDED'>\n",
       "  ✅ <Action 'Arm'>\n",
       "    ✅ <Step 'arm'>\n",
       "  🚀 <Action 'takeoff'>\n",
       "    🚀 <Step 'takeoff'>\n",
       "  🕓 <Action 'fly'>"
      ]
     },
     "execution_count": 13,
     "metadata": {},
     "output_type": "execute_result"
    }
   ],
   "source": [
    "uavs[0].plan"
   ]
  },
  {
   "cell_type": "code",
   "execution_count": null,
   "metadata": {},
   "outputs": [],
   "source": []
  }
 ],
 "metadata": {
  "kernelspec": {
   "display_name": "pymavlink",
   "language": "python",
   "name": "python3"
  },
  "language_info": {
   "codemirror_mode": {
    "name": "ipython",
    "version": 3
   },
   "file_extension": ".py",
   "mimetype": "text/x-python",
   "name": "python",
   "nbconvert_exporter": "python",
   "pygments_lexer": "ipython3",
   "version": "3.9.21"
  }
 },
 "nbformat": 4,
 "nbformat_minor": 2
}
