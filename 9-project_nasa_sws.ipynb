{
 "cells": [
  {
   "cell_type": "markdown",
   "metadata": {},
   "source": [
    "## Dynamic Plans\n",
    "\n",
    "This notebook implements a uav logic instead of a plan and decisions are done online following that logic"
   ]
  },
  {
   "cell_type": "code",
   "execution_count": 1,
   "metadata": {},
   "outputs": [],
   "source": [
    "import numpy as np\n",
    "\n",
    "# Custom modules\n",
    "from helpers import global2local,local2global, plot_3d_interactive, kill_processes\n",
    "from simulators import Simulator, Gazebo, QGC,Color\n",
    "from plan import Plan, State\n",
    "from oracle import Oracle\n",
    "\n",
    "kill_processes()"
   ]
  },
  {
   "cell_type": "markdown",
   "metadata": {},
   "source": [
    "## Create Plans"
   ]
  },
  {
   "cell_type": "code",
   "execution_count": 2,
   "metadata": {},
   "outputs": [],
   "source": [
    "gazebo_word_path = \"simulators/gazebo/worlds/medical_delivery_video.world\"  ##\n",
    "# target_box_center = (-85.263400, 56.518300, 0.593695, 0)\n",
    "salon_pos=(5.664530, 13.713500, 12, 0)\n",
    "# burger_pos=(54.816000, 5.409120, 0, 0)\n",
    "univ_pos=(24.476360, -25.651995, 0, 0)\n",
    "# house_pos=(0,4.000000,0,0)\n",
    "# building_pos = (37.711900,-4.700690,0,0)\n",
    "# origin = (0, 0, 0)\n",
    "\n",
    "#uav1\n",
    "uav1_offset = (14.816900,19.156799,0,0)\n",
    "uav1_1 = (14.816900,19.156799,10)\n",
    "uav1_2 = (14.816900,-22.570171,10)\n",
    "\n",
    "#uav2\n",
    "uav2_offset = (14.816900,-7.962251,0,0)\n",
    "uav2_1 = (14.816900,-7.962251,12)\n",
    "uav2_2 = (48.741478,-7.962251,12)\n",
    "\n",
    "#uav3\n",
    "uav3_offset = univ_pos\n",
    "uav3_1 = (24.476360, -25.651995, 9)\n",
    "uav3_2 = (0,4.000000,9)\n",
    "\n",
    "#uav4\n",
    "uav4_offset = (-7.633500, -22.570171, 0, 0)\n",
    "uav4_1 = (-7.633500, -22.570171, 9)\n",
    "uav4_2 = (43.856503,-22.570171,9)\n",
    "\n",
    "#uav5\n",
    "uav5_offset = salon_pos\n",
    "uav5_1 = (5.664530, 13.713500, 13)\n",
    "uav5_2 = (24.476360, -25.651995, 13)\n",
    "\n",
    "\n",
    "offsets = [  # east, north, up, heading\n",
    "    uav1_offset,\n",
    "    uav2_offset ,\n",
    "    uav3_offset ,\n",
    "    uav4_offset ,\n",
    "    uav5_offset ,\n",
    "]\n",
    "homes = np.array([offset[:3] for offset in offsets])\n",
    "n_vehicles = len(offsets)\n"
   ]
  },
  {
   "cell_type": "code",
   "execution_count": 3,
   "metadata": {},
   "outputs": [],
   "source": [
    "global_paths=[\n",
    "    np.array([uav1_1,uav1_2]),\n",
    "    np.array([uav2_1,uav2_2]),\n",
    "    np.array([uav3_1,uav3_2]),\n",
    "    np.array([uav4_1,uav4_2]),\n",
    "    np.array([uav5_1,uav5_2]),\n",
    "    ]\n",
    "local_paths=[global2local(path, home) for path,home in zip(global_paths,homes)]\n",
    "plans=[Plan.basic(wps=path,wp_margin=0.5,navegation_speed=6,takeoof_alt=30) for path in local_paths]\n"
   ]
  },
  {
   "cell_type": "markdown",
   "metadata": {},
   "source": [
    "## Visualization Parameters"
   ]
  },
  {
   "cell_type": "code",
   "execution_count": 4,
   "metadata": {},
   "outputs": [
    {
     "data": {
      "application/vnd.plotly.v1+json": {
       "config": {
        "plotlyServerURL": "https://plot.ly"
       },
       "data": [
        {
         "marker": {
          "color": "orange",
          "size": 6
         },
         "mode": "markers",
         "name": "waypoint_1",
         "type": "scatter3d",
         "x": [
          14.8169,
          14.8169
         ],
         "y": [
          19.156799,
          -22.570171
         ],
         "z": [
          10,
          10
         ]
        },
        {
         "marker": {
          "color": "orange",
          "size": 6
         },
         "mode": "markers",
         "name": "waypoint_2",
         "type": "scatter3d",
         "x": [
          14.8169,
          48.741478
         ],
         "y": [
          -7.962251,
          -7.962251
         ],
         "z": [
          12,
          12
         ]
        },
        {
         "marker": {
          "color": "green",
          "size": 6
         },
         "mode": "markers",
         "name": "waypoint_3",
         "type": "scatter3d",
         "x": [
          24.47636,
          0
         ],
         "y": [
          -25.651995,
          4
         ],
         "z": [
          9,
          9
         ]
        },
        {
         "marker": {
          "color": "green",
          "size": 6
         },
         "mode": "markers",
         "name": "waypoint_4",
         "type": "scatter3d",
         "x": [
          -7.6335,
          43.856503
         ],
         "y": [
          -22.570171,
          -22.570171
         ],
         "z": [
          9,
          9
         ]
        },
        {
         "marker": {
          "color": "green",
          "size": 6
         },
         "mode": "markers",
         "name": "waypoint_5",
         "type": "scatter3d",
         "x": [
          5.66453,
          24.47636
         ],
         "y": [
          13.7135,
          -25.651995
         ],
         "z": [
          13,
          13
         ]
        }
       ],
       "layout": {
        "height": 600,
        "scene": {
         "xaxis": {
          "range": [
           -18.908495600000002,
           60.0164736
          ],
          "title": {
           "text": "x"
          }
         },
         "yaxis": {
          "range": [
           -34.6137538,
           28.118557799999998
          ],
          "title": {
           "text": "y"
          }
         },
         "zaxis": {
          "range": [
           -0.05,
           15.4
          ],
          "title": {
           "text": "z"
          }
         }
        },
        "showlegend": true,
        "template": {
         "data": {
          "bar": [
           {
            "error_x": {
             "color": "#2a3f5f"
            },
            "error_y": {
             "color": "#2a3f5f"
            },
            "marker": {
             "line": {
              "color": "#E5ECF6",
              "width": 0.5
             },
             "pattern": {
              "fillmode": "overlay",
              "size": 10,
              "solidity": 0.2
             }
            },
            "type": "bar"
           }
          ],
          "barpolar": [
           {
            "marker": {
             "line": {
              "color": "#E5ECF6",
              "width": 0.5
             },
             "pattern": {
              "fillmode": "overlay",
              "size": 10,
              "solidity": 0.2
             }
            },
            "type": "barpolar"
           }
          ],
          "carpet": [
           {
            "aaxis": {
             "endlinecolor": "#2a3f5f",
             "gridcolor": "white",
             "linecolor": "white",
             "minorgridcolor": "white",
             "startlinecolor": "#2a3f5f"
            },
            "baxis": {
             "endlinecolor": "#2a3f5f",
             "gridcolor": "white",
             "linecolor": "white",
             "minorgridcolor": "white",
             "startlinecolor": "#2a3f5f"
            },
            "type": "carpet"
           }
          ],
          "choropleth": [
           {
            "colorbar": {
             "outlinewidth": 0,
             "ticks": ""
            },
            "type": "choropleth"
           }
          ],
          "contour": [
           {
            "colorbar": {
             "outlinewidth": 0,
             "ticks": ""
            },
            "colorscale": [
             [
              0,
              "#0d0887"
             ],
             [
              0.1111111111111111,
              "#46039f"
             ],
             [
              0.2222222222222222,
              "#7201a8"
             ],
             [
              0.3333333333333333,
              "#9c179e"
             ],
             [
              0.4444444444444444,
              "#bd3786"
             ],
             [
              0.5555555555555556,
              "#d8576b"
             ],
             [
              0.6666666666666666,
              "#ed7953"
             ],
             [
              0.7777777777777778,
              "#fb9f3a"
             ],
             [
              0.8888888888888888,
              "#fdca26"
             ],
             [
              1,
              "#f0f921"
             ]
            ],
            "type": "contour"
           }
          ],
          "contourcarpet": [
           {
            "colorbar": {
             "outlinewidth": 0,
             "ticks": ""
            },
            "type": "contourcarpet"
           }
          ],
          "heatmap": [
           {
            "colorbar": {
             "outlinewidth": 0,
             "ticks": ""
            },
            "colorscale": [
             [
              0,
              "#0d0887"
             ],
             [
              0.1111111111111111,
              "#46039f"
             ],
             [
              0.2222222222222222,
              "#7201a8"
             ],
             [
              0.3333333333333333,
              "#9c179e"
             ],
             [
              0.4444444444444444,
              "#bd3786"
             ],
             [
              0.5555555555555556,
              "#d8576b"
             ],
             [
              0.6666666666666666,
              "#ed7953"
             ],
             [
              0.7777777777777778,
              "#fb9f3a"
             ],
             [
              0.8888888888888888,
              "#fdca26"
             ],
             [
              1,
              "#f0f921"
             ]
            ],
            "type": "heatmap"
           }
          ],
          "histogram": [
           {
            "marker": {
             "pattern": {
              "fillmode": "overlay",
              "size": 10,
              "solidity": 0.2
             }
            },
            "type": "histogram"
           }
          ],
          "histogram2d": [
           {
            "colorbar": {
             "outlinewidth": 0,
             "ticks": ""
            },
            "colorscale": [
             [
              0,
              "#0d0887"
             ],
             [
              0.1111111111111111,
              "#46039f"
             ],
             [
              0.2222222222222222,
              "#7201a8"
             ],
             [
              0.3333333333333333,
              "#9c179e"
             ],
             [
              0.4444444444444444,
              "#bd3786"
             ],
             [
              0.5555555555555556,
              "#d8576b"
             ],
             [
              0.6666666666666666,
              "#ed7953"
             ],
             [
              0.7777777777777778,
              "#fb9f3a"
             ],
             [
              0.8888888888888888,
              "#fdca26"
             ],
             [
              1,
              "#f0f921"
             ]
            ],
            "type": "histogram2d"
           }
          ],
          "histogram2dcontour": [
           {
            "colorbar": {
             "outlinewidth": 0,
             "ticks": ""
            },
            "colorscale": [
             [
              0,
              "#0d0887"
             ],
             [
              0.1111111111111111,
              "#46039f"
             ],
             [
              0.2222222222222222,
              "#7201a8"
             ],
             [
              0.3333333333333333,
              "#9c179e"
             ],
             [
              0.4444444444444444,
              "#bd3786"
             ],
             [
              0.5555555555555556,
              "#d8576b"
             ],
             [
              0.6666666666666666,
              "#ed7953"
             ],
             [
              0.7777777777777778,
              "#fb9f3a"
             ],
             [
              0.8888888888888888,
              "#fdca26"
             ],
             [
              1,
              "#f0f921"
             ]
            ],
            "type": "histogram2dcontour"
           }
          ],
          "mesh3d": [
           {
            "colorbar": {
             "outlinewidth": 0,
             "ticks": ""
            },
            "type": "mesh3d"
           }
          ],
          "parcoords": [
           {
            "line": {
             "colorbar": {
              "outlinewidth": 0,
              "ticks": ""
             }
            },
            "type": "parcoords"
           }
          ],
          "pie": [
           {
            "automargin": true,
            "type": "pie"
           }
          ],
          "scatter": [
           {
            "fillpattern": {
             "fillmode": "overlay",
             "size": 10,
             "solidity": 0.2
            },
            "type": "scatter"
           }
          ],
          "scatter3d": [
           {
            "line": {
             "colorbar": {
              "outlinewidth": 0,
              "ticks": ""
             }
            },
            "marker": {
             "colorbar": {
              "outlinewidth": 0,
              "ticks": ""
             }
            },
            "type": "scatter3d"
           }
          ],
          "scattercarpet": [
           {
            "marker": {
             "colorbar": {
              "outlinewidth": 0,
              "ticks": ""
             }
            },
            "type": "scattercarpet"
           }
          ],
          "scattergeo": [
           {
            "marker": {
             "colorbar": {
              "outlinewidth": 0,
              "ticks": ""
             }
            },
            "type": "scattergeo"
           }
          ],
          "scattergl": [
           {
            "marker": {
             "colorbar": {
              "outlinewidth": 0,
              "ticks": ""
             }
            },
            "type": "scattergl"
           }
          ],
          "scattermap": [
           {
            "marker": {
             "colorbar": {
              "outlinewidth": 0,
              "ticks": ""
             }
            },
            "type": "scattermap"
           }
          ],
          "scattermapbox": [
           {
            "marker": {
             "colorbar": {
              "outlinewidth": 0,
              "ticks": ""
             }
            },
            "type": "scattermapbox"
           }
          ],
          "scatterpolar": [
           {
            "marker": {
             "colorbar": {
              "outlinewidth": 0,
              "ticks": ""
             }
            },
            "type": "scatterpolar"
           }
          ],
          "scatterpolargl": [
           {
            "marker": {
             "colorbar": {
              "outlinewidth": 0,
              "ticks": ""
             }
            },
            "type": "scatterpolargl"
           }
          ],
          "scatterternary": [
           {
            "marker": {
             "colorbar": {
              "outlinewidth": 0,
              "ticks": ""
             }
            },
            "type": "scatterternary"
           }
          ],
          "surface": [
           {
            "colorbar": {
             "outlinewidth": 0,
             "ticks": ""
            },
            "colorscale": [
             [
              0,
              "#0d0887"
             ],
             [
              0.1111111111111111,
              "#46039f"
             ],
             [
              0.2222222222222222,
              "#7201a8"
             ],
             [
              0.3333333333333333,
              "#9c179e"
             ],
             [
              0.4444444444444444,
              "#bd3786"
             ],
             [
              0.5555555555555556,
              "#d8576b"
             ],
             [
              0.6666666666666666,
              "#ed7953"
             ],
             [
              0.7777777777777778,
              "#fb9f3a"
             ],
             [
              0.8888888888888888,
              "#fdca26"
             ],
             [
              1,
              "#f0f921"
             ]
            ],
            "type": "surface"
           }
          ],
          "table": [
           {
            "cells": {
             "fill": {
              "color": "#EBF0F8"
             },
             "line": {
              "color": "white"
             }
            },
            "header": {
             "fill": {
              "color": "#C8D4E3"
             },
             "line": {
              "color": "white"
             }
            },
            "type": "table"
           }
          ]
         },
         "layout": {
          "annotationdefaults": {
           "arrowcolor": "#2a3f5f",
           "arrowhead": 0,
           "arrowwidth": 1
          },
          "autotypenumbers": "strict",
          "coloraxis": {
           "colorbar": {
            "outlinewidth": 0,
            "ticks": ""
           }
          },
          "colorscale": {
           "diverging": [
            [
             0,
             "#8e0152"
            ],
            [
             0.1,
             "#c51b7d"
            ],
            [
             0.2,
             "#de77ae"
            ],
            [
             0.3,
             "#f1b6da"
            ],
            [
             0.4,
             "#fde0ef"
            ],
            [
             0.5,
             "#f7f7f7"
            ],
            [
             0.6,
             "#e6f5d0"
            ],
            [
             0.7,
             "#b8e186"
            ],
            [
             0.8,
             "#7fbc41"
            ],
            [
             0.9,
             "#4d9221"
            ],
            [
             1,
             "#276419"
            ]
           ],
           "sequential": [
            [
             0,
             "#0d0887"
            ],
            [
             0.1111111111111111,
             "#46039f"
            ],
            [
             0.2222222222222222,
             "#7201a8"
            ],
            [
             0.3333333333333333,
             "#9c179e"
            ],
            [
             0.4444444444444444,
             "#bd3786"
            ],
            [
             0.5555555555555556,
             "#d8576b"
            ],
            [
             0.6666666666666666,
             "#ed7953"
            ],
            [
             0.7777777777777778,
             "#fb9f3a"
            ],
            [
             0.8888888888888888,
             "#fdca26"
            ],
            [
             1,
             "#f0f921"
            ]
           ],
           "sequentialminus": [
            [
             0,
             "#0d0887"
            ],
            [
             0.1111111111111111,
             "#46039f"
            ],
            [
             0.2222222222222222,
             "#7201a8"
            ],
            [
             0.3333333333333333,
             "#9c179e"
            ],
            [
             0.4444444444444444,
             "#bd3786"
            ],
            [
             0.5555555555555556,
             "#d8576b"
            ],
            [
             0.6666666666666666,
             "#ed7953"
            ],
            [
             0.7777777777777778,
             "#fb9f3a"
            ],
            [
             0.8888888888888888,
             "#fdca26"
            ],
            [
             1,
             "#f0f921"
            ]
           ]
          },
          "colorway": [
           "#636efa",
           "#EF553B",
           "#00cc96",
           "#ab63fa",
           "#FFA15A",
           "#19d3f3",
           "#FF6692",
           "#B6E880",
           "#FF97FF",
           "#FECB52"
          ],
          "font": {
           "color": "#2a3f5f"
          },
          "geo": {
           "bgcolor": "white",
           "lakecolor": "white",
           "landcolor": "#E5ECF6",
           "showlakes": true,
           "showland": true,
           "subunitcolor": "white"
          },
          "hoverlabel": {
           "align": "left"
          },
          "hovermode": "closest",
          "mapbox": {
           "style": "light"
          },
          "paper_bgcolor": "white",
          "plot_bgcolor": "#E5ECF6",
          "polar": {
           "angularaxis": {
            "gridcolor": "white",
            "linecolor": "white",
            "ticks": ""
           },
           "bgcolor": "#E5ECF6",
           "radialaxis": {
            "gridcolor": "white",
            "linecolor": "white",
            "ticks": ""
           }
          },
          "scene": {
           "xaxis": {
            "backgroundcolor": "#E5ECF6",
            "gridcolor": "white",
            "gridwidth": 2,
            "linecolor": "white",
            "showbackground": true,
            "ticks": "",
            "zerolinecolor": "white"
           },
           "yaxis": {
            "backgroundcolor": "#E5ECF6",
            "gridcolor": "white",
            "gridwidth": 2,
            "linecolor": "white",
            "showbackground": true,
            "ticks": "",
            "zerolinecolor": "white"
           },
           "zaxis": {
            "backgroundcolor": "#E5ECF6",
            "gridcolor": "white",
            "gridwidth": 2,
            "linecolor": "white",
            "showbackground": true,
            "ticks": "",
            "zerolinecolor": "white"
           }
          },
          "shapedefaults": {
           "line": {
            "color": "#2a3f5f"
           }
          },
          "ternary": {
           "aaxis": {
            "gridcolor": "white",
            "linecolor": "white",
            "ticks": ""
           },
           "baxis": {
            "gridcolor": "white",
            "linecolor": "white",
            "ticks": ""
           },
           "bgcolor": "#E5ECF6",
           "caxis": {
            "gridcolor": "white",
            "linecolor": "white",
            "ticks": ""
           }
          },
          "title": {
           "x": 0.05
          },
          "xaxis": {
           "automargin": true,
           "gridcolor": "white",
           "linecolor": "white",
           "ticks": "",
           "title": {
            "standoff": 15
           },
           "zerolinecolor": "white",
           "zerolinewidth": 2
          },
          "yaxis": {
           "automargin": true,
           "gridcolor": "white",
           "linecolor": "white",
           "ticks": "",
           "title": {
            "standoff": 15
           },
           "zerolinecolor": "white",
           "zerolinewidth": 2
          }
         }
        },
        "title": {
         "text": "Simulation Markers",
         "x": 0.5,
         "xanchor": "center"
        },
        "width": 800
       }
      }
     },
     "metadata": {},
     "output_type": "display_data"
    }
   ],
   "source": [
    "colors = 2*[Color.ORANGE] + 3*[Color.GREEN] \n",
    "\n",
    "waypoints = {\n",
    "    f\"city_homes\": {\"pos\": homes[2:], \"color\": Color.ORANGE},\n",
    "    f\"rural_home\": {\"pos\": homes[:2], \"color\": Color.GREEN}}\n",
    "\n",
    "markers = {\n",
    "    f\"waypoint_{i+1}\": {\"pos\": global_paths[i], \"color\": colors[i]}\n",
    "    for i in range(n_vehicles)\n",
    "}\n",
    "\n",
    "waypoints.update(markers)\n",
    "\n",
    "plot_3d_interactive(\n",
    "    markers, title=\"Simulation Markers\", expand=[0.2, 0.2, 0.6], ground=-0.05\n",
    ")"
   ]
  },
  {
   "cell_type": "markdown",
   "metadata": {},
   "source": [
    "## Choose Simulator"
   ]
  },
  {
   "cell_type": "code",
   "execution_count": 5,
   "metadata": {},
   "outputs": [],
   "source": [
    "simulator = Simulator(name=\"NONE\", offsets=offsets, plans=plans)\n",
    "\n",
    "simulator = QGC(offsets=offsets, plans=plans, origin=(-35.3633245, 149.1652241, 0, 0))\n",
    "\n",
    "simulator = Gazebo(\n",
    "    offsets=offsets,\n",
    "    plans=plans,\n",
    "    world_path=gazebo_word_path,\n",
    "    models=n_vehicles * [\"iris\"],\n",
    "    colors = colors,\n",
    "    markers={}, #\n",
    ")"
   ]
  },
  {
   "cell_type": "markdown",
   "metadata": {},
   "source": [
    "Launch Simulator"
   ]
  },
  {
   "cell_type": "code",
   "execution_count": 6,
   "metadata": {},
   "outputs": [
    {
     "name": "stdout",
     "output_type": "stream",
     "text": [
      "Vehicle 1 launched 🚀\n",
      "Vehicle 2 launched 🚀\n",
      "Vehicle 3 launched 🚀\n",
      "Vehicle 4 launched 🚀\n",
      "Vehicle 5 launched 🚀\n"
     ]
    }
   ],
   "source": [
    "uavs = simulator.launch()\n",
    "for uav in uavs:\n",
    "    uav.safety_radius = 1\n",
    "orac = Oracle(uavs)"
   ]
  },
  {
   "cell_type": "markdown",
   "metadata": {},
   "source": [
    "## Execute Plan"
   ]
  },
  {
   "cell_type": "code",
   "execution_count": 7,
   "metadata": {},
   "outputs": [
    {
     "name": "stdout",
     "output_type": "stream",
     "text": [
      "Vehicle 1: ▶️ Plan Started: 📋 basic\n",
      "Vehicle 1: ▶️ Action Started: 🔧 PREARM\n",
      "Vehicle 1: ▶️ Step Started: Check disarmed\n",
      "Vehicle 2: ▶️ Plan Started: 📋 basic\n",
      "Vehicle 2: ▶️ Action Started: 🔧 PREARM\n",
      "Vehicle 2: ▶️ Step Started: Check disarmed\n",
      "Vehicle 3: ▶️ Plan Started: 📋 basic\n",
      "Vehicle 3: ▶️ Action Started: 🔧 PREARM\n",
      "Vehicle 3: ▶️ Step Started: Check disarmed\n",
      "Vehicle 4: ▶️ Plan Started: 📋 basic\n",
      "Vehicle 4: ▶️ Action Started: 🔧 PREARM\n",
      "Vehicle 4: ▶️ Step Started: Check disarmed\n",
      "Vehicle 5: ▶️ Plan Started: 📋 basic\n",
      "Vehicle 5: ▶️ Action Started: 🔧 PREARM\n",
      "Vehicle 5: ▶️ Step Started: Check disarmed\n",
      "Vehicle 1: ✅ Step Done: Check disarmed\n",
      "Vehicle 2: ✅ Step Done: Check disarmed\n",
      "Vehicle 3: ✅ Step Done: Check disarmed\n",
      "Vehicle 5: ✅ Step Done: Check disarmed\n",
      "Vehicle 1: ▶️ Step Started: Check EKF\n",
      "Vehicle 2: ▶️ Step Started: Check EKF\n",
      "Vehicle 3: ▶️ Step Started: Check EKF\n",
      "Vehicle 5: ▶️ Step Started: Check EKF\n",
      "Vehicle 4: ✅ Step Done: Check disarmed\n",
      "Vehicle 4: ▶️ Step Started: Check EKF\n",
      "Vehicle 3: ✅ Step Done: Check EKF\n",
      "Vehicle 3: ▶️ Step Started: Check GPS\n",
      "Vehicle 1: ✅ Step Done: Check EKF\n",
      "Vehicle 1: ▶️ Step Started: Check GPS\n",
      "Vehicle 4: ✅ Step Done: Check EKF\n",
      "Vehicle 4: ▶️ Step Started: Check GPS\n",
      "Vehicle 5: ✅ Step Done: Check EKF\n",
      "Vehicle 5: ▶️ Step Started: Check GPS\n",
      "Vehicle 2: ✅ Step Done: Check EKF\n",
      "Vehicle 2: ▶️ Step Started: Check GPS\n",
      "Vehicle 3: ✅ Step Done: Check GPS\n",
      "Vehicle 3: ▶️ Step Started: Check system\n",
      "Vehicle 1: ✅ Step Done: Check GPS\n",
      "Vehicle 1: ▶️ Step Started: Check system\n",
      "Vehicle 4: ✅ Step Done: Check GPS\n",
      "Vehicle 4: ▶️ Step Started: Check system\n",
      "Vehicle 5: ✅ Step Done: Check GPS\n",
      "Vehicle 5: ▶️ Step Started: Check system\n",
      "Vehicle 2: ✅ Step Done: Check GPS\n",
      "Vehicle 2: ▶️ Step Started: Check system\n",
      "Vehicle 3: ✅ Step Done: Check system\n",
      "Vehicle 3: ✅ Action Done: 🔧 PREARM\n",
      "Vehicle 3: ▶️ Action Started: ⚙️ MODE: GUIDED\n",
      "Vehicle 3: ▶️ Step Started: Switch to GUIDED\n",
      "Vehicle 3: ✅ Step Done: Switch to GUIDED\n",
      "Vehicle 3: ✅ Action Done: ⚙️ MODE: GUIDED\n",
      "Vehicle 3: ▶️ Action Started: 🎚️ CHANGE_NAV_SPEED\n",
      "Vehicle 3: ▶️ Step Started: Set speed to 6.00 m/s\n",
      "Vehicle 3: ✅ Step Done: Set speed to 6.00 m/s\n",
      "Vehicle 3: ✅ Action Done: 🎚️ CHANGE_NAV_SPEED\n",
      "Vehicle 3: ▶️ Action Started: 🔐 ARM\n",
      "Vehicle 3: ▶️ Step Started: arm\n",
      "Vehicle 1: ✅ Step Done: Check system\n",
      "Vehicle 1: ✅ Action Done: 🔧 PREARM\n",
      "Vehicle 1: ▶️ Action Started: ⚙️ MODE: GUIDED\n",
      "Vehicle 1: ▶️ Step Started: Switch to GUIDED\n",
      "Vehicle 1: ✅ Step Done: Switch to GUIDED\n",
      "Vehicle 1: ✅ Action Done: ⚙️ MODE: GUIDED\n",
      "Vehicle 1: ▶️ Action Started: 🎚️ CHANGE_NAV_SPEED\n",
      "Vehicle 1: ▶️ Step Started: Set speed to 6.00 m/s\n",
      "Vehicle 1: ✅ Step Done: Set speed to 6.00 m/s\n",
      "Vehicle 1: ✅ Action Done: 🎚️ CHANGE_NAV_SPEED\n",
      "Vehicle 1: ▶️ Action Started: 🔐 ARM\n",
      "Vehicle 1: ▶️ Step Started: arm\n",
      "Vehicle 4: ✅ Step Done: Check system\n",
      "Vehicle 4: ✅ Action Done: 🔧 PREARM\n",
      "Vehicle 4: ▶️ Action Started: ⚙️ MODE: GUIDED\n",
      "Vehicle 4: ▶️ Step Started: Switch to GUIDED\n",
      "Vehicle 4: ✅ Step Done: Switch to GUIDED\n",
      "Vehicle 4: ✅ Action Done: ⚙️ MODE: GUIDED\n",
      "Vehicle 4: ▶️ Action Started: 🎚️ CHANGE_NAV_SPEED\n",
      "Vehicle 4: ▶️ Step Started: Set speed to 6.00 m/s\n",
      "Vehicle 4: ✅ Step Done: Set speed to 6.00 m/s\n",
      "Vehicle 4: ✅ Action Done: 🎚️ CHANGE_NAV_SPEED\n",
      "Vehicle 4: ▶️ Action Started: 🔐 ARM\n",
      "Vehicle 4: ▶️ Step Started: arm\n",
      "Vehicle 5: ✅ Step Done: Check system\n",
      "Vehicle 5: ✅ Action Done: 🔧 PREARM\n",
      "Vehicle 5: ▶️ Action Started: ⚙️ MODE: GUIDED\n",
      "Vehicle 5: ▶️ Step Started: Switch to GUIDED\n",
      "Vehicle 5: ✅ Step Done: Switch to GUIDED\n",
      "Vehicle 5: ✅ Action Done: ⚙️ MODE: GUIDED\n",
      "Vehicle 2: ✅ Step Done: Check system\n",
      "Vehicle 5: ▶️ Action Started: 🎚️ CHANGE_NAV_SPEED\n",
      "Vehicle 5: ▶️ Step Started: Set speed to 6.00 m/s\n",
      "Vehicle 2: ✅ Action Done: 🔧 PREARM\n",
      "Vehicle 2: ▶️ Action Started: ⚙️ MODE: GUIDED\n",
      "Vehicle 2: ▶️ Step Started: Switch to GUIDED\n",
      "Vehicle 5: ✅ Step Done: Set speed to 6.00 m/s\n",
      "Vehicle 5: ✅ Action Done: 🎚️ CHANGE_NAV_SPEED\n",
      "Vehicle 5: ▶️ Action Started: 🔐 ARM\n",
      "Vehicle 5: ▶️ Step Started: arm\n",
      "Vehicle 2: ✅ Step Done: Switch to GUIDED\n",
      "Vehicle 2: ✅ Action Done: ⚙️ MODE: GUIDED\n",
      "Vehicle 2: ▶️ Action Started: 🎚️ CHANGE_NAV_SPEED\n",
      "Vehicle 2: ▶️ Step Started: Set speed to 6.00 m/s\n",
      "Vehicle 2: ✅ Step Done: Set speed to 6.00 m/s\n",
      "Vehicle 2: ✅ Action Done: 🎚️ CHANGE_NAV_SPEED\n",
      "Vehicle 2: ▶️ Action Started: 🔐 ARM\n",
      "Vehicle 2: ▶️ Step Started: arm\n",
      "Vehicle 5: ✅ Step Done: arm\n",
      "Vehicle 5: ✅ Action Done: 🔐 ARM\n",
      "Vehicle 5: ▶️ Action Started: 🛫 TAKEOFF\n",
      "Vehicle 5: ▶️ Step Started: takeoff\n",
      "Vehicle 1: ✅ Step Done: arm\n",
      "Vehicle 2: ✅ Step Done: arm\n",
      "Vehicle 3: ✅ Step Done: arm\n",
      "Vehicle 4: ✅ Step Done: arm\n",
      "Vehicle 1: ✅ Action Done: 🔐 ARM\n",
      "Vehicle 2: ✅ Action Done: 🔐 ARM\n",
      "Vehicle 3: ✅ Action Done: 🔐 ARM\n",
      "Vehicle 4: ✅ Action Done: 🔐 ARM\n",
      "Vehicle 1: ▶️ Action Started: 🛫 TAKEOFF\n",
      "Vehicle 1: ▶️ Step Started: takeoff\n",
      "Vehicle 2: ▶️ Action Started: 🛫 TAKEOFF\n",
      "Vehicle 2: ▶️ Step Started: takeoff\n",
      "Vehicle 3: ▶️ Action Started: 🛫 TAKEOFF\n",
      "Vehicle 3: ▶️ Step Started: takeoff\n",
      "Vehicle 4: ▶️ Action Started: 🛫 TAKEOFF\n",
      "Vehicle 4: ▶️ Step Started: takeoff\n",
      "Vehicle 3: ✅ Step Done: takeoff\n",
      "Vehicle 3: ✅ Action Done: 🛫 TAKEOFF\n",
      "Vehicle 3: ▶️ Action Started: 🛩️ FLY\n",
      "Vehicle 3: ▶️ Step Started: go to  -> (0, 0, 9)\n",
      "Vehicle 1: ✅ Step Done: takeoff\n",
      "Vehicle 1: ✅ Action Done: 🛫 TAKEOFF\n",
      "Vehicle 1: ▶️ Action Started: 🛩️ FLY\n",
      "Vehicle 1: ▶️ Step Started: go to  -> (0, 0, 10)\n",
      "Vehicle 4: ✅ Step Done: takeoff\n",
      "Vehicle 4: ✅ Action Done: 🛫 TAKEOFF\n",
      "Vehicle 4: ▶️ Action Started: 🛩️ FLY\n",
      "Vehicle 4: ▶️ Step Started: go to  -> (0, 0, 9)\n",
      "Vehicle 5: ✅ Step Done: takeoff\n",
      "Vehicle 5: ✅ Action Done: 🛫 TAKEOFF\n",
      "Vehicle 2: ✅ Step Done: takeoff\n",
      "Vehicle 5: ▶️ Action Started: 🛩️ FLY\n",
      "Vehicle 5: ▶️ Step Started: go to  -> (0, 0, 1)\n",
      "Vehicle 2: ✅ Action Done: 🛫 TAKEOFF\n",
      "Vehicle 2: ▶️ Action Started: 🛩️ FLY\n",
      "Vehicle 2: ▶️ Step Started: go to  -> (0, 0, 12)\n",
      "Vehicle 5: ✅ Step Done: go to  -> (0, 0, 1)\n",
      "Vehicle 5: ▶️ Step Started: go to  -> (18.81, -39.37, 1)\n",
      "Vehicle 3: ✅ Step Done: go to  -> (0, 0, 9)\n",
      "Vehicle 3: ▶️ Step Started: go to  -> (-24.48, 29.65, 9)\n",
      "Vehicle 4: ✅ Step Done: go to  -> (0, 0, 9)\n",
      "Vehicle 4: ▶️ Step Started: go to  -> (51.49, 0, 9)\n",
      "Vehicle 1: ✅ Step Done: go to  -> (0, 0, 10)\n",
      "Vehicle 1: ▶️ Step Started: go to  -> (0, -41.73, 10)\n",
      "Vehicle 2: ✅ Step Done: go to  -> (0, 0, 12)\n",
      "Vehicle 2: ▶️ Step Started: go to  -> (33.92, 0, 12)\n",
      "Vehicle 5: ✅ Step Done: go to  -> (18.81, -39.37, 1)\n",
      "Vehicle 5: ✅ Action Done: 🛩️ FLY\n",
      "Vehicle 5: ▶️ Action Started: 🛬 LAND\n",
      "Vehicle 5: ▶️ Step Started: land\n",
      "Vehicle 3: ✅ Step Done: go to  -> (-24.48, 29.65, 9)\n",
      "Vehicle 3: ✅ Action Done: 🛩️ FLY\n",
      "Vehicle 3: ▶️ Action Started: 🛬 LAND\n",
      "Vehicle 3: ▶️ Step Started: land\n",
      "Vehicle 2: ✅ Step Done: go to  -> (33.92, 0, 12)\n",
      "Vehicle 2: ✅ Action Done: 🛩️ FLY\n",
      "Vehicle 2: ▶️ Action Started: 🛬 LAND\n",
      "Vehicle 2: ▶️ Step Started: land\n",
      "Vehicle 1: ✅ Step Done: go to  -> (0, -41.73, 10)\n",
      "Vehicle 1: ✅ Action Done: 🛩️ FLY\n",
      "Vehicle 1: ▶️ Action Started: 🛬 LAND\n",
      "Vehicle 1: ▶️ Step Started: land\n",
      "Vehicle 4: ✅ Step Done: go to  -> (51.49, 0, 9)\n",
      "Vehicle 4: ✅ Action Done: 🛩️ FLY\n",
      "Vehicle 4: ▶️ Action Started: 🛬 LAND\n",
      "Vehicle 4: ▶️ Step Started: land\n",
      "Vehicle 3: ✅ Step Done: land\n",
      "Vehicle 3: ✅ Action Done: 🛬 LAND\n",
      "Vehicle 3: ✅ Plan Done: 📋 basic\n",
      "Vehicle 5: ✅ Step Done: land\n",
      "Vehicle 5: ✅ Action Done: 🛬 LAND\n",
      "Vehicle 5: ✅ Plan Done: 📋 basic\n",
      "Vehicle 1: ✅ Step Done: land\n",
      "Vehicle 1: ✅ Action Done: 🛬 LAND\n",
      "Vehicle 1: ✅ Plan Done: 📋 basic\n",
      "Vehicle 4: ✅ Step Done: land\n",
      "Vehicle 4: ✅ Action Done: 🛬 LAND\n",
      "Vehicle 4: ✅ Plan Done: 📋 basic\n",
      "Vehicle 2: ✅ Step Done: land\n",
      "Vehicle 2: ✅ Action Done: 🛬 LAND\n",
      "Vehicle 2: ✅ Plan Done: 📋 basic\n"
     ]
    }
   ],
   "source": [
    "while orac.vehs:\n",
    "    orac.gather_broadcasts()\n",
    "    for uav in orac.vehs.copy():\n",
    "        orac.update_neighbors(uav)\n",
    "        if uav.plan.state == State.DONE:\n",
    "            orac.remove(uav)\n",
    "        else:\n",
    "            uav.act()\n",
    "kill_processes()"
   ]
  },
  {
   "cell_type": "code",
   "execution_count": null,
   "metadata": {},
   "outputs": [],
   "source": []
  }
 ],
 "metadata": {
  "kernelspec": {
   "display_name": "pymavlink",
   "language": "python",
   "name": "python3"
  },
  "language_info": {
   "codemirror_mode": {
    "name": "ipython",
    "version": 3
   },
   "file_extension": ".py",
   "mimetype": "text/x-python",
   "name": "python",
   "nbconvert_exporter": "python",
   "pygments_lexer": "ipython3",
   "version": "3.9.21"
  }
 },
 "nbformat": 4,
 "nbformat_minor": 2
}
