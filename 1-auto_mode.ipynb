{
 "cells": [
  {
   "cell_type": "markdown",
   "metadata": {},
   "source": [
    "## Simple Mission\n",
    "\n",
    "This notebook serves to check the ardupilot installation"
   ]
  },
  {
   "cell_type": "code",
   "execution_count": 5,
   "metadata": {},
   "outputs": [],
   "source": [
    "import os\n",
    "import subprocess\n",
    "import time\n",
    "\n",
    "from pymavlink import mavutil  # type: ignore\n",
    "from pymavlink.mavwp import MAVWPLoader  # type: ignore\n",
    "\n",
    "from config import ARDUPILOT_VEHICLE_PATH, LOGS_PATH, VEH_PARAMS_PATH\n",
    "from helpers import clean\n",
    "from helpers.mavlink import MAVConnection, MissionResult, NavCommand\n",
    "from plan import State\n",
    "from plan.planner import Plan\n",
    "\n",
    "clean()\n",
    "\n",
    "# TODO Add annotation for static checking"
   ]
  },
  {
   "cell_type": "markdown",
   "metadata": {},
   "source": [
    "## Launch Copter (ardupilot)"
   ]
  },
  {
   "cell_type": "code",
   "execution_count": 6,
   "metadata": {},
   "outputs": [
    {
     "data": {
      "text/plain": [
       "<Popen: returncode: None args: ['gnome-terminal', '--title=planner', '--', '...>"
      ]
     },
     "execution_count": 6,
     "metadata": {},
     "output_type": "execute_result"
    }
   ],
   "source": [
    "#This must agrre with first waypoint in mission.waypoint\n",
    "spawn_str= '47.397742,8.545594,0,0' \n",
    "\n",
    "sim_vehicle_path = os.path.expanduser(ARDUPILOT_VEHICLE_PATH)\n",
    "vehicle_cmd = (\n",
    "    f\"python3 {sim_vehicle_path} \"\n",
    "    f\"-v ArduCopter \"\n",
    "    f\"-I0 --sysid 1 \"\n",
    "    f\"--no-rebuild \"\n",
    "    f\"--use-dir={LOGS_PATH} \"\n",
    "    f\"--add-param-file {VEH_PARAMS_PATH} \"\n",
    "    f\"--no-mavproxy \"\n",
    "    f'--custom-location={spawn_str}'\n",
    ")\n",
    "\n",
    "\n",
    "# Open a new terminal and run the command\n",
    "subprocess.Popen([\"gnome-terminal\",\"--title=planner\",\"--\", \n",
    "                  \"bash\", \"-c\", f\"{vehicle_cmd}; exec bash\"])"
   ]
  },
  {
   "cell_type": "markdown",
   "metadata": {},
   "source": [
    "## Connect to the vehicle"
   ]
  },
  {
   "cell_type": "code",
   "execution_count": 7,
   "metadata": {},
   "outputs": [
    {
     "name": "stdout",
     "output_type": "stream",
     "text": [
      "✅ Heartbeat received\n"
     ]
    }
   ],
   "source": [
    "time.sleep(1)\n",
    "conn: MAVConnection = mavutil.mavlink_connection(\"tcp:127.0.0.1:5760\") # type: ignore 14550 \n",
    "conn.wait_heartbeat() \n",
    "print(\"✅ Heartbeat received\")\n"
   ]
  },
  {
   "cell_type": "markdown",
   "metadata": {},
   "source": [
    "# 2. Load the waypoint file"
   ]
  },
  {
   "cell_type": "code",
   "execution_count": 8,
   "metadata": {},
   "outputs": [
    {
     "name": "stdout",
     "output_type": "stream",
     "text": [
      "✅ Loaded 4 waypoints\n"
     ]
    }
   ],
   "source": [
    "mission = MAVWPLoader(conn.target_system,conn.target_component)\n",
    "count = mission.load(\"mission.waypoints\")  # your QGC WPL 110 file\n",
    "print(f\"✅ Loaded {count} waypoints\")"
   ]
  },
  {
   "cell_type": "markdown",
   "metadata": {},
   "source": [
    "# 3. Read the mission"
   ]
  },
  {
   "cell_type": "code",
   "execution_count": 9,
   "metadata": {},
   "outputs": [
    {
     "name": "stdout",
     "output_type": "stream",
     "text": [
      "🧭 Mission[0] → cmd: MAV_CMD_NAV_WAYPOINT, z: 47.397742, z: 8.545594,z: 0.0, current: 0\n",
      "🧭 Mission[1] → cmd: MAV_CMD_NAV_TAKEOFF, z: 47.397742, z: 8.545594,z: 10.0, current: 0\n",
      "🧭 Mission[2] → cmd: MAV_CMD_NAV_WAYPOINT, z: 47.397787, z: 8.545594,z: 10.0, current: 0\n",
      "🧭 Mission[3] → cmd: MAV_CMD_NAV_LAND, z: 47.397787, z: 8.545594,z: 0.0, current: 0\n"
     ]
    }
   ],
   "source": [
    "# Retrieve each mission item\n",
    "for i in range(count):\n",
    "    wp= mission.item(i)\n",
    "    print(f\"🧭 Mission[{i}] → cmd: {NavCommand(wp.command).name}, z: {wp.x}, z: {wp.y},z: {wp.z}, current: {wp.current}\")\n"
   ]
  },
  {
   "cell_type": "markdown",
   "metadata": {},
   "source": [
    "# 3. Clear any existing mission"
   ]
  },
  {
   "cell_type": "code",
   "execution_count": 10,
   "metadata": {},
   "outputs": [
    {
     "name": "stdout",
     "output_type": "stream",
     "text": [
      "🧹 Cleared previous mission: 0\n"
     ]
    }
   ],
   "source": [
    "conn.mav.mission_clear_all_send(conn.target_system, conn.target_component)\n",
    "ack = conn.recv_match(type='MISSION_ACK', blocking=True, timeout=5)\n",
    "print(f\"🧹 Cleared previous mission: {ack.type if ack else 'no ack'}\")\n",
    "time.sleep(1)"
   ]
  },
  {
   "cell_type": "markdown",
   "metadata": {},
   "source": [
    "# 4. Send new mission count"
   ]
  },
  {
   "cell_type": "code",
   "execution_count": 11,
   "metadata": {},
   "outputs": [
    {
     "name": "stdout",
     "output_type": "stream",
     "text": [
      "📤 Sending 4 mission items\n"
     ]
    }
   ],
   "source": [
    "conn.mav.mission_count_send(conn.target_system, conn.target_component, mission.count())\n",
    "print(f\"📤 Sending {mission.count()} mission items\")\n"
   ]
  },
  {
   "cell_type": "markdown",
   "metadata": {},
   "source": [
    "# 5. Send each item in response to MISSION_REQUEST"
   ]
  },
  {
   "cell_type": "code",
   "execution_count": 12,
   "metadata": {},
   "outputs": [
    {
     "name": "stdout",
     "output_type": "stream",
     "text": [
      "✅ Sent mission item 0\n",
      "✅ Sent mission item 1\n",
      "✅ Sent mission item 2\n",
      "✅ Sent mission item 3\n"
     ]
    }
   ],
   "source": [
    "for i in range(mission.count()):\n",
    "    msg = conn.recv_match(type='MISSION_REQUEST', blocking=True, timeout=5)\n",
    "    if not msg or msg.seq != i:\n",
    "        raise RuntimeError(f\"❌ Unexpected mission request: {msg}\")\n",
    "    conn.mav.send(mission.wp(i))\n",
    "    print(f\"✅ Sent mission item {i}\")"
   ]
  },
  {
   "cell_type": "markdown",
   "metadata": {},
   "source": [
    "# 6. Wait for final MISSION_ACK"
   ]
  },
  {
   "cell_type": "code",
   "execution_count": 13,
   "metadata": {},
   "outputs": [
    {
     "name": "stdout",
     "output_type": "stream",
     "text": [
      "🎉 Mission upload successful!\n"
     ]
    }
   ],
   "source": [
    "ack = conn.recv_match(type='MISSION_ACK', blocking=True, timeout=5)\n",
    "if ack and MissionResult(ack.type) == MissionResult.MAV_MISSION_ACCEPTED:\n",
    "    print(\"🎉 Mission upload successful!\")\n",
    "else:\n",
    "    print(f\"⚠️ Mission upload failed or timed out: {ack}\")"
   ]
  },
  {
   "cell_type": "markdown",
   "metadata": {},
   "source": [
    "## Check the mission"
   ]
  },
  {
   "cell_type": "code",
   "execution_count": 14,
   "metadata": {},
   "outputs": [
    {
     "name": "stdout",
     "output_type": "stream",
     "text": [
      "📦 UAV has 4 mission items\n",
      "🧭 Mission[0] → cmd: MAV_CMD_NAV_WAYPOINT, z: 0.0, z: 0.0,z: 0.0, current: 0\n",
      "🧭 Mission[1] → cmd: MAV_CMD_NAV_TAKEOFF, z: 47.397743225097656, z: 8.545594215393066,z: 10.0, current: 0\n",
      "🧭 Mission[2] → cmd: MAV_CMD_NAV_WAYPOINT, z: 47.39778518676758, z: 8.545594215393066,z: 10.0, current: 0\n",
      "🧭 Mission[3] → cmd: MAV_CMD_NAV_LAND, z: 47.39778518676758, z: 8.545594215393066,z: 0.0, current: 0\n"
     ]
    }
   ],
   "source": [
    "# Create a mission protocol loader\n",
    "wp = MAVWPLoader()\n",
    "\n",
    "\n",
    "# Request list of mission items\n",
    "conn.mav.mission_request_list_send(conn.target_system, conn.target_component)\n",
    "\n",
    "# Wait for mission count\n",
    "msg = conn.recv_match(type='MISSION_COUNT', blocking=True, timeout=5)\n",
    "mission_count = msg.count\n",
    "print(f\"📦 UAV has {mission_count} mission items\")\n",
    "\n",
    "# Retrieve each mission item\n",
    "for i in range(mission_count):\n",
    "    conn.mav.mission_request_send(conn.target_system, conn.target_component, i)\n",
    "    msg = conn.recv_match(type='MISSION_ITEM', blocking=True, timeout=5)\n",
    "    wp.set(msg, i)\n",
    "    print(f\"🧭 Mission[{i}] → cmd: {NavCommand(msg.command).name}, z: {msg.x}, z: {msg.y},z: {msg.z}, current: {msg.current}\")\n"
   ]
  },
  {
   "cell_type": "markdown",
   "metadata": {},
   "source": [
    "# Execute Plan"
   ]
  },
  {
   "cell_type": "code",
   "execution_count": 15,
   "metadata": {},
   "outputs": [
    {
     "name": "stdout",
     "output_type": "stream",
     "text": [
      "Vehicle 1: ▶️ Plan Started: 📋 \n",
      "Vehicle 1: ▶️ Action Started: 🔧 PREARM\n",
      "Vehicle 1: ▶️ Step Started: Check disarmed\n",
      "Vehicle 1: ✅ Step Done: Check disarmed\n",
      "Vehicle 1: ▶️ Step Started: Check EKF status\n",
      "Vehicle 1: ✅ Step Done: Check EKF status\n",
      "Vehicle 1: ▶️ Step Started: Check GPS\n",
      "Vehicle 1: ✅ Step Done: Check GPS\n",
      "Vehicle 1: ▶️ Step Started: Check system\n",
      "Vehicle 1: ✅ Step Done: Check system\n",
      "Vehicle 1: ✅ Action Done: 🔧 PREARM\n",
      "Vehicle 1: ▶️ Action Started: ⚙️ MODE: GUIDED\n",
      "Vehicle 1: ▶️ Step Started: Switch to GUIDED\n",
      "Vehicle 1: ✅ Step Done: Switch to GUIDED\n",
      "Vehicle 1: ✅ Action Done: ⚙️ MODE: GUIDED\n",
      "Vehicle 1: ▶️ Action Started: 🔐 ARM\n",
      "Vehicle 1: ▶️ Step Started: arm\n",
      "Vehicle 1: ✅ Step Done: arm\n",
      "Vehicle 1: ✅ Action Done: 🔐 ARM\n",
      "Vehicle 1: ▶️ Action Started: 🚀 START_MISSION\n",
      "Vehicle 1: ▶️ Step Started: start_mission\n",
      "Vehicle 1: ✅ Step Done: start_mission\n",
      "Vehicle 1: ✅ Action Done: 🚀 START_MISSION\n",
      "Vehicle 1: ✅ Plan Done: 📋 \n"
     ]
    }
   ],
   "source": [
    "plan_auto = Plan.auto()\n",
    "plan_auto.bind(conn)\n",
    "while plan_auto.state != State.DONE:\n",
    "    plan_auto.act()"
   ]
  },
  {
   "cell_type": "markdown",
   "metadata": {},
   "source": [
    "# Monitoring"
   ]
  },
  {
   "cell_type": "code",
   "execution_count": null,
   "metadata": {},
   "outputs": [
    {
     "name": "stdout",
     "output_type": "stream",
     "text": [
      "📍 Position: lat=47.3977420, lon=8.5455940, alt=0.00 m\n",
      "📍 Position: lat=47.3977420, lon=8.5455939, alt=0.00 m\n",
      "📍 Position: lat=47.3977420, lon=8.5455939, alt=0.00 m\n",
      "📍 Position: lat=47.3977420, lon=8.5455939, alt=0.00 m\n",
      "📍 Position: lat=47.3977420, lon=8.5455939, alt=0.00 m\n",
      "📍 Position: lat=47.3977420, lon=8.5455939, alt=0.00 m\n",
      "📍 Position: lat=47.3977420, lon=8.5455939, alt=0.00 m\n",
      "📍 Position: lat=47.3977420, lon=8.5455939, alt=0.00 m\n",
      "📍 Position: lat=47.3977420, lon=8.5455939, alt=0.00 m\n",
      "📍 Position: lat=47.3977420, lon=8.5455939, alt=0.02 m\n",
      "📍 Position: lat=47.3977420, lon=8.5455939, alt=0.07 m\n",
      "📍 Position: lat=47.3977420, lon=8.5455939, alt=0.17 m\n",
      "📍 Position: lat=47.3977420, lon=8.5455939, alt=0.45 m\n",
      "📍 Position: lat=47.3977420, lon=8.5455939, alt=0.73 m\n",
      "📍 Position: lat=47.3977420, lon=8.5455939, alt=1.05 m\n",
      "📍 Position: lat=47.3977420, lon=8.5455939, alt=1.44 m\n",
      "📍 Position: lat=47.3977420, lon=8.5455938, alt=1.89 m\n",
      "📍 Position: lat=47.3977420, lon=8.5455938, alt=2.40 m\n",
      "📍 Position: lat=47.3977420, lon=8.5455938, alt=2.99 m\n",
      "📍 Position: lat=47.3977420, lon=8.5455937, alt=3.61 m\n",
      "📍 Position: lat=47.3977420, lon=8.5455937, alt=4.25 m\n",
      "📍 Position: lat=47.3977420, lon=8.5455937, alt=4.88 m\n",
      "📍 Position: lat=47.3977421, lon=8.5455937, alt=5.47 m\n",
      "📍 Position: lat=47.3977421, lon=8.5455937, alt=6.02 m\n",
      "📍 Position: lat=47.3977421, lon=8.5455937, alt=6.54 m\n",
      "📍 Position: lat=47.3977421, lon=8.5455937, alt=7.01 m\n",
      "📍 Position: lat=47.3977421, lon=8.5455937, alt=7.45 m\n",
      "📍 Position: lat=47.3977421, lon=8.5455937, alt=7.85 m\n",
      "📍 Position: lat=47.3977421, lon=8.5455937, alt=8.22 m\n",
      "📍 Position: lat=47.3977421, lon=8.5455937, alt=8.56 m\n",
      "📍 Position: lat=47.3977421, lon=8.5455937, alt=8.86 m\n",
      "📍 Position: lat=47.3977421, lon=8.5455937, alt=9.13 m\n",
      "📍 Position: lat=47.3977421, lon=8.5455937, alt=9.37 m\n",
      "📍 Position: lat=47.3977421, lon=8.5455937, alt=9.57 m\n",
      "📍 Position: lat=47.3977421, lon=8.5455937, alt=9.74 m\n",
      "📍 Position: lat=47.3977421, lon=8.5455937, alt=9.87 m\n",
      "📍 Position: lat=47.3977421, lon=8.5455937, alt=9.96 m\n",
      "📌 Reached waypoint: 1\n",
      "📍 Position: lat=47.3977421, lon=8.5455937, alt=10.01 m\n",
      "📍 Position: lat=47.3977421, lon=8.5455937, alt=10.01 m\n",
      "📍 Position: lat=47.3977421, lon=8.5455937, alt=10.00 m\n",
      "📍 Position: lat=47.3977424, lon=8.5455937, alt=9.98 m\n",
      "📍 Position: lat=47.3977430, lon=8.5455937, alt=9.97 m\n",
      "📍 Position: lat=47.3977440, lon=8.5455937, alt=9.96 m\n",
      "📍 Position: lat=47.3977456, lon=8.5455937, alt=9.96 m\n",
      "📍 Position: lat=47.3977476, lon=8.5455937, alt=9.96 m\n",
      "📍 Position: lat=47.3977502, lon=8.5455937, alt=9.97 m\n",
      "📍 Position: lat=47.3977532, lon=8.5455937, alt=9.97 m\n",
      "📍 Position: lat=47.3977565, lon=8.5455938, alt=9.98 m\n",
      "📍 Position: lat=47.3977599, lon=8.5455938, alt=9.98 m\n",
      "📍 Position: lat=47.3977634, lon=8.5455938, alt=9.98 m\n",
      "📍 Position: lat=47.3977668, lon=8.5455939, alt=9.99 m\n",
      "📍 Position: lat=47.3977703, lon=8.5455939, alt=9.99 m\n",
      "📍 Position: lat=47.3977736, lon=8.5455940, alt=9.99 m\n",
      "📍 Position: lat=47.3977767, lon=8.5455940, alt=9.99 m\n",
      "📍 Position: lat=47.3977795, lon=8.5455941, alt=9.99 m\n",
      "📍 Position: lat=47.3977819, lon=8.5455941, alt=9.99 m\n",
      "📍 Position: lat=47.3977836, lon=8.5455941, alt=9.99 m\n",
      "📍 Position: lat=47.3977848, lon=8.5455941, alt=9.99 m\n",
      "📍 Position: lat=47.3977856, lon=8.5455940, alt=9.99 m\n",
      "📍 Position: lat=47.3977859, lon=8.5455940, alt=10.00 m\n",
      "📍 Position: lat=47.3977861, lon=8.5455940, alt=10.00 m\n",
      "📍 Position: lat=47.3977861, lon=8.5455940, alt=10.00 m\n",
      "📌 Reached waypoint: 2\n",
      "📍 Position: lat=47.3977861, lon=8.5455940, alt=10.00 m\n",
      "📍 Position: lat=47.3977862, lon=8.5455940, alt=10.00 m\n",
      "📍 Position: lat=47.3977863, lon=8.5455940, alt=9.99 m\n",
      "📍 Position: lat=47.3977863, lon=8.5455940, alt=9.99 m\n",
      "📍 Position: lat=47.3977864, lon=8.5455940, alt=9.99 m\n",
      "📍 Position: lat=47.3977864, lon=8.5455940, alt=9.97 m\n",
      "📍 Position: lat=47.3977864, lon=8.5455941, alt=9.90 m\n",
      "📍 Position: lat=47.3977863, lon=8.5455941, alt=9.78 m\n",
      "📍 Position: lat=47.3977863, lon=8.5455941, alt=9.65 m\n",
      "📍 Position: lat=47.3977863, lon=8.5455941, alt=9.52 m\n",
      "📍 Position: lat=47.3977863, lon=8.5455942, alt=9.38 m\n",
      "📍 Position: lat=47.3977862, lon=8.5455942, alt=9.25 m\n",
      "📍 Position: lat=47.3977862, lon=8.5455942, alt=9.12 m\n",
      "📍 Position: lat=47.3977861, lon=8.5455941, alt=8.99 m\n",
      "📍 Position: lat=47.3977861, lon=8.5455941, alt=8.87 m\n",
      "📍 Position: lat=47.3977860, lon=8.5455941, alt=8.74 m\n",
      "📍 Position: lat=47.3977860, lon=8.5455941, alt=8.62 m\n",
      "📍 Position: lat=47.3977860, lon=8.5455941, alt=8.50 m\n",
      "📍 Position: lat=47.3977859, lon=8.5455941, alt=8.37 m\n",
      "📍 Position: lat=47.3977859, lon=8.5455941, alt=8.25 m\n",
      "📍 Position: lat=47.3977859, lon=8.5455941, alt=8.13 m\n",
      "📍 Position: lat=47.3977858, lon=8.5455941, alt=8.00 m\n",
      "📍 Position: lat=47.3977858, lon=8.5455941, alt=7.88 m\n",
      "📍 Position: lat=47.3977858, lon=8.5455941, alt=7.75 m\n",
      "📍 Position: lat=47.3977858, lon=8.5455940, alt=7.63 m\n",
      "📍 Position: lat=47.3977858, lon=8.5455940, alt=7.50 m\n",
      "📍 Position: lat=47.3977858, lon=8.5455940, alt=7.38 m\n",
      "📍 Position: lat=47.3977858, lon=8.5455940, alt=7.25 m\n",
      "📍 Position: lat=47.3977858, lon=8.5455940, alt=7.13 m\n",
      "📍 Position: lat=47.3977858, lon=8.5455940, alt=7.00 m\n",
      "📍 Position: lat=47.3977858, lon=8.5455940, alt=6.88 m\n",
      "📍 Position: lat=47.3977858, lon=8.5455940, alt=6.75 m\n",
      "📍 Position: lat=47.3977858, lon=8.5455940, alt=6.63 m\n",
      "📍 Position: lat=47.3977858, lon=8.5455940, alt=6.50 m\n",
      "📍 Position: lat=47.3977858, lon=8.5455940, alt=6.38 m\n",
      "📍 Position: lat=47.3977858, lon=8.5455941, alt=6.25 m\n",
      "📍 Position: lat=47.3977858, lon=8.5455941, alt=6.13 m\n",
      "📍 Position: lat=47.3977858, lon=8.5455941, alt=6.00 m\n"
     ]
    }
   ],
   "source": [
    "conn.mav.request_data_stream_send(\n",
    "    conn.target_system,\n",
    "    conn.target_component,\n",
    "    mavutil.mavlink.MAV_DATA_STREAM_POSITION,  # Stream ID\n",
    "    4,     # Frequency in Hz\n",
    "    1      # Start (1 to enable streaming)\n",
    ")\n",
    "\n",
    "\n",
    "last_seq = mission.count() - 1\n",
    "\n",
    "while True:\n",
    "    msg = conn.recv_match(blocking=True, timeout=1)\n",
    "\n",
    "    if not msg:\n",
    "        print(\"⏳ Waiting for mission update...\")\n",
    "        continue\n",
    "\n",
    "    # ✅ Reached a waypoint\n",
    "    if msg.get_type() == \"MISSION_ITEM_REACHED\":\n",
    "        print(f\"📌 Reached waypoint: {msg.seq}\")\n",
    "        if msg.seq == last_seq:\n",
    "            print(\"✅ Final waypoint reached\")\n",
    "\n",
    "    # ✅ UAV position\n",
    "    elif msg.get_type() == \"GLOBAL_POSITION_INT\":\n",
    "        lat = msg.lat / 1e7\n",
    "        lon = msg.lon / 1e7\n",
    "        alt = msg.relative_alt / 1000.0\n",
    "        print(f\"📍 Position: lat={lat:.7f}, lon={lon:.7f}, alt={alt:.2f} m\")\n",
    "\n",
    "    # ✅ Look for end hints in text\n",
    "    elif msg.get_type() == \"STATUSTEXT\":\n",
    "        text = msg.text.strip().lower()\n",
    "        if \"disarming\" in text:\n",
    "            print(\"🏁 Mission completed\")\n",
    "            break"
   ]
  },
  {
   "cell_type": "code",
   "execution_count": null,
   "metadata": {},
   "outputs": [],
   "source": []
  }
 ],
 "metadata": {
  "kernelspec": {
   "display_name": "Python 3",
   "language": "python",
   "name": "python3"
  },
  "language_info": {
   "codemirror_mode": {
    "name": "ipython",
    "version": 3
   },
   "file_extension": ".py",
   "mimetype": "text/x-python",
   "name": "python",
   "nbconvert_exporter": "python",
   "pygments_lexer": "ipython3",
   "version": "3.11.11"
  }
 },
 "nbformat": 4,
 "nbformat_minor": 2
}
