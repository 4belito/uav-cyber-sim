{
 "cells": [
  {
   "cell_type": "markdown",
   "metadata": {},
   "source": [
    "## Simple Mission\n",
    "\n",
    "This notebook serves to check the ardupilot installation"
   ]
  },
  {
   "cell_type": "code",
   "execution_count": 1,
   "metadata": {},
   "outputs": [],
   "source": [
    "import os\n",
    "import subprocess\n",
    "import time\n",
    "\n",
    "from config import ARDUPILOT_VEHICLE_PATH, LOGS_PATH, VEH_PARAMS_PATH\n",
    "from helpers import clean\n",
    "from mavlink.util import connect\n",
    "from plan import State\n",
    "from plan.planner import Plan\n",
    "\n",
    "clean()"
   ]
  },
  {
   "cell_type": "markdown",
   "metadata": {},
   "source": [
    "## Launch Copter (ardupilot)"
   ]
  },
  {
   "cell_type": "code",
   "execution_count": 2,
   "metadata": {},
   "outputs": [
    {
     "data": {
      "text/plain": [
       "<Popen: returncode: None args: ['gnome-terminal', '--title=planner', '--', '...>"
      ]
     },
     "execution_count": 2,
     "metadata": {},
     "output_type": "execute_result"
    }
   ],
   "source": [
    "#This must agrre with first waypoint in mission.waypoint\n",
    "spawn_str= '-35.3633245,149.1652241,0.0,0' \n",
    "\n",
    "sim_vehicle_path = os.path.expanduser(ARDUPILOT_VEHICLE_PATH)\n",
    "vehicle_cmd = (\n",
    "    f\"python3 {sim_vehicle_path} \"\n",
    "    f\"-v ArduCopter \"\n",
    "    f\"-I0 --sysid 1 \"\n",
    "    f\"--no-rebuild \"\n",
    "    f\"--use-dir={LOGS_PATH} \"\n",
    "    f\"--add-param-file {VEH_PARAMS_PATH} \"\n",
    "    f\"--no-mavproxy \"\n",
    "    f'--custom-location={spawn_str}'\n",
    ")\n",
    "\n",
    "\n",
    "# Open a new terminal and run the command\n",
    "subprocess.Popen([\"gnome-terminal\",\"--title=planner\",\"--\", \n",
    "                  \"bash\", \"-c\", f\"{vehicle_cmd}; exec bash\"])"
   ]
  },
  {
   "cell_type": "markdown",
   "metadata": {},
   "source": [
    "## 1. Connect to the vehicle"
   ]
  },
  {
   "cell_type": "code",
   "execution_count": 3,
   "metadata": {},
   "outputs": [
    {
     "name": "stdout",
     "output_type": "stream",
     "text": [
      "✅ Heartbeat received\n"
     ]
    }
   ],
   "source": [
    "time.sleep(1)\n",
    "conn = connect(\"tcp:127.0.0.1:5760\")\n",
    "conn.wait_heartbeat() \n",
    "print(\"✅ Heartbeat received\")\n"
   ]
  },
  {
   "cell_type": "markdown",
   "metadata": {},
   "source": [
    "## Create auto plan from mission file\n",
    "\n",
    "The mission is loaded from \"plan/missions/simple_mission.waypoints\""
   ]
  },
  {
   "cell_type": "code",
   "execution_count": 4,
   "metadata": {},
   "outputs": [
    {
     "data": {
      "text/plain": [
       "🕓 <Plan '📋 '>\n",
       "  🕓 <Action '📤 UPLOAD_MISSION'>\n",
       "    🕓 <Step '🔹 clear uav missions'>\n",
       "    🕓 <Step '🔹 load mission simple_mission'>\n",
       "  🕓 <Action '🔧 PREARM'>\n",
       "    🕓 <Step '🔹 Check disarmed'>\n",
       "    🕓 <Step '🔹 Check EKF status'>\n",
       "    🕓 <Step '🔹 Check GPS'>\n",
       "    🕓 <Step '🔹 Check system'>\n",
       "  🕓 <Action '⚙️ MODE: GUIDED'>\n",
       "    🕓 <Step '🔹 Switch to GUIDED'>\n",
       "  🕓 <Action '🔐 ARM'>\n",
       "    🕓 <Step '🔹 arm'>\n",
       "  🕓 <Action '🚀 START_MISSION'>\n",
       "    🕓 <Step '🔹 start_mission'>\n",
       "  🕓 <Action '📤 UPLOAD_MISSION'>\n",
       "    🕓 <Step '🔹 monitoring'>"
      ]
     },
     "execution_count": 4,
     "metadata": {},
     "output_type": "execute_result"
    }
   ],
   "source": [
    "plan = Plan.auto(mission_name=\"simple_mission\")\n",
    "plan"
   ]
  },
  {
   "cell_type": "markdown",
   "metadata": {},
   "source": [
    "# Execute Auto Plan"
   ]
  },
  {
   "cell_type": "code",
   "execution_count": 5,
   "metadata": {},
   "outputs": [
    {
     "name": "stdout",
     "output_type": "stream",
     "text": [
      "Vehicle 1: Step 'clear uav missions' is now connected ✅🔗\n",
      "Vehicle 1: Step 'load mission simple_mission' is now connected ✅🔗\n",
      "Vehicle 1: Action 'UPLOAD_MISSION' is now connected ✅🔗\n",
      "Vehicle 1: Action 'UPLOAD_MISSION' is now connected ✅🔗\n",
      "Vehicle 1: Step 'Check disarmed' is now connected ✅🔗\n",
      "Vehicle 1: Step 'Check EKF status' is now connected ✅🔗\n",
      "Vehicle 1: Step 'Check GPS' is now connected ✅🔗\n",
      "Vehicle 1: Step 'Check system' is now connected ✅🔗\n",
      "Vehicle 1: Action 'PREARM' is now connected ✅🔗\n",
      "Vehicle 1: Action 'PREARM' is now connected ✅🔗\n",
      "Vehicle 1: Step 'Switch to GUIDED' is now connected ✅🔗\n",
      "Vehicle 1: Action 'MODE: GUIDED' is now connected ✅🔗\n",
      "Vehicle 1: Action 'MODE: GUIDED' is now connected ✅🔗\n",
      "Vehicle 1: Step 'arm' is now connected ✅🔗\n",
      "Vehicle 1: Action 'ARM' is now connected ✅🔗\n",
      "Vehicle 1: Action 'ARM' is now connected ✅🔗\n",
      "Vehicle 1: Step 'start_mission' is now connected ✅🔗\n",
      "Vehicle 1: Action 'START_MISSION' is now connected ✅🔗\n",
      "Vehicle 1: Action 'START_MISSION' is now connected ✅🔗\n",
      "Vehicle 1: Step 'monitoring' is now connected ✅🔗\n",
      "Vehicle 1: Action 'UPLOAD_MISSION' is now connected ✅🔗\n",
      "Vehicle 1: Action 'UPLOAD_MISSION' is now connected ✅🔗\n",
      "Vehicle 1: Plan '' is now connected ✅🔗\n",
      "Vehicle 1: Plan '' is now connected ✅🔗\n",
      "Vehicle 1: ▶️ Plan Started: 📋 \n",
      "Vehicle 1: ▶️ Action Started: 📤 UPLOAD_MISSION\n",
      "Vehicle 1: ▶️ Step Started: clear uav missions\n",
      "Vehicle 1: ✅ Step Done: clear uav missions\n"
     ]
    },
    {
     "ename": "FileNotFoundError",
     "evalue": "[Errno 2] No such file or directory: '/home/abeldg/uav-cyber-sim/data/simple_mission.waypoints'",
     "output_type": "error",
     "traceback": [
      "\u001b[31m---------------------------------------------------------------------------\u001b[39m",
      "\u001b[31mFileNotFoundError\u001b[39m                         Traceback (most recent call last)",
      "\u001b[36mCell\u001b[39m\u001b[36m \u001b[39m\u001b[32mIn[5]\u001b[39m\u001b[32m, line 3\u001b[39m\n\u001b[32m      1\u001b[39m plan.bind(conn,verbose=\u001b[32m3\u001b[39m)\n\u001b[32m      2\u001b[39m \u001b[38;5;28;01mwhile\u001b[39;00m plan.state != State.DONE:\n\u001b[32m----> \u001b[39m\u001b[32m3\u001b[39m     \u001b[43mplan\u001b[49m\u001b[43m.\u001b[49m\u001b[43mact\u001b[49m\u001b[43m(\u001b[49m\u001b[43m)\u001b[49m\n",
      "\u001b[36mFile \u001b[39m\u001b[32m~/uav-cyber-sim/plan/core.py:218\u001b[39m, in \u001b[36mAction.act\u001b[39m\u001b[34m(self)\u001b[39m\n\u001b[32m    216\u001b[39m     \u001b[38;5;28mself\u001b[39m._start_action()\n\u001b[32m    217\u001b[39m \u001b[38;5;28;01melif\u001b[39;00m \u001b[38;5;28mself\u001b[39m.state == State.IN_PROGRESS:\n\u001b[32m--> \u001b[39m\u001b[32m218\u001b[39m     \u001b[38;5;28;43mself\u001b[39;49m\u001b[43m.\u001b[49m\u001b[43m_progress_action\u001b[49m\u001b[43m(\u001b[49m\u001b[43m)\u001b[49m\n\u001b[32m    219\u001b[39m \u001b[38;5;28;01melif\u001b[39;00m \u001b[38;5;28mself\u001b[39m.state == State.DONE:\n\u001b[32m    220\u001b[39m     \u001b[38;5;28mself\u001b[39m._log_already_done()\n",
      "\u001b[36mFile \u001b[39m\u001b[32m~/uav-cyber-sim/plan/core.py:250\u001b[39m, in \u001b[36mAction._progress_action\u001b[39m\u001b[34m(self)\u001b[39m\n\u001b[32m    245\u001b[39m     \u001b[38;5;28mprint\u001b[39m(\n\u001b[32m    246\u001b[39m         \u001b[33mf\u001b[39m\u001b[33m\"\u001b[39m\u001b[33m⚠️ Vehicle \u001b[39m\u001b[38;5;132;01m{\u001b[39;00m\u001b[38;5;28mself\u001b[39m.sysid\u001b[38;5;132;01m}\u001b[39;00m\u001b[33m: \u001b[39m\u001b[38;5;132;01m{\u001b[39;00m\u001b[38;5;28mself\u001b[39m.class_name\u001b[38;5;132;01m}\u001b[39;00m\u001b[33m: \u001b[39m\u001b[38;5;132;01m{\u001b[39;00m\u001b[38;5;28mself\u001b[39m.emoji\u001b[38;5;132;01m}\u001b[39;00m\u001b[33m \u001b[39m\u001b[38;5;132;01m{\u001b[39;00m\u001b[38;5;28mself\u001b[39m.name\u001b[38;5;132;01m}\u001b[39;00m\u001b[33m \u001b[39m\u001b[33m\"\u001b[39m\n\u001b[32m    247\u001b[39m         \u001b[33mf\u001b[39m\u001b[33m\"\u001b[39m\u001b[33mAlready failed!. Cannot perform this again!\u001b[39m\u001b[33m\"\u001b[39m\n\u001b[32m    248\u001b[39m     )\n\u001b[32m    249\u001b[39m \u001b[38;5;28;01melse\u001b[39;00m:\n\u001b[32m--> \u001b[39m\u001b[32m250\u001b[39m     \u001b[43mstep\u001b[49m\u001b[43m.\u001b[49m\u001b[43mact\u001b[49m\u001b[43m(\u001b[49m\u001b[43m)\u001b[49m\n\u001b[32m    251\u001b[39m     \u001b[38;5;28mself\u001b[39m.update_pos(step)\n",
      "\u001b[36mFile \u001b[39m\u001b[32m~/uav-cyber-sim/plan/core.py:218\u001b[39m, in \u001b[36mAction.act\u001b[39m\u001b[34m(self)\u001b[39m\n\u001b[32m    216\u001b[39m     \u001b[38;5;28mself\u001b[39m._start_action()\n\u001b[32m    217\u001b[39m \u001b[38;5;28;01melif\u001b[39;00m \u001b[38;5;28mself\u001b[39m.state == State.IN_PROGRESS:\n\u001b[32m--> \u001b[39m\u001b[32m218\u001b[39m     \u001b[38;5;28;43mself\u001b[39;49m\u001b[43m.\u001b[49m\u001b[43m_progress_action\u001b[49m\u001b[43m(\u001b[49m\u001b[43m)\u001b[49m\n\u001b[32m    219\u001b[39m \u001b[38;5;28;01melif\u001b[39;00m \u001b[38;5;28mself\u001b[39m.state == State.DONE:\n\u001b[32m    220\u001b[39m     \u001b[38;5;28mself\u001b[39m._log_already_done()\n",
      "\u001b[36mFile \u001b[39m\u001b[32m~/uav-cyber-sim/plan/core.py:250\u001b[39m, in \u001b[36mAction._progress_action\u001b[39m\u001b[34m(self)\u001b[39m\n\u001b[32m    245\u001b[39m     \u001b[38;5;28mprint\u001b[39m(\n\u001b[32m    246\u001b[39m         \u001b[33mf\u001b[39m\u001b[33m\"\u001b[39m\u001b[33m⚠️ Vehicle \u001b[39m\u001b[38;5;132;01m{\u001b[39;00m\u001b[38;5;28mself\u001b[39m.sysid\u001b[38;5;132;01m}\u001b[39;00m\u001b[33m: \u001b[39m\u001b[38;5;132;01m{\u001b[39;00m\u001b[38;5;28mself\u001b[39m.class_name\u001b[38;5;132;01m}\u001b[39;00m\u001b[33m: \u001b[39m\u001b[38;5;132;01m{\u001b[39;00m\u001b[38;5;28mself\u001b[39m.emoji\u001b[38;5;132;01m}\u001b[39;00m\u001b[33m \u001b[39m\u001b[38;5;132;01m{\u001b[39;00m\u001b[38;5;28mself\u001b[39m.name\u001b[38;5;132;01m}\u001b[39;00m\u001b[33m \u001b[39m\u001b[33m\"\u001b[39m\n\u001b[32m    247\u001b[39m         \u001b[33mf\u001b[39m\u001b[33m\"\u001b[39m\u001b[33mAlready failed!. Cannot perform this again!\u001b[39m\u001b[33m\"\u001b[39m\n\u001b[32m    248\u001b[39m     )\n\u001b[32m    249\u001b[39m \u001b[38;5;28;01melse\u001b[39;00m:\n\u001b[32m--> \u001b[39m\u001b[32m250\u001b[39m     \u001b[43mstep\u001b[49m\u001b[43m.\u001b[49m\u001b[43mact\u001b[49m\u001b[43m(\u001b[49m\u001b[43m)\u001b[49m\n\u001b[32m    251\u001b[39m     \u001b[38;5;28mself\u001b[39m.update_pos(step)\n",
      "\u001b[36mFile \u001b[39m\u001b[32m~/uav-cyber-sim/plan/core.py:144\u001b[39m, in \u001b[36mStep.act\u001b[39m\u001b[34m(self)\u001b[39m\n\u001b[32m    142\u001b[39m \u001b[38;5;250m\u001b[39m\u001b[33;03m\"\"\"Execute the step or check its progress based on current state.\"\"\"\u001b[39;00m\n\u001b[32m    143\u001b[39m \u001b[38;5;28;01mif\u001b[39;00m \u001b[38;5;28mself\u001b[39m.state == State.NOT_STARTED:\n\u001b[32m--> \u001b[39m\u001b[32m144\u001b[39m     \u001b[38;5;28;43mself\u001b[39;49m\u001b[43m.\u001b[49m\u001b[43mexecute\u001b[49m\u001b[43m(\u001b[49m\u001b[43m)\u001b[49m\n\u001b[32m    145\u001b[39m \u001b[38;5;28;01melif\u001b[39;00m \u001b[38;5;28mself\u001b[39m.state == State.IN_PROGRESS:\n\u001b[32m    146\u001b[39m     \u001b[38;5;28;01mtry\u001b[39;00m:\n",
      "\u001b[36mFile \u001b[39m\u001b[32m~/uav-cyber-sim/plan/core.py:126\u001b[39m, in \u001b[36mStep.execute\u001b[39m\u001b[34m(self)\u001b[39m\n\u001b[32m    124\u001b[39m \u001b[38;5;28;01mdef\u001b[39;00m\u001b[38;5;250m \u001b[39m\u001b[34mexecute\u001b[39m(\u001b[38;5;28mself\u001b[39m) -> \u001b[38;5;28;01mNone\u001b[39;00m:\n\u001b[32m    125\u001b[39m \u001b[38;5;250m    \u001b[39m\u001b[33;03m\"\"\"Execute the step and change state to IN_PROGRESS.\"\"\"\u001b[39;00m\n\u001b[32m--> \u001b[39m\u001b[32m126\u001b[39m     \u001b[38;5;28;43mself\u001b[39;49m\u001b[43m.\u001b[49m\u001b[43mexec_fn\u001b[49m\u001b[43m(\u001b[49m\u001b[38;5;28;43mself\u001b[39;49m\u001b[43m.\u001b[49m\u001b[43mconn\u001b[49m\u001b[43m,\u001b[49m\u001b[43m \u001b[49m\u001b[38;5;28;43mself\u001b[39;49m\u001b[43m.\u001b[49m\u001b[43mverbose\u001b[49m\u001b[43m)\u001b[49m\n\u001b[32m    127\u001b[39m     \u001b[38;5;28;01mif\u001b[39;00m \u001b[38;5;28mself\u001b[39m.verbose:\n\u001b[32m    128\u001b[39m         \u001b[38;5;28mprint\u001b[39m(\u001b[33mf\u001b[39m\u001b[33m\"\u001b[39m\u001b[33mVehicle \u001b[39m\u001b[38;5;132;01m{\u001b[39;00m\u001b[38;5;28mself\u001b[39m.sysid\u001b[38;5;132;01m}\u001b[39;00m\u001b[33m: ▶️ \u001b[39m\u001b[38;5;132;01m{\u001b[39;00m\u001b[38;5;28mself\u001b[39m.class_name\u001b[38;5;132;01m}\u001b[39;00m\u001b[33m Started: \u001b[39m\u001b[38;5;132;01m{\u001b[39;00m\u001b[38;5;28mself\u001b[39m.name\u001b[38;5;132;01m}\u001b[39;00m\u001b[33m\"\u001b[39m)\n",
      "\u001b[36mFile \u001b[39m\u001b[32m~/uav-cyber-sim/plan/actions/upload_mission.py:53\u001b[39m, in \u001b[36mexec_upload_mission\u001b[39m\u001b[34m(conn, verbose, mission_name)\u001b[39m\n\u001b[32m     51\u001b[39m sysid, compid = conn.target_system, conn.target_component\n\u001b[32m     52\u001b[39m mission = MissionLoader(sysid, compid)\n\u001b[32m---> \u001b[39m\u001b[32m53\u001b[39m count = \u001b[43mmission\u001b[49m\u001b[43m.\u001b[49m\u001b[43mload\u001b[49m\u001b[43m(\u001b[49m\u001b[38;5;28;43mstr\u001b[39;49m\u001b[43m(\u001b[49m\u001b[43mDATA_PATH\u001b[49m\u001b[43m \u001b[49m\u001b[43m/\u001b[49m\u001b[43m \u001b[49m\u001b[33;43mf\u001b[39;49m\u001b[33;43m\"\u001b[39;49m\u001b[38;5;132;43;01m{\u001b[39;49;00m\u001b[43mmission_name\u001b[49m\u001b[38;5;132;43;01m}\u001b[39;49;00m\u001b[33;43m.waypoints\u001b[39;49m\u001b[33;43m\"\u001b[39;49m\u001b[43m)\u001b[49m\u001b[43m)\u001b[49m\n\u001b[32m     54\u001b[39m \u001b[38;5;28;01mif\u001b[39;00m verbose:\n\u001b[32m     55\u001b[39m     \u001b[38;5;28mprint\u001b[39m(\u001b[33mf\u001b[39m\u001b[33m\"\u001b[39m\u001b[33mVehicle \u001b[39m\u001b[38;5;132;01m{\u001b[39;00mconn.target_system\u001b[38;5;132;01m}\u001b[39;00m\u001b[33m: ✅ \u001b[39m\u001b[38;5;132;01m{\u001b[39;00mcount\u001b[38;5;132;01m}\u001b[39;00m\u001b[33m waypoints read.\u001b[39m\u001b[33m\"\u001b[39m)\n",
      "\u001b[36mFile \u001b[39m\u001b[32m~/uav-cyber-sim/mavlink/customtypes/mission.py:76\u001b[39m, in \u001b[36mMissionLoader.load\u001b[39m\u001b[34m(self, filename)\u001b[39m\n\u001b[32m     74\u001b[39m \u001b[38;5;28;01mdef\u001b[39;00m\u001b[38;5;250m \u001b[39m\u001b[34mload\u001b[39m(\u001b[38;5;28mself\u001b[39m, filename: \u001b[38;5;28mstr\u001b[39m) -> \u001b[38;5;28mint\u001b[39m:\n\u001b[32m     75\u001b[39m \u001b[38;5;250m    \u001b[39m\u001b[33;03m\"\"\"Load waypoints from a file. Returns number of waypoints loaded.\"\"\"\u001b[39;00m\n\u001b[32m---> \u001b[39m\u001b[32m76\u001b[39m     \u001b[38;5;28;01mreturn\u001b[39;00m \u001b[38;5;28;43mself\u001b[39;49m\u001b[43m.\u001b[49m\u001b[43m_loader\u001b[49m\u001b[43m.\u001b[49m\u001b[43mload\u001b[49m\u001b[43m(\u001b[49m\u001b[43mfilename\u001b[49m\u001b[43m)\u001b[49m\n",
      "\u001b[36mFile \u001b[39m\u001b[32m~/.conda/envs/uav-cyber-sim11/lib/python3.11/site-packages/pymavlink/mavwp.py:229\u001b[39m, in \u001b[36mMissionItemProtocol.load\u001b[39m\u001b[34m(self, filename)\u001b[39m\n\u001b[32m    226\u001b[39m \u001b[38;5;28;01mdef\u001b[39;00m\u001b[38;5;250m \u001b[39m\u001b[34mload\u001b[39m(\u001b[38;5;28mself\u001b[39m, filename):\n\u001b[32m    227\u001b[39m \u001b[38;5;250m    \u001b[39m\u001b[33;03m'''load waypoints from a file.\u001b[39;00m\n\u001b[32m    228\u001b[39m \u001b[33;03m    returns number of waypoints loaded'''\u001b[39;00m\n\u001b[32m--> \u001b[39m\u001b[32m229\u001b[39m     f = \u001b[38;5;28;43mopen\u001b[39;49m\u001b[43m(\u001b[49m\u001b[43mfilename\u001b[49m\u001b[43m,\u001b[49m\u001b[43m \u001b[49m\u001b[43mmode\u001b[49m\u001b[43m=\u001b[49m\u001b[33;43m'\u001b[39;49m\u001b[33;43mr\u001b[39;49m\u001b[33;43m'\u001b[39;49m\u001b[43m)\u001b[49m\n\u001b[32m    230\u001b[39m     version_line = f.readline().strip()\n\u001b[32m    231\u001b[39m     \u001b[38;5;28;01mif\u001b[39;00m version_line == \u001b[33m\"\u001b[39m\u001b[33mQGC WPL 100\u001b[39m\u001b[33m\"\u001b[39m:\n",
      "\u001b[31mFileNotFoundError\u001b[39m: [Errno 2] No such file or directory: '/home/abeldg/uav-cyber-sim/data/simple_mission.waypoints'"
     ]
    }
   ],
   "source": [
    "plan.bind(conn,verbose=3)\n",
    "while plan.state != State.DONE:\n",
    "    plan.act()"
   ]
  },
  {
   "cell_type": "code",
   "execution_count": null,
   "metadata": {},
   "outputs": [
    {
     "data": {
      "text/plain": [
       "✅ <Plan '📋 '>\n",
       "  ✅ <Action '📤 UPLOAD_MISSION'>\n",
       "    ✅ <Step '🔹 clear uav missions'>\n",
       "    ✅ <Step '🔹 load mission simple_mission'>\n",
       "  ✅ <Action '🔧 PREARM'>\n",
       "    ✅ <Step '🔹 Check disarmed'>\n",
       "    ✅ <Step '🔹 Check EKF status'>\n",
       "    ✅ <Step '🔹 Check GPS'>\n",
       "    ✅ <Step '🔹 Check system'>\n",
       "  ✅ <Action '⚙️ MODE: GUIDED'>\n",
       "    ✅ <Step '🔹 Switch to GUIDED'>\n",
       "  ✅ <Action '🔐 ARM'>\n",
       "    ✅ <Step '🔹 arm'>\n",
       "  ✅ <Action '⏳ WAIT'>\n",
       "    ✅ <Step '🔹 wait'>\n",
       "  ✅ <Action '🚀 START_MISSION'>\n",
       "    ✅ <Step '🔹 start_mission'>\n",
       "  ✅ <Action '📤 UPLOAD_MISSION'>\n",
       "    ✅ <Step '🔹 monitoring'>"
      ]
     },
     "execution_count": 6,
     "metadata": {},
     "output_type": "execute_result"
    }
   ],
   "source": [
    "plan"
   ]
  },
  {
   "cell_type": "code",
   "execution_count": null,
   "metadata": {},
   "outputs": [],
   "source": []
  }
 ],
 "metadata": {
  "kernelspec": {
   "display_name": "uav-cyber-sim11",
   "language": "python",
   "name": "python3"
  },
  "language_info": {
   "codemirror_mode": {
    "name": "ipython",
    "version": 3
   },
   "file_extension": ".py",
   "mimetype": "text/x-python",
   "name": "python",
   "nbconvert_exporter": "python",
   "pygments_lexer": "ipython3",
   "version": "3.11.11"
  }
 },
 "nbformat": 4,
 "nbformat_minor": 2
}
