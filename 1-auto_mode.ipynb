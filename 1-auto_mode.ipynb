{
 "cells": [
  {
   "cell_type": "markdown",
   "metadata": {},
   "source": [
    "## Simple Mission in Auto-Mode\n",
    "\n",
    "This notebook serves to check the ardupilot installation"
   ]
  },
  {
   "cell_type": "code",
   "execution_count": 6,
   "metadata": {},
   "outputs": [],
   "source": [
    "import os\n",
    "\n",
    "from config import (\n",
    "    ARDU_LOGS_PATH,\n",
    "    ARDUPILOT_VEHICLE_PATH,\n",
    "    ENV_CMD_PYT,\n",
    "    VEH_PARAMS_PATH,\n",
    "    BasePort,\n",
    ")\n",
    "from helpers import clean, create_process, setup_logging, wait_for_port\n",
    "from helpers.connections.mavlink.conn import create_tcp_conn\n",
    "from plan import State\n",
    "from plan.planner import Plan\n",
    "\n",
    "clean()"
   ]
  },
  {
   "cell_type": "markdown",
   "metadata": {},
   "source": [
    "## Launch Copter (ardupilot)"
   ]
  },
  {
   "cell_type": "code",
   "execution_count": null,
   "metadata": {},
   "outputs": [
    {
     "name": "stdout",
     "output_type": "stream",
     "text": [
      "Waiting for port 5760 to open...\n",
      "Waiting for port 5760 to open...\n",
      "Waiting for port 5760 to open...\n",
      "Waiting for port 5760 to open...\n",
      "Waiting for port 5760 to open...\n",
      "Waiting for port 5760 to open...\n",
      "Waiting for port 5760 to open...\n",
      "Waiting for port 5760 to open...\n",
      "Waiting for port 5760 to open...\n",
      "Waiting for port 5760 to open...\n",
      "Waiting for port 5760 to open...\n",
      "Waiting for port 5760 to open...\n",
      "Waiting for port 5760 to open...\n",
      "Waiting for port 5760 to open...\n",
      "Waiting for port 5760 to open...\n",
      "Waiting for port 5760 to open...\n",
      "Waiting for port 5760 to open...\n",
      "Waiting for port 5760 to open...\n",
      "Waiting for port 5760 to open...\n",
      "Waiting for port 5760 to open...\n",
      "Waiting for port 5760 to open...\n",
      "Waiting for port 5760 to open...\n",
      "Waiting for port 5760 to open...\n",
      "Waiting for port 5760 to open...\n",
      "Waiting for port 5760 to open...\n",
      "Waiting for port 5760 to open...\n",
      "Waiting for port 5760 to open...\n",
      "Waiting for port 5760 to open...\n",
      "Waiting for port 5760 to open...\n",
      "Waiting for port 5760 to open...\n"
     ]
    }
   ],
   "source": [
    "#This must agree with first waypoint in mission.waypoint\n",
    "spawn_str= '-35.3633245,149.1652241,0.0,0' \n",
    "\n",
    "sim_vehicle_path = os.path.expanduser(ARDUPILOT_VEHICLE_PATH)\n",
    "sysid = 1\n",
    "vehicle_cmd = (\n",
    "    f\"python3 {sim_vehicle_path} \"\n",
    "    f\"-v ArduCopter \"\n",
    "    f\"-I{sysid-1} --sysid {sysid} \"\n",
    "    f\"--no-rebuild \"\n",
    "    f\"--use-dir={ARDU_LOGS_PATH} \"\n",
    "    f\"--add-param-file {VEH_PARAMS_PATH} \"\n",
    "    f\"--no-mavproxy \"\n",
    "    f\"--port-offset=0 \"  # ArduPilot automatically binds TCP port 5760 (BasePort.ARP)\n",
    "    f'--custom-location={spawn_str}'\n",
    ")\n",
    "\n",
    "create_process(\n",
    "                vehicle_cmd,\n",
    "                after=\"exec bash\",\n",
    "                visible= True,\n",
    "                suppress_output=False,\n",
    "                title=\"ardu_vehicle\",\n",
    "                env_cmd=ENV_CMD_PYT,\n",
    "            )\n",
    "wait_for_port(port = BasePort.ARP, timeout = 0.5)\n",
    "\n"
   ]
  },
  {
   "cell_type": "markdown",
   "metadata": {},
   "source": [
    "## 1. Connect to the vehicle"
   ]
  },
  {
   "cell_type": "code",
   "execution_count": 8,
   "metadata": {},
   "outputs": [
    {
     "name": "stdout",
     "output_type": "stream",
     "text": [
      "✅ TCP connection established!\n"
     ]
    }
   ],
   "source": [
    "conn = create_tcp_conn(\n",
    "    base_port=BasePort.ARP, \n",
    "    offset=0,\n",
    "    role=\"client\", \n",
    "    sysid=sysid\n",
    ")\n",
    "\n",
    "print(\"✅ TCP connection established!\")"
   ]
  },
  {
   "cell_type": "markdown",
   "metadata": {},
   "source": [
    "## Create auto plan from mission file\n",
    "\n",
    "The mission is loaded from \"plan/missions/simple_mission.waypoints\""
   ]
  },
  {
   "cell_type": "code",
   "execution_count": 9,
   "metadata": {},
   "outputs": [
    {
     "data": {
      "text/plain": [
       "🕓 <Plan '📋 auto'>\n",
       "  🕓 <Action '📤 UPLOAD_MISSION'>\n",
       "    🕓 <Step '🔹 clear uav missions'>\n",
       "    🕓 <Step '🔹 load mission plan/missions/simple_mission.waypoints'>\n",
       "  🕓 <Action '🔧 PREARM'>\n",
       "    🕓 <Step '🔹 Check disarmed'>\n",
       "    🕓 <Step '🔹 Check EKF status'>\n",
       "    🕓 <Step '🔹 Check GPS'>\n",
       "    🕓 <Step '🔹 Check system'>\n",
       "  🕓 <Action '⚙️  MODE: GUIDED'>\n",
       "    🕓 <Step '🔹 Switch to GUIDED'>\n",
       "  🕓 <Action '🔐 ARM'>\n",
       "    🕓 <Step '🔹 arm'>\n",
       "  🕓 <Action '🚀 START_MISSION'>\n",
       "    🕓 <Step '🔹 start_mission'>\n",
       "  🕓 <Action '👁️ MONITOR_MISSION'>\n",
       "    🕓 <Step '🔹 check item 1'>\n",
       "    🕓 <Step '🔹 check item 2'>\n",
       "    🕓 <Step '🔹 check mission completion'>"
      ]
     },
     "execution_count": 9,
     "metadata": {},
     "output_type": "execute_result"
    }
   ],
   "source": [
    "plan = Plan.auto(name='auto',\n",
    "                mission_path=\"plan/missions/simple_mission.waypoints\",\n",
    "                monitored_items=[1,2])\n",
    "plan"
   ]
  },
  {
   "cell_type": "markdown",
   "metadata": {},
   "source": [
    "# Execute Auto Plan"
   ]
  },
  {
   "cell_type": "code",
   "execution_count": 10,
   "metadata": {},
   "outputs": [
    {
     "name": "stderr",
     "output_type": "stream",
     "text": [
      "06:33:37 - plan - INFO - 🧹 Vehicle 1: Cleared previous mission\n",
      "06:33:37 - plan - INFO - ✅ Vehicle 1: 4 waypoints read\n",
      "06:33:38 - plan - INFO - ✅ Vehicle 1: Mission upload successful!\n",
      "06:33:38 - plan - INFO - ✅ Vehicle 1: Action Done: 📤 UPLOAD_MISSION\n",
      "06:34:19 - plan - INFO - ✅ Vehicle 1: Action Done: 🔧 PREARM\n",
      "06:34:19 - plan - INFO - ✅ Vehicle 1: Action Done: ⚙️  MODE: GUIDED\n",
      "06:34:20 - plan - INFO - ✅ Vehicle 1: Action Done: 🔐 ARM\n",
      "06:34:20 - plan - INFO - 🚀 Vehicle 1: Mission has started\n",
      "06:34:20 - plan - INFO - ✅ Vehicle 1: Action Done: 🚀 START_MISSION\n",
      "06:34:27 - plan - INFO - Vehicle 1: ⭐ Reached waypoint: 1\n",
      "06:34:33 - plan - INFO - Vehicle 1: ⭐ Reached waypoint: 2\n",
      "06:34:46 - plan - INFO - Vehicle 1: Mission completed\n",
      "06:34:46 - plan - INFO - ✅ Vehicle 1: Action Done: 👁️ MONITOR_MISSION\n",
      "06:34:46 - plan - INFO - ✅ Vehicle 1: Plan Done: 📋 auto\n"
     ]
    }
   ],
   "source": [
    "plan.bind(conn)\n",
    "setup_logging('plan',verbose=1)\n",
    "while plan.state != State.DONE:\n",
    "    plan.act()"
   ]
  },
  {
   "cell_type": "code",
   "execution_count": 11,
   "metadata": {},
   "outputs": [
    {
     "data": {
      "text/plain": [
       "✅ <Plan '📋 auto'>\n",
       "  ✅ <Action '📤 UPLOAD_MISSION'>\n",
       "    ✅ <Step '🔹 clear uav missions'>\n",
       "    ✅ <Step '🔹 load mission plan/missions/simple_mission.waypoints'>\n",
       "  ✅ <Action '🔧 PREARM'>\n",
       "    ✅ <Step '🔹 Check disarmed'>\n",
       "    ✅ <Step '🔹 Check EKF status'>\n",
       "    ✅ <Step '🔹 Check GPS'>\n",
       "    ✅ <Step '🔹 Check system'>\n",
       "  ✅ <Action '⚙️  MODE: GUIDED'>\n",
       "    ✅ <Step '🔹 Switch to GUIDED'>\n",
       "  ✅ <Action '🔐 ARM'>\n",
       "    ✅ <Step '🔹 arm'>\n",
       "  ✅ <Action '🚀 START_MISSION'>\n",
       "    ✅ <Step '🔹 start_mission'>\n",
       "  ✅ <Action '👁️ MONITOR_MISSION'>\n",
       "    ✅ <Step '🔹 check item 1'>\n",
       "    ✅ <Step '🔹 check item 2'>\n",
       "    ✅ <Step '🔹 check mission completion'>"
      ]
     },
     "execution_count": 11,
     "metadata": {},
     "output_type": "execute_result"
    }
   ],
   "source": [
    "plan"
   ]
  }
 ],
 "metadata": {
  "kernelspec": {
   "display_name": "uav-cyber-sim11",
   "language": "python",
   "name": "python3"
  },
  "language_info": {
   "codemirror_mode": {
    "name": "ipython",
    "version": 3
   },
   "file_extension": ".py",
   "mimetype": "text/x-python",
   "name": "python",
   "nbconvert_exporter": "python",
   "pygments_lexer": "ipython3",
   "version": "3.11.13"
  }
 },
 "nbformat": 4,
 "nbformat_minor": 2
}
