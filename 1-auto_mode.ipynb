{
 "cells": [
  {
   "cell_type": "markdown",
   "metadata": {},
   "source": [
    "## Simple Mission\n",
    "\n",
    "This notebook serves to check the ardupilot installation"
   ]
  },
  {
   "cell_type": "code",
   "execution_count": 1,
   "metadata": {},
   "outputs": [],
   "source": [
    "import os\n",
    "import subprocess\n",
    "import time\n",
    "\n",
    "from config import ARDUPILOT_VEHICLE_PATH, LOGS_PATH, VEH_PARAMS_PATH\n",
    "from helpers import clean\n",
    "from mavlink.util import connect\n",
    "from plan import State\n",
    "from plan.planner import Plan\n",
    "\n",
    "clean()"
   ]
  },
  {
   "cell_type": "markdown",
   "metadata": {},
   "source": [
    "## Launch Copter (ardupilot)"
   ]
  },
  {
   "cell_type": "code",
   "execution_count": 2,
   "metadata": {},
   "outputs": [
    {
     "data": {
      "text/plain": [
       "<Popen: returncode: None args: ['gnome-terminal', '--title=planner', '--', '...>"
      ]
     },
     "execution_count": 2,
     "metadata": {},
     "output_type": "execute_result"
    }
   ],
   "source": [
    "#This must agrre with first waypoint in mission.waypoint\n",
    "spawn_str= '-35.3633245,149.1652241,0.0,0' \n",
    "\n",
    "sim_vehicle_path = os.path.expanduser(ARDUPILOT_VEHICLE_PATH)\n",
    "vehicle_cmd = (\n",
    "    f\"python3 {sim_vehicle_path} \"\n",
    "    f\"-v ArduCopter \"\n",
    "    f\"-I0 --sysid 1 \"\n",
    "    f\"--no-rebuild \"\n",
    "    f\"--use-dir={LOGS_PATH} \"\n",
    "    f\"--add-param-file {VEH_PARAMS_PATH} \"\n",
    "    f\"--no-mavproxy \"\n",
    "    f'--custom-location={spawn_str}'\n",
    ")\n",
    "\n",
    "\n",
    "# Open a new terminal and run the command\n",
    "subprocess.Popen([\"gnome-terminal\",\"--title=planner\",\"--\", \n",
    "                  \"bash\", \"-c\", f\"{vehicle_cmd}; exec bash\"])"
   ]
  },
  {
   "cell_type": "markdown",
   "metadata": {},
   "source": [
    "## 1. Connect to the vehicle"
   ]
  },
  {
   "cell_type": "code",
   "execution_count": 3,
   "metadata": {},
   "outputs": [
    {
     "name": "stdout",
     "output_type": "stream",
     "text": [
      "✅ Heartbeat received\n"
     ]
    }
   ],
   "source": [
    "time.sleep(1)\n",
    "conn = connect(\"tcp:127.0.0.1:5760\")\n",
    "conn.wait_heartbeat() \n",
    "print(\"✅ Heartbeat received\")\n"
   ]
  },
  {
   "cell_type": "markdown",
   "metadata": {},
   "source": [
    "## Create auto plan from mission file\n",
    "\n",
    "The mission is loaded from \"plan/missions/simple_mission.waypoints\""
   ]
  },
  {
   "cell_type": "code",
   "execution_count": 4,
   "metadata": {},
   "outputs": [
    {
     "data": {
      "text/plain": [
       "🕓 <Plan '📋 auto'>\n",
       "  🕓 <Action '📤 UPLOAD_MISSION'>\n",
       "    🕓 <Step '🔹 clear uav missions'>\n",
       "    🕓 <Step '🔹 load mission plan/missions/simple_mission.waypoints'>\n",
       "  🕓 <Action '🔧 PREARM'>\n",
       "    🕓 <Step '🔹 Check disarmed'>\n",
       "    🕓 <Step '🔹 Check EKF status'>\n",
       "    🕓 <Step '🔹 Check GPS'>\n",
       "    🕓 <Step '🔹 Check system'>\n",
       "  🕓 <Action '⚙️ MODE: GUIDED'>\n",
       "    🕓 <Step '🔹 Switch to GUIDED'>\n",
       "  🕓 <Action '🔐 ARM'>\n",
       "    🕓 <Step '🔹 arm'>\n",
       "  🕓 <Action '🚀 START_MISSION'>\n",
       "    🕓 <Step '🔹 start_mission'>\n",
       "  🕓 <Action '🧭 MONITOR_MISSION'>\n",
       "    🕓 <Step '🔹 check item 1'>\n",
       "    🕓 <Step '🔹 check item 2'>\n",
       "    🕓 <Step '🔹 check mission completion'>"
      ]
     },
     "execution_count": 4,
     "metadata": {},
     "output_type": "execute_result"
    }
   ],
   "source": [
    "plan = Plan.auto(name='auto',\n",
    "                 mission_path=\"plan/missions/simple_mission.waypoints\",\n",
    "                 monitored_items=[1,2])\n",
    "plan"
   ]
  },
  {
   "cell_type": "markdown",
   "metadata": {},
   "source": [
    "# Execute Auto Plan"
   ]
  },
  {
   "cell_type": "code",
   "execution_count": 5,
   "metadata": {},
   "outputs": [
    {
     "name": "stdout",
     "output_type": "stream",
     "text": [
      "Vehicle 1: Step 'clear uav missions' is now connected ✅🔗\n",
      "Vehicle 1: Step 'load mission plan/missions/simple_mission.waypoints' is now connected ✅🔗\n",
      "Vehicle 1: Action 'UPLOAD_MISSION' is now connected ✅🔗\n",
      "Vehicle 1: Action 'UPLOAD_MISSION' is now connected ✅🔗\n",
      "Vehicle 1: Step 'Check disarmed' is now connected ✅🔗\n",
      "Vehicle 1: Step 'Check EKF status' is now connected ✅🔗\n",
      "Vehicle 1: Step 'Check GPS' is now connected ✅🔗\n",
      "Vehicle 1: Step 'Check system' is now connected ✅🔗\n",
      "Vehicle 1: Action 'PREARM' is now connected ✅🔗\n",
      "Vehicle 1: Action 'PREARM' is now connected ✅🔗\n",
      "Vehicle 1: Step 'Switch to GUIDED' is now connected ✅🔗\n",
      "Vehicle 1: Action 'MODE: GUIDED' is now connected ✅🔗\n",
      "Vehicle 1: Action 'MODE: GUIDED' is now connected ✅🔗\n",
      "Vehicle 1: Step 'arm' is now connected ✅🔗\n",
      "Vehicle 1: Action 'ARM' is now connected ✅🔗\n",
      "Vehicle 1: Action 'ARM' is now connected ✅🔗\n",
      "Vehicle 1: Step 'start_mission' is now connected ✅🔗\n",
      "Vehicle 1: Action 'START_MISSION' is now connected ✅🔗\n",
      "Vehicle 1: Action 'START_MISSION' is now connected ✅🔗\n",
      "Vehicle 1: Step 'check item 1' is now connected ✅🔗\n",
      "Vehicle 1: Step 'check item 2' is now connected ✅🔗\n",
      "Vehicle 1: Step 'check mission completion' is now connected ✅🔗\n",
      "Vehicle 1: Action 'MONITOR_MISSION' is now connected ✅🔗\n",
      "Vehicle 1: Action 'MONITOR_MISSION' is now connected ✅🔗\n",
      "Vehicle 1: Plan 'auto' is now connected ✅🔗\n",
      "Vehicle 1: Plan 'auto' is now connected ✅🔗\n",
      "Vehicle 1: ▶️ Plan Started: 📋 auto\n",
      "Vehicle 1: ▶️ Action Started: 📤 UPLOAD_MISSION\n",
      "Vehicle 1: ▶️ Step Started: clear uav missions\n",
      "Vehicle 1: ✅ Step Done: clear uav missions\n",
      "Vehicle 1: ✅ 4 waypoints read.\n",
      "Vehicle 1: ✅ Sent mission item 0\n",
      "Vehicle 1: ✅ Sent mission item 1\n",
      "Vehicle 1: ✅ Sent mission item 2\n",
      "Vehicle 1: ✅ Sent mission item 3\n",
      "Vehicle 1: ▶️ Step Started: load mission plan/missions/simple_mission.waypoints\n",
      "Vehicle 1: ✅ Mission upload successful!\n",
      "Vehicle 1: ✅ Step Done: load mission plan/missions/simple_mission.waypoints\n",
      "Vehicle 1: ✅ Action Done: 📤 UPLOAD_MISSION\n",
      "Vehicle 1: ▶️ Action Started: 🔧 PREARM\n",
      "Vehicle 1: ▶️ Step Started: Check disarmed\n",
      "Vehicle 1: ✅ Step Done: Check disarmed\n",
      "Vehicle 1: 📡 Requested message EKF_STATUS_REPORT at 1.00 Hz\n",
      "Vehicle 1: ▶️ Step Started: Check EKF status\n",
      "Vehicle 1: ⌛ Waiting for EKF to be ready... Pending: ATTITUDE, VELOCITY_HORIZ, POS_VERT_ABS, POS_HORIZ_ABS\n",
      "Vehicle 1: ⌛ Waiting for EKF to be ready... Pending: POS_HORIZ_ABS\n",
      "Vehicle 1: ⌛ Waiting for EKF to be ready... Pending: POS_HORIZ_ABS\n",
      "Vehicle 1: ⌛ Waiting for EKF to be ready... Pending: POS_HORIZ_ABS\n",
      "Vehicle 1: ⌛ Waiting for EKF to be ready... Pending: POS_HORIZ_ABS\n",
      "Vehicle 1: ⌛ Waiting for EKF to be ready... Pending: POS_HORIZ_ABS\n",
      "Vehicle 1: ⌛ Waiting for EKF to be ready... Pending: POS_HORIZ_ABS\n",
      "Vehicle 1: ⌛ Waiting for EKF to be ready... Pending: POS_HORIZ_ABS\n",
      "Vehicle 1: ⌛ Waiting for EKF to be ready... Pending: POS_HORIZ_ABS\n",
      "Vehicle 1: ⌛ Waiting for EKF to be ready... Pending: POS_HORIZ_ABS\n",
      "Vehicle 1: ⌛ Waiting for EKF to be ready... Pending: POS_HORIZ_ABS\n",
      "Vehicle 1: ⌛ Waiting for EKF to be ready... Pending: POS_HORIZ_ABS\n",
      "Vehicle 1: ⌛ Waiting for EKF to be ready... Pending: POS_HORIZ_ABS\n",
      "Vehicle 1: ⌛ Waiting for EKF to be ready... Pending: POS_HORIZ_ABS\n",
      "Vehicle 1: ⌛ Waiting for EKF to be ready... Pending: POS_HORIZ_ABS\n",
      "Vehicle 1: ⌛ Waiting for EKF to be ready... Pending: POS_HORIZ_ABS\n",
      "Vehicle 1: ⌛ Waiting for EKF to be ready... Pending: POS_HORIZ_ABS\n",
      "Vehicle 1: ⌛ Waiting for EKF to be ready... Pending: POS_HORIZ_ABS\n",
      "Vehicle 1: ⌛ Waiting for EKF to be ready... Pending: POS_HORIZ_ABS\n",
      "Vehicle 1: ⌛ Waiting for EKF to be ready... Pending: POS_HORIZ_ABS\n",
      "Vehicle 1: ⌛ Waiting for EKF to be ready... Pending: POS_HORIZ_ABS\n",
      "Vehicle 1: ⌛ Waiting for EKF to be ready... Pending: POS_HORIZ_ABS\n",
      "Vehicle 1: ⌛ Waiting for EKF to be ready... Pending: POS_HORIZ_ABS\n",
      "Vehicle 1: ⌛ Waiting for EKF to be ready... Pending: POS_HORIZ_ABS\n",
      "Vehicle 1: ⌛ Waiting for EKF to be ready... Pending: POS_HORIZ_ABS\n",
      "Vehicle 1: ⌛ Waiting for EKF to be ready... Pending: POS_HORIZ_ABS\n",
      "Vehicle 1: ⌛ Waiting for EKF to be ready... Pending: POS_HORIZ_ABS\n",
      "Vehicle 1: ⌛ Waiting for EKF to be ready... Pending: POS_HORIZ_ABS\n",
      "Vehicle 1: ⌛ Waiting for EKF to be ready... Pending: POS_HORIZ_ABS\n",
      "Vehicle 1: ⌛ Waiting for EKF to be ready... Pending: POS_HORIZ_ABS\n",
      "Vehicle 1: ⌛ Waiting for EKF to be ready... Pending: POS_HORIZ_ABS\n",
      "Vehicle 1: ⌛ Waiting for EKF to be ready... Pending: POS_HORIZ_ABS\n",
      "Vehicle 1: ⌛ Waiting for EKF to be ready... Pending: POS_HORIZ_ABS\n",
      "Vehicle 1: ⌛ Waiting for EKF to be ready... Pending: POS_HORIZ_ABS\n",
      "Vehicle 1: ⌛ Waiting for EKF to be ready... Pending: POS_HORIZ_ABS\n",
      "Vehicle 1: ⌛ Waiting for EKF to be ready... Pending: POS_HORIZ_ABS\n",
      "Vehicle 1: ⌛ Waiting for EKF to be ready... Pending: POS_HORIZ_ABS\n",
      "Vehicle 1: ✅ Step Done: Check EKF status\n",
      "Vehicle 1: 📡 Requested message GPS_RAW_INT at 1.00 Hz\n",
      "Vehicle 1: ▶️ Step Started: Check GPS\n",
      "Vehicle 1: ✅ Step Done: Check GPS\n",
      "Vehicle 1: 📡 Requested message SYS_STATUS at 1.00 Hz\n",
      "Vehicle 1: ▶️ Step Started: Check system\n",
      "Vehicle 1: ✅ Step Done: Check system\n",
      "Vehicle 1: ✅ Action Done: 🔧 PREARM\n",
      "Vehicle 1: ▶️ Action Started: ⚙️ MODE: GUIDED\n",
      "Vehicle 1: ▶️ Step Started: Switch to GUIDED\n",
      "Vehicle 1: ✅ Step Done: Switch to GUIDED\n",
      "Vehicle 1: ✅ Action Done: ⚙️ MODE: GUIDED\n",
      "Vehicle 1: ▶️ Action Started: 🔐 ARM\n",
      "Vehicle 1: ▶️ Step Started: arm\n",
      "Vehicle 1: ✅ Step Done: arm\n",
      "Vehicle 1: ✅ Action Done: 🔐 ARM\n",
      "Vehicle 1: ▶️ Action Started: 🚀 START_MISSION\n",
      "Vehicle 1: ▶️ Step Started: start_mission\n",
      "Vehicle 1: ✅ Step Done: start_mission\n",
      "Vehicle 1: ✅ Action Done: 🚀 START_MISSION\n",
      "Vehicle 1: ▶️ Action Started: 🧭 MONITOR_MISSION\n",
      "Vehicle 1: ▶️ Step Started: check item 1\n",
      "Vehicle 1: ✴️ Reached waypoint: 1\n",
      "Vehicle 1: ✅ Step Done: check item 1\n",
      "Vehicle 1: ▶️ Step Started: check item 2\n",
      "Vehicle 1: ✴️ Reached waypoint: 2\n",
      "Vehicle 1: ✅ Step Done: check item 2\n",
      "Vehicle 1: ▶️ Step Started: check mission completion\n",
      "Vehicle 1: 🏁 Mission completed\n",
      "Vehicle 1: ✅ Step Done: check mission completion\n",
      "Vehicle 1: ✅ Action Done: 🧭 MONITOR_MISSION\n",
      "Vehicle 1: ✅ Plan Done: 📋 auto\n"
     ]
    }
   ],
   "source": [
    "plan.bind(conn,verbose=3)\n",
    "while plan.state != State.DONE:\n",
    "    plan.act()"
   ]
  },
  {
   "cell_type": "code",
   "execution_count": 6,
   "metadata": {},
   "outputs": [
    {
     "data": {
      "text/plain": [
       "✅ <Plan '📋 auto'>\n",
       "  ✅ <Action '📤 UPLOAD_MISSION'>\n",
       "    ✅ <Step '🔹 clear uav missions'>\n",
       "    ✅ <Step '🔹 load mission plan/missions/simple_mission.waypoints'>\n",
       "  ✅ <Action '🔧 PREARM'>\n",
       "    ✅ <Step '🔹 Check disarmed'>\n",
       "    ✅ <Step '🔹 Check EKF status'>\n",
       "    ✅ <Step '🔹 Check GPS'>\n",
       "    ✅ <Step '🔹 Check system'>\n",
       "  ✅ <Action '⚙️ MODE: GUIDED'>\n",
       "    ✅ <Step '🔹 Switch to GUIDED'>\n",
       "  ✅ <Action '🔐 ARM'>\n",
       "    ✅ <Step '🔹 arm'>\n",
       "  ✅ <Action '🚀 START_MISSION'>\n",
       "    ✅ <Step '🔹 start_mission'>\n",
       "  ✅ <Action '🧭 MONITOR_MISSION'>\n",
       "    ✅ <Step '🔹 check item 1'>\n",
       "    ✅ <Step '🔹 check item 2'>\n",
       "    ✅ <Step '🔹 check mission completion'>"
      ]
     },
     "execution_count": 6,
     "metadata": {},
     "output_type": "execute_result"
    }
   ],
   "source": [
    "plan"
   ]
  },
  {
   "cell_type": "code",
   "execution_count": null,
   "metadata": {},
   "outputs": [],
   "source": []
  }
 ],
 "metadata": {
  "kernelspec": {
   "display_name": "uav-cyber-sim11",
   "language": "python",
   "name": "python3"
  },
  "language_info": {
   "codemirror_mode": {
    "name": "ipython",
    "version": 3
   },
   "file_extension": ".py",
   "mimetype": "text/x-python",
   "name": "python",
   "nbconvert_exporter": "python",
   "pygments_lexer": "ipython3",
   "version": "3.11.11"
  }
 },
 "nbformat": 4,
 "nbformat_minor": 2
}
