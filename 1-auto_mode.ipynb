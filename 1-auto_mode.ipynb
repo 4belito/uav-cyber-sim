{
 "cells": [
  {
   "cell_type": "markdown",
   "metadata": {},
   "source": [
    "## Simple Mission in Auto-Mode\n",
    "\n",
    "This notebook serves to check the ardupilot installation"
   ]
  },
  {
   "cell_type": "code",
   "execution_count": 1,
   "metadata": {},
   "outputs": [],
   "source": [
    "import os\n",
    "import time\n",
    "\n",
    "from config import (\n",
    "    ARDU_LOGS_PATH,\n",
    "    ARDUPILOT_VEHICLE_PATH,\n",
    "    ENV_CMD_PYT,\n",
    "    VEH_PARAMS_PATH,\n",
    "    BasePort,\n",
    ")\n",
    "from helpers import clean, create_process, setup_logging\n",
    "from mavlink.util import connect\n",
    "from plan import State\n",
    "from plan.planner import Plan\n",
    "\n",
    "clean()\n"
   ]
  },
  {
   "cell_type": "markdown",
   "metadata": {},
   "source": [
    "## Launch Copter (ardupilot)"
   ]
  },
  {
   "cell_type": "code",
   "execution_count": 2,
   "metadata": {},
   "outputs": [
    {
     "data": {
      "text/plain": [
       "<Popen: returncode: None args: ['gnome-terminal', '--title', 'ardu_vehicle',...>"
      ]
     },
     "execution_count": 2,
     "metadata": {},
     "output_type": "execute_result"
    }
   ],
   "source": [
    "#This must agree with first waypoint in mission.waypoint\n",
    "spawn_str= '-35.3633245,149.1652241,0.0,0' \n",
    "\n",
    "sim_vehicle_path = os.path.expanduser(ARDUPILOT_VEHICLE_PATH)\n",
    "vehicle_cmd = (\n",
    "    f\"python3 {sim_vehicle_path} \"\n",
    "    f\"-v ArduCopter \"\n",
    "    f\"-I0 --sysid 1 \"\n",
    "    f\"--no-rebuild \"\n",
    "    f\"--use-dir={ARDU_LOGS_PATH} \"\n",
    "    f\"--add-param-file {VEH_PARAMS_PATH} \"\n",
    "    f\"--no-mavproxy \"\n",
    "    f'--custom-location={spawn_str}'\n",
    ")\n",
    "\n",
    "\n",
    "create_process(\n",
    "                vehicle_cmd,\n",
    "                after=\"exec bash\",\n",
    "                visible= True,\n",
    "                suppress_output=False,\n",
    "                title=\"ardu_vehicle\",\n",
    "                env_cmd=ENV_CMD_PYT,\n",
    "            ) \n"
   ]
  },
  {
   "cell_type": "markdown",
   "metadata": {},
   "source": [
    "## 1. Connect to the vehicle"
   ]
  },
  {
   "cell_type": "code",
   "execution_count": 3,
   "metadata": {},
   "outputs": [
    {
     "name": "stdout",
     "output_type": "stream",
     "text": [
      "✅ Heartbeat received\n"
     ]
    }
   ],
   "source": [
    "time.sleep(1)\n",
    "conn = connect(f\"tcp:127.0.0.1: {BasePort.ARP}\")\n",
    "conn.wait_heartbeat()\n",
    "print(\"✅ Heartbeat received\")\n"
   ]
  },
  {
   "cell_type": "markdown",
   "metadata": {},
   "source": [
    "## Create auto plan from mission file\n",
    "\n",
    "The mission is loaded from \"plan/missions/simple_mission.waypoints\""
   ]
  },
  {
   "cell_type": "code",
   "execution_count": 4,
   "metadata": {},
   "outputs": [
    {
     "data": {
      "text/plain": [
       "🕓 <Plan '📋 auto'>\n",
       "  🕓 <Action '📤 UPLOAD_MISSION'>\n",
       "    🕓 <Step '🔹 clear uav missions'>\n",
       "    🕓 <Step '🔹 load mission plan/missions/simple_mission.waypoints'>\n",
       "  🕓 <Action '🔧 PREARM'>\n",
       "    🕓 <Step '🔹 Check disarmed'>\n",
       "    🕓 <Step '🔹 Check EKF status'>\n",
       "    🕓 <Step '🔹 Check GPS'>\n",
       "    🕓 <Step '🔹 Check system'>\n",
       "  🕓 <Action '⚙️  MODE: GUIDED'>\n",
       "    🕓 <Step '🔹 Switch to GUIDED'>\n",
       "  🕓 <Action '🔐 ARM'>\n",
       "    🕓 <Step '🔹 arm'>\n",
       "  🕓 <Action '🚀 START_MISSION'>\n",
       "    🕓 <Step '🔹 start_mission'>\n",
       "  🕓 <Action '👁️ MONITOR_MISSION'>\n",
       "    🕓 <Step '🔹 check item 1'>\n",
       "    🕓 <Step '🔹 check item 2'>\n",
       "    🕓 <Step '🔹 check mission completion'>"
      ]
     },
     "execution_count": 4,
     "metadata": {},
     "output_type": "execute_result"
    }
   ],
   "source": [
    "plan = Plan.auto(name='auto',\n",
    "                mission_path=\"plan/missions/simple_mission.waypoints\",\n",
    "                monitored_items=[1,2])\n",
    "plan"
   ]
  },
  {
   "cell_type": "markdown",
   "metadata": {},
   "source": [
    "# Execute Auto Plan"
   ]
  },
  {
   "cell_type": "code",
   "execution_count": 5,
   "metadata": {},
   "outputs": [
    {
     "name": "stderr",
     "output_type": "stream",
     "text": [
      "15:53:56 - plan - DEBUG - ▶️ Vehicle 1: Plan Started: 📋 auto\n",
      "15:53:56 - plan - DEBUG - ▶️ Vehicle 1: Action Started: 📤 UPLOAD_MISSION\n",
      "15:53:56 - plan - DEBUG - ▶️ Vehicle 1: Step Started: clear uav missions\n",
      "15:53:58 - plan - INFO - 🧹 Vehicle 1: Cleared previous mission\n",
      "15:53:58 - plan - DEBUG - ✅ Vehicle 1: Step Done: clear uav missions\n",
      "15:53:58 - plan - INFO - ✅ Vehicle 1: 4 waypoints read\n",
      "15:53:58 - plan - DEBUG - 🧭 Vehicle 1: Mission[0] → cmd: WAYPOINT, x: -35.3633245, y: 149.1652241, z: 0.0, current: 0\n",
      "15:53:58 - plan - DEBUG - 🧭 Vehicle 1: Mission[1] → cmd: TAKEOFF, x: -35.3633245, y: 149.1652241, z: 5.0, current: 0\n",
      "15:53:58 - plan - DEBUG - 🧭 Vehicle 1: Mission[2] → cmd: WAYPOINT, x: -35.3632795, y: 149.1652241, z: 5.0, current: 0\n",
      "15:53:58 - plan - DEBUG - 🧭 Vehicle 1: Mission[3] → cmd: LAND, x: -35.3632795, y: 149.1652241, z: 0.0, current: 0\n",
      "15:53:59 - plan - DEBUG - ✅ Vehicle 1: Sent mission item 0\n",
      "15:53:59 - plan - DEBUG - ✅ Vehicle 1: Sent mission item 1\n",
      "15:53:59 - plan - DEBUG - ✅ Vehicle 1: Sent mission item 2\n",
      "15:53:59 - plan - DEBUG - ✅ Vehicle 1: Sent mission item 3\n",
      "15:53:59 - plan - DEBUG - ▶️ Vehicle 1: Step Started: load mission plan/missions/simple_mission.waypoints\n",
      "15:53:59 - plan - INFO - ✅ Vehicle 1: Mission upload successful!\n",
      "15:53:59 - plan - DEBUG - ✅ Vehicle 1: Step Done: load mission plan/missions/simple_mission.waypoints\n",
      "15:53:59 - plan - INFO - ✅ Vehicle 1: Action Done: 📤 UPLOAD_MISSION\n",
      "15:53:59 - plan - DEBUG - ▶️ Vehicle 1: Action Started: 🔧 PREARM\n",
      "15:53:59 - plan - DEBUG - ▶️ Vehicle 1: Step Started: Check disarmed\n",
      "15:53:59 - plan - DEBUG - ✅ Vehicle 1: Step Done: Check disarmed\n",
      "15:53:59 - plan - DEBUG - Vehicle 1: 📡 Requested message EKF_STATUS_REPORT at 1.00 Hz\n",
      "15:53:59 - plan - DEBUG - ▶️ Vehicle 1: Step Started: Check EKF status\n",
      "15:54:00 - plan - DEBUG - 🛰️ Vehicle 1: Waiting for EKF to be ready... Pending: ATTITUDE, VELOCITY_HORIZ, POS_VERT_ABS, POS_HORIZ_ABS\n",
      "15:54:01 - plan - DEBUG - 🛰️ Vehicle 1: Waiting for EKF to be ready... Pending: POS_HORIZ_ABS\n",
      "15:54:02 - plan - DEBUG - 🛰️ Vehicle 1: Waiting for EKF to be ready... Pending: POS_HORIZ_ABS\n",
      "15:54:03 - plan - DEBUG - 🛰️ Vehicle 1: Waiting for EKF to be ready... Pending: POS_HORIZ_ABS\n",
      "15:54:04 - plan - DEBUG - 🛰️ Vehicle 1: Waiting for EKF to be ready... Pending: POS_HORIZ_ABS\n",
      "15:54:05 - plan - DEBUG - 🛰️ Vehicle 1: Waiting for EKF to be ready... Pending: POS_HORIZ_ABS\n",
      "15:54:06 - plan - DEBUG - 🛰️ Vehicle 1: Waiting for EKF to be ready... Pending: POS_HORIZ_ABS\n",
      "15:54:07 - plan - DEBUG - 🛰️ Vehicle 1: Waiting for EKF to be ready... Pending: POS_HORIZ_ABS\n",
      "15:54:08 - plan - DEBUG - 🛰️ Vehicle 1: Waiting for EKF to be ready... Pending: POS_HORIZ_ABS\n",
      "15:54:09 - plan - DEBUG - 🛰️ Vehicle 1: Waiting for EKF to be ready... Pending: POS_HORIZ_ABS\n",
      "15:54:10 - plan - DEBUG - 🛰️ Vehicle 1: Waiting for EKF to be ready... Pending: POS_HORIZ_ABS\n",
      "15:54:11 - plan - DEBUG - 🛰️ Vehicle 1: Waiting for EKF to be ready... Pending: POS_HORIZ_ABS\n",
      "15:54:12 - plan - DEBUG - 🛰️ Vehicle 1: Waiting for EKF to be ready... Pending: POS_HORIZ_ABS\n",
      "15:54:13 - plan - DEBUG - 🛰️ Vehicle 1: Waiting for EKF to be ready... Pending: POS_HORIZ_ABS\n",
      "15:54:14 - plan - DEBUG - 🛰️ Vehicle 1: Waiting for EKF to be ready... Pending: POS_HORIZ_ABS\n",
      "15:54:15 - plan - DEBUG - 🛰️ Vehicle 1: Waiting for EKF to be ready... Pending: POS_HORIZ_ABS\n",
      "15:54:16 - plan - DEBUG - 🛰️ Vehicle 1: Waiting for EKF to be ready... Pending: POS_HORIZ_ABS\n",
      "15:54:17 - plan - DEBUG - 🛰️ Vehicle 1: Waiting for EKF to be ready... Pending: POS_HORIZ_ABS\n",
      "15:54:18 - plan - DEBUG - 🛰️ Vehicle 1: Waiting for EKF to be ready... Pending: POS_HORIZ_ABS\n",
      "15:54:19 - plan - DEBUG - 🛰️ Vehicle 1: Waiting for EKF to be ready... Pending: POS_HORIZ_ABS\n",
      "15:54:20 - plan - DEBUG - 🛰️ Vehicle 1: Waiting for EKF to be ready... Pending: POS_HORIZ_ABS\n",
      "15:54:21 - plan - DEBUG - 🛰️ Vehicle 1: Waiting for EKF to be ready... Pending: POS_HORIZ_ABS\n",
      "15:54:22 - plan - DEBUG - 🛰️ Vehicle 1: Waiting for EKF to be ready... Pending: POS_HORIZ_ABS\n",
      "15:54:23 - plan - DEBUG - 🛰️ Vehicle 1: Waiting for EKF to be ready... Pending: POS_HORIZ_ABS\n",
      "15:54:24 - plan - DEBUG - 🛰️ Vehicle 1: Waiting for EKF to be ready... Pending: POS_HORIZ_ABS\n",
      "15:54:25 - plan - DEBUG - 🛰️ Vehicle 1: Waiting for EKF to be ready... Pending: POS_HORIZ_ABS\n",
      "15:54:26 - plan - DEBUG - 🛰️ Vehicle 1: Waiting for EKF to be ready... Pending: POS_HORIZ_ABS\n",
      "15:54:27 - plan - DEBUG - 🛰️ Vehicle 1: Waiting for EKF to be ready... Pending: POS_HORIZ_ABS\n",
      "15:54:28 - plan - DEBUG - 🛰️ Vehicle 1: Waiting for EKF to be ready... Pending: POS_HORIZ_ABS\n",
      "15:54:29 - plan - DEBUG - 🛰️ Vehicle 1: Waiting for EKF to be ready... Pending: POS_HORIZ_ABS\n",
      "15:54:30 - plan - DEBUG - 🛰️ Vehicle 1: Waiting for EKF to be ready... Pending: POS_HORIZ_ABS\n",
      "15:54:31 - plan - DEBUG - 🛰️ Vehicle 1: Waiting for EKF to be ready... Pending: POS_HORIZ_ABS\n",
      "15:54:32 - plan - DEBUG - 🛰️ Vehicle 1: Waiting for EKF to be ready... Pending: POS_HORIZ_ABS\n",
      "15:54:33 - plan - DEBUG - 🛰️ Vehicle 1: Waiting for EKF to be ready... Pending: POS_HORIZ_ABS\n",
      "15:54:34 - plan - DEBUG - 🛰️ Vehicle 1: Waiting for EKF to be ready... Pending: POS_HORIZ_ABS\n",
      "15:54:35 - plan - DEBUG - 🛰️ Vehicle 1: Waiting for EKF to be ready... Pending: POS_HORIZ_ABS\n",
      "15:54:36 - plan - DEBUG - 🛰️ Vehicle 1: Waiting for EKF to be ready... Pending: POS_HORIZ_ABS\n",
      "15:54:37 - plan - DEBUG - ✅ Vehicle 1: Step Done: Check EKF status\n",
      "15:54:37 - plan - DEBUG - Vehicle 1: 📡 Requested message GPS_RAW_INT at 1.00 Hz\n",
      "15:54:37 - plan - DEBUG - ▶️ Vehicle 1: Step Started: Check GPS\n",
      "15:54:38 - plan - DEBUG - ✅ Vehicle 1: Step Done: Check GPS\n",
      "15:54:38 - plan - DEBUG - Vehicle 1: 📡 Requested message SYS_STATUS at 1.00 Hz\n",
      "15:54:38 - plan - DEBUG - ▶️ Vehicle 1: Step Started: Check system\n",
      "15:54:40 - plan - DEBUG - ✅ Vehicle 1: Step Done: Check system\n",
      "15:54:40 - plan - INFO - ✅ Vehicle 1: Action Done: 🔧 PREARM\n",
      "15:54:40 - plan - DEBUG - ▶️ Vehicle 1: Action Started: ⚙️  MODE: GUIDED\n",
      "15:54:40 - plan - DEBUG - ▶️ Vehicle 1: Step Started: Switch to GUIDED\n",
      "15:54:40 - plan - DEBUG - ✅ Vehicle 1: Step Done: Switch to GUIDED\n",
      "15:54:40 - plan - INFO - ✅ Vehicle 1: Action Done: ⚙️  MODE: GUIDED\n",
      "15:54:40 - plan - DEBUG - ▶️ Vehicle 1: Action Started: 🔐 ARM\n",
      "15:54:40 - plan - DEBUG - ▶️ Vehicle 1: Step Started: arm\n",
      "15:54:41 - plan - DEBUG - ✅ Vehicle 1: Step Done: arm\n",
      "15:54:41 - plan - INFO - ✅ Vehicle 1: Action Done: 🔐 ARM\n",
      "15:54:41 - plan - DEBUG - ▶️ Vehicle 1: Action Started: 🚀 START_MISSION\n",
      "15:54:41 - plan - DEBUG - ▶️ Vehicle 1: Step Started: start_mission\n",
      "15:54:41 - plan - INFO - 🚀 Vehicle 1: Mission has started\n",
      "15:54:41 - plan - DEBUG - ✅ Vehicle 1: Step Done: start_mission\n",
      "15:54:41 - plan - INFO - ✅ Vehicle 1: Action Done: 🚀 START_MISSION\n",
      "15:54:41 - plan - DEBUG - ▶️ Vehicle 1: Action Started: 👁️ MONITOR_MISSION\n",
      "15:54:41 - plan - DEBUG - ▶️ Vehicle 1: Step Started: check item 1\n",
      "15:54:48 - plan - INFO - Vehicle 1: ⭐ Reached waypoint: 1\n",
      "15:54:48 - plan - DEBUG - ✅ Vehicle 1: Step Done: check item 1\n",
      "15:54:48 - plan - DEBUG - ▶️ Vehicle 1: Step Started: check item 2\n",
      "15:54:55 - plan - INFO - Vehicle 1: ⭐ Reached waypoint: 2\n",
      "15:54:55 - plan - DEBUG - ✅ Vehicle 1: Step Done: check item 2\n",
      "15:54:55 - plan - DEBUG - ▶️ Vehicle 1: Step Started: check mission completion\n",
      "15:55:07 - plan - INFO - Vehicle 1: Mission completed\n",
      "15:55:07 - plan - DEBUG - ✅ Vehicle 1: Step Done: check mission completion\n",
      "15:55:07 - plan - INFO - ✅ Vehicle 1: Action Done: 👁️ MONITOR_MISSION\n",
      "15:55:07 - plan - INFO - ✅ Vehicle 1: Plan Done: 📋 auto\n"
     ]
    }
   ],
   "source": [
    "plan.bind(conn)\n",
    "setup_logging('plan',verbose=2)\n",
    "while plan.state != State.DONE:\n",
    "    plan.act()"
   ]
  },
  {
   "cell_type": "code",
   "execution_count": 6,
   "metadata": {},
   "outputs": [
    {
     "data": {
      "text/plain": [
       "✅ <Plan '📋 auto'>\n",
       "  ✅ <Action '📤 UPLOAD_MISSION'>\n",
       "    ✅ <Step '🔹 clear uav missions'>\n",
       "    ✅ <Step '🔹 load mission plan/missions/simple_mission.waypoints'>\n",
       "  ✅ <Action '🔧 PREARM'>\n",
       "    ✅ <Step '🔹 Check disarmed'>\n",
       "    ✅ <Step '🔹 Check EKF status'>\n",
       "    ✅ <Step '🔹 Check GPS'>\n",
       "    ✅ <Step '🔹 Check system'>\n",
       "  ✅ <Action '⚙️  MODE: GUIDED'>\n",
       "    ✅ <Step '🔹 Switch to GUIDED'>\n",
       "  ✅ <Action '🔐 ARM'>\n",
       "    ✅ <Step '🔹 arm'>\n",
       "  ✅ <Action '🚀 START_MISSION'>\n",
       "    ✅ <Step '🔹 start_mission'>\n",
       "  ✅ <Action '👁️ MONITOR_MISSION'>\n",
       "    ✅ <Step '🔹 check item 1'>\n",
       "    ✅ <Step '🔹 check item 2'>\n",
       "    ✅ <Step '🔹 check mission completion'>"
      ]
     },
     "execution_count": 6,
     "metadata": {},
     "output_type": "execute_result"
    }
   ],
   "source": [
    "plan"
   ]
  },
  {
   "cell_type": "code",
   "execution_count": null,
   "metadata": {},
   "outputs": [],
   "source": []
  },
  {
   "cell_type": "code",
   "execution_count": null,
   "metadata": {},
   "outputs": [],
   "source": []
  }
 ],
 "metadata": {
  "kernelspec": {
   "display_name": "uav-cyber-sim11",
   "language": "python",
   "name": "python3"
  },
  "language_info": {
   "codemirror_mode": {
    "name": "ipython",
    "version": 3
   },
   "file_extension": ".py",
   "mimetype": "text/x-python",
   "name": "python",
   "nbconvert_exporter": "python",
   "pygments_lexer": "ipython3",
   "version": "3.11.13"
  }
 },
 "nbformat": 4,
 "nbformat_minor": 2
}
