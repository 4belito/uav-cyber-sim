{
 "cells": [
  {
   "cell_type": "markdown",
   "metadata": {},
   "source": [
    "## Uavs Collision\n",
    "\n",
    "This notebook implements a uav logic instead of a plan and decisions are done online following that logic"
   ]
  },
  {
   "cell_type": "code",
   "execution_count": 1,
   "metadata": {},
   "outputs": [],
   "source": [
    "import os\n",
    "import subprocess\n",
    "from pymavlink import mavutil\n",
    "import numpy as np\n",
    "# Custom modules\n",
    "from vehicle_logic import VehicleLogic\n",
    "from helpers.change_coordinates import heading_to_yaw,find_spawns,global2local\n",
    "from helpers.visualization.gazebo_world import update_world\n",
    "from helpers.visualization.plots import plot_3d_interactive\n",
    "from helpers.math import manhattan_distance\n",
    "from helpers.navegation_logic import find_path,find_best_waypoint\n",
    "from plans.plans import make_plan_from_wps"
   ]
  },
  {
   "cell_type": "markdown",
   "metadata": {},
   "source": [
    "## Kill all related process"
   ]
  },
  {
   "cell_type": "code",
   "execution_count": 2,
   "metadata": {},
   "outputs": [],
   "source": [
    "for process in [\"QGroundControl\", \"sim_vehicle.py\", \"arducopter\", \"gazebo\", \"mavproxy\"]:\n",
    "    os.system(f\"pkill -9 -f {process}\")"
   ]
  },
  {
   "cell_type": "markdown",
   "metadata": {},
   "source": [
    "## Paths"
   ]
  },
  {
   "cell_type": "code",
   "execution_count": 3,
   "metadata": {},
   "outputs": [],
   "source": [
    "QGC_path='~/QGroundControl.AppImage'\n",
    "gazebo_word_path=\"gazebo_worlds/attack_city.world\"\n",
    "ardupilot_vehicle_path='~/ardupilot/Tools/autotest/sim_vehicle.py'"
   ]
  },
  {
   "cell_type": "markdown",
   "metadata": {},
   "source": [
    "# Choose Simulator"
   ]
  },
  {
   "cell_type": "code",
   "execution_count": 4,
   "metadata": {},
   "outputs": [],
   "source": [
    "simulator ='QGroundControl' #'gazebo' # "
   ]
  },
  {
   "cell_type": "markdown",
   "metadata": {},
   "source": [
    "# Create Plans"
   ]
  },
  {
   "cell_type": "code",
   "execution_count": 5,
   "metadata": {},
   "outputs": [
    {
     "name": "stdout",
     "output_type": "stream",
     "text": [
      "Plan 'Waypoints Trajectory' created — no connection yet 🧩\n",
      "Action 'Pre-Arm Check' created — no connection yet 🧩\n",
      "Step 'Check disarmed' created — no connection yet 🧩\n",
      "Step 'Check EKF' created — no connection yet 🧩\n",
      "Step 'Check GPS' created — no connection yet 🧩\n",
      "Step 'Check system' created — no connection yet 🧩\n",
      "Action 'Set Navigation Speed' created — no connection yet 🧩\n",
      "Step 'Set speed to 10.00 m/s' created — no connection yet 🧩\n",
      "Action 'Set Mode: GUIDED' created — no connection yet 🧩\n",
      "Step 'Switch to GUIDED' created — no connection yet 🧩\n",
      "Action 'Arm' created — no connection yet 🧩\n",
      "Step 'arm' created — no connection yet 🧩\n",
      "Action 'Take Off' created — no connection yet 🧩\n",
      "Step 'take off' created — no connection yet 🧩\n",
      "Action 'Go local' created — no connection yet 🧩\n",
      "Step 'go to -> (0, 0, 5)' created — no connection yet 🧩\n",
      "Step 'go to -> (-25, 0, 5)' created — no connection yet 🧩\n",
      "Action 'Land' created — no connection yet 🧩\n",
      "Step 'land' created — no connection yet 🧩\n",
      "Plan 'Waypoints Trajectory' created — no connection yet 🧩\n",
      "Action 'Pre-Arm Check' created — no connection yet 🧩\n",
      "Step 'Check disarmed' created — no connection yet 🧩\n",
      "Step 'Check EKF' created — no connection yet 🧩\n",
      "Step 'Check GPS' created — no connection yet 🧩\n",
      "Step 'Check system' created — no connection yet 🧩\n",
      "Action 'Set Navigation Speed' created — no connection yet 🧩\n",
      "Step 'Set speed to 10.00 m/s' created — no connection yet 🧩\n",
      "Action 'Set Mode: GUIDED' created — no connection yet 🧩\n",
      "Step 'Switch to GUIDED' created — no connection yet 🧩\n",
      "Action 'Arm' created — no connection yet 🧩\n",
      "Step 'arm' created — no connection yet 🧩\n",
      "Action 'Take Off' created — no connection yet 🧩\n",
      "Step 'take off' created — no connection yet 🧩\n",
      "Action 'Go local' created — no connection yet 🧩\n",
      "Step 'go to -> (0, 0, 5)' created — no connection yet 🧩\n",
      "Step 'go to -> (25, 0, 5)' created — no connection yet 🧩\n",
      "Action 'Land' created — no connection yet 🧩\n",
      "Step 'land' created — no connection yet 🧩\n"
     ]
    },
    {
     "data": {
      "application/vnd.plotly.v1+json": {
       "config": {
        "plotlyServerURL": "https://plot.ly"
       },
       "data": [
        {
         "marker": {
          "color": "Green",
          "size": 6
         },
         "mode": "markers",
         "name": "waypoints",
         "type": "scatter3d",
         "x": [
          40,
          15
         ],
         "y": [
          -10,
          -10
         ],
         "z": [
          5,
          5
         ]
        }
       ],
       "layout": {
        "height": 600,
        "scene": {
         "xaxis": {
          "range": [
           10,
           45
          ],
          "title": {
           "text": "x"
          }
         },
         "yaxis": {
          "range": [
           -10,
           -10
          ],
          "title": {
           "text": "y"
          }
         },
         "zaxis": {
          "range": [
           -0.05,
           5
          ],
          "title": {
           "text": "z"
          }
         }
        },
        "template": {
         "data": {
          "bar": [
           {
            "error_x": {
             "color": "#2a3f5f"
            },
            "error_y": {
             "color": "#2a3f5f"
            },
            "marker": {
             "line": {
              "color": "#E5ECF6",
              "width": 0.5
             },
             "pattern": {
              "fillmode": "overlay",
              "size": 10,
              "solidity": 0.2
             }
            },
            "type": "bar"
           }
          ],
          "barpolar": [
           {
            "marker": {
             "line": {
              "color": "#E5ECF6",
              "width": 0.5
             },
             "pattern": {
              "fillmode": "overlay",
              "size": 10,
              "solidity": 0.2
             }
            },
            "type": "barpolar"
           }
          ],
          "carpet": [
           {
            "aaxis": {
             "endlinecolor": "#2a3f5f",
             "gridcolor": "white",
             "linecolor": "white",
             "minorgridcolor": "white",
             "startlinecolor": "#2a3f5f"
            },
            "baxis": {
             "endlinecolor": "#2a3f5f",
             "gridcolor": "white",
             "linecolor": "white",
             "minorgridcolor": "white",
             "startlinecolor": "#2a3f5f"
            },
            "type": "carpet"
           }
          ],
          "choropleth": [
           {
            "colorbar": {
             "outlinewidth": 0,
             "ticks": ""
            },
            "type": "choropleth"
           }
          ],
          "contour": [
           {
            "colorbar": {
             "outlinewidth": 0,
             "ticks": ""
            },
            "colorscale": [
             [
              0,
              "#0d0887"
             ],
             [
              0.1111111111111111,
              "#46039f"
             ],
             [
              0.2222222222222222,
              "#7201a8"
             ],
             [
              0.3333333333333333,
              "#9c179e"
             ],
             [
              0.4444444444444444,
              "#bd3786"
             ],
             [
              0.5555555555555556,
              "#d8576b"
             ],
             [
              0.6666666666666666,
              "#ed7953"
             ],
             [
              0.7777777777777778,
              "#fb9f3a"
             ],
             [
              0.8888888888888888,
              "#fdca26"
             ],
             [
              1,
              "#f0f921"
             ]
            ],
            "type": "contour"
           }
          ],
          "contourcarpet": [
           {
            "colorbar": {
             "outlinewidth": 0,
             "ticks": ""
            },
            "type": "contourcarpet"
           }
          ],
          "heatmap": [
           {
            "colorbar": {
             "outlinewidth": 0,
             "ticks": ""
            },
            "colorscale": [
             [
              0,
              "#0d0887"
             ],
             [
              0.1111111111111111,
              "#46039f"
             ],
             [
              0.2222222222222222,
              "#7201a8"
             ],
             [
              0.3333333333333333,
              "#9c179e"
             ],
             [
              0.4444444444444444,
              "#bd3786"
             ],
             [
              0.5555555555555556,
              "#d8576b"
             ],
             [
              0.6666666666666666,
              "#ed7953"
             ],
             [
              0.7777777777777778,
              "#fb9f3a"
             ],
             [
              0.8888888888888888,
              "#fdca26"
             ],
             [
              1,
              "#f0f921"
             ]
            ],
            "type": "heatmap"
           }
          ],
          "histogram": [
           {
            "marker": {
             "pattern": {
              "fillmode": "overlay",
              "size": 10,
              "solidity": 0.2
             }
            },
            "type": "histogram"
           }
          ],
          "histogram2d": [
           {
            "colorbar": {
             "outlinewidth": 0,
             "ticks": ""
            },
            "colorscale": [
             [
              0,
              "#0d0887"
             ],
             [
              0.1111111111111111,
              "#46039f"
             ],
             [
              0.2222222222222222,
              "#7201a8"
             ],
             [
              0.3333333333333333,
              "#9c179e"
             ],
             [
              0.4444444444444444,
              "#bd3786"
             ],
             [
              0.5555555555555556,
              "#d8576b"
             ],
             [
              0.6666666666666666,
              "#ed7953"
             ],
             [
              0.7777777777777778,
              "#fb9f3a"
             ],
             [
              0.8888888888888888,
              "#fdca26"
             ],
             [
              1,
              "#f0f921"
             ]
            ],
            "type": "histogram2d"
           }
          ],
          "histogram2dcontour": [
           {
            "colorbar": {
             "outlinewidth": 0,
             "ticks": ""
            },
            "colorscale": [
             [
              0,
              "#0d0887"
             ],
             [
              0.1111111111111111,
              "#46039f"
             ],
             [
              0.2222222222222222,
              "#7201a8"
             ],
             [
              0.3333333333333333,
              "#9c179e"
             ],
             [
              0.4444444444444444,
              "#bd3786"
             ],
             [
              0.5555555555555556,
              "#d8576b"
             ],
             [
              0.6666666666666666,
              "#ed7953"
             ],
             [
              0.7777777777777778,
              "#fb9f3a"
             ],
             [
              0.8888888888888888,
              "#fdca26"
             ],
             [
              1,
              "#f0f921"
             ]
            ],
            "type": "histogram2dcontour"
           }
          ],
          "mesh3d": [
           {
            "colorbar": {
             "outlinewidth": 0,
             "ticks": ""
            },
            "type": "mesh3d"
           }
          ],
          "parcoords": [
           {
            "line": {
             "colorbar": {
              "outlinewidth": 0,
              "ticks": ""
             }
            },
            "type": "parcoords"
           }
          ],
          "pie": [
           {
            "automargin": true,
            "type": "pie"
           }
          ],
          "scatter": [
           {
            "fillpattern": {
             "fillmode": "overlay",
             "size": 10,
             "solidity": 0.2
            },
            "type": "scatter"
           }
          ],
          "scatter3d": [
           {
            "line": {
             "colorbar": {
              "outlinewidth": 0,
              "ticks": ""
             }
            },
            "marker": {
             "colorbar": {
              "outlinewidth": 0,
              "ticks": ""
             }
            },
            "type": "scatter3d"
           }
          ],
          "scattercarpet": [
           {
            "marker": {
             "colorbar": {
              "outlinewidth": 0,
              "ticks": ""
             }
            },
            "type": "scattercarpet"
           }
          ],
          "scattergeo": [
           {
            "marker": {
             "colorbar": {
              "outlinewidth": 0,
              "ticks": ""
             }
            },
            "type": "scattergeo"
           }
          ],
          "scattergl": [
           {
            "marker": {
             "colorbar": {
              "outlinewidth": 0,
              "ticks": ""
             }
            },
            "type": "scattergl"
           }
          ],
          "scattermap": [
           {
            "marker": {
             "colorbar": {
              "outlinewidth": 0,
              "ticks": ""
             }
            },
            "type": "scattermap"
           }
          ],
          "scattermapbox": [
           {
            "marker": {
             "colorbar": {
              "outlinewidth": 0,
              "ticks": ""
             }
            },
            "type": "scattermapbox"
           }
          ],
          "scatterpolar": [
           {
            "marker": {
             "colorbar": {
              "outlinewidth": 0,
              "ticks": ""
             }
            },
            "type": "scatterpolar"
           }
          ],
          "scatterpolargl": [
           {
            "marker": {
             "colorbar": {
              "outlinewidth": 0,
              "ticks": ""
             }
            },
            "type": "scatterpolargl"
           }
          ],
          "scatterternary": [
           {
            "marker": {
             "colorbar": {
              "outlinewidth": 0,
              "ticks": ""
             }
            },
            "type": "scatterternary"
           }
          ],
          "surface": [
           {
            "colorbar": {
             "outlinewidth": 0,
             "ticks": ""
            },
            "colorscale": [
             [
              0,
              "#0d0887"
             ],
             [
              0.1111111111111111,
              "#46039f"
             ],
             [
              0.2222222222222222,
              "#7201a8"
             ],
             [
              0.3333333333333333,
              "#9c179e"
             ],
             [
              0.4444444444444444,
              "#bd3786"
             ],
             [
              0.5555555555555556,
              "#d8576b"
             ],
             [
              0.6666666666666666,
              "#ed7953"
             ],
             [
              0.7777777777777778,
              "#fb9f3a"
             ],
             [
              0.8888888888888888,
              "#fdca26"
             ],
             [
              1,
              "#f0f921"
             ]
            ],
            "type": "surface"
           }
          ],
          "table": [
           {
            "cells": {
             "fill": {
              "color": "#EBF0F8"
             },
             "line": {
              "color": "white"
             }
            },
            "header": {
             "fill": {
              "color": "#C8D4E3"
             },
             "line": {
              "color": "white"
             }
            },
            "type": "table"
           }
          ]
         },
         "layout": {
          "annotationdefaults": {
           "arrowcolor": "#2a3f5f",
           "arrowhead": 0,
           "arrowwidth": 1
          },
          "autotypenumbers": "strict",
          "coloraxis": {
           "colorbar": {
            "outlinewidth": 0,
            "ticks": ""
           }
          },
          "colorscale": {
           "diverging": [
            [
             0,
             "#8e0152"
            ],
            [
             0.1,
             "#c51b7d"
            ],
            [
             0.2,
             "#de77ae"
            ],
            [
             0.3,
             "#f1b6da"
            ],
            [
             0.4,
             "#fde0ef"
            ],
            [
             0.5,
             "#f7f7f7"
            ],
            [
             0.6,
             "#e6f5d0"
            ],
            [
             0.7,
             "#b8e186"
            ],
            [
             0.8,
             "#7fbc41"
            ],
            [
             0.9,
             "#4d9221"
            ],
            [
             1,
             "#276419"
            ]
           ],
           "sequential": [
            [
             0,
             "#0d0887"
            ],
            [
             0.1111111111111111,
             "#46039f"
            ],
            [
             0.2222222222222222,
             "#7201a8"
            ],
            [
             0.3333333333333333,
             "#9c179e"
            ],
            [
             0.4444444444444444,
             "#bd3786"
            ],
            [
             0.5555555555555556,
             "#d8576b"
            ],
            [
             0.6666666666666666,
             "#ed7953"
            ],
            [
             0.7777777777777778,
             "#fb9f3a"
            ],
            [
             0.8888888888888888,
             "#fdca26"
            ],
            [
             1,
             "#f0f921"
            ]
           ],
           "sequentialminus": [
            [
             0,
             "#0d0887"
            ],
            [
             0.1111111111111111,
             "#46039f"
            ],
            [
             0.2222222222222222,
             "#7201a8"
            ],
            [
             0.3333333333333333,
             "#9c179e"
            ],
            [
             0.4444444444444444,
             "#bd3786"
            ],
            [
             0.5555555555555556,
             "#d8576b"
            ],
            [
             0.6666666666666666,
             "#ed7953"
            ],
            [
             0.7777777777777778,
             "#fb9f3a"
            ],
            [
             0.8888888888888888,
             "#fdca26"
            ],
            [
             1,
             "#f0f921"
            ]
           ]
          },
          "colorway": [
           "#636efa",
           "#EF553B",
           "#00cc96",
           "#ab63fa",
           "#FFA15A",
           "#19d3f3",
           "#FF6692",
           "#B6E880",
           "#FF97FF",
           "#FECB52"
          ],
          "font": {
           "color": "#2a3f5f"
          },
          "geo": {
           "bgcolor": "white",
           "lakecolor": "white",
           "landcolor": "#E5ECF6",
           "showlakes": true,
           "showland": true,
           "subunitcolor": "white"
          },
          "hoverlabel": {
           "align": "left"
          },
          "hovermode": "closest",
          "mapbox": {
           "style": "light"
          },
          "paper_bgcolor": "white",
          "plot_bgcolor": "#E5ECF6",
          "polar": {
           "angularaxis": {
            "gridcolor": "white",
            "linecolor": "white",
            "ticks": ""
           },
           "bgcolor": "#E5ECF6",
           "radialaxis": {
            "gridcolor": "white",
            "linecolor": "white",
            "ticks": ""
           }
          },
          "scene": {
           "xaxis": {
            "backgroundcolor": "#E5ECF6",
            "gridcolor": "white",
            "gridwidth": 2,
            "linecolor": "white",
            "showbackground": true,
            "ticks": "",
            "zerolinecolor": "white"
           },
           "yaxis": {
            "backgroundcolor": "#E5ECF6",
            "gridcolor": "white",
            "gridwidth": 2,
            "linecolor": "white",
            "showbackground": true,
            "ticks": "",
            "zerolinecolor": "white"
           },
           "zaxis": {
            "backgroundcolor": "#E5ECF6",
            "gridcolor": "white",
            "gridwidth": 2,
            "linecolor": "white",
            "showbackground": true,
            "ticks": "",
            "zerolinecolor": "white"
           }
          },
          "shapedefaults": {
           "line": {
            "color": "#2a3f5f"
           }
          },
          "ternary": {
           "aaxis": {
            "gridcolor": "white",
            "linecolor": "white",
            "ticks": ""
           },
           "baxis": {
            "gridcolor": "white",
            "linecolor": "white",
            "ticks": ""
           },
           "bgcolor": "#E5ECF6",
           "caxis": {
            "gridcolor": "white",
            "linecolor": "white",
            "ticks": ""
           }
          },
          "title": {
           "x": 0.05
          },
          "xaxis": {
           "automargin": true,
           "gridcolor": "white",
           "linecolor": "white",
           "ticks": "",
           "title": {
            "standoff": 15
           },
           "zerolinecolor": "white",
           "zerolinewidth": 2
          },
          "yaxis": {
           "automargin": true,
           "gridcolor": "white",
           "linecolor": "white",
           "ticks": "",
           "title": {
            "standoff": 15
           },
           "zerolinecolor": "white",
           "zerolinewidth": 2
          }
         }
        },
        "title": {
         "text": "Simulation Markers",
         "x": 0.5,
         "xanchor": "center"
        },
        "width": 800
       }
      }
     },
     "metadata": {},
     "output_type": "display_data"
    }
   ],
   "source": [
    "offsets = [(40, -10, 0, 0),(15, -10, 0, 0)]#\n",
    "n_uavs = len(offsets)\n",
    "\n",
    "\n",
    "homes=np.array([offset[:3] for offset in offsets])\n",
    "\n",
    "global_paths=[np.array([[40, -10, 5],[15, -10, 5]]),np.array([[15, -10, 5],[40, -10, 5]])]\n",
    "local_paths=[global2local(path, home,pairwise=True) for path,home in zip(global_paths,homes)]\n",
    "plans=[make_plan_from_wps(wps=path,alt=5,wp_margin=0.5,navegation_speed=10) for path in local_paths]\n",
    "markers = {f'waypoints': {'pos':global_paths[0],'color':'Green'}}\n",
    "\n",
    "\n",
    "plot_3d_interactive(markers,title='Simulation Markers',expand=[0.2,0.2,0.6],ground=-0.05)\n",
    "\n",
    "\n",
    "\n",
    "if simulator == 'QGroundControl':\n",
    "    home_position=(-35.3633245,149.1652241,0,0)\n",
    "    spawns=find_spawns(home_position, offsets)"
   ]
  },
  {
   "cell_type": "markdown",
   "metadata": {},
   "source": [
    "## Waypoint seletion algorithm"
   ]
  },
  {
   "cell_type": "code",
   "execution_count": 6,
   "metadata": {},
   "outputs": [],
   "source": [
    "if simulator == 'QGroundControl':\n",
    "    sim_path = os.path.expanduser(QGC_path)\n",
    "    sim_cmd =[sim_path]\n",
    "elif simulator == 'gazebo':\n",
    "    # Convert to Gazebo format (name, x, y, z, roll, pitch, yaw)\n",
    "    drones = [(east, north, up, 0, 0, heading_to_yaw(heading)) for i, (east, north, up, heading) in enumerate(offsets)]\n",
    "    world_path = os.path.expanduser(gazebo_word_path)\n",
    "    updated_world_path = update_world(drones,markers,world_path)\n",
    "    sim_cmd = [\"gazebo\", \"--verbose\", updated_world_path] \n",
    "\n",
    "simulator_process = subprocess.Popen(\n",
    "                    sim_cmd,\n",
    "                    stdout=subprocess.DEVNULL,  # Suppress standard output\n",
    "                    stderr=subprocess.DEVNULL,  # Suppress error output\n",
    "                    shell=False  # Ensure safety when passing arguments\n",
    "                    )"
   ]
  },
  {
   "cell_type": "markdown",
   "metadata": {},
   "source": [
    "# Launch Vehicle"
   ]
  },
  {
   "cell_type": "code",
   "execution_count": 7,
   "metadata": {},
   "outputs": [],
   "source": [
    "vehicle_path = os.path.expanduser(ardupilot_vehicle_path)"
   ]
  },
  {
   "cell_type": "code",
   "execution_count": 8,
   "metadata": {},
   "outputs": [],
   "source": [
    "for i in range(n_uavs):\n",
    "    vehicle_cmd = f\"python3 {vehicle_path} -v ArduCopter -I{i} --sysid {i+1} --no-rebuild\"\n",
    "    if simulator == 'QGroundControl':\n",
    "        spawn=','.join(map(str, spawns[i]))\n",
    "        vehicle_cmd += f\" --custom-location={spawn}\"\n",
    "    elif simulator == 'gazebo':\n",
    "        vehicle_cmd += \" -f gazebo-iris\"\n",
    "    subprocess.Popen([\"gnome-terminal\", \"--\", \"bash\", \"-c\", f\"{vehicle_cmd}; exec bash\"])"
   ]
  },
  {
   "cell_type": "markdown",
   "metadata": {},
   "source": [
    "## Create Plan"
   ]
  },
  {
   "cell_type": "code",
   "execution_count": 9,
   "metadata": {},
   "outputs": [
    {
     "name": "stdout",
     "output_type": "stream",
     "text": [
      "vehicle 1 created\n",
      "vehicle 2 created\n"
     ]
    }
   ],
   "source": [
    "uavs=[]\n",
    "for i,(plan,home) in enumerate(zip(plans,homes)):\n",
    "    uavs.append(VehicleLogic(sys_id=i+1,\n",
    "                    home=home,\n",
    "                    plan= plan))"
   ]
  },
  {
   "cell_type": "markdown",
   "metadata": {},
   "source": [
    "## Execute Plan"
   ]
  },
  {
   "cell_type": "code",
   "execution_count": 10,
   "metadata": {},
   "outputs": [
    {
     "name": "stdout",
     "output_type": "stream",
     "text": [
      "Action 'Pre-Arm Check' is now connected ✅🔗\n",
      "▶️ Starting Action: Pre-Arm Check\n",
      "Action 'Pre-Arm Check' is now connected ✅🔗\n",
      "▶️ Starting Action: Pre-Arm Check\n",
      "Step 'Check disarmed' is now connected ✅🔗\n",
      "▶️ Starting Step: Check disarmed\n",
      "Step 'Check disarmed' is now connected ✅🔗\n",
      "▶️ Starting Step: Check disarmed\n",
      "✅ Step: Check disarmed is done\n",
      "✅ Step: Check disarmed is done\n",
      "Step 'Check EKF' is now connected ✅🔗\n",
      "▶️ Starting Step: Check EKF\n",
      "Step 'Check EKF' is now connected ✅🔗\n",
      "▶️ Starting Step: Check EKF\n",
      "EKF is not ready — missing: ATTITUDE, VELOCITY_HORIZ, POS_HORIZ_ABS, POS_VERT_ABS\n",
      "EKF is not ready — missing: ATTITUDE, VELOCITY_HORIZ, POS_HORIZ_ABS, POS_VERT_ABS\n",
      "EKF is not ready — missing: ATTITUDE, VELOCITY_HORIZ, POS_HORIZ_ABS, POS_VERT_ABS\n",
      "EKF is not ready — missing: ATTITUDE, VELOCITY_HORIZ, POS_HORIZ_ABS, POS_VERT_ABS\n",
      "EKF is not ready — missing: ATTITUDE, VELOCITY_HORIZ, POS_HORIZ_ABS, POS_VERT_ABS\n",
      "EKF is not ready — missing: ATTITUDE, VELOCITY_HORIZ, POS_HORIZ_ABS, POS_VERT_ABS\n",
      "EKF is not ready — missing: POS_HORIZ_ABS\n",
      "EKF is not ready — missing: POS_HORIZ_ABS\n",
      "EKF is not ready — missing: POS_HORIZ_ABS\n",
      "EKF is not ready — missing: POS_HORIZ_ABS\n",
      "EKF is not ready — missing: POS_HORIZ_ABS\n",
      "EKF is not ready — missing: POS_HORIZ_ABS\n",
      "EKF is not ready — missing: POS_HORIZ_ABS\n",
      "EKF is not ready — missing: POS_HORIZ_ABS\n",
      "EKF is not ready — missing: POS_HORIZ_ABS\n",
      "EKF is not ready — missing: POS_HORIZ_ABS\n",
      "EKF is not ready — missing: POS_HORIZ_ABS\n",
      "EKF is not ready — missing: POS_HORIZ_ABS\n",
      "EKF is not ready — missing: POS_HORIZ_ABS\n",
      "EKF is not ready — missing: POS_HORIZ_ABS\n",
      "EKF is not ready — missing: POS_HORIZ_ABS\n",
      "EKF is not ready — missing: POS_HORIZ_ABS\n",
      "EKF is not ready — missing: POS_HORIZ_ABS\n",
      "EKF is not ready — missing: POS_HORIZ_ABS\n",
      "EKF is not ready — missing: POS_HORIZ_ABS\n",
      "EKF is not ready — missing: POS_HORIZ_ABS\n",
      "EKF is not ready — missing: POS_HORIZ_ABS\n",
      "EKF is not ready — missing: POS_HORIZ_ABS\n",
      "EKF is not ready — missing: POS_HORIZ_ABS\n",
      "EKF is not ready — missing: POS_HORIZ_ABS\n",
      "EKF is not ready — missing: POS_HORIZ_ABS\n",
      "EKF is not ready — missing: POS_HORIZ_ABS\n",
      "EKF is not ready — missing: POS_HORIZ_ABS\n",
      "EKF is not ready — missing: POS_HORIZ_ABS\n",
      "EKF is not ready — missing: POS_HORIZ_ABS\n",
      "EKF is not ready — missing: POS_HORIZ_ABS\n",
      "EKF is not ready — missing: POS_HORIZ_ABS\n",
      "EKF is not ready — missing: POS_HORIZ_ABS\n",
      "EKF is not ready — missing: POS_HORIZ_ABS\n",
      "EKF is not ready — missing: POS_HORIZ_ABS\n",
      "EKF is not ready — missing: POS_HORIZ_ABS\n",
      "EKF is not ready — missing: POS_HORIZ_ABS\n",
      "EKF is not ready — missing: POS_HORIZ_ABS\n",
      "EKF is not ready — missing: POS_HORIZ_ABS\n",
      "EKF is not ready — missing: POS_HORIZ_ABS\n",
      "EKF is not ready — missing: POS_HORIZ_ABS\n",
      "EKF is not ready — missing: POS_HORIZ_ABS\n",
      "EKF is not ready — missing: POS_HORIZ_ABS\n",
      "EKF is not ready — missing: POS_HORIZ_ABS\n",
      "EKF is not ready — missing: POS_HORIZ_ABS\n",
      "EKF is not ready — missing: POS_HORIZ_ABS\n",
      "EKF is not ready — missing: POS_HORIZ_ABS\n",
      "EKF is not ready — missing: POS_HORIZ_ABS\n",
      "EKF is not ready — missing: POS_HORIZ_ABS\n",
      "EKF is not ready — missing: POS_HORIZ_ABS\n",
      "EKF is not ready — missing: POS_HORIZ_ABS\n",
      "EKF is not ready — missing: POS_HORIZ_ABS\n",
      "EKF is not ready — missing: POS_HORIZ_ABS\n",
      "EKF is not ready — missing: POS_HORIZ_ABS\n",
      "EKF is not ready — missing: POS_HORIZ_ABS\n",
      "EKF is not ready — missing: POS_HORIZ_ABS\n",
      "EKF is not ready — missing: POS_HORIZ_ABS\n",
      "EKF is not ready — missing: POS_HORIZ_ABS\n",
      "EKF is not ready — missing: POS_HORIZ_ABS\n",
      "EKF is not ready — missing: POS_HORIZ_ABS\n",
      "EKF is not ready — missing: POS_HORIZ_ABS\n",
      "EKF is not ready — missing: POS_HORIZ_ABS\n",
      "EKF is not ready — missing: POS_HORIZ_ABS\n",
      "EKF is not ready — missing: POS_HORIZ_ABS\n",
      "EKF is not ready — missing: POS_HORIZ_ABS\n",
      "EKF is not ready — missing: POS_HORIZ_ABS\n",
      "EKF is not ready — missing: POS_HORIZ_ABS\n",
      "EKF is not ready — missing: POS_HORIZ_ABS\n",
      "EKF is not ready — missing: POS_HORIZ_ABS\n",
      "EKF is not ready — missing: POS_HORIZ_ABS\n",
      "EKF is not ready — missing: POS_HORIZ_ABS\n",
      "EKF is not ready — missing: POS_HORIZ_ABS\n",
      "EKF is not ready — missing: POS_HORIZ_ABS\n",
      "EKF is not ready — missing: POS_HORIZ_ABS\n",
      "EKF is not ready — missing: POS_HORIZ_ABS\n",
      "EKF is not ready — missing: POS_HORIZ_ABS\n",
      "EKF is not ready — missing: POS_HORIZ_ABS\n",
      "EKF is not ready — missing: POS_HORIZ_ABS\n",
      "EKF is not ready — missing: POS_HORIZ_ABS\n",
      "EKF is not ready — missing: POS_HORIZ_ABS\n",
      "EKF is not ready — missing: POS_HORIZ_ABS\n",
      "EKF is not ready — missing: POS_HORIZ_ABS\n",
      "EKF is not ready — missing: POS_HORIZ_ABS\n",
      "EKF is not ready — missing: POS_HORIZ_ABS\n",
      "EKF is not ready — missing: POS_HORIZ_ABS\n",
      "EKF is not ready — missing: POS_HORIZ_ABS\n",
      "EKF is not ready — missing: POS_HORIZ_ABS\n",
      "EKF is not ready — missing: POS_HORIZ_ABS\n",
      "EKF is not ready — missing: POS_HORIZ_ABS\n",
      "EKF is not ready — missing: POS_HORIZ_ABS\n",
      "EKF is not ready — missing: POS_HORIZ_ABS\n",
      "EKF is not ready — missing: POS_HORIZ_ABS\n",
      "EKF is not ready — missing: POS_HORIZ_ABS\n",
      "EKF is not ready — missing: POS_HORIZ_ABS\n",
      "EKF is not ready — missing: POS_HORIZ_ABS\n",
      "EKF is not ready — missing: POS_HORIZ_ABS\n",
      "EKF is not ready — missing: POS_HORIZ_ABS\n",
      "EKF is not ready — missing: POS_HORIZ_ABS\n",
      "EKF is not ready — missing: POS_HORIZ_ABS\n",
      "EKF is not ready — missing: POS_HORIZ_ABS\n",
      "EKF is not ready — missing: POS_HORIZ_ABS\n",
      "EKF is not ready — missing: POS_HORIZ_ABS\n",
      "EKF is not ready — missing: POS_HORIZ_ABS\n",
      "EKF is not ready — missing: POS_HORIZ_ABS\n",
      "EKF is not ready — missing: POS_HORIZ_ABS\n",
      "EKF is not ready — missing: POS_HORIZ_ABS\n",
      "EKF is not ready — missing: POS_HORIZ_ABS\n",
      "EKF is not ready — missing: POS_HORIZ_ABS\n",
      "EKF is not ready — missing: POS_HORIZ_ABS\n",
      "EKF is not ready — missing: POS_HORIZ_ABS\n",
      "EKF is not ready — missing: POS_HORIZ_ABS\n",
      "EKF is not ready — missing: POS_HORIZ_ABS\n",
      "EKF is not ready — missing: POS_HORIZ_ABS\n",
      "EKF is not ready — missing: POS_HORIZ_ABS\n",
      "EKF is not ready — missing: POS_HORIZ_ABS\n",
      "EKF is not ready — missing: POS_HORIZ_ABS\n",
      "EKF is not ready — missing: POS_HORIZ_ABS\n",
      "EKF is not ready — missing: POS_HORIZ_ABS\n",
      "EKF is not ready — missing: POS_HORIZ_ABS\n",
      "EKF is not ready — missing: POS_HORIZ_ABS\n",
      "EKF is not ready — missing: POS_HORIZ_ABS\n",
      "EKF is not ready — missing: POS_HORIZ_ABS\n",
      "EKF is not ready — missing: POS_HORIZ_ABS\n",
      "EKF is not ready — missing: POS_HORIZ_ABS\n",
      "EKF is not ready — missing: POS_HORIZ_ABS\n",
      "EKF is not ready — missing: POS_HORIZ_ABS\n",
      "EKF is not ready — missing: POS_HORIZ_ABS\n",
      "EKF is not ready — missing: POS_HORIZ_ABS\n",
      "EKF is not ready — missing: POS_HORIZ_ABS\n",
      "EKF is not ready — missing: POS_HORIZ_ABS\n",
      "EKF is not ready — missing: POS_HORIZ_ABS\n",
      "EKF is not ready — missing: POS_HORIZ_ABS\n",
      "EKF is not ready — missing: POS_HORIZ_ABS\n",
      "EKF is not ready — missing: POS_HORIZ_ABS\n",
      "EKF is not ready — missing: POS_HORIZ_ABS\n",
      "EKF is not ready — missing: POS_HORIZ_ABS\n",
      "EKF is not ready — missing: POS_HORIZ_ABS\n",
      "EKF is not ready — missing: POS_HORIZ_ABS\n",
      "EKF is not ready — missing: POS_HORIZ_ABS\n",
      "EKF is not ready — missing: POS_HORIZ_ABS\n",
      "EKF is not ready — missing: POS_HORIZ_ABS\n",
      "EKF is not ready — missing: POS_HORIZ_ABS\n",
      "EKF is not ready — missing: POS_HORIZ_ABS\n",
      "EKF is not ready — missing: POS_HORIZ_ABS\n",
      "EKF is not ready — missing: POS_HORIZ_ABS\n",
      "EKF is not ready — missing: POS_HORIZ_ABS\n",
      "EKF is not ready — missing: POS_HORIZ_ABS\n",
      "EKF is not ready — missing: POS_HORIZ_ABS\n",
      "EKF is not ready — missing: POS_HORIZ_ABS\n",
      "EKF is not ready — missing: POS_HORIZ_ABS\n",
      "EKF is not ready — missing: POS_HORIZ_ABS\n",
      "EKF is not ready — missing: POS_HORIZ_ABS\n",
      "EKF is not ready — missing: POS_HORIZ_ABS\n",
      "EKF is not ready — missing: POS_HORIZ_ABS\n",
      "EKF is not ready — missing: POS_HORIZ_ABS\n",
      "EKF is not ready — missing: POS_HORIZ_ABS\n",
      "EKF is not ready — missing: POS_HORIZ_ABS\n",
      "EKF is not ready — missing: POS_HORIZ_ABS\n",
      "EKF is not ready — missing: POS_HORIZ_ABS\n",
      "EKF is not ready — missing: POS_HORIZ_ABS\n",
      "EKF is not ready — missing: POS_HORIZ_ABS\n",
      "EKF is not ready — missing: POS_HORIZ_ABS\n",
      "EKF is not ready — missing: POS_HORIZ_ABS\n",
      "EKF is not ready — missing: POS_HORIZ_ABS\n",
      "EKF is not ready — missing: POS_HORIZ_ABS\n",
      "EKF is not ready — missing: POS_HORIZ_ABS\n",
      "EKF is not ready — missing: POS_HORIZ_ABS\n",
      "EKF is not ready — missing: POS_HORIZ_ABS\n",
      "EKF is not ready — missing: POS_HORIZ_ABS\n",
      "EKF is not ready — missing: POS_HORIZ_ABS\n",
      "EKF is not ready — missing: POS_HORIZ_ABS\n",
      "EKF is not ready — missing: POS_HORIZ_ABS\n",
      "EKF is not ready — missing: POS_HORIZ_ABS\n",
      "EKF is not ready — missing: POS_HORIZ_ABS\n",
      "EKF is not ready — missing: POS_HORIZ_ABS\n",
      "EKF is not ready — missing: POS_HORIZ_ABS\n",
      "EKF is not ready — missing: POS_HORIZ_ABS\n",
      "EKF is not ready — missing: POS_HORIZ_ABS\n",
      "EKF is not ready — missing: POS_HORIZ_ABS\n",
      "EKF is not ready — missing: POS_HORIZ_ABS\n",
      "EKF is not ready — missing: POS_HORIZ_ABS\n",
      "EKF is not ready — missing: POS_HORIZ_ABS\n",
      "EKF is not ready — missing: POS_HORIZ_ABS\n",
      "EKF is not ready — missing: POS_HORIZ_ABS\n",
      "EKF is not ready — missing: POS_HORIZ_ABS\n",
      "EKF is not ready — missing: POS_HORIZ_ABS\n",
      "EKF is not ready — missing: POS_HORIZ_ABS\n",
      "EKF is not ready — missing: POS_HORIZ_ABS\n",
      "EKF is not ready — missing: POS_HORIZ_ABS\n",
      "EKF is not ready — missing: POS_HORIZ_ABS\n",
      "EKF is not ready — missing: POS_HORIZ_ABS\n",
      "EKF is not ready — missing: POS_HORIZ_ABS\n",
      "EKF is not ready — missing: POS_HORIZ_ABS\n",
      "EKF is not ready — missing: POS_HORIZ_ABS\n",
      "EKF is not ready — missing: POS_HORIZ_ABS\n",
      "EKF is not ready — missing: POS_HORIZ_ABS\n",
      "EKF is not ready — missing: POS_HORIZ_ABS\n",
      "EKF is not ready — missing: POS_HORIZ_ABS\n",
      "EKF is not ready — missing: POS_HORIZ_ABS\n",
      "EKF is not ready — missing: POS_HORIZ_ABS\n",
      "EKF is not ready — missing: POS_HORIZ_ABS\n",
      "EKF is not ready — missing: POS_HORIZ_ABS\n",
      "EKF is not ready — missing: POS_HORIZ_ABS\n",
      "EKF is not ready — missing: POS_HORIZ_ABS\n",
      "EKF is not ready — missing: POS_HORIZ_ABS\n",
      "EKF is not ready — missing: POS_HORIZ_ABS\n",
      "EKF is not ready — missing: POS_HORIZ_ABS\n",
      "EKF is not ready — missing: POS_HORIZ_ABS\n",
      "EKF is not ready — missing: POS_HORIZ_ABS\n",
      "EKF is not ready — missing: POS_HORIZ_ABS\n",
      "EKF is not ready — missing: POS_HORIZ_ABS\n",
      "EKF is not ready — missing: POS_HORIZ_ABS\n",
      "EKF is not ready — missing: POS_HORIZ_ABS\n",
      "EKF is not ready — missing: POS_HORIZ_ABS\n",
      "EKF is not ready — missing: POS_HORIZ_ABS\n",
      "EKF is not ready — missing: POS_HORIZ_ABS\n",
      "EKF is not ready — missing: POS_HORIZ_ABS\n",
      "✅ Step: Check EKF is done\n",
      "Step 'Check GPS' is now connected ✅🔗\n",
      "▶️ Starting Step: Check GPS\n",
      "✅ Step: Check EKF is done\n",
      "Step 'Check GPS' is now connected ✅🔗\n",
      "▶️ Starting Step: Check GPS\n",
      "✅ Step: Check GPS is done\n",
      "Step 'Check system' is now connected ✅🔗\n",
      "▶️ Starting Step: Check system\n",
      "✅ Step: Check GPS is done\n",
      "Step 'Check system' is now connected ✅🔗\n",
      "▶️ Starting Step: Check system\n",
      "✅ Step: Check system is done\n",
      "✅ Action: Pre-Arm Check is done\n",
      "Action 'Set Navigation Speed' is now connected ✅🔗\n",
      "▶️ Starting Action: Set Navigation Speed\n",
      "Step 'Set speed to 10.00 m/s' is now connected ✅🔗\n",
      "📤 Sending WPNAV_SPEED = 1000 cm/s (10.00 m/s)\n",
      "▶️ Starting Step: Set speed to 10.00 m/s\n",
      "✅ Parameter 'WPNAV_SPEED' confirmed at 1000 cm/s (10.00 m/s)\n",
      "✅ Step: Set speed to 10.00 m/s is done\n",
      "✅ Action: Set Navigation Speed is done\n",
      "Action 'Set Mode: GUIDED' is now connected ✅🔗\n",
      "▶️ Starting Action: Set Mode: GUIDED\n",
      "Step 'Switch to GUIDED' is now connected ✅🔗\n",
      "▶️ Starting Step: Switch to GUIDED\n",
      "✅ Step: Check system is done\n",
      "✅ Action: Pre-Arm Check is done\n",
      "Action 'Set Navigation Speed' is now connected ✅🔗\n",
      "▶️ Starting Action: Set Navigation Speed\n",
      "Step 'Set speed to 10.00 m/s' is now connected ✅🔗\n",
      "📤 Sending WPNAV_SPEED = 1000 cm/s (10.00 m/s)\n",
      "▶️ Starting Step: Set speed to 10.00 m/s\n",
      "✅ Step: Switch to GUIDED is done\n",
      "✅ Action: Set Mode: GUIDED is done\n",
      "Action 'Arm' is now connected ✅🔗\n",
      "▶️ Starting Action: Arm\n",
      "Step 'arm' is now connected ✅🔗\n",
      "🛰️ Sending ARM command...\n",
      "▶️ Starting Step: arm\n",
      "✅ Parameter 'WPNAV_SPEED' confirmed at 1000 cm/s (10.00 m/s)\n",
      "✅ Step: Set speed to 10.00 m/s is done\n",
      "✅ Action: Set Navigation Speed is done\n",
      "Action 'Set Mode: GUIDED' is now connected ✅🔗\n",
      "▶️ Starting Action: Set Mode: GUIDED\n",
      "Step 'Switch to GUIDED' is now connected ✅🔗\n",
      "▶️ Starting Step: Switch to GUIDED\n",
      "✅ Step: Switch to GUIDED is done\n",
      "✅ Action: Set Mode: GUIDED is done\n",
      "Action 'Arm' is now connected ✅🔗\n",
      "▶️ Starting Action: Arm\n",
      "Step 'arm' is now connected ✅🔗\n",
      "🛰️ Sending ARM command...\n",
      "▶️ Starting Step: arm\n",
      "✅ Step: arm is done\n",
      "✅ Action: Arm is done\n",
      "Action 'Take Off' is now connected ✅🔗\n",
      "▶️ Starting Action: Take Off\n",
      "Step 'take off' is now connected ✅🔗\n",
      "▶️ Starting Step: take off\n",
      "✅ Step: arm is done\n",
      "✅ Action: Arm is done\n",
      "Action 'Take Off' is now connected ✅🔗\n",
      "▶️ Starting Action: Take Off\n",
      "Step 'take off' is now connected ✅🔗\n",
      "▶️ Starting Step: take off\n",
      "📍 Distance to target: 5.02 m\n",
      "📍 Distance to target: 5.02 m\n",
      "📍 Distance to target: 5.02 m\n",
      "📍 Distance to target: 5.02 m\n",
      "📍 Distance to target: 5.02 m\n",
      "📍 Distance to target: 5.02 m\n",
      "📍 Distance to target: 5.02 m\n",
      "📍 Distance to target: 5.02 m\n",
      "📍 Distance to target: 5.02 m\n",
      "📍 Distance to target: 5.02 m\n",
      "📍 Distance to target: 5.02 m\n",
      "📍 Distance to target: 5.02 m\n",
      "📍 Distance to target: 5.02 m\n",
      "📍 Distance to target: 5.02 m\n",
      "📍 Distance to target: 5.01 m\n",
      "📍 Distance to target: 5.01 m\n",
      "📍 Distance to target: 4.97 m\n",
      "📍 Distance to target: 4.96 m\n",
      "📍 Distance to target: 4.90 m\n",
      "📍 Distance to target: 4.88 m\n",
      "📍 Distance to target: 4.68 m\n",
      "📍 Distance to target: 4.62 m\n",
      "📍 Distance to target: 4.39 m\n",
      "📍 Distance to target: 4.33 m\n",
      "📍 Distance to target: 4.09 m\n",
      "📍 Distance to target: 4.02 m\n",
      "📍 Distance to target: 3.73 m\n",
      "📍 Distance to target: 3.64 m\n",
      "📍 Distance to target: 3.30 m\n",
      "📍 Distance to target: 3.20 m\n",
      "📍 Distance to target: 2.85 m\n",
      "📍 Distance to target: 2.74 m\n",
      "📍 Distance to target: 2.40 m\n",
      "📍 Distance to target: 2.30 m\n",
      "📍 Distance to target: 1.98 m\n",
      "📍 Distance to target: 1.89 m\n",
      "📍 Distance to target: 1.60 m\n",
      "📍 Distance to target: 1.52 m\n",
      "📍 Distance to target: 1.26 m\n",
      "📍 Distance to target: 1.19 m\n",
      "📍 Distance to target: 0.97 m\n",
      "📍 Distance to target: 0.91 m\n",
      "📍 Distance to target: 0.72 m\n",
      "📍 Distance to target: 0.66 m\n",
      "📍 Distance to target: 0.50 m\n",
      "📍 Distance to target: 0.45 m\n",
      "✅ Step: take off is done\n",
      "✅ Action: Take Off is done\n",
      "Action 'Go local' is now connected ✅🔗\n",
      "▶️ Starting Action: Go local\n",
      "Step 'go to -> (0, 0, 5)' is now connected ✅🔗\n",
      "▶️ Starting Step: go to -> (0, 0, 5)\n",
      "📍 Distance to target: 0.32 m\n",
      "✅ Step: take off is done\n",
      "✅ Action: Take Off is done\n",
      "Action 'Go local' is now connected ✅🔗\n",
      "▶️ Starting Action: Go local\n",
      "Step 'go to -> (0, 0, 5)' is now connected ✅🔗\n",
      "▶️ Starting Step: go to -> (0, 0, 5)\n",
      "📍 Distance to target: 0.28 m\n",
      "✅ Step: go to -> (0, 0, 5) is done\n",
      "Step 'go to -> (-25, 0, 5)' is now connected ✅🔗\n",
      "▶️ Starting Step: go to -> (-25, 0, 5)\n",
      "📍 Distance to target: 0.18 m\n",
      "✅ Step: go to -> (0, 0, 5) is done\n",
      "Step 'go to -> (25, 0, 5)' is now connected ✅🔗\n",
      "▶️ Starting Step: go to -> (25, 0, 5)\n",
      "📍 Distance to target: 25.01 m\n",
      "📍 Distance to target: 24.98 m\n",
      "📍 Distance to target: 24.96 m\n",
      "📍 Distance to target: 24.94 m\n",
      "📍 Distance to target: 24.79 m\n",
      "📍 Distance to target: 24.76 m\n",
      "📍 Distance to target: 24.45 m\n",
      "📍 Distance to target: 24.42 m\n",
      "📍 Distance to target: 23.96 m\n",
      "📍 Distance to target: 23.93 m\n",
      "📍 Distance to target: 23.30 m\n",
      "📍 Distance to target: 23.28 m\n",
      "📍 Distance to target: 22.48 m\n",
      "📍 Distance to target: 22.47 m\n",
      "📍 Distance to target: 21.52 m\n",
      "📍 Distance to target: 21.51 m\n",
      "📍 Distance to target: 20.40 m\n",
      "📍 Distance to target: 20.40 m\n",
      "📍 Distance to target: 19.14 m\n",
      "📍 Distance to target: 19.15 m\n",
      "📍 Distance to target: 17.73 m\n",
      "📍 Distance to target: 17.75 m\n",
      "📍 Distance to target: 16.23 m\n",
      "📍 Distance to target: 16.26 m\n",
      "📍 Distance to target: 14.70 m\n",
      "📍 Distance to target: 14.76 m\n",
      "📍 Distance to target: 13.21 m\n",
      "📍 Distance to target: 13.27 m\n",
      "📍 Distance to target: 11.76 m\n",
      "📍 Distance to target: 11.83 m\n",
      "📍 Distance to target: 10.37 m\n",
      "📍 Distance to target: 10.42 m\n",
      "📍 Distance to target: 9.04 m\n",
      "📍 Distance to target: 9.07 m\n",
      "📍 Distance to target: 7.77 m\n",
      "📍 Distance to target: 7.78 m\n",
      "📍 Distance to target: 6.57 m\n",
      "📍 Distance to target: 6.56 m\n",
      "📍 Distance to target: 5.44 m\n",
      "📍 Distance to target: 5.40 m\n",
      "📍 Distance to target: 4.39 m\n",
      "📍 Distance to target: 4.33 m\n",
      "📍 Distance to target: 3.42 m\n",
      "📍 Distance to target: 3.35 m\n",
      "📍 Distance to target: 2.55 m\n",
      "📍 Distance to target: 2.47 m\n",
      "📍 Distance to target: 1.77 m\n",
      "📍 Distance to target: 1.69 m\n",
      "📍 Distance to target: 1.10 m\n",
      "📍 Distance to target: 1.01 m\n",
      "📍 Distance to target: 0.55 m\n",
      "📍 Distance to target: 0.45 m\n",
      "✅ Step: go to -> (25, 0, 5) is done\n",
      "✅ Action: Go local is done\n",
      "Action 'Land' is now connected ✅🔗\n",
      "▶️ Starting Action: Land\n",
      "Step 'land' is now connected ✅🔗\n",
      "▶️ Starting Step: land\n",
      "📍 Distance to target: 0.12 m\n",
      "✅ Step: go to -> (-25, 0, 5) is done\n",
      "✅ Action: Go local is done\n",
      "Action 'Land' is now connected ✅🔗\n",
      "▶️ Starting Action: Land\n",
      "Step 'land' is now connected ✅🔗\n",
      "▶️ Starting Step: land\n",
      "✅ Step: land is done\n",
      "✅ Action: Land is done\n",
      "✅ Step: land is done\n",
      "✅ Action: Land is done\n"
     ]
    }
   ],
   "source": [
    "mission_incomplete = n_uavs*[True]\n",
    "while any(mission_incomplete):\n",
    "    for i,uav in enumerate(uavs):\n",
    "        mission_incomplete[i] = not uav.act_plan()"
   ]
  },
  {
   "cell_type": "markdown",
   "metadata": {},
   "source": [
    "## Kill all related process"
   ]
  },
  {
   "cell_type": "code",
   "execution_count": 11,
   "metadata": {},
   "outputs": [],
   "source": [
    "# for process in [\"QGroundControl\", \"sim_vehicle.py\", \"arducopter\", \"gazebo\", \"mavproxy\"]:\n",
    "#     os.system(f\"pkill -9 -f {process}\")"
   ]
  }
 ],
 "metadata": {
  "kernelspec": {
   "display_name": "Python 3",
   "language": "python",
   "name": "python3"
  },
  "language_info": {
   "codemirror_mode": {
    "name": "ipython",
    "version": 3
   },
   "file_extension": ".py",
   "mimetype": "text/x-python",
   "name": "python",
   "nbconvert_exporter": "python",
   "pygments_lexer": "ipython3",
   "version": "3.9.21"
  }
 },
 "nbformat": 4,
 "nbformat_minor": 2
}
