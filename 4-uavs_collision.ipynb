{
 "cells": [
  {
   "cell_type": "markdown",
   "metadata": {},
   "source": [
    "## Uavs Collision\n",
    "\n",
    "This notebook implements a uav logic instead of a plan and decisions are done online following that logic"
   ]
  },
  {
   "cell_type": "code",
   "execution_count": 1,
   "metadata": {},
   "outputs": [],
   "source": [
    "import os\n",
    "import subprocess\n",
    "import numpy as np\n",
    "\n",
    "# Custom modules\n",
    "from vehicle_logic import VehicleLogic\n",
    "from helpers.change_coordinates import heading_to_yaw,find_spawns,global2local\n",
    "from helpers.visualization.gazebo_world import update_world\n",
    "from helpers.visualization.plots import plot_3d_interactive\n",
    "from plan import Plan"
   ]
  },
  {
   "cell_type": "markdown",
   "metadata": {},
   "source": [
    "Kill all related process"
   ]
  },
  {
   "cell_type": "code",
   "execution_count": 2,
   "metadata": {},
   "outputs": [],
   "source": [
    "for process in [\"QGroundControl\", \"sim_vehicle.py\", \"arducopter\", \"gazebo\", \"mavproxy\"]:\n",
    "    os.system(f\"pkill -9 -f {process}\")"
   ]
  },
  {
   "cell_type": "markdown",
   "metadata": {},
   "source": [
    "Paths"
   ]
  },
  {
   "cell_type": "code",
   "execution_count": 3,
   "metadata": {},
   "outputs": [],
   "source": [
    "QGC_path='~/QGroundControl.AppImage'\n",
    "gazebo_word_path=\"gazebo_worlds/runway.world\"\n",
    "ardupilot_vehicle_path='~/ardupilot/Tools/autotest/sim_vehicle.py'"
   ]
  },
  {
   "cell_type": "markdown",
   "metadata": {},
   "source": [
    "## Choose Simulator"
   ]
  },
  {
   "cell_type": "code",
   "execution_count": 4,
   "metadata": {},
   "outputs": [],
   "source": [
    "simulator ='gazebo' # 'QGroundControl' #"
   ]
  },
  {
   "cell_type": "markdown",
   "metadata": {},
   "source": [
    "## Create Plans"
   ]
  },
  {
   "cell_type": "code",
   "execution_count": 5,
   "metadata": {},
   "outputs": [
    {
     "name": "stdout",
     "output_type": "stream",
     "text": [
      "Plan 'basic plan' created — no connection yet 🧩\n",
      "Action 'Pre-Arm Check' created — no connection yet 🧩\n",
      "Step 'Check disarmed' created — no connection yet 🧩\n",
      "Step 'Check EKF' created — no connection yet 🧩\n",
      "Step 'Check GPS' created — no connection yet 🧩\n",
      "Step 'Check system' created — no connection yet 🧩\n",
      "Action 'Set Navigation Speed' created — no connection yet 🧩\n",
      "Step 'Set speed to 10.00 m/s' created — no connection yet 🧩\n",
      "Action 'Set Mode: GUIDED' created — no connection yet 🧩\n",
      "Step 'Switch to GUIDED' created — no connection yet 🧩\n",
      "Action 'Arm' created — no connection yet 🧩\n",
      "Step 'arm' created — no connection yet 🧩\n",
      "Action 'Take Off' created — no connection yet 🧩\n",
      "Step 'take off' created — no connection yet 🧩\n",
      "Action 'fly' created — no connection yet 🧩\n",
      "Step 'go to -> (0, 0, 5)' created — no connection yet 🧩\n",
      "Step 'go to -> (40, 0, 5)' created — no connection yet 🧩\n",
      "Action 'Land' created — no connection yet 🧩\n",
      "Step 'land' created — no connection yet 🧩\n",
      "Plan 'basic plan' created — no connection yet 🧩\n",
      "Action 'Pre-Arm Check' created — no connection yet 🧩\n",
      "Step 'Check disarmed' created — no connection yet 🧩\n",
      "Step 'Check EKF' created — no connection yet 🧩\n",
      "Step 'Check GPS' created — no connection yet 🧩\n",
      "Step 'Check system' created — no connection yet 🧩\n",
      "Action 'Set Navigation Speed' created — no connection yet 🧩\n",
      "Step 'Set speed to 10.00 m/s' created — no connection yet 🧩\n",
      "Action 'Set Mode: GUIDED' created — no connection yet 🧩\n",
      "Step 'Switch to GUIDED' created — no connection yet 🧩\n",
      "Action 'Arm' created — no connection yet 🧩\n",
      "Step 'arm' created — no connection yet 🧩\n",
      "Action 'Take Off' created — no connection yet 🧩\n",
      "Step 'take off' created — no connection yet 🧩\n",
      "Action 'fly' created — no connection yet 🧩\n",
      "Step 'go to -> (0, 0, 5)' created — no connection yet 🧩\n",
      "Step 'go to -> (-40, 0, 5)' created — no connection yet 🧩\n",
      "Action 'Land' created — no connection yet 🧩\n",
      "Step 'land' created — no connection yet 🧩\n"
     ]
    },
    {
     "data": {
      "application/vnd.plotly.v1+json": {
       "config": {
        "plotlyServerURL": "https://plot.ly"
       },
       "data": [
        {
         "marker": {
          "color": "Green",
          "size": 6
         },
         "mode": "markers",
         "name": "waypoints",
         "type": "scatter3d",
         "x": [
          -20,
          20
         ],
         "y": [
          0,
          0
         ],
         "z": [
          5,
          5
         ]
        }
       ],
       "layout": {
        "height": 600,
        "scene": {
         "xaxis": {
          "range": [
           -28,
           28
          ],
          "title": {
           "text": "x"
          }
         },
         "yaxis": {
          "range": [
           0,
           0
          ],
          "title": {
           "text": "y"
          }
         },
         "zaxis": {
          "range": [
           -0.05,
           5
          ],
          "title": {
           "text": "z"
          }
         }
        },
        "template": {
         "data": {
          "bar": [
           {
            "error_x": {
             "color": "#2a3f5f"
            },
            "error_y": {
             "color": "#2a3f5f"
            },
            "marker": {
             "line": {
              "color": "#E5ECF6",
              "width": 0.5
             },
             "pattern": {
              "fillmode": "overlay",
              "size": 10,
              "solidity": 0.2
             }
            },
            "type": "bar"
           }
          ],
          "barpolar": [
           {
            "marker": {
             "line": {
              "color": "#E5ECF6",
              "width": 0.5
             },
             "pattern": {
              "fillmode": "overlay",
              "size": 10,
              "solidity": 0.2
             }
            },
            "type": "barpolar"
           }
          ],
          "carpet": [
           {
            "aaxis": {
             "endlinecolor": "#2a3f5f",
             "gridcolor": "white",
             "linecolor": "white",
             "minorgridcolor": "white",
             "startlinecolor": "#2a3f5f"
            },
            "baxis": {
             "endlinecolor": "#2a3f5f",
             "gridcolor": "white",
             "linecolor": "white",
             "minorgridcolor": "white",
             "startlinecolor": "#2a3f5f"
            },
            "type": "carpet"
           }
          ],
          "choropleth": [
           {
            "colorbar": {
             "outlinewidth": 0,
             "ticks": ""
            },
            "type": "choropleth"
           }
          ],
          "contour": [
           {
            "colorbar": {
             "outlinewidth": 0,
             "ticks": ""
            },
            "colorscale": [
             [
              0,
              "#0d0887"
             ],
             [
              0.1111111111111111,
              "#46039f"
             ],
             [
              0.2222222222222222,
              "#7201a8"
             ],
             [
              0.3333333333333333,
              "#9c179e"
             ],
             [
              0.4444444444444444,
              "#bd3786"
             ],
             [
              0.5555555555555556,
              "#d8576b"
             ],
             [
              0.6666666666666666,
              "#ed7953"
             ],
             [
              0.7777777777777778,
              "#fb9f3a"
             ],
             [
              0.8888888888888888,
              "#fdca26"
             ],
             [
              1,
              "#f0f921"
             ]
            ],
            "type": "contour"
           }
          ],
          "contourcarpet": [
           {
            "colorbar": {
             "outlinewidth": 0,
             "ticks": ""
            },
            "type": "contourcarpet"
           }
          ],
          "heatmap": [
           {
            "colorbar": {
             "outlinewidth": 0,
             "ticks": ""
            },
            "colorscale": [
             [
              0,
              "#0d0887"
             ],
             [
              0.1111111111111111,
              "#46039f"
             ],
             [
              0.2222222222222222,
              "#7201a8"
             ],
             [
              0.3333333333333333,
              "#9c179e"
             ],
             [
              0.4444444444444444,
              "#bd3786"
             ],
             [
              0.5555555555555556,
              "#d8576b"
             ],
             [
              0.6666666666666666,
              "#ed7953"
             ],
             [
              0.7777777777777778,
              "#fb9f3a"
             ],
             [
              0.8888888888888888,
              "#fdca26"
             ],
             [
              1,
              "#f0f921"
             ]
            ],
            "type": "heatmap"
           }
          ],
          "histogram": [
           {
            "marker": {
             "pattern": {
              "fillmode": "overlay",
              "size": 10,
              "solidity": 0.2
             }
            },
            "type": "histogram"
           }
          ],
          "histogram2d": [
           {
            "colorbar": {
             "outlinewidth": 0,
             "ticks": ""
            },
            "colorscale": [
             [
              0,
              "#0d0887"
             ],
             [
              0.1111111111111111,
              "#46039f"
             ],
             [
              0.2222222222222222,
              "#7201a8"
             ],
             [
              0.3333333333333333,
              "#9c179e"
             ],
             [
              0.4444444444444444,
              "#bd3786"
             ],
             [
              0.5555555555555556,
              "#d8576b"
             ],
             [
              0.6666666666666666,
              "#ed7953"
             ],
             [
              0.7777777777777778,
              "#fb9f3a"
             ],
             [
              0.8888888888888888,
              "#fdca26"
             ],
             [
              1,
              "#f0f921"
             ]
            ],
            "type": "histogram2d"
           }
          ],
          "histogram2dcontour": [
           {
            "colorbar": {
             "outlinewidth": 0,
             "ticks": ""
            },
            "colorscale": [
             [
              0,
              "#0d0887"
             ],
             [
              0.1111111111111111,
              "#46039f"
             ],
             [
              0.2222222222222222,
              "#7201a8"
             ],
             [
              0.3333333333333333,
              "#9c179e"
             ],
             [
              0.4444444444444444,
              "#bd3786"
             ],
             [
              0.5555555555555556,
              "#d8576b"
             ],
             [
              0.6666666666666666,
              "#ed7953"
             ],
             [
              0.7777777777777778,
              "#fb9f3a"
             ],
             [
              0.8888888888888888,
              "#fdca26"
             ],
             [
              1,
              "#f0f921"
             ]
            ],
            "type": "histogram2dcontour"
           }
          ],
          "mesh3d": [
           {
            "colorbar": {
             "outlinewidth": 0,
             "ticks": ""
            },
            "type": "mesh3d"
           }
          ],
          "parcoords": [
           {
            "line": {
             "colorbar": {
              "outlinewidth": 0,
              "ticks": ""
             }
            },
            "type": "parcoords"
           }
          ],
          "pie": [
           {
            "automargin": true,
            "type": "pie"
           }
          ],
          "scatter": [
           {
            "fillpattern": {
             "fillmode": "overlay",
             "size": 10,
             "solidity": 0.2
            },
            "type": "scatter"
           }
          ],
          "scatter3d": [
           {
            "line": {
             "colorbar": {
              "outlinewidth": 0,
              "ticks": ""
             }
            },
            "marker": {
             "colorbar": {
              "outlinewidth": 0,
              "ticks": ""
             }
            },
            "type": "scatter3d"
           }
          ],
          "scattercarpet": [
           {
            "marker": {
             "colorbar": {
              "outlinewidth": 0,
              "ticks": ""
             }
            },
            "type": "scattercarpet"
           }
          ],
          "scattergeo": [
           {
            "marker": {
             "colorbar": {
              "outlinewidth": 0,
              "ticks": ""
             }
            },
            "type": "scattergeo"
           }
          ],
          "scattergl": [
           {
            "marker": {
             "colorbar": {
              "outlinewidth": 0,
              "ticks": ""
             }
            },
            "type": "scattergl"
           }
          ],
          "scattermap": [
           {
            "marker": {
             "colorbar": {
              "outlinewidth": 0,
              "ticks": ""
             }
            },
            "type": "scattermap"
           }
          ],
          "scattermapbox": [
           {
            "marker": {
             "colorbar": {
              "outlinewidth": 0,
              "ticks": ""
             }
            },
            "type": "scattermapbox"
           }
          ],
          "scatterpolar": [
           {
            "marker": {
             "colorbar": {
              "outlinewidth": 0,
              "ticks": ""
             }
            },
            "type": "scatterpolar"
           }
          ],
          "scatterpolargl": [
           {
            "marker": {
             "colorbar": {
              "outlinewidth": 0,
              "ticks": ""
             }
            },
            "type": "scatterpolargl"
           }
          ],
          "scatterternary": [
           {
            "marker": {
             "colorbar": {
              "outlinewidth": 0,
              "ticks": ""
             }
            },
            "type": "scatterternary"
           }
          ],
          "surface": [
           {
            "colorbar": {
             "outlinewidth": 0,
             "ticks": ""
            },
            "colorscale": [
             [
              0,
              "#0d0887"
             ],
             [
              0.1111111111111111,
              "#46039f"
             ],
             [
              0.2222222222222222,
              "#7201a8"
             ],
             [
              0.3333333333333333,
              "#9c179e"
             ],
             [
              0.4444444444444444,
              "#bd3786"
             ],
             [
              0.5555555555555556,
              "#d8576b"
             ],
             [
              0.6666666666666666,
              "#ed7953"
             ],
             [
              0.7777777777777778,
              "#fb9f3a"
             ],
             [
              0.8888888888888888,
              "#fdca26"
             ],
             [
              1,
              "#f0f921"
             ]
            ],
            "type": "surface"
           }
          ],
          "table": [
           {
            "cells": {
             "fill": {
              "color": "#EBF0F8"
             },
             "line": {
              "color": "white"
             }
            },
            "header": {
             "fill": {
              "color": "#C8D4E3"
             },
             "line": {
              "color": "white"
             }
            },
            "type": "table"
           }
          ]
         },
         "layout": {
          "annotationdefaults": {
           "arrowcolor": "#2a3f5f",
           "arrowhead": 0,
           "arrowwidth": 1
          },
          "autotypenumbers": "strict",
          "coloraxis": {
           "colorbar": {
            "outlinewidth": 0,
            "ticks": ""
           }
          },
          "colorscale": {
           "diverging": [
            [
             0,
             "#8e0152"
            ],
            [
             0.1,
             "#c51b7d"
            ],
            [
             0.2,
             "#de77ae"
            ],
            [
             0.3,
             "#f1b6da"
            ],
            [
             0.4,
             "#fde0ef"
            ],
            [
             0.5,
             "#f7f7f7"
            ],
            [
             0.6,
             "#e6f5d0"
            ],
            [
             0.7,
             "#b8e186"
            ],
            [
             0.8,
             "#7fbc41"
            ],
            [
             0.9,
             "#4d9221"
            ],
            [
             1,
             "#276419"
            ]
           ],
           "sequential": [
            [
             0,
             "#0d0887"
            ],
            [
             0.1111111111111111,
             "#46039f"
            ],
            [
             0.2222222222222222,
             "#7201a8"
            ],
            [
             0.3333333333333333,
             "#9c179e"
            ],
            [
             0.4444444444444444,
             "#bd3786"
            ],
            [
             0.5555555555555556,
             "#d8576b"
            ],
            [
             0.6666666666666666,
             "#ed7953"
            ],
            [
             0.7777777777777778,
             "#fb9f3a"
            ],
            [
             0.8888888888888888,
             "#fdca26"
            ],
            [
             1,
             "#f0f921"
            ]
           ],
           "sequentialminus": [
            [
             0,
             "#0d0887"
            ],
            [
             0.1111111111111111,
             "#46039f"
            ],
            [
             0.2222222222222222,
             "#7201a8"
            ],
            [
             0.3333333333333333,
             "#9c179e"
            ],
            [
             0.4444444444444444,
             "#bd3786"
            ],
            [
             0.5555555555555556,
             "#d8576b"
            ],
            [
             0.6666666666666666,
             "#ed7953"
            ],
            [
             0.7777777777777778,
             "#fb9f3a"
            ],
            [
             0.8888888888888888,
             "#fdca26"
            ],
            [
             1,
             "#f0f921"
            ]
           ]
          },
          "colorway": [
           "#636efa",
           "#EF553B",
           "#00cc96",
           "#ab63fa",
           "#FFA15A",
           "#19d3f3",
           "#FF6692",
           "#B6E880",
           "#FF97FF",
           "#FECB52"
          ],
          "font": {
           "color": "#2a3f5f"
          },
          "geo": {
           "bgcolor": "white",
           "lakecolor": "white",
           "landcolor": "#E5ECF6",
           "showlakes": true,
           "showland": true,
           "subunitcolor": "white"
          },
          "hoverlabel": {
           "align": "left"
          },
          "hovermode": "closest",
          "mapbox": {
           "style": "light"
          },
          "paper_bgcolor": "white",
          "plot_bgcolor": "#E5ECF6",
          "polar": {
           "angularaxis": {
            "gridcolor": "white",
            "linecolor": "white",
            "ticks": ""
           },
           "bgcolor": "#E5ECF6",
           "radialaxis": {
            "gridcolor": "white",
            "linecolor": "white",
            "ticks": ""
           }
          },
          "scene": {
           "xaxis": {
            "backgroundcolor": "#E5ECF6",
            "gridcolor": "white",
            "gridwidth": 2,
            "linecolor": "white",
            "showbackground": true,
            "ticks": "",
            "zerolinecolor": "white"
           },
           "yaxis": {
            "backgroundcolor": "#E5ECF6",
            "gridcolor": "white",
            "gridwidth": 2,
            "linecolor": "white",
            "showbackground": true,
            "ticks": "",
            "zerolinecolor": "white"
           },
           "zaxis": {
            "backgroundcolor": "#E5ECF6",
            "gridcolor": "white",
            "gridwidth": 2,
            "linecolor": "white",
            "showbackground": true,
            "ticks": "",
            "zerolinecolor": "white"
           }
          },
          "shapedefaults": {
           "line": {
            "color": "#2a3f5f"
           }
          },
          "ternary": {
           "aaxis": {
            "gridcolor": "white",
            "linecolor": "white",
            "ticks": ""
           },
           "baxis": {
            "gridcolor": "white",
            "linecolor": "white",
            "ticks": ""
           },
           "bgcolor": "#E5ECF6",
           "caxis": {
            "gridcolor": "white",
            "linecolor": "white",
            "ticks": ""
           }
          },
          "title": {
           "x": 0.05
          },
          "xaxis": {
           "automargin": true,
           "gridcolor": "white",
           "linecolor": "white",
           "ticks": "",
           "title": {
            "standoff": 15
           },
           "zerolinecolor": "white",
           "zerolinewidth": 2
          },
          "yaxis": {
           "automargin": true,
           "gridcolor": "white",
           "linecolor": "white",
           "ticks": "",
           "title": {
            "standoff": 15
           },
           "zerolinecolor": "white",
           "zerolinewidth": 2
          }
         }
        },
        "title": {
         "text": "Simulation Markers",
         "x": 0.5,
         "xanchor": "center"
        },
        "width": 800
       }
      }
     },
     "metadata": {},
     "output_type": "display_data"
    }
   ],
   "source": [
    "offsets = [(-20, 0, 0, 0),(20, 0, 0, 0)]#\n",
    "n_uavs = len(offsets)\n",
    "\n",
    "\n",
    "homes=np.array([offset[:3] for offset in offsets])\n",
    "\n",
    "global_paths=[np.array([[-20, 0, 5],[20, 0, 5]]),\n",
    "              np.array([[20, 0, 5],[-20, 0, 5]])]\n",
    "local_paths=[global2local(path, home,pairwise=True) for path,home in zip(global_paths,homes)]\n",
    "plans=[Plan.basic(wps=path,alt=5,wp_margin=0.5,navegation_speed=10) for path in local_paths]\n",
    "markers = {f'waypoints': {'pos':global_paths[0],'color':'Green'}}\n",
    "\n",
    "\n",
    "plot_3d_interactive(markers,title='Simulation Markers',expand=[0.2,0.2,0.6],ground=-0.05)\n",
    "\n",
    "\n",
    "\n",
    "if simulator == 'QGroundControl':\n",
    "    home_position=(-35.3633245,149.1652241,0,0)\n",
    "    spawns=find_spawns(home_position, offsets)"
   ]
  },
  {
   "cell_type": "markdown",
   "metadata": {},
   "source": [
    "## Waypoint seletion algorithm"
   ]
  },
  {
   "cell_type": "code",
   "execution_count": 6,
   "metadata": {},
   "outputs": [],
   "source": [
    "if simulator == 'QGroundControl':\n",
    "    sim_path = os.path.expanduser(QGC_path)\n",
    "    sim_cmd =[sim_path]\n",
    "elif simulator == 'gazebo':\n",
    "    # Convert to Gazebo format (name, x, y, z, roll, pitch, yaw)\n",
    "    drones = [(east, north, up, 0, 0, heading_to_yaw(heading)) for i, (east, north, up, heading) in enumerate(offsets)]\n",
    "    world_path = os.path.expanduser(gazebo_word_path)\n",
    "    updated_world_path = update_world(drones,markers,world_path)\n",
    "    sim_cmd = [\"gazebo\", \"--verbose\", updated_world_path] \n",
    "\n",
    "simulator_process = subprocess.Popen(\n",
    "                    sim_cmd,\n",
    "                    stdout=subprocess.DEVNULL,  # Suppress standard output\n",
    "                    stderr=subprocess.DEVNULL,  # Suppress error output\n",
    "                    shell=False  # Ensure safety when passing arguments\n",
    "                    )"
   ]
  },
  {
   "cell_type": "markdown",
   "metadata": {},
   "source": [
    "# Launch Vehicle"
   ]
  },
  {
   "cell_type": "code",
   "execution_count": 7,
   "metadata": {},
   "outputs": [],
   "source": [
    "vehicle_path = os.path.expanduser(ardupilot_vehicle_path)"
   ]
  },
  {
   "cell_type": "code",
   "execution_count": 8,
   "metadata": {},
   "outputs": [],
   "source": [
    "for i in range(n_uavs):\n",
    "    vehicle_cmd = f\"python3 {vehicle_path} -v ArduCopter -I{i} --sysid {i+1} --no-rebuild\"\n",
    "    if simulator == 'QGroundControl':\n",
    "        spawn=','.join(map(str, spawns[i]))\n",
    "        vehicle_cmd += f\" --custom-location={spawn}\"\n",
    "    elif simulator == 'gazebo':\n",
    "        vehicle_cmd += \" -f gazebo-iris\"\n",
    "    subprocess.Popen([\"gnome-terminal\", \"--\", \"bash\", \"-c\", f\"{vehicle_cmd}; exec bash\"])"
   ]
  },
  {
   "cell_type": "markdown",
   "metadata": {},
   "source": [
    "## Create Plan"
   ]
  },
  {
   "cell_type": "code",
   "execution_count": 9,
   "metadata": {},
   "outputs": [
    {
     "name": "stdout",
     "output_type": "stream",
     "text": [
      "vehicle 1 created\n",
      "vehicle 2 created\n"
     ]
    }
   ],
   "source": [
    "uavs=[]\n",
    "for i,(plan,home) in enumerate(zip(plans,homes)):\n",
    "    uavs.append(VehicleLogic(sys_id=i+1,\n",
    "                    home=home,\n",
    "                    plan= plan))"
   ]
  },
  {
   "cell_type": "markdown",
   "metadata": {},
   "source": [
    "## Execute Plan"
   ]
  },
  {
   "cell_type": "code",
   "execution_count": 10,
   "metadata": {},
   "outputs": [
    {
     "name": "stdout",
     "output_type": "stream",
     "text": [
      "Vehicle 1: Action 'Pre-Arm Check' is now connected ✅🔗\n",
      "Vehicle 1: ▶️ Starting Action: Pre-Arm Check\n",
      "Vehicle 2: Action 'Pre-Arm Check' is now connected ✅🔗\n",
      "Vehicle 2: ▶️ Starting Action: Pre-Arm Check\n",
      "Vehicle 1: Step 'Check disarmed' is now connected ✅🔗\n",
      "Vehicle 1: ▶️ Starting Step: Check disarmed\n",
      "Vehicle 2: Step 'Check disarmed' is now connected ✅🔗\n",
      "Vehicle 2: ▶️ Starting Step: Check disarmed\n",
      "Vehicle 1: ✅ Step: Check disarmed is done\n",
      "Vehicle 1: Step 'Check EKF' is now connected ✅🔗\n",
      "Vehicle 1: ▶️ Starting Step: Check EKF\n",
      "Vehicle 2: ✅ Step: Check disarmed is done\n",
      "Vehicle 2: Step 'Check EKF' is now connected ✅🔗\n",
      "Vehicle 2: ▶️ Starting Step: Check EKF\n",
      "Vehicle 2: EKF is not ready — missing: POS_HORIZ_ABS\n",
      "Vehicle 1: EKF is not ready — missing: POS_HORIZ_ABS\n",
      "Vehicle 2: EKF is not ready — missing: POS_HORIZ_ABS\n",
      "Vehicle 1: EKF is not ready — missing: POS_HORIZ_ABS\n",
      "Vehicle 2: EKF is not ready — missing: POS_HORIZ_ABS\n",
      "Vehicle 1: EKF is not ready — missing: POS_HORIZ_ABS\n",
      "Vehicle 2: EKF is not ready — missing: POS_HORIZ_ABS\n",
      "Vehicle 1: EKF is not ready — missing: POS_HORIZ_ABS\n",
      "Vehicle 2: EKF is not ready — missing: POS_HORIZ_ABS\n",
      "Vehicle 1: EKF is not ready — missing: POS_HORIZ_ABS\n",
      "Vehicle 2: EKF is not ready — missing: POS_HORIZ_ABS\n",
      "Vehicle 1: EKF is not ready — missing: POS_HORIZ_ABS\n",
      "Vehicle 2: EKF is not ready — missing: POS_HORIZ_ABS\n",
      "Vehicle 1: EKF is not ready — missing: POS_HORIZ_ABS\n",
      "Vehicle 2: EKF is not ready — missing: POS_HORIZ_ABS\n",
      "Vehicle 1: EKF is not ready — missing: POS_HORIZ_ABS\n",
      "Vehicle 2: EKF is not ready — missing: POS_HORIZ_ABS\n",
      "Vehicle 1: EKF is not ready — missing: POS_HORIZ_ABS\n",
      "Vehicle 2: EKF is not ready — missing: POS_HORIZ_ABS\n",
      "Vehicle 1: EKF is not ready — missing: POS_HORIZ_ABS\n",
      "Vehicle 2: EKF is not ready — missing: POS_HORIZ_ABS\n",
      "Vehicle 1: EKF is not ready — missing: POS_HORIZ_ABS\n",
      "Vehicle 2: EKF is not ready — missing: POS_HORIZ_ABS\n",
      "Vehicle 1: EKF is not ready — missing: POS_HORIZ_ABS\n",
      "Vehicle 2: EKF is not ready — missing: POS_HORIZ_ABS\n",
      "Vehicle 1: EKF is not ready — missing: POS_HORIZ_ABS\n",
      "Vehicle 2: EKF is not ready — missing: POS_HORIZ_ABS\n",
      "Vehicle 1: EKF is not ready — missing: POS_HORIZ_ABS\n",
      "Vehicle 2: EKF is not ready — missing: POS_HORIZ_ABS\n",
      "Vehicle 1: EKF is not ready — missing: POS_HORIZ_ABS\n",
      "Vehicle 2: EKF is not ready — missing: POS_HORIZ_ABS\n",
      "Vehicle 1: EKF is not ready — missing: POS_HORIZ_ABS\n",
      "Vehicle 2: EKF is not ready — missing: POS_HORIZ_ABS\n",
      "Vehicle 1: EKF is not ready — missing: POS_HORIZ_ABS\n",
      "Vehicle 2: EKF is not ready — missing: POS_HORIZ_ABS\n",
      "Vehicle 1: EKF is not ready — missing: POS_HORIZ_ABS\n",
      "Vehicle 2: EKF is not ready — missing: POS_HORIZ_ABS\n",
      "Vehicle 1: EKF is not ready — missing: POS_HORIZ_ABS\n",
      "Vehicle 2: EKF is not ready — missing: POS_HORIZ_ABS\n",
      "Vehicle 1: EKF is not ready — missing: POS_HORIZ_ABS\n",
      "Vehicle 2: EKF is not ready — missing: POS_HORIZ_ABS\n",
      "Vehicle 1: EKF is not ready — missing: POS_HORIZ_ABS\n",
      "Vehicle 2: EKF is not ready — missing: POS_HORIZ_ABS\n",
      "Vehicle 1: EKF is not ready — missing: POS_HORIZ_ABS\n",
      "Vehicle 2: EKF is not ready — missing: POS_HORIZ_ABS\n",
      "Vehicle 1: EKF is not ready — missing: POS_HORIZ_ABS\n",
      "Vehicle 2: EKF is not ready — missing: POS_HORIZ_ABS\n",
      "Vehicle 1: EKF is not ready — missing: POS_HORIZ_ABS\n",
      "Vehicle 2: EKF is not ready — missing: POS_HORIZ_ABS\n",
      "Vehicle 1: EKF is not ready — missing: POS_HORIZ_ABS\n",
      "Vehicle 2: EKF is not ready — missing: POS_HORIZ_ABS\n",
      "Vehicle 1: EKF is not ready — missing: POS_HORIZ_ABS\n",
      "Vehicle 2: EKF is not ready — missing: POS_HORIZ_ABS\n",
      "Vehicle 1: EKF is not ready — missing: POS_HORIZ_ABS\n",
      "Vehicle 2: EKF is not ready — missing: POS_HORIZ_ABS\n",
      "Vehicle 1: EKF is not ready — missing: POS_HORIZ_ABS\n",
      "Vehicle 2: EKF is not ready — missing: POS_HORIZ_ABS\n",
      "Vehicle 1: EKF is not ready — missing: POS_HORIZ_ABS\n",
      "Vehicle 2: EKF is not ready — missing: POS_HORIZ_ABS\n",
      "Vehicle 1: EKF is not ready — missing: POS_HORIZ_ABS\n",
      "Vehicle 2: EKF is not ready — missing: POS_HORIZ_ABS\n",
      "Vehicle 1: EKF is not ready — missing: POS_HORIZ_ABS\n",
      "Vehicle 2: EKF is not ready — missing: POS_HORIZ_ABS\n",
      "Vehicle 1: EKF is not ready — missing: POS_HORIZ_ABS\n",
      "Vehicle 2: EKF is not ready — missing: POS_HORIZ_ABS\n",
      "Vehicle 1: EKF is not ready — missing: POS_HORIZ_ABS\n",
      "Vehicle 2: EKF is not ready — missing: POS_HORIZ_ABS\n",
      "Vehicle 1: EKF is not ready — missing: POS_HORIZ_ABS\n",
      "Vehicle 2: EKF is not ready — missing: POS_HORIZ_ABS\n",
      "Vehicle 1: EKF is not ready — missing: POS_HORIZ_ABS\n",
      "Vehicle 2: EKF is not ready — missing: POS_HORIZ_ABS\n",
      "Vehicle 1: EKF is not ready — missing: POS_HORIZ_ABS\n",
      "Vehicle 2: EKF is not ready — missing: POS_HORIZ_ABS\n",
      "Vehicle 1: EKF is not ready — missing: POS_HORIZ_ABS\n",
      "Vehicle 2: EKF is not ready — missing: POS_HORIZ_ABS\n",
      "Vehicle 1: EKF is not ready — missing: POS_HORIZ_ABS\n",
      "Vehicle 2: EKF is not ready — missing: POS_HORIZ_ABS\n",
      "Vehicle 1: EKF is not ready — missing: POS_HORIZ_ABS\n",
      "Vehicle 2: EKF is not ready — missing: POS_HORIZ_ABS\n",
      "Vehicle 1: EKF is not ready — missing: POS_HORIZ_ABS\n",
      "Vehicle 2: EKF is not ready — missing: POS_HORIZ_ABS\n",
      "Vehicle 1: EKF is not ready — missing: POS_HORIZ_ABS\n",
      "Vehicle 2: EKF is not ready — missing: POS_HORIZ_ABS\n",
      "Vehicle 1: EKF is not ready — missing: POS_HORIZ_ABS\n",
      "Vehicle 2: EKF is not ready — missing: POS_HORIZ_ABS\n",
      "Vehicle 1: EKF is not ready — missing: POS_HORIZ_ABS\n",
      "Vehicle 2: EKF is not ready — missing: POS_HORIZ_ABS\n",
      "Vehicle 1: EKF is not ready — missing: POS_HORIZ_ABS\n",
      "Vehicle 2: EKF is not ready — missing: POS_HORIZ_ABS\n",
      "Vehicle 1: EKF is not ready — missing: POS_HORIZ_ABS\n",
      "Vehicle 2: EKF is not ready — missing: POS_HORIZ_ABS\n",
      "Vehicle 1: EKF is not ready — missing: POS_HORIZ_ABS\n",
      "Vehicle 2: EKF is not ready — missing: POS_HORIZ_ABS\n",
      "Vehicle 1: EKF is not ready — missing: POS_HORIZ_ABS\n",
      "Vehicle 2: EKF is not ready — missing: POS_HORIZ_ABS\n",
      "Vehicle 1: EKF is not ready — missing: POS_HORIZ_ABS\n",
      "Vehicle 2: EKF is not ready — missing: POS_HORIZ_ABS\n",
      "Vehicle 1: EKF is not ready — missing: POS_HORIZ_ABS\n",
      "Vehicle 2: EKF is not ready — missing: POS_HORIZ_ABS\n",
      "Vehicle 1: EKF is not ready — missing: POS_HORIZ_ABS\n",
      "Vehicle 2: EKF is not ready — missing: POS_HORIZ_ABS\n",
      "Vehicle 1: EKF is not ready — missing: POS_HORIZ_ABS\n",
      "Vehicle 2: EKF is not ready — missing: POS_HORIZ_ABS\n",
      "Vehicle 1: EKF is not ready — missing: POS_HORIZ_ABS\n",
      "Vehicle 2: EKF is not ready — missing: POS_HORIZ_ABS\n",
      "Vehicle 1: EKF is not ready — missing: POS_HORIZ_ABS\n",
      "Vehicle 2: EKF is not ready — missing: POS_HORIZ_ABS\n",
      "Vehicle 1: EKF is not ready — missing: POS_HORIZ_ABS\n",
      "Vehicle 2: EKF is not ready — missing: POS_HORIZ_ABS\n",
      "Vehicle 1: EKF is not ready — missing: POS_HORIZ_ABS\n",
      "Vehicle 2: EKF is not ready — missing: POS_HORIZ_ABS\n",
      "Vehicle 1: EKF is not ready — missing: POS_HORIZ_ABS\n",
      "Vehicle 2: EKF is not ready — missing: POS_HORIZ_ABS\n",
      "Vehicle 1: EKF is not ready — missing: POS_HORIZ_ABS\n",
      "Vehicle 2: EKF is not ready — missing: POS_HORIZ_ABS\n",
      "Vehicle 1: EKF is not ready — missing: POS_HORIZ_ABS\n",
      "Vehicle 2: EKF is not ready — missing: POS_HORIZ_ABS\n",
      "Vehicle 1: EKF is not ready — missing: POS_HORIZ_ABS\n",
      "Vehicle 2: EKF is not ready — missing: POS_HORIZ_ABS\n",
      "Vehicle 1: EKF is not ready — missing: POS_HORIZ_ABS\n",
      "Vehicle 2: EKF is not ready — missing: POS_HORIZ_ABS\n",
      "Vehicle 1: EKF is not ready — missing: POS_HORIZ_ABS\n",
      "Vehicle 2: EKF is not ready — missing: POS_HORIZ_ABS\n",
      "Vehicle 1: EKF is not ready — missing: POS_HORIZ_ABS\n",
      "Vehicle 2: EKF is not ready — missing: POS_HORIZ_ABS\n",
      "Vehicle 1: EKF is not ready — missing: POS_HORIZ_ABS\n",
      "Vehicle 2: EKF is not ready — missing: POS_HORIZ_ABS\n",
      "Vehicle 1: EKF is not ready — missing: POS_HORIZ_ABS\n",
      "Vehicle 2: EKF is not ready — missing: POS_HORIZ_ABS\n",
      "Vehicle 1: EKF is not ready — missing: POS_HORIZ_ABS\n",
      "Vehicle 2: EKF is not ready — missing: POS_HORIZ_ABS\n",
      "Vehicle 1: EKF is not ready — missing: POS_HORIZ_ABS\n",
      "Vehicle 2: EKF is not ready — missing: POS_HORIZ_ABS\n",
      "Vehicle 1: EKF is not ready — missing: POS_HORIZ_ABS\n",
      "Vehicle 2: EKF is not ready — missing: POS_HORIZ_ABS\n",
      "Vehicle 1: EKF is not ready — missing: POS_HORIZ_ABS\n",
      "Vehicle 2: EKF is not ready — missing: POS_HORIZ_ABS\n",
      "Vehicle 1: EKF is not ready — missing: POS_HORIZ_ABS\n",
      "Vehicle 2: EKF is not ready — missing: POS_HORIZ_ABS\n",
      "Vehicle 1: EKF is not ready — missing: POS_HORIZ_ABS\n",
      "Vehicle 2: EKF is not ready — missing: POS_HORIZ_ABS\n",
      "Vehicle 1: EKF is not ready — missing: POS_HORIZ_ABS\n",
      "Vehicle 2: EKF is not ready — missing: POS_HORIZ_ABS\n",
      "Vehicle 1: EKF is not ready — missing: POS_HORIZ_ABS\n",
      "Vehicle 2: EKF is not ready — missing: POS_HORIZ_ABS\n",
      "Vehicle 1: EKF is not ready — missing: POS_HORIZ_ABS\n",
      "Vehicle 2: EKF is not ready — missing: POS_HORIZ_ABS\n",
      "Vehicle 1: EKF is not ready — missing: POS_HORIZ_ABS\n",
      "Vehicle 2: EKF is not ready — missing: POS_HORIZ_ABS\n",
      "Vehicle 1: EKF is not ready — missing: POS_HORIZ_ABS\n",
      "Vehicle 2: EKF is not ready — missing: POS_HORIZ_ABS\n",
      "Vehicle 1: EKF is not ready — missing: POS_HORIZ_ABS\n",
      "Vehicle 2: EKF is not ready — missing: POS_HORIZ_ABS\n",
      "Vehicle 1: EKF is not ready — missing: POS_HORIZ_ABS\n",
      "Vehicle 2: EKF is not ready — missing: POS_HORIZ_ABS\n",
      "Vehicle 1: EKF is not ready — missing: POS_HORIZ_ABS\n",
      "Vehicle 2: EKF is not ready — missing: POS_HORIZ_ABS\n",
      "Vehicle 1: EKF is not ready — missing: POS_HORIZ_ABS\n",
      "Vehicle 2: EKF is not ready — missing: POS_HORIZ_ABS\n",
      "Vehicle 1: EKF is not ready — missing: POS_HORIZ_ABS\n",
      "Vehicle 2: EKF is not ready — missing: POS_HORIZ_ABS\n",
      "Vehicle 1: EKF is not ready — missing: POS_HORIZ_ABS\n",
      "Vehicle 2: EKF is not ready — missing: POS_HORIZ_ABS\n",
      "Vehicle 1: EKF is not ready — missing: POS_HORIZ_ABS\n",
      "Vehicle 2: EKF is not ready — missing: POS_HORIZ_ABS\n",
      "Vehicle 1: EKF is not ready — missing: POS_HORIZ_ABS\n",
      "Vehicle 2: EKF is not ready — missing: POS_HORIZ_ABS\n",
      "Vehicle 1: EKF is not ready — missing: POS_HORIZ_ABS\n",
      "Vehicle 2: EKF is not ready — missing: POS_HORIZ_ABS\n",
      "Vehicle 1: EKF is not ready — missing: POS_HORIZ_ABS\n",
      "Vehicle 2: EKF is not ready — missing: POS_HORIZ_ABS\n",
      "Vehicle 1: EKF is not ready — missing: POS_HORIZ_ABS\n",
      "Vehicle 2: EKF is not ready — missing: POS_HORIZ_ABS\n",
      "Vehicle 1: EKF is not ready — missing: POS_HORIZ_ABS\n",
      "Vehicle 2: EKF is not ready — missing: POS_HORIZ_ABS\n",
      "Vehicle 1: EKF is not ready — missing: POS_HORIZ_ABS\n",
      "Vehicle 2: EKF is not ready — missing: POS_HORIZ_ABS\n",
      "Vehicle 1: EKF is not ready — missing: POS_HORIZ_ABS\n",
      "Vehicle 2: EKF is not ready — missing: POS_HORIZ_ABS\n",
      "Vehicle 1: EKF is not ready — missing: POS_HORIZ_ABS\n",
      "Vehicle 2: EKF is not ready — missing: POS_HORIZ_ABS\n",
      "Vehicle 1: EKF is not ready — missing: POS_HORIZ_ABS\n",
      "Vehicle 2: EKF is not ready — missing: POS_HORIZ_ABS\n",
      "Vehicle 1: EKF is not ready — missing: POS_HORIZ_ABS\n",
      "Vehicle 2: EKF is not ready — missing: POS_HORIZ_ABS\n",
      "Vehicle 1: EKF is not ready — missing: POS_HORIZ_ABS\n",
      "Vehicle 2: EKF is not ready — missing: POS_HORIZ_ABS\n",
      "Vehicle 1: EKF is not ready — missing: POS_HORIZ_ABS\n",
      "Vehicle 2: EKF is not ready — missing: POS_HORIZ_ABS\n",
      "Vehicle 1: EKF is not ready — missing: POS_HORIZ_ABS\n",
      "Vehicle 2: EKF is not ready — missing: POS_HORIZ_ABS\n",
      "Vehicle 1: EKF is not ready — missing: POS_HORIZ_ABS\n",
      "Vehicle 2: EKF is not ready — missing: POS_HORIZ_ABS\n",
      "Vehicle 1: EKF is not ready — missing: POS_HORIZ_ABS\n",
      "Vehicle 2: EKF is not ready — missing: POS_HORIZ_ABS\n",
      "Vehicle 1: EKF is not ready — missing: POS_HORIZ_ABS\n",
      "Vehicle 2: EKF is not ready — missing: POS_HORIZ_ABS\n",
      "Vehicle 1: EKF is not ready — missing: POS_HORIZ_ABS\n",
      "Vehicle 2: EKF is not ready — missing: POS_HORIZ_ABS\n",
      "Vehicle 1: EKF is not ready — missing: POS_HORIZ_ABS\n",
      "Vehicle 2: EKF is not ready — missing: POS_HORIZ_ABS\n",
      "Vehicle 1: EKF is not ready — missing: POS_HORIZ_ABS\n",
      "Vehicle 2: EKF is not ready — missing: POS_HORIZ_ABS\n",
      "Vehicle 1: EKF is not ready — missing: POS_HORIZ_ABS\n",
      "Vehicle 2: EKF is not ready — missing: POS_HORIZ_ABS\n",
      "Vehicle 1: EKF is not ready — missing: POS_HORIZ_ABS\n",
      "Vehicle 2: EKF is not ready — missing: POS_HORIZ_ABS\n",
      "Vehicle 1: EKF is not ready — missing: POS_HORIZ_ABS\n",
      "Vehicle 2: EKF is not ready — missing: POS_HORIZ_ABS\n",
      "Vehicle 1: EKF is not ready — missing: POS_HORIZ_ABS\n",
      "Vehicle 2: EKF is not ready — missing: POS_HORIZ_ABS\n",
      "Vehicle 1: EKF is not ready — missing: POS_HORIZ_ABS\n",
      "Vehicle 2: ✅ Step: Check EKF is done\n",
      "Vehicle 2: Step 'Check GPS' is now connected ✅🔗\n",
      "Vehicle 2: ▶️ Starting Step: Check GPS\n",
      "Vehicle 1: ✅ Step: Check EKF is done\n",
      "Vehicle 1: Step 'Check GPS' is now connected ✅🔗\n",
      "Vehicle 1: ▶️ Starting Step: Check GPS\n",
      "Vehicle 2: ✅ Step: Check GPS is done\n",
      "Vehicle 2: Step 'Check system' is now connected ✅🔗\n",
      "Vehicle 2: ▶️ Starting Step: Check system\n",
      "Vehicle 1: ✅ Step: Check GPS is done\n",
      "Vehicle 1: Step 'Check system' is now connected ✅🔗\n",
      "Vehicle 1: ▶️ Starting Step: Check system\n",
      "Vehicle 2: ✅ Step: Check system is done\n",
      "Vehicle 2: ✅ Action: Pre-Arm Check is done\n",
      "Vehicle 2: Action 'Set Navigation Speed' is now connected ✅🔗\n",
      "Vehicle 2: ▶️ Starting Action: Set Navigation Speed\n",
      "Vehicle 2: Step 'Set speed to 10.00 m/s' is now connected ✅🔗\n",
      "Vehicle 2: 📤 Sending WPNAV_SPEED = 1000 cm/s (10.00 m/s)\n",
      "Vehicle 2: ▶️ Starting Step: Set speed to 10.00 m/s\n",
      "Vehicle 2: ✅ Parameter 'WPNAV_SPEED' confirmed at 1000 cm/s (10.00 m/s)\n",
      "Vehicle 2: ✅ Step: Set speed to 10.00 m/s is done\n",
      "Vehicle 2: ✅ Action: Set Navigation Speed is done\n",
      "Vehicle 2: Action 'Set Mode: GUIDED' is now connected ✅🔗\n",
      "Vehicle 2: ▶️ Starting Action: Set Mode: GUIDED\n",
      "Vehicle 2: Step 'Switch to GUIDED' is now connected ✅🔗\n",
      "Vehicle 2: ▶️ Starting Step: Switch to GUIDED\n",
      "Vehicle 2: ✅ Step: Switch to GUIDED is done\n",
      "Vehicle 2: ✅ Action: Set Mode: GUIDED is done\n",
      "Vehicle 2: Action 'Arm' is now connected ✅🔗\n",
      "Vehicle 2: ▶️ Starting Action: Arm\n",
      "Vehicle 2: Step 'arm' is now connected ✅🔗\n",
      "Vehicle 2: 🛰️ Sending ARM command...\n",
      "Vehicle 2: ▶️ Starting Step: arm\n",
      "Vehicle 2: ✅ Step: arm is done\n",
      "Vehicle 2: ✅ Action: Arm is done\n",
      "Vehicle 2: Action 'Take Off' is now connected ✅🔗\n",
      "Vehicle 2: ▶️ Starting Action: Take Off\n",
      "Vehicle 2: Step 'take off' is now connected ✅🔗\n",
      "Vehicle 2: ▶️ Starting Step: take off\n",
      "Vehicle 1: ✅ Step: Check system is done\n",
      "Vehicle 1: ✅ Action: Pre-Arm Check is done\n",
      "Vehicle 1: Action 'Set Navigation Speed' is now connected ✅🔗\n",
      "Vehicle 1: ▶️ Starting Action: Set Navigation Speed\n",
      "Vehicle 1: Step 'Set speed to 10.00 m/s' is now connected ✅🔗\n",
      "Vehicle 1: 📤 Sending WPNAV_SPEED = 1000 cm/s (10.00 m/s)\n",
      "Vehicle 1: ▶️ Starting Step: Set speed to 10.00 m/s\n",
      "Vehicle 1: ✅ Parameter 'WPNAV_SPEED' confirmed at 1000 cm/s (10.00 m/s)\n",
      "Vehicle 1: ✅ Step: Set speed to 10.00 m/s is done\n",
      "Vehicle 1: ✅ Action: Set Navigation Speed is done\n",
      "Vehicle 1: Action 'Set Mode: GUIDED' is now connected ✅🔗\n",
      "Vehicle 1: ▶️ Starting Action: Set Mode: GUIDED\n",
      "Vehicle 1: Step 'Switch to GUIDED' is now connected ✅🔗\n",
      "Vehicle 1: ▶️ Starting Step: Switch to GUIDED\n",
      "Vehicle 1: ✅ Step: Switch to GUIDED is done\n",
      "Vehicle 1: ✅ Action: Set Mode: GUIDED is done\n",
      "Vehicle 1: Action 'Arm' is now connected ✅🔗\n",
      "Vehicle 1: ▶️ Starting Action: Arm\n",
      "Vehicle 1: Step 'arm' is now connected ✅🔗\n",
      "Vehicle 1: 🛰️ Sending ARM command...\n",
      "Vehicle 1: ▶️ Starting Step: arm\n",
      "Vehicle 2:📍 Distance to target: 5.04 m\n",
      "Vehicle 2:📍 Distance to target: 5.04 m\n",
      "Vehicle 2:📍 Distance to target: 5.04 m\n",
      "Vehicle 1: ✅ Step: arm is done\n",
      "Vehicle 1: ✅ Action: Arm is done\n",
      "Vehicle 1: Action 'Take Off' is now connected ✅🔗\n",
      "Vehicle 1: ▶️ Starting Action: Take Off\n",
      "Vehicle 1: Step 'take off' is now connected ✅🔗\n",
      "Vehicle 1: ▶️ Starting Step: take off\n",
      "Vehicle 2:📍 Distance to target: 5.04 m\n",
      "Vehicle 1:📍 Distance to target: 5.03 m\n",
      "Vehicle 2:📍 Distance to target: 5.04 m\n",
      "Vehicle 1:📍 Distance to target: 5.03 m\n",
      "Vehicle 2:📍 Distance to target: 5.04 m\n",
      "Vehicle 1:📍 Distance to target: 5.03 m\n",
      "Vehicle 2:📍 Distance to target: 5.04 m\n",
      "Vehicle 1:📍 Distance to target: 5.03 m\n",
      "Vehicle 2:📍 Distance to target: 5.04 m\n",
      "Vehicle 1:📍 Distance to target: 5.03 m\n",
      "Vehicle 2:📍 Distance to target: 5.04 m\n",
      "Vehicle 1:📍 Distance to target: 5.03 m\n",
      "Vehicle 2:📍 Distance to target: 5.04 m\n",
      "Vehicle 1:📍 Distance to target: 5.03 m\n",
      "Vehicle 2:📍 Distance to target: 5.04 m\n",
      "Vehicle 1:📍 Distance to target: 5.03 m\n",
      "Vehicle 2:📍 Distance to target: 5.04 m\n",
      "Vehicle 1:📍 Distance to target: 5.03 m\n",
      "Vehicle 2:📍 Distance to target: 5.04 m\n",
      "Vehicle 1:📍 Distance to target: 5.03 m\n",
      "Vehicle 2:📍 Distance to target: 4.99 m\n",
      "Vehicle 1:📍 Distance to target: 4.99 m\n",
      "Vehicle 2:📍 Distance to target: 4.90 m\n",
      "Vehicle 1:📍 Distance to target: 4.90 m\n",
      "Vehicle 2:📍 Distance to target: 4.74 m\n",
      "Vehicle 1:📍 Distance to target: 4.74 m\n",
      "Vehicle 2:📍 Distance to target: 4.52 m\n",
      "Vehicle 1:📍 Distance to target: 4.52 m\n",
      "Vehicle 2:📍 Distance to target: 4.23 m\n",
      "Vehicle 1:📍 Distance to target: 4.23 m\n",
      "Vehicle 2:📍 Distance to target: 3.88 m\n",
      "Vehicle 1:📍 Distance to target: 3.87 m\n",
      "Vehicle 2:📍 Distance to target: 3.46 m\n",
      "Vehicle 1:📍 Distance to target: 3.45 m\n",
      "Vehicle 2:📍 Distance to target: 2.99 m\n",
      "Vehicle 1:📍 Distance to target: 3.01 m\n",
      "Vehicle 2:📍 Distance to target: 2.53 m\n",
      "Vehicle 1:📍 Distance to target: 2.56 m\n",
      "Vehicle 2:📍 Distance to target: 2.10 m\n",
      "Vehicle 1:📍 Distance to target: 2.15 m\n",
      "Vehicle 2:📍 Distance to target: 1.71 m\n",
      "Vehicle 1:📍 Distance to target: 1.77 m\n",
      "Vehicle 2:📍 Distance to target: 1.36 m\n",
      "Vehicle 1:📍 Distance to target: 1.44 m\n",
      "Vehicle 2:📍 Distance to target: 1.05 m\n",
      "Vehicle 1:📍 Distance to target: 1.15 m\n",
      "Vehicle 2:📍 Distance to target: 0.79 m\n",
      "Vehicle 1:📍 Distance to target: 0.90 m\n",
      "Vehicle 2:📍 Distance to target: 0.56 m\n",
      "Vehicle 1:📍 Distance to target: 0.68 m\n",
      "Vehicle 2:📍 Distance to target: 0.36 m\n",
      "Vehicle 2: ✅ Step: take off is done\n",
      "Vehicle 2: ✅ Action: Take Off is done\n",
      "Vehicle 2: Action 'fly' is now connected ✅🔗\n",
      "Vehicle 2: ▶️ Starting Action: fly\n",
      "Vehicle 2: Step 'go to -> (0, 0, 5)' is now connected ✅🔗\n",
      "Vehicle 2: ▶️ Starting Step: go to -> (0, 0, 5)\n",
      "Vehicle 1:📍 Distance to target: 0.50 m\n",
      "Vehicle 2:📍 Distance to target: 0.21 m\n",
      "Vehicle 2: ✅ Step: go to -> (0, 0, 5) is done\n",
      "Vehicle 2: Step 'go to -> (-40, 0, 5)' is now connected ✅🔗\n",
      "Vehicle 2: ▶️ Starting Step: go to -> (-40, 0, 5)\n",
      "Vehicle 1:📍 Distance to target: 0.35 m\n",
      "Vehicle 1: ✅ Step: take off is done\n",
      "Vehicle 1: ✅ Action: Take Off is done\n",
      "Vehicle 1: Action 'fly' is now connected ✅🔗\n",
      "Vehicle 1: ▶️ Starting Action: fly\n",
      "Vehicle 1: Step 'go to -> (0, 0, 5)' is now connected ✅🔗\n",
      "Vehicle 1: ▶️ Starting Step: go to -> (0, 0, 5)\n",
      "Vehicle 2:📍 Distance to target: 40.01 m\n",
      "Vehicle 1:📍 Distance to target: 0.24 m\n",
      "Vehicle 1: ✅ Step: go to -> (0, 0, 5) is done\n",
      "Vehicle 1: Step 'go to -> (40, 0, 5)' is now connected ✅🔗\n",
      "Vehicle 1: ▶️ Starting Step: go to -> (40, 0, 5)\n",
      "Vehicle 2:📍 Distance to target: 39.96 m\n",
      "Vehicle 1:📍 Distance to target: 39.99 m\n",
      "Vehicle 2:📍 Distance to target: 39.80 m\n",
      "Vehicle 1:📍 Distance to target: 39.95 m\n",
      "Vehicle 2:📍 Distance to target: 39.45 m\n",
      "Vehicle 1:📍 Distance to target: 39.78 m\n",
      "Vehicle 2:📍 Distance to target: 38.92 m\n",
      "Vehicle 1:📍 Distance to target: 39.44 m\n",
      "Vehicle 2:📍 Distance to target: 38.21 m\n",
      "Vehicle 1:📍 Distance to target: 38.91 m\n",
      "Vehicle 2:📍 Distance to target: 37.34 m\n",
      "Vehicle 1:📍 Distance to target: 38.20 m\n",
      "Vehicle 2:📍 Distance to target: 36.30 m\n",
      "Vehicle 1:📍 Distance to target: 37.33 m\n",
      "Vehicle 2:📍 Distance to target: 35.11 m\n",
      "Vehicle 1:📍 Distance to target: 36.30 m\n",
      "Vehicle 2:📍 Distance to target: 33.77 m\n",
      "Vehicle 1:📍 Distance to target: 35.10 m\n",
      "Vehicle 2:📍 Distance to target: 32.27 m\n",
      "Vehicle 1:📍 Distance to target: 33.75 m\n",
      "Vehicle 2:📍 Distance to target: 30.61 m\n",
      "Vehicle 1:📍 Distance to target: 32.24 m\n",
      "Vehicle 2:📍 Distance to target: 28.81 m\n",
      "Vehicle 1:📍 Distance to target: 30.60 m\n",
      "Vehicle 2:📍 Distance to target: 26.87 m\n",
      "Vehicle 1:📍 Distance to target: 28.82 m\n",
      "Vehicle 2:📍 Distance to target: 24.85 m\n",
      "Vehicle 1:📍 Distance to target: 26.91 m\n",
      "Vehicle 2:📍 Distance to target: 22.84 m\n",
      "Vehicle 1:📍 Distance to target: 24.89 m\n",
      "Vehicle 2:📍 Distance to target: 20.90 m\n",
      "Vehicle 1:📍 Distance to target: 22.88 m\n",
      "Vehicle 2:📍 Distance to target: 19.19 m\n",
      "Vehicle 1:📍 Distance to target: 21.46 m\n",
      "Vehicle 2:📍 Distance to target: 19.03 m\n",
      "Vehicle 1:📍 Distance to target: 22.55 m\n",
      "Vehicle 2:📍 Distance to target: 18.93 m\n",
      "Vehicle 1:📍 Distance to target: 23.12 m\n",
      "Vehicle 2:📍 Distance to target: 18.64 m\n",
      "Vehicle 1:📍 Distance to target: 23.21 m\n",
      "Vehicle 2:📍 Distance to target: 18.05 m\n",
      "Vehicle 1:📍 Distance to target: 22.80 m\n",
      "Vehicle 2:📍 Distance to target: 17.12 m\n",
      "Vehicle 1:📍 Distance to target: 21.92 m\n",
      "Vehicle 2:📍 Distance to target: 15.86 m\n",
      "Vehicle 1:📍 Distance to target: 20.61 m\n",
      "Vehicle 2:📍 Distance to target: 14.31 m\n",
      "Vehicle 1:📍 Distance to target: 18.94 m\n",
      "Vehicle 2:📍 Distance to target: 12.60 m\n",
      "Vehicle 1:📍 Distance to target: 17.02 m\n",
      "Vehicle 2:📍 Distance to target: 10.81 m\n",
      "Vehicle 1:📍 Distance to target: 15.01 m\n",
      "Vehicle 2:📍 Distance to target: 9.03 m\n",
      "Vehicle 1:📍 Distance to target: 13.01 m\n",
      "Vehicle 2:📍 Distance to target: 7.34 m\n",
      "Vehicle 1:📍 Distance to target: 11.14 m\n",
      "Vehicle 2:📍 Distance to target: 5.77 m\n",
      "Vehicle 1:📍 Distance to target: 9.43 m\n",
      "Vehicle 2:📍 Distance to target: 4.37 m\n",
      "Vehicle 1:📍 Distance to target: 7.92 m\n",
      "Vehicle 2:📍 Distance to target: 3.15 m\n",
      "Vehicle 1:📍 Distance to target: 6.61 m\n",
      "Vehicle 2:📍 Distance to target: 2.11 m\n",
      "Vehicle 1:📍 Distance to target: 5.51 m\n",
      "Vehicle 2:📍 Distance to target: 1.25 m\n",
      "Vehicle 1:📍 Distance to target: 4.57 m\n",
      "Vehicle 2:📍 Distance to target: 0.57 m\n",
      "Vehicle 1:📍 Distance to target: 3.79 m\n",
      "Vehicle 2:📍 Distance to target: 0.11 m\n",
      "Vehicle 2: ✅ Step: go to -> (-40, 0, 5) is done\n",
      "Vehicle 2: ✅ Action: fly is done\n",
      "Vehicle 2: Action 'Land' is now connected ✅🔗\n",
      "Vehicle 2: ▶️ Starting Action: Land\n",
      "Vehicle 2: Step 'land' is now connected ✅🔗\n",
      "Vehicle 2: ▶️ Starting Step: land\n",
      "Vehicle 1:📍 Distance to target: 3.13 m\n",
      "Vehicle 1:📍 Distance to target: 2.58 m\n",
      "Vehicle 1:📍 Distance to target: 2.11 m\n",
      "Vehicle 1:📍 Distance to target: 1.72 m\n",
      "Vehicle 1:📍 Distance to target: 1.40 m\n",
      "Vehicle 1:📍 Distance to target: 1.14 m\n",
      "Vehicle 1:📍 Distance to target: 0.95 m\n",
      "Vehicle 1:📍 Distance to target: 0.83 m\n",
      "Vehicle 1:📍 Distance to target: 0.74 m\n",
      "Vehicle 1:📍 Distance to target: 0.68 m\n",
      "Vehicle 1:📍 Distance to target: 0.64 m\n",
      "Vehicle 1:📍 Distance to target: 0.62 m\n",
      "Vehicle 1:📍 Distance to target: 0.59 m\n",
      "Vehicle 1:📍 Distance to target: 0.55 m\n",
      "Vehicle 1:📍 Distance to target: 0.52 m\n",
      "Vehicle 1:📍 Distance to target: 0.48 m\n",
      "Vehicle 1: ✅ Step: go to -> (40, 0, 5) is done\n",
      "Vehicle 1: ✅ Action: fly is done\n",
      "Vehicle 1: Action 'Land' is now connected ✅🔗\n",
      "Vehicle 1: ▶️ Starting Action: Land\n",
      "Vehicle 1: Step 'land' is now connected ✅🔗\n",
      "Vehicle 1: ▶️ Starting Step: land\n",
      "Vehicle 2: ✅ Step: land is done\n",
      "Vehicle 2: ✅ Action: Land is done\n",
      "Vehicle 1: ✅ Step: land is done\n",
      "Vehicle 1: ✅ Action: Land is done\n"
     ]
    }
   ],
   "source": [
    "mission_incomplete = n_uavs*[True]\n",
    "while any(mission_incomplete):\n",
    "    for i,uav in enumerate(uavs):\n",
    "        mission_incomplete[i] = not uav.act_plan()"
   ]
  },
  {
   "cell_type": "markdown",
   "metadata": {},
   "source": [
    "## Kill all related process"
   ]
  },
  {
   "cell_type": "code",
   "execution_count": 11,
   "metadata": {},
   "outputs": [],
   "source": [
    "# for process in [\"QGroundControl\", \"sim_vehicle.py\", \"arducopter\", \"gazebo\", \"mavproxy\"]:\n",
    "#     os.system(f\"pkill -9 -f {process}\")"
   ]
  },
  {
   "cell_type": "code",
   "execution_count": null,
   "metadata": {},
   "outputs": [],
   "source": []
  }
 ],
 "metadata": {
  "kernelspec": {
   "display_name": "Python 3",
   "language": "python",
   "name": "python3"
  },
  "language_info": {
   "codemirror_mode": {
    "name": "ipython",
    "version": 3
   },
   "file_extension": ".py",
   "mimetype": "text/x-python",
   "name": "python",
   "nbconvert_exporter": "python",
   "pygments_lexer": "ipython3",
   "version": "3.9.21"
  }
 },
 "nbformat": 4,
 "nbformat_minor": 2
}
