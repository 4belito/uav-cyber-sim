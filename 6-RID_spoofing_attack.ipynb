{
 "cells": [
  {
   "cell_type": "markdown",
   "metadata": {},
   "source": [
    "## Remote ID Sppoofing Attack"
   ]
  },
  {
   "cell_type": "code",
   "execution_count": 1,
   "metadata": {},
   "outputs": [],
   "source": [
    "from config import Color\n",
    "from helpers import clean\n",
    "from helpers.coordinates import ENU, ENUPose, GRAPose\n",
    "from simulator import (\n",
    "    QGC,\n",
    "    ConfigGazebo,\n",
    "    ConfigNovis,\n",
    "    ConfigQGC,\n",
    "    Gazebo,\n",
    "    NoVisualizer,\n",
    "    Simulator,\n",
    ")\n",
    "from simulator.gazebo.config import GazWP\n",
    "from simulator.QGroundControl.config import QGCWP\n",
    "\n",
    "clean(reset_folders = [])"
   ]
  },
  {
   "cell_type": "markdown",
   "metadata": {},
   "source": [
    "## Simulation Configuration\n",
    "\n",
    "We can easily extend the configuration from Notebook 2 to multiple UAVs. \n",
    "We are also adding here a mission delay in secons."
   ]
  },
  {
   "cell_type": "code",
   "execution_count": 2,
   "metadata": {},
   "outputs": [],
   "source": [
    "gra_origin = GRAPose(lat=-35.3633280, lon=149.1652241,alt=0,heading=0) \n",
    "enu_origin = ENUPose(x=0, y=0, z=gra_origin.alt, heading=gra_origin.heading) \n",
    "\n",
    "# east, north, up, heading\n",
    "base_homes= ENUPose.list([(-10, 0, 0, 0),(0, -5, 0, 0)])\n",
    "base_paths = [ENUPose.list([(0, 0, 5, 0),(20, 0, 5, 0)]),\n",
    "              [ENUPose(0, 0, 5,0)]]\n",
    "              \n",
    "colors=[\n",
    "    Color.GREEN,\n",
    "    Color.RED,\n",
    "]\n",
    "msn_delays=[0,0]\n",
    "speeds=[1.0,1.0]  # m/s\n",
    "msn_land=[True,False]\n",
    "radar_radius=10\n",
    "safety_radius =5"
   ]
  },
  {
   "cell_type": "markdown",
   "metadata": {},
   "source": [
    "## Visualizers"
   ]
  },
  {
   "cell_type": "markdown",
   "metadata": {},
   "source": [
    "## Gazebo"
   ]
  },
  {
   "cell_type": "code",
   "execution_count": 3,
   "metadata": {},
   "outputs": [
    {
     "data": {
      "application/vnd.plotly.v1+json": {
       "config": {
        "plotlyServerURL": "https://plot.ly"
       },
       "data": [
        {
         "marker": {
          "color": [
           "green",
           "green"
          ],
          "opacity": 0.95,
          "size": [
           9,
           9
          ]
         },
         "mode": "markers",
         "name": "traj_0",
         "type": "scatter3d",
         "x": [
          -10,
          10
         ],
         "y": [
          0,
          0
         ],
         "z": [
          5,
          5
         ]
        },
        {
         "marker": {
          "color": [
           "red"
          ],
          "opacity": 0.95,
          "size": [
           9
          ]
         },
         "mode": "markers",
         "name": "traj_1",
         "type": "scatter3d",
         "x": [
          0
         ],
         "y": [
          -5
         ],
         "z": [
          5
         ]
        },
        {
         "marker": {
          "color": [
           "red"
          ],
          "opacity": 0.95,
          "size": [
           9
          ]
         },
         "mode": "markers",
         "name": "true_pos",
         "type": "scatter3d",
         "x": [
          0
         ],
         "y": [
          -5
         ],
         "z": [
          5
         ]
        },
        {
         "marker": {
          "color": [
           "orange"
          ],
          "opacity": 0.95,
          "size": [
           9
          ]
         },
         "mode": "markers",
         "name": "fake_pos",
         "type": "scatter3d",
         "x": [
          0
         ],
         "y": [
          0
         ],
         "z": [
          5
         ]
        },
        {
         "marker": {
          "color": [
           "red"
          ],
          "opacity": 0.15000000000000002,
          "size": [
           225
          ]
         },
         "mode": "markers",
         "name": "avoid_zone",
         "type": "scatter3d",
         "x": [
          0
         ],
         "y": [
          0
         ],
         "z": [
          5
         ]
        },
        {
         "marker": {
          "color": [
           "orange"
          ],
          "opacity": 0.09999999999999998,
          "size": [
           450
          ]
         },
         "mode": "markers",
         "name": "radar_zone",
         "type": "scatter3d",
         "x": [
          0
         ],
         "y": [
          -5
         ],
         "z": [
          5
         ]
        }
       ],
       "layout": {
        "height": 600,
        "scene": {
         "xaxis": {
          "range": [
           -14,
           14
          ],
          "title": {
           "text": "x"
          }
         },
         "yaxis": {
          "range": [
           -6,
           1
          ],
          "title": {
           "text": "y"
          }
         },
         "zaxis": {
          "range": [
           0,
           5
          ],
          "title": {
           "text": "z"
          }
         }
        },
        "showlegend": true,
        "template": {
         "data": {
          "bar": [
           {
            "error_x": {
             "color": "#2a3f5f"
            },
            "error_y": {
             "color": "#2a3f5f"
            },
            "marker": {
             "line": {
              "color": "#E5ECF6",
              "width": 0.5
             },
             "pattern": {
              "fillmode": "overlay",
              "size": 10,
              "solidity": 0.2
             }
            },
            "type": "bar"
           }
          ],
          "barpolar": [
           {
            "marker": {
             "line": {
              "color": "#E5ECF6",
              "width": 0.5
             },
             "pattern": {
              "fillmode": "overlay",
              "size": 10,
              "solidity": 0.2
             }
            },
            "type": "barpolar"
           }
          ],
          "carpet": [
           {
            "aaxis": {
             "endlinecolor": "#2a3f5f",
             "gridcolor": "white",
             "linecolor": "white",
             "minorgridcolor": "white",
             "startlinecolor": "#2a3f5f"
            },
            "baxis": {
             "endlinecolor": "#2a3f5f",
             "gridcolor": "white",
             "linecolor": "white",
             "minorgridcolor": "white",
             "startlinecolor": "#2a3f5f"
            },
            "type": "carpet"
           }
          ],
          "choropleth": [
           {
            "colorbar": {
             "outlinewidth": 0,
             "ticks": ""
            },
            "type": "choropleth"
           }
          ],
          "contour": [
           {
            "colorbar": {
             "outlinewidth": 0,
             "ticks": ""
            },
            "colorscale": [
             [
              0,
              "#0d0887"
             ],
             [
              0.1111111111111111,
              "#46039f"
             ],
             [
              0.2222222222222222,
              "#7201a8"
             ],
             [
              0.3333333333333333,
              "#9c179e"
             ],
             [
              0.4444444444444444,
              "#bd3786"
             ],
             [
              0.5555555555555556,
              "#d8576b"
             ],
             [
              0.6666666666666666,
              "#ed7953"
             ],
             [
              0.7777777777777778,
              "#fb9f3a"
             ],
             [
              0.8888888888888888,
              "#fdca26"
             ],
             [
              1,
              "#f0f921"
             ]
            ],
            "type": "contour"
           }
          ],
          "contourcarpet": [
           {
            "colorbar": {
             "outlinewidth": 0,
             "ticks": ""
            },
            "type": "contourcarpet"
           }
          ],
          "heatmap": [
           {
            "colorbar": {
             "outlinewidth": 0,
             "ticks": ""
            },
            "colorscale": [
             [
              0,
              "#0d0887"
             ],
             [
              0.1111111111111111,
              "#46039f"
             ],
             [
              0.2222222222222222,
              "#7201a8"
             ],
             [
              0.3333333333333333,
              "#9c179e"
             ],
             [
              0.4444444444444444,
              "#bd3786"
             ],
             [
              0.5555555555555556,
              "#d8576b"
             ],
             [
              0.6666666666666666,
              "#ed7953"
             ],
             [
              0.7777777777777778,
              "#fb9f3a"
             ],
             [
              0.8888888888888888,
              "#fdca26"
             ],
             [
              1,
              "#f0f921"
             ]
            ],
            "type": "heatmap"
           }
          ],
          "histogram": [
           {
            "marker": {
             "pattern": {
              "fillmode": "overlay",
              "size": 10,
              "solidity": 0.2
             }
            },
            "type": "histogram"
           }
          ],
          "histogram2d": [
           {
            "colorbar": {
             "outlinewidth": 0,
             "ticks": ""
            },
            "colorscale": [
             [
              0,
              "#0d0887"
             ],
             [
              0.1111111111111111,
              "#46039f"
             ],
             [
              0.2222222222222222,
              "#7201a8"
             ],
             [
              0.3333333333333333,
              "#9c179e"
             ],
             [
              0.4444444444444444,
              "#bd3786"
             ],
             [
              0.5555555555555556,
              "#d8576b"
             ],
             [
              0.6666666666666666,
              "#ed7953"
             ],
             [
              0.7777777777777778,
              "#fb9f3a"
             ],
             [
              0.8888888888888888,
              "#fdca26"
             ],
             [
              1,
              "#f0f921"
             ]
            ],
            "type": "histogram2d"
           }
          ],
          "histogram2dcontour": [
           {
            "colorbar": {
             "outlinewidth": 0,
             "ticks": ""
            },
            "colorscale": [
             [
              0,
              "#0d0887"
             ],
             [
              0.1111111111111111,
              "#46039f"
             ],
             [
              0.2222222222222222,
              "#7201a8"
             ],
             [
              0.3333333333333333,
              "#9c179e"
             ],
             [
              0.4444444444444444,
              "#bd3786"
             ],
             [
              0.5555555555555556,
              "#d8576b"
             ],
             [
              0.6666666666666666,
              "#ed7953"
             ],
             [
              0.7777777777777778,
              "#fb9f3a"
             ],
             [
              0.8888888888888888,
              "#fdca26"
             ],
             [
              1,
              "#f0f921"
             ]
            ],
            "type": "histogram2dcontour"
           }
          ],
          "mesh3d": [
           {
            "colorbar": {
             "outlinewidth": 0,
             "ticks": ""
            },
            "type": "mesh3d"
           }
          ],
          "parcoords": [
           {
            "line": {
             "colorbar": {
              "outlinewidth": 0,
              "ticks": ""
             }
            },
            "type": "parcoords"
           }
          ],
          "pie": [
           {
            "automargin": true,
            "type": "pie"
           }
          ],
          "scatter": [
           {
            "fillpattern": {
             "fillmode": "overlay",
             "size": 10,
             "solidity": 0.2
            },
            "type": "scatter"
           }
          ],
          "scatter3d": [
           {
            "line": {
             "colorbar": {
              "outlinewidth": 0,
              "ticks": ""
             }
            },
            "marker": {
             "colorbar": {
              "outlinewidth": 0,
              "ticks": ""
             }
            },
            "type": "scatter3d"
           }
          ],
          "scattercarpet": [
           {
            "marker": {
             "colorbar": {
              "outlinewidth": 0,
              "ticks": ""
             }
            },
            "type": "scattercarpet"
           }
          ],
          "scattergeo": [
           {
            "marker": {
             "colorbar": {
              "outlinewidth": 0,
              "ticks": ""
             }
            },
            "type": "scattergeo"
           }
          ],
          "scattergl": [
           {
            "marker": {
             "colorbar": {
              "outlinewidth": 0,
              "ticks": ""
             }
            },
            "type": "scattergl"
           }
          ],
          "scattermap": [
           {
            "marker": {
             "colorbar": {
              "outlinewidth": 0,
              "ticks": ""
             }
            },
            "type": "scattermap"
           }
          ],
          "scattermapbox": [
           {
            "marker": {
             "colorbar": {
              "outlinewidth": 0,
              "ticks": ""
             }
            },
            "type": "scattermapbox"
           }
          ],
          "scatterpolar": [
           {
            "marker": {
             "colorbar": {
              "outlinewidth": 0,
              "ticks": ""
             }
            },
            "type": "scatterpolar"
           }
          ],
          "scatterpolargl": [
           {
            "marker": {
             "colorbar": {
              "outlinewidth": 0,
              "ticks": ""
             }
            },
            "type": "scatterpolargl"
           }
          ],
          "scatterternary": [
           {
            "marker": {
             "colorbar": {
              "outlinewidth": 0,
              "ticks": ""
             }
            },
            "type": "scatterternary"
           }
          ],
          "surface": [
           {
            "colorbar": {
             "outlinewidth": 0,
             "ticks": ""
            },
            "colorscale": [
             [
              0,
              "#0d0887"
             ],
             [
              0.1111111111111111,
              "#46039f"
             ],
             [
              0.2222222222222222,
              "#7201a8"
             ],
             [
              0.3333333333333333,
              "#9c179e"
             ],
             [
              0.4444444444444444,
              "#bd3786"
             ],
             [
              0.5555555555555556,
              "#d8576b"
             ],
             [
              0.6666666666666666,
              "#ed7953"
             ],
             [
              0.7777777777777778,
              "#fb9f3a"
             ],
             [
              0.8888888888888888,
              "#fdca26"
             ],
             [
              1,
              "#f0f921"
             ]
            ],
            "type": "surface"
           }
          ],
          "table": [
           {
            "cells": {
             "fill": {
              "color": "#EBF0F8"
             },
             "line": {
              "color": "white"
             }
            },
            "header": {
             "fill": {
              "color": "#C8D4E3"
             },
             "line": {
              "color": "white"
             }
            },
            "type": "table"
           }
          ]
         },
         "layout": {
          "annotationdefaults": {
           "arrowcolor": "#2a3f5f",
           "arrowhead": 0,
           "arrowwidth": 1
          },
          "autotypenumbers": "strict",
          "coloraxis": {
           "colorbar": {
            "outlinewidth": 0,
            "ticks": ""
           }
          },
          "colorscale": {
           "diverging": [
            [
             0,
             "#8e0152"
            ],
            [
             0.1,
             "#c51b7d"
            ],
            [
             0.2,
             "#de77ae"
            ],
            [
             0.3,
             "#f1b6da"
            ],
            [
             0.4,
             "#fde0ef"
            ],
            [
             0.5,
             "#f7f7f7"
            ],
            [
             0.6,
             "#e6f5d0"
            ],
            [
             0.7,
             "#b8e186"
            ],
            [
             0.8,
             "#7fbc41"
            ],
            [
             0.9,
             "#4d9221"
            ],
            [
             1,
             "#276419"
            ]
           ],
           "sequential": [
            [
             0,
             "#0d0887"
            ],
            [
             0.1111111111111111,
             "#46039f"
            ],
            [
             0.2222222222222222,
             "#7201a8"
            ],
            [
             0.3333333333333333,
             "#9c179e"
            ],
            [
             0.4444444444444444,
             "#bd3786"
            ],
            [
             0.5555555555555556,
             "#d8576b"
            ],
            [
             0.6666666666666666,
             "#ed7953"
            ],
            [
             0.7777777777777778,
             "#fb9f3a"
            ],
            [
             0.8888888888888888,
             "#fdca26"
            ],
            [
             1,
             "#f0f921"
            ]
           ],
           "sequentialminus": [
            [
             0,
             "#0d0887"
            ],
            [
             0.1111111111111111,
             "#46039f"
            ],
            [
             0.2222222222222222,
             "#7201a8"
            ],
            [
             0.3333333333333333,
             "#9c179e"
            ],
            [
             0.4444444444444444,
             "#bd3786"
            ],
            [
             0.5555555555555556,
             "#d8576b"
            ],
            [
             0.6666666666666666,
             "#ed7953"
            ],
            [
             0.7777777777777778,
             "#fb9f3a"
            ],
            [
             0.8888888888888888,
             "#fdca26"
            ],
            [
             1,
             "#f0f921"
            ]
           ]
          },
          "colorway": [
           "#636efa",
           "#EF553B",
           "#00cc96",
           "#ab63fa",
           "#FFA15A",
           "#19d3f3",
           "#FF6692",
           "#B6E880",
           "#FF97FF",
           "#FECB52"
          ],
          "font": {
           "color": "#2a3f5f"
          },
          "geo": {
           "bgcolor": "white",
           "lakecolor": "white",
           "landcolor": "#E5ECF6",
           "showlakes": true,
           "showland": true,
           "subunitcolor": "white"
          },
          "hoverlabel": {
           "align": "left"
          },
          "hovermode": "closest",
          "mapbox": {
           "style": "light"
          },
          "paper_bgcolor": "white",
          "plot_bgcolor": "#E5ECF6",
          "polar": {
           "angularaxis": {
            "gridcolor": "white",
            "linecolor": "white",
            "ticks": ""
           },
           "bgcolor": "#E5ECF6",
           "radialaxis": {
            "gridcolor": "white",
            "linecolor": "white",
            "ticks": ""
           }
          },
          "scene": {
           "xaxis": {
            "backgroundcolor": "#E5ECF6",
            "gridcolor": "white",
            "gridwidth": 2,
            "linecolor": "white",
            "showbackground": true,
            "ticks": "",
            "zerolinecolor": "white"
           },
           "yaxis": {
            "backgroundcolor": "#E5ECF6",
            "gridcolor": "white",
            "gridwidth": 2,
            "linecolor": "white",
            "showbackground": true,
            "ticks": "",
            "zerolinecolor": "white"
           },
           "zaxis": {
            "backgroundcolor": "#E5ECF6",
            "gridcolor": "white",
            "gridwidth": 2,
            "linecolor": "white",
            "showbackground": true,
            "ticks": "",
            "zerolinecolor": "white"
           }
          },
          "shapedefaults": {
           "line": {
            "color": "#2a3f5f"
           }
          },
          "ternary": {
           "aaxis": {
            "gridcolor": "white",
            "linecolor": "white",
            "ticks": ""
           },
           "baxis": {
            "gridcolor": "white",
            "linecolor": "white",
            "ticks": ""
           },
           "bgcolor": "#E5ECF6",
           "caxis": {
            "gridcolor": "white",
            "linecolor": "white",
            "ticks": ""
           }
          },
          "title": {
           "x": 0.05
          },
          "xaxis": {
           "automargin": true,
           "gridcolor": "white",
           "linecolor": "white",
           "ticks": "",
           "title": {
            "standoff": 15
           },
           "zerolinecolor": "white",
           "zerolinewidth": 2
          },
          "yaxis": {
           "automargin": true,
           "gridcolor": "white",
           "linecolor": "white",
           "ticks": "",
           "title": {
            "standoff": 15
           },
           "zerolinecolor": "white",
           "zerolinewidth": 2
          }
         }
        },
        "title": {
         "text": "Trajectories",
         "x": 0.5,
         "xanchor": "center"
        },
        "width": 800
       }
      }
     },
     "metadata": {},
     "output_type": "display_data"
    }
   ],
   "source": [
    "gaz_config = ConfigGazebo(origin = enu_origin,\n",
    "                          world_path=\"simulator/gazebo/worlds/runway.world\")\n",
    "\n",
    "for path,home,c in zip(base_paths,base_homes,colors):\n",
    "    gaz_config.add(base_path=path,base_home=home,color=c)\n",
    "\n",
    "\n",
    "true_pos = enu_origin.to_abs(base_homes[1]).to_abs(base_paths[1][0]).unpose()\n",
    "fake_pos = enu_origin.to_abs(enu_origin).to_abs(ENU(x=0,y=0,z=5).pose()).unpose()\n",
    "\n",
    "true_marker = GazWP(name=\"true_pos\",\n",
    "                    group=\"true_pos\",\n",
    "                    pos=true_pos,\n",
    "                    color=Color.RED)\n",
    "fake_marker = GazWP(name=\"fake_pos\",\n",
    "                group=\"fake_pos\",\n",
    "                pos=fake_pos,\n",
    "                color=Color.ORANGE)\n",
    "\n",
    "avoid_zone = GazWP(name=\"avoid_zone\",\n",
    "                group=\"avoid_zone\",\n",
    "                pos=fake_pos,\n",
    "                color=Color.RED,\n",
    "                radius=safety_radius,\n",
    "                alpha=0.85)\n",
    "\n",
    "radar_zone = GazWP(name=\"radar_zone\",\n",
    "                group=\"radar_zone\",\n",
    "                pos=true_pos,\n",
    "                color=Color.ORANGE,\n",
    "                radius=radar_radius,\n",
    "                alpha=0.9)\n",
    "\n",
    "\n",
    "gaz= Gazebo(gaz_config,gra_origin)\n",
    "for mark in [true_marker,fake_marker,avoid_zone,radar_zone]:\n",
    "    gaz.markers.append(mark)\n",
    "\n",
    "gaz.show()"
   ]
  },
  {
   "cell_type": "code",
   "execution_count": 4,
   "metadata": {},
   "outputs": [
    {
     "data": {
      "text/html": [
       "<div style=\"width:100%;\"><div style=\"position:relative;width:100%;height:0;padding-bottom:60%;\"><span style=\"color:#565656\">Make this Notebook Trusted to load map: File -> Trust Notebook</span><iframe srcdoc=\"&lt;!DOCTYPE html&gt;\n",
       "&lt;html&gt;\n",
       "&lt;head&gt;\n",
       "    \n",
       "    &lt;meta http-equiv=&quot;content-type&quot; content=&quot;text/html; charset=UTF-8&quot; /&gt;\n",
       "    &lt;script src=&quot;https://cdn.jsdelivr.net/npm/leaflet@1.9.3/dist/leaflet.js&quot;&gt;&lt;/script&gt;\n",
       "    &lt;script src=&quot;https://code.jquery.com/jquery-3.7.1.min.js&quot;&gt;&lt;/script&gt;\n",
       "    &lt;script src=&quot;https://cdn.jsdelivr.net/npm/bootstrap@5.2.2/dist/js/bootstrap.bundle.min.js&quot;&gt;&lt;/script&gt;\n",
       "    &lt;script src=&quot;https://cdnjs.cloudflare.com/ajax/libs/Leaflet.awesome-markers/2.0.2/leaflet.awesome-markers.js&quot;&gt;&lt;/script&gt;\n",
       "    &lt;link rel=&quot;stylesheet&quot; href=&quot;https://cdn.jsdelivr.net/npm/leaflet@1.9.3/dist/leaflet.css&quot;/&gt;\n",
       "    &lt;link rel=&quot;stylesheet&quot; href=&quot;https://cdn.jsdelivr.net/npm/bootstrap@5.2.2/dist/css/bootstrap.min.css&quot;/&gt;\n",
       "    &lt;link rel=&quot;stylesheet&quot; href=&quot;https://netdna.bootstrapcdn.com/bootstrap/3.0.0/css/bootstrap-glyphicons.css&quot;/&gt;\n",
       "    &lt;link rel=&quot;stylesheet&quot; href=&quot;https://cdn.jsdelivr.net/npm/@fortawesome/fontawesome-free@6.2.0/css/all.min.css&quot;/&gt;\n",
       "    &lt;link rel=&quot;stylesheet&quot; href=&quot;https://cdnjs.cloudflare.com/ajax/libs/Leaflet.awesome-markers/2.0.2/leaflet.awesome-markers.css&quot;/&gt;\n",
       "    &lt;link rel=&quot;stylesheet&quot; href=&quot;https://cdn.jsdelivr.net/gh/python-visualization/folium/folium/templates/leaflet.awesome.rotate.min.css&quot;/&gt;\n",
       "    \n",
       "            &lt;meta name=&quot;viewport&quot; content=&quot;width=device-width,\n",
       "                initial-scale=1.0, maximum-scale=1.0, user-scalable=no&quot; /&gt;\n",
       "            &lt;style&gt;\n",
       "                #map_7aed41b0305aea3151c69b11aeae3ac6 {\n",
       "                    position: relative;\n",
       "                    width: 100.0%;\n",
       "                    height: 100.0%;\n",
       "                    left: 0.0%;\n",
       "                    top: 0.0%;\n",
       "                }\n",
       "                .leaflet-container { font-size: 1rem; }\n",
       "            &lt;/style&gt;\n",
       "\n",
       "            &lt;style&gt;html, body {\n",
       "                width: 100%;\n",
       "                height: 100%;\n",
       "                margin: 0;\n",
       "                padding: 0;\n",
       "            }\n",
       "            &lt;/style&gt;\n",
       "\n",
       "            &lt;style&gt;#map {\n",
       "                position:absolute;\n",
       "                top:0;\n",
       "                bottom:0;\n",
       "                right:0;\n",
       "                left:0;\n",
       "                }\n",
       "            &lt;/style&gt;\n",
       "\n",
       "            &lt;script&gt;\n",
       "                L_NO_TOUCH = false;\n",
       "                L_DISABLE_3D = false;\n",
       "            &lt;/script&gt;\n",
       "\n",
       "        \n",
       "&lt;/head&gt;\n",
       "&lt;body&gt;\n",
       "    \n",
       "    \n",
       "            &lt;div class=&quot;folium-map&quot; id=&quot;map_7aed41b0305aea3151c69b11aeae3ac6&quot; &gt;&lt;/div&gt;\n",
       "        \n",
       "&lt;/body&gt;\n",
       "&lt;script&gt;\n",
       "    \n",
       "    \n",
       "            var map_7aed41b0305aea3151c69b11aeae3ac6 = L.map(\n",
       "                &quot;map_7aed41b0305aea3151c69b11aeae3ac6&quot;,\n",
       "                {\n",
       "                    center: [-35.363328, 149.1652241],\n",
       "                    crs: L.CRS.EPSG3857,\n",
       "                    ...{\n",
       "  &quot;zoom&quot;: 18,\n",
       "  &quot;zoomControl&quot;: true,\n",
       "  &quot;preferCanvas&quot;: false,\n",
       "}\n",
       "\n",
       "                }\n",
       "            );\n",
       "\n",
       "            \n",
       "\n",
       "        \n",
       "    \n",
       "            var tile_layer_b5ee720071ca4307c424771c84cb647b = L.tileLayer(\n",
       "                &quot;https://tile.openstreetmap.org/{z}/{x}/{y}.png&quot;,\n",
       "                {\n",
       "  &quot;minZoom&quot;: 0,\n",
       "  &quot;maxZoom&quot;: 19,\n",
       "  &quot;maxNativeZoom&quot;: 19,\n",
       "  &quot;noWrap&quot;: false,\n",
       "  &quot;attribution&quot;: &quot;\\u0026copy; \\u003ca href=\\&quot;https://www.openstreetmap.org/copyright\\&quot;\\u003eOpenStreetMap\\u003c/a\\u003e contributors&quot;,\n",
       "  &quot;subdomains&quot;: &quot;abc&quot;,\n",
       "  &quot;detectRetina&quot;: false,\n",
       "  &quot;tms&quot;: false,\n",
       "  &quot;opacity&quot;: 1,\n",
       "}\n",
       "\n",
       "            );\n",
       "        \n",
       "    \n",
       "            tile_layer_b5ee720071ca4307c424771c84cb647b.addTo(map_7aed41b0305aea3151c69b11aeae3ac6);\n",
       "        \n",
       "    \n",
       "            var marker_8b566893e1734f3f004833d1711807fc = L.marker(\n",
       "                [-35.3633279999499, 149.1651140682887],\n",
       "                {\n",
       "}\n",
       "            ).addTo(map_7aed41b0305aea3151c69b11aeae3ac6);\n",
       "        \n",
       "    \n",
       "            var icon_047874ae5e9cea1ab2ab50096c5e87d7 = L.AwesomeMarkers.icon(\n",
       "                {\n",
       "  &quot;markerColor&quot;: &quot;green&quot;,\n",
       "  &quot;iconColor&quot;: &quot;white&quot;,\n",
       "  &quot;icon&quot;: &quot;info-sign&quot;,\n",
       "  &quot;prefix&quot;: &quot;glyphicon&quot;,\n",
       "  &quot;extraClasses&quot;: &quot;fa-rotate-0&quot;,\n",
       "}\n",
       "            );\n",
       "        \n",
       "    \n",
       "        var popup_4d86526bfc70db42e9084e33e9bd4881 = L.popup({\n",
       "  &quot;maxWidth&quot;: &quot;100%&quot;,\n",
       "});\n",
       "\n",
       "        \n",
       "            \n",
       "                var html_f32e435093cb7012a8799e28a98bbaeb = $(`&lt;div id=&quot;html_f32e435093cb7012a8799e28a98bbaeb&quot; style=&quot;width: 100.0%; height: 100.0%;&quot;&gt;wp_0&lt;/div&gt;`)[0];\n",
       "                popup_4d86526bfc70db42e9084e33e9bd4881.setContent(html_f32e435093cb7012a8799e28a98bbaeb);\n",
       "            \n",
       "        \n",
       "\n",
       "        marker_8b566893e1734f3f004833d1711807fc.bindPopup(popup_4d86526bfc70db42e9084e33e9bd4881)\n",
       "        ;\n",
       "\n",
       "        \n",
       "    \n",
       "    \n",
       "                marker_8b566893e1734f3f004833d1711807fc.setIcon(icon_047874ae5e9cea1ab2ab50096c5e87d7);\n",
       "            \n",
       "    \n",
       "            var marker_1491d023607a0c3af5bf01003390eced = L.marker(\n",
       "                [-35.36332799994992, 149.1653341317113],\n",
       "                {\n",
       "}\n",
       "            ).addTo(map_7aed41b0305aea3151c69b11aeae3ac6);\n",
       "        \n",
       "    \n",
       "            var icon_3251c6f97bb8e6d809ef1f4dcce89343 = L.AwesomeMarkers.icon(\n",
       "                {\n",
       "  &quot;markerColor&quot;: &quot;green&quot;,\n",
       "  &quot;iconColor&quot;: &quot;white&quot;,\n",
       "  &quot;icon&quot;: &quot;info-sign&quot;,\n",
       "  &quot;prefix&quot;: &quot;glyphicon&quot;,\n",
       "  &quot;extraClasses&quot;: &quot;fa-rotate-0&quot;,\n",
       "}\n",
       "            );\n",
       "        \n",
       "    \n",
       "        var popup_c21222740dd3fcfa5912bc799a81107f = L.popup({\n",
       "  &quot;maxWidth&quot;: &quot;100%&quot;,\n",
       "});\n",
       "\n",
       "        \n",
       "            \n",
       "                var html_1e3ac051d381f845d7a5465a2b9f0a62 = $(`&lt;div id=&quot;html_1e3ac051d381f845d7a5465a2b9f0a62&quot; style=&quot;width: 100.0%; height: 100.0%;&quot;&gt;wp_1&lt;/div&gt;`)[0];\n",
       "                popup_c21222740dd3fcfa5912bc799a81107f.setContent(html_1e3ac051d381f845d7a5465a2b9f0a62);\n",
       "            \n",
       "        \n",
       "\n",
       "        marker_1491d023607a0c3af5bf01003390eced.bindPopup(popup_c21222740dd3fcfa5912bc799a81107f)\n",
       "        ;\n",
       "\n",
       "        \n",
       "    \n",
       "    \n",
       "                marker_1491d023607a0c3af5bf01003390eced.setIcon(icon_3251c6f97bb8e6d809ef1f4dcce89343);\n",
       "            \n",
       "    \n",
       "            var marker_2d6954b54fe1a49f6448df8d495e703e = L.marker(\n",
       "                [-35.36337306642903, 149.1652241],\n",
       "                {\n",
       "}\n",
       "            ).addTo(map_7aed41b0305aea3151c69b11aeae3ac6);\n",
       "        \n",
       "    \n",
       "            var icon_be0aa1ed1e7f8b742c3e0dcfa64f03b9 = L.AwesomeMarkers.icon(\n",
       "                {\n",
       "  &quot;markerColor&quot;: &quot;red&quot;,\n",
       "  &quot;iconColor&quot;: &quot;white&quot;,\n",
       "  &quot;icon&quot;: &quot;info-sign&quot;,\n",
       "  &quot;prefix&quot;: &quot;glyphicon&quot;,\n",
       "  &quot;extraClasses&quot;: &quot;fa-rotate-0&quot;,\n",
       "}\n",
       "            );\n",
       "        \n",
       "    \n",
       "        var popup_ba88fe6edf6711b78012fc126d4383b0 = L.popup({\n",
       "  &quot;maxWidth&quot;: &quot;100%&quot;,\n",
       "});\n",
       "\n",
       "        \n",
       "            \n",
       "                var html_36b543a36d977bf40dd898c743d24a13 = $(`&lt;div id=&quot;html_36b543a36d977bf40dd898c743d24a13&quot; style=&quot;width: 100.0%; height: 100.0%;&quot;&gt;wp_0&lt;/div&gt;`)[0];\n",
       "                popup_ba88fe6edf6711b78012fc126d4383b0.setContent(html_36b543a36d977bf40dd898c743d24a13);\n",
       "            \n",
       "        \n",
       "\n",
       "        marker_2d6954b54fe1a49f6448df8d495e703e.bindPopup(popup_ba88fe6edf6711b78012fc126d4383b0)\n",
       "        ;\n",
       "\n",
       "        \n",
       "    \n",
       "    \n",
       "                marker_2d6954b54fe1a49f6448df8d495e703e.setIcon(icon_be0aa1ed1e7f8b742c3e0dcfa64f03b9);\n",
       "            \n",
       "    \n",
       "            var marker_48804a3f9f37a5e439bfa19f3d0e3859 = L.marker(\n",
       "                [-35.36337306642903, 149.1652241],\n",
       "                {\n",
       "}\n",
       "            ).addTo(map_7aed41b0305aea3151c69b11aeae3ac6);\n",
       "        \n",
       "    \n",
       "            var icon_9ab8467b3e46895ac5cfdaba75f00f32 = L.AwesomeMarkers.icon(\n",
       "                {\n",
       "  &quot;markerColor&quot;: &quot;red&quot;,\n",
       "  &quot;iconColor&quot;: &quot;white&quot;,\n",
       "  &quot;icon&quot;: &quot;info-sign&quot;,\n",
       "  &quot;prefix&quot;: &quot;glyphicon&quot;,\n",
       "  &quot;extraClasses&quot;: &quot;fa-rotate-0&quot;,\n",
       "}\n",
       "            );\n",
       "        \n",
       "    \n",
       "        var popup_c3e46379fb7d3ee18bef2c6800f14712 = L.popup({\n",
       "  &quot;maxWidth&quot;: &quot;100%&quot;,\n",
       "});\n",
       "\n",
       "        \n",
       "            \n",
       "                var html_d93ad5dc6c9f945f029feab2e51988e3 = $(`&lt;div id=&quot;html_d93ad5dc6c9f945f029feab2e51988e3&quot; style=&quot;width: 100.0%; height: 100.0%;&quot;&gt;true_pos&lt;/div&gt;`)[0];\n",
       "                popup_c3e46379fb7d3ee18bef2c6800f14712.setContent(html_d93ad5dc6c9f945f029feab2e51988e3);\n",
       "            \n",
       "        \n",
       "\n",
       "        marker_48804a3f9f37a5e439bfa19f3d0e3859.bindPopup(popup_c3e46379fb7d3ee18bef2c6800f14712)\n",
       "        ;\n",
       "\n",
       "        \n",
       "    \n",
       "    \n",
       "                marker_48804a3f9f37a5e439bfa19f3d0e3859.setIcon(icon_9ab8467b3e46895ac5cfdaba75f00f32);\n",
       "            \n",
       "    \n",
       "            var marker_258289d8d0d2adefd5a3c590baf01fe7 = L.marker(\n",
       "                [-35.363328, 149.1652241],\n",
       "                {\n",
       "}\n",
       "            ).addTo(map_7aed41b0305aea3151c69b11aeae3ac6);\n",
       "        \n",
       "    \n",
       "            var icon_9b6166185dc7b2596533171fb12c391f = L.AwesomeMarkers.icon(\n",
       "                {\n",
       "  &quot;markerColor&quot;: &quot;orange&quot;,\n",
       "  &quot;iconColor&quot;: &quot;white&quot;,\n",
       "  &quot;icon&quot;: &quot;info-sign&quot;,\n",
       "  &quot;prefix&quot;: &quot;glyphicon&quot;,\n",
       "  &quot;extraClasses&quot;: &quot;fa-rotate-0&quot;,\n",
       "}\n",
       "            );\n",
       "        \n",
       "    \n",
       "        var popup_e894ad4c61fae81c9637be8f130a6915 = L.popup({\n",
       "  &quot;maxWidth&quot;: &quot;100%&quot;,\n",
       "});\n",
       "\n",
       "        \n",
       "            \n",
       "                var html_95eaa2293e50443f78cd42b56b7e67f1 = $(`&lt;div id=&quot;html_95eaa2293e50443f78cd42b56b7e67f1&quot; style=&quot;width: 100.0%; height: 100.0%;&quot;&gt;fake_pos&lt;/div&gt;`)[0];\n",
       "                popup_e894ad4c61fae81c9637be8f130a6915.setContent(html_95eaa2293e50443f78cd42b56b7e67f1);\n",
       "            \n",
       "        \n",
       "\n",
       "        marker_258289d8d0d2adefd5a3c590baf01fe7.bindPopup(popup_e894ad4c61fae81c9637be8f130a6915)\n",
       "        ;\n",
       "\n",
       "        \n",
       "    \n",
       "    \n",
       "                marker_258289d8d0d2adefd5a3c590baf01fe7.setIcon(icon_9b6166185dc7b2596533171fb12c391f);\n",
       "            \n",
       "    \n",
       "            var marker_e97a6443ea4a4bdc4611e58943f5797f = L.marker(\n",
       "                [-35.363328, 149.1652241],\n",
       "                {\n",
       "}\n",
       "            ).addTo(map_7aed41b0305aea3151c69b11aeae3ac6);\n",
       "        \n",
       "    \n",
       "            var icon_4f0b7f39813937718628cf9e03a9ad2f = L.AwesomeMarkers.icon(\n",
       "                {\n",
       "  &quot;markerColor&quot;: &quot;red&quot;,\n",
       "  &quot;iconColor&quot;: &quot;white&quot;,\n",
       "  &quot;icon&quot;: &quot;info-sign&quot;,\n",
       "  &quot;prefix&quot;: &quot;glyphicon&quot;,\n",
       "  &quot;extraClasses&quot;: &quot;fa-rotate-0&quot;,\n",
       "}\n",
       "            );\n",
       "        \n",
       "    \n",
       "        var popup_8392c28aac6204b391b56a85c9b770dd = L.popup({\n",
       "  &quot;maxWidth&quot;: &quot;100%&quot;,\n",
       "});\n",
       "\n",
       "        \n",
       "            \n",
       "                var html_bdad60278ff664bafcfb23dc52e6dcfd = $(`&lt;div id=&quot;html_bdad60278ff664bafcfb23dc52e6dcfd&quot; style=&quot;width: 100.0%; height: 100.0%;&quot;&gt;avoid_zone&lt;/div&gt;`)[0];\n",
       "                popup_8392c28aac6204b391b56a85c9b770dd.setContent(html_bdad60278ff664bafcfb23dc52e6dcfd);\n",
       "            \n",
       "        \n",
       "\n",
       "        marker_e97a6443ea4a4bdc4611e58943f5797f.bindPopup(popup_8392c28aac6204b391b56a85c9b770dd)\n",
       "        ;\n",
       "\n",
       "        \n",
       "    \n",
       "    \n",
       "                marker_e97a6443ea4a4bdc4611e58943f5797f.setIcon(icon_4f0b7f39813937718628cf9e03a9ad2f);\n",
       "            \n",
       "    \n",
       "            var marker_1a9fa564e35cbac46f927a16b9d560ec = L.marker(\n",
       "                [-35.36337306642903, 149.1652241],\n",
       "                {\n",
       "}\n",
       "            ).addTo(map_7aed41b0305aea3151c69b11aeae3ac6);\n",
       "        \n",
       "    \n",
       "            var icon_6dc2c0170d170b031b3441d9051a20d9 = L.AwesomeMarkers.icon(\n",
       "                {\n",
       "  &quot;markerColor&quot;: &quot;orange&quot;,\n",
       "  &quot;iconColor&quot;: &quot;white&quot;,\n",
       "  &quot;icon&quot;: &quot;info-sign&quot;,\n",
       "  &quot;prefix&quot;: &quot;glyphicon&quot;,\n",
       "  &quot;extraClasses&quot;: &quot;fa-rotate-0&quot;,\n",
       "}\n",
       "            );\n",
       "        \n",
       "    \n",
       "        var popup_7031a4fcc7f26cb889971270c81d6991 = L.popup({\n",
       "  &quot;maxWidth&quot;: &quot;100%&quot;,\n",
       "});\n",
       "\n",
       "        \n",
       "            \n",
       "                var html_43f1c65484b3cfce09da108456c8dd4d = $(`&lt;div id=&quot;html_43f1c65484b3cfce09da108456c8dd4d&quot; style=&quot;width: 100.0%; height: 100.0%;&quot;&gt;radar_zone&lt;/div&gt;`)[0];\n",
       "                popup_7031a4fcc7f26cb889971270c81d6991.setContent(html_43f1c65484b3cfce09da108456c8dd4d);\n",
       "            \n",
       "        \n",
       "\n",
       "        marker_1a9fa564e35cbac46f927a16b9d560ec.bindPopup(popup_7031a4fcc7f26cb889971270c81d6991)\n",
       "        ;\n",
       "\n",
       "        \n",
       "    \n",
       "    \n",
       "                marker_1a9fa564e35cbac46f927a16b9d560ec.setIcon(icon_6dc2c0170d170b031b3441d9051a20d9);\n",
       "            \n",
       "&lt;/script&gt;\n",
       "&lt;/html&gt;\" style=\"position:absolute;width:100%;height:100%;left:0;top:0;border:none !important;\" allowfullscreen webkitallowfullscreen mozallowfullscreen></iframe></div></div>"
      ],
      "text/plain": [
       "<folium.folium.Map at 0x7f796d795c90>"
      ]
     },
     "execution_count": 4,
     "metadata": {},
     "output_type": "execute_result"
    }
   ],
   "source": [
    "qgc_config = ConfigQGC(origin = gra_origin)\n",
    "hev_iter = zip(base_paths,base_homes,colors,msn_delays,msn_land,speeds)\n",
    "for path,home,color,delay,land,speed in hev_iter:\n",
    "    qgc_config.add(base_path=path,base_home=home,color=color,mission_delay=delay,land=land,speed=speed)\n",
    "\n",
    "qgc=QGC(qgc_config)\n",
    "origin_qgc = QGCWP(name=\"origin\",\n",
    "                pos=gra_origin.unpose(),\n",
    "                color=Color.WHITE)\n",
    "\n",
    "true_marker = QGCWP(name=\"true_pos\",\n",
    "                    pos=gra_origin.to_abs(true_pos).unpose(),\n",
    "                    color=Color.RED)\n",
    "fake_marker = QGCWP(name=\"fake_pos\",\n",
    "                pos=gra_origin.to_abs(fake_pos).unpose(),\n",
    "                color=Color.ORANGE)\n",
    "avoid_zone = QGCWP(name=\"avoid_zone\",\n",
    "                pos=gra_origin.to_abs(fake_pos).unpose(),\n",
    "                color=Color.RED)\n",
    "\n",
    "radar_zone = QGCWP(name=\"radar_zone\",\n",
    "                pos=gra_origin.to_abs(true_pos).unpose(),\n",
    "                color=Color.ORANGE,\n",
    ")\n",
    "\n",
    "\n",
    "for mark in [true_marker,fake_marker,avoid_zone,radar_zone]:\n",
    "    qgc.markers.append(mark)\n",
    "\n",
    "qgc.show()"
   ]
  },
  {
   "cell_type": "markdown",
   "metadata": {},
   "source": [
    "## No Visualizer"
   ]
  },
  {
   "cell_type": "code",
   "execution_count": 5,
   "metadata": {},
   "outputs": [],
   "source": [
    "novis_config = ConfigNovis(origin=gra_origin)\n",
    "for home in base_homes:\n",
    "    novis_config.add(base_home=home)\n",
    "    \n",
    "novis=NoVisualizer(novis_config)"
   ]
  },
  {
   "cell_type": "code",
   "execution_count": 6,
   "metadata": {},
   "outputs": [
    {
     "data": {
      "text/plain": [
       "[QGCVehicle(home=GRAPose(lat=np.float64(-35.36332799994992), lon=np.float64(149.16511406820254), alt=np.float64(7.831696711162024e-06), heading=0), mission=Mission(traj=[QGCWP(name='wp_0', pos=GRA(lat=np.float64(-35.3633279999499), lon=np.float64(149.1651140682887), alt=np.float64(5.0000078311989915)), color=green), QGCWP(name='wp_1', pos=GRA(lat=np.float64(-35.36332799994992), lon=np.float64(149.1653341317113), alt=np.float64(5.000007830390474)), color=green)], delay=0, land=True, speed=1.0)),\n",
       " QGCVehicle(home=GRAPose(lat=np.float64(-35.36337306646448), lon=np.float64(149.1652241), alt=np.float64(1.96678708108014e-06), heading=0), mission=Mission(traj=[QGCWP(name='wp_0', pos=GRA(lat=np.float64(-35.36337306642903), lon=np.float64(149.1652241), alt=np.float64(5.000001966938339)), color=red)], delay=0, land=False, speed=1.0))]"
      ]
     },
     "execution_count": 6,
     "metadata": {},
     "output_type": "execute_result"
    }
   ],
   "source": [
    "qgc_config.vehicles"
   ]
  },
  {
   "cell_type": "markdown",
   "metadata": {},
   "source": [
    "## Launch Simulation"
   ]
  },
  {
   "cell_type": "code",
   "execution_count": 7,
   "metadata": {},
   "outputs": [
    {
     "name": "stderr",
     "output_type": "stream",
     "text": [
      "16:22:31 - Oracle ⚪ - INFO - 🖥️  Gazebo launched for realistic simulation and 3D visualization.\n",
      "16:22:32 - Oracle ⚪ - INFO - 🚀 GCS GREEN_🟩 launched (PID 2204339)\n",
      "16:22:32 - Oracle ⚪ - INFO - 🚀 GCS RED_🟥 launched (PID 2204341)\n"
     ]
    }
   ],
   "source": [
    "simulator = Simulator(\n",
    "    gra_origin=gra_origin,\n",
    "\tvisualizers=[gaz],\n",
    "\tgcs_system_ids={f\"{Color.GREEN.name}_{Color.GREEN.emoji}\" :[1],\n",
    "                f\"{Color.RED.name}_{Color.RED.emoji}\" : [255]},\n",
    "\tmissions=[veh.mission for veh in qgc_config.vehicles],\n",
    "\tterminals=['gcs'],\n",
    "\tverbose=1,\n",
    ")\n",
    "orac = simulator.launch()"
   ]
  },
  {
   "cell_type": "markdown",
   "metadata": {},
   "source": [
    "## Oracle checking"
   ]
  },
  {
   "cell_type": "code",
   "execution_count": 8,
   "metadata": {},
   "outputs": [
    {
     "name": "stderr",
     "output_type": "stream",
     "text": [
      "16:22:32 - Oracle ⚪ - INFO - 🏁 Starting Oracle with 2 vehicles and 2 GCSs\n",
      "16:24:50 - Oracle ⚪ - INFO - Received DONE from GCS GREEN_🟩\n",
      "16:24:50 - Oracle ⚪ - INFO - UAV 1 completed mission and exited\n"
     ]
    },
    {
     "ename": "KeyboardInterrupt",
     "evalue": "",
     "output_type": "error",
     "traceback": [
      "\u001b[31m---------------------------------------------------------------------------\u001b[39m",
      "\u001b[31mKeyboardInterrupt\u001b[39m                         Traceback (most recent call last)",
      "\u001b[36mCell\u001b[39m\u001b[36m \u001b[39m\u001b[32mIn[8]\u001b[39m\u001b[32m, line 1\u001b[39m\n\u001b[32m----> \u001b[39m\u001b[32m1\u001b[39m \u001b[43morac\u001b[49m\u001b[43m.\u001b[49m\u001b[43mrun\u001b[49m\u001b[43m(\u001b[49m\u001b[43m)\u001b[49m\n",
      "\u001b[36mFile \u001b[39m\u001b[32m~/code/repo/projects/uav-cyber-sim/uav-cyber-sim/oracle.py:224\u001b[39m, in \u001b[36mOracle.run\u001b[39m\u001b[34m(self)\u001b[39m\n\u001b[32m    221\u001b[39m     thread.start()\n\u001b[32m    223\u001b[39m \u001b[38;5;28;01mwhile\u001b[39;00m \u001b[38;5;28many\u001b[39m(thread.is_alive() \u001b[38;5;28;01mfor\u001b[39;00m thread \u001b[38;5;129;01min\u001b[39;00m \u001b[38;5;28mself\u001b[39m.gcs_threads.values()):\n\u001b[32m--> \u001b[39m\u001b[32m224\u001b[39m     \u001b[43mtime\u001b[49m\u001b[43m.\u001b[49m\u001b[43msleep\u001b[49m\u001b[43m(\u001b[49m\u001b[32;43m0.1\u001b[39;49m\u001b[43m)\u001b[49m\n\u001b[32m    225\u001b[39m logging.info(\u001b[33m\"\u001b[39m\u001b[33m✅ All GCS threads completed\u001b[39m\u001b[33m\"\u001b[39m)\n\u001b[32m    227\u001b[39m logging.info(\u001b[33m\"\u001b[39m\u001b[33m🎉 Oracle shutdown complete!\u001b[39m\u001b[33m\"\u001b[39m)\n",
      "\u001b[31mKeyboardInterrupt\u001b[39m: "
     ]
    }
   ],
   "source": [
    "orac.run()"
   ]
  },
  {
   "cell_type": "code",
   "execution_count": null,
   "metadata": {},
   "outputs": [],
   "source": []
  }
 ],
 "metadata": {
  "kernelspec": {
   "display_name": "uav-cyber-sim11",
   "language": "python",
   "name": "python3"
  },
  "language_info": {
   "codemirror_mode": {
    "name": "ipython",
    "version": 3
   },
   "file_extension": ".py",
   "mimetype": "text/x-python",
   "name": "python",
   "nbconvert_exporter": "python",
   "pygments_lexer": "ipython3",
   "version": "3.11.13"
  }
 },
 "nbformat": 4,
 "nbformat_minor": 2
}
