{
 "cells": [
  {
   "cell_type": "markdown",
   "metadata": {},
   "source": [
    "## Simple Mission\n",
    "\n",
    "This notebook serves to check the ardupilot installation"
   ]
  },
  {
   "cell_type": "code",
   "execution_count": 1,
   "metadata": {},
   "outputs": [],
   "source": [
    "from pymavlink import mavutil\n",
    "import subprocess\n",
    "import os\n",
    "from plan import Plan, State\n",
    "from config import ARDUPILOT_VEHICLE_PATH,LOGS_PATH,PARAMS_PATH\n",
    "\n",
    "from helpers import kill_processes,clean\n",
    "\n",
    "kill_processes()"
   ]
  },
  {
   "cell_type": "markdown",
   "metadata": {},
   "source": [
    "## Launch Copter (ardupilot)"
   ]
  },
  {
   "cell_type": "code",
   "execution_count": 2,
   "metadata": {},
   "outputs": [
    {
     "data": {
      "text/plain": [
       "<Popen: returncode: None args: ['gnome-terminal', '--', 'bash', '-c', 'pytho...>"
      ]
     },
     "execution_count": 2,
     "metadata": {},
     "output_type": "execute_result"
    }
   ],
   "source": [
    "sim_vehicle_path = os.path.expanduser(ARDUPILOT_VEHICLE_PATH)\n",
    "vehicle_cmd = f\"python3 {sim_vehicle_path} -v ArduCopter --no-rebuild --use-dir={LOGS_PATH} --add-param-file {PARAMS_PATH}\"\n",
    "# Open a new terminal and run the command\n",
    "subprocess.Popen([\"gnome-terminal\", \"--\", \"bash\", \"-c\", f\"{vehicle_cmd}; exec bash\"])"
   ]
  },
  {
   "cell_type": "markdown",
   "metadata": {},
   "source": [
    "## Connect to the vehicle"
   ]
  },
  {
   "cell_type": "code",
   "execution_count": 3,
   "metadata": {},
   "outputs": [
    {
     "name": "stdout",
     "output_type": "stream",
     "text": [
      "Heartbeat received. Connected to the vehicle.\n"
     ]
    }
   ],
   "source": [
    "conn:mavutil.mavfile = mavutil.mavlink_connection(\"udp:127.0.0.1:14550\") # type: ignore\n",
    "conn.wait_heartbeat() # type: ignore\n",
    "print(\"Heartbeat received. Connected to the vehicle.\")"
   ]
  },
  {
   "cell_type": "markdown",
   "metadata": {},
   "source": [
    "## Create Plan"
   ]
  },
  {
   "cell_type": "code",
   "execution_count": 4,
   "metadata": {},
   "outputs": [],
   "source": [
    "plan = Plan.square(side_len=5, alt=5, wp_margin=0.5, navegation_speed=5)"
   ]
  },
  {
   "cell_type": "code",
   "execution_count": 5,
   "metadata": {},
   "outputs": [
    {
     "data": {
      "text/plain": [
       "🕓 <Plan '📋 Square Trajectory'>\n",
       "  🕓 <Action '🔧 ActionNames.PREARM'>\n",
       "    🕓 <Step '🔹 Check disarmed'>\n",
       "    🕓 <Step '🔹 Check EKF'>\n",
       "    🕓 <Step '🔹 Check GPS'>\n",
       "    🕓 <Step '🔹 Check system'>\n",
       "  🕓 <Action '⚙️ ActionNames.CHANGE_FLIGHTMODE: GUIDED'>\n",
       "    🕓 <Step '🔹 Switch to GUIDED'>\n",
       "  🕓 <Action '🔐 ActionNames.ARM'>\n",
       "    🕓 <Step '🔹 arm'>\n",
       "  🕓 <Action '🛫 ActionNames.TAKEOFF'>\n",
       "    🕓 <Step '🔹 takeoff'>\n",
       "  🕓 <Action '🛩️ ActionNames.FLY'>\n",
       "    🕓 <Step '🔹 go to  -> (0, 0, 5)'>\n",
       "    🕓 <Step '🔹 go to  -> (0, 5, 5)'>\n",
       "    🕓 <Step '🔹 go to  -> (5, 5, 5)'>\n",
       "    🕓 <Step '🔹 go to  -> (5, 0, 5)'>\n",
       "    🕓 <Step '🔹 go to  -> (0, 0, 5)'>\n",
       "  🕓 <Action '🛬 ActionNames.LAND'>\n",
       "    🕓 <Step '🔹 land'>"
      ]
     },
     "execution_count": 5,
     "metadata": {},
     "output_type": "execute_result"
    }
   ],
   "source": [
    "plan"
   ]
  },
  {
   "cell_type": "markdown",
   "metadata": {},
   "source": [
    "# Execute Plan"
   ]
  },
  {
   "cell_type": "code",
   "execution_count": 6,
   "metadata": {},
   "outputs": [
    {
     "name": "stdout",
     "output_type": "stream",
     "text": [
      "Vehicle 1: ▶️ Plan Started: 📋 Square Trajectory\n",
      "Vehicle 1: ▶️ Action Started: 🔧 ActionNames.PREARM\n",
      "Vehicle 1: ▶️ Step Started: Check disarmed\n",
      "Vehicle 1: ✅ Step Done: Check disarmed\n",
      "Vehicle 1: ▶️ Step Started: Check EKF\n",
      "Vehicle 1: ✅ Step Done: Check EKF\n",
      "Vehicle 1: ▶️ Step Started: Check GPS\n",
      "Vehicle 1: ✅ Step Done: Check GPS\n",
      "Vehicle 1: ▶️ Step Started: Check system\n",
      "Vehicle 1: ✅ Step Done: Check system\n",
      "Vehicle 1: ✅ Action Done: 🔧 ActionNames.PREARM\n",
      "Vehicle 1: ▶️ Action Started: ⚙️ ActionNames.CHANGE_FLIGHTMODE: GUIDED\n",
      "Vehicle 1: ▶️ Step Started: Switch to GUIDED\n",
      "Vehicle 1: ✅ Step Done: Switch to GUIDED\n",
      "Vehicle 1: ✅ Action Done: ⚙️ ActionNames.CHANGE_FLIGHTMODE: GUIDED\n",
      "Vehicle 1: ▶️ Action Started: 🔐 ActionNames.ARM\n",
      "Vehicle 1: ▶️ Step Started: arm\n",
      "Vehicle 1: ✅ Step Done: arm\n",
      "Vehicle 1: ✅ Action Done: 🔐 ActionNames.ARM\n",
      "Vehicle 1: ▶️ Action Started: 🛫 ActionNames.TAKEOFF\n",
      "Vehicle 1: ▶️ Step Started: takeoff\n",
      "Vehicle 1: ✅ Step Done: takeoff\n",
      "Vehicle 1: ✅ Action Done: 🛫 ActionNames.TAKEOFF\n",
      "Vehicle 1: ▶️ Action Started: 🛩️ ActionNames.FLY\n",
      "Vehicle 1: ▶️ Step Started: go to  -> (0, 0, 5)\n",
      "Vehicle 1: ✅ Step Done: go to  -> (0, 0, 5)\n",
      "Vehicle 1: ▶️ Step Started: go to  -> (0, 5, 5)\n",
      "Vehicle 1: ✅ Step Done: go to  -> (0, 5, 5)\n",
      "Vehicle 1: ▶️ Step Started: go to  -> (5, 5, 5)\n",
      "Vehicle 1: ✅ Step Done: go to  -> (5, 5, 5)\n",
      "Vehicle 1: ▶️ Step Started: go to  -> (5, 0, 5)\n",
      "Vehicle 1: ✅ Step Done: go to  -> (5, 0, 5)\n",
      "Vehicle 1: ▶️ Step Started: go to  -> (0, 0, 5)\n",
      "Vehicle 1: ✅ Step Done: go to  -> (0, 0, 5)\n",
      "Vehicle 1: ✅ Action Done: 🛩️ ActionNames.FLY\n",
      "Vehicle 1: ▶️ Action Started: 🛬 ActionNames.LAND\n",
      "Vehicle 1: ▶️ Step Started: land\n",
      "Vehicle 1: ✅ Step Done: land\n",
      "Vehicle 1: ✅ Action Done: 🛬 ActionNames.LAND\n",
      "Vehicle 1: ✅ Plan Done: 📋 Square Trajectory\n"
     ]
    }
   ],
   "source": [
    "plan.bind(conn, verbose = 1)\n",
    "while plan.state != State.DONE:\n",
    "    plan.act()"
   ]
  },
  {
   "cell_type": "code",
   "execution_count": 7,
   "metadata": {},
   "outputs": [
    {
     "name": "stdout",
     "output_type": "stream",
     "text": [
      "✅ <Plan '📋 Square Trajectory'>\n",
      "  ✅ <Action '🔧 ActionNames.PREARM'>\n",
      "    ✅ <Step '🔹 Check disarmed'>\n",
      "    ✅ <Step '🔹 Check EKF'>\n",
      "    ✅ <Step '🔹 Check GPS'>\n",
      "    ✅ <Step '🔹 Check system'>\n",
      "  ✅ <Action '⚙️ ActionNames.CHANGE_FLIGHTMODE: GUIDED'>\n",
      "    ✅ <Step '🔹 Switch to GUIDED'>\n",
      "  ✅ <Action '🔐 ActionNames.ARM'>\n",
      "    ✅ <Step '🔹 arm'>\n",
      "  ✅ <Action '🛫 ActionNames.TAKEOFF'>\n",
      "    ✅ <Step '🔹 takeoff'>\n",
      "  ✅ <Action '🛩️ ActionNames.FLY'>\n",
      "    ✅ <Step '🔹 go to  -> (0, 0, 5)'>\n",
      "    ✅ <Step '🔹 go to  -> (0, 5, 5)'>\n",
      "    ✅ <Step '🔹 go to  -> (5, 5, 5)'>\n",
      "    ✅ <Step '🔹 go to  -> (5, 0, 5)'>\n",
      "    ✅ <Step '🔹 go to  -> (0, 0, 5)'>\n",
      "  ✅ <Action '🛬 ActionNames.LAND'>\n",
      "    ✅ <Step '🔹 land'>\n"
     ]
    }
   ],
   "source": [
    "print(plan)"
   ]
  },
  {
   "cell_type": "code",
   "execution_count": 8,
   "metadata": {},
   "outputs": [],
   "source": [
    "plan.reset()"
   ]
  },
  {
   "cell_type": "code",
   "execution_count": 9,
   "metadata": {},
   "outputs": [
    {
     "name": "stdout",
     "output_type": "stream",
     "text": [
      "🕓 <Plan '📋 Square Trajectory'>\n",
      "  🕓 <Action '🔧 ActionNames.PREARM'>\n",
      "    🕓 <Step '🔹 Check disarmed'>\n",
      "    🕓 <Step '🔹 Check EKF'>\n",
      "    🕓 <Step '🔹 Check GPS'>\n",
      "    🕓 <Step '🔹 Check system'>\n",
      "  🕓 <Action '⚙️ ActionNames.CHANGE_FLIGHTMODE: GUIDED'>\n",
      "    🕓 <Step '🔹 Switch to GUIDED'>\n",
      "  🕓 <Action '🔐 ActionNames.ARM'>\n",
      "    🕓 <Step '🔹 arm'>\n",
      "  🕓 <Action '🛫 ActionNames.TAKEOFF'>\n",
      "    🕓 <Step '🔹 takeoff'>\n",
      "  🕓 <Action '🛩️ ActionNames.FLY'>\n",
      "    🕓 <Step '🔹 go to  -> (0, 0, 5)'>\n",
      "    🕓 <Step '🔹 go to  -> (0, 5, 5)'>\n",
      "    🕓 <Step '🔹 go to  -> (5, 5, 5)'>\n",
      "    🕓 <Step '🔹 go to  -> (5, 0, 5)'>\n",
      "    🕓 <Step '🔹 go to  -> (0, 0, 5)'>\n",
      "  🕓 <Action '🛬 ActionNames.LAND'>\n",
      "    🕓 <Step '🔹 land'>\n"
     ]
    }
   ],
   "source": [
    "print(plan)"
   ]
  },
  {
   "cell_type": "code",
   "execution_count": 10,
   "metadata": {},
   "outputs": [],
   "source": [
    "clean()"
   ]
  },
  {
   "cell_type": "code",
   "execution_count": null,
   "metadata": {},
   "outputs": [],
   "source": []
  }
 ],
 "metadata": {
  "kernelspec": {
   "display_name": "uav-cyber-sim-py311",
   "language": "python",
   "name": "python3"
  },
  "language_info": {
   "codemirror_mode": {
    "name": "ipython",
    "version": 3
   },
   "file_extension": ".py",
   "mimetype": "text/x-python",
   "name": "python",
   "nbconvert_exporter": "python",
   "pygments_lexer": "ipython3",
   "version": "3.11.11"
  }
 },
 "nbformat": 4,
 "nbformat_minor": 2
}
