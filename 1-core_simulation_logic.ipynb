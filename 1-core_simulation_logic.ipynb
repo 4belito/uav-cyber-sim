{
 "cells": [
  {
   "cell_type": "markdown",
   "metadata": {},
   "source": [
    "## Simple Mission\n",
    "\n",
    "This notebook serves to check the ardupilot installation"
   ]
  },
  {
   "cell_type": "code",
   "execution_count": 1,
   "metadata": {},
   "outputs": [],
   "source": [
    "from pymavlink import mavutil\n",
    "import subprocess\n",
    "import os\n",
    "import time\n",
    "\n",
    "from plan import Plan, State\n",
    "from config import ARDUPILOT_VEHICLE_PATH,LOGS_PATH,PARAMS_PATH,BasePort\n",
    "from helpers.mavlink import MAVConnection\n",
    "from helpers import kill_processes,clean\n",
    "\n",
    "kill_processes()"
   ]
  },
  {
   "cell_type": "markdown",
   "metadata": {},
   "source": [
    "## Launch Copter (ardupilot)"
   ]
  },
  {
   "cell_type": "code",
   "execution_count": null,
   "metadata": {},
   "outputs": [],
   "source": [
    "sim_vehicle_path = os.path.expanduser(ARDUPILOT_VEHICLE_PATH)\n",
    "vehicle_cmd = (\n",
    "    f\"python3 {sim_vehicle_path} \"\n",
    "    f\"-v ArduCopter \"\n",
    "    f\"-I0 --sysid 1 \"\n",
    "    f\"--no-rebuild \"\n",
    "    f\"--use-dir={LOGS_PATH} \"\n",
    "    f\"--add-param-file {PARAMS_PATH} \"\n",
    "    f\"--no-mavproxy \"\n",
    ")\n",
    "\n",
    "\n",
    "# Open a new terminal and run the command\n",
    "subprocess.Popen([\"gnome-terminal\", \"--\", \"bash\", \"-c\", f\"{vehicle_cmd}; exec bash\"])\n",
    "\n",
    "# give some time to ardupilot to launch\n",
    "time.sleep(0.6) "
   ]
  },
  {
   "cell_type": "markdown",
   "metadata": {},
   "source": [
    "## Connect to the vehicle"
   ]
  },
  {
   "cell_type": "code",
   "execution_count": 3,
   "metadata": {},
   "outputs": [
    {
     "name": "stdout",
     "output_type": "stream",
     "text": [
      "✅ Heartbeat received\n"
     ]
    }
   ],
   "source": [
    "conn: MAVConnection = mavutil.mavlink_connection(f\"tcp:127.0.0.1:{BasePort.ARP}\") # type: ignore\n",
    "conn.wait_heartbeat()\n",
    "print(\"✅ Heartbeat received\")"
   ]
  },
  {
   "cell_type": "markdown",
   "metadata": {},
   "source": [
    "## Create Plan"
   ]
  },
  {
   "cell_type": "code",
   "execution_count": 4,
   "metadata": {},
   "outputs": [],
   "source": [
    "plan = Plan.square(side_len=5, alt=5, wp_margin=0.5, navegation_speed=5)"
   ]
  },
  {
   "cell_type": "code",
   "execution_count": 5,
   "metadata": {},
   "outputs": [
    {
     "data": {
      "text/plain": [
       "🕓 <Plan '📋 Square Trajectory'>\n",
       "  🕓 <Action '🔧 PREARM'>\n",
       "    🕓 <Step '🔹 Check disarmed'>\n",
       "    🕓 <Step '🔹 Check EKF status'>\n",
       "    🕓 <Step '🔹 Check GPS'>\n",
       "    🕓 <Step '🔹 Check system'>\n",
       "  🕓 <Action '⚙️ MODE: GUIDED'>\n",
       "    🕓 <Step '🔹 Switch to GUIDED'>\n",
       "  🕓 <Action '🔐 ARM'>\n",
       "    🕓 <Step '🔹 arm'>\n",
       "  🕓 <Action '🛫 TAKEOFF'>\n",
       "    🕓 <Step '🔹 takeoff'>\n",
       "  🕓 <Action '🛩️ FLY'>\n",
       "    🕓 <Step '🔹 go to  -> (0, 0, 5)'>\n",
       "    🕓 <Step '🔹 go to  -> (0, 5, 5)'>\n",
       "    🕓 <Step '🔹 go to  -> (5, 5, 5)'>\n",
       "    🕓 <Step '🔹 go to  -> (5, 0, 5)'>\n",
       "    🕓 <Step '🔹 go to  -> (0, 0, 5)'>\n",
       "  🕓 <Action '🛬 LAND'>\n",
       "    🕓 <Step '🔹 land'>"
      ]
     },
     "execution_count": 5,
     "metadata": {},
     "output_type": "execute_result"
    }
   ],
   "source": [
    "plan"
   ]
  },
  {
   "cell_type": "markdown",
   "metadata": {},
   "source": [
    "# Execute Plan"
   ]
  },
  {
   "cell_type": "code",
   "execution_count": 6,
   "metadata": {},
   "outputs": [
    {
     "name": "stdout",
     "output_type": "stream",
     "text": [
      "Vehicle None: ▶️ Plan Started: 📋 Square Trajectory\n",
      "Vehicle None: ▶️ Action Started: 🔧 PREARM\n",
      "Vehicle None: ▶️ Step Started: Check disarmed\n",
      "Vehicle None: ✅ Step Done: Check disarmed\n",
      "Vehicle None: ▶️ Step Started: Check EKF status\n",
      "Vehicle None: ✅ Step Done: Check EKF status\n",
      "Vehicle None: ▶️ Step Started: Check GPS\n",
      "Vehicle None: ✅ Step Done: Check GPS\n",
      "Vehicle None: ▶️ Step Started: Check system\n",
      "Vehicle None: ✅ Step Done: Check system\n",
      "Vehicle None: ✅ Action Done: 🔧 PREARM\n",
      "Vehicle None: ▶️ Action Started: ⚙️ MODE: GUIDED\n",
      "Vehicle None: ▶️ Step Started: Switch to GUIDED\n",
      "Vehicle None: ✅ Step Done: Switch to GUIDED\n",
      "Vehicle None: ✅ Action Done: ⚙️ MODE: GUIDED\n",
      "Vehicle None: ▶️ Action Started: 🔐 ARM\n",
      "Vehicle None: ▶️ Step Started: arm\n",
      "Vehicle None: ✅ Step Done: arm\n",
      "Vehicle None: ✅ Action Done: 🔐 ARM\n",
      "Vehicle None: ▶️ Action Started: 🛫 TAKEOFF\n",
      "Vehicle None: ▶️ Step Started: takeoff\n",
      "Vehicle None: ✅ Step Done: takeoff\n",
      "Vehicle None: ✅ Action Done: 🛫 TAKEOFF\n",
      "Vehicle None: ▶️ Action Started: 🛩️ FLY\n",
      "Vehicle None: ▶️ Step Started: go to  -> (0, 0, 5)\n",
      "Vehicle None: ✅ Step Done: go to  -> (0, 0, 5)\n",
      "Vehicle None: ▶️ Step Started: go to  -> (0, 5, 5)\n",
      "Vehicle None: ✅ Step Done: go to  -> (0, 5, 5)\n",
      "Vehicle None: ▶️ Step Started: go to  -> (5, 5, 5)\n",
      "Vehicle None: ✅ Step Done: go to  -> (5, 5, 5)\n",
      "Vehicle None: ▶️ Step Started: go to  -> (5, 0, 5)\n",
      "Vehicle None: ✅ Step Done: go to  -> (5, 0, 5)\n",
      "Vehicle None: ▶️ Step Started: go to  -> (0, 0, 5)\n",
      "Vehicle None: ✅ Step Done: go to  -> (0, 0, 5)\n",
      "Vehicle None: ✅ Action Done: 🛩️ FLY\n",
      "Vehicle None: ▶️ Action Started: 🛬 LAND\n",
      "Vehicle None: ▶️ Step Started: land\n",
      "Vehicle None: ✅ Step Done: land\n",
      "Vehicle None: ✅ Action Done: 🛬 LAND\n",
      "Vehicle None: ✅ Plan Done: 📋 Square Trajectory\n"
     ]
    }
   ],
   "source": [
    "plan.bind(conn, verbose = 1)\n",
    "while plan.state != State.DONE:\n",
    "    plan.act()\n",
    "clean()"
   ]
  },
  {
   "cell_type": "code",
   "execution_count": 7,
   "metadata": {},
   "outputs": [
    {
     "name": "stdout",
     "output_type": "stream",
     "text": [
      "✅ <Plan '📋 Square Trajectory'>\n",
      "  ✅ <Action '🔧 PREARM'>\n",
      "    ✅ <Step '🔹 Check disarmed'>\n",
      "    ✅ <Step '🔹 Check EKF status'>\n",
      "    ✅ <Step '🔹 Check GPS'>\n",
      "    ✅ <Step '🔹 Check system'>\n",
      "  ✅ <Action '⚙️ MODE: GUIDED'>\n",
      "    ✅ <Step '🔹 Switch to GUIDED'>\n",
      "  ✅ <Action '🔐 ARM'>\n",
      "    ✅ <Step '🔹 arm'>\n",
      "  ✅ <Action '🛫 TAKEOFF'>\n",
      "    ✅ <Step '🔹 takeoff'>\n",
      "  ✅ <Action '🛩️ FLY'>\n",
      "    ✅ <Step '🔹 go to  -> (0, 0, 5)'>\n",
      "    ✅ <Step '🔹 go to  -> (0, 5, 5)'>\n",
      "    ✅ <Step '🔹 go to  -> (5, 5, 5)'>\n",
      "    ✅ <Step '🔹 go to  -> (5, 0, 5)'>\n",
      "    ✅ <Step '🔹 go to  -> (0, 0, 5)'>\n",
      "  ✅ <Action '🛬 LAND'>\n",
      "    ✅ <Step '🔹 land'>\n"
     ]
    }
   ],
   "source": [
    "print(plan)"
   ]
  },
  {
   "cell_type": "code",
   "execution_count": 8,
   "metadata": {},
   "outputs": [],
   "source": [
    "plan.reset()"
   ]
  },
  {
   "cell_type": "code",
   "execution_count": 9,
   "metadata": {},
   "outputs": [
    {
     "name": "stdout",
     "output_type": "stream",
     "text": [
      "🕓 <Plan '📋 Square Trajectory'>\n",
      "  🕓 <Action '🔧 PREARM'>\n",
      "    🕓 <Step '🔹 Check disarmed'>\n",
      "    🕓 <Step '🔹 Check EKF status'>\n",
      "    🕓 <Step '🔹 Check GPS'>\n",
      "    🕓 <Step '🔹 Check system'>\n",
      "  🕓 <Action '⚙️ MODE: GUIDED'>\n",
      "    🕓 <Step '🔹 Switch to GUIDED'>\n",
      "  🕓 <Action '🔐 ARM'>\n",
      "    🕓 <Step '🔹 arm'>\n",
      "  🕓 <Action '🛫 TAKEOFF'>\n",
      "    🕓 <Step '🔹 takeoff'>\n",
      "  🕓 <Action '🛩️ FLY'>\n",
      "    🕓 <Step '🔹 go to  -> (0, 0, 5)'>\n",
      "    🕓 <Step '🔹 go to  -> (0, 5, 5)'>\n",
      "    🕓 <Step '🔹 go to  -> (5, 5, 5)'>\n",
      "    🕓 <Step '🔹 go to  -> (5, 0, 5)'>\n",
      "    🕓 <Step '🔹 go to  -> (0, 0, 5)'>\n",
      "  🕓 <Action '🛬 LAND'>\n",
      "    🕓 <Step '🔹 land'>\n"
     ]
    }
   ],
   "source": [
    "print(plan)"
   ]
  },
  {
   "cell_type": "code",
   "execution_count": null,
   "metadata": {},
   "outputs": [],
   "source": []
  }
 ],
 "metadata": {
  "kernelspec": {
   "display_name": "uav-cyber-sim-py311",
   "language": "python",
   "name": "python3"
  },
  "language_info": {
   "codemirror_mode": {
    "name": "ipython",
    "version": 3
   },
   "file_extension": ".py",
   "mimetype": "text/x-python",
   "name": "python",
   "nbconvert_exporter": "python",
   "pygments_lexer": "ipython3",
   "version": "3.11.11"
  }
 },
 "nbformat": 4,
 "nbformat_minor": 2
}
