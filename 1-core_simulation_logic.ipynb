{
 "cells": [
  {
   "cell_type": "markdown",
   "metadata": {},
   "source": [
    "## Simple Mission\n",
    "\n",
    "This notebook serves to check the ardupilot installation"
   ]
  },
  {
   "cell_type": "code",
   "execution_count": 1,
   "metadata": {},
   "outputs": [],
   "source": [
    "from pymavlink import mavutil\n",
    "import subprocess\n",
    "import os\n",
    "from plan import Plan, State\n",
    "from config import ARDUPILOT_VEHICLE_PATH\n",
    "\n",
    "from helpers.cleanup import kill_processes\n",
    "\n",
    "kill_processes()"
   ]
  },
  {
   "cell_type": "markdown",
   "metadata": {},
   "source": [
    "## Launch Copter (ardupilot)"
   ]
  },
  {
   "cell_type": "code",
   "execution_count": 2,
   "metadata": {},
   "outputs": [
    {
     "data": {
      "text/plain": [
       "<Popen: returncode: None args: ['gnome-terminal', '--', 'bash', '-c', 'pytho...>"
      ]
     },
     "execution_count": 2,
     "metadata": {},
     "output_type": "execute_result"
    }
   ],
   "source": [
    "sim_vehicle_path = os.path.expanduser(ARDUPILOT_VEHICLE_PATH)\n",
    "vehicle_cmd = f\"python3 {sim_vehicle_path} -v ArduCopter\"\n",
    "# Open a new terminal and run the command\n",
    "subprocess.Popen([\"gnome-terminal\", \"--\", \"bash\", \"-c\", f\"{vehicle_cmd}; exec bash\"])"
   ]
  },
  {
   "cell_type": "markdown",
   "metadata": {},
   "source": [
    "## Connect to the vehicle"
   ]
  },
  {
   "cell_type": "code",
   "execution_count": 3,
   "metadata": {},
   "outputs": [
    {
     "name": "stdout",
     "output_type": "stream",
     "text": [
      "Heartbeat received. Connected to the vehicle.\n"
     ]
    }
   ],
   "source": [
    "conn = mavutil.mavlink_connection(\"udp:127.0.0.1:14550\")\n",
    "conn.wait_heartbeat()\n",
    "print(\"Heartbeat received. Connected to the vehicle.\")"
   ]
  },
  {
   "cell_type": "markdown",
   "metadata": {},
   "source": [
    "## Create Plan"
   ]
  },
  {
   "cell_type": "code",
   "execution_count": 4,
   "metadata": {},
   "outputs": [],
   "source": [
    "plan = Plan.square(side_len=5, alt=5, wp_margin=0.5, navegation_speed=5)"
   ]
  },
  {
   "cell_type": "code",
   "execution_count": 5,
   "metadata": {},
   "outputs": [
    {
     "data": {
      "text/plain": [
       "🕓 <Plan '📋 Square Trajectory'>\n",
       "  🕓 <Action '🔧 PREARM'>\n",
       "    🕓 <Step '🔹 Check disarmed'>\n",
       "    🕓 <Step '🔹 Check EKF'>\n",
       "    🕓 <Step '🔹 Check GPS'>\n",
       "    🕓 <Step '🔹 Check system'>\n",
       "  🕓 <Action '⚙️ MODE: GUIDED'>\n",
       "    🕓 <Step '🔹 Switch to GUIDED'>\n",
       "  🕓 <Action '🔐 ARM'>\n",
       "    🕓 <Step '🔹 arm'>\n",
       "  🕓 <Action '🛫 TAKEOFF'>\n",
       "    🕓 <Step '🔹 takeoff'>\n",
       "  🕓 <Action '🛩️ FLY'>\n",
       "    🕓 <Step '🔹 go to  -> (0, 0, 5)'>\n",
       "    🕓 <Step '🔹 go to  -> (0, 5, 5)'>\n",
       "    🕓 <Step '🔹 go to  -> (5, 5, 5)'>\n",
       "    🕓 <Step '🔹 go to  -> (5, 0, 5)'>\n",
       "    🕓 <Step '🔹 go to  -> (0, 0, 5)'>\n",
       "  🕓 <Action '🛬 LAND'>\n",
       "    🕓 <Step '🔹 land'>"
      ]
     },
     "execution_count": 5,
     "metadata": {},
     "output_type": "execute_result"
    }
   ],
   "source": [
    "plan"
   ]
  },
  {
   "cell_type": "markdown",
   "metadata": {},
   "source": [
    "# Execute Plan"
   ]
  },
  {
   "cell_type": "code",
   "execution_count": 6,
   "metadata": {},
   "outputs": [
    {
     "name": "stdout",
     "output_type": "stream",
     "text": [
      "Vehicle 1: ▶️ Plan Started: 📋 Square Trajectory\n",
      "Vehicle 1: ▶️ Action Started: 🔧 PREARM\n",
      "Vehicle 1: ▶️ Step Started: Check disarmed\n",
      "Vehicle 1: ✅ Step Done: Check disarmed\n",
      "Vehicle 1: ▶️ Step Started: Check EKF\n",
      "Vehicle 1: ✅ Step Done: Check EKF\n",
      "Vehicle 1: ▶️ Step Started: Check GPS\n",
      "Vehicle 1: ✅ Step Done: Check GPS\n",
      "Vehicle 1: ▶️ Step Started: Check system\n",
      "Vehicle 1: ✅ Step Done: Check system\n",
      "Vehicle 1: ✅ Action Done: 🔧 PREARM\n",
      "Vehicle 1: ▶️ Action Started: ⚙️ MODE: GUIDED\n",
      "Vehicle 1: ▶️ Step Started: Switch to GUIDED\n",
      "Vehicle 1: ✅ Step Done: Switch to GUIDED\n",
      "Vehicle 1: ✅ Action Done: ⚙️ MODE: GUIDED\n",
      "Vehicle 1: ▶️ Action Started: 🔐 ARM\n",
      "Vehicle 1: ▶️ Step Started: arm\n",
      "Vehicle 1: ✅ Step Done: arm\n",
      "Vehicle 1: ✅ Action Done: 🔐 ARM\n",
      "Vehicle 1: ▶️ Action Started: 🛫 TAKEOFF\n",
      "Vehicle 1: ▶️ Step Started: takeoff\n",
      "Vehicle 1: ✅ Step Done: takeoff\n",
      "Vehicle 1: ✅ Action Done: 🛫 TAKEOFF\n",
      "Vehicle 1: ▶️ Action Started: 🛩️ FLY\n",
      "Vehicle 1: ▶️ Step Started: go to  -> (0, 0, 5)\n",
      "Vehicle 1: ✅ Step Done: go to  -> (0, 0, 5)\n",
      "Vehicle 1: ▶️ Step Started: go to  -> (0, 5, 5)\n",
      "Vehicle 1: ✅ Step Done: go to  -> (0, 5, 5)\n",
      "Vehicle 1: ▶️ Step Started: go to  -> (5, 5, 5)\n",
      "Vehicle 1: ✅ Step Done: go to  -> (5, 5, 5)\n",
      "Vehicle 1: ▶️ Step Started: go to  -> (5, 0, 5)\n",
      "Vehicle 1: ✅ Step Done: go to  -> (5, 0, 5)\n",
      "Vehicle 1: ▶️ Step Started: go to  -> (0, 0, 5)\n",
      "Vehicle 1: ✅ Step Done: go to  -> (0, 0, 5)\n",
      "Vehicle 1: ✅ Action Done: 🛩️ FLY\n",
      "Vehicle 1: ▶️ Action Started: 🛬 LAND\n",
      "Vehicle 1: ▶️ Step Started: land\n",
      "Vehicle 1: ✅ Step Done: land\n",
      "Vehicle 1: ✅ Action Done: 🛬 LAND\n",
      "Vehicle 1: ✅ Plan Done: 📋 Square Trajectory\n"
     ]
    }
   ],
   "source": [
    "plan.bind(conn, verbose = 1)\n",
    "while plan.state != State.DONE:\n",
    "    plan.act()"
   ]
  },
  {
   "cell_type": "code",
   "execution_count": 12,
   "metadata": {},
   "outputs": [
    {
     "name": "stdout",
     "output_type": "stream",
     "text": [
      "🕓 <Plan '📋 Square Trajectory'>\n",
      "  🕓 <Action '🔧 PREARM'>\n",
      "    🕓 <Step '🔹 Check disarmed'>\n",
      "    🕓 <Step '🔹 Check EKF'>\n",
      "    🕓 <Step '🔹 Check GPS'>\n",
      "    🕓 <Step '🔹 Check system'>\n",
      "  🕓 <Action '⚙️ MODE: GUIDED'>\n",
      "    🕓 <Step '🔹 Switch to GUIDED'>\n",
      "  🕓 <Action '🔐 ARM'>\n",
      "    🕓 <Step '🔹 arm'>\n",
      "  🕓 <Action '🛫 TAKEOFF'>\n",
      "    🕓 <Step '🔹 takeoff'>\n",
      "  🕓 <Action '🛩️ FLY'>\n",
      "    🕓 <Step '🔹 go to  -> (0, 0, 5)'>\n",
      "    🕓 <Step '🔹 go to  -> (0, 5, 5)'>\n",
      "    🕓 <Step '🔹 go to  -> (5, 5, 5)'>\n",
      "    🕓 <Step '🔹 go to  -> (5, 0, 5)'>\n",
      "    🕓 <Step '🔹 go to  -> (0, 0, 5)'>\n",
      "  🕓 <Action '🛬 LAND'>\n",
      "    🕓 <Step '🔹 land'>\n"
     ]
    }
   ],
   "source": [
    "print(plan)"
   ]
  },
  {
   "cell_type": "code",
   "execution_count": 13,
   "metadata": {},
   "outputs": [
    {
     "name": "stdout",
     "output_type": "stream",
     "text": [
      "🕓 <Plan '📋 Square Trajectory'>\n",
      "  🕓 <Action '🔧 PREARM'>\n",
      "    🕓 <Step '🔹 Check disarmed'>\n",
      "    🕓 <Step '🔹 Check EKF'>\n",
      "    🕓 <Step '🔹 Check GPS'>\n",
      "    🕓 <Step '🔹 Check system'>\n",
      "  🕓 <Action '⚙️ MODE: GUIDED'>\n",
      "    🕓 <Step '🔹 Switch to GUIDED'>\n",
      "  🕓 <Action '🔐 ARM'>\n",
      "    🕓 <Step '🔹 arm'>\n",
      "  🕓 <Action '🛫 TAKEOFF'>\n",
      "    🕓 <Step '🔹 takeoff'>\n",
      "  🕓 <Action '🛩️ FLY'>\n",
      "    🕓 <Step '🔹 go to  -> (0, 0, 5)'>\n",
      "    🕓 <Step '🔹 go to  -> (0, 5, 5)'>\n",
      "    🕓 <Step '🔹 go to  -> (5, 5, 5)'>\n",
      "    🕓 <Step '🔹 go to  -> (5, 0, 5)'>\n",
      "    🕓 <Step '🔹 go to  -> (0, 0, 5)'>\n",
      "  🕓 <Action '🛬 LAND'>\n",
      "    🕓 <Step '🔹 land'>\n"
     ]
    }
   ],
   "source": [
    "print(plan)"
   ]
  },
  {
   "cell_type": "code",
   "execution_count": 14,
   "metadata": {},
   "outputs": [],
   "source": [
    "plan.reset()"
   ]
  },
  {
   "cell_type": "code",
   "execution_count": 15,
   "metadata": {},
   "outputs": [
    {
     "name": "stdout",
     "output_type": "stream",
     "text": [
      "🕓 <Plan '📋 Square Trajectory'>\n",
      "  🕓 <Action '🔧 PREARM'>\n",
      "    🕓 <Step '🔹 Check disarmed'>\n",
      "    🕓 <Step '🔹 Check EKF'>\n",
      "    🕓 <Step '🔹 Check GPS'>\n",
      "    🕓 <Step '🔹 Check system'>\n",
      "  🕓 <Action '⚙️ MODE: GUIDED'>\n",
      "    🕓 <Step '🔹 Switch to GUIDED'>\n",
      "  🕓 <Action '🔐 ARM'>\n",
      "    🕓 <Step '🔹 arm'>\n",
      "  🕓 <Action '🛫 TAKEOFF'>\n",
      "    🕓 <Step '🔹 takeoff'>\n",
      "  🕓 <Action '🛩️ FLY'>\n",
      "    🕓 <Step '🔹 go to  -> (0, 0, 5)'>\n",
      "    🕓 <Step '🔹 go to  -> (0, 5, 5)'>\n",
      "    🕓 <Step '🔹 go to  -> (5, 5, 5)'>\n",
      "    🕓 <Step '🔹 go to  -> (5, 0, 5)'>\n",
      "    🕓 <Step '🔹 go to  -> (0, 0, 5)'>\n",
      "  🕓 <Action '🛬 LAND'>\n",
      "    🕓 <Step '🔹 land'>\n"
     ]
    }
   ],
   "source": [
    "print(plan)"
   ]
  },
  {
   "cell_type": "code",
   "execution_count": 16,
   "metadata": {},
   "outputs": [],
   "source": [
    "kill_processes()"
   ]
  },
  {
   "cell_type": "code",
   "execution_count": null,
   "metadata": {},
   "outputs": [],
   "source": []
  }
 ],
 "metadata": {
  "kernelspec": {
   "display_name": "pymavlink",
   "language": "python",
   "name": "python3"
  },
  "language_info": {
   "codemirror_mode": {
    "name": "ipython",
    "version": 3
   },
   "file_extension": ".py",
   "mimetype": "text/x-python",
   "name": "python",
   "nbconvert_exporter": "python",
   "pygments_lexer": "ipython3",
   "version": "3.9.21"
  }
 },
 "nbformat": 4,
 "nbformat_minor": 2
}
