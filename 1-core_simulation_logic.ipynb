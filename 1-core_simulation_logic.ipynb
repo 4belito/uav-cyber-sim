{
 "cells": [
  {
   "cell_type": "markdown",
   "metadata": {},
   "source": [
    "## Simple Mission\n",
    "\n",
    "This notebook serves to get familiar with the simulator"
   ]
  },
  {
   "cell_type": "code",
   "execution_count": 1,
   "metadata": {},
   "outputs": [],
   "source": [
    "import os\n",
    "import subprocess\n",
    "\n",
    "from config import ARDUPILOT_VEHICLE_PATH, LOGS_PATH, VEH_PARAMS_PATH, BasePort\n",
    "from helpers import clean\n",
    "from mavlink.util import connection\n",
    "from plan import Plan, State\n",
    "\n",
    "clean()"
   ]
  },
  {
   "cell_type": "markdown",
   "metadata": {},
   "source": [
    "## Launch Copter (ardupilot)"
   ]
  },
  {
   "cell_type": "code",
   "execution_count": 2,
   "metadata": {},
   "outputs": [
    {
     "data": {
      "text/plain": [
       "<Popen: returncode: None args: ['gnome-terminal', '--', 'bash', '-c', 'pytho...>"
      ]
     },
     "execution_count": 2,
     "metadata": {},
     "output_type": "execute_result"
    }
   ],
   "source": [
    "sim_vehicle_path = os.path.expanduser(ARDUPILOT_VEHICLE_PATH)\n",
    "vehicle_cmd = (\n",
    "    f\"python3 {sim_vehicle_path} \"\n",
    "    f\"-v ArduCopter \"\n",
    "    f\"-I0 --sysid 1 \"\n",
    "    f\"--no-rebuild \"\n",
    "    f\"--use-dir={LOGS_PATH} \"\n",
    "    f\"--add-param-file {VEH_PARAMS_PATH} \"\n",
    "    f\"--no-mavproxy \"\n",
    ")\n",
    "\n",
    "\n",
    "# Open a new terminal and run the command\n",
    "subprocess.Popen([\"gnome-terminal\", \"--\", \"bash\", \"-c\", f\"{vehicle_cmd}; exec bash\"])"
   ]
  },
  {
   "cell_type": "markdown",
   "metadata": {},
   "source": [
    "## Connect to the vehicle"
   ]
  },
  {
   "cell_type": "code",
   "execution_count": 3,
   "metadata": {},
   "outputs": [
    {
     "name": "stdout",
     "output_type": "stream",
     "text": [
      "[Errno 111] Connection refused sleeping\n",
      "✅ Heartbeat received\n"
     ]
    }
   ],
   "source": [
    "conn = connection(f\"tcp:127.0.0.1:{BasePort.ARP}\") \n",
    "conn.wait_heartbeat()\n",
    "print(\"✅ Heartbeat received\")"
   ]
  },
  {
   "cell_type": "markdown",
   "metadata": {},
   "source": [
    "## Create Plan"
   ]
  },
  {
   "cell_type": "code",
   "execution_count": 4,
   "metadata": {},
   "outputs": [],
   "source": [
    "#plan = Plan.square(side_len=5, alt=5, wp_margin=0.5, navegation_speed=5)\n",
    "plan = Plan.auto(mission_name=\"simple_mission\")"
   ]
  },
  {
   "cell_type": "code",
   "execution_count": 5,
   "metadata": {},
   "outputs": [
    {
     "data": {
      "text/plain": [
       "🕓 <Plan '📋 '>\n",
       "  🕓 <Action '📤🚁  UPLOAD_MISSION'>\n",
       "    🕓 <Step '🔹 clear uav missions'>\n",
       "    🕓 <Step '🔹 load mission simple_mission'>\n",
       "  🕓 <Action '🔧 PREARM'>\n",
       "    🕓 <Step '🔹 Check disarmed'>\n",
       "    🕓 <Step '🔹 Check EKF status'>\n",
       "    🕓 <Step '🔹 Check GPS'>\n",
       "    🕓 <Step '🔹 Check system'>\n",
       "  🕓 <Action '⚙️ MODE: GUIDED'>\n",
       "    🕓 <Step '🔹 Switch to GUIDED'>\n",
       "  🕓 <Action '🔐 ARM'>\n",
       "    🕓 <Step '🔹 arm'>\n",
       "  🕓 <Action '🚀 START_MISSION'>\n",
       "    🕓 <Step '🔹 start_mission'>"
      ]
     },
     "execution_count": 5,
     "metadata": {},
     "output_type": "execute_result"
    }
   ],
   "source": [
    "plan"
   ]
  },
  {
   "cell_type": "markdown",
   "metadata": {},
   "source": [
    "# Execute Plan"
   ]
  },
  {
   "cell_type": "code",
   "execution_count": null,
   "metadata": {},
   "outputs": [
    {
     "name": "stdout",
     "output_type": "stream",
     "text": [
      "Vehicle 1: ▶️ Plan Started: 📋 \n",
      "Vehicle 1: ▶️ Action Started: 📤🚁  UPLOAD_MISSION\n",
      "Vehicle 1: ▶️ Step Started: clear uav missions\n",
      "🎉 Mission upload successful!\n",
      "Vehicle 1: ✅ Step Done: clear uav missions\n",
      "✅ 4 waypoints read.\n",
      "🧭 Mission[0] → cmd: WAYPOINT, x: 47.397742, y: 8.545594, z: 0.0, current: 0\n",
      "🧭 Mission[1] → cmd: TAKEOFF, x: 47.397742, y: 8.545594, z: 10.0, current: 0\n",
      "🧭 Mission[2] → cmd: WAYPOINT, x: 47.397787, y: 8.545594, z: 10.0, current: 0\n",
      "🧭 Mission[3] → cmd: LAND, x: 47.397787, y: 8.545594, z: 0.0, current: 0\n",
      "✅ Sent mission item 0\n",
      "✅ Sent mission item 1\n",
      "✅ Sent mission item 2\n",
      "✅ Sent mission item 3\n",
      "Vehicle 1: ▶️ Step Started: load mission simple_mission\n",
      "🎉 Mission upload successful!\n",
      "Vehicle 1: ✅ Step Done: load mission simple_mission\n",
      "Vehicle 1: ✅ Action Done: 📤🚁  UPLOAD_MISSION\n",
      "Vehicle 1: ▶️ Action Started: 🔧 PREARM\n",
      "Vehicle 1: ▶️ Step Started: Check disarmed\n",
      "Vehicle 1: ✅ Step Done: Check disarmed\n",
      "📡 Requested message EKF_STATUS_REPORT at 1.00 Hz\n",
      "Vehicle 1: ▶️ Step Started: Check EKF status\n",
      "⌛ Waiting for EKF to be ready... Pending: ATTITUDE, VELOCITY_HORIZ, POS_VERT_ABS, POS_HORIZ_ABS\n",
      "⌛ Waiting for EKF to be ready... Pending: POS_HORIZ_ABS\n",
      "⌛ Waiting for EKF to be ready... Pending: POS_HORIZ_ABS\n",
      "⌛ Waiting for EKF to be ready... Pending: POS_HORIZ_ABS\n",
      "⌛ Waiting for EKF to be ready... Pending: POS_HORIZ_ABS\n",
      "⌛ Waiting for EKF to be ready... Pending: POS_HORIZ_ABS\n",
      "⌛ Waiting for EKF to be ready... Pending: POS_HORIZ_ABS\n",
      "⌛ Waiting for EKF to be ready... Pending: POS_HORIZ_ABS\n",
      "⌛ Waiting for EKF to be ready... Pending: POS_HORIZ_ABS\n",
      "⌛ Waiting for EKF to be ready... Pending: POS_HORIZ_ABS\n",
      "⌛ Waiting for EKF to be ready... Pending: POS_HORIZ_ABS\n",
      "⌛ Waiting for EKF to be ready... Pending: POS_HORIZ_ABS\n"
     ]
    }
   ],
   "source": [
    "plan.bind(conn, verbose = 2)\n",
    "while plan.state != State.DONE:\n",
    "    plan.act()"
   ]
  },
  {
   "cell_type": "code",
   "execution_count": null,
   "metadata": {},
   "outputs": [
    {
     "name": "stdout",
     "output_type": "stream",
     "text": [
      "✅ <Plan '📋 '>\n",
      "  ✅ <Action '📤🚁  UPLOAD_MISSION'>\n",
      "    ✅ <Step '🔹 clear uav missions'>\n",
      "    ✅ <Step '🔹 load mission simple_mission'>\n",
      "  ✅ <Action '🔧 PREARM'>\n",
      "    ✅ <Step '🔹 Check disarmed'>\n",
      "    ✅ <Step '🔹 Check EKF status'>\n",
      "    ✅ <Step '🔹 Check GPS'>\n",
      "    ✅ <Step '🔹 Check system'>\n",
      "  ✅ <Action '⚙️ MODE: GUIDED'>\n",
      "    ✅ <Step '🔹 Switch to GUIDED'>\n",
      "  ✅ <Action '🔐 ARM'>\n",
      "    ✅ <Step '🔹 arm'>\n",
      "  ✅ <Action '🚀 START_MISSION'>\n",
      "    ✅ <Step '🔹 start_mission'>\n"
     ]
    }
   ],
   "source": [
    "print(plan)"
   ]
  },
  {
   "cell_type": "code",
   "execution_count": null,
   "metadata": {},
   "outputs": [],
   "source": [
    "plan.reset()"
   ]
  },
  {
   "cell_type": "code",
   "execution_count": null,
   "metadata": {},
   "outputs": [
    {
     "name": "stdout",
     "output_type": "stream",
     "text": [
      "🕓 <Plan '📋 '>\n",
      "  🕓 <Action '📤🚁  UPLOAD_MISSION'>\n",
      "    🕓 <Step '🔹 clear uav missions'>\n",
      "    🕓 <Step '🔹 load mission simple_mission'>\n",
      "  🕓 <Action '🔧 PREARM'>\n",
      "    🕓 <Step '🔹 Check disarmed'>\n",
      "    🕓 <Step '🔹 Check EKF status'>\n",
      "    🕓 <Step '🔹 Check GPS'>\n",
      "    🕓 <Step '🔹 Check system'>\n",
      "  🕓 <Action '⚙️ MODE: GUIDED'>\n",
      "    🕓 <Step '🔹 Switch to GUIDED'>\n",
      "  🕓 <Action '🔐 ARM'>\n",
      "    🕓 <Step '🔹 arm'>\n",
      "  🕓 <Action '🚀 START_MISSION'>\n",
      "    🕓 <Step '🔹 start_mission'>\n"
     ]
    }
   ],
   "source": [
    "print(plan)"
   ]
  }
 ],
 "metadata": {
  "kernelspec": {
   "display_name": "uav-cyber-sim-py311",
   "language": "python",
   "name": "python3"
  },
  "language_info": {
   "codemirror_mode": {
    "name": "ipython",
    "version": 3
   },
   "file_extension": ".py",
   "mimetype": "text/x-python",
   "name": "python",
   "nbconvert_exporter": "python",
   "pygments_lexer": "ipython3",
   "version": "3.11.11"
  }
 },
 "nbformat": 4,
 "nbformat_minor": 2
}
