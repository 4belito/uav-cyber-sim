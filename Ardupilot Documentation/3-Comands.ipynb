{
 "cells": [
  {
   "cell_type": "markdown",
   "metadata": {},
   "source": [
    "## [Commands](https://ardupilot.org/dev/docs/copter-commands-in-guided-mode.html)"
   ]
  },
  {
   "cell_type": "code",
   "execution_count": 8,
   "metadata": {},
   "outputs": [],
   "source": [
    "from pymavlink import mavutil\n",
    "import subprocess\n",
    "import time\n",
    "import os"
   ]
  },
  {
   "cell_type": "markdown",
   "metadata": {},
   "source": [
    "Kill related process"
   ]
  },
  {
   "cell_type": "code",
   "execution_count": 9,
   "metadata": {},
   "outputs": [],
   "source": [
    "for process in [\"QGroundControl\", \"sim_vehicle.py\", \"arducopter\", \"gazebo\", \"mavproxy\"]:\n",
    "    os.system(f\"pkill -9 -f {process}\")"
   ]
  },
  {
   "cell_type": "markdown",
   "metadata": {},
   "source": [
    "Launch Copter (ardupilot)"
   ]
  },
  {
   "cell_type": "code",
   "execution_count": 10,
   "metadata": {},
   "outputs": [
    {
     "data": {
      "text/plain": [
       "<Popen: returncode: None args: ['gnome-terminal', '--', 'bash', '-c', 'pytho...>"
      ]
     },
     "execution_count": 10,
     "metadata": {},
     "output_type": "execute_result"
    }
   ],
   "source": [
    "sim_vehicle_path = os.path.expanduser(\"~/ardupilot/Tools/autotest/sim_vehicle.py\")\n",
    "vehicle_cmd = f\"python3 {sim_vehicle_path} -v ArduCopter\" \n",
    "# Open a new terminal and run the command\n",
    "subprocess.Popen([\"gnome-terminal\", \"--\", \"bash\", \"-c\", f\"{vehicle_cmd}; exec bash\"])"
   ]
  },
  {
   "cell_type": "markdown",
   "metadata": {},
   "source": [
    "Conect to the device"
   ]
  },
  {
   "cell_type": "code",
   "execution_count": 11,
   "metadata": {},
   "outputs": [
    {
     "name": "stdout",
     "output_type": "stream",
     "text": [
      "Heartbeat received. Connected to the vehicle.\n"
     ]
    }
   ],
   "source": [
    "conn = mavutil.mavlink_connection('udp:127.0.0.1:14550')\n",
    "\n",
    "conn.wait_heartbeat()\n",
    "print(\"Heartbeat received. Connected to the vehicle.\")"
   ]
  },
  {
   "cell_type": "code",
   "execution_count": 12,
   "metadata": {},
   "outputs": [
    {
     "ename": "ModuleNotFoundError",
     "evalue": "No module named 'mission_flow'",
     "output_type": "error",
     "traceback": [
      "\u001b[0;31m---------------------------------------------------------------------------\u001b[0m",
      "\u001b[0;31mModuleNotFoundError\u001b[0m                       Traceback (most recent call last)",
      "Cell \u001b[0;32mIn[12], line 1\u001b[0m\n\u001b[0;32m----> 1\u001b[0m \u001b[38;5;28;01mfrom\u001b[39;00m\u001b[38;5;250m \u001b[39m\u001b[38;5;21;01mmission_flow\u001b[39;00m\u001b[38;5;250m \u001b[39m\u001b[38;5;28;01mimport\u001b[39;00m UAVStep\n",
      "\u001b[0;31mModuleNotFoundError\u001b[0m: No module named 'mission_flow'"
     ]
    }
   ],
   "source": [
    "from mission_flow import UAVStep\n"
   ]
  },
  {
   "cell_type": "code",
   "execution_count": null,
   "metadata": {},
   "outputs": [
    {
     "name": "stdout",
     "output_type": "stream",
     "text": [
      "▶️  Starting step: Check no armed\n",
      "✅ Step done: Check no armed\n",
      "<UAVStep name='Check no armed', state=DONE, next='None'>\n"
     ]
    }
   ],
   "source": [
    "def check_noarmed(blocking=False):\n",
    "    \"\"\"Check if UAV is already armed\"\"\"\n",
    "    msg = conn.recv_match(type=\"HEARTBEAT\", blocking=blocking)\n",
    "    if not msg:\n",
    "        return False  # No message received\n",
    "    is_armed = msg.base_mode & mavutil.mavlink.MAV_MODE_FLAG_SAFETY_ARMED\n",
    "    return not is_armed\n",
    "\n",
    "check_noarmed_step = UAVStep(\n",
    "    name=\"Check no armed\",   \n",
    "    check_fn=check_noarmed   # Your function goes here\n",
    ")\n",
    "check_noarmed_step.run(blocking=True)\n",
    "check_noarmed_step.run(blocking=True)\n",
    "print(check_noarmed_step)"
   ]
  },
  {
   "cell_type": "code",
   "execution_count": 7,
   "metadata": {},
   "outputs": [],
   "source": [
    "\n",
    "# # ----- Action Class -----\n",
    "# class UAVAction:\n",
    "#     def __init__(self, name: str):\n",
    "#         self.name = name\n",
    "#         self.current_step = None\n",
    "#         self.next = None\n",
    "\n",
    "#     def add_step(self, name, check_fn=None, exec_fn=None):\n",
    "#         step_number = len(self.steps)\n",
    "#         step = UAVStep(name, step_number, check_fn, exec_fn)\n",
    "\n",
    "#         if self.steps:\n",
    "#             self.steps[-1].next = step\n",
    "#             step.prev = self.steps[-1]\n",
    "\n",
    "#         self.steps.append(step)\n",
    "\n",
    "#         if self.current_step is None:\n",
    "#             self.current_step = step\n",
    "\n",
    "#     def link_next(self, next_action):\n",
    "#         self.next_action = next_action\n",
    "#         next_action.prev_action = self\n",
    "\n",
    "#     def reset(self):\n",
    "#         self.current_step = self.steps[0] if self.steps else None\n",
    "#         self.state = ACTION_NOT_STARTED\n",
    "\n",
    "#     def show_steps(self):\n",
    "#         print(f\"\\n🧭 Action: {self.name} — {self.state}\")\n",
    "#         for step in self.steps:\n",
    "#             current = \"➡️ \" if step == self.current_step else \"   \"\n",
    "#             print(f\"{current}{step}\")\n",
    "\n",
    "#     def run(self, blocking=True):\n",
    "#         print(f\"\\n🚀 Starting action: {self.name}\")\n",
    "#         self.state = ACTION_IN_PROGRESS\n",
    "\n",
    "#         while self.current_step:\n",
    "#             step = self.current_step\n",
    "#             print(f\"➡️ Executing: {step}\")\n",
    "\n",
    "#             if not step.check():\n",
    "#                 print(f\"❌ Check failed: {step.name}\")\n",
    "#                 self.state = ACTION_FAILED\n",
    "#                 return False\n",
    "\n",
    "#             step.execute(blocking=blocking)\n",
    "#             print(f\"✅ Executed: {step.name}\\n\")\n",
    "#             self.current_step = step.next\n",
    "\n",
    "#         self.state = ACTION_DONE\n",
    "#         print(f\"✅ Action '{self.name}' completed!\")\n",
    "#         return True\n",
    "\n",
    "#     def run_full(self, blocking=True):\n",
    "#         current = self\n",
    "#         while current:\n",
    "#             current.reset()\n",
    "#             if not current.run(blocking=blocking):\n",
    "#                 print(\"❌ Mission flow interrupted.\")\n",
    "#                 return False\n",
    "#             current = current.next_action\n",
    "#         print(\"🎉 All actions completed successfully!\")\n",
    "#         return True\n",
    "\n",
    "#     def show_status(self):\n",
    "#         print(f\"📦 Action '{self.name}': {self.state}\")"
   ]
  },
  {
   "cell_type": "code",
   "execution_count": 8,
   "metadata": {},
   "outputs": [],
   "source": [
    "REQUIRED_SENSORS = (\n",
    "    mavutil.mavlink.MAV_SYS_STATUS_SENSOR_3D_GYRO |\n",
    "    mavutil.mavlink.MAV_SYS_STATUS_SENSOR_3D_ACCEL |\n",
    "    mavutil.mavlink.MAV_SYS_STATUS_SENSOR_3D_MAG |\n",
    "    mavutil.mavlink.MAV_SYS_STATUS_SENSOR_ABSOLUTE_PRESSURE |\n",
    "    mavutil.mavlink.MAV_SYS_STATUS_SENSOR_GPS\n",
    ")\n",
    "\n",
    "EKF_REQUIRED_FLAGS = (\n",
    "    mavutil.mavlink.EKF_ATTITUDE |\n",
    "    mavutil.mavlink.EKF_VELOCITY_HORIZ |\n",
    "    mavutil.mavlink.EKF_POS_HORIZ_ABS |\n",
    "    mavutil.mavlink.EKF_POS_VERT_ABS\n",
    ")\n",
    "\n",
    "\n",
    "class UAV():\n",
    "    def __init__(self,conn):\n",
    "        self.conn=conn\n",
    "        \n",
    "    def check_heartbeat(blocking=False):\n",
    "        \"\"\"Check if UAV is already armed\"\"\"\n",
    "        msg = conn.recv_match(type=\"HEARTBEAT\", blocking=blocking)\n",
    "        if msg:\n",
    "            if msg.base_mode & mavutil.mavlink.MAV_MODE_FLAG_SAFETY_ARMED:\n",
    "                print(\"❌ UAV is already armed!\")\n",
    "                return False\n",
    "            print(\"✅ UAV is disarmed and ready to arm\")\n",
    "            return True\n",
    "        return False\n",
    "\n",
    "    def check_ekf_status(blocking=False):\n",
    "        \"\"\"Check EKF status for safe arming\"\"\"\n",
    "        msg = conn.recv_match(type=\"EKF_STATUS_REPORT\", blocking=blocking)\n",
    "        if msg:\n",
    "            ekf_flags = msg.flags\n",
    "            # Required EKF flags\n",
    "            if (ekf_flags & EKF_REQUIRED_FLAGS) == EKF_REQUIRED_FLAGS:\n",
    "                print(\"✅ EKF is stable and ready for arming\")\n",
    "                return True\n",
    "            else:\n",
    "                print(\"❌ EKF not ready!\")\n",
    "        return False\n",
    "\n",
    "    def check_gps_status(self,blocking):\n",
    "        \"\"\"Check GPS fix type\"\"\"\n",
    "        msg = self.conn.recv_match(type=\"GPS_RAW_INT\", blocking=blocking)\n",
    "        if msg:\n",
    "            gps_fix = msg.fix_type\n",
    "            if gps_fix >= 3:  # 3D Fix or better\n",
    "                print(f\"✅ GPS Fix OK (Type {gps_fix})\")\n",
    "                return True\n",
    "            else:\n",
    "                print(f\"❌ GPS Fix is weak (Type {gps_fix})\")\n",
    "        return False\n",
    "\n",
    "    def check_sys_status(self,blocking):\n",
    "        \"\"\"Check system status (failsafe, battery, sensors)\"\"\"\n",
    "        msg = self.conn.recv_match(type=\"SYS_STATUS\", blocking=blocking)\n",
    "        if msg:\n",
    "            # Battery check\n",
    "            if msg.battery_remaining > 20:  # More than 20% battery\n",
    "                print(f\"✅ Battery OK ({msg.battery_remaining}% remaining)\")\n",
    "                return True\n",
    "            else:\n",
    "                print(f\"❌ Battery too low ({msg.battery_remaining}% remaining)\")\n",
    "            \n",
    "            # Sensor check\n",
    "            if msg and (msg.onboard_control_sensors_health & REQUIRED_SENSORS) == REQUIRED_SENSORS:\n",
    "                print(\"✅ All required sensors are healthy! Ready for GPS-based autonomous flight\")\n",
    "                return True\n",
    "            else:\n",
    "                print(\"❌ Missing or unhealthy sensors! Not safe for autonomous flight\")\n",
    "        return False\n",
    "\n",
    "\n"
   ]
  },
  {
   "cell_type": "markdown",
   "metadata": {},
   "source": [
    "## Prearmed Comands"
   ]
  },
  {
   "cell_type": "code",
   "execution_count": 9,
   "metadata": {},
   "outputs": [
    {
     "name": "stdout",
     "output_type": "stream",
     "text": [
      "✅ UAV is disarmed and ready to arm\n"
     ]
    },
    {
     "ename": "TypeError",
     "evalue": "check_sys_status() missing 1 required positional argument: 'blocking'",
     "output_type": "error",
     "traceback": [
      "\u001b[0;31m---------------------------------------------------------------------------\u001b[0m",
      "\u001b[0;31mTypeError\u001b[0m                                 Traceback (most recent call last)",
      "Cell \u001b[0;32mIn[9], line 8\u001b[0m\n\u001b[1;32m      6\u001b[0m         \u001b[38;5;28;01mbreak\u001b[39;00m\n\u001b[1;32m      7\u001b[0m \u001b[38;5;28;01mwhile\u001b[39;00m \u001b[38;5;28;01mTrue\u001b[39;00m:\n\u001b[0;32m----> 8\u001b[0m     \u001b[38;5;28;01mif\u001b[39;00m \u001b[43muav\u001b[49m\u001b[38;5;241;43m.\u001b[39;49m\u001b[43mcheck_sys_status\u001b[49m\u001b[43m(\u001b[49m\u001b[43m)\u001b[49m:\n\u001b[1;32m      9\u001b[0m         \u001b[38;5;28;01mbreak\u001b[39;00m\n\u001b[1;32m     10\u001b[0m \u001b[38;5;28;01mwhile\u001b[39;00m \u001b[38;5;28;01mTrue\u001b[39;00m:\n",
      "\u001b[0;31mTypeError\u001b[0m: check_sys_status() missing 1 required positional argument: 'blocking'"
     ]
    }
   ],
   "source": [
    "# Run all pre-arm checks\n",
    "uav=UAV(conn)\n",
    "\n",
    "while True:\n",
    "    if uav.check_heartbeat():\n",
    "        break\n",
    "while True:\n",
    "    if uav.check_sys_status():\n",
    "        break\n",
    "while True:\n",
    "    if uav.check_ekf_status():\n",
    "        break\n",
    "while True:\n",
    "    if uav.check_gps_status():\n",
    "        break\n",
    "\n",
    "print(\"\\n✅✅✅ UAV is READY TO ARM!\\n\")\n"
   ]
  },
  {
   "cell_type": "markdown",
   "metadata": {},
   "source": [
    "## Movement Commands\n",
    "\n",
    "These commands can be used to control the vehicle’s position, velocity or attitude while in [Guided Mode](https://ardupilot.org/copter/docs/ac2_guidedmode.html#ac2-guidedmode)"
   ]
  },
  {
   "cell_type": "code",
   "execution_count": null,
   "metadata": {},
   "outputs": [],
   "source": []
  },
  {
   "cell_type": "code",
   "execution_count": null,
   "metadata": {},
   "outputs": [
    {
     "data": {
      "text/plain": [
       "16"
      ]
     },
     "execution_count": 7,
     "metadata": {},
     "output_type": "execute_result"
    }
   ],
   "source": [
    "mavutil.mavlink.EKF_POS_HORIZ_ABS"
   ]
  },
  {
   "cell_type": "code",
   "execution_count": null,
   "metadata": {},
   "outputs": [],
   "source": []
  }
 ],
 "metadata": {
  "kernelspec": {
   "display_name": "pymavlink",
   "language": "python",
   "name": "python3"
  },
  "language_info": {
   "codemirror_mode": {
    "name": "ipython",
    "version": 3
   },
   "file_extension": ".py",
   "mimetype": "text/x-python",
   "name": "python",
   "nbconvert_exporter": "python",
   "pygments_lexer": "ipython3",
   "version": "3.9.21"
  }
 },
 "nbformat": 4,
 "nbformat_minor": 2
}
