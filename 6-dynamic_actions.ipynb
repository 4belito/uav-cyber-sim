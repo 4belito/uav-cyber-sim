{
 "cells": [
  {
   "cell_type": "markdown",
   "metadata": {},
   "source": [
    "## Dynamic Plans\n",
    "\n",
    "This notebook implements a uav logic instead of a plan and decisions are done online following that logic"
   ]
  },
  {
   "cell_type": "code",
   "execution_count": 1,
   "metadata": {},
   "outputs": [],
   "source": [
    "import os\n",
    "import subprocess\n",
    "import numpy as np\n",
    "\n",
    "\n",
    "# Custom modules\n",
    "from vehicle_logic import VehicleLogic\n",
    "from helpers.change_coordinates import heading_to_yaw,find_spawns,global2local\n",
    "from helpers.visualization.gazebo_world import update_world\n",
    "from helpers.math import manhattan_distance\n",
    "from helpers.navegation_logic import find_path,find_best_waypoint\n",
    "from helpers.visualization.plots import plot_3d_interactive\n"
   ]
  },
  {
   "cell_type": "markdown",
   "metadata": {},
   "source": [
    "Kill all related process"
   ]
  },
  {
   "cell_type": "code",
   "execution_count": 2,
   "metadata": {},
   "outputs": [],
   "source": [
    "for process in [\"QGroundControl\", \"sim_vehicle.py\", \"arducopter\", \"gazebo\", \"mavproxy\"]:\n",
    "    os.system(f\"pkill -9 -f {process}\")"
   ]
  },
  {
   "cell_type": "markdown",
   "metadata": {},
   "source": [
    "Paths"
   ]
  },
  {
   "cell_type": "code",
   "execution_count": 3,
   "metadata": {},
   "outputs": [],
   "source": [
    "QGC_path='~/QGroundControl.AppImage'\n",
    "gazebo_word_path=\"gazebo_worlds/small_city.world\"\n",
    "ardupilot_vehicle_path='~/ardupilot/Tools/autotest/sim_vehicle.py'"
   ]
  },
  {
   "cell_type": "markdown",
   "metadata": {},
   "source": [
    "# Choose Simulator"
   ]
  },
  {
   "cell_type": "code",
   "execution_count": 4,
   "metadata": {},
   "outputs": [],
   "source": [
    "simulator ='gazebo' # 'QGroundControl' #"
   ]
  },
  {
   "cell_type": "markdown",
   "metadata": {},
   "source": [
    "## Gonfiguration"
   ]
  },
  {
   "cell_type": "code",
   "execution_count": 5,
   "metadata": {},
   "outputs": [
    {
     "data": {
      "application/vnd.plotly.v1+json": {
       "config": {
        "plotlyServerURL": "https://plot.ly"
       },
       "data": [
        {
         "marker": {
          "color": "yellow",
          "size": 6
         },
         "mode": "markers",
         "name": "waypoints",
         "type": "scatter3d",
         "x": [
          40,
          15,
          0,
          0,
          40,
          15,
          0
         ],
         "y": [
          -10,
          -10,
          -10,
          4,
          20,
          20,
          20
         ],
         "z": [
          5,
          5,
          5,
          5,
          5,
          5,
          5
         ]
        },
        {
         "marker": {
          "color": "blue",
          "size": 6
         },
         "mode": "markers",
         "name": "homes",
         "type": "scatter3d",
         "x": [
          40,
          40
         ],
         "y": [
          -10,
          20
         ],
         "z": [
          0,
          0
         ]
        },
        {
         "marker": {
          "color": "green",
          "size": 6
         },
         "mode": "markers",
         "name": "targets",
         "type": "scatter3d",
         "x": [
          0,
          0
         ],
         "y": [
          4,
          4
         ],
         "z": [
          0,
          0
         ]
        }
       ],
       "layout": {
        "height": 600,
        "scene": {
         "xaxis": {
          "range": [
           -8,
           48
          ],
          "title": {
           "text": "x"
          }
         },
         "yaxis": {
          "range": [
           -16,
           26
          ],
          "title": {
           "text": "y"
          }
         },
         "zaxis": {
          "range": [
           -0.05,
           7
          ],
          "title": {
           "text": "z"
          }
         }
        },
        "template": {
         "data": {
          "bar": [
           {
            "error_x": {
             "color": "#2a3f5f"
            },
            "error_y": {
             "color": "#2a3f5f"
            },
            "marker": {
             "line": {
              "color": "#E5ECF6",
              "width": 0.5
             },
             "pattern": {
              "fillmode": "overlay",
              "size": 10,
              "solidity": 0.2
             }
            },
            "type": "bar"
           }
          ],
          "barpolar": [
           {
            "marker": {
             "line": {
              "color": "#E5ECF6",
              "width": 0.5
             },
             "pattern": {
              "fillmode": "overlay",
              "size": 10,
              "solidity": 0.2
             }
            },
            "type": "barpolar"
           }
          ],
          "carpet": [
           {
            "aaxis": {
             "endlinecolor": "#2a3f5f",
             "gridcolor": "white",
             "linecolor": "white",
             "minorgridcolor": "white",
             "startlinecolor": "#2a3f5f"
            },
            "baxis": {
             "endlinecolor": "#2a3f5f",
             "gridcolor": "white",
             "linecolor": "white",
             "minorgridcolor": "white",
             "startlinecolor": "#2a3f5f"
            },
            "type": "carpet"
           }
          ],
          "choropleth": [
           {
            "colorbar": {
             "outlinewidth": 0,
             "ticks": ""
            },
            "type": "choropleth"
           }
          ],
          "contour": [
           {
            "colorbar": {
             "outlinewidth": 0,
             "ticks": ""
            },
            "colorscale": [
             [
              0,
              "#0d0887"
             ],
             [
              0.1111111111111111,
              "#46039f"
             ],
             [
              0.2222222222222222,
              "#7201a8"
             ],
             [
              0.3333333333333333,
              "#9c179e"
             ],
             [
              0.4444444444444444,
              "#bd3786"
             ],
             [
              0.5555555555555556,
              "#d8576b"
             ],
             [
              0.6666666666666666,
              "#ed7953"
             ],
             [
              0.7777777777777778,
              "#fb9f3a"
             ],
             [
              0.8888888888888888,
              "#fdca26"
             ],
             [
              1,
              "#f0f921"
             ]
            ],
            "type": "contour"
           }
          ],
          "contourcarpet": [
           {
            "colorbar": {
             "outlinewidth": 0,
             "ticks": ""
            },
            "type": "contourcarpet"
           }
          ],
          "heatmap": [
           {
            "colorbar": {
             "outlinewidth": 0,
             "ticks": ""
            },
            "colorscale": [
             [
              0,
              "#0d0887"
             ],
             [
              0.1111111111111111,
              "#46039f"
             ],
             [
              0.2222222222222222,
              "#7201a8"
             ],
             [
              0.3333333333333333,
              "#9c179e"
             ],
             [
              0.4444444444444444,
              "#bd3786"
             ],
             [
              0.5555555555555556,
              "#d8576b"
             ],
             [
              0.6666666666666666,
              "#ed7953"
             ],
             [
              0.7777777777777778,
              "#fb9f3a"
             ],
             [
              0.8888888888888888,
              "#fdca26"
             ],
             [
              1,
              "#f0f921"
             ]
            ],
            "type": "heatmap"
           }
          ],
          "histogram": [
           {
            "marker": {
             "pattern": {
              "fillmode": "overlay",
              "size": 10,
              "solidity": 0.2
             }
            },
            "type": "histogram"
           }
          ],
          "histogram2d": [
           {
            "colorbar": {
             "outlinewidth": 0,
             "ticks": ""
            },
            "colorscale": [
             [
              0,
              "#0d0887"
             ],
             [
              0.1111111111111111,
              "#46039f"
             ],
             [
              0.2222222222222222,
              "#7201a8"
             ],
             [
              0.3333333333333333,
              "#9c179e"
             ],
             [
              0.4444444444444444,
              "#bd3786"
             ],
             [
              0.5555555555555556,
              "#d8576b"
             ],
             [
              0.6666666666666666,
              "#ed7953"
             ],
             [
              0.7777777777777778,
              "#fb9f3a"
             ],
             [
              0.8888888888888888,
              "#fdca26"
             ],
             [
              1,
              "#f0f921"
             ]
            ],
            "type": "histogram2d"
           }
          ],
          "histogram2dcontour": [
           {
            "colorbar": {
             "outlinewidth": 0,
             "ticks": ""
            },
            "colorscale": [
             [
              0,
              "#0d0887"
             ],
             [
              0.1111111111111111,
              "#46039f"
             ],
             [
              0.2222222222222222,
              "#7201a8"
             ],
             [
              0.3333333333333333,
              "#9c179e"
             ],
             [
              0.4444444444444444,
              "#bd3786"
             ],
             [
              0.5555555555555556,
              "#d8576b"
             ],
             [
              0.6666666666666666,
              "#ed7953"
             ],
             [
              0.7777777777777778,
              "#fb9f3a"
             ],
             [
              0.8888888888888888,
              "#fdca26"
             ],
             [
              1,
              "#f0f921"
             ]
            ],
            "type": "histogram2dcontour"
           }
          ],
          "mesh3d": [
           {
            "colorbar": {
             "outlinewidth": 0,
             "ticks": ""
            },
            "type": "mesh3d"
           }
          ],
          "parcoords": [
           {
            "line": {
             "colorbar": {
              "outlinewidth": 0,
              "ticks": ""
             }
            },
            "type": "parcoords"
           }
          ],
          "pie": [
           {
            "automargin": true,
            "type": "pie"
           }
          ],
          "scatter": [
           {
            "fillpattern": {
             "fillmode": "overlay",
             "size": 10,
             "solidity": 0.2
            },
            "type": "scatter"
           }
          ],
          "scatter3d": [
           {
            "line": {
             "colorbar": {
              "outlinewidth": 0,
              "ticks": ""
             }
            },
            "marker": {
             "colorbar": {
              "outlinewidth": 0,
              "ticks": ""
             }
            },
            "type": "scatter3d"
           }
          ],
          "scattercarpet": [
           {
            "marker": {
             "colorbar": {
              "outlinewidth": 0,
              "ticks": ""
             }
            },
            "type": "scattercarpet"
           }
          ],
          "scattergeo": [
           {
            "marker": {
             "colorbar": {
              "outlinewidth": 0,
              "ticks": ""
             }
            },
            "type": "scattergeo"
           }
          ],
          "scattergl": [
           {
            "marker": {
             "colorbar": {
              "outlinewidth": 0,
              "ticks": ""
             }
            },
            "type": "scattergl"
           }
          ],
          "scattermap": [
           {
            "marker": {
             "colorbar": {
              "outlinewidth": 0,
              "ticks": ""
             }
            },
            "type": "scattermap"
           }
          ],
          "scattermapbox": [
           {
            "marker": {
             "colorbar": {
              "outlinewidth": 0,
              "ticks": ""
             }
            },
            "type": "scattermapbox"
           }
          ],
          "scatterpolar": [
           {
            "marker": {
             "colorbar": {
              "outlinewidth": 0,
              "ticks": ""
             }
            },
            "type": "scatterpolar"
           }
          ],
          "scatterpolargl": [
           {
            "marker": {
             "colorbar": {
              "outlinewidth": 0,
              "ticks": ""
             }
            },
            "type": "scatterpolargl"
           }
          ],
          "scatterternary": [
           {
            "marker": {
             "colorbar": {
              "outlinewidth": 0,
              "ticks": ""
             }
            },
            "type": "scatterternary"
           }
          ],
          "surface": [
           {
            "colorbar": {
             "outlinewidth": 0,
             "ticks": ""
            },
            "colorscale": [
             [
              0,
              "#0d0887"
             ],
             [
              0.1111111111111111,
              "#46039f"
             ],
             [
              0.2222222222222222,
              "#7201a8"
             ],
             [
              0.3333333333333333,
              "#9c179e"
             ],
             [
              0.4444444444444444,
              "#bd3786"
             ],
             [
              0.5555555555555556,
              "#d8576b"
             ],
             [
              0.6666666666666666,
              "#ed7953"
             ],
             [
              0.7777777777777778,
              "#fb9f3a"
             ],
             [
              0.8888888888888888,
              "#fdca26"
             ],
             [
              1,
              "#f0f921"
             ]
            ],
            "type": "surface"
           }
          ],
          "table": [
           {
            "cells": {
             "fill": {
              "color": "#EBF0F8"
             },
             "line": {
              "color": "white"
             }
            },
            "header": {
             "fill": {
              "color": "#C8D4E3"
             },
             "line": {
              "color": "white"
             }
            },
            "type": "table"
           }
          ]
         },
         "layout": {
          "annotationdefaults": {
           "arrowcolor": "#2a3f5f",
           "arrowhead": 0,
           "arrowwidth": 1
          },
          "autotypenumbers": "strict",
          "coloraxis": {
           "colorbar": {
            "outlinewidth": 0,
            "ticks": ""
           }
          },
          "colorscale": {
           "diverging": [
            [
             0,
             "#8e0152"
            ],
            [
             0.1,
             "#c51b7d"
            ],
            [
             0.2,
             "#de77ae"
            ],
            [
             0.3,
             "#f1b6da"
            ],
            [
             0.4,
             "#fde0ef"
            ],
            [
             0.5,
             "#f7f7f7"
            ],
            [
             0.6,
             "#e6f5d0"
            ],
            [
             0.7,
             "#b8e186"
            ],
            [
             0.8,
             "#7fbc41"
            ],
            [
             0.9,
             "#4d9221"
            ],
            [
             1,
             "#276419"
            ]
           ],
           "sequential": [
            [
             0,
             "#0d0887"
            ],
            [
             0.1111111111111111,
             "#46039f"
            ],
            [
             0.2222222222222222,
             "#7201a8"
            ],
            [
             0.3333333333333333,
             "#9c179e"
            ],
            [
             0.4444444444444444,
             "#bd3786"
            ],
            [
             0.5555555555555556,
             "#d8576b"
            ],
            [
             0.6666666666666666,
             "#ed7953"
            ],
            [
             0.7777777777777778,
             "#fb9f3a"
            ],
            [
             0.8888888888888888,
             "#fdca26"
            ],
            [
             1,
             "#f0f921"
            ]
           ],
           "sequentialminus": [
            [
             0,
             "#0d0887"
            ],
            [
             0.1111111111111111,
             "#46039f"
            ],
            [
             0.2222222222222222,
             "#7201a8"
            ],
            [
             0.3333333333333333,
             "#9c179e"
            ],
            [
             0.4444444444444444,
             "#bd3786"
            ],
            [
             0.5555555555555556,
             "#d8576b"
            ],
            [
             0.6666666666666666,
             "#ed7953"
            ],
            [
             0.7777777777777778,
             "#fb9f3a"
            ],
            [
             0.8888888888888888,
             "#fdca26"
            ],
            [
             1,
             "#f0f921"
            ]
           ]
          },
          "colorway": [
           "#636efa",
           "#EF553B",
           "#00cc96",
           "#ab63fa",
           "#FFA15A",
           "#19d3f3",
           "#FF6692",
           "#B6E880",
           "#FF97FF",
           "#FECB52"
          ],
          "font": {
           "color": "#2a3f5f"
          },
          "geo": {
           "bgcolor": "white",
           "lakecolor": "white",
           "landcolor": "#E5ECF6",
           "showlakes": true,
           "showland": true,
           "subunitcolor": "white"
          },
          "hoverlabel": {
           "align": "left"
          },
          "hovermode": "closest",
          "mapbox": {
           "style": "light"
          },
          "paper_bgcolor": "white",
          "plot_bgcolor": "#E5ECF6",
          "polar": {
           "angularaxis": {
            "gridcolor": "white",
            "linecolor": "white",
            "ticks": ""
           },
           "bgcolor": "#E5ECF6",
           "radialaxis": {
            "gridcolor": "white",
            "linecolor": "white",
            "ticks": ""
           }
          },
          "scene": {
           "xaxis": {
            "backgroundcolor": "#E5ECF6",
            "gridcolor": "white",
            "gridwidth": 2,
            "linecolor": "white",
            "showbackground": true,
            "ticks": "",
            "zerolinecolor": "white"
           },
           "yaxis": {
            "backgroundcolor": "#E5ECF6",
            "gridcolor": "white",
            "gridwidth": 2,
            "linecolor": "white",
            "showbackground": true,
            "ticks": "",
            "zerolinecolor": "white"
           },
           "zaxis": {
            "backgroundcolor": "#E5ECF6",
            "gridcolor": "white",
            "gridwidth": 2,
            "linecolor": "white",
            "showbackground": true,
            "ticks": "",
            "zerolinecolor": "white"
           }
          },
          "shapedefaults": {
           "line": {
            "color": "#2a3f5f"
           }
          },
          "ternary": {
           "aaxis": {
            "gridcolor": "white",
            "linecolor": "white",
            "ticks": ""
           },
           "baxis": {
            "gridcolor": "white",
            "linecolor": "white",
            "ticks": ""
           },
           "bgcolor": "#E5ECF6",
           "caxis": {
            "gridcolor": "white",
            "linecolor": "white",
            "ticks": ""
           }
          },
          "title": {
           "x": 0.05
          },
          "xaxis": {
           "automargin": true,
           "gridcolor": "white",
           "linecolor": "white",
           "ticks": "",
           "title": {
            "standoff": 15
           },
           "zerolinecolor": "white",
           "zerolinewidth": 2
          },
          "yaxis": {
           "automargin": true,
           "gridcolor": "white",
           "linecolor": "white",
           "ticks": "",
           "title": {
            "standoff": 15
           },
           "zerolinecolor": "white",
           "zerolinewidth": 2
          }
         }
        },
        "title": {
         "text": "Simulation Markers",
         "x": 0.5,
         "xanchor": "center"
        },
        "width": 800
       }
      }
     },
     "metadata": {},
     "output_type": "display_data"
    }
   ],
   "source": [
    "offsets = [ #east, north, up, heading\n",
    "    (40, -10, 0, 0), \n",
    "    (40,  20, 0, 0)]\n",
    "n_uavs = len(offsets)\n",
    "\n",
    "wps = np.array([(40, -10, 5),\n",
    "                (15, -10, 5),\n",
    "                (0, -10, 5),\n",
    "                (0,   4, 5),\n",
    "                (40, 20, 5),\n",
    "                (15, 20, 5),\n",
    "                (0,  20, 5)])\n",
    "\n",
    "homes=np.array([offset[:3] for offset in offsets])\n",
    "target_wps=np.array([\n",
    "                (0, 4,5),\n",
    "                (0, 4,5)])\n",
    "\n",
    "targets=np.array([(*target_wp[:2],0) for target_wp in target_wps])\n",
    "markers = {'waypoints': {'pos':wps,'color':'yellow'},\n",
    "           'homes': {'pos':homes,'color':'blue'},\n",
    "           'targets':{'pos':targets,'color':'green'}}\n",
    "# Interactive widget to rotate the plot\n",
    "\n",
    "plot_3d_interactive(markers,title='Simulation Markers',expand=[0.2,0.2,0.4],ground=-0.05)\n",
    "\n",
    "\n",
    "if simulator == 'QGroundControl':\n",
    "    # lat,long,alt,heading\n",
    "    home_position=(-35.3633245,149.1652241,0,90)\n",
    "    spawns=find_spawns(home_position, offsets)"
   ]
  },
  {
   "cell_type": "markdown",
   "metadata": {},
   "source": [
    "## Get Local positions"
   ]
  },
  {
   "cell_type": "code",
   "execution_count": 6,
   "metadata": {},
   "outputs": [],
   "source": [
    "local_wps=global2local(wps, homes,pairwise=False)\n",
    "local_target_wps=global2local(target_wps, homes,pairwise=True)"
   ]
  },
  {
   "cell_type": "markdown",
   "metadata": {},
   "source": [
    "## Waypoint seletion algorithm\n",
    "\n",
    "The path is shown in local coordinates"
   ]
  },
  {
   "cell_type": "code",
   "execution_count": 7,
   "metadata": {},
   "outputs": [
    {
     "name": "stdout",
     "output_type": "stream",
     "text": [
      "uav-0 Best path: [[  0   0   0]\n",
      " [  0   0   5]\n",
      " [-25   0   5]\n",
      " [-40   0   5]\n",
      " [-40  14   5]]\n",
      "uav-1 Best path: [[  0   0   0]\n",
      " [  0   0   5]\n",
      " [-25   0   5]\n",
      " [-40   0   5]\n",
      " [-40 -16   5]]\n"
     ]
    }
   ],
   "source": [
    "for i,(target_wp,wps) in enumerate(zip(local_target_wps,local_wps)):\n",
    "        local_path=find_path(np.array((0,0,0)),target_wp, wps,eps=1)\n",
    "        print(f'uav-{i} Best path: {local_path}') \n"
   ]
  },
  {
   "cell_type": "markdown",
   "metadata": {},
   "source": [
    "Launch Simulator"
   ]
  },
  {
   "cell_type": "code",
   "execution_count": 8,
   "metadata": {},
   "outputs": [],
   "source": [
    "if simulator == 'QGroundControl':\n",
    "    sim_path = os.path.expanduser(QGC_path)\n",
    "    sim_cmd =[sim_path]\n",
    "elif simulator == 'gazebo':\n",
    "    # Convert to Gazebo format (name, x, y, z, roll, pitch, yaw)\n",
    "    drones = [(east, north, up, 0, 0, heading_to_yaw(heading)) for i, (east, north, up, heading) in enumerate(offsets)]\n",
    "    world_path = os.path.expanduser(gazebo_word_path)\n",
    "    updated_world_path = update_world(drones,markers,world_path)\n",
    "    sim_cmd = [\"gazebo\", \"--verbose\", updated_world_path] \n",
    "\n",
    "simulator_process = subprocess.Popen(\n",
    "                    sim_cmd,\n",
    "                    stdout=subprocess.DEVNULL,  # Suppress standard output\n",
    "                    stderr=subprocess.DEVNULL,  # Suppress error output\n",
    "                    shell=False  # Ensure safety when passing arguments\n",
    "                    )"
   ]
  },
  {
   "cell_type": "markdown",
   "metadata": {},
   "source": [
    "\n",
    "Launch Vehicle"
   ]
  },
  {
   "cell_type": "code",
   "execution_count": 9,
   "metadata": {},
   "outputs": [],
   "source": [
    "vehicle_path = os.path.expanduser(ardupilot_vehicle_path)\n",
    "for i in range(n_uavs):\n",
    "    vehicle_cmd = f\"python3 {vehicle_path} -v ArduCopter -I{i} --sysid {i+1} --no-rebuild\"\n",
    "    if simulator == 'QGroundControl':\n",
    "        spawn=','.join(map(str, spawns[i]))\n",
    "        vehicle_cmd += f\" --custom-location={spawn}\"\n",
    "    elif simulator == 'gazebo':\n",
    "        vehicle_cmd += \" -f gazebo-iris\"\n",
    "    subprocess.Popen([\"gnome-terminal\", \"--\", \"bash\", \"-c\", f\"{vehicle_cmd}; exec bash\"])"
   ]
  },
  {
   "cell_type": "markdown",
   "metadata": {},
   "source": [
    "Create uavs"
   ]
  },
  {
   "cell_type": "code",
   "execution_count": 10,
   "metadata": {},
   "outputs": [
    {
     "name": "stdout",
     "output_type": "stream",
     "text": [
      "Plan 'basic plan' created — no connection yet 🧩\n",
      "Action 'Pre-Arm Check' created — no connection yet 🧩\n",
      "Step 'Check disarmed' created — no connection yet 🧩\n",
      "Step 'Check EKF' created — no connection yet 🧩\n",
      "Step 'Check GPS' created — no connection yet 🧩\n",
      "Step 'Check system' created — no connection yet 🧩\n",
      "Action 'Set Mode: GUIDED' created — no connection yet 🧩\n",
      "Step 'Switch to GUIDED' created — no connection yet 🧩\n",
      "Action 'Arm' created — no connection yet 🧩\n",
      "Step 'arm' created — no connection yet 🧩\n",
      "Action 'Take Off' created — no connection yet 🧩\n",
      "Step 'take off' created — no connection yet 🧩\n",
      "Action 'fly' created — no connection yet 🧩\n",
      "Action 'Land' created — no connection yet 🧩\n",
      "Step 'land' created — no connection yet 🧩\n",
      "vehicle 1 created\n",
      "Plan 'basic plan' created — no connection yet 🧩\n",
      "Action 'Pre-Arm Check' created — no connection yet 🧩\n",
      "Step 'Check disarmed' created — no connection yet 🧩\n",
      "Step 'Check EKF' created — no connection yet 🧩\n",
      "Step 'Check GPS' created — no connection yet 🧩\n",
      "Step 'Check system' created — no connection yet 🧩\n",
      "Action 'Set Mode: GUIDED' created — no connection yet 🧩\n",
      "Step 'Switch to GUIDED' created — no connection yet 🧩\n",
      "Action 'Arm' created — no connection yet 🧩\n",
      "Step 'arm' created — no connection yet 🧩\n",
      "Action 'Take Off' created — no connection yet 🧩\n",
      "Step 'take off' created — no connection yet 🧩\n",
      "Action 'fly' created — no connection yet 🧩\n",
      "Action 'Land' created — no connection yet 🧩\n",
      "Step 'land' created — no connection yet 🧩\n",
      "vehicle 2 created\n"
     ]
    }
   ],
   "source": [
    "uavs=[]\n",
    "for i,home in enumerate(zip(homes)):\n",
    "    uavs.append(VehicleLogic(sys_id=i+1,\n",
    "                            home=home))"
   ]
  },
  {
   "cell_type": "markdown",
   "metadata": {},
   "source": [
    "## Execute Plan"
   ]
  },
  {
   "cell_type": "code",
   "execution_count": null,
   "metadata": {},
   "outputs": [],
   "source": [
    "from plan.core import State\n",
    "from plan.actions.navegation import get_local_position\n",
    "from plan.actions.navegation import make_go_to\n"
   ]
  },
  {
   "cell_type": "markdown",
   "metadata": {},
   "source": [
    "Reset uav plans for saving developing time"
   ]
  },
  {
   "cell_type": "code",
   "execution_count": 12,
   "metadata": {},
   "outputs": [],
   "source": [
    "for uav in uavs:\n",
    "    uav.plan.reset()"
   ]
  },
  {
   "cell_type": "code",
   "execution_count": null,
   "metadata": {},
   "outputs": [
    {
     "name": "stdout",
     "output_type": "stream",
     "text": [
      "Vehicle 1: Action 'Pre-Arm Check' is now connected ✅🔗\n",
      "Vehicle 1: ▶️ Starting Action: Pre-Arm Check\n",
      "Vehicle 2: Action 'Pre-Arm Check' is now connected ✅🔗\n",
      "Vehicle 2: ▶️ Starting Action: Pre-Arm Check\n",
      "Vehicle 1: Step 'Check disarmed' is now connected ✅🔗\n",
      "Vehicle 1: ▶️ Starting Step: Check disarmed\n",
      "Vehicle 2: Step 'Check disarmed' is now connected ✅🔗\n",
      "Vehicle 2: ▶️ Starting Step: Check disarmed\n",
      "Vehicle 2: ✅ Step: Check disarmed is done\n",
      "Vehicle 2: Step 'Check EKF' is now connected ✅🔗\n",
      "Vehicle 2: ▶️ Starting Step: Check EKF\n",
      "Vehicle 1: ✅ Step: Check disarmed is done\n",
      "Vehicle 1: Step 'Check EKF' is now connected ✅🔗\n",
      "Vehicle 1: ▶️ Starting Step: Check EKF\n",
      "Vehicle 2: EKF is not ready — missing: POS_HORIZ_ABS\n",
      "Vehicle 1: EKF is not ready — missing: POS_HORIZ_ABS\n",
      "Vehicle 2: EKF is not ready — missing: POS_HORIZ_ABS\n",
      "Vehicle 1: EKF is not ready — missing: POS_HORIZ_ABS\n",
      "Vehicle 2: EKF is not ready — missing: POS_HORIZ_ABS\n",
      "Vehicle 1: EKF is not ready — missing: POS_HORIZ_ABS\n",
      "Vehicle 2: EKF is not ready — missing: POS_HORIZ_ABS\n",
      "Vehicle 1: EKF is not ready — missing: POS_HORIZ_ABS\n",
      "Vehicle 2: EKF is not ready — missing: POS_HORIZ_ABS\n",
      "Vehicle 1: EKF is not ready — missing: POS_HORIZ_ABS\n",
      "Vehicle 2: EKF is not ready — missing: POS_HORIZ_ABS\n",
      "Vehicle 1: EKF is not ready — missing: POS_HORIZ_ABS\n",
      "Vehicle 2: EKF is not ready — missing: POS_HORIZ_ABS\n",
      "Vehicle 1: EKF is not ready — missing: POS_HORIZ_ABS\n",
      "Vehicle 2: EKF is not ready — missing: POS_HORIZ_ABS\n",
      "Vehicle 1: EKF is not ready — missing: POS_HORIZ_ABS\n",
      "Vehicle 2: EKF is not ready — missing: POS_HORIZ_ABS\n",
      "Vehicle 1: EKF is not ready — missing: POS_HORIZ_ABS\n",
      "Vehicle 2: EKF is not ready — missing: POS_HORIZ_ABS\n",
      "Vehicle 1: EKF is not ready — missing: POS_HORIZ_ABS\n",
      "Vehicle 2: EKF is not ready — missing: POS_HORIZ_ABS\n",
      "Vehicle 1: EKF is not ready — missing: POS_HORIZ_ABS\n",
      "Vehicle 2: EKF is not ready — missing: POS_HORIZ_ABS\n",
      "Vehicle 1: EKF is not ready — missing: POS_HORIZ_ABS\n",
      "Vehicle 2: EKF is not ready — missing: POS_HORIZ_ABS\n",
      "Vehicle 1: EKF is not ready — missing: POS_HORIZ_ABS\n",
      "Vehicle 2: EKF is not ready — missing: POS_HORIZ_ABS\n",
      "Vehicle 1: EKF is not ready — missing: POS_HORIZ_ABS\n",
      "Vehicle 2: EKF is not ready — missing: POS_HORIZ_ABS\n",
      "Vehicle 1: EKF is not ready — missing: POS_HORIZ_ABS\n",
      "Vehicle 2: EKF is not ready — missing: POS_HORIZ_ABS\n",
      "Vehicle 1: EKF is not ready — missing: POS_HORIZ_ABS\n",
      "Vehicle 2: EKF is not ready — missing: POS_HORIZ_ABS\n",
      "Vehicle 1: EKF is not ready — missing: POS_HORIZ_ABS\n",
      "Vehicle 2: EKF is not ready — missing: POS_HORIZ_ABS\n",
      "Vehicle 1: EKF is not ready — missing: POS_HORIZ_ABS\n",
      "Vehicle 2: EKF is not ready — missing: POS_HORIZ_ABS\n",
      "Vehicle 1: EKF is not ready — missing: POS_HORIZ_ABS\n",
      "Vehicle 2: EKF is not ready — missing: POS_HORIZ_ABS\n",
      "Vehicle 1: EKF is not ready — missing: POS_HORIZ_ABS\n",
      "Vehicle 2: EKF is not ready — missing: POS_HORIZ_ABS\n",
      "Vehicle 1: EKF is not ready — missing: POS_HORIZ_ABS\n",
      "Vehicle 2: EKF is not ready — missing: POS_HORIZ_ABS\n",
      "Vehicle 1: EKF is not ready — missing: POS_HORIZ_ABS\n",
      "Vehicle 2: EKF is not ready — missing: POS_HORIZ_ABS\n",
      "Vehicle 1: EKF is not ready — missing: POS_HORIZ_ABS\n",
      "Vehicle 2: EKF is not ready — missing: POS_HORIZ_ABS\n",
      "Vehicle 1: EKF is not ready — missing: POS_HORIZ_ABS\n",
      "Vehicle 2: EKF is not ready — missing: POS_HORIZ_ABS\n",
      "Vehicle 1: EKF is not ready — missing: POS_HORIZ_ABS\n",
      "Vehicle 2: EKF is not ready — missing: POS_HORIZ_ABS\n",
      "Vehicle 1: EKF is not ready — missing: POS_HORIZ_ABS\n",
      "Vehicle 2: EKF is not ready — missing: POS_HORIZ_ABS\n",
      "Vehicle 1: EKF is not ready — missing: POS_HORIZ_ABS\n",
      "Vehicle 2: EKF is not ready — missing: POS_HORIZ_ABS\n",
      "Vehicle 1: EKF is not ready — missing: POS_HORIZ_ABS\n",
      "Vehicle 2: EKF is not ready — missing: POS_HORIZ_ABS\n",
      "Vehicle 1: EKF is not ready — missing: POS_HORIZ_ABS\n",
      "Vehicle 2: EKF is not ready — missing: POS_HORIZ_ABS\n",
      "Vehicle 1: EKF is not ready — missing: POS_HORIZ_ABS\n",
      "Vehicle 2: EKF is not ready — missing: POS_HORIZ_ABS\n",
      "Vehicle 1: EKF is not ready — missing: POS_HORIZ_ABS\n",
      "Vehicle 2: EKF is not ready — missing: POS_HORIZ_ABS\n",
      "Vehicle 1: EKF is not ready — missing: POS_HORIZ_ABS\n",
      "Vehicle 2: EKF is not ready — missing: POS_HORIZ_ABS\n",
      "Vehicle 1: EKF is not ready — missing: POS_HORIZ_ABS\n",
      "Vehicle 2: EKF is not ready — missing: POS_HORIZ_ABS\n",
      "Vehicle 1: EKF is not ready — missing: POS_HORIZ_ABS\n",
      "Vehicle 2: EKF is not ready — missing: POS_HORIZ_ABS\n",
      "Vehicle 1: EKF is not ready — missing: POS_HORIZ_ABS\n",
      "Vehicle 2: EKF is not ready — missing: POS_HORIZ_ABS\n",
      "Vehicle 1: EKF is not ready — missing: POS_HORIZ_ABS\n",
      "Vehicle 2: EKF is not ready — missing: POS_HORIZ_ABS\n",
      "Vehicle 1: EKF is not ready — missing: POS_HORIZ_ABS\n",
      "Vehicle 2: EKF is not ready — missing: POS_HORIZ_ABS\n",
      "Vehicle 1: EKF is not ready — missing: POS_HORIZ_ABS\n",
      "Vehicle 2: EKF is not ready — missing: POS_HORIZ_ABS\n",
      "Vehicle 1: EKF is not ready — missing: POS_HORIZ_ABS\n",
      "Vehicle 2: EKF is not ready — missing: POS_HORIZ_ABS\n",
      "Vehicle 1: EKF is not ready — missing: POS_HORIZ_ABS\n",
      "Vehicle 2: EKF is not ready — missing: POS_HORIZ_ABS\n",
      "Vehicle 1: EKF is not ready — missing: POS_HORIZ_ABS\n",
      "Vehicle 2: EKF is not ready — missing: POS_HORIZ_ABS\n",
      "Vehicle 1: EKF is not ready — missing: POS_HORIZ_ABS\n",
      "Vehicle 2: EKF is not ready — missing: POS_HORIZ_ABS\n",
      "Vehicle 1: EKF is not ready — missing: POS_HORIZ_ABS\n",
      "Vehicle 2: EKF is not ready — missing: POS_HORIZ_ABS\n",
      "Vehicle 1: EKF is not ready — missing: POS_HORIZ_ABS\n",
      "Vehicle 2: EKF is not ready — missing: POS_HORIZ_ABS\n",
      "Vehicle 1: EKF is not ready — missing: POS_HORIZ_ABS\n",
      "Vehicle 2: EKF is not ready — missing: POS_HORIZ_ABS\n",
      "Vehicle 1: EKF is not ready — missing: POS_HORIZ_ABS\n",
      "Vehicle 2: EKF is not ready — missing: POS_HORIZ_ABS\n",
      "Vehicle 1: EKF is not ready — missing: POS_HORIZ_ABS\n",
      "Vehicle 2: EKF is not ready — missing: POS_HORIZ_ABS\n",
      "Vehicle 1: EKF is not ready — missing: POS_HORIZ_ABS\n",
      "Vehicle 2: EKF is not ready — missing: POS_HORIZ_ABS\n",
      "Vehicle 1: EKF is not ready — missing: POS_HORIZ_ABS\n",
      "Vehicle 2: EKF is not ready — missing: POS_HORIZ_ABS\n",
      "Vehicle 1: EKF is not ready — missing: POS_HORIZ_ABS\n",
      "Vehicle 2: EKF is not ready — missing: POS_HORIZ_ABS\n",
      "Vehicle 1: EKF is not ready — missing: POS_HORIZ_ABS\n",
      "Vehicle 2: EKF is not ready — missing: POS_HORIZ_ABS\n",
      "Vehicle 1: EKF is not ready — missing: POS_HORIZ_ABS\n",
      "Vehicle 2: EKF is not ready — missing: POS_HORIZ_ABS\n",
      "Vehicle 1: EKF is not ready — missing: POS_HORIZ_ABS\n",
      "Vehicle 2: EKF is not ready — missing: POS_HORIZ_ABS\n",
      "Vehicle 1: EKF is not ready — missing: POS_HORIZ_ABS\n",
      "Vehicle 2: EKF is not ready — missing: POS_HORIZ_ABS\n",
      "Vehicle 1: EKF is not ready — missing: POS_HORIZ_ABS\n",
      "Vehicle 2: EKF is not ready — missing: POS_HORIZ_ABS\n",
      "Vehicle 1: EKF is not ready — missing: POS_HORIZ_ABS\n",
      "Vehicle 2: EKF is not ready — missing: POS_HORIZ_ABS\n",
      "Vehicle 1: EKF is not ready — missing: POS_HORIZ_ABS\n",
      "Vehicle 2: EKF is not ready — missing: POS_HORIZ_ABS\n",
      "Vehicle 1: EKF is not ready — missing: POS_HORIZ_ABS\n",
      "Vehicle 2: EKF is not ready — missing: POS_HORIZ_ABS\n",
      "Vehicle 1: EKF is not ready — missing: POS_HORIZ_ABS\n",
      "Vehicle 2: EKF is not ready — missing: POS_HORIZ_ABS\n",
      "Vehicle 1: EKF is not ready — missing: POS_HORIZ_ABS\n",
      "Vehicle 2: EKF is not ready — missing: POS_HORIZ_ABS\n",
      "Vehicle 1: EKF is not ready — missing: POS_HORIZ_ABS\n",
      "Vehicle 2: EKF is not ready — missing: POS_HORIZ_ABS\n",
      "Vehicle 1: EKF is not ready — missing: POS_HORIZ_ABS\n",
      "Vehicle 2: EKF is not ready — missing: POS_HORIZ_ABS\n",
      "Vehicle 1: EKF is not ready — missing: POS_HORIZ_ABS\n",
      "Vehicle 2: EKF is not ready — missing: POS_HORIZ_ABS\n",
      "Vehicle 1: EKF is not ready — missing: POS_HORIZ_ABS\n",
      "Vehicle 2: EKF is not ready — missing: POS_HORIZ_ABS\n",
      "Vehicle 1: EKF is not ready — missing: POS_HORIZ_ABS\n",
      "Vehicle 2: EKF is not ready — missing: POS_HORIZ_ABS\n",
      "Vehicle 1: EKF is not ready — missing: POS_HORIZ_ABS\n",
      "Vehicle 2: EKF is not ready — missing: POS_HORIZ_ABS\n",
      "Vehicle 1: EKF is not ready — missing: POS_HORIZ_ABS\n",
      "Vehicle 2: EKF is not ready — missing: POS_HORIZ_ABS\n",
      "Vehicle 1: EKF is not ready — missing: POS_HORIZ_ABS\n",
      "Vehicle 2: EKF is not ready — missing: POS_HORIZ_ABS\n",
      "Vehicle 1: EKF is not ready — missing: POS_HORIZ_ABS\n",
      "Vehicle 2: EKF is not ready — missing: POS_HORIZ_ABS\n",
      "Vehicle 1: EKF is not ready — missing: POS_HORIZ_ABS\n",
      "Vehicle 2: EKF is not ready — missing: POS_HORIZ_ABS\n",
      "Vehicle 1: EKF is not ready — missing: POS_HORIZ_ABS\n",
      "Vehicle 2: EKF is not ready — missing: POS_HORIZ_ABS\n",
      "Vehicle 1: EKF is not ready — missing: POS_HORIZ_ABS\n",
      "Vehicle 2: EKF is not ready — missing: POS_HORIZ_ABS\n",
      "Vehicle 1: EKF is not ready — missing: POS_HORIZ_ABS\n",
      "Vehicle 2: EKF is not ready — missing: POS_HORIZ_ABS\n",
      "Vehicle 1: EKF is not ready — missing: POS_HORIZ_ABS\n",
      "Vehicle 2: EKF is not ready — missing: POS_HORIZ_ABS\n",
      "Vehicle 1: EKF is not ready — missing: POS_HORIZ_ABS\n",
      "Vehicle 2: EKF is not ready — missing: POS_HORIZ_ABS\n",
      "Vehicle 1: EKF is not ready — missing: POS_HORIZ_ABS\n",
      "Vehicle 2: EKF is not ready — missing: POS_HORIZ_ABS\n",
      "Vehicle 1: EKF is not ready — missing: POS_HORIZ_ABS\n",
      "Vehicle 2: EKF is not ready — missing: POS_HORIZ_ABS\n",
      "Vehicle 1: EKF is not ready — missing: POS_HORIZ_ABS\n",
      "Vehicle 2: EKF is not ready — missing: POS_HORIZ_ABS\n",
      "Vehicle 1: EKF is not ready — missing: POS_HORIZ_ABS\n",
      "Vehicle 2: EKF is not ready — missing: POS_HORIZ_ABS\n",
      "Vehicle 1: EKF is not ready — missing: POS_HORIZ_ABS\n",
      "Vehicle 2: EKF is not ready — missing: POS_HORIZ_ABS\n",
      "Vehicle 1: EKF is not ready — missing: POS_HORIZ_ABS\n",
      "Vehicle 2: EKF is not ready — missing: POS_HORIZ_ABS\n",
      "Vehicle 1: EKF is not ready — missing: POS_HORIZ_ABS\n",
      "Vehicle 2: EKF is not ready — missing: POS_HORIZ_ABS\n",
      "Vehicle 1: EKF is not ready — missing: POS_HORIZ_ABS\n",
      "Vehicle 2: EKF is not ready — missing: POS_HORIZ_ABS\n",
      "Vehicle 1: EKF is not ready — missing: POS_HORIZ_ABS\n",
      "Vehicle 2: EKF is not ready — missing: POS_HORIZ_ABS\n",
      "Vehicle 1: EKF is not ready — missing: POS_HORIZ_ABS\n",
      "Vehicle 2: EKF is not ready — missing: POS_HORIZ_ABS\n",
      "Vehicle 1: EKF is not ready — missing: POS_HORIZ_ABS\n",
      "Vehicle 2: EKF is not ready — missing: POS_HORIZ_ABS\n",
      "Vehicle 1: EKF is not ready — missing: POS_HORIZ_ABS\n",
      "Vehicle 2: EKF is not ready — missing: POS_HORIZ_ABS\n",
      "Vehicle 1: EKF is not ready — missing: POS_HORIZ_ABS\n",
      "Vehicle 2: EKF is not ready — missing: POS_HORIZ_ABS\n",
      "Vehicle 1: EKF is not ready — missing: POS_HORIZ_ABS\n",
      "Vehicle 2: EKF is not ready — missing: POS_HORIZ_ABS\n",
      "Vehicle 1: EKF is not ready — missing: POS_HORIZ_ABS\n",
      "Vehicle 2: EKF is not ready — missing: POS_HORIZ_ABS\n",
      "Vehicle 1: EKF is not ready — missing: POS_HORIZ_ABS\n",
      "Vehicle 2: EKF is not ready — missing: POS_HORIZ_ABS\n",
      "Vehicle 1: EKF is not ready — missing: POS_HORIZ_ABS\n",
      "Vehicle 2: EKF is not ready — missing: POS_HORIZ_ABS\n",
      "Vehicle 1: EKF is not ready — missing: POS_HORIZ_ABS\n",
      "Vehicle 2: EKF is not ready — missing: POS_HORIZ_ABS\n",
      "Vehicle 1: EKF is not ready — missing: POS_HORIZ_ABS\n",
      "Vehicle 2: EKF is not ready — missing: POS_HORIZ_ABS\n",
      "Vehicle 1: EKF is not ready — missing: POS_HORIZ_ABS\n",
      "Vehicle 2: EKF is not ready — missing: POS_HORIZ_ABS\n",
      "Vehicle 1: EKF is not ready — missing: POS_HORIZ_ABS\n",
      "Vehicle 2: EKF is not ready — missing: POS_HORIZ_ABS\n",
      "Vehicle 1: EKF is not ready — missing: POS_HORIZ_ABS\n",
      "Vehicle 2: EKF is not ready — missing: POS_HORIZ_ABS\n",
      "Vehicle 1: EKF is not ready — missing: POS_HORIZ_ABS\n",
      "Vehicle 2: EKF is not ready — missing: POS_HORIZ_ABS\n",
      "Vehicle 1: EKF is not ready — missing: POS_HORIZ_ABS\n",
      "Vehicle 2: EKF is not ready — missing: POS_HORIZ_ABS\n",
      "Vehicle 1: EKF is not ready — missing: POS_HORIZ_ABS\n",
      "Vehicle 2: EKF is not ready — missing: POS_HORIZ_ABS\n",
      "Vehicle 1: EKF is not ready — missing: POS_HORIZ_ABS\n",
      "Vehicle 2: EKF is not ready — missing: POS_HORIZ_ABS\n",
      "Vehicle 1: EKF is not ready — missing: POS_HORIZ_ABS\n",
      "Vehicle 2: EKF is not ready — missing: POS_HORIZ_ABS\n",
      "Vehicle 1: EKF is not ready — missing: POS_HORIZ_ABS\n",
      "Vehicle 2: EKF is not ready — missing: POS_HORIZ_ABS\n",
      "Vehicle 1: EKF is not ready — missing: POS_HORIZ_ABS\n",
      "Vehicle 2: EKF is not ready — missing: POS_HORIZ_ABS\n",
      "Vehicle 1: EKF is not ready — missing: POS_HORIZ_ABS\n",
      "Vehicle 2: EKF is not ready — missing: POS_HORIZ_ABS\n",
      "Vehicle 1: EKF is not ready — missing: POS_HORIZ_ABS\n",
      "Vehicle 2: EKF is not ready — missing: POS_HORIZ_ABS\n",
      "Vehicle 1: EKF is not ready — missing: POS_HORIZ_ABS\n",
      "Vehicle 2: EKF is not ready — missing: POS_HORIZ_ABS\n",
      "Vehicle 1: EKF is not ready — missing: POS_HORIZ_ABS\n",
      "Vehicle 2: EKF is not ready — missing: POS_HORIZ_ABS\n",
      "Vehicle 1: ✅ Step: Check EKF is done\n",
      "Vehicle 1: Step 'Check GPS' is now connected ✅🔗\n",
      "Vehicle 1: ▶️ Starting Step: Check GPS\n",
      "Vehicle 2: ✅ Step: Check EKF is done\n",
      "Vehicle 2: Step 'Check GPS' is now connected ✅🔗\n",
      "Vehicle 2: ▶️ Starting Step: Check GPS\n",
      "Vehicle 1: ✅ Step: Check GPS is done\n",
      "Vehicle 1: Step 'Check system' is now connected ✅🔗\n",
      "Vehicle 1: ▶️ Starting Step: Check system\n",
      "Vehicle 2: ✅ Step: Check GPS is done\n",
      "Vehicle 2: Step 'Check system' is now connected ✅🔗\n",
      "Vehicle 2: ▶️ Starting Step: Check system\n",
      "Vehicle 1: ✅ Step: Check system is done\n",
      "Vehicle 1: ✅ Action: Pre-Arm Check is done\n",
      "Vehicle 1: Action 'Set Mode: GUIDED' is now connected ✅🔗\n",
      "Vehicle 1: ▶️ Starting Action: Set Mode: GUIDED\n",
      "Vehicle 1: Step 'Switch to GUIDED' is now connected ✅🔗\n",
      "Vehicle 1: ▶️ Starting Step: Switch to GUIDED\n",
      "Vehicle 1: ✅ Step: Switch to GUIDED is done\n",
      "Vehicle 1: ✅ Action: Set Mode: GUIDED is done\n",
      "Vehicle 1: Action 'Arm' is now connected ✅🔗\n",
      "Vehicle 1: ▶️ Starting Action: Arm\n",
      "Vehicle 1: Step 'arm' is now connected ✅🔗\n",
      "Vehicle 1: 🛰️ Sending ARM command...\n",
      "Vehicle 1: ▶️ Starting Step: arm\n",
      "Vehicle 1: ✅ Step: arm is done\n",
      "Vehicle 1: ✅ Action: Arm is done\n",
      "Vehicle 1: Action 'Take Off' is now connected ✅🔗\n",
      "Vehicle 1: ▶️ Starting Action: Take Off\n",
      "Vehicle 1: Step 'take off' is now connected ✅🔗\n",
      "Vehicle 1: ▶️ Starting Step: take off\n",
      "Vehicle 2: ✅ Step: Check system is done\n",
      "Vehicle 2: ✅ Action: Pre-Arm Check is done\n",
      "Vehicle 2: Action 'Set Mode: GUIDED' is now connected ✅🔗\n",
      "Vehicle 2: ▶️ Starting Action: Set Mode: GUIDED\n",
      "Vehicle 2: Step 'Switch to GUIDED' is now connected ✅🔗\n",
      "Vehicle 2: ▶️ Starting Step: Switch to GUIDED\n",
      "Vehicle 2: ✅ Step: Switch to GUIDED is done\n",
      "Vehicle 2: ✅ Action: Set Mode: GUIDED is done\n",
      "Vehicle 2: Action 'Arm' is now connected ✅🔗\n",
      "Vehicle 2: ▶️ Starting Action: Arm\n",
      "Vehicle 2: Step 'arm' is now connected ✅🔗\n",
      "Vehicle 2: 🛰️ Sending ARM command...\n",
      "Vehicle 2: ▶️ Starting Step: arm\n",
      "Vehicle 1:📍 Distance to target: 5.04 m\n",
      "Vehicle 1:📍 Distance to target: 5.04 m\n",
      "Vehicle 1:📍 Distance to target: 5.04 m\n",
      "Vehicle 2: ✅ Step: arm is done\n",
      "Vehicle 2: ✅ Action: Arm is done\n",
      "Vehicle 2: Action 'Take Off' is now connected ✅🔗\n",
      "Vehicle 2: ▶️ Starting Action: Take Off\n",
      "Vehicle 2: Step 'take off' is now connected ✅🔗\n",
      "Vehicle 2: ▶️ Starting Step: take off\n",
      "Vehicle 1:📍 Distance to target: 5.04 m\n",
      "Vehicle 2:📍 Distance to target: 5.04 m\n",
      "Vehicle 1:📍 Distance to target: 5.04 m\n",
      "Vehicle 2:📍 Distance to target: 5.04 m\n",
      "Vehicle 1:📍 Distance to target: 5.04 m\n",
      "Vehicle 2:📍 Distance to target: 5.04 m\n",
      "Vehicle 1:📍 Distance to target: 5.04 m\n",
      "Vehicle 2:📍 Distance to target: 5.04 m\n",
      "Vehicle 1:📍 Distance to target: 5.04 m\n",
      "Vehicle 2:📍 Distance to target: 5.04 m\n",
      "Vehicle 1:📍 Distance to target: 5.04 m\n",
      "Vehicle 2:📍 Distance to target: 5.04 m\n",
      "Vehicle 1:📍 Distance to target: 5.04 m\n",
      "Vehicle 2:📍 Distance to target: 5.04 m\n",
      "Vehicle 1:📍 Distance to target: 5.04 m\n",
      "Vehicle 2:📍 Distance to target: 5.04 m\n",
      "Vehicle 1:📍 Distance to target: 5.04 m\n",
      "Vehicle 2:📍 Distance to target: 5.04 m\n",
      "Vehicle 1:📍 Distance to target: 5.03 m\n",
      "Vehicle 2:📍 Distance to target: 5.03 m\n",
      "Vehicle 1:📍 Distance to target: 4.99 m\n",
      "Vehicle 2:📍 Distance to target: 4.99 m\n",
      "Vehicle 1:📍 Distance to target: 4.89 m\n",
      "Vehicle 2:📍 Distance to target: 4.89 m\n",
      "Vehicle 1:📍 Distance to target: 4.74 m\n",
      "Vehicle 2:📍 Distance to target: 4.73 m\n",
      "Vehicle 1:📍 Distance to target: 4.51 m\n",
      "Vehicle 2:📍 Distance to target: 4.51 m\n",
      "Vehicle 1:📍 Distance to target: 4.23 m\n",
      "Vehicle 2:📍 Distance to target: 4.21 m\n",
      "Vehicle 1:📍 Distance to target: 3.87 m\n",
      "Vehicle 2:📍 Distance to target: 3.85 m\n",
      "Vehicle 1:📍 Distance to target: 3.45 m\n",
      "Vehicle 2:📍 Distance to target: 3.43 m\n",
      "Vehicle 1:📍 Distance to target: 3.00 m\n",
      "Vehicle 2:📍 Distance to target: 2.99 m\n",
      "Vehicle 1:📍 Distance to target: 2.57 m\n",
      "Vehicle 2:📍 Distance to target: 2.57 m\n",
      "Vehicle 1:📍 Distance to target: 2.18 m\n",
      "Vehicle 2:📍 Distance to target: 2.18 m\n",
      "Vehicle 1:📍 Distance to target: 1.82 m\n",
      "Vehicle 2:📍 Distance to target: 1.83 m\n",
      "Vehicle 1:📍 Distance to target: 1.51 m\n",
      "Vehicle 2:📍 Distance to target: 1.52 m\n",
      "Vehicle 1:📍 Distance to target: 1.23 m\n",
      "Vehicle 2:📍 Distance to target: 1.25 m\n",
      "Vehicle 1:📍 Distance to target: 1.00 m\n",
      "Vehicle 2:📍 Distance to target: 1.02 m\n",
      "Vehicle 1:📍 Distance to target: 0.80 m\n",
      "Vehicle 2:📍 Distance to target: 0.83 m\n",
      "Vehicle 1:📍 Distance to target: 0.63 m\n",
      "Vehicle 2:📍 Distance to target: 0.66 m\n",
      "Vehicle 1:📍 Distance to target: 0.50 m\n",
      "Vehicle 1: ✅ Step: take off is done\n",
      "Vehicle 1: ✅ Action: Take Off is done\n",
      "Vehicle 2:📍 Distance to target: 0.54 m\n",
      "[-25   0   5]\n",
      "Step 'go to -> (-25, 0, 5)' created — no connection yet 🧩\n",
      "Vehicle 1: Action 'fly' is now connected ✅🔗\n",
      "Vehicle 1: ▶️ Starting Action: fly\n",
      "Vehicle 1: Step 'go to -> (-25, 0, 5)' is now connected ✅🔗\n",
      "Vehicle 1: ▶️ Starting Step: go to -> (-25, 0, 5)\n",
      "Vehicle 2:📍 Distance to target: 0.45 m\n",
      "Vehicle 2: ✅ Step: take off is done\n",
      "Vehicle 2: ✅ Action: Take Off is done\n",
      "Vehicle 1:📍 Distance to target: 25.01 m\n",
      "[-25   0   5]\n",
      "Step 'go to -> (-25, 0, 5)' created — no connection yet 🧩\n",
      "Vehicle 2: Action 'fly' is now connected ✅🔗\n",
      "Vehicle 2: ▶️ Starting Action: fly\n",
      "Vehicle 2: Step 'go to -> (-25, 0, 5)' is now connected ✅🔗\n",
      "Vehicle 2: ▶️ Starting Step: go to -> (-25, 0, 5)\n",
      "Vehicle 1:📍 Distance to target: 24.97 m\n",
      "Vehicle 2:📍 Distance to target: 25.01 m\n",
      "Vehicle 1:📍 Distance to target: 24.79 m\n",
      "Vehicle 2:📍 Distance to target: 24.96 m\n",
      "Vehicle 1:📍 Distance to target: 24.45 m\n",
      "Vehicle 2:📍 Distance to target: 24.79 m\n",
      "Vehicle 1:📍 Distance to target: 23.92 m\n",
      "Vehicle 2:📍 Distance to target: 24.43 m\n",
      "Vehicle 1:📍 Distance to target: 23.22 m\n",
      "Vehicle 2:📍 Distance to target: 23.90 m\n",
      "Vehicle 1:📍 Distance to target: 22.34 m\n",
      "Vehicle 2:📍 Distance to target: 23.21 m\n",
      "Vehicle 1:📍 Distance to target: 21.31 m\n",
      "Vehicle 2:📍 Distance to target: 22.34 m\n",
      "Vehicle 1:📍 Distance to target: 20.11 m\n",
      "Vehicle 2:📍 Distance to target: 21.30 m\n",
      "Vehicle 1:📍 Distance to target: 18.76 m\n",
      "Vehicle 2:📍 Distance to target: 20.11 m\n",
      "Vehicle 1:📍 Distance to target: 17.26 m\n",
      "Vehicle 2:📍 Distance to target: 18.76 m\n",
      "Vehicle 1:📍 Distance to target: 15.67 m\n",
      "Vehicle 2:📍 Distance to target: 17.26 m\n",
      "Vehicle 1:📍 Distance to target: 14.07 m\n",
      "Vehicle 2:📍 Distance to target: 15.66 m\n",
      "Vehicle 1:📍 Distance to target: 12.50 m\n",
      "Vehicle 2:📍 Distance to target: 14.05 m\n",
      "Vehicle 1:📍 Distance to target: 11.04 m\n",
      "Vehicle 2:📍 Distance to target: 12.50 m\n",
      "Vehicle 1:📍 Distance to target: 9.65 m\n",
      "Vehicle 2:📍 Distance to target: 11.02 m\n",
      "Vehicle 1:📍 Distance to target: 8.36 m\n",
      "Vehicle 2:📍 Distance to target: 9.63 m\n",
      "Vehicle 1:📍 Distance to target: 7.17 m\n",
      "Vehicle 2:📍 Distance to target: 8.35 m\n",
      "Vehicle 1:📍 Distance to target: 6.07 m\n",
      "Vehicle 2:📍 Distance to target: 7.16 m\n",
      "Vehicle 1:📍 Distance to target: 5.07 m\n",
      "Vehicle 2:📍 Distance to target: 6.06 m\n",
      "Vehicle 1:📍 Distance to target: 4.15 m\n",
      "Vehicle 2:📍 Distance to target: 5.05 m\n",
      "Vehicle 1:📍 Distance to target: 3.31 m\n",
      "Vehicle 2:📍 Distance to target: 4.14 m\n",
      "Vehicle 1:📍 Distance to target: 2.56 m\n",
      "Vehicle 2:📍 Distance to target: 3.31 m\n",
      "Vehicle 1:📍 Distance to target: 1.89 m\n",
      "Vehicle 2:📍 Distance to target: 2.56 m\n",
      "Vehicle 1:📍 Distance to target: 1.32 m\n",
      "Vehicle 2:📍 Distance to target: 1.89 m\n",
      "Vehicle 1:📍 Distance to target: 0.84 m\n",
      "Vehicle 2:📍 Distance to target: 1.32 m\n",
      "Vehicle 1:📍 Distance to target: 0.47 m\n",
      "Vehicle 1: ✅ Step: go to -> (-25, 0, 5) is done\n",
      "Vehicle 2:📍 Distance to target: 0.85 m\n",
      "[-40   0   5]\n",
      "Step 'go to -> (-40, 0, 5)' created — no connection yet 🧩\n",
      "Vehicle 1: Step 'go to -> (-40, 0, 5)' is now connected ✅🔗\n",
      "Vehicle 1: ▶️ Starting Step: go to -> (-40, 0, 5)\n",
      "Vehicle 2:📍 Distance to target: 0.48 m\n",
      "Vehicle 2: ✅ Step: go to -> (-25, 0, 5) is done\n",
      "Vehicle 1:📍 Distance to target: 15.03 m\n",
      "[-40   0   5]\n",
      "Step 'go to -> (-40, 0, 5)' created — no connection yet 🧩\n",
      "Vehicle 2: Step 'go to -> (-40, 0, 5)' is now connected ✅🔗\n",
      "Vehicle 2: ▶️ Starting Step: go to -> (-40, 0, 5)\n",
      "Vehicle 1:📍 Distance to target: 14.90 m\n",
      "Vehicle 2:📍 Distance to target: 15.04 m\n",
      "Vehicle 1:📍 Distance to target: 14.72 m\n",
      "Vehicle 2:📍 Distance to target: 14.90 m\n",
      "Vehicle 1:📍 Distance to target: 14.41 m\n",
      "Vehicle 2:📍 Distance to target: 14.73 m\n",
      "Vehicle 1:📍 Distance to target: 13.91 m\n",
      "Vehicle 2:📍 Distance to target: 14.42 m\n",
      "Vehicle 1:📍 Distance to target: 13.23 m\n",
      "Vehicle 2:📍 Distance to target: 13.92 m\n",
      "Vehicle 1:📍 Distance to target: 12.36 m\n",
      "Vehicle 2:📍 Distance to target: 13.25 m\n",
      "Vehicle 1:📍 Distance to target: 11.33 m\n",
      "Vehicle 2:📍 Distance to target: 12.39 m\n",
      "Vehicle 1:📍 Distance to target: 10.15 m\n",
      "Vehicle 2:📍 Distance to target: 11.37 m\n",
      "Vehicle 1:📍 Distance to target: 8.89 m\n",
      "Vehicle 2:📍 Distance to target: 10.19 m\n",
      "Vehicle 1:📍 Distance to target: 7.64 m\n",
      "Vehicle 2:📍 Distance to target: 8.93 m\n",
      "Vehicle 1:📍 Distance to target: 6.46 m\n",
      "Vehicle 2:📍 Distance to target: 7.68 m\n",
      "Vehicle 1:📍 Distance to target: 5.35 m\n",
      "Vehicle 2:📍 Distance to target: 6.49 m\n",
      "Vehicle 1:📍 Distance to target: 4.35 m\n",
      "Vehicle 2:📍 Distance to target: 5.38 m\n",
      "Vehicle 1:📍 Distance to target: 3.44 m\n",
      "Vehicle 2:📍 Distance to target: 4.36 m\n",
      "Vehicle 1:📍 Distance to target: 2.64 m\n",
      "Vehicle 2:📍 Distance to target: 3.46 m\n",
      "Vehicle 1:📍 Distance to target: 1.95 m\n",
      "Vehicle 2:📍 Distance to target: 2.65 m\n",
      "Vehicle 1:📍 Distance to target: 1.36 m\n",
      "Vehicle 2:📍 Distance to target: 1.96 m\n",
      "Vehicle 1:📍 Distance to target: 0.87 m\n",
      "Vehicle 2:📍 Distance to target: 1.37 m\n",
      "Vehicle 1:📍 Distance to target: 0.49 m\n",
      "Vehicle 1: ✅ Step: go to -> (-40, 0, 5) is done\n",
      "Vehicle 2:📍 Distance to target: 0.88 m\n",
      "[-40  14   5]\n",
      "Step 'go to -> (-40, 14, 5)' created — no connection yet 🧩\n",
      "Vehicle 1: Step 'go to -> (-40, 14, 5)' is now connected ✅🔗\n",
      "Vehicle 1: ▶️ Starting Step: go to -> (-40, 14, 5)\n",
      "Vehicle 2:📍 Distance to target: 0.49 m\n",
      "Vehicle 2: ✅ Step: go to -> (-40, 0, 5) is done\n",
      "Vehicle 1:📍 Distance to target: 14.03 m\n",
      "[-40 -16   5]\n",
      "Step 'go to -> (-40, -16, 5)' created — no connection yet 🧩\n",
      "Vehicle 2: Step 'go to -> (-40, -16, 5)' is now connected ✅🔗\n",
      "Vehicle 2: ▶️ Starting Step: go to -> (-40, -16, 5)\n",
      "Vehicle 1:📍 Distance to target: 13.98 m\n",
      "Vehicle 2:📍 Distance to target: 16.00 m\n",
      "Vehicle 1:📍 Distance to target: 13.82 m\n",
      "Vehicle 2:📍 Distance to target: 15.96 m\n",
      "Vehicle 1:📍 Distance to target: 13.49 m\n",
      "Vehicle 2:📍 Distance to target: 15.80 m\n",
      "Vehicle 1:📍 Distance to target: 12.98 m\n",
      "Vehicle 2:📍 Distance to target: 15.47 m\n",
      "Vehicle 1:📍 Distance to target: 12.30 m\n",
      "Vehicle 2:📍 Distance to target: 14.96 m\n",
      "Vehicle 1:📍 Distance to target: 11.45 m\n",
      "Vehicle 2:📍 Distance to target: 14.27 m\n",
      "Vehicle 1:📍 Distance to target: 10.44 m\n",
      "Vehicle 2:📍 Distance to target: 13.41 m\n",
      "Vehicle 1:📍 Distance to target: 9.30 m\n",
      "Vehicle 2:📍 Distance to target: 12.38 m\n",
      "Vehicle 1:📍 Distance to target: 8.09 m\n",
      "Vehicle 2:📍 Distance to target: 11.20 m\n",
      "Vehicle 1:📍 Distance to target: 6.92 m\n",
      "Vehicle 2:📍 Distance to target: 9.91 m\n",
      "Vehicle 1:📍 Distance to target: 5.82 m\n",
      "Vehicle 2:📍 Distance to target: 8.62 m\n",
      "Vehicle 1:📍 Distance to target: 4.80 m\n",
      "Vehicle 2:📍 Distance to target: 7.37 m\n",
      "Vehicle 1:📍 Distance to target: 3.87 m\n",
      "Vehicle 2:📍 Distance to target: 6.20 m\n",
      "Vehicle 1:📍 Distance to target: 3.04 m\n",
      "Vehicle 2:📍 Distance to target: 5.13 m\n",
      "Vehicle 1:📍 Distance to target: 2.30 m\n",
      "Vehicle 2:📍 Distance to target: 4.15 m\n",
      "Vehicle 1:📍 Distance to target: 1.67 m\n",
      "Vehicle 2:📍 Distance to target: 3.28 m\n",
      "Vehicle 1:📍 Distance to target: 1.14 m\n",
      "Vehicle 2:📍 Distance to target: 2.52 m\n",
      "Vehicle 1:📍 Distance to target: 0.72 m\n",
      "Vehicle 2:📍 Distance to target: 1.85 m\n",
      "Vehicle 1:📍 Distance to target: 0.41 m\n",
      "Vehicle 1: ✅ Step: go to -> (-40, 14, 5) is done\n",
      "Vehicle 2:📍 Distance to target: 1.28 m\n",
      "Vehicle 1: ✅ Action: fly is done\n",
      "Vehicle 1: Action 'Land' is now connected ✅🔗\n",
      "Vehicle 1: ▶️ Starting Action: Land\n",
      "Vehicle 1: Step 'land' is now connected ✅🔗\n",
      "Vehicle 1: ▶️ Starting Step: land\n",
      "Vehicle 2:📍 Distance to target: 0.82 m\n",
      "Vehicle 2:📍 Distance to target: 0.47 m\n",
      "Vehicle 2: ✅ Step: go to -> (-40, -16, 5) is done\n",
      "Vehicle 2: ✅ Action: fly is done\n",
      "Vehicle 2: Action 'Land' is now connected ✅🔗\n",
      "Vehicle 2: ▶️ Starting Action: Land\n",
      "Vehicle 2: Step 'land' is now connected ✅🔗\n",
      "Vehicle 2: ▶️ Starting Step: land\n",
      "Vehicle 2: ✅ Step: land is done\n",
      "Vehicle 2: ✅ Action: Land is done\n",
      "Vehicle 1: ✅ Step: land is done\n",
      "Vehicle 1: ✅ Action: Land is done\n",
      "✅ <Plan 'basic plan'>\n",
      "  ✅ <Action 'Pre-Arm Check'>\n",
      "    ✅ <Step 'Check disarmed'>\n",
      "    ✅ <Step 'Check EKF'>\n",
      "    ✅ <Step 'Check GPS'>\n",
      "    ✅ <Step 'Check system'>\n",
      "  ✅ <Action 'Set Mode: GUIDED'>\n",
      "    ✅ <Step 'Switch to GUIDED'>\n",
      "  ✅ <Action 'Arm'>\n",
      "    ✅ <Step 'arm'>\n",
      "  ✅ <Action 'Take Off'>\n",
      "    ✅ <Step 'take off'>\n",
      "  ✅ <Action 'fly'>\n",
      "    ✅ <Step 'go to -> (-25, 0, 5)'>\n",
      "    ✅ <Step 'go to -> (-40, 0, 5)'>\n",
      "    ✅ <Step 'go to -> (-40, 14, 5)'>\n",
      "  ✅ <Action 'Land'>\n",
      "    ✅ <Step 'land'>\n",
      "✅ <Plan 'basic plan'>\n",
      "  ✅ <Action 'Pre-Arm Check'>\n",
      "    ✅ <Step 'Check disarmed'>\n",
      "    ✅ <Step 'Check EKF'>\n",
      "    ✅ <Step 'Check GPS'>\n",
      "    ✅ <Step 'Check system'>\n",
      "  ✅ <Action 'Set Mode: GUIDED'>\n",
      "    ✅ <Step 'Switch to GUIDED'>\n",
      "  ✅ <Action 'Arm'>\n",
      "    ✅ <Step 'arm'>\n",
      "  ✅ <Action 'Take Off'>\n",
      "    ✅ <Step 'take off'>\n",
      "  ✅ <Action 'fly'>\n",
      "    ✅ <Step 'go to -> (-25, 0, 5)'>\n",
      "    ✅ <Step 'go to -> (-40, 0, 5)'>\n",
      "    ✅ <Step 'go to -> (-40, -16, 5)'>\n",
      "  ✅ <Action 'Land'>\n",
      "    ✅ <Step 'land'>\n"
     ]
    }
   ],
   "source": [
    "incomplete_plans=[uav.plan!=State.DONE for uav in uavs]\n",
    "\n",
    "while any(incomplete_plans):\n",
    "    for i,uav in enumerate(uavs):\n",
    "        if uav.plan.state==State.DONE:\n",
    "            incomplete_plans[i]=False\n",
    "        else:\n",
    "            ## It is better to define this as a plan\n",
    "            curr_action=uav.current_action()\n",
    "            if curr_action.name==\"fly\" and (curr_action.state == State.NOT_STARTED or (curr_action.state == State.IN_PROGRESS and curr_action.current.state == State.DONE)):\n",
    "                ## Search algorithm\n",
    "                final_wp = local_target_wps[i]\n",
    "                curr_pos  = get_local_position(uav.conn)\n",
    "                if curr_pos is False:\n",
    "                    continue\n",
    "                dist = np.linalg.norm(curr_pos - final_wp)\n",
    "                if dist > 0.5:\n",
    "                    next_wp = find_best_waypoint(curr_pos, final_wp, local_wps[i],eps=1)\n",
    "                    print(next_wp)\n",
    "                    next_step=make_go_to(wp=next_wp,wp_margin=0.5)\n",
    "                    uav.plan.current.add_now(next_step)\n",
    "                uav.act_plan()\n",
    "            else:\n",
    "                uav.act_plan()\n",
    "\n",
    "for uav in uavs: \n",
    "    print(uav.plan)\n",
    "        "
   ]
  },
  {
   "cell_type": "markdown",
   "metadata": {},
   "source": [
    "## Kill all related process"
   ]
  },
  {
   "cell_type": "code",
   "execution_count": 14,
   "metadata": {},
   "outputs": [],
   "source": [
    "for process in [\"QGroundControl\", \"sim_vehicle.py\", \"arducopter\", \"gazebo\", \"mavproxy\"]:\n",
    "    os.system(f\"pkill -9 -f {process}\")"
   ]
  },
  {
   "cell_type": "code",
   "execution_count": null,
   "metadata": {},
   "outputs": [],
   "source": []
  }
 ],
 "metadata": {
  "kernelspec": {
   "display_name": "pymavlink",
   "language": "python",
   "name": "python3"
  },
  "language_info": {
   "codemirror_mode": {
    "name": "ipython",
    "version": 3
   },
   "file_extension": ".py",
   "mimetype": "text/x-python",
   "name": "python",
   "nbconvert_exporter": "python",
   "pygments_lexer": "ipython3",
   "version": "3.9.21"
  }
 },
 "nbformat": 4,
 "nbformat_minor": 2
}
