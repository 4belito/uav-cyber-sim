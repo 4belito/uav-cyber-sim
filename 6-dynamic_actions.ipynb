{
 "cells": [
  {
   "cell_type": "markdown",
   "metadata": {},
   "source": [
    "## Dynamic Plans\n",
    "\n",
    "Here, instead of a predefined plan, vehicles take decisions online following a minimization distance rule. Only a goal is predefined."
   ]
  },
  {
   "cell_type": "code",
   "execution_count": 1,
   "metadata": {},
   "outputs": [],
   "source": [
    "import numpy as np\n",
    "\n",
    "\n",
    "# Custom modules\n",
    "from helpers import global2local, plot_3d_interactive, kill_processes\n",
    "from helpers.change_coordinates import global2local_broadcast\n",
    "from simulators import Simulator, Gazebo, QGC\n",
    "from plan import Plan, State,PlanMode\n",
    "from oracle import Oracle\n",
    "\n",
    "\n",
    "from helpers.navegation_logic import find_path, find_best_waypoint\n",
    "\n",
    "\n",
    "kill_processes()"
   ]
  },
  {
   "cell_type": "markdown",
   "metadata": {},
   "source": [
    "## Gonfiguration"
   ]
  },
  {
   "cell_type": "code",
   "execution_count": 2,
   "metadata": {},
   "outputs": [],
   "source": [
    "offsets = [ #east, north, up, heading\n",
    "    (40, -10, 0, 0), \n",
    "    (40,  20, 0, 0)]\n",
    "n_vehicles = len(offsets)\n",
    "\n",
    "wps = np.array([(40, -10, 5),\n",
    "                (15, -10, 5),\n",
    "                (0, -10, 5),\n",
    "                (0,   4, 5),\n",
    "                (40, 20, 5),\n",
    "                (15, 20, 5),\n",
    "                (0,  20, 5)])\n",
    "\n",
    "homes=np.array([offset[:3] for offset in offsets])\n",
    "target_wps=np.array([\n",
    "                (0, 4,5),\n",
    "                (0, 4,5)])\n",
    "local_target_wps=global2local(target_wps, homes)\n",
    "local_wps=global2local_broadcast(wps, homes)\n",
    "\n",
    "targets=np.array([(*target_wp[:2],0) for target_wp in target_wps])\n",
    "\n",
    "\n",
    "plans=[Plan.basic(wps=local_target_wps[0][np.newaxis,:],mode=PlanMode.DYNAMIC,wp_margin=0.5,dynamic_wps=local_wps[0]),\n",
    "       Plan.basic(wps=local_target_wps[1][np.newaxis,:],mode=PlanMode.DYNAMIC,wp_margin=0.5,dynamic_wps=local_wps[1]),\n",
    "       ]"
   ]
  },
  {
   "cell_type": "markdown",
   "metadata": {},
   "source": [
    "## Visualization Parameters"
   ]
  },
  {
   "cell_type": "code",
   "execution_count": 3,
   "metadata": {},
   "outputs": [
    {
     "data": {
      "application/vnd.plotly.v1+json": {
       "config": {
        "plotlyServerURL": "https://plot.ly"
       },
       "data": [
        {
         "marker": {
          "color": "yellow",
          "size": 6
         },
         "mode": "markers",
         "name": "waypoints",
         "type": "scatter3d",
         "x": [
          40,
          15,
          0,
          0,
          40,
          15,
          0
         ],
         "y": [
          -10,
          -10,
          -10,
          4,
          20,
          20,
          20
         ],
         "z": [
          5,
          5,
          5,
          5,
          5,
          5,
          5
         ]
        },
        {
         "marker": {
          "color": "blue",
          "size": 6
         },
         "mode": "markers",
         "name": "homes",
         "type": "scatter3d",
         "x": [
          40,
          40
         ],
         "y": [
          -10,
          20
         ],
         "z": [
          0,
          0
         ]
        },
        {
         "marker": {
          "color": "green",
          "size": 6
         },
         "mode": "markers",
         "name": "targets",
         "type": "scatter3d",
         "x": [
          0,
          0
         ],
         "y": [
          4,
          4
         ],
         "z": [
          0,
          0
         ]
        }
       ],
       "layout": {
        "height": 600,
        "scene": {
         "xaxis": {
          "range": [
           -8,
           48
          ],
          "title": {
           "text": "x"
          }
         },
         "yaxis": {
          "range": [
           -16,
           26
          ],
          "title": {
           "text": "y"
          }
         },
         "zaxis": {
          "range": [
           -0.05,
           7
          ],
          "title": {
           "text": "z"
          }
         }
        },
        "showlegend": true,
        "template": {
         "data": {
          "bar": [
           {
            "error_x": {
             "color": "#2a3f5f"
            },
            "error_y": {
             "color": "#2a3f5f"
            },
            "marker": {
             "line": {
              "color": "#E5ECF6",
              "width": 0.5
             },
             "pattern": {
              "fillmode": "overlay",
              "size": 10,
              "solidity": 0.2
             }
            },
            "type": "bar"
           }
          ],
          "barpolar": [
           {
            "marker": {
             "line": {
              "color": "#E5ECF6",
              "width": 0.5
             },
             "pattern": {
              "fillmode": "overlay",
              "size": 10,
              "solidity": 0.2
             }
            },
            "type": "barpolar"
           }
          ],
          "carpet": [
           {
            "aaxis": {
             "endlinecolor": "#2a3f5f",
             "gridcolor": "white",
             "linecolor": "white",
             "minorgridcolor": "white",
             "startlinecolor": "#2a3f5f"
            },
            "baxis": {
             "endlinecolor": "#2a3f5f",
             "gridcolor": "white",
             "linecolor": "white",
             "minorgridcolor": "white",
             "startlinecolor": "#2a3f5f"
            },
            "type": "carpet"
           }
          ],
          "choropleth": [
           {
            "colorbar": {
             "outlinewidth": 0,
             "ticks": ""
            },
            "type": "choropleth"
           }
          ],
          "contour": [
           {
            "colorbar": {
             "outlinewidth": 0,
             "ticks": ""
            },
            "colorscale": [
             [
              0,
              "#0d0887"
             ],
             [
              0.1111111111111111,
              "#46039f"
             ],
             [
              0.2222222222222222,
              "#7201a8"
             ],
             [
              0.3333333333333333,
              "#9c179e"
             ],
             [
              0.4444444444444444,
              "#bd3786"
             ],
             [
              0.5555555555555556,
              "#d8576b"
             ],
             [
              0.6666666666666666,
              "#ed7953"
             ],
             [
              0.7777777777777778,
              "#fb9f3a"
             ],
             [
              0.8888888888888888,
              "#fdca26"
             ],
             [
              1,
              "#f0f921"
             ]
            ],
            "type": "contour"
           }
          ],
          "contourcarpet": [
           {
            "colorbar": {
             "outlinewidth": 0,
             "ticks": ""
            },
            "type": "contourcarpet"
           }
          ],
          "heatmap": [
           {
            "colorbar": {
             "outlinewidth": 0,
             "ticks": ""
            },
            "colorscale": [
             [
              0,
              "#0d0887"
             ],
             [
              0.1111111111111111,
              "#46039f"
             ],
             [
              0.2222222222222222,
              "#7201a8"
             ],
             [
              0.3333333333333333,
              "#9c179e"
             ],
             [
              0.4444444444444444,
              "#bd3786"
             ],
             [
              0.5555555555555556,
              "#d8576b"
             ],
             [
              0.6666666666666666,
              "#ed7953"
             ],
             [
              0.7777777777777778,
              "#fb9f3a"
             ],
             [
              0.8888888888888888,
              "#fdca26"
             ],
             [
              1,
              "#f0f921"
             ]
            ],
            "type": "heatmap"
           }
          ],
          "histogram": [
           {
            "marker": {
             "pattern": {
              "fillmode": "overlay",
              "size": 10,
              "solidity": 0.2
             }
            },
            "type": "histogram"
           }
          ],
          "histogram2d": [
           {
            "colorbar": {
             "outlinewidth": 0,
             "ticks": ""
            },
            "colorscale": [
             [
              0,
              "#0d0887"
             ],
             [
              0.1111111111111111,
              "#46039f"
             ],
             [
              0.2222222222222222,
              "#7201a8"
             ],
             [
              0.3333333333333333,
              "#9c179e"
             ],
             [
              0.4444444444444444,
              "#bd3786"
             ],
             [
              0.5555555555555556,
              "#d8576b"
             ],
             [
              0.6666666666666666,
              "#ed7953"
             ],
             [
              0.7777777777777778,
              "#fb9f3a"
             ],
             [
              0.8888888888888888,
              "#fdca26"
             ],
             [
              1,
              "#f0f921"
             ]
            ],
            "type": "histogram2d"
           }
          ],
          "histogram2dcontour": [
           {
            "colorbar": {
             "outlinewidth": 0,
             "ticks": ""
            },
            "colorscale": [
             [
              0,
              "#0d0887"
             ],
             [
              0.1111111111111111,
              "#46039f"
             ],
             [
              0.2222222222222222,
              "#7201a8"
             ],
             [
              0.3333333333333333,
              "#9c179e"
             ],
             [
              0.4444444444444444,
              "#bd3786"
             ],
             [
              0.5555555555555556,
              "#d8576b"
             ],
             [
              0.6666666666666666,
              "#ed7953"
             ],
             [
              0.7777777777777778,
              "#fb9f3a"
             ],
             [
              0.8888888888888888,
              "#fdca26"
             ],
             [
              1,
              "#f0f921"
             ]
            ],
            "type": "histogram2dcontour"
           }
          ],
          "mesh3d": [
           {
            "colorbar": {
             "outlinewidth": 0,
             "ticks": ""
            },
            "type": "mesh3d"
           }
          ],
          "parcoords": [
           {
            "line": {
             "colorbar": {
              "outlinewidth": 0,
              "ticks": ""
             }
            },
            "type": "parcoords"
           }
          ],
          "pie": [
           {
            "automargin": true,
            "type": "pie"
           }
          ],
          "scatter": [
           {
            "fillpattern": {
             "fillmode": "overlay",
             "size": 10,
             "solidity": 0.2
            },
            "type": "scatter"
           }
          ],
          "scatter3d": [
           {
            "line": {
             "colorbar": {
              "outlinewidth": 0,
              "ticks": ""
             }
            },
            "marker": {
             "colorbar": {
              "outlinewidth": 0,
              "ticks": ""
             }
            },
            "type": "scatter3d"
           }
          ],
          "scattercarpet": [
           {
            "marker": {
             "colorbar": {
              "outlinewidth": 0,
              "ticks": ""
             }
            },
            "type": "scattercarpet"
           }
          ],
          "scattergeo": [
           {
            "marker": {
             "colorbar": {
              "outlinewidth": 0,
              "ticks": ""
             }
            },
            "type": "scattergeo"
           }
          ],
          "scattergl": [
           {
            "marker": {
             "colorbar": {
              "outlinewidth": 0,
              "ticks": ""
             }
            },
            "type": "scattergl"
           }
          ],
          "scattermap": [
           {
            "marker": {
             "colorbar": {
              "outlinewidth": 0,
              "ticks": ""
             }
            },
            "type": "scattermap"
           }
          ],
          "scattermapbox": [
           {
            "marker": {
             "colorbar": {
              "outlinewidth": 0,
              "ticks": ""
             }
            },
            "type": "scattermapbox"
           }
          ],
          "scatterpolar": [
           {
            "marker": {
             "colorbar": {
              "outlinewidth": 0,
              "ticks": ""
             }
            },
            "type": "scatterpolar"
           }
          ],
          "scatterpolargl": [
           {
            "marker": {
             "colorbar": {
              "outlinewidth": 0,
              "ticks": ""
             }
            },
            "type": "scatterpolargl"
           }
          ],
          "scatterternary": [
           {
            "marker": {
             "colorbar": {
              "outlinewidth": 0,
              "ticks": ""
             }
            },
            "type": "scatterternary"
           }
          ],
          "surface": [
           {
            "colorbar": {
             "outlinewidth": 0,
             "ticks": ""
            },
            "colorscale": [
             [
              0,
              "#0d0887"
             ],
             [
              0.1111111111111111,
              "#46039f"
             ],
             [
              0.2222222222222222,
              "#7201a8"
             ],
             [
              0.3333333333333333,
              "#9c179e"
             ],
             [
              0.4444444444444444,
              "#bd3786"
             ],
             [
              0.5555555555555556,
              "#d8576b"
             ],
             [
              0.6666666666666666,
              "#ed7953"
             ],
             [
              0.7777777777777778,
              "#fb9f3a"
             ],
             [
              0.8888888888888888,
              "#fdca26"
             ],
             [
              1,
              "#f0f921"
             ]
            ],
            "type": "surface"
           }
          ],
          "table": [
           {
            "cells": {
             "fill": {
              "color": "#EBF0F8"
             },
             "line": {
              "color": "white"
             }
            },
            "header": {
             "fill": {
              "color": "#C8D4E3"
             },
             "line": {
              "color": "white"
             }
            },
            "type": "table"
           }
          ]
         },
         "layout": {
          "annotationdefaults": {
           "arrowcolor": "#2a3f5f",
           "arrowhead": 0,
           "arrowwidth": 1
          },
          "autotypenumbers": "strict",
          "coloraxis": {
           "colorbar": {
            "outlinewidth": 0,
            "ticks": ""
           }
          },
          "colorscale": {
           "diverging": [
            [
             0,
             "#8e0152"
            ],
            [
             0.1,
             "#c51b7d"
            ],
            [
             0.2,
             "#de77ae"
            ],
            [
             0.3,
             "#f1b6da"
            ],
            [
             0.4,
             "#fde0ef"
            ],
            [
             0.5,
             "#f7f7f7"
            ],
            [
             0.6,
             "#e6f5d0"
            ],
            [
             0.7,
             "#b8e186"
            ],
            [
             0.8,
             "#7fbc41"
            ],
            [
             0.9,
             "#4d9221"
            ],
            [
             1,
             "#276419"
            ]
           ],
           "sequential": [
            [
             0,
             "#0d0887"
            ],
            [
             0.1111111111111111,
             "#46039f"
            ],
            [
             0.2222222222222222,
             "#7201a8"
            ],
            [
             0.3333333333333333,
             "#9c179e"
            ],
            [
             0.4444444444444444,
             "#bd3786"
            ],
            [
             0.5555555555555556,
             "#d8576b"
            ],
            [
             0.6666666666666666,
             "#ed7953"
            ],
            [
             0.7777777777777778,
             "#fb9f3a"
            ],
            [
             0.8888888888888888,
             "#fdca26"
            ],
            [
             1,
             "#f0f921"
            ]
           ],
           "sequentialminus": [
            [
             0,
             "#0d0887"
            ],
            [
             0.1111111111111111,
             "#46039f"
            ],
            [
             0.2222222222222222,
             "#7201a8"
            ],
            [
             0.3333333333333333,
             "#9c179e"
            ],
            [
             0.4444444444444444,
             "#bd3786"
            ],
            [
             0.5555555555555556,
             "#d8576b"
            ],
            [
             0.6666666666666666,
             "#ed7953"
            ],
            [
             0.7777777777777778,
             "#fb9f3a"
            ],
            [
             0.8888888888888888,
             "#fdca26"
            ],
            [
             1,
             "#f0f921"
            ]
           ]
          },
          "colorway": [
           "#636efa",
           "#EF553B",
           "#00cc96",
           "#ab63fa",
           "#FFA15A",
           "#19d3f3",
           "#FF6692",
           "#B6E880",
           "#FF97FF",
           "#FECB52"
          ],
          "font": {
           "color": "#2a3f5f"
          },
          "geo": {
           "bgcolor": "white",
           "lakecolor": "white",
           "landcolor": "#E5ECF6",
           "showlakes": true,
           "showland": true,
           "subunitcolor": "white"
          },
          "hoverlabel": {
           "align": "left"
          },
          "hovermode": "closest",
          "mapbox": {
           "style": "light"
          },
          "paper_bgcolor": "white",
          "plot_bgcolor": "#E5ECF6",
          "polar": {
           "angularaxis": {
            "gridcolor": "white",
            "linecolor": "white",
            "ticks": ""
           },
           "bgcolor": "#E5ECF6",
           "radialaxis": {
            "gridcolor": "white",
            "linecolor": "white",
            "ticks": ""
           }
          },
          "scene": {
           "xaxis": {
            "backgroundcolor": "#E5ECF6",
            "gridcolor": "white",
            "gridwidth": 2,
            "linecolor": "white",
            "showbackground": true,
            "ticks": "",
            "zerolinecolor": "white"
           },
           "yaxis": {
            "backgroundcolor": "#E5ECF6",
            "gridcolor": "white",
            "gridwidth": 2,
            "linecolor": "white",
            "showbackground": true,
            "ticks": "",
            "zerolinecolor": "white"
           },
           "zaxis": {
            "backgroundcolor": "#E5ECF6",
            "gridcolor": "white",
            "gridwidth": 2,
            "linecolor": "white",
            "showbackground": true,
            "ticks": "",
            "zerolinecolor": "white"
           }
          },
          "shapedefaults": {
           "line": {
            "color": "#2a3f5f"
           }
          },
          "ternary": {
           "aaxis": {
            "gridcolor": "white",
            "linecolor": "white",
            "ticks": ""
           },
           "baxis": {
            "gridcolor": "white",
            "linecolor": "white",
            "ticks": ""
           },
           "bgcolor": "#E5ECF6",
           "caxis": {
            "gridcolor": "white",
            "linecolor": "white",
            "ticks": ""
           }
          },
          "title": {
           "x": 0.05
          },
          "xaxis": {
           "automargin": true,
           "gridcolor": "white",
           "linecolor": "white",
           "ticks": "",
           "title": {
            "standoff": 15
           },
           "zerolinecolor": "white",
           "zerolinewidth": 2
          },
          "yaxis": {
           "automargin": true,
           "gridcolor": "white",
           "linecolor": "white",
           "ticks": "",
           "title": {
            "standoff": 15
           },
           "zerolinecolor": "white",
           "zerolinewidth": 2
          }
         }
        },
        "title": {
         "text": "Simulation Markers",
         "x": 0.5,
         "xanchor": "center"
        },
        "width": 800
       }
      }
     },
     "metadata": {},
     "output_type": "display_data"
    }
   ],
   "source": [
    "markers = {'waypoints': {'pos':wps,'color':'yellow'},\n",
    "           'homes': {'pos':homes,'color':'blue'},\n",
    "           'targets':{'pos':targets,'color':'green'}}\n",
    "\n",
    "plot_3d_interactive(markers,title='Simulation Markers',expand=[0.2,0.2,0.4],ground=-0.05)"
   ]
  },
  {
   "cell_type": "markdown",
   "metadata": {},
   "source": [
    "## Waypoint selection algorithm\n",
    "\n",
    "This is for checking the decisions panl that will be taken online for checking propouses. The path is shown in local coordinates"
   ]
  },
  {
   "cell_type": "code",
   "execution_count": 4,
   "metadata": {},
   "outputs": [
    {
     "name": "stdout",
     "output_type": "stream",
     "text": [
      "uav-0 Best path: [[  0   0   0]\n",
      " [  0   0   5]\n",
      " [-25   0   5]\n",
      " [-40   0   5]\n",
      " [-40  14   5]]\n",
      "uav-1 Best path: [[  0   0   0]\n",
      " [  0   0   5]\n",
      " [-25   0   5]\n",
      " [-40   0   5]\n",
      " [-40 -16   5]]\n"
     ]
    }
   ],
   "source": [
    "for i,(target_wp,wps) in enumerate(zip(local_target_wps,local_wps)):\n",
    "        local_path=find_path(np.array((0,0,0)),target_wp, wps,eps=1)\n",
    "        print(f'uav-{i} Best path: {local_path}') \n"
   ]
  },
  {
   "cell_type": "markdown",
   "metadata": {},
   "source": [
    "## Choose Simulator"
   ]
  },
  {
   "cell_type": "code",
   "execution_count": 5,
   "metadata": {},
   "outputs": [],
   "source": [
    "#simulator = Simulator(name=\"NONE\",offsets=offsets,plans=plans)\n",
    "\n",
    "# simulator=QGC(offsets=offsets,\n",
    "#               plans=plans,\n",
    "#               origin=(-35.3633245,149.1652241,0,0))\n",
    "\n",
    "simulator=Gazebo(offsets=offsets,\n",
    "                 plans=plans,\n",
    "                 world_path=\"simulators/gazebo/worlds/small_city.world\",\n",
    "                 vehicle_models=n_vehicles*[\"drone\"],\n",
    "                 markers=markers)"
   ]
  },
  {
   "cell_type": "markdown",
   "metadata": {},
   "source": [
    "Launch Simulator"
   ]
  },
  {
   "cell_type": "code",
   "execution_count": 6,
   "metadata": {},
   "outputs": [
    {
     "name": "stdout",
     "output_type": "stream",
     "text": [
      "Vehicle 1 launched 🚀\n",
      "Vehicle 2 launched 🚀\n"
     ]
    }
   ],
   "source": [
    "uavs = simulator.launch()\n",
    "orac = Oracle(uavs)"
   ]
  },
  {
   "cell_type": "code",
   "execution_count": 7,
   "metadata": {},
   "outputs": [
    {
     "data": {
      "text/plain": [
       "array([-40,  14,   5])"
      ]
     },
     "execution_count": 7,
     "metadata": {},
     "output_type": "execute_result"
    }
   ],
   "source": [
    "uavs[0].plan.steps[-2].target_pos "
   ]
  },
  {
   "cell_type": "markdown",
   "metadata": {},
   "source": [
    "## Execute Plan \n",
    "\n",
    "This should be refactored and add a dynamic plan propety in plan or a dynamic_mission uav mode"
   ]
  },
  {
   "cell_type": "code",
   "execution_count": null,
   "metadata": {},
   "outputs": [
    {
     "name": "stdout",
     "output_type": "stream",
     "text": [
      "Vehicle 1: ▶️ Plan Started: 📋 basic\n",
      "Vehicle 1: ▶️ Action Started: 🔧 PREARM\n",
      "Vehicle 1: ▶️ Step Started: Check disarmed\n",
      "Vehicle 2: ▶️ Plan Started: 📋 basic\n",
      "Vehicle 2: ▶️ Action Started: 🔧 PREARM\n",
      "Vehicle 2: ▶️ Step Started: Check disarmed\n",
      "Vehicle 2: ✅ Step Done: Check disarmed\n",
      "Vehicle 2: ▶️ Step Started: Check EKF\n",
      "Vehicle 1: ✅ Step Done: Check disarmed\n",
      "Vehicle 1: ▶️ Step Started: Check EKF\n",
      "Vehicle 2: ✅ Step Done: Check EKF\n",
      "Vehicle 2: ▶️ Step Started: Check GPS\n",
      "Vehicle 1: ✅ Step Done: Check EKF\n",
      "Vehicle 1: ▶️ Step Started: Check GPS\n",
      "Vehicle 2: ✅ Step Done: Check GPS\n",
      "Vehicle 2: ▶️ Step Started: Check system\n",
      "Vehicle 1: ✅ Step Done: Check GPS\n",
      "Vehicle 1: ▶️ Step Started: Check system\n",
      "Vehicle 2: ✅ Step Done: Check system\n",
      "Vehicle 2: ✅ Action Done: 🔧 PREARM\n",
      "Vehicle 2: ▶️ Action Started: ⚙️ MODE: GUIDED\n",
      "Vehicle 2: ▶️ Step Started: Switch to GUIDED\n",
      "Vehicle 2: ✅ Step Done: Switch to GUIDED\n",
      "Vehicle 2: ✅ Action Done: ⚙️ MODE: GUIDED\n",
      "Vehicle 2: ▶️ Action Started: 🔐 ARM\n",
      "Vehicle 2: ▶️ Step Started: arm\n",
      "Vehicle 1: ✅ Step Done: Check system\n",
      "Vehicle 1: ✅ Action Done: 🔧 PREARM\n",
      "Vehicle 1: ▶️ Action Started: ⚙️ MODE: GUIDED\n",
      "Vehicle 1: ▶️ Step Started: Switch to GUIDED\n",
      "Vehicle 1: ✅ Step Done: Switch to GUIDED\n",
      "Vehicle 1: ✅ Action Done: ⚙️ MODE: GUIDED\n",
      "Vehicle 1: ▶️ Action Started: 🔐 ARM\n",
      "Vehicle 1: ▶️ Step Started: arm\n",
      "Vehicle 2: ✅ Step Done: arm\n",
      "Vehicle 2: ✅ Action Done: 🔐 ARM\n",
      "Vehicle 2: ▶️ Action Started: 🛫 TAKEOFF\n",
      "Vehicle 2: ▶️ Step Started: takeoff\n",
      "Vehicle 1: ✅ Step Done: arm\n",
      "Vehicle 1: ✅ Action Done: 🔐 ARM\n",
      "Vehicle 1: ▶️ Action Started: 🛫 TAKEOFF\n",
      "Vehicle 1: ▶️ Step Started: takeoff\n",
      "Vehicle 2: ✅ Step Done: takeoff\n",
      "Vehicle 2: ✅ Action Done: 🛫 TAKEOFF\n",
      "Vehicle 2: ▶️ Action Started: 🛩️ FLY\n",
      "Vehicle 2: ▶️ Step Started: go to (dynamic) -> (0, 0, 5)\n",
      "Vehicle 1: ✅ Step Done: takeoff\n",
      "Vehicle 1: ✅ Action Done: 🛫 TAKEOFF\n",
      "Vehicle 1: ▶️ Action Started: 🛩️ FLY\n",
      "Vehicle 1: ▶️ Step Started: go to (dynamic) -> (0, 0, 5)\n",
      "Vehicle 2: ✅ Step Done: go to (dynamic) -> (0, 0, 5)\n",
      "Vehicle 2: ▶️ Step Started: go to (dynamic) -> (-25, 0, 5)\n",
      "Vehicle 1: ✅ Step Done: go to (dynamic) -> (0, 0, 5)\n",
      "Vehicle 1: ▶️ Step Started: go to (dynamic) -> (-25, 0, 5)\n",
      "Vehicle 2: ✅ Step Done: go to (dynamic) -> (-25, 0, 5)\n",
      "Vehicle 2: ▶️ Step Started: go to (dynamic) -> (-40, 0, 5)\n",
      "Vehicle 1: ✅ Step Done: go to (dynamic) -> (-25, 0, 5)\n",
      "Vehicle 1: ▶️ Step Started: go to (dynamic) -> (-40, 0, 5)\n",
      "Vehicle 2: ✅ Step Done: go to (dynamic) -> (-40, 0, 5)\n",
      "Vehicle 2: ▶️ Step Started: go to (dynamic) -> (-40, -16, 5)\n",
      "Vehicle 1: ✅ Step Done: go to (dynamic) -> (-40, 0, 5)\n",
      "Vehicle 1: ▶️ Step Started: go to (dynamic) -> (-40, 14, 5)\n",
      "Vehigcle 1 switched to mode: AVOIDANCE\n",
      "Vehicle 1: ▶️ Step Started: go to (avoidance) -> (-43.02, 13.0, 5.0)\n",
      "Vehigcle 2 switched to mode: AVOIDANCE\n",
      "Vehicle 2: ▶️ Step Started: go to (avoidance) -> (-36.98, -13.06, 5.0)\n",
      "Vehicle 1: ✅ Step Done: go to (avoidance) -> (-43.02, 13.0, 5.0)\n",
      "Vehicle 1: ▶️ Step Started: go to (dynamic) -> (-40, 14, 5)\n",
      "Vehicle 2: ✅ Step Done: go to (avoidance) -> (-36.98, -13.06, 5.0)\n",
      "Vehicle 2: ▶️ Step Started: go to (dynamic) -> (-40, -16, 5)\n",
      "Vehicle 1: ✅ Step Done: go to (dynamic) -> (-40, 14, 5)\n",
      "Vehicle 1: ▶️ Step Started: go to (avoidance) -> (-43.22, 17.55, 5.0)\n",
      "Vehicle 2: ✅ Step Done: go to (dynamic) -> (-40, -16, 5)\n",
      "Vehicle 2: ▶️ Step Started: go to (avoidance) -> (-39.28, -20.6, 5.0)\n",
      "Vehicle 1: ✅ Step Done: go to (avoidance) -> (-43.22, 17.55, 5.0)\n",
      "Vehicle 1: ▶️ Step Started: go to (dynamic) -> (-40, 14, 5)\n",
      "Vehicle 2: ✅ Step Done: go to (avoidance) -> (-39.28, -20.6, 5.0)\n",
      "Vehicle 2: ▶️ Step Started: go to (dynamic) -> (-40, -16, 5)\n",
      "Vehicle 1: ✅ Step Done: go to (dynamic) -> (-40, 14, 5)\n",
      "Vehicle 1: ▶️ Step Started: go to (avoidance) -> (-35.87, 15.84, 5.0)\n",
      "Vehicle 2: ✅ Step Done: go to (dynamic) -> (-40, -16, 5)\n",
      "Vehicle 2: ▶️ Step Started: go to (avoidance) -> (-44.85, -15.83, 5.0)\n",
      "Vehicle 1: ✅ Step Done: go to (avoidance) -> (-35.87, 15.84, 5.0)\n",
      "Vehicle 1: ▶️ Step Started: go to (dynamic) -> (-40, 14, 5)\n",
      "Vehicle 2: ✅ Step Done: go to (avoidance) -> (-44.85, -15.83, 5.0)\n",
      "Vehicle 2: ▶️ Step Started: go to (dynamic) -> (-40, -16, 5)\n",
      "Vehicle 1: ✅ Step Done: go to (dynamic) -> (-40, 14, 5)\n",
      "Vehicle 1: ▶️ Step Started: go to (avoidance) -> (-39.27, 9.8, 5.0)\n",
      "Vehicle 2: ✅ Step Done: go to (dynamic) -> (-40, -16, 5)\n",
      "Vehicle 2: ▶️ Step Started: go to (avoidance) -> (-36.75, -12.86, 5.0)\n",
      "Vehicle 1: ✅ Step Done: go to (avoidance) -> (-39.27, 9.8, 5.0)\n",
      "Vehicle 1: ▶️ Step Started: go to (dynamic) -> (-40, 14, 5)\n",
      "Vehicle 2: ✅ Step Done: go to (avoidance) -> (-36.75, -12.86, 5.0)\n",
      "Vehicle 2: ▶️ Step Started: go to (dynamic) -> (-40, -16, 5)\n",
      "Vehicle 1: ✅ Step Done: go to (dynamic) -> (-40, 14, 5)\n",
      "Vehicle 1: ▶️ Step Started: go to (avoidance) -> (-43.26, 16.04, 5.0)\n",
      "Vehicle 2: ✅ Step Done: go to (dynamic) -> (-40, -16, 5)\n",
      "Vehicle 2: ▶️ Step Started: go to (avoidance) -> (-40.64, -20.31, 5.0)\n",
      "Vehicle 1: ✅ Step Done: go to (avoidance) -> (-43.26, 16.04, 5.0)\n",
      "Vehicle 1: ▶️ Step Started: go to (dynamic) -> (-40, 14, 5)\n",
      "Vehicle 2: ✅ Step Done: go to (avoidance) -> (-40.64, -20.31, 5.0)\n",
      "Vehicle 2: ▶️ Step Started: go to (dynamic) -> (-40, -16, 5)\n",
      "Vehicle 1: ✅ Step Done: go to (dynamic) -> (-40, 14, 5)\n",
      "Vehicle 1: ▶️ Step Started: go to (avoidance) -> (-37.01, 14.16, 5.0)\n",
      "Vehicle 2: ✅ Step Done: go to (dynamic) -> (-40, -16, 5)\n",
      "Vehicle 2: ▶️ Step Started: go to (avoidance) -> (-41.13, -12.28, 5.0)\n",
      "Vehicle 1: ✅ Step Done: go to (avoidance) -> (-37.01, 14.16, 5.0)\n",
      "Vehicle 1: ▶️ Step Started: go to (dynamic) -> (-40, 14, 5)\n",
      "Vehicle 1: ✅ Step Done: go to (dynamic) -> (-40, 14, 5)\n",
      "Vehicle 1: ▶️ Step Started: go to (avoidance) -> (-43.17, 12.18, 5.0)\n",
      "Vehicle 2: ✅ Step Done: go to (avoidance) -> (-41.13, -12.28, 5.0)\n",
      "Vehicle 2: ▶️ Step Started: go to (dynamic) -> (-40, -16, 5)\n",
      "Vehicle 1: ✅ Step Done: go to (avoidance) -> (-43.17, 12.18, 5.0)\n",
      "Vehicle 1: ▶️ Step Started: go to (dynamic) -> (-40, 14, 5)\n",
      "Vehicle 2: ✅ Step Done: go to (dynamic) -> (-40, -16, 5)\n",
      "Vehicle 2: ▶️ Step Started: go to (avoidance) -> (-37.92, -18.41, 5.0)\n",
      "Vehicle 1: ✅ Step Done: go to (dynamic) -> (-40, 14, 5)\n",
      "Vehicle 1: ▶️ Step Started: go to (avoidance) -> (-37.75, 17.23, 5.0)\n",
      "Vehicle 2: ✅ Step Done: go to (avoidance) -> (-37.92, -18.41, 5.0)\n",
      "Vehicle 2: ▶️ Step Started: go to (dynamic) -> (-40, -16, 5)\n",
      "Vehicle 2: ✅ Step Done: go to (dynamic) -> (-40, -16, 5)\n",
      "Vehicle 2: ▶️ Step Started: go to (avoidance) -> (-43.02, -14.7, 5.0)\n",
      "Vehicle 1: ✅ Step Done: go to (avoidance) -> (-37.75, 17.23, 5.0)\n",
      "Vehicle 1: ▶️ Step Started: go to (dynamic) -> (-40, 14, 5)\n",
      "Vehicle 2: ✅ Step Done: go to (avoidance) -> (-43.02, -14.7, 5.0)\n",
      "Vehicle 2: ▶️ Step Started: go to (dynamic) -> (-40, -16, 5)\n",
      "Vehicle 1: ✅ Step Done: go to (dynamic) -> (-40, 14, 5)\n",
      "Vehicle 1: ▶️ Step Started: go to (avoidance) -> (-40.7, 10.56, 5.0)\n",
      "Vehicle 2: ✅ Step Done: go to (dynamic) -> (-40, -16, 5)\n",
      "Vehicle 2: ▶️ Step Started: go to (avoidance) -> (-35.88, -15.59, 5.0)\n",
      "Vehicle 1: ✅ Step Done: go to (avoidance) -> (-40.7, 10.56, 5.0)\n",
      "Vehicle 1: ▶️ Step Started: go to (dynamic) -> (-40, 14, 5)\n",
      "Vehicle 2: ✅ Step Done: go to (avoidance) -> (-35.88, -15.59, 5.0)\n",
      "Vehicle 2: ▶️ Step Started: go to (dynamic) -> (-40, -16, 5)\n",
      "Vehicle 1: ✅ Step Done: go to (dynamic) -> (-40, 14, 5)\n",
      "Vehicle 1: ▶️ Step Started: go to  -> (-40, 14, 5)\n",
      "Vehicle 1: ✅ Step Done: go to  -> (-40, 14, 5)\n",
      "Vehicle 1: ✅ Action Done: 🛩️ FLY\n",
      "Vehicle 1: ▶️ Action Started: 🛬 LAND\n",
      "Vehicle 1: ▶️ Step Started: land\n",
      "Vehicle 2: ✅ Step Done: go to (dynamic) -> (-40, -16, 5)\n",
      "Vehicle 2: ▶️ Step Started: go to (avoidance) -> (-38.28, -20.77, 5.0)\n",
      "Vehicle 2: ✅ Step Done: go to (avoidance) -> (-38.28, -20.77, 5.0)\n",
      "Vehicle 2: ▶️ Step Started: go to (dynamic) -> (-40, -16, 5)\n",
      "Vehicle 2: ✅ Step Done: go to (dynamic) -> (-40, -16, 5)\n",
      "Vehicle 2: ▶️ Step Started: go to (avoidance) -> (-43.17, -17.45, 5.0)\n",
      "Vehicle 2: ✅ Step Done: go to (avoidance) -> (-43.17, -17.45, 5.0)\n",
      "Vehicle 2: ▶️ Step Started: go to (dynamic) -> (-40, -16, 5)\n",
      "Vehicle 1: ✅ Step Done: land\n",
      "Vehicle 1: ✅ Action Done: 🛬 LAND\n",
      "Vehicle 1: ✅ Plan Done: 📋 basic\n",
      "Vehicle 2: ✅ Step Done: go to (dynamic) -> (-40, -16, 5)\n",
      "Vehicle 2: ▶️ Step Started: go to  -> (-40, -16, 5)\n",
      "Vehicle 2: ✅ Step Done: go to  -> (-40, -16, 5)\n",
      "Vehicle 2: ✅ Action Done: 🛩️ FLY\n",
      "Vehicle 2: ▶️ Action Started: 🛬 LAND\n",
      "Vehicle 2: ▶️ Step Started: land\n",
      "Vehicle 2: ✅ Step Done: land\n",
      "Vehicle 2: ▶️ Step Started: go to (avoidance) -> (-43.0, -19.88, -0.45)\n"
     ]
    }
   ],
   "source": [
    "while orac.vehs:\n",
    "    orac.gather_broadcasts()\n",
    "    for uav in orac.vehs.copy():\n",
    "        orac.update_neighbors(uav)\n",
    "        if uav.plan.state == State.DONE:\n",
    "            orac.remove(uav)\n",
    "        else:\n",
    "            uav.act()\n",
    "kill_processes()"
   ]
  },
  {
   "cell_type": "code",
   "execution_count": null,
   "metadata": {},
   "outputs": [],
   "source": []
  },
  {
   "cell_type": "code",
   "execution_count": null,
   "metadata": {},
   "outputs": [],
   "source": []
  }
 ],
 "metadata": {
  "kernelspec": {
   "display_name": "pymavlink",
   "language": "python",
   "name": "python3"
  },
  "language_info": {
   "codemirror_mode": {
    "name": "ipython",
    "version": 3
   },
   "file_extension": ".py",
   "mimetype": "text/x-python",
   "name": "python",
   "nbconvert_exporter": "python",
   "pygments_lexer": "ipython3",
   "version": "3.9.21"
  }
 },
 "nbformat": 4,
 "nbformat_minor": 2
}
