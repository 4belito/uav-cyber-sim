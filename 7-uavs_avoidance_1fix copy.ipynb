{
 "cells": [
  {
   "cell_type": "markdown",
   "metadata": {},
   "source": [
    "## Uavs Collision Avoidance"
   ]
  },
  {
   "cell_type": "code",
   "execution_count": 1,
   "metadata": {},
   "outputs": [],
   "source": [
    "import os\n",
    "import subprocess\n",
    "import numpy as np\n",
    "\n",
    "# Custom modules\n",
    "from vehicle_logic import VehicleLogic,VehicleMode\n",
    "from helpers.change_coordinates import heading_to_yaw,find_spawns,global2local,local2global\n",
    "from helpers.visualization.gazebo_world import update_world\n",
    "from helpers.visualization.plots import plot_3d_interactive\n",
    "from plan.actions.navegation import get_local_position,make_go_to\n",
    "from plan import Plan,State"
   ]
  },
  {
   "cell_type": "markdown",
   "metadata": {},
   "source": [
    "Kill all related process"
   ]
  },
  {
   "cell_type": "code",
   "execution_count": 2,
   "metadata": {},
   "outputs": [],
   "source": [
    "for process in [\"QGroundControl\", \"sim_vehicle.py\", \"arducopter\", \"gazebo\", \"mavproxy\"]:\n",
    "    os.system(f\"pkill -9 -f {process}\")"
   ]
  },
  {
   "cell_type": "markdown",
   "metadata": {},
   "source": [
    "Paths"
   ]
  },
  {
   "cell_type": "code",
   "execution_count": 3,
   "metadata": {},
   "outputs": [],
   "source": [
    "QGC_path='~/QGroundControl.AppImage'\n",
    "gazebo_word_path=\"gazebo_worlds/runway.world\"\n",
    "ardupilot_vehicle_path='~/ardupilot/Tools/autotest/sim_vehicle.py'"
   ]
  },
  {
   "cell_type": "markdown",
   "metadata": {},
   "source": [
    "## Choose Simulator"
   ]
  },
  {
   "cell_type": "code",
   "execution_count": 4,
   "metadata": {},
   "outputs": [],
   "source": [
    "simulator ='gazebo' # 'QGroundControl' #"
   ]
  },
  {
   "cell_type": "markdown",
   "metadata": {},
   "source": [
    "## Create Plans"
   ]
  },
  {
   "cell_type": "code",
   "execution_count": 5,
   "metadata": {},
   "outputs": [
    {
     "name": "stdout",
     "output_type": "stream",
     "text": [
      "Plan 'basic' created — no connection yet 🧩\n",
      "Action 'Pre-Arm Check' created — no connection yet 🧩\n",
      "Step 'Check disarmed' created — no connection yet 🧩\n",
      "Step 'Check EKF' created — no connection yet 🧩\n",
      "Step 'Check GPS' created — no connection yet 🧩\n",
      "Step 'Check system' created — no connection yet 🧩\n",
      "Action 'Set Navigation Speed' created — no connection yet 🧩\n",
      "Step 'Set speed to 1.00 m/s' created — no connection yet 🧩\n",
      "Action 'Set Mode: GUIDED' created — no connection yet 🧩\n",
      "Step 'Switch to GUIDED' created — no connection yet 🧩\n",
      "Action 'Arm' created — no connection yet 🧩\n",
      "Step 'arm' created — no connection yet 🧩\n",
      "Action 'takeoff' created — no connection yet 🧩\n",
      "Step 'takeoff' created — no connection yet 🧩\n",
      "Action 'fly' created — no connection yet 🧩\n",
      "Step 'go to  -> (0, 0, 5)' created — no connection yet 🧩\n",
      "Step 'go to  -> (20, 0, 5)' created — no connection yet 🧩\n",
      "Action 'Land' created — no connection yet 🧩\n",
      "Step 'land' created — no connection yet 🧩\n",
      "Plan 'hover' created — no connection yet 🧩\n",
      "Action 'Pre-Arm Check' created — no connection yet 🧩\n",
      "Step 'Check disarmed' created — no connection yet 🧩\n",
      "Step 'Check EKF' created — no connection yet 🧩\n",
      "Step 'Check GPS' created — no connection yet 🧩\n",
      "Step 'Check system' created — no connection yet 🧩\n",
      "Action 'Set Mode: GUIDED' created — no connection yet 🧩\n",
      "Step 'Switch to GUIDED' created — no connection yet 🧩\n",
      "Action 'Arm' created — no connection yet 🧩\n",
      "Step 'arm' created — no connection yet 🧩\n",
      "Action 'takeoff' created — no connection yet 🧩\n",
      "Step 'takeoff' created — no connection yet 🧩\n",
      "Action 'fly' created — no connection yet 🧩\n",
      "Step 'go to  -> (0, 0, 5)' created — no connection yet 🧩\n",
      "[🕓 <Plan 'basic'>\n",
      "  🕓 <Action 'Pre-Arm Check'>\n",
      "    🕓 <Step 'Check disarmed'>\n",
      "    🕓 <Step 'Check EKF'>\n",
      "    🕓 <Step 'Check GPS'>\n",
      "    🕓 <Step 'Check system'>\n",
      "  🕓 <Action 'Set Navigation Speed'>\n",
      "    🕓 <Step 'Set speed to 1.00 m/s'>\n",
      "  🕓 <Action 'Set Mode: GUIDED'>\n",
      "    🕓 <Step 'Switch to GUIDED'>\n",
      "  🕓 <Action 'Arm'>\n",
      "    🕓 <Step 'arm'>\n",
      "  🕓 <Action 'takeoff'>\n",
      "    🕓 <Step 'takeoff'>\n",
      "  🕓 <Action 'fly'>\n",
      "    🕓 <Step 'go to  -> (0, 0, 5)'>\n",
      "    🕓 <Step 'go to  -> (20, 0, 5)'>\n",
      "  🕓 <Action 'Land'>\n",
      "    🕓 <Step 'land'>, 🕓 <Plan 'hover'>\n",
      "  🕓 <Action 'Pre-Arm Check'>\n",
      "    🕓 <Step 'Check disarmed'>\n",
      "    🕓 <Step 'Check EKF'>\n",
      "    🕓 <Step 'Check GPS'>\n",
      "    🕓 <Step 'Check system'>\n",
      "  🕓 <Action 'Set Mode: GUIDED'>\n",
      "    🕓 <Step 'Switch to GUIDED'>\n",
      "  🕓 <Action 'Arm'>\n",
      "    🕓 <Step 'arm'>\n",
      "  🕓 <Action 'takeoff'>\n",
      "    🕓 <Step 'takeoff'>\n",
      "  🕓 <Action 'fly'>\n",
      "    🕓 <Step 'go to  -> (0, 0, 5)'>]\n"
     ]
    },
    {
     "data": {
      "application/vnd.plotly.v1+json": {
       "config": {
        "plotlyServerURL": "https://plot.ly"
       },
       "data": [
        {
         "marker": {
          "color": "blue",
          "size": 6
         },
         "mode": "markers",
         "name": "waypoints",
         "type": "scatter3d",
         "x": [
          -10,
          10
         ],
         "y": [
          0,
          0
         ],
         "z": [
          5,
          5
         ]
        },
        {
         "marker": {
          "color": "orange",
          "size": 6
         },
         "mode": "markers",
         "name": "real pos",
         "type": "scatter3d",
         "x": [
          0
         ],
         "y": [
          -5
         ],
         "z": [
          5
         ]
        },
        {
         "marker": {
          "color": "red",
          "size": 6
         },
         "mode": "markers",
         "name": "fake_pos",
         "type": "scatter3d",
         "x": [
          0
         ],
         "y": [
          0
         ],
         "z": [
          5
         ]
        },
        {
         "marker": {
          "color": "red",
          "size": 6
         },
         "mode": "markers",
         "name": "avoid zone",
         "type": "scatter3d",
         "x": [
          0
         ],
         "y": [
          0
         ],
         "z": [
          5
         ]
        },
        {
         "marker": {
          "color": "orange",
          "size": 6
         },
         "mode": "markers",
         "name": "radar zone",
         "type": "scatter3d",
         "x": [
          0
         ],
         "y": [
          -5
         ],
         "z": [
          5
         ]
        }
       ],
       "layout": {
        "height": 600,
        "scene": {
         "xaxis": {
          "range": [
           -14,
           14
          ],
          "title": {
           "text": "x"
          }
         },
         "yaxis": {
          "range": [
           -6,
           1
          ],
          "title": {
           "text": "y"
          }
         },
         "zaxis": {
          "range": [
           -0.05,
           5
          ],
          "title": {
           "text": "z"
          }
         }
        },
        "template": {
         "data": {
          "bar": [
           {
            "error_x": {
             "color": "#2a3f5f"
            },
            "error_y": {
             "color": "#2a3f5f"
            },
            "marker": {
             "line": {
              "color": "#E5ECF6",
              "width": 0.5
             },
             "pattern": {
              "fillmode": "overlay",
              "size": 10,
              "solidity": 0.2
             }
            },
            "type": "bar"
           }
          ],
          "barpolar": [
           {
            "marker": {
             "line": {
              "color": "#E5ECF6",
              "width": 0.5
             },
             "pattern": {
              "fillmode": "overlay",
              "size": 10,
              "solidity": 0.2
             }
            },
            "type": "barpolar"
           }
          ],
          "carpet": [
           {
            "aaxis": {
             "endlinecolor": "#2a3f5f",
             "gridcolor": "white",
             "linecolor": "white",
             "minorgridcolor": "white",
             "startlinecolor": "#2a3f5f"
            },
            "baxis": {
             "endlinecolor": "#2a3f5f",
             "gridcolor": "white",
             "linecolor": "white",
             "minorgridcolor": "white",
             "startlinecolor": "#2a3f5f"
            },
            "type": "carpet"
           }
          ],
          "choropleth": [
           {
            "colorbar": {
             "outlinewidth": 0,
             "ticks": ""
            },
            "type": "choropleth"
           }
          ],
          "contour": [
           {
            "colorbar": {
             "outlinewidth": 0,
             "ticks": ""
            },
            "colorscale": [
             [
              0,
              "#0d0887"
             ],
             [
              0.1111111111111111,
              "#46039f"
             ],
             [
              0.2222222222222222,
              "#7201a8"
             ],
             [
              0.3333333333333333,
              "#9c179e"
             ],
             [
              0.4444444444444444,
              "#bd3786"
             ],
             [
              0.5555555555555556,
              "#d8576b"
             ],
             [
              0.6666666666666666,
              "#ed7953"
             ],
             [
              0.7777777777777778,
              "#fb9f3a"
             ],
             [
              0.8888888888888888,
              "#fdca26"
             ],
             [
              1,
              "#f0f921"
             ]
            ],
            "type": "contour"
           }
          ],
          "contourcarpet": [
           {
            "colorbar": {
             "outlinewidth": 0,
             "ticks": ""
            },
            "type": "contourcarpet"
           }
          ],
          "heatmap": [
           {
            "colorbar": {
             "outlinewidth": 0,
             "ticks": ""
            },
            "colorscale": [
             [
              0,
              "#0d0887"
             ],
             [
              0.1111111111111111,
              "#46039f"
             ],
             [
              0.2222222222222222,
              "#7201a8"
             ],
             [
              0.3333333333333333,
              "#9c179e"
             ],
             [
              0.4444444444444444,
              "#bd3786"
             ],
             [
              0.5555555555555556,
              "#d8576b"
             ],
             [
              0.6666666666666666,
              "#ed7953"
             ],
             [
              0.7777777777777778,
              "#fb9f3a"
             ],
             [
              0.8888888888888888,
              "#fdca26"
             ],
             [
              1,
              "#f0f921"
             ]
            ],
            "type": "heatmap"
           }
          ],
          "histogram": [
           {
            "marker": {
             "pattern": {
              "fillmode": "overlay",
              "size": 10,
              "solidity": 0.2
             }
            },
            "type": "histogram"
           }
          ],
          "histogram2d": [
           {
            "colorbar": {
             "outlinewidth": 0,
             "ticks": ""
            },
            "colorscale": [
             [
              0,
              "#0d0887"
             ],
             [
              0.1111111111111111,
              "#46039f"
             ],
             [
              0.2222222222222222,
              "#7201a8"
             ],
             [
              0.3333333333333333,
              "#9c179e"
             ],
             [
              0.4444444444444444,
              "#bd3786"
             ],
             [
              0.5555555555555556,
              "#d8576b"
             ],
             [
              0.6666666666666666,
              "#ed7953"
             ],
             [
              0.7777777777777778,
              "#fb9f3a"
             ],
             [
              0.8888888888888888,
              "#fdca26"
             ],
             [
              1,
              "#f0f921"
             ]
            ],
            "type": "histogram2d"
           }
          ],
          "histogram2dcontour": [
           {
            "colorbar": {
             "outlinewidth": 0,
             "ticks": ""
            },
            "colorscale": [
             [
              0,
              "#0d0887"
             ],
             [
              0.1111111111111111,
              "#46039f"
             ],
             [
              0.2222222222222222,
              "#7201a8"
             ],
             [
              0.3333333333333333,
              "#9c179e"
             ],
             [
              0.4444444444444444,
              "#bd3786"
             ],
             [
              0.5555555555555556,
              "#d8576b"
             ],
             [
              0.6666666666666666,
              "#ed7953"
             ],
             [
              0.7777777777777778,
              "#fb9f3a"
             ],
             [
              0.8888888888888888,
              "#fdca26"
             ],
             [
              1,
              "#f0f921"
             ]
            ],
            "type": "histogram2dcontour"
           }
          ],
          "mesh3d": [
           {
            "colorbar": {
             "outlinewidth": 0,
             "ticks": ""
            },
            "type": "mesh3d"
           }
          ],
          "parcoords": [
           {
            "line": {
             "colorbar": {
              "outlinewidth": 0,
              "ticks": ""
             }
            },
            "type": "parcoords"
           }
          ],
          "pie": [
           {
            "automargin": true,
            "type": "pie"
           }
          ],
          "scatter": [
           {
            "fillpattern": {
             "fillmode": "overlay",
             "size": 10,
             "solidity": 0.2
            },
            "type": "scatter"
           }
          ],
          "scatter3d": [
           {
            "line": {
             "colorbar": {
              "outlinewidth": 0,
              "ticks": ""
             }
            },
            "marker": {
             "colorbar": {
              "outlinewidth": 0,
              "ticks": ""
             }
            },
            "type": "scatter3d"
           }
          ],
          "scattercarpet": [
           {
            "marker": {
             "colorbar": {
              "outlinewidth": 0,
              "ticks": ""
             }
            },
            "type": "scattercarpet"
           }
          ],
          "scattergeo": [
           {
            "marker": {
             "colorbar": {
              "outlinewidth": 0,
              "ticks": ""
             }
            },
            "type": "scattergeo"
           }
          ],
          "scattergl": [
           {
            "marker": {
             "colorbar": {
              "outlinewidth": 0,
              "ticks": ""
             }
            },
            "type": "scattergl"
           }
          ],
          "scattermap": [
           {
            "marker": {
             "colorbar": {
              "outlinewidth": 0,
              "ticks": ""
             }
            },
            "type": "scattermap"
           }
          ],
          "scattermapbox": [
           {
            "marker": {
             "colorbar": {
              "outlinewidth": 0,
              "ticks": ""
             }
            },
            "type": "scattermapbox"
           }
          ],
          "scatterpolar": [
           {
            "marker": {
             "colorbar": {
              "outlinewidth": 0,
              "ticks": ""
             }
            },
            "type": "scatterpolar"
           }
          ],
          "scatterpolargl": [
           {
            "marker": {
             "colorbar": {
              "outlinewidth": 0,
              "ticks": ""
             }
            },
            "type": "scatterpolargl"
           }
          ],
          "scatterternary": [
           {
            "marker": {
             "colorbar": {
              "outlinewidth": 0,
              "ticks": ""
             }
            },
            "type": "scatterternary"
           }
          ],
          "surface": [
           {
            "colorbar": {
             "outlinewidth": 0,
             "ticks": ""
            },
            "colorscale": [
             [
              0,
              "#0d0887"
             ],
             [
              0.1111111111111111,
              "#46039f"
             ],
             [
              0.2222222222222222,
              "#7201a8"
             ],
             [
              0.3333333333333333,
              "#9c179e"
             ],
             [
              0.4444444444444444,
              "#bd3786"
             ],
             [
              0.5555555555555556,
              "#d8576b"
             ],
             [
              0.6666666666666666,
              "#ed7953"
             ],
             [
              0.7777777777777778,
              "#fb9f3a"
             ],
             [
              0.8888888888888888,
              "#fdca26"
             ],
             [
              1,
              "#f0f921"
             ]
            ],
            "type": "surface"
           }
          ],
          "table": [
           {
            "cells": {
             "fill": {
              "color": "#EBF0F8"
             },
             "line": {
              "color": "white"
             }
            },
            "header": {
             "fill": {
              "color": "#C8D4E3"
             },
             "line": {
              "color": "white"
             }
            },
            "type": "table"
           }
          ]
         },
         "layout": {
          "annotationdefaults": {
           "arrowcolor": "#2a3f5f",
           "arrowhead": 0,
           "arrowwidth": 1
          },
          "autotypenumbers": "strict",
          "coloraxis": {
           "colorbar": {
            "outlinewidth": 0,
            "ticks": ""
           }
          },
          "colorscale": {
           "diverging": [
            [
             0,
             "#8e0152"
            ],
            [
             0.1,
             "#c51b7d"
            ],
            [
             0.2,
             "#de77ae"
            ],
            [
             0.3,
             "#f1b6da"
            ],
            [
             0.4,
             "#fde0ef"
            ],
            [
             0.5,
             "#f7f7f7"
            ],
            [
             0.6,
             "#e6f5d0"
            ],
            [
             0.7,
             "#b8e186"
            ],
            [
             0.8,
             "#7fbc41"
            ],
            [
             0.9,
             "#4d9221"
            ],
            [
             1,
             "#276419"
            ]
           ],
           "sequential": [
            [
             0,
             "#0d0887"
            ],
            [
             0.1111111111111111,
             "#46039f"
            ],
            [
             0.2222222222222222,
             "#7201a8"
            ],
            [
             0.3333333333333333,
             "#9c179e"
            ],
            [
             0.4444444444444444,
             "#bd3786"
            ],
            [
             0.5555555555555556,
             "#d8576b"
            ],
            [
             0.6666666666666666,
             "#ed7953"
            ],
            [
             0.7777777777777778,
             "#fb9f3a"
            ],
            [
             0.8888888888888888,
             "#fdca26"
            ],
            [
             1,
             "#f0f921"
            ]
           ],
           "sequentialminus": [
            [
             0,
             "#0d0887"
            ],
            [
             0.1111111111111111,
             "#46039f"
            ],
            [
             0.2222222222222222,
             "#7201a8"
            ],
            [
             0.3333333333333333,
             "#9c179e"
            ],
            [
             0.4444444444444444,
             "#bd3786"
            ],
            [
             0.5555555555555556,
             "#d8576b"
            ],
            [
             0.6666666666666666,
             "#ed7953"
            ],
            [
             0.7777777777777778,
             "#fb9f3a"
            ],
            [
             0.8888888888888888,
             "#fdca26"
            ],
            [
             1,
             "#f0f921"
            ]
           ]
          },
          "colorway": [
           "#636efa",
           "#EF553B",
           "#00cc96",
           "#ab63fa",
           "#FFA15A",
           "#19d3f3",
           "#FF6692",
           "#B6E880",
           "#FF97FF",
           "#FECB52"
          ],
          "font": {
           "color": "#2a3f5f"
          },
          "geo": {
           "bgcolor": "white",
           "lakecolor": "white",
           "landcolor": "#E5ECF6",
           "showlakes": true,
           "showland": true,
           "subunitcolor": "white"
          },
          "hoverlabel": {
           "align": "left"
          },
          "hovermode": "closest",
          "mapbox": {
           "style": "light"
          },
          "paper_bgcolor": "white",
          "plot_bgcolor": "#E5ECF6",
          "polar": {
           "angularaxis": {
            "gridcolor": "white",
            "linecolor": "white",
            "ticks": ""
           },
           "bgcolor": "#E5ECF6",
           "radialaxis": {
            "gridcolor": "white",
            "linecolor": "white",
            "ticks": ""
           }
          },
          "scene": {
           "xaxis": {
            "backgroundcolor": "#E5ECF6",
            "gridcolor": "white",
            "gridwidth": 2,
            "linecolor": "white",
            "showbackground": true,
            "ticks": "",
            "zerolinecolor": "white"
           },
           "yaxis": {
            "backgroundcolor": "#E5ECF6",
            "gridcolor": "white",
            "gridwidth": 2,
            "linecolor": "white",
            "showbackground": true,
            "ticks": "",
            "zerolinecolor": "white"
           },
           "zaxis": {
            "backgroundcolor": "#E5ECF6",
            "gridcolor": "white",
            "gridwidth": 2,
            "linecolor": "white",
            "showbackground": true,
            "ticks": "",
            "zerolinecolor": "white"
           }
          },
          "shapedefaults": {
           "line": {
            "color": "#2a3f5f"
           }
          },
          "ternary": {
           "aaxis": {
            "gridcolor": "white",
            "linecolor": "white",
            "ticks": ""
           },
           "baxis": {
            "gridcolor": "white",
            "linecolor": "white",
            "ticks": ""
           },
           "bgcolor": "#E5ECF6",
           "caxis": {
            "gridcolor": "white",
            "linecolor": "white",
            "ticks": ""
           }
          },
          "title": {
           "x": 0.05
          },
          "xaxis": {
           "automargin": true,
           "gridcolor": "white",
           "linecolor": "white",
           "ticks": "",
           "title": {
            "standoff": 15
           },
           "zerolinecolor": "white",
           "zerolinewidth": 2
          },
          "yaxis": {
           "automargin": true,
           "gridcolor": "white",
           "linecolor": "white",
           "ticks": "",
           "title": {
            "standoff": 15
           },
           "zerolinecolor": "white",
           "zerolinewidth": 2
          }
         }
        },
        "title": {
         "text": "Simulation Markers",
         "x": 0.5,
         "xanchor": "center"
        },
        "width": 800
       }
      }
     },
     "metadata": {},
     "output_type": "display_data"
    }
   ],
   "source": [
    "offsets = [(-10, 0, 0, 0),(0, -5, 0, 0)]#\n",
    "n_uavs = len(offsets)\n",
    "\n",
    "\n",
    "homes=np.array([offset[:3] for offset in offsets])\n",
    "\n",
    "#global_paths=[np.array([[-10, 0, 5],[10, 0, 5]])]\n",
    "\n",
    "global_paths=[np.array([[-10, 0, 5],[10, 0, 5]]),\n",
    "              np.array([[0, -5, 5]])]\n",
    "\n",
    "local_paths=[global2local(path, home,pairwise=True) for path,home in zip(global_paths,homes)]\n",
    "\n",
    "\n",
    "radar_radius=10\n",
    "avoidance_radius =5\n",
    "spoofing_pos=np.array([[0,0,5]])\n",
    "markers = {f'waypoints': {'pos':global_paths[0],'color':'blue'},\n",
    "       f'real pos': {'pos':global_paths[1],'color':'orange','radius':0.05},\n",
    "       f'fake_pos': {'pos':spoofing_pos,'color':'red','radius':0.1},\n",
    "       f'avoid zone': {'pos':spoofing_pos,'color':'red','radius':avoidance_radius,'alpha': 0.84},\n",
    "       f'radar zone': {'pos':global_paths[1],'color':'orange','radius':radar_radius,'alpha': 0.9}}\n",
    "\n",
    "\n",
    "\n",
    "# markers = {f'waypoints': {'pos':global_paths[0],'color':'blue'},\n",
    "#        f'real pos': {'pos':global_paths[1],'color':'orange','radius':0.1},\n",
    "#        f'avoid zone': {'pos':global_paths[1],'color':'orange','radius':avoidance_radius,'alpha': 0.84},\n",
    "#        f'radar zone': {'pos':global_paths[1],'color':'orange','radius':radar_radius,'alpha': 0.9}}\n",
    "\n",
    "\n",
    "\n",
    "spoofing_pos=spoofing_pos[0]\n",
    "\n",
    "plans=[Plan.basic(wps=local_paths[0],alt=5,wp_margin=0.5,navegation_speed=1),\n",
    "       Plan.hover(wps=local_paths[1],alt=5,wp_margin=0.5,navegation_speed=5)]\n",
    "print(plans)\n",
    "\n",
    "plot_3d_interactive(markers,title='Simulation Markers',expand=[0.2,0.2,0.6],ground=-0.05)\n",
    "\n",
    "\n",
    "if simulator == 'QGroundControl':\n",
    "    home_position=(-35.3633245,149.1652241,0,0)\n",
    "    spawns=find_spawns(home_position, offsets)"
   ]
  },
  {
   "cell_type": "code",
   "execution_count": 6,
   "metadata": {},
   "outputs": [
    {
     "data": {
      "text/plain": [
       "[🕓 <Plan 'basic'>\n",
       "   🕓 <Action 'Pre-Arm Check'>\n",
       "     🕓 <Step 'Check disarmed'>\n",
       "     🕓 <Step 'Check EKF'>\n",
       "     🕓 <Step 'Check GPS'>\n",
       "     🕓 <Step 'Check system'>\n",
       "   🕓 <Action 'Set Navigation Speed'>\n",
       "     🕓 <Step 'Set speed to 1.00 m/s'>\n",
       "   🕓 <Action 'Set Mode: GUIDED'>\n",
       "     🕓 <Step 'Switch to GUIDED'>\n",
       "   🕓 <Action 'Arm'>\n",
       "     🕓 <Step 'arm'>\n",
       "   🕓 <Action 'takeoff'>\n",
       "     🕓 <Step 'takeoff'>\n",
       "   🕓 <Action 'fly'>\n",
       "     🕓 <Step 'go to  -> (0, 0, 5)'>\n",
       "     🕓 <Step 'go to  -> (20, 0, 5)'>\n",
       "   🕓 <Action 'Land'>\n",
       "     🕓 <Step 'land'>,\n",
       " 🕓 <Plan 'hover'>\n",
       "   🕓 <Action 'Pre-Arm Check'>\n",
       "     🕓 <Step 'Check disarmed'>\n",
       "     🕓 <Step 'Check EKF'>\n",
       "     🕓 <Step 'Check GPS'>\n",
       "     🕓 <Step 'Check system'>\n",
       "   🕓 <Action 'Set Mode: GUIDED'>\n",
       "     🕓 <Step 'Switch to GUIDED'>\n",
       "   🕓 <Action 'Arm'>\n",
       "     🕓 <Step 'arm'>\n",
       "   🕓 <Action 'takeoff'>\n",
       "     🕓 <Step 'takeoff'>\n",
       "   🕓 <Action 'fly'>\n",
       "     🕓 <Step 'go to  -> (0, 0, 5)'>]"
      ]
     },
     "execution_count": 6,
     "metadata": {},
     "output_type": "execute_result"
    }
   ],
   "source": [
    "plans"
   ]
  },
  {
   "cell_type": "markdown",
   "metadata": {},
   "source": [
    "## Waypoint seletion algorithm"
   ]
  },
  {
   "cell_type": "code",
   "execution_count": 7,
   "metadata": {},
   "outputs": [],
   "source": [
    "if simulator == 'QGroundControl':\n",
    "    sim_path = os.path.expanduser(QGC_path)\n",
    "    sim_cmd =[sim_path]\n",
    "elif simulator == 'gazebo':\n",
    "    # Convert to Gazebo format (name, x, y, z, roll, pitch, yaw)\n",
    "    drones = [(east, north, up, 0, 0, heading_to_yaw(heading)) for i, (east, north, up, heading) in enumerate(offsets)]\n",
    "    world_path = os.path.expanduser(gazebo_word_path)\n",
    "    updated_world_path = update_world(drones,markers,world_path)\n",
    "    sim_cmd = [\"gazebo\", \"--verbose\", updated_world_path] \n",
    "\n",
    "simulator_process = subprocess.Popen(\n",
    "                    sim_cmd,\n",
    "                    stdout=subprocess.DEVNULL,  # Suppress standard output\n",
    "                    stderr=subprocess.DEVNULL,  # Suppress error output\n",
    "                    shell=False  # Ensure safety when passing arguments\n",
    "                    )"
   ]
  },
  {
   "cell_type": "markdown",
   "metadata": {},
   "source": [
    "Launch Vehicle"
   ]
  },
  {
   "cell_type": "code",
   "execution_count": 8,
   "metadata": {},
   "outputs": [],
   "source": [
    "vehicle_path = os.path.expanduser(ardupilot_vehicle_path)"
   ]
  },
  {
   "cell_type": "code",
   "execution_count": 9,
   "metadata": {},
   "outputs": [],
   "source": [
    "for i in range(n_uavs):\n",
    "    vehicle_cmd = f\"python3 {vehicle_path} -v ArduCopter -I{i} --sysid {i+1} --no-rebuild\"\n",
    "    if simulator == 'QGroundControl':\n",
    "        spawn=','.join(map(str, spawns[i]))\n",
    "        vehicle_cmd += f\" --custom-location={spawn}\"\n",
    "    elif simulator == 'gazebo':\n",
    "        vehicle_cmd += \" -f gazebo-iris\"\n",
    "    subprocess.Popen([\"gnome-terminal\", \"--\", \"bash\", \"-c\", f\"{vehicle_cmd}; exec bash\"])"
   ]
  },
  {
   "cell_type": "markdown",
   "metadata": {},
   "source": [
    "Create UavLogic"
   ]
  },
  {
   "cell_type": "code",
   "execution_count": 10,
   "metadata": {},
   "outputs": [
    {
     "name": "stdout",
     "output_type": "stream",
     "text": [
      "vehicle 1 created\n",
      "vehicle 2 created\n"
     ]
    }
   ],
   "source": [
    "uavs=[]\n",
    "for i,(plan,home) in enumerate(zip(plans,homes)):\n",
    "    uavs.append(VehicleLogic(sys_id=i+1,\n",
    "                    home=home,\n",
    "                    plan= plan))"
   ]
  },
  {
   "cell_type": "code",
   "execution_count": 11,
   "metadata": {},
   "outputs": [],
   "source": [
    "def get_nearest_neighbor(target_id,positions_dict):\n",
    "    target_position = np.array(positions_dict[target_id])  # Get the position of the target ID\n",
    "    \n",
    "    min_distance = float('inf')\n",
    "    nearest_id = None\n",
    "\n",
    "    for other_id, position in positions_dict.items():\n",
    "        if other_id == target_id:\n",
    "            continue  # Skip itself\n",
    "        \n",
    "        distance = np.linalg.norm(target_position - np.array(position))  # Compute Euclidean distance\n",
    "        \n",
    "        if distance < min_distance:\n",
    "            min_distance = distance\n",
    "            nearest_id = other_id  # Update nearest ID\n",
    "    \n",
    "    return nearest_id,min_distance"
   ]
  },
  {
   "cell_type": "code",
   "execution_count": 12,
   "metadata": {},
   "outputs": [
    {
     "name": "stdout",
     "output_type": "stream",
     "text": [
      "🕓 <Plan 'basic'>\n",
      "  🕓 <Action 'Pre-Arm Check'>\n",
      "    🕓 <Step 'Check disarmed'>\n",
      "    🕓 <Step 'Check EKF'>\n",
      "    🕓 <Step 'Check GPS'>\n",
      "    🕓 <Step 'Check system'>\n",
      "  🕓 <Action 'Set Navigation Speed'>\n",
      "    🕓 <Step 'Set speed to 1.00 m/s'>\n",
      "  🕓 <Action 'Set Mode: GUIDED'>\n",
      "    🕓 <Step 'Switch to GUIDED'>\n",
      "  🕓 <Action 'Arm'>\n",
      "    🕓 <Step 'arm'>\n",
      "  🕓 <Action 'takeoff'>\n",
      "    🕓 <Step 'takeoff'>\n",
      "  🕓 <Action 'fly'>\n",
      "    🕓 <Step 'go to  -> (0, 0, 5)'>\n",
      "    🕓 <Step 'go to  -> (20, 0, 5)'>\n",
      "  🕓 <Action 'Land'>\n",
      "    🕓 <Step 'land'>\n"
     ]
    }
   ],
   "source": [
    "print(uavs[0].plan)"
   ]
  },
  {
   "cell_type": "code",
   "execution_count": 13,
   "metadata": {},
   "outputs": [],
   "source": [
    "def get_avoidance_wp(pos: np.ndarray,\n",
    "                    obj_pos:np.ndarray,\n",
    "                    goal_pos:np.ndarray,\n",
    "                    distance:float = 1,\n",
    "                    direction: str = 'left'):\n",
    "    \"\"\"\n",
    "    Sends a velocity command in body frame, orthogonal to the direction of wp.\n",
    "    `direction` can be 'left' or 'right' (relative to wp direction).\n",
    "    \"\"\"\n",
    "\n",
    "    # Normalize wp direction (ignore Z)\n",
    "    obj_dir = (obj_pos -pos)[:2]\n",
    "    goal_dir = (goal_pos -pos)[:2]\n",
    "    if np.dot(obj_dir,goal_dir)<0:\n",
    "        return goal_pos\n",
    "    obj_dir = obj_dir / np.linalg.norm(obj_dir)*distance\n",
    "    # Get orthogonal direction\n",
    "    if direction == 'left':\n",
    "        ortho = np.array([-obj_dir[1], obj_dir[0],0])\n",
    "    elif direction == 'right':\n",
    "        ortho = np.array([obj_dir[1], -obj_dir[0],0])\n",
    "    else:\n",
    "        raise ValueError(\"Direction must be 'left' or 'right'\")\n",
    "\n",
    "    # Scale to desired speed\n",
    "    return pos+ortho\n",
    "   "
   ]
  },
  {
   "cell_type": "code",
   "execution_count": null,
   "metadata": {},
   "outputs": [],
   "source": [
    "mission_incomplete = set(range(n_uavs))\n",
    "global_poss = {}\n",
    "while mission_incomplete:\n",
    "    ## Get global positions\n",
    "    update_global_positions(mission_incomplete,global_poss)\n",
    "    global_poss[1] = spoofing_pos\n",
    "    to_remove = set()\n",
    "    for i in mission_incomplete:\n",
    "        uav = uavs[i]\n",
    "        if i in global_poss.keys():\n",
    "            j,min_dist=get_nearest_neighbor(target_id=i,positions_dict=global_poss)\n",
    "            if min_dist<avoidance_radius and uav.get_mode()==VehicleMode.MISSION:  \n",
    "                uav.set_mode(VehicleMode.AVOIDANCE)\n",
    "                wp=uav.plan.current.current.wp\n",
    "                next_wp = get_avoidance_wp(pos=global2local(global_poss[i],uav.home,pairwise=True),\n",
    "                                           obj_pos=global2local(global_poss[j],uav.home,pairwise=True),\n",
    "                                           goal_pos=wp)\n",
    "                next_step=make_go_to(wp=next_wp,wp_margin=0.5,verbose=2,cause_text='(avoidance)')\n",
    "                uav.plan.current.add_now(next_step)\n",
    "            if uav.get_mode()==VehicleMode.AVOIDANCE and uav.current_step().state==State.DONE:\n",
    "                uav.set_mode(VehicleMode.MISSION)\n",
    "        uav.act_plan()\n",
    "        if uav.plan.state == State.DONE:\n",
    "            to_remove.add(i)\n",
    "            \n",
    "    mission_incomplete -= to_remove  # batch-remove outside the loop"
   ]
  },
  {
   "cell_type": "code",
   "execution_count": null,
   "metadata": {},
   "outputs": [],
   "source": [
    "def update_global_positions(mission_incomplete,global_poss):\n",
    "    for i in mission_incomplete:\n",
    "        uav=uavs[i]\n",
    "        current_action=uav.current_action().name \n",
    "        if current_action in ['takeoff','fly']:\n",
    "            local_pos=get_local_position(uav.conn)\n",
    "            if local_pos is not False:\n",
    "                global_poss[i] = local2global(local_pos,uav.home,pairwise=True)\n",
    "\n",
    "\n",
    "                # if i == 1:\n",
    "                #     global_poss[i] = spoofing_pos\n",
    "\n",
    "def avoid_object(uav,curr_pos):\n",
    "    uav.set_mode(VehicleMode.AVOIDANCE)\n",
    "    wp=uav.plan.current.current.wp\n",
    "    next_wp = get_avoidance_wp(pos=global2local(global_poss[i],uav.home,pairwise=True),\n",
    "                                obj_pos=global2local(global_poss[j],uav.home,pairwise=True),\n",
    "                                goal_pos=wp)\n",
    "    next_step=make_go_to(wp=next_wp,wp_margin=0.5,verbose=2,cause_text='(avoidance)')\n",
    "    uav.plan.current.add_now(next_step)"
   ]
  },
  {
   "cell_type": "markdown",
   "metadata": {},
   "source": [
    "## Execute Plan"
   ]
  },
  {
   "cell_type": "code",
   "execution_count": 15,
   "metadata": {},
   "outputs": [
    {
     "name": "stdout",
     "output_type": "stream",
     "text": [
      "Vehicle 1: Plan 'basic' is now connected ✅🔗\n",
      "Vehicle 1: ▶️ Starting Plan: basic\n",
      "Vehicle 2: Plan 'hover' is now connected ✅🔗\n",
      "Vehicle 2: ▶️ Starting Plan: hover\n",
      "Vehicle 1: Action 'Pre-Arm Check' is now connected ✅🔗\n",
      "Vehicle 1: ▶️ Starting Action: Pre-Arm Check\n",
      "Vehicle 2: Action 'Pre-Arm Check' is now connected ✅🔗\n",
      "Vehicle 2: ▶️ Starting Action: Pre-Arm Check\n",
      "Vehicle 1: Step 'Check disarmed' is now connected ✅🔗\n",
      "Vehicle 1: ▶️ Starting Step: Check disarmed\n",
      "Vehicle 2: Step 'Check disarmed' is now connected ✅🔗\n",
      "Vehicle 2: ▶️ Starting Step: Check disarmed\n",
      "Vehicle 1: ✅ Step: Check disarmed is done\n",
      "Vehicle 1: Step 'Check EKF' is now connected ✅🔗\n",
      "Vehicle 1: ▶️ Starting Step: Check EKF\n",
      "Vehicle 2: ✅ Step: Check disarmed is done\n",
      "Vehicle 2: Step 'Check EKF' is now connected ✅🔗\n",
      "Vehicle 2: ▶️ Starting Step: Check EKF\n",
      "Vehicle 2: ✅ Step: Check EKF is done\n",
      "Vehicle 2: Step 'Check GPS' is now connected ✅🔗\n",
      "Vehicle 2: ▶️ Starting Step: Check GPS\n",
      "Vehicle 1: ✅ Step: Check EKF is done\n",
      "Vehicle 1: Step 'Check GPS' is now connected ✅🔗\n",
      "Vehicle 1: ▶️ Starting Step: Check GPS\n",
      "Vehicle 2: ✅ Step: Check GPS is done\n",
      "Vehicle 2: Step 'Check system' is now connected ✅🔗\n",
      "Vehicle 2: ▶️ Starting Step: Check system\n",
      "Vehicle 1: ✅ Step: Check GPS is done\n",
      "Vehicle 1: Step 'Check system' is now connected ✅🔗\n",
      "Vehicle 1: ▶️ Starting Step: Check system\n",
      "Vehicle 2: ✅ Step: Check system is done\n",
      "Vehicle 2: ✅ Action: Pre-Arm Check is done\n",
      "Vehicle 2: Action 'Set Mode: GUIDED' is now connected ✅🔗\n",
      "Vehicle 2: ▶️ Starting Action: Set Mode: GUIDED\n",
      "Vehicle 2: Step 'Switch to GUIDED' is now connected ✅🔗\n",
      "Vehicle 2: ▶️ Starting Step: Switch to GUIDED\n",
      "Vehicle 2: ✅ Step: Switch to GUIDED is done\n",
      "Vehicle 2: ✅ Action: Set Mode: GUIDED is done\n",
      "Vehicle 2: Action 'Arm' is now connected ✅🔗\n",
      "Vehicle 2: ▶️ Starting Action: Arm\n",
      "Vehicle 2: Step 'arm' is now connected ✅🔗\n",
      "Vehicle 2: ▶️ Starting Step: arm\n",
      "Vehicle 1: ✅ Step: Check system is done\n",
      "Vehicle 1: ✅ Action: Pre-Arm Check is done\n",
      "Vehicle 1: Action 'Set Navigation Speed' is now connected ✅🔗\n",
      "Vehicle 1: ▶️ Starting Action: Set Navigation Speed\n",
      "Vehicle 1: Step 'Set speed to 1.00 m/s' is now connected ✅🔗\n",
      "Vehicle 1: ▶️ Starting Step: Set speed to 1.00 m/s\n",
      "Vehicle 1: ✅ Step: Set speed to 1.00 m/s is done\n",
      "Vehicle 1: ✅ Action: Set Navigation Speed is done\n",
      "Vehicle 1: Action 'Set Mode: GUIDED' is now connected ✅🔗\n",
      "Vehicle 1: ▶️ Starting Action: Set Mode: GUIDED\n",
      "Vehicle 1: Step 'Switch to GUIDED' is now connected ✅🔗\n",
      "Vehicle 1: ▶️ Starting Step: Switch to GUIDED\n",
      "Vehicle 1: ✅ Step: Switch to GUIDED is done\n",
      "Vehicle 1: ✅ Action: Set Mode: GUIDED is done\n",
      "Vehicle 1: Action 'Arm' is now connected ✅🔗\n",
      "Vehicle 1: ▶️ Starting Action: Arm\n",
      "Vehicle 1: Step 'arm' is now connected ✅🔗\n",
      "Vehicle 1: ▶️ Starting Step: arm\n",
      "Vehicle 2: ✅ Step: arm is done\n",
      "Vehicle 2: ✅ Action: Arm is done\n",
      "Vehicle 2: Action 'takeoff' is now connected ✅🔗\n",
      "Vehicle 2: ▶️ Starting Action: takeoff\n",
      "Vehicle 2: Step 'takeoff' is now connected ✅🔗\n",
      "Vehicle 2: ▶️ Starting Step: takeoff\n",
      "Vehicle 1: ✅ Step: arm is done\n",
      "Vehicle 1: ✅ Action: Arm is done\n",
      "Vehicle 1: Action 'takeoff' is now connected ✅🔗\n",
      "Vehicle 1: ▶️ Starting Action: takeoff\n",
      "Vehicle 1: Step 'takeoff' is now connected ✅🔗\n",
      "Vehicle 1: ▶️ Starting Step: takeoff\n",
      "Vehicle 2: ✅ Step: takeoff is done\n",
      "Vehicle 2: ✅ Action: takeoff is done\n",
      "Vehicle 2: Action 'fly' is now connected ✅🔗\n",
      "Vehicle 2: ▶️ Starting Action: fly\n",
      "Vehicle 2: Step 'go to  -> (0, 0, 5)' is now connected ✅🔗\n",
      "message to go to (0, 0, -5) sent\n",
      "Vehicle 2: ▶️ Starting Step: go to  -> (0, 0, 5)\n",
      "Vehicle 1: ✅ Step: takeoff is done\n",
      "Vehicle 1: ✅ Action: takeoff is done\n",
      "Vehicle 1: Action 'fly' is now connected ✅🔗\n",
      "Vehicle 1: ▶️ Starting Action: fly\n",
      "Vehicle 1: Step 'go to  -> (0, 0, 5)' is now connected ✅🔗\n",
      "message to go to (0, 0, -5) sent\n",
      "Vehicle 1: ▶️ Starting Step: go to  -> (0, 0, 5)\n",
      "Vehicle 2: ✅ Step: go to  -> (0, 0, 5) is done\n",
      "Vehicle 2: ✅ Action: fly is done\n",
      "Vehicle 2: ✅ Plan: hover is done\n",
      "Vehicle 1: ✅ Step: go to  -> (0, 0, 5) is done\n",
      "Vehicle 1: Step 'go to  -> (20, 0, 5)' is now connected ✅🔗\n",
      "message to go to (20, 0, -5) sent\n",
      "Vehicle 1: ▶️ Starting Step: go to  -> (20, 0, 5)\n",
      "Vehigcle 1 switched to mode: AVOIDANCE\n",
      "waypoint [20  0  5]\n",
      "[5.84546132 1.01704132 4.97264147]\n",
      "Step 'go to (avoidance) -> (5.845461321452364, 1.0170413200258062, 4.972641468048096)' created — no connection yet 🧩\n",
      "Vehicle 1: Step 'go to (avoidance) -> (5.845461321452364, 1.0170413200258062, 4.972641468048096)' is now connected ✅🔗\n",
      "message to go to (5.845461321452364, -1.0170413200258062, -4.972641468048096) sent\n",
      "Vehicle 1: ▶️ Starting Step: go to (avoidance) -> (5.845461321452364, 1.0170413200258062, 4.972641468048096)\n",
      "Vehicle 1:📍 Distance to target: 1.04 m\n",
      "Vehicle 1:📍 Distance to target: 0.92 m\n",
      "Vehicle 1:📍 Distance to target: 0.75 m\n",
      "Vehicle 1:📍 Distance to target: 0.39 m\n",
      "Vehicle 1: ✅ Step: go to (avoidance) -> (5.845461321452364, 1.0170413200258062, 4.972641468048096) is done\n",
      "Vehigcle 1 switched to mode: NMISSION\n",
      "Vehigcle 1 switched to mode: AVOIDANCE\n",
      "waypoint [20  0  5]\n",
      "[6.41807164 1.6174668  4.95965672]\n",
      "Step 'go to (avoidance) -> (6.41807164175344, 1.6174667970437286, 4.959656715393066)' created — no connection yet 🧩\n",
      "Vehicle 1: Step 'go to (avoidance) -> (6.41807164175344, 1.6174667970437286, 4.959656715393066)' is now connected ✅🔗\n",
      "message to go to (6.41807164175344, -1.6174667970437286, -4.959656715393066) sent\n",
      "Vehicle 1: ▶️ Starting Step: go to (avoidance) -> (6.41807164175344, 1.6174667970437286, 4.959656715393066)\n",
      "Vehicle 1:📍 Distance to target: 0.75 m\n",
      "Vehicle 1:📍 Distance to target: 0.64 m\n",
      "Vehicle 1:📍 Distance to target: 0.50 m\n",
      "Vehicle 1: ✅ Step: go to (avoidance) -> (6.41807164175344, 1.6174667970437286, 4.959656715393066) is done\n",
      "Vehigcle 1 switched to mode: NMISSION\n",
      "Vehigcle 1 switched to mode: AVOIDANCE\n",
      "waypoint [20  0  5]\n",
      "[6.26294107 1.86060954 4.95909119]\n",
      "Step 'go to (avoidance) -> (6.26294106693981, 1.8606095368851978, 4.9590911865234375)' created — no connection yet 🧩\n",
      "Vehicle 1: Step 'go to (avoidance) -> (6.26294106693981, 1.8606095368851978, 4.9590911865234375)' is now connected ✅🔗\n",
      "message to go to (6.26294106693981, -1.8606095368851978, -4.9590911865234375) sent\n",
      "Vehicle 1: ▶️ Starting Step: go to (avoidance) -> (6.26294106693981, 1.8606095368851978, 4.9590911865234375)\n",
      "Vehicle 1:📍 Distance to target: 0.48 m\n",
      "Vehicle 1: ✅ Step: go to (avoidance) -> (6.26294106693981, 1.8606095368851978, 4.9590911865234375) is done\n",
      "Vehigcle 1 switched to mode: NMISSION\n",
      "Vehigcle 1 switched to mode: AVOIDANCE\n",
      "waypoint [20  0  5]\n",
      "[6.26294107 1.86060954 4.95909119]\n",
      "Step 'go to (avoidance) -> (6.26294106693981, 1.8606095368851978, 4.9590911865234375)' created — no connection yet 🧩\n",
      "Vehicle 1: Step 'go to (avoidance) -> (6.26294106693981, 1.8606095368851978, 4.9590911865234375)' is now connected ✅🔗\n",
      "message to go to (6.26294106693981, -1.8606095368851978, -4.9590911865234375) sent\n",
      "Vehicle 1: ▶️ Starting Step: go to (avoidance) -> (6.26294106693981, 1.8606095368851978, 4.9590911865234375)\n",
      "Vehicle 1:📍 Distance to target: 0.35 m\n",
      "Vehicle 1: ✅ Step: go to (avoidance) -> (6.26294106693981, 1.8606095368851978, 4.9590911865234375) is done\n",
      "Vehigcle 1 switched to mode: NMISSION\n",
      "Vehigcle 1 switched to mode: AVOIDANCE\n",
      "waypoint [20  0  5]\n",
      "[6.26294107 1.86060954 4.95909119]\n",
      "Step 'go to (avoidance) -> (6.26294106693981, 1.8606095368851978, 4.9590911865234375)' created — no connection yet 🧩\n",
      "Vehicle 1: Step 'go to (avoidance) -> (6.26294106693981, 1.8606095368851978, 4.9590911865234375)' is now connected ✅🔗\n",
      "message to go to (6.26294106693981, -1.8606095368851978, -4.9590911865234375) sent\n",
      "Vehicle 1: ▶️ Starting Step: go to (avoidance) -> (6.26294106693981, 1.8606095368851978, 4.9590911865234375)\n",
      "Vehicle 1:📍 Distance to target: 0.23 m\n",
      "Vehicle 1: ✅ Step: go to (avoidance) -> (6.26294106693981, 1.8606095368851978, 4.9590911865234375) is done\n",
      "Vehigcle 1 switched to mode: NMISSION\n",
      "Vehigcle 1 switched to mode: AVOIDANCE\n",
      "waypoint [20  0  5]\n",
      "[6.26294107 1.86060954 4.95909119]\n",
      "Step 'go to (avoidance) -> (6.26294106693981, 1.8606095368851978, 4.9590911865234375)' created — no connection yet 🧩\n",
      "Vehicle 1: Step 'go to (avoidance) -> (6.26294106693981, 1.8606095368851978, 4.9590911865234375)' is now connected ✅🔗\n",
      "message to go to (6.26294106693981, -1.8606095368851978, -4.9590911865234375) sent\n",
      "Vehicle 1: ▶️ Starting Step: go to (avoidance) -> (6.26294106693981, 1.8606095368851978, 4.9590911865234375)\n",
      "Vehicle 1:📍 Distance to target: 0.09 m\n",
      "Vehicle 1: ✅ Step: go to (avoidance) -> (6.26294106693981, 1.8606095368851978, 4.9590911865234375) is done\n",
      "Vehigcle 1 switched to mode: NMISSION\n",
      "Vehigcle 1 switched to mode: AVOIDANCE\n",
      "waypoint [20  0  5]\n",
      "[6.72161566 2.63072003 4.95140553]\n",
      "Step 'go to (avoidance) -> (6.7216156553756, 2.6307200311414833, 4.9514055252075195)' created — no connection yet 🧩\n",
      "Vehicle 1: Step 'go to (avoidance) -> (6.7216156553756, 2.6307200311414833, 4.9514055252075195)' is now connected ✅🔗\n",
      "message to go to (6.7216156553756, -2.6307200311414833, -4.9514055252075195) sent\n",
      "Vehicle 1: ▶️ Starting Step: go to (avoidance) -> (6.7216156553756, 2.6307200311414833, 4.9514055252075195)\n",
      "Vehicle 1:📍 Distance to target: 0.88 m\n",
      "Vehicle 1:📍 Distance to target: 0.68 m\n",
      "Vehicle 1:📍 Distance to target: 0.38 m\n",
      "Vehicle 1: ✅ Step: go to (avoidance) -> (6.7216156553756, 2.6307200311414833, 4.9514055252075195) is done\n",
      "Vehigcle 1 switched to mode: NMISSION\n",
      "Vehigcle 1 switched to mode: AVOIDANCE\n",
      "waypoint [20  0  5]\n",
      "[7.00184    3.0092004  4.94895887]\n",
      "Step 'go to (avoidance) -> (7.0018399980060995, 3.009200401594783, 4.948958873748779)' created — no connection yet 🧩\n",
      "Vehicle 1: Step 'go to (avoidance) -> (7.0018399980060995, 3.009200401594783, 4.948958873748779)' is now connected ✅🔗\n",
      "message to go to (7.0018399980060995, -3.009200401594783, -4.948958873748779) sent\n",
      "Vehicle 1: ▶️ Starting Step: go to (avoidance) -> (7.0018399980060995, 3.009200401594783, 4.948958873748779)\n",
      "Vehicle 1:📍 Distance to target: 0.57 m\n",
      "Vehicle 1:📍 Distance to target: 0.42 m\n",
      "Vehicle 1: ✅ Step: go to (avoidance) -> (7.0018399980060995, 3.009200401594783, 4.948958873748779) is done\n",
      "Vehigcle 1 switched to mode: NMISSION\n",
      "Vehigcle 1 switched to mode: AVOIDANCE\n",
      "waypoint [20  0  5]\n",
      "[7.19452457 3.22535211 4.94765234]\n",
      "Step 'go to (avoidance) -> (7.19452457347145, 3.2253521100151894, 4.947652339935303)' created — no connection yet 🧩\n",
      "Vehicle 1: Step 'go to (avoidance) -> (7.19452457347145, 3.2253521100151894, 4.947652339935303)' is now connected ✅🔗\n",
      "message to go to (7.19452457347145, -3.2253521100151894, -4.947652339935303) sent\n",
      "Vehicle 1: ▶️ Starting Step: go to (avoidance) -> (7.19452457347145, 3.2253521100151894, 4.947652339935303)\n",
      "Vehicle 1:📍 Distance to target: 0.57 m\n",
      "Vehicle 1:📍 Distance to target: 0.44 m\n",
      "Vehicle 1: ✅ Step: go to (avoidance) -> (7.19452457347145, 3.2253521100151894, 4.947652339935303) is done\n",
      "Vehigcle 1 switched to mode: NMISSION\n",
      "Vehigcle 1 switched to mode: AVOIDANCE\n",
      "waypoint [20  0  5]\n",
      "[7.19452457 3.22535211 4.94765234]\n",
      "Step 'go to (avoidance) -> (7.19452457347145, 3.2253521100151894, 4.947652339935303)' created — no connection yet 🧩\n",
      "Vehicle 1: Step 'go to (avoidance) -> (7.19452457347145, 3.2253521100151894, 4.947652339935303)' is now connected ✅🔗\n",
      "message to go to (7.19452457347145, -3.2253521100151894, -4.947652339935303) sent\n",
      "Vehicle 1: ▶️ Starting Step: go to (avoidance) -> (7.19452457347145, 3.2253521100151894, 4.947652339935303)\n",
      "Vehicle 1:📍 Distance to target: 0.31 m\n",
      "Vehicle 1: ✅ Step: go to (avoidance) -> (7.19452457347145, 3.2253521100151894, 4.947652339935303) is done\n",
      "Vehigcle 1 switched to mode: NMISSION\n",
      "Vehigcle 1 switched to mode: AVOIDANCE\n",
      "waypoint [20  0  5]\n",
      "[7.19452457 3.22535211 4.94765234]\n",
      "Step 'go to (avoidance) -> (7.19452457347145, 3.2253521100151894, 4.947652339935303)' created — no connection yet 🧩\n",
      "Vehicle 1: Step 'go to (avoidance) -> (7.19452457347145, 3.2253521100151894, 4.947652339935303)' is now connected ✅🔗\n",
      "message to go to (7.19452457347145, -3.2253521100151894, -4.947652339935303) sent\n",
      "Vehicle 1: ▶️ Starting Step: go to (avoidance) -> (7.19452457347145, 3.2253521100151894, 4.947652339935303)\n",
      "Vehicle 1:📍 Distance to target: 0.20 m\n",
      "Vehicle 1: ✅ Step: go to (avoidance) -> (7.19452457347145, 3.2253521100151894, 4.947652339935303) is done\n",
      "Vehigcle 1 switched to mode: NMISSION\n",
      "Vehigcle 1 switched to mode: AVOIDANCE\n",
      "waypoint [20  0  5]\n",
      "[7.19452457 3.22535211 4.94765234]\n",
      "Step 'go to (avoidance) -> (7.19452457347145, 3.2253521100151894, 4.947652339935303)' created — no connection yet 🧩\n",
      "Vehicle 1: Step 'go to (avoidance) -> (7.19452457347145, 3.2253521100151894, 4.947652339935303)' is now connected ✅🔗\n",
      "message to go to (7.19452457347145, -3.2253521100151894, -4.947652339935303) sent\n",
      "Vehicle 1: ▶️ Starting Step: go to (avoidance) -> (7.19452457347145, 3.2253521100151894, 4.947652339935303)\n",
      "Vehicle 1:📍 Distance to target: 0.11 m\n",
      "Vehicle 1: ✅ Step: go to (avoidance) -> (7.19452457347145, 3.2253521100151894, 4.947652339935303) is done\n",
      "Vehigcle 1 switched to mode: NMISSION\n",
      "Vehigcle 1 switched to mode: AVOIDANCE\n",
      "waypoint [20  0  5]\n",
      "[7.19452457 3.22535211 4.94765234]\n",
      "Step 'go to (avoidance) -> (7.19452457347145, 3.2253521100151894, 4.947652339935303)' created — no connection yet 🧩\n",
      "Vehicle 1: Step 'go to (avoidance) -> (7.19452457347145, 3.2253521100151894, 4.947652339935303)' is now connected ✅🔗\n",
      "message to go to (7.19452457347145, -3.2253521100151894, -4.947652339935303) sent\n",
      "Vehicle 1: ▶️ Starting Step: go to (avoidance) -> (7.19452457347145, 3.2253521100151894, 4.947652339935303)\n",
      "Vehicle 1:📍 Distance to target: 0.02 m\n",
      "Vehicle 1: ✅ Step: go to (avoidance) -> (7.19452457347145, 3.2253521100151894, 4.947652339935303) is done\n",
      "Vehigcle 1 switched to mode: NMISSION\n",
      "Vehigcle 1 switched to mode: AVOIDANCE\n",
      "waypoint [20  0  5]\n",
      "[7.90195524 3.85374545 4.9423871 ]\n",
      "Step 'go to (avoidance) -> (7.901955241228714, 3.8537454513182476, 4.942387104034424)' created — no connection yet 🧩\n",
      "Vehicle 1: Step 'go to (avoidance) -> (7.901955241228714, 3.8537454513182476, 4.942387104034424)' is now connected ✅🔗\n",
      "message to go to (7.901955241228714, -3.8537454513182476, -4.942387104034424) sent\n",
      "Vehicle 1: ▶️ Starting Step: go to (avoidance) -> (7.901955241228714, 3.8537454513182476, 4.942387104034424)\n",
      "Vehicle 1:📍 Distance to target: 0.94 m\n",
      "Vehicle 1:📍 Distance to target: 0.89 m\n",
      "Vehicle 1:📍 Distance to target: 0.77 m\n",
      "Vehicle 1:📍 Distance to target: 0.45 m\n",
      "Vehicle 1: ✅ Step: go to (avoidance) -> (7.901955241228714, 3.8537454513182476, 4.942387104034424) is done\n",
      "Vehigcle 1 switched to mode: NMISSION\n",
      "Vehigcle 1 switched to mode: AVOIDANCE\n",
      "waypoint [20  0  5]\n",
      "[8.24456033 4.04503504 4.93992615]\n",
      "Step 'go to (avoidance) -> (8.244560334588328, 4.045035037836201, 4.9399261474609375)' created — no connection yet 🧩\n",
      "Vehicle 1: Step 'go to (avoidance) -> (8.244560334588328, 4.045035037836201, 4.9399261474609375)' is now connected ✅🔗\n",
      "message to go to (8.244560334588328, -4.045035037836201, -4.9399261474609375) sent\n",
      "Vehicle 1: ▶️ Starting Step: go to (avoidance) -> (8.244560334588328, 4.045035037836201, 4.9399261474609375)\n",
      "Vehicle 1:📍 Distance to target: 0.69 m\n",
      "Vehicle 1:📍 Distance to target: 0.53 m\n",
      "Vehicle 1:📍 Distance to target: 0.38 m\n",
      "Vehicle 1: ✅ Step: go to (avoidance) -> (8.244560334588328, 4.045035037836201, 4.9399261474609375) is done\n",
      "Vehigcle 1 switched to mode: NMISSION\n",
      "Vehigcle 1 switched to mode: AVOIDANCE\n",
      "waypoint [20  0  5]\n",
      "[8.24456033 4.04503504 4.93992615]\n",
      "Step 'go to (avoidance) -> (8.244560334588328, 4.045035037836201, 4.9399261474609375)' created — no connection yet 🧩\n",
      "Vehicle 1: Step 'go to (avoidance) -> (8.244560334588328, 4.045035037836201, 4.9399261474609375)' is now connected ✅🔗\n",
      "message to go to (8.244560334588328, -4.045035037836201, -4.9399261474609375) sent\n",
      "Vehicle 1: ▶️ Starting Step: go to (avoidance) -> (8.244560334588328, 4.045035037836201, 4.9399261474609375)\n",
      "Vehicle 1:📍 Distance to target: 0.15 m\n",
      "Vehicle 1: ✅ Step: go to (avoidance) -> (8.244560334588328, 4.045035037836201, 4.9399261474609375) is done\n",
      "Vehigcle 1 switched to mode: NMISSION\n",
      "Vehigcle 1 switched to mode: AVOIDANCE\n",
      "waypoint [20  0  5]\n",
      "[8.91308076 4.37686692 4.93918848]\n",
      "Step 'go to (avoidance) -> (8.913080756954505, 4.376866917363445, 4.939188480377197)' created — no connection yet 🧩\n",
      "Vehicle 1: Step 'go to (avoidance) -> (8.913080756954505, 4.376866917363445, 4.939188480377197)' is now connected ✅🔗\n",
      "message to go to (8.913080756954505, -4.376866917363445, -4.939188480377197) sent\n",
      "Vehicle 1: ▶️ Starting Step: go to (avoidance) -> (8.913080756954505, 4.376866917363445, 4.939188480377197)\n",
      "Vehicle 1:📍 Distance to target: 0.81 m\n",
      "Vehicle 1:📍 Distance to target: 0.72 m\n",
      "Vehicle 1:📍 Distance to target: 0.59 m\n",
      "Vehicle 1:📍 Distance to target: 0.45 m\n",
      "Vehicle 1: ✅ Step: go to (avoidance) -> (8.913080756954505, 4.376866917363445, 4.939188480377197) is done\n",
      "Vehigcle 1 switched to mode: NMISSION\n",
      "Vehigcle 1 switched to mode: AVOIDANCE\n",
      "waypoint [20  0  5]\n",
      "[8.91308076 4.37686692 4.93918848]\n",
      "Step 'go to (avoidance) -> (8.913080756954505, 4.376866917363445, 4.939188480377197)' created — no connection yet 🧩\n",
      "Vehicle 1: Step 'go to (avoidance) -> (8.913080756954505, 4.376866917363445, 4.939188480377197)' is now connected ✅🔗\n",
      "message to go to (8.913080756954505, -4.376866917363445, -4.939188480377197) sent\n",
      "Vehicle 1: ▶️ Starting Step: go to (avoidance) -> (8.913080756954505, 4.376866917363445, 4.939188480377197)\n",
      "Vehicle 1:📍 Distance to target: 0.19 m\n",
      "Vehicle 1: ✅ Step: go to (avoidance) -> (8.913080756954505, 4.376866917363445, 4.939188480377197) is done\n",
      "Vehigcle 1 switched to mode: NMISSION\n",
      "Vehigcle 1 switched to mode: AVOIDANCE\n",
      "waypoint [20  0  5]\n",
      "[9.58478498 4.55194872 4.93697166]\n",
      "Step 'go to (avoidance) -> (9.584784981445454, 4.5519487212918275, 4.936971664428711)' created — no connection yet 🧩\n",
      "Vehicle 1: Step 'go to (avoidance) -> (9.584784981445454, 4.5519487212918275, 4.936971664428711)' is now connected ✅🔗\n",
      "message to go to (9.584784981445454, -4.5519487212918275, -4.936971664428711) sent\n",
      "Vehicle 1: ▶️ Starting Step: go to (avoidance) -> (9.584784981445454, 4.5519487212918275, 4.936971664428711)\n",
      "Vehicle 1:📍 Distance to target: 0.55 m\n",
      "Vehicle 1:📍 Distance to target: 0.41 m\n",
      "Vehicle 1: ✅ Step: go to (avoidance) -> (9.584784981445454, 4.5519487212918275, 4.936971664428711) is done\n",
      "Vehigcle 1 switched to mode: NMISSION\n",
      "Vehigcle 1 switched to mode: AVOIDANCE\n",
      "waypoint [20  0  5]\n",
      "[9.89104744 4.60690667 4.93643713]\n",
      "Step 'go to (avoidance) -> (9.891047444111315, 4.606906666218264, 4.936437129974365)' created — no connection yet 🧩\n",
      "Vehicle 1: Step 'go to (avoidance) -> (9.891047444111315, 4.606906666218264, 4.936437129974365)' is now connected ✅🔗\n",
      "message to go to (9.891047444111315, -4.606906666218264, -4.936437129974365) sent\n",
      "Vehicle 1: ▶️ Starting Step: go to (avoidance) -> (9.891047444111315, 4.606906666218264, 4.936437129974365)\n",
      "Vehicle 1:📍 Distance to target: 0.58 m\n",
      "Vehicle 1:📍 Distance to target: 0.31 m\n",
      "Vehicle 1: ✅ Step: go to (avoidance) -> (9.891047444111315, 4.606906666218264, 4.936437129974365) is done\n",
      "Vehigcle 1 switched to mode: NMISSION\n",
      "Vehigcle 1 switched to mode: AVOIDANCE\n",
      "waypoint [20  0  5]\n",
      "[10.44564449  4.63540681  4.9351964 ]\n",
      "Step 'go to (avoidance) -> (10.445644494296223, 4.635406805422347, 4.935196399688721)' created — no connection yet 🧩\n",
      "Vehicle 1: Step 'go to (avoidance) -> (10.445644494296223, 4.635406805422347, 4.935196399688721)' is now connected ✅🔗\n",
      "message to go to (10.445644494296223, -4.635406805422347, -4.935196399688721) sent\n",
      "Vehicle 1: ▶️ Starting Step: go to (avoidance) -> (10.445644494296223, 4.635406805422347, 4.935196399688721)\n",
      "Vehicle 1:📍 Distance to target: 0.75 m\n",
      "Vehicle 1:📍 Distance to target: 0.48 m\n",
      "Vehicle 1: ✅ Step: go to (avoidance) -> (10.445644494296223, 4.635406805422347, 4.935196399688721) is done\n",
      "Vehigcle 1 switched to mode: NMISSION\n",
      "Vehigcle 1 switched to mode: AVOIDANCE\n",
      "waypoint [20  0  5]\n",
      "[10.82456338  4.62250186  4.93468237]\n",
      "Step 'go to (avoidance) -> (10.824563384960555, 4.622501863002177, 4.934682369232178)' created — no connection yet 🧩\n",
      "Vehicle 1: Step 'go to (avoidance) -> (10.824563384960555, 4.622501863002177, 4.934682369232178)' is now connected ✅🔗\n",
      "message to go to (10.824563384960555, -4.622501863002177, -4.934682369232178) sent\n",
      "Vehicle 1: ▶️ Starting Step: go to (avoidance) -> (10.824563384960555, 4.622501863002177, 4.934682369232178)\n",
      "Vehicle 1:📍 Distance to target: 0.71 m\n",
      "Vehicle 1:📍 Distance to target: 0.40 m\n",
      "Vehicle 1: ✅ Step: go to (avoidance) -> (10.824563384960555, 4.622501863002177, 4.934682369232178) is done\n",
      "Vehigcle 1 switched to mode: NMISSION\n",
      "Vehigcle 1 switched to mode: AVOIDANCE\n",
      "waypoint [20  0  5]\n",
      "[11.26957042  4.56038376  4.93493605]\n",
      "Step 'go to (avoidance) -> (11.269570419398057, 4.56038375801619, 4.934936046600342)' created — no connection yet 🧩\n",
      "Vehicle 1: Step 'go to (avoidance) -> (11.269570419398057, 4.56038375801619, 4.934936046600342)' is now connected ✅🔗\n",
      "message to go to (11.269570419398057, -4.56038375801619, -4.934936046600342) sent\n",
      "Vehicle 1: ▶️ Starting Step: go to (avoidance) -> (11.269570419398057, 4.56038375801619, 4.934936046600342)\n",
      "Vehicle 1:📍 Distance to target: 0.70 m\n",
      "Vehicle 1:📍 Distance to target: 0.40 m\n",
      "Vehicle 1: ✅ Step: go to (avoidance) -> (11.269570419398057, 4.56038375801619, 4.934936046600342) is done\n",
      "Vehigcle 1 switched to mode: NMISSION\n",
      "Vehigcle 1 switched to mode: AVOIDANCE\n",
      "waypoint [20  0  5]\n",
      "[11.70434414  4.46367279  4.93542576]\n",
      "Step 'go to (avoidance) -> (11.704344138624174, 4.463672785720326, 4.935425758361816)' created — no connection yet 🧩\n",
      "Vehicle 1: Step 'go to (avoidance) -> (11.704344138624174, 4.463672785720326, 4.935425758361816)' is now connected ✅🔗\n",
      "message to go to (11.704344138624174, -4.463672785720326, -4.935425758361816) sent\n",
      "Vehicle 1: ▶️ Starting Step: go to (avoidance) -> (11.704344138624174, 4.463672785720326, 4.935425758361816)\n",
      "Vehicle 1:📍 Distance to target: 0.56 m\n",
      "Vehicle 1:📍 Distance to target: 0.41 m\n",
      "Vehicle 1: ✅ Step: go to (avoidance) -> (11.704344138624174, 4.463672785720326, 4.935425758361816) is done\n",
      "Vehigcle 1 switched to mode: NMISSION\n",
      "Vehigcle 1 switched to mode: AVOIDANCE\n",
      "waypoint [20  0  5]\n",
      "[11.98420657  4.37911625  4.93651247]\n",
      "Step 'go to (avoidance) -> (11.98420657007495, 4.379116251565836, 4.936512470245361)' created — no connection yet 🧩\n",
      "Vehicle 1: Step 'go to (avoidance) -> (11.98420657007495, 4.379116251565836, 4.936512470245361)' is now connected ✅🔗\n",
      "message to go to (11.98420657007495, -4.379116251565836, -4.936512470245361) sent\n",
      "Vehicle 1: ▶️ Starting Step: go to (avoidance) -> (11.98420657007495, 4.379116251565836, 4.936512470245361)\n",
      "Vehicle 1:📍 Distance to target: 0.56 m\n",
      "Vehicle 1:📍 Distance to target: 0.42 m\n",
      "Vehicle 1: ✅ Step: go to (avoidance) -> (11.98420657007495, 4.379116251565836, 4.936512470245361) is done\n",
      "Vehigcle 1 switched to mode: NMISSION\n",
      "Vehigcle 1 switched to mode: AVOIDANCE\n",
      "waypoint [20  0  5]\n",
      "[11.98420657  4.37911625  4.93651247]\n",
      "Step 'go to (avoidance) -> (11.98420657007495, 4.379116251565836, 4.936512470245361)' created — no connection yet 🧩\n",
      "Vehicle 1: Step 'go to (avoidance) -> (11.98420657007495, 4.379116251565836, 4.936512470245361)' is now connected ✅🔗\n",
      "message to go to (11.98420657007495, -4.379116251565836, -4.936512470245361) sent\n",
      "Vehicle 1: ▶️ Starting Step: go to (avoidance) -> (11.98420657007495, 4.379116251565836, 4.936512470245361)\n",
      "Vehicle 1:📍 Distance to target: 0.29 m\n",
      "Vehicle 1: ✅ Step: go to (avoidance) -> (11.98420657007495, 4.379116251565836, 4.936512470245361) is done\n",
      "Vehigcle 1 switched to mode: NMISSION\n",
      "Vehigcle 1 switched to mode: AVOIDANCE\n",
      "waypoint [20  0  5]\n",
      "[11.98420657  4.37911625  4.93651247]\n",
      "Step 'go to (avoidance) -> (11.98420657007495, 4.379116251565836, 4.936512470245361)' created — no connection yet 🧩\n",
      "Vehicle 1: Step 'go to (avoidance) -> (11.98420657007495, 4.379116251565836, 4.936512470245361)' is now connected ✅🔗\n",
      "message to go to (11.98420657007495, -4.379116251565836, -4.936512470245361) sent\n",
      "Vehicle 1: ▶️ Starting Step: go to (avoidance) -> (11.98420657007495, 4.379116251565836, 4.936512470245361)\n",
      "Vehicle 1:📍 Distance to target: 0.09 m\n",
      "Vehicle 1: ✅ Step: go to (avoidance) -> (11.98420657007495, 4.379116251565836, 4.936512470245361) is done\n",
      "Vehigcle 1 switched to mode: NMISSION\n",
      "Vehigcle 1 switched to mode: AVOIDANCE\n",
      "waypoint [20  0  5]\n",
      "[12.73961983  4.05912602  4.93656349]\n",
      "Step 'go to (avoidance) -> (12.73961982994247, 4.059126022301371, 4.936563491821289)' created — no connection yet 🧩\n",
      "Vehicle 1: Step 'go to (avoidance) -> (12.73961982994247, 4.059126022301371, 4.936563491821289)' is now connected ✅🔗\n",
      "message to go to (12.73961982994247, -4.059126022301371, -4.936563491821289) sent\n",
      "Vehicle 1: ▶️ Starting Step: go to (avoidance) -> (12.73961982994247, 4.059126022301371, 4.936563491821289)\n",
      "Vehicle 1:📍 Distance to target: 0.85 m\n",
      "Vehicle 1:📍 Distance to target: 0.77 m\n",
      "Vehicle 1:📍 Distance to target: 0.48 m\n",
      "Vehicle 1: ✅ Step: go to (avoidance) -> (12.73961982994247, 4.059126022301371, 4.936563491821289) is done\n",
      "Vehigcle 1 switched to mode: NMISSION\n",
      "Vehigcle 1 switched to mode: AVOIDANCE\n",
      "waypoint [20  0  5]\n",
      "[13.05380076  3.87101093  4.93294525]\n",
      "Step 'go to (avoidance) -> (13.053800758961717, 3.8710109295182225, 4.932945251464844)' created — no connection yet 🧩\n",
      "Vehicle 1: Step 'go to (avoidance) -> (13.053800758961717, 3.8710109295182225, 4.932945251464844)' is now connected ✅🔗\n",
      "message to go to (13.053800758961717, -3.8710109295182225, -4.932945251464844) sent\n",
      "Vehicle 1: ▶️ Starting Step: go to (avoidance) -> (13.053800758961717, 3.8710109295182225, 4.932945251464844)\n",
      "Vehicle 1:📍 Distance to target: 0.70 m\n",
      "Vehicle 1:📍 Distance to target: 0.54 m\n",
      "Vehicle 1:📍 Distance to target: 0.25 m\n",
      "Vehicle 1: ✅ Step: go to (avoidance) -> (13.053800758961717, 3.8710109295182225, 4.932945251464844) is done\n",
      "Vehigcle 1 switched to mode: NMISSION\n",
      "Vehigcle 1 switched to mode: AVOIDANCE\n",
      "waypoint [20  0  5]\n",
      "[20  0  5]\n",
      "Step 'go to (avoidance) -> (20, 0, 5)' created — no connection yet 🧩\n",
      "Vehicle 1: Step 'go to (avoidance) -> (20, 0, 5)' is now connected ✅🔗\n",
      "message to go to (20, 0, -5) sent\n",
      "Vehicle 1: ▶️ Starting Step: go to (avoidance) -> (20, 0, 5)\n",
      "Vehicle 1:📍 Distance to target: 7.78 m\n",
      "Vehicle 1:📍 Distance to target: 7.33 m\n",
      "Vehicle 1:📍 Distance to target: 6.84 m\n",
      "Vehicle 1:📍 Distance to target: 6.08 m\n",
      "Vehicle 1:📍 Distance to target: 5.58 m\n",
      "Vehicle 1:📍 Distance to target: 5.33 m\n",
      "Vehicle 1:📍 Distance to target: 4.84 m\n",
      "Vehicle 1:📍 Distance to target: 4.59 m\n",
      "Vehicle 1:📍 Distance to target: 4.09 m\n",
      "Vehicle 1:📍 Distance to target: 3.84 m\n",
      "Vehicle 1:📍 Distance to target: 3.59 m\n",
      "Vehicle 1:📍 Distance to target: 3.33 m\n",
      "Vehicle 1:📍 Distance to target: 2.83 m\n",
      "Vehicle 1:📍 Distance to target: 2.08 m\n",
      "Vehicle 1:📍 Distance to target: 1.57 m\n",
      "Vehicle 1:📍 Distance to target: 1.07 m\n",
      "Vehicle 1:📍 Distance to target: 0.58 m\n",
      "Vehicle 1:📍 Distance to target: 0.36 m\n",
      "Vehicle 1: ✅ Step: go to (avoidance) -> (20, 0, 5) is done\n",
      "Vehigcle 1 switched to mode: NMISSION\n",
      "Vehicle 1: Step 'go to  -> (20, 0, 5)' is now connected ✅🔗\n",
      "message to go to (20, 0, -5) sent\n",
      "Vehicle 1: ▶️ Starting Step: go to  -> (20, 0, 5)\n",
      "Vehicle 1: ✅ Step: go to  -> (20, 0, 5) is done\n",
      "Vehicle 1: ✅ Action: fly is done\n",
      "Vehicle 1: Action 'Land' is now connected ✅🔗\n",
      "Vehicle 1: ▶️ Starting Action: Land\n",
      "Vehicle 1: Step 'land' is now connected ✅🔗\n",
      "Vehicle 1: ▶️ Starting Step: land\n",
      "Vehicle 1: ✅ Step: land is done\n",
      "Vehicle 1: ✅ Action: Land is done\n",
      "Vehicle 1: ✅ Plan: basic is done\n"
     ]
    }
   ],
   "source": [
    "\n",
    "mission_incomplete = set(range(n_uavs))\n",
    "global_poss = {}\n",
    "while mission_incomplete:\n",
    "    ## Get global positions\n",
    "    update_global_positions(mission_incomplete,global_poss)\n",
    "    global_poss[1] = spoofing_pos\n",
    "    to_remove = set()\n",
    "    for i in mission_incomplete:\n",
    "        uav = uavs[i]\n",
    "        if i in global_poss.keys():\n",
    "            j,min_dist=get_nearest_neighbor(target_id=i,positions_dict=global_poss)\n",
    "            if min_dist<avoidance_radius and uav.get_mode()==VehicleMode.MISSION:  \n",
    "                uav.set_mode(VehicleMode.AVOIDANCE)\n",
    "                wp=uav.plan.current.current.wp\n",
    "                next_wp = get_avoidance_wp(pos=global2local(global_poss[i],uav.home,pairwise=True),\n",
    "                                           obj_pos=global2local(global_poss[j],uav.home,pairwise=True),\n",
    "                                           goal_pos=wp)\n",
    "                next_step=make_go_to(wp=next_wp,wp_margin=0.5,verbose=2,cause_text='(avoidance)')\n",
    "                uav.plan.current.add_now(next_step)\n",
    "            if uav.get_mode()==VehicleMode.AVOIDANCE and uav.current_step().state==State.DONE:\n",
    "                uav.set_mode(VehicleMode.MISSION)\n",
    "        uav.act_plan()\n",
    "        if uav.plan.state == State.DONE:\n",
    "            to_remove.add(i)\n",
    "            \n",
    "    mission_incomplete -= to_remove  # batch-remove outside the loop"
   ]
  },
  {
   "cell_type": "code",
   "execution_count": 16,
   "metadata": {},
   "outputs": [
    {
     "name": "stdout",
     "output_type": "stream",
     "text": [
      "✅ <Plan 'basic'>\n",
      "  ✅ <Action 'Pre-Arm Check'>\n",
      "    ✅ <Step 'Check disarmed'>\n",
      "    ✅ <Step 'Check EKF'>\n",
      "    ✅ <Step 'Check GPS'>\n",
      "    ✅ <Step 'Check system'>\n",
      "  ✅ <Action 'Set Navigation Speed'>\n",
      "    ✅ <Step 'Set speed to 1.00 m/s'>\n",
      "  ✅ <Action 'Set Mode: GUIDED'>\n",
      "    ✅ <Step 'Switch to GUIDED'>\n",
      "  ✅ <Action 'Arm'>\n",
      "    ✅ <Step 'arm'>\n",
      "  ✅ <Action 'takeoff'>\n",
      "    ✅ <Step 'takeoff'>\n",
      "  ✅ <Action 'fly'>\n",
      "    ✅ <Step 'go to  -> (0, 0, 5)'>\n",
      "    ✅ <Step 'go to (avoidance) -> (5.845461321452364, 1.0170413200258062, 4.972641468048096)'>\n",
      "    ✅ <Step 'go to (avoidance) -> (6.41807164175344, 1.6174667970437286, 4.959656715393066)'>\n",
      "    ✅ <Step 'go to (avoidance) -> (6.26294106693981, 1.8606095368851978, 4.9590911865234375)'>\n",
      "    ✅ <Step 'go to (avoidance) -> (6.26294106693981, 1.8606095368851978, 4.9590911865234375)'>\n",
      "    ✅ <Step 'go to (avoidance) -> (6.26294106693981, 1.8606095368851978, 4.9590911865234375)'>\n",
      "    ✅ <Step 'go to (avoidance) -> (6.26294106693981, 1.8606095368851978, 4.9590911865234375)'>\n",
      "    ✅ <Step 'go to (avoidance) -> (6.7216156553756, 2.6307200311414833, 4.9514055252075195)'>\n",
      "    ✅ <Step 'go to (avoidance) -> (7.0018399980060995, 3.009200401594783, 4.948958873748779)'>\n",
      "    ✅ <Step 'go to (avoidance) -> (7.19452457347145, 3.2253521100151894, 4.947652339935303)'>\n",
      "    ✅ <Step 'go to (avoidance) -> (7.19452457347145, 3.2253521100151894, 4.947652339935303)'>\n",
      "    ✅ <Step 'go to (avoidance) -> (7.19452457347145, 3.2253521100151894, 4.947652339935303)'>\n",
      "    ✅ <Step 'go to (avoidance) -> (7.19452457347145, 3.2253521100151894, 4.947652339935303)'>\n",
      "    ✅ <Step 'go to (avoidance) -> (7.19452457347145, 3.2253521100151894, 4.947652339935303)'>\n",
      "    ✅ <Step 'go to (avoidance) -> (7.901955241228714, 3.8537454513182476, 4.942387104034424)'>\n",
      "    ✅ <Step 'go to (avoidance) -> (8.244560334588328, 4.045035037836201, 4.9399261474609375)'>\n",
      "    ✅ <Step 'go to (avoidance) -> (8.244560334588328, 4.045035037836201, 4.9399261474609375)'>\n",
      "    ✅ <Step 'go to (avoidance) -> (8.913080756954505, 4.376866917363445, 4.939188480377197)'>\n",
      "    ✅ <Step 'go to (avoidance) -> (8.913080756954505, 4.376866917363445, 4.939188480377197)'>\n",
      "    ✅ <Step 'go to (avoidance) -> (9.584784981445454, 4.5519487212918275, 4.936971664428711)'>\n",
      "    ✅ <Step 'go to (avoidance) -> (9.891047444111315, 4.606906666218264, 4.936437129974365)'>\n",
      "    ✅ <Step 'go to (avoidance) -> (10.445644494296223, 4.635406805422347, 4.935196399688721)'>\n",
      "    ✅ <Step 'go to (avoidance) -> (10.824563384960555, 4.622501863002177, 4.934682369232178)'>\n",
      "    ✅ <Step 'go to (avoidance) -> (11.269570419398057, 4.56038375801619, 4.934936046600342)'>\n",
      "    ✅ <Step 'go to (avoidance) -> (11.704344138624174, 4.463672785720326, 4.935425758361816)'>\n",
      "    ✅ <Step 'go to (avoidance) -> (11.98420657007495, 4.379116251565836, 4.936512470245361)'>\n",
      "    ✅ <Step 'go to (avoidance) -> (11.98420657007495, 4.379116251565836, 4.936512470245361)'>\n",
      "    ✅ <Step 'go to (avoidance) -> (11.98420657007495, 4.379116251565836, 4.936512470245361)'>\n",
      "    ✅ <Step 'go to (avoidance) -> (12.73961982994247, 4.059126022301371, 4.936563491821289)'>\n",
      "    ✅ <Step 'go to (avoidance) -> (13.053800758961717, 3.8710109295182225, 4.932945251464844)'>\n",
      "    ✅ <Step 'go to (avoidance) -> (20, 0, 5)'>\n",
      "    ✅ <Step 'go to  -> (20, 0, 5)'>\n",
      "  ✅ <Action 'Land'>\n",
      "    ✅ <Step 'land'>\n"
     ]
    }
   ],
   "source": [
    "print(uavs[0].plan)"
   ]
  },
  {
   "cell_type": "code",
   "execution_count": 17,
   "metadata": {},
   "outputs": [
    {
     "name": "stdout",
     "output_type": "stream",
     "text": [
      "✅ <Plan 'hover'>\n",
      "  ✅ <Action 'Pre-Arm Check'>\n",
      "    ✅ <Step 'Check disarmed'>\n",
      "    ✅ <Step 'Check EKF'>\n",
      "    ✅ <Step 'Check GPS'>\n",
      "    ✅ <Step 'Check system'>\n",
      "  ✅ <Action 'Set Mode: GUIDED'>\n",
      "    ✅ <Step 'Switch to GUIDED'>\n",
      "  ✅ <Action 'Arm'>\n",
      "    ✅ <Step 'arm'>\n",
      "  ✅ <Action 'takeoff'>\n",
      "    ✅ <Step 'takeoff'>\n",
      "  ✅ <Action 'fly'>\n",
      "    ✅ <Step 'go to  -> (0, 0, 5)'>\n"
     ]
    }
   ],
   "source": [
    "print(uavs[1].plan)"
   ]
  },
  {
   "cell_type": "markdown",
   "metadata": {},
   "source": [
    "## Kill all related process"
   ]
  },
  {
   "cell_type": "code",
   "execution_count": 18,
   "metadata": {},
   "outputs": [],
   "source": [
    "# for process in [\"QGroundControl\", \"sim_vehicle.py\", \"arducopter\", \"gazebo\", \"mavproxy\"]:\n",
    "#     os.system(f\"pkill -9 -f {process}\")"
   ]
  },
  {
   "cell_type": "code",
   "execution_count": null,
   "metadata": {},
   "outputs": [],
   "source": []
  }
 ],
 "metadata": {
  "kernelspec": {
   "display_name": "Python 3",
   "language": "python",
   "name": "python3"
  },
  "language_info": {
   "codemirror_mode": {
    "name": "ipython",
    "version": 3
   },
   "file_extension": ".py",
   "mimetype": "text/x-python",
   "name": "python",
   "nbconvert_exporter": "python",
   "pygments_lexer": "ipython3",
   "version": "3.9.21"
  }
 },
 "nbformat": 4,
 "nbformat_minor": 2
}
